{
 "cells": [
  {
   "cell_type": "code",
   "execution_count": 10,
   "id": "df1d9f8029377050",
   "metadata": {
    "ExecuteTime": {
     "end_time": "2024-01-16T15:16:00.637660636Z",
     "start_time": "2024-01-16T15:16:00.635665875Z"
    },
    "collapsed": false,
    "jupyter": {
     "outputs_hidden": false
    }
   },
   "outputs": [
    {
     "name": "stderr",
     "output_type": "stream",
     "text": [
      "[nltk_data] Downloading package punkt to /home/Minwoo/nltk_data...\n",
      "[nltk_data]   Unzipping tokenizers/punkt.zip.\n"
     ]
    },
    {
     "data": {
      "text/plain": [
       "True"
      ]
     },
     "execution_count": 10,
     "metadata": {},
     "output_type": "execute_result"
    }
   ],
   "source": [
    "# In[]\n",
    "import pandas as pd\n",
    "import regex as re\n",
    "from transformers import AutoTokenizer, AutoModelForSequenceClassification\n",
    "import torch\n",
    "import nltk\n",
    "from nltk.tokenize import sent_tokenize\n",
    "from tqdm import tqdm\n",
    "nltk.download('punkt')"
   ]
  },
  {
   "cell_type": "code",
   "execution_count": 11,
   "id": "6d0569ed-ad86-436c-9424-4dd7282c4a20",
   "metadata": {},
   "outputs": [],
   "source": [
    "def prep_text(text):\n",
    "    \"\"\"\n",
    "    function for preprocessing text\n",
    "    \"\"\"\n",
    "\n",
    "    # remove trailing characters (\\s\\n) and convert to lowercase\n",
    "    clean_sents = [] # append clean con sentences\n",
    "    sent_tokens = sent_tokenize(str(text))\n",
    "    for sent_token in sent_tokens:\n",
    "        word_tokens = [str(word_token).strip().lower() for word_token in sent_token.split()]\n",
    "        #word_tokens = [word_token for word_token in word_tokens if word_token not in punctuations]\n",
    "        clean_sents.append(' '.join((word_tokens)))\n",
    "    joined = ' '.join(clean_sents).strip(' ')\n",
    "    joined = re.sub(r'`', \"\", joined)\n",
    "    joined = re.sub(r'\"', \"\", joined)\n",
    "    return joined"
   ]
  },
  {
   "cell_type": "code",
   "execution_count": null,
   "id": "1139e705-d366-47b5-9a0a-7e00e746ca2d",
   "metadata": {},
   "outputs": [],
   "source": [
    "class SDG:\n",
    "    __init__(self):\n",
    "    "
   ]
  },
  {
   "cell_type": "code",
   "execution_count": 3,
   "id": "32a74573889df90b",
   "metadata": {
    "collapsed": false,
    "jupyter": {
     "outputs_hidden": false
    }
   },
   "outputs": [],
   "source": [
    "tokenizer = AutoTokenizer.from_pretrained(\"sadickam/sdg-classification-bert\")\n",
    "model = AutoModelForSequenceClassification.from_pretrained(\"sadickam/sdg-classification-bert\")\n",
    "\n",
    "# In[]\n",
    "# Load and split dataset\n",
    "df = pd.read_csv('./osdg-dataset.csv', delimiter='\\t')\n",
    "df.drop(axis=1, labels=['doi', 'text_id', 'labels_negative', 'labels_positive', 'agreement'],inplace=True)\n",
    "train_df, test_df = train_test_split(df, test_size=0.2, random_state=111)"
   ]
  },
  {
   "cell_type": "code",
   "execution_count": 9,
   "id": "90e4bc91-e281-430c-afe2-f4b8f43ed4b1",
   "metadata": {},
   "outputs": [
    {
     "name": "stdout",
     "output_type": "stream",
     "text": [
      "High-voltage power lines are a major source of mortality among birds (particularly predatory birds), killing more vultures than hunting or trapping activities. Night lighting has been shown to have significant impacts on populations of night-flying insects. Furthermore, roads are a major source of mortality for various species, including hedgehogs, snakes and birds, particularly during migration seasons. In 2008, the preparation of national forest inventory was launched; no inventory of other plants has ever been prepared in Kyrgyzstan.\n",
      "15\n",
      "For example, key transport infrastructures influencing external connectivity, and thus exports, such as rail infrastructure, are under the jurisdiction of the federal Ministry of Transport, while other transport infrastructures that contribute to the same objective, such as regional roads, are under the responsibility of the Krai. Logistics infrastructure, also affecting the conditions for exports and cargo transit, is governed at the local level and financed partly by federal or private funds. Improving the conditions for exporting firms in the Agglomeration thus depends on aligning all levels of government and involved actors and stakeholders around this common goal, and on co-ordinating policies in an integrated framework that allows transport to be governed at the relevant territorial scale.\n",
      "11\n",
      "Togolese authorities seized about 268 kg of cocaine in 2014. Since December 2013, when direct flights to Brazil from the international airport at Lome first began, the volume of cocaine seized at the airport has increased, reaching 221 kg in 2014. In 2014, 32 cocaine consignments were seized at the international airport at Lome from flights originating in Brazil; of those consignments, 25 per cent had been destined for Nigeria, 22 per cent for Benin, 16 per cent for Togo and 13 per cent for Guinea-Bissau.\n",
      "3\n",
      "A few households earned income from baking or hair dressing, while only 1% of the 10% earned income through woodwork using electricity. The community benefits cited were the ability to start small businesses (65%), improved security (42%) and better use of schools. The ambition is to achieve a national grid-based supply, and the plan is to complete the full-scale national electrification by 2014.\n",
      "7\n",
      "The extreme poverty threshold for the target, measured as income per person below the international poverty line, is too low for the countries of the region, so it is considered more appropriate to use the extreme poverty line based on the cost of a basic food basket.7Target 1.2 is to reduce at least by half the proportion of men, women and children of all ages living in poverty in all its dimensions by 2030. Although this target includes a multidimensional definition of poverty, which goes beyond shortfalls in income, it clearly defines a quantitative outcome and a time horizon that can be used to assess the prospects for reducing total monetary poverty (and not just extreme poverty). Since the target does not specify from which point poverty should be halved, the analysis takes 2015 as its base year, which is when the Goals were adopted worldwide. For reference purposes, of the 15 countries analysed in this section, the incidence of extreme poverty was below 3% in 8 of them in 2016 (according to figures from the World Bank, see \"Poverty\" lonlinel https://data.worldbank.org/topic/povertyl.\n",
      "1\n"
     ]
    }
   ],
   "source": [
    "for _, row in test_df.head().iterrows():\n",
    "    text = row['text']  # Replace 'text' with your DataFrame's column name for text\n",
    "    true_label = row['sdg']  # Replace 'sgd' with your DataFrame's column name for labels\n",
    "    print(text)\n",
    "    print(true_label)"
   ]
  },
  {
   "cell_type": "code",
   "execution_count": null,
   "id": "cfcc130a86f6aafa",
   "metadata": {
    "collapsed": false,
    "jupyter": {
     "outputs_hidden": false
    }
   },
   "outputs": [],
   "source": [
    "\n",
    "# In[]\n",
    "# Prepare test dataset and DataLoader\n",
    "test_dataset = TextDataset(test_df['text'].tolist(), test_df['sdg'].tolist(), tokenizer)\n",
    "test_loader = DataLoader(test_dataset, batch_size=16)"
   ]
  },
  {
   "cell_type": "code",
   "execution_count": null,
   "id": "54ff700517b307a2",
   "metadata": {
    "collapsed": false,
    "jupyter": {
     "outputs_hidden": false
    }
   },
   "outputs": [],
   "source": [
    "\n",
    "# In[]\n",
    "# Evaluate the model_configsgd\n",
    "model.eval()  # Set the model to evaluation mode\n",
    "all_predictions, true_labels = [], []\n",
    "\n",
    "for _, row in tqdm(test_df.iterrows()):\n",
    "    text = row['text']  # Replace 'text' with your DataFrame's column name for text\n",
    "    true_label = row['sdg']  # Replace 'sgd' with your DataFrame's column name for labels\n",
    "\n",
    "    with torch.no_grad():  # Note the parentheses here\n",
    "        inputs = tokenizer(text, padding=True, truncation=True, max_length=512, return_tensors=\"pt\")\n",
    "        outputs = model(**inputs)\n",
    "        softmax_outputs = torch.nn.functional.softmax(outputs.logits, dim=1)  # Use a different variable name\n",
    "        predicted_class = torch.argmax(softmax_outputs).item()\n",
    "        all_predictions.append(predicted_class)\n",
    "        true_labels.append(true_label)\n",
    "\n",
    "accuracy = accuracy_score(true_labels, all_predictions)  # Use the correct variable name here\n",
    "print(f\"Test Accuracy: {accuracy}\")\n",
    "\n",
    "\n"
   ]
  }
 ],
 "metadata": {
  "kernelspec": {
   "display_name": "Python 3 (ipykernel)",
   "language": "python",
   "name": "python3"
  },
  "language_info": {
   "codemirror_mode": {
    "name": "ipython",
    "version": 3
   },
   "file_extension": ".py",
   "mimetype": "text/x-python",
   "name": "python",
   "nbconvert_exporter": "python",
   "pygments_lexer": "ipython3",
   "version": "3.8.18"
  }
 },
 "nbformat": 4,
 "nbformat_minor": 5
}
