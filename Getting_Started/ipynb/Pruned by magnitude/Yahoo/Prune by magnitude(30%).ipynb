{
 "cells": [
  {
   "cell_type": "code",
   "execution_count": 1,
   "id": "1e774c0d-6a12-4e09-83b7-52c6be4f5eea",
   "metadata": {},
   "outputs": [],
   "source": [
    "import os\n",
    "import sys\n",
    "sys.path.append(\"../../../../\")\n",
    "os.environ[\"TOKENIZERS_PARALLELISM\"] = \"false\""
   ]
  },
  {
   "cell_type": "code",
   "execution_count": 2,
   "id": "12cdfbbb-c013-4cdd-b770-b640faed45bb",
   "metadata": {},
   "outputs": [],
   "source": [
    "import copy\n",
    "import torch\n",
    "from datetime import datetime\n",
    "from utils.helper import ModelConfig, color_print\n",
    "from utils.dataset_utils.load_dataset import (\n",
    "    load_data,\n",
    ")\n",
    "from utils.model_utils.save_module import save_module\n",
    "from utils.model_utils.load_model import load_model\n",
    "from utils.model_utils.evaluate import evaluate_model, get_sparsity, similar\n",
    "from utils.dataset_utils.sampling import SamplingDataset\n",
    "from utils.prune_utils.prune import (\n",
    "    prune_magnitude\n",
    ")"
   ]
  },
  {
   "cell_type": "code",
   "execution_count": 3,
   "id": "3bbed077-183d-4b34-8d3d-a6dcc1e13267",
   "metadata": {},
   "outputs": [],
   "source": [
    "name= \"YahooAnswersTopics\"\n",
    "device = torch.device(\"cuda:1\")\n",
    "checkpoint = None\n",
    "batch_size=16\n",
    "num_workers=4\n",
    "num_samples=4\n",
    "magnitude_ratio=0.3\n",
    "seed=44\n",
    "include_layers=[\"attention\", \"intermediate\", \"output\"]\n",
    "exclude_layers=None"
   ]
  },
  {
   "cell_type": "code",
   "execution_count": null,
   "id": "9f784b30-09b2-4e69-8160-5a78a8064c37",
   "metadata": {},
   "outputs": [],
   "source": [
    "script_start_time = datetime.now()\n",
    "print(f\"Script started at: {script_start_time.strftime('%Y-%m-%d %H:%M:%S')}\")"
   ]
  },
  {
   "cell_type": "code",
   "execution_count": 4,
   "id": "29af739a-e23a-4715-9ff8-473263658ff6",
   "metadata": {},
   "outputs": [
    {
     "name": "stdout",
     "output_type": "stream",
     "text": [
      "Loading the model.\n",
      "{'model_name': 'textattack/bert-base-uncased-imdb', 'task_type': 'classification', 'architectures': 'bert', 'dataset_name': 'IMDB', 'num_labels': 2, 'cache_dir': 'Models'}\n",
      "The model textattack/bert-base-uncased-imdb is loaded.\n",
      "{'dataset_name': 'IMDB', 'path': 'imdb', 'config_name': 'plain_text', 'text_column': 'text', 'label_column': 'label', 'cache_dir': 'Datasets/IMDB', 'task_type': 'classification'}\n",
      "Loading cached dataset IMDB.\n",
      "The dataset IMDB is loaded\n"
     ]
    }
   ],
   "source": [
    "model_config = ModelConfig(name, device)\n",
    "num_labels = model_config.config[\"num_labels\"]\n",
    "model, tokenizer, checkpoint = load_model(model_config)"
   ]
  },
  {
   "cell_type": "code",
   "execution_count": null,
   "id": "788d0f37-7fb7-4603-bac7-34ba01dec4dd",
   "metadata": {},
   "outputs": [],
   "source": [
    "train_dataloader, valid_dataloader, test_dataloader = load_data(\n",
    "    name, batch_size=batch_size, num_workers=num_workers, seed=seed\n",
    ")"
   ]
  },
  {
   "cell_type": "code",
   "execution_count": null,
   "id": "ce310921-5107-4950-a7fe-0d90d4f6546b",
   "metadata": {},
   "outputs": [],
   "source": [
    "all_samples = SamplingDataset(\n",
    "    train_dataloader, 200, num_samples, num_labels, False, 4, device=device, resample=False, seed=seed\n",
    ")"
   ]
  },
  {
   "cell_type": "code",
   "execution_count": null,
   "id": "470d042e-68e8-4b91-916e-4b614e8b2e30",
   "metadata": {},
   "outputs": [],
   "source": [
    "# print(\"Evaluate the original model\")\n",
    "# result = evaluate_model(model, model_config, test_dataloader)"
   ]
  },
  {
   "cell_type": "code",
   "execution_count": null,
   "id": "13d9e7a0-de42-427f-8d26-02d1740371fa",
   "metadata": {},
   "outputs": [],
   "source": [
    "# Evaluate the original model\n",
    "# Evaluating: 100%|█████████████████████████████████████████████████████████████████████| 782/782 [05:36<00:00,  2.32it/s]\n",
    "# Loss: 0.3423\n",
    "# Precision: 0.9306, Recall: 0.9303, F1-Score: 0.9303\n",
    "#               precision    recall  f1-score   support\n",
    "\n",
    "#            0       0.92      0.94      0.93     12500\n",
    "#            1       0.94      0.92      0.93     12500\n",
    "\n",
    "#     accuracy                           0.93     25000\n",
    "#    macro avg       0.93      0.93      0.93     25000\n",
    "# weighted avg       0.93      0.93      0.93     25000"
   ]
  },
  {
   "cell_type": "code",
   "execution_count": 6,
   "id": "4bc22bf0-2e59-453b-bb1f-46fa5c476fb5",
   "metadata": {},
   "outputs": [],
   "source": [
    "module = copy.deepcopy(model)\n",
    "prune_magnitude(module, sparsity_ratio=magnitude_ratio, include_layers=include_layers, exclude_layers=exclude_layers)\n",
    "print(\"Evaluate the pruned model\")\n",
    "result = evaluate_model(model, model_config, test_dataloader)\n",
    "# save_module(module, \"Modules/\", f\"magnitude_{name}_{magnitude_ratio}p.pt\")"
   ]
  },
  {
   "cell_type": "code",
   "execution_count": null,
   "id": "79cf64da-3b78-47db-bfae-62278d6b6c47",
   "metadata": {},
   "outputs": [],
   "source": [
    "for concern in range(num_labels):\n",
    "    print(f\"--{concern}--\")\n",
    "    positive_samples = SamplingDataset(\n",
    "        train_dataloader, concern, num_samples, num_labels, True, 4, device=device, resample=False, seed=seed\n",
    "    )\n",
    "    negative_samples = SamplingDataset(\n",
    "        train_dataloader, concern, num_samples, num_labels, False, 4, device=device, resample=False, seed=seed\n",
    "    )\n",
    "    similar(model, module, valid_dataloader, concern, num_samples, num_labels, device=device, seed=seed)"
   ]
  },
  {
   "cell_type": "code",
   "execution_count": 8,
   "id": "253d10dd-0664-4a03-9e5a-0b477469a16e",
   "metadata": {},
   "outputs": [
    {
     "data": {
      "text/plain": [
       "(0.4960572355502114,\n",
       " {'bert.encoder.layer.0.attention.self.query.weight': 0.5,\n",
       "  'bert.encoder.layer.0.attention.self.query.bias': 0.0,\n",
       "  'bert.encoder.layer.0.attention.self.key.weight': 0.5,\n",
       "  'bert.encoder.layer.0.attention.self.key.bias': 0.0,\n",
       "  'bert.encoder.layer.0.attention.self.value.weight': 0.5,\n",
       "  'bert.encoder.layer.0.attention.self.value.bias': 0.0,\n",
       "  'bert.encoder.layer.0.attention.output.dense.weight': 0.5,\n",
       "  'bert.encoder.layer.0.attention.output.dense.bias': 0.0,\n",
       "  'bert.encoder.layer.0.intermediate.dense.weight': 0.5,\n",
       "  'bert.encoder.layer.0.intermediate.dense.bias': 0.0,\n",
       "  'bert.encoder.layer.0.output.dense.weight': 0.5,\n",
       "  'bert.encoder.layer.0.output.dense.bias': 0.0,\n",
       "  'bert.encoder.layer.1.attention.self.query.weight': 0.4999983045789931,\n",
       "  'bert.encoder.layer.1.attention.self.query.bias': 0.0,\n",
       "  'bert.encoder.layer.1.attention.self.key.weight': 0.5,\n",
       "  'bert.encoder.layer.1.attention.self.key.bias': 0.0,\n",
       "  'bert.encoder.layer.1.attention.self.value.weight': 0.5,\n",
       "  'bert.encoder.layer.1.attention.self.value.bias': 0.0,\n",
       "  'bert.encoder.layer.1.attention.output.dense.weight': 0.5,\n",
       "  'bert.encoder.layer.1.attention.output.dense.bias': 0.0,\n",
       "  'bert.encoder.layer.1.intermediate.dense.weight': 0.5,\n",
       "  'bert.encoder.layer.1.intermediate.dense.bias': 0.0,\n",
       "  'bert.encoder.layer.1.output.dense.weight': 0.5,\n",
       "  'bert.encoder.layer.1.output.dense.bias': 0.0,\n",
       "  'bert.encoder.layer.2.attention.self.query.weight': 0.5,\n",
       "  'bert.encoder.layer.2.attention.self.query.bias': 0.0,\n",
       "  'bert.encoder.layer.2.attention.self.key.weight': 0.5,\n",
       "  'bert.encoder.layer.2.attention.self.key.bias': 0.0,\n",
       "  'bert.encoder.layer.2.attention.self.value.weight': 0.5,\n",
       "  'bert.encoder.layer.2.attention.self.value.bias': 0.0,\n",
       "  'bert.encoder.layer.2.attention.output.dense.weight': 0.5,\n",
       "  'bert.encoder.layer.2.attention.output.dense.bias': 0.0,\n",
       "  'bert.encoder.layer.2.intermediate.dense.weight': 0.5,\n",
       "  'bert.encoder.layer.2.intermediate.dense.bias': 0.0,\n",
       "  'bert.encoder.layer.2.output.dense.weight': 0.5,\n",
       "  'bert.encoder.layer.2.output.dense.bias': 0.0,\n",
       "  'bert.encoder.layer.3.attention.self.query.weight': 0.5,\n",
       "  'bert.encoder.layer.3.attention.self.query.bias': 0.0,\n",
       "  'bert.encoder.layer.3.attention.self.key.weight': 0.5,\n",
       "  'bert.encoder.layer.3.attention.self.key.bias': 0.0,\n",
       "  'bert.encoder.layer.3.attention.self.value.weight': 0.5,\n",
       "  'bert.encoder.layer.3.attention.self.value.bias': 0.0,\n",
       "  'bert.encoder.layer.3.attention.output.dense.weight': 0.5,\n",
       "  'bert.encoder.layer.3.attention.output.dense.bias': 0.0,\n",
       "  'bert.encoder.layer.3.intermediate.dense.weight': 0.5,\n",
       "  'bert.encoder.layer.3.intermediate.dense.bias': 0.0,\n",
       "  'bert.encoder.layer.3.output.dense.weight': 0.5,\n",
       "  'bert.encoder.layer.3.output.dense.bias': 0.0,\n",
       "  'bert.encoder.layer.4.attention.self.query.weight': 0.5,\n",
       "  'bert.encoder.layer.4.attention.self.query.bias': 0.0,\n",
       "  'bert.encoder.layer.4.attention.self.key.weight': 0.5,\n",
       "  'bert.encoder.layer.4.attention.self.key.bias': 0.0,\n",
       "  'bert.encoder.layer.4.attention.self.value.weight': 0.5,\n",
       "  'bert.encoder.layer.4.attention.self.value.bias': 0.0,\n",
       "  'bert.encoder.layer.4.attention.output.dense.weight': 0.5,\n",
       "  'bert.encoder.layer.4.attention.output.dense.bias': 0.0,\n",
       "  'bert.encoder.layer.4.intermediate.dense.weight': 0.5,\n",
       "  'bert.encoder.layer.4.intermediate.dense.bias': 0.0,\n",
       "  'bert.encoder.layer.4.output.dense.weight': 0.5,\n",
       "  'bert.encoder.layer.4.output.dense.bias': 0.0,\n",
       "  'bert.encoder.layer.5.attention.self.query.weight': 0.5,\n",
       "  'bert.encoder.layer.5.attention.self.query.bias': 0.0,\n",
       "  'bert.encoder.layer.5.attention.self.key.weight': 0.5,\n",
       "  'bert.encoder.layer.5.attention.self.key.bias': 0.0,\n",
       "  'bert.encoder.layer.5.attention.self.value.weight': 0.5,\n",
       "  'bert.encoder.layer.5.attention.self.value.bias': 0.0,\n",
       "  'bert.encoder.layer.5.attention.output.dense.weight': 0.5,\n",
       "  'bert.encoder.layer.5.attention.output.dense.bias': 0.0,\n",
       "  'bert.encoder.layer.5.intermediate.dense.weight': 0.5,\n",
       "  'bert.encoder.layer.5.intermediate.dense.bias': 0.0,\n",
       "  'bert.encoder.layer.5.output.dense.weight': 0.5,\n",
       "  'bert.encoder.layer.5.output.dense.bias': 0.0,\n",
       "  'bert.encoder.layer.6.attention.self.query.weight': 0.5,\n",
       "  'bert.encoder.layer.6.attention.self.query.bias': 0.0,\n",
       "  'bert.encoder.layer.6.attention.self.key.weight': 0.5,\n",
       "  'bert.encoder.layer.6.attention.self.key.bias': 0.0,\n",
       "  'bert.encoder.layer.6.attention.self.value.weight': 0.5,\n",
       "  'bert.encoder.layer.6.attention.self.value.bias': 0.0,\n",
       "  'bert.encoder.layer.6.attention.output.dense.weight': 0.5,\n",
       "  'bert.encoder.layer.6.attention.output.dense.bias': 0.0,\n",
       "  'bert.encoder.layer.6.intermediate.dense.weight': 0.5,\n",
       "  'bert.encoder.layer.6.intermediate.dense.bias': 0.0,\n",
       "  'bert.encoder.layer.6.output.dense.weight': 0.5,\n",
       "  'bert.encoder.layer.6.output.dense.bias': 0.0,\n",
       "  'bert.encoder.layer.7.attention.self.query.weight': 0.5,\n",
       "  'bert.encoder.layer.7.attention.self.query.bias': 0.0,\n",
       "  'bert.encoder.layer.7.attention.self.key.weight': 0.5,\n",
       "  'bert.encoder.layer.7.attention.self.key.bias': 0.0,\n",
       "  'bert.encoder.layer.7.attention.self.value.weight': 0.4999983045789931,\n",
       "  'bert.encoder.layer.7.attention.self.value.bias': 0.0,\n",
       "  'bert.encoder.layer.7.attention.output.dense.weight': 0.5,\n",
       "  'bert.encoder.layer.7.attention.output.dense.bias': 0.0,\n",
       "  'bert.encoder.layer.7.intermediate.dense.weight': 0.5,\n",
       "  'bert.encoder.layer.7.intermediate.dense.bias': 0.0,\n",
       "  'bert.encoder.layer.7.output.dense.weight': 0.5,\n",
       "  'bert.encoder.layer.7.output.dense.bias': 0.0,\n",
       "  'bert.encoder.layer.8.attention.self.query.weight': 0.5,\n",
       "  'bert.encoder.layer.8.attention.self.query.bias': 0.0,\n",
       "  'bert.encoder.layer.8.attention.self.key.weight': 0.5,\n",
       "  'bert.encoder.layer.8.attention.self.key.bias': 0.0,\n",
       "  'bert.encoder.layer.8.attention.self.value.weight': 0.5,\n",
       "  'bert.encoder.layer.8.attention.self.value.bias': 0.0,\n",
       "  'bert.encoder.layer.8.attention.output.dense.weight': 0.5,\n",
       "  'bert.encoder.layer.8.attention.output.dense.bias': 0.0,\n",
       "  'bert.encoder.layer.8.intermediate.dense.weight': 0.5,\n",
       "  'bert.encoder.layer.8.intermediate.dense.bias': 0.0,\n",
       "  'bert.encoder.layer.8.output.dense.weight': 0.5,\n",
       "  'bert.encoder.layer.8.output.dense.bias': 0.0,\n",
       "  'bert.encoder.layer.9.attention.self.query.weight': 0.5,\n",
       "  'bert.encoder.layer.9.attention.self.query.bias': 0.0,\n",
       "  'bert.encoder.layer.9.attention.self.key.weight': 0.5,\n",
       "  'bert.encoder.layer.9.attention.self.key.bias': 0.0,\n",
       "  'bert.encoder.layer.9.attention.self.value.weight': 0.5,\n",
       "  'bert.encoder.layer.9.attention.self.value.bias': 0.0,\n",
       "  'bert.encoder.layer.9.attention.output.dense.weight': 0.5,\n",
       "  'bert.encoder.layer.9.attention.output.dense.bias': 0.0,\n",
       "  'bert.encoder.layer.9.intermediate.dense.weight': 0.5,\n",
       "  'bert.encoder.layer.9.intermediate.dense.bias': 0.0,\n",
       "  'bert.encoder.layer.9.output.dense.weight': 0.5,\n",
       "  'bert.encoder.layer.9.output.dense.bias': 0.0,\n",
       "  'bert.encoder.layer.10.attention.self.query.weight': 0.5,\n",
       "  'bert.encoder.layer.10.attention.self.query.bias': 0.0,\n",
       "  'bert.encoder.layer.10.attention.self.key.weight': 0.5,\n",
       "  'bert.encoder.layer.10.attention.self.key.bias': 0.0,\n",
       "  'bert.encoder.layer.10.attention.self.value.weight': 0.5,\n",
       "  'bert.encoder.layer.10.attention.self.value.bias': 0.0,\n",
       "  'bert.encoder.layer.10.attention.output.dense.weight': 0.5,\n",
       "  'bert.encoder.layer.10.attention.output.dense.bias': 0.0,\n",
       "  'bert.encoder.layer.10.intermediate.dense.weight': 0.5,\n",
       "  'bert.encoder.layer.10.intermediate.dense.bias': 0.0,\n",
       "  'bert.encoder.layer.10.output.dense.weight': 0.5,\n",
       "  'bert.encoder.layer.10.output.dense.bias': 0.0,\n",
       "  'bert.encoder.layer.11.attention.self.query.weight': 0.5,\n",
       "  'bert.encoder.layer.11.attention.self.query.bias': 0.0,\n",
       "  'bert.encoder.layer.11.attention.self.key.weight': 0.5,\n",
       "  'bert.encoder.layer.11.attention.self.key.bias': 0.0,\n",
       "  'bert.encoder.layer.11.attention.self.value.weight': 0.5,\n",
       "  'bert.encoder.layer.11.attention.self.value.bias': 0.0,\n",
       "  'bert.encoder.layer.11.attention.output.dense.weight': 0.5,\n",
       "  'bert.encoder.layer.11.attention.output.dense.bias': 0.0,\n",
       "  'bert.encoder.layer.11.intermediate.dense.weight': 0.5,\n",
       "  'bert.encoder.layer.11.intermediate.dense.bias': 0.0,\n",
       "  'bert.encoder.layer.11.output.dense.weight': 0.5,\n",
       "  'bert.encoder.layer.11.output.dense.bias': 0.0,\n",
       "  'bert.pooler.dense.weight': 0.0,\n",
       "  'bert.pooler.dense.bias': 0.0,\n",
       "  'classifier.weight': 0.0,\n",
       "  'classifier.bias': 0.0})"
      ]
     },
     "execution_count": 8,
     "metadata": {},
     "output_type": "execute_result"
    }
   ],
   "source": [
    "get_sparsity(module)"
   ]
  }
 ],
 "metadata": {
  "kernelspec": {
   "display_name": "Python 3 (ipykernel)",
   "language": "python",
   "name": "python3"
  },
  "language_info": {
   "codemirror_mode": {
    "name": "ipython",
    "version": 3
   },
   "file_extension": ".py",
   "mimetype": "text/x-python",
   "name": "python",
   "nbconvert_exporter": "python",
   "pygments_lexer": "ipython3",
   "version": "3.8.19"
  }
 },
 "nbformat": 4,
 "nbformat_minor": 5
}
