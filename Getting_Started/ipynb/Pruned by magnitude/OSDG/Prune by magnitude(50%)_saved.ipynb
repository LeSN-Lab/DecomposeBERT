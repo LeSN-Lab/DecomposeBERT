{
  "cells": [
    {
      "cell_type": "code",
      "execution_count": 1,
      "id": "1e774c0d-6a12-4e09-83b7-52c6be4f5eea",
      "metadata": {
        "execution": {
          "iopub.execute_input": "2024-08-19T13:50:45.413082Z",
          "iopub.status.busy": "2024-08-19T13:50:45.412362Z",
          "iopub.status.idle": "2024-08-19T13:50:45.428237Z",
          "shell.execute_reply": "2024-08-19T13:50:45.426932Z"
        },
        "papermill": {
          "duration": 0.026881,
          "end_time": "2024-08-19T13:50:45.431335",
          "exception": false,
          "start_time": "2024-08-19T13:50:45.404454",
          "status": "completed"
        },
        "tags": []
      },
      "outputs": [],
      "source": [
        "import os\n",
        "import sys\n",
        "sys.path.append(\"../../../../\")\n",
        "os.environ[\"TOKENIZERS_PARALLELISM\"] = \"false\""
      ]
    },
    {
      "cell_type": "code",
      "execution_count": 2,
      "id": "12cdfbbb-c013-4cdd-b770-b640faed45bb",
      "metadata": {
        "execution": {
          "iopub.execute_input": "2024-08-19T13:50:45.444534Z",
          "iopub.status.busy": "2024-08-19T13:50:45.443821Z",
          "iopub.status.idle": "2024-08-19T13:50:47.236504Z",
          "shell.execute_reply": "2024-08-19T13:50:47.235430Z"
        },
        "papermill": {
          "duration": 1.803339,
          "end_time": "2024-08-19T13:50:47.240542",
          "exception": false,
          "start_time": "2024-08-19T13:50:45.437203",
          "status": "completed"
        },
        "tags": []
      },
      "outputs": [],
      "source": [
        "import copy\n",
        "import torch\n",
        "from datetime import datetime\n",
        "from utils.helper import ModelConfig, color_print\n",
        "from utils.dataset_utils.load_dataset import (\n",
        "    load_data,\n",
        ")\n",
        "from utils.model_utils.save_module import save_module\n",
        "from utils.model_utils.load_model import load_model\n",
        "from utils.model_utils.evaluate import evaluate_model, get_sparsity, similar\n",
        "from utils.dataset_utils.sampling import SamplingDataset\n",
        "from utils.prune_utils.prune import (\n",
        "    prune_magnitude\n",
        ")"
      ]
    },
    {
      "cell_type": "code",
      "execution_count": 3,
      "id": "3bbed077-183d-4b34-8d3d-a6dcc1e13267",
      "metadata": {
        "execution": {
          "iopub.execute_input": "2024-08-19T13:50:47.256573Z",
          "iopub.status.busy": "2024-08-19T13:50:47.256025Z",
          "iopub.status.idle": "2024-08-19T13:50:47.260593Z",
          "shell.execute_reply": "2024-08-19T13:50:47.259837Z"
        },
        "papermill": {
          "duration": 0.017995,
          "end_time": "2024-08-19T13:50:47.263854",
          "exception": false,
          "start_time": "2024-08-19T13:50:47.245859",
          "status": "completed"
        },
        "tags": []
      },
      "outputs": [],
      "source": [
        "name= \"OSDG\"\n",
        "device = torch.device(\"cuda:0\")\n",
        "checkpoint = None\n",
        "batch_size=32\n",
        "num_workers=48\n",
        "num_samples=16\n",
        "magnitude_ratio=0.3\n",
        "seed=44\n",
        "include_layers=[\"attention\", \"intermediate\", \"output\"]\n",
        "exclude_layers=None"
      ]
    },
    {
      "cell_type": "code",
      "execution_count": 4,
      "id": "9f784b30-09b2-4e69-8160-5a78a8064c37",
      "metadata": {
        "execution": {
          "iopub.execute_input": "2024-08-19T13:50:47.275321Z",
          "iopub.status.busy": "2024-08-19T13:50:47.274894Z",
          "iopub.status.idle": "2024-08-19T13:50:47.280434Z",
          "shell.execute_reply": "2024-08-19T13:50:47.279597Z"
        },
        "papermill": {
          "duration": 0.015349,
          "end_time": "2024-08-19T13:50:47.284248",
          "exception": false,
          "start_time": "2024-08-19T13:50:47.268899",
          "status": "completed"
        },
        "tags": []
      },
      "outputs": [
        {
          "name": "stdout",
          "output_type": "stream",
          "text": [
            "Script started at: 2024-08-19 22:50:47\n"
          ]
        }
      ],
      "source": [
        "script_start_time = datetime.now()\n",
        "print(f\"Script started at: {script_start_time.strftime('%Y-%m-%d %H:%M:%S')}\")"
      ]
    },
    {
      "cell_type": "code",
      "execution_count": 5,
      "id": "29af739a-e23a-4715-9ff8-473263658ff6",
      "metadata": {
        "execution": {
          "iopub.execute_input": "2024-08-19T13:50:47.298960Z",
          "iopub.status.busy": "2024-08-19T13:50:47.298088Z",
          "iopub.status.idle": "2024-08-19T13:50:50.226290Z",
          "shell.execute_reply": "2024-08-19T13:50:50.225049Z"
        },
        "papermill": {
          "duration": 2.938261,
          "end_time": "2024-08-19T13:50:50.228667",
          "exception": false,
          "start_time": "2024-08-19T13:50:47.290406",
          "status": "completed"
        },
        "tags": []
      },
      "outputs": [
        {
          "name": "stdout",
          "output_type": "stream",
          "text": [
            "Loading the model."
          ]
        },
        {
          "name": "stdout",
          "output_type": "stream",
          "text": [
            "\n"
          ]
        },
        {
          "name": "stdout",
          "output_type": "stream",
          "text": [
            "{'model_name': 'sadickam/sdg-classification-bert', 'task_type': 'classification', 'architectures': 'bert', 'dataset_name': 'OSDG', 'num_labels': 16, 'cache_dir': 'Models'}"
          ]
        },
        {
          "name": "stdout",
          "output_type": "stream",
          "text": [
            "\n"
          ]
        },
        {
          "name": "stdout",
          "output_type": "stream",
          "text": [
            "The model sadickam/sdg-classification-bert is loaded."
          ]
        },
        {
          "name": "stdout",
          "output_type": "stream",
          "text": [
            "\n"
          ]
        }
      ],
      "source": [
        "model_config = ModelConfig(name, device)\n",
        "num_labels = model_config.config[\"num_labels\"]\n",
        "model, tokenizer, checkpoint = load_model(model_config)"
      ]
    },
    {
      "cell_type": "code",
      "execution_count": 6,
      "id": "788d0f37-7fb7-4603-bac7-34ba01dec4dd",
      "metadata": {
        "execution": {
          "iopub.execute_input": "2024-08-19T13:50:50.244329Z",
          "iopub.status.busy": "2024-08-19T13:50:50.243967Z",
          "iopub.status.idle": "2024-08-19T13:50:56.792059Z",
          "shell.execute_reply": "2024-08-19T13:50:56.790915Z"
        },
        "papermill": {
          "duration": 6.561846,
          "end_time": "2024-08-19T13:50:56.795761",
          "exception": false,
          "start_time": "2024-08-19T13:50:50.233915",
          "status": "completed"
        },
        "tags": []
      },
      "outputs": [
        {
          "name": "stdout",
          "output_type": "stream",
          "text": [
            "{'dataset_name': 'OSDG', 'path': 'albertmartinez/OSDG', 'config_name': '2024-01-01', 'text_column': 'text', 'label_column': 'labels', 'cache_dir': 'Datasets/OSDG', 'task_type': 'classification'}"
          ]
        },
        {
          "name": "stdout",
          "output_type": "stream",
          "text": [
            "\n"
          ]
        },
        {
          "name": "stdout",
          "output_type": "stream",
          "text": [
            "Loading cached dataset OSDG."
          ]
        },
        {
          "name": "stdout",
          "output_type": "stream",
          "text": [
            "\n"
          ]
        },
        {
          "name": "stdout",
          "output_type": "stream",
          "text": [
            "The dataset OSDG is loaded"
          ]
        },
        {
          "name": "stdout",
          "output_type": "stream",
          "text": [
            "\n"
          ]
        }
      ],
      "source": [
        "train_dataloader, valid_dataloader, test_dataloader = load_data(\n",
        "    name, batch_size=batch_size, num_workers=num_workers, do_cache=True, seed=seed\n",
        ")"
      ]
    },
    {
      "cell_type": "code",
      "execution_count": 7,
      "id": "ce310921-5107-4950-a7fe-0d90d4f6546b",
      "metadata": {
        "execution": {
          "iopub.execute_input": "2024-08-19T13:50:56.813387Z",
          "iopub.status.busy": "2024-08-19T13:50:56.813145Z",
          "iopub.status.idle": "2024-08-19T13:50:56.819366Z",
          "shell.execute_reply": "2024-08-19T13:50:56.818314Z"
        },
        "papermill": {
          "duration": 0.019408,
          "end_time": "2024-08-19T13:50:56.822142",
          "exception": false,
          "start_time": "2024-08-19T13:50:56.802734",
          "status": "completed"
        },
        "tags": []
      },
      "outputs": [],
      "source": [
        "all_samples = SamplingDataset(\n",
        "    train_dataloader, 200, num_samples, num_labels, False, 4, device=device, resample=False, seed=seed\n",
        ")"
      ]
    },
    {
      "cell_type": "code",
      "execution_count": 8,
      "id": "470d042e-68e8-4b91-916e-4b614e8b2e30",
      "metadata": {
        "execution": {
          "iopub.execute_input": "2024-08-19T13:50:56.836099Z",
          "iopub.status.busy": "2024-08-19T13:50:56.835866Z",
          "iopub.status.idle": "2024-08-19T13:50:56.840372Z",
          "shell.execute_reply": "2024-08-19T13:50:56.839178Z"
        },
        "papermill": {
          "duration": 0.014556,
          "end_time": "2024-08-19T13:50:56.843110",
          "exception": false,
          "start_time": "2024-08-19T13:50:56.828554",
          "status": "completed"
        },
        "tags": []
      },
      "outputs": [],
      "source": [
        "# print(\"Evaluate the original model\")\n",
        "# result = evaluate_model(model, model_config, test_dataloader)"
      ]
    },
    {
      "cell_type": "code",
      "execution_count": 9,
      "id": "13d9e7a0-de42-427f-8d26-02d1740371fa",
      "metadata": {
        "execution": {
          "iopub.execute_input": "2024-08-19T13:50:56.857509Z",
          "iopub.status.busy": "2024-08-19T13:50:56.857287Z",
          "iopub.status.idle": "2024-08-19T13:50:56.862702Z",
          "shell.execute_reply": "2024-08-19T13:50:56.861319Z"
        },
        "papermill": {
          "duration": 0.015957,
          "end_time": "2024-08-19T13:50:56.865641",
          "exception": false,
          "start_time": "2024-08-19T13:50:56.849684",
          "status": "completed"
        },
        "tags": []
      },
      "outputs": [],
      "source": [
        "# Evaluate the original model\n",
        "# Evaluating: 100%|?��?��?��?��?��?��?��?��?��?��?��?��?��?��?��?��?��?��?��?��?��?��?��?��?��?��?��?��?��?��?��?��?��?��?��?��?��?��?��?��?��?��?��?��?��?��?��?��?��?��?��?��?��?��?��?��?��?��?��?��?��?��?��?��?��?��?��?��?��| 200/200 [03:16<00:00,  1.02it/s]\n",
        "# Loss: 0.9485\n",
        "# Precision: 0.7801, Recall: 0.7867, F1-Score: 0.7793\n",
        "#               precision    recall  f1-score   support\n",
        "\n",
        "#            0       0.77      0.66      0.71       797\n",
        "#            1       0.84      0.72      0.78       775\n",
        "#            2       0.88      0.87      0.88       795\n",
        "#            3       0.87      0.83      0.85      1110\n",
        "#            4       0.86      0.80      0.83      1260\n",
        "#            5       0.88      0.69      0.77       882\n",
        "#            6       0.85      0.80      0.83       940\n",
        "#            7       0.49      0.61      0.54       473\n",
        "#            8       0.66      0.85      0.74       746\n",
        "#            9       0.62      0.73      0.67       689\n",
        "#           10       0.75      0.79      0.77       670\n",
        "#           11       0.62      0.81      0.70       312\n",
        "#           12       0.73      0.81      0.77       665\n",
        "#           13       0.83      0.85      0.84       314\n",
        "#           14       0.85      0.78      0.81       756\n",
        "#           15       0.97      0.98      0.97      1607\n",
        "\n",
        "#     accuracy                           0.80     12791\n",
        "#    macro avg       0.78      0.79      0.78     12791\n",
        "# weighted avg       0.81      0.80      0.80     12791"
      ]
    },
    {
      "cell_type": "code",
      "execution_count": 10,
      "id": "4bc22bf0-2e59-453b-bb1f-46fa5c476fb5",
      "metadata": {
        "execution": {
          "iopub.execute_input": "2024-08-19T13:50:56.881455Z",
          "iopub.status.busy": "2024-08-19T13:50:56.880782Z",
          "iopub.status.idle": "2024-08-19T13:52:55.028555Z",
          "shell.execute_reply": "2024-08-19T13:52:55.027513Z"
        },
        "papermill": {
          "duration": 116.96501,
          "end_time": "2024-08-19T13:52:53.837488",
          "exception": false,
          "start_time": "2024-08-19T13:50:56.872478",
          "status": "completed"
        },
        "tags": []
      },
      "outputs": [
        {
          "name": "stdout",
          "output_type": "stream",
          "text": [
            "Evaluate the pruned model"
          ]
        },
        {
          "name": "stdout",
          "output_type": "stream",
          "text": [
            "\n"
          ]
        },
        {
          "name": "stderr",
          "output_type": "stream",
          "text": [
            "\r",
            "Evaluating:   0%|          | 0/200 [00:00<?, ?it/s]"
          ]
        },
        {
          "name": "stderr",
          "output_type": "stream",
          "text": [
            "\r",
            "Evaluating:   0%|          | 1/200 [00:00<03:06,  1.07it/s]"
          ]
        },
        {
          "name": "stderr",
          "output_type": "stream",
          "text": [
            "\r",
            "Evaluating:   1%|          | 2/200 [00:01<02:06,  1.57it/s]"
          ]
        },
        {
          "name": "stderr",
          "output_type": "stream",
          "text": [
            "\r",
            "Evaluating:   2%|?��         | 3/200 [00:01<01:47,  1.84it/s]"
          ]
        },
        {
          "name": "stderr",
          "output_type": "stream",
          "text": [
            "\r",
            "Evaluating:   2%|?��         | 4/200 [00:02<01:38,  1.99it/s]"
          ]
        },
        {
          "name": "stderr",
          "output_type": "stream",
          "text": [
            "\r",
            "Evaluating:   2%|?��         | 5/200 [00:02<01:32,  2.10it/s]"
          ]
        },
        {
          "name": "stderr",
          "output_type": "stream",
          "text": [
            "\r",
            "Evaluating:   3%|?��         | 6/200 [00:03<01:29,  2.16it/s]"
          ]
        },
        {
          "name": "stderr",
          "output_type": "stream",
          "text": [
            "\r",
            "Evaluating:   4%|?��         | 7/200 [00:03<01:27,  2.20it/s]"
          ]
        },
        {
          "name": "stderr",
          "output_type": "stream",
          "text": [
            "\r",
            "Evaluating:   4%|?��         | 8/200 [00:03<01:25,  2.23it/s]"
          ]
        },
        {
          "name": "stderr",
          "output_type": "stream",
          "text": [
            "\r",
            "Evaluating:   4%|?��         | 9/200 [00:04<01:24,  2.25it/s]"
          ]
        },
        {
          "name": "stderr",
          "output_type": "stream",
          "text": [
            "\r",
            "Evaluating:   5%|?��         | 10/200 [00:04<01:23,  2.26it/s]"
          ]
        },
        {
          "name": "stderr",
          "output_type": "stream",
          "text": [
            "\r",
            "Evaluating:   6%|?��         | 11/200 [00:05<01:23,  2.27it/s]"
          ]
        },
        {
          "name": "stderr",
          "output_type": "stream",
          "text": [
            "\r",
            "Evaluating:   6%|?��         | 12/200 [00:05<01:22,  2.28it/s]"
          ]
        },
        {
          "name": "stderr",
          "output_type": "stream",
          "text": [
            "\r",
            "Evaluating:   6%|?��         | 13/200 [00:06<01:21,  2.28it/s]"
          ]
        },
        {
          "name": "stderr",
          "output_type": "stream",
          "text": [
            "\r",
            "Evaluating:   7%|?��         | 14/200 [00:06<01:21,  2.28it/s]"
          ]
        },
        {
          "name": "stderr",
          "output_type": "stream",
          "text": [
            "\r",
            "Evaluating:   8%|?��         | 15/200 [00:07<01:21,  2.26it/s]"
          ]
        },
        {
          "name": "stderr",
          "output_type": "stream",
          "text": [
            "\r",
            "Evaluating:   8%|?��         | 16/200 [00:07<01:22,  2.22it/s]"
          ]
        },
        {
          "name": "stderr",
          "output_type": "stream",
          "text": [
            "\r",
            "Evaluating:   8%|?��         | 17/200 [00:08<01:24,  2.15it/s]"
          ]
        },
        {
          "name": "stderr",
          "output_type": "stream",
          "text": [
            "\r",
            "Evaluating:   9%|?��         | 18/200 [00:08<01:27,  2.07it/s]"
          ]
        },
        {
          "name": "stderr",
          "output_type": "stream",
          "text": [
            "\r",
            "Evaluating:  10%|?��         | 19/200 [00:09<01:31,  1.98it/s]"
          ]
        },
        {
          "name": "stderr",
          "output_type": "stream",
          "text": [
            "\r",
            "Evaluating:  10%|?��         | 20/200 [00:09<01:36,  1.87it/s]"
          ]
        },
        {
          "name": "stderr",
          "output_type": "stream",
          "text": [
            "\r",
            "Evaluating:  10%|?��         | 21/200 [00:10<01:41,  1.76it/s]"
          ]
        },
        {
          "name": "stderr",
          "output_type": "stream",
          "text": [
            "\r",
            "Evaluating:  11%|?��         | 22/200 [00:10<01:45,  1.69it/s]"
          ]
        },
        {
          "name": "stderr",
          "output_type": "stream",
          "text": [
            "\r",
            "Evaluating:  12%|?��?��        | 23/200 [00:11<01:47,  1.64it/s]"
          ]
        },
        {
          "name": "stderr",
          "output_type": "stream",
          "text": [
            "\r",
            "Evaluating:  12%|?��?��        | 24/200 [00:12<01:53,  1.55it/s]"
          ]
        },
        {
          "name": "stderr",
          "output_type": "stream",
          "text": [
            "\r",
            "Evaluating:  12%|?��?��        | 25/200 [00:13<01:59,  1.46it/s]"
          ]
        },
        {
          "name": "stderr",
          "output_type": "stream",
          "text": [
            "\r",
            "Evaluating:  13%|?��?��        | 26/200 [00:13<02:05,  1.39it/s]"
          ]
        },
        {
          "name": "stderr",
          "output_type": "stream",
          "text": [
            "\r",
            "Evaluating:  14%|?��?��        | 27/200 [00:14<02:18,  1.25it/s]"
          ]
        },
        {
          "name": "stderr",
          "output_type": "stream",
          "text": [
            "\r",
            "Evaluating:  14%|?��?��        | 28/200 [00:15<02:28,  1.16it/s]"
          ]
        },
        {
          "name": "stderr",
          "output_type": "stream",
          "text": [
            "\r",
            "Evaluating:  14%|?��?��        | 29/200 [00:16<02:34,  1.11it/s]"
          ]
        },
        {
          "name": "stderr",
          "output_type": "stream",
          "text": [
            "\r",
            "Evaluating:  15%|?��?��        | 30/200 [00:17<02:38,  1.07it/s]"
          ]
        },
        {
          "name": "stderr",
          "output_type": "stream",
          "text": [
            "\r",
            "Evaluating:  16%|?��?��        | 31/200 [00:18<02:40,  1.05it/s]"
          ]
        },
        {
          "name": "stderr",
          "output_type": "stream",
          "text": [
            "\r",
            "Evaluating:  16%|?��?��        | 32/200 [00:19<02:42,  1.03it/s]"
          ]
        },
        {
          "name": "stderr",
          "output_type": "stream",
          "text": [
            "\r",
            "Evaluating:  16%|?��?��        | 33/200 [00:20<02:43,  1.02it/s]"
          ]
        },
        {
          "name": "stderr",
          "output_type": "stream",
          "text": [
            "\r",
            "Evaluating:  17%|?��?��        | 34/200 [00:21<02:43,  1.02it/s]"
          ]
        },
        {
          "name": "stderr",
          "output_type": "stream",
          "text": [
            "\r",
            "Evaluating:  18%|?��?��        | 35/200 [00:22<02:43,  1.01it/s]"
          ]
        },
        {
          "name": "stderr",
          "output_type": "stream",
          "text": [
            "\r",
            "Evaluating:  18%|?��?��        | 36/200 [00:23<02:43,  1.01it/s]"
          ]
        },
        {
          "name": "stderr",
          "output_type": "stream",
          "text": [
            "\r",
            "Evaluating:  18%|?��?��        | 37/200 [00:24<02:42,  1.00it/s]"
          ]
        },
        {
          "name": "stderr",
          "output_type": "stream",
          "text": [
            "\r",
            "Evaluating:  19%|?��?��        | 38/200 [00:25<02:41,  1.00it/s]"
          ]
        },
        {
          "name": "stderr",
          "output_type": "stream",
          "text": [
            "\r",
            "Evaluating:  20%|?��?��        | 39/200 [00:26<02:41,  1.00s/it]"
          ]
        },
        {
          "name": "stderr",
          "output_type": "stream",
          "text": [
            "\r",
            "Evaluating:  20%|?��?��        | 40/200 [00:27<02:41,  1.01s/it]"
          ]
        },
        {
          "name": "stderr",
          "output_type": "stream",
          "text": [
            "\r",
            "Evaluating:  20%|?��?��        | 41/200 [00:29<02:50,  1.07s/it]"
          ]
        },
        {
          "name": "stderr",
          "output_type": "stream",
          "text": [
            "\r",
            "Evaluating:  21%|?��?��        | 42/200 [00:30<02:56,  1.12s/it]"
          ]
        },
        {
          "name": "stderr",
          "output_type": "stream",
          "text": [
            "\r",
            "Evaluating:  22%|?��?��?��       | 43/200 [00:31<03:00,  1.15s/it]"
          ]
        },
        {
          "name": "stderr",
          "output_type": "stream",
          "text": [
            "\r",
            "Evaluating:  22%|?��?��?��       | 44/200 [00:32<03:02,  1.17s/it]"
          ]
        },
        {
          "name": "stderr",
          "output_type": "stream",
          "text": [
            "\r",
            "Evaluating:  22%|?��?��?��       | 45/200 [00:34<03:03,  1.18s/it]"
          ]
        },
        {
          "name": "stderr",
          "output_type": "stream",
          "text": [
            "\r",
            "Evaluating:  23%|?��?��?��       | 46/200 [00:35<03:03,  1.19s/it]"
          ]
        },
        {
          "name": "stderr",
          "output_type": "stream",
          "text": [
            "\r",
            "Evaluating:  24%|?��?��?��       | 47/200 [00:36<03:03,  1.20s/it]"
          ]
        },
        {
          "name": "stderr",
          "output_type": "stream",
          "text": [
            "\r",
            "Evaluating:  24%|?��?��?��       | 48/200 [00:37<03:03,  1.21s/it]"
          ]
        },
        {
          "name": "stderr",
          "output_type": "stream",
          "text": [
            "\r",
            "Evaluating:  24%|?��?��?��       | 49/200 [00:38<03:02,  1.21s/it]"
          ]
        },
        {
          "name": "stderr",
          "output_type": "stream",
          "text": [
            "\r",
            "Evaluating:  25%|?��?��?��       | 50/200 [00:40<03:01,  1.21s/it]"
          ]
        },
        {
          "name": "stderr",
          "output_type": "stream",
          "text": [
            "\r",
            "Evaluating:  26%|?��?��?��       | 51/200 [00:41<03:00,  1.21s/it]"
          ]
        },
        {
          "name": "stderr",
          "output_type": "stream",
          "text": [
            "\r",
            "Evaluating:  26%|?��?��?��       | 52/200 [00:42<02:59,  1.21s/it]"
          ]
        },
        {
          "name": "stderr",
          "output_type": "stream",
          "text": [
            "\r",
            "Evaluating:  26%|?��?��?��       | 53/200 [00:43<02:58,  1.21s/it]"
          ]
        },
        {
          "name": "stderr",
          "output_type": "stream",
          "text": [
            "\r",
            "Evaluating:  27%|?��?��?��       | 54/200 [00:45<02:57,  1.22s/it]"
          ]
        },
        {
          "name": "stderr",
          "output_type": "stream",
          "text": [
            "\r",
            "Evaluating:  28%|?��?��?��       | 55/200 [00:46<02:55,  1.21s/it]"
          ]
        },
        {
          "name": "stderr",
          "output_type": "stream",
          "text": [
            "\r",
            "Evaluating:  28%|?��?��?��       | 56/200 [00:47<02:54,  1.21s/it]"
          ]
        },
        {
          "name": "stderr",
          "output_type": "stream",
          "text": [
            "\r",
            "Evaluating:  28%|?��?��?��       | 57/200 [00:48<02:53,  1.21s/it]"
          ]
        },
        {
          "name": "stderr",
          "output_type": "stream",
          "text": [
            "\r",
            "Evaluating:  29%|?��?��?��       | 58/200 [00:49<02:52,  1.22s/it]"
          ]
        },
        {
          "name": "stderr",
          "output_type": "stream",
          "text": [
            "\r",
            "Evaluating:  30%|?��?��?��       | 59/200 [00:51<02:51,  1.22s/it]"
          ]
        },
        {
          "name": "stderr",
          "output_type": "stream",
          "text": [
            "\r",
            "Evaluating:  30%|?��?��?��       | 60/200 [00:52<02:50,  1.22s/it]"
          ]
        },
        {
          "name": "stderr",
          "output_type": "stream",
          "text": [
            "\r",
            "Evaluating:  30%|?��?��?��       | 61/200 [00:53<02:48,  1.21s/it]"
          ]
        },
        {
          "name": "stderr",
          "output_type": "stream",
          "text": [
            "\r",
            "Evaluating:  31%|?��?��?��       | 62/200 [00:54<02:46,  1.21s/it]"
          ]
        },
        {
          "name": "stderr",
          "output_type": "stream",
          "text": [
            "\r",
            "Evaluating:  32%|?��?��?��?��      | 63/200 [00:55<02:45,  1.21s/it]"
          ]
        },
        {
          "name": "stderr",
          "output_type": "stream",
          "text": [
            "\r",
            "Evaluating:  32%|?��?��?��?��      | 64/200 [00:57<02:44,  1.21s/it]"
          ]
        },
        {
          "name": "stderr",
          "output_type": "stream",
          "text": [
            "\r",
            "Evaluating:  32%|?��?��?��?��      | 65/200 [00:58<02:43,  1.21s/it]"
          ]
        },
        {
          "name": "stderr",
          "output_type": "stream",
          "text": [
            "\r",
            "Evaluating:  33%|?��?��?��?��      | 66/200 [00:59<02:41,  1.21s/it]"
          ]
        },
        {
          "name": "stderr",
          "output_type": "stream",
          "text": [
            "\r",
            "Evaluating:  34%|?��?��?��?��      | 67/200 [01:00<02:40,  1.21s/it]"
          ]
        },
        {
          "name": "stderr",
          "output_type": "stream",
          "text": [
            "\r",
            "Evaluating:  34%|?��?��?��?��      | 68/200 [01:01<02:39,  1.20s/it]"
          ]
        },
        {
          "name": "stderr",
          "output_type": "stream",
          "text": [
            "\r",
            "Evaluating:  34%|?��?��?��?��      | 69/200 [01:03<02:37,  1.21s/it]"
          ]
        },
        {
          "name": "stderr",
          "output_type": "stream",
          "text": [
            "\r",
            "Evaluating:  35%|?��?��?��?��      | 70/200 [01:04<02:36,  1.21s/it]"
          ]
        },
        {
          "name": "stderr",
          "output_type": "stream",
          "text": [
            "\r",
            "Evaluating:  36%|?��?��?��?��      | 71/200 [01:05<02:32,  1.18s/it]"
          ]
        },
        {
          "name": "stderr",
          "output_type": "stream",
          "text": [
            "\r",
            "Evaluating:  36%|?��?��?��?��      | 72/200 [01:06<02:28,  1.16s/it]"
          ]
        },
        {
          "name": "stderr",
          "output_type": "stream",
          "text": [
            "\r",
            "Evaluating:  36%|?��?��?��?��      | 73/200 [01:07<02:25,  1.15s/it]"
          ]
        },
        {
          "name": "stderr",
          "output_type": "stream",
          "text": [
            "\r",
            "Evaluating:  37%|?��?��?��?��      | 74/200 [01:08<02:23,  1.14s/it]"
          ]
        },
        {
          "name": "stderr",
          "output_type": "stream",
          "text": [
            "\r",
            "Evaluating:  38%|?��?��?��?��      | 75/200 [01:09<02:20,  1.13s/it]"
          ]
        },
        {
          "name": "stderr",
          "output_type": "stream",
          "text": [
            "\r",
            "Evaluating:  38%|?��?��?��?��      | 76/200 [01:11<02:19,  1.12s/it]"
          ]
        },
        {
          "name": "stderr",
          "output_type": "stream",
          "text": [
            "\r",
            "Evaluating:  38%|?��?��?��?��      | 77/200 [01:12<02:17,  1.12s/it]"
          ]
        },
        {
          "name": "stderr",
          "output_type": "stream",
          "text": [
            "\r",
            "Evaluating:  39%|?��?��?��?��      | 78/200 [01:13<02:16,  1.12s/it]"
          ]
        },
        {
          "name": "stderr",
          "output_type": "stream",
          "text": [
            "\r",
            "Evaluating:  40%|?��?��?��?��      | 79/200 [01:14<02:14,  1.11s/it]"
          ]
        },
        {
          "name": "stderr",
          "output_type": "stream",
          "text": [
            "\r",
            "Evaluating:  40%|?��?��?��?��      | 80/200 [01:15<02:13,  1.11s/it]"
          ]
        },
        {
          "name": "stderr",
          "output_type": "stream",
          "text": [
            "\r",
            "Evaluating:  40%|?��?��?��?��      | 81/200 [01:16<02:12,  1.11s/it]"
          ]
        },
        {
          "name": "stderr",
          "output_type": "stream",
          "text": [
            "\r",
            "Evaluating:  41%|?��?��?��?��      | 82/200 [01:17<02:10,  1.11s/it]"
          ]
        },
        {
          "name": "stderr",
          "output_type": "stream",
          "text": [
            "\r",
            "Evaluating:  42%|?��?��?��?��?��     | 83/200 [01:18<02:09,  1.11s/it]"
          ]
        },
        {
          "name": "stderr",
          "output_type": "stream",
          "text": [
            "\r",
            "Evaluating:  42%|?��?��?��?��?��     | 84/200 [01:19<02:08,  1.11s/it]"
          ]
        },
        {
          "name": "stderr",
          "output_type": "stream",
          "text": [
            "\r",
            "Evaluating:  42%|?��?��?��?��?��     | 85/200 [01:21<02:07,  1.11s/it]"
          ]
        },
        {
          "name": "stderr",
          "output_type": "stream",
          "text": [
            "\r",
            "Evaluating:  43%|?��?��?��?��?��     | 86/200 [01:22<02:06,  1.11s/it]"
          ]
        },
        {
          "name": "stderr",
          "output_type": "stream",
          "text": [
            "\r",
            "Evaluating:  44%|?��?��?��?��?��     | 87/200 [01:23<02:05,  1.11s/it]"
          ]
        },
        {
          "name": "stderr",
          "output_type": "stream",
          "text": [
            "\r",
            "Evaluating:  44%|?��?��?��?��?��     | 88/200 [01:24<02:04,  1.11s/it]"
          ]
        },
        {
          "name": "stderr",
          "output_type": "stream",
          "text": [
            "\r",
            "Evaluating:  44%|?��?��?��?��?��     | 89/200 [01:25<02:02,  1.11s/it]"
          ]
        },
        {
          "name": "stderr",
          "output_type": "stream",
          "text": [
            "\r",
            "Evaluating:  45%|?��?��?��?��?��     | 90/200 [01:26<02:02,  1.11s/it]"
          ]
        },
        {
          "name": "stderr",
          "output_type": "stream",
          "text": [
            "\r",
            "Evaluating:  46%|?��?��?��?��?��     | 91/200 [01:27<02:01,  1.11s/it]"
          ]
        },
        {
          "name": "stderr",
          "output_type": "stream",
          "text": [
            "\r",
            "Evaluating:  46%|?��?��?��?��?��     | 92/200 [01:28<02:00,  1.11s/it]"
          ]
        },
        {
          "name": "stderr",
          "output_type": "stream",
          "text": [
            "\r",
            "Evaluating:  46%|?��?��?��?��?��     | 93/200 [01:29<01:59,  1.11s/it]"
          ]
        },
        {
          "name": "stderr",
          "output_type": "stream",
          "text": [
            "\r",
            "Evaluating:  47%|?��?��?��?��?��     | 94/200 [01:31<01:58,  1.11s/it]"
          ]
        },
        {
          "name": "stderr",
          "output_type": "stream",
          "text": [
            "\r",
            "Evaluating:  48%|?��?��?��?��?��     | 95/200 [01:32<01:57,  1.11s/it]"
          ]
        },
        {
          "name": "stderr",
          "output_type": "stream",
          "text": [
            "\r",
            "Evaluating:  48%|?��?��?��?��?��     | 96/200 [01:33<01:55,  1.12s/it]"
          ]
        },
        {
          "name": "stderr",
          "output_type": "stream",
          "text": [
            "\r",
            "Evaluating:  48%|?��?��?��?��?��     | 97/200 [01:34<01:54,  1.11s/it]"
          ]
        },
        {
          "name": "stderr",
          "output_type": "stream",
          "text": [
            "\r",
            "Evaluating:  49%|?��?��?��?��?��     | 98/200 [01:35<01:53,  1.11s/it]"
          ]
        },
        {
          "name": "stderr",
          "output_type": "stream",
          "text": [
            "\r",
            "Evaluating:  50%|?��?��?��?��?��     | 99/200 [01:36<01:52,  1.11s/it]"
          ]
        },
        {
          "name": "stderr",
          "output_type": "stream",
          "text": [
            "\r",
            "Evaluating:  50%|?��?��?��?��?��     | 100/200 [01:37<01:51,  1.12s/it]"
          ]
        },
        {
          "name": "stderr",
          "output_type": "stream",
          "text": [
            "\r",
            "Evaluating:  50%|?��?��?��?��?��     | 101/200 [01:38<01:50,  1.12s/it]"
          ]
        },
        {
          "name": "stderr",
          "output_type": "stream",
          "text": [
            "\r",
            "Evaluating:  51%|?��?��?��?��?��     | 102/200 [01:39<01:49,  1.12s/it]"
          ]
        },
        {
          "name": "stderr",
          "output_type": "stream",
          "text": [
            "\r",
            "Evaluating:  52%|?��?��?��?��?��?��    | 103/200 [01:41<01:48,  1.12s/it]"
          ]
        },
        {
          "name": "stderr",
          "output_type": "stream",
          "text": [
            "\r",
            "Evaluating:  52%|?��?��?��?��?��?��    | 104/200 [01:42<01:47,  1.12s/it]"
          ]
        },
        {
          "name": "stderr",
          "output_type": "stream",
          "text": [
            "\r",
            "Evaluating:  52%|?��?��?��?��?��?��    | 105/200 [01:43<01:46,  1.12s/it]"
          ]
        },
        {
          "name": "stderr",
          "output_type": "stream",
          "text": [
            "\r",
            "Evaluating:  53%|?��?��?��?��?��?��    | 106/200 [01:44<01:50,  1.18s/it]"
          ]
        },
        {
          "name": "stderr",
          "output_type": "stream",
          "text": [
            "\r",
            "Evaluating:  54%|?��?��?��?��?��?��    | 107/200 [01:46<01:56,  1.26s/it]"
          ]
        },
        {
          "name": "stderr",
          "output_type": "stream",
          "text": [
            "\r",
            "Evaluating:  54%|?��?��?��?��?��?��    | 108/200 [01:47<02:00,  1.31s/it]"
          ]
        },
        {
          "name": "stderr",
          "output_type": "stream",
          "text": [
            "\r",
            "Evaluating:  55%|?��?��?��?��?��?��    | 109/200 [01:48<02:02,  1.35s/it]"
          ]
        },
        {
          "name": "stderr",
          "output_type": "stream",
          "text": [
            "\r",
            "Evaluating:  55%|?��?��?��?��?��?��    | 110/200 [01:50<02:03,  1.38s/it]"
          ]
        },
        {
          "name": "stderr",
          "output_type": "stream",
          "text": [
            "\r",
            "Evaluating:  56%|?��?��?��?��?��?��    | 111/200 [01:51<02:04,  1.40s/it]"
          ]
        },
        {
          "name": "stderr",
          "output_type": "stream",
          "text": [
            "\r",
            "Evaluating:  56%|?��?��?��?��?��?��    | 112/200 [01:53<02:03,  1.41s/it]"
          ]
        },
        {
          "name": "stderr",
          "output_type": "stream",
          "text": [
            "\r",
            "Evaluating:  56%|?��?��?��?��?��?��    | 113/200 [01:54<02:03,  1.42s/it]"
          ]
        },
        {
          "name": "stderr",
          "output_type": "stream",
          "text": [
            "\r",
            "Evaluating:  57%|?��?��?��?��?��?��    | 114/200 [01:56<02:02,  1.43s/it]"
          ]
        },
        {
          "name": "stderr",
          "output_type": "stream",
          "text": [
            "\r",
            "Evaluating:  57%|?��?��?��?��?��?��    | 114/200 [01:57<01:28,  1.03s/it]"
          ]
        },
        {
          "name": "stderr",
          "output_type": "stream",
          "text": [
            "\n"
          ]
        },
        {
          "ename": "KeyboardInterrupt",
          "evalue": "",
          "output_type": "error",
          "traceback": [
            "\u001b[0;31m---------------------------------------------------------------------------\u001b[0m",
            "\u001b[0;31mKeyboardInterrupt\u001b[0m                         Traceback (most recent call last)",
            "Cell \u001b[0;32mIn[10], line 4\u001b[0m\n\u001b[1;32m      2\u001b[0m prune_magnitude(module, sparsity_ratio\u001b[38;5;241m=\u001b[39mmagnitude_ratio, include_layers\u001b[38;5;241m=\u001b[39minclude_layers, exclude_layers\u001b[38;5;241m=\u001b[39mexclude_layers)\n\u001b[1;32m      3\u001b[0m \u001b[38;5;28mprint\u001b[39m(\u001b[38;5;124m\"\u001b[39m\u001b[38;5;124mEvaluate the pruned model\u001b[39m\u001b[38;5;124m\"\u001b[39m)\n\u001b[0;32m----> 4\u001b[0m result \u001b[38;5;241m=\u001b[39m \u001b[43mevaluate_model\u001b[49m\u001b[43m(\u001b[49m\u001b[43mmodel\u001b[49m\u001b[43m,\u001b[49m\u001b[43m \u001b[49m\u001b[43mmodel_config\u001b[49m\u001b[43m,\u001b[49m\u001b[43m \u001b[49m\u001b[43mtest_dataloader\u001b[49m\u001b[43m)\u001b[49m\n",
            "File \u001b[0;32m~/LESN/Decompose/DecomposeTransformer/utils/model_utils/evaluate.py:46\u001b[0m, in \u001b[0;36mevaluate_model\u001b[0;34m(model, model_config, test_dataloader, is_binary)\u001b[0m\n\u001b[1;32m     43\u001b[0m loss \u001b[38;5;241m=\u001b[39m loss_fn(logits, labels)\n\u001b[1;32m     44\u001b[0m pred \u001b[38;5;241m=\u001b[39m logits\u001b[38;5;241m.\u001b[39margmax(dim\u001b[38;5;241m=\u001b[39m\u001b[38;5;241m1\u001b[39m)\n\u001b[0;32m---> 46\u001b[0m total_loss \u001b[38;5;241m+\u001b[39m\u001b[38;5;241m=\u001b[39m \u001b[43mloss\u001b[49m\u001b[38;5;241;43m.\u001b[39;49m\u001b[43mmean\u001b[49m\u001b[43m(\u001b[49m\u001b[43m)\u001b[49m\u001b[38;5;241;43m.\u001b[39;49m\u001b[43mitem\u001b[49m\u001b[43m(\u001b[49m\u001b[43m)\u001b[49m\n\u001b[1;32m     47\u001b[0m all_preds\u001b[38;5;241m.\u001b[39mextend(pred\u001b[38;5;241m.\u001b[39mcpu()\u001b[38;5;241m.\u001b[39mnumpy())\n\u001b[1;32m     48\u001b[0m all_labels\u001b[38;5;241m.\u001b[39mextend(labels\u001b[38;5;241m.\u001b[39mcpu()\u001b[38;5;241m.\u001b[39mnumpy())\n",
            "\u001b[0;31mKeyboardInterrupt\u001b[0m: "
          ]
        }
      ],
      "source": [
        "module = copy.deepcopy(model)\n",
        "prune_magnitude(module, sparsity_ratio=magnitude_ratio, include_layers=include_layers, exclude_layers=exclude_layers)\n",
        "print(\"Evaluate the pruned model\")\n",
        "result = evaluate_model(model, model_config, test_dataloader)\n",
        "# save_module(module, \"Modules/\", f\"magnitude_{name}_{magnitude_ratio}p.pt\")"
      ]
    },
    {
      "cell_type": "code",
      "execution_count": null,
      "id": "79cf64da-3b78-47db-bfae-62278d6b6c47",
      "metadata": {
        "papermill": {
          "duration": null,
          "end_time": null,
          "exception": null,
          "start_time": null,
          "status": "completed"
        },
        "tags": []
      },
      "outputs": [],
      "source": [
        "for concern in range(num_labels):\n",
        "    print(f\"--{concern}--\")\n",
        "    positive_samples = SamplingDataset(\n",
        "        train_dataloader, concern, num_samples, num_labels, True, 4, device=device, resample=False, seed=seed\n",
        "    )\n",
        "    negative_samples = SamplingDataset(\n",
        "        train_dataloader, concern, num_samples, num_labels, False, 4, device=device, resample=False, seed=seed\n",
        "    )\n",
        "    similar(model, module, valid_dataloader, concern, num_samples, num_labels, device=device, seed=seed)"
      ]
    },
    {
      "cell_type": "code",
      "execution_count": null,
      "id": "253d10dd-0664-4a03-9e5a-0b477469a16e",
      "metadata": {
        "papermill": {
          "duration": null,
          "end_time": null,
          "exception": null,
          "start_time": null,
          "status": "completed"
        },
        "tags": []
      },
      "outputs": [],
      "source": [
        "get_sparsity(module)"
      ]
    }
  ],
  "metadata": {
    "kernelspec": {
      "display_name": "Python 3 (ipykernel)",
      "language": "python",
      "name": "python3"
    },
    "language_info": {
      "codemirror_mode": {
        "name": "ipython",
        "version": 3
      },
      "file_extension": ".py",
      "mimetype": "text/x-python",
      "name": "python",
      "nbconvert_exporter": "python",
      "pygments_lexer": "ipython3",
      "version": "3.8.19"
    },
    "papermill": {
      "default_parameters": {},
      "duration": 132.540845,
      "end_time": "2024-08-19T13:52:56.575422",
      "environment_variables": {},
      "exception": null,
      "input_path": "Getting_Started/ipynb/Pruned by magnitude/OSDG/Prune by magnitude(50%).ipynb",
      "output_path": "Getting_Started/ipynb/Pruned by magnitude/OSDG/Prune by magnitude(50%)_saved.ipynb",
      "parameters": {},
      "start_time": "2024-08-19T13:50:44.034577",
      "version": "2.6.0"
    }
  },
  "nbformat": 4,
  "nbformat_minor": 5
}