{
  "cells": [
    {
      "cell_type": "code",
      "execution_count": 1,
      "id": "1e774c0d-6a12-4e09-83b7-52c6be4f5eea",
      "metadata": {
        "execution": {
          "iopub.execute_input": "2024-08-19T13:28:48.862911Z",
          "iopub.status.busy": "2024-08-19T13:28:48.862633Z",
          "iopub.status.idle": "2024-08-19T13:28:48.874631Z",
          "shell.execute_reply": "2024-08-19T13:28:48.873412Z"
        },
        "papermill": {
          "duration": 0.021749,
          "end_time": "2024-08-19T13:28:48.877627",
          "exception": false,
          "start_time": "2024-08-19T13:28:48.855878",
          "status": "completed"
        },
        "tags": []
      },
      "outputs": [],
      "source": [
        "import os\n",
        "import sys\n",
        "sys.path.append(\"../../../../\")\n",
        "os.environ[\"TOKENIZERS_PARALLELISM\"] = \"false\""
      ]
    },
    {
      "cell_type": "code",
      "execution_count": 2,
      "id": "12cdfbbb-c013-4cdd-b770-b640faed45bb",
      "metadata": {
        "execution": {
          "iopub.execute_input": "2024-08-19T13:28:48.890367Z",
          "iopub.status.busy": "2024-08-19T13:28:48.889633Z",
          "iopub.status.idle": "2024-08-19T13:28:50.536107Z",
          "shell.execute_reply": "2024-08-19T13:28:50.535000Z"
        },
        "papermill": {
          "duration": 1.656601,
          "end_time": "2024-08-19T13:28:50.539936",
          "exception": false,
          "start_time": "2024-08-19T13:28:48.883335",
          "status": "completed"
        },
        "tags": []
      },
      "outputs": [],
      "source": [
        "import copy\n",
        "import torch\n",
        "from datetime import datetime\n",
        "from utils.helper import ModelConfig, color_print\n",
        "from utils.dataset_utils.load_dataset import (\n",
        "    load_data,\n",
        ")\n",
        "from utils.model_utils.save_module import save_module\n",
        "from utils.model_utils.load_model import load_model\n",
        "from utils.model_utils.evaluate import evaluate_model, get_sparsity, similar\n",
        "from utils.dataset_utils.sampling import SamplingDataset\n",
        "from utils.prune_utils.prune import (\n",
        "    prune_magnitude\n",
        ")"
      ]
    },
    {
      "cell_type": "code",
      "execution_count": 3,
      "id": "3bbed077-183d-4b34-8d3d-a6dcc1e13267",
      "metadata": {
        "execution": {
          "iopub.execute_input": "2024-08-19T13:28:50.551566Z",
          "iopub.status.busy": "2024-08-19T13:28:50.551250Z",
          "iopub.status.idle": "2024-08-19T13:28:50.556155Z",
          "shell.execute_reply": "2024-08-19T13:28:50.555330Z"
        },
        "papermill": {
          "duration": 0.013567,
          "end_time": "2024-08-19T13:28:50.558821",
          "exception": false,
          "start_time": "2024-08-19T13:28:50.545254",
          "status": "completed"
        },
        "tags": []
      },
      "outputs": [],
      "source": [
        "name= \"IMDB\"\n",
        "device = torch.device(\"cuda:0\")\n",
        "checkpoint = None\n",
        "batch_size=32\n",
        "num_workers=48\n",
        "num_samples=16\n",
        "magnitude_ratio=0.6\n",
        "seed=44\n",
        "include_layers=[\"attention\", \"intermediate\", \"output\"]\n",
        "exclude_layers=None"
      ]
    },
    {
      "cell_type": "code",
      "execution_count": 4,
      "id": "9f784b30-09b2-4e69-8160-5a78a8064c37",
      "metadata": {
        "execution": {
          "iopub.execute_input": "2024-08-19T13:28:50.570622Z",
          "iopub.status.busy": "2024-08-19T13:28:50.569858Z",
          "iopub.status.idle": "2024-08-19T13:28:50.575229Z",
          "shell.execute_reply": "2024-08-19T13:28:50.574337Z"
        },
        "papermill": {
          "duration": 0.014277,
          "end_time": "2024-08-19T13:28:50.577931",
          "exception": false,
          "start_time": "2024-08-19T13:28:50.563654",
          "status": "completed"
        },
        "tags": []
      },
      "outputs": [
        {
          "name": "stdout",
          "output_type": "stream",
          "text": [
            "Script started at: 2024-08-19 22:28:50\n"
          ]
        }
      ],
      "source": [
        "script_start_time = datetime.now()\n",
        "print(f\"Script started at: {script_start_time.strftime('%Y-%m-%d %H:%M:%S')}\")"
      ]
    },
    {
      "cell_type": "code",
      "execution_count": 5,
      "id": "29af739a-e23a-4715-9ff8-473263658ff6",
      "metadata": {
        "execution": {
          "iopub.execute_input": "2024-08-19T13:28:50.589172Z",
          "iopub.status.busy": "2024-08-19T13:28:50.588927Z",
          "iopub.status.idle": "2024-08-19T13:28:53.403767Z",
          "shell.execute_reply": "2024-08-19T13:28:53.402662Z"
        },
        "papermill": {
          "duration": 2.823593,
          "end_time": "2024-08-19T13:28:53.406603",
          "exception": false,
          "start_time": "2024-08-19T13:28:50.583010",
          "status": "completed"
        },
        "tags": []
      },
      "outputs": [
        {
          "name": "stdout",
          "output_type": "stream",
          "text": [
            "Loading the model."
          ]
        },
        {
          "name": "stdout",
          "output_type": "stream",
          "text": [
            "\n"
          ]
        },
        {
          "name": "stdout",
          "output_type": "stream",
          "text": [
            "{'model_name': 'textattack/bert-base-uncased-imdb', 'task_type': 'classification', 'architectures': 'bert', 'dataset_name': 'IMDB', 'num_labels': 2, 'cache_dir': 'Models'}"
          ]
        },
        {
          "name": "stdout",
          "output_type": "stream",
          "text": [
            "\n"
          ]
        },
        {
          "name": "stdout",
          "output_type": "stream",
          "text": [
            "The model textattack/bert-base-uncased-imdb is loaded."
          ]
        },
        {
          "name": "stdout",
          "output_type": "stream",
          "text": [
            "\n"
          ]
        }
      ],
      "source": [
        "model_config = ModelConfig(name, device)\n",
        "num_labels = model_config.config[\"num_labels\"]\n",
        "model, tokenizer, checkpoint = load_model(model_config)"
      ]
    },
    {
      "cell_type": "code",
      "execution_count": 6,
      "id": "788d0f37-7fb7-4603-bac7-34ba01dec4dd",
      "metadata": {
        "execution": {
          "iopub.execute_input": "2024-08-19T13:28:53.423655Z",
          "iopub.status.busy": "2024-08-19T13:28:53.423318Z",
          "iopub.status.idle": "2024-08-19T13:28:58.240029Z",
          "shell.execute_reply": "2024-08-19T13:28:58.239026Z"
        },
        "papermill": {
          "duration": 4.829857,
          "end_time": "2024-08-19T13:28:58.242943",
          "exception": false,
          "start_time": "2024-08-19T13:28:53.413086",
          "status": "completed"
        },
        "tags": []
      },
      "outputs": [
        {
          "name": "stdout",
          "output_type": "stream",
          "text": [
            "{'dataset_name': 'IMDB', 'path': 'imdb', 'config_name': 'plain_text', 'text_column': 'text', 'label_column': 'label', 'cache_dir': 'Datasets/IMDB', 'task_type': 'classification'}"
          ]
        },
        {
          "name": "stdout",
          "output_type": "stream",
          "text": [
            "\n"
          ]
        },
        {
          "name": "stdout",
          "output_type": "stream",
          "text": [
            "Loading cached dataset IMDB."
          ]
        },
        {
          "name": "stdout",
          "output_type": "stream",
          "text": [
            "\n"
          ]
        },
        {
          "name": "stdout",
          "output_type": "stream",
          "text": [
            "The dataset IMDB is loaded"
          ]
        },
        {
          "name": "stdout",
          "output_type": "stream",
          "text": [
            "\n"
          ]
        }
      ],
      "source": [
        "train_dataloader, valid_dataloader, test_dataloader = load_data(\n",
        "    name, batch_size=batch_size, num_workers=num_workers, do_cache=True, seed=seed\n",
        ")"
      ]
    },
    {
      "cell_type": "code",
      "execution_count": 7,
      "id": "ce310921-5107-4950-a7fe-0d90d4f6546b",
      "metadata": {
        "execution": {
          "iopub.execute_input": "2024-08-19T13:28:58.260077Z",
          "iopub.status.busy": "2024-08-19T13:28:58.259885Z",
          "iopub.status.idle": "2024-08-19T13:28:58.265088Z",
          "shell.execute_reply": "2024-08-19T13:28:58.264278Z"
        },
        "papermill": {
          "duration": 0.017861,
          "end_time": "2024-08-19T13:28:58.267643",
          "exception": false,
          "start_time": "2024-08-19T13:28:58.249782",
          "status": "completed"
        },
        "tags": []
      },
      "outputs": [],
      "source": [
        "all_samples = SamplingDataset(\n",
        "    train_dataloader, 200, num_samples, num_labels, False, 4, device=device, resample=False, seed=seed\n",
        ")"
      ]
    },
    {
      "cell_type": "code",
      "execution_count": 8,
      "id": "470d042e-68e8-4b91-916e-4b614e8b2e30",
      "metadata": {
        "execution": {
          "iopub.execute_input": "2024-08-19T13:28:58.282603Z",
          "iopub.status.busy": "2024-08-19T13:28:58.282415Z",
          "iopub.status.idle": "2024-08-19T13:28:58.286176Z",
          "shell.execute_reply": "2024-08-19T13:28:58.285343Z"
        },
        "papermill": {
          "duration": 0.014854,
          "end_time": "2024-08-19T13:28:58.288974",
          "exception": false,
          "start_time": "2024-08-19T13:28:58.274120",
          "status": "completed"
        },
        "tags": []
      },
      "outputs": [],
      "source": [
        "# print(\"Evaluate the original model\")\n",
        "# result = evaluate_model(model, model_config, test_dataloader)"
      ]
    },
    {
      "cell_type": "code",
      "execution_count": 9,
      "id": "13d9e7a0-de42-427f-8d26-02d1740371fa",
      "metadata": {
        "execution": {
          "iopub.execute_input": "2024-08-19T13:28:58.303047Z",
          "iopub.status.busy": "2024-08-19T13:28:58.302857Z",
          "iopub.status.idle": "2024-08-19T13:28:58.307455Z",
          "shell.execute_reply": "2024-08-19T13:28:58.306524Z"
        },
        "papermill": {
          "duration": 0.014943,
          "end_time": "2024-08-19T13:28:58.310393",
          "exception": false,
          "start_time": "2024-08-19T13:28:58.295450",
          "status": "completed"
        },
        "tags": []
      },
      "outputs": [],
      "source": [
        "# Evaluate the original model\n",
        "# Evaluating: 100%|?��?��?��?��?��?��?��?��?��?��?��?��?��?��?��?��?��?��?��?��?��?��?��?��?��?��?��?��?��?��?��?��?��?��?��?��?��?��?��?��?��?��?��?��?��?��?��?��?��?��?��?��?��?��?��?��?��?��?��?��?��?��?��?��?��?��?��?��?��| 782/782 [05:36<00:00,  2.32it/s]\n",
        "# Loss: 0.3423\n",
        "# Precision: 0.9306, Recall: 0.9303, F1-Score: 0.9303\n",
        "#               precision    recall  f1-score   support\n",
        "\n",
        "#            0       0.92      0.94      0.93     12500\n",
        "#            1       0.94      0.92      0.93     12500\n",
        "\n",
        "#     accuracy                           0.93     25000\n",
        "#    macro avg       0.93      0.93      0.93     25000\n",
        "# weighted avg       0.93      0.93      0.93     25000"
      ]
    },
    {
      "cell_type": "code",
      "execution_count": 10,
      "id": "4bc22bf0-2e59-453b-bb1f-46fa5c476fb5",
      "metadata": {
        "execution": {
          "iopub.execute_input": "2024-08-19T13:28:58.326154Z",
          "iopub.status.busy": "2024-08-19T13:28:58.325289Z",
          "iopub.status.idle": "2024-08-19T13:36:20.370443Z",
          "shell.execute_reply": "2024-08-19T13:36:20.369042Z"
        },
        "papermill": {
          "duration": 442.056344,
          "end_time": "2024-08-19T13:36:20.373696",
          "exception": false,
          "start_time": "2024-08-19T13:28:58.317352",
          "status": "completed"
        },
        "tags": []
      },
      "outputs": [
        {
          "name": "stdout",
          "output_type": "stream",
          "text": [
            "Evaluate the pruned model"
          ]
        },
        {
          "name": "stdout",
          "output_type": "stream",
          "text": [
            "\n"
          ]
        },
        {
          "name": "stderr",
          "output_type": "stream",
          "text": [
            "\r",
            "Evaluating:   0%|          | 0/782 [00:00<?, ?it/s]"
          ]
        },
        {
          "name": "stderr",
          "output_type": "stream",
          "text": [
            "\r",
            "Evaluating:   0%|          | 1/782 [00:00<07:11,  1.81it/s]"
          ]
        },
        {
          "name": "stderr",
          "output_type": "stream",
          "text": [
            "\r",
            "Evaluating:   0%|          | 2/782 [00:00<04:37,  2.81it/s]"
          ]
        },
        {
          "name": "stderr",
          "output_type": "stream",
          "text": [
            "\r",
            "Evaluating:   0%|          | 3/782 [00:00<03:48,  3.41it/s]"
          ]
        },
        {
          "name": "stderr",
          "output_type": "stream",
          "text": [
            "\r",
            "Evaluating:   1%|          | 4/782 [00:01<03:25,  3.79it/s]"
          ]
        },
        {
          "name": "stderr",
          "output_type": "stream",
          "text": [
            "\r",
            "Evaluating:   1%|          | 5/782 [00:01<03:12,  4.04it/s]"
          ]
        },
        {
          "name": "stderr",
          "output_type": "stream",
          "text": [
            "\r",
            "Evaluating:   1%|          | 6/782 [00:01<03:04,  4.20it/s]"
          ]
        },
        {
          "name": "stderr",
          "output_type": "stream",
          "text": [
            "\r",
            "Evaluating:   1%|          | 7/782 [00:01<02:59,  4.31it/s]"
          ]
        },
        {
          "name": "stderr",
          "output_type": "stream",
          "text": [
            "\r",
            "Evaluating:   1%|          | 8/782 [00:02<02:56,  4.39it/s]"
          ]
        },
        {
          "name": "stderr",
          "output_type": "stream",
          "text": [
            "\r",
            "Evaluating:   1%|          | 9/782 [00:02<02:53,  4.44it/s]"
          ]
        },
        {
          "name": "stderr",
          "output_type": "stream",
          "text": [
            "\r",
            "Evaluating:   1%|?��         | 10/782 [00:02<02:52,  4.47it/s]"
          ]
        },
        {
          "name": "stderr",
          "output_type": "stream",
          "text": [
            "\r",
            "Evaluating:   1%|?��         | 11/782 [00:02<02:51,  4.49it/s]"
          ]
        },
        {
          "name": "stderr",
          "output_type": "stream",
          "text": [
            "\r",
            "Evaluating:   2%|?��         | 12/782 [00:02<02:50,  4.51it/s]"
          ]
        },
        {
          "name": "stderr",
          "output_type": "stream",
          "text": [
            "\r",
            "Evaluating:   2%|?��         | 13/782 [00:03<02:49,  4.53it/s]"
          ]
        },
        {
          "name": "stderr",
          "output_type": "stream",
          "text": [
            "\r",
            "Evaluating:   2%|?��         | 14/782 [00:03<02:49,  4.53it/s]"
          ]
        },
        {
          "name": "stderr",
          "output_type": "stream",
          "text": [
            "\r",
            "Evaluating:   2%|?��         | 15/782 [00:03<02:49,  4.52it/s]"
          ]
        },
        {
          "name": "stderr",
          "output_type": "stream",
          "text": [
            "\r",
            "Evaluating:   2%|?��         | 16/782 [00:03<02:49,  4.52it/s]"
          ]
        },
        {
          "name": "stderr",
          "output_type": "stream",
          "text": [
            "\r",
            "Evaluating:   2%|?��         | 17/782 [00:04<02:49,  4.53it/s]"
          ]
        },
        {
          "name": "stderr",
          "output_type": "stream",
          "text": [
            "\r",
            "Evaluating:   2%|?��         | 18/782 [00:04<02:48,  4.53it/s]"
          ]
        },
        {
          "name": "stderr",
          "output_type": "stream",
          "text": [
            "\r",
            "Evaluating:   2%|?��         | 19/782 [00:04<02:48,  4.53it/s]"
          ]
        },
        {
          "name": "stderr",
          "output_type": "stream",
          "text": [
            "\r",
            "Evaluating:   3%|?��         | 20/782 [00:04<02:48,  4.53it/s]"
          ]
        },
        {
          "name": "stderr",
          "output_type": "stream",
          "text": [
            "\r",
            "Evaluating:   3%|?��         | 21/782 [00:04<02:47,  4.53it/s]"
          ]
        },
        {
          "name": "stderr",
          "output_type": "stream",
          "text": [
            "\r",
            "Evaluating:   3%|?��         | 22/782 [00:05<02:55,  4.32it/s]"
          ]
        },
        {
          "name": "stderr",
          "output_type": "stream",
          "text": [
            "\r",
            "Evaluating:   3%|?��         | 23/782 [00:05<03:02,  4.16it/s]"
          ]
        },
        {
          "name": "stderr",
          "output_type": "stream",
          "text": [
            "\r",
            "Evaluating:   3%|?��         | 24/782 [00:05<03:06,  4.06it/s]"
          ]
        },
        {
          "name": "stderr",
          "output_type": "stream",
          "text": [
            "\r",
            "Evaluating:   3%|?��         | 25/782 [00:05<03:09,  3.99it/s]"
          ]
        },
        {
          "name": "stderr",
          "output_type": "stream",
          "text": [
            "\r",
            "Evaluating:   3%|?��         | 26/782 [00:06<03:11,  3.94it/s]"
          ]
        },
        {
          "name": "stderr",
          "output_type": "stream",
          "text": [
            "\r",
            "Evaluating:   3%|?��         | 27/782 [00:06<03:12,  3.91it/s]"
          ]
        },
        {
          "name": "stderr",
          "output_type": "stream",
          "text": [
            "\r",
            "Evaluating:   4%|?��         | 28/782 [00:06<03:13,  3.89it/s]"
          ]
        },
        {
          "name": "stderr",
          "output_type": "stream",
          "text": [
            "\r",
            "Evaluating:   4%|?��         | 29/782 [00:07<03:14,  3.87it/s]"
          ]
        },
        {
          "name": "stderr",
          "output_type": "stream",
          "text": [
            "\r",
            "Evaluating:   4%|?��         | 30/782 [00:07<03:14,  3.86it/s]"
          ]
        },
        {
          "name": "stderr",
          "output_type": "stream",
          "text": [
            "\r",
            "Evaluating:   4%|?��         | 31/782 [00:07<03:14,  3.86it/s]"
          ]
        },
        {
          "name": "stderr",
          "output_type": "stream",
          "text": [
            "\r",
            "Evaluating:   4%|?��         | 32/782 [00:07<03:14,  3.86it/s]"
          ]
        },
        {
          "name": "stderr",
          "output_type": "stream",
          "text": [
            "\r",
            "Evaluating:   4%|?��         | 33/782 [00:08<03:14,  3.86it/s]"
          ]
        },
        {
          "name": "stderr",
          "output_type": "stream",
          "text": [
            "\r",
            "Evaluating:   4%|?��         | 34/782 [00:08<03:17,  3.79it/s]"
          ]
        },
        {
          "name": "stderr",
          "output_type": "stream",
          "text": [
            "\r",
            "Evaluating:   4%|?��         | 35/782 [00:08<03:21,  3.71it/s]"
          ]
        },
        {
          "name": "stderr",
          "output_type": "stream",
          "text": [
            "\r",
            "Evaluating:   5%|?��         | 36/782 [00:08<03:26,  3.61it/s]"
          ]
        },
        {
          "name": "stderr",
          "output_type": "stream",
          "text": [
            "\r",
            "Evaluating:   5%|?��         | 37/782 [00:09<03:35,  3.46it/s]"
          ]
        },
        {
          "name": "stderr",
          "output_type": "stream",
          "text": [
            "\r",
            "Evaluating:   5%|?��         | 38/782 [00:09<03:41,  3.36it/s]"
          ]
        },
        {
          "name": "stderr",
          "output_type": "stream",
          "text": [
            "\r",
            "Evaluating:   5%|?��         | 39/782 [00:09<03:46,  3.28it/s]"
          ]
        },
        {
          "name": "stderr",
          "output_type": "stream",
          "text": [
            "\r",
            "Evaluating:   5%|?��         | 40/782 [00:10<03:54,  3.16it/s]"
          ]
        },
        {
          "name": "stderr",
          "output_type": "stream",
          "text": [
            "\r",
            "Evaluating:   5%|?��         | 41/782 [00:10<04:01,  3.07it/s]"
          ]
        },
        {
          "name": "stderr",
          "output_type": "stream",
          "text": [
            "\r",
            "Evaluating:   5%|?��         | 42/782 [00:10<04:06,  3.01it/s]"
          ]
        },
        {
          "name": "stderr",
          "output_type": "stream",
          "text": [
            "\r",
            "Evaluating:   5%|?��         | 43/782 [00:11<04:08,  2.97it/s]"
          ]
        },
        {
          "name": "stderr",
          "output_type": "stream",
          "text": [
            "\r",
            "Evaluating:   6%|?��         | 44/782 [00:11<04:13,  2.91it/s]"
          ]
        },
        {
          "name": "stderr",
          "output_type": "stream",
          "text": [
            "\r",
            "Evaluating:   6%|?��         | 45/782 [00:12<04:24,  2.79it/s]"
          ]
        },
        {
          "name": "stderr",
          "output_type": "stream",
          "text": [
            "\r",
            "Evaluating:   6%|?��         | 46/782 [00:12<04:31,  2.71it/s]"
          ]
        },
        {
          "name": "stderr",
          "output_type": "stream",
          "text": [
            "\r",
            "Evaluating:   6%|?��         | 47/782 [00:12<04:35,  2.66it/s]"
          ]
        },
        {
          "name": "stderr",
          "output_type": "stream",
          "text": [
            "\r",
            "Evaluating:   6%|?��         | 48/782 [00:13<04:38,  2.63it/s]"
          ]
        },
        {
          "name": "stderr",
          "output_type": "stream",
          "text": [
            "\r",
            "Evaluating:   6%|?��         | 49/782 [00:13<04:40,  2.61it/s]"
          ]
        },
        {
          "name": "stderr",
          "output_type": "stream",
          "text": [
            "\r",
            "Evaluating:   6%|?��         | 50/782 [00:13<04:45,  2.57it/s]"
          ]
        },
        {
          "name": "stderr",
          "output_type": "stream",
          "text": [
            "\r",
            "Evaluating:   7%|?��         | 51/782 [00:14<04:52,  2.50it/s]"
          ]
        },
        {
          "name": "stderr",
          "output_type": "stream",
          "text": [
            "\r",
            "Evaluating:   7%|?��         | 52/782 [00:14<04:56,  2.46it/s]"
          ]
        },
        {
          "name": "stderr",
          "output_type": "stream",
          "text": [
            "\r",
            "Evaluating:   7%|?��         | 53/782 [00:15<04:59,  2.44it/s]"
          ]
        },
        {
          "name": "stderr",
          "output_type": "stream",
          "text": [
            "\r",
            "Evaluating:   7%|?��         | 54/782 [00:15<05:01,  2.42it/s]"
          ]
        },
        {
          "name": "stderr",
          "output_type": "stream",
          "text": [
            "\r",
            "Evaluating:   7%|?��         | 55/782 [00:16<05:05,  2.38it/s]"
          ]
        },
        {
          "name": "stderr",
          "output_type": "stream",
          "text": [
            "\r",
            "Evaluating:   7%|?��         | 56/782 [00:16<05:17,  2.29it/s]"
          ]
        },
        {
          "name": "stderr",
          "output_type": "stream",
          "text": [
            "\r",
            "Evaluating:   7%|?��         | 57/782 [00:17<05:25,  2.22it/s]"
          ]
        },
        {
          "name": "stderr",
          "output_type": "stream",
          "text": [
            "\r",
            "Evaluating:   7%|?��         | 58/782 [00:17<05:31,  2.18it/s]"
          ]
        },
        {
          "name": "stderr",
          "output_type": "stream",
          "text": [
            "\r",
            "Evaluating:   8%|?��         | 59/782 [00:18<05:36,  2.15it/s]"
          ]
        },
        {
          "name": "stderr",
          "output_type": "stream",
          "text": [
            "\r",
            "Evaluating:   8%|?��         | 60/782 [00:18<05:38,  2.13it/s]"
          ]
        },
        {
          "name": "stderr",
          "output_type": "stream",
          "text": [
            "\r",
            "Evaluating:   8%|?��         | 61/782 [00:18<05:40,  2.12it/s]"
          ]
        },
        {
          "name": "stderr",
          "output_type": "stream",
          "text": [
            "\r",
            "Evaluating:   8%|?��         | 62/782 [00:19<05:41,  2.11it/s]"
          ]
        },
        {
          "name": "stderr",
          "output_type": "stream",
          "text": [
            "\r",
            "Evaluating:   8%|?��         | 63/782 [00:19<05:42,  2.10it/s]"
          ]
        },
        {
          "name": "stderr",
          "output_type": "stream",
          "text": [
            "\r",
            "Evaluating:   8%|?��         | 64/782 [00:20<05:42,  2.09it/s]"
          ]
        },
        {
          "name": "stderr",
          "output_type": "stream",
          "text": [
            "\r",
            "Evaluating:   8%|?��         | 65/782 [00:20<05:42,  2.09it/s]"
          ]
        },
        {
          "name": "stderr",
          "output_type": "stream",
          "text": [
            "\r",
            "Evaluating:   8%|?��         | 66/782 [00:21<05:42,  2.09it/s]"
          ]
        },
        {
          "name": "stderr",
          "output_type": "stream",
          "text": [
            "\r",
            "Evaluating:   9%|?��         | 67/782 [00:21<05:42,  2.09it/s]"
          ]
        },
        {
          "name": "stderr",
          "output_type": "stream",
          "text": [
            "\r",
            "Evaluating:   9%|?��         | 68/782 [00:22<05:42,  2.09it/s]"
          ]
        },
        {
          "name": "stderr",
          "output_type": "stream",
          "text": [
            "\r",
            "Evaluating:   9%|?��         | 69/782 [00:22<05:41,  2.09it/s]"
          ]
        },
        {
          "name": "stderr",
          "output_type": "stream",
          "text": [
            "\r",
            "Evaluating:   9%|?��         | 70/782 [00:23<05:41,  2.09it/s]"
          ]
        },
        {
          "name": "stderr",
          "output_type": "stream",
          "text": [
            "\r",
            "Evaluating:   9%|?��         | 71/782 [00:23<05:51,  2.02it/s]"
          ]
        },
        {
          "name": "stderr",
          "output_type": "stream",
          "text": [
            "\r",
            "Evaluating:   9%|?��         | 72/782 [00:24<06:01,  1.96it/s]"
          ]
        },
        {
          "name": "stderr",
          "output_type": "stream",
          "text": [
            "\r",
            "Evaluating:   9%|?��         | 73/782 [00:24<06:07,  1.93it/s]"
          ]
        },
        {
          "name": "stderr",
          "output_type": "stream",
          "text": [
            "\r",
            "Evaluating:   9%|?��         | 74/782 [00:25<06:11,  1.90it/s]"
          ]
        },
        {
          "name": "stderr",
          "output_type": "stream",
          "text": [
            "\r",
            "Evaluating:  10%|?��         | 75/782 [00:25<06:14,  1.89it/s]"
          ]
        },
        {
          "name": "stderr",
          "output_type": "stream",
          "text": [
            "\r",
            "Evaluating:  10%|?��         | 76/782 [00:26<06:15,  1.88it/s]"
          ]
        },
        {
          "name": "stderr",
          "output_type": "stream",
          "text": [
            "\r",
            "Evaluating:  10%|?��         | 77/782 [00:27<06:17,  1.87it/s]"
          ]
        },
        {
          "name": "stderr",
          "output_type": "stream",
          "text": [
            "\r",
            "Evaluating:  10%|?��         | 78/782 [00:27<06:17,  1.86it/s]"
          ]
        },
        {
          "name": "stderr",
          "output_type": "stream",
          "text": [
            "\r",
            "Evaluating:  10%|?��         | 79/782 [00:28<06:18,  1.86it/s]"
          ]
        },
        {
          "name": "stderr",
          "output_type": "stream",
          "text": [
            "\r",
            "Evaluating:  10%|?��         | 80/782 [00:28<06:17,  1.86it/s]"
          ]
        },
        {
          "name": "stderr",
          "output_type": "stream",
          "text": [
            "\r",
            "Evaluating:  10%|?��         | 81/782 [00:29<06:18,  1.85it/s]"
          ]
        },
        {
          "name": "stderr",
          "output_type": "stream",
          "text": [
            "\r",
            "Evaluating:  10%|?��         | 82/782 [00:29<06:17,  1.85it/s]"
          ]
        },
        {
          "name": "stderr",
          "output_type": "stream",
          "text": [
            "\r",
            "Evaluating:  11%|?��         | 83/782 [00:30<06:17,  1.85it/s]"
          ]
        },
        {
          "name": "stderr",
          "output_type": "stream",
          "text": [
            "\r",
            "Evaluating:  11%|?��         | 84/782 [00:30<06:17,  1.85it/s]"
          ]
        },
        {
          "name": "stderr",
          "output_type": "stream",
          "text": [
            "\r",
            "Evaluating:  11%|?��         | 85/782 [00:31<06:17,  1.85it/s]"
          ]
        },
        {
          "name": "stderr",
          "output_type": "stream",
          "text": [
            "\r",
            "Evaluating:  11%|?��         | 86/782 [00:31<06:17,  1.85it/s]"
          ]
        },
        {
          "name": "stderr",
          "output_type": "stream",
          "text": [
            "\r",
            "Evaluating:  11%|?��         | 87/782 [00:32<06:16,  1.85it/s]"
          ]
        },
        {
          "name": "stderr",
          "output_type": "stream",
          "text": [
            "\r",
            "Evaluating:  11%|?��?��        | 88/782 [00:33<06:16,  1.84it/s]"
          ]
        },
        {
          "name": "stderr",
          "output_type": "stream",
          "text": [
            "\r",
            "Evaluating:  11%|?��?��        | 89/782 [00:33<06:15,  1.85it/s]"
          ]
        },
        {
          "name": "stderr",
          "output_type": "stream",
          "text": [
            "\r",
            "Evaluating:  12%|?��?��        | 90/782 [00:34<06:14,  1.85it/s]"
          ]
        },
        {
          "name": "stderr",
          "output_type": "stream",
          "text": [
            "\r",
            "Evaluating:  12%|?��?��        | 91/782 [00:34<06:12,  1.85it/s]"
          ]
        },
        {
          "name": "stderr",
          "output_type": "stream",
          "text": [
            "\r",
            "Evaluating:  12%|?��?��        | 92/782 [00:35<06:11,  1.86it/s]"
          ]
        },
        {
          "name": "stderr",
          "output_type": "stream",
          "text": [
            "\r",
            "Evaluating:  12%|?��?��        | 93/782 [00:35<06:11,  1.85it/s]"
          ]
        },
        {
          "name": "stderr",
          "output_type": "stream",
          "text": [
            "\r",
            "Evaluating:  12%|?��?��        | 94/782 [00:36<06:11,  1.85it/s]"
          ]
        },
        {
          "name": "stderr",
          "output_type": "stream",
          "text": [
            "\r",
            "Evaluating:  12%|?��?��        | 95/782 [00:36<06:10,  1.85it/s]"
          ]
        },
        {
          "name": "stderr",
          "output_type": "stream",
          "text": [
            "\r",
            "Evaluating:  12%|?��?��        | 96/782 [00:37<06:10,  1.85it/s]"
          ]
        },
        {
          "name": "stderr",
          "output_type": "stream",
          "text": [
            "\r",
            "Evaluating:  12%|?��?��        | 97/782 [00:37<06:09,  1.85it/s]"
          ]
        },
        {
          "name": "stderr",
          "output_type": "stream",
          "text": [
            "\r",
            "Evaluating:  13%|?��?��        | 98/782 [00:38<06:09,  1.85it/s]"
          ]
        },
        {
          "name": "stderr",
          "output_type": "stream",
          "text": [
            "\r",
            "Evaluating:  13%|?��?��        | 99/782 [00:38<06:08,  1.85it/s]"
          ]
        },
        {
          "name": "stderr",
          "output_type": "stream",
          "text": [
            "\r",
            "Evaluating:  13%|?��?��        | 100/782 [00:39<06:08,  1.85it/s]"
          ]
        },
        {
          "name": "stderr",
          "output_type": "stream",
          "text": [
            "\r",
            "Evaluating:  13%|?��?��        | 101/782 [00:40<06:08,  1.85it/s]"
          ]
        },
        {
          "name": "stderr",
          "output_type": "stream",
          "text": [
            "\r",
            "Evaluating:  13%|?��?��        | 102/782 [00:40<06:07,  1.85it/s]"
          ]
        },
        {
          "name": "stderr",
          "output_type": "stream",
          "text": [
            "\r",
            "Evaluating:  13%|?��?��        | 103/782 [00:41<06:06,  1.85it/s]"
          ]
        },
        {
          "name": "stderr",
          "output_type": "stream",
          "text": [
            "\r",
            "Evaluating:  13%|?��?��        | 104/782 [00:41<06:06,  1.85it/s]"
          ]
        },
        {
          "name": "stderr",
          "output_type": "stream",
          "text": [
            "\r",
            "Evaluating:  13%|?��?��        | 105/782 [00:42<06:05,  1.85it/s]"
          ]
        },
        {
          "name": "stderr",
          "output_type": "stream",
          "text": [
            "\r",
            "Evaluating:  14%|?��?��        | 106/782 [00:42<06:05,  1.85it/s]"
          ]
        },
        {
          "name": "stderr",
          "output_type": "stream",
          "text": [
            "\r",
            "Evaluating:  14%|?��?��        | 107/782 [00:43<06:04,  1.85it/s]"
          ]
        },
        {
          "name": "stderr",
          "output_type": "stream",
          "text": [
            "\r",
            "Evaluating:  14%|?��?��        | 108/782 [00:43<06:04,  1.85it/s]"
          ]
        },
        {
          "name": "stderr",
          "output_type": "stream",
          "text": [
            "\r",
            "Evaluating:  14%|?��?��        | 109/782 [00:44<06:03,  1.85it/s]"
          ]
        },
        {
          "name": "stderr",
          "output_type": "stream",
          "text": [
            "\r",
            "Evaluating:  14%|?��?��        | 110/782 [00:44<06:03,  1.85it/s]"
          ]
        },
        {
          "name": "stderr",
          "output_type": "stream",
          "text": [
            "\r",
            "Evaluating:  14%|?��?��        | 111/782 [00:45<06:03,  1.84it/s]"
          ]
        },
        {
          "name": "stderr",
          "output_type": "stream",
          "text": [
            "\r",
            "Evaluating:  14%|?��?��        | 112/782 [00:45<06:02,  1.85it/s]"
          ]
        },
        {
          "name": "stderr",
          "output_type": "stream",
          "text": [
            "\r",
            "Evaluating:  14%|?��?��        | 113/782 [00:46<06:02,  1.85it/s]"
          ]
        },
        {
          "name": "stderr",
          "output_type": "stream",
          "text": [
            "\r",
            "Evaluating:  15%|?��?��        | 114/782 [00:47<06:02,  1.84it/s]"
          ]
        },
        {
          "name": "stderr",
          "output_type": "stream",
          "text": [
            "\r",
            "Evaluating:  15%|?��?��        | 115/782 [00:47<06:01,  1.85it/s]"
          ]
        },
        {
          "name": "stderr",
          "output_type": "stream",
          "text": [
            "\r",
            "Evaluating:  15%|?��?��        | 116/782 [00:48<06:00,  1.85it/s]"
          ]
        },
        {
          "name": "stderr",
          "output_type": "stream",
          "text": [
            "\r",
            "Evaluating:  15%|?��?��        | 117/782 [00:48<05:59,  1.85it/s]"
          ]
        },
        {
          "name": "stderr",
          "output_type": "stream",
          "text": [
            "\r",
            "Evaluating:  15%|?��?��        | 118/782 [00:49<05:58,  1.85it/s]"
          ]
        },
        {
          "name": "stderr",
          "output_type": "stream",
          "text": [
            "\r",
            "Evaluating:  15%|?��?��        | 119/782 [00:49<05:57,  1.85it/s]"
          ]
        },
        {
          "name": "stderr",
          "output_type": "stream",
          "text": [
            "\r",
            "Evaluating:  15%|?��?��        | 120/782 [00:50<05:57,  1.85it/s]"
          ]
        },
        {
          "name": "stderr",
          "output_type": "stream",
          "text": [
            "\r",
            "Evaluating:  15%|?��?��        | 121/782 [00:50<05:57,  1.85it/s]"
          ]
        },
        {
          "name": "stderr",
          "output_type": "stream",
          "text": [
            "\r",
            "Evaluating:  16%|?��?��        | 122/782 [00:51<05:56,  1.85it/s]"
          ]
        },
        {
          "name": "stderr",
          "output_type": "stream",
          "text": [
            "\r",
            "Evaluating:  16%|?��?��        | 123/782 [00:51<05:56,  1.85it/s]"
          ]
        },
        {
          "name": "stderr",
          "output_type": "stream",
          "text": [
            "\r",
            "Evaluating:  16%|?��?��        | 124/782 [00:52<05:55,  1.85it/s]"
          ]
        },
        {
          "name": "stderr",
          "output_type": "stream",
          "text": [
            "\r",
            "Evaluating:  16%|?��?��        | 125/782 [00:53<05:56,  1.84it/s]"
          ]
        },
        {
          "name": "stderr",
          "output_type": "stream",
          "text": [
            "\r",
            "Evaluating:  16%|?��?��        | 126/782 [00:53<05:55,  1.84it/s]"
          ]
        },
        {
          "name": "stderr",
          "output_type": "stream",
          "text": [
            "\r",
            "Evaluating:  16%|?��?��        | 127/782 [00:54<05:55,  1.84it/s]"
          ]
        },
        {
          "name": "stderr",
          "output_type": "stream",
          "text": [
            "\r",
            "Evaluating:  16%|?��?��        | 128/782 [00:54<05:55,  1.84it/s]"
          ]
        },
        {
          "name": "stderr",
          "output_type": "stream",
          "text": [
            "\r",
            "Evaluating:  16%|?��?��        | 129/782 [00:55<05:54,  1.84it/s]"
          ]
        },
        {
          "name": "stderr",
          "output_type": "stream",
          "text": [
            "\r",
            "Evaluating:  17%|?��?��        | 130/782 [00:55<05:54,  1.84it/s]"
          ]
        },
        {
          "name": "stderr",
          "output_type": "stream",
          "text": [
            "\r",
            "Evaluating:  17%|?��?��        | 131/782 [00:56<05:53,  1.84it/s]"
          ]
        },
        {
          "name": "stderr",
          "output_type": "stream",
          "text": [
            "\r",
            "Evaluating:  17%|?��?��        | 132/782 [00:56<05:52,  1.84it/s]"
          ]
        },
        {
          "name": "stderr",
          "output_type": "stream",
          "text": [
            "\r",
            "Evaluating:  17%|?��?��        | 133/782 [00:57<05:52,  1.84it/s]"
          ]
        },
        {
          "name": "stderr",
          "output_type": "stream",
          "text": [
            "\r",
            "Evaluating:  17%|?��?��        | 134/782 [00:57<05:52,  1.84it/s]"
          ]
        },
        {
          "name": "stderr",
          "output_type": "stream",
          "text": [
            "\r",
            "Evaluating:  17%|?��?��        | 135/782 [00:58<05:51,  1.84it/s]"
          ]
        },
        {
          "name": "stderr",
          "output_type": "stream",
          "text": [
            "\r",
            "Evaluating:  17%|?��?��        | 136/782 [00:59<05:51,  1.84it/s]"
          ]
        },
        {
          "name": "stderr",
          "output_type": "stream",
          "text": [
            "\r",
            "Evaluating:  18%|?��?��        | 137/782 [00:59<05:50,  1.84it/s]"
          ]
        },
        {
          "name": "stderr",
          "output_type": "stream",
          "text": [
            "\r",
            "Evaluating:  18%|?��?��        | 138/782 [01:00<05:50,  1.84it/s]"
          ]
        },
        {
          "name": "stderr",
          "output_type": "stream",
          "text": [
            "\r",
            "Evaluating:  18%|?��?��        | 139/782 [01:00<05:49,  1.84it/s]"
          ]
        },
        {
          "name": "stderr",
          "output_type": "stream",
          "text": [
            "\r",
            "Evaluating:  18%|?��?��        | 140/782 [01:01<05:48,  1.84it/s]"
          ]
        },
        {
          "name": "stderr",
          "output_type": "stream",
          "text": [
            "\r",
            "Evaluating:  18%|?��?��        | 141/782 [01:01<05:47,  1.84it/s]"
          ]
        },
        {
          "name": "stderr",
          "output_type": "stream",
          "text": [
            "\r",
            "Evaluating:  18%|?��?��        | 142/782 [01:02<05:47,  1.84it/s]"
          ]
        },
        {
          "name": "stderr",
          "output_type": "stream",
          "text": [
            "\r",
            "Evaluating:  18%|?��?��        | 143/782 [01:02<05:47,  1.84it/s]"
          ]
        },
        {
          "name": "stderr",
          "output_type": "stream",
          "text": [
            "\r",
            "Evaluating:  18%|?��?��        | 144/782 [01:03<05:46,  1.84it/s]"
          ]
        },
        {
          "name": "stderr",
          "output_type": "stream",
          "text": [
            "\r",
            "Evaluating:  19%|?��?��        | 145/782 [01:03<05:45,  1.84it/s]"
          ]
        },
        {
          "name": "stderr",
          "output_type": "stream",
          "text": [
            "\r",
            "Evaluating:  19%|?��?��        | 146/782 [01:04<05:45,  1.84it/s]"
          ]
        },
        {
          "name": "stderr",
          "output_type": "stream",
          "text": [
            "\r",
            "Evaluating:  19%|?��?��        | 147/782 [01:04<05:44,  1.84it/s]"
          ]
        },
        {
          "name": "stderr",
          "output_type": "stream",
          "text": [
            "\r",
            "Evaluating:  19%|?��?��        | 148/782 [01:05<05:44,  1.84it/s]"
          ]
        },
        {
          "name": "stderr",
          "output_type": "stream",
          "text": [
            "\r",
            "Evaluating:  19%|?��?��        | 149/782 [01:06<05:43,  1.84it/s]"
          ]
        },
        {
          "name": "stderr",
          "output_type": "stream",
          "text": [
            "\r",
            "Evaluating:  19%|?��?��        | 150/782 [01:06<05:43,  1.84it/s]"
          ]
        },
        {
          "name": "stderr",
          "output_type": "stream",
          "text": [
            "\r",
            "Evaluating:  19%|?��?��        | 151/782 [01:07<05:42,  1.84it/s]"
          ]
        },
        {
          "name": "stderr",
          "output_type": "stream",
          "text": [
            "\r",
            "Evaluating:  19%|?��?��        | 152/782 [01:07<05:41,  1.84it/s]"
          ]
        },
        {
          "name": "stderr",
          "output_type": "stream",
          "text": [
            "\r",
            "Evaluating:  20%|?��?��        | 153/782 [01:08<05:47,  1.81it/s]"
          ]
        },
        {
          "name": "stderr",
          "output_type": "stream",
          "text": [
            "\r",
            "Evaluating:  20%|?��?��        | 154/782 [01:08<06:02,  1.73it/s]"
          ]
        },
        {
          "name": "stderr",
          "output_type": "stream",
          "text": [
            "\r",
            "Evaluating:  20%|?��?��        | 155/782 [01:09<06:12,  1.68it/s]"
          ]
        },
        {
          "name": "stderr",
          "output_type": "stream",
          "text": [
            "\r",
            "Evaluating:  20%|?��?��        | 156/782 [01:10<06:19,  1.65it/s]"
          ]
        },
        {
          "name": "stderr",
          "output_type": "stream",
          "text": [
            "\r",
            "Evaluating:  20%|?��?��        | 157/782 [01:10<06:22,  1.63it/s]"
          ]
        },
        {
          "name": "stderr",
          "output_type": "stream",
          "text": [
            "\r",
            "Evaluating:  20%|?��?��        | 158/782 [01:11<06:25,  1.62it/s]"
          ]
        },
        {
          "name": "stderr",
          "output_type": "stream",
          "text": [
            "\r",
            "Evaluating:  20%|?��?��        | 159/782 [01:12<06:27,  1.61it/s]"
          ]
        },
        {
          "name": "stderr",
          "output_type": "stream",
          "text": [
            "\r",
            "Evaluating:  20%|?��?��        | 160/782 [01:12<06:28,  1.60it/s]"
          ]
        },
        {
          "name": "stderr",
          "output_type": "stream",
          "text": [
            "\r",
            "Evaluating:  21%|?��?��        | 161/782 [01:13<06:28,  1.60it/s]"
          ]
        },
        {
          "name": "stderr",
          "output_type": "stream",
          "text": [
            "\r",
            "Evaluating:  21%|?��?��        | 162/782 [01:13<06:27,  1.60it/s]"
          ]
        },
        {
          "name": "stderr",
          "output_type": "stream",
          "text": [
            "\r",
            "Evaluating:  21%|?��?��        | 163/782 [01:14<06:27,  1.60it/s]"
          ]
        },
        {
          "name": "stderr",
          "output_type": "stream",
          "text": [
            "\r",
            "Evaluating:  21%|?��?��        | 164/782 [01:15<06:27,  1.59it/s]"
          ]
        },
        {
          "name": "stderr",
          "output_type": "stream",
          "text": [
            "\r",
            "Evaluating:  21%|?��?��        | 165/782 [01:15<06:27,  1.59it/s]"
          ]
        },
        {
          "name": "stderr",
          "output_type": "stream",
          "text": [
            "\r",
            "Evaluating:  21%|?��?��        | 166/782 [01:16<06:26,  1.60it/s]"
          ]
        },
        {
          "name": "stderr",
          "output_type": "stream",
          "text": [
            "\r",
            "Evaluating:  21%|?��?��?��       | 167/782 [01:17<06:26,  1.59it/s]"
          ]
        },
        {
          "name": "stderr",
          "output_type": "stream",
          "text": [
            "\r",
            "Evaluating:  21%|?��?��?��       | 168/782 [01:17<06:25,  1.59it/s]"
          ]
        },
        {
          "name": "stderr",
          "output_type": "stream",
          "text": [
            "\r",
            "Evaluating:  22%|?��?��?��       | 169/782 [01:18<06:24,  1.60it/s]"
          ]
        },
        {
          "name": "stderr",
          "output_type": "stream",
          "text": [
            "\r",
            "Evaluating:  22%|?��?��?��       | 170/782 [01:18<06:23,  1.60it/s]"
          ]
        },
        {
          "name": "stderr",
          "output_type": "stream",
          "text": [
            "\r",
            "Evaluating:  22%|?��?��?��       | 171/782 [01:19<06:23,  1.59it/s]"
          ]
        },
        {
          "name": "stderr",
          "output_type": "stream",
          "text": [
            "\r",
            "Evaluating:  22%|?��?��?��       | 172/782 [01:20<06:23,  1.59it/s]"
          ]
        },
        {
          "name": "stderr",
          "output_type": "stream",
          "text": [
            "\r",
            "Evaluating:  22%|?��?��?��       | 173/782 [01:20<06:23,  1.59it/s]"
          ]
        },
        {
          "name": "stderr",
          "output_type": "stream",
          "text": [
            "\r",
            "Evaluating:  22%|?��?��?��       | 174/782 [01:21<06:22,  1.59it/s]"
          ]
        },
        {
          "name": "stderr",
          "output_type": "stream",
          "text": [
            "\r",
            "Evaluating:  22%|?��?��?��       | 175/782 [01:22<06:22,  1.59it/s]"
          ]
        },
        {
          "name": "stderr",
          "output_type": "stream",
          "text": [
            "\r",
            "Evaluating:  23%|?��?��?��       | 176/782 [01:22<06:21,  1.59it/s]"
          ]
        },
        {
          "name": "stderr",
          "output_type": "stream",
          "text": [
            "\r",
            "Evaluating:  23%|?��?��?��       | 177/782 [01:23<06:21,  1.59it/s]"
          ]
        },
        {
          "name": "stderr",
          "output_type": "stream",
          "text": [
            "\r",
            "Evaluating:  23%|?��?��?��       | 178/782 [01:24<06:21,  1.58it/s]"
          ]
        },
        {
          "name": "stderr",
          "output_type": "stream",
          "text": [
            "\r",
            "Evaluating:  23%|?��?��?��       | 179/782 [01:24<06:19,  1.59it/s]"
          ]
        },
        {
          "name": "stderr",
          "output_type": "stream",
          "text": [
            "\r",
            "Evaluating:  23%|?��?��?��       | 180/782 [01:25<06:19,  1.59it/s]"
          ]
        },
        {
          "name": "stderr",
          "output_type": "stream",
          "text": [
            "\r",
            "Evaluating:  23%|?��?��?��       | 181/782 [01:25<06:18,  1.59it/s]"
          ]
        },
        {
          "name": "stderr",
          "output_type": "stream",
          "text": [
            "\r",
            "Evaluating:  23%|?��?��?��       | 182/782 [01:26<06:17,  1.59it/s]"
          ]
        },
        {
          "name": "stderr",
          "output_type": "stream",
          "text": [
            "\r",
            "Evaluating:  23%|?��?��?��       | 183/782 [01:27<06:16,  1.59it/s]"
          ]
        },
        {
          "name": "stderr",
          "output_type": "stream",
          "text": [
            "\r",
            "Evaluating:  24%|?��?��?��       | 184/782 [01:27<06:15,  1.59it/s]"
          ]
        },
        {
          "name": "stderr",
          "output_type": "stream",
          "text": [
            "\r",
            "Evaluating:  24%|?��?��?��       | 185/782 [01:28<06:15,  1.59it/s]"
          ]
        },
        {
          "name": "stderr",
          "output_type": "stream",
          "text": [
            "\r",
            "Evaluating:  24%|?��?��?��       | 186/782 [01:29<06:14,  1.59it/s]"
          ]
        },
        {
          "name": "stderr",
          "output_type": "stream",
          "text": [
            "\r",
            "Evaluating:  24%|?��?��?��       | 187/782 [01:29<06:14,  1.59it/s]"
          ]
        },
        {
          "name": "stderr",
          "output_type": "stream",
          "text": [
            "\r",
            "Evaluating:  24%|?��?��?��       | 188/782 [01:30<06:13,  1.59it/s]"
          ]
        },
        {
          "name": "stderr",
          "output_type": "stream",
          "text": [
            "\r",
            "Evaluating:  24%|?��?��?��       | 189/782 [01:30<06:12,  1.59it/s]"
          ]
        },
        {
          "name": "stderr",
          "output_type": "stream",
          "text": [
            "\r",
            "Evaluating:  24%|?��?��?��       | 190/782 [01:31<06:11,  1.59it/s]"
          ]
        },
        {
          "name": "stderr",
          "output_type": "stream",
          "text": [
            "\r",
            "Evaluating:  24%|?��?��?��       | 191/782 [01:32<06:11,  1.59it/s]"
          ]
        },
        {
          "name": "stderr",
          "output_type": "stream",
          "text": [
            "\r",
            "Evaluating:  25%|?��?��?��       | 192/782 [01:32<06:11,  1.59it/s]"
          ]
        },
        {
          "name": "stderr",
          "output_type": "stream",
          "text": [
            "\r",
            "Evaluating:  25%|?��?��?��       | 193/782 [01:33<06:10,  1.59it/s]"
          ]
        },
        {
          "name": "stderr",
          "output_type": "stream",
          "text": [
            "\r",
            "Evaluating:  25%|?��?��?��       | 194/782 [01:34<06:09,  1.59it/s]"
          ]
        },
        {
          "name": "stderr",
          "output_type": "stream",
          "text": [
            "\r",
            "Evaluating:  25%|?��?��?��       | 195/782 [01:34<06:08,  1.59it/s]"
          ]
        },
        {
          "name": "stderr",
          "output_type": "stream",
          "text": [
            "\r",
            "Evaluating:  25%|?��?��?��       | 196/782 [01:35<06:07,  1.59it/s]"
          ]
        },
        {
          "name": "stderr",
          "output_type": "stream",
          "text": [
            "\r",
            "Evaluating:  25%|?��?��?��       | 197/782 [01:35<06:06,  1.59it/s]"
          ]
        },
        {
          "name": "stderr",
          "output_type": "stream",
          "text": [
            "\r",
            "Evaluating:  25%|?��?��?��       | 198/782 [01:36<06:05,  1.60it/s]"
          ]
        },
        {
          "name": "stderr",
          "output_type": "stream",
          "text": [
            "\r",
            "Evaluating:  25%|?��?��?��       | 199/782 [01:37<06:04,  1.60it/s]"
          ]
        },
        {
          "name": "stderr",
          "output_type": "stream",
          "text": [
            "\r",
            "Evaluating:  26%|?��?��?��       | 200/782 [01:37<06:04,  1.60it/s]"
          ]
        },
        {
          "name": "stderr",
          "output_type": "stream",
          "text": [
            "\r",
            "Evaluating:  26%|?��?��?��       | 201/782 [01:38<06:03,  1.60it/s]"
          ]
        },
        {
          "name": "stderr",
          "output_type": "stream",
          "text": [
            "\r",
            "Evaluating:  26%|?��?��?��       | 202/782 [01:39<06:02,  1.60it/s]"
          ]
        },
        {
          "name": "stderr",
          "output_type": "stream",
          "text": [
            "\r",
            "Evaluating:  26%|?��?��?��       | 203/782 [01:39<06:02,  1.60it/s]"
          ]
        },
        {
          "name": "stderr",
          "output_type": "stream",
          "text": [
            "\r",
            "Evaluating:  26%|?��?��?��       | 204/782 [01:40<06:01,  1.60it/s]"
          ]
        },
        {
          "name": "stderr",
          "output_type": "stream",
          "text": [
            "\r",
            "Evaluating:  26%|?��?��?��       | 205/782 [01:40<06:01,  1.60it/s]"
          ]
        },
        {
          "name": "stderr",
          "output_type": "stream",
          "text": [
            "\r",
            "Evaluating:  26%|?��?��?��       | 206/782 [01:41<06:00,  1.60it/s]"
          ]
        },
        {
          "name": "stderr",
          "output_type": "stream",
          "text": [
            "\r",
            "Evaluating:  26%|?��?��?��       | 207/782 [01:42<05:59,  1.60it/s]"
          ]
        },
        {
          "name": "stderr",
          "output_type": "stream",
          "text": [
            "\r",
            "Evaluating:  27%|?��?��?��       | 208/782 [01:42<05:58,  1.60it/s]"
          ]
        },
        {
          "name": "stderr",
          "output_type": "stream",
          "text": [
            "\r",
            "Evaluating:  27%|?��?��?��       | 209/782 [01:43<05:58,  1.60it/s]"
          ]
        },
        {
          "name": "stderr",
          "output_type": "stream",
          "text": [
            "\r",
            "Evaluating:  27%|?��?��?��       | 210/782 [01:44<05:57,  1.60it/s]"
          ]
        },
        {
          "name": "stderr",
          "output_type": "stream",
          "text": [
            "\r",
            "Evaluating:  27%|?��?��?��       | 211/782 [01:44<05:56,  1.60it/s]"
          ]
        },
        {
          "name": "stderr",
          "output_type": "stream",
          "text": [
            "\r",
            "Evaluating:  27%|?��?��?��       | 212/782 [01:45<05:56,  1.60it/s]"
          ]
        },
        {
          "name": "stderr",
          "output_type": "stream",
          "text": [
            "\r",
            "Evaluating:  27%|?��?��?��       | 213/782 [01:45<05:55,  1.60it/s]"
          ]
        },
        {
          "name": "stderr",
          "output_type": "stream",
          "text": [
            "\r",
            "Evaluating:  27%|?��?��?��       | 214/782 [01:46<05:54,  1.60it/s]"
          ]
        },
        {
          "name": "stderr",
          "output_type": "stream",
          "text": [
            "\r",
            "Evaluating:  27%|?��?��?��       | 215/782 [01:47<05:54,  1.60it/s]"
          ]
        },
        {
          "name": "stderr",
          "output_type": "stream",
          "text": [
            "\r",
            "Evaluating:  28%|?��?��?��       | 216/782 [01:47<05:54,  1.60it/s]"
          ]
        },
        {
          "name": "stderr",
          "output_type": "stream",
          "text": [
            "\r",
            "Evaluating:  28%|?��?��?��       | 217/782 [01:48<05:53,  1.60it/s]"
          ]
        },
        {
          "name": "stderr",
          "output_type": "stream",
          "text": [
            "\r",
            "Evaluating:  28%|?��?��?��       | 218/782 [01:49<05:53,  1.60it/s]"
          ]
        },
        {
          "name": "stderr",
          "output_type": "stream",
          "text": [
            "\r",
            "Evaluating:  28%|?��?��?��       | 219/782 [01:49<05:52,  1.60it/s]"
          ]
        },
        {
          "name": "stderr",
          "output_type": "stream",
          "text": [
            "\r",
            "Evaluating:  28%|?��?��?��       | 220/782 [01:50<05:51,  1.60it/s]"
          ]
        },
        {
          "name": "stderr",
          "output_type": "stream",
          "text": [
            "\r",
            "Evaluating:  28%|?��?��?��       | 221/782 [01:50<05:51,  1.60it/s]"
          ]
        },
        {
          "name": "stderr",
          "output_type": "stream",
          "text": [
            "\r",
            "Evaluating:  28%|?��?��?��       | 222/782 [01:51<05:50,  1.60it/s]"
          ]
        },
        {
          "name": "stderr",
          "output_type": "stream",
          "text": [
            "\r",
            "Evaluating:  29%|?��?��?��       | 223/782 [01:52<05:49,  1.60it/s]"
          ]
        },
        {
          "name": "stderr",
          "output_type": "stream",
          "text": [
            "\r",
            "Evaluating:  29%|?��?��?��       | 224/782 [01:52<05:48,  1.60it/s]"
          ]
        },
        {
          "name": "stderr",
          "output_type": "stream",
          "text": [
            "\r",
            "Evaluating:  29%|?��?��?��       | 225/782 [01:53<05:48,  1.60it/s]"
          ]
        },
        {
          "name": "stderr",
          "output_type": "stream",
          "text": [
            "\r",
            "Evaluating:  29%|?��?��?��       | 226/782 [01:54<05:48,  1.60it/s]"
          ]
        },
        {
          "name": "stderr",
          "output_type": "stream",
          "text": [
            "\r",
            "Evaluating:  29%|?��?��?��       | 227/782 [01:54<05:47,  1.60it/s]"
          ]
        },
        {
          "name": "stderr",
          "output_type": "stream",
          "text": [
            "\r",
            "Evaluating:  29%|?��?��?��       | 228/782 [01:55<05:38,  1.64it/s]"
          ]
        },
        {
          "name": "stderr",
          "output_type": "stream",
          "text": [
            "\r",
            "Evaluating:  29%|?��?��?��       | 229/782 [01:55<05:31,  1.67it/s]"
          ]
        },
        {
          "name": "stderr",
          "output_type": "stream",
          "text": [
            "\r",
            "Evaluating:  29%|?��?��?��       | 230/782 [01:56<05:24,  1.70it/s]"
          ]
        },
        {
          "name": "stderr",
          "output_type": "stream",
          "text": [
            "\r",
            "Evaluating:  30%|?��?��?��       | 231/782 [01:56<05:21,  1.72it/s]"
          ]
        },
        {
          "name": "stderr",
          "output_type": "stream",
          "text": [
            "\r",
            "Evaluating:  30%|?��?��?��       | 232/782 [01:57<05:18,  1.73it/s]"
          ]
        },
        {
          "name": "stderr",
          "output_type": "stream",
          "text": [
            "\r",
            "Evaluating:  30%|?��?��?��       | 233/782 [01:58<05:15,  1.74it/s]"
          ]
        },
        {
          "name": "stderr",
          "output_type": "stream",
          "text": [
            "\r",
            "Evaluating:  30%|?��?��?��       | 234/782 [01:58<05:14,  1.74it/s]"
          ]
        },
        {
          "name": "stderr",
          "output_type": "stream",
          "text": [
            "\r",
            "Evaluating:  30%|?��?��?��       | 235/782 [01:59<05:13,  1.75it/s]"
          ]
        },
        {
          "name": "stderr",
          "output_type": "stream",
          "text": [
            "\r",
            "Evaluating:  30%|?��?��?��       | 236/782 [01:59<05:12,  1.75it/s]"
          ]
        },
        {
          "name": "stderr",
          "output_type": "stream",
          "text": [
            "\r",
            "Evaluating:  30%|?��?��?��       | 237/782 [02:00<05:11,  1.75it/s]"
          ]
        },
        {
          "name": "stderr",
          "output_type": "stream",
          "text": [
            "\r",
            "Evaluating:  30%|?��?��?��       | 238/782 [02:00<05:11,  1.75it/s]"
          ]
        },
        {
          "name": "stderr",
          "output_type": "stream",
          "text": [
            "\r",
            "Evaluating:  31%|?��?��?��       | 239/782 [02:01<05:10,  1.75it/s]"
          ]
        },
        {
          "name": "stderr",
          "output_type": "stream",
          "text": [
            "\r",
            "Evaluating:  31%|?��?��?��       | 240/782 [02:02<05:09,  1.75it/s]"
          ]
        },
        {
          "name": "stderr",
          "output_type": "stream",
          "text": [
            "\r",
            "Evaluating:  31%|?��?��?��       | 241/782 [02:02<05:08,  1.75it/s]"
          ]
        },
        {
          "name": "stderr",
          "output_type": "stream",
          "text": [
            "\r",
            "Evaluating:  31%|?��?��?��       | 242/782 [02:03<05:08,  1.75it/s]"
          ]
        },
        {
          "name": "stderr",
          "output_type": "stream",
          "text": [
            "\r",
            "Evaluating:  31%|?��?��?��       | 243/782 [02:03<05:08,  1.75it/s]"
          ]
        },
        {
          "name": "stderr",
          "output_type": "stream",
          "text": [
            "\r",
            "Evaluating:  31%|?��?��?��       | 244/782 [02:04<05:08,  1.75it/s]"
          ]
        },
        {
          "name": "stderr",
          "output_type": "stream",
          "text": [
            "\r",
            "Evaluating:  31%|?��?��?��?��      | 245/782 [02:04<05:07,  1.75it/s]"
          ]
        },
        {
          "name": "stderr",
          "output_type": "stream",
          "text": [
            "\r",
            "Evaluating:  31%|?��?��?��?��      | 246/782 [02:05<05:07,  1.75it/s]"
          ]
        },
        {
          "name": "stderr",
          "output_type": "stream",
          "text": [
            "\r",
            "Evaluating:  32%|?��?��?��?��      | 247/782 [02:06<05:06,  1.75it/s]"
          ]
        },
        {
          "name": "stderr",
          "output_type": "stream",
          "text": [
            "\r",
            "Evaluating:  32%|?��?��?��?��      | 248/782 [02:06<05:05,  1.75it/s]"
          ]
        },
        {
          "name": "stderr",
          "output_type": "stream",
          "text": [
            "\r",
            "Evaluating:  32%|?��?��?��?��      | 249/782 [02:07<05:05,  1.75it/s]"
          ]
        },
        {
          "name": "stderr",
          "output_type": "stream",
          "text": [
            "\r",
            "Evaluating:  32%|?��?��?��?��      | 250/782 [02:07<05:04,  1.75it/s]"
          ]
        },
        {
          "name": "stderr",
          "output_type": "stream",
          "text": [
            "\r",
            "Evaluating:  32%|?��?��?��?��      | 251/782 [02:08<05:04,  1.74it/s]"
          ]
        },
        {
          "name": "stderr",
          "output_type": "stream",
          "text": [
            "\r",
            "Evaluating:  32%|?��?��?��?��      | 252/782 [02:08<05:03,  1.74it/s]"
          ]
        },
        {
          "name": "stderr",
          "output_type": "stream",
          "text": [
            "\r",
            "Evaluating:  32%|?��?��?��?��      | 253/782 [02:09<05:03,  1.74it/s]"
          ]
        },
        {
          "name": "stderr",
          "output_type": "stream",
          "text": [
            "\r",
            "Evaluating:  32%|?��?��?��?��      | 254/782 [02:10<05:02,  1.74it/s]"
          ]
        },
        {
          "name": "stderr",
          "output_type": "stream",
          "text": [
            "\r",
            "Evaluating:  33%|?��?��?��?��      | 255/782 [02:10<05:02,  1.74it/s]"
          ]
        },
        {
          "name": "stderr",
          "output_type": "stream",
          "text": [
            "\r",
            "Evaluating:  33%|?��?��?��?��      | 256/782 [02:11<05:01,  1.74it/s]"
          ]
        },
        {
          "name": "stderr",
          "output_type": "stream",
          "text": [
            "\r",
            "Evaluating:  33%|?��?��?��?��      | 257/782 [02:11<05:00,  1.75it/s]"
          ]
        },
        {
          "name": "stderr",
          "output_type": "stream",
          "text": [
            "\r",
            "Evaluating:  33%|?��?��?��?��      | 258/782 [02:12<05:00,  1.75it/s]"
          ]
        },
        {
          "name": "stderr",
          "output_type": "stream",
          "text": [
            "\r",
            "Evaluating:  33%|?��?��?��?��      | 259/782 [02:13<04:59,  1.74it/s]"
          ]
        },
        {
          "name": "stderr",
          "output_type": "stream",
          "text": [
            "\r",
            "Evaluating:  33%|?��?��?��?��      | 260/782 [02:13<04:59,  1.74it/s]"
          ]
        },
        {
          "name": "stderr",
          "output_type": "stream",
          "text": [
            "\r",
            "Evaluating:  33%|?��?��?��?��      | 261/782 [02:14<04:59,  1.74it/s]"
          ]
        },
        {
          "name": "stderr",
          "output_type": "stream",
          "text": [
            "\r",
            "Evaluating:  34%|?��?��?��?��      | 262/782 [02:14<04:58,  1.74it/s]"
          ]
        },
        {
          "name": "stderr",
          "output_type": "stream",
          "text": [
            "\r",
            "Evaluating:  34%|?��?��?��?��      | 263/782 [02:15<04:57,  1.74it/s]"
          ]
        },
        {
          "name": "stderr",
          "output_type": "stream",
          "text": [
            "\r",
            "Evaluating:  34%|?��?��?��?��      | 264/782 [02:15<04:56,  1.74it/s]"
          ]
        },
        {
          "name": "stderr",
          "output_type": "stream",
          "text": [
            "\r",
            "Evaluating:  34%|?��?��?��?��      | 265/782 [02:16<04:56,  1.74it/s]"
          ]
        },
        {
          "name": "stderr",
          "output_type": "stream",
          "text": [
            "\r",
            "Evaluating:  34%|?��?��?��?��      | 266/782 [02:17<04:56,  1.74it/s]"
          ]
        },
        {
          "name": "stderr",
          "output_type": "stream",
          "text": [
            "\r",
            "Evaluating:  34%|?��?��?��?��      | 267/782 [02:17<04:55,  1.74it/s]"
          ]
        },
        {
          "name": "stderr",
          "output_type": "stream",
          "text": [
            "\r",
            "Evaluating:  34%|?��?��?��?��      | 268/782 [02:18<04:55,  1.74it/s]"
          ]
        },
        {
          "name": "stderr",
          "output_type": "stream",
          "text": [
            "\r",
            "Evaluating:  34%|?��?��?��?��      | 269/782 [02:18<04:55,  1.74it/s]"
          ]
        },
        {
          "name": "stderr",
          "output_type": "stream",
          "text": [
            "\r",
            "Evaluating:  35%|?��?��?��?��      | 270/782 [02:19<04:54,  1.74it/s]"
          ]
        },
        {
          "name": "stderr",
          "output_type": "stream",
          "text": [
            "\r",
            "Evaluating:  35%|?��?��?��?��      | 271/782 [02:19<04:53,  1.74it/s]"
          ]
        },
        {
          "name": "stderr",
          "output_type": "stream",
          "text": [
            "\r",
            "Evaluating:  35%|?��?��?��?��      | 272/782 [02:20<04:52,  1.74it/s]"
          ]
        },
        {
          "name": "stderr",
          "output_type": "stream",
          "text": [
            "\r",
            "Evaluating:  35%|?��?��?��?��      | 273/782 [02:21<04:52,  1.74it/s]"
          ]
        },
        {
          "name": "stderr",
          "output_type": "stream",
          "text": [
            "\r",
            "Evaluating:  35%|?��?��?��?��      | 274/782 [02:21<04:52,  1.74it/s]"
          ]
        },
        {
          "name": "stderr",
          "output_type": "stream",
          "text": [
            "\r",
            "Evaluating:  35%|?��?��?��?��      | 275/782 [02:22<04:51,  1.74it/s]"
          ]
        },
        {
          "name": "stderr",
          "output_type": "stream",
          "text": [
            "\r",
            "Evaluating:  35%|?��?��?��?��      | 276/782 [02:22<04:51,  1.74it/s]"
          ]
        },
        {
          "name": "stderr",
          "output_type": "stream",
          "text": [
            "\r",
            "Evaluating:  35%|?��?��?��?��      | 277/782 [02:23<04:50,  1.74it/s]"
          ]
        },
        {
          "name": "stderr",
          "output_type": "stream",
          "text": [
            "\r",
            "Evaluating:  36%|?��?��?��?��      | 278/782 [02:23<04:50,  1.73it/s]"
          ]
        },
        {
          "name": "stderr",
          "output_type": "stream",
          "text": [
            "\r",
            "Evaluating:  36%|?��?��?��?��      | 279/782 [02:24<04:49,  1.74it/s]"
          ]
        },
        {
          "name": "stderr",
          "output_type": "stream",
          "text": [
            "\r",
            "Evaluating:  36%|?��?��?��?��      | 280/782 [02:25<04:48,  1.74it/s]"
          ]
        },
        {
          "name": "stderr",
          "output_type": "stream",
          "text": [
            "\r",
            "Evaluating:  36%|?��?��?��?��      | 281/782 [02:25<04:47,  1.74it/s]"
          ]
        },
        {
          "name": "stderr",
          "output_type": "stream",
          "text": [
            "\r",
            "Evaluating:  36%|?��?��?��?��      | 282/782 [02:26<04:47,  1.74it/s]"
          ]
        },
        {
          "name": "stderr",
          "output_type": "stream",
          "text": [
            "\r",
            "Evaluating:  36%|?��?��?��?��      | 283/782 [02:26<04:47,  1.73it/s]"
          ]
        },
        {
          "name": "stderr",
          "output_type": "stream",
          "text": [
            "\r",
            "Evaluating:  36%|?��?��?��?��      | 284/782 [02:27<04:47,  1.73it/s]"
          ]
        },
        {
          "name": "stderr",
          "output_type": "stream",
          "text": [
            "\r",
            "Evaluating:  36%|?��?��?��?��      | 285/782 [02:27<04:47,  1.73it/s]"
          ]
        },
        {
          "name": "stderr",
          "output_type": "stream",
          "text": [
            "\r",
            "Evaluating:  37%|?��?��?��?��      | 286/782 [02:28<04:46,  1.73it/s]"
          ]
        },
        {
          "name": "stderr",
          "output_type": "stream",
          "text": [
            "\r",
            "Evaluating:  37%|?��?��?��?��      | 287/782 [02:29<04:45,  1.73it/s]"
          ]
        },
        {
          "name": "stderr",
          "output_type": "stream",
          "text": [
            "\r",
            "Evaluating:  37%|?��?��?��?��      | 288/782 [02:29<04:44,  1.73it/s]"
          ]
        },
        {
          "name": "stderr",
          "output_type": "stream",
          "text": [
            "\r",
            "Evaluating:  37%|?��?��?��?��      | 289/782 [02:30<04:44,  1.74it/s]"
          ]
        },
        {
          "name": "stderr",
          "output_type": "stream",
          "text": [
            "\r",
            "Evaluating:  37%|?��?��?��?��      | 290/782 [02:30<04:43,  1.74it/s]"
          ]
        },
        {
          "name": "stderr",
          "output_type": "stream",
          "text": [
            "\r",
            "Evaluating:  37%|?��?��?��?��      | 291/782 [02:31<04:42,  1.73it/s]"
          ]
        },
        {
          "name": "stderr",
          "output_type": "stream",
          "text": [
            "\r",
            "Evaluating:  37%|?��?��?��?��      | 292/782 [02:31<04:42,  1.74it/s]"
          ]
        },
        {
          "name": "stderr",
          "output_type": "stream",
          "text": [
            "\r",
            "Evaluating:  37%|?��?��?��?��      | 293/782 [02:32<04:41,  1.74it/s]"
          ]
        },
        {
          "name": "stderr",
          "output_type": "stream",
          "text": [
            "\r",
            "Evaluating:  38%|?��?��?��?��      | 294/782 [02:33<04:40,  1.74it/s]"
          ]
        },
        {
          "name": "stderr",
          "output_type": "stream",
          "text": [
            "\r",
            "Evaluating:  38%|?��?��?��?��      | 295/782 [02:33<04:40,  1.74it/s]"
          ]
        },
        {
          "name": "stderr",
          "output_type": "stream",
          "text": [
            "\r",
            "Evaluating:  38%|?��?��?��?��      | 296/782 [02:34<04:39,  1.74it/s]"
          ]
        },
        {
          "name": "stderr",
          "output_type": "stream",
          "text": [
            "\r",
            "Evaluating:  38%|?��?��?��?��      | 297/782 [02:34<04:38,  1.74it/s]"
          ]
        },
        {
          "name": "stderr",
          "output_type": "stream",
          "text": [
            "\r",
            "Evaluating:  38%|?��?��?��?��      | 298/782 [02:35<04:37,  1.74it/s]"
          ]
        },
        {
          "name": "stderr",
          "output_type": "stream",
          "text": [
            "\r",
            "Evaluating:  38%|?��?��?��?��      | 299/782 [02:36<04:36,  1.75it/s]"
          ]
        },
        {
          "name": "stderr",
          "output_type": "stream",
          "text": [
            "\r",
            "Evaluating:  38%|?��?��?��?��      | 300/782 [02:36<04:36,  1.74it/s]"
          ]
        },
        {
          "name": "stderr",
          "output_type": "stream",
          "text": [
            "\r",
            "Evaluating:  38%|?��?��?��?��      | 301/782 [02:37<04:36,  1.74it/s]"
          ]
        },
        {
          "name": "stderr",
          "output_type": "stream",
          "text": [
            "\r",
            "Evaluating:  39%|?��?��?��?��      | 302/782 [02:37<04:35,  1.74it/s]"
          ]
        },
        {
          "name": "stderr",
          "output_type": "stream",
          "text": [
            "\r",
            "Evaluating:  39%|?��?��?��?��      | 303/782 [02:38<04:35,  1.74it/s]"
          ]
        },
        {
          "name": "stderr",
          "output_type": "stream",
          "text": [
            "\r",
            "Evaluating:  39%|?��?��?��?��      | 304/782 [02:38<04:34,  1.74it/s]"
          ]
        },
        {
          "name": "stderr",
          "output_type": "stream",
          "text": [
            "\r",
            "Evaluating:  39%|?��?��?��?��      | 305/782 [02:39<04:34,  1.74it/s]"
          ]
        },
        {
          "name": "stderr",
          "output_type": "stream",
          "text": [
            "\r",
            "Evaluating:  39%|?��?��?��?��      | 306/782 [02:40<04:33,  1.74it/s]"
          ]
        },
        {
          "name": "stderr",
          "output_type": "stream",
          "text": [
            "\r",
            "Evaluating:  39%|?��?��?��?��      | 307/782 [02:40<04:33,  1.74it/s]"
          ]
        },
        {
          "name": "stderr",
          "output_type": "stream",
          "text": [
            "\r",
            "Evaluating:  39%|?��?��?��?��      | 308/782 [02:41<04:31,  1.74it/s]"
          ]
        },
        {
          "name": "stderr",
          "output_type": "stream",
          "text": [
            "\r",
            "Evaluating:  40%|?��?��?��?��      | 309/782 [02:41<04:32,  1.74it/s]"
          ]
        },
        {
          "name": "stderr",
          "output_type": "stream",
          "text": [
            "\r",
            "Evaluating:  40%|?��?��?��?��      | 310/782 [02:42<04:31,  1.74it/s]"
          ]
        },
        {
          "name": "stderr",
          "output_type": "stream",
          "text": [
            "\r",
            "Evaluating:  40%|?��?��?��?��      | 311/782 [02:42<04:30,  1.74it/s]"
          ]
        },
        {
          "name": "stderr",
          "output_type": "stream",
          "text": [
            "\r",
            "Evaluating:  40%|?��?��?��?��      | 312/782 [02:43<04:30,  1.74it/s]"
          ]
        },
        {
          "name": "stderr",
          "output_type": "stream",
          "text": [
            "\r",
            "Evaluating:  40%|?��?��?��?��      | 313/782 [02:44<04:29,  1.74it/s]"
          ]
        },
        {
          "name": "stderr",
          "output_type": "stream",
          "text": [
            "\r",
            "Evaluating:  40%|?��?��?��?��      | 314/782 [02:44<04:29,  1.74it/s]"
          ]
        },
        {
          "name": "stderr",
          "output_type": "stream",
          "text": [
            "\r",
            "Evaluating:  40%|?��?��?��?��      | 315/782 [02:45<04:28,  1.74it/s]"
          ]
        },
        {
          "name": "stderr",
          "output_type": "stream",
          "text": [
            "\r",
            "Evaluating:  40%|?��?��?��?��      | 316/782 [02:45<04:28,  1.74it/s]"
          ]
        },
        {
          "name": "stderr",
          "output_type": "stream",
          "text": [
            "\r",
            "Evaluating:  41%|?��?��?��?��      | 317/782 [02:46<04:28,  1.73it/s]"
          ]
        },
        {
          "name": "stderr",
          "output_type": "stream",
          "text": [
            "\r",
            "Evaluating:  41%|?��?��?��?��      | 318/782 [02:46<04:27,  1.73it/s]"
          ]
        },
        {
          "name": "stderr",
          "output_type": "stream",
          "text": [
            "\r",
            "Evaluating:  41%|?��?��?��?��      | 319/782 [02:47<04:27,  1.73it/s]"
          ]
        },
        {
          "name": "stderr",
          "output_type": "stream",
          "text": [
            "\r",
            "Evaluating:  41%|?��?��?��?��      | 320/782 [02:48<04:26,  1.73it/s]"
          ]
        },
        {
          "name": "stderr",
          "output_type": "stream",
          "text": [
            "\r",
            "Evaluating:  41%|?��?��?��?��      | 321/782 [02:48<04:25,  1.73it/s]"
          ]
        },
        {
          "name": "stderr",
          "output_type": "stream",
          "text": [
            "\r",
            "Evaluating:  41%|?��?��?��?��      | 322/782 [02:49<04:25,  1.73it/s]"
          ]
        },
        {
          "name": "stderr",
          "output_type": "stream",
          "text": [
            "\r",
            "Evaluating:  41%|?��?��?��?��?��     | 323/782 [02:49<04:24,  1.73it/s]"
          ]
        },
        {
          "name": "stderr",
          "output_type": "stream",
          "text": [
            "\r",
            "Evaluating:  41%|?��?��?��?��?��     | 324/782 [02:50<04:24,  1.73it/s]"
          ]
        },
        {
          "name": "stderr",
          "output_type": "stream",
          "text": [
            "\r",
            "Evaluating:  42%|?��?��?��?��?��     | 325/782 [02:50<04:23,  1.73it/s]"
          ]
        },
        {
          "name": "stderr",
          "output_type": "stream",
          "text": [
            "\r",
            "Evaluating:  42%|?��?��?��?��?��     | 326/782 [02:51<04:22,  1.73it/s]"
          ]
        },
        {
          "name": "stderr",
          "output_type": "stream",
          "text": [
            "\r",
            "Evaluating:  42%|?��?��?��?��?��     | 327/782 [02:52<04:22,  1.73it/s]"
          ]
        },
        {
          "name": "stderr",
          "output_type": "stream",
          "text": [
            "\r",
            "Evaluating:  42%|?��?��?��?��?��     | 328/782 [02:52<04:22,  1.73it/s]"
          ]
        },
        {
          "name": "stderr",
          "output_type": "stream",
          "text": [
            "\r",
            "Evaluating:  42%|?��?��?��?��?��     | 329/782 [02:53<04:21,  1.73it/s]"
          ]
        },
        {
          "name": "stderr",
          "output_type": "stream",
          "text": [
            "\r",
            "Evaluating:  42%|?��?��?��?��?��     | 330/782 [02:53<04:21,  1.73it/s]"
          ]
        },
        {
          "name": "stderr",
          "output_type": "stream",
          "text": [
            "\r",
            "Evaluating:  42%|?��?��?��?��?��     | 331/782 [02:54<04:20,  1.73it/s]"
          ]
        },
        {
          "name": "stderr",
          "output_type": "stream",
          "text": [
            "\r",
            "Evaluating:  42%|?��?��?��?��?��     | 332/782 [02:55<04:19,  1.74it/s]"
          ]
        },
        {
          "name": "stderr",
          "output_type": "stream",
          "text": [
            "\r",
            "Evaluating:  43%|?��?��?��?��?��     | 333/782 [02:55<04:18,  1.73it/s]"
          ]
        },
        {
          "name": "stderr",
          "output_type": "stream",
          "text": [
            "\r",
            "Evaluating:  43%|?��?��?��?��?��     | 334/782 [02:56<04:18,  1.73it/s]"
          ]
        },
        {
          "name": "stderr",
          "output_type": "stream",
          "text": [
            "\r",
            "Evaluating:  43%|?��?��?��?��?��     | 335/782 [02:56<04:17,  1.73it/s]"
          ]
        },
        {
          "name": "stderr",
          "output_type": "stream",
          "text": [
            "\r",
            "Evaluating:  43%|?��?��?��?��?��     | 336/782 [02:57<04:16,  1.74it/s]"
          ]
        },
        {
          "name": "stderr",
          "output_type": "stream",
          "text": [
            "\r",
            "Evaluating:  43%|?��?��?��?��?��     | 337/782 [02:57<04:16,  1.74it/s]"
          ]
        },
        {
          "name": "stderr",
          "output_type": "stream",
          "text": [
            "\r",
            "Evaluating:  43%|?��?��?��?��?��     | 338/782 [02:58<04:15,  1.74it/s]"
          ]
        },
        {
          "name": "stderr",
          "output_type": "stream",
          "text": [
            "\r",
            "Evaluating:  43%|?��?��?��?��?��     | 339/782 [02:59<04:14,  1.74it/s]"
          ]
        },
        {
          "name": "stderr",
          "output_type": "stream",
          "text": [
            "\r",
            "Evaluating:  43%|?��?��?��?��?��     | 340/782 [02:59<04:13,  1.74it/s]"
          ]
        },
        {
          "name": "stderr",
          "output_type": "stream",
          "text": [
            "\r",
            "Evaluating:  44%|?��?��?��?��?��     | 341/782 [03:00<04:13,  1.74it/s]"
          ]
        },
        {
          "name": "stderr",
          "output_type": "stream",
          "text": [
            "\r",
            "Evaluating:  44%|?��?��?��?��?��     | 342/782 [03:00<04:12,  1.74it/s]"
          ]
        },
        {
          "name": "stderr",
          "output_type": "stream",
          "text": [
            "\r",
            "Evaluating:  44%|?��?��?��?��?��     | 343/782 [03:01<04:13,  1.74it/s]"
          ]
        },
        {
          "name": "stderr",
          "output_type": "stream",
          "text": [
            "\r",
            "Evaluating:  44%|?��?��?��?��?��     | 344/782 [03:01<04:12,  1.73it/s]"
          ]
        },
        {
          "name": "stderr",
          "output_type": "stream",
          "text": [
            "\r",
            "Evaluating:  44%|?��?��?��?��?��     | 345/782 [03:02<04:11,  1.74it/s]"
          ]
        },
        {
          "name": "stderr",
          "output_type": "stream",
          "text": [
            "\r",
            "Evaluating:  44%|?��?��?��?��?��     | 346/782 [03:03<04:10,  1.74it/s]"
          ]
        },
        {
          "name": "stderr",
          "output_type": "stream",
          "text": [
            "\r",
            "Evaluating:  44%|?��?��?��?��?��     | 347/782 [03:03<04:10,  1.73it/s]"
          ]
        },
        {
          "name": "stderr",
          "output_type": "stream",
          "text": [
            "\r",
            "Evaluating:  45%|?��?��?��?��?��     | 348/782 [03:04<04:10,  1.73it/s]"
          ]
        },
        {
          "name": "stderr",
          "output_type": "stream",
          "text": [
            "\r",
            "Evaluating:  45%|?��?��?��?��?��     | 349/782 [03:04<04:10,  1.73it/s]"
          ]
        },
        {
          "name": "stderr",
          "output_type": "stream",
          "text": [
            "\r",
            "Evaluating:  45%|?��?��?��?��?��     | 350/782 [03:05<04:09,  1.73it/s]"
          ]
        },
        {
          "name": "stderr",
          "output_type": "stream",
          "text": [
            "\r",
            "Evaluating:  45%|?��?��?��?��?��     | 351/782 [03:05<04:08,  1.73it/s]"
          ]
        },
        {
          "name": "stderr",
          "output_type": "stream",
          "text": [
            "\r",
            "Evaluating:  45%|?��?��?��?��?��     | 352/782 [03:06<04:07,  1.73it/s]"
          ]
        },
        {
          "name": "stderr",
          "output_type": "stream",
          "text": [
            "\r",
            "Evaluating:  45%|?��?��?��?��?��     | 353/782 [03:07<04:06,  1.74it/s]"
          ]
        },
        {
          "name": "stderr",
          "output_type": "stream",
          "text": [
            "\r",
            "Evaluating:  45%|?��?��?��?��?��     | 354/782 [03:07<04:06,  1.73it/s]"
          ]
        },
        {
          "name": "stderr",
          "output_type": "stream",
          "text": [
            "\r",
            "Evaluating:  45%|?��?��?��?��?��     | 355/782 [03:08<04:06,  1.73it/s]"
          ]
        },
        {
          "name": "stderr",
          "output_type": "stream",
          "text": [
            "\r",
            "Evaluating:  46%|?��?��?��?��?��     | 356/782 [03:08<04:06,  1.73it/s]"
          ]
        },
        {
          "name": "stderr",
          "output_type": "stream",
          "text": [
            "\r",
            "Evaluating:  46%|?��?��?��?��?��     | 357/782 [03:09<04:05,  1.73it/s]"
          ]
        },
        {
          "name": "stderr",
          "output_type": "stream",
          "text": [
            "\r",
            "Evaluating:  46%|?��?��?��?��?��     | 358/782 [03:10<04:05,  1.73it/s]"
          ]
        },
        {
          "name": "stderr",
          "output_type": "stream",
          "text": [
            "\r",
            "Evaluating:  46%|?��?��?��?��?��     | 359/782 [03:10<04:04,  1.73it/s]"
          ]
        },
        {
          "name": "stderr",
          "output_type": "stream",
          "text": [
            "\r",
            "Evaluating:  46%|?��?��?��?��?��     | 360/782 [03:11<04:03,  1.73it/s]"
          ]
        },
        {
          "name": "stderr",
          "output_type": "stream",
          "text": [
            "\r",
            "Evaluating:  46%|?��?��?��?��?��     | 361/782 [03:11<04:03,  1.73it/s]"
          ]
        },
        {
          "name": "stderr",
          "output_type": "stream",
          "text": [
            "\r",
            "Evaluating:  46%|?��?��?��?��?��     | 362/782 [03:12<04:02,  1.73it/s]"
          ]
        },
        {
          "name": "stderr",
          "output_type": "stream",
          "text": [
            "\r",
            "Evaluating:  46%|?��?��?��?��?��     | 363/782 [03:12<04:01,  1.73it/s]"
          ]
        },
        {
          "name": "stderr",
          "output_type": "stream",
          "text": [
            "\r",
            "Evaluating:  47%|?��?��?��?��?��     | 364/782 [03:13<04:00,  1.74it/s]"
          ]
        },
        {
          "name": "stderr",
          "output_type": "stream",
          "text": [
            "\r",
            "Evaluating:  47%|?��?��?��?��?��     | 365/782 [03:14<04:00,  1.73it/s]"
          ]
        },
        {
          "name": "stderr",
          "output_type": "stream",
          "text": [
            "\r",
            "Evaluating:  47%|?��?��?��?��?��     | 366/782 [03:14<03:59,  1.74it/s]"
          ]
        },
        {
          "name": "stderr",
          "output_type": "stream",
          "text": [
            "\r",
            "Evaluating:  47%|?��?��?��?��?��     | 367/782 [03:15<03:59,  1.73it/s]"
          ]
        },
        {
          "name": "stderr",
          "output_type": "stream",
          "text": [
            "\r",
            "Evaluating:  47%|?��?��?��?��?��     | 368/782 [03:15<03:58,  1.74it/s]"
          ]
        },
        {
          "name": "stderr",
          "output_type": "stream",
          "text": [
            "\r",
            "Evaluating:  47%|?��?��?��?��?��     | 369/782 [03:16<03:57,  1.74it/s]"
          ]
        },
        {
          "name": "stderr",
          "output_type": "stream",
          "text": [
            "\r",
            "Evaluating:  47%|?��?��?��?��?��     | 370/782 [03:16<03:57,  1.74it/s]"
          ]
        },
        {
          "name": "stderr",
          "output_type": "stream",
          "text": [
            "\r",
            "Evaluating:  47%|?��?��?��?��?��     | 371/782 [03:17<03:56,  1.74it/s]"
          ]
        },
        {
          "name": "stderr",
          "output_type": "stream",
          "text": [
            "\r",
            "Evaluating:  48%|?��?��?��?��?��     | 372/782 [03:18<03:56,  1.74it/s]"
          ]
        },
        {
          "name": "stderr",
          "output_type": "stream",
          "text": [
            "\r",
            "Evaluating:  48%|?��?��?��?��?��     | 373/782 [03:18<03:55,  1.74it/s]"
          ]
        },
        {
          "name": "stderr",
          "output_type": "stream",
          "text": [
            "\r",
            "Evaluating:  48%|?��?��?��?��?��     | 374/782 [03:19<03:55,  1.74it/s]"
          ]
        },
        {
          "name": "stderr",
          "output_type": "stream",
          "text": [
            "\r",
            "Evaluating:  48%|?��?��?��?��?��     | 375/782 [03:19<03:54,  1.74it/s]"
          ]
        },
        {
          "name": "stderr",
          "output_type": "stream",
          "text": [
            "\r",
            "Evaluating:  48%|?��?��?��?��?��     | 376/782 [03:20<03:53,  1.74it/s]"
          ]
        },
        {
          "name": "stderr",
          "output_type": "stream",
          "text": [
            "\r",
            "Evaluating:  48%|?��?��?��?��?��     | 377/782 [03:20<03:52,  1.74it/s]"
          ]
        },
        {
          "name": "stderr",
          "output_type": "stream",
          "text": [
            "\r",
            "Evaluating:  48%|?��?��?��?��?��     | 378/782 [03:21<03:52,  1.74it/s]"
          ]
        },
        {
          "name": "stderr",
          "output_type": "stream",
          "text": [
            "\r",
            "Evaluating:  48%|?��?��?��?��?��     | 379/782 [03:22<03:51,  1.74it/s]"
          ]
        },
        {
          "name": "stderr",
          "output_type": "stream",
          "text": [
            "\r",
            "Evaluating:  49%|?��?��?��?��?��     | 380/782 [03:22<03:51,  1.74it/s]"
          ]
        },
        {
          "name": "stderr",
          "output_type": "stream",
          "text": [
            "\r",
            "Evaluating:  49%|?��?��?��?��?��     | 381/782 [03:23<03:51,  1.73it/s]"
          ]
        },
        {
          "name": "stderr",
          "output_type": "stream",
          "text": [
            "\r",
            "Evaluating:  49%|?��?��?��?��?��     | 382/782 [03:23<03:50,  1.73it/s]"
          ]
        },
        {
          "name": "stderr",
          "output_type": "stream",
          "text": [
            "\r",
            "Evaluating:  49%|?��?��?��?��?��     | 383/782 [03:24<03:49,  1.74it/s]"
          ]
        },
        {
          "name": "stderr",
          "output_type": "stream",
          "text": [
            "\r",
            "Evaluating:  49%|?��?��?��?��?��     | 384/782 [03:24<03:49,  1.73it/s]"
          ]
        },
        {
          "name": "stderr",
          "output_type": "stream",
          "text": [
            "\r",
            "Evaluating:  49%|?��?��?��?��?��     | 385/782 [03:25<03:48,  1.74it/s]"
          ]
        },
        {
          "name": "stderr",
          "output_type": "stream",
          "text": [
            "\r",
            "Evaluating:  49%|?��?��?��?��?��     | 386/782 [03:26<03:47,  1.74it/s]"
          ]
        },
        {
          "name": "stderr",
          "output_type": "stream",
          "text": [
            "\r",
            "Evaluating:  49%|?��?��?��?��?��     | 387/782 [03:26<03:47,  1.74it/s]"
          ]
        },
        {
          "name": "stderr",
          "output_type": "stream",
          "text": [
            "\r",
            "Evaluating:  50%|?��?��?��?��?��     | 388/782 [03:27<03:46,  1.74it/s]"
          ]
        },
        {
          "name": "stderr",
          "output_type": "stream",
          "text": [
            "\r",
            "Evaluating:  50%|?��?��?��?��?��     | 389/782 [03:27<03:46,  1.73it/s]"
          ]
        },
        {
          "name": "stderr",
          "output_type": "stream",
          "text": [
            "\r",
            "Evaluating:  50%|?��?��?��?��?��     | 390/782 [03:28<03:45,  1.74it/s]"
          ]
        },
        {
          "name": "stderr",
          "output_type": "stream",
          "text": [
            "\r",
            "Evaluating:  50%|?��?��?��?��?��     | 391/782 [03:29<03:45,  1.73it/s]"
          ]
        },
        {
          "name": "stderr",
          "output_type": "stream",
          "text": [
            "\r",
            "Evaluating:  50%|?��?��?��?��?��     | 392/782 [03:29<03:45,  1.73it/s]"
          ]
        },
        {
          "name": "stderr",
          "output_type": "stream",
          "text": [
            "\r",
            "Evaluating:  50%|?��?��?��?��?��     | 393/782 [03:30<03:44,  1.73it/s]"
          ]
        },
        {
          "name": "stderr",
          "output_type": "stream",
          "text": [
            "\r",
            "Evaluating:  50%|?��?��?��?��?��     | 394/782 [03:30<03:43,  1.74it/s]"
          ]
        },
        {
          "name": "stderr",
          "output_type": "stream",
          "text": [
            "\r",
            "Evaluating:  51%|?��?��?��?��?��     | 395/782 [03:31<03:42,  1.74it/s]"
          ]
        },
        {
          "name": "stderr",
          "output_type": "stream",
          "text": [
            "\r",
            "Evaluating:  51%|?��?��?��?��?��     | 396/782 [03:31<03:42,  1.73it/s]"
          ]
        },
        {
          "name": "stderr",
          "output_type": "stream",
          "text": [
            "\r",
            "Evaluating:  51%|?��?��?��?��?��     | 397/782 [03:32<03:42,  1.73it/s]"
          ]
        },
        {
          "name": "stderr",
          "output_type": "stream",
          "text": [
            "\r",
            "Evaluating:  51%|?��?��?��?��?��     | 398/782 [03:33<03:41,  1.73it/s]"
          ]
        },
        {
          "name": "stderr",
          "output_type": "stream",
          "text": [
            "\r",
            "Evaluating:  51%|?��?��?��?��?��     | 399/782 [03:33<03:41,  1.73it/s]"
          ]
        },
        {
          "name": "stderr",
          "output_type": "stream",
          "text": [
            "\r",
            "Evaluating:  51%|?��?��?��?��?��     | 400/782 [03:34<03:40,  1.73it/s]"
          ]
        },
        {
          "name": "stderr",
          "output_type": "stream",
          "text": [
            "\r",
            "Evaluating:  51%|?��?��?��?��?��?��    | 401/782 [03:34<03:39,  1.73it/s]"
          ]
        },
        {
          "name": "stderr",
          "output_type": "stream",
          "text": [
            "\r",
            "Evaluating:  51%|?��?��?��?��?��?��    | 402/782 [03:35<03:40,  1.73it/s]"
          ]
        },
        {
          "name": "stderr",
          "output_type": "stream",
          "text": [
            "\r",
            "Evaluating:  52%|?��?��?��?��?��?��    | 403/782 [03:35<03:39,  1.73it/s]"
          ]
        },
        {
          "name": "stderr",
          "output_type": "stream",
          "text": [
            "\r",
            "Evaluating:  52%|?��?��?��?��?��?��    | 404/782 [03:36<03:38,  1.73it/s]"
          ]
        },
        {
          "name": "stderr",
          "output_type": "stream",
          "text": [
            "\r",
            "Evaluating:  52%|?��?��?��?��?��?��    | 405/782 [03:37<03:38,  1.73it/s]"
          ]
        },
        {
          "name": "stderr",
          "output_type": "stream",
          "text": [
            "\r",
            "Evaluating:  52%|?��?��?��?��?��?��    | 406/782 [03:37<03:37,  1.73it/s]"
          ]
        },
        {
          "name": "stderr",
          "output_type": "stream",
          "text": [
            "\r",
            "Evaluating:  52%|?��?��?��?��?��?��    | 407/782 [03:38<03:36,  1.73it/s]"
          ]
        },
        {
          "name": "stderr",
          "output_type": "stream",
          "text": [
            "\r",
            "Evaluating:  52%|?��?��?��?��?��?��    | 408/782 [03:38<03:36,  1.73it/s]"
          ]
        },
        {
          "name": "stderr",
          "output_type": "stream",
          "text": [
            "\r",
            "Evaluating:  52%|?��?��?��?��?��?��    | 409/782 [03:39<03:35,  1.73it/s]"
          ]
        },
        {
          "name": "stderr",
          "output_type": "stream",
          "text": [
            "\r",
            "Evaluating:  52%|?��?��?��?��?��?��    | 410/782 [03:40<03:34,  1.73it/s]"
          ]
        },
        {
          "name": "stderr",
          "output_type": "stream",
          "text": [
            "\r",
            "Evaluating:  53%|?��?��?��?��?��?��    | 411/782 [03:40<03:33,  1.74it/s]"
          ]
        },
        {
          "name": "stderr",
          "output_type": "stream",
          "text": [
            "\r",
            "Evaluating:  53%|?��?��?��?��?��?��    | 412/782 [03:41<03:33,  1.74it/s]"
          ]
        },
        {
          "name": "stderr",
          "output_type": "stream",
          "text": [
            "\r",
            "Evaluating:  53%|?��?��?��?��?��?��    | 413/782 [03:41<03:32,  1.74it/s]"
          ]
        },
        {
          "name": "stderr",
          "output_type": "stream",
          "text": [
            "\r",
            "Evaluating:  53%|?��?��?��?��?��?��    | 414/782 [03:42<03:31,  1.74it/s]"
          ]
        },
        {
          "name": "stderr",
          "output_type": "stream",
          "text": [
            "\r",
            "Evaluating:  53%|?��?��?��?��?��?��    | 415/782 [03:42<03:30,  1.74it/s]"
          ]
        },
        {
          "name": "stderr",
          "output_type": "stream",
          "text": [
            "\r",
            "Evaluating:  53%|?��?��?��?��?��?��    | 416/782 [03:43<03:30,  1.74it/s]"
          ]
        },
        {
          "name": "stderr",
          "output_type": "stream",
          "text": [
            "\r",
            "Evaluating:  53%|?��?��?��?��?��?��    | 417/782 [03:44<03:29,  1.74it/s]"
          ]
        },
        {
          "name": "stderr",
          "output_type": "stream",
          "text": [
            "\r",
            "Evaluating:  53%|?��?��?��?��?��?��    | 418/782 [03:44<03:29,  1.74it/s]"
          ]
        },
        {
          "name": "stderr",
          "output_type": "stream",
          "text": [
            "\r",
            "Evaluating:  54%|?��?��?��?��?��?��    | 419/782 [03:45<03:28,  1.74it/s]"
          ]
        },
        {
          "name": "stderr",
          "output_type": "stream",
          "text": [
            "\r",
            "Evaluating:  54%|?��?��?��?��?��?��    | 420/782 [03:45<03:27,  1.74it/s]"
          ]
        },
        {
          "name": "stderr",
          "output_type": "stream",
          "text": [
            "\r",
            "Evaluating:  54%|?��?��?��?��?��?��    | 421/782 [03:46<03:27,  1.74it/s]"
          ]
        },
        {
          "name": "stderr",
          "output_type": "stream",
          "text": [
            "\r",
            "Evaluating:  54%|?��?��?��?��?��?��    | 422/782 [03:46<03:27,  1.74it/s]"
          ]
        },
        {
          "name": "stderr",
          "output_type": "stream",
          "text": [
            "\r",
            "Evaluating:  54%|?��?��?��?��?��?��    | 423/782 [03:47<03:27,  1.73it/s]"
          ]
        },
        {
          "name": "stderr",
          "output_type": "stream",
          "text": [
            "\r",
            "Evaluating:  54%|?��?��?��?��?��?��    | 424/782 [03:48<03:26,  1.73it/s]"
          ]
        },
        {
          "name": "stderr",
          "output_type": "stream",
          "text": [
            "\r",
            "Evaluating:  54%|?��?��?��?��?��?��    | 425/782 [03:48<03:26,  1.73it/s]"
          ]
        },
        {
          "name": "stderr",
          "output_type": "stream",
          "text": [
            "\r",
            "Evaluating:  54%|?��?��?��?��?��?��    | 426/782 [03:49<03:26,  1.73it/s]"
          ]
        },
        {
          "name": "stderr",
          "output_type": "stream",
          "text": [
            "\r",
            "Evaluating:  55%|?��?��?��?��?��?��    | 427/782 [03:49<03:25,  1.73it/s]"
          ]
        },
        {
          "name": "stderr",
          "output_type": "stream",
          "text": [
            "\r",
            "Evaluating:  55%|?��?��?��?��?��?��    | 428/782 [03:50<03:25,  1.73it/s]"
          ]
        },
        {
          "name": "stderr",
          "output_type": "stream",
          "text": [
            "\r",
            "Evaluating:  55%|?��?��?��?��?��?��    | 429/782 [03:50<03:24,  1.72it/s]"
          ]
        },
        {
          "name": "stderr",
          "output_type": "stream",
          "text": [
            "\r",
            "Evaluating:  55%|?��?��?��?��?��?��    | 430/782 [03:51<03:24,  1.73it/s]"
          ]
        },
        {
          "name": "stderr",
          "output_type": "stream",
          "text": [
            "\r",
            "Evaluating:  55%|?��?��?��?��?��?��    | 431/782 [03:52<03:23,  1.73it/s]"
          ]
        },
        {
          "name": "stderr",
          "output_type": "stream",
          "text": [
            "\r",
            "Evaluating:  55%|?��?��?��?��?��?��    | 432/782 [03:52<03:22,  1.73it/s]"
          ]
        },
        {
          "name": "stderr",
          "output_type": "stream",
          "text": [
            "\r",
            "Evaluating:  55%|?��?��?��?��?��?��    | 433/782 [03:53<03:21,  1.73it/s]"
          ]
        },
        {
          "name": "stderr",
          "output_type": "stream",
          "text": [
            "\r",
            "Evaluating:  55%|?��?��?��?��?��?��    | 434/782 [03:53<03:21,  1.73it/s]"
          ]
        },
        {
          "name": "stderr",
          "output_type": "stream",
          "text": [
            "\r",
            "Evaluating:  56%|?��?��?��?��?��?��    | 435/782 [03:54<03:20,  1.73it/s]"
          ]
        },
        {
          "name": "stderr",
          "output_type": "stream",
          "text": [
            "\r",
            "Evaluating:  56%|?��?��?��?��?��?��    | 436/782 [03:55<03:20,  1.73it/s]"
          ]
        },
        {
          "name": "stderr",
          "output_type": "stream",
          "text": [
            "\r",
            "Evaluating:  56%|?��?��?��?��?��?��    | 437/782 [03:55<03:19,  1.73it/s]"
          ]
        },
        {
          "name": "stderr",
          "output_type": "stream",
          "text": [
            "\r",
            "Evaluating:  56%|?��?��?��?��?��?��    | 438/782 [03:56<03:19,  1.73it/s]"
          ]
        },
        {
          "name": "stderr",
          "output_type": "stream",
          "text": [
            "\r",
            "Evaluating:  56%|?��?��?��?��?��?��    | 439/782 [03:56<03:18,  1.73it/s]"
          ]
        },
        {
          "name": "stderr",
          "output_type": "stream",
          "text": [
            "\r",
            "Evaluating:  56%|?��?��?��?��?��?��    | 440/782 [03:57<03:17,  1.73it/s]"
          ]
        },
        {
          "name": "stderr",
          "output_type": "stream",
          "text": [
            "\r",
            "Evaluating:  56%|?��?��?��?��?��?��    | 441/782 [03:57<03:17,  1.73it/s]"
          ]
        },
        {
          "name": "stderr",
          "output_type": "stream",
          "text": [
            "\r",
            "Evaluating:  57%|?��?��?��?��?��?��    | 442/782 [03:58<03:16,  1.73it/s]"
          ]
        },
        {
          "name": "stderr",
          "output_type": "stream",
          "text": [
            "\r",
            "Evaluating:  57%|?��?��?��?��?��?��    | 443/782 [03:59<03:15,  1.73it/s]"
          ]
        },
        {
          "name": "stderr",
          "output_type": "stream",
          "text": [
            "\r",
            "Evaluating:  57%|?��?��?��?��?��?��    | 444/782 [03:59<03:15,  1.73it/s]"
          ]
        },
        {
          "name": "stderr",
          "output_type": "stream",
          "text": [
            "\r",
            "Evaluating:  57%|?��?��?��?��?��?��    | 445/782 [04:00<03:15,  1.73it/s]"
          ]
        },
        {
          "name": "stderr",
          "output_type": "stream",
          "text": [
            "\r",
            "Evaluating:  57%|?��?��?��?��?��?��    | 446/782 [04:00<03:14,  1.73it/s]"
          ]
        },
        {
          "name": "stderr",
          "output_type": "stream",
          "text": [
            "\r",
            "Evaluating:  57%|?��?��?��?��?��?��    | 447/782 [04:01<03:13,  1.73it/s]"
          ]
        },
        {
          "name": "stderr",
          "output_type": "stream",
          "text": [
            "\r",
            "Evaluating:  57%|?��?��?��?��?��?��    | 448/782 [04:01<03:13,  1.73it/s]"
          ]
        },
        {
          "name": "stderr",
          "output_type": "stream",
          "text": [
            "\r",
            "Evaluating:  57%|?��?��?��?��?��?��    | 449/782 [04:02<03:13,  1.73it/s]"
          ]
        },
        {
          "name": "stderr",
          "output_type": "stream",
          "text": [
            "\r",
            "Evaluating:  58%|?��?��?��?��?��?��    | 450/782 [04:03<03:11,  1.73it/s]"
          ]
        },
        {
          "name": "stderr",
          "output_type": "stream",
          "text": [
            "\r",
            "Evaluating:  58%|?��?��?��?��?��?��    | 451/782 [04:03<03:11,  1.73it/s]"
          ]
        },
        {
          "name": "stderr",
          "output_type": "stream",
          "text": [
            "\r",
            "Evaluating:  58%|?��?��?��?��?��?��    | 452/782 [04:04<03:11,  1.73it/s]"
          ]
        },
        {
          "name": "stderr",
          "output_type": "stream",
          "text": [
            "\r",
            "Evaluating:  58%|?��?��?��?��?��?��    | 453/782 [04:04<03:10,  1.73it/s]"
          ]
        },
        {
          "name": "stderr",
          "output_type": "stream",
          "text": [
            "\r",
            "Evaluating:  58%|?��?��?��?��?��?��    | 454/782 [04:05<03:09,  1.73it/s]"
          ]
        },
        {
          "name": "stderr",
          "output_type": "stream",
          "text": [
            "\r",
            "Evaluating:  58%|?��?��?��?��?��?��    | 455/782 [04:06<03:09,  1.73it/s]"
          ]
        },
        {
          "name": "stderr",
          "output_type": "stream",
          "text": [
            "\r",
            "Evaluating:  58%|?��?��?��?��?��?��    | 456/782 [04:06<03:08,  1.73it/s]"
          ]
        },
        {
          "name": "stderr",
          "output_type": "stream",
          "text": [
            "\r",
            "Evaluating:  58%|?��?��?��?��?��?��    | 457/782 [04:07<03:08,  1.73it/s]"
          ]
        },
        {
          "name": "stderr",
          "output_type": "stream",
          "text": [
            "\r",
            "Evaluating:  59%|?��?��?��?��?��?��    | 458/782 [04:07<03:07,  1.73it/s]"
          ]
        },
        {
          "name": "stderr",
          "output_type": "stream",
          "text": [
            "\r",
            "Evaluating:  59%|?��?��?��?��?��?��    | 459/782 [04:08<03:07,  1.72it/s]"
          ]
        },
        {
          "name": "stderr",
          "output_type": "stream",
          "text": [
            "\r",
            "Evaluating:  59%|?��?��?��?��?��?��    | 460/782 [04:08<03:06,  1.72it/s]"
          ]
        },
        {
          "name": "stderr",
          "output_type": "stream",
          "text": [
            "\r",
            "Evaluating:  59%|?��?��?��?��?��?��    | 461/782 [04:09<03:06,  1.72it/s]"
          ]
        },
        {
          "name": "stderr",
          "output_type": "stream",
          "text": [
            "\r",
            "Evaluating:  59%|?��?��?��?��?��?��    | 462/782 [04:10<03:05,  1.72it/s]"
          ]
        },
        {
          "name": "stderr",
          "output_type": "stream",
          "text": [
            "\r",
            "Evaluating:  59%|?��?��?��?��?��?��    | 463/782 [04:10<03:05,  1.72it/s]"
          ]
        },
        {
          "name": "stderr",
          "output_type": "stream",
          "text": [
            "\r",
            "Evaluating:  59%|?��?��?��?��?��?��    | 464/782 [04:11<03:05,  1.72it/s]"
          ]
        },
        {
          "name": "stderr",
          "output_type": "stream",
          "text": [
            "\r",
            "Evaluating:  59%|?��?��?��?��?��?��    | 465/782 [04:11<03:04,  1.72it/s]"
          ]
        },
        {
          "name": "stderr",
          "output_type": "stream",
          "text": [
            "\r",
            "Evaluating:  60%|?��?��?��?��?��?��    | 466/782 [04:12<03:03,  1.72it/s]"
          ]
        },
        {
          "name": "stderr",
          "output_type": "stream",
          "text": [
            "\r",
            "Evaluating:  60%|?��?��?��?��?��?��    | 467/782 [04:12<03:03,  1.72it/s]"
          ]
        },
        {
          "name": "stderr",
          "output_type": "stream",
          "text": [
            "\r",
            "Evaluating:  60%|?��?��?��?��?��?��    | 468/782 [04:13<03:02,  1.72it/s]"
          ]
        },
        {
          "name": "stderr",
          "output_type": "stream",
          "text": [
            "\r",
            "Evaluating:  60%|?��?��?��?��?��?��    | 469/782 [04:14<03:01,  1.72it/s]"
          ]
        },
        {
          "name": "stderr",
          "output_type": "stream",
          "text": [
            "\r",
            "Evaluating:  60%|?��?��?��?��?��?��    | 470/782 [04:14<03:01,  1.72it/s]"
          ]
        },
        {
          "name": "stderr",
          "output_type": "stream",
          "text": [
            "\r",
            "Evaluating:  60%|?��?��?��?��?��?��    | 471/782 [04:15<03:00,  1.72it/s]"
          ]
        },
        {
          "name": "stderr",
          "output_type": "stream",
          "text": [
            "\r",
            "Evaluating:  60%|?��?��?��?��?��?��    | 472/782 [04:15<03:00,  1.72it/s]"
          ]
        },
        {
          "name": "stderr",
          "output_type": "stream",
          "text": [
            "\r",
            "Evaluating:  60%|?��?��?��?��?��?��    | 473/782 [04:16<02:59,  1.72it/s]"
          ]
        },
        {
          "name": "stderr",
          "output_type": "stream",
          "text": [
            "\r",
            "Evaluating:  61%|?��?��?��?��?��?��    | 474/782 [04:17<02:59,  1.72it/s]"
          ]
        },
        {
          "name": "stderr",
          "output_type": "stream",
          "text": [
            "\r",
            "Evaluating:  61%|?��?��?��?��?��?��    | 475/782 [04:17<02:59,  1.71it/s]"
          ]
        },
        {
          "name": "stderr",
          "output_type": "stream",
          "text": [
            "\r",
            "Evaluating:  61%|?��?��?��?��?��?��    | 476/782 [04:18<02:58,  1.71it/s]"
          ]
        },
        {
          "name": "stderr",
          "output_type": "stream",
          "text": [
            "\r",
            "Evaluating:  61%|?��?��?��?��?��?��    | 477/782 [04:18<02:57,  1.72it/s]"
          ]
        },
        {
          "name": "stderr",
          "output_type": "stream",
          "text": [
            "\r",
            "Evaluating:  61%|?��?��?��?��?��?��    | 478/782 [04:19<02:57,  1.71it/s]"
          ]
        },
        {
          "name": "stderr",
          "output_type": "stream",
          "text": [
            "\r",
            "Evaluating:  61%|?��?��?��?��?��?��?��   | 479/782 [04:19<02:56,  1.71it/s]"
          ]
        },
        {
          "name": "stderr",
          "output_type": "stream",
          "text": [
            "\r",
            "Evaluating:  61%|?��?��?��?��?��?��?��   | 480/782 [04:20<02:56,  1.71it/s]"
          ]
        },
        {
          "name": "stderr",
          "output_type": "stream",
          "text": [
            "\r",
            "Evaluating:  62%|?��?��?��?��?��?��?��   | 481/782 [04:21<02:55,  1.72it/s]"
          ]
        },
        {
          "name": "stderr",
          "output_type": "stream",
          "text": [
            "\r",
            "Evaluating:  62%|?��?��?��?��?��?��?��   | 482/782 [04:21<02:54,  1.72it/s]"
          ]
        },
        {
          "name": "stderr",
          "output_type": "stream",
          "text": [
            "\r",
            "Evaluating:  62%|?��?��?��?��?��?��?��   | 483/782 [04:22<02:54,  1.72it/s]"
          ]
        },
        {
          "name": "stderr",
          "output_type": "stream",
          "text": [
            "\r",
            "Evaluating:  62%|?��?��?��?��?��?��?��   | 484/782 [04:22<02:53,  1.72it/s]"
          ]
        },
        {
          "name": "stderr",
          "output_type": "stream",
          "text": [
            "\r",
            "Evaluating:  62%|?��?��?��?��?��?��?��   | 485/782 [04:23<02:52,  1.72it/s]"
          ]
        },
        {
          "name": "stderr",
          "output_type": "stream",
          "text": [
            "\r",
            "Evaluating:  62%|?��?��?��?��?��?��?��   | 486/782 [04:24<02:52,  1.72it/s]"
          ]
        },
        {
          "name": "stderr",
          "output_type": "stream",
          "text": [
            "\r",
            "Evaluating:  62%|?��?��?��?��?��?��?��   | 487/782 [04:24<02:51,  1.72it/s]"
          ]
        },
        {
          "name": "stderr",
          "output_type": "stream",
          "text": [
            "\r",
            "Evaluating:  62%|?��?��?��?��?��?��?��   | 488/782 [04:25<02:50,  1.73it/s]"
          ]
        },
        {
          "name": "stderr",
          "output_type": "stream",
          "text": [
            "\r",
            "Evaluating:  63%|?��?��?��?��?��?��?��   | 489/782 [04:25<02:49,  1.73it/s]"
          ]
        },
        {
          "name": "stderr",
          "output_type": "stream",
          "text": [
            "\r",
            "Evaluating:  63%|?��?��?��?��?��?��?��   | 490/782 [04:26<02:49,  1.72it/s]"
          ]
        },
        {
          "name": "stderr",
          "output_type": "stream",
          "text": [
            "\r",
            "Evaluating:  63%|?��?��?��?��?��?��?��   | 491/782 [04:26<02:50,  1.71it/s]"
          ]
        },
        {
          "name": "stderr",
          "output_type": "stream",
          "text": [
            "\r",
            "Evaluating:  63%|?��?��?��?��?��?��?��   | 492/782 [04:27<02:51,  1.69it/s]"
          ]
        },
        {
          "name": "stderr",
          "output_type": "stream",
          "text": [
            "\r",
            "Evaluating:  63%|?��?��?��?��?��?��?��   | 493/782 [04:28<02:52,  1.68it/s]"
          ]
        },
        {
          "name": "stderr",
          "output_type": "stream",
          "text": [
            "\r",
            "Evaluating:  63%|?��?��?��?��?��?��?��   | 494/782 [04:28<02:52,  1.67it/s]"
          ]
        },
        {
          "name": "stderr",
          "output_type": "stream",
          "text": [
            "\r",
            "Evaluating:  63%|?��?��?��?��?��?��?��   | 495/782 [04:29<02:52,  1.67it/s]"
          ]
        },
        {
          "name": "stderr",
          "output_type": "stream",
          "text": [
            "\r",
            "Evaluating:  63%|?��?��?��?��?��?��?��   | 496/782 [04:29<02:52,  1.66it/s]"
          ]
        },
        {
          "name": "stderr",
          "output_type": "stream",
          "text": [
            "\r",
            "Evaluating:  64%|?��?��?��?��?��?��?��   | 497/782 [04:30<02:51,  1.66it/s]"
          ]
        },
        {
          "name": "stderr",
          "output_type": "stream",
          "text": [
            "\r",
            "Evaluating:  64%|?��?��?��?��?��?��?��   | 498/782 [04:31<02:50,  1.66it/s]"
          ]
        },
        {
          "name": "stderr",
          "output_type": "stream",
          "text": [
            "\r",
            "Evaluating:  64%|?��?��?��?��?��?��?��   | 499/782 [04:31<02:49,  1.67it/s]"
          ]
        },
        {
          "name": "stderr",
          "output_type": "stream",
          "text": [
            "\r",
            "Evaluating:  64%|?��?��?��?��?��?��?��   | 500/782 [04:32<02:49,  1.66it/s]"
          ]
        },
        {
          "name": "stderr",
          "output_type": "stream",
          "text": [
            "\r",
            "Evaluating:  64%|?��?��?��?��?��?��?��   | 501/782 [04:32<02:48,  1.67it/s]"
          ]
        },
        {
          "name": "stderr",
          "output_type": "stream",
          "text": [
            "\r",
            "Evaluating:  64%|?��?��?��?��?��?��?��   | 502/782 [04:33<02:47,  1.67it/s]"
          ]
        },
        {
          "name": "stderr",
          "output_type": "stream",
          "text": [
            "\r",
            "Evaluating:  64%|?��?��?��?��?��?��?��   | 503/782 [04:34<02:47,  1.67it/s]"
          ]
        },
        {
          "name": "stderr",
          "output_type": "stream",
          "text": [
            "\r",
            "Evaluating:  64%|?��?��?��?��?��?��?��   | 504/782 [04:34<02:46,  1.67it/s]"
          ]
        },
        {
          "name": "stderr",
          "output_type": "stream",
          "text": [
            "\r",
            "Evaluating:  65%|?��?��?��?��?��?��?��   | 505/782 [04:35<02:46,  1.67it/s]"
          ]
        },
        {
          "name": "stderr",
          "output_type": "stream",
          "text": [
            "\r",
            "Evaluating:  65%|?��?��?��?��?��?��?��   | 506/782 [04:35<02:45,  1.67it/s]"
          ]
        },
        {
          "name": "stderr",
          "output_type": "stream",
          "text": [
            "\r",
            "Evaluating:  65%|?��?��?��?��?��?��?��   | 507/782 [04:36<02:44,  1.67it/s]"
          ]
        },
        {
          "name": "stderr",
          "output_type": "stream",
          "text": [
            "\r",
            "Evaluating:  65%|?��?��?��?��?��?��?��   | 508/782 [04:37<02:44,  1.67it/s]"
          ]
        },
        {
          "name": "stderr",
          "output_type": "stream",
          "text": [
            "\r",
            "Evaluating:  65%|?��?��?��?��?��?��?��   | 509/782 [04:37<02:43,  1.67it/s]"
          ]
        },
        {
          "name": "stderr",
          "output_type": "stream",
          "text": [
            "\r",
            "Evaluating:  65%|?��?��?��?��?��?��?��   | 510/782 [04:38<02:43,  1.67it/s]"
          ]
        },
        {
          "name": "stderr",
          "output_type": "stream",
          "text": [
            "\r",
            "Evaluating:  65%|?��?��?��?��?��?��?��   | 511/782 [04:38<02:42,  1.67it/s]"
          ]
        },
        {
          "name": "stderr",
          "output_type": "stream",
          "text": [
            "\r",
            "Evaluating:  65%|?��?��?��?��?��?��?��   | 512/782 [04:39<02:41,  1.67it/s]"
          ]
        },
        {
          "name": "stderr",
          "output_type": "stream",
          "text": [
            "\r",
            "Evaluating:  66%|?��?��?��?��?��?��?��   | 513/782 [04:40<02:41,  1.67it/s]"
          ]
        },
        {
          "name": "stderr",
          "output_type": "stream",
          "text": [
            "\r",
            "Evaluating:  66%|?��?��?��?��?��?��?��   | 514/782 [04:40<02:40,  1.67it/s]"
          ]
        },
        {
          "name": "stderr",
          "output_type": "stream",
          "text": [
            "\r",
            "Evaluating:  66%|?��?��?��?��?��?��?��   | 515/782 [04:41<02:40,  1.67it/s]"
          ]
        },
        {
          "name": "stderr",
          "output_type": "stream",
          "text": [
            "\r",
            "Evaluating:  66%|?��?��?��?��?��?��?��   | 516/782 [04:41<02:39,  1.67it/s]"
          ]
        },
        {
          "name": "stderr",
          "output_type": "stream",
          "text": [
            "\r",
            "Evaluating:  66%|?��?��?��?��?��?��?��   | 517/782 [04:42<02:38,  1.67it/s]"
          ]
        },
        {
          "name": "stderr",
          "output_type": "stream",
          "text": [
            "\r",
            "Evaluating:  66%|?��?��?��?��?��?��?��   | 518/782 [04:43<02:38,  1.67it/s]"
          ]
        },
        {
          "name": "stderr",
          "output_type": "stream",
          "text": [
            "\r",
            "Evaluating:  66%|?��?��?��?��?��?��?��   | 519/782 [04:43<02:37,  1.67it/s]"
          ]
        },
        {
          "name": "stderr",
          "output_type": "stream",
          "text": [
            "\r",
            "Evaluating:  66%|?��?��?��?��?��?��?��   | 520/782 [04:44<02:37,  1.67it/s]"
          ]
        },
        {
          "name": "stderr",
          "output_type": "stream",
          "text": [
            "\r",
            "Evaluating:  67%|?��?��?��?��?��?��?��   | 521/782 [04:44<02:36,  1.67it/s]"
          ]
        },
        {
          "name": "stderr",
          "output_type": "stream",
          "text": [
            "\r",
            "Evaluating:  67%|?��?��?��?��?��?��?��   | 522/782 [04:45<02:36,  1.66it/s]"
          ]
        },
        {
          "name": "stderr",
          "output_type": "stream",
          "text": [
            "\r",
            "Evaluating:  67%|?��?��?��?��?��?��?��   | 523/782 [04:46<02:35,  1.66it/s]"
          ]
        },
        {
          "name": "stderr",
          "output_type": "stream",
          "text": [
            "\r",
            "Evaluating:  67%|?��?��?��?��?��?��?��   | 524/782 [04:46<02:35,  1.66it/s]"
          ]
        },
        {
          "name": "stderr",
          "output_type": "stream",
          "text": [
            "\r",
            "Evaluating:  67%|?��?��?��?��?��?��?��   | 525/782 [04:47<02:34,  1.66it/s]"
          ]
        },
        {
          "name": "stderr",
          "output_type": "stream",
          "text": [
            "\r",
            "Evaluating:  67%|?��?��?��?��?��?��?��   | 526/782 [04:47<02:34,  1.66it/s]"
          ]
        },
        {
          "name": "stderr",
          "output_type": "stream",
          "text": [
            "\r",
            "Evaluating:  67%|?��?��?��?��?��?��?��   | 527/782 [04:48<02:34,  1.66it/s]"
          ]
        },
        {
          "name": "stderr",
          "output_type": "stream",
          "text": [
            "\r",
            "Evaluating:  68%|?��?��?��?��?��?��?��   | 528/782 [04:49<02:33,  1.65it/s]"
          ]
        },
        {
          "name": "stderr",
          "output_type": "stream",
          "text": [
            "\r",
            "Evaluating:  68%|?��?��?��?��?��?��?��   | 529/782 [04:49<02:32,  1.66it/s]"
          ]
        },
        {
          "name": "stderr",
          "output_type": "stream",
          "text": [
            "\r",
            "Evaluating:  68%|?��?��?��?��?��?��?��   | 530/782 [04:50<02:31,  1.66it/s]"
          ]
        },
        {
          "name": "stderr",
          "output_type": "stream",
          "text": [
            "\r",
            "Evaluating:  68%|?��?��?��?��?��?��?��   | 531/782 [04:51<02:31,  1.66it/s]"
          ]
        },
        {
          "name": "stderr",
          "output_type": "stream",
          "text": [
            "\r",
            "Evaluating:  68%|?��?��?��?��?��?��?��   | 532/782 [04:51<02:30,  1.66it/s]"
          ]
        },
        {
          "name": "stderr",
          "output_type": "stream",
          "text": [
            "\r",
            "Evaluating:  68%|?��?��?��?��?��?��?��   | 533/782 [04:52<02:29,  1.66it/s]"
          ]
        },
        {
          "name": "stderr",
          "output_type": "stream",
          "text": [
            "\r",
            "Evaluating:  68%|?��?��?��?��?��?��?��   | 534/782 [04:52<02:29,  1.66it/s]"
          ]
        },
        {
          "name": "stderr",
          "output_type": "stream",
          "text": [
            "\r",
            "Evaluating:  68%|?��?��?��?��?��?��?��   | 535/782 [04:53<02:28,  1.66it/s]"
          ]
        },
        {
          "name": "stderr",
          "output_type": "stream",
          "text": [
            "\r",
            "Evaluating:  69%|?��?��?��?��?��?��?��   | 536/782 [04:54<02:27,  1.67it/s]"
          ]
        },
        {
          "name": "stderr",
          "output_type": "stream",
          "text": [
            "\r",
            "Evaluating:  69%|?��?��?��?��?��?��?��   | 537/782 [04:54<02:27,  1.66it/s]"
          ]
        },
        {
          "name": "stderr",
          "output_type": "stream",
          "text": [
            "\r",
            "Evaluating:  69%|?��?��?��?��?��?��?��   | 538/782 [04:55<02:27,  1.66it/s]"
          ]
        },
        {
          "name": "stderr",
          "output_type": "stream",
          "text": [
            "\r",
            "Evaluating:  69%|?��?��?��?��?��?��?��   | 539/782 [04:55<02:26,  1.66it/s]"
          ]
        },
        {
          "name": "stderr",
          "output_type": "stream",
          "text": [
            "\r",
            "Evaluating:  69%|?��?��?��?��?��?��?��   | 540/782 [04:56<02:25,  1.66it/s]"
          ]
        },
        {
          "name": "stderr",
          "output_type": "stream",
          "text": [
            "\r",
            "Evaluating:  69%|?��?��?��?��?��?��?��   | 541/782 [04:57<02:25,  1.66it/s]"
          ]
        },
        {
          "name": "stderr",
          "output_type": "stream",
          "text": [
            "\r",
            "Evaluating:  69%|?��?��?��?��?��?��?��   | 542/782 [04:57<02:24,  1.66it/s]"
          ]
        },
        {
          "name": "stderr",
          "output_type": "stream",
          "text": [
            "\r",
            "Evaluating:  69%|?��?��?��?��?��?��?��   | 543/782 [04:58<02:23,  1.66it/s]"
          ]
        },
        {
          "name": "stderr",
          "output_type": "stream",
          "text": [
            "\r",
            "Evaluating:  70%|?��?��?��?��?��?��?��   | 544/782 [04:58<02:23,  1.66it/s]"
          ]
        },
        {
          "name": "stderr",
          "output_type": "stream",
          "text": [
            "\r",
            "Evaluating:  70%|?��?��?��?��?��?��?��   | 545/782 [04:59<02:22,  1.66it/s]"
          ]
        },
        {
          "name": "stderr",
          "output_type": "stream",
          "text": [
            "\r",
            "Evaluating:  70%|?��?��?��?��?��?��?��   | 546/782 [05:00<02:22,  1.66it/s]"
          ]
        },
        {
          "name": "stderr",
          "output_type": "stream",
          "text": [
            "\r",
            "Evaluating:  70%|?��?��?��?��?��?��?��   | 547/782 [05:00<02:21,  1.66it/s]"
          ]
        },
        {
          "name": "stderr",
          "output_type": "stream",
          "text": [
            "\r",
            "Evaluating:  70%|?��?��?��?��?��?��?��   | 548/782 [05:01<02:20,  1.66it/s]"
          ]
        },
        {
          "name": "stderr",
          "output_type": "stream",
          "text": [
            "\r",
            "Evaluating:  70%|?��?��?��?��?��?��?��   | 549/782 [05:01<02:20,  1.66it/s]"
          ]
        },
        {
          "name": "stderr",
          "output_type": "stream",
          "text": [
            "\r",
            "Evaluating:  70%|?��?��?��?��?��?��?��   | 550/782 [05:02<02:19,  1.66it/s]"
          ]
        },
        {
          "name": "stderr",
          "output_type": "stream",
          "text": [
            "\r",
            "Evaluating:  70%|?��?��?��?��?��?��?��   | 551/782 [05:03<02:18,  1.66it/s]"
          ]
        },
        {
          "name": "stderr",
          "output_type": "stream",
          "text": [
            "\r",
            "Evaluating:  71%|?��?��?��?��?��?��?��   | 552/782 [05:03<02:18,  1.66it/s]"
          ]
        },
        {
          "name": "stderr",
          "output_type": "stream",
          "text": [
            "\r",
            "Evaluating:  71%|?��?��?��?��?��?��?��   | 553/782 [05:04<02:17,  1.67it/s]"
          ]
        },
        {
          "name": "stderr",
          "output_type": "stream",
          "text": [
            "\r",
            "Evaluating:  71%|?��?��?��?��?��?��?��   | 554/782 [05:04<02:17,  1.66it/s]"
          ]
        },
        {
          "name": "stderr",
          "output_type": "stream",
          "text": [
            "\r",
            "Evaluating:  71%|?��?��?��?��?��?��?��   | 555/782 [05:05<02:16,  1.66it/s]"
          ]
        },
        {
          "name": "stderr",
          "output_type": "stream",
          "text": [
            "\r",
            "Evaluating:  71%|?��?��?��?��?��?��?��   | 556/782 [05:06<02:15,  1.66it/s]"
          ]
        },
        {
          "name": "stderr",
          "output_type": "stream",
          "text": [
            "\r",
            "Evaluating:  71%|?��?��?��?��?��?��?��   | 557/782 [05:06<02:15,  1.66it/s]"
          ]
        },
        {
          "name": "stderr",
          "output_type": "stream",
          "text": [
            "\r",
            "Evaluating:  71%|?��?��?��?��?��?��?��?��  | 558/782 [05:07<02:14,  1.66it/s]"
          ]
        },
        {
          "name": "stderr",
          "output_type": "stream",
          "text": [
            "\r",
            "Evaluating:  71%|?��?��?��?��?��?��?��?��  | 559/782 [05:07<02:14,  1.66it/s]"
          ]
        },
        {
          "name": "stderr",
          "output_type": "stream",
          "text": [
            "\r",
            "Evaluating:  72%|?��?��?��?��?��?��?��?��  | 560/782 [05:08<02:13,  1.66it/s]"
          ]
        },
        {
          "name": "stderr",
          "output_type": "stream",
          "text": [
            "\r",
            "Evaluating:  72%|?��?��?��?��?��?��?��?��  | 561/782 [05:09<02:12,  1.66it/s]"
          ]
        },
        {
          "name": "stderr",
          "output_type": "stream",
          "text": [
            "\r",
            "Evaluating:  72%|?��?��?��?��?��?��?��?��  | 562/782 [05:09<02:12,  1.67it/s]"
          ]
        },
        {
          "name": "stderr",
          "output_type": "stream",
          "text": [
            "\r",
            "Evaluating:  72%|?��?��?��?��?��?��?��?��  | 563/782 [05:10<02:11,  1.67it/s]"
          ]
        },
        {
          "name": "stderr",
          "output_type": "stream",
          "text": [
            "\r",
            "Evaluating:  72%|?��?��?��?��?��?��?��?��  | 564/782 [05:10<02:10,  1.67it/s]"
          ]
        },
        {
          "name": "stderr",
          "output_type": "stream",
          "text": [
            "\r",
            "Evaluating:  72%|?��?��?��?��?��?��?��?��  | 565/782 [05:11<02:10,  1.66it/s]"
          ]
        },
        {
          "name": "stderr",
          "output_type": "stream",
          "text": [
            "\r",
            "Evaluating:  72%|?��?��?��?��?��?��?��?��  | 566/782 [05:12<02:09,  1.66it/s]"
          ]
        },
        {
          "name": "stderr",
          "output_type": "stream",
          "text": [
            "\r",
            "Evaluating:  73%|?��?��?��?��?��?��?��?��  | 567/782 [05:12<02:09,  1.66it/s]"
          ]
        },
        {
          "name": "stderr",
          "output_type": "stream",
          "text": [
            "\r",
            "Evaluating:  73%|?��?��?��?��?��?��?��?��  | 568/782 [05:13<02:08,  1.66it/s]"
          ]
        },
        {
          "name": "stderr",
          "output_type": "stream",
          "text": [
            "\r",
            "Evaluating:  73%|?��?��?��?��?��?��?��?��  | 569/782 [05:13<02:08,  1.66it/s]"
          ]
        },
        {
          "name": "stderr",
          "output_type": "stream",
          "text": [
            "\r",
            "Evaluating:  73%|?��?��?��?��?��?��?��?��  | 570/782 [05:14<02:07,  1.66it/s]"
          ]
        },
        {
          "name": "stderr",
          "output_type": "stream",
          "text": [
            "\r",
            "Evaluating:  73%|?��?��?��?��?��?��?��?��  | 571/782 [05:15<02:07,  1.66it/s]"
          ]
        },
        {
          "name": "stderr",
          "output_type": "stream",
          "text": [
            "\r",
            "Evaluating:  73%|?��?��?��?��?��?��?��?��  | 572/782 [05:15<02:06,  1.66it/s]"
          ]
        },
        {
          "name": "stderr",
          "output_type": "stream",
          "text": [
            "\r",
            "Evaluating:  73%|?��?��?��?��?��?��?��?��  | 573/782 [05:16<02:06,  1.66it/s]"
          ]
        },
        {
          "name": "stderr",
          "output_type": "stream",
          "text": [
            "\r",
            "Evaluating:  73%|?��?��?��?��?��?��?��?��  | 574/782 [05:16<02:05,  1.66it/s]"
          ]
        },
        {
          "name": "stderr",
          "output_type": "stream",
          "text": [
            "\r",
            "Evaluating:  74%|?��?��?��?��?��?��?��?��  | 575/782 [05:17<02:04,  1.66it/s]"
          ]
        },
        {
          "name": "stderr",
          "output_type": "stream",
          "text": [
            "\r",
            "Evaluating:  74%|?��?��?��?��?��?��?��?��  | 576/782 [05:18<02:04,  1.66it/s]"
          ]
        },
        {
          "name": "stderr",
          "output_type": "stream",
          "text": [
            "\r",
            "Evaluating:  74%|?��?��?��?��?��?��?��?��  | 577/782 [05:18<02:03,  1.66it/s]"
          ]
        },
        {
          "name": "stderr",
          "output_type": "stream",
          "text": [
            "\r",
            "Evaluating:  74%|?��?��?��?��?��?��?��?��  | 578/782 [05:19<02:02,  1.66it/s]"
          ]
        },
        {
          "name": "stderr",
          "output_type": "stream",
          "text": [
            "\r",
            "Evaluating:  74%|?��?��?��?��?��?��?��?��  | 579/782 [05:19<02:01,  1.66it/s]"
          ]
        },
        {
          "name": "stderr",
          "output_type": "stream",
          "text": [
            "\r",
            "Evaluating:  74%|?��?��?��?��?��?��?��?��  | 580/782 [05:20<02:01,  1.66it/s]"
          ]
        },
        {
          "name": "stderr",
          "output_type": "stream",
          "text": [
            "\r",
            "Evaluating:  74%|?��?��?��?��?��?��?��?��  | 581/782 [05:21<02:00,  1.66it/s]"
          ]
        },
        {
          "name": "stderr",
          "output_type": "stream",
          "text": [
            "\r",
            "Evaluating:  74%|?��?��?��?��?��?��?��?��  | 582/782 [05:21<02:00,  1.66it/s]"
          ]
        },
        {
          "name": "stderr",
          "output_type": "stream",
          "text": [
            "\r",
            "Evaluating:  75%|?��?��?��?��?��?��?��?��  | 583/782 [05:22<01:59,  1.66it/s]"
          ]
        },
        {
          "name": "stderr",
          "output_type": "stream",
          "text": [
            "\r",
            "Evaluating:  75%|?��?��?��?��?��?��?��?��  | 584/782 [05:22<01:59,  1.66it/s]"
          ]
        },
        {
          "name": "stderr",
          "output_type": "stream",
          "text": [
            "\r",
            "Evaluating:  75%|?��?��?��?��?��?��?��?��  | 585/782 [05:23<01:58,  1.66it/s]"
          ]
        },
        {
          "name": "stderr",
          "output_type": "stream",
          "text": [
            "\r",
            "Evaluating:  75%|?��?��?��?��?��?��?��?��  | 586/782 [05:24<01:57,  1.66it/s]"
          ]
        },
        {
          "name": "stderr",
          "output_type": "stream",
          "text": [
            "\r",
            "Evaluating:  75%|?��?��?��?��?��?��?��?��  | 587/782 [05:24<01:57,  1.67it/s]"
          ]
        },
        {
          "name": "stderr",
          "output_type": "stream",
          "text": [
            "\r",
            "Evaluating:  75%|?��?��?��?��?��?��?��?��  | 588/782 [05:25<01:56,  1.67it/s]"
          ]
        },
        {
          "name": "stderr",
          "output_type": "stream",
          "text": [
            "\r",
            "Evaluating:  75%|?��?��?��?��?��?��?��?��  | 589/782 [05:25<01:55,  1.67it/s]"
          ]
        },
        {
          "name": "stderr",
          "output_type": "stream",
          "text": [
            "\r",
            "Evaluating:  75%|?��?��?��?��?��?��?��?��  | 590/782 [05:26<01:55,  1.67it/s]"
          ]
        },
        {
          "name": "stderr",
          "output_type": "stream",
          "text": [
            "\r",
            "Evaluating:  76%|?��?��?��?��?��?��?��?��  | 591/782 [05:27<01:54,  1.67it/s]"
          ]
        },
        {
          "name": "stderr",
          "output_type": "stream",
          "text": [
            "\r",
            "Evaluating:  76%|?��?��?��?��?��?��?��?��  | 592/782 [05:27<01:54,  1.67it/s]"
          ]
        },
        {
          "name": "stderr",
          "output_type": "stream",
          "text": [
            "\r",
            "Evaluating:  76%|?��?��?��?��?��?��?��?��  | 593/782 [05:28<01:53,  1.66it/s]"
          ]
        },
        {
          "name": "stderr",
          "output_type": "stream",
          "text": [
            "\r",
            "Evaluating:  76%|?��?��?��?��?��?��?��?��  | 594/782 [05:28<01:52,  1.67it/s]"
          ]
        },
        {
          "name": "stderr",
          "output_type": "stream",
          "text": [
            "\r",
            "Evaluating:  76%|?��?��?��?��?��?��?��?��  | 595/782 [05:29<01:52,  1.67it/s]"
          ]
        },
        {
          "name": "stderr",
          "output_type": "stream",
          "text": [
            "\r",
            "Evaluating:  76%|?��?��?��?��?��?��?��?��  | 596/782 [05:30<01:51,  1.67it/s]"
          ]
        },
        {
          "name": "stderr",
          "output_type": "stream",
          "text": [
            "\r",
            "Evaluating:  76%|?��?��?��?��?��?��?��?��  | 597/782 [05:30<01:50,  1.67it/s]"
          ]
        },
        {
          "name": "stderr",
          "output_type": "stream",
          "text": [
            "\r",
            "Evaluating:  76%|?��?��?��?��?��?��?��?��  | 598/782 [05:31<01:50,  1.67it/s]"
          ]
        },
        {
          "name": "stderr",
          "output_type": "stream",
          "text": [
            "\r",
            "Evaluating:  77%|?��?��?��?��?��?��?��?��  | 599/782 [05:31<01:49,  1.66it/s]"
          ]
        },
        {
          "name": "stderr",
          "output_type": "stream",
          "text": [
            "\r",
            "Evaluating:  77%|?��?��?��?��?��?��?��?��  | 600/782 [05:32<01:49,  1.66it/s]"
          ]
        },
        {
          "name": "stderr",
          "output_type": "stream",
          "text": [
            "\r",
            "Evaluating:  77%|?��?��?��?��?��?��?��?��  | 601/782 [05:33<01:48,  1.66it/s]"
          ]
        },
        {
          "name": "stderr",
          "output_type": "stream",
          "text": [
            "\r",
            "Evaluating:  77%|?��?��?��?��?��?��?��?��  | 602/782 [05:33<01:48,  1.66it/s]"
          ]
        },
        {
          "name": "stderr",
          "output_type": "stream",
          "text": [
            "\r",
            "Evaluating:  77%|?��?��?��?��?��?��?��?��  | 603/782 [05:34<01:47,  1.66it/s]"
          ]
        },
        {
          "name": "stderr",
          "output_type": "stream",
          "text": [
            "\r",
            "Evaluating:  77%|?��?��?��?��?��?��?��?��  | 604/782 [05:34<01:47,  1.66it/s]"
          ]
        },
        {
          "name": "stderr",
          "output_type": "stream",
          "text": [
            "\r",
            "Evaluating:  77%|?��?��?��?��?��?��?��?��  | 605/782 [05:35<01:46,  1.66it/s]"
          ]
        },
        {
          "name": "stderr",
          "output_type": "stream",
          "text": [
            "\r",
            "Evaluating:  77%|?��?��?��?��?��?��?��?��  | 606/782 [05:36<01:45,  1.66it/s]"
          ]
        },
        {
          "name": "stderr",
          "output_type": "stream",
          "text": [
            "\r",
            "Evaluating:  78%|?��?��?��?��?��?��?��?��  | 607/782 [05:36<01:45,  1.66it/s]"
          ]
        },
        {
          "name": "stderr",
          "output_type": "stream",
          "text": [
            "\r",
            "Evaluating:  78%|?��?��?��?��?��?��?��?��  | 608/782 [05:37<01:44,  1.66it/s]"
          ]
        },
        {
          "name": "stderr",
          "output_type": "stream",
          "text": [
            "\r",
            "Evaluating:  78%|?��?��?��?��?��?��?��?��  | 609/782 [05:37<01:44,  1.66it/s]"
          ]
        },
        {
          "name": "stderr",
          "output_type": "stream",
          "text": [
            "\r",
            "Evaluating:  78%|?��?��?��?��?��?��?��?��  | 610/782 [05:38<01:43,  1.66it/s]"
          ]
        },
        {
          "name": "stderr",
          "output_type": "stream",
          "text": [
            "\r",
            "Evaluating:  78%|?��?��?��?��?��?��?��?��  | 611/782 [05:39<01:43,  1.66it/s]"
          ]
        },
        {
          "name": "stderr",
          "output_type": "stream",
          "text": [
            "\r",
            "Evaluating:  78%|?��?��?��?��?��?��?��?��  | 612/782 [05:39<01:42,  1.66it/s]"
          ]
        },
        {
          "name": "stderr",
          "output_type": "stream",
          "text": [
            "\r",
            "Evaluating:  78%|?��?��?��?��?��?��?��?��  | 613/782 [05:40<01:41,  1.66it/s]"
          ]
        },
        {
          "name": "stderr",
          "output_type": "stream",
          "text": [
            "\r",
            "Evaluating:  79%|?��?��?��?��?��?��?��?��  | 614/782 [05:40<01:41,  1.66it/s]"
          ]
        },
        {
          "name": "stderr",
          "output_type": "stream",
          "text": [
            "\r",
            "Evaluating:  79%|?��?��?��?��?��?��?��?��  | 615/782 [05:41<01:40,  1.66it/s]"
          ]
        },
        {
          "name": "stderr",
          "output_type": "stream",
          "text": [
            "\r",
            "Evaluating:  79%|?��?��?��?��?��?��?��?��  | 616/782 [05:42<01:39,  1.66it/s]"
          ]
        },
        {
          "name": "stderr",
          "output_type": "stream",
          "text": [
            "\r",
            "Evaluating:  79%|?��?��?��?��?��?��?��?��  | 617/782 [05:42<01:39,  1.66it/s]"
          ]
        },
        {
          "name": "stderr",
          "output_type": "stream",
          "text": [
            "\r",
            "Evaluating:  79%|?��?��?��?��?��?��?��?��  | 618/782 [05:43<01:38,  1.66it/s]"
          ]
        },
        {
          "name": "stderr",
          "output_type": "stream",
          "text": [
            "\r",
            "Evaluating:  79%|?��?��?��?��?��?��?��?��  | 619/782 [05:43<01:38,  1.66it/s]"
          ]
        },
        {
          "name": "stderr",
          "output_type": "stream",
          "text": [
            "\r",
            "Evaluating:  79%|?��?��?��?��?��?��?��?��  | 620/782 [05:44<01:37,  1.66it/s]"
          ]
        },
        {
          "name": "stderr",
          "output_type": "stream",
          "text": [
            "\r",
            "Evaluating:  79%|?��?��?��?��?��?��?��?��  | 621/782 [05:45<01:37,  1.66it/s]"
          ]
        },
        {
          "name": "stderr",
          "output_type": "stream",
          "text": [
            "\r",
            "Evaluating:  80%|?��?��?��?��?��?��?��?��  | 622/782 [05:45<01:36,  1.66it/s]"
          ]
        },
        {
          "name": "stderr",
          "output_type": "stream",
          "text": [
            "\r",
            "Evaluating:  80%|?��?��?��?��?��?��?��?��  | 623/782 [05:46<01:35,  1.66it/s]"
          ]
        },
        {
          "name": "stderr",
          "output_type": "stream",
          "text": [
            "\r",
            "Evaluating:  80%|?��?��?��?��?��?��?��?��  | 624/782 [05:46<01:35,  1.66it/s]"
          ]
        },
        {
          "name": "stderr",
          "output_type": "stream",
          "text": [
            "\r",
            "Evaluating:  80%|?��?��?��?��?��?��?��?��  | 625/782 [05:47<01:34,  1.66it/s]"
          ]
        },
        {
          "name": "stderr",
          "output_type": "stream",
          "text": [
            "\r",
            "Evaluating:  80%|?��?��?��?��?��?��?��?��  | 626/782 [05:48<01:34,  1.66it/s]"
          ]
        },
        {
          "name": "stderr",
          "output_type": "stream",
          "text": [
            "\r",
            "Evaluating:  80%|?��?��?��?��?��?��?��?��  | 627/782 [05:48<01:33,  1.66it/s]"
          ]
        },
        {
          "name": "stderr",
          "output_type": "stream",
          "text": [
            "\r",
            "Evaluating:  80%|?��?��?��?��?��?��?��?��  | 628/782 [05:49<01:33,  1.65it/s]"
          ]
        },
        {
          "name": "stderr",
          "output_type": "stream",
          "text": [
            "\r",
            "Evaluating:  80%|?��?��?��?��?��?��?��?��  | 629/782 [05:49<01:32,  1.65it/s]"
          ]
        },
        {
          "name": "stderr",
          "output_type": "stream",
          "text": [
            "\r",
            "Evaluating:  81%|?��?��?��?��?��?��?��?��  | 630/782 [05:50<01:31,  1.65it/s]"
          ]
        },
        {
          "name": "stderr",
          "output_type": "stream",
          "text": [
            "\r",
            "Evaluating:  81%|?��?��?��?��?��?��?��?��  | 631/782 [05:51<01:31,  1.66it/s]"
          ]
        },
        {
          "name": "stderr",
          "output_type": "stream",
          "text": [
            "\r",
            "Evaluating:  81%|?��?��?��?��?��?��?��?��  | 632/782 [05:51<01:30,  1.66it/s]"
          ]
        },
        {
          "name": "stderr",
          "output_type": "stream",
          "text": [
            "\r",
            "Evaluating:  81%|?��?��?��?��?��?��?��?��  | 633/782 [05:52<01:29,  1.66it/s]"
          ]
        },
        {
          "name": "stderr",
          "output_type": "stream",
          "text": [
            "\r",
            "Evaluating:  81%|?��?��?��?��?��?��?��?��  | 634/782 [05:53<01:29,  1.66it/s]"
          ]
        },
        {
          "name": "stderr",
          "output_type": "stream",
          "text": [
            "\r",
            "Evaluating:  81%|?��?��?��?��?��?��?��?��  | 635/782 [05:53<01:28,  1.66it/s]"
          ]
        },
        {
          "name": "stderr",
          "output_type": "stream",
          "text": [
            "\r",
            "Evaluating:  81%|?��?��?��?��?��?��?��?��?�� | 636/782 [05:54<01:28,  1.66it/s]"
          ]
        },
        {
          "name": "stderr",
          "output_type": "stream",
          "text": [
            "\r",
            "Evaluating:  81%|?��?��?��?��?��?��?��?��?�� | 637/782 [05:54<01:27,  1.66it/s]"
          ]
        },
        {
          "name": "stderr",
          "output_type": "stream",
          "text": [
            "\r",
            "Evaluating:  82%|?��?��?��?��?��?��?��?��?�� | 638/782 [05:55<01:26,  1.66it/s]"
          ]
        },
        {
          "name": "stderr",
          "output_type": "stream",
          "text": [
            "\r",
            "Evaluating:  82%|?��?��?��?��?��?��?��?��?�� | 639/782 [05:56<01:26,  1.66it/s]"
          ]
        },
        {
          "name": "stderr",
          "output_type": "stream",
          "text": [
            "\r",
            "Evaluating:  82%|?��?��?��?��?��?��?��?��?�� | 640/782 [05:56<01:25,  1.66it/s]"
          ]
        },
        {
          "name": "stderr",
          "output_type": "stream",
          "text": [
            "\r",
            "Evaluating:  82%|?��?��?��?��?��?��?��?��?�� | 641/782 [05:57<01:25,  1.66it/s]"
          ]
        },
        {
          "name": "stderr",
          "output_type": "stream",
          "text": [
            "\r",
            "Evaluating:  82%|?��?��?��?��?��?��?��?��?�� | 642/782 [05:57<01:24,  1.66it/s]"
          ]
        },
        {
          "name": "stderr",
          "output_type": "stream",
          "text": [
            "\r",
            "Evaluating:  82%|?��?��?��?��?��?��?��?��?�� | 643/782 [05:58<01:23,  1.66it/s]"
          ]
        },
        {
          "name": "stderr",
          "output_type": "stream",
          "text": [
            "\r",
            "Evaluating:  82%|?��?��?��?��?��?��?��?��?�� | 644/782 [05:59<01:23,  1.66it/s]"
          ]
        },
        {
          "name": "stderr",
          "output_type": "stream",
          "text": [
            "\r",
            "Evaluating:  82%|?��?��?��?��?��?��?��?��?�� | 645/782 [05:59<01:22,  1.66it/s]"
          ]
        },
        {
          "name": "stderr",
          "output_type": "stream",
          "text": [
            "\r",
            "Evaluating:  83%|?��?��?��?��?��?��?��?��?�� | 646/782 [06:00<01:21,  1.66it/s]"
          ]
        },
        {
          "name": "stderr",
          "output_type": "stream",
          "text": [
            "\r",
            "Evaluating:  83%|?��?��?��?��?��?��?��?��?�� | 647/782 [06:00<01:21,  1.66it/s]"
          ]
        },
        {
          "name": "stderr",
          "output_type": "stream",
          "text": [
            "\r",
            "Evaluating:  83%|?��?��?��?��?��?��?��?��?�� | 648/782 [06:01<01:20,  1.66it/s]"
          ]
        },
        {
          "name": "stderr",
          "output_type": "stream",
          "text": [
            "\r",
            "Evaluating:  83%|?��?��?��?��?��?��?��?��?�� | 649/782 [06:02<01:19,  1.67it/s]"
          ]
        },
        {
          "name": "stderr",
          "output_type": "stream",
          "text": [
            "\r",
            "Evaluating:  83%|?��?��?��?��?��?��?��?��?�� | 650/782 [06:02<01:19,  1.67it/s]"
          ]
        },
        {
          "name": "stderr",
          "output_type": "stream",
          "text": [
            "\r",
            "Evaluating:  83%|?��?��?��?��?��?��?��?��?�� | 651/782 [06:03<01:18,  1.67it/s]"
          ]
        },
        {
          "name": "stderr",
          "output_type": "stream",
          "text": [
            "\r",
            "Evaluating:  83%|?��?��?��?��?��?��?��?��?�� | 652/782 [06:03<01:18,  1.67it/s]"
          ]
        },
        {
          "name": "stderr",
          "output_type": "stream",
          "text": [
            "\r",
            "Evaluating:  84%|?��?��?��?��?��?��?��?��?�� | 653/782 [06:04<01:17,  1.66it/s]"
          ]
        },
        {
          "name": "stderr",
          "output_type": "stream",
          "text": [
            "\r",
            "Evaluating:  84%|?��?��?��?��?��?��?��?��?�� | 654/782 [06:05<01:17,  1.66it/s]"
          ]
        },
        {
          "name": "stderr",
          "output_type": "stream",
          "text": [
            "\r",
            "Evaluating:  84%|?��?��?��?��?��?��?��?��?�� | 655/782 [06:05<01:16,  1.66it/s]"
          ]
        },
        {
          "name": "stderr",
          "output_type": "stream",
          "text": [
            "\r",
            "Evaluating:  84%|?��?��?��?��?��?��?��?��?�� | 656/782 [06:06<01:15,  1.66it/s]"
          ]
        },
        {
          "name": "stderr",
          "output_type": "stream",
          "text": [
            "\r",
            "Evaluating:  84%|?��?��?��?��?��?��?��?��?�� | 657/782 [06:06<01:15,  1.66it/s]"
          ]
        },
        {
          "name": "stderr",
          "output_type": "stream",
          "text": [
            "\r",
            "Evaluating:  84%|?��?��?��?��?��?��?��?��?�� | 658/782 [06:07<01:14,  1.66it/s]"
          ]
        },
        {
          "name": "stderr",
          "output_type": "stream",
          "text": [
            "\r",
            "Evaluating:  84%|?��?��?��?��?��?��?��?��?�� | 659/782 [06:08<01:13,  1.66it/s]"
          ]
        },
        {
          "name": "stderr",
          "output_type": "stream",
          "text": [
            "\r",
            "Evaluating:  84%|?��?��?��?��?��?��?��?��?�� | 660/782 [06:08<01:13,  1.66it/s]"
          ]
        },
        {
          "name": "stderr",
          "output_type": "stream",
          "text": [
            "\r",
            "Evaluating:  85%|?��?��?��?��?��?��?��?��?�� | 661/782 [06:09<01:12,  1.66it/s]"
          ]
        },
        {
          "name": "stderr",
          "output_type": "stream",
          "text": [
            "\r",
            "Evaluating:  85%|?��?��?��?��?��?��?��?��?�� | 662/782 [06:09<01:12,  1.66it/s]"
          ]
        },
        {
          "name": "stderr",
          "output_type": "stream",
          "text": [
            "\r",
            "Evaluating:  85%|?��?��?��?��?��?��?��?��?�� | 663/782 [06:10<01:11,  1.66it/s]"
          ]
        },
        {
          "name": "stderr",
          "output_type": "stream",
          "text": [
            "\r",
            "Evaluating:  85%|?��?��?��?��?��?��?��?��?�� | 664/782 [06:11<01:11,  1.66it/s]"
          ]
        },
        {
          "name": "stderr",
          "output_type": "stream",
          "text": [
            "\r",
            "Evaluating:  85%|?��?��?��?��?��?��?��?��?�� | 665/782 [06:11<01:10,  1.66it/s]"
          ]
        },
        {
          "name": "stderr",
          "output_type": "stream",
          "text": [
            "\r",
            "Evaluating:  85%|?��?��?��?��?��?��?��?��?�� | 666/782 [06:12<01:09,  1.66it/s]"
          ]
        },
        {
          "name": "stderr",
          "output_type": "stream",
          "text": [
            "\r",
            "Evaluating:  85%|?��?��?��?��?��?��?��?��?�� | 667/782 [06:12<01:09,  1.66it/s]"
          ]
        },
        {
          "name": "stderr",
          "output_type": "stream",
          "text": [
            "\r",
            "Evaluating:  85%|?��?��?��?��?��?��?��?��?�� | 668/782 [06:13<01:08,  1.66it/s]"
          ]
        },
        {
          "name": "stderr",
          "output_type": "stream",
          "text": [
            "\r",
            "Evaluating:  86%|?��?��?��?��?��?��?��?��?�� | 669/782 [06:14<01:07,  1.66it/s]"
          ]
        },
        {
          "name": "stderr",
          "output_type": "stream",
          "text": [
            "\r",
            "Evaluating:  86%|?��?��?��?��?��?��?��?��?�� | 670/782 [06:14<01:07,  1.66it/s]"
          ]
        },
        {
          "name": "stderr",
          "output_type": "stream",
          "text": [
            "\r",
            "Evaluating:  86%|?��?��?��?��?��?��?��?��?�� | 671/782 [06:15<01:06,  1.67it/s]"
          ]
        },
        {
          "name": "stderr",
          "output_type": "stream",
          "text": [
            "\r",
            "Evaluating:  86%|?��?��?��?��?��?��?��?��?�� | 672/782 [06:15<01:05,  1.67it/s]"
          ]
        },
        {
          "name": "stderr",
          "output_type": "stream",
          "text": [
            "\r",
            "Evaluating:  86%|?��?��?��?��?��?��?��?��?�� | 673/782 [06:16<01:05,  1.67it/s]"
          ]
        },
        {
          "name": "stderr",
          "output_type": "stream",
          "text": [
            "\r",
            "Evaluating:  86%|?��?��?��?��?��?��?��?��?�� | 674/782 [06:17<01:04,  1.67it/s]"
          ]
        },
        {
          "name": "stderr",
          "output_type": "stream",
          "text": [
            "\r",
            "Evaluating:  86%|?��?��?��?��?��?��?��?��?�� | 675/782 [06:17<01:04,  1.67it/s]"
          ]
        },
        {
          "name": "stderr",
          "output_type": "stream",
          "text": [
            "\r",
            "Evaluating:  86%|?��?��?��?��?��?��?��?��?�� | 676/782 [06:18<01:03,  1.67it/s]"
          ]
        },
        {
          "name": "stderr",
          "output_type": "stream",
          "text": [
            "\r",
            "Evaluating:  87%|?��?��?��?��?��?��?��?��?�� | 677/782 [06:18<01:02,  1.67it/s]"
          ]
        },
        {
          "name": "stderr",
          "output_type": "stream",
          "text": [
            "\r",
            "Evaluating:  87%|?��?��?��?��?��?��?��?��?�� | 678/782 [06:19<01:02,  1.67it/s]"
          ]
        },
        {
          "name": "stderr",
          "output_type": "stream",
          "text": [
            "\r",
            "Evaluating:  87%|?��?��?��?��?��?��?��?��?�� | 679/782 [06:20<01:01,  1.67it/s]"
          ]
        },
        {
          "name": "stderr",
          "output_type": "stream",
          "text": [
            "\r",
            "Evaluating:  87%|?��?��?��?��?��?��?��?��?�� | 680/782 [06:20<01:01,  1.67it/s]"
          ]
        },
        {
          "name": "stderr",
          "output_type": "stream",
          "text": [
            "\r",
            "Evaluating:  87%|?��?��?��?��?��?��?��?��?�� | 681/782 [06:21<01:00,  1.67it/s]"
          ]
        },
        {
          "name": "stderr",
          "output_type": "stream",
          "text": [
            "\r",
            "Evaluating:  87%|?��?��?��?��?��?��?��?��?�� | 682/782 [06:21<00:59,  1.67it/s]"
          ]
        },
        {
          "name": "stderr",
          "output_type": "stream",
          "text": [
            "\r",
            "Evaluating:  87%|?��?��?��?��?��?��?��?��?�� | 683/782 [06:22<00:59,  1.67it/s]"
          ]
        },
        {
          "name": "stderr",
          "output_type": "stream",
          "text": [
            "\r",
            "Evaluating:  87%|?��?��?��?��?��?��?��?��?�� | 684/782 [06:23<00:58,  1.67it/s]"
          ]
        },
        {
          "name": "stderr",
          "output_type": "stream",
          "text": [
            "\r",
            "Evaluating:  88%|?��?��?��?��?��?��?��?��?�� | 685/782 [06:23<00:58,  1.67it/s]"
          ]
        },
        {
          "name": "stderr",
          "output_type": "stream",
          "text": [
            "\r",
            "Evaluating:  88%|?��?��?��?��?��?��?��?��?�� | 686/782 [06:24<00:57,  1.67it/s]"
          ]
        },
        {
          "name": "stderr",
          "output_type": "stream",
          "text": [
            "\r",
            "Evaluating:  88%|?��?��?��?��?��?��?��?��?�� | 687/782 [06:24<00:56,  1.67it/s]"
          ]
        },
        {
          "name": "stderr",
          "output_type": "stream",
          "text": [
            "\r",
            "Evaluating:  88%|?��?��?��?��?��?��?��?��?�� | 688/782 [06:25<00:56,  1.67it/s]"
          ]
        },
        {
          "name": "stderr",
          "output_type": "stream",
          "text": [
            "\r",
            "Evaluating:  88%|?��?��?��?��?��?��?��?��?�� | 689/782 [06:26<00:55,  1.67it/s]"
          ]
        },
        {
          "name": "stderr",
          "output_type": "stream",
          "text": [
            "\r",
            "Evaluating:  88%|?��?��?��?��?��?��?��?��?�� | 690/782 [06:26<00:55,  1.67it/s]"
          ]
        },
        {
          "name": "stderr",
          "output_type": "stream",
          "text": [
            "\r",
            "Evaluating:  88%|?��?��?��?��?��?��?��?��?�� | 691/782 [06:27<00:54,  1.67it/s]"
          ]
        },
        {
          "name": "stderr",
          "output_type": "stream",
          "text": [
            "\r",
            "Evaluating:  88%|?��?��?��?��?��?��?��?��?�� | 692/782 [06:27<00:54,  1.67it/s]"
          ]
        },
        {
          "name": "stderr",
          "output_type": "stream",
          "text": [
            "\r",
            "Evaluating:  89%|?��?��?��?��?��?��?��?��?�� | 693/782 [06:28<00:53,  1.67it/s]"
          ]
        },
        {
          "name": "stderr",
          "output_type": "stream",
          "text": [
            "\r",
            "Evaluating:  89%|?��?��?��?��?��?��?��?��?�� | 694/782 [06:29<00:52,  1.67it/s]"
          ]
        },
        {
          "name": "stderr",
          "output_type": "stream",
          "text": [
            "\r",
            "Evaluating:  89%|?��?��?��?��?��?��?��?��?�� | 695/782 [06:29<00:52,  1.67it/s]"
          ]
        },
        {
          "name": "stderr",
          "output_type": "stream",
          "text": [
            "\r",
            "Evaluating:  89%|?��?��?��?��?��?��?��?��?�� | 696/782 [06:30<00:51,  1.67it/s]"
          ]
        },
        {
          "name": "stderr",
          "output_type": "stream",
          "text": [
            "\r",
            "Evaluating:  89%|?��?��?��?��?��?��?��?��?�� | 697/782 [06:30<00:50,  1.67it/s]"
          ]
        },
        {
          "name": "stderr",
          "output_type": "stream",
          "text": [
            "\r",
            "Evaluating:  89%|?��?��?��?��?��?��?��?��?�� | 698/782 [06:31<00:50,  1.67it/s]"
          ]
        },
        {
          "name": "stderr",
          "output_type": "stream",
          "text": [
            "\r",
            "Evaluating:  89%|?��?��?��?��?��?��?��?��?�� | 699/782 [06:32<00:49,  1.67it/s]"
          ]
        },
        {
          "name": "stderr",
          "output_type": "stream",
          "text": [
            "\r",
            "Evaluating:  90%|?��?��?��?��?��?��?��?��?�� | 700/782 [06:32<00:49,  1.67it/s]"
          ]
        },
        {
          "name": "stderr",
          "output_type": "stream",
          "text": [
            "\r",
            "Evaluating:  90%|?��?��?��?��?��?��?��?��?�� | 701/782 [06:33<00:48,  1.66it/s]"
          ]
        },
        {
          "name": "stderr",
          "output_type": "stream",
          "text": [
            "\r",
            "Evaluating:  90%|?��?��?��?��?��?��?��?��?�� | 702/782 [06:33<00:48,  1.66it/s]"
          ]
        },
        {
          "name": "stderr",
          "output_type": "stream",
          "text": [
            "\r",
            "Evaluating:  90%|?��?��?��?��?��?��?��?��?�� | 703/782 [06:34<00:47,  1.66it/s]"
          ]
        },
        {
          "name": "stderr",
          "output_type": "stream",
          "text": [
            "\r",
            "Evaluating:  90%|?��?��?��?��?��?��?��?��?�� | 704/782 [06:35<00:46,  1.66it/s]"
          ]
        },
        {
          "name": "stderr",
          "output_type": "stream",
          "text": [
            "\r",
            "Evaluating:  90%|?��?��?��?��?��?��?��?��?�� | 705/782 [06:35<00:46,  1.66it/s]"
          ]
        },
        {
          "name": "stderr",
          "output_type": "stream",
          "text": [
            "\r",
            "Evaluating:  90%|?��?��?��?��?��?��?��?��?�� | 706/782 [06:36<00:45,  1.66it/s]"
          ]
        },
        {
          "name": "stderr",
          "output_type": "stream",
          "text": [
            "\r",
            "Evaluating:  90%|?��?��?��?��?��?��?��?��?�� | 707/782 [06:36<00:45,  1.66it/s]"
          ]
        },
        {
          "name": "stderr",
          "output_type": "stream",
          "text": [
            "\r",
            "Evaluating:  91%|?��?��?��?��?��?��?��?��?�� | 708/782 [06:37<00:44,  1.66it/s]"
          ]
        },
        {
          "name": "stderr",
          "output_type": "stream",
          "text": [
            "\r",
            "Evaluating:  91%|?��?��?��?��?��?��?��?��?�� | 709/782 [06:38<00:43,  1.66it/s]"
          ]
        },
        {
          "name": "stderr",
          "output_type": "stream",
          "text": [
            "\r",
            "Evaluating:  91%|?��?��?��?��?��?��?��?��?�� | 710/782 [06:38<00:43,  1.66it/s]"
          ]
        },
        {
          "name": "stderr",
          "output_type": "stream",
          "text": [
            "\r",
            "Evaluating:  91%|?��?��?��?��?��?��?��?��?�� | 711/782 [06:39<00:42,  1.66it/s]"
          ]
        },
        {
          "name": "stderr",
          "output_type": "stream",
          "text": [
            "\r",
            "Evaluating:  91%|?��?��?��?��?��?��?��?��?�� | 712/782 [06:39<00:42,  1.66it/s]"
          ]
        },
        {
          "name": "stderr",
          "output_type": "stream",
          "text": [
            "\r",
            "Evaluating:  91%|?��?��?��?��?��?��?��?��?�� | 713/782 [06:40<00:41,  1.66it/s]"
          ]
        },
        {
          "name": "stderr",
          "output_type": "stream",
          "text": [
            "\r",
            "Evaluating:  91%|?��?��?��?��?��?��?��?��?��?��| 714/782 [06:41<00:40,  1.66it/s]"
          ]
        },
        {
          "name": "stderr",
          "output_type": "stream",
          "text": [
            "\r",
            "Evaluating:  91%|?��?��?��?��?��?��?��?��?��?��| 715/782 [06:41<00:40,  1.66it/s]"
          ]
        },
        {
          "name": "stderr",
          "output_type": "stream",
          "text": [
            "\r",
            "Evaluating:  92%|?��?��?��?��?��?��?��?��?��?��| 716/782 [06:42<00:39,  1.66it/s]"
          ]
        },
        {
          "name": "stderr",
          "output_type": "stream",
          "text": [
            "\r",
            "Evaluating:  92%|?��?��?��?��?��?��?��?��?��?��| 717/782 [06:42<00:39,  1.66it/s]"
          ]
        },
        {
          "name": "stderr",
          "output_type": "stream",
          "text": [
            "\r",
            "Evaluating:  92%|?��?��?��?��?��?��?��?��?��?��| 718/782 [06:43<00:38,  1.65it/s]"
          ]
        },
        {
          "name": "stderr",
          "output_type": "stream",
          "text": [
            "\r",
            "Evaluating:  92%|?��?��?��?��?��?��?��?��?��?��| 719/782 [06:44<00:38,  1.65it/s]"
          ]
        },
        {
          "name": "stderr",
          "output_type": "stream",
          "text": [
            "\r",
            "Evaluating:  92%|?��?��?��?��?��?��?��?��?��?��| 720/782 [06:44<00:37,  1.65it/s]"
          ]
        },
        {
          "name": "stderr",
          "output_type": "stream",
          "text": [
            "\r",
            "Evaluating:  92%|?��?��?��?��?��?��?��?��?��?��| 721/782 [06:45<00:36,  1.65it/s]"
          ]
        },
        {
          "name": "stderr",
          "output_type": "stream",
          "text": [
            "\r",
            "Evaluating:  92%|?��?��?��?��?��?��?��?��?��?��| 722/782 [06:45<00:36,  1.65it/s]"
          ]
        },
        {
          "name": "stderr",
          "output_type": "stream",
          "text": [
            "\r",
            "Evaluating:  92%|?��?��?��?��?��?��?��?��?��?��| 723/782 [06:46<00:35,  1.65it/s]"
          ]
        },
        {
          "name": "stderr",
          "output_type": "stream",
          "text": [
            "\r",
            "Evaluating:  93%|?��?��?��?��?��?��?��?��?��?��| 724/782 [06:47<00:35,  1.65it/s]"
          ]
        },
        {
          "name": "stderr",
          "output_type": "stream",
          "text": [
            "\r",
            "Evaluating:  93%|?��?��?��?��?��?��?��?��?��?��| 725/782 [06:47<00:34,  1.65it/s]"
          ]
        },
        {
          "name": "stderr",
          "output_type": "stream",
          "text": [
            "\r",
            "Evaluating:  93%|?��?��?��?��?��?��?��?��?��?��| 726/782 [06:48<00:33,  1.65it/s]"
          ]
        },
        {
          "name": "stderr",
          "output_type": "stream",
          "text": [
            "\r",
            "Evaluating:  93%|?��?��?��?��?��?��?��?��?��?��| 727/782 [06:48<00:33,  1.65it/s]"
          ]
        },
        {
          "name": "stderr",
          "output_type": "stream",
          "text": [
            "\r",
            "Evaluating:  93%|?��?��?��?��?��?��?��?��?��?��| 728/782 [06:49<00:32,  1.66it/s]"
          ]
        },
        {
          "name": "stderr",
          "output_type": "stream",
          "text": [
            "\r",
            "Evaluating:  93%|?��?��?��?��?��?��?��?��?��?��| 729/782 [06:50<00:31,  1.66it/s]"
          ]
        },
        {
          "name": "stderr",
          "output_type": "stream",
          "text": [
            "\r",
            "Evaluating:  93%|?��?��?��?��?��?��?��?��?��?��| 730/782 [06:50<00:31,  1.66it/s]"
          ]
        },
        {
          "name": "stderr",
          "output_type": "stream",
          "text": [
            "\r",
            "Evaluating:  93%|?��?��?��?��?��?��?��?��?��?��| 731/782 [06:51<00:30,  1.66it/s]"
          ]
        },
        {
          "name": "stderr",
          "output_type": "stream",
          "text": [
            "\r",
            "Evaluating:  94%|?��?��?��?��?��?��?��?��?��?��| 732/782 [06:51<00:30,  1.66it/s]"
          ]
        },
        {
          "name": "stderr",
          "output_type": "stream",
          "text": [
            "\r",
            "Evaluating:  94%|?��?��?��?��?��?��?��?��?��?��| 733/782 [06:52<00:29,  1.66it/s]"
          ]
        },
        {
          "name": "stderr",
          "output_type": "stream",
          "text": [
            "\r",
            "Evaluating:  94%|?��?��?��?��?��?��?��?��?��?��| 734/782 [06:53<00:28,  1.66it/s]"
          ]
        },
        {
          "name": "stderr",
          "output_type": "stream",
          "text": [
            "\r",
            "Evaluating:  94%|?��?��?��?��?��?��?��?��?��?��| 735/782 [06:53<00:28,  1.66it/s]"
          ]
        },
        {
          "name": "stderr",
          "output_type": "stream",
          "text": [
            "\r",
            "Evaluating:  94%|?��?��?��?��?��?��?��?��?��?��| 736/782 [06:54<00:27,  1.66it/s]"
          ]
        },
        {
          "name": "stderr",
          "output_type": "stream",
          "text": [
            "\r",
            "Evaluating:  94%|?��?��?��?��?��?��?��?��?��?��| 737/782 [06:54<00:27,  1.66it/s]"
          ]
        },
        {
          "name": "stderr",
          "output_type": "stream",
          "text": [
            "\r",
            "Evaluating:  94%|?��?��?��?��?��?��?��?��?��?��| 738/782 [06:55<00:26,  1.66it/s]"
          ]
        },
        {
          "name": "stderr",
          "output_type": "stream",
          "text": [
            "\r",
            "Evaluating:  95%|?��?��?��?��?��?��?��?��?��?��| 739/782 [06:56<00:25,  1.66it/s]"
          ]
        },
        {
          "name": "stderr",
          "output_type": "stream",
          "text": [
            "\r",
            "Evaluating:  95%|?��?��?��?��?��?��?��?��?��?��| 740/782 [06:56<00:25,  1.67it/s]"
          ]
        },
        {
          "name": "stderr",
          "output_type": "stream",
          "text": [
            "\r",
            "Evaluating:  95%|?��?��?��?��?��?��?��?��?��?��| 741/782 [06:57<00:24,  1.67it/s]"
          ]
        },
        {
          "name": "stderr",
          "output_type": "stream",
          "text": [
            "\r",
            "Evaluating:  95%|?��?��?��?��?��?��?��?��?��?��| 742/782 [06:57<00:24,  1.67it/s]"
          ]
        },
        {
          "name": "stderr",
          "output_type": "stream",
          "text": [
            "\r",
            "Evaluating:  95%|?��?��?��?��?��?��?��?��?��?��| 743/782 [06:58<00:23,  1.67it/s]"
          ]
        },
        {
          "name": "stderr",
          "output_type": "stream",
          "text": [
            "\r",
            "Evaluating:  95%|?��?��?��?��?��?��?��?��?��?��| 744/782 [06:59<00:22,  1.67it/s]"
          ]
        },
        {
          "name": "stderr",
          "output_type": "stream",
          "text": [
            "\r",
            "Evaluating:  95%|?��?��?��?��?��?��?��?��?��?��| 745/782 [06:59<00:22,  1.67it/s]"
          ]
        },
        {
          "name": "stderr",
          "output_type": "stream",
          "text": [
            "\r",
            "Evaluating:  95%|?��?��?��?��?��?��?��?��?��?��| 746/782 [07:00<00:21,  1.67it/s]"
          ]
        },
        {
          "name": "stderr",
          "output_type": "stream",
          "text": [
            "\r",
            "Evaluating:  96%|?��?��?��?��?��?��?��?��?��?��| 747/782 [07:00<00:20,  1.67it/s]"
          ]
        },
        {
          "name": "stderr",
          "output_type": "stream",
          "text": [
            "\r",
            "Evaluating:  96%|?��?��?��?��?��?��?��?��?��?��| 748/782 [07:01<00:20,  1.67it/s]"
          ]
        },
        {
          "name": "stderr",
          "output_type": "stream",
          "text": [
            "\r",
            "Evaluating:  96%|?��?��?��?��?��?��?��?��?��?��| 749/782 [07:02<00:19,  1.67it/s]"
          ]
        },
        {
          "name": "stderr",
          "output_type": "stream",
          "text": [
            "\r",
            "Evaluating:  96%|?��?��?��?��?��?��?��?��?��?��| 750/782 [07:02<00:19,  1.67it/s]"
          ]
        },
        {
          "name": "stderr",
          "output_type": "stream",
          "text": [
            "\r",
            "Evaluating:  96%|?��?��?��?��?��?��?��?��?��?��| 751/782 [07:03<00:18,  1.67it/s]"
          ]
        },
        {
          "name": "stderr",
          "output_type": "stream",
          "text": [
            "\r",
            "Evaluating:  96%|?��?��?��?��?��?��?��?��?��?��| 752/782 [07:03<00:18,  1.67it/s]"
          ]
        },
        {
          "name": "stderr",
          "output_type": "stream",
          "text": [
            "\r",
            "Evaluating:  96%|?��?��?��?��?��?��?��?��?��?��| 753/782 [07:04<00:17,  1.66it/s]"
          ]
        },
        {
          "name": "stderr",
          "output_type": "stream",
          "text": [
            "\r",
            "Evaluating:  96%|?��?��?��?��?��?��?��?��?��?��| 754/782 [07:05<00:16,  1.66it/s]"
          ]
        },
        {
          "name": "stderr",
          "output_type": "stream",
          "text": [
            "\r",
            "Evaluating:  97%|?��?��?��?��?��?��?��?��?��?��| 755/782 [07:05<00:16,  1.66it/s]"
          ]
        },
        {
          "name": "stderr",
          "output_type": "stream",
          "text": [
            "\r",
            "Evaluating:  97%|?��?��?��?��?��?��?��?��?��?��| 756/782 [07:06<00:15,  1.66it/s]"
          ]
        },
        {
          "name": "stderr",
          "output_type": "stream",
          "text": [
            "\r",
            "Evaluating:  97%|?��?��?��?��?��?��?��?��?��?��| 757/782 [07:06<00:15,  1.66it/s]"
          ]
        },
        {
          "name": "stderr",
          "output_type": "stream",
          "text": [
            "\r",
            "Evaluating:  97%|?��?��?��?��?��?��?��?��?��?��| 758/782 [07:07<00:14,  1.66it/s]"
          ]
        },
        {
          "name": "stderr",
          "output_type": "stream",
          "text": [
            "\r",
            "Evaluating:  97%|?��?��?��?��?��?��?��?��?��?��| 759/782 [07:08<00:13,  1.66it/s]"
          ]
        },
        {
          "name": "stderr",
          "output_type": "stream",
          "text": [
            "\r",
            "Evaluating:  97%|?��?��?��?��?��?��?��?��?��?��| 760/782 [07:08<00:13,  1.66it/s]"
          ]
        },
        {
          "name": "stderr",
          "output_type": "stream",
          "text": [
            "\r",
            "Evaluating:  97%|?��?��?��?��?��?��?��?��?��?��| 761/782 [07:09<00:12,  1.66it/s]"
          ]
        },
        {
          "name": "stderr",
          "output_type": "stream",
          "text": [
            "\r",
            "Evaluating:  97%|?��?��?��?��?��?��?��?��?��?��| 762/782 [07:09<00:12,  1.66it/s]"
          ]
        },
        {
          "name": "stderr",
          "output_type": "stream",
          "text": [
            "\r",
            "Evaluating:  98%|?��?��?��?��?��?��?��?��?��?��| 763/782 [07:10<00:11,  1.67it/s]"
          ]
        },
        {
          "name": "stderr",
          "output_type": "stream",
          "text": [
            "\r",
            "Evaluating:  98%|?��?��?��?��?��?��?��?��?��?��| 764/782 [07:11<00:10,  1.66it/s]"
          ]
        },
        {
          "name": "stderr",
          "output_type": "stream",
          "text": [
            "\r",
            "Evaluating:  98%|?��?��?��?��?��?��?��?��?��?��| 765/782 [07:11<00:10,  1.66it/s]"
          ]
        },
        {
          "name": "stderr",
          "output_type": "stream",
          "text": [
            "\r",
            "Evaluating:  98%|?��?��?��?��?��?��?��?��?��?��| 766/782 [07:12<00:09,  1.66it/s]"
          ]
        },
        {
          "name": "stderr",
          "output_type": "stream",
          "text": [
            "\r",
            "Evaluating:  98%|?��?��?��?��?��?��?��?��?��?��| 767/782 [07:13<00:09,  1.66it/s]"
          ]
        },
        {
          "name": "stderr",
          "output_type": "stream",
          "text": [
            "\r",
            "Evaluating:  98%|?��?��?��?��?��?��?��?��?��?��| 768/782 [07:13<00:08,  1.66it/s]"
          ]
        },
        {
          "name": "stderr",
          "output_type": "stream",
          "text": [
            "\r",
            "Evaluating:  98%|?��?��?��?��?��?��?��?��?��?��| 769/782 [07:14<00:07,  1.66it/s]"
          ]
        },
        {
          "name": "stderr",
          "output_type": "stream",
          "text": [
            "\r",
            "Evaluating:  98%|?��?��?��?��?��?��?��?��?��?��| 770/782 [07:14<00:07,  1.67it/s]"
          ]
        },
        {
          "name": "stderr",
          "output_type": "stream",
          "text": [
            "\r",
            "Evaluating:  99%|?��?��?��?��?��?��?��?��?��?��| 771/782 [07:15<00:06,  1.66it/s]"
          ]
        },
        {
          "name": "stderr",
          "output_type": "stream",
          "text": [
            "\r",
            "Evaluating:  99%|?��?��?��?��?��?��?��?��?��?��| 772/782 [07:16<00:06,  1.67it/s]"
          ]
        },
        {
          "name": "stderr",
          "output_type": "stream",
          "text": [
            "\r",
            "Evaluating:  99%|?��?��?��?��?��?��?��?��?��?��| 773/782 [07:16<00:05,  1.67it/s]"
          ]
        },
        {
          "name": "stderr",
          "output_type": "stream",
          "text": [
            "\r",
            "Evaluating:  99%|?��?��?��?��?��?��?��?��?��?��| 774/782 [07:17<00:04,  1.67it/s]"
          ]
        },
        {
          "name": "stderr",
          "output_type": "stream",
          "text": [
            "\r",
            "Evaluating:  99%|?��?��?��?��?��?��?��?��?��?��| 775/782 [07:17<00:04,  1.67it/s]"
          ]
        },
        {
          "name": "stderr",
          "output_type": "stream",
          "text": [
            "\r",
            "Evaluating:  99%|?��?��?��?��?��?��?��?��?��?��| 776/782 [07:18<00:03,  1.66it/s]"
          ]
        },
        {
          "name": "stderr",
          "output_type": "stream",
          "text": [
            "\r",
            "Evaluating:  99%|?��?��?��?��?��?��?��?��?��?��| 777/782 [07:19<00:03,  1.66it/s]"
          ]
        },
        {
          "name": "stderr",
          "output_type": "stream",
          "text": [
            "\r",
            "Evaluating:  99%|?��?��?��?��?��?��?��?��?��?��| 778/782 [07:19<00:02,  1.66it/s]"
          ]
        },
        {
          "name": "stderr",
          "output_type": "stream",
          "text": [
            "\r",
            "Evaluating: 100%|?��?��?��?��?��?��?��?��?��?��| 779/782 [07:20<00:01,  1.65it/s]"
          ]
        },
        {
          "name": "stderr",
          "output_type": "stream",
          "text": [
            "\r",
            "Evaluating: 100%|?��?��?��?��?��?��?��?��?��?��| 780/782 [07:20<00:01,  1.66it/s]"
          ]
        },
        {
          "name": "stderr",
          "output_type": "stream",
          "text": [
            "\r",
            "Evaluating: 100%|?��?��?��?��?��?��?��?��?��?��| 781/782 [07:21<00:00,  1.66it/s]"
          ]
        },
        {
          "name": "stderr",
          "output_type": "stream",
          "text": [
            "\r",
            "Evaluating: 100%|?��?��?��?��?��?��?��?��?��?��| 782/782 [07:21<00:00,  2.12it/s]"
          ]
        },
        {
          "name": "stderr",
          "output_type": "stream",
          "text": [
            "\r",
            "Evaluating: 100%|?��?��?��?��?��?��?��?��?��?��| 782/782 [07:21<00:00,  1.77it/s]"
          ]
        },
        {
          "name": "stderr",
          "output_type": "stream",
          "text": [
            "\n"
          ]
        },
        {
          "name": "stdout",
          "output_type": "stream",
          "text": [
            "Loss: 0.3423"
          ]
        },
        {
          "name": "stdout",
          "output_type": "stream",
          "text": [
            "\n"
          ]
        },
        {
          "name": "stdout",
          "output_type": "stream",
          "text": [
            "Precision: 0.9306, Recall: 0.9303, F1-Score: 0.9303"
          ]
        },
        {
          "name": "stdout",
          "output_type": "stream",
          "text": [
            "\n"
          ]
        },
        {
          "name": "stdout",
          "output_type": "stream",
          "text": [
            "              precision    recall  f1-score   support\n",
            "\n",
            "           0       0.92      0.94      0.93     12500\n",
            "           1       0.94      0.92      0.93     12500\n",
            "\n",
            "    accuracy                           0.93     25000\n",
            "   macro avg       0.93      0.93      0.93     25000\n",
            "weighted avg       0.93      0.93      0.93     25000\n"
          ]
        },
        {
          "name": "stdout",
          "output_type": "stream",
          "text": [
            "\n"
          ]
        }
      ],
      "source": [
        "module = copy.deepcopy(model)\n",
        "prune_magnitude(module, sparsity_ratio=magnitude_ratio, include_layers=include_layers, exclude_layers=exclude_layers)\n",
        "print(\"Evaluate the pruned model\")\n",
        "result = evaluate_model(model, model_config, test_dataloader)\n",
        "# save_module(module, \"Modules/\", f\"magnitude_{name}_{magnitude_ratio}p.pt\")"
      ]
    },
    {
      "cell_type": "code",
      "execution_count": 11,
      "id": "79cf64da-3b78-47db-bfae-62278d6b6c47",
      "metadata": {
        "execution": {
          "iopub.execute_input": "2024-08-19T13:36:20.487950Z",
          "iopub.status.busy": "2024-08-19T13:36:20.487650Z",
          "iopub.status.idle": "2024-08-19T13:36:34.374415Z",
          "shell.execute_reply": "2024-08-19T13:36:34.373715Z"
        },
        "papermill": {
          "duration": 13.929732,
          "end_time": "2024-08-19T13:36:34.375808",
          "exception": false,
          "start_time": "2024-08-19T13:36:20.446076",
          "status": "completed"
        },
        "tags": []
      },
      "outputs": [
        {
          "name": "stdout",
          "output_type": "stream",
          "text": [
            "--0--"
          ]
        },
        {
          "name": "stdout",
          "output_type": "stream",
          "text": [
            "\n"
          ]
        },
        {
          "name": "stdout",
          "output_type": "stream",
          "text": [
            "adding eps to diagonal and taking inverse"
          ]
        },
        {
          "name": "stdout",
          "output_type": "stream",
          "text": [
            "\n"
          ]
        },
        {
          "name": "stdout",
          "output_type": "stream",
          "text": [
            "taking square root"
          ]
        },
        {
          "name": "stdout",
          "output_type": "stream",
          "text": [
            "\n"
          ]
        },
        {
          "name": "stdout",
          "output_type": "stream",
          "text": [
            "dot products..."
          ]
        },
        {
          "name": "stdout",
          "output_type": "stream",
          "text": [
            "\n"
          ]
        },
        {
          "name": "stdout",
          "output_type": "stream",
          "text": [
            "trying to take final svd"
          ]
        },
        {
          "name": "stdout",
          "output_type": "stream",
          "text": [
            "\n"
          ]
        },
        {
          "name": "stdout",
          "output_type": "stream",
          "text": [
            "computed everything!"
          ]
        },
        {
          "name": "stdout",
          "output_type": "stream",
          "text": [
            "\n"
          ]
        },
        {
          "name": "stdout",
          "output_type": "stream",
          "text": [
            "adding eps to diagonal and taking inverse"
          ]
        },
        {
          "name": "stdout",
          "output_type": "stream",
          "text": [
            "\n"
          ]
        },
        {
          "name": "stdout",
          "output_type": "stream",
          "text": [
            "taking square root"
          ]
        },
        {
          "name": "stdout",
          "output_type": "stream",
          "text": [
            "\n"
          ]
        },
        {
          "name": "stdout",
          "output_type": "stream",
          "text": [
            "dot products..."
          ]
        },
        {
          "name": "stdout",
          "output_type": "stream",
          "text": [
            "\n"
          ]
        },
        {
          "name": "stdout",
          "output_type": "stream",
          "text": [
            "trying to take final svd"
          ]
        },
        {
          "name": "stdout",
          "output_type": "stream",
          "text": [
            "\n"
          ]
        },
        {
          "name": "stdout",
          "output_type": "stream",
          "text": [
            "computed everything!"
          ]
        },
        {
          "name": "stdout",
          "output_type": "stream",
          "text": [
            "\n"
          ]
        },
        {
          "name": "stdout",
          "output_type": "stream",
          "text": [
            "CCA coefficients mean concern: (0.526825608983391, 0.526825608983391)"
          ]
        },
        {
          "name": "stdout",
          "output_type": "stream",
          "text": [
            "\n"
          ]
        },
        {
          "name": "stdout",
          "output_type": "stream",
          "text": [
            "CCA coefficients mean non-concern: (0.5279423643193579, 0.5279423643193579)"
          ]
        },
        {
          "name": "stdout",
          "output_type": "stream",
          "text": [
            "\n"
          ]
        },
        {
          "name": "stdout",
          "output_type": "stream",
          "text": [
            "Linear CKA concern: 0.45374185815892765"
          ]
        },
        {
          "name": "stdout",
          "output_type": "stream",
          "text": [
            "\n"
          ]
        },
        {
          "name": "stdout",
          "output_type": "stream",
          "text": [
            "Linear CKA non-concern: 0.21492304187486694"
          ]
        },
        {
          "name": "stdout",
          "output_type": "stream",
          "text": [
            "\n"
          ]
        },
        {
          "name": "stdout",
          "output_type": "stream",
          "text": [
            "Kernel CKA concern: 0.3756021929163487"
          ]
        },
        {
          "name": "stdout",
          "output_type": "stream",
          "text": [
            "\n"
          ]
        },
        {
          "name": "stdout",
          "output_type": "stream",
          "text": [
            "Kernel CKA non-concern: 0.13682594189277977"
          ]
        },
        {
          "name": "stdout",
          "output_type": "stream",
          "text": [
            "\n"
          ]
        },
        {
          "name": "stdout",
          "output_type": "stream",
          "text": [
            "--1--"
          ]
        },
        {
          "name": "stdout",
          "output_type": "stream",
          "text": [
            "\n"
          ]
        },
        {
          "name": "stdout",
          "output_type": "stream",
          "text": [
            "adding eps to diagonal and taking inverse"
          ]
        },
        {
          "name": "stdout",
          "output_type": "stream",
          "text": [
            "\n"
          ]
        },
        {
          "name": "stdout",
          "output_type": "stream",
          "text": [
            "taking square root"
          ]
        },
        {
          "name": "stdout",
          "output_type": "stream",
          "text": [
            "\n"
          ]
        },
        {
          "name": "stdout",
          "output_type": "stream",
          "text": [
            "dot products..."
          ]
        },
        {
          "name": "stdout",
          "output_type": "stream",
          "text": [
            "\n"
          ]
        },
        {
          "name": "stdout",
          "output_type": "stream",
          "text": [
            "trying to take final svd"
          ]
        },
        {
          "name": "stdout",
          "output_type": "stream",
          "text": [
            "\n"
          ]
        },
        {
          "name": "stdout",
          "output_type": "stream",
          "text": [
            "computed everything!"
          ]
        },
        {
          "name": "stdout",
          "output_type": "stream",
          "text": [
            "\n"
          ]
        },
        {
          "name": "stdout",
          "output_type": "stream",
          "text": [
            "adding eps to diagonal and taking inverse"
          ]
        },
        {
          "name": "stdout",
          "output_type": "stream",
          "text": [
            "\n"
          ]
        },
        {
          "name": "stdout",
          "output_type": "stream",
          "text": [
            "taking square root"
          ]
        },
        {
          "name": "stdout",
          "output_type": "stream",
          "text": [
            "\n"
          ]
        },
        {
          "name": "stdout",
          "output_type": "stream",
          "text": [
            "dot products..."
          ]
        },
        {
          "name": "stdout",
          "output_type": "stream",
          "text": [
            "\n"
          ]
        },
        {
          "name": "stdout",
          "output_type": "stream",
          "text": [
            "trying to take final svd"
          ]
        },
        {
          "name": "stdout",
          "output_type": "stream",
          "text": [
            "\n"
          ]
        },
        {
          "name": "stdout",
          "output_type": "stream",
          "text": [
            "computed everything!"
          ]
        },
        {
          "name": "stdout",
          "output_type": "stream",
          "text": [
            "\n"
          ]
        },
        {
          "name": "stdout",
          "output_type": "stream",
          "text": [
            "CCA coefficients mean concern: (0.5279423643193579, 0.5279423643193579)"
          ]
        },
        {
          "name": "stdout",
          "output_type": "stream",
          "text": [
            "\n"
          ]
        },
        {
          "name": "stdout",
          "output_type": "stream",
          "text": [
            "CCA coefficients mean non-concern: (0.526825608983391, 0.526825608983391)"
          ]
        },
        {
          "name": "stdout",
          "output_type": "stream",
          "text": [
            "\n"
          ]
        },
        {
          "name": "stdout",
          "output_type": "stream",
          "text": [
            "Linear CKA concern: 0.21492304187486694"
          ]
        },
        {
          "name": "stdout",
          "output_type": "stream",
          "text": [
            "\n"
          ]
        },
        {
          "name": "stdout",
          "output_type": "stream",
          "text": [
            "Linear CKA non-concern: 0.45374185815892765"
          ]
        },
        {
          "name": "stdout",
          "output_type": "stream",
          "text": [
            "\n"
          ]
        },
        {
          "name": "stdout",
          "output_type": "stream",
          "text": [
            "Kernel CKA concern: 0.13682594189277977"
          ]
        },
        {
          "name": "stdout",
          "output_type": "stream",
          "text": [
            "\n"
          ]
        },
        {
          "name": "stdout",
          "output_type": "stream",
          "text": [
            "Kernel CKA non-concern: 0.3756021929163487"
          ]
        },
        {
          "name": "stdout",
          "output_type": "stream",
          "text": [
            "\n"
          ]
        }
      ],
      "source": [
        "for concern in range(num_labels):\n",
        "    print(f\"--{concern}--\")\n",
        "    positive_samples = SamplingDataset(\n",
        "        train_dataloader, concern, num_samples, num_labels, True, 4, device=device, resample=False, seed=seed\n",
        "    )\n",
        "    negative_samples = SamplingDataset(\n",
        "        train_dataloader, concern, num_samples, num_labels, False, 4, device=device, resample=False, seed=seed\n",
        "    )\n",
        "    similar(model, module, valid_dataloader, concern, num_samples, num_labels, device=device, seed=seed)"
      ]
    },
    {
      "cell_type": "code",
      "execution_count": 12,
      "id": "253d10dd-0664-4a03-9e5a-0b477469a16e",
      "metadata": {
        "execution": {
          "iopub.execute_input": "2024-08-19T13:36:34.478644Z",
          "iopub.status.busy": "2024-08-19T13:36:34.478118Z",
          "iopub.status.idle": "2024-08-19T13:36:37.364951Z",
          "shell.execute_reply": "2024-08-19T13:36:37.364303Z"
        },
        "papermill": {
          "duration": 2.939092,
          "end_time": "2024-08-19T13:36:37.366717",
          "exception": false,
          "start_time": "2024-08-19T13:36:34.427625",
          "status": "completed"
        },
        "tags": []
      },
      "outputs": [
        {
          "data": {
            "text/plain": [
              "(0.5952683065347829,\n",
              " {'bert.encoder.layer.0.attention.self.query.weight': 0.5999993218315972,\n",
              "  'bert.encoder.layer.0.attention.self.query.bias': 0.0,\n",
              "  'bert.encoder.layer.0.attention.self.key.weight': 0.5999993218315972,\n",
              "  'bert.encoder.layer.0.attention.self.key.bias': 0.0,\n",
              "  'bert.encoder.layer.0.attention.self.value.weight': 0.5999993218315972,\n",
              "  'bert.encoder.layer.0.attention.self.value.bias': 0.0,\n",
              "  'bert.encoder.layer.0.attention.output.dense.weight': 0.5999993218315972,\n",
              "  'bert.encoder.layer.0.attention.output.dense.bias': 0.0,\n",
              "  'bert.encoder.layer.0.intermediate.dense.weight': 0.599999745686849,\n",
              "  'bert.encoder.layer.0.intermediate.dense.bias': 0.0,\n",
              "  'bert.encoder.layer.0.output.dense.weight': 0.599999745686849,\n",
              "  'bert.encoder.layer.0.output.dense.bias': 0.0,\n",
              "  'bert.encoder.layer.1.attention.self.query.weight': 0.5999993218315972,\n",
              "  'bert.encoder.layer.1.attention.self.query.bias': 0.0,\n",
              "  'bert.encoder.layer.1.attention.self.key.weight': 0.5999993218315972,\n",
              "  'bert.encoder.layer.1.attention.self.key.bias': 0.0,\n",
              "  'bert.encoder.layer.1.attention.self.value.weight': 0.5999993218315972,\n",
              "  'bert.encoder.layer.1.attention.self.value.bias': 0.0,\n",
              "  'bert.encoder.layer.1.attention.output.dense.weight': 0.5999993218315972,\n",
              "  'bert.encoder.layer.1.attention.output.dense.bias': 0.0,\n",
              "  'bert.encoder.layer.1.intermediate.dense.weight': 0.599999745686849,\n",
              "  'bert.encoder.layer.1.intermediate.dense.bias': 0.0,\n",
              "  'bert.encoder.layer.1.output.dense.weight': 0.599999745686849,\n",
              "  'bert.encoder.layer.1.output.dense.bias': 0.0,\n",
              "  'bert.encoder.layer.2.attention.self.query.weight': 0.5999993218315972,\n",
              "  'bert.encoder.layer.2.attention.self.query.bias': 0.0,\n",
              "  'bert.encoder.layer.2.attention.self.key.weight': 0.5999993218315972,\n",
              "  'bert.encoder.layer.2.attention.self.key.bias': 0.0,\n",
              "  'bert.encoder.layer.2.attention.self.value.weight': 0.5999993218315972,\n",
              "  'bert.encoder.layer.2.attention.self.value.bias': 0.0,\n",
              "  'bert.encoder.layer.2.attention.output.dense.weight': 0.5999993218315972,\n",
              "  'bert.encoder.layer.2.attention.output.dense.bias': 0.0,\n",
              "  'bert.encoder.layer.2.intermediate.dense.weight': 0.599999745686849,\n",
              "  'bert.encoder.layer.2.intermediate.dense.bias': 0.0,\n",
              "  'bert.encoder.layer.2.output.dense.weight': 0.599999745686849,\n",
              "  'bert.encoder.layer.2.output.dense.bias': 0.0,\n",
              "  'bert.encoder.layer.3.attention.self.query.weight': 0.5999993218315972,\n",
              "  'bert.encoder.layer.3.attention.self.query.bias': 0.0,\n",
              "  'bert.encoder.layer.3.attention.self.key.weight': 0.5999993218315972,\n",
              "  'bert.encoder.layer.3.attention.self.key.bias': 0.0,\n",
              "  'bert.encoder.layer.3.attention.self.value.weight': 0.5999993218315972,\n",
              "  'bert.encoder.layer.3.attention.self.value.bias': 0.0,\n",
              "  'bert.encoder.layer.3.attention.output.dense.weight': 0.5999993218315972,\n",
              "  'bert.encoder.layer.3.attention.output.dense.bias': 0.0,\n",
              "  'bert.encoder.layer.3.intermediate.dense.weight': 0.599999745686849,\n",
              "  'bert.encoder.layer.3.intermediate.dense.bias': 0.0,\n",
              "  'bert.encoder.layer.3.output.dense.weight': 0.599999745686849,\n",
              "  'bert.encoder.layer.3.output.dense.bias': 0.0,\n",
              "  'bert.encoder.layer.4.attention.self.query.weight': 0.5999993218315972,\n",
              "  'bert.encoder.layer.4.attention.self.query.bias': 0.0,\n",
              "  'bert.encoder.layer.4.attention.self.key.weight': 0.5999993218315972,\n",
              "  'bert.encoder.layer.4.attention.self.key.bias': 0.0,\n",
              "  'bert.encoder.layer.4.attention.self.value.weight': 0.5999993218315972,\n",
              "  'bert.encoder.layer.4.attention.self.value.bias': 0.0,\n",
              "  'bert.encoder.layer.4.attention.output.dense.weight': 0.5999993218315972,\n",
              "  'bert.encoder.layer.4.attention.output.dense.bias': 0.0,\n",
              "  'bert.encoder.layer.4.intermediate.dense.weight': 0.599999745686849,\n",
              "  'bert.encoder.layer.4.intermediate.dense.bias': 0.0,\n",
              "  'bert.encoder.layer.4.output.dense.weight': 0.599999745686849,\n",
              "  'bert.encoder.layer.4.output.dense.bias': 0.0,\n",
              "  'bert.encoder.layer.5.attention.self.query.weight': 0.5999993218315972,\n",
              "  'bert.encoder.layer.5.attention.self.query.bias': 0.0,\n",
              "  'bert.encoder.layer.5.attention.self.key.weight': 0.5999993218315972,\n",
              "  'bert.encoder.layer.5.attention.self.key.bias': 0.0,\n",
              "  'bert.encoder.layer.5.attention.self.value.weight': 0.5999976264105903,\n",
              "  'bert.encoder.layer.5.attention.self.value.bias': 0.0,\n",
              "  'bert.encoder.layer.5.attention.output.dense.weight': 0.5999993218315972,\n",
              "  'bert.encoder.layer.5.attention.output.dense.bias': 0.0,\n",
              "  'bert.encoder.layer.5.intermediate.dense.weight': 0.599999745686849,\n",
              "  'bert.encoder.layer.5.intermediate.dense.bias': 0.0,\n",
              "  'bert.encoder.layer.5.output.dense.weight': 0.599999745686849,\n",
              "  'bert.encoder.layer.5.output.dense.bias': 0.0,\n",
              "  'bert.encoder.layer.6.attention.self.query.weight': 0.5999993218315972,\n",
              "  'bert.encoder.layer.6.attention.self.query.bias': 0.0,\n",
              "  'bert.encoder.layer.6.attention.self.key.weight': 0.5999993218315972,\n",
              "  'bert.encoder.layer.6.attention.self.key.bias': 0.0,\n",
              "  'bert.encoder.layer.6.attention.self.value.weight': 0.5999993218315972,\n",
              "  'bert.encoder.layer.6.attention.self.value.bias': 0.0,\n",
              "  'bert.encoder.layer.6.attention.output.dense.weight': 0.5999993218315972,\n",
              "  'bert.encoder.layer.6.attention.output.dense.bias': 0.0,\n",
              "  'bert.encoder.layer.6.intermediate.dense.weight': 0.599999745686849,\n",
              "  'bert.encoder.layer.6.intermediate.dense.bias': 0.0,\n",
              "  'bert.encoder.layer.6.output.dense.weight': 0.599999745686849,\n",
              "  'bert.encoder.layer.6.output.dense.bias': 0.0,\n",
              "  'bert.encoder.layer.7.attention.self.query.weight': 0.5999993218315972,\n",
              "  'bert.encoder.layer.7.attention.self.query.bias': 0.0,\n",
              "  'bert.encoder.layer.7.attention.self.key.weight': 0.5999993218315972,\n",
              "  'bert.encoder.layer.7.attention.self.key.bias': 0.0,\n",
              "  'bert.encoder.layer.7.attention.self.value.weight': 0.5999993218315972,\n",
              "  'bert.encoder.layer.7.attention.self.value.bias': 0.0,\n",
              "  'bert.encoder.layer.7.attention.output.dense.weight': 0.5999993218315972,\n",
              "  'bert.encoder.layer.7.attention.output.dense.bias': 0.0,\n",
              "  'bert.encoder.layer.7.intermediate.dense.weight': 0.599999745686849,\n",
              "  'bert.encoder.layer.7.intermediate.dense.bias': 0.0,\n",
              "  'bert.encoder.layer.7.output.dense.weight': 0.599999745686849,\n",
              "  'bert.encoder.layer.7.output.dense.bias': 0.0,\n",
              "  'bert.encoder.layer.8.attention.self.query.weight': 0.5999993218315972,\n",
              "  'bert.encoder.layer.8.attention.self.query.bias': 0.0,\n",
              "  'bert.encoder.layer.8.attention.self.key.weight': 0.5999993218315972,\n",
              "  'bert.encoder.layer.8.attention.self.key.bias': 0.0,\n",
              "  'bert.encoder.layer.8.attention.self.value.weight': 0.5999993218315972,\n",
              "  'bert.encoder.layer.8.attention.self.value.bias': 0.0,\n",
              "  'bert.encoder.layer.8.attention.output.dense.weight': 0.5999993218315972,\n",
              "  'bert.encoder.layer.8.attention.output.dense.bias': 0.0,\n",
              "  'bert.encoder.layer.8.intermediate.dense.weight': 0.599999745686849,\n",
              "  'bert.encoder.layer.8.intermediate.dense.bias': 0.0,\n",
              "  'bert.encoder.layer.8.output.dense.weight': 0.599999745686849,\n",
              "  'bert.encoder.layer.8.output.dense.bias': 0.0,\n",
              "  'bert.encoder.layer.9.attention.self.query.weight': 0.5999993218315972,\n",
              "  'bert.encoder.layer.9.attention.self.query.bias': 0.0,\n",
              "  'bert.encoder.layer.9.attention.self.key.weight': 0.5999993218315972,\n",
              "  'bert.encoder.layer.9.attention.self.key.bias': 0.0,\n",
              "  'bert.encoder.layer.9.attention.self.value.weight': 0.5999993218315972,\n",
              "  'bert.encoder.layer.9.attention.self.value.bias': 0.0,\n",
              "  'bert.encoder.layer.9.attention.output.dense.weight': 0.5999993218315972,\n",
              "  'bert.encoder.layer.9.attention.output.dense.bias': 0.0,\n",
              "  'bert.encoder.layer.9.intermediate.dense.weight': 0.599999745686849,\n",
              "  'bert.encoder.layer.9.intermediate.dense.bias': 0.0,\n",
              "  'bert.encoder.layer.9.output.dense.weight': 0.599999745686849,\n",
              "  'bert.encoder.layer.9.output.dense.bias': 0.0,\n",
              "  'bert.encoder.layer.10.attention.self.query.weight': 0.5999993218315972,\n",
              "  'bert.encoder.layer.10.attention.self.query.bias': 0.0,\n",
              "  'bert.encoder.layer.10.attention.self.key.weight': 0.5999993218315972,\n",
              "  'bert.encoder.layer.10.attention.self.key.bias': 0.0,\n",
              "  'bert.encoder.layer.10.attention.self.value.weight': 0.5999993218315972,\n",
              "  'bert.encoder.layer.10.attention.self.value.bias': 0.0,\n",
              "  'bert.encoder.layer.10.attention.output.dense.weight': 0.5999993218315972,\n",
              "  'bert.encoder.layer.10.attention.output.dense.bias': 0.0,\n",
              "  'bert.encoder.layer.10.intermediate.dense.weight': 0.599999745686849,\n",
              "  'bert.encoder.layer.10.intermediate.dense.bias': 0.0,\n",
              "  'bert.encoder.layer.10.output.dense.weight': 0.599999745686849,\n",
              "  'bert.encoder.layer.10.output.dense.bias': 0.0,\n",
              "  'bert.encoder.layer.11.attention.self.query.weight': 0.5999993218315972,\n",
              "  'bert.encoder.layer.11.attention.self.query.bias': 0.0,\n",
              "  'bert.encoder.layer.11.attention.self.key.weight': 0.5999993218315972,\n",
              "  'bert.encoder.layer.11.attention.self.key.bias': 0.0,\n",
              "  'bert.encoder.layer.11.attention.self.value.weight': 0.5999993218315972,\n",
              "  'bert.encoder.layer.11.attention.self.value.bias': 0.0,\n",
              "  'bert.encoder.layer.11.attention.output.dense.weight': 0.5999993218315972,\n",
              "  'bert.encoder.layer.11.attention.output.dense.bias': 0.0,\n",
              "  'bert.encoder.layer.11.intermediate.dense.weight': 0.599999745686849,\n",
              "  'bert.encoder.layer.11.intermediate.dense.bias': 0.0,\n",
              "  'bert.encoder.layer.11.output.dense.weight': 0.599999745686849,\n",
              "  'bert.encoder.layer.11.output.dense.bias': 0.0,\n",
              "  'bert.pooler.dense.weight': 0.0,\n",
              "  'bert.pooler.dense.bias': 0.0,\n",
              "  'classifier.weight': 0.0,\n",
              "  'classifier.bias': 0.0})"
            ]
          },
          "execution_count": 12,
          "metadata": {},
          "output_type": "execute_result"
        }
      ],
      "source": [
        "get_sparsity(module)"
      ]
    }
  ],
  "metadata": {
    "kernelspec": {
      "display_name": "Python 3 (ipykernel)",
      "language": "python",
      "name": "python3"
    },
    "language_info": {
      "codemirror_mode": {
        "name": "ipython",
        "version": 3
      },
      "file_extension": ".py",
      "mimetype": "text/x-python",
      "name": "python",
      "nbconvert_exporter": "python",
      "pygments_lexer": "ipython3",
      "version": "3.8.19"
    },
    "papermill": {
      "default_parameters": {},
      "duration": 471.427457,
      "end_time": "2024-08-19T13:36:39.021988",
      "environment_variables": {},
      "exception": null,
      "input_path": "Getting_Started/ipynb/Pruned by magnitude/IMDB/Prune by magnitude(60%).ipynb",
      "output_path": "Getting_Started/ipynb/Pruned by magnitude/IMDB/Prune by magnitude(60%)_saved.ipynb",
      "parameters": {},
      "start_time": "2024-08-19T13:28:47.594531",
      "version": "2.6.0"
    }
  },
  "nbformat": 4,
  "nbformat_minor": 5
}