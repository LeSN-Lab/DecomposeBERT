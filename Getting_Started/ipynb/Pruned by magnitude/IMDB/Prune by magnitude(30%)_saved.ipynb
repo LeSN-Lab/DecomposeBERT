{
  "cells": [
    {
      "cell_type": "code",
      "execution_count": 1,
      "id": "1e774c0d-6a12-4e09-83b7-52c6be4f5eea",
      "metadata": {
        "execution": {
          "iopub.execute_input": "2024-08-19T13:53:32.483537Z",
          "iopub.status.busy": "2024-08-19T13:53:32.483224Z",
          "iopub.status.idle": "2024-08-19T13:53:32.494443Z",
          "shell.execute_reply": "2024-08-19T13:53:32.492411Z"
        },
        "papermill": {
          "duration": 0.024463,
          "end_time": "2024-08-19T13:53:32.498905",
          "exception": false,
          "start_time": "2024-08-19T13:53:32.474442",
          "status": "completed"
        },
        "tags": []
      },
      "outputs": [],
      "source": [
        "import os\n",
        "import sys\n",
        "sys.path.append(\"../../../../\")\n",
        "os.environ[\"TOKENIZERS_PARALLELISM\"] = \"false\""
      ]
    },
    {
      "cell_type": "code",
      "execution_count": 2,
      "id": "12cdfbbb-c013-4cdd-b770-b640faed45bb",
      "metadata": {
        "execution": {
          "iopub.execute_input": "2024-08-19T13:53:32.511483Z",
          "iopub.status.busy": "2024-08-19T13:53:32.510632Z",
          "iopub.status.idle": "2024-08-19T13:53:34.872160Z",
          "shell.execute_reply": "2024-08-19T13:53:34.870258Z"
        },
        "papermill": {
          "duration": 2.372704,
          "end_time": "2024-08-19T13:53:34.876755",
          "exception": false,
          "start_time": "2024-08-19T13:53:32.504051",
          "status": "completed"
        },
        "tags": []
      },
      "outputs": [],
      "source": [
        "import copy\n",
        "import torch\n",
        "from datetime import datetime\n",
        "from utils.helper import ModelConfig, color_print\n",
        "from utils.dataset_utils.load_dataset import (\n",
        "    load_data,\n",
        ")\n",
        "from utils.model_utils.save_module import save_module\n",
        "from utils.model_utils.load_model import load_model\n",
        "from utils.model_utils.evaluate import evaluate_model, get_sparsity, similar\n",
        "from utils.dataset_utils.sampling import SamplingDataset\n",
        "from utils.prune_utils.prune import (\n",
        "    prune_magnitude\n",
        ")"
      ]
    },
    {
      "cell_type": "code",
      "execution_count": 3,
      "id": "3bbed077-183d-4b34-8d3d-a6dcc1e13267",
      "metadata": {
        "execution": {
          "iopub.execute_input": "2024-08-19T13:53:34.894038Z",
          "iopub.status.busy": "2024-08-19T13:53:34.893410Z",
          "iopub.status.idle": "2024-08-19T13:53:34.901050Z",
          "shell.execute_reply": "2024-08-19T13:53:34.899252Z"
        },
        "papermill": {
          "duration": 0.022728,
          "end_time": "2024-08-19T13:53:34.905090",
          "exception": false,
          "start_time": "2024-08-19T13:53:34.882362",
          "status": "completed"
        },
        "tags": []
      },
      "outputs": [],
      "source": [
        "name= \"IMDB\"\n",
        "device = torch.device(\"cuda:0\")\n",
        "checkpoint = None\n",
        "batch_size=32\n",
        "num_workers=48\n",
        "num_samples=16\n",
        "magnitude_ratio=0.3\n",
        "seed=44\n",
        "include_layers=[\"attention\", \"intermediate\", \"output\"]\n",
        "exclude_layers=None"
      ]
    },
    {
      "cell_type": "code",
      "execution_count": 4,
      "id": "9f784b30-09b2-4e69-8160-5a78a8064c37",
      "metadata": {
        "execution": {
          "iopub.execute_input": "2024-08-19T13:53:34.920376Z",
          "iopub.status.busy": "2024-08-19T13:53:34.920008Z",
          "iopub.status.idle": "2024-08-19T13:53:34.927581Z",
          "shell.execute_reply": "2024-08-19T13:53:34.925401Z"
        },
        "papermill": {
          "duration": 0.017765,
          "end_time": "2024-08-19T13:53:34.931317",
          "exception": false,
          "start_time": "2024-08-19T13:53:34.913552",
          "status": "completed"
        },
        "tags": []
      },
      "outputs": [
        {
          "name": "stdout",
          "output_type": "stream",
          "text": [
            "Script started at: 2024-08-19 22:53:34\n"
          ]
        }
      ],
      "source": [
        "script_start_time = datetime.now()\n",
        "print(f\"Script started at: {script_start_time.strftime('%Y-%m-%d %H:%M:%S')}\")"
      ]
    },
    {
      "cell_type": "code",
      "execution_count": 5,
      "id": "29af739a-e23a-4715-9ff8-473263658ff6",
      "metadata": {
        "execution": {
          "iopub.execute_input": "2024-08-19T13:53:34.945348Z",
          "iopub.status.busy": "2024-08-19T13:53:34.944905Z",
          "iopub.status.idle": "2024-08-19T13:53:37.975798Z",
          "shell.execute_reply": "2024-08-19T13:53:37.973997Z"
        },
        "papermill": {
          "duration": 3.042814,
          "end_time": "2024-08-19T13:53:37.979397",
          "exception": false,
          "start_time": "2024-08-19T13:53:34.936583",
          "status": "completed"
        },
        "tags": []
      },
      "outputs": [
        {
          "name": "stdout",
          "output_type": "stream",
          "text": [
            "Loading the model."
          ]
        },
        {
          "name": "stdout",
          "output_type": "stream",
          "text": [
            "\n"
          ]
        },
        {
          "name": "stdout",
          "output_type": "stream",
          "text": [
            "{'model_name': 'textattack/bert-base-uncased-imdb', 'task_type': 'classification', 'architectures': 'bert', 'dataset_name': 'IMDB', 'num_labels': 2, 'cache_dir': 'Models'}"
          ]
        },
        {
          "name": "stdout",
          "output_type": "stream",
          "text": [
            "\n"
          ]
        },
        {
          "name": "stdout",
          "output_type": "stream",
          "text": [
            "The model textattack/bert-base-uncased-imdb is loaded."
          ]
        },
        {
          "name": "stdout",
          "output_type": "stream",
          "text": [
            "\n"
          ]
        }
      ],
      "source": [
        "model_config = ModelConfig(name, device)\n",
        "num_labels = model_config.config[\"num_labels\"]\n",
        "model, tokenizer, checkpoint = load_model(model_config)"
      ]
    },
    {
      "cell_type": "code",
      "execution_count": 6,
      "id": "788d0f37-7fb7-4603-bac7-34ba01dec4dd",
      "metadata": {
        "execution": {
          "iopub.execute_input": "2024-08-19T13:53:37.997201Z",
          "iopub.status.busy": "2024-08-19T13:53:37.996724Z"
        },
        "papermill": {
          "duration": null,
          "end_time": null,
          "exception": false,
          "start_time": "2024-08-19T13:53:37.985765",
          "status": "running"
        },
        "tags": []
      },
      "outputs": [
        {
          "name": "stdout",
          "output_type": "stream",
          "text": [
            "{'dataset_name': 'IMDB', 'path': 'imdb', 'config_name': 'plain_text', 'text_column': 'text', 'label_column': 'label', 'cache_dir': 'Datasets/IMDB', 'task_type': 'classification'}"
          ]
        },
        {
          "name": "stdout",
          "output_type": "stream",
          "text": [
            "\n"
          ]
        },
        {
          "name": "stdout",
          "output_type": "stream",
          "text": [
            "Downloading the Dataset IMDB"
          ]
        },
        {
          "name": "stdout",
          "output_type": "stream",
          "text": [
            "\n"
          ]
        },
        {
          "data": {
            "application/vnd.jupyter.widget-view+json": {
              "model_id": "f966161a493040b9a6c38e1e1887b2d8",
              "version_major": 2,
              "version_minor": 0
            },
            "text/plain": [
              "Downloading data:   0%|          | 0.00/21.0M [00:00<?, ?B/s]"
            ]
          },
          "metadata": {},
          "output_type": "display_data"
        },
        {
          "data": {
            "application/vnd.jupyter.widget-view+json": {
              "model_id": "a8dba201cc7a45698fc3e483816e6fea",
              "version_major": 2,
              "version_minor": 0
            },
            "text/plain": [
              "Downloading data:   0%|          | 0.00/20.5M [00:00<?, ?B/s]"
            ]
          },
          "metadata": {},
          "output_type": "display_data"
        },
        {
          "data": {
            "application/vnd.jupyter.widget-view+json": {
              "model_id": "8e7192e2524a4674acb20d3831963641",
              "version_major": 2,
              "version_minor": 0
            },
            "text/plain": [
              "Downloading data:   0%|          | 0.00/42.0M [00:00<?, ?B/s]"
            ]
          },
          "metadata": {},
          "output_type": "display_data"
        },
        {
          "data": {
            "application/vnd.jupyter.widget-view+json": {
              "model_id": "b14b88caafe94db9879eef55b53225aa",
              "version_major": 2,
              "version_minor": 0
            },
            "text/plain": [
              "Generating train split:   0%|          | 0/25000 [00:00<?, ? examples/s]"
            ]
          },
          "metadata": {},
          "output_type": "display_data"
        },
        {
          "data": {
            "application/vnd.jupyter.widget-view+json": {
              "model_id": "3a31ee71602f4058b817a18a1dcc9487",
              "version_major": 2,
              "version_minor": 0
            },
            "text/plain": [
              "Generating test split:   0%|          | 0/25000 [00:00<?, ? examples/s]"
            ]
          },
          "metadata": {},
          "output_type": "display_data"
        },
        {
          "data": {
            "application/vnd.jupyter.widget-view+json": {
              "model_id": "9e4bdab90cf247fda3fd98d42f8431fa",
              "version_major": 2,
              "version_minor": 0
            },
            "text/plain": [
              "Generating unsupervised split:   0%|          | 0/50000 [00:00<?, ? examples/s]"
            ]
          },
          "metadata": {},
          "output_type": "display_data"
        },
        {
          "name": "stderr",
          "output_type": "stream",
          "text": [
            "\r",
            "Tokenizing dataset:   0%|          | 0/25000 [00:00<?, ?it/s]"
          ]
        },
        {
          "name": "stderr",
          "output_type": "stream",
          "text": [
            "\r",
            "Tokenizing dataset:   0%|          | 43/25000 [00:00<00:58, 429.58it/s]"
          ]
        },
        {
          "name": "stderr",
          "output_type": "stream",
          "text": [
            "\r",
            "Tokenizing dataset:   0%|          | 112/25000 [00:00<00:43, 576.46it/s]"
          ]
        },
        {
          "name": "stderr",
          "output_type": "stream",
          "text": [
            "\r",
            "Tokenizing dataset:   1%|          | 190/25000 [00:00<00:37, 668.68it/s]"
          ]
        },
        {
          "name": "stderr",
          "output_type": "stream",
          "text": [
            "\r",
            "Tokenizing dataset:   1%|          | 263/25000 [00:00<00:35, 691.23it/s]"
          ]
        },
        {
          "name": "stderr",
          "output_type": "stream",
          "text": [
            "\r",
            "Tokenizing dataset:   1%|?��         | 347/25000 [00:00<00:33, 742.94it/s]"
          ]
        },
        {
          "name": "stderr",
          "output_type": "stream",
          "text": [
            "\r",
            "Tokenizing dataset:   2%|?��         | 423/25000 [00:00<00:32, 745.38it/s]"
          ]
        },
        {
          "name": "stderr",
          "output_type": "stream",
          "text": [
            "\r",
            "Tokenizing dataset:   2%|?��         | 498/25000 [00:00<00:33, 731.22it/s]"
          ]
        },
        {
          "name": "stderr",
          "output_type": "stream",
          "text": [
            "\r",
            "Tokenizing dataset:   2%|?��         | 572/25000 [00:00<00:33, 718.50it/s]"
          ]
        },
        {
          "name": "stderr",
          "output_type": "stream",
          "text": [
            "\r",
            "Tokenizing dataset:   3%|?��         | 647/25000 [00:00<00:33, 726.46it/s]"
          ]
        },
        {
          "name": "stderr",
          "output_type": "stream",
          "text": [
            "\r",
            "Tokenizing dataset:   3%|?��         | 720/25000 [00:01<00:35, 685.66it/s]"
          ]
        },
        {
          "name": "stderr",
          "output_type": "stream",
          "text": [
            "\r",
            "Tokenizing dataset:   3%|?��         | 790/25000 [00:01<00:36, 656.54it/s]"
          ]
        },
        {
          "name": "stderr",
          "output_type": "stream",
          "text": [
            "\r",
            "Tokenizing dataset:   3%|?��         | 865/25000 [00:01<00:35, 681.18it/s]"
          ]
        },
        {
          "name": "stderr",
          "output_type": "stream",
          "text": [
            "\r",
            "Tokenizing dataset:   4%|?��         | 939/25000 [00:01<00:34, 696.63it/s]"
          ]
        },
        {
          "name": "stderr",
          "output_type": "stream",
          "text": [
            "\r",
            "Tokenizing dataset:   4%|?��         | 1016/25000 [00:01<00:33, 715.32it/s]"
          ]
        },
        {
          "name": "stderr",
          "output_type": "stream",
          "text": [
            "\r",
            "Tokenizing dataset:   4%|?��         | 1094/25000 [00:01<00:32, 732.31it/s]"
          ]
        },
        {
          "name": "stderr",
          "output_type": "stream",
          "text": [
            "\r",
            "Tokenizing dataset:   5%|?��         | 1173/25000 [00:01<00:31, 748.93it/s]"
          ]
        },
        {
          "name": "stderr",
          "output_type": "stream",
          "text": [
            "\r",
            "Tokenizing dataset:   5%|?��         | 1249/25000 [00:01<00:32, 724.12it/s]"
          ]
        },
        {
          "name": "stderr",
          "output_type": "stream",
          "text": [
            "\r",
            "Tokenizing dataset:   5%|?��         | 1327/25000 [00:01<00:32, 738.52it/s]"
          ]
        },
        {
          "name": "stderr",
          "output_type": "stream",
          "text": [
            "\r",
            "Tokenizing dataset:   6%|?��         | 1402/25000 [00:01<00:32, 727.99it/s]"
          ]
        },
        {
          "name": "stderr",
          "output_type": "stream",
          "text": [
            "\r",
            "Tokenizing dataset:   6%|?��         | 1477/25000 [00:02<00:32, 731.14it/s]"
          ]
        },
        {
          "name": "stderr",
          "output_type": "stream",
          "text": [
            "\r",
            "Tokenizing dataset:   6%|?��         | 1551/25000 [00:02<00:32, 717.89it/s]"
          ]
        },
        {
          "name": "stderr",
          "output_type": "stream",
          "text": [
            "\r",
            "Tokenizing dataset:   6%|?��         | 1623/25000 [00:02<00:32, 711.36it/s]"
          ]
        },
        {
          "name": "stderr",
          "output_type": "stream",
          "text": [
            "\r",
            "Tokenizing dataset:   7%|?��         | 1710/25000 [00:02<00:30, 756.55it/s]"
          ]
        },
        {
          "name": "stderr",
          "output_type": "stream",
          "text": [
            "\r",
            "Tokenizing dataset:   7%|?��         | 1787/25000 [00:02<00:30, 758.40it/s]"
          ]
        },
        {
          "name": "stderr",
          "output_type": "stream",
          "text": [
            "\r",
            "Tokenizing dataset:   7%|?��         | 1865/25000 [00:02<00:30, 761.16it/s]"
          ]
        },
        {
          "name": "stderr",
          "output_type": "stream",
          "text": [
            "\r",
            "Tokenizing dataset:   8%|?��         | 1942/25000 [00:02<00:31, 728.14it/s]"
          ]
        },
        {
          "name": "stderr",
          "output_type": "stream",
          "text": [
            "\r",
            "Tokenizing dataset:   8%|?��         | 2017/25000 [00:02<00:31, 734.15it/s]"
          ]
        },
        {
          "name": "stderr",
          "output_type": "stream",
          "text": [
            "\r",
            "Tokenizing dataset:   8%|?��         | 2091/25000 [00:02<00:33, 685.41it/s]"
          ]
        },
        {
          "name": "stderr",
          "output_type": "stream",
          "text": [
            "\r",
            "Tokenizing dataset:   9%|?��         | 2161/25000 [00:03<00:33, 679.37it/s]"
          ]
        },
        {
          "name": "stderr",
          "output_type": "stream",
          "text": [
            "\r",
            "Tokenizing dataset:   9%|?��         | 2230/25000 [00:03<00:33, 677.43it/s]"
          ]
        },
        {
          "name": "stderr",
          "output_type": "stream",
          "text": [
            "\r",
            "Tokenizing dataset:   9%|?��         | 2332/25000 [00:03<00:29, 775.25it/s]"
          ]
        },
        {
          "name": "stderr",
          "output_type": "stream",
          "text": [
            "\r",
            "Tokenizing dataset:  10%|?��         | 2458/25000 [00:03<00:24, 907.52it/s]"
          ]
        },
        {
          "name": "stderr",
          "output_type": "stream",
          "text": [
            "\r",
            "Tokenizing dataset:  10%|?��         | 2570/25000 [00:03<00:23, 968.14it/s]"
          ]
        },
        {
          "name": "stderr",
          "output_type": "stream",
          "text": [
            "\r",
            "Tokenizing dataset:  11%|?��         | 2697/25000 [00:03<00:21, 1055.61it/s]"
          ]
        },
        {
          "name": "stderr",
          "output_type": "stream",
          "text": [
            "\r",
            "Tokenizing dataset:  11%|?��         | 2807/25000 [00:03<00:20, 1063.55it/s]"
          ]
        },
        {
          "name": "stderr",
          "output_type": "stream",
          "text": [
            "\r",
            "Tokenizing dataset:  12%|?��?��        | 2926/25000 [00:03<00:20, 1099.07it/s]"
          ]
        },
        {
          "name": "stderr",
          "output_type": "stream",
          "text": [
            "\r",
            "Tokenizing dataset:  12%|?��?��        | 3037/25000 [00:03<00:21, 1040.87it/s]"
          ]
        },
        {
          "name": "stderr",
          "output_type": "stream",
          "text": [
            "\r",
            "Tokenizing dataset:  13%|?��?��        | 3142/25000 [00:03<00:21, 1020.22it/s]"
          ]
        },
        {
          "name": "stderr",
          "output_type": "stream",
          "text": [
            "\r",
            "Tokenizing dataset:  13%|?��?��        | 3245/25000 [00:04<00:21, 1011.21it/s]"
          ]
        },
        {
          "name": "stderr",
          "output_type": "stream",
          "text": [
            "\r",
            "Tokenizing dataset:  13%|?��?��        | 3347/25000 [00:04<00:22, 971.33it/s] "
          ]
        },
        {
          "name": "stderr",
          "output_type": "stream",
          "text": [
            "\r",
            "Tokenizing dataset:  14%|?��?��        | 3447/25000 [00:04<00:22, 977.83it/s]"
          ]
        },
        {
          "name": "stderr",
          "output_type": "stream",
          "text": [
            "\r",
            "Tokenizing dataset:  14%|?��?��        | 3546/25000 [00:04<00:22, 969.15it/s]"
          ]
        },
        {
          "name": "stderr",
          "output_type": "stream",
          "text": [
            "\r",
            "Tokenizing dataset:  15%|?��?��        | 3644/25000 [00:04<00:22, 962.44it/s]"
          ]
        },
        {
          "name": "stderr",
          "output_type": "stream",
          "text": [
            "\r",
            "Tokenizing dataset:  15%|?��?��        | 3741/25000 [00:04<00:22, 934.70it/s]"
          ]
        },
        {
          "name": "stderr",
          "output_type": "stream",
          "text": [
            "\r",
            "Tokenizing dataset:  15%|?��?��        | 3836/25000 [00:04<00:22, 938.82it/s]"
          ]
        },
        {
          "name": "stderr",
          "output_type": "stream",
          "text": [
            "\r",
            "Tokenizing dataset:  16%|?��?��        | 3931/25000 [00:04<00:22, 939.00it/s]"
          ]
        },
        {
          "name": "stderr",
          "output_type": "stream",
          "text": [
            "\r",
            "Tokenizing dataset:  16%|?��?��        | 4029/25000 [00:04<00:22, 949.51it/s]"
          ]
        },
        {
          "name": "stderr",
          "output_type": "stream",
          "text": [
            "\r",
            "Tokenizing dataset:  16%|?��?��        | 4125/25000 [00:05<00:22, 938.68it/s]"
          ]
        },
        {
          "name": "stderr",
          "output_type": "stream",
          "text": [
            "\r",
            "Tokenizing dataset:  17%|?��?��        | 4225/25000 [00:05<00:21, 955.99it/s]"
          ]
        },
        {
          "name": "stderr",
          "output_type": "stream",
          "text": [
            "\r",
            "Tokenizing dataset:  17%|?��?��        | 4326/25000 [00:05<00:21, 971.58it/s]"
          ]
        },
        {
          "name": "stderr",
          "output_type": "stream",
          "text": [
            "\r",
            "Tokenizing dataset:  18%|?��?��        | 4424/25000 [00:05<00:21, 972.18it/s]"
          ]
        },
        {
          "name": "stderr",
          "output_type": "stream",
          "text": [
            "\r",
            "Tokenizing dataset:  18%|?��?��        | 4522/25000 [00:05<00:27, 742.22it/s]"
          ]
        },
        {
          "name": "stderr",
          "output_type": "stream",
          "text": [
            "\r",
            "Tokenizing dataset:  18%|?��?��        | 4605/25000 [00:05<00:27, 749.43it/s]"
          ]
        },
        {
          "name": "stderr",
          "output_type": "stream",
          "text": [
            "\r",
            "Tokenizing dataset:  19%|?��?��        | 4714/25000 [00:05<00:24, 836.15it/s]"
          ]
        },
        {
          "name": "stderr",
          "output_type": "stream",
          "text": [
            "\r",
            "Tokenizing dataset:  19%|?��?��        | 4826/25000 [00:05<00:22, 908.85it/s]"
          ]
        },
        {
          "name": "stderr",
          "output_type": "stream",
          "text": [
            "\r",
            "Tokenizing dataset:  20%|?��?��        | 4927/25000 [00:05<00:21, 936.65it/s]"
          ]
        },
        {
          "name": "stderr",
          "output_type": "stream",
          "text": [
            "\r",
            "Tokenizing dataset:  20%|?��?��        | 5049/25000 [00:06<00:19, 1015.76it/s]"
          ]
        },
        {
          "name": "stderr",
          "output_type": "stream",
          "text": [
            "\r",
            "Tokenizing dataset:  21%|?��?��        | 5176/25000 [00:06<00:18, 1087.61it/s]"
          ]
        },
        {
          "name": "stderr",
          "output_type": "stream",
          "text": [
            "\r",
            "Tokenizing dataset:  21%|?��?��        | 5288/25000 [00:06<00:17, 1096.00it/s]"
          ]
        },
        {
          "name": "stderr",
          "output_type": "stream",
          "text": [
            "\r",
            "Tokenizing dataset:  22%|?��?��?��       | 5404/25000 [00:06<00:17, 1112.91it/s]"
          ]
        },
        {
          "name": "stderr",
          "output_type": "stream",
          "text": [
            "\r",
            "Tokenizing dataset:  22%|?��?��?��       | 5517/25000 [00:06<00:18, 1073.58it/s]"
          ]
        },
        {
          "name": "stderr",
          "output_type": "stream",
          "text": [
            "\r",
            "Tokenizing dataset:  23%|?��?��?��       | 5626/25000 [00:06<00:18, 1054.84it/s]"
          ]
        },
        {
          "name": "stderr",
          "output_type": "stream",
          "text": [
            "\r",
            "Tokenizing dataset:  23%|?��?��?��       | 5733/25000 [00:06<00:18, 1043.19it/s]"
          ]
        },
        {
          "name": "stderr",
          "output_type": "stream",
          "text": [
            "\r",
            "Tokenizing dataset:  23%|?��?��?��       | 5846/25000 [00:06<00:17, 1067.90it/s]"
          ]
        },
        {
          "name": "stderr",
          "output_type": "stream",
          "text": [
            "\r",
            "Tokenizing dataset:  24%|?��?��?��       | 5954/25000 [00:06<00:17, 1062.93it/s]"
          ]
        },
        {
          "name": "stderr",
          "output_type": "stream",
          "text": [
            "\r",
            "Tokenizing dataset:  24%|?��?��?��       | 6070/25000 [00:06<00:17, 1088.27it/s]"
          ]
        },
        {
          "name": "stderr",
          "output_type": "stream",
          "text": [
            "\r",
            "Tokenizing dataset:  25%|?��?��?��       | 6180/25000 [00:07<00:18, 1012.03it/s]"
          ]
        },
        {
          "name": "stderr",
          "output_type": "stream",
          "text": [
            "\r",
            "Tokenizing dataset:  25%|?��?��?��       | 6283/25000 [00:07<00:19, 947.39it/s] "
          ]
        },
        {
          "name": "stderr",
          "output_type": "stream",
          "text": [
            "\r",
            "Tokenizing dataset:  26%|?��?��?��       | 6380/25000 [00:07<00:20, 923.42it/s]"
          ]
        },
        {
          "name": "stderr",
          "output_type": "stream",
          "text": [
            "\r",
            "Tokenizing dataset:  26%|?��?��?��       | 6474/25000 [00:07<00:22, 828.04it/s]"
          ]
        },
        {
          "name": "stderr",
          "output_type": "stream",
          "text": [
            "\r",
            "Tokenizing dataset:  26%|?��?��?��       | 6559/25000 [00:07<00:23, 799.87it/s]"
          ]
        },
        {
          "name": "stderr",
          "output_type": "stream",
          "text": [
            "\r",
            "Tokenizing dataset:  27%|?��?��?��       | 6641/25000 [00:07<00:24, 753.27it/s]"
          ]
        },
        {
          "name": "stderr",
          "output_type": "stream",
          "text": [
            "\r",
            "Tokenizing dataset:  27%|?��?��?��       | 6718/25000 [00:07<00:25, 726.48it/s]"
          ]
        },
        {
          "name": "stderr",
          "output_type": "stream",
          "text": [
            "\r",
            "Tokenizing dataset:  27%|?��?��?��       | 6795/25000 [00:07<00:24, 735.90it/s]"
          ]
        },
        {
          "name": "stderr",
          "output_type": "stream",
          "text": [
            "\r",
            "Tokenizing dataset:  27%|?��?��?��       | 6870/25000 [00:08<00:24, 734.87it/s]"
          ]
        },
        {
          "name": "stderr",
          "output_type": "stream",
          "text": [
            "\r",
            "Tokenizing dataset:  28%|?��?��?��       | 6944/25000 [00:08<00:25, 721.52it/s]"
          ]
        },
        {
          "name": "stderr",
          "output_type": "stream",
          "text": [
            "\r",
            "Tokenizing dataset:  28%|?��?��?��       | 7017/25000 [00:08<00:25, 694.05it/s]"
          ]
        },
        {
          "name": "stderr",
          "output_type": "stream",
          "text": [
            "\r",
            "Tokenizing dataset:  28%|?��?��?��       | 7094/25000 [00:08<00:25, 714.31it/s]"
          ]
        },
        {
          "name": "stderr",
          "output_type": "stream",
          "text": [
            "\r",
            "Tokenizing dataset:  29%|?��?��?��       | 7172/25000 [00:08<00:24, 730.99it/s]"
          ]
        },
        {
          "name": "stderr",
          "output_type": "stream",
          "text": [
            "\r",
            "Tokenizing dataset:  29%|?��?��?��       | 7246/25000 [00:08<00:25, 700.69it/s]"
          ]
        },
        {
          "name": "stderr",
          "output_type": "stream",
          "text": [
            "\r",
            "Tokenizing dataset:  29%|?��?��?��       | 7323/25000 [00:08<00:24, 719.67it/s]"
          ]
        },
        {
          "name": "stderr",
          "output_type": "stream",
          "text": [
            "\r",
            "Tokenizing dataset:  30%|?��?��?��       | 7410/25000 [00:08<00:23, 758.62it/s]"
          ]
        },
        {
          "name": "stderr",
          "output_type": "stream",
          "text": [
            "\r",
            "Tokenizing dataset:  30%|?��?��?��       | 7500/25000 [00:08<00:21, 798.84it/s]"
          ]
        },
        {
          "name": "stderr",
          "output_type": "stream",
          "text": [
            "\r",
            "Tokenizing dataset:  30%|?��?��?��       | 7582/25000 [00:08<00:21, 804.20it/s]"
          ]
        },
        {
          "name": "stderr",
          "output_type": "stream",
          "text": [
            "\r",
            "Tokenizing dataset:  31%|?��?��?��       | 7676/25000 [00:09<00:20, 837.94it/s]"
          ]
        },
        {
          "name": "stderr",
          "output_type": "stream",
          "text": [
            "\r",
            "Tokenizing dataset:  31%|?��?��?��       | 7765/25000 [00:09<00:20, 851.70it/s]"
          ]
        },
        {
          "name": "stderr",
          "output_type": "stream",
          "text": [
            "\r",
            "Tokenizing dataset:  31%|?��?��?��?��      | 7854/25000 [00:09<00:19, 861.65it/s]"
          ]
        },
        {
          "name": "stderr",
          "output_type": "stream",
          "text": [
            "\r",
            "Tokenizing dataset:  32%|?��?��?��?��      | 7941/25000 [00:09<00:20, 830.71it/s]"
          ]
        },
        {
          "name": "stderr",
          "output_type": "stream",
          "text": [
            "\r",
            "Tokenizing dataset:  32%|?��?��?��?��      | 8032/25000 [00:09<00:19, 852.44it/s]"
          ]
        },
        {
          "name": "stderr",
          "output_type": "stream",
          "text": [
            "\r",
            "Tokenizing dataset:  32%|?��?��?��?��      | 8125/25000 [00:09<00:19, 874.20it/s]"
          ]
        },
        {
          "name": "stderr",
          "output_type": "stream",
          "text": [
            "\r",
            "Tokenizing dataset:  33%|?��?��?��?��      | 8219/25000 [00:09<00:18, 891.78it/s]"
          ]
        },
        {
          "name": "stderr",
          "output_type": "stream",
          "text": [
            "\r",
            "Tokenizing dataset:  33%|?��?��?��?��      | 8309/25000 [00:09<00:18, 889.52it/s]"
          ]
        },
        {
          "name": "stderr",
          "output_type": "stream",
          "text": [
            "\r",
            "Tokenizing dataset:  34%|?��?��?��?��      | 8399/25000 [00:09<00:19, 862.48it/s]"
          ]
        },
        {
          "name": "stderr",
          "output_type": "stream",
          "text": [
            "\r",
            "Tokenizing dataset:  34%|?��?��?��?��      | 8489/25000 [00:10<00:18, 871.73it/s]"
          ]
        },
        {
          "name": "stderr",
          "output_type": "stream",
          "text": [
            "\r",
            "Tokenizing dataset:  34%|?��?��?��?��      | 8591/25000 [00:10<00:17, 912.76it/s]"
          ]
        },
        {
          "name": "stderr",
          "output_type": "stream",
          "text": [
            "\r",
            "Tokenizing dataset:  35%|?��?��?��?��      | 8687/25000 [00:10<00:17, 925.85it/s]"
          ]
        },
        {
          "name": "stderr",
          "output_type": "stream",
          "text": [
            "\r",
            "Tokenizing dataset:  35%|?��?��?��?��      | 8780/25000 [00:10<00:17, 919.30it/s]"
          ]
        },
        {
          "name": "stderr",
          "output_type": "stream",
          "text": [
            "\r",
            "Tokenizing dataset:  35%|?��?��?��?��      | 8873/25000 [00:10<00:18, 877.77it/s]"
          ]
        }
      ],
      "source": [
        "train_dataloader, valid_dataloader, test_dataloader = load_data(\n",
        "    name, batch_size=batch_size, num_workers=num_workers, do_cache=True, seed=seed\n",
        ")"
      ]
    },
    {
      "cell_type": "code",
      "execution_count": null,
      "id": "ce310921-5107-4950-a7fe-0d90d4f6546b",
      "metadata": {
        "papermill": {
          "duration": null,
          "end_time": null,
          "exception": null,
          "start_time": null,
          "status": "pending"
        },
        "tags": []
      },
      "outputs": [],
      "source": [
        "all_samples = SamplingDataset(\n",
        "    train_dataloader, 200, num_samples, num_labels, False, 4, device=device, resample=False, seed=seed\n",
        ")"
      ]
    },
    {
      "cell_type": "code",
      "execution_count": null,
      "id": "470d042e-68e8-4b91-916e-4b614e8b2e30",
      "metadata": {
        "papermill": {
          "duration": null,
          "end_time": null,
          "exception": null,
          "start_time": null,
          "status": "pending"
        },
        "tags": []
      },
      "outputs": [],
      "source": [
        "# print(\"Evaluate the original model\")\n",
        "# result = evaluate_model(model, model_config, test_dataloader)"
      ]
    },
    {
      "cell_type": "code",
      "execution_count": null,
      "id": "13d9e7a0-de42-427f-8d26-02d1740371fa",
      "metadata": {
        "papermill": {
          "duration": null,
          "end_time": null,
          "exception": null,
          "start_time": null,
          "status": "pending"
        },
        "tags": []
      },
      "outputs": [],
      "source": [
        "# Evaluate the original model\n",
        "# Evaluating: 100%|?��?��?��?��?��?��?��?��?��?��?��?��?��?��?��?��?��?��?��?��?��?��?��?��?��?��?��?��?��?��?��?��?��?��?��?��?��?��?��?��?��?��?��?��?��?��?��?��?��?��?��?��?��?��?��?��?��?��?��?��?��?��?��?��?��?��?��?��?��| 782/782 [05:36<00:00,  2.32it/s]\n",
        "# Loss: 0.3423\n",
        "# Precision: 0.9306, Recall: 0.9303, F1-Score: 0.9303\n",
        "#               precision    recall  f1-score   support\n",
        "\n",
        "#            0       0.92      0.94      0.93     12500\n",
        "#            1       0.94      0.92      0.93     12500\n",
        "\n",
        "#     accuracy                           0.93     25000\n",
        "#    macro avg       0.93      0.93      0.93     25000\n",
        "# weighted avg       0.93      0.93      0.93     25000"
      ]
    },
    {
      "cell_type": "code",
      "execution_count": null,
      "id": "4bc22bf0-2e59-453b-bb1f-46fa5c476fb5",
      "metadata": {
        "papermill": {
          "duration": null,
          "end_time": null,
          "exception": null,
          "start_time": null,
          "status": "pending"
        },
        "tags": []
      },
      "outputs": [],
      "source": [
        "module = copy.deepcopy(model)\n",
        "prune_magnitude(module, sparsity_ratio=magnitude_ratio, include_layers=include_layers, exclude_layers=exclude_layers)\n",
        "print(\"Evaluate the pruned model\")\n",
        "result = evaluate_model(model, model_config, test_dataloader)\n",
        "# save_module(module, \"Modules/\", f\"magnitude_{name}_{magnitude_ratio}p.pt\")"
      ]
    },
    {
      "cell_type": "code",
      "execution_count": null,
      "id": "79cf64da-3b78-47db-bfae-62278d6b6c47",
      "metadata": {
        "papermill": {
          "duration": null,
          "end_time": null,
          "exception": null,
          "start_time": null,
          "status": "pending"
        },
        "tags": []
      },
      "outputs": [],
      "source": [
        "for concern in range(num_labels):\n",
        "    print(f\"--{concern}--\")\n",
        "    positive_samples = SamplingDataset(\n",
        "        train_dataloader, concern, num_samples, num_labels, True, 4, device=device, resample=False, seed=seed\n",
        "    )\n",
        "    negative_samples = SamplingDataset(\n",
        "        train_dataloader, concern, num_samples, num_labels, False, 4, device=device, resample=False, seed=seed\n",
        "    )\n",
        "    similar(model, module, valid_dataloader, concern, num_samples, num_labels, device=device, seed=seed)"
      ]
    },
    {
      "cell_type": "code",
      "execution_count": null,
      "id": "253d10dd-0664-4a03-9e5a-0b477469a16e",
      "metadata": {
        "papermill": {
          "duration": null,
          "end_time": null,
          "exception": null,
          "start_time": null,
          "status": "pending"
        },
        "tags": []
      },
      "outputs": [],
      "source": [
        "get_sparsity(module)"
      ]
    }
  ],
  "metadata": {
    "kernelspec": {
      "display_name": "Python 3 (ipykernel)",
      "language": "python",
      "name": "python3"
    },
    "language_info": {
      "codemirror_mode": {
        "name": "ipython",
        "version": 3
      },
      "file_extension": ".py",
      "mimetype": "text/x-python",
      "name": "python",
      "nbconvert_exporter": "python",
      "pygments_lexer": "ipython3",
      "version": "3.8.19"
    },
    "papermill": {
      "default_parameters": {},
      "duration": null,
      "end_time": null,
      "environment_variables": {},
      "exception": null,
      "input_path": "Getting_Started/ipynb/Pruned by magnitude/IMDB/Prune by magnitude(30%).ipynb",
      "output_path": "Getting_Started/ipynb/Pruned by magnitude/IMDB/Prune by magnitude(30%)_saved.ipynb",
      "parameters": {},
      "start_time": "2024-08-19T13:53:30.695210",
      "version": "2.6.0"
    }
  },
  "nbformat": 4,
  "nbformat_minor": 5
}