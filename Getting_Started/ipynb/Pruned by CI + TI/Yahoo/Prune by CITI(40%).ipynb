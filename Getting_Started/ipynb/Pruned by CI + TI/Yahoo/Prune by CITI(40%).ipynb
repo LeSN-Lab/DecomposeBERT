{
 "cells": [
  {
   "cell_type": "code",
   "execution_count": 1,
   "id": "75f3459d-aaad-4b51-b4c8-4ec84ed5fe86",
   "metadata": {},
   "outputs": [],
   "source": [
    "import os\n",
    "import sys\n",
    "sys.path.append(\"../../../../\")\n",
    "os.environ[\"TOKENIZERS_PARALLELISM\"] = \"false\""
   ]
  },
  {
   "cell_type": "code",
   "execution_count": 2,
   "id": "cf1e90f7-63e9-419e-955b-4b8375d0b590",
   "metadata": {},
   "outputs": [],
   "source": [
    "import copy\n",
    "import torch\n",
    "from datetime import datetime\n",
    "from utils.helper import ModelConfig, color_print\n",
    "from utils.dataset_utils.load_dataset import (\n",
    "    load_data,\n",
    ")\n",
    "from utils.model_utils.load_model import load_model\n",
    "from utils.model_utils.save_module import save_module\n",
    "from utils.model_utils.evaluate import evaluate_model, get_sparsity, similar\n",
    "from utils.dataset_utils.sampling import SamplingDataset\n",
    "from utils.prune_utils.prune import (\n",
    "    prune_magnitude,\n",
    "    prune_concern_identification,\n",
    "    recover_tangling_identification,\n",
    ")"
   ]
  },
  {
   "cell_type": "code",
   "execution_count": 3,
   "id": "a1362c6b-9864-4304-9738-577a2e695918",
   "metadata": {},
   "outputs": [],
   "source": [
    "name = \"YahooAnswersTopics\"\n",
    "device = torch.device(\"cuda:0\")\n",
    "checkpoint = None\n",
    "batch_size=16\n",
    "num_workers=4\n",
    "num_samples=4\n",
    "ci_ratio=0.5\n",
    "ti_ratio=0.1\n",
    "include_layers=[\"attention\", \"intermediate\", \"output\"]\n",
    "exclude_layers=None"
   ]
  },
  {
   "cell_type": "code",
   "execution_count": 4,
   "id": "bd934130-953b-4ea6-b607-28213f803299",
   "metadata": {},
   "outputs": [
    {
     "name": "stdout",
     "output_type": "stream",
     "text": [
      "Loading the model.\n",
      "{'model_name': 'textattack/bert-base-uncased-imdb', 'task_type': 'classification', 'architectures': 'bert', 'dataset_name': 'IMDB', 'num_labels': 2, 'cache_dir': 'Models'}\n",
      "The model textattack/bert-base-uncased-imdb is loaded.\n"
     ]
    }
   ],
   "source": [
    "model_config = ModelConfig(name, device)\n",
    "num_labels = model_config.config[\"num_labels\"]\n",
    "model, tokenizer, checkpoint = load_model(model_config)"
   ]
  },
  {
   "cell_type": "code",
   "execution_count": 7,
   "id": "570bb960-f2fb-4eca-bf55-7963c144af33",
   "metadata": {},
   "outputs": [],
   "source": [
    "# print(\"Evaluate the original model\")\n",
    "# result = evaluate_model(model, model_config, test_dataloader)"
   ]
  },
  {
   "cell_type": "code",
   "execution_count": 8,
   "id": "1bf059d8-34b1-4497-af84-ddf8732de9b1",
   "metadata": {},
   "outputs": [],
   "source": [
    "# Evaluate the original model\n",
    "# Evaluating: 100%|?��?��?��?��?��?��?��?��?��?��?��?��?��?��?��?��?��?��?��?��?��?��?��?��?��?��?��?��?��?��?��?��?��?��?��?��?��?��?��?��?��?��?��?��?��?��?��?��?��?��?��?��?��?��?��?��?��?��?��?��?��?��?��?��?��?��?��| 1875/1875 [30:03<00:00,  1.04it/s]\n",
    "# Loss: 1.0044\n",
    "# Precision: 0.6874, Recall: 0.6865, F1-Score: 0.6839\n",
    "#               precision    recall  f1-score   support\n",
    "\n",
    "#            0       0.57      0.57      0.57      6000\n",
    "#            1       0.74      0.66      0.69      6000\n",
    "#            2       0.71      0.78      0.74      6000\n",
    "#            3       0.54      0.53      0.53      6000\n",
    "#            4       0.80      0.82      0.81      6000\n",
    "#            5       0.90      0.84      0.87      6000\n",
    "#            6       0.61      0.43      0.50      6000\n",
    "#            7       0.62      0.73      0.67      6000\n",
    "#            8       0.64      0.76      0.70      6000\n",
    "#            9       0.75      0.75      0.75      6000\n",
    "\n",
    "#     accuracy                           0.69     60000\n",
    "#    macro avg       0.69      0.69      0.68     60000\n",
    "# weighted avg       0.69      0.69      0.68     60000"
   ]
  },
  {
   "cell_type": "code",
   "execution_count": null,
   "id": "46ec3d80-be7a-4c12-be4d-dd1fa97430d6",
   "metadata": {},
   "outputs": [],
   "source": [
    "for concern in range(num_labels):\n",
    "    train_dataloader, valid_dataloader, test_dataloader = load_data(\n",
    "    name, batch_size=batch_size, num_workers=num_workers, do_cache=True\n",
    "    )\n",
    "    \n",
    "    positive_samples = SamplingDataset(\n",
    "        train_dataloader, concern, num_samples, num_labels, True, 4, device=device, resample=False, seed=seed\n",
    "    )\n",
    "    negative_samples = SamplingDataset(\n",
    "        train_dataloader, concern, num_samples, num_labels, False, 4, device=device, resample=False, seed=seed\n",
    "    )\n",
    "    all_samples = SamplingDataset(\n",
    "        train_dataloader, 200, num_samples, num_labels, False, 4, device=device, resample=False, seed=seed\n",
    "    )\n",
    "    module = copy.deepcopy(model)\n",
    "    \n",
    "    prune_concern_identification(\n",
    "        module,\n",
    "        model_config,\n",
    "        positive_samples,\n",
    "        negative_samples,\n",
    "        include_layers=include_layers,\n",
    "        exclude_layers=exclude_layers,\n",
    "        sparsity_ratio=ci_ratio,\n",
    "    )\n",
    "    \n",
    "    # print(f\"Evaluate the pruned model {concern}\")\n",
    "    # result = evaluate_model(module, model_config, test_dataloader)\n",
    "    # similar(model, module, valid_dataloader, concern, num_samples, num_labels, device=device, seed=seed)\n",
    "    \n",
    "    recover_tangling_identification(\n",
    "        model,\n",
    "        module,\n",
    "        model_config,\n",
    "        positive_samples,\n",
    "        negative_samples,\n",
    "        recovery_ratio=ti_ratio,\n",
    "        include_layers=include_layers,\n",
    "        exclude_layers=exclude_layers\n",
    "    )\n",
    "        \n",
    "    print(f\"Evaluate the pruned model {concern}\")\n",
    "    result = evaluate_model(module, model_config, test_dataloader)\n",
    "    similar(model, module, valid_dataloader, concern, num_samples, num_labels, device=device, seed=seed)\n",
    "    \n",
    "    # save_module(module, \"Modules/\", f\"citi_{name}_{ci_ratio-ti_ratio}p.pt\")"
   ]
  }
 ],
 "metadata": {
  "kernelspec": {
   "display_name": "Python 3 (ipykernel)",
   "language": "python",
   "name": "python3"
  },
  "language_info": {
   "codemirror_mode": {
    "name": "ipython",
    "version": 3
   },
   "file_extension": ".py",
   "mimetype": "text/x-python",
   "name": "python",
   "nbconvert_exporter": "python",
   "pygments_lexer": "ipython3",
   "version": "3.8.19"
  }
 },
 "nbformat": 4,
 "nbformat_minor": 5
}
