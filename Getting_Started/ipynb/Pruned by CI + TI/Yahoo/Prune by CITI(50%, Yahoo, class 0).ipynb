{
 "cells": [
  {
   "cell_type": "code",
   "execution_count": null,
   "id": "75f3459d-aaad-4b51-b4c8-4ec84ed5fe86",
   "metadata": {},
   "outputs": [],
   "source": [
    "import os\n",
    "import sys\n",
    "sys.path.append(\"../../../../\")\n",
    "os.environ[\"TOKENIZERS_PARALLELISM\"] = \"false\""
   ]
  },
  {
   "cell_type": "code",
   "execution_count": null,
   "id": "cf1e90f7-63e9-419e-955b-4b8375d0b590",
   "metadata": {},
   "outputs": [],
   "source": [
    "import copy\n",
    "import torch\n",
    "from datetime import datetime\n",
    "from utils.helper import ModelConfig, color_print\n",
    "from utils.dataset_utils.load_dataset import (\n",
    "    load_data,\n",
    ")\n",
    "from utils.model_utils.load_model import load_model\n",
    "from utils.model_utils.evaluate import evaluate_model, get_sparsity\n",
    "from utils.dataset_utils.sampling import SamplingDataset\n",
    "from utils.prune_utils.prune import (\n",
    "    prune_magnitude,\n",
    "    prune_concern_identification,\n",
    "    recover_tangling_identification,\n",
    ")"
   ]
  },
  {
   "cell_type": "code",
   "execution_count": null,
   "id": "2fb84709-c0dc-4d95-9e00-81ec9b731ece",
   "metadata": {},
   "outputs": [],
   "source": [
    "name = \"YahooAnswersTopics\"\n",
    "device = torch.device(\"cuda:0\" if torch.cuda.is_available() else \"cpu\")\n",
    "\n",
    "checkpoint = None\n",
    "model_config = ModelConfig(name, device)\n",
    "num_labels = model_config.config[\"num_labels\"]\n",
    "\n",
    "model, tokenizer, checkpoint = load_model(model_config)"
   ]
  },
  {
   "cell_type": "code",
   "execution_count": null,
   "id": "fbed1822-2f3e-4080-907d-2ebbd56550e1",
   "metadata": {},
   "outputs": [],
   "source": [
    "train_dataloader, valid_dataloader, test_dataloader = load_data(\n",
    "    name, batch_size=32, num_workers=48\n",
    ")"
   ]
  },
  {
   "cell_type": "code",
   "execution_count": null,
   "id": "03adbda3-7ec1-43be-a483-6dfe266ad99c",
   "metadata": {},
   "outputs": [],
   "source": [
    "i = 0\n",
    "color_print(\"Start Time:\" + datetime.now().strftime(\"%H:%M:%S\"))\n",
    "color_print(\"#Module \" + str(i) + \" in progress....\")\n",
    "num_samples = 64\n",
    "\n",
    "positive_samples = SamplingDataset(\n",
    "    train_dataloader, i, num_samples, num_labels, True, 4, device=device\n",
    ")\n",
    "negative_samples = SamplingDataset(\n",
    "    train_dataloader, i, num_samples, num_labels, False, 4, device=device\n",
    ")\n",
    "all_samples = SamplingDataset(\n",
    "    train_dataloader, 200, 20, num_labels, False, 4, device=device\n",
    ")"
   ]
  },
  {
   "cell_type": "code",
   "execution_count": null,
   "id": "270d82d3-e7dc-4e32-acb3-a992add939f1",
   "metadata": {},
   "outputs": [],
   "source": [
    "print(\"Evaluate the original model\")\n",
    "result = evaluate_model(model, model_config, test_dataloader)"
   ]
  },
  {
   "cell_type": "code",
   "execution_count": null,
   "id": "af938f7f-0f7a-4547-a830-955c73608113",
   "metadata": {},
   "outputs": [],
   "source": [
    "module = copy.deepcopy(model)\n",
    "prune_magnitude(\n",
    "    module, include_layers=[\"attention\", \"intermediate\", \"output\"], sparsity_ratio=0.1\n",
    ")"
   ]
  },
  {
   "cell_type": "code",
   "execution_count": null,
   "id": "87080320-ccc2-4590-a4f0-fc20eea6387c",
   "metadata": {},
   "outputs": [],
   "source": [
    "# result = evaluate_model(module, model_config, test_dataloader)\n",
    "get_sparsity(module)"
   ]
  },
  {
   "cell_type": "code",
   "execution_count": null,
   "id": "79cc1bc2-6c0f-4f34-a03c-e2339eb9c6f3",
   "metadata": {},
   "outputs": [],
   "source": [
    "prune_concern_identification(\n",
    "    model,\n",
    "    module,\n",
    "    positive_samples,\n",
    "    include_layers=[\"attention\", \"intermediate\", \"output\"],\n",
    "    sparsity_ratio=0.6,\n",
    ")"
   ]
  },
  {
   "cell_type": "code",
   "execution_count": null,
   "id": "527fa42e-4c3c-4438-8744-9d88814755b8",
   "metadata": {},
   "outputs": [],
   "source": [
    "# result = evaluate_model(module, model_config, test_dataloader)\n",
    "get_sparsity(module)"
   ]
  },
  {
   "cell_type": "code",
   "execution_count": null,
   "id": "175995b8-933d-455d-9fbd-4f6e7c0f217b",
   "metadata": {},
   "outputs": [],
   "source": [
    "recover_tangling_identification(\n",
    "    model,\n",
    "    module,\n",
    "    negative_samples,\n",
    "    recovery_ratio=0.1,\n",
    "    include_layers=[\"attention\", \"intermediate\", \"output\"],\n",
    ")"
   ]
  },
  {
   "cell_type": "code",
   "execution_count": null,
   "id": "1a7c27f1-e245-4bb3-a424-d117dbccb74c",
   "metadata": {},
   "outputs": [],
   "source": [
    "result = evaluate_model(module, model_config, test_dataloader)\n",
    "# save_module(module, \"Modules/\", \"citi_yahoo_40p.pt\")\n",
    "get_sparsity(module)"
   ]
  }
 ],
 "metadata": {
  "kernelspec": {
   "display_name": "Python 3 (ipykernel)",
   "language": "python",
   "name": "python3"
  },
  "language_info": {
   "codemirror_mode": {
    "name": "ipython",
    "version": 3
   },
   "file_extension": ".py",
   "mimetype": "text/x-python",
   "name": "python",
   "nbconvert_exporter": "python",
   "pygments_lexer": "ipython3",
   "version": "3.8.19"
  }
 },
 "nbformat": 4,
 "nbformat_minor": 5
}
