{
 "cells": [
  {
   "cell_type": "code",
   "execution_count": 1,
   "id": "75f3459d-aaad-4b51-b4c8-4ec84ed5fe86",
   "metadata": {
    "papermill": {
     "duration": 0.01751,
     "end_time": "2024-08-21T06:48:40.500425",
     "exception": false,
     "start_time": "2024-08-21T06:48:40.482915",
     "status": "completed"
    },
    "tags": []
   },
   "outputs": [],
   "source": [
    "import os\n",
    "import sys\n",
    "\n",
    "sys.path.append(\"../../../../\")\n",
    "os.environ[\"TOKENIZERS_PARALLELISM\"] = \"false\""
   ]
  },
  {
   "cell_type": "code",
   "execution_count": 2,
   "id": "cf1e90f7-63e9-419e-955b-4b8375d0b590",
   "metadata": {
    "papermill": {
     "duration": 2.649567,
     "end_time": "2024-08-21T06:48:43.150990",
     "exception": false,
     "start_time": "2024-08-21T06:48:40.501423",
     "status": "completed"
    },
    "tags": []
   },
   "outputs": [],
   "source": [
    "import copy\n",
    "import torch\n",
    "from datetime import datetime\n",
    "from utils.helper import ModelConfig, color_print\n",
    "from utils.dataset_utils.load_dataset import (\n",
    "    load_data,\n",
    ")\n",
    "from utils.model_utils.load_model import load_model\n",
    "from utils.model_utils.save_module import save_module\n",
    "from utils.model_utils.evaluate import evaluate_model, get_sparsity, similar\n",
    "from utils.dataset_utils.sampling import SamplingDataset\n",
    "from utils.prune_utils.prune import (\n",
    "    prune_concern_identification,\n",
    "    recover_tangling_identification,\n",
    ")"
   ]
  },
  {
   "cell_type": "code",
   "execution_count": 3,
   "id": "a1362c6b-9864-4304-9738-577a2e695918",
   "metadata": {
    "papermill": {
     "duration": 0.013001,
     "end_time": "2024-08-21T06:48:43.164990",
     "exception": false,
     "start_time": "2024-08-21T06:48:43.151989",
     "status": "completed"
    },
    "tags": []
   },
   "outputs": [],
   "source": [
    "name = \"IMDB\"\n",
    "device = torch.device(\"cuda:0\")\n",
    "checkpoint = None\n",
    "batch_size = 16\n",
    "num_workers = 4\n",
    "num_samples = 16\n",
    "ci_ratio = 0.4\n",
    "ti_ratio = 0.1\n",
    "seed = 44\n",
    "\n",
    "include_layers = [\"attention\", \"intermediate\", \"output\"]\n",
    "exclude_layers = None"
   ]
  },
  {
   "cell_type": "code",
   "execution_count": 4,
   "id": "bd934130-953b-4ea6-b607-28213f803299",
   "metadata": {
    "papermill": {
     "duration": 1.696647,
     "end_time": "2024-08-21T06:48:44.863638",
     "exception": false,
     "start_time": "2024-08-21T06:48:43.166991",
     "status": "completed"
    },
    "tags": []
   },
   "outputs": [
    {
     "name": "stdout",
     "output_type": "stream",
     "text": [
      "Loading the model.\n",
      "{'model_name': 'textattack/bert-base-uncased-imdb', 'task_type': 'classification', 'architectures': 'bert', 'dataset_name': 'IMDB', 'num_labels': 2, 'cache_dir': 'Models'}\n",
      "The model textattack/bert-base-uncased-imdb is loaded.\n"
     ]
    },
    {
     "name": "stdout",
     "output_type": "stream",
     "text": [
      "The model textattack/bert-base-uncased-imdb is loaded."
     ]
    },
    {
     "name": "stdout",
     "output_type": "stream",
     "text": [
      "\n"
     ]
    }
   ],
   "source": [
    "model_config = ModelConfig(name, device)\n",
    "num_labels = model_config.config[\"num_labels\"]\n",
    "model, tokenizer, checkpoint = load_model(model_config)"
   ]
  },
  {
   "cell_type": "code",
   "execution_count": 5,
   "id": "39691b712e68814b",
   "metadata": {
    "papermill": {
     "duration": 11.494394,
     "end_time": "2024-08-21T06:48:56.359031",
     "exception": false,
     "start_time": "2024-08-21T06:48:44.864637",
     "status": "completed"
    },
    "tags": []
   },
   "outputs": [
    {
     "name": "stdout",
     "output_type": "stream",
     "text": [
      "{'dataset_name': 'IMDB', 'path': 'imdb', 'config_name': 'plain_text', 'text_column': 'text', 'label_column': 'label', 'cache_dir': 'Datasets/IMDB', 'task_type': 'classification'}\n",
      "Loading cached dataset IMDB.\n",
      "The dataset IMDB is loaded\n"
     ]
    },
    {
     "name": "stdout",
     "output_type": "stream",
     "text": [
      "The dataset IMDB is loaded"
     ]
    },
    {
     "name": "stdout",
     "output_type": "stream",
     "text": [
      "\n"
     ]
    }
   ],
   "source": [
    "train_dataloader, valid_dataloader, test_dataloader = load_data(\n",
    "    name, batch_size=batch_size, num_workers=num_workers, do_cache=True, seed=seed\n",
    ")"
   ]
  },
  {
   "cell_type": "code",
   "execution_count": 6,
   "id": "570bb960-f2fb-4eca-bf55-7963c144af33",
   "metadata": {
    "papermill": {
     "duration": 0.013,
     "end_time": "2024-08-21T06:48:56.374031",
     "exception": false,
     "start_time": "2024-08-21T06:48:56.361031",
     "status": "completed"
    },
    "tags": []
   },
   "outputs": [],
   "source": [
    "# print(\"Evaluate the original model\")\n",
    "# result = evaluate_model(model, model_config, test_dataloader)"
   ]
  },
  {
   "cell_type": "code",
   "execution_count": null,
   "id": "1bf059d8-34b1-4497-af84-ddf8732de9b1",
   "metadata": {
    "papermill": {
     "duration": 0.002001,
     "end_time": "2024-08-21T06:48:56.378032",
     "exception": false,
     "start_time": "2024-08-21T06:48:56.376031",
     "status": "completed"
    },
    "tags": []
   },
   "outputs": [],
   "source": []
  },
  {
   "cell_type": "code",
   "execution_count": null,
   "id": "46ec3d80-be7a-4c12-be4d-dd1fa97430d6",
   "metadata": {
    "papermill": {
     "duration": 89.765707,
     "end_time": "2024-08-21T06:50:26.145738",
     "exception": false,
     "start_time": "2024-08-21T06:48:56.380031",
     "status": "completed"
    },
    "tags": []
   },
   "outputs": [],
   "source": [
    "for concern in range(num_labels):\n",
    "    train = copy.deepcopy(train_dataloader)\n",
    "    valid = copy.deepcopy(valid_dataloader)\n",
    "    positive_samples = SamplingDataset(\n",
    "        train, concern, num_samples, num_labels, True, 4, device=device, resample=False, seed=seed\n",
    "    )\n",
    "    negative_samples = SamplingDataset(\n",
    "        train, concern, num_samples, num_labels, False, 4, device=device, resample=False, seed=seed\n",
    "    )\n",
    "    all_samples = SamplingDataset(\n",
    "        train, 200, num_samples, num_labels, False, 4, device=device, resample=False, seed=seed\n",
    "    )\n",
    "    module = copy.deepcopy(model)\n",
    "\n",
    "    prune_concern_identification(\n",
    "        module,\n",
    "        model_config,\n",
    "        positive_samples,\n",
    "        negative_samples,\n",
    "        include_layers=include_layers,\n",
    "        exclude_layers=exclude_layers,\n",
    "        sparsity_ratio=ci_ratio,\n",
    "    )\n",
    "    print(333)\n",
    "    # print(f\"Evaluate the pruned model {concern}\")\n",
    "    # result = evaluate_model(module, model_config, test_dataloader)\n",
    "    # similar(model, module, valid, concern, num_samples, num_labels, device=device, seed=seed)\n",
    "\n",
    "    recover_tangling_identification(\n",
    "        model,\n",
    "        module,\n",
    "        model_config,\n",
    "        positive_samples,\n",
    "        negative_samples,\n",
    "        recovery_ratio=ti_ratio,\n",
    "        include_layers=include_layers,\n",
    "        exclude_layers=exclude_layers\n",
    "    )\n",
    "\n",
    "    print(f\"Evaluate the pruned model {concern}\")\n",
    "    result = evaluate_model(module, model_config, test_dataloader)\n",
    "    similar(model, module, valid, concern, num_samples, num_labels, device=device, seed=seed)\n",
    "\n",
    "    # save_module(module, \"Modules/\", f\"citi_{name}_{ci_ratio-ti_ratio}p.pt\")"
   ]
  }
 ],
 "metadata": {
  "kernelspec": {
   "display_name": "Python 3 (ipykernel)",
   "language": "python",
   "name": "python3"
  },
  "language_info": {
   "codemirror_mode": {
    "name": "ipython",
    "version": 3
   },
   "file_extension": ".py",
   "mimetype": "text/x-python",
   "name": "python",
   "nbconvert_exporter": "python",
   "pygments_lexer": "ipython3",
   "version": "3.8.19"
  },
  "papermill": {
   "default_parameters": {},
   "duration": 108.571303,
   "end_time": "2024-08-21T06:50:27.166084",
   "environment_variables": {},
   "exception": null,
   "input_path": "Getting_Started\\ipynb\\Pruned by CI + TI\\IMDB\\Prune by CITI(30%).ipynb",
   "output_path": "Getting_Started\\ipynb\\Pruned by CI + TI\\IMDB\\Prune by CITI(30%).ipynb",
   "parameters": {},
   "start_time": "2024-08-21T06:48:38.594781",
   "version": "2.6.0"
  }
 },
 "nbformat": 4,
 "nbformat_minor": 5
}
