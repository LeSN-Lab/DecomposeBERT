{
 "cells": [
  {
   "cell_type": "code",
   "execution_count": 1,
   "id": "75f3459d-aaad-4b51-b4c8-4ec84ed5fe86",
   "metadata": {},
   "outputs": [],
   "source": [
    "import os\n",
    "import sys\n",
    "sys.path.append(\"../../../../\")\n",
    "os.environ[\"TOKENIZERS_PARALLELISM\"] = \"false\""
   ]
  },
  {
   "cell_type": "code",
   "execution_count": 2,
   "id": "cf1e90f7-63e9-419e-955b-4b8375d0b590",
   "metadata": {},
   "outputs": [],
   "source": [
    "import copy\n",
    "import torch\n",
    "from datetime import datetime\n",
    "from utils.helper import ModelConfig, color_print\n",
    "from utils.dataset_utils.load_dataset import (\n",
    "    load_data,\n",
    ")\n",
    "from utils.model_utils.load_model import load_model\n",
    "from utils.model_utils.save_module import save_module\n",
    "from utils.model_utils.evaluate import evaluate_model, get_sparsity, similar\n",
    "from utils.dataset_utils.sampling import SamplingDataset\n",
    "from utils.prune_utils.prune import (\n",
    "    prune_magnitude,\n",
    "    prune_concern_identification,\n",
    "    recover_tangling_identification,\n",
    ")"
   ]
  },
  {
   "cell_type": "code",
   "execution_count": 3,
   "id": "a1362c6b-9864-4304-9738-577a2e695918",
   "metadata": {},
   "outputs": [],
   "source": [
    "name = \"IMDB\"\n",
    "device = torch.device(\"cuda:0\")\n",
    "checkpoint = None\n",
    "batch_size=32\n",
    "num_workers=48\n",
    "num_samples=16\n",
    "concern=0\n",
    "magnitude_ratio=0.1\n",
    "ci_ratio=0.4\n",
    "ti_ratio=0.1\n",
    "include_layers=[\"attention\", \"intermediate\", \"output\"]"
   ]
  },
  {
   "cell_type": "code",
   "execution_count": 4,
   "id": "bd934130-953b-4ea6-b607-28213f803299",
   "metadata": {},
   "outputs": [
    {
     "name": "stdout",
     "output_type": "stream",
     "text": [
      "Loading the model.\n",
      "{'model_name': 'textattack/bert-base-uncased-imdb', 'task_type': 'classification', 'architectures': 'bert', 'dataset_name': 'IMDB', 'num_labels': 2, 'cache_dir': 'Models'}\n",
      "The model textattack/bert-base-uncased-imdb is loaded.\n"
     ]
    }
   ],
   "source": [
    "model_config = ModelConfig(name, device)\n",
    "num_labels = model_config.config[\"num_labels\"]\n",
    "model, tokenizer, checkpoint = load_model(model_config)"
   ]
  },
  {
   "cell_type": "code",
   "execution_count": 5,
   "id": "2fa7d1b7-0fba-4dd2-a9dc-605a1a24407f",
   "metadata": {},
   "outputs": [
    {
     "name": "stdout",
     "output_type": "stream",
     "text": [
      "{'dataset_name': 'IMDB', 'path': 'imdb', 'config_name': 'plain_text', 'text_column': 'text', 'label_column': 'label', 'cache_dir': 'Datasets/IMDB', 'task_type': 'classification'}\n",
      "Loading cached dataset IMDB.\n",
      "The dataset IMDB is loaded\n"
     ]
    }
   ],
   "source": [
    "train_dataloader, valid_dataloader, test_dataloader = load_data(\n",
    "    name, batch_size=batch_size, num_workers=num_workers\n",
    ")"
   ]
  },
  {
   "cell_type": "code",
   "execution_count": 6,
   "id": "df23ba7b-9769-4026-8d67-9fd2420aefd0",
   "metadata": {},
   "outputs": [],
   "source": [
    "positive_samples = SamplingDataset(\n",
    "    train_dataloader, concern, num_samples, num_labels, True, 4, device=device, resample=False\n",
    ")\n",
    "negative_samples = SamplingDataset(\n",
    "    train_dataloader, concern, num_samples, num_labels, False, 4, device=device, resample=False\n",
    ")\n",
    "all_samples = SamplingDataset(\n",
    "    train_dataloader, 200, num_samples, num_labels, False, 4, device=device, resample=False\n",
    ")"
   ]
  },
  {
   "cell_type": "code",
   "execution_count": 7,
   "id": "570bb960-f2fb-4eca-bf55-7963c144af33",
   "metadata": {},
   "outputs": [],
   "source": [
    "# print(\"Evaluate the original model\")\n",
    "# result = evaluate_model(model, model_config, test_dataloader)"
   ]
  },
  {
   "cell_type": "code",
   "execution_count": 8,
   "id": "1bf059d8-34b1-4497-af84-ddf8732de9b1",
   "metadata": {},
   "outputs": [],
   "source": [
    "# Evaluate the original model\n",
    "# Evaluating: 100%|█████████████████████████████████████████████████████████████████████| 782/782 [05:36<00:00,  2.32it/s]\n",
    "# Loss: 0.3423\n",
    "# Precision: 0.9306, Recall: 0.9303, F1-Score: 0.9303\n",
    "#               precision    recall  f1-score   support\n",
    "\n",
    "#            0       0.92      0.94      0.93     12500\n",
    "#            1       0.94      0.92      0.93     12500\n",
    "\n",
    "#     accuracy                           0.93     25000\n",
    "#    macro avg       0.93      0.93      0.93     25000\n",
    "# weighted avg       0.93      0.93      0.93     25000"
   ]
  },
  {
   "cell_type": "code",
   "execution_count": 9,
   "id": "5577c6dd-7286-477f-9d33-115310b7dec4",
   "metadata": {},
   "outputs": [],
   "source": [
    "module = copy.deepcopy(model)\n",
    "prune_magnitude(\n",
    "    module, include_layers=include_layers, sparsity_ratio=magnitude_ratio\n",
    ")"
   ]
  },
  {
   "cell_type": "code",
   "execution_count": 10,
   "id": "0870b8be-1988-446d-bc95-b074dcd1a8bd",
   "metadata": {},
   "outputs": [],
   "source": [
    "prune_concern_identification(\n",
    "    model,\n",
    "    module,\n",
    "    model_config,\n",
    "    positive_samples,\n",
    "    negative_samples,\n",
    "    include_layers=include_layers,\n",
    "    sparsity_ratio=ci_ratio,\n",
    ")"
   ]
  },
  {
   "cell_type": "code",
   "execution_count": 11,
   "id": "1e85d6a9-fd69-4327-85b6-072aa9f4e19d",
   "metadata": {},
   "outputs": [
    {
     "name": "stdout",
     "output_type": "stream",
     "text": [
      "Evaluate the pruned model\n"
     ]
    },
    {
     "name": "stderr",
     "output_type": "stream",
     "text": [
      "Evaluating: 100%|██████████| 782/782 [06:03<00:00,  2.15it/s]\n"
     ]
    },
    {
     "name": "stdout",
     "output_type": "stream",
     "text": [
      "Loss: 0.7852\n",
      "Precision: 0.7879, Recall: 0.6539, F1-Score: 0.6083\n",
      "              precision    recall  f1-score   support\n",
      "\n",
      "           0       0.59      1.00      0.74     12500\n",
      "           1       0.98      0.31      0.47     12500\n",
      "\n",
      "    accuracy                           0.65     25000\n",
      "   macro avg       0.79      0.65      0.61     25000\n",
      "weighted avg       0.79      0.65      0.61     25000\n",
      "\n"
     ]
    }
   ],
   "source": [
    "print(\"Evaluate the pruned model\")\n",
    "result = evaluate_model(module, model_config, test_dataloader)\n",
    "# get_sparsity(module)"
   ]
  },
  {
   "cell_type": "code",
   "execution_count": 12,
   "id": "10ea8c9a-f8fb-495d-8440-8b8576db2888",
   "metadata": {},
   "outputs": [
    {
     "name": "stdout",
     "output_type": "stream",
     "text": [
      "adding eps to diagonal and taking inverse\n",
      "taking square root\n",
      "dot products...\n",
      "trying to take final svd\n",
      "computed everything!\n",
      "adding eps to diagonal and taking inverse\n",
      "taking square root\n",
      "dot products...\n",
      "trying to take final svd\n",
      "computed everything!\n",
      "CCA coefficients mean: (0.5433493594006527, 0.5433493594006527)\n",
      "CCA coefficients sum: (368.0388546534932, 368.0388546534932)\n",
      "CCA coefficients mean: (0.5451780714295638, 0.5451780714295638)\n",
      "CCA coefficients sum: (369.8632166900369, 369.8632166900369)\n",
      "0.5670135844400125\n",
      "0.26540227562591734\n"
     ]
    }
   ],
   "source": [
    "similar(model, module, valid_dataloader, concern, num_samples, num_labels, device=device)"
   ]
  },
  {
   "cell_type": "code",
   "execution_count": 13,
   "id": "97a0c9d9-04b5-42b7-b5e8-26e17069103d",
   "metadata": {},
   "outputs": [],
   "source": [
    "recover_tangling_identification(\n",
    "    model,\n",
    "    module,\n",
    "    model_config,\n",
    "    negative_samples,\n",
    "    recovery_ratio=ti_ratio,\n",
    "    include_layers=include_layers,\n",
    ")"
   ]
  },
  {
   "cell_type": "code",
   "execution_count": 14,
   "id": "fc14602f-b203-4b6f-b10e-192b7ff3f8db",
   "metadata": {},
   "outputs": [
    {
     "name": "stderr",
     "output_type": "stream",
     "text": [
      "Evaluating: 100%|██████████| 782/782 [06:13<00:00,  2.09it/s]\n"
     ]
    },
    {
     "name": "stdout",
     "output_type": "stream",
     "text": [
      "Loss: 0.3230\n",
      "Precision: 0.9270, Recall: 0.9259, F1-Score: 0.9258\n",
      "              precision    recall  f1-score   support\n",
      "\n",
      "           0       0.91      0.95      0.93     12500\n",
      "           1       0.95      0.90      0.92     12500\n",
      "\n",
      "    accuracy                           0.93     25000\n",
      "   macro avg       0.93      0.93      0.93     25000\n",
      "weighted avg       0.93      0.93      0.93     25000\n",
      "\n"
     ]
    }
   ],
   "source": [
    "result = evaluate_model(module, model_config, test_dataloader)"
   ]
  },
  {
   "cell_type": "code",
   "execution_count": 15,
   "id": "25212fc6-3279-46ea-ae04-6faa7a988010",
   "metadata": {},
   "outputs": [
    {
     "name": "stdout",
     "output_type": "stream",
     "text": [
      "adding eps to diagonal and taking inverse\n",
      "taking square root\n",
      "dot products...\n",
      "trying to take final svd\n",
      "computed everything!\n",
      "adding eps to diagonal and taking inverse\n",
      "taking square root\n",
      "dot products...\n",
      "trying to take final svd\n",
      "computed everything!\n",
      "CCA coefficients mean: (0.8291382499619583, 0.8291382499619583)\n",
      "CCA coefficients sum: (627.7335690551771, 627.7335690551771)\n",
      "CCA coefficients mean: (0.8217907297861077, 0.8217907297861077)\n",
      "CCA coefficients sum: (621.7892149505208, 621.7892149505208)\n",
      "0.9522767673558088\n",
      "0.9232366924736657\n"
     ]
    }
   ],
   "source": [
    "similar(model, module, valid_dataloader, concern, num_samples, num_labels, device=device)"
   ]
  },
  {
   "cell_type": "code",
   "execution_count": 16,
   "id": "4a4e50a0-5527-4750-91bb-e86686dc4462",
   "metadata": {},
   "outputs": [],
   "source": [
    "# get_sparsity(module)"
   ]
  },
  {
   "cell_type": "code",
   "execution_count": 17,
   "id": "f75b660d-7d28-4bb4-87da-2f65f26261e8",
   "metadata": {},
   "outputs": [],
   "source": [
    "# save_module(module, \"Modules/\", f\"citi_{name}_{ci_ratio-ti_ratio}p.pt\")"
   ]
  },
  {
   "cell_type": "code",
   "execution_count": 18,
   "id": "aef0d400-3c68-422d-a364-ee019101350e",
   "metadata": {},
   "outputs": [],
   "source": [
    "        # importance_score = torch.abs(current_weight) * torch.abs((y).reshape((-1, 1)))\n"
   ]
  }
 ],
 "metadata": {
  "kernelspec": {
   "display_name": "Python 3 (ipykernel)",
   "language": "python",
   "name": "python3"
  },
  "language_info": {
   "codemirror_mode": {
    "name": "ipython",
    "version": 3
   },
   "file_extension": ".py",
   "mimetype": "text/x-python",
   "name": "python",
   "nbconvert_exporter": "python",
   "pygments_lexer": "ipython3",
   "version": "3.8.19"
  }
 },
 "nbformat": 4,
 "nbformat_minor": 5
}
