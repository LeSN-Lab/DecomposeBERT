{
 "cells": [
  {
   "cell_type": "code",
   "execution_count": 1,
   "id": "73feec36-4554-437a-912b-9c5b8f1c7968",
   "metadata": {},
   "outputs": [],
   "source": [
    "import copy\n",
    "import os\n",
    "import sys\n",
    "sys.path.append(os.path.dirname(os.getcwd()))"
   ]
  },
  {
   "cell_type": "code",
   "execution_count": 2,
   "id": "8431bd43-025f-469d-b190-c1eaba21297b",
   "metadata": {},
   "outputs": [],
   "source": [
    "import utils\n",
    "import torch"
   ]
  },
  {
   "cell_type": "code",
   "execution_count": 3,
   "id": "c5a25142-f8c5-4b49-ae5b-ef9dccc576b2",
   "metadata": {},
   "outputs": [],
   "source": [
    "from utils.model_utils.load_model import load_model"
   ]
  },
  {
   "cell_type": "code",
   "execution_count": 4,
   "id": "864bb2d7-b6e7-47d6-a036-8f10c115e0dd",
   "metadata": {},
   "outputs": [],
   "source": [
    "from utils.model_utils.evaluate import evaluate_model"
   ]
  },
  {
   "cell_type": "code",
   "execution_count": 5,
   "id": "069cd4bb-c66d-4d46-97a2-ac50bd7a882e",
   "metadata": {},
   "outputs": [],
   "source": [
    "from utils.helper import ModelConfig\n",
    "from utils.decompose_utils.sampling import sampling_class"
   ]
  },
  {
   "cell_type": "code",
   "execution_count": 6,
   "id": "d1942624-3b98-4a42-8a7f-9ce008c6c2db",
   "metadata": {},
   "outputs": [],
   "source": [
    "name = \"OSDG\"\n",
    "device = torch.device(\"cuda:0\")"
   ]
  },
  {
   "cell_type": "code",
   "execution_count": 7,
   "id": "1c768c45-bb08-445f-baaa-15b5fe819af5",
   "metadata": {},
   "outputs": [],
   "source": [
    "from utils.dataset_utils.load_dataset import load_data"
   ]
  },
  {
   "cell_type": "code",
   "execution_count": 8,
   "id": "c6d8ebb8-e3a0-4b6d-b038-9af9609ba61e",
   "metadata": {},
   "outputs": [],
   "source": [
    "model_config = ModelConfig(name, device)\n",
    "num_labels = model_config.config[\"num_labels\"]"
   ]
  },
  {
   "cell_type": "code",
   "execution_count": 9,
   "id": "c1613298-6efa-4633-9c3e-aee21aade4cb",
   "metadata": {},
   "outputs": [
    {
     "name": "stdout",
     "output_type": "stream",
     "text": [
      "Loading the model.\n",
      "{'model_name': 'sadickam/sdg-classification-bert', 'task_type': 'classification', 'architectures': 'bert', 'dataset_name': 'OSDG', 'num_labels': 16, 'cache_dir': 'Models'}\n",
      "The model sadickam/sdg-classification-bert is loaded.\n"
     ]
    }
   ],
   "source": [
    "model, tokenizer, _ = load_model(model_config)"
   ]
  },
  {
   "cell_type": "code",
   "execution_count": 10,
   "id": "b012768e-eb9d-4ed1-9d1e-7aade71f1ed6",
   "metadata": {},
   "outputs": [
    {
     "name": "stdout",
     "output_type": "stream",
     "text": [
      "{'dataset_name': 'OSDG', 'path': 'albertmartinez/OSDG', 'text_column': 'text', 'label_column': 'labels', 'cache_dir': 'Datasets/OSDG', 'task_type': 'classification'}\n",
      "Loading cached dataset OSDG.\n",
      "The dataset OSDG is loaded\n"
     ]
    }
   ],
   "source": [
    "train_dataloader, valid_dataloader, test_dataloader = load_data(\n",
    "        name, batch_size=32\n",
    ")"
   ]
  },
  {
   "cell_type": "code",
   "execution_count": 11,
   "id": "6b3ac1d8-2e08-4965-868f-aa5309edbadf",
   "metadata": {},
   "outputs": [],
   "source": [
    "all_samples = sampling_class(\n",
    "    train_dataloader, 200, 20, num_labels, False, 4, device=device\n",
    ")"
   ]
  },
  {
   "cell_type": "code",
   "execution_count": 12,
   "id": "edcc1708-8601-4a1e-b01f-64bef650a3d1",
   "metadata": {},
   "outputs": [],
   "source": [
    "import torch.nn as nn"
   ]
  },
  {
   "cell_type": "code",
   "execution_count": 13,
   "id": "902e1267-90f7-4bd4-beed-5f47229aa7f4",
   "metadata": {},
   "outputs": [],
   "source": [
    "from utils.prune_utils.prune import prune_wanda, prune_magnitude"
   ]
  },
  {
   "cell_type": "code",
   "execution_count": 14,
   "id": "a9b23b01-2992-483a-8dc2-16dfcd785b26",
   "metadata": {},
   "outputs": [],
   "source": [
    "from utils.model_utils.evaluate import get_sparsity"
   ]
  },
  {
   "cell_type": "code",
   "execution_count": 15,
   "id": "46047278-07dd-4836-8cb2-6db9bdaecf8d",
   "metadata": {},
   "outputs": [
    {
     "name": "stdout",
     "output_type": "stream",
     "text": [
      "Loading the model.\n",
      "{'model_name': 'sadickam/sdg-classification-bert', 'task_type': 'classification', 'architectures': 'bert', 'dataset_name': 'OSDG', 'num_labels': 16, 'cache_dir': 'Models'}\n",
      "The model sadickam/sdg-classification-bert is loaded.\n"
     ]
    }
   ],
   "source": [
    "model, tokenizer, _ = load_model(model_config)"
   ]
  },
  {
   "cell_type": "code",
   "execution_count": 16,
   "id": "548063f9-06f2-4b92-9e15-06e44076ff40",
   "metadata": {},
   "outputs": [],
   "source": [
    "prune_wanda(model, all_samples, model_config)"
   ]
  },
  {
   "cell_type": "code",
   "execution_count": 17,
   "id": "3b039849-a8bd-4bf3-9802-889f78bec777",
   "metadata": {},
   "outputs": [
    {
     "data": {
      "text/plain": [
       "(0.31227521254392365,\n",
       " {'bert.embeddings.word_embeddings.weight': 0.0,\n",
       "  'bert.embeddings.position_embeddings.weight': 0.0,\n",
       "  'bert.embeddings.token_type_embeddings.weight': 0.0,\n",
       "  'bert.embeddings.LayerNorm.weight': 0.0,\n",
       "  'bert.embeddings.LayerNorm.bias': 0.0,\n",
       "  'bert.encoder.layer.0.attention.self.query.weight': 0.3997395833333333,\n",
       "  'bert.encoder.layer.0.attention.self.query.bias': 0.0,\n",
       "  'bert.encoder.layer.0.attention.self.key.weight': 0.3997395833333333,\n",
       "  'bert.encoder.layer.0.attention.self.key.bias': 0.0,\n",
       "  'bert.encoder.layer.0.attention.self.value.weight': 0.3997395833333333,\n",
       "  'bert.encoder.layer.0.attention.self.value.bias': 0.0,\n",
       "  'bert.encoder.layer.0.attention.output.dense.weight': 0.3997395833333333,\n",
       "  'bert.encoder.layer.0.attention.output.dense.bias': 0.0,\n",
       "  'bert.encoder.layer.0.attention.output.LayerNorm.weight': 0.0,\n",
       "  'bert.encoder.layer.0.attention.output.LayerNorm.bias': 0.0,\n",
       "  'bert.encoder.layer.0.intermediate.dense.weight': 0.3997395833333333,\n",
       "  'bert.encoder.layer.0.intermediate.dense.bias': 0.0,\n",
       "  'bert.encoder.layer.0.output.dense.weight': 0.3997395833333333,\n",
       "  'bert.encoder.layer.0.output.dense.bias': 0.0,\n",
       "  'bert.encoder.layer.0.output.LayerNorm.weight': 0.0,\n",
       "  'bert.encoder.layer.0.output.LayerNorm.bias': 0.0,\n",
       "  'bert.encoder.layer.1.attention.self.query.weight': 0.3997395833333333,\n",
       "  'bert.encoder.layer.1.attention.self.query.bias': 0.0,\n",
       "  'bert.encoder.layer.1.attention.self.key.weight': 0.3997395833333333,\n",
       "  'bert.encoder.layer.1.attention.self.key.bias': 0.0,\n",
       "  'bert.encoder.layer.1.attention.self.value.weight': 0.3997395833333333,\n",
       "  'bert.encoder.layer.1.attention.self.value.bias': 0.0,\n",
       "  'bert.encoder.layer.1.attention.output.dense.weight': 0.3997395833333333,\n",
       "  'bert.encoder.layer.1.attention.output.dense.bias': 0.0,\n",
       "  'bert.encoder.layer.1.attention.output.LayerNorm.weight': 0.0,\n",
       "  'bert.encoder.layer.1.attention.output.LayerNorm.bias': 0.0,\n",
       "  'bert.encoder.layer.1.intermediate.dense.weight': 0.3997395833333333,\n",
       "  'bert.encoder.layer.1.intermediate.dense.bias': 0.0,\n",
       "  'bert.encoder.layer.1.output.dense.weight': 0.3997395833333333,\n",
       "  'bert.encoder.layer.1.output.dense.bias': 0.0,\n",
       "  'bert.encoder.layer.1.output.LayerNorm.weight': 0.0,\n",
       "  'bert.encoder.layer.1.output.LayerNorm.bias': 0.0,\n",
       "  'bert.encoder.layer.2.attention.self.query.weight': 0.3997395833333333,\n",
       "  'bert.encoder.layer.2.attention.self.query.bias': 0.0,\n",
       "  'bert.encoder.layer.2.attention.self.key.weight': 0.3997395833333333,\n",
       "  'bert.encoder.layer.2.attention.self.key.bias': 0.0,\n",
       "  'bert.encoder.layer.2.attention.self.value.weight': 0.3997395833333333,\n",
       "  'bert.encoder.layer.2.attention.self.value.bias': 0.0,\n",
       "  'bert.encoder.layer.2.attention.output.dense.weight': 0.3997395833333333,\n",
       "  'bert.encoder.layer.2.attention.output.dense.bias': 0.0,\n",
       "  'bert.encoder.layer.2.attention.output.LayerNorm.weight': 0.0,\n",
       "  'bert.encoder.layer.2.attention.output.LayerNorm.bias': 0.0,\n",
       "  'bert.encoder.layer.2.intermediate.dense.weight': 0.3997395833333333,\n",
       "  'bert.encoder.layer.2.intermediate.dense.bias': 0.0,\n",
       "  'bert.encoder.layer.2.output.dense.weight': 0.3997395833333333,\n",
       "  'bert.encoder.layer.2.output.dense.bias': 0.0,\n",
       "  'bert.encoder.layer.2.output.LayerNorm.weight': 0.0,\n",
       "  'bert.encoder.layer.2.output.LayerNorm.bias': 0.0,\n",
       "  'bert.encoder.layer.3.attention.self.query.weight': 0.3997395833333333,\n",
       "  'bert.encoder.layer.3.attention.self.query.bias': 0.0,\n",
       "  'bert.encoder.layer.3.attention.self.key.weight': 0.3997395833333333,\n",
       "  'bert.encoder.layer.3.attention.self.key.bias': 0.0,\n",
       "  'bert.encoder.layer.3.attention.self.value.weight': 0.3997395833333333,\n",
       "  'bert.encoder.layer.3.attention.self.value.bias': 0.0,\n",
       "  'bert.encoder.layer.3.attention.output.dense.weight': 0.3997395833333333,\n",
       "  'bert.encoder.layer.3.attention.output.dense.bias': 0.0,\n",
       "  'bert.encoder.layer.3.attention.output.LayerNorm.weight': 0.0,\n",
       "  'bert.encoder.layer.3.attention.output.LayerNorm.bias': 0.0,\n",
       "  'bert.encoder.layer.3.intermediate.dense.weight': 0.3997395833333333,\n",
       "  'bert.encoder.layer.3.intermediate.dense.bias': 0.0,\n",
       "  'bert.encoder.layer.3.output.dense.weight': 0.3997395833333333,\n",
       "  'bert.encoder.layer.3.output.dense.bias': 0.0,\n",
       "  'bert.encoder.layer.3.output.LayerNorm.weight': 0.0,\n",
       "  'bert.encoder.layer.3.output.LayerNorm.bias': 0.0,\n",
       "  'bert.encoder.layer.4.attention.self.query.weight': 0.3997395833333333,\n",
       "  'bert.encoder.layer.4.attention.self.query.bias': 0.0,\n",
       "  'bert.encoder.layer.4.attention.self.key.weight': 0.3997395833333333,\n",
       "  'bert.encoder.layer.4.attention.self.key.bias': 0.0,\n",
       "  'bert.encoder.layer.4.attention.self.value.weight': 0.3997395833333333,\n",
       "  'bert.encoder.layer.4.attention.self.value.bias': 0.0,\n",
       "  'bert.encoder.layer.4.attention.output.dense.weight': 0.3997395833333333,\n",
       "  'bert.encoder.layer.4.attention.output.dense.bias': 0.0,\n",
       "  'bert.encoder.layer.4.attention.output.LayerNorm.weight': 0.0,\n",
       "  'bert.encoder.layer.4.attention.output.LayerNorm.bias': 0.0,\n",
       "  'bert.encoder.layer.4.intermediate.dense.weight': 0.3997395833333333,\n",
       "  'bert.encoder.layer.4.intermediate.dense.bias': 0.0,\n",
       "  'bert.encoder.layer.4.output.dense.weight': 0.3997395833333333,\n",
       "  'bert.encoder.layer.4.output.dense.bias': 0.0,\n",
       "  'bert.encoder.layer.4.output.LayerNorm.weight': 0.0,\n",
       "  'bert.encoder.layer.4.output.LayerNorm.bias': 0.0,\n",
       "  'bert.encoder.layer.5.attention.self.query.weight': 0.3997395833333333,\n",
       "  'bert.encoder.layer.5.attention.self.query.bias': 0.0,\n",
       "  'bert.encoder.layer.5.attention.self.key.weight': 0.3997395833333333,\n",
       "  'bert.encoder.layer.5.attention.self.key.bias': 0.0,\n",
       "  'bert.encoder.layer.5.attention.self.value.weight': 0.3997395833333333,\n",
       "  'bert.encoder.layer.5.attention.self.value.bias': 0.0,\n",
       "  'bert.encoder.layer.5.attention.output.dense.weight': 0.3997395833333333,\n",
       "  'bert.encoder.layer.5.attention.output.dense.bias': 0.0,\n",
       "  'bert.encoder.layer.5.attention.output.LayerNorm.weight': 0.0,\n",
       "  'bert.encoder.layer.5.attention.output.LayerNorm.bias': 0.0,\n",
       "  'bert.encoder.layer.5.intermediate.dense.weight': 0.3997395833333333,\n",
       "  'bert.encoder.layer.5.intermediate.dense.bias': 0.0,\n",
       "  'bert.encoder.layer.5.output.dense.weight': 0.3997395833333333,\n",
       "  'bert.encoder.layer.5.output.dense.bias': 0.0,\n",
       "  'bert.encoder.layer.5.output.LayerNorm.weight': 0.0,\n",
       "  'bert.encoder.layer.5.output.LayerNorm.bias': 0.0,\n",
       "  'bert.encoder.layer.6.attention.self.query.weight': 0.3997395833333333,\n",
       "  'bert.encoder.layer.6.attention.self.query.bias': 0.0,\n",
       "  'bert.encoder.layer.6.attention.self.key.weight': 0.3997395833333333,\n",
       "  'bert.encoder.layer.6.attention.self.key.bias': 0.0,\n",
       "  'bert.encoder.layer.6.attention.self.value.weight': 0.3997395833333333,\n",
       "  'bert.encoder.layer.6.attention.self.value.bias': 0.0,\n",
       "  'bert.encoder.layer.6.attention.output.dense.weight': 0.3997395833333333,\n",
       "  'bert.encoder.layer.6.attention.output.dense.bias': 0.0,\n",
       "  'bert.encoder.layer.6.attention.output.LayerNorm.weight': 0.0,\n",
       "  'bert.encoder.layer.6.attention.output.LayerNorm.bias': 0.0,\n",
       "  'bert.encoder.layer.6.intermediate.dense.weight': 0.3997395833333333,\n",
       "  'bert.encoder.layer.6.intermediate.dense.bias': 0.0,\n",
       "  'bert.encoder.layer.6.output.dense.weight': 0.3997395833333333,\n",
       "  'bert.encoder.layer.6.output.dense.bias': 0.0,\n",
       "  'bert.encoder.layer.6.output.LayerNorm.weight': 0.0,\n",
       "  'bert.encoder.layer.6.output.LayerNorm.bias': 0.0,\n",
       "  'bert.encoder.layer.7.attention.self.query.weight': 0.3997395833333333,\n",
       "  'bert.encoder.layer.7.attention.self.query.bias': 0.0,\n",
       "  'bert.encoder.layer.7.attention.self.key.weight': 0.3997395833333333,\n",
       "  'bert.encoder.layer.7.attention.self.key.bias': 0.0,\n",
       "  'bert.encoder.layer.7.attention.self.value.weight': 0.3997395833333333,\n",
       "  'bert.encoder.layer.7.attention.self.value.bias': 0.0,\n",
       "  'bert.encoder.layer.7.attention.output.dense.weight': 0.3997395833333333,\n",
       "  'bert.encoder.layer.7.attention.output.dense.bias': 0.0,\n",
       "  'bert.encoder.layer.7.attention.output.LayerNorm.weight': 0.0,\n",
       "  'bert.encoder.layer.7.attention.output.LayerNorm.bias': 0.0,\n",
       "  'bert.encoder.layer.7.intermediate.dense.weight': 0.3997395833333333,\n",
       "  'bert.encoder.layer.7.intermediate.dense.bias': 0.0,\n",
       "  'bert.encoder.layer.7.output.dense.weight': 0.3997395833333333,\n",
       "  'bert.encoder.layer.7.output.dense.bias': 0.0,\n",
       "  'bert.encoder.layer.7.output.LayerNorm.weight': 0.0,\n",
       "  'bert.encoder.layer.7.output.LayerNorm.bias': 0.0,\n",
       "  'bert.encoder.layer.8.attention.self.query.weight': 0.3997395833333333,\n",
       "  'bert.encoder.layer.8.attention.self.query.bias': 0.0,\n",
       "  'bert.encoder.layer.8.attention.self.key.weight': 0.3997395833333333,\n",
       "  'bert.encoder.layer.8.attention.self.key.bias': 0.0,\n",
       "  'bert.encoder.layer.8.attention.self.value.weight': 0.3997395833333333,\n",
       "  'bert.encoder.layer.8.attention.self.value.bias': 0.0,\n",
       "  'bert.encoder.layer.8.attention.output.dense.weight': 0.3997395833333333,\n",
       "  'bert.encoder.layer.8.attention.output.dense.bias': 0.0,\n",
       "  'bert.encoder.layer.8.attention.output.LayerNorm.weight': 0.0,\n",
       "  'bert.encoder.layer.8.attention.output.LayerNorm.bias': 0.0,\n",
       "  'bert.encoder.layer.8.intermediate.dense.weight': 0.3997395833333333,\n",
       "  'bert.encoder.layer.8.intermediate.dense.bias': 0.0,\n",
       "  'bert.encoder.layer.8.output.dense.weight': 0.3997395833333333,\n",
       "  'bert.encoder.layer.8.output.dense.bias': 0.0,\n",
       "  'bert.encoder.layer.8.output.LayerNorm.weight': 0.0,\n",
       "  'bert.encoder.layer.8.output.LayerNorm.bias': 0.0,\n",
       "  'bert.encoder.layer.9.attention.self.query.weight': 0.3997395833333333,\n",
       "  'bert.encoder.layer.9.attention.self.query.bias': 0.0,\n",
       "  'bert.encoder.layer.9.attention.self.key.weight': 0.3997395833333333,\n",
       "  'bert.encoder.layer.9.attention.self.key.bias': 0.0,\n",
       "  'bert.encoder.layer.9.attention.self.value.weight': 0.3997395833333333,\n",
       "  'bert.encoder.layer.9.attention.self.value.bias': 0.0,\n",
       "  'bert.encoder.layer.9.attention.output.dense.weight': 0.3997395833333333,\n",
       "  'bert.encoder.layer.9.attention.output.dense.bias': 0.0,\n",
       "  'bert.encoder.layer.9.attention.output.LayerNorm.weight': 0.0,\n",
       "  'bert.encoder.layer.9.attention.output.LayerNorm.bias': 0.0,\n",
       "  'bert.encoder.layer.9.intermediate.dense.weight': 0.3997395833333333,\n",
       "  'bert.encoder.layer.9.intermediate.dense.bias': 0.0,\n",
       "  'bert.encoder.layer.9.output.dense.weight': 0.3997395833333333,\n",
       "  'bert.encoder.layer.9.output.dense.bias': 0.0,\n",
       "  'bert.encoder.layer.9.output.LayerNorm.weight': 0.0,\n",
       "  'bert.encoder.layer.9.output.LayerNorm.bias': 0.0,\n",
       "  'bert.encoder.layer.10.attention.self.query.weight': 0.3997395833333333,\n",
       "  'bert.encoder.layer.10.attention.self.query.bias': 0.0,\n",
       "  'bert.encoder.layer.10.attention.self.key.weight': 0.3997395833333333,\n",
       "  'bert.encoder.layer.10.attention.self.key.bias': 0.0,\n",
       "  'bert.encoder.layer.10.attention.self.value.weight': 0.3997395833333333,\n",
       "  'bert.encoder.layer.10.attention.self.value.bias': 0.0,\n",
       "  'bert.encoder.layer.10.attention.output.dense.weight': 0.3997395833333333,\n",
       "  'bert.encoder.layer.10.attention.output.dense.bias': 0.0,\n",
       "  'bert.encoder.layer.10.attention.output.LayerNorm.weight': 0.0,\n",
       "  'bert.encoder.layer.10.attention.output.LayerNorm.bias': 0.0,\n",
       "  'bert.encoder.layer.10.intermediate.dense.weight': 0.3997395833333333,\n",
       "  'bert.encoder.layer.10.intermediate.dense.bias': 0.0,\n",
       "  'bert.encoder.layer.10.output.dense.weight': 0.3997395833333333,\n",
       "  'bert.encoder.layer.10.output.dense.bias': 0.0,\n",
       "  'bert.encoder.layer.10.output.LayerNorm.weight': 0.0,\n",
       "  'bert.encoder.layer.10.output.LayerNorm.bias': 0.0,\n",
       "  'bert.encoder.layer.11.attention.self.query.weight': 0.3997395833333333,\n",
       "  'bert.encoder.layer.11.attention.self.query.bias': 0.0,\n",
       "  'bert.encoder.layer.11.attention.self.key.weight': 0.3997395833333333,\n",
       "  'bert.encoder.layer.11.attention.self.key.bias': 0.0,\n",
       "  'bert.encoder.layer.11.attention.self.value.weight': 0.3997395833333333,\n",
       "  'bert.encoder.layer.11.attention.self.value.bias': 0.0,\n",
       "  'bert.encoder.layer.11.attention.output.dense.weight': 0.3997395833333333,\n",
       "  'bert.encoder.layer.11.attention.output.dense.bias': 0.0,\n",
       "  'bert.encoder.layer.11.attention.output.LayerNorm.weight': 0.0,\n",
       "  'bert.encoder.layer.11.attention.output.LayerNorm.bias': 0.0,\n",
       "  'bert.encoder.layer.11.intermediate.dense.weight': 0.3997395833333333,\n",
       "  'bert.encoder.layer.11.intermediate.dense.bias': 0.0,\n",
       "  'bert.encoder.layer.11.output.dense.weight': 0.3997395833333333,\n",
       "  'bert.encoder.layer.11.output.dense.bias': 0.0,\n",
       "  'bert.encoder.layer.11.output.LayerNorm.weight': 0.0,\n",
       "  'bert.encoder.layer.11.output.LayerNorm.bias': 0.0,\n",
       "  'bert.pooler.dense.weight': 0.3997395833333333,\n",
       "  'bert.pooler.dense.bias': 0.0,\n",
       "  'classifier.weight': 0.3997395833333333,\n",
       "  'classifier.bias': 0.0})"
      ]
     },
     "execution_count": 17,
     "metadata": {},
     "output_type": "execute_result"
    }
   ],
   "source": [
    "get_sparsity(model)"
   ]
  },
  {
   "cell_type": "code",
   "execution_count": 18,
   "id": "4428b8a5-52ff-4217-ba2a-289d46b5e5a6",
   "metadata": {},
   "outputs": [
    {
     "name": "stderr",
     "output_type": "stream",
     "text": [
      "Evaluating: 100%|██████████| 400/400 [04:54<00:00,  1.36it/s]\n"
     ]
    },
    {
     "name": "stdout",
     "output_type": "stream",
     "text": [
      "Loss: 0.8860\n",
      "Precision: 0.7770, Recall: 0.7790, F1-Score: 0.7743\n",
      "              precision    recall  f1-score   support\n",
      "\n",
      "           0       0.73      0.67      0.70       797\n",
      "           1       0.84      0.71      0.77       775\n",
      "           2       0.87      0.88      0.87       795\n",
      "           3       0.87      0.83      0.85      1110\n",
      "           4       0.85      0.80      0.82      1260\n",
      "           5       0.90      0.68      0.77       882\n",
      "           6       0.85      0.79      0.82       940\n",
      "           7       0.49      0.58      0.53       473\n",
      "           8       0.65      0.85      0.74       746\n",
      "           9       0.58      0.73      0.65       689\n",
      "          10       0.77      0.77      0.77       670\n",
      "          11       0.68      0.79      0.73       312\n",
      "          12       0.69      0.81      0.75       665\n",
      "          13       0.85      0.84      0.85       314\n",
      "          14       0.85      0.77      0.81       756\n",
      "          15       0.98      0.96      0.97      1607\n",
      "\n",
      "    accuracy                           0.79     12791\n",
      "   macro avg       0.78      0.78      0.77     12791\n",
      "weighted avg       0.81      0.79      0.80     12791\n",
      "\n"
     ]
    },
    {
     "data": {
      "text/plain": [
       "{'loss': 0.8860318766534329,\n",
       " 'precision': 0.7770481058741912,\n",
       " 'recall': 0.7790442994499596,\n",
       " 'f1_score': 0.7742676774035022,\n",
       " 'report': '              precision    recall  f1-score   support\\n\\n           0       0.73      0.67      0.70       797\\n           1       0.84      0.71      0.77       775\\n           2       0.87      0.88      0.87       795\\n           3       0.87      0.83      0.85      1110\\n           4       0.85      0.80      0.82      1260\\n           5       0.90      0.68      0.77       882\\n           6       0.85      0.79      0.82       940\\n           7       0.49      0.58      0.53       473\\n           8       0.65      0.85      0.74       746\\n           9       0.58      0.73      0.65       689\\n          10       0.77      0.77      0.77       670\\n          11       0.68      0.79      0.73       312\\n          12       0.69      0.81      0.75       665\\n          13       0.85      0.84      0.85       314\\n          14       0.85      0.77      0.81       756\\n          15       0.98      0.96      0.97      1607\\n\\n    accuracy                           0.79     12791\\n   macro avg       0.78      0.78      0.77     12791\\nweighted avg       0.81      0.79      0.80     12791\\n'}"
      ]
     },
     "execution_count": 18,
     "metadata": {},
     "output_type": "execute_result"
    }
   ],
   "source": [
    "evaluate_model(model,model_config, test_dataloader)"
   ]
  },
  {
   "cell_type": "code",
   "execution_count": null,
   "id": "3ff248eb-aa4c-4e2e-a7c3-42b8071792e9",
   "metadata": {},
   "outputs": [],
   "source": []
  }
 ],
 "metadata": {
  "kernelspec": {
   "display_name": "Python 3 (ipykernel)",
   "language": "python",
   "name": "python3"
  },
  "language_info": {
   "codemirror_mode": {
    "name": "ipython",
    "version": 3
   },
   "file_extension": ".py",
   "mimetype": "text/x-python",
   "name": "python",
   "nbconvert_exporter": "python",
   "pygments_lexer": "ipython3",
   "version": "3.8.18"
  }
 },
 "nbformat": 4,
 "nbformat_minor": 5
}
