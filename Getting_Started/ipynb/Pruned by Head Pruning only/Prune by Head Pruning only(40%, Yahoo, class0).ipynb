{
 "cells": [
  {
   "cell_type": "code",
   "execution_count": null,
   "id": "aaa468a1-e488-4f42-9b58-5135ff25828e",
   "metadata": {},
   "outputs": [],
   "source": [
    "import os\n",
    "import sys\n",
    "sys.path.append(\"../../../\")\n",
    "os.environ[\"TOKENIZERS_PARALLELISM\"] = \"false\""
   ]
  },
  {
   "cell_type": "code",
   "execution_count": null,
   "id": "5fe4568f-453b-47e0-82f3-65e8faa03217",
   "metadata": {},
   "outputs": [],
   "source": [
    "import copy\n",
    "import torch\n",
    "from datetime import datetime\n",
    "from utils.helper import ModelConfig, color_print\n",
    "from utils.dataset_utils.load_dataset import (\n",
    "    load_data,\n",
    ")\n",
    "from utils.model_utils.save_module import save_module\n",
    "from utils.model_utils.load_model import load_model\n",
    "from utils.model_utils.evaluate import evaluate_model, get_sparsity\n",
    "from utils.dataset_utils.sampling import SamplingDataset\n",
    "from utils.prune_utils.prune import (\n",
    "    prune_wanda\n",
    ")"
   ]
  },
  {
   "cell_type": "code",
   "execution_count": null,
   "id": "d9f37f07-5ec3-482f-b31b-b5d7c5fdeea1",
   "metadata": {},
   "outputs": [],
   "source": [
    "name= \"YahooAnswersTopics\"\n",
    "device = torch.device(\"cuda:0\" if torch.cuda.is_available() else \"cpu\")\n",
    "\n",
    "checkpoint = None\n",
    "model_config = ModelConfig(name, device)\n",
    "num_labels = model_config.config[\"num_labels\"]\n",
    "num_workers=4\n",
    "batch_size=16\n",
    "seed=44\n",
    "model, tokenizer, checkpoint = load_model(model_config)"
   ]
  },
  {
   "cell_type": "code",
   "execution_count": null,
   "id": "4342410e-aea4-49cf-8fd0-bce28687c7bc",
   "metadata": {},
   "outputs": [],
   "source": [
    "    train_dataloader, valid_dataloader, test_dataloader = load_data(\n",
    "        name, batch_size=batch_size, num_workers=num_workers, do_cache=True, seed=seed\n",
    "    )"
   ]
  },
  {
   "cell_type": "code",
   "execution_count": null,
   "id": "3993cdd0-89da-4ca2-9fdb-2788be9b3251",
   "metadata": {},
   "outputs": [],
   "source": [
    "should_be_removed_heads = [(4, 9), (5, 1), (8, 0), (5, 10), (8, 9), (2, 2), (11, 5), (2, 11), (6, 2), (7, 1),\n",
    "                           (6, 11), (7, 10), (4, 2), (3, 6), (5, 3), (8, 2), (9, 1), (9, 10), (0, 7), (2, 4),\n",
    "                           (1, 8), (6, 4), (7, 3), (3, 8), (5, 5), (8, 4), (9, 3), (0, 0), (11, 9), (1, 10),\n",
    "                           (6, 6), (3, 1), (3, 10), (5, 7), (0, 2), (11, 2), (1, 3), (7, 7), (3, 3), (5, 0),\n",
    "                           (5, 9), (4, 11), (9, 7), (10, 8), (1, 5), (6, 1), (7, 9), (3, 5), (5, 2), (9, 0),\n",
    "                           (5, 11), (9, 9), (10, 1), (10, 10), (1, 7), (2, 6), (7, 2), (7, 11), (3, 7), (5, 4),\n",
    "                           (4, 6), (9, 2), (8, 6), (10, 3), (1, 0), (1, 9), (0, 11), (2, 8), (7, 4), (3, 9),\n",
    "                           (5, 6), (4, 8), (10, 5), (1, 2), (0, 4), (2, 1), (1, 11), (6, 10), (3, 2), (4, 1),\n",
    "                           (3, 11), (4, 10), (8, 1), (8, 10), (1, 4), (0, 6), (2, 3), (6, 3), (3, 4), (4, 3),\n",
    "                           (8, 3), (10, 0), (10, 9), (1, 6), (0, 8), (2, 5), (9, 11), (6, 5), (4, 5), (8, 5),\n",
    "                           (10, 2), (9, 4), (0, 1), (11, 1), (0, 10), (2, 7), (11, 10), (7, 6), (4, 7), (5, 8),\n",
    "                           (8, 7), (1, 1), (0, 3), (2, 0), (9, 6), (11, 3), (2, 9), (6, 0), (6, 9)]"
   ]
  },
  {
   "cell_type": "code",
   "execution_count": null,
   "id": "0af66588-3dd4-4e3a-9e0b-67ba1abbbc0b",
   "metadata": {},
   "outputs": [],
   "source": [
    "i = 0\n",
    "pruned_head_num = 0\n",
    "for layer_index, head_index in should_be_removed_heads:\n",
    "    model.bert.encoder.layer[layer_index].attention.prune_heads([head_index])\n",
    "    pruned_head_num += 1\n",
    "\n",
    "print('class ', i + 1, ' pruned_head_num: ', pruned_head_num, 'remaining head num: ', 12 * 12 - pruned_head_num)"
   ]
  },
  {
   "cell_type": "code",
   "execution_count": null,
   "id": "29f3979c-4895-46ba-b3f0-80eeba799bff",
   "metadata": {},
   "outputs": [],
   "source": [
    "result = evaluate_model(model, model_config, test_dataloader)"
   ]
  }
 ],
 "metadata": {
  "kernelspec": {
   "display_name": "Python 3 (ipykernel)",
   "language": "python",
   "name": "python3"
  },
  "language_info": {
   "codemirror_mode": {
    "name": "ipython",
    "version": 3
   },
   "file_extension": ".py",
   "mimetype": "text/x-python",
   "name": "python",
   "nbconvert_exporter": "python",
   "pygments_lexer": "ipython3",
   "version": "3.8.19"
  }
 },
 "nbformat": 4,
 "nbformat_minor": 5
}
