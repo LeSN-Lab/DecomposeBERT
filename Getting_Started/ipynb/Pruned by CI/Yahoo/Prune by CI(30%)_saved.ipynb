{
 "cells": [
  {
   "cell_type": "code",
   "execution_count": 1,
   "id": "75f3459d-aaad-4b51-b4c8-4ec84ed5fe86",
   "metadata": {
    "execution": {
     "iopub.execute_input": "2024-08-20T05:17:53.605173Z",
     "iopub.status.busy": "2024-08-20T05:17:53.604713Z",
     "iopub.status.idle": "2024-08-20T05:17:53.608719Z",
     "shell.execute_reply": "2024-08-20T05:17:53.608307Z"
    },
    "papermill": {
     "duration": 0.006573,
     "end_time": "2024-08-20T05:17:53.609481",
     "exception": false,
     "start_time": "2024-08-20T05:17:53.602908",
     "status": "completed"
    },
    "tags": []
   },
   "outputs": [],
   "source": [
    "import os\n",
    "import sys\n",
    "sys.path.append(\"../../../../\")\n",
    "os.environ[\"TOKENIZERS_PARALLELISM\"] = \"false\""
   ]
  },
  {
   "cell_type": "code",
   "execution_count": 2,
   "id": "cf1e90f7-63e9-419e-955b-4b8375d0b590",
   "metadata": {
    "execution": {
     "iopub.execute_input": "2024-08-20T05:17:53.611865Z",
     "iopub.status.busy": "2024-08-20T05:17:53.611629Z",
     "iopub.status.idle": "2024-08-20T05:17:55.685355Z",
     "shell.execute_reply": "2024-08-20T05:17:55.684473Z"
    },
    "papermill": {
     "duration": 2.075959,
     "end_time": "2024-08-20T05:17:55.686315",
     "exception": false,
     "start_time": "2024-08-20T05:17:53.610356",
     "status": "completed"
    },
    "tags": []
   },
   "outputs": [],
   "source": [
    "import copy\n",
    "import torch\n",
    "from datetime import datetime\n",
    "from utils.helper import ModelConfig, color_print\n",
    "from utils.dataset_utils.load_dataset import (\n",
    "    load_data,\n",
    ")\n",
    "from utils.model_utils.load_model import load_model\n",
    "from utils.model_utils.save_module import save_module\n",
    "from utils.model_utils.evaluate import evaluate_model, get_sparsity, similar\n",
    "from utils.dataset_utils.sampling import SamplingDataset\n",
    "from utils.prune_utils.prune import (\n",
    "    prune_concern_identification,\n",
    "    recover_tangling_identification,\n",
    ")"
   ]
  },
  {
   "cell_type": "code",
   "execution_count": 3,
   "id": "a1362c6b-9864-4304-9738-577a2e695918",
   "metadata": {
    "execution": {
     "iopub.execute_input": "2024-08-20T05:17:55.688941Z",
     "iopub.status.busy": "2024-08-20T05:17:55.688554Z",
     "iopub.status.idle": "2024-08-20T05:17:55.691223Z",
     "shell.execute_reply": "2024-08-20T05:17:55.690810Z"
    },
    "papermill": {
     "duration": 0.004746,
     "end_time": "2024-08-20T05:17:55.691946",
     "exception": false,
     "start_time": "2024-08-20T05:17:55.687200",
     "status": "completed"
    },
    "tags": []
   },
   "outputs": [],
   "source": [
    "name = \"YahooAnswersTopics\"\n",
    "device = torch.device(\"cuda:0\")\n",
    "checkpoint = None\n",
    "batch_size=16\n",
    "num_workers=4\n",
    "num_samples=4\n",
    "ci_ratio=0.3\n",
    "seed=44\n",
    "include_layers=[\"attention\", \"intermediate\", \"output\"]\n",
    "exclude_layers=None"
   ]
  },
  {
   "cell_type": "code",
   "execution_count": 4,
   "id": "e4ce99d7-67af-4c0e-8b82-32c2b9122112",
   "metadata": {
    "execution": {
     "iopub.execute_input": "2024-08-20T05:17:55.694051Z",
     "iopub.status.busy": "2024-08-20T05:17:55.693819Z",
     "iopub.status.idle": "2024-08-20T05:17:55.696246Z",
     "shell.execute_reply": "2024-08-20T05:17:55.695884Z"
    },
    "papermill": {
     "duration": 0.004297,
     "end_time": "2024-08-20T05:17:55.696955",
     "exception": false,
     "start_time": "2024-08-20T05:17:55.692658",
     "status": "completed"
    },
    "tags": []
   },
   "outputs": [
    {
     "name": "stdout",
     "output_type": "stream",
     "text": [
      "Script started at: 2024-08-20 14:17:55\n"
     ]
    }
   ],
   "source": [
    "script_start_time = datetime.now()\n",
    "print(f\"Script started at: {script_start_time.strftime('%Y-%m-%d %H:%M:%S')}\")"
   ]
  },
  {
   "cell_type": "code",
   "execution_count": 5,
   "id": "bd934130-953b-4ea6-b607-28213f803299",
   "metadata": {
    "execution": {
     "iopub.execute_input": "2024-08-20T05:17:55.699012Z",
     "iopub.status.busy": "2024-08-20T05:17:55.698801Z",
     "iopub.status.idle": "2024-08-20T05:17:57.355424Z",
     "shell.execute_reply": "2024-08-20T05:17:57.354984Z"
    },
    "papermill": {
     "duration": 1.65853,
     "end_time": "2024-08-20T05:17:57.356224",
     "exception": false,
     "start_time": "2024-08-20T05:17:55.697694",
     "status": "completed"
    },
    "tags": []
   },
   "outputs": [
    {
     "name": "stdout",
     "output_type": "stream",
     "text": [
      "Loading the model."
     ]
    },
    {
     "name": "stdout",
     "output_type": "stream",
     "text": [
      "\n"
     ]
    },
    {
     "name": "stdout",
     "output_type": "stream",
     "text": [
      "{'model_name': 'fabriceyhc/bert-base-uncased-yahoo_answers_topics', 'task_type': 'classification', 'architectures': 'bert', 'dataset_name': 'YahooAnswersTopics', 'num_labels': 10, 'cache_dir': 'Models'}"
     ]
    },
    {
     "name": "stdout",
     "output_type": "stream",
     "text": [
      "\n"
     ]
    },
    {
     "name": "stderr",
     "output_type": "stream",
     "text": [
      "/home/minwoo/anaconda3/envs/DecomposeBERT/lib/python3.8/site-packages/huggingface_hub/file_download.py:1132: FutureWarning: `resume_download` is deprecated and will be removed in version 1.0.0. Downloads always resume when possible. If you want to force a new download, use `force_download=True`.\n",
      "  warnings.warn(\n"
     ]
    },
    {
     "name": "stderr",
     "output_type": "stream",
     "text": [
      "/home/minwoo/anaconda3/envs/DecomposeBERT/lib/python3.8/site-packages/huggingface_hub/file_download.py:1132: FutureWarning: `resume_download` is deprecated and will be removed in version 1.0.0. Downloads always resume when possible. If you want to force a new download, use `force_download=True`.\n",
      "  warnings.warn(\n"
     ]
    },
    {
     "name": "stdout",
     "output_type": "stream",
     "text": [
      "The model fabriceyhc/bert-base-uncased-yahoo_answers_topics is loaded."
     ]
    },
    {
     "name": "stdout",
     "output_type": "stream",
     "text": [
      "\n"
     ]
    }
   ],
   "source": [
    "model_config = ModelConfig(name, device)\n",
    "num_labels = model_config.config[\"num_labels\"]\n",
    "model, tokenizer, checkpoint = load_model(model_config)"
   ]
  },
  {
   "cell_type": "code",
   "execution_count": 6,
   "id": "570bb960-f2fb-4eca-bf55-7963c144af33",
   "metadata": {
    "execution": {
     "iopub.execute_input": "2024-08-20T05:17:57.359449Z",
     "iopub.status.busy": "2024-08-20T05:17:57.358975Z",
     "iopub.status.idle": "2024-08-20T05:17:57.361164Z",
     "shell.execute_reply": "2024-08-20T05:17:57.360757Z"
    },
    "papermill": {
     "duration": 0.004565,
     "end_time": "2024-08-20T05:17:57.361908",
     "exception": false,
     "start_time": "2024-08-20T05:17:57.357343",
     "status": "completed"
    },
    "tags": []
   },
   "outputs": [],
   "source": [
    "# print(\"Evaluate the original model\")\n",
    "# result = evaluate_model(model, model_config, test_dataloader)"
   ]
  },
  {
   "cell_type": "code",
   "execution_count": 7,
   "id": "1bf059d8-34b1-4497-af84-ddf8732de9b1",
   "metadata": {
    "execution": {
     "iopub.execute_input": "2024-08-20T05:17:57.364516Z",
     "iopub.status.busy": "2024-08-20T05:17:57.364296Z",
     "iopub.status.idle": "2024-08-20T05:17:57.366523Z",
     "shell.execute_reply": "2024-08-20T05:17:57.366102Z"
    },
    "papermill": {
     "duration": 0.004542,
     "end_time": "2024-08-20T05:17:57.367422",
     "exception": false,
     "start_time": "2024-08-20T05:17:57.362880",
     "status": "completed"
    },
    "tags": []
   },
   "outputs": [],
   "source": [
    "# Evaluate the original model\n",
    "# Evaluating: 100%|███████████████████████████████████████████████████████████████████| 1875/1875 [30:03<00:00,  1.04it/s]\n",
    "# Loss: 1.0044\n",
    "# Precision: 0.6874, Recall: 0.6865, F1-Score: 0.6839\n",
    "#               precision    recall  f1-score   support\n",
    "\n",
    "#            0       0.57      0.57      0.57      6000\n",
    "#            1       0.74      0.66      0.69      6000\n",
    "#            2       0.71      0.78      0.74      6000\n",
    "#            3       0.54      0.53      0.53      6000\n",
    "#            4       0.80      0.82      0.81      6000\n",
    "#            5       0.90      0.84      0.87      6000\n",
    "#            6       0.61      0.43      0.50      6000\n",
    "#            7       0.62      0.73      0.67      6000\n",
    "#            8       0.64      0.76      0.70      6000\n",
    "#            9       0.75      0.75      0.75      6000\n",
    "\n",
    "#     accuracy                           0.69     60000\n",
    "#    macro avg       0.69      0.69      0.68     60000\n",
    "# weighted avg       0.69      0.69      0.68     60000"
   ]
  },
  {
   "cell_type": "code",
   "execution_count": null,
   "id": "793a48a1-206d-4f4e-9149-eb88d53f5f88",
   "metadata": {
    "papermill": {
     "duration": null,
     "end_time": null,
     "exception": false,
     "start_time": "2024-08-20T05:17:57.386246",
     "status": "running"
    },
    "tags": []
   },
   "outputs": [],
   "source": [
    "for concern in range(num_labels):\n",
    "    train_dataloader, valid_dataloader, test_dataloader = load_data(\n",
    "    name, batch_size=batch_size, num_workers=num_workers, do_cache=True\n",
    "    )\n",
    "    \n",
    "    positive_samples = SamplingDataset(\n",
    "        train_dataloader, concern, num_samples, num_labels, True, 4, device=device, resample=False, seed=seed\n",
    "    )\n",
    "    negative_samples = SamplingDataset(\n",
    "        train_dataloader, concern, num_samples, num_labels, False, 4, device=device, resample=False, seed=seed\n",
    "    )\n",
    "    all_samples = SamplingDataset(\n",
    "        train_dataloader, 200, num_samples, num_labels, False, 4, device=device, resample=False, seed=seed\n",
    "    )\n",
    "    \n",
    "    module = copy.deepcopy(model)\n",
    "    \n",
    "    prune_concern_identification(\n",
    "        module,\n",
    "        model_config,\n",
    "        positive_samples,\n",
    "        negative_samples,\n",
    "        include_layers=include_layers,\n",
    "        exclude_layers=exclude_layers,\n",
    "        sparsity_ratio=ci_ratio,\n",
    "    )\n",
    "    \n",
    "    print(f\"Evaluate the pruned model {concern}\")\n",
    "    result = evaluate_model(module, model_config, test_dataloader)\n",
    "    get_sparsity(module)\n",
    "    \n",
    "    similar(model, module, valid_dataloader, concern, num_samples, num_labels, device=device, seed=seed)\n",
    "    \n",
    "    # save_module(module, \"Modules/\", f\"ci_{name}_{ci_ratio}p.pt\")"
   ]
  }
 ],
 "metadata": {
  "kernelspec": {
   "display_name": "Python 3 (ipykernel)",
   "language": "python",
   "name": "python3"
  },
  "language_info": {
   "codemirror_mode": {
    "name": "ipython",
    "version": 3
   },
   "file_extension": ".py",
   "mimetype": "text/x-python",
   "name": "python",
   "nbconvert_exporter": "python",
   "pygments_lexer": "ipython3",
   "version": "3.8.19"
  },
  "papermill": {
   "default_parameters": {},
   "duration": null,
   "end_time": null,
   "environment_variables": {},
   "exception": null,
   "input_path": "Getting_Started/ipynb/Pruned by CI/Yahoo/Prune by CI(30%).ipynb",
   "output_path": "Getting_Started/ipynb/Pruned by CI/Yahoo/Prune by CI(30%)_saved.ipynb",
   "parameters": {},
   "start_time": "2024-08-20T05:17:52.627174",
   "version": "2.6.0"
  }
 },
 "nbformat": 4,
 "nbformat_minor": 5
}
