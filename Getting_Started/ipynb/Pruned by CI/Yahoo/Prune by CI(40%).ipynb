{
 "cells": [
  {
   "cell_type": "code",
   "execution_count": null,
   "id": "75f3459d-aaad-4b51-b4c8-4ec84ed5fe86",
   "metadata": {
    "execution": {
     "iopub.execute_input": "2024-08-23T22:54:19.285455Z",
     "iopub.status.busy": "2024-08-23T22:54:19.284461Z",
     "iopub.status.idle": "2024-08-23T22:54:19.299498Z",
     "shell.execute_reply": "2024-08-23T22:54:19.298496Z"
    },
    "papermill": {
     "duration": 0.018002,
     "end_time": "2024-08-23T22:54:19.300456",
     "exception": false,
     "start_time": "2024-08-23T22:54:19.282454",
     "status": "completed"
    },
    "tags": []
   },
   "outputs": [],
   "source": [
    "import os\n",
    "import sys\n",
    "\n",
    "sys.path.append(\"../../../../\")\n",
    "os.environ[\"TOKENIZERS_PARALLELISM\"] = \"false\""
   ]
  },
  {
   "cell_type": "code",
   "execution_count": null,
   "id": "cf1e90f7-63e9-419e-955b-4b8375d0b590",
   "metadata": {
    "execution": {
     "iopub.execute_input": "2024-08-23T22:54:19.304455Z",
     "iopub.status.busy": "2024-08-23T22:54:19.304455Z",
     "iopub.status.idle": "2024-08-23T22:54:21.930454Z",
     "shell.execute_reply": "2024-08-23T22:54:21.930454Z"
    },
    "papermill": {
     "duration": 2.628956,
     "end_time": "2024-08-23T22:54:21.931455",
     "exception": false,
     "start_time": "2024-08-23T22:54:19.302499",
     "status": "completed"
    },
    "tags": []
   },
   "outputs": [],
   "source": [
    "import copy\n",
    "import torch\n",
    "from datetime import datetime\n",
    "from utils.helper import ModelConfig, color_print\n",
    "from utils.dataset_utils.load_dataset import (\n",
    "    load_data,\n",
    ")\n",
    "from utils.model_utils.load_model import load_model\n",
    "from utils.model_utils.save_module import save_module\n",
    "from utils.model_utils.evaluate import evaluate_model, get_sparsity, similar\n",
    "from utils.dataset_utils.sampling import SamplingDataset\n",
    "from utils.prune_utils.prune import (\n",
    "    prune_concern_identification,\n",
    "    recover_tangling_identification,\n",
    ")"
   ]
  },
  {
   "cell_type": "code",
   "execution_count": null,
   "id": "a1362c6b-9864-4304-9738-577a2e695918",
   "metadata": {
    "execution": {
     "iopub.execute_input": "2024-08-23T22:54:21.936455Z",
     "iopub.status.busy": "2024-08-23T22:54:21.936455Z",
     "iopub.status.idle": "2024-08-23T22:54:21.946454Z",
     "shell.execute_reply": "2024-08-23T22:54:21.946454Z"
    },
    "papermill": {
     "duration": 0.014,
     "end_time": "2024-08-23T22:54:21.947456",
     "exception": false,
     "start_time": "2024-08-23T22:54:21.933456",
     "status": "completed"
    },
    "tags": []
   },
   "outputs": [],
   "source": [
    "name = \"YahooAnswersTopics\"\n",
    "device = torch.device(\"cuda:0\")\n",
    "checkpoint = None\n",
    "batch_size = 16\n",
    "num_workers = 4\n",
    "num_samples = 16\n",
    "ci_ratio = 0.4\n",
    "seed = 44\n",
    "include_layers = [\"attention\", \"intermediate\", \"output\"]\n",
    "exclude_layers = None"
   ]
  },
  {
   "cell_type": "code",
   "execution_count": null,
   "id": "7d723ed9-5164-4454-ae23-4e0034f954d3",
   "metadata": {
    "execution": {
     "iopub.execute_input": "2024-08-23T22:54:21.951456Z",
     "iopub.status.busy": "2024-08-23T22:54:21.951456Z",
     "iopub.status.idle": "2024-08-23T22:54:21.962454Z",
     "shell.execute_reply": "2024-08-23T22:54:21.962454Z"
    },
    "papermill": {
     "duration": 0.014002,
     "end_time": "2024-08-23T22:54:21.963457",
     "exception": false,
     "start_time": "2024-08-23T22:54:21.949455",
     "status": "completed"
    },
    "tags": []
   },
   "outputs": [],
   "source": [
    "script_start_time = datetime.now()\n",
    "print(f\"Script started at: {script_start_time.strftime('%Y-%m-%d %H:%M:%S')}\")"
   ]
  },
  {
   "cell_type": "code",
   "execution_count": null,
   "id": "bd934130-953b-4ea6-b607-28213f803299",
   "metadata": {
    "execution": {
     "iopub.execute_input": "2024-08-23T22:54:21.967454Z",
     "iopub.status.busy": "2024-08-23T22:54:21.967454Z",
     "iopub.status.idle": "2024-08-23T22:54:23.532499Z",
     "shell.execute_reply": "2024-08-23T22:54:23.532499Z"
    },
    "papermill": {
     "duration": 1.568001,
     "end_time": "2024-08-23T22:54:23.533455",
     "exception": false,
     "start_time": "2024-08-23T22:54:21.965454",
     "status": "completed"
    },
    "tags": []
   },
   "outputs": [],
   "source": [
    "model_config = ModelConfig(name, device)\n",
    "num_labels = model_config.config[\"num_labels\"]\n",
    "model, tokenizer, checkpoint = load_model(model_config)"
   ]
  },
  {
   "cell_type": "code",
   "execution_count": null,
   "id": "30a7352333a1b660",
   "metadata": {
    "execution": {
     "iopub.execute_input": "2024-08-23T22:54:23.538455Z",
     "iopub.status.busy": "2024-08-23T22:54:23.538455Z",
     "iopub.status.idle": "2024-08-23T22:54:47.454454Z",
     "shell.execute_reply": "2024-08-23T22:54:47.454454Z"
    },
    "papermill": {
     "duration": 23.921001,
     "end_time": "2024-08-23T22:54:47.456456",
     "exception": false,
     "start_time": "2024-08-23T22:54:23.535455",
     "status": "completed"
    },
    "tags": []
   },
   "outputs": [],
   "source": [
    "train_dataloader, valid_dataloader, test_dataloader = load_data(\n",
    "    name, batch_size=batch_size, num_workers=num_workers, do_cache=True, seed=seed\n",
    ")"
   ]
  },
  {
   "cell_type": "code",
   "execution_count": null,
   "id": "570bb960-f2fb-4eca-bf55-7963c144af33",
   "metadata": {
    "execution": {
     "iopub.execute_input": "2024-08-23T22:54:47.461458Z",
     "iopub.status.busy": "2024-08-23T22:54:47.460456Z",
     "iopub.status.idle": "2024-08-23T22:54:47.469455Z",
     "shell.execute_reply": "2024-08-23T22:54:47.469455Z"
    },
    "papermill": {
     "duration": 0.011999,
     "end_time": "2024-08-23T22:54:47.470454",
     "exception": false,
     "start_time": "2024-08-23T22:54:47.458455",
     "status": "completed"
    },
    "tags": []
   },
   "outputs": [],
   "source": [
    "# print(\"Evaluate the original model\")\n",
    "# result = evaluate_model(model, model_config, test_dataloader)"
   ]
  },
  {
   "cell_type": "code",
   "execution_count": null,
   "id": "1bf059d8-34b1-4497-af84-ddf8732de9b1",
   "metadata": {
    "papermill": {
     "duration": 0.002001,
     "end_time": "2024-08-23T22:54:47.474455",
     "exception": false,
     "start_time": "2024-08-23T22:54:47.472454",
     "status": "completed"
    },
    "tags": []
   },
   "outputs": [],
   "source": []
  },
  {
   "cell_type": "code",
   "execution_count": null,
   "id": "793a48a1-206d-4f4e-9149-eb88d53f5f88",
   "metadata": {
    "execution": {
     "iopub.execute_input": "2024-08-23T22:54:47.478455Z",
     "iopub.status.busy": "2024-08-23T22:54:47.478455Z"
    },
    "papermill": {
     "duration": null,
     "end_time": null,
     "exception": false,
     "start_time": "2024-08-23T22:54:47.476454",
     "status": "running"
    },
    "tags": []
   },
   "outputs": [],
   "source": [
    "for concern in range(num_labels):\n",
    "    train = copy.deepcopy(train_dataloader)\n",
    "    valid = copy.deepcopy(valid_dataloader)\n",
    "    positive_samples = SamplingDataset(\n",
    "        train, concern, num_samples // 2, num_labels, True, 4, device=device, resample=False, seed=seed\n",
    "    )\n",
    "    negative_samples = SamplingDataset(\n",
    "        train, concern, num_samples // 2, num_labels, False, 4, device=device, resample=False, seed=seed\n",
    "    )\n",
    "    all_samples = SamplingDataset(\n",
    "        train, 200, num_samples // 2, num_labels, False, 4, device=device, resample=False, seed=seed\n",
    "    )\n",
    "\n",
    "    module = copy.deepcopy(model)\n",
    "\n",
    "    prune_concern_identification(\n",
    "        module,\n",
    "        model_config,\n",
    "        positive_samples,\n",
    "        negative_samples,\n",
    "        include_layers=include_layers,\n",
    "        exclude_layers=exclude_layers,\n",
    "        sparsity_ratio=ci_ratio,\n",
    "    )\n",
    "\n",
    "    print(f\"Evaluate the pruned model {concern}\")\n",
    "    result = evaluate_model(module, model_config, test_dataloader)\n",
    "    get_sparsity(module)\n",
    "\n",
    "    similar(model, module, valid, concern, num_samples, num_labels, device=device, seed=seed)\n",
    "\n",
    "    # save_module(module, \"Modules/\", f\"ci_{name}_{ci_ratio}p.pt\")"
   ]
  }
 ],
 "metadata": {
  "kernelspec": {
   "display_name": "Python 3 (ipykernel)",
   "language": "python",
   "name": "python3"
  },
  "language_info": {
   "codemirror_mode": {
    "name": "ipython",
    "version": 3
   },
   "file_extension": ".py",
   "mimetype": "text/x-python",
   "name": "python",
   "nbconvert_exporter": "python",
   "pygments_lexer": "ipython3",
   "version": "3.8.19"
  },
  "papermill": {
   "default_parameters": {},
   "duration": null,
   "end_time": null,
   "environment_variables": {},
   "exception": null,
   "input_path": "Getting_Started\\ipynb\\Pruned by CI\\Yahoo\\Prune by CI(40%).ipynb",
   "output_path": "Getting_Started\\ipynb\\Pruned by CI\\Yahoo\\Prune by CI(40%).ipynb",
   "parameters": {},
   "start_time": "2024-08-23T22:54:18.019455",
   "version": "2.6.0"
  }
 },
 "nbformat": 4,
 "nbformat_minor": 5
}
