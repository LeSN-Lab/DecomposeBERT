{
 "cells": [
  {
   "cell_type": "code",
   "execution_count": 1,
   "id": "75f3459d-aaad-4b51-b4c8-4ec84ed5fe86",
   "metadata": {},
   "outputs": [],
   "source": [
    "import os\n",
    "import sys\n",
    "sys.path.append(\"../../../../\")\n",
    "os.environ[\"TOKENIZERS_PARALLELISM\"] = \"false\""
   ]
  },
  {
   "cell_type": "code",
   "execution_count": 2,
   "id": "cf1e90f7-63e9-419e-955b-4b8375d0b590",
   "metadata": {},
   "outputs": [],
   "source": [
    "import copy\n",
    "import torch\n",
    "from datetime import datetime\n",
    "from utils.helper import ModelConfig, color_print\n",
    "from utils.dataset_utils.load_dataset import (\n",
    "    load_data,\n",
    ")\n",
    "from utils.model_utils.load_model import load_model\n",
    "from utils.model_utils.save_module import save_module\n",
    "from utils.model_utils.evaluate import evaluate_model, get_sparsity, similar\n",
    "from utils.dataset_utils.sampling import SamplingDataset\n",
    "from utils.prune_utils.prune import (\n",
    "    prune_concern_identification,\n",
    "    recover_tangling_identification,\n",
    ")"
   ]
  },
  {
   "cell_type": "code",
   "execution_count": 3,
   "id": "a1362c6b-9864-4304-9738-577a2e695918",
   "metadata": {},
   "outputs": [],
   "source": [
    "name = \"IMDB\"\n",
    "device = torch.device(\"cuda:0\")\n",
    "checkpoint = None\n",
    "batch_size=16\n",
    "num_workers=4\n",
    "num_samples=4\n",
    "ci_ratio=0.3\n",
    "seed=44\n",
    "include_layers=[\"attention\", \"intermediate\", \"output\"]\n",
    "exclude_layers=None"
   ]
  },
  {
   "cell_type": "code",
   "execution_count": null,
   "id": "5486586b-16d5-41a6-90ff-06263855bef8",
   "metadata": {},
   "outputs": [],
   "source": [
    "script_start_time = datetime.now()\n",
    "print(f\"Script started at: {script_start_time.strftime('%Y-%m-%d %H:%M:%S')}\")"
   ]
  },
  {
   "cell_type": "code",
   "execution_count": 4,
   "id": "bd934130-953b-4ea6-b607-28213f803299",
   "metadata": {},
   "outputs": [
    {
     "name": "stdout",
     "output_type": "stream",
     "text": [
      "Loading the model.\n",
      "{'model_name': 'sadickam/sdg-classification-bert', 'task_type': 'classification', 'architectures': 'bert', 'dataset_name': 'OSDG', 'num_labels': 16, 'cache_dir': 'Models'}\n",
      "The model sadickam/sdg-classification-bert is loaded.\n"
     ]
    }
   ],
   "source": [
    "model_config = ModelConfig(name, device)\n",
    "num_labels = model_config.config[\"num_labels\"]\n",
    "model, tokenizer, checkpoint = load_model(model_config)"
   ]
  },
  {
   "cell_type": "code",
   "execution_count": 5,
   "id": "570bb960-f2fb-4eca-bf55-7963c144af33",
   "metadata": {},
   "outputs": [],
   "source": [
    "# print(\"Evaluate the original model\")\n",
    "# result = evaluate_model(model, model_config, test_dataloader)"
   ]
  },
  {
   "cell_type": "code",
   "execution_count": 6,
   "id": "1bf059d8-34b1-4497-af84-ddf8732de9b1",
   "metadata": {},
   "outputs": [],
   "source": ""
  },
  {
   "cell_type": "code",
   "execution_count": null,
   "id": "793a48a1-206d-4f4e-9149-eb88d53f5f88",
   "metadata": {},
   "outputs": [
    {
     "name": "stdout",
     "output_type": "stream",
     "text": [
      "{'dataset_name': 'OSDG', 'path': 'albertmartinez/OSDG', 'config_name': '2024-01-01', 'text_column': 'text', 'label_column': 'labels', 'cache_dir': 'Datasets/OSDG', 'task_type': 'classification'}\n",
      "Loading cached dataset OSDG.\n",
      "The dataset OSDG is loaded\n",
      "Evaluate the pruned model 0\n"
     ]
    },
    {
     "name": "stderr",
     "output_type": "stream",
     "text": [
      "Evaluating: 100%|?��?��?��?��?��?��?��?��?��?��| 200/200 [01:51<00:00,  1.79it/s]\n"
     ]
    },
    {
     "name": "stdout",
     "output_type": "stream",
     "text": [
      "Loss: 0.9423\n",
      "Precision: 0.7781, Recall: 0.7828, F1-Score: 0.7762\n",
      "              precision    recall  f1-score   support\n",
      "\n",
      "           0       0.76      0.66      0.71       797\n",
      "           1       0.85      0.71      0.77       775\n",
      "           2       0.88      0.87      0.87       795\n",
      "           3       0.87      0.83      0.85      1110\n",
      "           4       0.86      0.80      0.83      1260\n",
      "           5       0.89      0.68      0.77       882\n",
      "           6       0.86      0.80      0.83       940\n",
      "           7       0.48      0.60      0.53       473\n",
      "           8       0.66      0.85      0.74       746\n",
      "           9       0.59      0.73      0.66       689\n",
      "          10       0.76      0.78      0.77       670\n",
      "          11       0.62      0.80      0.70       312\n",
      "          12       0.71      0.82      0.76       665\n",
      "          13       0.85      0.84      0.85       314\n",
      "          14       0.85      0.78      0.81       756\n",
      "          15       0.97      0.97      0.97      1607\n",
      "\n",
      "    accuracy                           0.80     12791\n",
      "   macro avg       0.78      0.78      0.78     12791\n",
      "weighted avg       0.81      0.80      0.80     12791\n",
      "\n",
      "adding eps to diagonal and taking inverse\n",
      "taking square root\n",
      "dot products...\n",
      "trying to take final svd\n",
      "computed everything!\n",
      "adding eps to diagonal and taking inverse\n",
      "taking square root\n",
      "dot products...\n",
      "trying to take final svd\n",
      "computed everything!\n",
      "CCA coefficients mean concern: (0.9116273336563522, 0.9116273336563522)\n",
      "CCA coefficients mean non-concern: (0.9133312135774492, 0.9133312135774492)\n",
      "Linear CKA concern: 0.9925865776071386\n",
      "Linear CKA non-concern: 0.9803133941632083\n",
      "Kernel CKA concern: 0.9904645793458655\n",
      "Kernel CKA non-concern: 0.9802086299649748\n",
      "{'dataset_name': 'OSDG', 'path': 'albertmartinez/OSDG', 'config_name': '2024-01-01', 'text_column': 'text', 'label_column': 'labels', 'cache_dir': 'Datasets/OSDG', 'task_type': 'classification'}\n",
      "Loading cached dataset OSDG.\n",
      "The dataset OSDG is loaded\n"
     ]
    }
   ],
   "source": [
    "for concern in range(num_labels):\n",
    "    train_dataloader, valid_dataloader, test_dataloader = load_data(\n",
    "    name, batch_size=batch_size, num_workers=num_workers, do_cache=True\n",
    "    )\n",
    "    \n",
    "    positive_samples = SamplingDataset(\n",
    "        train_dataloader, concern, num_samples, num_labels, True, 4, device=device, resample=False, seed=seed\n",
    "    )\n",
    "    negative_samples = SamplingDataset(\n",
    "        train_dataloader, concern, num_samples, num_labels, False, 4, device=device, resample=False, seed=seed\n",
    "    )\n",
    "    all_samples = SamplingDataset(\n",
    "        train_dataloader, 200, num_samples, num_labels, False, 4, device=device, resample=False, seed=seed\n",
    "    )\n",
    "    \n",
    "    module = copy.deepcopy(model)\n",
    "    \n",
    "    prune_concern_identification(\n",
    "        module,\n",
    "        model_config,\n",
    "        positive_samples,\n",
    "        negative_samples,\n",
    "        include_layers=include_layers,\n",
    "        exclude_layers=exclude_layers,\n",
    "        sparsity_ratio=ci_ratio,\n",
    "    )\n",
    "    \n",
    "    print(f\"Evaluate the pruned model {concern}\")\n",
    "    result = evaluate_model(module, model_config, test_dataloader)\n",
    "    get_sparsity(module)\n",
    "    \n",
    "    similar(model, module, valid_dataloader, concern, num_samples, num_labels, device=device, seed=seed)\n",
    "    \n",
    "    # save_module(module, \"Modules/\", f\"ci_{name}_{ci_ratio}p.pt\")"
   ]
  }
 ],
 "metadata": {
  "kernelspec": {
   "display_name": "Python 3 (ipykernel)",
   "language": "python",
   "name": "python3"
  },
  "language_info": {
   "codemirror_mode": {
    "name": "ipython",
    "version": 3
   },
   "file_extension": ".py",
   "mimetype": "text/x-python",
   "name": "python",
   "nbconvert_exporter": "python",
   "pygments_lexer": "ipython3",
   "version": "3.8.19"
  }
 },
 "nbformat": 4,
 "nbformat_minor": 5
}
