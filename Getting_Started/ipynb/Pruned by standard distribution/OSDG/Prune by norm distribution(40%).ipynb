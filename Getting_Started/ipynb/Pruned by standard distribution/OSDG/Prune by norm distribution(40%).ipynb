{
 "cells": [
  {
   "cell_type": "code",
   "execution_count": 1,
   "id": "a012d286-4c23-4ce3-bca7-48e8784a4e99",
   "metadata": {},
   "outputs": [],
   "source": [
    "import copy\n",
    "import os\n",
    "import sys\n",
    "import torch\n",
    "sys.path.append(\"../../../../\")"
   ]
  },
  {
   "cell_type": "code",
   "execution_count": 2,
   "id": "c4fe9358-b240-46af-a443-328d452d5479",
   "metadata": {},
   "outputs": [],
   "source": [
    "import utils\n",
    "from utils.model_utils.load_model import load_model\n",
    "from utils.model_utils.evaluate import evaluate_model, get_sparsity\n",
    "from utils.helper import ModelConfig\n",
    "from utils.dataset_utils.load_dataset import load_data"
   ]
  },
  {
   "cell_type": "code",
   "execution_count": 3,
   "id": "ab12ce62-ad79-4489-82b2-6c9fd46d0ab5",
   "metadata": {},
   "outputs": [],
   "source": [
    "name= \"OSDG\"\n",
    "device = torch.device(\"cuda:0\" if torch.cuda.is_available() else \"cpu\")"
   ]
  },
  {
   "cell_type": "code",
   "execution_count": 4,
   "id": "e3ec124a-9296-4140-b546-a4cd63037450",
   "metadata": {},
   "outputs": [],
   "source": [
    "model_config = ModelConfig(name, device)"
   ]
  },
  {
   "cell_type": "code",
   "execution_count": 5,
   "id": "684d47c5-0741-4990-9017-d42e9d19a50d",
   "metadata": {},
   "outputs": [
    {
     "name": "stdout",
     "output_type": "stream",
     "text": [
      "Loading the model.\n",
      "{'model_name': 'sadickam/sdg-classification-bert', 'task_type': 'classification', 'architectures': 'bert', 'dataset_name': 'OSDG', 'num_labels': 16, 'cache_dir': 'Models'}\n",
      "The model sadickam/sdg-classification-bert is loaded.\n",
      "{'dataset_name': 'OSDG', 'path': 'albertmartinez/OSDG', 'config_name': '2024-01-01', 'text_column': 'text', 'label_column': 'labels', 'cache_dir': 'Datasets/OSDG', 'task_type': 'classification'}\n",
      "Loading cached dataset OSDG.\n",
      "The dataset OSDG is loaded\n"
     ]
    }
   ],
   "source": [
    "model, tokenizer, _ = load_model(model_config)\n",
    "\n",
    "train_dataloader, valid_dataloader, test_dataloader = load_data(\n",
    "        name, batch_size=32\n",
    ")"
   ]
  },
  {
   "cell_type": "code",
   "execution_count": 6,
   "id": "4b398335-521f-42b0-980a-f195c5946323",
   "metadata": {},
   "outputs": [],
   "source": [
    "from utils.prune_utils.prune import prune_norm_distribution"
   ]
  },
  {
   "cell_type": "code",
   "execution_count": 7,
   "id": "69e58031-d710-437d-b8df-8ab120cd98e3",
   "metadata": {},
   "outputs": [],
   "source": [
    "prune_norm_distribution(model, include_layers=[\"attention\", \"intermediate\", \"output\"], sparsity_ratio=0.4)"
   ]
  },
  {
   "cell_type": "code",
   "execution_count": 8,
   "id": "e303c332-20f3-46f4-b7b4-c5d73d74d328",
   "metadata": {},
   "outputs": [
    {
     "name": "stderr",
     "output_type": "stream",
     "text": [
      "Evaluating: 100%|██████████| 200/200 [02:37<00:00,  1.27it/s]\n"
     ]
    },
    {
     "name": "stdout",
     "output_type": "stream",
     "text": [
      "Loss: 0.9370\n",
      "Precision: 0.7743, Recall: 0.7774, F1-Score: 0.7718\n",
      "              precision    recall  f1-score   support\n",
      "\n",
      "           0       0.76      0.65      0.70       797\n",
      "           1       0.84      0.71      0.77       775\n",
      "           2       0.88      0.88      0.88       795\n",
      "           3       0.87      0.81      0.84      1110\n",
      "           4       0.84      0.81      0.82      1260\n",
      "           5       0.89      0.69      0.78       882\n",
      "           6       0.86      0.77      0.81       940\n",
      "           7       0.47      0.56      0.51       473\n",
      "           8       0.66      0.84      0.74       746\n",
      "           9       0.56      0.74      0.64       689\n",
      "          10       0.75      0.78      0.76       670\n",
      "          11       0.69      0.79      0.73       312\n",
      "          12       0.68      0.81      0.74       665\n",
      "          13       0.82      0.86      0.84       314\n",
      "          14       0.85      0.78      0.81       756\n",
      "          15       0.98      0.96      0.97      1607\n",
      "\n",
      "    accuracy                           0.79     12791\n",
      "   macro avg       0.77      0.78      0.77     12791\n",
      "weighted avg       0.81      0.79      0.80     12791\n",
      "\n"
     ]
    }
   ],
   "source": [
    "result = evaluate_model(model, model_config, test_dataloader)"
   ]
  },
  {
   "cell_type": "code",
   "execution_count": 9,
   "id": "9b8c9de7-7fbe-4747-bf2f-53a7f9bd627a",
   "metadata": {},
   "outputs": [
    {
     "data": {
      "text/plain": [
       "(0.3967962647635211,\n",
       " {'bert.encoder.layer.0.attention.self.query.weight': 0.4000006781684028,\n",
       "  'bert.encoder.layer.0.attention.self.query.bias': 0.0,\n",
       "  'bert.encoder.layer.0.attention.self.key.weight': 0.4000006781684028,\n",
       "  'bert.encoder.layer.0.attention.self.key.bias': 0.0,\n",
       "  'bert.encoder.layer.0.attention.self.value.weight': 0.4000006781684028,\n",
       "  'bert.encoder.layer.0.attention.self.value.bias': 0.0,\n",
       "  'bert.encoder.layer.0.attention.output.dense.weight': 0.4000006781684028,\n",
       "  'bert.encoder.layer.0.attention.output.dense.bias': 0.0,\n",
       "  'bert.encoder.layer.0.intermediate.dense.weight': 0.40000025431315106,\n",
       "  'bert.encoder.layer.0.intermediate.dense.bias': 0.0,\n",
       "  'bert.encoder.layer.0.output.dense.weight': 0.40000025431315106,\n",
       "  'bert.encoder.layer.0.output.dense.bias': 0.0,\n",
       "  'bert.encoder.layer.1.attention.self.query.weight': 0.4000006781684028,\n",
       "  'bert.encoder.layer.1.attention.self.query.bias': 0.0,\n",
       "  'bert.encoder.layer.1.attention.self.key.weight': 0.4000006781684028,\n",
       "  'bert.encoder.layer.1.attention.self.key.bias': 0.0,\n",
       "  'bert.encoder.layer.1.attention.self.value.weight': 0.4000006781684028,\n",
       "  'bert.encoder.layer.1.attention.self.value.bias': 0.0,\n",
       "  'bert.encoder.layer.1.attention.output.dense.weight': 0.4000006781684028,\n",
       "  'bert.encoder.layer.1.attention.output.dense.bias': 0.0,\n",
       "  'bert.encoder.layer.1.intermediate.dense.weight': 0.40000025431315106,\n",
       "  'bert.encoder.layer.1.intermediate.dense.bias': 0.0,\n",
       "  'bert.encoder.layer.1.output.dense.weight': 0.40000025431315106,\n",
       "  'bert.encoder.layer.1.output.dense.bias': 0.0,\n",
       "  'bert.encoder.layer.2.attention.self.query.weight': 0.4000006781684028,\n",
       "  'bert.encoder.layer.2.attention.self.query.bias': 0.0,\n",
       "  'bert.encoder.layer.2.attention.self.key.weight': 0.4000006781684028,\n",
       "  'bert.encoder.layer.2.attention.self.key.bias': 0.0,\n",
       "  'bert.encoder.layer.2.attention.self.value.weight': 0.4000006781684028,\n",
       "  'bert.encoder.layer.2.attention.self.value.bias': 0.0,\n",
       "  'bert.encoder.layer.2.attention.output.dense.weight': 0.4000006781684028,\n",
       "  'bert.encoder.layer.2.attention.output.dense.bias': 0.0,\n",
       "  'bert.encoder.layer.2.intermediate.dense.weight': 0.40000025431315106,\n",
       "  'bert.encoder.layer.2.intermediate.dense.bias': 0.0,\n",
       "  'bert.encoder.layer.2.output.dense.weight': 0.40000025431315106,\n",
       "  'bert.encoder.layer.2.output.dense.bias': 0.0,\n",
       "  'bert.encoder.layer.3.attention.self.query.weight': 0.4000006781684028,\n",
       "  'bert.encoder.layer.3.attention.self.query.bias': 0.0,\n",
       "  'bert.encoder.layer.3.attention.self.key.weight': 0.4000006781684028,\n",
       "  'bert.encoder.layer.3.attention.self.key.bias': 0.0,\n",
       "  'bert.encoder.layer.3.attention.self.value.weight': 0.4000006781684028,\n",
       "  'bert.encoder.layer.3.attention.self.value.bias': 0.0,\n",
       "  'bert.encoder.layer.3.attention.output.dense.weight': 0.4000006781684028,\n",
       "  'bert.encoder.layer.3.attention.output.dense.bias': 0.0,\n",
       "  'bert.encoder.layer.3.intermediate.dense.weight': 0.40000025431315106,\n",
       "  'bert.encoder.layer.3.intermediate.dense.bias': 0.0,\n",
       "  'bert.encoder.layer.3.output.dense.weight': 0.39999983045789933,\n",
       "  'bert.encoder.layer.3.output.dense.bias': 0.0,\n",
       "  'bert.encoder.layer.4.attention.self.query.weight': 0.4000006781684028,\n",
       "  'bert.encoder.layer.4.attention.self.query.bias': 0.0,\n",
       "  'bert.encoder.layer.4.attention.self.key.weight': 0.4000006781684028,\n",
       "  'bert.encoder.layer.4.attention.self.key.bias': 0.0,\n",
       "  'bert.encoder.layer.4.attention.self.value.weight': 0.4000006781684028,\n",
       "  'bert.encoder.layer.4.attention.self.value.bias': 0.0,\n",
       "  'bert.encoder.layer.4.attention.output.dense.weight': 0.4000006781684028,\n",
       "  'bert.encoder.layer.4.attention.output.dense.bias': 0.0,\n",
       "  'bert.encoder.layer.4.intermediate.dense.weight': 0.40000025431315106,\n",
       "  'bert.encoder.layer.4.intermediate.dense.bias': 0.0,\n",
       "  'bert.encoder.layer.4.output.dense.weight': 0.40000025431315106,\n",
       "  'bert.encoder.layer.4.output.dense.bias': 0.0,\n",
       "  'bert.encoder.layer.5.attention.self.query.weight': 0.4000006781684028,\n",
       "  'bert.encoder.layer.5.attention.self.query.bias': 0.0,\n",
       "  'bert.encoder.layer.5.attention.self.key.weight': 0.4000006781684028,\n",
       "  'bert.encoder.layer.5.attention.self.key.bias': 0.0,\n",
       "  'bert.encoder.layer.5.attention.self.value.weight': 0.4000006781684028,\n",
       "  'bert.encoder.layer.5.attention.self.value.bias': 0.0,\n",
       "  'bert.encoder.layer.5.attention.output.dense.weight': 0.4000006781684028,\n",
       "  'bert.encoder.layer.5.attention.output.dense.bias': 0.0,\n",
       "  'bert.encoder.layer.5.intermediate.dense.weight': 0.40000025431315106,\n",
       "  'bert.encoder.layer.5.intermediate.dense.bias': 0.0,\n",
       "  'bert.encoder.layer.5.output.dense.weight': 0.40000025431315106,\n",
       "  'bert.encoder.layer.5.output.dense.bias': 0.0,\n",
       "  'bert.encoder.layer.6.attention.self.query.weight': 0.4000006781684028,\n",
       "  'bert.encoder.layer.6.attention.self.query.bias': 0.0,\n",
       "  'bert.encoder.layer.6.attention.self.key.weight': 0.4000006781684028,\n",
       "  'bert.encoder.layer.6.attention.self.key.bias': 0.0,\n",
       "  'bert.encoder.layer.6.attention.self.value.weight': 0.4000006781684028,\n",
       "  'bert.encoder.layer.6.attention.self.value.bias': 0.0,\n",
       "  'bert.encoder.layer.6.attention.output.dense.weight': 0.4000006781684028,\n",
       "  'bert.encoder.layer.6.attention.output.dense.bias': 0.0,\n",
       "  'bert.encoder.layer.6.intermediate.dense.weight': 0.40000025431315106,\n",
       "  'bert.encoder.layer.6.intermediate.dense.bias': 0.0,\n",
       "  'bert.encoder.layer.6.output.dense.weight': 0.40000025431315106,\n",
       "  'bert.encoder.layer.6.output.dense.bias': 0.0,\n",
       "  'bert.encoder.layer.7.attention.self.query.weight': 0.4000006781684028,\n",
       "  'bert.encoder.layer.7.attention.self.query.bias': 0.0,\n",
       "  'bert.encoder.layer.7.attention.self.key.weight': 0.4000006781684028,\n",
       "  'bert.encoder.layer.7.attention.self.key.bias': 0.0,\n",
       "  'bert.encoder.layer.7.attention.self.value.weight': 0.4000006781684028,\n",
       "  'bert.encoder.layer.7.attention.self.value.bias': 0.0,\n",
       "  'bert.encoder.layer.7.attention.output.dense.weight': 0.3999989827473958,\n",
       "  'bert.encoder.layer.7.attention.output.dense.bias': 0.0,\n",
       "  'bert.encoder.layer.7.intermediate.dense.weight': 0.40000025431315106,\n",
       "  'bert.encoder.layer.7.intermediate.dense.bias': 0.0,\n",
       "  'bert.encoder.layer.7.output.dense.weight': 0.40000025431315106,\n",
       "  'bert.encoder.layer.7.output.dense.bias': 0.0,\n",
       "  'bert.encoder.layer.8.attention.self.query.weight': 0.4000006781684028,\n",
       "  'bert.encoder.layer.8.attention.self.query.bias': 0.0,\n",
       "  'bert.encoder.layer.8.attention.self.key.weight': 0.4000006781684028,\n",
       "  'bert.encoder.layer.8.attention.self.key.bias': 0.0,\n",
       "  'bert.encoder.layer.8.attention.self.value.weight': 0.4000006781684028,\n",
       "  'bert.encoder.layer.8.attention.self.value.bias': 0.0,\n",
       "  'bert.encoder.layer.8.attention.output.dense.weight': 0.4000006781684028,\n",
       "  'bert.encoder.layer.8.attention.output.dense.bias': 0.0,\n",
       "  'bert.encoder.layer.8.intermediate.dense.weight': 0.40000025431315106,\n",
       "  'bert.encoder.layer.8.intermediate.dense.bias': 0.0,\n",
       "  'bert.encoder.layer.8.output.dense.weight': 0.40000025431315106,\n",
       "  'bert.encoder.layer.8.output.dense.bias': 0.0,\n",
       "  'bert.encoder.layer.9.attention.self.query.weight': 0.4000006781684028,\n",
       "  'bert.encoder.layer.9.attention.self.query.bias': 0.0,\n",
       "  'bert.encoder.layer.9.attention.self.key.weight': 0.4000006781684028,\n",
       "  'bert.encoder.layer.9.attention.self.key.bias': 0.0,\n",
       "  'bert.encoder.layer.9.attention.self.value.weight': 0.4000006781684028,\n",
       "  'bert.encoder.layer.9.attention.self.value.bias': 0.0,\n",
       "  'bert.encoder.layer.9.attention.output.dense.weight': 0.4000006781684028,\n",
       "  'bert.encoder.layer.9.attention.output.dense.bias': 0.0,\n",
       "  'bert.encoder.layer.9.intermediate.dense.weight': 0.40000025431315106,\n",
       "  'bert.encoder.layer.9.intermediate.dense.bias': 0.0,\n",
       "  'bert.encoder.layer.9.output.dense.weight': 0.40000025431315106,\n",
       "  'bert.encoder.layer.9.output.dense.bias': 0.0,\n",
       "  'bert.encoder.layer.10.attention.self.query.weight': 0.4000006781684028,\n",
       "  'bert.encoder.layer.10.attention.self.query.bias': 0.0,\n",
       "  'bert.encoder.layer.10.attention.self.key.weight': 0.4000006781684028,\n",
       "  'bert.encoder.layer.10.attention.self.key.bias': 0.0,\n",
       "  'bert.encoder.layer.10.attention.self.value.weight': 0.4000006781684028,\n",
       "  'bert.encoder.layer.10.attention.self.value.bias': 0.0,\n",
       "  'bert.encoder.layer.10.attention.output.dense.weight': 0.4000006781684028,\n",
       "  'bert.encoder.layer.10.attention.output.dense.bias': 0.0,\n",
       "  'bert.encoder.layer.10.intermediate.dense.weight': 0.39999983045789933,\n",
       "  'bert.encoder.layer.10.intermediate.dense.bias': 0.0,\n",
       "  'bert.encoder.layer.10.output.dense.weight': 0.40000025431315106,\n",
       "  'bert.encoder.layer.10.output.dense.bias': 0.0,\n",
       "  'bert.encoder.layer.11.attention.self.query.weight': 0.4000006781684028,\n",
       "  'bert.encoder.layer.11.attention.self.query.bias': 0.0,\n",
       "  'bert.encoder.layer.11.attention.self.key.weight': 0.4000006781684028,\n",
       "  'bert.encoder.layer.11.attention.self.key.bias': 0.0,\n",
       "  'bert.encoder.layer.11.attention.self.value.weight': 0.4000006781684028,\n",
       "  'bert.encoder.layer.11.attention.self.value.bias': 0.0,\n",
       "  'bert.encoder.layer.11.attention.output.dense.weight': 0.4000006781684028,\n",
       "  'bert.encoder.layer.11.attention.output.dense.bias': 0.0,\n",
       "  'bert.encoder.layer.11.intermediate.dense.weight': 0.40000025431315106,\n",
       "  'bert.encoder.layer.11.intermediate.dense.bias': 0.0,\n",
       "  'bert.encoder.layer.11.output.dense.weight': 0.40000025431315106,\n",
       "  'bert.encoder.layer.11.output.dense.bias': 0.0,\n",
       "  'bert.pooler.dense.weight': 0.0,\n",
       "  'bert.pooler.dense.bias': 0.0,\n",
       "  'classifier.weight': 0.0,\n",
       "  'classifier.bias': 0.0})"
      ]
     },
     "execution_count": 9,
     "metadata": {},
     "output_type": "execute_result"
    }
   ],
   "source": [
    "get_sparsity(model)"
   ]
  }
 ],
 "metadata": {
  "kernelspec": {
   "display_name": "Python 3 (ipykernel)",
   "language": "python",
   "name": "python3"
  },
  "language_info": {
   "codemirror_mode": {
    "name": "ipython",
    "version": 3
   },
   "file_extension": ".py",
   "mimetype": "text/x-python",
   "name": "python",
   "nbconvert_exporter": "python",
   "pygments_lexer": "ipython3",
   "version": "3.8.19"
  }
 },
 "nbformat": 4,
 "nbformat_minor": 5
}
