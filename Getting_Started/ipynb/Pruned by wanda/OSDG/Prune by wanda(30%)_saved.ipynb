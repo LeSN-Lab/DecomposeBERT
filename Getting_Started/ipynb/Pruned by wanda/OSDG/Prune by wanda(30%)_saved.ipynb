{
  "cells": [
    {
      "cell_type": "code",
      "execution_count": 1,
      "id": "1e774c0d-6a12-4e09-83b7-52c6be4f5eea",
      "metadata": {
        "editable": true,
        "execution": {
          "iopub.execute_input": "2024-08-19T05:36:43.500293Z",
          "iopub.status.busy": "2024-08-19T05:36:43.499624Z",
          "iopub.status.idle": "2024-08-19T05:36:43.513142Z",
          "shell.execute_reply": "2024-08-19T05:36:43.511928Z"
        },
        "papermill": {
          "duration": 0.024723,
          "end_time": "2024-08-19T05:36:43.516128",
          "exception": false,
          "start_time": "2024-08-19T05:36:43.491405",
          "status": "completed"
        },
        "slideshow": {
          "slide_type": ""
        },
        "tags": []
      },
      "outputs": [],
      "source": [
        "import os\n",
        "import sys\n",
        "sys.path.append(\"../../../../\")\n",
        "os.environ[\"TOKENIZERS_PARALLELISM\"] = \"false\""
      ]
    },
    {
      "cell_type": "code",
      "execution_count": 2,
      "id": "b787f031-cd94-47d7-8f3d-a36a6c772eeb",
      "metadata": {
        "execution": {
          "iopub.execute_input": "2024-08-19T05:36:43.528007Z",
          "iopub.status.busy": "2024-08-19T05:36:43.527550Z",
          "iopub.status.idle": "2024-08-19T05:36:45.033918Z",
          "shell.execute_reply": "2024-08-19T05:36:45.032996Z"
        },
        "papermill": {
          "duration": 1.516542,
          "end_time": "2024-08-19T05:36:45.037929",
          "exception": false,
          "start_time": "2024-08-19T05:36:43.521387",
          "status": "completed"
        },
        "tags": []
      },
      "outputs": [],
      "source": [
        "import copy\n",
        "import torch\n",
        "from datetime import datetime\n",
        "from utils.helper import ModelConfig, color_print\n",
        "from utils.dataset_utils.load_dataset import (\n",
        "    load_data,\n",
        ")\n",
        "from utils.model_utils.save_module import save_module\n",
        "from utils.model_utils.load_model import load_model\n",
        "from utils.model_utils.evaluate import evaluate_model, get_sparsity, similar\n",
        "from utils.dataset_utils.sampling import SamplingDataset\n",
        "from utils.prune_utils.prune import (\n",
        "    prune_wanda\n",
        ")"
      ]
    },
    {
      "cell_type": "code",
      "execution_count": 3,
      "id": "e41ca12f-9587-4e99-9e64-895758e0c440",
      "metadata": {
        "execution": {
          "iopub.execute_input": "2024-08-19T05:36:45.053725Z",
          "iopub.status.busy": "2024-08-19T05:36:45.053413Z",
          "iopub.status.idle": "2024-08-19T05:36:45.058149Z",
          "shell.execute_reply": "2024-08-19T05:36:45.057458Z"
        },
        "papermill": {
          "duration": 0.01746,
          "end_time": "2024-08-19T05:36:45.060887",
          "exception": false,
          "start_time": "2024-08-19T05:36:45.043427",
          "status": "completed"
        },
        "tags": []
      },
      "outputs": [],
      "source": [
        "name= \"OSDG\"\n",
        "device = torch.device(\"cuda:0\")\n",
        "checkpoint = None\n",
        "batch_size=32\n",
        "num_workers=48\n",
        "num_samples=16\n",
        "wanda_ratio=0.3\n",
        "seed=44\n",
        "include_layers=[\"attention\", \"intermediate\", \"output\"]\n",
        "exclude_layers=None"
      ]
    },
    {
      "cell_type": "code",
      "execution_count": 4,
      "id": "5ac2f039-28e6-45f9-8641-a25d6ee7fa7c",
      "metadata": {
        "execution": {
          "iopub.execute_input": "2024-08-19T05:36:45.071582Z",
          "iopub.status.busy": "2024-08-19T05:36:45.071441Z",
          "iopub.status.idle": "2024-08-19T05:36:45.076058Z",
          "shell.execute_reply": "2024-08-19T05:36:45.075355Z"
        },
        "papermill": {
          "duration": 0.014838,
          "end_time": "2024-08-19T05:36:45.080525",
          "exception": false,
          "start_time": "2024-08-19T05:36:45.065687",
          "status": "completed"
        },
        "tags": []
      },
      "outputs": [
        {
          "name": "stdout",
          "output_type": "stream",
          "text": [
            "Script started at: 2024-08-19 14:36:45\n"
          ]
        }
      ],
      "source": [
        "script_start_time = datetime.now()\n",
        "print(f\"Script started at: {script_start_time.strftime('%Y-%m-%d %H:%M:%S')}\")"
      ]
    },
    {
      "cell_type": "code",
      "execution_count": 5,
      "id": "d71e362f-ac31-43de-b51f-1cd9a9a388de",
      "metadata": {
        "execution": {
          "iopub.execute_input": "2024-08-19T05:36:45.091853Z",
          "iopub.status.busy": "2024-08-19T05:36:45.091718Z",
          "iopub.status.idle": "2024-08-19T05:36:48.697493Z",
          "shell.execute_reply": "2024-08-19T05:36:48.695696Z"
        },
        "papermill": {
          "duration": 3.615106,
          "end_time": "2024-08-19T05:36:48.700812",
          "exception": false,
          "start_time": "2024-08-19T05:36:45.085706",
          "status": "completed"
        },
        "tags": []
      },
      "outputs": [
        {
          "name": "stdout",
          "output_type": "stream",
          "text": [
            "Loading the model."
          ]
        },
        {
          "name": "stdout",
          "output_type": "stream",
          "text": [
            "\n"
          ]
        },
        {
          "name": "stdout",
          "output_type": "stream",
          "text": [
            "{'model_name': 'sadickam/sdg-classification-bert', 'task_type': 'classification', 'architectures': 'bert', 'dataset_name': 'OSDG', 'num_labels': 16, 'cache_dir': 'Models'}"
          ]
        },
        {
          "name": "stdout",
          "output_type": "stream",
          "text": [
            "\n"
          ]
        },
        {
          "name": "stdout",
          "output_type": "stream",
          "text": [
            "The model sadickam/sdg-classification-bert is loaded."
          ]
        },
        {
          "name": "stdout",
          "output_type": "stream",
          "text": [
            "\n"
          ]
        }
      ],
      "source": [
        "model_config = ModelConfig(name, device)\n",
        "num_labels = model_config.config[\"num_labels\"]\n",
        "model, tokenizer, checkpoint = load_model(model_config)"
      ]
    },
    {
      "cell_type": "code",
      "execution_count": 6,
      "id": "f51b4e6c-5480-42c7-9d62-a05cbd1d4221",
      "metadata": {
        "execution": {
          "iopub.execute_input": "2024-08-19T05:36:48.719752Z",
          "iopub.status.busy": "2024-08-19T05:36:48.718863Z",
          "iopub.status.idle": "2024-08-19T05:36:54.772705Z",
          "shell.execute_reply": "2024-08-19T05:36:54.771102Z"
        },
        "papermill": {
          "duration": 6.068683,
          "end_time": "2024-08-19T05:36:54.776263",
          "exception": false,
          "start_time": "2024-08-19T05:36:48.707580",
          "status": "completed"
        },
        "tags": []
      },
      "outputs": [
        {
          "name": "stdout",
          "output_type": "stream",
          "text": [
            "{'dataset_name': 'OSDG', 'path': 'albertmartinez/OSDG', 'config_name': '2024-01-01', 'text_column': 'text', 'label_column': 'labels', 'cache_dir': 'Datasets/OSDG', 'task_type': 'classification'}"
          ]
        },
        {
          "name": "stdout",
          "output_type": "stream",
          "text": [
            "\n"
          ]
        },
        {
          "name": "stdout",
          "output_type": "stream",
          "text": [
            "Loading cached dataset OSDG."
          ]
        },
        {
          "name": "stdout",
          "output_type": "stream",
          "text": [
            "\n"
          ]
        },
        {
          "name": "stdout",
          "output_type": "stream",
          "text": [
            "The dataset OSDG is loaded"
          ]
        },
        {
          "name": "stdout",
          "output_type": "stream",
          "text": [
            "\n"
          ]
        }
      ],
      "source": [
        "train_dataloader, valid_dataloader, test_dataloader = load_data(\n",
        "    name, batch_size=batch_size, num_workers=num_workers, do_cache=True, seed=seed\n",
        ")"
      ]
    },
    {
      "cell_type": "code",
      "execution_count": 7,
      "id": "a2a78ba8-1c77-45f0-87f2-90720614723d",
      "metadata": {
        "execution": {
          "iopub.execute_input": "2024-08-19T05:36:54.793626Z",
          "iopub.status.busy": "2024-08-19T05:36:54.793445Z",
          "iopub.status.idle": "2024-08-19T05:36:54.801475Z",
          "shell.execute_reply": "2024-08-19T05:36:54.799987Z"
        },
        "papermill": {
          "duration": 0.021711,
          "end_time": "2024-08-19T05:36:54.805018",
          "exception": false,
          "start_time": "2024-08-19T05:36:54.783307",
          "status": "completed"
        },
        "tags": []
      },
      "outputs": [],
      "source": [
        "all_samples = SamplingDataset(\n",
        "    train_dataloader, 200, num_samples, num_labels, False, 4, device=device, resample=False, seed=seed\n",
        ")"
      ]
    },
    {
      "cell_type": "code",
      "execution_count": 8,
      "id": "bccd31bf-6e15-4b28-b96d-cb60a955c037",
      "metadata": {
        "execution": {
          "iopub.execute_input": "2024-08-19T05:36:54.819413Z",
          "iopub.status.busy": "2024-08-19T05:36:54.819160Z",
          "iopub.status.idle": "2024-08-19T05:36:54.824446Z",
          "shell.execute_reply": "2024-08-19T05:36:54.823025Z"
        },
        "papermill": {
          "duration": 0.016451,
          "end_time": "2024-08-19T05:36:54.827970",
          "exception": false,
          "start_time": "2024-08-19T05:36:54.811519",
          "status": "completed"
        },
        "tags": []
      },
      "outputs": [],
      "source": [
        "# print(\"Evaluate the original model\")\n",
        "# result = evaluate_model(model, model_config, test_dataloader)"
      ]
    },
    {
      "cell_type": "code",
      "execution_count": 9,
      "id": "83d92e9b-8917-4e8d-9a34-71984ff985cd",
      "metadata": {
        "execution": {
          "iopub.execute_input": "2024-08-19T05:36:54.842805Z",
          "iopub.status.busy": "2024-08-19T05:36:54.842561Z",
          "iopub.status.idle": "2024-08-19T05:36:54.848470Z",
          "shell.execute_reply": "2024-08-19T05:36:54.847072Z"
        },
        "papermill": {
          "duration": 0.017208,
          "end_time": "2024-08-19T05:36:54.852006",
          "exception": false,
          "start_time": "2024-08-19T05:36:54.834798",
          "status": "completed"
        },
        "tags": []
      },
      "outputs": [],
      "source": [
        "# Evaluate the original model\n",
        "# Evaluating: 100%|?��?��?��?��?��?��?��?��?��?��?��?��?��?��?��?��?��?��?��?��?��?��?��?��?��?��?��?��?��?��?��?��?��?��?��?��?��?��?��?��?��?��?��?��?��?��?��?��?��?��?��?��?��?��?��?��?��?��?��?��?��?��?��?��?��?��?��?��?��| 200/200 [03:16<00:00,  1.02it/s]\n",
        "# Loss: 0.9485\n",
        "# Precision: 0.7801, Recall: 0.7867, F1-Score: 0.7793\n",
        "#               precision    recall  f1-score   support\n",
        "\n",
        "#            0       0.77      0.66      0.71       797\n",
        "#            1       0.84      0.72      0.78       775\n",
        "#            2       0.88      0.87      0.88       795\n",
        "#            3       0.87      0.83      0.85      1110\n",
        "#            4       0.86      0.80      0.83      1260\n",
        "#            5       0.88      0.69      0.77       882\n",
        "#            6       0.85      0.80      0.83       940\n",
        "#            7       0.49      0.61      0.54       473\n",
        "#            8       0.66      0.85      0.74       746\n",
        "#            9       0.62      0.73      0.67       689\n",
        "#           10       0.75      0.79      0.77       670\n",
        "#           11       0.62      0.81      0.70       312\n",
        "#           12       0.73      0.81      0.77       665\n",
        "#           13       0.83      0.85      0.84       314\n",
        "#           14       0.85      0.78      0.81       756\n",
        "#           15       0.97      0.98      0.97      1607\n",
        "\n",
        "#     accuracy                           0.80     12791\n",
        "#    macro avg       0.78      0.79      0.78     12791\n",
        "# weighted avg       0.81      0.80      0.80     12791"
      ]
    },
    {
      "cell_type": "code",
      "execution_count": 10,
      "id": "a6d8bf19-3d3b-4ef7-a3d0-7d89ffb31790",
      "metadata": {
        "execution": {
          "iopub.execute_input": "2024-08-19T05:36:54.866724Z",
          "iopub.status.busy": "2024-08-19T05:36:54.866275Z",
          "iopub.status.idle": "2024-08-19T05:39:50.073161Z",
          "shell.execute_reply": "2024-08-19T05:39:50.072146Z"
        },
        "papermill": {
          "duration": 175.217783,
          "end_time": "2024-08-19T05:39:50.076398",
          "exception": false,
          "start_time": "2024-08-19T05:36:54.858615",
          "status": "completed"
        },
        "tags": []
      },
      "outputs": [
        {
          "name": "stdout",
          "output_type": "stream",
          "text": [
            "Evaluate the pruned model"
          ]
        },
        {
          "name": "stdout",
          "output_type": "stream",
          "text": [
            "\n"
          ]
        },
        {
          "name": "stderr",
          "output_type": "stream",
          "text": [
            "\r",
            "Evaluating:   0%|          | 0/200 [00:00<?, ?it/s]"
          ]
        },
        {
          "name": "stderr",
          "output_type": "stream",
          "text": [
            "\r",
            "Evaluating:   0%|          | 1/200 [00:00<01:59,  1.67it/s]"
          ]
        },
        {
          "name": "stderr",
          "output_type": "stream",
          "text": [
            "\r",
            "Evaluating:   1%|          | 2/200 [00:01<01:38,  2.01it/s]"
          ]
        },
        {
          "name": "stderr",
          "output_type": "stream",
          "text": [
            "\r",
            "Evaluating:   2%|?��         | 3/200 [00:01<01:31,  2.14it/s]"
          ]
        },
        {
          "name": "stderr",
          "output_type": "stream",
          "text": [
            "\r",
            "Evaluating:   2%|?��         | 4/200 [00:01<01:28,  2.22it/s]"
          ]
        },
        {
          "name": "stderr",
          "output_type": "stream",
          "text": [
            "\r",
            "Evaluating:   2%|?��         | 5/200 [00:02<01:26,  2.25it/s]"
          ]
        },
        {
          "name": "stderr",
          "output_type": "stream",
          "text": [
            "\r",
            "Evaluating:   3%|?��         | 6/200 [00:02<01:25,  2.28it/s]"
          ]
        },
        {
          "name": "stderr",
          "output_type": "stream",
          "text": [
            "\r",
            "Evaluating:   4%|?��         | 7/200 [00:03<01:24,  2.29it/s]"
          ]
        },
        {
          "name": "stderr",
          "output_type": "stream",
          "text": [
            "\r",
            "Evaluating:   4%|?��         | 8/200 [00:03<01:23,  2.30it/s]"
          ]
        },
        {
          "name": "stderr",
          "output_type": "stream",
          "text": [
            "\r",
            "Evaluating:   4%|?��         | 9/200 [00:04<01:22,  2.31it/s]"
          ]
        },
        {
          "name": "stderr",
          "output_type": "stream",
          "text": [
            "\r",
            "Evaluating:   5%|?��         | 10/200 [00:04<01:22,  2.31it/s]"
          ]
        },
        {
          "name": "stderr",
          "output_type": "stream",
          "text": [
            "\r",
            "Evaluating:   6%|?��         | 11/200 [00:04<01:21,  2.32it/s]"
          ]
        },
        {
          "name": "stderr",
          "output_type": "stream",
          "text": [
            "\r",
            "Evaluating:   6%|?��         | 12/200 [00:05<01:21,  2.32it/s]"
          ]
        },
        {
          "name": "stderr",
          "output_type": "stream",
          "text": [
            "\r",
            "Evaluating:   6%|?��         | 13/200 [00:05<01:20,  2.31it/s]"
          ]
        },
        {
          "name": "stderr",
          "output_type": "stream",
          "text": [
            "\r",
            "Evaluating:   7%|?��         | 14/200 [00:06<01:20,  2.31it/s]"
          ]
        },
        {
          "name": "stderr",
          "output_type": "stream",
          "text": [
            "\r",
            "Evaluating:   8%|?��         | 15/200 [00:06<01:20,  2.31it/s]"
          ]
        },
        {
          "name": "stderr",
          "output_type": "stream",
          "text": [
            "\r",
            "Evaluating:   8%|?��         | 16/200 [00:07<01:19,  2.31it/s]"
          ]
        },
        {
          "name": "stderr",
          "output_type": "stream",
          "text": [
            "\r",
            "Evaluating:   8%|?��         | 17/200 [00:07<01:19,  2.31it/s]"
          ]
        },
        {
          "name": "stderr",
          "output_type": "stream",
          "text": [
            "\r",
            "Evaluating:   9%|?��         | 18/200 [00:07<01:18,  2.31it/s]"
          ]
        },
        {
          "name": "stderr",
          "output_type": "stream",
          "text": [
            "\r",
            "Evaluating:  10%|?��         | 19/200 [00:08<01:18,  2.31it/s]"
          ]
        },
        {
          "name": "stderr",
          "output_type": "stream",
          "text": [
            "\r",
            "Evaluating:  10%|?��         | 20/200 [00:08<01:18,  2.30it/s]"
          ]
        },
        {
          "name": "stderr",
          "output_type": "stream",
          "text": [
            "\r",
            "Evaluating:  10%|?��         | 21/200 [00:09<01:17,  2.30it/s]"
          ]
        },
        {
          "name": "stderr",
          "output_type": "stream",
          "text": [
            "\r",
            "Evaluating:  11%|?��         | 22/200 [00:09<01:17,  2.30it/s]"
          ]
        },
        {
          "name": "stderr",
          "output_type": "stream",
          "text": [
            "\r",
            "Evaluating:  12%|?��?��        | 23/200 [00:10<01:16,  2.30it/s]"
          ]
        },
        {
          "name": "stderr",
          "output_type": "stream",
          "text": [
            "\r",
            "Evaluating:  12%|?��?��        | 24/200 [00:10<01:16,  2.30it/s]"
          ]
        },
        {
          "name": "stderr",
          "output_type": "stream",
          "text": [
            "\r",
            "Evaluating:  12%|?��?��        | 25/200 [00:10<01:16,  2.29it/s]"
          ]
        },
        {
          "name": "stderr",
          "output_type": "stream",
          "text": [
            "\r",
            "Evaluating:  13%|?��?��        | 26/200 [00:11<01:16,  2.28it/s]"
          ]
        },
        {
          "name": "stderr",
          "output_type": "stream",
          "text": [
            "\r",
            "Evaluating:  14%|?��?��        | 27/200 [00:11<01:16,  2.26it/s]"
          ]
        },
        {
          "name": "stderr",
          "output_type": "stream",
          "text": [
            "\r",
            "Evaluating:  14%|?��?��        | 28/200 [00:12<01:17,  2.22it/s]"
          ]
        },
        {
          "name": "stderr",
          "output_type": "stream",
          "text": [
            "\r",
            "Evaluating:  14%|?��?��        | 29/200 [00:12<01:19,  2.16it/s]"
          ]
        },
        {
          "name": "stderr",
          "output_type": "stream",
          "text": [
            "\r",
            "Evaluating:  15%|?��?��        | 30/200 [00:13<01:21,  2.09it/s]"
          ]
        },
        {
          "name": "stderr",
          "output_type": "stream",
          "text": [
            "\r",
            "Evaluating:  16%|?��?��        | 31/200 [00:13<01:23,  2.03it/s]"
          ]
        },
        {
          "name": "stderr",
          "output_type": "stream",
          "text": [
            "\r",
            "Evaluating:  16%|?��?��        | 32/200 [00:14<01:24,  1.98it/s]"
          ]
        },
        {
          "name": "stderr",
          "output_type": "stream",
          "text": [
            "\r",
            "Evaluating:  16%|?��?��        | 33/200 [00:14<01:28,  1.88it/s]"
          ]
        },
        {
          "name": "stderr",
          "output_type": "stream",
          "text": [
            "\r",
            "Evaluating:  17%|?��?��        | 34/200 [00:15<01:34,  1.75it/s]"
          ]
        },
        {
          "name": "stderr",
          "output_type": "stream",
          "text": [
            "\r",
            "Evaluating:  18%|?��?��        | 35/200 [00:16<01:38,  1.68it/s]"
          ]
        },
        {
          "name": "stderr",
          "output_type": "stream",
          "text": [
            "\r",
            "Evaluating:  18%|?��?��        | 36/200 [00:16<01:40,  1.63it/s]"
          ]
        },
        {
          "name": "stderr",
          "output_type": "stream",
          "text": [
            "\r",
            "Evaluating:  18%|?��?��        | 37/200 [00:17<01:42,  1.59it/s]"
          ]
        },
        {
          "name": "stderr",
          "output_type": "stream",
          "text": [
            "\r",
            "Evaluating:  19%|?��?��        | 38/200 [00:18<01:43,  1.57it/s]"
          ]
        },
        {
          "name": "stderr",
          "output_type": "stream",
          "text": [
            "\r",
            "Evaluating:  20%|?��?��        | 39/200 [00:18<01:43,  1.55it/s]"
          ]
        },
        {
          "name": "stderr",
          "output_type": "stream",
          "text": [
            "\r",
            "Evaluating:  20%|?��?��        | 40/200 [00:19<01:45,  1.52it/s]"
          ]
        },
        {
          "name": "stderr",
          "output_type": "stream",
          "text": [
            "\r",
            "Evaluating:  20%|?��?��        | 41/200 [00:20<01:46,  1.49it/s]"
          ]
        },
        {
          "name": "stderr",
          "output_type": "stream",
          "text": [
            "\r",
            "Evaluating:  21%|?��?��        | 42/200 [00:21<01:47,  1.47it/s]"
          ]
        },
        {
          "name": "stderr",
          "output_type": "stream",
          "text": [
            "\r",
            "Evaluating:  22%|?��?��?��       | 43/200 [00:21<01:48,  1.44it/s]"
          ]
        },
        {
          "name": "stderr",
          "output_type": "stream",
          "text": [
            "\r",
            "Evaluating:  22%|?��?��?��       | 44/200 [00:22<01:54,  1.36it/s]"
          ]
        },
        {
          "name": "stderr",
          "output_type": "stream",
          "text": [
            "\r",
            "Evaluating:  22%|?��?��?��       | 45/200 [00:23<01:58,  1.31it/s]"
          ]
        },
        {
          "name": "stderr",
          "output_type": "stream",
          "text": [
            "\r",
            "Evaluating:  23%|?��?��?��       | 46/200 [00:24<02:00,  1.28it/s]"
          ]
        },
        {
          "name": "stderr",
          "output_type": "stream",
          "text": [
            "\r",
            "Evaluating:  24%|?��?��?��       | 47/200 [00:25<02:01,  1.26it/s]"
          ]
        },
        {
          "name": "stderr",
          "output_type": "stream",
          "text": [
            "\r",
            "Evaluating:  24%|?��?��?��       | 48/200 [00:25<02:02,  1.24it/s]"
          ]
        },
        {
          "name": "stderr",
          "output_type": "stream",
          "text": [
            "\r",
            "Evaluating:  24%|?��?��?��       | 49/200 [00:26<02:02,  1.23it/s]"
          ]
        },
        {
          "name": "stderr",
          "output_type": "stream",
          "text": [
            "\r",
            "Evaluating:  25%|?��?��?��       | 50/200 [00:27<02:02,  1.22it/s]"
          ]
        },
        {
          "name": "stderr",
          "output_type": "stream",
          "text": [
            "\r",
            "Evaluating:  26%|?��?��?��       | 51/200 [00:28<02:02,  1.22it/s]"
          ]
        },
        {
          "name": "stderr",
          "output_type": "stream",
          "text": [
            "\r",
            "Evaluating:  26%|?��?��?��       | 52/200 [00:29<02:01,  1.22it/s]"
          ]
        },
        {
          "name": "stderr",
          "output_type": "stream",
          "text": [
            "\r",
            "Evaluating:  26%|?��?��?��       | 53/200 [00:30<02:01,  1.21it/s]"
          ]
        },
        {
          "name": "stderr",
          "output_type": "stream",
          "text": [
            "\r",
            "Evaluating:  27%|?��?��?��       | 54/200 [00:30<02:00,  1.21it/s]"
          ]
        },
        {
          "name": "stderr",
          "output_type": "stream",
          "text": [
            "\r",
            "Evaluating:  28%|?��?��?��       | 55/200 [00:31<01:59,  1.21it/s]"
          ]
        },
        {
          "name": "stderr",
          "output_type": "stream",
          "text": [
            "\r",
            "Evaluating:  28%|?��?��?��       | 56/200 [00:32<01:58,  1.21it/s]"
          ]
        },
        {
          "name": "stderr",
          "output_type": "stream",
          "text": [
            "\r",
            "Evaluating:  28%|?��?��?��       | 57/200 [00:33<01:58,  1.21it/s]"
          ]
        },
        {
          "name": "stderr",
          "output_type": "stream",
          "text": [
            "\r",
            "Evaluating:  29%|?��?��?��       | 58/200 [00:34<01:57,  1.21it/s]"
          ]
        },
        {
          "name": "stderr",
          "output_type": "stream",
          "text": [
            "\r",
            "Evaluating:  30%|?��?��?��       | 59/200 [00:35<01:56,  1.21it/s]"
          ]
        },
        {
          "name": "stderr",
          "output_type": "stream",
          "text": [
            "\r",
            "Evaluating:  30%|?��?��?��       | 60/200 [00:35<01:55,  1.21it/s]"
          ]
        },
        {
          "name": "stderr",
          "output_type": "stream",
          "text": [
            "\r",
            "Evaluating:  30%|?��?��?��       | 61/200 [00:36<01:55,  1.21it/s]"
          ]
        },
        {
          "name": "stderr",
          "output_type": "stream",
          "text": [
            "\r",
            "Evaluating:  31%|?��?��?��       | 62/200 [00:37<01:54,  1.21it/s]"
          ]
        },
        {
          "name": "stderr",
          "output_type": "stream",
          "text": [
            "\r",
            "Evaluating:  32%|?��?��?��?��      | 63/200 [00:38<01:53,  1.21it/s]"
          ]
        },
        {
          "name": "stderr",
          "output_type": "stream",
          "text": [
            "\r",
            "Evaluating:  32%|?��?��?��?��      | 64/200 [00:39<01:52,  1.21it/s]"
          ]
        },
        {
          "name": "stderr",
          "output_type": "stream",
          "text": [
            "\r",
            "Evaluating:  32%|?��?��?��?��      | 65/200 [00:39<01:51,  1.21it/s]"
          ]
        },
        {
          "name": "stderr",
          "output_type": "stream",
          "text": [
            "\r",
            "Evaluating:  33%|?��?��?��?��      | 66/200 [00:40<01:50,  1.21it/s]"
          ]
        },
        {
          "name": "stderr",
          "output_type": "stream",
          "text": [
            "\r",
            "Evaluating:  34%|?��?��?��?��      | 67/200 [00:41<01:56,  1.14it/s]"
          ]
        },
        {
          "name": "stderr",
          "output_type": "stream",
          "text": [
            "\r",
            "Evaluating:  34%|?��?��?��?��      | 68/200 [00:42<02:01,  1.08it/s]"
          ]
        },
        {
          "name": "stderr",
          "output_type": "stream",
          "text": [
            "\r",
            "Evaluating:  34%|?��?��?��?��      | 69/200 [00:43<02:04,  1.05it/s]"
          ]
        },
        {
          "name": "stderr",
          "output_type": "stream",
          "text": [
            "\r",
            "Evaluating:  35%|?��?��?��?��      | 70/200 [00:44<02:09,  1.00it/s]"
          ]
        },
        {
          "name": "stderr",
          "output_type": "stream",
          "text": [
            "\r",
            "Evaluating:  36%|?��?��?��?��      | 71/200 [00:45<02:08,  1.00it/s]"
          ]
        },
        {
          "name": "stderr",
          "output_type": "stream",
          "text": [
            "\r",
            "Evaluating:  36%|?��?��?��?��      | 72/200 [00:46<02:08,  1.00s/it]"
          ]
        },
        {
          "name": "stderr",
          "output_type": "stream",
          "text": [
            "\r",
            "Evaluating:  36%|?��?��?��?��      | 73/200 [00:48<02:09,  1.02s/it]"
          ]
        },
        {
          "name": "stderr",
          "output_type": "stream",
          "text": [
            "\r",
            "Evaluating:  37%|?��?��?��?��      | 74/200 [00:49<02:07,  1.01s/it]"
          ]
        },
        {
          "name": "stderr",
          "output_type": "stream",
          "text": [
            "\r",
            "Evaluating:  38%|?��?��?��?��      | 75/200 [00:50<02:06,  1.01s/it]"
          ]
        },
        {
          "name": "stderr",
          "output_type": "stream",
          "text": [
            "\r",
            "Evaluating:  38%|?��?��?��?��      | 76/200 [00:51<02:07,  1.03s/it]"
          ]
        },
        {
          "name": "stderr",
          "output_type": "stream",
          "text": [
            "\r",
            "Evaluating:  38%|?��?��?��?��      | 77/200 [00:52<02:05,  1.02s/it]"
          ]
        },
        {
          "name": "stderr",
          "output_type": "stream",
          "text": [
            "\r",
            "Evaluating:  39%|?��?��?��?��      | 78/200 [00:53<02:04,  1.02s/it]"
          ]
        },
        {
          "name": "stderr",
          "output_type": "stream",
          "text": [
            "\r",
            "Evaluating:  40%|?��?��?��?��      | 79/200 [00:54<02:05,  1.04s/it]"
          ]
        },
        {
          "name": "stderr",
          "output_type": "stream",
          "text": [
            "\r",
            "Evaluating:  40%|?��?��?��?��      | 80/200 [00:55<02:02,  1.02s/it]"
          ]
        },
        {
          "name": "stderr",
          "output_type": "stream",
          "text": [
            "\r",
            "Evaluating:  40%|?��?��?��?��      | 81/200 [00:56<02:00,  1.01s/it]"
          ]
        },
        {
          "name": "stderr",
          "output_type": "stream",
          "text": [
            "\r",
            "Evaluating:  41%|?��?��?��?��      | 82/200 [00:57<01:57,  1.01it/s]"
          ]
        },
        {
          "name": "stderr",
          "output_type": "stream",
          "text": [
            "\r",
            "Evaluating:  42%|?��?��?��?��?��     | 83/200 [00:58<01:54,  1.02it/s]"
          ]
        },
        {
          "name": "stderr",
          "output_type": "stream",
          "text": [
            "\r",
            "Evaluating:  42%|?��?��?��?��?��     | 84/200 [00:59<01:52,  1.04it/s]"
          ]
        },
        {
          "name": "stderr",
          "output_type": "stream",
          "text": [
            "\r",
            "Evaluating:  42%|?��?��?��?��?��     | 85/200 [00:59<01:50,  1.04it/s]"
          ]
        },
        {
          "name": "stderr",
          "output_type": "stream",
          "text": [
            "\r",
            "Evaluating:  43%|?��?��?��?��?��     | 86/200 [01:00<01:48,  1.05it/s]"
          ]
        },
        {
          "name": "stderr",
          "output_type": "stream",
          "text": [
            "\r",
            "Evaluating:  44%|?��?��?��?��?��     | 87/200 [01:01<01:47,  1.05it/s]"
          ]
        },
        {
          "name": "stderr",
          "output_type": "stream",
          "text": [
            "\r",
            "Evaluating:  44%|?��?��?��?��?��     | 88/200 [01:02<01:46,  1.05it/s]"
          ]
        },
        {
          "name": "stderr",
          "output_type": "stream",
          "text": [
            "\r",
            "Evaluating:  44%|?��?��?��?��?��     | 89/200 [01:03<01:44,  1.06it/s]"
          ]
        },
        {
          "name": "stderr",
          "output_type": "stream",
          "text": [
            "\r",
            "Evaluating:  45%|?��?��?��?��?��     | 90/200 [01:04<01:43,  1.06it/s]"
          ]
        },
        {
          "name": "stderr",
          "output_type": "stream",
          "text": [
            "\r",
            "Evaluating:  46%|?��?��?��?��?��     | 91/200 [01:05<01:40,  1.08it/s]"
          ]
        },
        {
          "name": "stderr",
          "output_type": "stream",
          "text": [
            "\r",
            "Evaluating:  46%|?��?��?��?��?��     | 92/200 [01:06<01:38,  1.10it/s]"
          ]
        },
        {
          "name": "stderr",
          "output_type": "stream",
          "text": [
            "\r",
            "Evaluating:  46%|?��?��?��?��?��     | 93/200 [01:07<01:36,  1.11it/s]"
          ]
        },
        {
          "name": "stderr",
          "output_type": "stream",
          "text": [
            "\r",
            "Evaluating:  47%|?��?��?��?��?��     | 94/200 [01:08<01:34,  1.12it/s]"
          ]
        },
        {
          "name": "stderr",
          "output_type": "stream",
          "text": [
            "\r",
            "Evaluating:  48%|?��?��?��?��?��     | 95/200 [01:09<01:33,  1.13it/s]"
          ]
        },
        {
          "name": "stderr",
          "output_type": "stream",
          "text": [
            "\r",
            "Evaluating:  48%|?��?��?��?��?��     | 96/200 [01:09<01:31,  1.13it/s]"
          ]
        },
        {
          "name": "stderr",
          "output_type": "stream",
          "text": [
            "\r",
            "Evaluating:  48%|?��?��?��?��?��     | 97/200 [01:10<01:30,  1.14it/s]"
          ]
        },
        {
          "name": "stderr",
          "output_type": "stream",
          "text": [
            "\r",
            "Evaluating:  49%|?��?��?��?��?��     | 98/200 [01:11<01:29,  1.14it/s]"
          ]
        },
        {
          "name": "stderr",
          "output_type": "stream",
          "text": [
            "\r",
            "Evaluating:  50%|?��?��?��?��?��     | 99/200 [01:12<01:28,  1.14it/s]"
          ]
        },
        {
          "name": "stderr",
          "output_type": "stream",
          "text": [
            "\r",
            "Evaluating:  50%|?��?��?��?��?��     | 100/200 [01:13<01:27,  1.14it/s]"
          ]
        },
        {
          "name": "stderr",
          "output_type": "stream",
          "text": [
            "\r",
            "Evaluating:  50%|?��?��?��?��?��     | 101/200 [01:14<01:26,  1.14it/s]"
          ]
        },
        {
          "name": "stderr",
          "output_type": "stream",
          "text": [
            "\r",
            "Evaluating:  51%|?��?��?��?��?��     | 102/200 [01:15<01:25,  1.14it/s]"
          ]
        },
        {
          "name": "stderr",
          "output_type": "stream",
          "text": [
            "\r",
            "Evaluating:  52%|?��?��?��?��?��?��    | 103/200 [01:16<01:24,  1.14it/s]"
          ]
        },
        {
          "name": "stderr",
          "output_type": "stream",
          "text": [
            "\r",
            "Evaluating:  52%|?��?��?��?��?��?��    | 104/200 [01:16<01:23,  1.14it/s]"
          ]
        },
        {
          "name": "stderr",
          "output_type": "stream",
          "text": [
            "\r",
            "Evaluating:  52%|?��?��?��?��?��?��    | 105/200 [01:17<01:23,  1.14it/s]"
          ]
        },
        {
          "name": "stderr",
          "output_type": "stream",
          "text": [
            "\r",
            "Evaluating:  53%|?��?��?��?��?��?��    | 106/200 [01:18<01:22,  1.14it/s]"
          ]
        },
        {
          "name": "stderr",
          "output_type": "stream",
          "text": [
            "\r",
            "Evaluating:  54%|?��?��?��?��?��?��    | 107/200 [01:19<01:21,  1.15it/s]"
          ]
        },
        {
          "name": "stderr",
          "output_type": "stream",
          "text": [
            "\r",
            "Evaluating:  54%|?��?��?��?��?��?��    | 108/200 [01:20<01:20,  1.15it/s]"
          ]
        },
        {
          "name": "stderr",
          "output_type": "stream",
          "text": [
            "\r",
            "Evaluating:  55%|?��?��?��?��?��?��    | 109/200 [01:21<01:19,  1.15it/s]"
          ]
        },
        {
          "name": "stderr",
          "output_type": "stream",
          "text": [
            "\r",
            "Evaluating:  55%|?��?��?��?��?��?��    | 110/200 [01:22<01:18,  1.15it/s]"
          ]
        },
        {
          "name": "stderr",
          "output_type": "stream",
          "text": [
            "\r",
            "Evaluating:  56%|?��?��?��?��?��?��    | 111/200 [01:23<01:17,  1.15it/s]"
          ]
        },
        {
          "name": "stderr",
          "output_type": "stream",
          "text": [
            "\r",
            "Evaluating:  56%|?��?��?��?��?��?��    | 112/200 [01:23<01:16,  1.15it/s]"
          ]
        },
        {
          "name": "stderr",
          "output_type": "stream",
          "text": [
            "\r",
            "Evaluating:  56%|?��?��?��?��?��?��    | 113/200 [01:24<01:15,  1.15it/s]"
          ]
        },
        {
          "name": "stderr",
          "output_type": "stream",
          "text": [
            "\r",
            "Evaluating:  57%|?��?��?��?��?��?��    | 114/200 [01:25<01:15,  1.15it/s]"
          ]
        },
        {
          "name": "stderr",
          "output_type": "stream",
          "text": [
            "\r",
            "Evaluating:  57%|?��?��?��?��?��?��    | 115/200 [01:26<01:14,  1.14it/s]"
          ]
        },
        {
          "name": "stderr",
          "output_type": "stream",
          "text": [
            "\r",
            "Evaluating:  58%|?��?��?��?��?��?��    | 116/200 [01:27<01:13,  1.14it/s]"
          ]
        },
        {
          "name": "stderr",
          "output_type": "stream",
          "text": [
            "\r",
            "Evaluating:  58%|?��?��?��?��?��?��    | 117/200 [01:28<01:12,  1.14it/s]"
          ]
        },
        {
          "name": "stderr",
          "output_type": "stream",
          "text": [
            "\r",
            "Evaluating:  59%|?��?��?��?��?��?��    | 118/200 [01:29<01:11,  1.14it/s]"
          ]
        },
        {
          "name": "stderr",
          "output_type": "stream",
          "text": [
            "\r",
            "Evaluating:  60%|?��?��?��?��?��?��    | 119/200 [01:30<01:10,  1.14it/s]"
          ]
        },
        {
          "name": "stderr",
          "output_type": "stream",
          "text": [
            "\r",
            "Evaluating:  60%|?��?��?��?��?��?��    | 120/200 [01:30<01:10,  1.14it/s]"
          ]
        },
        {
          "name": "stderr",
          "output_type": "stream",
          "text": [
            "\r",
            "Evaluating:  60%|?��?��?��?��?��?��    | 121/200 [01:31<01:09,  1.14it/s]"
          ]
        },
        {
          "name": "stderr",
          "output_type": "stream",
          "text": [
            "\r",
            "Evaluating:  61%|?��?��?��?��?��?��    | 122/200 [01:32<01:08,  1.14it/s]"
          ]
        },
        {
          "name": "stderr",
          "output_type": "stream",
          "text": [
            "\r",
            "Evaluating:  62%|?��?��?��?��?��?��?��   | 123/200 [01:33<01:07,  1.14it/s]"
          ]
        },
        {
          "name": "stderr",
          "output_type": "stream",
          "text": [
            "\r",
            "Evaluating:  62%|?��?��?��?��?��?��?��   | 124/200 [01:34<01:06,  1.14it/s]"
          ]
        },
        {
          "name": "stderr",
          "output_type": "stream",
          "text": [
            "\r",
            "Evaluating:  62%|?��?��?��?��?��?��?��   | 125/200 [01:35<01:05,  1.14it/s]"
          ]
        },
        {
          "name": "stderr",
          "output_type": "stream",
          "text": [
            "\r",
            "Evaluating:  63%|?��?��?��?��?��?��?��   | 126/200 [01:36<01:04,  1.14it/s]"
          ]
        },
        {
          "name": "stderr",
          "output_type": "stream",
          "text": [
            "\r",
            "Evaluating:  64%|?��?��?��?��?��?��?��   | 127/200 [01:37<01:04,  1.14it/s]"
          ]
        },
        {
          "name": "stderr",
          "output_type": "stream",
          "text": [
            "\r",
            "Evaluating:  64%|?��?��?��?��?��?��?��   | 128/200 [01:37<01:03,  1.14it/s]"
          ]
        },
        {
          "name": "stderr",
          "output_type": "stream",
          "text": [
            "\r",
            "Evaluating:  64%|?��?��?��?��?��?��?��   | 129/200 [01:38<01:02,  1.14it/s]"
          ]
        },
        {
          "name": "stderr",
          "output_type": "stream",
          "text": [
            "\r",
            "Evaluating:  65%|?��?��?��?��?��?��?��   | 130/200 [01:39<01:01,  1.14it/s]"
          ]
        },
        {
          "name": "stderr",
          "output_type": "stream",
          "text": [
            "\r",
            "Evaluating:  66%|?��?��?��?��?��?��?��   | 131/200 [01:40<01:00,  1.14it/s]"
          ]
        },
        {
          "name": "stderr",
          "output_type": "stream",
          "text": [
            "\r",
            "Evaluating:  66%|?��?��?��?��?��?��?��   | 132/200 [01:41<00:59,  1.14it/s]"
          ]
        },
        {
          "name": "stderr",
          "output_type": "stream",
          "text": [
            "\r",
            "Evaluating:  66%|?��?��?��?��?��?��?��   | 133/200 [01:42<00:58,  1.14it/s]"
          ]
        },
        {
          "name": "stderr",
          "output_type": "stream",
          "text": [
            "\r",
            "Evaluating:  67%|?��?��?��?��?��?��?��   | 134/200 [01:43<00:57,  1.14it/s]"
          ]
        },
        {
          "name": "stderr",
          "output_type": "stream",
          "text": [
            "\r",
            "Evaluating:  68%|?��?��?��?��?��?��?��   | 135/200 [01:44<00:56,  1.14it/s]"
          ]
        },
        {
          "name": "stderr",
          "output_type": "stream",
          "text": [
            "\r",
            "Evaluating:  68%|?��?��?��?��?��?��?��   | 136/200 [01:44<00:56,  1.14it/s]"
          ]
        },
        {
          "name": "stderr",
          "output_type": "stream",
          "text": [
            "\r",
            "Evaluating:  68%|?��?��?��?��?��?��?��   | 137/200 [01:45<00:55,  1.14it/s]"
          ]
        },
        {
          "name": "stderr",
          "output_type": "stream",
          "text": [
            "\r",
            "Evaluating:  69%|?��?��?��?��?��?��?��   | 138/200 [01:46<00:54,  1.14it/s]"
          ]
        },
        {
          "name": "stderr",
          "output_type": "stream",
          "text": [
            "\r",
            "Evaluating:  70%|?��?��?��?��?��?��?��   | 139/200 [01:47<00:53,  1.14it/s]"
          ]
        },
        {
          "name": "stderr",
          "output_type": "stream",
          "text": [
            "\r",
            "Evaluating:  70%|?��?��?��?��?��?��?��   | 140/200 [01:48<00:52,  1.14it/s]"
          ]
        },
        {
          "name": "stderr",
          "output_type": "stream",
          "text": [
            "\r",
            "Evaluating:  70%|?��?��?��?��?��?��?��   | 141/200 [01:49<00:51,  1.14it/s]"
          ]
        },
        {
          "name": "stderr",
          "output_type": "stream",
          "text": [
            "\r",
            "Evaluating:  71%|?��?��?��?��?��?��?��   | 142/200 [01:50<00:50,  1.14it/s]"
          ]
        },
        {
          "name": "stderr",
          "output_type": "stream",
          "text": [
            "\r",
            "Evaluating:  72%|?��?��?��?��?��?��?��?��  | 143/200 [01:51<00:50,  1.14it/s]"
          ]
        },
        {
          "name": "stderr",
          "output_type": "stream",
          "text": [
            "\r",
            "Evaluating:  72%|?��?��?��?��?��?��?��?��  | 144/200 [01:51<00:49,  1.14it/s]"
          ]
        },
        {
          "name": "stderr",
          "output_type": "stream",
          "text": [
            "\r",
            "Evaluating:  72%|?��?��?��?��?��?��?��?��  | 145/200 [01:52<00:48,  1.14it/s]"
          ]
        },
        {
          "name": "stderr",
          "output_type": "stream",
          "text": [
            "\r",
            "Evaluating:  73%|?��?��?��?��?��?��?��?��  | 146/200 [01:53<00:47,  1.14it/s]"
          ]
        },
        {
          "name": "stderr",
          "output_type": "stream",
          "text": [
            "\r",
            "Evaluating:  74%|?��?��?��?��?��?��?��?��  | 147/200 [01:54<00:46,  1.14it/s]"
          ]
        },
        {
          "name": "stderr",
          "output_type": "stream",
          "text": [
            "\r",
            "Evaluating:  74%|?��?��?��?��?��?��?��?��  | 148/200 [01:55<00:45,  1.14it/s]"
          ]
        },
        {
          "name": "stderr",
          "output_type": "stream",
          "text": [
            "\r",
            "Evaluating:  74%|?��?��?��?��?��?��?��?��  | 149/200 [01:56<00:44,  1.14it/s]"
          ]
        },
        {
          "name": "stderr",
          "output_type": "stream",
          "text": [
            "\r",
            "Evaluating:  75%|?��?��?��?��?��?��?��?��  | 150/200 [01:57<00:43,  1.14it/s]"
          ]
        },
        {
          "name": "stderr",
          "output_type": "stream",
          "text": [
            "\r",
            "Evaluating:  76%|?��?��?��?��?��?��?��?��  | 151/200 [01:58<00:43,  1.14it/s]"
          ]
        },
        {
          "name": "stderr",
          "output_type": "stream",
          "text": [
            "\r",
            "Evaluating:  76%|?��?��?��?��?��?��?��?��  | 152/200 [01:58<00:42,  1.14it/s]"
          ]
        },
        {
          "name": "stderr",
          "output_type": "stream",
          "text": [
            "\r",
            "Evaluating:  76%|?��?��?��?��?��?��?��?��  | 153/200 [01:59<00:41,  1.14it/s]"
          ]
        },
        {
          "name": "stderr",
          "output_type": "stream",
          "text": [
            "\r",
            "Evaluating:  77%|?��?��?��?��?��?��?��?��  | 154/200 [02:00<00:40,  1.14it/s]"
          ]
        },
        {
          "name": "stderr",
          "output_type": "stream",
          "text": [
            "\r",
            "Evaluating:  78%|?��?��?��?��?��?��?��?��  | 155/200 [02:01<00:39,  1.14it/s]"
          ]
        },
        {
          "name": "stderr",
          "output_type": "stream",
          "text": [
            "\r",
            "Evaluating:  78%|?��?��?��?��?��?��?��?��  | 156/200 [02:02<00:38,  1.14it/s]"
          ]
        },
        {
          "name": "stderr",
          "output_type": "stream",
          "text": [
            "\r",
            "Evaluating:  78%|?��?��?��?��?��?��?��?��  | 157/200 [02:03<00:37,  1.14it/s]"
          ]
        },
        {
          "name": "stderr",
          "output_type": "stream",
          "text": [
            "\r",
            "Evaluating:  79%|?��?��?��?��?��?��?��?��  | 158/200 [02:04<00:36,  1.14it/s]"
          ]
        },
        {
          "name": "stderr",
          "output_type": "stream",
          "text": [
            "\r",
            "Evaluating:  80%|?��?��?��?��?��?��?��?��  | 159/200 [02:05<00:36,  1.14it/s]"
          ]
        },
        {
          "name": "stderr",
          "output_type": "stream",
          "text": [
            "\r",
            "Evaluating:  80%|?��?��?��?��?��?��?��?��  | 160/200 [02:06<00:35,  1.14it/s]"
          ]
        },
        {
          "name": "stderr",
          "output_type": "stream",
          "text": [
            "\r",
            "Evaluating:  80%|?��?��?��?��?��?��?��?��  | 161/200 [02:06<00:34,  1.14it/s]"
          ]
        },
        {
          "name": "stderr",
          "output_type": "stream",
          "text": [
            "\r",
            "Evaluating:  81%|?��?��?��?��?��?��?��?��  | 162/200 [02:07<00:33,  1.14it/s]"
          ]
        },
        {
          "name": "stderr",
          "output_type": "stream",
          "text": [
            "\r",
            "Evaluating:  82%|?��?��?��?��?��?��?��?��?�� | 163/200 [02:08<00:32,  1.14it/s]"
          ]
        },
        {
          "name": "stderr",
          "output_type": "stream",
          "text": [
            "\r",
            "Evaluating:  82%|?��?��?��?��?��?��?��?��?�� | 164/200 [02:09<00:31,  1.14it/s]"
          ]
        },
        {
          "name": "stderr",
          "output_type": "stream",
          "text": [
            "\r",
            "Evaluating:  82%|?��?��?��?��?��?��?��?��?�� | 165/200 [02:10<00:30,  1.14it/s]"
          ]
        },
        {
          "name": "stderr",
          "output_type": "stream",
          "text": [
            "\r",
            "Evaluating:  83%|?��?��?��?��?��?��?��?��?�� | 166/200 [02:11<00:29,  1.14it/s]"
          ]
        },
        {
          "name": "stderr",
          "output_type": "stream",
          "text": [
            "\r",
            "Evaluating:  84%|?��?��?��?��?��?��?��?��?�� | 167/200 [02:12<00:29,  1.14it/s]"
          ]
        },
        {
          "name": "stderr",
          "output_type": "stream",
          "text": [
            "\r",
            "Evaluating:  84%|?��?��?��?��?��?��?��?��?�� | 168/200 [02:13<00:28,  1.14it/s]"
          ]
        },
        {
          "name": "stderr",
          "output_type": "stream",
          "text": [
            "\r",
            "Evaluating:  84%|?��?��?��?��?��?��?��?��?�� | 169/200 [02:13<00:27,  1.14it/s]"
          ]
        },
        {
          "name": "stderr",
          "output_type": "stream",
          "text": [
            "\r",
            "Evaluating:  85%|?��?��?��?��?��?��?��?��?�� | 170/200 [02:14<00:26,  1.14it/s]"
          ]
        },
        {
          "name": "stderr",
          "output_type": "stream",
          "text": [
            "\r",
            "Evaluating:  86%|?��?��?��?��?��?��?��?��?�� | 171/200 [02:15<00:25,  1.14it/s]"
          ]
        },
        {
          "name": "stderr",
          "output_type": "stream",
          "text": [
            "\r",
            "Evaluating:  86%|?��?��?��?��?��?��?��?��?�� | 172/200 [02:16<00:24,  1.14it/s]"
          ]
        },
        {
          "name": "stderr",
          "output_type": "stream",
          "text": [
            "\r",
            "Evaluating:  86%|?��?��?��?��?��?��?��?��?�� | 173/200 [02:17<00:23,  1.14it/s]"
          ]
        },
        {
          "name": "stderr",
          "output_type": "stream",
          "text": [
            "\r",
            "Evaluating:  87%|?��?��?��?��?��?��?��?��?�� | 174/200 [02:18<00:22,  1.14it/s]"
          ]
        },
        {
          "name": "stderr",
          "output_type": "stream",
          "text": [
            "\r",
            "Evaluating:  88%|?��?��?��?��?��?��?��?��?�� | 175/200 [02:19<00:22,  1.14it/s]"
          ]
        },
        {
          "name": "stderr",
          "output_type": "stream",
          "text": [
            "\r",
            "Evaluating:  88%|?��?��?��?��?��?��?��?��?�� | 176/200 [02:20<00:21,  1.14it/s]"
          ]
        },
        {
          "name": "stderr",
          "output_type": "stream",
          "text": [
            "\r",
            "Evaluating:  88%|?��?��?��?��?��?��?��?��?�� | 177/200 [02:20<00:20,  1.14it/s]"
          ]
        },
        {
          "name": "stderr",
          "output_type": "stream",
          "text": [
            "\r",
            "Evaluating:  89%|?��?��?��?��?��?��?��?��?�� | 178/200 [02:21<00:19,  1.14it/s]"
          ]
        },
        {
          "name": "stderr",
          "output_type": "stream",
          "text": [
            "\r",
            "Evaluating:  90%|?��?��?��?��?��?��?��?��?�� | 179/200 [02:22<00:18,  1.14it/s]"
          ]
        },
        {
          "name": "stderr",
          "output_type": "stream",
          "text": [
            "\r",
            "Evaluating:  90%|?��?��?��?��?��?��?��?��?�� | 180/200 [02:23<00:17,  1.14it/s]"
          ]
        },
        {
          "name": "stderr",
          "output_type": "stream",
          "text": [
            "\r",
            "Evaluating:  90%|?��?��?��?��?��?��?��?��?�� | 181/200 [02:24<00:16,  1.14it/s]"
          ]
        },
        {
          "name": "stderr",
          "output_type": "stream",
          "text": [
            "\r",
            "Evaluating:  91%|?��?��?��?��?��?��?��?��?�� | 182/200 [02:25<00:15,  1.14it/s]"
          ]
        },
        {
          "name": "stderr",
          "output_type": "stream",
          "text": [
            "\r",
            "Evaluating:  92%|?��?��?��?��?��?��?��?��?��?��| 183/200 [02:26<00:14,  1.14it/s]"
          ]
        },
        {
          "name": "stderr",
          "output_type": "stream",
          "text": [
            "\r",
            "Evaluating:  92%|?��?��?��?��?��?��?��?��?��?��| 184/200 [02:27<00:14,  1.14it/s]"
          ]
        },
        {
          "name": "stderr",
          "output_type": "stream",
          "text": [
            "\r",
            "Evaluating:  92%|?��?��?��?��?��?��?��?��?��?��| 185/200 [02:27<00:13,  1.14it/s]"
          ]
        },
        {
          "name": "stderr",
          "output_type": "stream",
          "text": [
            "\r",
            "Evaluating:  93%|?��?��?��?��?��?��?��?��?��?��| 186/200 [02:28<00:12,  1.14it/s]"
          ]
        },
        {
          "name": "stderr",
          "output_type": "stream",
          "text": [
            "\r",
            "Evaluating:  94%|?��?��?��?��?��?��?��?��?��?��| 187/200 [02:29<00:11,  1.14it/s]"
          ]
        },
        {
          "name": "stderr",
          "output_type": "stream",
          "text": [
            "\r",
            "Evaluating:  94%|?��?��?��?��?��?��?��?��?��?��| 188/200 [02:30<00:10,  1.14it/s]"
          ]
        },
        {
          "name": "stderr",
          "output_type": "stream",
          "text": [
            "\r",
            "Evaluating:  94%|?��?��?��?��?��?��?��?��?��?��| 189/200 [02:31<00:09,  1.14it/s]"
          ]
        },
        {
          "name": "stderr",
          "output_type": "stream",
          "text": [
            "\r",
            "Evaluating:  95%|?��?��?��?��?��?��?��?��?��?��| 190/200 [02:32<00:08,  1.14it/s]"
          ]
        },
        {
          "name": "stderr",
          "output_type": "stream",
          "text": [
            "\r",
            "Evaluating:  96%|?��?��?��?��?��?��?��?��?��?��| 191/200 [02:33<00:07,  1.14it/s]"
          ]
        },
        {
          "name": "stderr",
          "output_type": "stream",
          "text": [
            "\r",
            "Evaluating:  96%|?��?��?��?��?��?��?��?��?��?��| 192/200 [02:34<00:07,  1.14it/s]"
          ]
        },
        {
          "name": "stderr",
          "output_type": "stream",
          "text": [
            "\r",
            "Evaluating:  96%|?��?��?��?��?��?��?��?��?��?��| 193/200 [02:35<00:06,  1.14it/s]"
          ]
        },
        {
          "name": "stderr",
          "output_type": "stream",
          "text": [
            "\r",
            "Evaluating:  97%|?��?��?��?��?��?��?��?��?��?��| 194/200 [02:35<00:05,  1.14it/s]"
          ]
        },
        {
          "name": "stderr",
          "output_type": "stream",
          "text": [
            "\r",
            "Evaluating:  98%|?��?��?��?��?��?��?��?��?��?��| 195/200 [02:36<00:04,  1.14it/s]"
          ]
        },
        {
          "name": "stderr",
          "output_type": "stream",
          "text": [
            "\r",
            "Evaluating:  98%|?��?��?��?��?��?��?��?��?��?��| 196/200 [02:37<00:03,  1.14it/s]"
          ]
        },
        {
          "name": "stderr",
          "output_type": "stream",
          "text": [
            "\r",
            "Evaluating:  98%|?��?��?��?��?��?��?��?��?��?��| 197/200 [02:38<00:02,  1.14it/s]"
          ]
        },
        {
          "name": "stderr",
          "output_type": "stream",
          "text": [
            "\r",
            "Evaluating:  99%|?��?��?��?��?��?��?��?��?��?��| 198/200 [02:39<00:01,  1.14it/s]"
          ]
        },
        {
          "name": "stderr",
          "output_type": "stream",
          "text": [
            "\r",
            "Evaluating: 100%|?��?��?��?��?��?��?��?��?��?��| 199/200 [02:40<00:00,  1.14it/s]"
          ]
        },
        {
          "name": "stderr",
          "output_type": "stream",
          "text": [
            "\r",
            "Evaluating: 100%|?��?��?��?��?��?��?��?��?��?��| 200/200 [02:41<00:00,  1.19it/s]"
          ]
        },
        {
          "name": "stderr",
          "output_type": "stream",
          "text": [
            "\r",
            "Evaluating: 100%|?��?��?��?��?��?��?��?��?��?��| 200/200 [02:41<00:00,  1.24it/s]"
          ]
        },
        {
          "name": "stderr",
          "output_type": "stream",
          "text": [
            "\n"
          ]
        },
        {
          "name": "stdout",
          "output_type": "stream",
          "text": [
            "Loss: 0.9448"
          ]
        },
        {
          "name": "stdout",
          "output_type": "stream",
          "text": [
            "\n"
          ]
        },
        {
          "name": "stdout",
          "output_type": "stream",
          "text": [
            "Precision: 0.7773, Recall: 0.7836, F1-Score: 0.7763"
          ]
        },
        {
          "name": "stdout",
          "output_type": "stream",
          "text": [
            "\n"
          ]
        },
        {
          "name": "stdout",
          "output_type": "stream",
          "text": [
            "              precision    recall  f1-score   support\n",
            "\n",
            "           0       0.76      0.66      0.71       797\n",
            "           1       0.84      0.71      0.77       775\n",
            "           2       0.88      0.87      0.88       795\n",
            "           3       0.87      0.83      0.85      1110\n",
            "           4       0.86      0.80      0.83      1260\n",
            "           5       0.88      0.68      0.77       882\n",
            "           6       0.85      0.80      0.83       940\n",
            "           7       0.48      0.59      0.53       473\n",
            "           8       0.66      0.85      0.75       746\n",
            "           9       0.59      0.73      0.66       689\n",
            "          10       0.75      0.78      0.77       670\n",
            "          11       0.62      0.80      0.70       312\n",
            "          12       0.72      0.81      0.76       665\n",
            "          13       0.83      0.86      0.85       314\n",
            "          14       0.85      0.78      0.81       756\n",
            "          15       0.97      0.97      0.97      1607\n",
            "\n",
            "    accuracy                           0.80     12791\n",
            "   macro avg       0.78      0.78      0.78     12791\n",
            "weighted avg       0.81      0.80      0.80     12791\n"
          ]
        },
        {
          "name": "stdout",
          "output_type": "stream",
          "text": [
            "\n"
          ]
        }
      ],
      "source": [
        "module = copy.deepcopy(model)\n",
        "prune_wanda(module, model_config, all_samples, sparsity_ratio=wanda_ratio, include_layers=include_layers, exclude_layers=exclude_layers)\n",
        "print(\"Evaluate the pruned model\")\n",
        "result = evaluate_model(module, model_config, test_dataloader)\n",
        "# save_module(module, \"Modules/\", f\"wanda_{name}_{wanda_ratio}p.pt\")"
      ]
    },
    {
      "cell_type": "code",
      "execution_count": 11,
      "id": "cd3c1423-9a76-4a7d-bec7-aae97284cf65",
      "metadata": {
        "execution": {
          "iopub.execute_input": "2024-08-19T05:39:50.130545Z",
          "iopub.status.busy": "2024-08-19T05:39:50.130157Z",
          "iopub.status.idle": "2024-08-19T05:41:52.559648Z",
          "shell.execute_reply": "2024-08-19T05:41:52.558712Z"
        },
        "papermill": {
          "duration": 122.457019,
          "end_time": "2024-08-19T05:41:52.561158",
          "exception": false,
          "start_time": "2024-08-19T05:39:50.104139",
          "status": "completed"
        },
        "tags": []
      },
      "outputs": [
        {
          "name": "stdout",
          "output_type": "stream",
          "text": [
            "--0--"
          ]
        },
        {
          "name": "stdout",
          "output_type": "stream",
          "text": [
            "\n"
          ]
        },
        {
          "name": "stdout",
          "output_type": "stream",
          "text": [
            "adding eps to diagonal and taking inverse"
          ]
        },
        {
          "name": "stdout",
          "output_type": "stream",
          "text": [
            "\n"
          ]
        },
        {
          "name": "stdout",
          "output_type": "stream",
          "text": [
            "taking square root"
          ]
        },
        {
          "name": "stdout",
          "output_type": "stream",
          "text": [
            "\n"
          ]
        },
        {
          "name": "stdout",
          "output_type": "stream",
          "text": [
            "dot products..."
          ]
        },
        {
          "name": "stdout",
          "output_type": "stream",
          "text": [
            "\n"
          ]
        },
        {
          "name": "stdout",
          "output_type": "stream",
          "text": [
            "trying to take final svd"
          ]
        },
        {
          "name": "stdout",
          "output_type": "stream",
          "text": [
            "\n"
          ]
        },
        {
          "name": "stdout",
          "output_type": "stream",
          "text": [
            "computed everything!"
          ]
        },
        {
          "name": "stdout",
          "output_type": "stream",
          "text": [
            "\n"
          ]
        },
        {
          "name": "stdout",
          "output_type": "stream",
          "text": [
            "adding eps to diagonal and taking inverse"
          ]
        },
        {
          "name": "stdout",
          "output_type": "stream",
          "text": [
            "\n"
          ]
        },
        {
          "name": "stdout",
          "output_type": "stream",
          "text": [
            "taking square root"
          ]
        },
        {
          "name": "stdout",
          "output_type": "stream",
          "text": [
            "\n"
          ]
        },
        {
          "name": "stdout",
          "output_type": "stream",
          "text": [
            "dot products..."
          ]
        },
        {
          "name": "stdout",
          "output_type": "stream",
          "text": [
            "\n"
          ]
        },
        {
          "name": "stdout",
          "output_type": "stream",
          "text": [
            "trying to take final svd"
          ]
        },
        {
          "name": "stdout",
          "output_type": "stream",
          "text": [
            "\n"
          ]
        },
        {
          "name": "stdout",
          "output_type": "stream",
          "text": [
            "computed everything!"
          ]
        },
        {
          "name": "stdout",
          "output_type": "stream",
          "text": [
            "\n"
          ]
        },
        {
          "name": "stdout",
          "output_type": "stream",
          "text": [
            "CCA coefficients mean concern: (0.9129998209254423, 0.9129998209254423)"
          ]
        },
        {
          "name": "stdout",
          "output_type": "stream",
          "text": [
            "\n"
          ]
        },
        {
          "name": "stdout",
          "output_type": "stream",
          "text": [
            "CCA coefficients mean non-concern: (0.9202475909737933, 0.9202475909737933)"
          ]
        },
        {
          "name": "stdout",
          "output_type": "stream",
          "text": [
            "\n"
          ]
        },
        {
          "name": "stdout",
          "output_type": "stream",
          "text": [
            "Linear CKA concern: 0.9911737325073102"
          ]
        },
        {
          "name": "stdout",
          "output_type": "stream",
          "text": [
            "\n"
          ]
        },
        {
          "name": "stdout",
          "output_type": "stream",
          "text": [
            "Linear CKA non-concern: 0.9867138273057909"
          ]
        },
        {
          "name": "stdout",
          "output_type": "stream",
          "text": [
            "\n"
          ]
        },
        {
          "name": "stdout",
          "output_type": "stream",
          "text": [
            "Kernel CKA concern: 0.9892372966248428"
          ]
        },
        {
          "name": "stdout",
          "output_type": "stream",
          "text": [
            "\n"
          ]
        },
        {
          "name": "stdout",
          "output_type": "stream",
          "text": [
            "Kernel CKA non-concern: 0.9873035898788589"
          ]
        },
        {
          "name": "stdout",
          "output_type": "stream",
          "text": [
            "\n"
          ]
        },
        {
          "name": "stdout",
          "output_type": "stream",
          "text": [
            "--1--"
          ]
        },
        {
          "name": "stdout",
          "output_type": "stream",
          "text": [
            "\n"
          ]
        },
        {
          "name": "stdout",
          "output_type": "stream",
          "text": [
            "adding eps to diagonal and taking inverse"
          ]
        },
        {
          "name": "stdout",
          "output_type": "stream",
          "text": [
            "\n"
          ]
        },
        {
          "name": "stdout",
          "output_type": "stream",
          "text": [
            "taking square root"
          ]
        },
        {
          "name": "stdout",
          "output_type": "stream",
          "text": [
            "\n"
          ]
        },
        {
          "name": "stdout",
          "output_type": "stream",
          "text": [
            "dot products..."
          ]
        },
        {
          "name": "stdout",
          "output_type": "stream",
          "text": [
            "\n"
          ]
        },
        {
          "name": "stdout",
          "output_type": "stream",
          "text": [
            "trying to take final svd"
          ]
        },
        {
          "name": "stdout",
          "output_type": "stream",
          "text": [
            "\n"
          ]
        },
        {
          "name": "stdout",
          "output_type": "stream",
          "text": [
            "computed everything!"
          ]
        },
        {
          "name": "stdout",
          "output_type": "stream",
          "text": [
            "\n"
          ]
        },
        {
          "name": "stdout",
          "output_type": "stream",
          "text": [
            "adding eps to diagonal and taking inverse"
          ]
        },
        {
          "name": "stdout",
          "output_type": "stream",
          "text": [
            "\n"
          ]
        },
        {
          "name": "stdout",
          "output_type": "stream",
          "text": [
            "taking square root"
          ]
        },
        {
          "name": "stdout",
          "output_type": "stream",
          "text": [
            "\n"
          ]
        },
        {
          "name": "stdout",
          "output_type": "stream",
          "text": [
            "dot products..."
          ]
        },
        {
          "name": "stdout",
          "output_type": "stream",
          "text": [
            "\n"
          ]
        },
        {
          "name": "stdout",
          "output_type": "stream",
          "text": [
            "trying to take final svd"
          ]
        },
        {
          "name": "stdout",
          "output_type": "stream",
          "text": [
            "\n"
          ]
        },
        {
          "name": "stdout",
          "output_type": "stream",
          "text": [
            "computed everything!"
          ]
        },
        {
          "name": "stdout",
          "output_type": "stream",
          "text": [
            "\n"
          ]
        },
        {
          "name": "stdout",
          "output_type": "stream",
          "text": [
            "CCA coefficients mean concern: (0.9158334012727859, 0.9158334012727859)"
          ]
        },
        {
          "name": "stdout",
          "output_type": "stream",
          "text": [
            "\n"
          ]
        },
        {
          "name": "stdout",
          "output_type": "stream",
          "text": [
            "CCA coefficients mean non-concern: (0.920268776948148, 0.920268776948148)"
          ]
        },
        {
          "name": "stdout",
          "output_type": "stream",
          "text": [
            "\n"
          ]
        },
        {
          "name": "stdout",
          "output_type": "stream",
          "text": [
            "Linear CKA concern: 0.988246544349295"
          ]
        },
        {
          "name": "stdout",
          "output_type": "stream",
          "text": [
            "\n"
          ]
        },
        {
          "name": "stdout",
          "output_type": "stream",
          "text": [
            "Linear CKA non-concern: 0.9860891842373262"
          ]
        },
        {
          "name": "stdout",
          "output_type": "stream",
          "text": [
            "\n"
          ]
        },
        {
          "name": "stdout",
          "output_type": "stream",
          "text": [
            "Kernel CKA concern: 0.9867322815002099"
          ]
        },
        {
          "name": "stdout",
          "output_type": "stream",
          "text": [
            "\n"
          ]
        },
        {
          "name": "stdout",
          "output_type": "stream",
          "text": [
            "Kernel CKA non-concern: 0.9867813730793755"
          ]
        },
        {
          "name": "stdout",
          "output_type": "stream",
          "text": [
            "\n"
          ]
        },
        {
          "name": "stdout",
          "output_type": "stream",
          "text": [
            "--2--"
          ]
        },
        {
          "name": "stdout",
          "output_type": "stream",
          "text": [
            "\n"
          ]
        },
        {
          "name": "stdout",
          "output_type": "stream",
          "text": [
            "adding eps to diagonal and taking inverse"
          ]
        },
        {
          "name": "stdout",
          "output_type": "stream",
          "text": [
            "\n"
          ]
        },
        {
          "name": "stdout",
          "output_type": "stream",
          "text": [
            "taking square root"
          ]
        },
        {
          "name": "stdout",
          "output_type": "stream",
          "text": [
            "\n"
          ]
        },
        {
          "name": "stdout",
          "output_type": "stream",
          "text": [
            "dot products..."
          ]
        },
        {
          "name": "stdout",
          "output_type": "stream",
          "text": [
            "\n"
          ]
        },
        {
          "name": "stdout",
          "output_type": "stream",
          "text": [
            "trying to take final svd"
          ]
        },
        {
          "name": "stdout",
          "output_type": "stream",
          "text": [
            "\n"
          ]
        },
        {
          "name": "stdout",
          "output_type": "stream",
          "text": [
            "computed everything!"
          ]
        },
        {
          "name": "stdout",
          "output_type": "stream",
          "text": [
            "\n"
          ]
        },
        {
          "name": "stdout",
          "output_type": "stream",
          "text": [
            "adding eps to diagonal and taking inverse"
          ]
        },
        {
          "name": "stdout",
          "output_type": "stream",
          "text": [
            "\n"
          ]
        },
        {
          "name": "stdout",
          "output_type": "stream",
          "text": [
            "taking square root"
          ]
        },
        {
          "name": "stdout",
          "output_type": "stream",
          "text": [
            "\n"
          ]
        },
        {
          "name": "stdout",
          "output_type": "stream",
          "text": [
            "dot products..."
          ]
        },
        {
          "name": "stdout",
          "output_type": "stream",
          "text": [
            "\n"
          ]
        },
        {
          "name": "stdout",
          "output_type": "stream",
          "text": [
            "trying to take final svd"
          ]
        },
        {
          "name": "stdout",
          "output_type": "stream",
          "text": [
            "\n"
          ]
        },
        {
          "name": "stdout",
          "output_type": "stream",
          "text": [
            "computed everything!"
          ]
        },
        {
          "name": "stdout",
          "output_type": "stream",
          "text": [
            "\n"
          ]
        },
        {
          "name": "stdout",
          "output_type": "stream",
          "text": [
            "CCA coefficients mean concern: (0.9133054479574727, 0.9133054479574727)"
          ]
        },
        {
          "name": "stdout",
          "output_type": "stream",
          "text": [
            "\n"
          ]
        },
        {
          "name": "stdout",
          "output_type": "stream",
          "text": [
            "CCA coefficients mean non-concern: (0.9199741472721621, 0.9199741472721621)"
          ]
        },
        {
          "name": "stdout",
          "output_type": "stream",
          "text": [
            "\n"
          ]
        },
        {
          "name": "stdout",
          "output_type": "stream",
          "text": [
            "Linear CKA concern: 0.9914248484748441"
          ]
        },
        {
          "name": "stdout",
          "output_type": "stream",
          "text": [
            "\n"
          ]
        },
        {
          "name": "stdout",
          "output_type": "stream",
          "text": [
            "Linear CKA non-concern: 0.9862157529214465"
          ]
        },
        {
          "name": "stdout",
          "output_type": "stream",
          "text": [
            "\n"
          ]
        },
        {
          "name": "stdout",
          "output_type": "stream",
          "text": [
            "Kernel CKA concern: 0.98881481310366"
          ]
        },
        {
          "name": "stdout",
          "output_type": "stream",
          "text": [
            "\n"
          ]
        },
        {
          "name": "stdout",
          "output_type": "stream",
          "text": [
            "Kernel CKA non-concern: 0.9869662693084534"
          ]
        },
        {
          "name": "stdout",
          "output_type": "stream",
          "text": [
            "\n"
          ]
        },
        {
          "name": "stdout",
          "output_type": "stream",
          "text": [
            "--3--"
          ]
        },
        {
          "name": "stdout",
          "output_type": "stream",
          "text": [
            "\n"
          ]
        },
        {
          "name": "stdout",
          "output_type": "stream",
          "text": [
            "adding eps to diagonal and taking inverse"
          ]
        },
        {
          "name": "stdout",
          "output_type": "stream",
          "text": [
            "\n"
          ]
        },
        {
          "name": "stdout",
          "output_type": "stream",
          "text": [
            "taking square root"
          ]
        },
        {
          "name": "stdout",
          "output_type": "stream",
          "text": [
            "\n"
          ]
        },
        {
          "name": "stdout",
          "output_type": "stream",
          "text": [
            "dot products..."
          ]
        },
        {
          "name": "stdout",
          "output_type": "stream",
          "text": [
            "\n"
          ]
        },
        {
          "name": "stdout",
          "output_type": "stream",
          "text": [
            "trying to take final svd"
          ]
        },
        {
          "name": "stdout",
          "output_type": "stream",
          "text": [
            "\n"
          ]
        },
        {
          "name": "stdout",
          "output_type": "stream",
          "text": [
            "computed everything!"
          ]
        },
        {
          "name": "stdout",
          "output_type": "stream",
          "text": [
            "\n"
          ]
        },
        {
          "name": "stdout",
          "output_type": "stream",
          "text": [
            "adding eps to diagonal and taking inverse"
          ]
        },
        {
          "name": "stdout",
          "output_type": "stream",
          "text": [
            "\n"
          ]
        },
        {
          "name": "stdout",
          "output_type": "stream",
          "text": [
            "taking square root"
          ]
        },
        {
          "name": "stdout",
          "output_type": "stream",
          "text": [
            "\n"
          ]
        },
        {
          "name": "stdout",
          "output_type": "stream",
          "text": [
            "dot products..."
          ]
        },
        {
          "name": "stdout",
          "output_type": "stream",
          "text": [
            "\n"
          ]
        },
        {
          "name": "stdout",
          "output_type": "stream",
          "text": [
            "trying to take final svd"
          ]
        },
        {
          "name": "stdout",
          "output_type": "stream",
          "text": [
            "\n"
          ]
        },
        {
          "name": "stdout",
          "output_type": "stream",
          "text": [
            "computed everything!"
          ]
        },
        {
          "name": "stdout",
          "output_type": "stream",
          "text": [
            "\n"
          ]
        },
        {
          "name": "stdout",
          "output_type": "stream",
          "text": [
            "CCA coefficients mean concern: (0.915283401984739, 0.915283401984739)"
          ]
        },
        {
          "name": "stdout",
          "output_type": "stream",
          "text": [
            "\n"
          ]
        },
        {
          "name": "stdout",
          "output_type": "stream",
          "text": [
            "CCA coefficients mean non-concern: (0.9192070845194105, 0.9192070845194105)"
          ]
        },
        {
          "name": "stdout",
          "output_type": "stream",
          "text": [
            "\n"
          ]
        },
        {
          "name": "stdout",
          "output_type": "stream",
          "text": [
            "Linear CKA concern: 0.988918476479884"
          ]
        },
        {
          "name": "stdout",
          "output_type": "stream",
          "text": [
            "\n"
          ]
        },
        {
          "name": "stdout",
          "output_type": "stream",
          "text": [
            "Linear CKA non-concern: 0.9864975373636864"
          ]
        },
        {
          "name": "stdout",
          "output_type": "stream",
          "text": [
            "\n"
          ]
        },
        {
          "name": "stdout",
          "output_type": "stream",
          "text": [
            "Kernel CKA concern: 0.9874940069956695"
          ]
        },
        {
          "name": "stdout",
          "output_type": "stream",
          "text": [
            "\n"
          ]
        },
        {
          "name": "stdout",
          "output_type": "stream",
          "text": [
            "Kernel CKA non-concern: 0.9873355706599819"
          ]
        },
        {
          "name": "stdout",
          "output_type": "stream",
          "text": [
            "\n"
          ]
        },
        {
          "name": "stdout",
          "output_type": "stream",
          "text": [
            "--4--"
          ]
        },
        {
          "name": "stdout",
          "output_type": "stream",
          "text": [
            "\n"
          ]
        },
        {
          "name": "stdout",
          "output_type": "stream",
          "text": [
            "adding eps to diagonal and taking inverse"
          ]
        },
        {
          "name": "stdout",
          "output_type": "stream",
          "text": [
            "\n"
          ]
        },
        {
          "name": "stdout",
          "output_type": "stream",
          "text": [
            "taking square root"
          ]
        },
        {
          "name": "stdout",
          "output_type": "stream",
          "text": [
            "\n"
          ]
        },
        {
          "name": "stdout",
          "output_type": "stream",
          "text": [
            "dot products..."
          ]
        },
        {
          "name": "stdout",
          "output_type": "stream",
          "text": [
            "\n"
          ]
        },
        {
          "name": "stdout",
          "output_type": "stream",
          "text": [
            "trying to take final svd"
          ]
        },
        {
          "name": "stdout",
          "output_type": "stream",
          "text": [
            "\n"
          ]
        },
        {
          "name": "stdout",
          "output_type": "stream",
          "text": [
            "computed everything!"
          ]
        },
        {
          "name": "stdout",
          "output_type": "stream",
          "text": [
            "\n"
          ]
        },
        {
          "name": "stdout",
          "output_type": "stream",
          "text": [
            "adding eps to diagonal and taking inverse"
          ]
        },
        {
          "name": "stdout",
          "output_type": "stream",
          "text": [
            "\n"
          ]
        },
        {
          "name": "stdout",
          "output_type": "stream",
          "text": [
            "taking square root"
          ]
        },
        {
          "name": "stdout",
          "output_type": "stream",
          "text": [
            "\n"
          ]
        },
        {
          "name": "stdout",
          "output_type": "stream",
          "text": [
            "dot products..."
          ]
        },
        {
          "name": "stdout",
          "output_type": "stream",
          "text": [
            "\n"
          ]
        },
        {
          "name": "stdout",
          "output_type": "stream",
          "text": [
            "trying to take final svd"
          ]
        },
        {
          "name": "stdout",
          "output_type": "stream",
          "text": [
            "\n"
          ]
        },
        {
          "name": "stdout",
          "output_type": "stream",
          "text": [
            "computed everything!"
          ]
        },
        {
          "name": "stdout",
          "output_type": "stream",
          "text": [
            "\n"
          ]
        },
        {
          "name": "stdout",
          "output_type": "stream",
          "text": [
            "CCA coefficients mean concern: (0.9203480485602887, 0.9203480485602887)"
          ]
        },
        {
          "name": "stdout",
          "output_type": "stream",
          "text": [
            "\n"
          ]
        },
        {
          "name": "stdout",
          "output_type": "stream",
          "text": [
            "CCA coefficients mean non-concern: (0.9196591798721182, 0.9196591798721182)"
          ]
        },
        {
          "name": "stdout",
          "output_type": "stream",
          "text": [
            "\n"
          ]
        },
        {
          "name": "stdout",
          "output_type": "stream",
          "text": [
            "Linear CKA concern: 0.9897990710551772"
          ]
        },
        {
          "name": "stdout",
          "output_type": "stream",
          "text": [
            "\n"
          ]
        },
        {
          "name": "stdout",
          "output_type": "stream",
          "text": [
            "Linear CKA non-concern: 0.9863228365649837"
          ]
        },
        {
          "name": "stdout",
          "output_type": "stream",
          "text": [
            "\n"
          ]
        },
        {
          "name": "stdout",
          "output_type": "stream",
          "text": [
            "Kernel CKA concern: 0.9874492573448093"
          ]
        },
        {
          "name": "stdout",
          "output_type": "stream",
          "text": [
            "\n"
          ]
        },
        {
          "name": "stdout",
          "output_type": "stream",
          "text": [
            "Kernel CKA non-concern: 0.9872864648148738"
          ]
        },
        {
          "name": "stdout",
          "output_type": "stream",
          "text": [
            "\n"
          ]
        },
        {
          "name": "stdout",
          "output_type": "stream",
          "text": [
            "--5--"
          ]
        },
        {
          "name": "stdout",
          "output_type": "stream",
          "text": [
            "\n"
          ]
        },
        {
          "name": "stdout",
          "output_type": "stream",
          "text": [
            "adding eps to diagonal and taking inverse"
          ]
        },
        {
          "name": "stdout",
          "output_type": "stream",
          "text": [
            "\n"
          ]
        },
        {
          "name": "stdout",
          "output_type": "stream",
          "text": [
            "taking square root"
          ]
        },
        {
          "name": "stdout",
          "output_type": "stream",
          "text": [
            "\n"
          ]
        },
        {
          "name": "stdout",
          "output_type": "stream",
          "text": [
            "dot products..."
          ]
        },
        {
          "name": "stdout",
          "output_type": "stream",
          "text": [
            "\n"
          ]
        },
        {
          "name": "stdout",
          "output_type": "stream",
          "text": [
            "trying to take final svd"
          ]
        },
        {
          "name": "stdout",
          "output_type": "stream",
          "text": [
            "\n"
          ]
        },
        {
          "name": "stdout",
          "output_type": "stream",
          "text": [
            "computed everything!"
          ]
        },
        {
          "name": "stdout",
          "output_type": "stream",
          "text": [
            "\n"
          ]
        },
        {
          "name": "stdout",
          "output_type": "stream",
          "text": [
            "adding eps to diagonal and taking inverse"
          ]
        },
        {
          "name": "stdout",
          "output_type": "stream",
          "text": [
            "\n"
          ]
        },
        {
          "name": "stdout",
          "output_type": "stream",
          "text": [
            "taking square root"
          ]
        },
        {
          "name": "stdout",
          "output_type": "stream",
          "text": [
            "\n"
          ]
        },
        {
          "name": "stdout",
          "output_type": "stream",
          "text": [
            "dot products..."
          ]
        },
        {
          "name": "stdout",
          "output_type": "stream",
          "text": [
            "\n"
          ]
        },
        {
          "name": "stdout",
          "output_type": "stream",
          "text": [
            "trying to take final svd"
          ]
        },
        {
          "name": "stdout",
          "output_type": "stream",
          "text": [
            "\n"
          ]
        },
        {
          "name": "stdout",
          "output_type": "stream",
          "text": [
            "computed everything!"
          ]
        },
        {
          "name": "stdout",
          "output_type": "stream",
          "text": [
            "\n"
          ]
        },
        {
          "name": "stdout",
          "output_type": "stream",
          "text": [
            "CCA coefficients mean concern: (0.9129335453809279, 0.9129335453809279)"
          ]
        },
        {
          "name": "stdout",
          "output_type": "stream",
          "text": [
            "\n"
          ]
        },
        {
          "name": "stdout",
          "output_type": "stream",
          "text": [
            "CCA coefficients mean non-concern: (0.9200501125999299, 0.9200501125999299)"
          ]
        },
        {
          "name": "stdout",
          "output_type": "stream",
          "text": [
            "\n"
          ]
        },
        {
          "name": "stdout",
          "output_type": "stream",
          "text": [
            "Linear CKA concern: 0.9863192070537257"
          ]
        },
        {
          "name": "stdout",
          "output_type": "stream",
          "text": [
            "\n"
          ]
        },
        {
          "name": "stdout",
          "output_type": "stream",
          "text": [
            "Linear CKA non-concern: 0.9867652628943916"
          ]
        },
        {
          "name": "stdout",
          "output_type": "stream",
          "text": [
            "\n"
          ]
        },
        {
          "name": "stdout",
          "output_type": "stream",
          "text": [
            "Kernel CKA concern: 0.9836591283152166"
          ]
        },
        {
          "name": "stdout",
          "output_type": "stream",
          "text": [
            "\n"
          ]
        },
        {
          "name": "stdout",
          "output_type": "stream",
          "text": [
            "Kernel CKA non-concern: 0.9875089867832539"
          ]
        },
        {
          "name": "stdout",
          "output_type": "stream",
          "text": [
            "\n"
          ]
        },
        {
          "name": "stdout",
          "output_type": "stream",
          "text": [
            "--6--"
          ]
        },
        {
          "name": "stdout",
          "output_type": "stream",
          "text": [
            "\n"
          ]
        },
        {
          "name": "stdout",
          "output_type": "stream",
          "text": [
            "adding eps to diagonal and taking inverse"
          ]
        },
        {
          "name": "stdout",
          "output_type": "stream",
          "text": [
            "\n"
          ]
        },
        {
          "name": "stdout",
          "output_type": "stream",
          "text": [
            "taking square root"
          ]
        },
        {
          "name": "stdout",
          "output_type": "stream",
          "text": [
            "\n"
          ]
        },
        {
          "name": "stdout",
          "output_type": "stream",
          "text": [
            "dot products..."
          ]
        },
        {
          "name": "stdout",
          "output_type": "stream",
          "text": [
            "\n"
          ]
        },
        {
          "name": "stdout",
          "output_type": "stream",
          "text": [
            "trying to take final svd"
          ]
        },
        {
          "name": "stdout",
          "output_type": "stream",
          "text": [
            "\n"
          ]
        },
        {
          "name": "stdout",
          "output_type": "stream",
          "text": [
            "computed everything!"
          ]
        },
        {
          "name": "stdout",
          "output_type": "stream",
          "text": [
            "\n"
          ]
        },
        {
          "name": "stdout",
          "output_type": "stream",
          "text": [
            "adding eps to diagonal and taking inverse"
          ]
        },
        {
          "name": "stdout",
          "output_type": "stream",
          "text": [
            "\n"
          ]
        },
        {
          "name": "stdout",
          "output_type": "stream",
          "text": [
            "taking square root"
          ]
        },
        {
          "name": "stdout",
          "output_type": "stream",
          "text": [
            "\n"
          ]
        },
        {
          "name": "stdout",
          "output_type": "stream",
          "text": [
            "dot products..."
          ]
        },
        {
          "name": "stdout",
          "output_type": "stream",
          "text": [
            "\n"
          ]
        },
        {
          "name": "stdout",
          "output_type": "stream",
          "text": [
            "trying to take final svd"
          ]
        },
        {
          "name": "stdout",
          "output_type": "stream",
          "text": [
            "\n"
          ]
        },
        {
          "name": "stdout",
          "output_type": "stream",
          "text": [
            "computed everything!"
          ]
        },
        {
          "name": "stdout",
          "output_type": "stream",
          "text": [
            "\n"
          ]
        },
        {
          "name": "stdout",
          "output_type": "stream",
          "text": [
            "CCA coefficients mean concern: (0.9150597789616814, 0.9150597789616814)"
          ]
        },
        {
          "name": "stdout",
          "output_type": "stream",
          "text": [
            "\n"
          ]
        },
        {
          "name": "stdout",
          "output_type": "stream",
          "text": [
            "CCA coefficients mean non-concern: (0.92010481526479, 0.92010481526479)"
          ]
        },
        {
          "name": "stdout",
          "output_type": "stream",
          "text": [
            "\n"
          ]
        },
        {
          "name": "stdout",
          "output_type": "stream",
          "text": [
            "Linear CKA concern: 0.9854385309765299"
          ]
        },
        {
          "name": "stdout",
          "output_type": "stream",
          "text": [
            "\n"
          ]
        },
        {
          "name": "stdout",
          "output_type": "stream",
          "text": [
            "Linear CKA non-concern: 0.9862773502979032"
          ]
        },
        {
          "name": "stdout",
          "output_type": "stream",
          "text": [
            "\n"
          ]
        },
        {
          "name": "stdout",
          "output_type": "stream",
          "text": [
            "Kernel CKA concern: 0.9834391682224248"
          ]
        },
        {
          "name": "stdout",
          "output_type": "stream",
          "text": [
            "\n"
          ]
        },
        {
          "name": "stdout",
          "output_type": "stream",
          "text": [
            "Kernel CKA non-concern: 0.9872078183753251"
          ]
        },
        {
          "name": "stdout",
          "output_type": "stream",
          "text": [
            "\n"
          ]
        },
        {
          "name": "stdout",
          "output_type": "stream",
          "text": [
            "--7--"
          ]
        },
        {
          "name": "stdout",
          "output_type": "stream",
          "text": [
            "\n"
          ]
        },
        {
          "name": "stdout",
          "output_type": "stream",
          "text": [
            "adding eps to diagonal and taking inverse"
          ]
        },
        {
          "name": "stdout",
          "output_type": "stream",
          "text": [
            "\n"
          ]
        },
        {
          "name": "stdout",
          "output_type": "stream",
          "text": [
            "taking square root"
          ]
        },
        {
          "name": "stdout",
          "output_type": "stream",
          "text": [
            "\n"
          ]
        },
        {
          "name": "stdout",
          "output_type": "stream",
          "text": [
            "dot products..."
          ]
        },
        {
          "name": "stdout",
          "output_type": "stream",
          "text": [
            "\n"
          ]
        },
        {
          "name": "stdout",
          "output_type": "stream",
          "text": [
            "trying to take final svd"
          ]
        },
        {
          "name": "stdout",
          "output_type": "stream",
          "text": [
            "\n"
          ]
        },
        {
          "name": "stdout",
          "output_type": "stream",
          "text": [
            "computed everything!"
          ]
        },
        {
          "name": "stdout",
          "output_type": "stream",
          "text": [
            "\n"
          ]
        },
        {
          "name": "stdout",
          "output_type": "stream",
          "text": [
            "adding eps to diagonal and taking inverse"
          ]
        },
        {
          "name": "stdout",
          "output_type": "stream",
          "text": [
            "\n"
          ]
        },
        {
          "name": "stdout",
          "output_type": "stream",
          "text": [
            "taking square root"
          ]
        },
        {
          "name": "stdout",
          "output_type": "stream",
          "text": [
            "\n"
          ]
        },
        {
          "name": "stdout",
          "output_type": "stream",
          "text": [
            "dot products..."
          ]
        },
        {
          "name": "stdout",
          "output_type": "stream",
          "text": [
            "\n"
          ]
        },
        {
          "name": "stdout",
          "output_type": "stream",
          "text": [
            "trying to take final svd"
          ]
        },
        {
          "name": "stdout",
          "output_type": "stream",
          "text": [
            "\n"
          ]
        },
        {
          "name": "stdout",
          "output_type": "stream",
          "text": [
            "computed everything!"
          ]
        },
        {
          "name": "stdout",
          "output_type": "stream",
          "text": [
            "\n"
          ]
        },
        {
          "name": "stdout",
          "output_type": "stream",
          "text": [
            "CCA coefficients mean concern: (0.9198844627518066, 0.9198844627518066)"
          ]
        },
        {
          "name": "stdout",
          "output_type": "stream",
          "text": [
            "\n"
          ]
        },
        {
          "name": "stdout",
          "output_type": "stream",
          "text": [
            "CCA coefficients mean non-concern: (0.919707784991561, 0.919707784991561)"
          ]
        },
        {
          "name": "stdout",
          "output_type": "stream",
          "text": [
            "\n"
          ]
        },
        {
          "name": "stdout",
          "output_type": "stream",
          "text": [
            "Linear CKA concern: 0.9882392118017962"
          ]
        },
        {
          "name": "stdout",
          "output_type": "stream",
          "text": [
            "\n"
          ]
        },
        {
          "name": "stdout",
          "output_type": "stream",
          "text": [
            "Linear CKA non-concern: 0.9866367084729276"
          ]
        },
        {
          "name": "stdout",
          "output_type": "stream",
          "text": [
            "\n"
          ]
        },
        {
          "name": "stdout",
          "output_type": "stream",
          "text": [
            "Kernel CKA concern: 0.9876356850915693"
          ]
        },
        {
          "name": "stdout",
          "output_type": "stream",
          "text": [
            "\n"
          ]
        },
        {
          "name": "stdout",
          "output_type": "stream",
          "text": [
            "Kernel CKA non-concern: 0.9874574077022049"
          ]
        },
        {
          "name": "stdout",
          "output_type": "stream",
          "text": [
            "\n"
          ]
        },
        {
          "name": "stdout",
          "output_type": "stream",
          "text": [
            "--8--"
          ]
        },
        {
          "name": "stdout",
          "output_type": "stream",
          "text": [
            "\n"
          ]
        },
        {
          "name": "stdout",
          "output_type": "stream",
          "text": [
            "adding eps to diagonal and taking inverse"
          ]
        },
        {
          "name": "stdout",
          "output_type": "stream",
          "text": [
            "\n"
          ]
        },
        {
          "name": "stdout",
          "output_type": "stream",
          "text": [
            "taking square root"
          ]
        },
        {
          "name": "stdout",
          "output_type": "stream",
          "text": [
            "\n"
          ]
        },
        {
          "name": "stdout",
          "output_type": "stream",
          "text": [
            "dot products..."
          ]
        },
        {
          "name": "stdout",
          "output_type": "stream",
          "text": [
            "\n"
          ]
        },
        {
          "name": "stdout",
          "output_type": "stream",
          "text": [
            "trying to take final svd"
          ]
        },
        {
          "name": "stdout",
          "output_type": "stream",
          "text": [
            "\n"
          ]
        },
        {
          "name": "stdout",
          "output_type": "stream",
          "text": [
            "computed everything!"
          ]
        },
        {
          "name": "stdout",
          "output_type": "stream",
          "text": [
            "\n"
          ]
        },
        {
          "name": "stdout",
          "output_type": "stream",
          "text": [
            "adding eps to diagonal and taking inverse"
          ]
        },
        {
          "name": "stdout",
          "output_type": "stream",
          "text": [
            "\n"
          ]
        },
        {
          "name": "stdout",
          "output_type": "stream",
          "text": [
            "taking square root"
          ]
        },
        {
          "name": "stdout",
          "output_type": "stream",
          "text": [
            "\n"
          ]
        },
        {
          "name": "stdout",
          "output_type": "stream",
          "text": [
            "dot products..."
          ]
        },
        {
          "name": "stdout",
          "output_type": "stream",
          "text": [
            "\n"
          ]
        },
        {
          "name": "stdout",
          "output_type": "stream",
          "text": [
            "trying to take final svd"
          ]
        },
        {
          "name": "stdout",
          "output_type": "stream",
          "text": [
            "\n"
          ]
        },
        {
          "name": "stdout",
          "output_type": "stream",
          "text": [
            "computed everything!"
          ]
        },
        {
          "name": "stdout",
          "output_type": "stream",
          "text": [
            "\n"
          ]
        },
        {
          "name": "stdout",
          "output_type": "stream",
          "text": [
            "CCA coefficients mean concern: (0.9178893165334889, 0.9178893165334889)"
          ]
        },
        {
          "name": "stdout",
          "output_type": "stream",
          "text": [
            "\n"
          ]
        },
        {
          "name": "stdout",
          "output_type": "stream",
          "text": [
            "CCA coefficients mean non-concern: (0.9200191167793388, 0.9200191167793388)"
          ]
        },
        {
          "name": "stdout",
          "output_type": "stream",
          "text": [
            "\n"
          ]
        },
        {
          "name": "stdout",
          "output_type": "stream",
          "text": [
            "Linear CKA concern: 0.9899920235266364"
          ]
        },
        {
          "name": "stdout",
          "output_type": "stream",
          "text": [
            "\n"
          ]
        },
        {
          "name": "stdout",
          "output_type": "stream",
          "text": [
            "Linear CKA non-concern: 0.9862169082700779"
          ]
        },
        {
          "name": "stdout",
          "output_type": "stream",
          "text": [
            "\n"
          ]
        },
        {
          "name": "stdout",
          "output_type": "stream",
          "text": [
            "Kernel CKA concern: 0.988197383767344"
          ]
        },
        {
          "name": "stdout",
          "output_type": "stream",
          "text": [
            "\n"
          ]
        },
        {
          "name": "stdout",
          "output_type": "stream",
          "text": [
            "Kernel CKA non-concern: 0.9871083425982828"
          ]
        },
        {
          "name": "stdout",
          "output_type": "stream",
          "text": [
            "\n"
          ]
        },
        {
          "name": "stdout",
          "output_type": "stream",
          "text": [
            "--9--"
          ]
        },
        {
          "name": "stdout",
          "output_type": "stream",
          "text": [
            "\n"
          ]
        },
        {
          "name": "stdout",
          "output_type": "stream",
          "text": [
            "adding eps to diagonal and taking inverse"
          ]
        },
        {
          "name": "stdout",
          "output_type": "stream",
          "text": [
            "\n"
          ]
        },
        {
          "name": "stdout",
          "output_type": "stream",
          "text": [
            "taking square root"
          ]
        },
        {
          "name": "stdout",
          "output_type": "stream",
          "text": [
            "\n"
          ]
        },
        {
          "name": "stdout",
          "output_type": "stream",
          "text": [
            "dot products..."
          ]
        },
        {
          "name": "stdout",
          "output_type": "stream",
          "text": [
            "\n"
          ]
        },
        {
          "name": "stdout",
          "output_type": "stream",
          "text": [
            "trying to take final svd"
          ]
        },
        {
          "name": "stdout",
          "output_type": "stream",
          "text": [
            "\n"
          ]
        },
        {
          "name": "stdout",
          "output_type": "stream",
          "text": [
            "computed everything!"
          ]
        },
        {
          "name": "stdout",
          "output_type": "stream",
          "text": [
            "\n"
          ]
        },
        {
          "name": "stdout",
          "output_type": "stream",
          "text": [
            "adding eps to diagonal and taking inverse"
          ]
        },
        {
          "name": "stdout",
          "output_type": "stream",
          "text": [
            "\n"
          ]
        },
        {
          "name": "stdout",
          "output_type": "stream",
          "text": [
            "taking square root"
          ]
        },
        {
          "name": "stdout",
          "output_type": "stream",
          "text": [
            "\n"
          ]
        },
        {
          "name": "stdout",
          "output_type": "stream",
          "text": [
            "dot products..."
          ]
        },
        {
          "name": "stdout",
          "output_type": "stream",
          "text": [
            "\n"
          ]
        },
        {
          "name": "stdout",
          "output_type": "stream",
          "text": [
            "trying to take final svd"
          ]
        },
        {
          "name": "stdout",
          "output_type": "stream",
          "text": [
            "\n"
          ]
        },
        {
          "name": "stdout",
          "output_type": "stream",
          "text": [
            "computed everything!"
          ]
        },
        {
          "name": "stdout",
          "output_type": "stream",
          "text": [
            "\n"
          ]
        },
        {
          "name": "stdout",
          "output_type": "stream",
          "text": [
            "CCA coefficients mean concern: (0.9191416217245603, 0.9191416217245603)"
          ]
        },
        {
          "name": "stdout",
          "output_type": "stream",
          "text": [
            "\n"
          ]
        },
        {
          "name": "stdout",
          "output_type": "stream",
          "text": [
            "CCA coefficients mean non-concern: (0.9193442020417328, 0.9193442020417328)"
          ]
        },
        {
          "name": "stdout",
          "output_type": "stream",
          "text": [
            "\n"
          ]
        },
        {
          "name": "stdout",
          "output_type": "stream",
          "text": [
            "Linear CKA concern: 0.9917451908452332"
          ]
        },
        {
          "name": "stdout",
          "output_type": "stream",
          "text": [
            "\n"
          ]
        },
        {
          "name": "stdout",
          "output_type": "stream",
          "text": [
            "Linear CKA non-concern: 0.9860438206723621"
          ]
        },
        {
          "name": "stdout",
          "output_type": "stream",
          "text": [
            "\n"
          ]
        },
        {
          "name": "stdout",
          "output_type": "stream",
          "text": [
            "Kernel CKA concern: 0.98980029516318"
          ]
        },
        {
          "name": "stdout",
          "output_type": "stream",
          "text": [
            "\n"
          ]
        },
        {
          "name": "stdout",
          "output_type": "stream",
          "text": [
            "Kernel CKA non-concern: 0.9870431324131546"
          ]
        },
        {
          "name": "stdout",
          "output_type": "stream",
          "text": [
            "\n"
          ]
        },
        {
          "name": "stdout",
          "output_type": "stream",
          "text": [
            "--10--"
          ]
        },
        {
          "name": "stdout",
          "output_type": "stream",
          "text": [
            "\n"
          ]
        },
        {
          "name": "stdout",
          "output_type": "stream",
          "text": [
            "adding eps to diagonal and taking inverse"
          ]
        },
        {
          "name": "stdout",
          "output_type": "stream",
          "text": [
            "\n"
          ]
        },
        {
          "name": "stdout",
          "output_type": "stream",
          "text": [
            "taking square root"
          ]
        },
        {
          "name": "stdout",
          "output_type": "stream",
          "text": [
            "\n"
          ]
        },
        {
          "name": "stdout",
          "output_type": "stream",
          "text": [
            "dot products..."
          ]
        },
        {
          "name": "stdout",
          "output_type": "stream",
          "text": [
            "\n"
          ]
        },
        {
          "name": "stdout",
          "output_type": "stream",
          "text": [
            "trying to take final svd"
          ]
        },
        {
          "name": "stdout",
          "output_type": "stream",
          "text": [
            "\n"
          ]
        },
        {
          "name": "stdout",
          "output_type": "stream",
          "text": [
            "computed everything!"
          ]
        },
        {
          "name": "stdout",
          "output_type": "stream",
          "text": [
            "\n"
          ]
        },
        {
          "name": "stdout",
          "output_type": "stream",
          "text": [
            "adding eps to diagonal and taking inverse"
          ]
        },
        {
          "name": "stdout",
          "output_type": "stream",
          "text": [
            "\n"
          ]
        },
        {
          "name": "stdout",
          "output_type": "stream",
          "text": [
            "taking square root"
          ]
        },
        {
          "name": "stdout",
          "output_type": "stream",
          "text": [
            "\n"
          ]
        },
        {
          "name": "stdout",
          "output_type": "stream",
          "text": [
            "dot products..."
          ]
        },
        {
          "name": "stdout",
          "output_type": "stream",
          "text": [
            "\n"
          ]
        },
        {
          "name": "stdout",
          "output_type": "stream",
          "text": [
            "trying to take final svd"
          ]
        },
        {
          "name": "stdout",
          "output_type": "stream",
          "text": [
            "\n"
          ]
        },
        {
          "name": "stdout",
          "output_type": "stream",
          "text": [
            "computed everything!"
          ]
        },
        {
          "name": "stdout",
          "output_type": "stream",
          "text": [
            "\n"
          ]
        },
        {
          "name": "stdout",
          "output_type": "stream",
          "text": [
            "CCA coefficients mean concern: (0.9183543413000558, 0.9183543413000558)"
          ]
        },
        {
          "name": "stdout",
          "output_type": "stream",
          "text": [
            "\n"
          ]
        },
        {
          "name": "stdout",
          "output_type": "stream",
          "text": [
            "CCA coefficients mean non-concern: (0.9201479138130207, 0.9201479138130207)"
          ]
        },
        {
          "name": "stdout",
          "output_type": "stream",
          "text": [
            "\n"
          ]
        },
        {
          "name": "stdout",
          "output_type": "stream",
          "text": [
            "Linear CKA concern: 0.9892388438668828"
          ]
        },
        {
          "name": "stdout",
          "output_type": "stream",
          "text": [
            "\n"
          ]
        },
        {
          "name": "stdout",
          "output_type": "stream",
          "text": [
            "Linear CKA non-concern: 0.9860496282653332"
          ]
        },
        {
          "name": "stdout",
          "output_type": "stream",
          "text": [
            "\n"
          ]
        },
        {
          "name": "stdout",
          "output_type": "stream",
          "text": [
            "Kernel CKA concern: 0.9868106884612509"
          ]
        },
        {
          "name": "stdout",
          "output_type": "stream",
          "text": [
            "\n"
          ]
        },
        {
          "name": "stdout",
          "output_type": "stream",
          "text": [
            "Kernel CKA non-concern: 0.9870543952788292"
          ]
        },
        {
          "name": "stdout",
          "output_type": "stream",
          "text": [
            "\n"
          ]
        },
        {
          "name": "stdout",
          "output_type": "stream",
          "text": [
            "--11--"
          ]
        },
        {
          "name": "stdout",
          "output_type": "stream",
          "text": [
            "\n"
          ]
        },
        {
          "name": "stdout",
          "output_type": "stream",
          "text": [
            "adding eps to diagonal and taking inverse"
          ]
        },
        {
          "name": "stdout",
          "output_type": "stream",
          "text": [
            "\n"
          ]
        },
        {
          "name": "stdout",
          "output_type": "stream",
          "text": [
            "taking square root"
          ]
        },
        {
          "name": "stdout",
          "output_type": "stream",
          "text": [
            "\n"
          ]
        },
        {
          "name": "stdout",
          "output_type": "stream",
          "text": [
            "dot products..."
          ]
        },
        {
          "name": "stdout",
          "output_type": "stream",
          "text": [
            "\n"
          ]
        },
        {
          "name": "stdout",
          "output_type": "stream",
          "text": [
            "trying to take final svd"
          ]
        },
        {
          "name": "stdout",
          "output_type": "stream",
          "text": [
            "\n"
          ]
        },
        {
          "name": "stdout",
          "output_type": "stream",
          "text": [
            "computed everything!"
          ]
        },
        {
          "name": "stdout",
          "output_type": "stream",
          "text": [
            "\n"
          ]
        },
        {
          "name": "stdout",
          "output_type": "stream",
          "text": [
            "adding eps to diagonal and taking inverse"
          ]
        },
        {
          "name": "stdout",
          "output_type": "stream",
          "text": [
            "\n"
          ]
        },
        {
          "name": "stdout",
          "output_type": "stream",
          "text": [
            "taking square root"
          ]
        },
        {
          "name": "stdout",
          "output_type": "stream",
          "text": [
            "\n"
          ]
        },
        {
          "name": "stdout",
          "output_type": "stream",
          "text": [
            "dot products..."
          ]
        },
        {
          "name": "stdout",
          "output_type": "stream",
          "text": [
            "\n"
          ]
        },
        {
          "name": "stdout",
          "output_type": "stream",
          "text": [
            "trying to take final svd"
          ]
        },
        {
          "name": "stdout",
          "output_type": "stream",
          "text": [
            "\n"
          ]
        },
        {
          "name": "stdout",
          "output_type": "stream",
          "text": [
            "computed everything!"
          ]
        },
        {
          "name": "stdout",
          "output_type": "stream",
          "text": [
            "\n"
          ]
        },
        {
          "name": "stdout",
          "output_type": "stream",
          "text": [
            "CCA coefficients mean concern: (0.9194851648880409, 0.9194851648880409)"
          ]
        },
        {
          "name": "stdout",
          "output_type": "stream",
          "text": [
            "\n"
          ]
        },
        {
          "name": "stdout",
          "output_type": "stream",
          "text": [
            "CCA coefficients mean non-concern: (0.9194305357417732, 0.9194305357417732)"
          ]
        },
        {
          "name": "stdout",
          "output_type": "stream",
          "text": [
            "\n"
          ]
        },
        {
          "name": "stdout",
          "output_type": "stream",
          "text": [
            "Linear CKA concern: 0.9892238844156371"
          ]
        },
        {
          "name": "stdout",
          "output_type": "stream",
          "text": [
            "\n"
          ]
        },
        {
          "name": "stdout",
          "output_type": "stream",
          "text": [
            "Linear CKA non-concern: 0.9865585023802677"
          ]
        },
        {
          "name": "stdout",
          "output_type": "stream",
          "text": [
            "\n"
          ]
        },
        {
          "name": "stdout",
          "output_type": "stream",
          "text": [
            "Kernel CKA concern: 0.9871805711254409"
          ]
        },
        {
          "name": "stdout",
          "output_type": "stream",
          "text": [
            "\n"
          ]
        },
        {
          "name": "stdout",
          "output_type": "stream",
          "text": [
            "Kernel CKA non-concern: 0.9874428996611364"
          ]
        },
        {
          "name": "stdout",
          "output_type": "stream",
          "text": [
            "\n"
          ]
        },
        {
          "name": "stdout",
          "output_type": "stream",
          "text": [
            "--12--"
          ]
        },
        {
          "name": "stdout",
          "output_type": "stream",
          "text": [
            "\n"
          ]
        },
        {
          "name": "stdout",
          "output_type": "stream",
          "text": [
            "adding eps to diagonal and taking inverse"
          ]
        },
        {
          "name": "stdout",
          "output_type": "stream",
          "text": [
            "\n"
          ]
        },
        {
          "name": "stdout",
          "output_type": "stream",
          "text": [
            "taking square root"
          ]
        },
        {
          "name": "stdout",
          "output_type": "stream",
          "text": [
            "\n"
          ]
        },
        {
          "name": "stdout",
          "output_type": "stream",
          "text": [
            "dot products..."
          ]
        },
        {
          "name": "stdout",
          "output_type": "stream",
          "text": [
            "\n"
          ]
        },
        {
          "name": "stdout",
          "output_type": "stream",
          "text": [
            "trying to take final svd"
          ]
        },
        {
          "name": "stdout",
          "output_type": "stream",
          "text": [
            "\n"
          ]
        },
        {
          "name": "stdout",
          "output_type": "stream",
          "text": [
            "computed everything!"
          ]
        },
        {
          "name": "stdout",
          "output_type": "stream",
          "text": [
            "\n"
          ]
        },
        {
          "name": "stdout",
          "output_type": "stream",
          "text": [
            "adding eps to diagonal and taking inverse"
          ]
        },
        {
          "name": "stdout",
          "output_type": "stream",
          "text": [
            "\n"
          ]
        },
        {
          "name": "stdout",
          "output_type": "stream",
          "text": [
            "taking square root"
          ]
        },
        {
          "name": "stdout",
          "output_type": "stream",
          "text": [
            "\n"
          ]
        },
        {
          "name": "stdout",
          "output_type": "stream",
          "text": [
            "dot products..."
          ]
        },
        {
          "name": "stdout",
          "output_type": "stream",
          "text": [
            "\n"
          ]
        },
        {
          "name": "stdout",
          "output_type": "stream",
          "text": [
            "trying to take final svd"
          ]
        },
        {
          "name": "stdout",
          "output_type": "stream",
          "text": [
            "\n"
          ]
        },
        {
          "name": "stdout",
          "output_type": "stream",
          "text": [
            "computed everything!"
          ]
        },
        {
          "name": "stdout",
          "output_type": "stream",
          "text": [
            "\n"
          ]
        },
        {
          "name": "stdout",
          "output_type": "stream",
          "text": [
            "CCA coefficients mean concern: (0.9175132592901918, 0.9175132592901918)"
          ]
        },
        {
          "name": "stdout",
          "output_type": "stream",
          "text": [
            "\n"
          ]
        },
        {
          "name": "stdout",
          "output_type": "stream",
          "text": [
            "CCA coefficients mean non-concern: (0.9197056325612192, 0.9197056325612192)"
          ]
        },
        {
          "name": "stdout",
          "output_type": "stream",
          "text": [
            "\n"
          ]
        },
        {
          "name": "stdout",
          "output_type": "stream",
          "text": [
            "Linear CKA concern: 0.9876111181803747"
          ]
        },
        {
          "name": "stdout",
          "output_type": "stream",
          "text": [
            "\n"
          ]
        },
        {
          "name": "stdout",
          "output_type": "stream",
          "text": [
            "Linear CKA non-concern: 0.9868382176342408"
          ]
        },
        {
          "name": "stdout",
          "output_type": "stream",
          "text": [
            "\n"
          ]
        },
        {
          "name": "stdout",
          "output_type": "stream",
          "text": [
            "Kernel CKA concern: 0.986275585805318"
          ]
        },
        {
          "name": "stdout",
          "output_type": "stream",
          "text": [
            "\n"
          ]
        },
        {
          "name": "stdout",
          "output_type": "stream",
          "text": [
            "Kernel CKA non-concern: 0.9876924756649238"
          ]
        },
        {
          "name": "stdout",
          "output_type": "stream",
          "text": [
            "\n"
          ]
        },
        {
          "name": "stdout",
          "output_type": "stream",
          "text": [
            "--13--"
          ]
        },
        {
          "name": "stdout",
          "output_type": "stream",
          "text": [
            "\n"
          ]
        },
        {
          "name": "stdout",
          "output_type": "stream",
          "text": [
            "adding eps to diagonal and taking inverse"
          ]
        },
        {
          "name": "stdout",
          "output_type": "stream",
          "text": [
            "\n"
          ]
        },
        {
          "name": "stdout",
          "output_type": "stream",
          "text": [
            "taking square root"
          ]
        },
        {
          "name": "stdout",
          "output_type": "stream",
          "text": [
            "\n"
          ]
        },
        {
          "name": "stdout",
          "output_type": "stream",
          "text": [
            "dot products..."
          ]
        },
        {
          "name": "stdout",
          "output_type": "stream",
          "text": [
            "\n"
          ]
        },
        {
          "name": "stdout",
          "output_type": "stream",
          "text": [
            "trying to take final svd"
          ]
        },
        {
          "name": "stdout",
          "output_type": "stream",
          "text": [
            "\n"
          ]
        },
        {
          "name": "stdout",
          "output_type": "stream",
          "text": [
            "computed everything!"
          ]
        },
        {
          "name": "stdout",
          "output_type": "stream",
          "text": [
            "\n"
          ]
        },
        {
          "name": "stdout",
          "output_type": "stream",
          "text": [
            "adding eps to diagonal and taking inverse"
          ]
        },
        {
          "name": "stdout",
          "output_type": "stream",
          "text": [
            "\n"
          ]
        },
        {
          "name": "stdout",
          "output_type": "stream",
          "text": [
            "taking square root"
          ]
        },
        {
          "name": "stdout",
          "output_type": "stream",
          "text": [
            "\n"
          ]
        },
        {
          "name": "stdout",
          "output_type": "stream",
          "text": [
            "dot products..."
          ]
        },
        {
          "name": "stdout",
          "output_type": "stream",
          "text": [
            "\n"
          ]
        },
        {
          "name": "stdout",
          "output_type": "stream",
          "text": [
            "trying to take final svd"
          ]
        },
        {
          "name": "stdout",
          "output_type": "stream",
          "text": [
            "\n"
          ]
        },
        {
          "name": "stdout",
          "output_type": "stream",
          "text": [
            "computed everything!"
          ]
        },
        {
          "name": "stdout",
          "output_type": "stream",
          "text": [
            "\n"
          ]
        },
        {
          "name": "stdout",
          "output_type": "stream",
          "text": [
            "CCA coefficients mean concern: (0.9201258159832306, 0.9201258159832306)"
          ]
        },
        {
          "name": "stdout",
          "output_type": "stream",
          "text": [
            "\n"
          ]
        },
        {
          "name": "stdout",
          "output_type": "stream",
          "text": [
            "CCA coefficients mean non-concern: (0.920229293854687, 0.920229293854687)"
          ]
        },
        {
          "name": "stdout",
          "output_type": "stream",
          "text": [
            "\n"
          ]
        },
        {
          "name": "stdout",
          "output_type": "stream",
          "text": [
            "Linear CKA concern: 0.9894847733849298"
          ]
        },
        {
          "name": "stdout",
          "output_type": "stream",
          "text": [
            "\n"
          ]
        },
        {
          "name": "stdout",
          "output_type": "stream",
          "text": [
            "Linear CKA non-concern: 0.9863244893020646"
          ]
        },
        {
          "name": "stdout",
          "output_type": "stream",
          "text": [
            "\n"
          ]
        },
        {
          "name": "stdout",
          "output_type": "stream",
          "text": [
            "Kernel CKA concern: 0.9872797906431318"
          ]
        },
        {
          "name": "stdout",
          "output_type": "stream",
          "text": [
            "\n"
          ]
        },
        {
          "name": "stdout",
          "output_type": "stream",
          "text": [
            "Kernel CKA non-concern: 0.9870526900840355"
          ]
        },
        {
          "name": "stdout",
          "output_type": "stream",
          "text": [
            "\n"
          ]
        },
        {
          "name": "stdout",
          "output_type": "stream",
          "text": [
            "--14--"
          ]
        },
        {
          "name": "stdout",
          "output_type": "stream",
          "text": [
            "\n"
          ]
        },
        {
          "name": "stdout",
          "output_type": "stream",
          "text": [
            "adding eps to diagonal and taking inverse"
          ]
        },
        {
          "name": "stdout",
          "output_type": "stream",
          "text": [
            "\n"
          ]
        },
        {
          "name": "stdout",
          "output_type": "stream",
          "text": [
            "taking square root"
          ]
        },
        {
          "name": "stdout",
          "output_type": "stream",
          "text": [
            "\n"
          ]
        },
        {
          "name": "stdout",
          "output_type": "stream",
          "text": [
            "dot products..."
          ]
        },
        {
          "name": "stdout",
          "output_type": "stream",
          "text": [
            "\n"
          ]
        },
        {
          "name": "stdout",
          "output_type": "stream",
          "text": [
            "trying to take final svd"
          ]
        },
        {
          "name": "stdout",
          "output_type": "stream",
          "text": [
            "\n"
          ]
        },
        {
          "name": "stdout",
          "output_type": "stream",
          "text": [
            "computed everything!"
          ]
        },
        {
          "name": "stdout",
          "output_type": "stream",
          "text": [
            "\n"
          ]
        },
        {
          "name": "stdout",
          "output_type": "stream",
          "text": [
            "adding eps to diagonal and taking inverse"
          ]
        },
        {
          "name": "stdout",
          "output_type": "stream",
          "text": [
            "\n"
          ]
        },
        {
          "name": "stdout",
          "output_type": "stream",
          "text": [
            "taking square root"
          ]
        },
        {
          "name": "stdout",
          "output_type": "stream",
          "text": [
            "\n"
          ]
        },
        {
          "name": "stdout",
          "output_type": "stream",
          "text": [
            "dot products..."
          ]
        },
        {
          "name": "stdout",
          "output_type": "stream",
          "text": [
            "\n"
          ]
        },
        {
          "name": "stdout",
          "output_type": "stream",
          "text": [
            "trying to take final svd"
          ]
        },
        {
          "name": "stdout",
          "output_type": "stream",
          "text": [
            "\n"
          ]
        },
        {
          "name": "stdout",
          "output_type": "stream",
          "text": [
            "computed everything!"
          ]
        },
        {
          "name": "stdout",
          "output_type": "stream",
          "text": [
            "\n"
          ]
        },
        {
          "name": "stdout",
          "output_type": "stream",
          "text": [
            "CCA coefficients mean concern: (0.9190856483830693, 0.9190856483830693)"
          ]
        },
        {
          "name": "stdout",
          "output_type": "stream",
          "text": [
            "\n"
          ]
        },
        {
          "name": "stdout",
          "output_type": "stream",
          "text": [
            "CCA coefficients mean non-concern: (0.9194444389737048, 0.9194444389737048)"
          ]
        },
        {
          "name": "stdout",
          "output_type": "stream",
          "text": [
            "\n"
          ]
        },
        {
          "name": "stdout",
          "output_type": "stream",
          "text": [
            "Linear CKA concern: 0.9893285125949869"
          ]
        },
        {
          "name": "stdout",
          "output_type": "stream",
          "text": [
            "\n"
          ]
        },
        {
          "name": "stdout",
          "output_type": "stream",
          "text": [
            "Linear CKA non-concern: 0.9865116263111737"
          ]
        },
        {
          "name": "stdout",
          "output_type": "stream",
          "text": [
            "\n"
          ]
        },
        {
          "name": "stdout",
          "output_type": "stream",
          "text": [
            "Kernel CKA concern: 0.9873108344664165"
          ]
        },
        {
          "name": "stdout",
          "output_type": "stream",
          "text": [
            "\n"
          ]
        },
        {
          "name": "stdout",
          "output_type": "stream",
          "text": [
            "Kernel CKA non-concern: 0.9875166560879706"
          ]
        },
        {
          "name": "stdout",
          "output_type": "stream",
          "text": [
            "\n"
          ]
        },
        {
          "name": "stdout",
          "output_type": "stream",
          "text": [
            "--15--"
          ]
        },
        {
          "name": "stdout",
          "output_type": "stream",
          "text": [
            "\n"
          ]
        },
        {
          "name": "stdout",
          "output_type": "stream",
          "text": [
            "adding eps to diagonal and taking inverse"
          ]
        },
        {
          "name": "stdout",
          "output_type": "stream",
          "text": [
            "\n"
          ]
        },
        {
          "name": "stdout",
          "output_type": "stream",
          "text": [
            "taking square root"
          ]
        },
        {
          "name": "stdout",
          "output_type": "stream",
          "text": [
            "\n"
          ]
        },
        {
          "name": "stdout",
          "output_type": "stream",
          "text": [
            "dot products..."
          ]
        },
        {
          "name": "stdout",
          "output_type": "stream",
          "text": [
            "\n"
          ]
        },
        {
          "name": "stdout",
          "output_type": "stream",
          "text": [
            "trying to take final svd"
          ]
        },
        {
          "name": "stdout",
          "output_type": "stream",
          "text": [
            "\n"
          ]
        },
        {
          "name": "stdout",
          "output_type": "stream",
          "text": [
            "computed everything!"
          ]
        },
        {
          "name": "stdout",
          "output_type": "stream",
          "text": [
            "\n"
          ]
        },
        {
          "name": "stdout",
          "output_type": "stream",
          "text": [
            "adding eps to diagonal and taking inverse"
          ]
        },
        {
          "name": "stdout",
          "output_type": "stream",
          "text": [
            "\n"
          ]
        },
        {
          "name": "stdout",
          "output_type": "stream",
          "text": [
            "taking square root"
          ]
        },
        {
          "name": "stdout",
          "output_type": "stream",
          "text": [
            "\n"
          ]
        },
        {
          "name": "stdout",
          "output_type": "stream",
          "text": [
            "dot products..."
          ]
        },
        {
          "name": "stdout",
          "output_type": "stream",
          "text": [
            "\n"
          ]
        },
        {
          "name": "stdout",
          "output_type": "stream",
          "text": [
            "trying to take final svd"
          ]
        },
        {
          "name": "stdout",
          "output_type": "stream",
          "text": [
            "\n"
          ]
        },
        {
          "name": "stdout",
          "output_type": "stream",
          "text": [
            "computed everything!"
          ]
        },
        {
          "name": "stdout",
          "output_type": "stream",
          "text": [
            "\n"
          ]
        },
        {
          "name": "stdout",
          "output_type": "stream",
          "text": [
            "CCA coefficients mean concern: (0.9145377321500823, 0.9145377321500823)"
          ]
        },
        {
          "name": "stdout",
          "output_type": "stream",
          "text": [
            "\n"
          ]
        },
        {
          "name": "stdout",
          "output_type": "stream",
          "text": [
            "CCA coefficients mean non-concern: (0.9190929361536889, 0.9190929361536889)"
          ]
        },
        {
          "name": "stdout",
          "output_type": "stream",
          "text": [
            "\n"
          ]
        },
        {
          "name": "stdout",
          "output_type": "stream",
          "text": [
            "Linear CKA concern: 0.9815021433693715"
          ]
        },
        {
          "name": "stdout",
          "output_type": "stream",
          "text": [
            "\n"
          ]
        },
        {
          "name": "stdout",
          "output_type": "stream",
          "text": [
            "Linear CKA non-concern: 0.9868744773165109"
          ]
        },
        {
          "name": "stdout",
          "output_type": "stream",
          "text": [
            "\n"
          ]
        },
        {
          "name": "stdout",
          "output_type": "stream",
          "text": [
            "Kernel CKA concern: 0.9777848050719705"
          ]
        },
        {
          "name": "stdout",
          "output_type": "stream",
          "text": [
            "\n"
          ]
        },
        {
          "name": "stdout",
          "output_type": "stream",
          "text": [
            "Kernel CKA non-concern: 0.9876923330392793"
          ]
        },
        {
          "name": "stdout",
          "output_type": "stream",
          "text": [
            "\n"
          ]
        }
      ],
      "source": [
        "for concern in range(num_labels):\n",
        "    print(f\"--{concern}--\")\n",
        "    positive_samples = SamplingDataset(\n",
        "        train_dataloader, concern, num_samples, num_labels, True, 4, device=device, resample=False, seed=seed\n",
        "    )\n",
        "    negative_samples = SamplingDataset(\n",
        "        train_dataloader, concern, num_samples, num_labels, False, 4, device=device, resample=False, seed=seed\n",
        "    )\n",
        "    similar(model, module, valid_dataloader, concern, num_samples, num_labels, device=device, seed=seed)"
      ]
    },
    {
      "cell_type": "code",
      "execution_count": 12,
      "id": "5163bd33-5b99-487b-9099-ea53b46eaacd",
      "metadata": {
        "execution": {
          "iopub.execute_input": "2024-08-19T05:41:52.652783Z",
          "iopub.status.busy": "2024-08-19T05:41:52.652496Z",
          "iopub.status.idle": "2024-08-19T05:41:54.276807Z",
          "shell.execute_reply": "2024-08-19T05:41:54.276371Z"
        },
        "papermill": {
          "duration": 1.670762,
          "end_time": "2024-08-19T05:41:54.277870",
          "exception": false,
          "start_time": "2024-08-19T05:41:52.607108",
          "status": "completed"
        },
        "tags": []
      },
      "outputs": [
        {
          "data": {
            "text/plain": [
              "(0.29718790697031233,\n",
              " {'bert.encoder.layer.0.attention.self.query.weight': 0.2994791666666667,\n",
              "  'bert.encoder.layer.0.attention.self.query.bias': 0.0,\n",
              "  'bert.encoder.layer.0.attention.self.key.weight': 0.2994791666666667,\n",
              "  'bert.encoder.layer.0.attention.self.key.bias': 0.0,\n",
              "  'bert.encoder.layer.0.attention.self.value.weight': 0.2994791666666667,\n",
              "  'bert.encoder.layer.0.attention.self.value.bias': 0.0,\n",
              "  'bert.encoder.layer.0.attention.output.dense.weight': 0.2994791666666667,\n",
              "  'bert.encoder.layer.0.attention.output.dense.bias': 0.0,\n",
              "  'bert.encoder.layer.0.intermediate.dense.weight': 0.2994791666666667,\n",
              "  'bert.encoder.layer.0.intermediate.dense.bias': 0.0,\n",
              "  'bert.encoder.layer.0.output.dense.weight': 0.2998046875,\n",
              "  'bert.encoder.layer.0.output.dense.bias': 0.0,\n",
              "  'bert.encoder.layer.1.attention.self.query.weight': 0.2994791666666667,\n",
              "  'bert.encoder.layer.1.attention.self.query.bias': 0.0,\n",
              "  'bert.encoder.layer.1.attention.self.key.weight': 0.2994791666666667,\n",
              "  'bert.encoder.layer.1.attention.self.key.bias': 0.0,\n",
              "  'bert.encoder.layer.1.attention.self.value.weight': 0.2994791666666667,\n",
              "  'bert.encoder.layer.1.attention.self.value.bias': 0.0,\n",
              "  'bert.encoder.layer.1.attention.output.dense.weight': 0.2994791666666667,\n",
              "  'bert.encoder.layer.1.attention.output.dense.bias': 0.0,\n",
              "  'bert.encoder.layer.1.intermediate.dense.weight': 0.2994791666666667,\n",
              "  'bert.encoder.layer.1.intermediate.dense.bias': 0.0,\n",
              "  'bert.encoder.layer.1.output.dense.weight': 0.2998046875,\n",
              "  'bert.encoder.layer.1.output.dense.bias': 0.0,\n",
              "  'bert.encoder.layer.2.attention.self.query.weight': 0.2994791666666667,\n",
              "  'bert.encoder.layer.2.attention.self.query.bias': 0.0,\n",
              "  'bert.encoder.layer.2.attention.self.key.weight': 0.2994791666666667,\n",
              "  'bert.encoder.layer.2.attention.self.key.bias': 0.0,\n",
              "  'bert.encoder.layer.2.attention.self.value.weight': 0.2994791666666667,\n",
              "  'bert.encoder.layer.2.attention.self.value.bias': 0.0,\n",
              "  'bert.encoder.layer.2.attention.output.dense.weight': 0.2994791666666667,\n",
              "  'bert.encoder.layer.2.attention.output.dense.bias': 0.0,\n",
              "  'bert.encoder.layer.2.intermediate.dense.weight': 0.2994791666666667,\n",
              "  'bert.encoder.layer.2.intermediate.dense.bias': 0.0,\n",
              "  'bert.encoder.layer.2.output.dense.weight': 0.2998046875,\n",
              "  'bert.encoder.layer.2.output.dense.bias': 0.0,\n",
              "  'bert.encoder.layer.3.attention.self.query.weight': 0.2994791666666667,\n",
              "  'bert.encoder.layer.3.attention.self.query.bias': 0.0,\n",
              "  'bert.encoder.layer.3.attention.self.key.weight': 0.2994791666666667,\n",
              "  'bert.encoder.layer.3.attention.self.key.bias': 0.0,\n",
              "  'bert.encoder.layer.3.attention.self.value.weight': 0.2994791666666667,\n",
              "  'bert.encoder.layer.3.attention.self.value.bias': 0.0,\n",
              "  'bert.encoder.layer.3.attention.output.dense.weight': 0.2994791666666667,\n",
              "  'bert.encoder.layer.3.attention.output.dense.bias': 0.0,\n",
              "  'bert.encoder.layer.3.intermediate.dense.weight': 0.2994791666666667,\n",
              "  'bert.encoder.layer.3.intermediate.dense.bias': 0.0,\n",
              "  'bert.encoder.layer.3.output.dense.weight': 0.2998046875,\n",
              "  'bert.encoder.layer.3.output.dense.bias': 0.0,\n",
              "  'bert.encoder.layer.4.attention.self.query.weight': 0.2994791666666667,\n",
              "  'bert.encoder.layer.4.attention.self.query.bias': 0.0,\n",
              "  'bert.encoder.layer.4.attention.self.key.weight': 0.2994791666666667,\n",
              "  'bert.encoder.layer.4.attention.self.key.bias': 0.0,\n",
              "  'bert.encoder.layer.4.attention.self.value.weight': 0.2994791666666667,\n",
              "  'bert.encoder.layer.4.attention.self.value.bias': 0.0,\n",
              "  'bert.encoder.layer.4.attention.output.dense.weight': 0.2994791666666667,\n",
              "  'bert.encoder.layer.4.attention.output.dense.bias': 0.0,\n",
              "  'bert.encoder.layer.4.intermediate.dense.weight': 0.2994791666666667,\n",
              "  'bert.encoder.layer.4.intermediate.dense.bias': 0.0,\n",
              "  'bert.encoder.layer.4.output.dense.weight': 0.2998046875,\n",
              "  'bert.encoder.layer.4.output.dense.bias': 0.0,\n",
              "  'bert.encoder.layer.5.attention.self.query.weight': 0.2994791666666667,\n",
              "  'bert.encoder.layer.5.attention.self.query.bias': 0.0,\n",
              "  'bert.encoder.layer.5.attention.self.key.weight': 0.2994791666666667,\n",
              "  'bert.encoder.layer.5.attention.self.key.bias': 0.0,\n",
              "  'bert.encoder.layer.5.attention.self.value.weight': 0.2994791666666667,\n",
              "  'bert.encoder.layer.5.attention.self.value.bias': 0.0,\n",
              "  'bert.encoder.layer.5.attention.output.dense.weight': 0.2994791666666667,\n",
              "  'bert.encoder.layer.5.attention.output.dense.bias': 0.0,\n",
              "  'bert.encoder.layer.5.intermediate.dense.weight': 0.2994791666666667,\n",
              "  'bert.encoder.layer.5.intermediate.dense.bias': 0.0,\n",
              "  'bert.encoder.layer.5.output.dense.weight': 0.2998046875,\n",
              "  'bert.encoder.layer.5.output.dense.bias': 0.0,\n",
              "  'bert.encoder.layer.6.attention.self.query.weight': 0.2994791666666667,\n",
              "  'bert.encoder.layer.6.attention.self.query.bias': 0.0,\n",
              "  'bert.encoder.layer.6.attention.self.key.weight': 0.2994791666666667,\n",
              "  'bert.encoder.layer.6.attention.self.key.bias': 0.0,\n",
              "  'bert.encoder.layer.6.attention.self.value.weight': 0.2994791666666667,\n",
              "  'bert.encoder.layer.6.attention.self.value.bias': 0.0,\n",
              "  'bert.encoder.layer.6.attention.output.dense.weight': 0.2994791666666667,\n",
              "  'bert.encoder.layer.6.attention.output.dense.bias': 0.0,\n",
              "  'bert.encoder.layer.6.intermediate.dense.weight': 0.2994791666666667,\n",
              "  'bert.encoder.layer.6.intermediate.dense.bias': 0.0,\n",
              "  'bert.encoder.layer.6.output.dense.weight': 0.2998046875,\n",
              "  'bert.encoder.layer.6.output.dense.bias': 0.0,\n",
              "  'bert.encoder.layer.7.attention.self.query.weight': 0.2994791666666667,\n",
              "  'bert.encoder.layer.7.attention.self.query.bias': 0.0,\n",
              "  'bert.encoder.layer.7.attention.self.key.weight': 0.2994791666666667,\n",
              "  'bert.encoder.layer.7.attention.self.key.bias': 0.0,\n",
              "  'bert.encoder.layer.7.attention.self.value.weight': 0.2994791666666667,\n",
              "  'bert.encoder.layer.7.attention.self.value.bias': 0.0,\n",
              "  'bert.encoder.layer.7.attention.output.dense.weight': 0.2994791666666667,\n",
              "  'bert.encoder.layer.7.attention.output.dense.bias': 0.0,\n",
              "  'bert.encoder.layer.7.intermediate.dense.weight': 0.2994791666666667,\n",
              "  'bert.encoder.layer.7.intermediate.dense.bias': 0.0,\n",
              "  'bert.encoder.layer.7.output.dense.weight': 0.2998046875,\n",
              "  'bert.encoder.layer.7.output.dense.bias': 0.0,\n",
              "  'bert.encoder.layer.8.attention.self.query.weight': 0.2994791666666667,\n",
              "  'bert.encoder.layer.8.attention.self.query.bias': 0.0,\n",
              "  'bert.encoder.layer.8.attention.self.key.weight': 0.2994791666666667,\n",
              "  'bert.encoder.layer.8.attention.self.key.bias': 0.0,\n",
              "  'bert.encoder.layer.8.attention.self.value.weight': 0.2994791666666667,\n",
              "  'bert.encoder.layer.8.attention.self.value.bias': 0.0,\n",
              "  'bert.encoder.layer.8.attention.output.dense.weight': 0.2994791666666667,\n",
              "  'bert.encoder.layer.8.attention.output.dense.bias': 0.0,\n",
              "  'bert.encoder.layer.8.intermediate.dense.weight': 0.2994791666666667,\n",
              "  'bert.encoder.layer.8.intermediate.dense.bias': 0.0,\n",
              "  'bert.encoder.layer.8.output.dense.weight': 0.2998046875,\n",
              "  'bert.encoder.layer.8.output.dense.bias': 0.0,\n",
              "  'bert.encoder.layer.9.attention.self.query.weight': 0.2994791666666667,\n",
              "  'bert.encoder.layer.9.attention.self.query.bias': 0.0,\n",
              "  'bert.encoder.layer.9.attention.self.key.weight': 0.2994791666666667,\n",
              "  'bert.encoder.layer.9.attention.self.key.bias': 0.0,\n",
              "  'bert.encoder.layer.9.attention.self.value.weight': 0.2994791666666667,\n",
              "  'bert.encoder.layer.9.attention.self.value.bias': 0.0,\n",
              "  'bert.encoder.layer.9.attention.output.dense.weight': 0.2994791666666667,\n",
              "  'bert.encoder.layer.9.attention.output.dense.bias': 0.0,\n",
              "  'bert.encoder.layer.9.intermediate.dense.weight': 0.2994791666666667,\n",
              "  'bert.encoder.layer.9.intermediate.dense.bias': 0.0,\n",
              "  'bert.encoder.layer.9.output.dense.weight': 0.2998046875,\n",
              "  'bert.encoder.layer.9.output.dense.bias': 0.0,\n",
              "  'bert.encoder.layer.10.attention.self.query.weight': 0.2994791666666667,\n",
              "  'bert.encoder.layer.10.attention.self.query.bias': 0.0,\n",
              "  'bert.encoder.layer.10.attention.self.key.weight': 0.2994791666666667,\n",
              "  'bert.encoder.layer.10.attention.self.key.bias': 0.0,\n",
              "  'bert.encoder.layer.10.attention.self.value.weight': 0.2994791666666667,\n",
              "  'bert.encoder.layer.10.attention.self.value.bias': 0.0,\n",
              "  'bert.encoder.layer.10.attention.output.dense.weight': 0.2994791666666667,\n",
              "  'bert.encoder.layer.10.attention.output.dense.bias': 0.0,\n",
              "  'bert.encoder.layer.10.intermediate.dense.weight': 0.2994791666666667,\n",
              "  'bert.encoder.layer.10.intermediate.dense.bias': 0.0,\n",
              "  'bert.encoder.layer.10.output.dense.weight': 0.2998046875,\n",
              "  'bert.encoder.layer.10.output.dense.bias': 0.0,\n",
              "  'bert.encoder.layer.11.attention.self.query.weight': 0.2994791666666667,\n",
              "  'bert.encoder.layer.11.attention.self.query.bias': 0.0,\n",
              "  'bert.encoder.layer.11.attention.self.key.weight': 0.2994791666666667,\n",
              "  'bert.encoder.layer.11.attention.self.key.bias': 0.0,\n",
              "  'bert.encoder.layer.11.attention.self.value.weight': 0.2994791666666667,\n",
              "  'bert.encoder.layer.11.attention.self.value.bias': 0.0,\n",
              "  'bert.encoder.layer.11.attention.output.dense.weight': 0.2994791666666667,\n",
              "  'bert.encoder.layer.11.attention.output.dense.bias': 0.0,\n",
              "  'bert.encoder.layer.11.intermediate.dense.weight': 0.2994791666666667,\n",
              "  'bert.encoder.layer.11.intermediate.dense.bias': 0.0,\n",
              "  'bert.encoder.layer.11.output.dense.weight': 0.2998046875,\n",
              "  'bert.encoder.layer.11.output.dense.bias': 0.0,\n",
              "  'bert.pooler.dense.weight': 0.0,\n",
              "  'bert.pooler.dense.bias': 0.0,\n",
              "  'classifier.weight': 0.0,\n",
              "  'classifier.bias': 0.0})"
            ]
          },
          "execution_count": 12,
          "metadata": {},
          "output_type": "execute_result"
        }
      ],
      "source": [
        "get_sparsity(module)"
      ]
    }
  ],
  "metadata": {
    "kernelspec": {
      "display_name": "Python 3 (ipykernel)",
      "language": "python",
      "name": "python3"
    },
    "language_info": {
      "codemirror_mode": {
        "name": "ipython",
        "version": 3
      },
      "file_extension": ".py",
      "mimetype": "text/x-python",
      "name": "python",
      "nbconvert_exporter": "python",
      "pygments_lexer": "ipython3",
      "version": "3.8.19"
    },
    "papermill": {
      "default_parameters": {},
      "duration": 313.824495,
      "end_time": "2024-08-19T05:41:56.125374",
      "environment_variables": {},
      "exception": null,
      "input_path": "Getting_Started/ipynb/Prune by wanda/OSDG/Prune by wanda(30%).ipynb",
      "output_path": "Getting_Started/ipynb/Prune by wanda/OSDG/Prune by wanda(30%)_saved.ipynb",
      "parameters": {},
      "start_time": "2024-08-19T05:36:42.300879",
      "version": "2.6.0"
    }
  },
  "nbformat": 4,
  "nbformat_minor": 5
}