{
  "cells": [
    {
      "cell_type": "code",
      "execution_count": 1,
      "id": "1e774c0d-6a12-4e09-83b7-52c6be4f5eea",
      "metadata": {
        "editable": true,
        "execution": {
          "iopub.execute_input": "2024-08-19T05:41:57.580254Z",
          "iopub.status.busy": "2024-08-19T05:41:57.579619Z",
          "iopub.status.idle": "2024-08-19T05:41:57.595328Z",
          "shell.execute_reply": "2024-08-19T05:41:57.594143Z"
        },
        "papermill": {
          "duration": 0.026576,
          "end_time": "2024-08-19T05:41:57.598338",
          "exception": false,
          "start_time": "2024-08-19T05:41:57.571762",
          "status": "completed"
        },
        "slideshow": {
          "slide_type": ""
        },
        "tags": []
      },
      "outputs": [],
      "source": [
        "import os\n",
        "import sys\n",
        "sys.path.append(\"../../../../\")\n",
        "os.environ[\"TOKENIZERS_PARALLELISM\"] = \"false\""
      ]
    },
    {
      "cell_type": "code",
      "execution_count": 2,
      "id": "b787f031-cd94-47d7-8f3d-a36a6c772eeb",
      "metadata": {
        "execution": {
          "iopub.execute_input": "2024-08-19T05:41:57.610613Z",
          "iopub.status.busy": "2024-08-19T05:41:57.610135Z",
          "iopub.status.idle": "2024-08-19T05:41:59.122577Z",
          "shell.execute_reply": "2024-08-19T05:41:59.121459Z"
        },
        "papermill": {
          "duration": 1.522732,
          "end_time": "2024-08-19T05:41:59.126778",
          "exception": false,
          "start_time": "2024-08-19T05:41:57.604046",
          "status": "completed"
        },
        "tags": []
      },
      "outputs": [],
      "source": [
        "import copy\n",
        "import torch\n",
        "from datetime import datetime\n",
        "from utils.helper import ModelConfig, color_print\n",
        "from utils.dataset_utils.load_dataset import (\n",
        "    load_data,\n",
        ")\n",
        "from utils.model_utils.save_module import save_module\n",
        "from utils.model_utils.load_model import load_model\n",
        "from utils.model_utils.evaluate import evaluate_model, get_sparsity, similar\n",
        "from utils.dataset_utils.sampling import SamplingDataset\n",
        "from utils.prune_utils.prune import (\n",
        "    prune_wanda\n",
        ")"
      ]
    },
    {
      "cell_type": "code",
      "execution_count": 3,
      "id": "e41ca12f-9587-4e99-9e64-895758e0c440",
      "metadata": {
        "execution": {
          "iopub.execute_input": "2024-08-19T05:41:59.142440Z",
          "iopub.status.busy": "2024-08-19T05:41:59.142131Z",
          "iopub.status.idle": "2024-08-19T05:41:59.146749Z",
          "shell.execute_reply": "2024-08-19T05:41:59.145940Z"
        },
        "papermill": {
          "duration": 0.017399,
          "end_time": "2024-08-19T05:41:59.149524",
          "exception": false,
          "start_time": "2024-08-19T05:41:59.132125",
          "status": "completed"
        },
        "tags": []
      },
      "outputs": [],
      "source": [
        "name= \"OSDG\"\n",
        "device = torch.device(\"cuda:0\")\n",
        "checkpoint = None\n",
        "batch_size=32\n",
        "num_workers=48\n",
        "num_samples=16\n",
        "wanda_ratio=0.4\n",
        "seed=44\n",
        "include_layers=[\"attention\", \"intermediate\", \"output\"]\n",
        "exclude_layers=None"
      ]
    },
    {
      "cell_type": "code",
      "execution_count": 4,
      "id": "38c4450b-606e-49bb-97c4-9473f2ebccab",
      "metadata": {
        "execution": {
          "iopub.execute_input": "2024-08-19T05:41:59.160345Z",
          "iopub.status.busy": "2024-08-19T05:41:59.160190Z",
          "iopub.status.idle": "2024-08-19T05:41:59.165662Z",
          "shell.execute_reply": "2024-08-19T05:41:59.164745Z"
        },
        "papermill": {
          "duration": 0.015248,
          "end_time": "2024-08-19T05:41:59.169649",
          "exception": false,
          "start_time": "2024-08-19T05:41:59.154401",
          "status": "completed"
        },
        "tags": []
      },
      "outputs": [
        {
          "name": "stdout",
          "output_type": "stream",
          "text": [
            "Script started at: 2024-08-19 14:41:59\n"
          ]
        }
      ],
      "source": [
        "script_start_time = datetime.now()\n",
        "print(f\"Script started at: {script_start_time.strftime('%Y-%m-%d %H:%M:%S')}\")"
      ]
    },
    {
      "cell_type": "code",
      "execution_count": 5,
      "id": "d71e362f-ac31-43de-b51f-1cd9a9a388de",
      "metadata": {
        "execution": {
          "iopub.execute_input": "2024-08-19T05:41:59.181323Z",
          "iopub.status.busy": "2024-08-19T05:41:59.180963Z",
          "iopub.status.idle": "2024-08-19T05:42:02.477082Z",
          "shell.execute_reply": "2024-08-19T05:42:02.475905Z"
        },
        "papermill": {
          "duration": 3.306069,
          "end_time": "2024-08-19T05:42:02.480771",
          "exception": false,
          "start_time": "2024-08-19T05:41:59.174702",
          "status": "completed"
        },
        "tags": []
      },
      "outputs": [
        {
          "name": "stdout",
          "output_type": "stream",
          "text": [
            "Loading the model."
          ]
        },
        {
          "name": "stdout",
          "output_type": "stream",
          "text": [
            "\n"
          ]
        },
        {
          "name": "stdout",
          "output_type": "stream",
          "text": [
            "{'model_name': 'sadickam/sdg-classification-bert', 'task_type': 'classification', 'architectures': 'bert', 'dataset_name': 'OSDG', 'num_labels': 16, 'cache_dir': 'Models'}"
          ]
        },
        {
          "name": "stdout",
          "output_type": "stream",
          "text": [
            "\n"
          ]
        },
        {
          "name": "stdout",
          "output_type": "stream",
          "text": [
            "The model sadickam/sdg-classification-bert is loaded."
          ]
        },
        {
          "name": "stdout",
          "output_type": "stream",
          "text": [
            "\n"
          ]
        }
      ],
      "source": [
        "model_config = ModelConfig(name, device)\n",
        "num_labels = model_config.config[\"num_labels\"]\n",
        "model, tokenizer, checkpoint = load_model(model_config)"
      ]
    },
    {
      "cell_type": "code",
      "execution_count": 6,
      "id": "f51b4e6c-5480-42c7-9d62-a05cbd1d4221",
      "metadata": {
        "execution": {
          "iopub.execute_input": "2024-08-19T05:42:02.495451Z",
          "iopub.status.busy": "2024-08-19T05:42:02.494910Z",
          "iopub.status.idle": "2024-08-19T05:42:07.241460Z",
          "shell.execute_reply": "2024-08-19T05:42:07.240599Z"
        },
        "papermill": {
          "duration": 4.757341,
          "end_time": "2024-08-19T05:42:07.244700",
          "exception": false,
          "start_time": "2024-08-19T05:42:02.487359",
          "status": "completed"
        },
        "tags": []
      },
      "outputs": [
        {
          "name": "stdout",
          "output_type": "stream",
          "text": [
            "{'dataset_name': 'OSDG', 'path': 'albertmartinez/OSDG', 'config_name': '2024-01-01', 'text_column': 'text', 'label_column': 'labels', 'cache_dir': 'Datasets/OSDG', 'task_type': 'classification'}"
          ]
        },
        {
          "name": "stdout",
          "output_type": "stream",
          "text": [
            "\n"
          ]
        },
        {
          "name": "stdout",
          "output_type": "stream",
          "text": [
            "Loading cached dataset OSDG."
          ]
        },
        {
          "name": "stdout",
          "output_type": "stream",
          "text": [
            "\n"
          ]
        },
        {
          "name": "stdout",
          "output_type": "stream",
          "text": [
            "The dataset OSDG is loaded"
          ]
        },
        {
          "name": "stdout",
          "output_type": "stream",
          "text": [
            "\n"
          ]
        }
      ],
      "source": [
        "train_dataloader, valid_dataloader, test_dataloader = load_data(\n",
        "    name, batch_size=batch_size, num_workers=num_workers, do_cache=True, seed=seed\n",
        ")"
      ]
    },
    {
      "cell_type": "code",
      "execution_count": 7,
      "id": "a2a78ba8-1c77-45f0-87f2-90720614723d",
      "metadata": {
        "execution": {
          "iopub.execute_input": "2024-08-19T05:42:07.261863Z",
          "iopub.status.busy": "2024-08-19T05:42:07.261675Z",
          "iopub.status.idle": "2024-08-19T05:42:07.266453Z",
          "shell.execute_reply": "2024-08-19T05:42:07.265744Z"
        },
        "papermill": {
          "duration": 0.017394,
          "end_time": "2024-08-19T05:42:07.269084",
          "exception": false,
          "start_time": "2024-08-19T05:42:07.251690",
          "status": "completed"
        },
        "tags": []
      },
      "outputs": [],
      "source": [
        "all_samples = SamplingDataset(\n",
        "    train_dataloader, 200, num_samples, num_labels, False, 4, device=device, resample=False, seed=seed\n",
        ")"
      ]
    },
    {
      "cell_type": "code",
      "execution_count": 8,
      "id": "bccd31bf-6e15-4b28-b96d-cb60a955c037",
      "metadata": {
        "execution": {
          "iopub.execute_input": "2024-08-19T05:42:07.283228Z",
          "iopub.status.busy": "2024-08-19T05:42:07.283102Z",
          "iopub.status.idle": "2024-08-19T05:42:07.286068Z",
          "shell.execute_reply": "2024-08-19T05:42:07.285412Z"
        },
        "papermill": {
          "duration": 0.012849,
          "end_time": "2024-08-19T05:42:07.288823",
          "exception": false,
          "start_time": "2024-08-19T05:42:07.275974",
          "status": "completed"
        },
        "tags": []
      },
      "outputs": [],
      "source": [
        "# print(\"Evaluate the original model\")\n",
        "# result = evaluate_model(model, model_config, test_dataloader)"
      ]
    },
    {
      "cell_type": "code",
      "execution_count": 9,
      "id": "83d92e9b-8917-4e8d-9a34-71984ff985cd",
      "metadata": {
        "execution": {
          "iopub.execute_input": "2024-08-19T05:42:07.302967Z",
          "iopub.status.busy": "2024-08-19T05:42:07.302810Z",
          "iopub.status.idle": "2024-08-19T05:42:07.306416Z",
          "shell.execute_reply": "2024-08-19T05:42:07.305710Z"
        },
        "papermill": {
          "duration": 0.014303,
          "end_time": "2024-08-19T05:42:07.309632",
          "exception": false,
          "start_time": "2024-08-19T05:42:07.295329",
          "status": "completed"
        },
        "tags": []
      },
      "outputs": [],
      "source": [
        "# Evaluate the original model\n",
        "# Evaluating: 100%|?��?��?��?��?��?��?��?��?��?��?��?��?��?��?��?��?��?��?��?��?��?��?��?��?��?��?��?��?��?��?��?��?��?��?��?��?��?��?��?��?��?��?��?��?��?��?��?��?��?��?��?��?��?��?��?��?��?��?��?��?��?��?��?��?��?��?��?��?��| 200/200 [03:16<00:00,  1.02it/s]\n",
        "# Loss: 0.9485\n",
        "# Precision: 0.7801, Recall: 0.7867, F1-Score: 0.7793\n",
        "#               precision    recall  f1-score   support\n",
        "\n",
        "#            0       0.77      0.66      0.71       797\n",
        "#            1       0.84      0.72      0.78       775\n",
        "#            2       0.88      0.87      0.88       795\n",
        "#            3       0.87      0.83      0.85      1110\n",
        "#            4       0.86      0.80      0.83      1260\n",
        "#            5       0.88      0.69      0.77       882\n",
        "#            6       0.85      0.80      0.83       940\n",
        "#            7       0.49      0.61      0.54       473\n",
        "#            8       0.66      0.85      0.74       746\n",
        "#            9       0.62      0.73      0.67       689\n",
        "#           10       0.75      0.79      0.77       670\n",
        "#           11       0.62      0.81      0.70       312\n",
        "#           12       0.73      0.81      0.77       665\n",
        "#           13       0.83      0.85      0.84       314\n",
        "#           14       0.85      0.78      0.81       756\n",
        "#           15       0.97      0.98      0.97      1607\n",
        "\n",
        "#     accuracy                           0.80     12791\n",
        "#    macro avg       0.78      0.79      0.78     12791\n",
        "# weighted avg       0.81      0.80      0.80     12791"
      ]
    },
    {
      "cell_type": "code",
      "execution_count": 10,
      "id": "a6d8bf19-3d3b-4ef7-a3d0-7d89ffb31790",
      "metadata": {
        "execution": {
          "iopub.execute_input": "2024-08-19T05:42:07.323524Z",
          "iopub.status.busy": "2024-08-19T05:42:07.323407Z",
          "iopub.status.idle": "2024-08-19T05:45:05.732430Z",
          "shell.execute_reply": "2024-08-19T05:45:05.731212Z"
        },
        "papermill": {
          "duration": 178.418705,
          "end_time": "2024-08-19T05:45:05.735212",
          "exception": false,
          "start_time": "2024-08-19T05:42:07.316507",
          "status": "completed"
        },
        "tags": []
      },
      "outputs": [
        {
          "name": "stdout",
          "output_type": "stream",
          "text": [
            "Evaluate the pruned model"
          ]
        },
        {
          "name": "stdout",
          "output_type": "stream",
          "text": [
            "\n"
          ]
        },
        {
          "name": "stderr",
          "output_type": "stream",
          "text": [
            "\r",
            "Evaluating:   0%|          | 0/200 [00:00<?, ?it/s]"
          ]
        },
        {
          "name": "stderr",
          "output_type": "stream",
          "text": [
            "\r",
            "Evaluating:   0%|          | 1/200 [00:00<01:25,  2.32it/s]"
          ]
        },
        {
          "name": "stderr",
          "output_type": "stream",
          "text": [
            "\r",
            "Evaluating:   1%|          | 2/200 [00:00<01:24,  2.35it/s]"
          ]
        },
        {
          "name": "stderr",
          "output_type": "stream",
          "text": [
            "\r",
            "Evaluating:   2%|?��         | 3/200 [00:01<01:24,  2.34it/s]"
          ]
        },
        {
          "name": "stderr",
          "output_type": "stream",
          "text": [
            "\r",
            "Evaluating:   2%|?��         | 4/200 [00:01<01:23,  2.34it/s]"
          ]
        },
        {
          "name": "stderr",
          "output_type": "stream",
          "text": [
            "\r",
            "Evaluating:   2%|?��         | 5/200 [00:02<01:23,  2.33it/s]"
          ]
        },
        {
          "name": "stderr",
          "output_type": "stream",
          "text": [
            "\r",
            "Evaluating:   3%|?��         | 6/200 [00:02<01:23,  2.34it/s]"
          ]
        },
        {
          "name": "stderr",
          "output_type": "stream",
          "text": [
            "\r",
            "Evaluating:   4%|?��         | 7/200 [00:02<01:22,  2.33it/s]"
          ]
        },
        {
          "name": "stderr",
          "output_type": "stream",
          "text": [
            "\r",
            "Evaluating:   4%|?��         | 8/200 [00:03<01:22,  2.33it/s]"
          ]
        },
        {
          "name": "stderr",
          "output_type": "stream",
          "text": [
            "\r",
            "Evaluating:   4%|?��         | 9/200 [00:03<01:21,  2.33it/s]"
          ]
        },
        {
          "name": "stderr",
          "output_type": "stream",
          "text": [
            "\r",
            "Evaluating:   5%|?��         | 10/200 [00:04<01:21,  2.33it/s]"
          ]
        },
        {
          "name": "stderr",
          "output_type": "stream",
          "text": [
            "\r",
            "Evaluating:   6%|?��         | 11/200 [00:04<01:21,  2.33it/s]"
          ]
        },
        {
          "name": "stderr",
          "output_type": "stream",
          "text": [
            "\r",
            "Evaluating:   6%|?��         | 12/200 [00:05<01:20,  2.33it/s]"
          ]
        },
        {
          "name": "stderr",
          "output_type": "stream",
          "text": [
            "\r",
            "Evaluating:   6%|?��         | 13/200 [00:05<01:20,  2.32it/s]"
          ]
        },
        {
          "name": "stderr",
          "output_type": "stream",
          "text": [
            "\r",
            "Evaluating:   7%|?��         | 14/200 [00:06<01:20,  2.32it/s]"
          ]
        },
        {
          "name": "stderr",
          "output_type": "stream",
          "text": [
            "\r",
            "Evaluating:   8%|?��         | 15/200 [00:06<01:19,  2.32it/s]"
          ]
        },
        {
          "name": "stderr",
          "output_type": "stream",
          "text": [
            "\r",
            "Evaluating:   8%|?��         | 16/200 [00:06<01:19,  2.32it/s]"
          ]
        },
        {
          "name": "stderr",
          "output_type": "stream",
          "text": [
            "\r",
            "Evaluating:   8%|?��         | 17/200 [00:07<01:18,  2.32it/s]"
          ]
        },
        {
          "name": "stderr",
          "output_type": "stream",
          "text": [
            "\r",
            "Evaluating:   9%|?��         | 18/200 [00:07<01:18,  2.32it/s]"
          ]
        },
        {
          "name": "stderr",
          "output_type": "stream",
          "text": [
            "\r",
            "Evaluating:  10%|?��         | 19/200 [00:08<01:18,  2.31it/s]"
          ]
        },
        {
          "name": "stderr",
          "output_type": "stream",
          "text": [
            "\r",
            "Evaluating:  10%|?��         | 20/200 [00:08<01:17,  2.31it/s]"
          ]
        },
        {
          "name": "stderr",
          "output_type": "stream",
          "text": [
            "\r",
            "Evaluating:  10%|?��         | 21/200 [00:09<01:17,  2.31it/s]"
          ]
        },
        {
          "name": "stderr",
          "output_type": "stream",
          "text": [
            "\r",
            "Evaluating:  11%|?��         | 22/200 [00:09<01:17,  2.31it/s]"
          ]
        },
        {
          "name": "stderr",
          "output_type": "stream",
          "text": [
            "\r",
            "Evaluating:  12%|?��?��        | 23/200 [00:09<01:16,  2.31it/s]"
          ]
        },
        {
          "name": "stderr",
          "output_type": "stream",
          "text": [
            "\r",
            "Evaluating:  12%|?��?��        | 24/200 [00:10<01:16,  2.30it/s]"
          ]
        },
        {
          "name": "stderr",
          "output_type": "stream",
          "text": [
            "\r",
            "Evaluating:  12%|?��?��        | 25/200 [00:10<01:16,  2.29it/s]"
          ]
        },
        {
          "name": "stderr",
          "output_type": "stream",
          "text": [
            "\r",
            "Evaluating:  13%|?��?��        | 26/200 [00:11<01:17,  2.26it/s]"
          ]
        },
        {
          "name": "stderr",
          "output_type": "stream",
          "text": [
            "\r",
            "Evaluating:  14%|?��?��        | 27/200 [00:11<01:18,  2.19it/s]"
          ]
        },
        {
          "name": "stderr",
          "output_type": "stream",
          "text": [
            "\r",
            "Evaluating:  14%|?��?��        | 28/200 [00:12<01:20,  2.14it/s]"
          ]
        },
        {
          "name": "stderr",
          "output_type": "stream",
          "text": [
            "\r",
            "Evaluating:  14%|?��?��        | 29/200 [00:12<01:23,  2.05it/s]"
          ]
        },
        {
          "name": "stderr",
          "output_type": "stream",
          "text": [
            "\r",
            "Evaluating:  15%|?��?��        | 30/200 [00:13<01:25,  1.98it/s]"
          ]
        },
        {
          "name": "stderr",
          "output_type": "stream",
          "text": [
            "\r",
            "Evaluating:  16%|?��?��        | 31/200 [00:13<01:29,  1.89it/s]"
          ]
        },
        {
          "name": "stderr",
          "output_type": "stream",
          "text": [
            "\r",
            "Evaluating:  16%|?��?��        | 32/200 [00:14<01:33,  1.80it/s]"
          ]
        },
        {
          "name": "stderr",
          "output_type": "stream",
          "text": [
            "\r",
            "Evaluating:  16%|?��?��        | 33/200 [00:15<01:35,  1.75it/s]"
          ]
        },
        {
          "name": "stderr",
          "output_type": "stream",
          "text": [
            "\r",
            "Evaluating:  17%|?��?��        | 34/200 [00:15<01:41,  1.64it/s]"
          ]
        },
        {
          "name": "stderr",
          "output_type": "stream",
          "text": [
            "\r",
            "Evaluating:  18%|?��?��        | 35/200 [00:16<01:46,  1.54it/s]"
          ]
        },
        {
          "name": "stderr",
          "output_type": "stream",
          "text": [
            "\r",
            "Evaluating:  18%|?��?��        | 36/200 [00:17<01:50,  1.48it/s]"
          ]
        },
        {
          "name": "stderr",
          "output_type": "stream",
          "text": [
            "\r",
            "Evaluating:  18%|?��?��        | 37/200 [00:18<01:53,  1.44it/s]"
          ]
        },
        {
          "name": "stderr",
          "output_type": "stream",
          "text": [
            "\r",
            "Evaluating:  19%|?��?��        | 38/200 [00:18<01:54,  1.41it/s]"
          ]
        },
        {
          "name": "stderr",
          "output_type": "stream",
          "text": [
            "\r",
            "Evaluating:  20%|?��?��        | 39/200 [00:19<01:55,  1.39it/s]"
          ]
        },
        {
          "name": "stderr",
          "output_type": "stream",
          "text": [
            "\r",
            "Evaluating:  20%|?��?��        | 40/200 [00:20<01:55,  1.38it/s]"
          ]
        },
        {
          "name": "stderr",
          "output_type": "stream",
          "text": [
            "\r",
            "Evaluating:  20%|?��?��        | 41/200 [00:20<01:55,  1.38it/s]"
          ]
        },
        {
          "name": "stderr",
          "output_type": "stream",
          "text": [
            "\r",
            "Evaluating:  21%|?��?��        | 42/200 [00:21<01:57,  1.35it/s]"
          ]
        },
        {
          "name": "stderr",
          "output_type": "stream",
          "text": [
            "\r",
            "Evaluating:  22%|?��?��?��       | 43/200 [00:22<01:58,  1.32it/s]"
          ]
        },
        {
          "name": "stderr",
          "output_type": "stream",
          "text": [
            "\r",
            "Evaluating:  22%|?��?��?��       | 44/200 [00:23<01:59,  1.30it/s]"
          ]
        },
        {
          "name": "stderr",
          "output_type": "stream",
          "text": [
            "\r",
            "Evaluating:  22%|?��?��?��       | 45/200 [00:24<02:00,  1.29it/s]"
          ]
        },
        {
          "name": "stderr",
          "output_type": "stream",
          "text": [
            "\r",
            "Evaluating:  23%|?��?��?��       | 46/200 [00:24<02:00,  1.28it/s]"
          ]
        },
        {
          "name": "stderr",
          "output_type": "stream",
          "text": [
            "\r",
            "Evaluating:  24%|?��?��?��       | 47/200 [00:25<02:00,  1.27it/s]"
          ]
        },
        {
          "name": "stderr",
          "output_type": "stream",
          "text": [
            "\r",
            "Evaluating:  24%|?��?��?��       | 48/200 [00:26<02:00,  1.27it/s]"
          ]
        },
        {
          "name": "stderr",
          "output_type": "stream",
          "text": [
            "\r",
            "Evaluating:  24%|?��?��?��       | 49/200 [00:27<01:59,  1.26it/s]"
          ]
        },
        {
          "name": "stderr",
          "output_type": "stream",
          "text": [
            "\r",
            "Evaluating:  25%|?��?��?��       | 50/200 [00:28<02:02,  1.23it/s]"
          ]
        },
        {
          "name": "stderr",
          "output_type": "stream",
          "text": [
            "\r",
            "Evaluating:  26%|?��?��?��       | 51/200 [00:29<02:05,  1.18it/s]"
          ]
        },
        {
          "name": "stderr",
          "output_type": "stream",
          "text": [
            "\r",
            "Evaluating:  26%|?��?��?��       | 52/200 [00:30<02:08,  1.16it/s]"
          ]
        },
        {
          "name": "stderr",
          "output_type": "stream",
          "text": [
            "\r",
            "Evaluating:  26%|?��?��?��       | 53/200 [00:30<02:09,  1.14it/s]"
          ]
        },
        {
          "name": "stderr",
          "output_type": "stream",
          "text": [
            "\r",
            "Evaluating:  27%|?��?��?��       | 54/200 [00:31<02:09,  1.13it/s]"
          ]
        },
        {
          "name": "stderr",
          "output_type": "stream",
          "text": [
            "\r",
            "Evaluating:  28%|?��?��?��       | 55/200 [00:32<02:09,  1.12it/s]"
          ]
        },
        {
          "name": "stderr",
          "output_type": "stream",
          "text": [
            "\r",
            "Evaluating:  28%|?��?��?��       | 56/200 [00:33<02:09,  1.11it/s]"
          ]
        },
        {
          "name": "stderr",
          "output_type": "stream",
          "text": [
            "\r",
            "Evaluating:  28%|?��?��?��       | 57/200 [00:34<02:09,  1.11it/s]"
          ]
        },
        {
          "name": "stderr",
          "output_type": "stream",
          "text": [
            "\r",
            "Evaluating:  29%|?��?��?��       | 58/200 [00:35<02:08,  1.11it/s]"
          ]
        },
        {
          "name": "stderr",
          "output_type": "stream",
          "text": [
            "\r",
            "Evaluating:  30%|?��?��?��       | 59/200 [00:36<02:07,  1.11it/s]"
          ]
        },
        {
          "name": "stderr",
          "output_type": "stream",
          "text": [
            "\r",
            "Evaluating:  30%|?��?��?��       | 60/200 [00:37<02:06,  1.11it/s]"
          ]
        },
        {
          "name": "stderr",
          "output_type": "stream",
          "text": [
            "\r",
            "Evaluating:  30%|?��?��?��       | 61/200 [00:38<02:05,  1.10it/s]"
          ]
        },
        {
          "name": "stderr",
          "output_type": "stream",
          "text": [
            "\r",
            "Evaluating:  31%|?��?��?��       | 62/200 [00:39<02:05,  1.10it/s]"
          ]
        },
        {
          "name": "stderr",
          "output_type": "stream",
          "text": [
            "\r",
            "Evaluating:  32%|?��?��?��?��      | 63/200 [00:40<02:04,  1.10it/s]"
          ]
        },
        {
          "name": "stderr",
          "output_type": "stream",
          "text": [
            "\r",
            "Evaluating:  32%|?��?��?��?��      | 64/200 [00:40<02:03,  1.10it/s]"
          ]
        },
        {
          "name": "stderr",
          "output_type": "stream",
          "text": [
            "\r",
            "Evaluating:  32%|?��?��?��?��      | 65/200 [00:41<02:02,  1.10it/s]"
          ]
        },
        {
          "name": "stderr",
          "output_type": "stream",
          "text": [
            "\r",
            "Evaluating:  33%|?��?��?��?��      | 66/200 [00:42<02:01,  1.10it/s]"
          ]
        },
        {
          "name": "stderr",
          "output_type": "stream",
          "text": [
            "\r",
            "Evaluating:  34%|?��?��?��?��      | 67/200 [00:43<02:00,  1.10it/s]"
          ]
        },
        {
          "name": "stderr",
          "output_type": "stream",
          "text": [
            "\r",
            "Evaluating:  34%|?��?��?��?��      | 68/200 [00:44<01:59,  1.10it/s]"
          ]
        },
        {
          "name": "stderr",
          "output_type": "stream",
          "text": [
            "\r",
            "Evaluating:  34%|?��?��?��?��      | 69/200 [00:45<01:58,  1.10it/s]"
          ]
        },
        {
          "name": "stderr",
          "output_type": "stream",
          "text": [
            "\r",
            "Evaluating:  35%|?��?��?��?��      | 70/200 [00:46<01:57,  1.10it/s]"
          ]
        },
        {
          "name": "stderr",
          "output_type": "stream",
          "text": [
            "\r",
            "Evaluating:  36%|?��?��?��?��      | 71/200 [00:47<01:56,  1.11it/s]"
          ]
        },
        {
          "name": "stderr",
          "output_type": "stream",
          "text": [
            "\r",
            "Evaluating:  36%|?��?��?��?��      | 72/200 [00:48<01:55,  1.10it/s]"
          ]
        },
        {
          "name": "stderr",
          "output_type": "stream",
          "text": [
            "\r",
            "Evaluating:  36%|?��?��?��?��      | 73/200 [00:49<01:55,  1.10it/s]"
          ]
        },
        {
          "name": "stderr",
          "output_type": "stream",
          "text": [
            "\r",
            "Evaluating:  37%|?��?��?��?��      | 74/200 [00:49<01:54,  1.10it/s]"
          ]
        },
        {
          "name": "stderr",
          "output_type": "stream",
          "text": [
            "\r",
            "Evaluating:  38%|?��?��?��?��      | 75/200 [00:50<01:53,  1.10it/s]"
          ]
        },
        {
          "name": "stderr",
          "output_type": "stream",
          "text": [
            "\r",
            "Evaluating:  38%|?��?��?��?��      | 76/200 [00:51<01:52,  1.10it/s]"
          ]
        },
        {
          "name": "stderr",
          "output_type": "stream",
          "text": [
            "\r",
            "Evaluating:  38%|?��?��?��?��      | 77/200 [00:52<01:51,  1.10it/s]"
          ]
        },
        {
          "name": "stderr",
          "output_type": "stream",
          "text": [
            "\r",
            "Evaluating:  39%|?��?��?��?��      | 78/200 [00:53<01:50,  1.10it/s]"
          ]
        },
        {
          "name": "stderr",
          "output_type": "stream",
          "text": [
            "\r",
            "Evaluating:  40%|?��?��?��?��      | 79/200 [00:54<01:49,  1.11it/s]"
          ]
        },
        {
          "name": "stderr",
          "output_type": "stream",
          "text": [
            "\r",
            "Evaluating:  40%|?��?��?��?��      | 80/200 [00:55<01:48,  1.11it/s]"
          ]
        },
        {
          "name": "stderr",
          "output_type": "stream",
          "text": [
            "\r",
            "Evaluating:  40%|?��?��?��?��      | 81/200 [00:56<01:47,  1.11it/s]"
          ]
        },
        {
          "name": "stderr",
          "output_type": "stream",
          "text": [
            "\r",
            "Evaluating:  41%|?��?��?��?��      | 82/200 [00:57<01:46,  1.11it/s]"
          ]
        },
        {
          "name": "stderr",
          "output_type": "stream",
          "text": [
            "\r",
            "Evaluating:  42%|?��?��?��?��?��     | 83/200 [00:58<01:45,  1.11it/s]"
          ]
        },
        {
          "name": "stderr",
          "output_type": "stream",
          "text": [
            "\r",
            "Evaluating:  42%|?��?��?��?��?��     | 84/200 [00:59<01:44,  1.11it/s]"
          ]
        },
        {
          "name": "stderr",
          "output_type": "stream",
          "text": [
            "\r",
            "Evaluating:  42%|?��?��?��?��?��     | 85/200 [00:59<01:43,  1.11it/s]"
          ]
        },
        {
          "name": "stderr",
          "output_type": "stream",
          "text": [
            "\r",
            "Evaluating:  43%|?��?��?��?��?��     | 86/200 [01:00<01:42,  1.11it/s]"
          ]
        },
        {
          "name": "stderr",
          "output_type": "stream",
          "text": [
            "\r",
            "Evaluating:  44%|?��?��?��?��?��     | 87/200 [01:01<01:41,  1.11it/s]"
          ]
        },
        {
          "name": "stderr",
          "output_type": "stream",
          "text": [
            "\r",
            "Evaluating:  44%|?��?��?��?��?��     | 88/200 [01:02<01:40,  1.11it/s]"
          ]
        },
        {
          "name": "stderr",
          "output_type": "stream",
          "text": [
            "\r",
            "Evaluating:  44%|?��?��?��?��?��     | 89/200 [01:03<01:39,  1.11it/s]"
          ]
        },
        {
          "name": "stderr",
          "output_type": "stream",
          "text": [
            "\r",
            "Evaluating:  45%|?��?��?��?��?��     | 90/200 [01:04<01:39,  1.11it/s]"
          ]
        },
        {
          "name": "stderr",
          "output_type": "stream",
          "text": [
            "\r",
            "Evaluating:  46%|?��?��?��?��?��     | 91/200 [01:05<01:38,  1.11it/s]"
          ]
        },
        {
          "name": "stderr",
          "output_type": "stream",
          "text": [
            "\r",
            "Evaluating:  46%|?��?��?��?��?��     | 92/200 [01:06<01:37,  1.11it/s]"
          ]
        },
        {
          "name": "stderr",
          "output_type": "stream",
          "text": [
            "\r",
            "Evaluating:  46%|?��?��?��?��?��     | 93/200 [01:07<01:36,  1.11it/s]"
          ]
        },
        {
          "name": "stderr",
          "output_type": "stream",
          "text": [
            "\r",
            "Evaluating:  47%|?��?��?��?��?��     | 94/200 [01:08<01:35,  1.11it/s]"
          ]
        },
        {
          "name": "stderr",
          "output_type": "stream",
          "text": [
            "\r",
            "Evaluating:  48%|?��?��?��?��?��     | 95/200 [01:08<01:34,  1.11it/s]"
          ]
        },
        {
          "name": "stderr",
          "output_type": "stream",
          "text": [
            "\r",
            "Evaluating:  48%|?��?��?��?��?��     | 96/200 [01:09<01:33,  1.11it/s]"
          ]
        },
        {
          "name": "stderr",
          "output_type": "stream",
          "text": [
            "\r",
            "Evaluating:  48%|?��?��?��?��?��     | 97/200 [01:10<01:32,  1.11it/s]"
          ]
        },
        {
          "name": "stderr",
          "output_type": "stream",
          "text": [
            "\r",
            "Evaluating:  49%|?��?��?��?��?��     | 98/200 [01:11<01:31,  1.11it/s]"
          ]
        },
        {
          "name": "stderr",
          "output_type": "stream",
          "text": [
            "\r",
            "Evaluating:  50%|?��?��?��?��?��     | 99/200 [01:12<01:30,  1.11it/s]"
          ]
        },
        {
          "name": "stderr",
          "output_type": "stream",
          "text": [
            "\r",
            "Evaluating:  50%|?��?��?��?��?��     | 100/200 [01:13<01:30,  1.11it/s]"
          ]
        },
        {
          "name": "stderr",
          "output_type": "stream",
          "text": [
            "\r",
            "Evaluating:  50%|?��?��?��?��?��     | 101/200 [01:14<01:29,  1.11it/s]"
          ]
        },
        {
          "name": "stderr",
          "output_type": "stream",
          "text": [
            "\r",
            "Evaluating:  51%|?��?��?��?��?��     | 102/200 [01:15<01:28,  1.11it/s]"
          ]
        },
        {
          "name": "stderr",
          "output_type": "stream",
          "text": [
            "\r",
            "Evaluating:  52%|?��?��?��?��?��?��    | 103/200 [01:16<01:27,  1.11it/s]"
          ]
        },
        {
          "name": "stderr",
          "output_type": "stream",
          "text": [
            "\r",
            "Evaluating:  52%|?��?��?��?��?��?��    | 104/200 [01:17<01:26,  1.11it/s]"
          ]
        },
        {
          "name": "stderr",
          "output_type": "stream",
          "text": [
            "\r",
            "Evaluating:  52%|?��?��?��?��?��?��    | 105/200 [01:17<01:25,  1.11it/s]"
          ]
        },
        {
          "name": "stderr",
          "output_type": "stream",
          "text": [
            "\r",
            "Evaluating:  53%|?��?��?��?��?��?��    | 106/200 [01:18<01:24,  1.11it/s]"
          ]
        },
        {
          "name": "stderr",
          "output_type": "stream",
          "text": [
            "\r",
            "Evaluating:  54%|?��?��?��?��?��?��    | 107/200 [01:19<01:23,  1.11it/s]"
          ]
        },
        {
          "name": "stderr",
          "output_type": "stream",
          "text": [
            "\r",
            "Evaluating:  54%|?��?��?��?��?��?��    | 108/200 [01:20<01:22,  1.11it/s]"
          ]
        },
        {
          "name": "stderr",
          "output_type": "stream",
          "text": [
            "\r",
            "Evaluating:  55%|?��?��?��?��?��?��    | 109/200 [01:21<01:22,  1.11it/s]"
          ]
        },
        {
          "name": "stderr",
          "output_type": "stream",
          "text": [
            "\r",
            "Evaluating:  55%|?��?��?��?��?��?��    | 110/200 [01:22<01:21,  1.11it/s]"
          ]
        },
        {
          "name": "stderr",
          "output_type": "stream",
          "text": [
            "\r",
            "Evaluating:  56%|?��?��?��?��?��?��    | 111/200 [01:23<01:20,  1.11it/s]"
          ]
        },
        {
          "name": "stderr",
          "output_type": "stream",
          "text": [
            "\r",
            "Evaluating:  56%|?��?��?��?��?��?��    | 112/200 [01:24<01:19,  1.11it/s]"
          ]
        },
        {
          "name": "stderr",
          "output_type": "stream",
          "text": [
            "\r",
            "Evaluating:  56%|?��?��?��?��?��?��    | 113/200 [01:25<01:18,  1.11it/s]"
          ]
        },
        {
          "name": "stderr",
          "output_type": "stream",
          "text": [
            "\r",
            "Evaluating:  57%|?��?��?��?��?��?��    | 114/200 [01:26<01:17,  1.11it/s]"
          ]
        },
        {
          "name": "stderr",
          "output_type": "stream",
          "text": [
            "\r",
            "Evaluating:  57%|?��?��?��?��?��?��    | 115/200 [01:26<01:16,  1.11it/s]"
          ]
        },
        {
          "name": "stderr",
          "output_type": "stream",
          "text": [
            "\r",
            "Evaluating:  58%|?��?��?��?��?��?��    | 116/200 [01:27<01:15,  1.11it/s]"
          ]
        },
        {
          "name": "stderr",
          "output_type": "stream",
          "text": [
            "\r",
            "Evaluating:  58%|?��?��?��?��?��?��    | 117/200 [01:28<01:14,  1.11it/s]"
          ]
        },
        {
          "name": "stderr",
          "output_type": "stream",
          "text": [
            "\r",
            "Evaluating:  59%|?��?��?��?��?��?��    | 118/200 [01:29<01:13,  1.11it/s]"
          ]
        },
        {
          "name": "stderr",
          "output_type": "stream",
          "text": [
            "\r",
            "Evaluating:  60%|?��?��?��?��?��?��    | 119/200 [01:30<01:12,  1.11it/s]"
          ]
        },
        {
          "name": "stderr",
          "output_type": "stream",
          "text": [
            "\r",
            "Evaluating:  60%|?��?��?��?��?��?��    | 120/200 [01:31<01:12,  1.11it/s]"
          ]
        },
        {
          "name": "stderr",
          "output_type": "stream",
          "text": [
            "\r",
            "Evaluating:  60%|?��?��?��?��?��?��    | 121/200 [01:32<01:11,  1.11it/s]"
          ]
        },
        {
          "name": "stderr",
          "output_type": "stream",
          "text": [
            "\r",
            "Evaluating:  61%|?��?��?��?��?��?��    | 122/200 [01:33<01:10,  1.11it/s]"
          ]
        },
        {
          "name": "stderr",
          "output_type": "stream",
          "text": [
            "\r",
            "Evaluating:  62%|?��?��?��?��?��?��?��   | 123/200 [01:34<01:09,  1.11it/s]"
          ]
        },
        {
          "name": "stderr",
          "output_type": "stream",
          "text": [
            "\r",
            "Evaluating:  62%|?��?��?��?��?��?��?��   | 124/200 [01:35<01:08,  1.11it/s]"
          ]
        },
        {
          "name": "stderr",
          "output_type": "stream",
          "text": [
            "\r",
            "Evaluating:  62%|?��?��?��?��?��?��?��   | 125/200 [01:35<01:07,  1.11it/s]"
          ]
        },
        {
          "name": "stderr",
          "output_type": "stream",
          "text": [
            "\r",
            "Evaluating:  63%|?��?��?��?��?��?��?��   | 126/200 [01:36<01:06,  1.11it/s]"
          ]
        },
        {
          "name": "stderr",
          "output_type": "stream",
          "text": [
            "\r",
            "Evaluating:  64%|?��?��?��?��?��?��?��   | 127/200 [01:37<01:05,  1.11it/s]"
          ]
        },
        {
          "name": "stderr",
          "output_type": "stream",
          "text": [
            "\r",
            "Evaluating:  64%|?��?��?��?��?��?��?��   | 128/200 [01:38<01:04,  1.11it/s]"
          ]
        },
        {
          "name": "stderr",
          "output_type": "stream",
          "text": [
            "\r",
            "Evaluating:  64%|?��?��?��?��?��?��?��   | 129/200 [01:39<01:04,  1.11it/s]"
          ]
        },
        {
          "name": "stderr",
          "output_type": "stream",
          "text": [
            "\r",
            "Evaluating:  65%|?��?��?��?��?��?��?��   | 130/200 [01:40<01:03,  1.11it/s]"
          ]
        },
        {
          "name": "stderr",
          "output_type": "stream",
          "text": [
            "\r",
            "Evaluating:  66%|?��?��?��?��?��?��?��   | 131/200 [01:41<01:02,  1.11it/s]"
          ]
        },
        {
          "name": "stderr",
          "output_type": "stream",
          "text": [
            "\r",
            "Evaluating:  66%|?��?��?��?��?��?��?��   | 132/200 [01:42<01:01,  1.11it/s]"
          ]
        },
        {
          "name": "stderr",
          "output_type": "stream",
          "text": [
            "\r",
            "Evaluating:  66%|?��?��?��?��?��?��?��   | 133/200 [01:43<01:00,  1.11it/s]"
          ]
        },
        {
          "name": "stderr",
          "output_type": "stream",
          "text": [
            "\r",
            "Evaluating:  67%|?��?��?��?��?��?��?��   | 134/200 [01:44<00:59,  1.11it/s]"
          ]
        },
        {
          "name": "stderr",
          "output_type": "stream",
          "text": [
            "\r",
            "Evaluating:  68%|?��?��?��?��?��?��?��   | 135/200 [01:44<00:58,  1.11it/s]"
          ]
        },
        {
          "name": "stderr",
          "output_type": "stream",
          "text": [
            "\r",
            "Evaluating:  68%|?��?��?��?��?��?��?��   | 136/200 [01:45<00:57,  1.11it/s]"
          ]
        },
        {
          "name": "stderr",
          "output_type": "stream",
          "text": [
            "\r",
            "Evaluating:  68%|?��?��?��?��?��?��?��   | 137/200 [01:46<00:56,  1.11it/s]"
          ]
        },
        {
          "name": "stderr",
          "output_type": "stream",
          "text": [
            "\r",
            "Evaluating:  69%|?��?��?��?��?��?��?��   | 138/200 [01:47<00:55,  1.11it/s]"
          ]
        },
        {
          "name": "stderr",
          "output_type": "stream",
          "text": [
            "\r",
            "Evaluating:  70%|?��?��?��?��?��?��?��   | 139/200 [01:48<00:54,  1.11it/s]"
          ]
        },
        {
          "name": "stderr",
          "output_type": "stream",
          "text": [
            "\r",
            "Evaluating:  70%|?��?��?��?��?��?��?��   | 140/200 [01:49<00:53,  1.11it/s]"
          ]
        },
        {
          "name": "stderr",
          "output_type": "stream",
          "text": [
            "\r",
            "Evaluating:  70%|?��?��?��?��?��?��?��   | 141/200 [01:50<00:53,  1.11it/s]"
          ]
        },
        {
          "name": "stderr",
          "output_type": "stream",
          "text": [
            "\r",
            "Evaluating:  71%|?��?��?��?��?��?��?��   | 142/200 [01:51<00:52,  1.11it/s]"
          ]
        },
        {
          "name": "stderr",
          "output_type": "stream",
          "text": [
            "\r",
            "Evaluating:  72%|?��?��?��?��?��?��?��?��  | 143/200 [01:52<00:51,  1.11it/s]"
          ]
        },
        {
          "name": "stderr",
          "output_type": "stream",
          "text": [
            "\r",
            "Evaluating:  72%|?��?��?��?��?��?��?��?��  | 144/200 [01:53<00:50,  1.11it/s]"
          ]
        },
        {
          "name": "stderr",
          "output_type": "stream",
          "text": [
            "\r",
            "Evaluating:  72%|?��?��?��?��?��?��?��?��  | 145/200 [01:53<00:49,  1.11it/s]"
          ]
        },
        {
          "name": "stderr",
          "output_type": "stream",
          "text": [
            "\r",
            "Evaluating:  73%|?��?��?��?��?��?��?��?��  | 146/200 [01:54<00:48,  1.11it/s]"
          ]
        },
        {
          "name": "stderr",
          "output_type": "stream",
          "text": [
            "\r",
            "Evaluating:  74%|?��?��?��?��?��?��?��?��  | 147/200 [01:55<00:47,  1.11it/s]"
          ]
        },
        {
          "name": "stderr",
          "output_type": "stream",
          "text": [
            "\r",
            "Evaluating:  74%|?��?��?��?��?��?��?��?��  | 148/200 [01:56<00:46,  1.11it/s]"
          ]
        },
        {
          "name": "stderr",
          "output_type": "stream",
          "text": [
            "\r",
            "Evaluating:  74%|?��?��?��?��?��?��?��?��  | 149/200 [01:57<00:45,  1.11it/s]"
          ]
        },
        {
          "name": "stderr",
          "output_type": "stream",
          "text": [
            "\r",
            "Evaluating:  75%|?��?��?��?��?��?��?��?��  | 150/200 [01:58<00:45,  1.11it/s]"
          ]
        },
        {
          "name": "stderr",
          "output_type": "stream",
          "text": [
            "\r",
            "Evaluating:  76%|?��?��?��?��?��?��?��?��  | 151/200 [01:59<00:44,  1.11it/s]"
          ]
        },
        {
          "name": "stderr",
          "output_type": "stream",
          "text": [
            "\r",
            "Evaluating:  76%|?��?��?��?��?��?��?��?��  | 152/200 [02:00<00:43,  1.11it/s]"
          ]
        },
        {
          "name": "stderr",
          "output_type": "stream",
          "text": [
            "\r",
            "Evaluating:  76%|?��?��?��?��?��?��?��?��  | 153/200 [02:01<00:42,  1.11it/s]"
          ]
        },
        {
          "name": "stderr",
          "output_type": "stream",
          "text": [
            "\r",
            "Evaluating:  77%|?��?��?��?��?��?��?��?��  | 154/200 [02:02<00:41,  1.11it/s]"
          ]
        },
        {
          "name": "stderr",
          "output_type": "stream",
          "text": [
            "\r",
            "Evaluating:  78%|?��?��?��?��?��?��?��?��  | 155/200 [02:02<00:40,  1.11it/s]"
          ]
        },
        {
          "name": "stderr",
          "output_type": "stream",
          "text": [
            "\r",
            "Evaluating:  78%|?��?��?��?��?��?��?��?��  | 156/200 [02:03<00:39,  1.11it/s]"
          ]
        },
        {
          "name": "stderr",
          "output_type": "stream",
          "text": [
            "\r",
            "Evaluating:  78%|?��?��?��?��?��?��?��?��  | 157/200 [02:04<00:38,  1.11it/s]"
          ]
        },
        {
          "name": "stderr",
          "output_type": "stream",
          "text": [
            "\r",
            "Evaluating:  79%|?��?��?��?��?��?��?��?��  | 158/200 [02:05<00:37,  1.11it/s]"
          ]
        },
        {
          "name": "stderr",
          "output_type": "stream",
          "text": [
            "\r",
            "Evaluating:  80%|?��?��?��?��?��?��?��?��  | 159/200 [02:06<00:36,  1.11it/s]"
          ]
        },
        {
          "name": "stderr",
          "output_type": "stream",
          "text": [
            "\r",
            "Evaluating:  80%|?��?��?��?��?��?��?��?��  | 160/200 [02:07<00:36,  1.11it/s]"
          ]
        },
        {
          "name": "stderr",
          "output_type": "stream",
          "text": [
            "\r",
            "Evaluating:  80%|?��?��?��?��?��?��?��?��  | 161/200 [02:08<00:35,  1.11it/s]"
          ]
        },
        {
          "name": "stderr",
          "output_type": "stream",
          "text": [
            "\r",
            "Evaluating:  81%|?��?��?��?��?��?��?��?��  | 162/200 [02:09<00:34,  1.11it/s]"
          ]
        },
        {
          "name": "stderr",
          "output_type": "stream",
          "text": [
            "\r",
            "Evaluating:  82%|?��?��?��?��?��?��?��?��?�� | 163/200 [02:10<00:33,  1.11it/s]"
          ]
        },
        {
          "name": "stderr",
          "output_type": "stream",
          "text": [
            "\r",
            "Evaluating:  82%|?��?��?��?��?��?��?��?��?�� | 164/200 [02:11<00:32,  1.11it/s]"
          ]
        },
        {
          "name": "stderr",
          "output_type": "stream",
          "text": [
            "\r",
            "Evaluating:  82%|?��?��?��?��?��?��?��?��?�� | 165/200 [02:11<00:31,  1.11it/s]"
          ]
        },
        {
          "name": "stderr",
          "output_type": "stream",
          "text": [
            "\r",
            "Evaluating:  83%|?��?��?��?��?��?��?��?��?�� | 166/200 [02:12<00:30,  1.11it/s]"
          ]
        },
        {
          "name": "stderr",
          "output_type": "stream",
          "text": [
            "\r",
            "Evaluating:  84%|?��?��?��?��?��?��?��?��?�� | 167/200 [02:13<00:29,  1.11it/s]"
          ]
        },
        {
          "name": "stderr",
          "output_type": "stream",
          "text": [
            "\r",
            "Evaluating:  84%|?��?��?��?��?��?��?��?��?�� | 168/200 [02:14<00:28,  1.11it/s]"
          ]
        },
        {
          "name": "stderr",
          "output_type": "stream",
          "text": [
            "\r",
            "Evaluating:  84%|?��?��?��?��?��?��?��?��?�� | 169/200 [02:15<00:27,  1.11it/s]"
          ]
        },
        {
          "name": "stderr",
          "output_type": "stream",
          "text": [
            "\r",
            "Evaluating:  85%|?��?��?��?��?��?��?��?��?�� | 170/200 [02:16<00:27,  1.11it/s]"
          ]
        },
        {
          "name": "stderr",
          "output_type": "stream",
          "text": [
            "\r",
            "Evaluating:  86%|?��?��?��?��?��?��?��?��?�� | 171/200 [02:17<00:26,  1.11it/s]"
          ]
        },
        {
          "name": "stderr",
          "output_type": "stream",
          "text": [
            "\r",
            "Evaluating:  86%|?��?��?��?��?��?��?��?��?�� | 172/200 [02:18<00:25,  1.11it/s]"
          ]
        },
        {
          "name": "stderr",
          "output_type": "stream",
          "text": [
            "\r",
            "Evaluating:  86%|?��?��?��?��?��?��?��?��?�� | 173/200 [02:19<00:24,  1.11it/s]"
          ]
        },
        {
          "name": "stderr",
          "output_type": "stream",
          "text": [
            "\r",
            "Evaluating:  87%|?��?��?��?��?��?��?��?��?�� | 174/200 [02:20<00:23,  1.11it/s]"
          ]
        },
        {
          "name": "stderr",
          "output_type": "stream",
          "text": [
            "\r",
            "Evaluating:  88%|?��?��?��?��?��?��?��?��?�� | 175/200 [02:21<00:22,  1.11it/s]"
          ]
        },
        {
          "name": "stderr",
          "output_type": "stream",
          "text": [
            "\r",
            "Evaluating:  88%|?��?��?��?��?��?��?��?��?�� | 176/200 [02:21<00:21,  1.11it/s]"
          ]
        },
        {
          "name": "stderr",
          "output_type": "stream",
          "text": [
            "\r",
            "Evaluating:  88%|?��?��?��?��?��?��?��?��?�� | 177/200 [02:22<00:20,  1.11it/s]"
          ]
        },
        {
          "name": "stderr",
          "output_type": "stream",
          "text": [
            "\r",
            "Evaluating:  89%|?��?��?��?��?��?��?��?��?�� | 178/200 [02:23<00:19,  1.11it/s]"
          ]
        },
        {
          "name": "stderr",
          "output_type": "stream",
          "text": [
            "\r",
            "Evaluating:  90%|?��?��?��?��?��?��?��?��?�� | 179/200 [02:24<00:18,  1.11it/s]"
          ]
        },
        {
          "name": "stderr",
          "output_type": "stream",
          "text": [
            "\r",
            "Evaluating:  90%|?��?��?��?��?��?��?��?��?�� | 180/200 [02:25<00:18,  1.11it/s]"
          ]
        },
        {
          "name": "stderr",
          "output_type": "stream",
          "text": [
            "\r",
            "Evaluating:  90%|?��?��?��?��?��?��?��?��?�� | 181/200 [02:26<00:17,  1.11it/s]"
          ]
        },
        {
          "name": "stderr",
          "output_type": "stream",
          "text": [
            "\r",
            "Evaluating:  91%|?��?��?��?��?��?��?��?��?�� | 182/200 [02:27<00:16,  1.11it/s]"
          ]
        },
        {
          "name": "stderr",
          "output_type": "stream",
          "text": [
            "\r",
            "Evaluating:  92%|?��?��?��?��?��?��?��?��?��?��| 183/200 [02:28<00:15,  1.11it/s]"
          ]
        },
        {
          "name": "stderr",
          "output_type": "stream",
          "text": [
            "\r",
            "Evaluating:  92%|?��?��?��?��?��?��?��?��?��?��| 184/200 [02:29<00:14,  1.11it/s]"
          ]
        },
        {
          "name": "stderr",
          "output_type": "stream",
          "text": [
            "\r",
            "Evaluating:  92%|?��?��?��?��?��?��?��?��?��?��| 185/200 [02:30<00:13,  1.11it/s]"
          ]
        },
        {
          "name": "stderr",
          "output_type": "stream",
          "text": [
            "\r",
            "Evaluating:  93%|?��?��?��?��?��?��?��?��?��?��| 186/200 [02:30<00:12,  1.11it/s]"
          ]
        },
        {
          "name": "stderr",
          "output_type": "stream",
          "text": [
            "\r",
            "Evaluating:  94%|?��?��?��?��?��?��?��?��?��?��| 187/200 [02:31<00:11,  1.11it/s]"
          ]
        },
        {
          "name": "stderr",
          "output_type": "stream",
          "text": [
            "\r",
            "Evaluating:  94%|?��?��?��?��?��?��?��?��?��?��| 188/200 [02:32<00:10,  1.11it/s]"
          ]
        },
        {
          "name": "stderr",
          "output_type": "stream",
          "text": [
            "\r",
            "Evaluating:  94%|?��?��?��?��?��?��?��?��?��?��| 189/200 [02:33<00:09,  1.11it/s]"
          ]
        },
        {
          "name": "stderr",
          "output_type": "stream",
          "text": [
            "\r",
            "Evaluating:  95%|?��?��?��?��?��?��?��?��?��?��| 190/200 [02:34<00:08,  1.11it/s]"
          ]
        },
        {
          "name": "stderr",
          "output_type": "stream",
          "text": [
            "\r",
            "Evaluating:  96%|?��?��?��?��?��?��?��?��?��?��| 191/200 [02:35<00:08,  1.11it/s]"
          ]
        },
        {
          "name": "stderr",
          "output_type": "stream",
          "text": [
            "\r",
            "Evaluating:  96%|?��?��?��?��?��?��?��?��?��?��| 192/200 [02:36<00:07,  1.11it/s]"
          ]
        },
        {
          "name": "stderr",
          "output_type": "stream",
          "text": [
            "\r",
            "Evaluating:  96%|?��?��?��?��?��?��?��?��?��?��| 193/200 [02:37<00:06,  1.12it/s]"
          ]
        },
        {
          "name": "stderr",
          "output_type": "stream",
          "text": [
            "\r",
            "Evaluating:  97%|?��?��?��?��?��?��?��?��?��?��| 194/200 [02:38<00:05,  1.12it/s]"
          ]
        },
        {
          "name": "stderr",
          "output_type": "stream",
          "text": [
            "\r",
            "Evaluating:  98%|?��?��?��?��?��?��?��?��?��?��| 195/200 [02:38<00:04,  1.12it/s]"
          ]
        },
        {
          "name": "stderr",
          "output_type": "stream",
          "text": [
            "\r",
            "Evaluating:  98%|?��?��?��?��?��?��?��?��?��?��| 196/200 [02:39<00:03,  1.11it/s]"
          ]
        },
        {
          "name": "stderr",
          "output_type": "stream",
          "text": [
            "\r",
            "Evaluating:  98%|?��?��?��?��?��?��?��?��?��?��| 197/200 [02:40<00:02,  1.11it/s]"
          ]
        },
        {
          "name": "stderr",
          "output_type": "stream",
          "text": [
            "\r",
            "Evaluating:  99%|?��?��?��?��?��?��?��?��?��?��| 198/200 [02:41<00:01,  1.11it/s]"
          ]
        },
        {
          "name": "stderr",
          "output_type": "stream",
          "text": [
            "\r",
            "Evaluating: 100%|?��?��?��?��?��?��?��?��?��?��| 199/200 [02:42<00:00,  1.11it/s]"
          ]
        },
        {
          "name": "stderr",
          "output_type": "stream",
          "text": [
            "\r",
            "Evaluating: 100%|?��?��?��?��?��?��?��?��?��?��| 200/200 [02:43<00:00,  1.16it/s]"
          ]
        },
        {
          "name": "stderr",
          "output_type": "stream",
          "text": [
            "\r",
            "Evaluating: 100%|?��?��?��?��?��?��?��?��?��?��| 200/200 [02:43<00:00,  1.22it/s]"
          ]
        },
        {
          "name": "stderr",
          "output_type": "stream",
          "text": [
            "\n"
          ]
        },
        {
          "name": "stdout",
          "output_type": "stream",
          "text": [
            "Loss: 0.9428"
          ]
        },
        {
          "name": "stdout",
          "output_type": "stream",
          "text": [
            "\n"
          ]
        },
        {
          "name": "stdout",
          "output_type": "stream",
          "text": [
            "Precision: 0.7766, Recall: 0.7810, F1-Score: 0.7748"
          ]
        },
        {
          "name": "stdout",
          "output_type": "stream",
          "text": [
            "\n"
          ]
        },
        {
          "name": "stdout",
          "output_type": "stream",
          "text": [
            "              precision    recall  f1-score   support\n",
            "\n",
            "           0       0.76      0.66      0.70       797\n",
            "           1       0.85      0.71      0.77       775\n",
            "           2       0.87      0.88      0.87       795\n",
            "           3       0.87      0.82      0.85      1110\n",
            "           4       0.85      0.80      0.82      1260\n",
            "           5       0.89      0.68      0.77       882\n",
            "           6       0.84      0.80      0.82       940\n",
            "           7       0.47      0.59      0.52       473\n",
            "           8       0.66      0.85      0.74       746\n",
            "           9       0.59      0.73      0.65       689\n",
            "          10       0.76      0.79      0.77       670\n",
            "          11       0.66      0.80      0.72       312\n",
            "          12       0.69      0.81      0.75       665\n",
            "          13       0.83      0.85      0.84       314\n",
            "          14       0.86      0.77      0.81       756\n",
            "          15       0.97      0.97      0.97      1607\n",
            "\n",
            "    accuracy                           0.80     12791\n",
            "   macro avg       0.78      0.78      0.77     12791\n",
            "weighted avg       0.81      0.80      0.80     12791\n"
          ]
        },
        {
          "name": "stdout",
          "output_type": "stream",
          "text": [
            "\n"
          ]
        }
      ],
      "source": [
        "module = copy.deepcopy(model)\n",
        "prune_wanda(module, model_config, all_samples, sparsity_ratio=wanda_ratio, include_layers=include_layers, exclude_layers=exclude_layers)\n",
        "print(\"Evaluate the pruned model\")\n",
        "result = evaluate_model(module, model_config, test_dataloader)\n",
        "# save_module(module, \"Modules/\", f\"wanda_{name}_{wanda_ratio}p.pt\")"
      ]
    },
    {
      "cell_type": "code",
      "execution_count": 11,
      "id": "cd3c1423-9a76-4a7d-bec7-aae97284cf65",
      "metadata": {
        "execution": {
          "iopub.execute_input": "2024-08-19T05:45:05.790320Z",
          "iopub.status.busy": "2024-08-19T05:45:05.790023Z",
          "iopub.status.idle": "2024-08-19T05:47:16.001515Z",
          "shell.execute_reply": "2024-08-19T05:47:16.000502Z"
        },
        "papermill": {
          "duration": 130.239319,
          "end_time": "2024-08-19T05:47:16.003110",
          "exception": false,
          "start_time": "2024-08-19T05:45:05.763791",
          "status": "completed"
        },
        "tags": []
      },
      "outputs": [
        {
          "name": "stdout",
          "output_type": "stream",
          "text": [
            "--0--"
          ]
        },
        {
          "name": "stdout",
          "output_type": "stream",
          "text": [
            "\n"
          ]
        },
        {
          "name": "stdout",
          "output_type": "stream",
          "text": [
            "adding eps to diagonal and taking inverse"
          ]
        },
        {
          "name": "stdout",
          "output_type": "stream",
          "text": [
            "\n"
          ]
        },
        {
          "name": "stdout",
          "output_type": "stream",
          "text": [
            "taking square root"
          ]
        },
        {
          "name": "stdout",
          "output_type": "stream",
          "text": [
            "\n"
          ]
        },
        {
          "name": "stdout",
          "output_type": "stream",
          "text": [
            "dot products..."
          ]
        },
        {
          "name": "stdout",
          "output_type": "stream",
          "text": [
            "\n"
          ]
        },
        {
          "name": "stdout",
          "output_type": "stream",
          "text": [
            "trying to take final svd"
          ]
        },
        {
          "name": "stdout",
          "output_type": "stream",
          "text": [
            "\n"
          ]
        },
        {
          "name": "stdout",
          "output_type": "stream",
          "text": [
            "computed everything!"
          ]
        },
        {
          "name": "stdout",
          "output_type": "stream",
          "text": [
            "\n"
          ]
        },
        {
          "name": "stdout",
          "output_type": "stream",
          "text": [
            "adding eps to diagonal and taking inverse"
          ]
        },
        {
          "name": "stdout",
          "output_type": "stream",
          "text": [
            "\n"
          ]
        },
        {
          "name": "stdout",
          "output_type": "stream",
          "text": [
            "taking square root"
          ]
        },
        {
          "name": "stdout",
          "output_type": "stream",
          "text": [
            "\n"
          ]
        },
        {
          "name": "stdout",
          "output_type": "stream",
          "text": [
            "dot products..."
          ]
        },
        {
          "name": "stdout",
          "output_type": "stream",
          "text": [
            "\n"
          ]
        },
        {
          "name": "stdout",
          "output_type": "stream",
          "text": [
            "trying to take final svd"
          ]
        },
        {
          "name": "stdout",
          "output_type": "stream",
          "text": [
            "\n"
          ]
        },
        {
          "name": "stdout",
          "output_type": "stream",
          "text": [
            "computed everything!"
          ]
        },
        {
          "name": "stdout",
          "output_type": "stream",
          "text": [
            "\n"
          ]
        },
        {
          "name": "stdout",
          "output_type": "stream",
          "text": [
            "CCA coefficients mean concern: (0.8226286097933246, 0.8226286097933246)"
          ]
        },
        {
          "name": "stdout",
          "output_type": "stream",
          "text": [
            "\n"
          ]
        },
        {
          "name": "stdout",
          "output_type": "stream",
          "text": [
            "CCA coefficients mean non-concern: (0.8367720065178548, 0.8367720065178548)"
          ]
        },
        {
          "name": "stdout",
          "output_type": "stream",
          "text": [
            "\n"
          ]
        },
        {
          "name": "stdout",
          "output_type": "stream",
          "text": [
            "Linear CKA concern: 0.9783394716334197"
          ]
        },
        {
          "name": "stdout",
          "output_type": "stream",
          "text": [
            "\n"
          ]
        },
        {
          "name": "stdout",
          "output_type": "stream",
          "text": [
            "Linear CKA non-concern: 0.9608236129224744"
          ]
        },
        {
          "name": "stdout",
          "output_type": "stream",
          "text": [
            "\n"
          ]
        },
        {
          "name": "stdout",
          "output_type": "stream",
          "text": [
            "Kernel CKA concern: 0.9730719476944569"
          ]
        },
        {
          "name": "stdout",
          "output_type": "stream",
          "text": [
            "\n"
          ]
        },
        {
          "name": "stdout",
          "output_type": "stream",
          "text": [
            "Kernel CKA non-concern: 0.9622991798107942"
          ]
        },
        {
          "name": "stdout",
          "output_type": "stream",
          "text": [
            "\n"
          ]
        },
        {
          "name": "stdout",
          "output_type": "stream",
          "text": [
            "--1--"
          ]
        },
        {
          "name": "stdout",
          "output_type": "stream",
          "text": [
            "\n"
          ]
        },
        {
          "name": "stdout",
          "output_type": "stream",
          "text": [
            "adding eps to diagonal and taking inverse"
          ]
        },
        {
          "name": "stdout",
          "output_type": "stream",
          "text": [
            "\n"
          ]
        },
        {
          "name": "stdout",
          "output_type": "stream",
          "text": [
            "taking square root"
          ]
        },
        {
          "name": "stdout",
          "output_type": "stream",
          "text": [
            "\n"
          ]
        },
        {
          "name": "stdout",
          "output_type": "stream",
          "text": [
            "dot products..."
          ]
        },
        {
          "name": "stdout",
          "output_type": "stream",
          "text": [
            "\n"
          ]
        },
        {
          "name": "stdout",
          "output_type": "stream",
          "text": [
            "trying to take final svd"
          ]
        },
        {
          "name": "stdout",
          "output_type": "stream",
          "text": [
            "\n"
          ]
        },
        {
          "name": "stdout",
          "output_type": "stream",
          "text": [
            "computed everything!"
          ]
        },
        {
          "name": "stdout",
          "output_type": "stream",
          "text": [
            "\n"
          ]
        },
        {
          "name": "stdout",
          "output_type": "stream",
          "text": [
            "adding eps to diagonal and taking inverse"
          ]
        },
        {
          "name": "stdout",
          "output_type": "stream",
          "text": [
            "\n"
          ]
        },
        {
          "name": "stdout",
          "output_type": "stream",
          "text": [
            "taking square root"
          ]
        },
        {
          "name": "stdout",
          "output_type": "stream",
          "text": [
            "\n"
          ]
        },
        {
          "name": "stdout",
          "output_type": "stream",
          "text": [
            "dot products..."
          ]
        },
        {
          "name": "stdout",
          "output_type": "stream",
          "text": [
            "\n"
          ]
        },
        {
          "name": "stdout",
          "output_type": "stream",
          "text": [
            "trying to take final svd"
          ]
        },
        {
          "name": "stdout",
          "output_type": "stream",
          "text": [
            "\n"
          ]
        },
        {
          "name": "stdout",
          "output_type": "stream",
          "text": [
            "computed everything!"
          ]
        },
        {
          "name": "stdout",
          "output_type": "stream",
          "text": [
            "\n"
          ]
        },
        {
          "name": "stdout",
          "output_type": "stream",
          "text": [
            "CCA coefficients mean concern: (0.8294714514241879, 0.8294714514241879)"
          ]
        },
        {
          "name": "stdout",
          "output_type": "stream",
          "text": [
            "\n"
          ]
        },
        {
          "name": "stdout",
          "output_type": "stream",
          "text": [
            "CCA coefficients mean non-concern: (0.8356634587091096, 0.8356634587091096)"
          ]
        },
        {
          "name": "stdout",
          "output_type": "stream",
          "text": [
            "\n"
          ]
        },
        {
          "name": "stdout",
          "output_type": "stream",
          "text": [
            "Linear CKA concern: 0.9671119140115609"
          ]
        },
        {
          "name": "stdout",
          "output_type": "stream",
          "text": [
            "\n"
          ]
        },
        {
          "name": "stdout",
          "output_type": "stream",
          "text": [
            "Linear CKA non-concern: 0.9590982300082449"
          ]
        },
        {
          "name": "stdout",
          "output_type": "stream",
          "text": [
            "\n"
          ]
        },
        {
          "name": "stdout",
          "output_type": "stream",
          "text": [
            "Kernel CKA concern: 0.9626117924317332"
          ]
        },
        {
          "name": "stdout",
          "output_type": "stream",
          "text": [
            "\n"
          ]
        },
        {
          "name": "stdout",
          "output_type": "stream",
          "text": [
            "Kernel CKA non-concern: 0.9609736980512601"
          ]
        },
        {
          "name": "stdout",
          "output_type": "stream",
          "text": [
            "\n"
          ]
        },
        {
          "name": "stdout",
          "output_type": "stream",
          "text": [
            "--2--"
          ]
        },
        {
          "name": "stdout",
          "output_type": "stream",
          "text": [
            "\n"
          ]
        },
        {
          "name": "stdout",
          "output_type": "stream",
          "text": [
            "adding eps to diagonal and taking inverse"
          ]
        },
        {
          "name": "stdout",
          "output_type": "stream",
          "text": [
            "\n"
          ]
        },
        {
          "name": "stdout",
          "output_type": "stream",
          "text": [
            "taking square root"
          ]
        },
        {
          "name": "stdout",
          "output_type": "stream",
          "text": [
            "\n"
          ]
        },
        {
          "name": "stdout",
          "output_type": "stream",
          "text": [
            "dot products..."
          ]
        },
        {
          "name": "stdout",
          "output_type": "stream",
          "text": [
            "\n"
          ]
        },
        {
          "name": "stdout",
          "output_type": "stream",
          "text": [
            "trying to take final svd"
          ]
        },
        {
          "name": "stdout",
          "output_type": "stream",
          "text": [
            "\n"
          ]
        },
        {
          "name": "stdout",
          "output_type": "stream",
          "text": [
            "computed everything!"
          ]
        },
        {
          "name": "stdout",
          "output_type": "stream",
          "text": [
            "\n"
          ]
        },
        {
          "name": "stdout",
          "output_type": "stream",
          "text": [
            "adding eps to diagonal and taking inverse"
          ]
        },
        {
          "name": "stdout",
          "output_type": "stream",
          "text": [
            "\n"
          ]
        },
        {
          "name": "stdout",
          "output_type": "stream",
          "text": [
            "taking square root"
          ]
        },
        {
          "name": "stdout",
          "output_type": "stream",
          "text": [
            "\n"
          ]
        },
        {
          "name": "stdout",
          "output_type": "stream",
          "text": [
            "dot products..."
          ]
        },
        {
          "name": "stdout",
          "output_type": "stream",
          "text": [
            "\n"
          ]
        },
        {
          "name": "stdout",
          "output_type": "stream",
          "text": [
            "trying to take final svd"
          ]
        },
        {
          "name": "stdout",
          "output_type": "stream",
          "text": [
            "\n"
          ]
        },
        {
          "name": "stdout",
          "output_type": "stream",
          "text": [
            "computed everything!"
          ]
        },
        {
          "name": "stdout",
          "output_type": "stream",
          "text": [
            "\n"
          ]
        },
        {
          "name": "stdout",
          "output_type": "stream",
          "text": [
            "CCA coefficients mean concern: (0.8274993916000501, 0.8274993916000501)"
          ]
        },
        {
          "name": "stdout",
          "output_type": "stream",
          "text": [
            "\n"
          ]
        },
        {
          "name": "stdout",
          "output_type": "stream",
          "text": [
            "CCA coefficients mean non-concern: (0.8351424955890031, 0.8351424955890031)"
          ]
        },
        {
          "name": "stdout",
          "output_type": "stream",
          "text": [
            "\n"
          ]
        },
        {
          "name": "stdout",
          "output_type": "stream",
          "text": [
            "Linear CKA concern: 0.9778631578498195"
          ]
        },
        {
          "name": "stdout",
          "output_type": "stream",
          "text": [
            "\n"
          ]
        },
        {
          "name": "stdout",
          "output_type": "stream",
          "text": [
            "Linear CKA non-concern: 0.959155960873212"
          ]
        },
        {
          "name": "stdout",
          "output_type": "stream",
          "text": [
            "\n"
          ]
        },
        {
          "name": "stdout",
          "output_type": "stream",
          "text": [
            "Kernel CKA concern: 0.9721124740736766"
          ]
        },
        {
          "name": "stdout",
          "output_type": "stream",
          "text": [
            "\n"
          ]
        },
        {
          "name": "stdout",
          "output_type": "stream",
          "text": [
            "Kernel CKA non-concern: 0.9612715408607847"
          ]
        },
        {
          "name": "stdout",
          "output_type": "stream",
          "text": [
            "\n"
          ]
        },
        {
          "name": "stdout",
          "output_type": "stream",
          "text": [
            "--3--"
          ]
        },
        {
          "name": "stdout",
          "output_type": "stream",
          "text": [
            "\n"
          ]
        },
        {
          "name": "stdout",
          "output_type": "stream",
          "text": [
            "adding eps to diagonal and taking inverse"
          ]
        },
        {
          "name": "stdout",
          "output_type": "stream",
          "text": [
            "\n"
          ]
        },
        {
          "name": "stdout",
          "output_type": "stream",
          "text": [
            "taking square root"
          ]
        },
        {
          "name": "stdout",
          "output_type": "stream",
          "text": [
            "\n"
          ]
        },
        {
          "name": "stdout",
          "output_type": "stream",
          "text": [
            "dot products..."
          ]
        },
        {
          "name": "stdout",
          "output_type": "stream",
          "text": [
            "\n"
          ]
        },
        {
          "name": "stdout",
          "output_type": "stream",
          "text": [
            "trying to take final svd"
          ]
        },
        {
          "name": "stdout",
          "output_type": "stream",
          "text": [
            "\n"
          ]
        },
        {
          "name": "stdout",
          "output_type": "stream",
          "text": [
            "computed everything!"
          ]
        },
        {
          "name": "stdout",
          "output_type": "stream",
          "text": [
            "\n"
          ]
        },
        {
          "name": "stdout",
          "output_type": "stream",
          "text": [
            "adding eps to diagonal and taking inverse"
          ]
        },
        {
          "name": "stdout",
          "output_type": "stream",
          "text": [
            "\n"
          ]
        },
        {
          "name": "stdout",
          "output_type": "stream",
          "text": [
            "taking square root"
          ]
        },
        {
          "name": "stdout",
          "output_type": "stream",
          "text": [
            "\n"
          ]
        },
        {
          "name": "stdout",
          "output_type": "stream",
          "text": [
            "dot products..."
          ]
        },
        {
          "name": "stdout",
          "output_type": "stream",
          "text": [
            "\n"
          ]
        },
        {
          "name": "stdout",
          "output_type": "stream",
          "text": [
            "trying to take final svd"
          ]
        },
        {
          "name": "stdout",
          "output_type": "stream",
          "text": [
            "\n"
          ]
        },
        {
          "name": "stdout",
          "output_type": "stream",
          "text": [
            "computed everything!"
          ]
        },
        {
          "name": "stdout",
          "output_type": "stream",
          "text": [
            "\n"
          ]
        },
        {
          "name": "stdout",
          "output_type": "stream",
          "text": [
            "CCA coefficients mean concern: (0.8291847107362506, 0.8291847107362506)"
          ]
        },
        {
          "name": "stdout",
          "output_type": "stream",
          "text": [
            "\n"
          ]
        },
        {
          "name": "stdout",
          "output_type": "stream",
          "text": [
            "CCA coefficients mean non-concern: (0.8343154347770338, 0.8343154347770338)"
          ]
        },
        {
          "name": "stdout",
          "output_type": "stream",
          "text": [
            "\n"
          ]
        },
        {
          "name": "stdout",
          "output_type": "stream",
          "text": [
            "Linear CKA concern: 0.9637792403554236"
          ]
        },
        {
          "name": "stdout",
          "output_type": "stream",
          "text": [
            "\n"
          ]
        },
        {
          "name": "stdout",
          "output_type": "stream",
          "text": [
            "Linear CKA non-concern: 0.9604282015030198"
          ]
        },
        {
          "name": "stdout",
          "output_type": "stream",
          "text": [
            "\n"
          ]
        },
        {
          "name": "stdout",
          "output_type": "stream",
          "text": [
            "Kernel CKA concern: 0.9619452024300883"
          ]
        },
        {
          "name": "stdout",
          "output_type": "stream",
          "text": [
            "\n"
          ]
        },
        {
          "name": "stdout",
          "output_type": "stream",
          "text": [
            "Kernel CKA non-concern: 0.9626001628838934"
          ]
        },
        {
          "name": "stdout",
          "output_type": "stream",
          "text": [
            "\n"
          ]
        },
        {
          "name": "stdout",
          "output_type": "stream",
          "text": [
            "--4--"
          ]
        },
        {
          "name": "stdout",
          "output_type": "stream",
          "text": [
            "\n"
          ]
        },
        {
          "name": "stdout",
          "output_type": "stream",
          "text": [
            "adding eps to diagonal and taking inverse"
          ]
        },
        {
          "name": "stdout",
          "output_type": "stream",
          "text": [
            "\n"
          ]
        },
        {
          "name": "stdout",
          "output_type": "stream",
          "text": [
            "taking square root"
          ]
        },
        {
          "name": "stdout",
          "output_type": "stream",
          "text": [
            "\n"
          ]
        },
        {
          "name": "stdout",
          "output_type": "stream",
          "text": [
            "dot products..."
          ]
        },
        {
          "name": "stdout",
          "output_type": "stream",
          "text": [
            "\n"
          ]
        },
        {
          "name": "stdout",
          "output_type": "stream",
          "text": [
            "trying to take final svd"
          ]
        },
        {
          "name": "stdout",
          "output_type": "stream",
          "text": [
            "\n"
          ]
        },
        {
          "name": "stdout",
          "output_type": "stream",
          "text": [
            "computed everything!"
          ]
        },
        {
          "name": "stdout",
          "output_type": "stream",
          "text": [
            "\n"
          ]
        },
        {
          "name": "stdout",
          "output_type": "stream",
          "text": [
            "adding eps to diagonal and taking inverse"
          ]
        },
        {
          "name": "stdout",
          "output_type": "stream",
          "text": [
            "\n"
          ]
        },
        {
          "name": "stdout",
          "output_type": "stream",
          "text": [
            "taking square root"
          ]
        },
        {
          "name": "stdout",
          "output_type": "stream",
          "text": [
            "\n"
          ]
        },
        {
          "name": "stdout",
          "output_type": "stream",
          "text": [
            "dot products..."
          ]
        },
        {
          "name": "stdout",
          "output_type": "stream",
          "text": [
            "\n"
          ]
        },
        {
          "name": "stdout",
          "output_type": "stream",
          "text": [
            "trying to take final svd"
          ]
        },
        {
          "name": "stdout",
          "output_type": "stream",
          "text": [
            "\n"
          ]
        },
        {
          "name": "stdout",
          "output_type": "stream",
          "text": [
            "computed everything!"
          ]
        },
        {
          "name": "stdout",
          "output_type": "stream",
          "text": [
            "\n"
          ]
        },
        {
          "name": "stdout",
          "output_type": "stream",
          "text": [
            "CCA coefficients mean concern: (0.8376996704755532, 0.8376996704755532)"
          ]
        },
        {
          "name": "stdout",
          "output_type": "stream",
          "text": [
            "\n"
          ]
        },
        {
          "name": "stdout",
          "output_type": "stream",
          "text": [
            "CCA coefficients mean non-concern: (0.8347075618420705, 0.8347075618420705)"
          ]
        },
        {
          "name": "stdout",
          "output_type": "stream",
          "text": [
            "\n"
          ]
        },
        {
          "name": "stdout",
          "output_type": "stream",
          "text": [
            "Linear CKA concern: 0.9746932887179454"
          ]
        },
        {
          "name": "stdout",
          "output_type": "stream",
          "text": [
            "\n"
          ]
        },
        {
          "name": "stdout",
          "output_type": "stream",
          "text": [
            "Linear CKA non-concern: 0.9595125785456102"
          ]
        },
        {
          "name": "stdout",
          "output_type": "stream",
          "text": [
            "\n"
          ]
        },
        {
          "name": "stdout",
          "output_type": "stream",
          "text": [
            "Kernel CKA concern: 0.9697857789005053"
          ]
        },
        {
          "name": "stdout",
          "output_type": "stream",
          "text": [
            "\n"
          ]
        },
        {
          "name": "stdout",
          "output_type": "stream",
          "text": [
            "Kernel CKA non-concern: 0.9622451664586336"
          ]
        },
        {
          "name": "stdout",
          "output_type": "stream",
          "text": [
            "\n"
          ]
        },
        {
          "name": "stdout",
          "output_type": "stream",
          "text": [
            "--5--"
          ]
        },
        {
          "name": "stdout",
          "output_type": "stream",
          "text": [
            "\n"
          ]
        },
        {
          "name": "stdout",
          "output_type": "stream",
          "text": [
            "adding eps to diagonal and taking inverse"
          ]
        },
        {
          "name": "stdout",
          "output_type": "stream",
          "text": [
            "\n"
          ]
        },
        {
          "name": "stdout",
          "output_type": "stream",
          "text": [
            "taking square root"
          ]
        },
        {
          "name": "stdout",
          "output_type": "stream",
          "text": [
            "\n"
          ]
        },
        {
          "name": "stdout",
          "output_type": "stream",
          "text": [
            "dot products..."
          ]
        },
        {
          "name": "stdout",
          "output_type": "stream",
          "text": [
            "\n"
          ]
        },
        {
          "name": "stdout",
          "output_type": "stream",
          "text": [
            "trying to take final svd"
          ]
        },
        {
          "name": "stdout",
          "output_type": "stream",
          "text": [
            "\n"
          ]
        },
        {
          "name": "stdout",
          "output_type": "stream",
          "text": [
            "computed everything!"
          ]
        },
        {
          "name": "stdout",
          "output_type": "stream",
          "text": [
            "\n"
          ]
        },
        {
          "name": "stdout",
          "output_type": "stream",
          "text": [
            "adding eps to diagonal and taking inverse"
          ]
        },
        {
          "name": "stdout",
          "output_type": "stream",
          "text": [
            "\n"
          ]
        },
        {
          "name": "stdout",
          "output_type": "stream",
          "text": [
            "taking square root"
          ]
        },
        {
          "name": "stdout",
          "output_type": "stream",
          "text": [
            "\n"
          ]
        },
        {
          "name": "stdout",
          "output_type": "stream",
          "text": [
            "dot products..."
          ]
        },
        {
          "name": "stdout",
          "output_type": "stream",
          "text": [
            "\n"
          ]
        },
        {
          "name": "stdout",
          "output_type": "stream",
          "text": [
            "trying to take final svd"
          ]
        },
        {
          "name": "stdout",
          "output_type": "stream",
          "text": [
            "\n"
          ]
        },
        {
          "name": "stdout",
          "output_type": "stream",
          "text": [
            "computed everything!"
          ]
        },
        {
          "name": "stdout",
          "output_type": "stream",
          "text": [
            "\n"
          ]
        },
        {
          "name": "stdout",
          "output_type": "stream",
          "text": [
            "CCA coefficients mean concern: (0.826181847514096, 0.826181847514096)"
          ]
        },
        {
          "name": "stdout",
          "output_type": "stream",
          "text": [
            "\n"
          ]
        },
        {
          "name": "stdout",
          "output_type": "stream",
          "text": [
            "CCA coefficients mean non-concern: (0.835922423082001, 0.835922423082001)"
          ]
        },
        {
          "name": "stdout",
          "output_type": "stream",
          "text": [
            "\n"
          ]
        },
        {
          "name": "stdout",
          "output_type": "stream",
          "text": [
            "Linear CKA concern: 0.9542848152693344"
          ]
        },
        {
          "name": "stdout",
          "output_type": "stream",
          "text": [
            "\n"
          ]
        },
        {
          "name": "stdout",
          "output_type": "stream",
          "text": [
            "Linear CKA non-concern: 0.9618804859420383"
          ]
        },
        {
          "name": "stdout",
          "output_type": "stream",
          "text": [
            "\n"
          ]
        },
        {
          "name": "stdout",
          "output_type": "stream",
          "text": [
            "Kernel CKA concern: 0.946144046177586"
          ]
        },
        {
          "name": "stdout",
          "output_type": "stream",
          "text": [
            "\n"
          ]
        },
        {
          "name": "stdout",
          "output_type": "stream",
          "text": [
            "Kernel CKA non-concern: 0.9638875692980095"
          ]
        },
        {
          "name": "stdout",
          "output_type": "stream",
          "text": [
            "\n"
          ]
        },
        {
          "name": "stdout",
          "output_type": "stream",
          "text": [
            "--6--"
          ]
        },
        {
          "name": "stdout",
          "output_type": "stream",
          "text": [
            "\n"
          ]
        },
        {
          "name": "stdout",
          "output_type": "stream",
          "text": [
            "adding eps to diagonal and taking inverse"
          ]
        },
        {
          "name": "stdout",
          "output_type": "stream",
          "text": [
            "\n"
          ]
        },
        {
          "name": "stdout",
          "output_type": "stream",
          "text": [
            "taking square root"
          ]
        },
        {
          "name": "stdout",
          "output_type": "stream",
          "text": [
            "\n"
          ]
        },
        {
          "name": "stdout",
          "output_type": "stream",
          "text": [
            "dot products..."
          ]
        },
        {
          "name": "stdout",
          "output_type": "stream",
          "text": [
            "\n"
          ]
        },
        {
          "name": "stdout",
          "output_type": "stream",
          "text": [
            "trying to take final svd"
          ]
        },
        {
          "name": "stdout",
          "output_type": "stream",
          "text": [
            "\n"
          ]
        },
        {
          "name": "stdout",
          "output_type": "stream",
          "text": [
            "computed everything!"
          ]
        },
        {
          "name": "stdout",
          "output_type": "stream",
          "text": [
            "\n"
          ]
        },
        {
          "name": "stdout",
          "output_type": "stream",
          "text": [
            "adding eps to diagonal and taking inverse"
          ]
        },
        {
          "name": "stdout",
          "output_type": "stream",
          "text": [
            "\n"
          ]
        },
        {
          "name": "stdout",
          "output_type": "stream",
          "text": [
            "taking square root"
          ]
        },
        {
          "name": "stdout",
          "output_type": "stream",
          "text": [
            "\n"
          ]
        },
        {
          "name": "stdout",
          "output_type": "stream",
          "text": [
            "dot products..."
          ]
        },
        {
          "name": "stdout",
          "output_type": "stream",
          "text": [
            "\n"
          ]
        },
        {
          "name": "stdout",
          "output_type": "stream",
          "text": [
            "trying to take final svd"
          ]
        },
        {
          "name": "stdout",
          "output_type": "stream",
          "text": [
            "\n"
          ]
        },
        {
          "name": "stdout",
          "output_type": "stream",
          "text": [
            "computed everything!"
          ]
        },
        {
          "name": "stdout",
          "output_type": "stream",
          "text": [
            "\n"
          ]
        },
        {
          "name": "stdout",
          "output_type": "stream",
          "text": [
            "CCA coefficients mean concern: (0.824526812772124, 0.824526812772124)"
          ]
        },
        {
          "name": "stdout",
          "output_type": "stream",
          "text": [
            "\n"
          ]
        },
        {
          "name": "stdout",
          "output_type": "stream",
          "text": [
            "CCA coefficients mean non-concern: (0.8359432546828469, 0.8359432546828469)"
          ]
        },
        {
          "name": "stdout",
          "output_type": "stream",
          "text": [
            "\n"
          ]
        },
        {
          "name": "stdout",
          "output_type": "stream",
          "text": [
            "Linear CKA concern: 0.9587361292024391"
          ]
        },
        {
          "name": "stdout",
          "output_type": "stream",
          "text": [
            "\n"
          ]
        },
        {
          "name": "stdout",
          "output_type": "stream",
          "text": [
            "Linear CKA non-concern: 0.9602947933818162"
          ]
        },
        {
          "name": "stdout",
          "output_type": "stream",
          "text": [
            "\n"
          ]
        },
        {
          "name": "stdout",
          "output_type": "stream",
          "text": [
            "Kernel CKA concern: 0.9522901212851893"
          ]
        },
        {
          "name": "stdout",
          "output_type": "stream",
          "text": [
            "\n"
          ]
        },
        {
          "name": "stdout",
          "output_type": "stream",
          "text": [
            "Kernel CKA non-concern: 0.9630679257103381"
          ]
        },
        {
          "name": "stdout",
          "output_type": "stream",
          "text": [
            "\n"
          ]
        },
        {
          "name": "stdout",
          "output_type": "stream",
          "text": [
            "--7--"
          ]
        },
        {
          "name": "stdout",
          "output_type": "stream",
          "text": [
            "\n"
          ]
        },
        {
          "name": "stdout",
          "output_type": "stream",
          "text": [
            "adding eps to diagonal and taking inverse"
          ]
        },
        {
          "name": "stdout",
          "output_type": "stream",
          "text": [
            "\n"
          ]
        },
        {
          "name": "stdout",
          "output_type": "stream",
          "text": [
            "taking square root"
          ]
        },
        {
          "name": "stdout",
          "output_type": "stream",
          "text": [
            "\n"
          ]
        },
        {
          "name": "stdout",
          "output_type": "stream",
          "text": [
            "dot products..."
          ]
        },
        {
          "name": "stdout",
          "output_type": "stream",
          "text": [
            "\n"
          ]
        },
        {
          "name": "stdout",
          "output_type": "stream",
          "text": [
            "trying to take final svd"
          ]
        },
        {
          "name": "stdout",
          "output_type": "stream",
          "text": [
            "\n"
          ]
        },
        {
          "name": "stdout",
          "output_type": "stream",
          "text": [
            "computed everything!"
          ]
        },
        {
          "name": "stdout",
          "output_type": "stream",
          "text": [
            "\n"
          ]
        },
        {
          "name": "stdout",
          "output_type": "stream",
          "text": [
            "adding eps to diagonal and taking inverse"
          ]
        },
        {
          "name": "stdout",
          "output_type": "stream",
          "text": [
            "\n"
          ]
        },
        {
          "name": "stdout",
          "output_type": "stream",
          "text": [
            "taking square root"
          ]
        },
        {
          "name": "stdout",
          "output_type": "stream",
          "text": [
            "\n"
          ]
        },
        {
          "name": "stdout",
          "output_type": "stream",
          "text": [
            "dot products..."
          ]
        },
        {
          "name": "stdout",
          "output_type": "stream",
          "text": [
            "\n"
          ]
        },
        {
          "name": "stdout",
          "output_type": "stream",
          "text": [
            "trying to take final svd"
          ]
        },
        {
          "name": "stdout",
          "output_type": "stream",
          "text": [
            "\n"
          ]
        },
        {
          "name": "stdout",
          "output_type": "stream",
          "text": [
            "computed everything!"
          ]
        },
        {
          "name": "stdout",
          "output_type": "stream",
          "text": [
            "\n"
          ]
        },
        {
          "name": "stdout",
          "output_type": "stream",
          "text": [
            "CCA coefficients mean concern: (0.8346600753026564, 0.8346600753026564)"
          ]
        },
        {
          "name": "stdout",
          "output_type": "stream",
          "text": [
            "\n"
          ]
        },
        {
          "name": "stdout",
          "output_type": "stream",
          "text": [
            "CCA coefficients mean non-concern: (0.8342875801129447, 0.8342875801129447)"
          ]
        },
        {
          "name": "stdout",
          "output_type": "stream",
          "text": [
            "\n"
          ]
        },
        {
          "name": "stdout",
          "output_type": "stream",
          "text": [
            "Linear CKA concern: 0.9668550338495071"
          ]
        },
        {
          "name": "stdout",
          "output_type": "stream",
          "text": [
            "\n"
          ]
        },
        {
          "name": "stdout",
          "output_type": "stream",
          "text": [
            "Linear CKA non-concern: 0.9615493396295551"
          ]
        },
        {
          "name": "stdout",
          "output_type": "stream",
          "text": [
            "\n"
          ]
        },
        {
          "name": "stdout",
          "output_type": "stream",
          "text": [
            "Kernel CKA concern: 0.9638206002172789"
          ]
        },
        {
          "name": "stdout",
          "output_type": "stream",
          "text": [
            "\n"
          ]
        },
        {
          "name": "stdout",
          "output_type": "stream",
          "text": [
            "Kernel CKA non-concern: 0.9635719209390149"
          ]
        },
        {
          "name": "stdout",
          "output_type": "stream",
          "text": [
            "\n"
          ]
        },
        {
          "name": "stdout",
          "output_type": "stream",
          "text": [
            "--8--"
          ]
        },
        {
          "name": "stdout",
          "output_type": "stream",
          "text": [
            "\n"
          ]
        },
        {
          "name": "stdout",
          "output_type": "stream",
          "text": [
            "adding eps to diagonal and taking inverse"
          ]
        },
        {
          "name": "stdout",
          "output_type": "stream",
          "text": [
            "\n"
          ]
        },
        {
          "name": "stdout",
          "output_type": "stream",
          "text": [
            "taking square root"
          ]
        },
        {
          "name": "stdout",
          "output_type": "stream",
          "text": [
            "\n"
          ]
        },
        {
          "name": "stdout",
          "output_type": "stream",
          "text": [
            "dot products..."
          ]
        },
        {
          "name": "stdout",
          "output_type": "stream",
          "text": [
            "\n"
          ]
        },
        {
          "name": "stdout",
          "output_type": "stream",
          "text": [
            "trying to take final svd"
          ]
        },
        {
          "name": "stdout",
          "output_type": "stream",
          "text": [
            "\n"
          ]
        },
        {
          "name": "stdout",
          "output_type": "stream",
          "text": [
            "computed everything!"
          ]
        },
        {
          "name": "stdout",
          "output_type": "stream",
          "text": [
            "\n"
          ]
        },
        {
          "name": "stdout",
          "output_type": "stream",
          "text": [
            "adding eps to diagonal and taking inverse"
          ]
        },
        {
          "name": "stdout",
          "output_type": "stream",
          "text": [
            "\n"
          ]
        },
        {
          "name": "stdout",
          "output_type": "stream",
          "text": [
            "taking square root"
          ]
        },
        {
          "name": "stdout",
          "output_type": "stream",
          "text": [
            "\n"
          ]
        },
        {
          "name": "stdout",
          "output_type": "stream",
          "text": [
            "dot products..."
          ]
        },
        {
          "name": "stdout",
          "output_type": "stream",
          "text": [
            "\n"
          ]
        },
        {
          "name": "stdout",
          "output_type": "stream",
          "text": [
            "trying to take final svd"
          ]
        },
        {
          "name": "stdout",
          "output_type": "stream",
          "text": [
            "\n"
          ]
        },
        {
          "name": "stdout",
          "output_type": "stream",
          "text": [
            "computed everything!"
          ]
        },
        {
          "name": "stdout",
          "output_type": "stream",
          "text": [
            "\n"
          ]
        },
        {
          "name": "stdout",
          "output_type": "stream",
          "text": [
            "CCA coefficients mean concern: (0.8341932121766125, 0.8341932121766125)"
          ]
        },
        {
          "name": "stdout",
          "output_type": "stream",
          "text": [
            "\n"
          ]
        },
        {
          "name": "stdout",
          "output_type": "stream",
          "text": [
            "CCA coefficients mean non-concern: (0.8357776842502765, 0.8357776842502765)"
          ]
        },
        {
          "name": "stdout",
          "output_type": "stream",
          "text": [
            "\n"
          ]
        },
        {
          "name": "stdout",
          "output_type": "stream",
          "text": [
            "Linear CKA concern: 0.9693368752609363"
          ]
        },
        {
          "name": "stdout",
          "output_type": "stream",
          "text": [
            "\n"
          ]
        },
        {
          "name": "stdout",
          "output_type": "stream",
          "text": [
            "Linear CKA non-concern: 0.960324393435019"
          ]
        },
        {
          "name": "stdout",
          "output_type": "stream",
          "text": [
            "\n"
          ]
        },
        {
          "name": "stdout",
          "output_type": "stream",
          "text": [
            "Kernel CKA concern: 0.964012581364805"
          ]
        },
        {
          "name": "stdout",
          "output_type": "stream",
          "text": [
            "\n"
          ]
        },
        {
          "name": "stdout",
          "output_type": "stream",
          "text": [
            "Kernel CKA non-concern: 0.9627795462055394"
          ]
        },
        {
          "name": "stdout",
          "output_type": "stream",
          "text": [
            "\n"
          ]
        },
        {
          "name": "stdout",
          "output_type": "stream",
          "text": [
            "--9--"
          ]
        },
        {
          "name": "stdout",
          "output_type": "stream",
          "text": [
            "\n"
          ]
        },
        {
          "name": "stdout",
          "output_type": "stream",
          "text": [
            "adding eps to diagonal and taking inverse"
          ]
        },
        {
          "name": "stdout",
          "output_type": "stream",
          "text": [
            "\n"
          ]
        },
        {
          "name": "stdout",
          "output_type": "stream",
          "text": [
            "taking square root"
          ]
        },
        {
          "name": "stdout",
          "output_type": "stream",
          "text": [
            "\n"
          ]
        },
        {
          "name": "stdout",
          "output_type": "stream",
          "text": [
            "dot products..."
          ]
        },
        {
          "name": "stdout",
          "output_type": "stream",
          "text": [
            "\n"
          ]
        },
        {
          "name": "stdout",
          "output_type": "stream",
          "text": [
            "trying to take final svd"
          ]
        },
        {
          "name": "stdout",
          "output_type": "stream",
          "text": [
            "\n"
          ]
        },
        {
          "name": "stdout",
          "output_type": "stream",
          "text": [
            "computed everything!"
          ]
        },
        {
          "name": "stdout",
          "output_type": "stream",
          "text": [
            "\n"
          ]
        },
        {
          "name": "stdout",
          "output_type": "stream",
          "text": [
            "adding eps to diagonal and taking inverse"
          ]
        },
        {
          "name": "stdout",
          "output_type": "stream",
          "text": [
            "\n"
          ]
        },
        {
          "name": "stdout",
          "output_type": "stream",
          "text": [
            "taking square root"
          ]
        },
        {
          "name": "stdout",
          "output_type": "stream",
          "text": [
            "\n"
          ]
        },
        {
          "name": "stdout",
          "output_type": "stream",
          "text": [
            "dot products..."
          ]
        },
        {
          "name": "stdout",
          "output_type": "stream",
          "text": [
            "\n"
          ]
        },
        {
          "name": "stdout",
          "output_type": "stream",
          "text": [
            "trying to take final svd"
          ]
        },
        {
          "name": "stdout",
          "output_type": "stream",
          "text": [
            "\n"
          ]
        },
        {
          "name": "stdout",
          "output_type": "stream",
          "text": [
            "computed everything!"
          ]
        },
        {
          "name": "stdout",
          "output_type": "stream",
          "text": [
            "\n"
          ]
        },
        {
          "name": "stdout",
          "output_type": "stream",
          "text": [
            "CCA coefficients mean concern: (0.8328644261241628, 0.8328644261241628)"
          ]
        },
        {
          "name": "stdout",
          "output_type": "stream",
          "text": [
            "\n"
          ]
        },
        {
          "name": "stdout",
          "output_type": "stream",
          "text": [
            "CCA coefficients mean non-concern: (0.8344623879199119, 0.8344623879199119)"
          ]
        },
        {
          "name": "stdout",
          "output_type": "stream",
          "text": [
            "\n"
          ]
        },
        {
          "name": "stdout",
          "output_type": "stream",
          "text": [
            "Linear CKA concern: 0.9753984873740874"
          ]
        },
        {
          "name": "stdout",
          "output_type": "stream",
          "text": [
            "\n"
          ]
        },
        {
          "name": "stdout",
          "output_type": "stream",
          "text": [
            "Linear CKA non-concern: 0.959525874297616"
          ]
        },
        {
          "name": "stdout",
          "output_type": "stream",
          "text": [
            "\n"
          ]
        },
        {
          "name": "stdout",
          "output_type": "stream",
          "text": [
            "Kernel CKA concern: 0.9688668952445518"
          ]
        },
        {
          "name": "stdout",
          "output_type": "stream",
          "text": [
            "\n"
          ]
        },
        {
          "name": "stdout",
          "output_type": "stream",
          "text": [
            "Kernel CKA non-concern: 0.9620840768161482"
          ]
        },
        {
          "name": "stdout",
          "output_type": "stream",
          "text": [
            "\n"
          ]
        },
        {
          "name": "stdout",
          "output_type": "stream",
          "text": [
            "--10--"
          ]
        },
        {
          "name": "stdout",
          "output_type": "stream",
          "text": [
            "\n"
          ]
        },
        {
          "name": "stdout",
          "output_type": "stream",
          "text": [
            "adding eps to diagonal and taking inverse"
          ]
        },
        {
          "name": "stdout",
          "output_type": "stream",
          "text": [
            "\n"
          ]
        },
        {
          "name": "stdout",
          "output_type": "stream",
          "text": [
            "taking square root"
          ]
        },
        {
          "name": "stdout",
          "output_type": "stream",
          "text": [
            "\n"
          ]
        },
        {
          "name": "stdout",
          "output_type": "stream",
          "text": [
            "dot products..."
          ]
        },
        {
          "name": "stdout",
          "output_type": "stream",
          "text": [
            "\n"
          ]
        },
        {
          "name": "stdout",
          "output_type": "stream",
          "text": [
            "trying to take final svd"
          ]
        },
        {
          "name": "stdout",
          "output_type": "stream",
          "text": [
            "\n"
          ]
        },
        {
          "name": "stdout",
          "output_type": "stream",
          "text": [
            "computed everything!"
          ]
        },
        {
          "name": "stdout",
          "output_type": "stream",
          "text": [
            "\n"
          ]
        },
        {
          "name": "stdout",
          "output_type": "stream",
          "text": [
            "adding eps to diagonal and taking inverse"
          ]
        },
        {
          "name": "stdout",
          "output_type": "stream",
          "text": [
            "\n"
          ]
        },
        {
          "name": "stdout",
          "output_type": "stream",
          "text": [
            "taking square root"
          ]
        },
        {
          "name": "stdout",
          "output_type": "stream",
          "text": [
            "\n"
          ]
        },
        {
          "name": "stdout",
          "output_type": "stream",
          "text": [
            "dot products..."
          ]
        },
        {
          "name": "stdout",
          "output_type": "stream",
          "text": [
            "\n"
          ]
        },
        {
          "name": "stdout",
          "output_type": "stream",
          "text": [
            "trying to take final svd"
          ]
        },
        {
          "name": "stdout",
          "output_type": "stream",
          "text": [
            "\n"
          ]
        },
        {
          "name": "stdout",
          "output_type": "stream",
          "text": [
            "computed everything!"
          ]
        },
        {
          "name": "stdout",
          "output_type": "stream",
          "text": [
            "\n"
          ]
        },
        {
          "name": "stdout",
          "output_type": "stream",
          "text": [
            "CCA coefficients mean concern: (0.8304124724374354, 0.8304124724374354)"
          ]
        },
        {
          "name": "stdout",
          "output_type": "stream",
          "text": [
            "\n"
          ]
        },
        {
          "name": "stdout",
          "output_type": "stream",
          "text": [
            "CCA coefficients mean non-concern: (0.8364196863577948, 0.8364196863577948)"
          ]
        },
        {
          "name": "stdout",
          "output_type": "stream",
          "text": [
            "\n"
          ]
        },
        {
          "name": "stdout",
          "output_type": "stream",
          "text": [
            "Linear CKA concern: 0.9722205695134822"
          ]
        },
        {
          "name": "stdout",
          "output_type": "stream",
          "text": [
            "\n"
          ]
        },
        {
          "name": "stdout",
          "output_type": "stream",
          "text": [
            "Linear CKA non-concern: 0.9601746597825337"
          ]
        },
        {
          "name": "stdout",
          "output_type": "stream",
          "text": [
            "\n"
          ]
        },
        {
          "name": "stdout",
          "output_type": "stream",
          "text": [
            "Kernel CKA concern: 0.9667031962579608"
          ]
        },
        {
          "name": "stdout",
          "output_type": "stream",
          "text": [
            "\n"
          ]
        },
        {
          "name": "stdout",
          "output_type": "stream",
          "text": [
            "Kernel CKA non-concern: 0.9628825621684443"
          ]
        },
        {
          "name": "stdout",
          "output_type": "stream",
          "text": [
            "\n"
          ]
        },
        {
          "name": "stdout",
          "output_type": "stream",
          "text": [
            "--11--"
          ]
        },
        {
          "name": "stdout",
          "output_type": "stream",
          "text": [
            "\n"
          ]
        },
        {
          "name": "stdout",
          "output_type": "stream",
          "text": [
            "adding eps to diagonal and taking inverse"
          ]
        },
        {
          "name": "stdout",
          "output_type": "stream",
          "text": [
            "\n"
          ]
        },
        {
          "name": "stdout",
          "output_type": "stream",
          "text": [
            "taking square root"
          ]
        },
        {
          "name": "stdout",
          "output_type": "stream",
          "text": [
            "\n"
          ]
        },
        {
          "name": "stdout",
          "output_type": "stream",
          "text": [
            "dot products..."
          ]
        },
        {
          "name": "stdout",
          "output_type": "stream",
          "text": [
            "\n"
          ]
        },
        {
          "name": "stdout",
          "output_type": "stream",
          "text": [
            "trying to take final svd"
          ]
        },
        {
          "name": "stdout",
          "output_type": "stream",
          "text": [
            "\n"
          ]
        },
        {
          "name": "stdout",
          "output_type": "stream",
          "text": [
            "computed everything!"
          ]
        },
        {
          "name": "stdout",
          "output_type": "stream",
          "text": [
            "\n"
          ]
        },
        {
          "name": "stdout",
          "output_type": "stream",
          "text": [
            "adding eps to diagonal and taking inverse"
          ]
        },
        {
          "name": "stdout",
          "output_type": "stream",
          "text": [
            "\n"
          ]
        },
        {
          "name": "stdout",
          "output_type": "stream",
          "text": [
            "taking square root"
          ]
        },
        {
          "name": "stdout",
          "output_type": "stream",
          "text": [
            "\n"
          ]
        },
        {
          "name": "stdout",
          "output_type": "stream",
          "text": [
            "dot products..."
          ]
        },
        {
          "name": "stdout",
          "output_type": "stream",
          "text": [
            "\n"
          ]
        },
        {
          "name": "stdout",
          "output_type": "stream",
          "text": [
            "trying to take final svd"
          ]
        },
        {
          "name": "stdout",
          "output_type": "stream",
          "text": [
            "\n"
          ]
        },
        {
          "name": "stdout",
          "output_type": "stream",
          "text": [
            "computed everything!"
          ]
        },
        {
          "name": "stdout",
          "output_type": "stream",
          "text": [
            "\n"
          ]
        },
        {
          "name": "stdout",
          "output_type": "stream",
          "text": [
            "CCA coefficients mean concern: (0.8311163706151093, 0.8311163706151093)"
          ]
        },
        {
          "name": "stdout",
          "output_type": "stream",
          "text": [
            "\n"
          ]
        },
        {
          "name": "stdout",
          "output_type": "stream",
          "text": [
            "CCA coefficients mean non-concern: (0.8349856726076968, 0.8349856726076968)"
          ]
        },
        {
          "name": "stdout",
          "output_type": "stream",
          "text": [
            "\n"
          ]
        },
        {
          "name": "stdout",
          "output_type": "stream",
          "text": [
            "Linear CKA concern: 0.9679692223919872"
          ]
        },
        {
          "name": "stdout",
          "output_type": "stream",
          "text": [
            "\n"
          ]
        },
        {
          "name": "stdout",
          "output_type": "stream",
          "text": [
            "Linear CKA non-concern: 0.9610183895547093"
          ]
        },
        {
          "name": "stdout",
          "output_type": "stream",
          "text": [
            "\n"
          ]
        },
        {
          "name": "stdout",
          "output_type": "stream",
          "text": [
            "Kernel CKA concern: 0.9618900108750613"
          ]
        },
        {
          "name": "stdout",
          "output_type": "stream",
          "text": [
            "\n"
          ]
        },
        {
          "name": "stdout",
          "output_type": "stream",
          "text": [
            "Kernel CKA non-concern: 0.9632737158340113"
          ]
        },
        {
          "name": "stdout",
          "output_type": "stream",
          "text": [
            "\n"
          ]
        },
        {
          "name": "stdout",
          "output_type": "stream",
          "text": [
            "--12--"
          ]
        },
        {
          "name": "stdout",
          "output_type": "stream",
          "text": [
            "\n"
          ]
        },
        {
          "name": "stdout",
          "output_type": "stream",
          "text": [
            "adding eps to diagonal and taking inverse"
          ]
        },
        {
          "name": "stdout",
          "output_type": "stream",
          "text": [
            "\n"
          ]
        },
        {
          "name": "stdout",
          "output_type": "stream",
          "text": [
            "taking square root"
          ]
        },
        {
          "name": "stdout",
          "output_type": "stream",
          "text": [
            "\n"
          ]
        },
        {
          "name": "stdout",
          "output_type": "stream",
          "text": [
            "dot products..."
          ]
        },
        {
          "name": "stdout",
          "output_type": "stream",
          "text": [
            "\n"
          ]
        },
        {
          "name": "stdout",
          "output_type": "stream",
          "text": [
            "trying to take final svd"
          ]
        },
        {
          "name": "stdout",
          "output_type": "stream",
          "text": [
            "\n"
          ]
        },
        {
          "name": "stdout",
          "output_type": "stream",
          "text": [
            "computed everything!"
          ]
        },
        {
          "name": "stdout",
          "output_type": "stream",
          "text": [
            "\n"
          ]
        },
        {
          "name": "stdout",
          "output_type": "stream",
          "text": [
            "adding eps to diagonal and taking inverse"
          ]
        },
        {
          "name": "stdout",
          "output_type": "stream",
          "text": [
            "\n"
          ]
        },
        {
          "name": "stdout",
          "output_type": "stream",
          "text": [
            "taking square root"
          ]
        },
        {
          "name": "stdout",
          "output_type": "stream",
          "text": [
            "\n"
          ]
        },
        {
          "name": "stdout",
          "output_type": "stream",
          "text": [
            "dot products..."
          ]
        },
        {
          "name": "stdout",
          "output_type": "stream",
          "text": [
            "\n"
          ]
        },
        {
          "name": "stdout",
          "output_type": "stream",
          "text": [
            "trying to take final svd"
          ]
        },
        {
          "name": "stdout",
          "output_type": "stream",
          "text": [
            "\n"
          ]
        },
        {
          "name": "stdout",
          "output_type": "stream",
          "text": [
            "computed everything!"
          ]
        },
        {
          "name": "stdout",
          "output_type": "stream",
          "text": [
            "\n"
          ]
        },
        {
          "name": "stdout",
          "output_type": "stream",
          "text": [
            "CCA coefficients mean concern: (0.8320831872659384, 0.8320831872659384)"
          ]
        },
        {
          "name": "stdout",
          "output_type": "stream",
          "text": [
            "\n"
          ]
        },
        {
          "name": "stdout",
          "output_type": "stream",
          "text": [
            "CCA coefficients mean non-concern: (0.8354464694050086, 0.8354464694050086)"
          ]
        },
        {
          "name": "stdout",
          "output_type": "stream",
          "text": [
            "\n"
          ]
        },
        {
          "name": "stdout",
          "output_type": "stream",
          "text": [
            "Linear CKA concern: 0.9715399586710445"
          ]
        },
        {
          "name": "stdout",
          "output_type": "stream",
          "text": [
            "\n"
          ]
        },
        {
          "name": "stdout",
          "output_type": "stream",
          "text": [
            "Linear CKA non-concern: 0.9612208421252896"
          ]
        },
        {
          "name": "stdout",
          "output_type": "stream",
          "text": [
            "\n"
          ]
        },
        {
          "name": "stdout",
          "output_type": "stream",
          "text": [
            "Kernel CKA concern: 0.9673567543478372"
          ]
        },
        {
          "name": "stdout",
          "output_type": "stream",
          "text": [
            "\n"
          ]
        },
        {
          "name": "stdout",
          "output_type": "stream",
          "text": [
            "Kernel CKA non-concern: 0.9636911914563707"
          ]
        },
        {
          "name": "stdout",
          "output_type": "stream",
          "text": [
            "\n"
          ]
        },
        {
          "name": "stdout",
          "output_type": "stream",
          "text": [
            "--13--"
          ]
        },
        {
          "name": "stdout",
          "output_type": "stream",
          "text": [
            "\n"
          ]
        },
        {
          "name": "stdout",
          "output_type": "stream",
          "text": [
            "adding eps to diagonal and taking inverse"
          ]
        },
        {
          "name": "stdout",
          "output_type": "stream",
          "text": [
            "\n"
          ]
        },
        {
          "name": "stdout",
          "output_type": "stream",
          "text": [
            "taking square root"
          ]
        },
        {
          "name": "stdout",
          "output_type": "stream",
          "text": [
            "\n"
          ]
        },
        {
          "name": "stdout",
          "output_type": "stream",
          "text": [
            "dot products..."
          ]
        },
        {
          "name": "stdout",
          "output_type": "stream",
          "text": [
            "\n"
          ]
        },
        {
          "name": "stdout",
          "output_type": "stream",
          "text": [
            "trying to take final svd"
          ]
        },
        {
          "name": "stdout",
          "output_type": "stream",
          "text": [
            "\n"
          ]
        },
        {
          "name": "stdout",
          "output_type": "stream",
          "text": [
            "computed everything!"
          ]
        },
        {
          "name": "stdout",
          "output_type": "stream",
          "text": [
            "\n"
          ]
        },
        {
          "name": "stdout",
          "output_type": "stream",
          "text": [
            "adding eps to diagonal and taking inverse"
          ]
        },
        {
          "name": "stdout",
          "output_type": "stream",
          "text": [
            "\n"
          ]
        },
        {
          "name": "stdout",
          "output_type": "stream",
          "text": [
            "taking square root"
          ]
        },
        {
          "name": "stdout",
          "output_type": "stream",
          "text": [
            "\n"
          ]
        },
        {
          "name": "stdout",
          "output_type": "stream",
          "text": [
            "dot products..."
          ]
        },
        {
          "name": "stdout",
          "output_type": "stream",
          "text": [
            "\n"
          ]
        },
        {
          "name": "stdout",
          "output_type": "stream",
          "text": [
            "trying to take final svd"
          ]
        },
        {
          "name": "stdout",
          "output_type": "stream",
          "text": [
            "\n"
          ]
        },
        {
          "name": "stdout",
          "output_type": "stream",
          "text": [
            "computed everything!"
          ]
        },
        {
          "name": "stdout",
          "output_type": "stream",
          "text": [
            "\n"
          ]
        },
        {
          "name": "stdout",
          "output_type": "stream",
          "text": [
            "CCA coefficients mean concern: (0.836552878975126, 0.836552878975126)"
          ]
        },
        {
          "name": "stdout",
          "output_type": "stream",
          "text": [
            "\n"
          ]
        },
        {
          "name": "stdout",
          "output_type": "stream",
          "text": [
            "CCA coefficients mean non-concern: (0.8352360367932641, 0.8352360367932641)"
          ]
        },
        {
          "name": "stdout",
          "output_type": "stream",
          "text": [
            "\n"
          ]
        },
        {
          "name": "stdout",
          "output_type": "stream",
          "text": [
            "Linear CKA concern: 0.9725934791033818"
          ]
        },
        {
          "name": "stdout",
          "output_type": "stream",
          "text": [
            "\n"
          ]
        },
        {
          "name": "stdout",
          "output_type": "stream",
          "text": [
            "Linear CKA non-concern: 0.9603372371515883"
          ]
        },
        {
          "name": "stdout",
          "output_type": "stream",
          "text": [
            "\n"
          ]
        },
        {
          "name": "stdout",
          "output_type": "stream",
          "text": [
            "Kernel CKA concern: 0.9659144769641006"
          ]
        },
        {
          "name": "stdout",
          "output_type": "stream",
          "text": [
            "\n"
          ]
        },
        {
          "name": "stdout",
          "output_type": "stream",
          "text": [
            "Kernel CKA non-concern: 0.9622102066091679"
          ]
        },
        {
          "name": "stdout",
          "output_type": "stream",
          "text": [
            "\n"
          ]
        },
        {
          "name": "stdout",
          "output_type": "stream",
          "text": [
            "--14--"
          ]
        },
        {
          "name": "stdout",
          "output_type": "stream",
          "text": [
            "\n"
          ]
        },
        {
          "name": "stdout",
          "output_type": "stream",
          "text": [
            "adding eps to diagonal and taking inverse"
          ]
        },
        {
          "name": "stdout",
          "output_type": "stream",
          "text": [
            "\n"
          ]
        },
        {
          "name": "stdout",
          "output_type": "stream",
          "text": [
            "taking square root"
          ]
        },
        {
          "name": "stdout",
          "output_type": "stream",
          "text": [
            "\n"
          ]
        },
        {
          "name": "stdout",
          "output_type": "stream",
          "text": [
            "dot products..."
          ]
        },
        {
          "name": "stdout",
          "output_type": "stream",
          "text": [
            "\n"
          ]
        },
        {
          "name": "stdout",
          "output_type": "stream",
          "text": [
            "trying to take final svd"
          ]
        },
        {
          "name": "stdout",
          "output_type": "stream",
          "text": [
            "\n"
          ]
        },
        {
          "name": "stdout",
          "output_type": "stream",
          "text": [
            "computed everything!"
          ]
        },
        {
          "name": "stdout",
          "output_type": "stream",
          "text": [
            "\n"
          ]
        },
        {
          "name": "stdout",
          "output_type": "stream",
          "text": [
            "adding eps to diagonal and taking inverse"
          ]
        },
        {
          "name": "stdout",
          "output_type": "stream",
          "text": [
            "\n"
          ]
        },
        {
          "name": "stdout",
          "output_type": "stream",
          "text": [
            "taking square root"
          ]
        },
        {
          "name": "stdout",
          "output_type": "stream",
          "text": [
            "\n"
          ]
        },
        {
          "name": "stdout",
          "output_type": "stream",
          "text": [
            "dot products..."
          ]
        },
        {
          "name": "stdout",
          "output_type": "stream",
          "text": [
            "\n"
          ]
        },
        {
          "name": "stdout",
          "output_type": "stream",
          "text": [
            "trying to take final svd"
          ]
        },
        {
          "name": "stdout",
          "output_type": "stream",
          "text": [
            "\n"
          ]
        },
        {
          "name": "stdout",
          "output_type": "stream",
          "text": [
            "computed everything!"
          ]
        },
        {
          "name": "stdout",
          "output_type": "stream",
          "text": [
            "\n"
          ]
        },
        {
          "name": "stdout",
          "output_type": "stream",
          "text": [
            "CCA coefficients mean concern: (0.8366596188629685, 0.8366596188629685)"
          ]
        },
        {
          "name": "stdout",
          "output_type": "stream",
          "text": [
            "\n"
          ]
        },
        {
          "name": "stdout",
          "output_type": "stream",
          "text": [
            "CCA coefficients mean non-concern: (0.8347246781779508, 0.8347246781779508)"
          ]
        },
        {
          "name": "stdout",
          "output_type": "stream",
          "text": [
            "\n"
          ]
        },
        {
          "name": "stdout",
          "output_type": "stream",
          "text": [
            "Linear CKA concern: 0.971674352496807"
          ]
        },
        {
          "name": "stdout",
          "output_type": "stream",
          "text": [
            "\n"
          ]
        },
        {
          "name": "stdout",
          "output_type": "stream",
          "text": [
            "Linear CKA non-concern: 0.9600910694616267"
          ]
        },
        {
          "name": "stdout",
          "output_type": "stream",
          "text": [
            "\n"
          ]
        },
        {
          "name": "stdout",
          "output_type": "stream",
          "text": [
            "Kernel CKA concern: 0.9661713567541994"
          ]
        },
        {
          "name": "stdout",
          "output_type": "stream",
          "text": [
            "\n"
          ]
        },
        {
          "name": "stdout",
          "output_type": "stream",
          "text": [
            "Kernel CKA non-concern: 0.9630235633692065"
          ]
        },
        {
          "name": "stdout",
          "output_type": "stream",
          "text": [
            "\n"
          ]
        },
        {
          "name": "stdout",
          "output_type": "stream",
          "text": [
            "--15--"
          ]
        },
        {
          "name": "stdout",
          "output_type": "stream",
          "text": [
            "\n"
          ]
        },
        {
          "name": "stdout",
          "output_type": "stream",
          "text": [
            "adding eps to diagonal and taking inverse"
          ]
        },
        {
          "name": "stdout",
          "output_type": "stream",
          "text": [
            "\n"
          ]
        },
        {
          "name": "stdout",
          "output_type": "stream",
          "text": [
            "taking square root"
          ]
        },
        {
          "name": "stdout",
          "output_type": "stream",
          "text": [
            "\n"
          ]
        },
        {
          "name": "stdout",
          "output_type": "stream",
          "text": [
            "dot products..."
          ]
        },
        {
          "name": "stdout",
          "output_type": "stream",
          "text": [
            "\n"
          ]
        },
        {
          "name": "stdout",
          "output_type": "stream",
          "text": [
            "trying to take final svd"
          ]
        },
        {
          "name": "stdout",
          "output_type": "stream",
          "text": [
            "\n"
          ]
        },
        {
          "name": "stdout",
          "output_type": "stream",
          "text": [
            "computed everything!"
          ]
        },
        {
          "name": "stdout",
          "output_type": "stream",
          "text": [
            "\n"
          ]
        },
        {
          "name": "stdout",
          "output_type": "stream",
          "text": [
            "adding eps to diagonal and taking inverse"
          ]
        },
        {
          "name": "stdout",
          "output_type": "stream",
          "text": [
            "\n"
          ]
        },
        {
          "name": "stdout",
          "output_type": "stream",
          "text": [
            "taking square root"
          ]
        },
        {
          "name": "stdout",
          "output_type": "stream",
          "text": [
            "\n"
          ]
        },
        {
          "name": "stdout",
          "output_type": "stream",
          "text": [
            "dot products..."
          ]
        },
        {
          "name": "stdout",
          "output_type": "stream",
          "text": [
            "\n"
          ]
        },
        {
          "name": "stdout",
          "output_type": "stream",
          "text": [
            "trying to take final svd"
          ]
        },
        {
          "name": "stdout",
          "output_type": "stream",
          "text": [
            "\n"
          ]
        },
        {
          "name": "stdout",
          "output_type": "stream",
          "text": [
            "computed everything!"
          ]
        },
        {
          "name": "stdout",
          "output_type": "stream",
          "text": [
            "\n"
          ]
        },
        {
          "name": "stdout",
          "output_type": "stream",
          "text": [
            "CCA coefficients mean concern: (0.8259826494118568, 0.8259826494118568)"
          ]
        },
        {
          "name": "stdout",
          "output_type": "stream",
          "text": [
            "\n"
          ]
        },
        {
          "name": "stdout",
          "output_type": "stream",
          "text": [
            "CCA coefficients mean non-concern: (0.834847198642709, 0.834847198642709)"
          ]
        },
        {
          "name": "stdout",
          "output_type": "stream",
          "text": [
            "\n"
          ]
        },
        {
          "name": "stdout",
          "output_type": "stream",
          "text": [
            "Linear CKA concern: 0.9509139554109393"
          ]
        },
        {
          "name": "stdout",
          "output_type": "stream",
          "text": [
            "\n"
          ]
        },
        {
          "name": "stdout",
          "output_type": "stream",
          "text": [
            "Linear CKA non-concern: 0.9619178119137102"
          ]
        },
        {
          "name": "stdout",
          "output_type": "stream",
          "text": [
            "\n"
          ]
        },
        {
          "name": "stdout",
          "output_type": "stream",
          "text": [
            "Kernel CKA concern: 0.9451170593695163"
          ]
        },
        {
          "name": "stdout",
          "output_type": "stream",
          "text": [
            "\n"
          ]
        },
        {
          "name": "stdout",
          "output_type": "stream",
          "text": [
            "Kernel CKA non-concern: 0.9640993752421094"
          ]
        },
        {
          "name": "stdout",
          "output_type": "stream",
          "text": [
            "\n"
          ]
        }
      ],
      "source": [
        "for concern in range(num_labels):\n",
        "    print(f\"--{concern}--\")\n",
        "    positive_samples = SamplingDataset(\n",
        "        train_dataloader, concern, num_samples, num_labels, True, 4, device=device, resample=False, seed=seed\n",
        "    )\n",
        "    negative_samples = SamplingDataset(\n",
        "        train_dataloader, concern, num_samples, num_labels, False, 4, device=device, resample=False, seed=seed\n",
        "    )\n",
        "    similar(model, module, valid_dataloader, concern, num_samples, num_labels, device=device, seed=seed)"
      ]
    },
    {
      "cell_type": "code",
      "execution_count": 12,
      "id": "5163bd33-5b99-487b-9099-ea53b46eaacd",
      "metadata": {
        "execution": {
          "iopub.execute_input": "2024-08-19T05:47:16.129559Z",
          "iopub.status.busy": "2024-08-19T05:47:16.128957Z",
          "iopub.status.idle": "2024-08-19T05:47:19.077452Z",
          "shell.execute_reply": "2024-08-19T05:47:19.076902Z"
        },
        "papermill": {
          "duration": 3.003375,
          "end_time": "2024-08-19T05:47:19.078639",
          "exception": false,
          "start_time": "2024-08-19T05:47:16.075264",
          "status": "completed"
        },
        "tags": []
      },
      "outputs": [
        {
          "data": {
            "text/plain": [
              "(0.39653757670359674,\n",
              " {'bert.encoder.layer.0.attention.self.query.weight': 0.3997395833333333,\n",
              "  'bert.encoder.layer.0.attention.self.query.bias': 0.0,\n",
              "  'bert.encoder.layer.0.attention.self.key.weight': 0.3997395833333333,\n",
              "  'bert.encoder.layer.0.attention.self.key.bias': 0.0,\n",
              "  'bert.encoder.layer.0.attention.self.value.weight': 0.3997395833333333,\n",
              "  'bert.encoder.layer.0.attention.self.value.bias': 0.0,\n",
              "  'bert.encoder.layer.0.attention.output.dense.weight': 0.3997395833333333,\n",
              "  'bert.encoder.layer.0.attention.output.dense.bias': 0.0,\n",
              "  'bert.encoder.layer.0.intermediate.dense.weight': 0.3997395833333333,\n",
              "  'bert.encoder.layer.0.intermediate.dense.bias': 0.0,\n",
              "  'bert.encoder.layer.0.output.dense.weight': 0.3997395833333333,\n",
              "  'bert.encoder.layer.0.output.dense.bias': 0.0,\n",
              "  'bert.encoder.layer.1.attention.self.query.weight': 0.3997395833333333,\n",
              "  'bert.encoder.layer.1.attention.self.query.bias': 0.0,\n",
              "  'bert.encoder.layer.1.attention.self.key.weight': 0.3997395833333333,\n",
              "  'bert.encoder.layer.1.attention.self.key.bias': 0.0,\n",
              "  'bert.encoder.layer.1.attention.self.value.weight': 0.3997395833333333,\n",
              "  'bert.encoder.layer.1.attention.self.value.bias': 0.0,\n",
              "  'bert.encoder.layer.1.attention.output.dense.weight': 0.3997395833333333,\n",
              "  'bert.encoder.layer.1.attention.output.dense.bias': 0.0,\n",
              "  'bert.encoder.layer.1.intermediate.dense.weight': 0.3997395833333333,\n",
              "  'bert.encoder.layer.1.intermediate.dense.bias': 0.0,\n",
              "  'bert.encoder.layer.1.output.dense.weight': 0.3997395833333333,\n",
              "  'bert.encoder.layer.1.output.dense.bias': 0.0,\n",
              "  'bert.encoder.layer.2.attention.self.query.weight': 0.3997395833333333,\n",
              "  'bert.encoder.layer.2.attention.self.query.bias': 0.0,\n",
              "  'bert.encoder.layer.2.attention.self.key.weight': 0.3997395833333333,\n",
              "  'bert.encoder.layer.2.attention.self.key.bias': 0.0,\n",
              "  'bert.encoder.layer.2.attention.self.value.weight': 0.3997395833333333,\n",
              "  'bert.encoder.layer.2.attention.self.value.bias': 0.0,\n",
              "  'bert.encoder.layer.2.attention.output.dense.weight': 0.3997395833333333,\n",
              "  'bert.encoder.layer.2.attention.output.dense.bias': 0.0,\n",
              "  'bert.encoder.layer.2.intermediate.dense.weight': 0.3997395833333333,\n",
              "  'bert.encoder.layer.2.intermediate.dense.bias': 0.0,\n",
              "  'bert.encoder.layer.2.output.dense.weight': 0.3997395833333333,\n",
              "  'bert.encoder.layer.2.output.dense.bias': 0.0,\n",
              "  'bert.encoder.layer.3.attention.self.query.weight': 0.3997395833333333,\n",
              "  'bert.encoder.layer.3.attention.self.query.bias': 0.0,\n",
              "  'bert.encoder.layer.3.attention.self.key.weight': 0.3997395833333333,\n",
              "  'bert.encoder.layer.3.attention.self.key.bias': 0.0,\n",
              "  'bert.encoder.layer.3.attention.self.value.weight': 0.3997395833333333,\n",
              "  'bert.encoder.layer.3.attention.self.value.bias': 0.0,\n",
              "  'bert.encoder.layer.3.attention.output.dense.weight': 0.3997395833333333,\n",
              "  'bert.encoder.layer.3.attention.output.dense.bias': 0.0,\n",
              "  'bert.encoder.layer.3.intermediate.dense.weight': 0.3997395833333333,\n",
              "  'bert.encoder.layer.3.intermediate.dense.bias': 0.0,\n",
              "  'bert.encoder.layer.3.output.dense.weight': 0.3997395833333333,\n",
              "  'bert.encoder.layer.3.output.dense.bias': 0.0,\n",
              "  'bert.encoder.layer.4.attention.self.query.weight': 0.3997395833333333,\n",
              "  'bert.encoder.layer.4.attention.self.query.bias': 0.0,\n",
              "  'bert.encoder.layer.4.attention.self.key.weight': 0.3997395833333333,\n",
              "  'bert.encoder.layer.4.attention.self.key.bias': 0.0,\n",
              "  'bert.encoder.layer.4.attention.self.value.weight': 0.3997395833333333,\n",
              "  'bert.encoder.layer.4.attention.self.value.bias': 0.0,\n",
              "  'bert.encoder.layer.4.attention.output.dense.weight': 0.3997395833333333,\n",
              "  'bert.encoder.layer.4.attention.output.dense.bias': 0.0,\n",
              "  'bert.encoder.layer.4.intermediate.dense.weight': 0.3997395833333333,\n",
              "  'bert.encoder.layer.4.intermediate.dense.bias': 0.0,\n",
              "  'bert.encoder.layer.4.output.dense.weight': 0.3997395833333333,\n",
              "  'bert.encoder.layer.4.output.dense.bias': 0.0,\n",
              "  'bert.encoder.layer.5.attention.self.query.weight': 0.3997395833333333,\n",
              "  'bert.encoder.layer.5.attention.self.query.bias': 0.0,\n",
              "  'bert.encoder.layer.5.attention.self.key.weight': 0.3997395833333333,\n",
              "  'bert.encoder.layer.5.attention.self.key.bias': 0.0,\n",
              "  'bert.encoder.layer.5.attention.self.value.weight': 0.3997395833333333,\n",
              "  'bert.encoder.layer.5.attention.self.value.bias': 0.0,\n",
              "  'bert.encoder.layer.5.attention.output.dense.weight': 0.3997395833333333,\n",
              "  'bert.encoder.layer.5.attention.output.dense.bias': 0.0,\n",
              "  'bert.encoder.layer.5.intermediate.dense.weight': 0.3997395833333333,\n",
              "  'bert.encoder.layer.5.intermediate.dense.bias': 0.0,\n",
              "  'bert.encoder.layer.5.output.dense.weight': 0.3997395833333333,\n",
              "  'bert.encoder.layer.5.output.dense.bias': 0.0,\n",
              "  'bert.encoder.layer.6.attention.self.query.weight': 0.3997395833333333,\n",
              "  'bert.encoder.layer.6.attention.self.query.bias': 0.0,\n",
              "  'bert.encoder.layer.6.attention.self.key.weight': 0.3997395833333333,\n",
              "  'bert.encoder.layer.6.attention.self.key.bias': 0.0,\n",
              "  'bert.encoder.layer.6.attention.self.value.weight': 0.3997395833333333,\n",
              "  'bert.encoder.layer.6.attention.self.value.bias': 0.0,\n",
              "  'bert.encoder.layer.6.attention.output.dense.weight': 0.3997395833333333,\n",
              "  'bert.encoder.layer.6.attention.output.dense.bias': 0.0,\n",
              "  'bert.encoder.layer.6.intermediate.dense.weight': 0.3997395833333333,\n",
              "  'bert.encoder.layer.6.intermediate.dense.bias': 0.0,\n",
              "  'bert.encoder.layer.6.output.dense.weight': 0.3997395833333333,\n",
              "  'bert.encoder.layer.6.output.dense.bias': 0.0,\n",
              "  'bert.encoder.layer.7.attention.self.query.weight': 0.3997395833333333,\n",
              "  'bert.encoder.layer.7.attention.self.query.bias': 0.0,\n",
              "  'bert.encoder.layer.7.attention.self.key.weight': 0.3997395833333333,\n",
              "  'bert.encoder.layer.7.attention.self.key.bias': 0.0,\n",
              "  'bert.encoder.layer.7.attention.self.value.weight': 0.3997395833333333,\n",
              "  'bert.encoder.layer.7.attention.self.value.bias': 0.0,\n",
              "  'bert.encoder.layer.7.attention.output.dense.weight': 0.3997395833333333,\n",
              "  'bert.encoder.layer.7.attention.output.dense.bias': 0.0,\n",
              "  'bert.encoder.layer.7.intermediate.dense.weight': 0.3997395833333333,\n",
              "  'bert.encoder.layer.7.intermediate.dense.bias': 0.0,\n",
              "  'bert.encoder.layer.7.output.dense.weight': 0.3997395833333333,\n",
              "  'bert.encoder.layer.7.output.dense.bias': 0.0,\n",
              "  'bert.encoder.layer.8.attention.self.query.weight': 0.3997395833333333,\n",
              "  'bert.encoder.layer.8.attention.self.query.bias': 0.0,\n",
              "  'bert.encoder.layer.8.attention.self.key.weight': 0.3997395833333333,\n",
              "  'bert.encoder.layer.8.attention.self.key.bias': 0.0,\n",
              "  'bert.encoder.layer.8.attention.self.value.weight': 0.3997395833333333,\n",
              "  'bert.encoder.layer.8.attention.self.value.bias': 0.0,\n",
              "  'bert.encoder.layer.8.attention.output.dense.weight': 0.3997395833333333,\n",
              "  'bert.encoder.layer.8.attention.output.dense.bias': 0.0,\n",
              "  'bert.encoder.layer.8.intermediate.dense.weight': 0.3997395833333333,\n",
              "  'bert.encoder.layer.8.intermediate.dense.bias': 0.0,\n",
              "  'bert.encoder.layer.8.output.dense.weight': 0.3997395833333333,\n",
              "  'bert.encoder.layer.8.output.dense.bias': 0.0,\n",
              "  'bert.encoder.layer.9.attention.self.query.weight': 0.3997395833333333,\n",
              "  'bert.encoder.layer.9.attention.self.query.bias': 0.0,\n",
              "  'bert.encoder.layer.9.attention.self.key.weight': 0.3997395833333333,\n",
              "  'bert.encoder.layer.9.attention.self.key.bias': 0.0,\n",
              "  'bert.encoder.layer.9.attention.self.value.weight': 0.3997395833333333,\n",
              "  'bert.encoder.layer.9.attention.self.value.bias': 0.0,\n",
              "  'bert.encoder.layer.9.attention.output.dense.weight': 0.3997395833333333,\n",
              "  'bert.encoder.layer.9.attention.output.dense.bias': 0.0,\n",
              "  'bert.encoder.layer.9.intermediate.dense.weight': 0.3997395833333333,\n",
              "  'bert.encoder.layer.9.intermediate.dense.bias': 0.0,\n",
              "  'bert.encoder.layer.9.output.dense.weight': 0.3997395833333333,\n",
              "  'bert.encoder.layer.9.output.dense.bias': 0.0,\n",
              "  'bert.encoder.layer.10.attention.self.query.weight': 0.3997395833333333,\n",
              "  'bert.encoder.layer.10.attention.self.query.bias': 0.0,\n",
              "  'bert.encoder.layer.10.attention.self.key.weight': 0.3997395833333333,\n",
              "  'bert.encoder.layer.10.attention.self.key.bias': 0.0,\n",
              "  'bert.encoder.layer.10.attention.self.value.weight': 0.3997395833333333,\n",
              "  'bert.encoder.layer.10.attention.self.value.bias': 0.0,\n",
              "  'bert.encoder.layer.10.attention.output.dense.weight': 0.3997395833333333,\n",
              "  'bert.encoder.layer.10.attention.output.dense.bias': 0.0,\n",
              "  'bert.encoder.layer.10.intermediate.dense.weight': 0.3997395833333333,\n",
              "  'bert.encoder.layer.10.intermediate.dense.bias': 0.0,\n",
              "  'bert.encoder.layer.10.output.dense.weight': 0.3997395833333333,\n",
              "  'bert.encoder.layer.10.output.dense.bias': 0.0,\n",
              "  'bert.encoder.layer.11.attention.self.query.weight': 0.3997395833333333,\n",
              "  'bert.encoder.layer.11.attention.self.query.bias': 0.0,\n",
              "  'bert.encoder.layer.11.attention.self.key.weight': 0.3997395833333333,\n",
              "  'bert.encoder.layer.11.attention.self.key.bias': 0.0,\n",
              "  'bert.encoder.layer.11.attention.self.value.weight': 0.3997395833333333,\n",
              "  'bert.encoder.layer.11.attention.self.value.bias': 0.0,\n",
              "  'bert.encoder.layer.11.attention.output.dense.weight': 0.3997395833333333,\n",
              "  'bert.encoder.layer.11.attention.output.dense.bias': 0.0,\n",
              "  'bert.encoder.layer.11.intermediate.dense.weight': 0.3997395833333333,\n",
              "  'bert.encoder.layer.11.intermediate.dense.bias': 0.0,\n",
              "  'bert.encoder.layer.11.output.dense.weight': 0.3997395833333333,\n",
              "  'bert.encoder.layer.11.output.dense.bias': 0.0,\n",
              "  'bert.pooler.dense.weight': 0.0,\n",
              "  'bert.pooler.dense.bias': 0.0,\n",
              "  'classifier.weight': 0.0,\n",
              "  'classifier.bias': 0.0})"
            ]
          },
          "execution_count": 12,
          "metadata": {},
          "output_type": "execute_result"
        }
      ],
      "source": [
        "get_sparsity(module)"
      ]
    }
  ],
  "metadata": {
    "kernelspec": {
      "display_name": "Python 3 (ipykernel)",
      "language": "python",
      "name": "python3"
    },
    "language_info": {
      "codemirror_mode": {
        "name": "ipython",
        "version": 3
      },
      "file_extension": ".py",
      "mimetype": "text/x-python",
      "name": "python",
      "nbconvert_exporter": "python",
      "pygments_lexer": "ipython3",
      "version": "3.8.19"
    },
    "papermill": {
      "default_parameters": {},
      "duration": 324.583835,
      "end_time": "2024-08-19T05:47:20.821651",
      "environment_variables": {},
      "exception": null,
      "input_path": "Getting_Started/ipynb/Prune by wanda/OSDG/Prune by wanda(40%).ipynb",
      "output_path": "Getting_Started/ipynb/Prune by wanda/OSDG/Prune by wanda(40%)_saved.ipynb",
      "parameters": {},
      "start_time": "2024-08-19T05:41:56.237816",
      "version": "2.6.0"
    }
  },
  "nbformat": 4,
  "nbformat_minor": 5
}