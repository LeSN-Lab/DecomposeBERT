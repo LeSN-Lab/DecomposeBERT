{
 "cells": [
  {
   "cell_type": "code",
   "execution_count": 1,
   "id": "1e774c0d-6a12-4e09-83b7-52c6be4f5eea",
   "metadata": {
    "editable": true,
    "execution": {
     "iopub.execute_input": "2024-08-19T05:25:16.511151Z",
     "iopub.status.busy": "2024-08-19T05:25:16.510382Z",
     "iopub.status.idle": "2024-08-19T05:25:16.526196Z",
     "shell.execute_reply": "2024-08-19T05:25:16.524982Z"
    },
    "papermill": {
     "duration": 0.024145,
     "end_time": "2024-08-19T05:25:16.528838",
     "exception": false,
     "start_time": "2024-08-19T05:25:16.504693",
     "status": "completed"
    },
    "slideshow": {
     "slide_type": ""
    },
    "tags": []
   },
   "outputs": [],
   "source": [
    "import os\n",
    "import sys\n",
    "sys.path.append(\"../../../../\")\n",
    "os.environ[\"TOKENIZERS_PARALLELISM\"] = \"false\""
   ]
  },
  {
   "cell_type": "code",
   "execution_count": 2,
   "id": "b787f031-cd94-47d7-8f3d-a36a6c772eeb",
   "metadata": {
    "execution": {
     "iopub.execute_input": "2024-08-19T05:25:16.539503Z",
     "iopub.status.busy": "2024-08-19T05:25:16.539022Z",
     "iopub.status.idle": "2024-08-19T05:25:17.962500Z",
     "shell.execute_reply": "2024-08-19T05:25:17.961692Z"
    },
    "papermill": {
     "duration": 1.432594,
     "end_time": "2024-08-19T05:25:17.966091",
     "exception": false,
     "start_time": "2024-08-19T05:25:16.533497",
     "status": "completed"
    },
    "tags": []
   },
   "outputs": [],
   "source": [
    "import copy\n",
    "import torch\n",
    "from datetime import datetime\n",
    "from utils.helper import ModelConfig, color_print\n",
    "from utils.dataset_utils.load_dataset import (\n",
    "    load_data,\n",
    ")\n",
    "from utils.model_utils.save_module import save_module\n",
    "from utils.model_utils.load_model import load_model\n",
    "from utils.model_utils.evaluate import evaluate_model, get_sparsity, similar\n",
    "from utils.dataset_utils.sampling import SamplingDataset\n",
    "from utils.prune_utils.prune import (\n",
    "    prune_wanda\n",
    ")"
   ]
  },
  {
   "cell_type": "code",
   "execution_count": 3,
   "id": "e41ca12f-9587-4e99-9e64-895758e0c440",
   "metadata": {
    "execution": {
     "iopub.execute_input": "2024-08-19T05:25:17.981578Z",
     "iopub.status.busy": "2024-08-19T05:25:17.981303Z",
     "iopub.status.idle": "2024-08-19T05:25:17.985727Z",
     "shell.execute_reply": "2024-08-19T05:25:17.985049Z"
    },
    "papermill": {
     "duration": 0.017298,
     "end_time": "2024-08-19T05:25:17.988778",
     "exception": false,
     "start_time": "2024-08-19T05:25:17.971480",
     "status": "completed"
    },
    "tags": []
   },
   "outputs": [],
   "source": [
    "name= \"IMDB\"\n",
    "device = torch.device(\"cuda:0\")\n",
    "checkpoint = None\n",
    "batch_size=32\n",
    "num_workers=48\n",
    "num_samples=16\n",
    "wanda_ratio=0.5\n",
    "seed=44\n",
    "include_layers=[\"attention\", \"intermediate\", \"output\"]\n",
    "exclude_layers=None"
   ]
  },
  {
   "cell_type": "code",
   "execution_count": 4,
   "id": "ca18b217-817f-4b47-bc81-541ae80dfd80",
   "metadata": {
    "execution": {
     "iopub.execute_input": "2024-08-19T05:25:17.999170Z",
     "iopub.status.busy": "2024-08-19T05:25:17.999050Z",
     "iopub.status.idle": "2024-08-19T05:25:18.003814Z",
     "shell.execute_reply": "2024-08-19T05:25:18.003120Z"
    },
    "papermill": {
     "duration": 0.01445,
     "end_time": "2024-08-19T05:25:18.008058",
     "exception": false,
     "start_time": "2024-08-19T05:25:17.993608",
     "status": "completed"
    },
    "tags": []
   },
   "outputs": [
    {
     "name": "stdout",
     "output_type": "stream",
     "text": [
      "Script started at: 2024-08-19 14:25:17\n"
     ]
    }
   ],
   "source": [
    "script_start_time = datetime.now()\n",
    "print(f\"Script started at: {script_start_time.strftime('%Y-%m-%d %H:%M:%S')}\")"
   ]
  },
  {
   "cell_type": "code",
   "execution_count": 5,
   "id": "d71e362f-ac31-43de-b51f-1cd9a9a388de",
   "metadata": {
    "execution": {
     "iopub.execute_input": "2024-08-19T05:25:18.019101Z",
     "iopub.status.busy": "2024-08-19T05:25:18.018980Z",
     "iopub.status.idle": "2024-08-19T05:25:21.351917Z",
     "shell.execute_reply": "2024-08-19T05:25:21.350909Z"
    },
    "papermill": {
     "duration": 3.341697,
     "end_time": "2024-08-19T05:25:21.354975",
     "exception": false,
     "start_time": "2024-08-19T05:25:18.013278",
     "status": "completed"
    },
    "tags": []
   },
   "outputs": [
    {
     "name": "stdout",
     "output_type": "stream",
     "text": [
      "Loading the model."
     ]
    },
    {
     "name": "stdout",
     "output_type": "stream",
     "text": [
      "\n"
     ]
    },
    {
     "name": "stdout",
     "output_type": "stream",
     "text": [
      "{'model_name': 'textattack/bert-base-uncased-imdb', 'task_type': 'classification', 'architectures': 'bert', 'dataset_name': 'IMDB', 'num_labels': 2, 'cache_dir': 'Models'}"
     ]
    },
    {
     "name": "stdout",
     "output_type": "stream",
     "text": [
      "\n"
     ]
    },
    {
     "name": "stdout",
     "output_type": "stream",
     "text": [
      "The model textattack/bert-base-uncased-imdb is loaded."
     ]
    },
    {
     "name": "stdout",
     "output_type": "stream",
     "text": [
      "\n"
     ]
    }
   ],
   "source": [
    "model_config = ModelConfig(name, device)\n",
    "num_labels = model_config.config[\"num_labels\"]\n",
    "model, tokenizer, checkpoint = load_model(model_config)"
   ]
  },
  {
   "cell_type": "code",
   "execution_count": 6,
   "id": "f51b4e6c-5480-42c7-9d62-a05cbd1d4221",
   "metadata": {
    "execution": {
     "iopub.execute_input": "2024-08-19T05:25:21.373697Z",
     "iopub.status.busy": "2024-08-19T05:25:21.372637Z",
     "iopub.status.idle": "2024-08-19T05:25:27.718198Z",
     "shell.execute_reply": "2024-08-19T05:25:27.716637Z"
    },
    "papermill": {
     "duration": 6.360167,
     "end_time": "2024-08-19T05:25:27.721842",
     "exception": false,
     "start_time": "2024-08-19T05:25:21.361675",
     "status": "completed"
    },
    "tags": []
   },
   "outputs": [
    {
     "name": "stdout",
     "output_type": "stream",
     "text": [
      "{'dataset_name': 'IMDB', 'path': 'imdb', 'config_name': 'plain_text', 'text_column': 'text', 'label_column': 'label', 'cache_dir': 'Datasets/IMDB', 'task_type': 'classification'}"
     ]
    },
    {
     "name": "stdout",
     "output_type": "stream",
     "text": [
      "\n"
     ]
    },
    {
     "name": "stdout",
     "output_type": "stream",
     "text": [
      "Loading cached dataset IMDB."
     ]
    },
    {
     "name": "stdout",
     "output_type": "stream",
     "text": [
      "\n"
     ]
    },
    {
     "name": "stdout",
     "output_type": "stream",
     "text": [
      "The dataset IMDB is loaded"
     ]
    },
    {
     "name": "stdout",
     "output_type": "stream",
     "text": [
      "\n"
     ]
    }
   ],
   "source": [
    "train_dataloader, valid_dataloader, test_dataloader = load_data(\n",
    "    name, batch_size=batch_size, num_workers=num_workers, seed=seed\n",
    ")"
   ]
  },
  {
   "cell_type": "code",
   "execution_count": 7,
   "id": "a2a78ba8-1c77-45f0-87f2-90720614723d",
   "metadata": {
    "execution": {
     "iopub.execute_input": "2024-08-19T05:25:27.739543Z",
     "iopub.status.busy": "2024-08-19T05:25:27.739258Z",
     "iopub.status.idle": "2024-08-19T05:25:27.745056Z",
     "shell.execute_reply": "2024-08-19T05:25:27.744157Z"
    },
    "papermill": {
     "duration": 0.0188,
     "end_time": "2024-08-19T05:25:27.747779",
     "exception": false,
     "start_time": "2024-08-19T05:25:27.728979",
     "status": "completed"
    },
    "tags": []
   },
   "outputs": [],
   "source": [
    "all_samples = SamplingDataset(\n",
    "    train_dataloader, 200, num_samples, num_labels, False, 4, device=device, resample=False, seed=seed\n",
    ")"
   ]
  },
  {
   "cell_type": "code",
   "execution_count": 8,
   "id": "bccd31bf-6e15-4b28-b96d-cb60a955c037",
   "metadata": {
    "execution": {
     "iopub.execute_input": "2024-08-19T05:25:27.762138Z",
     "iopub.status.busy": "2024-08-19T05:25:27.761903Z",
     "iopub.status.idle": "2024-08-19T05:25:27.766353Z",
     "shell.execute_reply": "2024-08-19T05:25:27.765473Z"
    },
    "papermill": {
     "duration": 0.014643,
     "end_time": "2024-08-19T05:25:27.769137",
     "exception": false,
     "start_time": "2024-08-19T05:25:27.754494",
     "status": "completed"
    },
    "tags": []
   },
   "outputs": [],
   "source": [
    "# print(\"Evaluate the original model\")\n",
    "# result = evaluate_model(model, model_config, test_dataloader)"
   ]
  },
  {
   "cell_type": "code",
   "execution_count": 9,
   "id": "83d92e9b-8917-4e8d-9a34-71984ff985cd",
   "metadata": {
    "execution": {
     "iopub.execute_input": "2024-08-19T05:25:27.783960Z",
     "iopub.status.busy": "2024-08-19T05:25:27.783534Z",
     "iopub.status.idle": "2024-08-19T05:25:27.788125Z",
     "shell.execute_reply": "2024-08-19T05:25:27.787229Z"
    },
    "papermill": {
     "duration": 0.015216,
     "end_time": "2024-08-19T05:25:27.791088",
     "exception": false,
     "start_time": "2024-08-19T05:25:27.775872",
     "status": "completed"
    },
    "tags": []
   },
   "outputs": [],
   "source": [
    "# Evaluate the original model\n",
    "# Evaluating: 100%|█████████████████████████████████████████████████████████████████████| 782/782 [05:36<00:00,  2.32it/s]\n",
    "# Loss: 0.3423\n",
    "# Precision: 0.9306, Recall: 0.9303, F1-Score: 0.9303\n",
    "#               precision    recall  f1-score   support\n",
    "\n",
    "#            0       0.92      0.94      0.93     12500\n",
    "#            1       0.94      0.92      0.93     12500\n",
    "\n",
    "#     accuracy                           0.93     25000\n",
    "#    macro avg       0.93      0.93      0.93     25000\n",
    "# weighted avg       0.93      0.93      0.93     25000"
   ]
  },
  {
   "cell_type": "code",
   "execution_count": 10,
   "id": "a6d8bf19-3d3b-4ef7-a3d0-7d89ffb31790",
   "metadata": {
    "execution": {
     "iopub.execute_input": "2024-08-19T05:25:27.805900Z",
     "iopub.status.busy": "2024-08-19T05:25:27.805678Z",
     "iopub.status.idle": "2024-08-19T05:29:51.665322Z",
     "shell.execute_reply": "2024-08-19T05:29:51.664309Z"
    },
    "papermill": {
     "duration": 263.869889,
     "end_time": "2024-08-19T05:29:51.668095",
     "exception": false,
     "start_time": "2024-08-19T05:25:27.798206",
     "status": "completed"
    },
    "tags": []
   },
   "outputs": [
    {
     "name": "stdout",
     "output_type": "stream",
     "text": [
      "Evaluate the pruned model"
     ]
    },
    {
     "name": "stdout",
     "output_type": "stream",
     "text": [
      "\n"
     ]
    },
    {
     "name": "stderr",
     "output_type": "stream",
     "text": [
      "\r",
      "Evaluating:   0%|          | 0/782 [00:00<?, ?it/s]"
     ]
    },
    {
     "name": "stderr",
     "output_type": "stream",
     "text": [
      "\r",
      "Evaluating:   0%|          | 1/782 [00:00<02:55,  4.44it/s]"
     ]
    },
    {
     "name": "stderr",
     "output_type": "stream",
     "text": [
      "\r",
      "Evaluating:   0%|          | 2/782 [00:00<02:50,  4.58it/s]"
     ]
    },
    {
     "name": "stderr",
     "output_type": "stream",
     "text": [
      "\r",
      "Evaluating:   0%|          | 3/782 [00:00<02:48,  4.62it/s]"
     ]
    },
    {
     "name": "stderr",
     "output_type": "stream",
     "text": [
      "\r",
      "Evaluating:   1%|          | 4/782 [00:00<02:47,  4.64it/s]"
     ]
    },
    {
     "name": "stderr",
     "output_type": "stream",
     "text": [
      "\r",
      "Evaluating:   1%|          | 5/782 [00:01<02:47,  4.64it/s]"
     ]
    },
    {
     "name": "stderr",
     "output_type": "stream",
     "text": [
      "\r",
      "Evaluating:   1%|          | 6/782 [00:01<02:47,  4.62it/s]"
     ]
    },
    {
     "name": "stderr",
     "output_type": "stream",
     "text": [
      "\r",
      "Evaluating:   1%|          | 7/782 [00:01<02:47,  4.63it/s]"
     ]
    },
    {
     "name": "stderr",
     "output_type": "stream",
     "text": [
      "\r",
      "Evaluating:   1%|          | 8/782 [00:01<02:47,  4.63it/s]"
     ]
    },
    {
     "name": "stderr",
     "output_type": "stream",
     "text": [
      "\r",
      "Evaluating:   1%|          | 9/782 [00:01<02:46,  4.64it/s]"
     ]
    },
    {
     "name": "stderr",
     "output_type": "stream",
     "text": [
      "\r",
      "Evaluating:   1%|▏         | 10/782 [00:02<02:46,  4.63it/s]"
     ]
    },
    {
     "name": "stderr",
     "output_type": "stream",
     "text": [
      "\r",
      "Evaluating:   1%|▏         | 11/782 [00:02<02:46,  4.63it/s]"
     ]
    },
    {
     "name": "stderr",
     "output_type": "stream",
     "text": [
      "\r",
      "Evaluating:   2%|▏         | 12/782 [00:02<02:46,  4.63it/s]"
     ]
    },
    {
     "name": "stderr",
     "output_type": "stream",
     "text": [
      "\r",
      "Evaluating:   2%|▏         | 13/782 [00:02<02:46,  4.63it/s]"
     ]
    },
    {
     "name": "stderr",
     "output_type": "stream",
     "text": [
      "\r",
      "Evaluating:   2%|▏         | 14/782 [00:03<02:46,  4.62it/s]"
     ]
    },
    {
     "name": "stderr",
     "output_type": "stream",
     "text": [
      "\r",
      "Evaluating:   2%|▏         | 15/782 [00:03<02:46,  4.62it/s]"
     ]
    },
    {
     "name": "stderr",
     "output_type": "stream",
     "text": [
      "\r",
      "Evaluating:   2%|▏         | 16/782 [00:03<02:45,  4.62it/s]"
     ]
    },
    {
     "name": "stderr",
     "output_type": "stream",
     "text": [
      "\r",
      "Evaluating:   2%|▏         | 17/782 [00:03<02:45,  4.62it/s]"
     ]
    },
    {
     "name": "stderr",
     "output_type": "stream",
     "text": [
      "\r",
      "Evaluating:   2%|▏         | 18/782 [00:03<02:45,  4.62it/s]"
     ]
    },
    {
     "name": "stderr",
     "output_type": "stream",
     "text": [
      "\r",
      "Evaluating:   2%|▏         | 19/782 [00:04<02:45,  4.62it/s]"
     ]
    },
    {
     "name": "stderr",
     "output_type": "stream",
     "text": [
      "\r",
      "Evaluating:   3%|▎         | 20/782 [00:04<02:44,  4.62it/s]"
     ]
    },
    {
     "name": "stderr",
     "output_type": "stream",
     "text": [
      "\r",
      "Evaluating:   3%|▎         | 21/782 [00:04<02:44,  4.62it/s]"
     ]
    },
    {
     "name": "stderr",
     "output_type": "stream",
     "text": [
      "\r",
      "Evaluating:   3%|▎         | 22/782 [00:04<02:44,  4.61it/s]"
     ]
    },
    {
     "name": "stderr",
     "output_type": "stream",
     "text": [
      "\r",
      "Evaluating:   3%|▎         | 23/782 [00:04<02:44,  4.61it/s]"
     ]
    },
    {
     "name": "stderr",
     "output_type": "stream",
     "text": [
      "\r",
      "Evaluating:   3%|▎         | 24/782 [00:05<02:44,  4.61it/s]"
     ]
    },
    {
     "name": "stderr",
     "output_type": "stream",
     "text": [
      "\r",
      "Evaluating:   3%|▎         | 25/782 [00:05<02:44,  4.61it/s]"
     ]
    },
    {
     "name": "stderr",
     "output_type": "stream",
     "text": [
      "\r",
      "Evaluating:   3%|▎         | 26/782 [00:05<02:44,  4.61it/s]"
     ]
    },
    {
     "name": "stderr",
     "output_type": "stream",
     "text": [
      "\r",
      "Evaluating:   3%|▎         | 27/782 [00:05<02:43,  4.61it/s]"
     ]
    },
    {
     "name": "stderr",
     "output_type": "stream",
     "text": [
      "\r",
      "Evaluating:   4%|▎         | 28/782 [00:06<02:43,  4.61it/s]"
     ]
    },
    {
     "name": "stderr",
     "output_type": "stream",
     "text": [
      "\r",
      "Evaluating:   4%|▎         | 29/782 [00:06<02:43,  4.61it/s]"
     ]
    },
    {
     "name": "stderr",
     "output_type": "stream",
     "text": [
      "\r",
      "Evaluating:   4%|▍         | 30/782 [00:06<02:43,  4.60it/s]"
     ]
    },
    {
     "name": "stderr",
     "output_type": "stream",
     "text": [
      "\r",
      "Evaluating:   4%|▍         | 31/782 [00:06<02:43,  4.60it/s]"
     ]
    },
    {
     "name": "stderr",
     "output_type": "stream",
     "text": [
      "\r",
      "Evaluating:   4%|▍         | 32/782 [00:06<02:43,  4.60it/s]"
     ]
    },
    {
     "name": "stderr",
     "output_type": "stream",
     "text": [
      "\r",
      "Evaluating:   4%|▍         | 33/782 [00:07<02:42,  4.60it/s]"
     ]
    },
    {
     "name": "stderr",
     "output_type": "stream",
     "text": [
      "\r",
      "Evaluating:   4%|▍         | 34/782 [00:07<02:42,  4.60it/s]"
     ]
    },
    {
     "name": "stderr",
     "output_type": "stream",
     "text": [
      "\r",
      "Evaluating:   4%|▍         | 35/782 [00:07<02:42,  4.60it/s]"
     ]
    },
    {
     "name": "stderr",
     "output_type": "stream",
     "text": [
      "\r",
      "Evaluating:   5%|▍         | 36/782 [00:07<02:42,  4.58it/s]"
     ]
    },
    {
     "name": "stderr",
     "output_type": "stream",
     "text": [
      "\r",
      "Evaluating:   5%|▍         | 37/782 [00:08<02:42,  4.58it/s]"
     ]
    },
    {
     "name": "stderr",
     "output_type": "stream",
     "text": [
      "\r",
      "Evaluating:   5%|▍         | 38/782 [00:08<02:42,  4.58it/s]"
     ]
    },
    {
     "name": "stderr",
     "output_type": "stream",
     "text": [
      "\r",
      "Evaluating:   5%|▍         | 39/782 [00:08<02:42,  4.57it/s]"
     ]
    },
    {
     "name": "stderr",
     "output_type": "stream",
     "text": [
      "\r",
      "Evaluating:   5%|▌         | 40/782 [00:08<02:42,  4.57it/s]"
     ]
    },
    {
     "name": "stderr",
     "output_type": "stream",
     "text": [
      "\r",
      "Evaluating:   5%|▌         | 41/782 [00:08<02:42,  4.55it/s]"
     ]
    },
    {
     "name": "stderr",
     "output_type": "stream",
     "text": [
      "\r",
      "Evaluating:   5%|▌         | 42/782 [00:09<02:44,  4.50it/s]"
     ]
    },
    {
     "name": "stderr",
     "output_type": "stream",
     "text": [
      "\r",
      "Evaluating:   5%|▌         | 43/782 [00:09<02:45,  4.46it/s]"
     ]
    },
    {
     "name": "stderr",
     "output_type": "stream",
     "text": [
      "\r",
      "Evaluating:   6%|▌         | 44/782 [00:09<02:48,  4.38it/s]"
     ]
    },
    {
     "name": "stderr",
     "output_type": "stream",
     "text": [
      "\r",
      "Evaluating:   6%|▌         | 45/782 [00:09<02:52,  4.27it/s]"
     ]
    },
    {
     "name": "stderr",
     "output_type": "stream",
     "text": [
      "\r",
      "Evaluating:   6%|▌         | 46/782 [00:10<02:54,  4.22it/s]"
     ]
    },
    {
     "name": "stderr",
     "output_type": "stream",
     "text": [
      "\r",
      "Evaluating:   6%|▌         | 47/782 [00:10<03:13,  3.80it/s]"
     ]
    },
    {
     "name": "stderr",
     "output_type": "stream",
     "text": [
      "\r",
      "Evaluating:   6%|▌         | 48/782 [00:10<03:29,  3.50it/s]"
     ]
    },
    {
     "name": "stderr",
     "output_type": "stream",
     "text": [
      "\r",
      "Evaluating:   6%|▋         | 49/782 [00:11<03:40,  3.33it/s]"
     ]
    },
    {
     "name": "stderr",
     "output_type": "stream",
     "text": [
      "\r",
      "Evaluating:   6%|▋         | 50/782 [00:11<03:47,  3.21it/s]"
     ]
    },
    {
     "name": "stderr",
     "output_type": "stream",
     "text": [
      "\r",
      "Evaluating:   7%|▋         | 51/782 [00:11<03:52,  3.14it/s]"
     ]
    },
    {
     "name": "stderr",
     "output_type": "stream",
     "text": [
      "\r",
      "Evaluating:   7%|▋         | 52/782 [00:12<03:56,  3.09it/s]"
     ]
    },
    {
     "name": "stderr",
     "output_type": "stream",
     "text": [
      "\r",
      "Evaluating:   7%|▋         | 53/782 [00:12<03:58,  3.06it/s]"
     ]
    },
    {
     "name": "stderr",
     "output_type": "stream",
     "text": [
      "\r",
      "Evaluating:   7%|▋         | 54/782 [00:12<03:59,  3.04it/s]"
     ]
    },
    {
     "name": "stderr",
     "output_type": "stream",
     "text": [
      "\r",
      "Evaluating:   7%|▋         | 55/782 [00:13<04:00,  3.02it/s]"
     ]
    },
    {
     "name": "stderr",
     "output_type": "stream",
     "text": [
      "\r",
      "Evaluating:   7%|▋         | 56/782 [00:13<04:00,  3.02it/s]"
     ]
    },
    {
     "name": "stderr",
     "output_type": "stream",
     "text": [
      "\r",
      "Evaluating:   7%|▋         | 57/782 [00:13<04:00,  3.01it/s]"
     ]
    },
    {
     "name": "stderr",
     "output_type": "stream",
     "text": [
      "\r",
      "Evaluating:   7%|▋         | 58/782 [00:14<04:00,  3.01it/s]"
     ]
    },
    {
     "name": "stderr",
     "output_type": "stream",
     "text": [
      "\r",
      "Evaluating:   8%|▊         | 59/782 [00:14<04:00,  3.00it/s]"
     ]
    },
    {
     "name": "stderr",
     "output_type": "stream",
     "text": [
      "\r",
      "Evaluating:   8%|▊         | 60/782 [00:14<04:00,  3.01it/s]"
     ]
    },
    {
     "name": "stderr",
     "output_type": "stream",
     "text": [
      "\r",
      "Evaluating:   8%|▊         | 61/782 [00:15<04:00,  3.00it/s]"
     ]
    },
    {
     "name": "stderr",
     "output_type": "stream",
     "text": [
      "\r",
      "Evaluating:   8%|▊         | 62/782 [00:15<03:59,  3.01it/s]"
     ]
    },
    {
     "name": "stderr",
     "output_type": "stream",
     "text": [
      "\r",
      "Evaluating:   8%|▊         | 63/782 [00:15<03:59,  3.00it/s]"
     ]
    },
    {
     "name": "stderr",
     "output_type": "stream",
     "text": [
      "\r",
      "Evaluating:   8%|▊         | 64/782 [00:16<03:59,  3.00it/s]"
     ]
    },
    {
     "name": "stderr",
     "output_type": "stream",
     "text": [
      "\r",
      "Evaluating:   8%|▊         | 65/782 [00:16<03:58,  3.00it/s]"
     ]
    },
    {
     "name": "stderr",
     "output_type": "stream",
     "text": [
      "\r",
      "Evaluating:   8%|▊         | 66/782 [00:16<03:58,  3.00it/s]"
     ]
    },
    {
     "name": "stderr",
     "output_type": "stream",
     "text": [
      "\r",
      "Evaluating:   9%|▊         | 67/782 [00:17<03:57,  3.01it/s]"
     ]
    },
    {
     "name": "stderr",
     "output_type": "stream",
     "text": [
      "\r",
      "Evaluating:   9%|▊         | 68/782 [00:17<03:57,  3.00it/s]"
     ]
    },
    {
     "name": "stderr",
     "output_type": "stream",
     "text": [
      "\r",
      "Evaluating:   9%|▉         | 69/782 [00:17<03:57,  3.01it/s]"
     ]
    },
    {
     "name": "stderr",
     "output_type": "stream",
     "text": [
      "\r",
      "Evaluating:   9%|▉         | 70/782 [00:18<03:56,  3.01it/s]"
     ]
    },
    {
     "name": "stderr",
     "output_type": "stream",
     "text": [
      "\r",
      "Evaluating:   9%|▉         | 71/782 [00:18<03:56,  3.01it/s]"
     ]
    },
    {
     "name": "stderr",
     "output_type": "stream",
     "text": [
      "\r",
      "Evaluating:   9%|▉         | 72/782 [00:18<03:56,  3.00it/s]"
     ]
    },
    {
     "name": "stderr",
     "output_type": "stream",
     "text": [
      "\r",
      "Evaluating:   9%|▉         | 73/782 [00:19<03:56,  3.00it/s]"
     ]
    },
    {
     "name": "stderr",
     "output_type": "stream",
     "text": [
      "\r",
      "Evaluating:   9%|▉         | 74/782 [00:19<03:56,  2.99it/s]"
     ]
    },
    {
     "name": "stderr",
     "output_type": "stream",
     "text": [
      "\r",
      "Evaluating:  10%|▉         | 75/782 [00:19<03:57,  2.98it/s]"
     ]
    },
    {
     "name": "stderr",
     "output_type": "stream",
     "text": [
      "\r",
      "Evaluating:  10%|▉         | 76/782 [00:20<03:57,  2.98it/s]"
     ]
    },
    {
     "name": "stderr",
     "output_type": "stream",
     "text": [
      "\r",
      "Evaluating:  10%|▉         | 77/782 [00:20<03:57,  2.97it/s]"
     ]
    },
    {
     "name": "stderr",
     "output_type": "stream",
     "text": [
      "\r",
      "Evaluating:  10%|▉         | 78/782 [00:20<03:56,  2.98it/s]"
     ]
    },
    {
     "name": "stderr",
     "output_type": "stream",
     "text": [
      "\r",
      "Evaluating:  10%|█         | 79/782 [00:21<03:55,  2.98it/s]"
     ]
    },
    {
     "name": "stderr",
     "output_type": "stream",
     "text": [
      "\r",
      "Evaluating:  10%|█         | 80/782 [00:21<03:55,  2.98it/s]"
     ]
    },
    {
     "name": "stderr",
     "output_type": "stream",
     "text": [
      "\r",
      "Evaluating:  10%|█         | 81/782 [00:21<03:54,  2.98it/s]"
     ]
    },
    {
     "name": "stderr",
     "output_type": "stream",
     "text": [
      "\r",
      "Evaluating:  10%|█         | 82/782 [00:22<03:54,  2.98it/s]"
     ]
    },
    {
     "name": "stderr",
     "output_type": "stream",
     "text": [
      "\r",
      "Evaluating:  11%|█         | 83/782 [00:22<03:54,  2.98it/s]"
     ]
    },
    {
     "name": "stderr",
     "output_type": "stream",
     "text": [
      "\r",
      "Evaluating:  11%|█         | 84/782 [00:22<03:54,  2.98it/s]"
     ]
    },
    {
     "name": "stderr",
     "output_type": "stream",
     "text": [
      "\r",
      "Evaluating:  11%|█         | 85/782 [00:23<03:54,  2.97it/s]"
     ]
    },
    {
     "name": "stderr",
     "output_type": "stream",
     "text": [
      "\r",
      "Evaluating:  11%|█         | 86/782 [00:23<03:54,  2.97it/s]"
     ]
    },
    {
     "name": "stderr",
     "output_type": "stream",
     "text": [
      "\r",
      "Evaluating:  11%|█         | 87/782 [00:23<03:54,  2.97it/s]"
     ]
    },
    {
     "name": "stderr",
     "output_type": "stream",
     "text": [
      "\r",
      "Evaluating:  11%|█▏        | 88/782 [00:24<03:53,  2.97it/s]"
     ]
    },
    {
     "name": "stderr",
     "output_type": "stream",
     "text": [
      "\r",
      "Evaluating:  11%|█▏        | 89/782 [00:24<03:53,  2.97it/s]"
     ]
    },
    {
     "name": "stderr",
     "output_type": "stream",
     "text": [
      "\r",
      "Evaluating:  12%|█▏        | 90/782 [00:24<03:53,  2.97it/s]"
     ]
    },
    {
     "name": "stderr",
     "output_type": "stream",
     "text": [
      "\r",
      "Evaluating:  12%|█▏        | 91/782 [00:25<03:53,  2.96it/s]"
     ]
    },
    {
     "name": "stderr",
     "output_type": "stream",
     "text": [
      "\r",
      "Evaluating:  12%|█▏        | 92/782 [00:25<03:52,  2.97it/s]"
     ]
    },
    {
     "name": "stderr",
     "output_type": "stream",
     "text": [
      "\r",
      "Evaluating:  12%|█▏        | 93/782 [00:25<03:52,  2.97it/s]"
     ]
    },
    {
     "name": "stderr",
     "output_type": "stream",
     "text": [
      "\r",
      "Evaluating:  12%|█▏        | 94/782 [00:26<03:51,  2.97it/s]"
     ]
    },
    {
     "name": "stderr",
     "output_type": "stream",
     "text": [
      "\r",
      "Evaluating:  12%|█▏        | 95/782 [00:26<03:51,  2.97it/s]"
     ]
    },
    {
     "name": "stderr",
     "output_type": "stream",
     "text": [
      "\r",
      "Evaluating:  12%|█▏        | 96/782 [00:26<03:51,  2.96it/s]"
     ]
    },
    {
     "name": "stderr",
     "output_type": "stream",
     "text": [
      "\r",
      "Evaluating:  12%|█▏        | 97/782 [00:27<03:50,  2.97it/s]"
     ]
    },
    {
     "name": "stderr",
     "output_type": "stream",
     "text": [
      "\r",
      "Evaluating:  13%|█▎        | 98/782 [00:27<03:50,  2.97it/s]"
     ]
    },
    {
     "name": "stderr",
     "output_type": "stream",
     "text": [
      "\r",
      "Evaluating:  13%|█▎        | 99/782 [00:27<03:50,  2.97it/s]"
     ]
    },
    {
     "name": "stderr",
     "output_type": "stream",
     "text": [
      "\r",
      "Evaluating:  13%|█▎        | 100/782 [00:28<03:49,  2.97it/s]"
     ]
    },
    {
     "name": "stderr",
     "output_type": "stream",
     "text": [
      "\r",
      "Evaluating:  13%|█▎        | 101/782 [00:28<03:49,  2.96it/s]"
     ]
    },
    {
     "name": "stderr",
     "output_type": "stream",
     "text": [
      "\r",
      "Evaluating:  13%|█▎        | 102/782 [00:28<03:49,  2.96it/s]"
     ]
    },
    {
     "name": "stderr",
     "output_type": "stream",
     "text": [
      "\r",
      "Evaluating:  13%|█▎        | 103/782 [00:29<03:49,  2.96it/s]"
     ]
    },
    {
     "name": "stderr",
     "output_type": "stream",
     "text": [
      "\r",
      "Evaluating:  13%|█▎        | 104/782 [00:29<03:48,  2.97it/s]"
     ]
    },
    {
     "name": "stderr",
     "output_type": "stream",
     "text": [
      "\r",
      "Evaluating:  13%|█▎        | 105/782 [00:29<03:48,  2.96it/s]"
     ]
    },
    {
     "name": "stderr",
     "output_type": "stream",
     "text": [
      "\r",
      "Evaluating:  14%|█▎        | 106/782 [00:30<03:47,  2.97it/s]"
     ]
    },
    {
     "name": "stderr",
     "output_type": "stream",
     "text": [
      "\r",
      "Evaluating:  14%|█▎        | 107/782 [00:30<03:46,  2.98it/s]"
     ]
    },
    {
     "name": "stderr",
     "output_type": "stream",
     "text": [
      "\r",
      "Evaluating:  14%|█▍        | 108/782 [00:30<03:46,  2.98it/s]"
     ]
    },
    {
     "name": "stderr",
     "output_type": "stream",
     "text": [
      "\r",
      "Evaluating:  14%|█▍        | 109/782 [00:31<03:45,  2.98it/s]"
     ]
    },
    {
     "name": "stderr",
     "output_type": "stream",
     "text": [
      "\r",
      "Evaluating:  14%|█▍        | 110/782 [00:31<03:45,  2.98it/s]"
     ]
    },
    {
     "name": "stderr",
     "output_type": "stream",
     "text": [
      "\r",
      "Evaluating:  14%|█▍        | 111/782 [00:31<03:45,  2.98it/s]"
     ]
    },
    {
     "name": "stderr",
     "output_type": "stream",
     "text": [
      "\r",
      "Evaluating:  14%|█▍        | 112/782 [00:32<03:44,  2.98it/s]"
     ]
    },
    {
     "name": "stderr",
     "output_type": "stream",
     "text": [
      "\r",
      "Evaluating:  14%|█▍        | 113/782 [00:32<03:44,  2.97it/s]"
     ]
    },
    {
     "name": "stderr",
     "output_type": "stream",
     "text": [
      "\r",
      "Evaluating:  15%|█▍        | 114/782 [00:32<03:44,  2.97it/s]"
     ]
    },
    {
     "name": "stderr",
     "output_type": "stream",
     "text": [
      "\r",
      "Evaluating:  15%|█▍        | 115/782 [00:33<03:44,  2.97it/s]"
     ]
    },
    {
     "name": "stderr",
     "output_type": "stream",
     "text": [
      "\r",
      "Evaluating:  15%|█▍        | 116/782 [00:33<03:43,  2.97it/s]"
     ]
    },
    {
     "name": "stderr",
     "output_type": "stream",
     "text": [
      "\r",
      "Evaluating:  15%|█▍        | 117/782 [00:33<03:43,  2.97it/s]"
     ]
    },
    {
     "name": "stderr",
     "output_type": "stream",
     "text": [
      "\r",
      "Evaluating:  15%|█▌        | 118/782 [00:34<03:43,  2.97it/s]"
     ]
    },
    {
     "name": "stderr",
     "output_type": "stream",
     "text": [
      "\r",
      "Evaluating:  15%|█▌        | 119/782 [00:34<03:43,  2.96it/s]"
     ]
    },
    {
     "name": "stderr",
     "output_type": "stream",
     "text": [
      "\r",
      "Evaluating:  15%|█▌        | 120/782 [00:34<03:43,  2.97it/s]"
     ]
    },
    {
     "name": "stderr",
     "output_type": "stream",
     "text": [
      "\r",
      "Evaluating:  15%|█▌        | 121/782 [00:35<03:42,  2.97it/s]"
     ]
    },
    {
     "name": "stderr",
     "output_type": "stream",
     "text": [
      "\r",
      "Evaluating:  16%|█▌        | 122/782 [00:35<03:42,  2.97it/s]"
     ]
    },
    {
     "name": "stderr",
     "output_type": "stream",
     "text": [
      "\r",
      "Evaluating:  16%|█▌        | 123/782 [00:35<03:41,  2.97it/s]"
     ]
    },
    {
     "name": "stderr",
     "output_type": "stream",
     "text": [
      "\r",
      "Evaluating:  16%|█▌        | 124/782 [00:36<03:40,  2.98it/s]"
     ]
    },
    {
     "name": "stderr",
     "output_type": "stream",
     "text": [
      "\r",
      "Evaluating:  16%|█▌        | 125/782 [00:36<03:40,  2.99it/s]"
     ]
    },
    {
     "name": "stderr",
     "output_type": "stream",
     "text": [
      "\r",
      "Evaluating:  16%|█▌        | 126/782 [00:36<03:39,  2.98it/s]"
     ]
    },
    {
     "name": "stderr",
     "output_type": "stream",
     "text": [
      "\r",
      "Evaluating:  16%|█▌        | 127/782 [00:37<03:39,  2.98it/s]"
     ]
    },
    {
     "name": "stderr",
     "output_type": "stream",
     "text": [
      "\r",
      "Evaluating:  16%|█▋        | 128/782 [00:37<03:39,  2.98it/s]"
     ]
    },
    {
     "name": "stderr",
     "output_type": "stream",
     "text": [
      "\r",
      "Evaluating:  16%|█▋        | 129/782 [00:37<03:39,  2.98it/s]"
     ]
    },
    {
     "name": "stderr",
     "output_type": "stream",
     "text": [
      "\r",
      "Evaluating:  17%|█▋        | 130/782 [00:38<03:38,  2.98it/s]"
     ]
    },
    {
     "name": "stderr",
     "output_type": "stream",
     "text": [
      "\r",
      "Evaluating:  17%|█▋        | 131/782 [00:38<03:38,  2.97it/s]"
     ]
    },
    {
     "name": "stderr",
     "output_type": "stream",
     "text": [
      "\r",
      "Evaluating:  17%|█▋        | 132/782 [00:38<03:39,  2.97it/s]"
     ]
    },
    {
     "name": "stderr",
     "output_type": "stream",
     "text": [
      "\r",
      "Evaluating:  17%|█▋        | 133/782 [00:39<03:38,  2.97it/s]"
     ]
    },
    {
     "name": "stderr",
     "output_type": "stream",
     "text": [
      "\r",
      "Evaluating:  17%|█▋        | 134/782 [00:39<03:38,  2.97it/s]"
     ]
    },
    {
     "name": "stderr",
     "output_type": "stream",
     "text": [
      "\r",
      "Evaluating:  17%|█▋        | 135/782 [00:39<03:37,  2.97it/s]"
     ]
    },
    {
     "name": "stderr",
     "output_type": "stream",
     "text": [
      "\r",
      "Evaluating:  17%|█▋        | 136/782 [00:40<03:37,  2.97it/s]"
     ]
    },
    {
     "name": "stderr",
     "output_type": "stream",
     "text": [
      "\r",
      "Evaluating:  18%|█▊        | 137/782 [00:40<03:37,  2.97it/s]"
     ]
    },
    {
     "name": "stderr",
     "output_type": "stream",
     "text": [
      "\r",
      "Evaluating:  18%|█▊        | 138/782 [00:40<03:36,  2.97it/s]"
     ]
    },
    {
     "name": "stderr",
     "output_type": "stream",
     "text": [
      "\r",
      "Evaluating:  18%|█▊        | 139/782 [00:41<03:36,  2.98it/s]"
     ]
    },
    {
     "name": "stderr",
     "output_type": "stream",
     "text": [
      "\r",
      "Evaluating:  18%|█▊        | 140/782 [00:41<03:35,  2.98it/s]"
     ]
    },
    {
     "name": "stderr",
     "output_type": "stream",
     "text": [
      "\r",
      "Evaluating:  18%|█▊        | 141/782 [00:41<03:35,  2.97it/s]"
     ]
    },
    {
     "name": "stderr",
     "output_type": "stream",
     "text": [
      "\r",
      "Evaluating:  18%|█▊        | 142/782 [00:42<03:35,  2.97it/s]"
     ]
    },
    {
     "name": "stderr",
     "output_type": "stream",
     "text": [
      "\r",
      "Evaluating:  18%|█▊        | 143/782 [00:42<03:35,  2.97it/s]"
     ]
    },
    {
     "name": "stderr",
     "output_type": "stream",
     "text": [
      "\r",
      "Evaluating:  18%|█▊        | 144/782 [00:42<03:35,  2.97it/s]"
     ]
    },
    {
     "name": "stderr",
     "output_type": "stream",
     "text": [
      "\r",
      "Evaluating:  19%|█▊        | 145/782 [00:43<03:35,  2.96it/s]"
     ]
    },
    {
     "name": "stderr",
     "output_type": "stream",
     "text": [
      "\r",
      "Evaluating:  19%|█▊        | 146/782 [00:43<03:34,  2.96it/s]"
     ]
    },
    {
     "name": "stderr",
     "output_type": "stream",
     "text": [
      "\r",
      "Evaluating:  19%|█▉        | 147/782 [00:44<03:34,  2.96it/s]"
     ]
    },
    {
     "name": "stderr",
     "output_type": "stream",
     "text": [
      "\r",
      "Evaluating:  19%|█▉        | 148/782 [00:44<03:33,  2.96it/s]"
     ]
    },
    {
     "name": "stderr",
     "output_type": "stream",
     "text": [
      "\r",
      "Evaluating:  19%|█▉        | 149/782 [00:44<03:33,  2.97it/s]"
     ]
    },
    {
     "name": "stderr",
     "output_type": "stream",
     "text": [
      "\r",
      "Evaluating:  19%|█▉        | 150/782 [00:45<03:32,  2.97it/s]"
     ]
    },
    {
     "name": "stderr",
     "output_type": "stream",
     "text": [
      "\r",
      "Evaluating:  19%|█▉        | 151/782 [00:45<03:32,  2.97it/s]"
     ]
    },
    {
     "name": "stderr",
     "output_type": "stream",
     "text": [
      "\r",
      "Evaluating:  19%|█▉        | 152/782 [00:45<03:32,  2.97it/s]"
     ]
    },
    {
     "name": "stderr",
     "output_type": "stream",
     "text": [
      "\r",
      "Evaluating:  20%|█▉        | 153/782 [00:46<03:32,  2.97it/s]"
     ]
    },
    {
     "name": "stderr",
     "output_type": "stream",
     "text": [
      "\r",
      "Evaluating:  20%|█▉        | 154/782 [00:46<03:31,  2.97it/s]"
     ]
    },
    {
     "name": "stderr",
     "output_type": "stream",
     "text": [
      "\r",
      "Evaluating:  20%|█▉        | 155/782 [00:46<03:31,  2.96it/s]"
     ]
    },
    {
     "name": "stderr",
     "output_type": "stream",
     "text": [
      "\r",
      "Evaluating:  20%|█▉        | 156/782 [00:47<03:31,  2.97it/s]"
     ]
    },
    {
     "name": "stderr",
     "output_type": "stream",
     "text": [
      "\r",
      "Evaluating:  20%|██        | 157/782 [00:47<03:30,  2.97it/s]"
     ]
    },
    {
     "name": "stderr",
     "output_type": "stream",
     "text": [
      "\r",
      "Evaluating:  20%|██        | 158/782 [00:47<03:30,  2.97it/s]"
     ]
    },
    {
     "name": "stderr",
     "output_type": "stream",
     "text": [
      "\r",
      "Evaluating:  20%|██        | 159/782 [00:48<03:30,  2.96it/s]"
     ]
    },
    {
     "name": "stderr",
     "output_type": "stream",
     "text": [
      "\r",
      "Evaluating:  20%|██        | 160/782 [00:48<03:29,  2.96it/s]"
     ]
    },
    {
     "name": "stderr",
     "output_type": "stream",
     "text": [
      "\r",
      "Evaluating:  21%|██        | 161/782 [00:48<03:29,  2.97it/s]"
     ]
    },
    {
     "name": "stderr",
     "output_type": "stream",
     "text": [
      "\r",
      "Evaluating:  21%|██        | 162/782 [00:49<03:28,  2.97it/s]"
     ]
    },
    {
     "name": "stderr",
     "output_type": "stream",
     "text": [
      "\r",
      "Evaluating:  21%|██        | 163/782 [00:49<03:28,  2.97it/s]"
     ]
    },
    {
     "name": "stderr",
     "output_type": "stream",
     "text": [
      "\r",
      "Evaluating:  21%|██        | 164/782 [00:49<03:28,  2.96it/s]"
     ]
    },
    {
     "name": "stderr",
     "output_type": "stream",
     "text": [
      "\r",
      "Evaluating:  21%|██        | 165/782 [00:50<03:28,  2.96it/s]"
     ]
    },
    {
     "name": "stderr",
     "output_type": "stream",
     "text": [
      "\r",
      "Evaluating:  21%|██        | 166/782 [00:50<03:27,  2.97it/s]"
     ]
    },
    {
     "name": "stderr",
     "output_type": "stream",
     "text": [
      "\r",
      "Evaluating:  21%|██▏       | 167/782 [00:50<03:27,  2.96it/s]"
     ]
    },
    {
     "name": "stderr",
     "output_type": "stream",
     "text": [
      "\r",
      "Evaluating:  21%|██▏       | 168/782 [00:51<03:27,  2.96it/s]"
     ]
    },
    {
     "name": "stderr",
     "output_type": "stream",
     "text": [
      "\r",
      "Evaluating:  22%|██▏       | 169/782 [00:51<03:26,  2.96it/s]"
     ]
    },
    {
     "name": "stderr",
     "output_type": "stream",
     "text": [
      "\r",
      "Evaluating:  22%|██▏       | 170/782 [00:51<03:26,  2.96it/s]"
     ]
    },
    {
     "name": "stderr",
     "output_type": "stream",
     "text": [
      "\r",
      "Evaluating:  22%|██▏       | 171/782 [00:52<03:26,  2.96it/s]"
     ]
    },
    {
     "name": "stderr",
     "output_type": "stream",
     "text": [
      "\r",
      "Evaluating:  22%|██▏       | 172/782 [00:52<03:25,  2.96it/s]"
     ]
    },
    {
     "name": "stderr",
     "output_type": "stream",
     "text": [
      "\r",
      "Evaluating:  22%|██▏       | 173/782 [00:52<03:25,  2.96it/s]"
     ]
    },
    {
     "name": "stderr",
     "output_type": "stream",
     "text": [
      "\r",
      "Evaluating:  22%|██▏       | 174/782 [00:53<03:25,  2.96it/s]"
     ]
    },
    {
     "name": "stderr",
     "output_type": "stream",
     "text": [
      "\r",
      "Evaluating:  22%|██▏       | 175/782 [00:53<03:25,  2.96it/s]"
     ]
    },
    {
     "name": "stderr",
     "output_type": "stream",
     "text": [
      "\r",
      "Evaluating:  23%|██▎       | 176/782 [00:53<03:24,  2.96it/s]"
     ]
    },
    {
     "name": "stderr",
     "output_type": "stream",
     "text": [
      "\r",
      "Evaluating:  23%|██▎       | 177/782 [00:54<03:24,  2.96it/s]"
     ]
    },
    {
     "name": "stderr",
     "output_type": "stream",
     "text": [
      "\r",
      "Evaluating:  23%|██▎       | 178/782 [00:54<03:23,  2.96it/s]"
     ]
    },
    {
     "name": "stderr",
     "output_type": "stream",
     "text": [
      "\r",
      "Evaluating:  23%|██▎       | 179/782 [00:54<03:23,  2.96it/s]"
     ]
    },
    {
     "name": "stderr",
     "output_type": "stream",
     "text": [
      "\r",
      "Evaluating:  23%|██▎       | 180/782 [00:55<03:23,  2.96it/s]"
     ]
    },
    {
     "name": "stderr",
     "output_type": "stream",
     "text": [
      "\r",
      "Evaluating:  23%|██▎       | 181/782 [00:55<03:23,  2.96it/s]"
     ]
    },
    {
     "name": "stderr",
     "output_type": "stream",
     "text": [
      "\r",
      "Evaluating:  23%|██▎       | 182/782 [00:55<03:22,  2.96it/s]"
     ]
    },
    {
     "name": "stderr",
     "output_type": "stream",
     "text": [
      "\r",
      "Evaluating:  23%|██▎       | 183/782 [00:56<03:22,  2.97it/s]"
     ]
    },
    {
     "name": "stderr",
     "output_type": "stream",
     "text": [
      "\r",
      "Evaluating:  24%|██▎       | 184/782 [00:56<03:21,  2.96it/s]"
     ]
    },
    {
     "name": "stderr",
     "output_type": "stream",
     "text": [
      "\r",
      "Evaluating:  24%|██▎       | 185/782 [00:56<03:21,  2.96it/s]"
     ]
    },
    {
     "name": "stderr",
     "output_type": "stream",
     "text": [
      "\r",
      "Evaluating:  24%|██▍       | 186/782 [00:57<03:21,  2.96it/s]"
     ]
    },
    {
     "name": "stderr",
     "output_type": "stream",
     "text": [
      "\r",
      "Evaluating:  24%|██▍       | 187/782 [00:57<03:20,  2.96it/s]"
     ]
    },
    {
     "name": "stderr",
     "output_type": "stream",
     "text": [
      "\r",
      "Evaluating:  24%|██▍       | 188/782 [00:57<03:20,  2.96it/s]"
     ]
    },
    {
     "name": "stderr",
     "output_type": "stream",
     "text": [
      "\r",
      "Evaluating:  24%|██▍       | 189/782 [00:58<03:20,  2.96it/s]"
     ]
    },
    {
     "name": "stderr",
     "output_type": "stream",
     "text": [
      "\r",
      "Evaluating:  24%|██▍       | 190/782 [00:58<03:20,  2.96it/s]"
     ]
    },
    {
     "name": "stderr",
     "output_type": "stream",
     "text": [
      "\r",
      "Evaluating:  24%|██▍       | 191/782 [00:58<03:19,  2.96it/s]"
     ]
    },
    {
     "name": "stderr",
     "output_type": "stream",
     "text": [
      "\r",
      "Evaluating:  25%|██▍       | 192/782 [00:59<03:19,  2.96it/s]"
     ]
    },
    {
     "name": "stderr",
     "output_type": "stream",
     "text": [
      "\r",
      "Evaluating:  25%|██▍       | 193/782 [00:59<03:18,  2.96it/s]"
     ]
    },
    {
     "name": "stderr",
     "output_type": "stream",
     "text": [
      "\r",
      "Evaluating:  25%|██▍       | 194/782 [00:59<03:18,  2.97it/s]"
     ]
    },
    {
     "name": "stderr",
     "output_type": "stream",
     "text": [
      "\r",
      "Evaluating:  25%|██▍       | 195/782 [01:00<03:17,  2.97it/s]"
     ]
    },
    {
     "name": "stderr",
     "output_type": "stream",
     "text": [
      "\r",
      "Evaluating:  25%|██▌       | 196/782 [01:00<03:17,  2.97it/s]"
     ]
    },
    {
     "name": "stderr",
     "output_type": "stream",
     "text": [
      "\r",
      "Evaluating:  25%|██▌       | 197/782 [01:00<03:17,  2.96it/s]"
     ]
    },
    {
     "name": "stderr",
     "output_type": "stream",
     "text": [
      "\r",
      "Evaluating:  25%|██▌       | 198/782 [01:01<03:16,  2.97it/s]"
     ]
    },
    {
     "name": "stderr",
     "output_type": "stream",
     "text": [
      "\r",
      "Evaluating:  25%|██▌       | 199/782 [01:01<03:16,  2.96it/s]"
     ]
    },
    {
     "name": "stderr",
     "output_type": "stream",
     "text": [
      "\r",
      "Evaluating:  26%|██▌       | 200/782 [01:01<03:16,  2.97it/s]"
     ]
    },
    {
     "name": "stderr",
     "output_type": "stream",
     "text": [
      "\r",
      "Evaluating:  26%|██▌       | 201/782 [01:02<03:15,  2.97it/s]"
     ]
    },
    {
     "name": "stderr",
     "output_type": "stream",
     "text": [
      "\r",
      "Evaluating:  26%|██▌       | 202/782 [01:02<03:15,  2.97it/s]"
     ]
    },
    {
     "name": "stderr",
     "output_type": "stream",
     "text": [
      "\r",
      "Evaluating:  26%|██▌       | 203/782 [01:02<03:14,  2.97it/s]"
     ]
    },
    {
     "name": "stderr",
     "output_type": "stream",
     "text": [
      "\r",
      "Evaluating:  26%|██▌       | 204/782 [01:03<03:14,  2.97it/s]"
     ]
    },
    {
     "name": "stderr",
     "output_type": "stream",
     "text": [
      "\r",
      "Evaluating:  26%|██▌       | 205/782 [01:03<03:14,  2.97it/s]"
     ]
    },
    {
     "name": "stderr",
     "output_type": "stream",
     "text": [
      "\r",
      "Evaluating:  26%|██▋       | 206/782 [01:03<03:13,  2.98it/s]"
     ]
    },
    {
     "name": "stderr",
     "output_type": "stream",
     "text": [
      "\r",
      "Evaluating:  26%|██▋       | 207/782 [01:04<03:13,  2.97it/s]"
     ]
    },
    {
     "name": "stderr",
     "output_type": "stream",
     "text": [
      "\r",
      "Evaluating:  27%|██▋       | 208/782 [01:04<03:13,  2.97it/s]"
     ]
    },
    {
     "name": "stderr",
     "output_type": "stream",
     "text": [
      "\r",
      "Evaluating:  27%|██▋       | 209/782 [01:04<03:12,  2.97it/s]"
     ]
    },
    {
     "name": "stderr",
     "output_type": "stream",
     "text": [
      "\r",
      "Evaluating:  27%|██▋       | 210/782 [01:05<03:12,  2.97it/s]"
     ]
    },
    {
     "name": "stderr",
     "output_type": "stream",
     "text": [
      "\r",
      "Evaluating:  27%|██▋       | 211/782 [01:05<03:12,  2.97it/s]"
     ]
    },
    {
     "name": "stderr",
     "output_type": "stream",
     "text": [
      "\r",
      "Evaluating:  27%|██▋       | 212/782 [01:05<03:12,  2.97it/s]"
     ]
    },
    {
     "name": "stderr",
     "output_type": "stream",
     "text": [
      "\r",
      "Evaluating:  27%|██▋       | 213/782 [01:06<03:11,  2.97it/s]"
     ]
    },
    {
     "name": "stderr",
     "output_type": "stream",
     "text": [
      "\r",
      "Evaluating:  27%|██▋       | 214/782 [01:06<03:11,  2.97it/s]"
     ]
    },
    {
     "name": "stderr",
     "output_type": "stream",
     "text": [
      "\r",
      "Evaluating:  27%|██▋       | 215/782 [01:06<03:11,  2.97it/s]"
     ]
    },
    {
     "name": "stderr",
     "output_type": "stream",
     "text": [
      "\r",
      "Evaluating:  28%|██▊       | 216/782 [01:07<03:10,  2.96it/s]"
     ]
    },
    {
     "name": "stderr",
     "output_type": "stream",
     "text": [
      "\r",
      "Evaluating:  28%|██▊       | 217/782 [01:07<03:10,  2.97it/s]"
     ]
    },
    {
     "name": "stderr",
     "output_type": "stream",
     "text": [
      "\r",
      "Evaluating:  28%|██▊       | 218/782 [01:07<03:09,  2.97it/s]"
     ]
    },
    {
     "name": "stderr",
     "output_type": "stream",
     "text": [
      "\r",
      "Evaluating:  28%|██▊       | 219/782 [01:08<03:09,  2.97it/s]"
     ]
    },
    {
     "name": "stderr",
     "output_type": "stream",
     "text": [
      "\r",
      "Evaluating:  28%|██▊       | 220/782 [01:08<03:09,  2.97it/s]"
     ]
    },
    {
     "name": "stderr",
     "output_type": "stream",
     "text": [
      "\r",
      "Evaluating:  28%|██▊       | 221/782 [01:08<03:08,  2.97it/s]"
     ]
    },
    {
     "name": "stderr",
     "output_type": "stream",
     "text": [
      "\r",
      "Evaluating:  28%|██▊       | 222/782 [01:09<03:08,  2.97it/s]"
     ]
    },
    {
     "name": "stderr",
     "output_type": "stream",
     "text": [
      "\r",
      "Evaluating:  29%|██▊       | 223/782 [01:09<03:08,  2.97it/s]"
     ]
    },
    {
     "name": "stderr",
     "output_type": "stream",
     "text": [
      "\r",
      "Evaluating:  29%|██▊       | 224/782 [01:09<03:08,  2.97it/s]"
     ]
    },
    {
     "name": "stderr",
     "output_type": "stream",
     "text": [
      "\r",
      "Evaluating:  29%|██▉       | 225/782 [01:10<03:07,  2.97it/s]"
     ]
    },
    {
     "name": "stderr",
     "output_type": "stream",
     "text": [
      "\r",
      "Evaluating:  29%|██▉       | 226/782 [01:10<03:07,  2.96it/s]"
     ]
    },
    {
     "name": "stderr",
     "output_type": "stream",
     "text": [
      "\r",
      "Evaluating:  29%|██▉       | 227/782 [01:10<03:07,  2.96it/s]"
     ]
    },
    {
     "name": "stderr",
     "output_type": "stream",
     "text": [
      "\r",
      "Evaluating:  29%|██▉       | 228/782 [01:11<03:06,  2.97it/s]"
     ]
    },
    {
     "name": "stderr",
     "output_type": "stream",
     "text": [
      "\r",
      "Evaluating:  29%|██▉       | 229/782 [01:11<03:06,  2.97it/s]"
     ]
    },
    {
     "name": "stderr",
     "output_type": "stream",
     "text": [
      "\r",
      "Evaluating:  29%|██▉       | 230/782 [01:11<03:05,  2.97it/s]"
     ]
    },
    {
     "name": "stderr",
     "output_type": "stream",
     "text": [
      "\r",
      "Evaluating:  30%|██▉       | 231/782 [01:12<03:05,  2.97it/s]"
     ]
    },
    {
     "name": "stderr",
     "output_type": "stream",
     "text": [
      "\r",
      "Evaluating:  30%|██▉       | 232/782 [01:12<03:05,  2.97it/s]"
     ]
    },
    {
     "name": "stderr",
     "output_type": "stream",
     "text": [
      "\r",
      "Evaluating:  30%|██▉       | 233/782 [01:12<03:04,  2.97it/s]"
     ]
    },
    {
     "name": "stderr",
     "output_type": "stream",
     "text": [
      "\r",
      "Evaluating:  30%|██▉       | 234/782 [01:13<03:04,  2.97it/s]"
     ]
    },
    {
     "name": "stderr",
     "output_type": "stream",
     "text": [
      "\r",
      "Evaluating:  30%|███       | 235/782 [01:13<03:04,  2.97it/s]"
     ]
    },
    {
     "name": "stderr",
     "output_type": "stream",
     "text": [
      "\r",
      "Evaluating:  30%|███       | 236/782 [01:14<03:03,  2.97it/s]"
     ]
    },
    {
     "name": "stderr",
     "output_type": "stream",
     "text": [
      "\r",
      "Evaluating:  30%|███       | 237/782 [01:14<03:02,  2.98it/s]"
     ]
    },
    {
     "name": "stderr",
     "output_type": "stream",
     "text": [
      "\r",
      "Evaluating:  30%|███       | 238/782 [01:14<03:02,  2.98it/s]"
     ]
    },
    {
     "name": "stderr",
     "output_type": "stream",
     "text": [
      "\r",
      "Evaluating:  31%|███       | 239/782 [01:15<03:02,  2.98it/s]"
     ]
    },
    {
     "name": "stderr",
     "output_type": "stream",
     "text": [
      "\r",
      "Evaluating:  31%|███       | 240/782 [01:15<03:02,  2.98it/s]"
     ]
    },
    {
     "name": "stderr",
     "output_type": "stream",
     "text": [
      "\r",
      "Evaluating:  31%|███       | 241/782 [01:15<03:01,  2.98it/s]"
     ]
    },
    {
     "name": "stderr",
     "output_type": "stream",
     "text": [
      "\r",
      "Evaluating:  31%|███       | 242/782 [01:16<03:01,  2.97it/s]"
     ]
    },
    {
     "name": "stderr",
     "output_type": "stream",
     "text": [
      "\r",
      "Evaluating:  31%|███       | 243/782 [01:16<03:01,  2.97it/s]"
     ]
    },
    {
     "name": "stderr",
     "output_type": "stream",
     "text": [
      "\r",
      "Evaluating:  31%|███       | 244/782 [01:16<03:00,  2.98it/s]"
     ]
    },
    {
     "name": "stderr",
     "output_type": "stream",
     "text": [
      "\r",
      "Evaluating:  31%|███▏      | 245/782 [01:17<02:59,  2.98it/s]"
     ]
    },
    {
     "name": "stderr",
     "output_type": "stream",
     "text": [
      "\r",
      "Evaluating:  31%|███▏      | 246/782 [01:17<02:59,  2.99it/s]"
     ]
    },
    {
     "name": "stderr",
     "output_type": "stream",
     "text": [
      "\r",
      "Evaluating:  32%|███▏      | 247/782 [01:17<02:59,  2.98it/s]"
     ]
    },
    {
     "name": "stderr",
     "output_type": "stream",
     "text": [
      "\r",
      "Evaluating:  32%|███▏      | 248/782 [01:18<02:59,  2.98it/s]"
     ]
    },
    {
     "name": "stderr",
     "output_type": "stream",
     "text": [
      "\r",
      "Evaluating:  32%|███▏      | 249/782 [01:18<02:59,  2.97it/s]"
     ]
    },
    {
     "name": "stderr",
     "output_type": "stream",
     "text": [
      "\r",
      "Evaluating:  32%|███▏      | 250/782 [01:18<02:58,  2.98it/s]"
     ]
    },
    {
     "name": "stderr",
     "output_type": "stream",
     "text": [
      "\r",
      "Evaluating:  32%|███▏      | 251/782 [01:19<02:58,  2.98it/s]"
     ]
    },
    {
     "name": "stderr",
     "output_type": "stream",
     "text": [
      "\r",
      "Evaluating:  32%|███▏      | 252/782 [01:19<02:57,  2.99it/s]"
     ]
    },
    {
     "name": "stderr",
     "output_type": "stream",
     "text": [
      "\r",
      "Evaluating:  32%|███▏      | 253/782 [01:19<02:57,  2.98it/s]"
     ]
    },
    {
     "name": "stderr",
     "output_type": "stream",
     "text": [
      "\r",
      "Evaluating:  32%|███▏      | 254/782 [01:20<02:57,  2.98it/s]"
     ]
    },
    {
     "name": "stderr",
     "output_type": "stream",
     "text": [
      "\r",
      "Evaluating:  33%|███▎      | 255/782 [01:20<02:56,  2.98it/s]"
     ]
    },
    {
     "name": "stderr",
     "output_type": "stream",
     "text": [
      "\r",
      "Evaluating:  33%|███▎      | 256/782 [01:20<02:56,  2.98it/s]"
     ]
    },
    {
     "name": "stderr",
     "output_type": "stream",
     "text": [
      "\r",
      "Evaluating:  33%|███▎      | 257/782 [01:21<02:56,  2.97it/s]"
     ]
    },
    {
     "name": "stderr",
     "output_type": "stream",
     "text": [
      "\r",
      "Evaluating:  33%|███▎      | 258/782 [01:21<02:56,  2.98it/s]"
     ]
    },
    {
     "name": "stderr",
     "output_type": "stream",
     "text": [
      "\r",
      "Evaluating:  33%|███▎      | 259/782 [01:21<02:55,  2.97it/s]"
     ]
    },
    {
     "name": "stderr",
     "output_type": "stream",
     "text": [
      "\r",
      "Evaluating:  33%|███▎      | 260/782 [01:22<02:55,  2.97it/s]"
     ]
    },
    {
     "name": "stderr",
     "output_type": "stream",
     "text": [
      "\r",
      "Evaluating:  33%|███▎      | 261/782 [01:22<02:55,  2.98it/s]"
     ]
    },
    {
     "name": "stderr",
     "output_type": "stream",
     "text": [
      "\r",
      "Evaluating:  34%|███▎      | 262/782 [01:22<02:54,  2.98it/s]"
     ]
    },
    {
     "name": "stderr",
     "output_type": "stream",
     "text": [
      "\r",
      "Evaluating:  34%|███▎      | 263/782 [01:23<02:54,  2.97it/s]"
     ]
    },
    {
     "name": "stderr",
     "output_type": "stream",
     "text": [
      "\r",
      "Evaluating:  34%|███▍      | 264/782 [01:23<02:54,  2.97it/s]"
     ]
    },
    {
     "name": "stderr",
     "output_type": "stream",
     "text": [
      "\r",
      "Evaluating:  34%|███▍      | 265/782 [01:23<02:53,  2.97it/s]"
     ]
    },
    {
     "name": "stderr",
     "output_type": "stream",
     "text": [
      "\r",
      "Evaluating:  34%|███▍      | 266/782 [01:24<02:53,  2.98it/s]"
     ]
    },
    {
     "name": "stderr",
     "output_type": "stream",
     "text": [
      "\r",
      "Evaluating:  34%|███▍      | 267/782 [01:24<02:53,  2.97it/s]"
     ]
    },
    {
     "name": "stderr",
     "output_type": "stream",
     "text": [
      "\r",
      "Evaluating:  34%|███▍      | 268/782 [01:24<02:52,  2.97it/s]"
     ]
    },
    {
     "name": "stderr",
     "output_type": "stream",
     "text": [
      "\r",
      "Evaluating:  34%|███▍      | 269/782 [01:25<02:51,  2.98it/s]"
     ]
    },
    {
     "name": "stderr",
     "output_type": "stream",
     "text": [
      "\r",
      "Evaluating:  35%|███▍      | 270/782 [01:25<02:51,  2.99it/s]"
     ]
    },
    {
     "name": "stderr",
     "output_type": "stream",
     "text": [
      "\r",
      "Evaluating:  35%|███▍      | 271/782 [01:25<02:50,  2.99it/s]"
     ]
    },
    {
     "name": "stderr",
     "output_type": "stream",
     "text": [
      "\r",
      "Evaluating:  35%|███▍      | 272/782 [01:26<02:50,  2.98it/s]"
     ]
    },
    {
     "name": "stderr",
     "output_type": "stream",
     "text": [
      "\r",
      "Evaluating:  35%|███▍      | 273/782 [01:26<02:50,  2.98it/s]"
     ]
    },
    {
     "name": "stderr",
     "output_type": "stream",
     "text": [
      "\r",
      "Evaluating:  35%|███▌      | 274/782 [01:26<02:50,  2.98it/s]"
     ]
    },
    {
     "name": "stderr",
     "output_type": "stream",
     "text": [
      "\r",
      "Evaluating:  35%|███▌      | 275/782 [01:27<02:49,  2.99it/s]"
     ]
    },
    {
     "name": "stderr",
     "output_type": "stream",
     "text": [
      "\r",
      "Evaluating:  35%|███▌      | 276/782 [01:27<02:49,  2.99it/s]"
     ]
    },
    {
     "name": "stderr",
     "output_type": "stream",
     "text": [
      "\r",
      "Evaluating:  35%|███▌      | 277/782 [01:27<02:48,  2.99it/s]"
     ]
    },
    {
     "name": "stderr",
     "output_type": "stream",
     "text": [
      "\r",
      "Evaluating:  36%|███▌      | 278/782 [01:28<02:48,  2.99it/s]"
     ]
    },
    {
     "name": "stderr",
     "output_type": "stream",
     "text": [
      "\r",
      "Evaluating:  36%|███▌      | 279/782 [01:28<02:48,  2.98it/s]"
     ]
    },
    {
     "name": "stderr",
     "output_type": "stream",
     "text": [
      "\r",
      "Evaluating:  36%|███▌      | 280/782 [01:28<02:48,  2.98it/s]"
     ]
    },
    {
     "name": "stderr",
     "output_type": "stream",
     "text": [
      "\r",
      "Evaluating:  36%|███▌      | 281/782 [01:29<02:47,  2.99it/s]"
     ]
    },
    {
     "name": "stderr",
     "output_type": "stream",
     "text": [
      "\r",
      "Evaluating:  36%|███▌      | 282/782 [01:29<02:47,  2.99it/s]"
     ]
    },
    {
     "name": "stderr",
     "output_type": "stream",
     "text": [
      "\r",
      "Evaluating:  36%|███▌      | 283/782 [01:29<02:47,  2.99it/s]"
     ]
    },
    {
     "name": "stderr",
     "output_type": "stream",
     "text": [
      "\r",
      "Evaluating:  36%|███▋      | 284/782 [01:30<02:46,  2.99it/s]"
     ]
    },
    {
     "name": "stderr",
     "output_type": "stream",
     "text": [
      "\r",
      "Evaluating:  36%|███▋      | 285/782 [01:30<02:46,  2.98it/s]"
     ]
    },
    {
     "name": "stderr",
     "output_type": "stream",
     "text": [
      "\r",
      "Evaluating:  37%|███▋      | 286/782 [01:30<02:46,  2.98it/s]"
     ]
    },
    {
     "name": "stderr",
     "output_type": "stream",
     "text": [
      "\r",
      "Evaluating:  37%|███▋      | 287/782 [01:31<02:44,  3.01it/s]"
     ]
    },
    {
     "name": "stderr",
     "output_type": "stream",
     "text": [
      "\r",
      "Evaluating:  37%|███▋      | 288/782 [01:31<02:42,  3.05it/s]"
     ]
    },
    {
     "name": "stderr",
     "output_type": "stream",
     "text": [
      "\r",
      "Evaluating:  37%|███▋      | 289/782 [01:31<02:40,  3.07it/s]"
     ]
    },
    {
     "name": "stderr",
     "output_type": "stream",
     "text": [
      "\r",
      "Evaluating:  37%|███▋      | 290/782 [01:32<02:39,  3.09it/s]"
     ]
    },
    {
     "name": "stderr",
     "output_type": "stream",
     "text": [
      "\r",
      "Evaluating:  37%|███▋      | 291/782 [01:32<02:38,  3.10it/s]"
     ]
    },
    {
     "name": "stderr",
     "output_type": "stream",
     "text": [
      "\r",
      "Evaluating:  37%|███▋      | 292/782 [01:32<02:37,  3.10it/s]"
     ]
    },
    {
     "name": "stderr",
     "output_type": "stream",
     "text": [
      "\r",
      "Evaluating:  37%|███▋      | 293/782 [01:33<02:37,  3.10it/s]"
     ]
    },
    {
     "name": "stderr",
     "output_type": "stream",
     "text": [
      "\r",
      "Evaluating:  38%|███▊      | 294/782 [01:33<02:36,  3.11it/s]"
     ]
    },
    {
     "name": "stderr",
     "output_type": "stream",
     "text": [
      "\r",
      "Evaluating:  38%|███▊      | 295/782 [01:33<02:36,  3.11it/s]"
     ]
    },
    {
     "name": "stderr",
     "output_type": "stream",
     "text": [
      "\r",
      "Evaluating:  38%|███▊      | 296/782 [01:33<02:36,  3.11it/s]"
     ]
    },
    {
     "name": "stderr",
     "output_type": "stream",
     "text": [
      "\r",
      "Evaluating:  38%|███▊      | 297/782 [01:34<02:35,  3.12it/s]"
     ]
    },
    {
     "name": "stderr",
     "output_type": "stream",
     "text": [
      "\r",
      "Evaluating:  38%|███▊      | 298/782 [01:34<02:35,  3.12it/s]"
     ]
    },
    {
     "name": "stderr",
     "output_type": "stream",
     "text": [
      "\r",
      "Evaluating:  38%|███▊      | 299/782 [01:34<02:34,  3.12it/s]"
     ]
    },
    {
     "name": "stderr",
     "output_type": "stream",
     "text": [
      "\r",
      "Evaluating:  38%|███▊      | 300/782 [01:35<02:34,  3.12it/s]"
     ]
    },
    {
     "name": "stderr",
     "output_type": "stream",
     "text": [
      "\r",
      "Evaluating:  38%|███▊      | 301/782 [01:35<02:34,  3.12it/s]"
     ]
    },
    {
     "name": "stderr",
     "output_type": "stream",
     "text": [
      "\r",
      "Evaluating:  39%|███▊      | 302/782 [01:35<02:33,  3.12it/s]"
     ]
    },
    {
     "name": "stderr",
     "output_type": "stream",
     "text": [
      "\r",
      "Evaluating:  39%|███▊      | 303/782 [01:36<02:33,  3.11it/s]"
     ]
    },
    {
     "name": "stderr",
     "output_type": "stream",
     "text": [
      "\r",
      "Evaluating:  39%|███▉      | 304/782 [01:36<02:33,  3.11it/s]"
     ]
    },
    {
     "name": "stderr",
     "output_type": "stream",
     "text": [
      "\r",
      "Evaluating:  39%|███▉      | 305/782 [01:36<02:33,  3.11it/s]"
     ]
    },
    {
     "name": "stderr",
     "output_type": "stream",
     "text": [
      "\r",
      "Evaluating:  39%|███▉      | 306/782 [01:37<02:32,  3.11it/s]"
     ]
    },
    {
     "name": "stderr",
     "output_type": "stream",
     "text": [
      "\r",
      "Evaluating:  39%|███▉      | 307/782 [01:37<02:32,  3.11it/s]"
     ]
    },
    {
     "name": "stderr",
     "output_type": "stream",
     "text": [
      "\r",
      "Evaluating:  39%|███▉      | 308/782 [01:37<02:32,  3.12it/s]"
     ]
    },
    {
     "name": "stderr",
     "output_type": "stream",
     "text": [
      "\r",
      "Evaluating:  40%|███▉      | 309/782 [01:38<02:31,  3.12it/s]"
     ]
    },
    {
     "name": "stderr",
     "output_type": "stream",
     "text": [
      "\r",
      "Evaluating:  40%|███▉      | 310/782 [01:38<02:31,  3.12it/s]"
     ]
    },
    {
     "name": "stderr",
     "output_type": "stream",
     "text": [
      "\r",
      "Evaluating:  40%|███▉      | 311/782 [01:38<02:30,  3.13it/s]"
     ]
    },
    {
     "name": "stderr",
     "output_type": "stream",
     "text": [
      "\r",
      "Evaluating:  40%|███▉      | 312/782 [01:39<02:29,  3.14it/s]"
     ]
    },
    {
     "name": "stderr",
     "output_type": "stream",
     "text": [
      "\r",
      "Evaluating:  40%|████      | 313/782 [01:39<02:29,  3.13it/s]"
     ]
    },
    {
     "name": "stderr",
     "output_type": "stream",
     "text": [
      "\r",
      "Evaluating:  40%|████      | 314/782 [01:39<02:29,  3.13it/s]"
     ]
    },
    {
     "name": "stderr",
     "output_type": "stream",
     "text": [
      "\r",
      "Evaluating:  40%|████      | 315/782 [01:40<02:29,  3.13it/s]"
     ]
    },
    {
     "name": "stderr",
     "output_type": "stream",
     "text": [
      "\r",
      "Evaluating:  40%|████      | 316/782 [01:40<02:29,  3.12it/s]"
     ]
    },
    {
     "name": "stderr",
     "output_type": "stream",
     "text": [
      "\r",
      "Evaluating:  41%|████      | 317/782 [01:40<02:28,  3.13it/s]"
     ]
    },
    {
     "name": "stderr",
     "output_type": "stream",
     "text": [
      "\r",
      "Evaluating:  41%|████      | 318/782 [01:41<02:28,  3.13it/s]"
     ]
    },
    {
     "name": "stderr",
     "output_type": "stream",
     "text": [
      "\r",
      "Evaluating:  41%|████      | 319/782 [01:41<02:28,  3.12it/s]"
     ]
    },
    {
     "name": "stderr",
     "output_type": "stream",
     "text": [
      "\r",
      "Evaluating:  41%|████      | 320/782 [01:41<02:28,  3.11it/s]"
     ]
    },
    {
     "name": "stderr",
     "output_type": "stream",
     "text": [
      "\r",
      "Evaluating:  41%|████      | 321/782 [01:41<02:27,  3.12it/s]"
     ]
    },
    {
     "name": "stderr",
     "output_type": "stream",
     "text": [
      "\r",
      "Evaluating:  41%|████      | 322/782 [01:42<02:27,  3.12it/s]"
     ]
    },
    {
     "name": "stderr",
     "output_type": "stream",
     "text": [
      "\r",
      "Evaluating:  41%|████▏     | 323/782 [01:42<02:27,  3.12it/s]"
     ]
    },
    {
     "name": "stderr",
     "output_type": "stream",
     "text": [
      "\r",
      "Evaluating:  41%|████▏     | 324/782 [01:42<02:27,  3.11it/s]"
     ]
    },
    {
     "name": "stderr",
     "output_type": "stream",
     "text": [
      "\r",
      "Evaluating:  42%|████▏     | 325/782 [01:43<02:26,  3.11it/s]"
     ]
    },
    {
     "name": "stderr",
     "output_type": "stream",
     "text": [
      "\r",
      "Evaluating:  42%|████▏     | 326/782 [01:43<02:26,  3.11it/s]"
     ]
    },
    {
     "name": "stderr",
     "output_type": "stream",
     "text": [
      "\r",
      "Evaluating:  42%|████▏     | 327/782 [01:43<02:26,  3.11it/s]"
     ]
    },
    {
     "name": "stderr",
     "output_type": "stream",
     "text": [
      "\r",
      "Evaluating:  42%|████▏     | 328/782 [01:44<02:26,  3.11it/s]"
     ]
    },
    {
     "name": "stderr",
     "output_type": "stream",
     "text": [
      "\r",
      "Evaluating:  42%|████▏     | 329/782 [01:44<02:25,  3.11it/s]"
     ]
    },
    {
     "name": "stderr",
     "output_type": "stream",
     "text": [
      "\r",
      "Evaluating:  42%|████▏     | 330/782 [01:44<02:25,  3.11it/s]"
     ]
    },
    {
     "name": "stderr",
     "output_type": "stream",
     "text": [
      "\r",
      "Evaluating:  42%|████▏     | 331/782 [01:45<02:24,  3.11it/s]"
     ]
    },
    {
     "name": "stderr",
     "output_type": "stream",
     "text": [
      "\r",
      "Evaluating:  42%|████▏     | 332/782 [01:45<02:24,  3.12it/s]"
     ]
    },
    {
     "name": "stderr",
     "output_type": "stream",
     "text": [
      "\r",
      "Evaluating:  43%|████▎     | 333/782 [01:45<02:23,  3.12it/s]"
     ]
    },
    {
     "name": "stderr",
     "output_type": "stream",
     "text": [
      "\r",
      "Evaluating:  43%|████▎     | 334/782 [01:46<02:23,  3.12it/s]"
     ]
    },
    {
     "name": "stderr",
     "output_type": "stream",
     "text": [
      "\r",
      "Evaluating:  43%|████▎     | 335/782 [01:46<02:23,  3.12it/s]"
     ]
    },
    {
     "name": "stderr",
     "output_type": "stream",
     "text": [
      "\r",
      "Evaluating:  43%|████▎     | 336/782 [01:46<02:23,  3.11it/s]"
     ]
    },
    {
     "name": "stderr",
     "output_type": "stream",
     "text": [
      "\r",
      "Evaluating:  43%|████▎     | 337/782 [01:47<02:23,  3.11it/s]"
     ]
    },
    {
     "name": "stderr",
     "output_type": "stream",
     "text": [
      "\r",
      "Evaluating:  43%|████▎     | 338/782 [01:47<02:22,  3.11it/s]"
     ]
    },
    {
     "name": "stderr",
     "output_type": "stream",
     "text": [
      "\r",
      "Evaluating:  43%|████▎     | 339/782 [01:47<02:22,  3.12it/s]"
     ]
    },
    {
     "name": "stderr",
     "output_type": "stream",
     "text": [
      "\r",
      "Evaluating:  43%|████▎     | 340/782 [01:48<02:21,  3.12it/s]"
     ]
    },
    {
     "name": "stderr",
     "output_type": "stream",
     "text": [
      "\r",
      "Evaluating:  44%|████▎     | 341/782 [01:48<02:21,  3.12it/s]"
     ]
    },
    {
     "name": "stderr",
     "output_type": "stream",
     "text": [
      "\r",
      "Evaluating:  44%|████▎     | 342/782 [01:48<02:20,  3.12it/s]"
     ]
    },
    {
     "name": "stderr",
     "output_type": "stream",
     "text": [
      "\r",
      "Evaluating:  44%|████▍     | 343/782 [01:49<02:20,  3.13it/s]"
     ]
    },
    {
     "name": "stderr",
     "output_type": "stream",
     "text": [
      "\r",
      "Evaluating:  44%|████▍     | 344/782 [01:49<02:20,  3.12it/s]"
     ]
    },
    {
     "name": "stderr",
     "output_type": "stream",
     "text": [
      "\r",
      "Evaluating:  44%|████▍     | 345/782 [01:49<02:19,  3.12it/s]"
     ]
    },
    {
     "name": "stderr",
     "output_type": "stream",
     "text": [
      "\r",
      "Evaluating:  44%|████▍     | 346/782 [01:50<02:19,  3.13it/s]"
     ]
    },
    {
     "name": "stderr",
     "output_type": "stream",
     "text": [
      "\r",
      "Evaluating:  44%|████▍     | 347/782 [01:50<02:19,  3.12it/s]"
     ]
    },
    {
     "name": "stderr",
     "output_type": "stream",
     "text": [
      "\r",
      "Evaluating:  45%|████▍     | 348/782 [01:50<02:18,  3.12it/s]"
     ]
    },
    {
     "name": "stderr",
     "output_type": "stream",
     "text": [
      "\r",
      "Evaluating:  45%|████▍     | 349/782 [01:50<02:18,  3.13it/s]"
     ]
    },
    {
     "name": "stderr",
     "output_type": "stream",
     "text": [
      "\r",
      "Evaluating:  45%|████▍     | 350/782 [01:51<02:18,  3.13it/s]"
     ]
    },
    {
     "name": "stderr",
     "output_type": "stream",
     "text": [
      "\r",
      "Evaluating:  45%|████▍     | 351/782 [01:51<02:17,  3.12it/s]"
     ]
    },
    {
     "name": "stderr",
     "output_type": "stream",
     "text": [
      "\r",
      "Evaluating:  45%|████▌     | 352/782 [01:51<02:17,  3.13it/s]"
     ]
    },
    {
     "name": "stderr",
     "output_type": "stream",
     "text": [
      "\r",
      "Evaluating:  45%|████▌     | 353/782 [01:52<02:17,  3.13it/s]"
     ]
    },
    {
     "name": "stderr",
     "output_type": "stream",
     "text": [
      "\r",
      "Evaluating:  45%|████▌     | 354/782 [01:52<02:16,  3.13it/s]"
     ]
    },
    {
     "name": "stderr",
     "output_type": "stream",
     "text": [
      "\r",
      "Evaluating:  45%|████▌     | 355/782 [01:52<02:16,  3.13it/s]"
     ]
    },
    {
     "name": "stderr",
     "output_type": "stream",
     "text": [
      "\r",
      "Evaluating:  46%|████▌     | 356/782 [01:53<02:16,  3.13it/s]"
     ]
    },
    {
     "name": "stderr",
     "output_type": "stream",
     "text": [
      "\r",
      "Evaluating:  46%|████▌     | 357/782 [01:53<02:15,  3.13it/s]"
     ]
    },
    {
     "name": "stderr",
     "output_type": "stream",
     "text": [
      "\r",
      "Evaluating:  46%|████▌     | 358/782 [01:53<02:15,  3.12it/s]"
     ]
    },
    {
     "name": "stderr",
     "output_type": "stream",
     "text": [
      "\r",
      "Evaluating:  46%|████▌     | 359/782 [01:54<02:15,  3.12it/s]"
     ]
    },
    {
     "name": "stderr",
     "output_type": "stream",
     "text": [
      "\r",
      "Evaluating:  46%|████▌     | 360/782 [01:54<02:15,  3.11it/s]"
     ]
    },
    {
     "name": "stderr",
     "output_type": "stream",
     "text": [
      "\r",
      "Evaluating:  46%|████▌     | 361/782 [01:54<02:15,  3.11it/s]"
     ]
    },
    {
     "name": "stderr",
     "output_type": "stream",
     "text": [
      "\r",
      "Evaluating:  46%|████▋     | 362/782 [01:55<02:14,  3.11it/s]"
     ]
    },
    {
     "name": "stderr",
     "output_type": "stream",
     "text": [
      "\r",
      "Evaluating:  46%|████▋     | 363/782 [01:55<02:14,  3.11it/s]"
     ]
    },
    {
     "name": "stderr",
     "output_type": "stream",
     "text": [
      "\r",
      "Evaluating:  47%|████▋     | 364/782 [01:55<02:14,  3.11it/s]"
     ]
    },
    {
     "name": "stderr",
     "output_type": "stream",
     "text": [
      "\r",
      "Evaluating:  47%|████▋     | 365/782 [01:56<02:14,  3.11it/s]"
     ]
    },
    {
     "name": "stderr",
     "output_type": "stream",
     "text": [
      "\r",
      "Evaluating:  47%|████▋     | 366/782 [01:56<02:13,  3.11it/s]"
     ]
    },
    {
     "name": "stderr",
     "output_type": "stream",
     "text": [
      "\r",
      "Evaluating:  47%|████▋     | 367/782 [01:56<02:13,  3.11it/s]"
     ]
    },
    {
     "name": "stderr",
     "output_type": "stream",
     "text": [
      "\r",
      "Evaluating:  47%|████▋     | 368/782 [01:57<02:13,  3.11it/s]"
     ]
    },
    {
     "name": "stderr",
     "output_type": "stream",
     "text": [
      "\r",
      "Evaluating:  47%|████▋     | 369/782 [01:57<02:12,  3.11it/s]"
     ]
    },
    {
     "name": "stderr",
     "output_type": "stream",
     "text": [
      "\r",
      "Evaluating:  47%|████▋     | 370/782 [01:57<02:12,  3.11it/s]"
     ]
    },
    {
     "name": "stderr",
     "output_type": "stream",
     "text": [
      "\r",
      "Evaluating:  47%|████▋     | 371/782 [01:58<02:12,  3.11it/s]"
     ]
    },
    {
     "name": "stderr",
     "output_type": "stream",
     "text": [
      "\r",
      "Evaluating:  48%|████▊     | 372/782 [01:58<02:11,  3.11it/s]"
     ]
    },
    {
     "name": "stderr",
     "output_type": "stream",
     "text": [
      "\r",
      "Evaluating:  48%|████▊     | 373/782 [01:58<02:11,  3.11it/s]"
     ]
    },
    {
     "name": "stderr",
     "output_type": "stream",
     "text": [
      "\r",
      "Evaluating:  48%|████▊     | 374/782 [01:58<02:11,  3.11it/s]"
     ]
    },
    {
     "name": "stderr",
     "output_type": "stream",
     "text": [
      "\r",
      "Evaluating:  48%|████▊     | 375/782 [01:59<02:10,  3.11it/s]"
     ]
    },
    {
     "name": "stderr",
     "output_type": "stream",
     "text": [
      "\r",
      "Evaluating:  48%|████▊     | 376/782 [01:59<02:10,  3.11it/s]"
     ]
    },
    {
     "name": "stderr",
     "output_type": "stream",
     "text": [
      "\r",
      "Evaluating:  48%|████▊     | 377/782 [01:59<02:10,  3.11it/s]"
     ]
    },
    {
     "name": "stderr",
     "output_type": "stream",
     "text": [
      "\r",
      "Evaluating:  48%|████▊     | 378/782 [02:00<02:09,  3.11it/s]"
     ]
    },
    {
     "name": "stderr",
     "output_type": "stream",
     "text": [
      "\r",
      "Evaluating:  48%|████▊     | 379/782 [02:00<02:09,  3.11it/s]"
     ]
    },
    {
     "name": "stderr",
     "output_type": "stream",
     "text": [
      "\r",
      "Evaluating:  49%|████▊     | 380/782 [02:00<02:09,  3.11it/s]"
     ]
    },
    {
     "name": "stderr",
     "output_type": "stream",
     "text": [
      "\r",
      "Evaluating:  49%|████▊     | 381/782 [02:01<02:09,  3.11it/s]"
     ]
    },
    {
     "name": "stderr",
     "output_type": "stream",
     "text": [
      "\r",
      "Evaluating:  49%|████▉     | 382/782 [02:01<02:08,  3.11it/s]"
     ]
    },
    {
     "name": "stderr",
     "output_type": "stream",
     "text": [
      "\r",
      "Evaluating:  49%|████▉     | 383/782 [02:01<02:08,  3.11it/s]"
     ]
    },
    {
     "name": "stderr",
     "output_type": "stream",
     "text": [
      "\r",
      "Evaluating:  49%|████▉     | 384/782 [02:02<02:08,  3.11it/s]"
     ]
    },
    {
     "name": "stderr",
     "output_type": "stream",
     "text": [
      "\r",
      "Evaluating:  49%|████▉     | 385/782 [02:02<02:07,  3.11it/s]"
     ]
    },
    {
     "name": "stderr",
     "output_type": "stream",
     "text": [
      "\r",
      "Evaluating:  49%|████▉     | 386/782 [02:02<02:07,  3.11it/s]"
     ]
    },
    {
     "name": "stderr",
     "output_type": "stream",
     "text": [
      "\r",
      "Evaluating:  49%|████▉     | 387/782 [02:03<02:06,  3.11it/s]"
     ]
    },
    {
     "name": "stderr",
     "output_type": "stream",
     "text": [
      "\r",
      "Evaluating:  50%|████▉     | 388/782 [02:03<02:06,  3.11it/s]"
     ]
    },
    {
     "name": "stderr",
     "output_type": "stream",
     "text": [
      "\r",
      "Evaluating:  50%|████▉     | 389/782 [02:03<02:06,  3.11it/s]"
     ]
    },
    {
     "name": "stderr",
     "output_type": "stream",
     "text": [
      "\r",
      "Evaluating:  50%|████▉     | 390/782 [02:04<02:06,  3.11it/s]"
     ]
    },
    {
     "name": "stderr",
     "output_type": "stream",
     "text": [
      "\r",
      "Evaluating:  50%|█████     | 391/782 [02:04<02:05,  3.11it/s]"
     ]
    },
    {
     "name": "stderr",
     "output_type": "stream",
     "text": [
      "\r",
      "Evaluating:  50%|█████     | 392/782 [02:04<02:05,  3.11it/s]"
     ]
    },
    {
     "name": "stderr",
     "output_type": "stream",
     "text": [
      "\r",
      "Evaluating:  50%|█████     | 393/782 [02:05<02:05,  3.11it/s]"
     ]
    },
    {
     "name": "stderr",
     "output_type": "stream",
     "text": [
      "\r",
      "Evaluating:  50%|█████     | 394/782 [02:05<02:04,  3.11it/s]"
     ]
    },
    {
     "name": "stderr",
     "output_type": "stream",
     "text": [
      "\r",
      "Evaluating:  51%|█████     | 395/782 [02:05<02:04,  3.11it/s]"
     ]
    },
    {
     "name": "stderr",
     "output_type": "stream",
     "text": [
      "\r",
      "Evaluating:  51%|█████     | 396/782 [02:06<02:04,  3.11it/s]"
     ]
    },
    {
     "name": "stderr",
     "output_type": "stream",
     "text": [
      "\r",
      "Evaluating:  51%|█████     | 397/782 [02:06<02:03,  3.11it/s]"
     ]
    },
    {
     "name": "stderr",
     "output_type": "stream",
     "text": [
      "\r",
      "Evaluating:  51%|█████     | 398/782 [02:06<02:03,  3.10it/s]"
     ]
    },
    {
     "name": "stderr",
     "output_type": "stream",
     "text": [
      "\r",
      "Evaluating:  51%|█████     | 399/782 [02:07<02:03,  3.11it/s]"
     ]
    },
    {
     "name": "stderr",
     "output_type": "stream",
     "text": [
      "\r",
      "Evaluating:  51%|█████     | 400/782 [02:07<02:03,  3.10it/s]"
     ]
    },
    {
     "name": "stderr",
     "output_type": "stream",
     "text": [
      "\r",
      "Evaluating:  51%|█████▏    | 401/782 [02:07<02:02,  3.10it/s]"
     ]
    },
    {
     "name": "stderr",
     "output_type": "stream",
     "text": [
      "\r",
      "Evaluating:  51%|█████▏    | 402/782 [02:08<02:02,  3.10it/s]"
     ]
    },
    {
     "name": "stderr",
     "output_type": "stream",
     "text": [
      "\r",
      "Evaluating:  52%|█████▏    | 403/782 [02:08<02:02,  3.10it/s]"
     ]
    },
    {
     "name": "stderr",
     "output_type": "stream",
     "text": [
      "\r",
      "Evaluating:  52%|█████▏    | 404/782 [02:08<02:01,  3.10it/s]"
     ]
    },
    {
     "name": "stderr",
     "output_type": "stream",
     "text": [
      "\r",
      "Evaluating:  52%|█████▏    | 405/782 [02:08<02:01,  3.11it/s]"
     ]
    },
    {
     "name": "stderr",
     "output_type": "stream",
     "text": [
      "\r",
      "Evaluating:  52%|█████▏    | 406/782 [02:09<02:00,  3.11it/s]"
     ]
    },
    {
     "name": "stderr",
     "output_type": "stream",
     "text": [
      "\r",
      "Evaluating:  52%|█████▏    | 407/782 [02:09<02:00,  3.11it/s]"
     ]
    },
    {
     "name": "stderr",
     "output_type": "stream",
     "text": [
      "\r",
      "Evaluating:  52%|█████▏    | 408/782 [02:09<02:00,  3.11it/s]"
     ]
    },
    {
     "name": "stderr",
     "output_type": "stream",
     "text": [
      "\r",
      "Evaluating:  52%|█████▏    | 409/782 [02:10<01:59,  3.11it/s]"
     ]
    },
    {
     "name": "stderr",
     "output_type": "stream",
     "text": [
      "\r",
      "Evaluating:  52%|█████▏    | 410/782 [02:10<01:59,  3.11it/s]"
     ]
    },
    {
     "name": "stderr",
     "output_type": "stream",
     "text": [
      "\r",
      "Evaluating:  53%|█████▎    | 411/782 [02:10<01:59,  3.11it/s]"
     ]
    },
    {
     "name": "stderr",
     "output_type": "stream",
     "text": [
      "\r",
      "Evaluating:  53%|█████▎    | 412/782 [02:11<01:59,  3.11it/s]"
     ]
    },
    {
     "name": "stderr",
     "output_type": "stream",
     "text": [
      "\r",
      "Evaluating:  53%|█████▎    | 413/782 [02:11<01:58,  3.11it/s]"
     ]
    },
    {
     "name": "stderr",
     "output_type": "stream",
     "text": [
      "\r",
      "Evaluating:  53%|█████▎    | 414/782 [02:11<01:58,  3.10it/s]"
     ]
    },
    {
     "name": "stderr",
     "output_type": "stream",
     "text": [
      "\r",
      "Evaluating:  53%|█████▎    | 415/782 [02:12<01:58,  3.10it/s]"
     ]
    },
    {
     "name": "stderr",
     "output_type": "stream",
     "text": [
      "\r",
      "Evaluating:  53%|█████▎    | 416/782 [02:12<01:57,  3.11it/s]"
     ]
    },
    {
     "name": "stderr",
     "output_type": "stream",
     "text": [
      "\r",
      "Evaluating:  53%|█████▎    | 417/782 [02:12<01:57,  3.10it/s]"
     ]
    },
    {
     "name": "stderr",
     "output_type": "stream",
     "text": [
      "\r",
      "Evaluating:  53%|█████▎    | 418/782 [02:13<01:57,  3.11it/s]"
     ]
    },
    {
     "name": "stderr",
     "output_type": "stream",
     "text": [
      "\r",
      "Evaluating:  54%|█████▎    | 419/782 [02:13<01:56,  3.11it/s]"
     ]
    },
    {
     "name": "stderr",
     "output_type": "stream",
     "text": [
      "\r",
      "Evaluating:  54%|█████▎    | 420/782 [02:13<01:56,  3.11it/s]"
     ]
    },
    {
     "name": "stderr",
     "output_type": "stream",
     "text": [
      "\r",
      "Evaluating:  54%|█████▍    | 421/782 [02:14<01:56,  3.11it/s]"
     ]
    },
    {
     "name": "stderr",
     "output_type": "stream",
     "text": [
      "\r",
      "Evaluating:  54%|█████▍    | 422/782 [02:14<01:55,  3.11it/s]"
     ]
    },
    {
     "name": "stderr",
     "output_type": "stream",
     "text": [
      "\r",
      "Evaluating:  54%|█████▍    | 423/782 [02:14<01:55,  3.11it/s]"
     ]
    },
    {
     "name": "stderr",
     "output_type": "stream",
     "text": [
      "\r",
      "Evaluating:  54%|█████▍    | 424/782 [02:15<01:55,  3.11it/s]"
     ]
    },
    {
     "name": "stderr",
     "output_type": "stream",
     "text": [
      "\r",
      "Evaluating:  54%|█████▍    | 425/782 [02:15<01:54,  3.11it/s]"
     ]
    },
    {
     "name": "stderr",
     "output_type": "stream",
     "text": [
      "\r",
      "Evaluating:  54%|█████▍    | 426/782 [02:15<01:54,  3.11it/s]"
     ]
    },
    {
     "name": "stderr",
     "output_type": "stream",
     "text": [
      "\r",
      "Evaluating:  55%|█████▍    | 427/782 [02:16<01:54,  3.11it/s]"
     ]
    },
    {
     "name": "stderr",
     "output_type": "stream",
     "text": [
      "\r",
      "Evaluating:  55%|█████▍    | 428/782 [02:16<01:54,  3.10it/s]"
     ]
    },
    {
     "name": "stderr",
     "output_type": "stream",
     "text": [
      "\r",
      "Evaluating:  55%|█████▍    | 429/782 [02:16<01:53,  3.10it/s]"
     ]
    },
    {
     "name": "stderr",
     "output_type": "stream",
     "text": [
      "\r",
      "Evaluating:  55%|█████▍    | 430/782 [02:17<01:53,  3.10it/s]"
     ]
    },
    {
     "name": "stderr",
     "output_type": "stream",
     "text": [
      "\r",
      "Evaluating:  55%|█████▌    | 431/782 [02:17<01:53,  3.10it/s]"
     ]
    },
    {
     "name": "stderr",
     "output_type": "stream",
     "text": [
      "\r",
      "Evaluating:  55%|█████▌    | 432/782 [02:17<01:53,  3.10it/s]"
     ]
    },
    {
     "name": "stderr",
     "output_type": "stream",
     "text": [
      "\r",
      "Evaluating:  55%|█████▌    | 433/782 [02:17<01:52,  3.10it/s]"
     ]
    },
    {
     "name": "stderr",
     "output_type": "stream",
     "text": [
      "\r",
      "Evaluating:  55%|█████▌    | 434/782 [02:18<01:52,  3.10it/s]"
     ]
    },
    {
     "name": "stderr",
     "output_type": "stream",
     "text": [
      "\r",
      "Evaluating:  56%|█████▌    | 435/782 [02:18<01:51,  3.10it/s]"
     ]
    },
    {
     "name": "stderr",
     "output_type": "stream",
     "text": [
      "\r",
      "Evaluating:  56%|█████▌    | 436/782 [02:18<01:51,  3.10it/s]"
     ]
    },
    {
     "name": "stderr",
     "output_type": "stream",
     "text": [
      "\r",
      "Evaluating:  56%|█████▌    | 437/782 [02:19<01:51,  3.10it/s]"
     ]
    },
    {
     "name": "stderr",
     "output_type": "stream",
     "text": [
      "\r",
      "Evaluating:  56%|█████▌    | 438/782 [02:19<01:50,  3.10it/s]"
     ]
    },
    {
     "name": "stderr",
     "output_type": "stream",
     "text": [
      "\r",
      "Evaluating:  56%|█████▌    | 439/782 [02:19<01:50,  3.10it/s]"
     ]
    },
    {
     "name": "stderr",
     "output_type": "stream",
     "text": [
      "\r",
      "Evaluating:  56%|█████▋    | 440/782 [02:20<01:50,  3.10it/s]"
     ]
    },
    {
     "name": "stderr",
     "output_type": "stream",
     "text": [
      "\r",
      "Evaluating:  56%|█████▋    | 441/782 [02:20<01:50,  3.10it/s]"
     ]
    },
    {
     "name": "stderr",
     "output_type": "stream",
     "text": [
      "\r",
      "Evaluating:  57%|█████▋    | 442/782 [02:20<01:49,  3.10it/s]"
     ]
    },
    {
     "name": "stderr",
     "output_type": "stream",
     "text": [
      "\r",
      "Evaluating:  57%|█████▋    | 443/782 [02:21<01:49,  3.10it/s]"
     ]
    },
    {
     "name": "stderr",
     "output_type": "stream",
     "text": [
      "\r",
      "Evaluating:  57%|█████▋    | 444/782 [02:21<01:48,  3.11it/s]"
     ]
    },
    {
     "name": "stderr",
     "output_type": "stream",
     "text": [
      "\r",
      "Evaluating:  57%|█████▋    | 445/782 [02:21<01:48,  3.11it/s]"
     ]
    },
    {
     "name": "stderr",
     "output_type": "stream",
     "text": [
      "\r",
      "Evaluating:  57%|█████▋    | 446/782 [02:22<01:47,  3.12it/s]"
     ]
    },
    {
     "name": "stderr",
     "output_type": "stream",
     "text": [
      "\r",
      "Evaluating:  57%|█████▋    | 447/782 [02:22<01:47,  3.11it/s]"
     ]
    },
    {
     "name": "stderr",
     "output_type": "stream",
     "text": [
      "\r",
      "Evaluating:  57%|█████▋    | 448/782 [02:22<01:47,  3.11it/s]"
     ]
    },
    {
     "name": "stderr",
     "output_type": "stream",
     "text": [
      "\r",
      "Evaluating:  57%|█████▋    | 449/782 [02:23<01:46,  3.11it/s]"
     ]
    },
    {
     "name": "stderr",
     "output_type": "stream",
     "text": [
      "\r",
      "Evaluating:  58%|█████▊    | 450/782 [02:23<01:46,  3.12it/s]"
     ]
    },
    {
     "name": "stderr",
     "output_type": "stream",
     "text": [
      "\r",
      "Evaluating:  58%|█████▊    | 451/782 [02:23<01:46,  3.12it/s]"
     ]
    },
    {
     "name": "stderr",
     "output_type": "stream",
     "text": [
      "\r",
      "Evaluating:  58%|█████▊    | 452/782 [02:24<01:45,  3.12it/s]"
     ]
    },
    {
     "name": "stderr",
     "output_type": "stream",
     "text": [
      "\r",
      "Evaluating:  58%|█████▊    | 453/782 [02:24<01:45,  3.12it/s]"
     ]
    },
    {
     "name": "stderr",
     "output_type": "stream",
     "text": [
      "\r",
      "Evaluating:  58%|█████▊    | 454/782 [02:24<01:45,  3.12it/s]"
     ]
    },
    {
     "name": "stderr",
     "output_type": "stream",
     "text": [
      "\r",
      "Evaluating:  58%|█████▊    | 455/782 [02:25<01:44,  3.12it/s]"
     ]
    },
    {
     "name": "stderr",
     "output_type": "stream",
     "text": [
      "\r",
      "Evaluating:  58%|█████▊    | 456/782 [02:25<01:44,  3.12it/s]"
     ]
    },
    {
     "name": "stderr",
     "output_type": "stream",
     "text": [
      "\r",
      "Evaluating:  58%|█████▊    | 457/782 [02:25<01:44,  3.12it/s]"
     ]
    },
    {
     "name": "stderr",
     "output_type": "stream",
     "text": [
      "\r",
      "Evaluating:  59%|█████▊    | 458/782 [02:26<01:44,  3.11it/s]"
     ]
    },
    {
     "name": "stderr",
     "output_type": "stream",
     "text": [
      "\r",
      "Evaluating:  59%|█████▊    | 459/782 [02:26<01:43,  3.11it/s]"
     ]
    },
    {
     "name": "stderr",
     "output_type": "stream",
     "text": [
      "\r",
      "Evaluating:  59%|█████▉    | 460/782 [02:26<01:43,  3.11it/s]"
     ]
    },
    {
     "name": "stderr",
     "output_type": "stream",
     "text": [
      "\r",
      "Evaluating:  59%|█████▉    | 461/782 [02:26<01:43,  3.11it/s]"
     ]
    },
    {
     "name": "stderr",
     "output_type": "stream",
     "text": [
      "\r",
      "Evaluating:  59%|█████▉    | 462/782 [02:27<01:42,  3.11it/s]"
     ]
    },
    {
     "name": "stderr",
     "output_type": "stream",
     "text": [
      "\r",
      "Evaluating:  59%|█████▉    | 463/782 [02:27<01:42,  3.11it/s]"
     ]
    },
    {
     "name": "stderr",
     "output_type": "stream",
     "text": [
      "\r",
      "Evaluating:  59%|█████▉    | 464/782 [02:27<01:42,  3.12it/s]"
     ]
    },
    {
     "name": "stderr",
     "output_type": "stream",
     "text": [
      "\r",
      "Evaluating:  59%|█████▉    | 465/782 [02:28<01:41,  3.12it/s]"
     ]
    },
    {
     "name": "stderr",
     "output_type": "stream",
     "text": [
      "\r",
      "Evaluating:  60%|█████▉    | 466/782 [02:28<01:41,  3.12it/s]"
     ]
    },
    {
     "name": "stderr",
     "output_type": "stream",
     "text": [
      "\r",
      "Evaluating:  60%|█████▉    | 467/782 [02:28<01:40,  3.12it/s]"
     ]
    },
    {
     "name": "stderr",
     "output_type": "stream",
     "text": [
      "\r",
      "Evaluating:  60%|█████▉    | 468/782 [02:29<01:40,  3.12it/s]"
     ]
    },
    {
     "name": "stderr",
     "output_type": "stream",
     "text": [
      "\r",
      "Evaluating:  60%|█████▉    | 469/782 [02:29<01:40,  3.11it/s]"
     ]
    },
    {
     "name": "stderr",
     "output_type": "stream",
     "text": [
      "\r",
      "Evaluating:  60%|██████    | 470/782 [02:29<01:40,  3.12it/s]"
     ]
    },
    {
     "name": "stderr",
     "output_type": "stream",
     "text": [
      "\r",
      "Evaluating:  60%|██████    | 471/782 [02:30<01:39,  3.12it/s]"
     ]
    },
    {
     "name": "stderr",
     "output_type": "stream",
     "text": [
      "\r",
      "Evaluating:  60%|██████    | 472/782 [02:30<01:39,  3.12it/s]"
     ]
    },
    {
     "name": "stderr",
     "output_type": "stream",
     "text": [
      "\r",
      "Evaluating:  60%|██████    | 473/782 [02:30<01:39,  3.12it/s]"
     ]
    },
    {
     "name": "stderr",
     "output_type": "stream",
     "text": [
      "\r",
      "Evaluating:  61%|██████    | 474/782 [02:31<01:38,  3.11it/s]"
     ]
    },
    {
     "name": "stderr",
     "output_type": "stream",
     "text": [
      "\r",
      "Evaluating:  61%|██████    | 475/782 [02:31<01:38,  3.11it/s]"
     ]
    },
    {
     "name": "stderr",
     "output_type": "stream",
     "text": [
      "\r",
      "Evaluating:  61%|██████    | 476/782 [02:31<01:38,  3.11it/s]"
     ]
    },
    {
     "name": "stderr",
     "output_type": "stream",
     "text": [
      "\r",
      "Evaluating:  61%|██████    | 477/782 [02:32<01:38,  3.11it/s]"
     ]
    },
    {
     "name": "stderr",
     "output_type": "stream",
     "text": [
      "\r",
      "Evaluating:  61%|██████    | 478/782 [02:32<01:37,  3.11it/s]"
     ]
    },
    {
     "name": "stderr",
     "output_type": "stream",
     "text": [
      "\r",
      "Evaluating:  61%|██████▏   | 479/782 [02:32<01:37,  3.11it/s]"
     ]
    },
    {
     "name": "stderr",
     "output_type": "stream",
     "text": [
      "\r",
      "Evaluating:  61%|██████▏   | 480/782 [02:33<01:37,  3.11it/s]"
     ]
    },
    {
     "name": "stderr",
     "output_type": "stream",
     "text": [
      "\r",
      "Evaluating:  62%|██████▏   | 481/782 [02:33<01:36,  3.11it/s]"
     ]
    },
    {
     "name": "stderr",
     "output_type": "stream",
     "text": [
      "\r",
      "Evaluating:  62%|██████▏   | 482/782 [02:33<01:36,  3.11it/s]"
     ]
    },
    {
     "name": "stderr",
     "output_type": "stream",
     "text": [
      "\r",
      "Evaluating:  62%|██████▏   | 483/782 [02:34<01:36,  3.11it/s]"
     ]
    },
    {
     "name": "stderr",
     "output_type": "stream",
     "text": [
      "\r",
      "Evaluating:  62%|██████▏   | 484/782 [02:34<01:35,  3.11it/s]"
     ]
    },
    {
     "name": "stderr",
     "output_type": "stream",
     "text": [
      "\r",
      "Evaluating:  62%|██████▏   | 485/782 [02:34<01:35,  3.11it/s]"
     ]
    },
    {
     "name": "stderr",
     "output_type": "stream",
     "text": [
      "\r",
      "Evaluating:  62%|██████▏   | 486/782 [02:35<01:35,  3.11it/s]"
     ]
    },
    {
     "name": "stderr",
     "output_type": "stream",
     "text": [
      "\r",
      "Evaluating:  62%|██████▏   | 487/782 [02:35<01:34,  3.11it/s]"
     ]
    },
    {
     "name": "stderr",
     "output_type": "stream",
     "text": [
      "\r",
      "Evaluating:  62%|██████▏   | 488/782 [02:35<01:34,  3.11it/s]"
     ]
    },
    {
     "name": "stderr",
     "output_type": "stream",
     "text": [
      "\r",
      "Evaluating:  63%|██████▎   | 489/782 [02:35<01:34,  3.11it/s]"
     ]
    },
    {
     "name": "stderr",
     "output_type": "stream",
     "text": [
      "\r",
      "Evaluating:  63%|██████▎   | 490/782 [02:36<01:33,  3.11it/s]"
     ]
    },
    {
     "name": "stderr",
     "output_type": "stream",
     "text": [
      "\r",
      "Evaluating:  63%|██████▎   | 491/782 [02:36<01:33,  3.11it/s]"
     ]
    },
    {
     "name": "stderr",
     "output_type": "stream",
     "text": [
      "\r",
      "Evaluating:  63%|██████▎   | 492/782 [02:36<01:33,  3.11it/s]"
     ]
    },
    {
     "name": "stderr",
     "output_type": "stream",
     "text": [
      "\r",
      "Evaluating:  63%|██████▎   | 493/782 [02:37<01:32,  3.11it/s]"
     ]
    },
    {
     "name": "stderr",
     "output_type": "stream",
     "text": [
      "\r",
      "Evaluating:  63%|██████▎   | 494/782 [02:37<01:32,  3.11it/s]"
     ]
    },
    {
     "name": "stderr",
     "output_type": "stream",
     "text": [
      "\r",
      "Evaluating:  63%|██████▎   | 495/782 [02:37<01:32,  3.12it/s]"
     ]
    },
    {
     "name": "stderr",
     "output_type": "stream",
     "text": [
      "\r",
      "Evaluating:  63%|██████▎   | 496/782 [02:38<01:31,  3.12it/s]"
     ]
    },
    {
     "name": "stderr",
     "output_type": "stream",
     "text": [
      "\r",
      "Evaluating:  64%|██████▎   | 497/782 [02:38<01:31,  3.12it/s]"
     ]
    },
    {
     "name": "stderr",
     "output_type": "stream",
     "text": [
      "\r",
      "Evaluating:  64%|██████▎   | 498/782 [02:38<01:31,  3.11it/s]"
     ]
    },
    {
     "name": "stderr",
     "output_type": "stream",
     "text": [
      "\r",
      "Evaluating:  64%|██████▍   | 499/782 [02:39<01:30,  3.12it/s]"
     ]
    },
    {
     "name": "stderr",
     "output_type": "stream",
     "text": [
      "\r",
      "Evaluating:  64%|██████▍   | 500/782 [02:39<01:30,  3.11it/s]"
     ]
    },
    {
     "name": "stderr",
     "output_type": "stream",
     "text": [
      "\r",
      "Evaluating:  64%|██████▍   | 501/782 [02:39<01:30,  3.11it/s]"
     ]
    },
    {
     "name": "stderr",
     "output_type": "stream",
     "text": [
      "\r",
      "Evaluating:  64%|██████▍   | 502/782 [02:40<01:30,  3.11it/s]"
     ]
    },
    {
     "name": "stderr",
     "output_type": "stream",
     "text": [
      "\r",
      "Evaluating:  64%|██████▍   | 503/782 [02:40<01:29,  3.11it/s]"
     ]
    },
    {
     "name": "stderr",
     "output_type": "stream",
     "text": [
      "\r",
      "Evaluating:  64%|██████▍   | 504/782 [02:40<01:29,  3.11it/s]"
     ]
    },
    {
     "name": "stderr",
     "output_type": "stream",
     "text": [
      "\r",
      "Evaluating:  65%|██████▍   | 505/782 [02:41<01:28,  3.11it/s]"
     ]
    },
    {
     "name": "stderr",
     "output_type": "stream",
     "text": [
      "\r",
      "Evaluating:  65%|██████▍   | 506/782 [02:41<01:28,  3.11it/s]"
     ]
    },
    {
     "name": "stderr",
     "output_type": "stream",
     "text": [
      "\r",
      "Evaluating:  65%|██████▍   | 507/782 [02:41<01:28,  3.11it/s]"
     ]
    },
    {
     "name": "stderr",
     "output_type": "stream",
     "text": [
      "\r",
      "Evaluating:  65%|██████▍   | 508/782 [02:42<01:28,  3.11it/s]"
     ]
    },
    {
     "name": "stderr",
     "output_type": "stream",
     "text": [
      "\r",
      "Evaluating:  65%|██████▌   | 509/782 [02:42<01:27,  3.10it/s]"
     ]
    },
    {
     "name": "stderr",
     "output_type": "stream",
     "text": [
      "\r",
      "Evaluating:  65%|██████▌   | 510/782 [02:42<01:27,  3.11it/s]"
     ]
    },
    {
     "name": "stderr",
     "output_type": "stream",
     "text": [
      "\r",
      "Evaluating:  65%|██████▌   | 511/782 [02:43<01:27,  3.11it/s]"
     ]
    },
    {
     "name": "stderr",
     "output_type": "stream",
     "text": [
      "\r",
      "Evaluating:  65%|██████▌   | 512/782 [02:43<01:26,  3.11it/s]"
     ]
    },
    {
     "name": "stderr",
     "output_type": "stream",
     "text": [
      "\r",
      "Evaluating:  66%|██████▌   | 513/782 [02:43<01:26,  3.10it/s]"
     ]
    },
    {
     "name": "stderr",
     "output_type": "stream",
     "text": [
      "\r",
      "Evaluating:  66%|██████▌   | 514/782 [02:44<01:26,  3.11it/s]"
     ]
    },
    {
     "name": "stderr",
     "output_type": "stream",
     "text": [
      "\r",
      "Evaluating:  66%|██████▌   | 515/782 [02:44<01:25,  3.11it/s]"
     ]
    },
    {
     "name": "stderr",
     "output_type": "stream",
     "text": [
      "\r",
      "Evaluating:  66%|██████▌   | 516/782 [02:44<01:25,  3.12it/s]"
     ]
    },
    {
     "name": "stderr",
     "output_type": "stream",
     "text": [
      "\r",
      "Evaluating:  66%|██████▌   | 517/782 [02:44<01:25,  3.12it/s]"
     ]
    },
    {
     "name": "stderr",
     "output_type": "stream",
     "text": [
      "\r",
      "Evaluating:  66%|██████▌   | 518/782 [02:45<01:24,  3.12it/s]"
     ]
    },
    {
     "name": "stderr",
     "output_type": "stream",
     "text": [
      "\r",
      "Evaluating:  66%|██████▋   | 519/782 [02:45<01:24,  3.12it/s]"
     ]
    },
    {
     "name": "stderr",
     "output_type": "stream",
     "text": [
      "\r",
      "Evaluating:  66%|██████▋   | 520/782 [02:45<01:24,  3.11it/s]"
     ]
    },
    {
     "name": "stderr",
     "output_type": "stream",
     "text": [
      "\r",
      "Evaluating:  67%|██████▋   | 521/782 [02:46<01:23,  3.11it/s]"
     ]
    },
    {
     "name": "stderr",
     "output_type": "stream",
     "text": [
      "\r",
      "Evaluating:  67%|██████▋   | 522/782 [02:46<01:23,  3.11it/s]"
     ]
    },
    {
     "name": "stderr",
     "output_type": "stream",
     "text": [
      "\r",
      "Evaluating:  67%|██████▋   | 523/782 [02:46<01:23,  3.11it/s]"
     ]
    },
    {
     "name": "stderr",
     "output_type": "stream",
     "text": [
      "\r",
      "Evaluating:  67%|██████▋   | 524/782 [02:47<01:22,  3.11it/s]"
     ]
    },
    {
     "name": "stderr",
     "output_type": "stream",
     "text": [
      "\r",
      "Evaluating:  67%|██████▋   | 525/782 [02:47<01:22,  3.11it/s]"
     ]
    },
    {
     "name": "stderr",
     "output_type": "stream",
     "text": [
      "\r",
      "Evaluating:  67%|██████▋   | 526/782 [02:47<01:22,  3.11it/s]"
     ]
    },
    {
     "name": "stderr",
     "output_type": "stream",
     "text": [
      "\r",
      "Evaluating:  67%|██████▋   | 527/782 [02:48<01:22,  3.11it/s]"
     ]
    },
    {
     "name": "stderr",
     "output_type": "stream",
     "text": [
      "\r",
      "Evaluating:  68%|██████▊   | 528/782 [02:48<01:21,  3.11it/s]"
     ]
    },
    {
     "name": "stderr",
     "output_type": "stream",
     "text": [
      "\r",
      "Evaluating:  68%|██████▊   | 529/782 [02:48<01:21,  3.11it/s]"
     ]
    },
    {
     "name": "stderr",
     "output_type": "stream",
     "text": [
      "\r",
      "Evaluating:  68%|██████▊   | 530/782 [02:49<01:21,  3.11it/s]"
     ]
    },
    {
     "name": "stderr",
     "output_type": "stream",
     "text": [
      "\r",
      "Evaluating:  68%|██████▊   | 531/782 [02:49<01:20,  3.11it/s]"
     ]
    },
    {
     "name": "stderr",
     "output_type": "stream",
     "text": [
      "\r",
      "Evaluating:  68%|██████▊   | 532/782 [02:49<01:20,  3.11it/s]"
     ]
    },
    {
     "name": "stderr",
     "output_type": "stream",
     "text": [
      "\r",
      "Evaluating:  68%|██████▊   | 533/782 [02:50<01:20,  3.11it/s]"
     ]
    },
    {
     "name": "stderr",
     "output_type": "stream",
     "text": [
      "\r",
      "Evaluating:  68%|██████▊   | 534/782 [02:50<01:19,  3.10it/s]"
     ]
    },
    {
     "name": "stderr",
     "output_type": "stream",
     "text": [
      "\r",
      "Evaluating:  68%|██████▊   | 535/782 [02:50<01:19,  3.11it/s]"
     ]
    },
    {
     "name": "stderr",
     "output_type": "stream",
     "text": [
      "\r",
      "Evaluating:  69%|██████▊   | 536/782 [02:51<01:19,  3.11it/s]"
     ]
    },
    {
     "name": "stderr",
     "output_type": "stream",
     "text": [
      "\r",
      "Evaluating:  69%|██████▊   | 537/782 [02:51<01:18,  3.11it/s]"
     ]
    },
    {
     "name": "stderr",
     "output_type": "stream",
     "text": [
      "\r",
      "Evaluating:  69%|██████▉   | 538/782 [02:51<01:18,  3.11it/s]"
     ]
    },
    {
     "name": "stderr",
     "output_type": "stream",
     "text": [
      "\r",
      "Evaluating:  69%|██████▉   | 539/782 [02:52<01:18,  3.11it/s]"
     ]
    },
    {
     "name": "stderr",
     "output_type": "stream",
     "text": [
      "\r",
      "Evaluating:  69%|██████▉   | 540/782 [02:52<01:17,  3.11it/s]"
     ]
    },
    {
     "name": "stderr",
     "output_type": "stream",
     "text": [
      "\r",
      "Evaluating:  69%|██████▉   | 541/782 [02:52<01:17,  3.11it/s]"
     ]
    },
    {
     "name": "stderr",
     "output_type": "stream",
     "text": [
      "\r",
      "Evaluating:  69%|██████▉   | 542/782 [02:53<01:17,  3.11it/s]"
     ]
    },
    {
     "name": "stderr",
     "output_type": "stream",
     "text": [
      "\r",
      "Evaluating:  69%|██████▉   | 543/782 [02:53<01:16,  3.11it/s]"
     ]
    },
    {
     "name": "stderr",
     "output_type": "stream",
     "text": [
      "\r",
      "Evaluating:  70%|██████▉   | 544/782 [02:53<01:16,  3.11it/s]"
     ]
    },
    {
     "name": "stderr",
     "output_type": "stream",
     "text": [
      "\r",
      "Evaluating:  70%|██████▉   | 545/782 [02:53<01:16,  3.11it/s]"
     ]
    },
    {
     "name": "stderr",
     "output_type": "stream",
     "text": [
      "\r",
      "Evaluating:  70%|██████▉   | 546/782 [02:54<01:15,  3.11it/s]"
     ]
    },
    {
     "name": "stderr",
     "output_type": "stream",
     "text": [
      "\r",
      "Evaluating:  70%|██████▉   | 547/782 [02:54<01:15,  3.11it/s]"
     ]
    },
    {
     "name": "stderr",
     "output_type": "stream",
     "text": [
      "\r",
      "Evaluating:  70%|███████   | 548/782 [02:54<01:15,  3.11it/s]"
     ]
    },
    {
     "name": "stderr",
     "output_type": "stream",
     "text": [
      "\r",
      "Evaluating:  70%|███████   | 549/782 [02:55<01:15,  3.10it/s]"
     ]
    },
    {
     "name": "stderr",
     "output_type": "stream",
     "text": [
      "\r",
      "Evaluating:  70%|███████   | 550/782 [02:55<01:14,  3.11it/s]"
     ]
    },
    {
     "name": "stderr",
     "output_type": "stream",
     "text": [
      "\r",
      "Evaluating:  70%|███████   | 551/782 [02:55<01:14,  3.11it/s]"
     ]
    },
    {
     "name": "stderr",
     "output_type": "stream",
     "text": [
      "\r",
      "Evaluating:  71%|███████   | 552/782 [02:56<01:14,  3.10it/s]"
     ]
    },
    {
     "name": "stderr",
     "output_type": "stream",
     "text": [
      "\r",
      "Evaluating:  71%|███████   | 553/782 [02:56<01:13,  3.11it/s]"
     ]
    },
    {
     "name": "stderr",
     "output_type": "stream",
     "text": [
      "\r",
      "Evaluating:  71%|███████   | 554/782 [02:56<01:13,  3.10it/s]"
     ]
    },
    {
     "name": "stderr",
     "output_type": "stream",
     "text": [
      "\r",
      "Evaluating:  71%|███████   | 555/782 [02:57<01:13,  3.10it/s]"
     ]
    },
    {
     "name": "stderr",
     "output_type": "stream",
     "text": [
      "\r",
      "Evaluating:  71%|███████   | 556/782 [02:57<01:12,  3.10it/s]"
     ]
    },
    {
     "name": "stderr",
     "output_type": "stream",
     "text": [
      "\r",
      "Evaluating:  71%|███████   | 557/782 [02:57<01:12,  3.10it/s]"
     ]
    },
    {
     "name": "stderr",
     "output_type": "stream",
     "text": [
      "\r",
      "Evaluating:  71%|███████▏  | 558/782 [02:58<01:12,  3.10it/s]"
     ]
    },
    {
     "name": "stderr",
     "output_type": "stream",
     "text": [
      "\r",
      "Evaluating:  71%|███████▏  | 559/782 [02:58<01:11,  3.10it/s]"
     ]
    },
    {
     "name": "stderr",
     "output_type": "stream",
     "text": [
      "\r",
      "Evaluating:  72%|███████▏  | 560/782 [02:58<01:11,  3.10it/s]"
     ]
    },
    {
     "name": "stderr",
     "output_type": "stream",
     "text": [
      "\r",
      "Evaluating:  72%|███████▏  | 561/782 [02:59<01:11,  3.11it/s]"
     ]
    },
    {
     "name": "stderr",
     "output_type": "stream",
     "text": [
      "\r",
      "Evaluating:  72%|███████▏  | 562/782 [02:59<01:10,  3.10it/s]"
     ]
    },
    {
     "name": "stderr",
     "output_type": "stream",
     "text": [
      "\r",
      "Evaluating:  72%|███████▏  | 563/782 [02:59<01:10,  3.10it/s]"
     ]
    },
    {
     "name": "stderr",
     "output_type": "stream",
     "text": [
      "\r",
      "Evaluating:  72%|███████▏  | 564/782 [03:00<01:10,  3.11it/s]"
     ]
    },
    {
     "name": "stderr",
     "output_type": "stream",
     "text": [
      "\r",
      "Evaluating:  72%|███████▏  | 565/782 [03:00<01:09,  3.11it/s]"
     ]
    },
    {
     "name": "stderr",
     "output_type": "stream",
     "text": [
      "\r",
      "Evaluating:  72%|███████▏  | 566/782 [03:00<01:09,  3.11it/s]"
     ]
    },
    {
     "name": "stderr",
     "output_type": "stream",
     "text": [
      "\r",
      "Evaluating:  73%|███████▎  | 567/782 [03:01<01:09,  3.11it/s]"
     ]
    },
    {
     "name": "stderr",
     "output_type": "stream",
     "text": [
      "\r",
      "Evaluating:  73%|███████▎  | 568/782 [03:01<01:08,  3.11it/s]"
     ]
    },
    {
     "name": "stderr",
     "output_type": "stream",
     "text": [
      "\r",
      "Evaluating:  73%|███████▎  | 569/782 [03:01<01:08,  3.11it/s]"
     ]
    },
    {
     "name": "stderr",
     "output_type": "stream",
     "text": [
      "\r",
      "Evaluating:  73%|███████▎  | 570/782 [03:02<01:08,  3.11it/s]"
     ]
    },
    {
     "name": "stderr",
     "output_type": "stream",
     "text": [
      "\r",
      "Evaluating:  73%|███████▎  | 571/782 [03:02<01:07,  3.10it/s]"
     ]
    },
    {
     "name": "stderr",
     "output_type": "stream",
     "text": [
      "\r",
      "Evaluating:  73%|███████▎  | 572/782 [03:02<01:07,  3.10it/s]"
     ]
    },
    {
     "name": "stderr",
     "output_type": "stream",
     "text": [
      "\r",
      "Evaluating:  73%|███████▎  | 573/782 [03:03<01:07,  3.11it/s]"
     ]
    },
    {
     "name": "stderr",
     "output_type": "stream",
     "text": [
      "\r",
      "Evaluating:  73%|███████▎  | 574/782 [03:03<01:06,  3.11it/s]"
     ]
    },
    {
     "name": "stderr",
     "output_type": "stream",
     "text": [
      "\r",
      "Evaluating:  74%|███████▎  | 575/782 [03:03<01:06,  3.12it/s]"
     ]
    },
    {
     "name": "stderr",
     "output_type": "stream",
     "text": [
      "\r",
      "Evaluating:  74%|███████▎  | 576/782 [03:03<01:06,  3.12it/s]"
     ]
    },
    {
     "name": "stderr",
     "output_type": "stream",
     "text": [
      "\r",
      "Evaluating:  74%|███████▍  | 577/782 [03:04<01:05,  3.12it/s]"
     ]
    },
    {
     "name": "stderr",
     "output_type": "stream",
     "text": [
      "\r",
      "Evaluating:  74%|███████▍  | 578/782 [03:04<01:05,  3.11it/s]"
     ]
    },
    {
     "name": "stderr",
     "output_type": "stream",
     "text": [
      "\r",
      "Evaluating:  74%|███████▍  | 579/782 [03:04<01:05,  3.11it/s]"
     ]
    },
    {
     "name": "stderr",
     "output_type": "stream",
     "text": [
      "\r",
      "Evaluating:  74%|███████▍  | 580/782 [03:05<01:04,  3.11it/s]"
     ]
    },
    {
     "name": "stderr",
     "output_type": "stream",
     "text": [
      "\r",
      "Evaluating:  74%|███████▍  | 581/782 [03:05<01:04,  3.11it/s]"
     ]
    },
    {
     "name": "stderr",
     "output_type": "stream",
     "text": [
      "\r",
      "Evaluating:  74%|███████▍  | 582/782 [03:05<01:04,  3.11it/s]"
     ]
    },
    {
     "name": "stderr",
     "output_type": "stream",
     "text": [
      "\r",
      "Evaluating:  75%|███████▍  | 583/782 [03:06<01:03,  3.11it/s]"
     ]
    },
    {
     "name": "stderr",
     "output_type": "stream",
     "text": [
      "\r",
      "Evaluating:  75%|███████▍  | 584/782 [03:06<01:03,  3.11it/s]"
     ]
    },
    {
     "name": "stderr",
     "output_type": "stream",
     "text": [
      "\r",
      "Evaluating:  75%|███████▍  | 585/782 [03:06<01:03,  3.12it/s]"
     ]
    },
    {
     "name": "stderr",
     "output_type": "stream",
     "text": [
      "\r",
      "Evaluating:  75%|███████▍  | 586/782 [03:07<01:02,  3.11it/s]"
     ]
    },
    {
     "name": "stderr",
     "output_type": "stream",
     "text": [
      "\r",
      "Evaluating:  75%|███████▌  | 587/782 [03:07<01:02,  3.11it/s]"
     ]
    },
    {
     "name": "stderr",
     "output_type": "stream",
     "text": [
      "\r",
      "Evaluating:  75%|███████▌  | 588/782 [03:07<01:02,  3.11it/s]"
     ]
    },
    {
     "name": "stderr",
     "output_type": "stream",
     "text": [
      "\r",
      "Evaluating:  75%|███████▌  | 589/782 [03:08<01:01,  3.11it/s]"
     ]
    },
    {
     "name": "stderr",
     "output_type": "stream",
     "text": [
      "\r",
      "Evaluating:  75%|███████▌  | 590/782 [03:08<01:01,  3.11it/s]"
     ]
    },
    {
     "name": "stderr",
     "output_type": "stream",
     "text": [
      "\r",
      "Evaluating:  76%|███████▌  | 591/782 [03:08<01:01,  3.12it/s]"
     ]
    },
    {
     "name": "stderr",
     "output_type": "stream",
     "text": [
      "\r",
      "Evaluating:  76%|███████▌  | 592/782 [03:09<01:01,  3.11it/s]"
     ]
    },
    {
     "name": "stderr",
     "output_type": "stream",
     "text": [
      "\r",
      "Evaluating:  76%|███████▌  | 593/782 [03:09<01:00,  3.11it/s]"
     ]
    },
    {
     "name": "stderr",
     "output_type": "stream",
     "text": [
      "\r",
      "Evaluating:  76%|███████▌  | 594/782 [03:09<01:00,  3.11it/s]"
     ]
    },
    {
     "name": "stderr",
     "output_type": "stream",
     "text": [
      "\r",
      "Evaluating:  76%|███████▌  | 595/782 [03:10<01:00,  3.10it/s]"
     ]
    },
    {
     "name": "stderr",
     "output_type": "stream",
     "text": [
      "\r",
      "Evaluating:  76%|███████▌  | 596/782 [03:10<00:59,  3.11it/s]"
     ]
    },
    {
     "name": "stderr",
     "output_type": "stream",
     "text": [
      "\r",
      "Evaluating:  76%|███████▋  | 597/782 [03:10<00:59,  3.11it/s]"
     ]
    },
    {
     "name": "stderr",
     "output_type": "stream",
     "text": [
      "\r",
      "Evaluating:  76%|███████▋  | 598/782 [03:11<00:59,  3.11it/s]"
     ]
    },
    {
     "name": "stderr",
     "output_type": "stream",
     "text": [
      "\r",
      "Evaluating:  77%|███████▋  | 599/782 [03:11<00:58,  3.11it/s]"
     ]
    },
    {
     "name": "stderr",
     "output_type": "stream",
     "text": [
      "\r",
      "Evaluating:  77%|███████▋  | 600/782 [03:11<00:58,  3.11it/s]"
     ]
    },
    {
     "name": "stderr",
     "output_type": "stream",
     "text": [
      "\r",
      "Evaluating:  77%|███████▋  | 601/782 [03:12<00:58,  3.11it/s]"
     ]
    },
    {
     "name": "stderr",
     "output_type": "stream",
     "text": [
      "\r",
      "Evaluating:  77%|███████▋  | 602/782 [03:12<00:57,  3.10it/s]"
     ]
    },
    {
     "name": "stderr",
     "output_type": "stream",
     "text": [
      "\r",
      "Evaluating:  77%|███████▋  | 603/782 [03:12<00:57,  3.10it/s]"
     ]
    },
    {
     "name": "stderr",
     "output_type": "stream",
     "text": [
      "\r",
      "Evaluating:  77%|███████▋  | 604/782 [03:12<00:57,  3.10it/s]"
     ]
    },
    {
     "name": "stderr",
     "output_type": "stream",
     "text": [
      "\r",
      "Evaluating:  77%|███████▋  | 605/782 [03:13<00:56,  3.11it/s]"
     ]
    },
    {
     "name": "stderr",
     "output_type": "stream",
     "text": [
      "\r",
      "Evaluating:  77%|███████▋  | 606/782 [03:13<00:56,  3.11it/s]"
     ]
    },
    {
     "name": "stderr",
     "output_type": "stream",
     "text": [
      "\r",
      "Evaluating:  78%|███████▊  | 607/782 [03:13<00:56,  3.11it/s]"
     ]
    },
    {
     "name": "stderr",
     "output_type": "stream",
     "text": [
      "\r",
      "Evaluating:  78%|███████▊  | 608/782 [03:14<00:55,  3.11it/s]"
     ]
    },
    {
     "name": "stderr",
     "output_type": "stream",
     "text": [
      "\r",
      "Evaluating:  78%|███████▊  | 609/782 [03:14<00:55,  3.11it/s]"
     ]
    },
    {
     "name": "stderr",
     "output_type": "stream",
     "text": [
      "\r",
      "Evaluating:  78%|███████▊  | 610/782 [03:14<00:55,  3.11it/s]"
     ]
    },
    {
     "name": "stderr",
     "output_type": "stream",
     "text": [
      "\r",
      "Evaluating:  78%|███████▊  | 611/782 [03:15<00:54,  3.11it/s]"
     ]
    },
    {
     "name": "stderr",
     "output_type": "stream",
     "text": [
      "\r",
      "Evaluating:  78%|███████▊  | 612/782 [03:15<00:54,  3.11it/s]"
     ]
    },
    {
     "name": "stderr",
     "output_type": "stream",
     "text": [
      "\r",
      "Evaluating:  78%|███████▊  | 613/782 [03:15<00:54,  3.11it/s]"
     ]
    },
    {
     "name": "stderr",
     "output_type": "stream",
     "text": [
      "\r",
      "Evaluating:  79%|███████▊  | 614/782 [03:16<00:53,  3.11it/s]"
     ]
    },
    {
     "name": "stderr",
     "output_type": "stream",
     "text": [
      "\r",
      "Evaluating:  79%|███████▊  | 615/782 [03:16<00:53,  3.12it/s]"
     ]
    },
    {
     "name": "stderr",
     "output_type": "stream",
     "text": [
      "\r",
      "Evaluating:  79%|███████▉  | 616/782 [03:16<00:53,  3.12it/s]"
     ]
    },
    {
     "name": "stderr",
     "output_type": "stream",
     "text": [
      "\r",
      "Evaluating:  79%|███████▉  | 617/782 [03:17<00:52,  3.12it/s]"
     ]
    },
    {
     "name": "stderr",
     "output_type": "stream",
     "text": [
      "\r",
      "Evaluating:  79%|███████▉  | 618/782 [03:17<00:52,  3.12it/s]"
     ]
    },
    {
     "name": "stderr",
     "output_type": "stream",
     "text": [
      "\r",
      "Evaluating:  79%|███████▉  | 619/782 [03:17<00:52,  3.13it/s]"
     ]
    },
    {
     "name": "stderr",
     "output_type": "stream",
     "text": [
      "\r",
      "Evaluating:  79%|███████▉  | 620/782 [03:18<00:51,  3.12it/s]"
     ]
    },
    {
     "name": "stderr",
     "output_type": "stream",
     "text": [
      "\r",
      "Evaluating:  79%|███████▉  | 621/782 [03:18<00:51,  3.12it/s]"
     ]
    },
    {
     "name": "stderr",
     "output_type": "stream",
     "text": [
      "\r",
      "Evaluating:  80%|███████▉  | 622/782 [03:18<00:51,  3.12it/s]"
     ]
    },
    {
     "name": "stderr",
     "output_type": "stream",
     "text": [
      "\r",
      "Evaluating:  80%|███████▉  | 623/782 [03:19<00:51,  3.11it/s]"
     ]
    },
    {
     "name": "stderr",
     "output_type": "stream",
     "text": [
      "\r",
      "Evaluating:  80%|███████▉  | 624/782 [03:19<00:50,  3.11it/s]"
     ]
    },
    {
     "name": "stderr",
     "output_type": "stream",
     "text": [
      "\r",
      "Evaluating:  80%|███████▉  | 625/782 [03:19<00:50,  3.11it/s]"
     ]
    },
    {
     "name": "stderr",
     "output_type": "stream",
     "text": [
      "\r",
      "Evaluating:  80%|████████  | 626/782 [03:20<00:50,  3.10it/s]"
     ]
    },
    {
     "name": "stderr",
     "output_type": "stream",
     "text": [
      "\r",
      "Evaluating:  80%|████████  | 627/782 [03:20<00:49,  3.11it/s]"
     ]
    },
    {
     "name": "stderr",
     "output_type": "stream",
     "text": [
      "\r",
      "Evaluating:  80%|████████  | 628/782 [03:20<00:49,  3.12it/s]"
     ]
    },
    {
     "name": "stderr",
     "output_type": "stream",
     "text": [
      "\r",
      "Evaluating:  80%|████████  | 629/782 [03:21<00:49,  3.12it/s]"
     ]
    },
    {
     "name": "stderr",
     "output_type": "stream",
     "text": [
      "\r",
      "Evaluating:  81%|████████  | 630/782 [03:21<00:48,  3.12it/s]"
     ]
    },
    {
     "name": "stderr",
     "output_type": "stream",
     "text": [
      "\r",
      "Evaluating:  81%|████████  | 631/782 [03:21<00:48,  3.12it/s]"
     ]
    },
    {
     "name": "stderr",
     "output_type": "stream",
     "text": [
      "\r",
      "Evaluating:  81%|████████  | 632/782 [03:21<00:48,  3.12it/s]"
     ]
    },
    {
     "name": "stderr",
     "output_type": "stream",
     "text": [
      "\r",
      "Evaluating:  81%|████████  | 633/782 [03:22<00:47,  3.12it/s]"
     ]
    },
    {
     "name": "stderr",
     "output_type": "stream",
     "text": [
      "\r",
      "Evaluating:  81%|████████  | 634/782 [03:22<00:47,  3.12it/s]"
     ]
    },
    {
     "name": "stderr",
     "output_type": "stream",
     "text": [
      "\r",
      "Evaluating:  81%|████████  | 635/782 [03:22<00:47,  3.12it/s]"
     ]
    },
    {
     "name": "stderr",
     "output_type": "stream",
     "text": [
      "\r",
      "Evaluating:  81%|████████▏ | 636/782 [03:23<00:46,  3.11it/s]"
     ]
    },
    {
     "name": "stderr",
     "output_type": "stream",
     "text": [
      "\r",
      "Evaluating:  81%|████████▏ | 637/782 [03:23<00:46,  3.11it/s]"
     ]
    },
    {
     "name": "stderr",
     "output_type": "stream",
     "text": [
      "\r",
      "Evaluating:  82%|████████▏ | 638/782 [03:23<00:46,  3.11it/s]"
     ]
    },
    {
     "name": "stderr",
     "output_type": "stream",
     "text": [
      "\r",
      "Evaluating:  82%|████████▏ | 639/782 [03:24<00:46,  3.10it/s]"
     ]
    },
    {
     "name": "stderr",
     "output_type": "stream",
     "text": [
      "\r",
      "Evaluating:  82%|████████▏ | 640/782 [03:24<00:45,  3.11it/s]"
     ]
    },
    {
     "name": "stderr",
     "output_type": "stream",
     "text": [
      "\r",
      "Evaluating:  82%|████████▏ | 641/782 [03:24<00:45,  3.11it/s]"
     ]
    },
    {
     "name": "stderr",
     "output_type": "stream",
     "text": [
      "\r",
      "Evaluating:  82%|████████▏ | 642/782 [03:25<00:45,  3.11it/s]"
     ]
    },
    {
     "name": "stderr",
     "output_type": "stream",
     "text": [
      "\r",
      "Evaluating:  82%|████████▏ | 643/782 [03:25<00:44,  3.11it/s]"
     ]
    },
    {
     "name": "stderr",
     "output_type": "stream",
     "text": [
      "\r",
      "Evaluating:  82%|████████▏ | 644/782 [03:25<00:44,  3.11it/s]"
     ]
    },
    {
     "name": "stderr",
     "output_type": "stream",
     "text": [
      "\r",
      "Evaluating:  82%|████████▏ | 645/782 [03:26<00:43,  3.12it/s]"
     ]
    },
    {
     "name": "stderr",
     "output_type": "stream",
     "text": [
      "\r",
      "Evaluating:  83%|████████▎ | 646/782 [03:26<00:43,  3.12it/s]"
     ]
    },
    {
     "name": "stderr",
     "output_type": "stream",
     "text": [
      "\r",
      "Evaluating:  83%|████████▎ | 647/782 [03:26<00:43,  3.12it/s]"
     ]
    },
    {
     "name": "stderr",
     "output_type": "stream",
     "text": [
      "\r",
      "Evaluating:  83%|████████▎ | 648/782 [03:27<00:42,  3.12it/s]"
     ]
    },
    {
     "name": "stderr",
     "output_type": "stream",
     "text": [
      "\r",
      "Evaluating:  83%|████████▎ | 649/782 [03:27<00:42,  3.12it/s]"
     ]
    },
    {
     "name": "stderr",
     "output_type": "stream",
     "text": [
      "\r",
      "Evaluating:  83%|████████▎ | 650/782 [03:27<00:42,  3.12it/s]"
     ]
    },
    {
     "name": "stderr",
     "output_type": "stream",
     "text": [
      "\r",
      "Evaluating:  83%|████████▎ | 651/782 [03:28<00:41,  3.13it/s]"
     ]
    },
    {
     "name": "stderr",
     "output_type": "stream",
     "text": [
      "\r",
      "Evaluating:  83%|████████▎ | 652/782 [03:28<00:41,  3.12it/s]"
     ]
    },
    {
     "name": "stderr",
     "output_type": "stream",
     "text": [
      "\r",
      "Evaluating:  84%|████████▎ | 653/782 [03:28<00:41,  3.12it/s]"
     ]
    },
    {
     "name": "stderr",
     "output_type": "stream",
     "text": [
      "\r",
      "Evaluating:  84%|████████▎ | 654/782 [03:29<00:40,  3.12it/s]"
     ]
    },
    {
     "name": "stderr",
     "output_type": "stream",
     "text": [
      "\r",
      "Evaluating:  84%|████████▍ | 655/782 [03:29<00:40,  3.12it/s]"
     ]
    },
    {
     "name": "stderr",
     "output_type": "stream",
     "text": [
      "\r",
      "Evaluating:  84%|████████▍ | 656/782 [03:29<00:40,  3.11it/s]"
     ]
    },
    {
     "name": "stderr",
     "output_type": "stream",
     "text": [
      "\r",
      "Evaluating:  84%|████████▍ | 657/782 [03:29<00:40,  3.10it/s]"
     ]
    },
    {
     "name": "stderr",
     "output_type": "stream",
     "text": [
      "\r",
      "Evaluating:  84%|████████▍ | 658/782 [03:30<00:39,  3.10it/s]"
     ]
    },
    {
     "name": "stderr",
     "output_type": "stream",
     "text": [
      "\r",
      "Evaluating:  84%|████████▍ | 659/782 [03:30<00:39,  3.10it/s]"
     ]
    },
    {
     "name": "stderr",
     "output_type": "stream",
     "text": [
      "\r",
      "Evaluating:  84%|████████▍ | 660/782 [03:30<00:39,  3.10it/s]"
     ]
    },
    {
     "name": "stderr",
     "output_type": "stream",
     "text": [
      "\r",
      "Evaluating:  85%|████████▍ | 661/782 [03:31<00:38,  3.10it/s]"
     ]
    },
    {
     "name": "stderr",
     "output_type": "stream",
     "text": [
      "\r",
      "Evaluating:  85%|████████▍ | 662/782 [03:31<00:38,  3.10it/s]"
     ]
    },
    {
     "name": "stderr",
     "output_type": "stream",
     "text": [
      "\r",
      "Evaluating:  85%|████████▍ | 663/782 [03:31<00:38,  3.10it/s]"
     ]
    },
    {
     "name": "stderr",
     "output_type": "stream",
     "text": [
      "\r",
      "Evaluating:  85%|████████▍ | 664/782 [03:32<00:38,  3.10it/s]"
     ]
    },
    {
     "name": "stderr",
     "output_type": "stream",
     "text": [
      "\r",
      "Evaluating:  85%|████████▌ | 665/782 [03:32<00:37,  3.11it/s]"
     ]
    },
    {
     "name": "stderr",
     "output_type": "stream",
     "text": [
      "\r",
      "Evaluating:  85%|████████▌ | 666/782 [03:32<00:37,  3.10it/s]"
     ]
    },
    {
     "name": "stderr",
     "output_type": "stream",
     "text": [
      "\r",
      "Evaluating:  85%|████████▌ | 667/782 [03:33<00:37,  3.11it/s]"
     ]
    },
    {
     "name": "stderr",
     "output_type": "stream",
     "text": [
      "\r",
      "Evaluating:  85%|████████▌ | 668/782 [03:33<00:36,  3.11it/s]"
     ]
    },
    {
     "name": "stderr",
     "output_type": "stream",
     "text": [
      "\r",
      "Evaluating:  86%|████████▌ | 669/782 [03:33<00:36,  3.10it/s]"
     ]
    },
    {
     "name": "stderr",
     "output_type": "stream",
     "text": [
      "\r",
      "Evaluating:  86%|████████▌ | 670/782 [03:34<00:36,  3.10it/s]"
     ]
    },
    {
     "name": "stderr",
     "output_type": "stream",
     "text": [
      "\r",
      "Evaluating:  86%|████████▌ | 671/782 [03:34<00:35,  3.10it/s]"
     ]
    },
    {
     "name": "stderr",
     "output_type": "stream",
     "text": [
      "\r",
      "Evaluating:  86%|████████▌ | 672/782 [03:34<00:35,  3.10it/s]"
     ]
    },
    {
     "name": "stderr",
     "output_type": "stream",
     "text": [
      "\r",
      "Evaluating:  86%|████████▌ | 673/782 [03:35<00:35,  3.11it/s]"
     ]
    },
    {
     "name": "stderr",
     "output_type": "stream",
     "text": [
      "\r",
      "Evaluating:  86%|████████▌ | 674/782 [03:35<00:34,  3.10it/s]"
     ]
    },
    {
     "name": "stderr",
     "output_type": "stream",
     "text": [
      "\r",
      "Evaluating:  86%|████████▋ | 675/782 [03:35<00:34,  3.10it/s]"
     ]
    },
    {
     "name": "stderr",
     "output_type": "stream",
     "text": [
      "\r",
      "Evaluating:  86%|████████▋ | 676/782 [03:36<00:34,  3.10it/s]"
     ]
    },
    {
     "name": "stderr",
     "output_type": "stream",
     "text": [
      "\r",
      "Evaluating:  87%|████████▋ | 677/782 [03:36<00:33,  3.10it/s]"
     ]
    },
    {
     "name": "stderr",
     "output_type": "stream",
     "text": [
      "\r",
      "Evaluating:  87%|████████▋ | 678/782 [03:36<00:33,  3.10it/s]"
     ]
    },
    {
     "name": "stderr",
     "output_type": "stream",
     "text": [
      "\r",
      "Evaluating:  87%|████████▋ | 679/782 [03:37<00:33,  3.11it/s]"
     ]
    },
    {
     "name": "stderr",
     "output_type": "stream",
     "text": [
      "\r",
      "Evaluating:  87%|████████▋ | 680/782 [03:37<00:32,  3.11it/s]"
     ]
    },
    {
     "name": "stderr",
     "output_type": "stream",
     "text": [
      "\r",
      "Evaluating:  87%|████████▋ | 681/782 [03:37<00:32,  3.11it/s]"
     ]
    },
    {
     "name": "stderr",
     "output_type": "stream",
     "text": [
      "\r",
      "Evaluating:  87%|████████▋ | 682/782 [03:38<00:32,  3.11it/s]"
     ]
    },
    {
     "name": "stderr",
     "output_type": "stream",
     "text": [
      "\r",
      "Evaluating:  87%|████████▋ | 683/782 [03:38<00:31,  3.11it/s]"
     ]
    },
    {
     "name": "stderr",
     "output_type": "stream",
     "text": [
      "\r",
      "Evaluating:  87%|████████▋ | 684/782 [03:38<00:31,  3.11it/s]"
     ]
    },
    {
     "name": "stderr",
     "output_type": "stream",
     "text": [
      "\r",
      "Evaluating:  88%|████████▊ | 685/782 [03:39<00:31,  3.11it/s]"
     ]
    },
    {
     "name": "stderr",
     "output_type": "stream",
     "text": [
      "\r",
      "Evaluating:  88%|████████▊ | 686/782 [03:39<00:30,  3.10it/s]"
     ]
    },
    {
     "name": "stderr",
     "output_type": "stream",
     "text": [
      "\r",
      "Evaluating:  88%|████████▊ | 687/782 [03:39<00:30,  3.10it/s]"
     ]
    },
    {
     "name": "stderr",
     "output_type": "stream",
     "text": [
      "\r",
      "Evaluating:  88%|████████▊ | 688/782 [03:39<00:30,  3.10it/s]"
     ]
    },
    {
     "name": "stderr",
     "output_type": "stream",
     "text": [
      "\r",
      "Evaluating:  88%|████████▊ | 689/782 [03:40<00:29,  3.10it/s]"
     ]
    },
    {
     "name": "stderr",
     "output_type": "stream",
     "text": [
      "\r",
      "Evaluating:  88%|████████▊ | 690/782 [03:40<00:29,  3.10it/s]"
     ]
    },
    {
     "name": "stderr",
     "output_type": "stream",
     "text": [
      "\r",
      "Evaluating:  88%|████████▊ | 691/782 [03:40<00:28,  3.14it/s]"
     ]
    },
    {
     "name": "stderr",
     "output_type": "stream",
     "text": [
      "\r",
      "Evaluating:  88%|████████▊ | 692/782 [03:41<00:28,  3.17it/s]"
     ]
    },
    {
     "name": "stderr",
     "output_type": "stream",
     "text": [
      "\r",
      "Evaluating:  89%|████████▊ | 693/782 [03:41<00:27,  3.20it/s]"
     ]
    },
    {
     "name": "stderr",
     "output_type": "stream",
     "text": [
      "\r",
      "Evaluating:  89%|████████▊ | 694/782 [03:41<00:27,  3.21it/s]"
     ]
    },
    {
     "name": "stderr",
     "output_type": "stream",
     "text": [
      "\r",
      "Evaluating:  89%|████████▉ | 695/782 [03:42<00:26,  3.23it/s]"
     ]
    },
    {
     "name": "stderr",
     "output_type": "stream",
     "text": [
      "\r",
      "Evaluating:  89%|████████▉ | 696/782 [03:42<00:26,  3.23it/s]"
     ]
    },
    {
     "name": "stderr",
     "output_type": "stream",
     "text": [
      "\r",
      "Evaluating:  89%|████████▉ | 697/782 [03:42<00:26,  3.24it/s]"
     ]
    },
    {
     "name": "stderr",
     "output_type": "stream",
     "text": [
      "\r",
      "Evaluating:  89%|████████▉ | 698/782 [03:43<00:25,  3.24it/s]"
     ]
    },
    {
     "name": "stderr",
     "output_type": "stream",
     "text": [
      "\r",
      "Evaluating:  89%|████████▉ | 699/782 [03:43<00:25,  3.24it/s]"
     ]
    },
    {
     "name": "stderr",
     "output_type": "stream",
     "text": [
      "\r",
      "Evaluating:  90%|████████▉ | 700/782 [03:43<00:25,  3.24it/s]"
     ]
    },
    {
     "name": "stderr",
     "output_type": "stream",
     "text": [
      "\r",
      "Evaluating:  90%|████████▉ | 701/782 [03:44<00:25,  3.24it/s]"
     ]
    },
    {
     "name": "stderr",
     "output_type": "stream",
     "text": [
      "\r",
      "Evaluating:  90%|████████▉ | 702/782 [03:44<00:24,  3.24it/s]"
     ]
    },
    {
     "name": "stderr",
     "output_type": "stream",
     "text": [
      "\r",
      "Evaluating:  90%|████████▉ | 703/782 [03:44<00:24,  3.24it/s]"
     ]
    },
    {
     "name": "stderr",
     "output_type": "stream",
     "text": [
      "\r",
      "Evaluating:  90%|█████████ | 704/782 [03:44<00:24,  3.25it/s]"
     ]
    },
    {
     "name": "stderr",
     "output_type": "stream",
     "text": [
      "\r",
      "Evaluating:  90%|█████████ | 705/782 [03:45<00:23,  3.25it/s]"
     ]
    },
    {
     "name": "stderr",
     "output_type": "stream",
     "text": [
      "\r",
      "Evaluating:  90%|█████████ | 706/782 [03:45<00:23,  3.25it/s]"
     ]
    },
    {
     "name": "stderr",
     "output_type": "stream",
     "text": [
      "\r",
      "Evaluating:  90%|█████████ | 707/782 [03:45<00:23,  3.25it/s]"
     ]
    },
    {
     "name": "stderr",
     "output_type": "stream",
     "text": [
      "\r",
      "Evaluating:  91%|█████████ | 708/782 [03:46<00:22,  3.25it/s]"
     ]
    },
    {
     "name": "stderr",
     "output_type": "stream",
     "text": [
      "\r",
      "Evaluating:  91%|█████████ | 709/782 [03:46<00:22,  3.25it/s]"
     ]
    },
    {
     "name": "stderr",
     "output_type": "stream",
     "text": [
      "\r",
      "Evaluating:  91%|█████████ | 710/782 [03:46<00:22,  3.25it/s]"
     ]
    },
    {
     "name": "stderr",
     "output_type": "stream",
     "text": [
      "\r",
      "Evaluating:  91%|█████████ | 711/782 [03:47<00:21,  3.24it/s]"
     ]
    },
    {
     "name": "stderr",
     "output_type": "stream",
     "text": [
      "\r",
      "Evaluating:  91%|█████████ | 712/782 [03:47<00:21,  3.25it/s]"
     ]
    },
    {
     "name": "stderr",
     "output_type": "stream",
     "text": [
      "\r",
      "Evaluating:  91%|█████████ | 713/782 [03:47<00:21,  3.25it/s]"
     ]
    },
    {
     "name": "stderr",
     "output_type": "stream",
     "text": [
      "\r",
      "Evaluating:  91%|█████████▏| 714/782 [03:48<00:20,  3.25it/s]"
     ]
    },
    {
     "name": "stderr",
     "output_type": "stream",
     "text": [
      "\r",
      "Evaluating:  91%|█████████▏| 715/782 [03:48<00:20,  3.25it/s]"
     ]
    },
    {
     "name": "stderr",
     "output_type": "stream",
     "text": [
      "\r",
      "Evaluating:  92%|█████████▏| 716/782 [03:48<00:20,  3.25it/s]"
     ]
    },
    {
     "name": "stderr",
     "output_type": "stream",
     "text": [
      "\r",
      "Evaluating:  92%|█████████▏| 717/782 [03:48<00:20,  3.24it/s]"
     ]
    },
    {
     "name": "stderr",
     "output_type": "stream",
     "text": [
      "\r",
      "Evaluating:  92%|█████████▏| 718/782 [03:49<00:19,  3.24it/s]"
     ]
    },
    {
     "name": "stderr",
     "output_type": "stream",
     "text": [
      "\r",
      "Evaluating:  92%|█████████▏| 719/782 [03:49<00:19,  3.25it/s]"
     ]
    },
    {
     "name": "stderr",
     "output_type": "stream",
     "text": [
      "\r",
      "Evaluating:  92%|█████████▏| 720/782 [03:49<00:19,  3.25it/s]"
     ]
    },
    {
     "name": "stderr",
     "output_type": "stream",
     "text": [
      "\r",
      "Evaluating:  92%|█████████▏| 721/782 [03:50<00:18,  3.25it/s]"
     ]
    },
    {
     "name": "stderr",
     "output_type": "stream",
     "text": [
      "\r",
      "Evaluating:  92%|█████████▏| 722/782 [03:50<00:18,  3.25it/s]"
     ]
    },
    {
     "name": "stderr",
     "output_type": "stream",
     "text": [
      "\r",
      "Evaluating:  92%|█████████▏| 723/782 [03:50<00:18,  3.25it/s]"
     ]
    },
    {
     "name": "stderr",
     "output_type": "stream",
     "text": [
      "\r",
      "Evaluating:  93%|█████████▎| 724/782 [03:51<00:17,  3.25it/s]"
     ]
    },
    {
     "name": "stderr",
     "output_type": "stream",
     "text": [
      "\r",
      "Evaluating:  93%|█████████▎| 725/782 [03:51<00:17,  3.25it/s]"
     ]
    },
    {
     "name": "stderr",
     "output_type": "stream",
     "text": [
      "\r",
      "Evaluating:  93%|█████████▎| 726/782 [03:51<00:17,  3.25it/s]"
     ]
    },
    {
     "name": "stderr",
     "output_type": "stream",
     "text": [
      "\r",
      "Evaluating:  93%|█████████▎| 727/782 [03:52<00:16,  3.25it/s]"
     ]
    },
    {
     "name": "stderr",
     "output_type": "stream",
     "text": [
      "\r",
      "Evaluating:  93%|█████████▎| 728/782 [03:52<00:16,  3.25it/s]"
     ]
    },
    {
     "name": "stderr",
     "output_type": "stream",
     "text": [
      "\r",
      "Evaluating:  93%|█████████▎| 729/782 [03:52<00:16,  3.25it/s]"
     ]
    },
    {
     "name": "stderr",
     "output_type": "stream",
     "text": [
      "\r",
      "Evaluating:  93%|█████████▎| 730/782 [03:52<00:16,  3.25it/s]"
     ]
    },
    {
     "name": "stderr",
     "output_type": "stream",
     "text": [
      "\r",
      "Evaluating:  93%|█████████▎| 731/782 [03:53<00:15,  3.25it/s]"
     ]
    },
    {
     "name": "stderr",
     "output_type": "stream",
     "text": [
      "\r",
      "Evaluating:  94%|█████████▎| 732/782 [03:53<00:15,  3.24it/s]"
     ]
    },
    {
     "name": "stderr",
     "output_type": "stream",
     "text": [
      "\r",
      "Evaluating:  94%|█████████▎| 733/782 [03:53<00:15,  3.24it/s]"
     ]
    },
    {
     "name": "stderr",
     "output_type": "stream",
     "text": [
      "\r",
      "Evaluating:  94%|█████████▍| 734/782 [03:54<00:14,  3.24it/s]"
     ]
    },
    {
     "name": "stderr",
     "output_type": "stream",
     "text": [
      "\r",
      "Evaluating:  94%|█████████▍| 735/782 [03:54<00:14,  3.24it/s]"
     ]
    },
    {
     "name": "stderr",
     "output_type": "stream",
     "text": [
      "\r",
      "Evaluating:  94%|█████████▍| 736/782 [03:54<00:14,  3.24it/s]"
     ]
    },
    {
     "name": "stderr",
     "output_type": "stream",
     "text": [
      "\r",
      "Evaluating:  94%|█████████▍| 737/782 [03:55<00:13,  3.24it/s]"
     ]
    },
    {
     "name": "stderr",
     "output_type": "stream",
     "text": [
      "\r",
      "Evaluating:  94%|█████████▍| 738/782 [03:55<00:13,  3.24it/s]"
     ]
    },
    {
     "name": "stderr",
     "output_type": "stream",
     "text": [
      "\r",
      "Evaluating:  95%|█████████▍| 739/782 [03:55<00:13,  3.24it/s]"
     ]
    },
    {
     "name": "stderr",
     "output_type": "stream",
     "text": [
      "\r",
      "Evaluating:  95%|█████████▍| 740/782 [03:56<00:12,  3.24it/s]"
     ]
    },
    {
     "name": "stderr",
     "output_type": "stream",
     "text": [
      "\r",
      "Evaluating:  95%|█████████▍| 741/782 [03:56<00:12,  3.24it/s]"
     ]
    },
    {
     "name": "stderr",
     "output_type": "stream",
     "text": [
      "\r",
      "Evaluating:  95%|█████████▍| 742/782 [03:56<00:12,  3.24it/s]"
     ]
    },
    {
     "name": "stderr",
     "output_type": "stream",
     "text": [
      "\r",
      "Evaluating:  95%|█████████▌| 743/782 [03:56<00:12,  3.24it/s]"
     ]
    },
    {
     "name": "stderr",
     "output_type": "stream",
     "text": [
      "\r",
      "Evaluating:  95%|█████████▌| 744/782 [03:57<00:11,  3.24it/s]"
     ]
    },
    {
     "name": "stderr",
     "output_type": "stream",
     "text": [
      "\r",
      "Evaluating:  95%|█████████▌| 745/782 [03:57<00:11,  3.23it/s]"
     ]
    },
    {
     "name": "stderr",
     "output_type": "stream",
     "text": [
      "\r",
      "Evaluating:  95%|█████████▌| 746/782 [03:57<00:11,  3.23it/s]"
     ]
    },
    {
     "name": "stderr",
     "output_type": "stream",
     "text": [
      "\r",
      "Evaluating:  96%|█████████▌| 747/782 [03:58<00:10,  3.24it/s]"
     ]
    },
    {
     "name": "stderr",
     "output_type": "stream",
     "text": [
      "\r",
      "Evaluating:  96%|█████████▌| 748/782 [03:58<00:10,  3.24it/s]"
     ]
    },
    {
     "name": "stderr",
     "output_type": "stream",
     "text": [
      "\r",
      "Evaluating:  96%|█████████▌| 749/782 [03:58<00:10,  3.24it/s]"
     ]
    },
    {
     "name": "stderr",
     "output_type": "stream",
     "text": [
      "\r",
      "Evaluating:  96%|█████████▌| 750/782 [03:59<00:09,  3.24it/s]"
     ]
    },
    {
     "name": "stderr",
     "output_type": "stream",
     "text": [
      "\r",
      "Evaluating:  96%|█████████▌| 751/782 [03:59<00:09,  3.24it/s]"
     ]
    },
    {
     "name": "stderr",
     "output_type": "stream",
     "text": [
      "\r",
      "Evaluating:  96%|█████████▌| 752/782 [03:59<00:09,  3.24it/s]"
     ]
    },
    {
     "name": "stderr",
     "output_type": "stream",
     "text": [
      "\r",
      "Evaluating:  96%|█████████▋| 753/782 [04:00<00:08,  3.23it/s]"
     ]
    },
    {
     "name": "stderr",
     "output_type": "stream",
     "text": [
      "\r",
      "Evaluating:  96%|█████████▋| 754/782 [04:00<00:08,  3.23it/s]"
     ]
    },
    {
     "name": "stderr",
     "output_type": "stream",
     "text": [
      "\r",
      "Evaluating:  97%|█████████▋| 755/782 [04:00<00:08,  3.23it/s]"
     ]
    },
    {
     "name": "stderr",
     "output_type": "stream",
     "text": [
      "\r",
      "Evaluating:  97%|█████████▋| 756/782 [04:00<00:08,  3.24it/s]"
     ]
    },
    {
     "name": "stderr",
     "output_type": "stream",
     "text": [
      "\r",
      "Evaluating:  97%|█████████▋| 757/782 [04:01<00:07,  3.24it/s]"
     ]
    },
    {
     "name": "stderr",
     "output_type": "stream",
     "text": [
      "\r",
      "Evaluating:  97%|█████████▋| 758/782 [04:01<00:07,  3.24it/s]"
     ]
    },
    {
     "name": "stderr",
     "output_type": "stream",
     "text": [
      "\r",
      "Evaluating:  97%|█████████▋| 759/782 [04:01<00:07,  3.24it/s]"
     ]
    },
    {
     "name": "stderr",
     "output_type": "stream",
     "text": [
      "\r",
      "Evaluating:  97%|█████████▋| 760/782 [04:02<00:06,  3.24it/s]"
     ]
    },
    {
     "name": "stderr",
     "output_type": "stream",
     "text": [
      "\r",
      "Evaluating:  97%|█████████▋| 761/782 [04:02<00:06,  3.24it/s]"
     ]
    },
    {
     "name": "stderr",
     "output_type": "stream",
     "text": [
      "\r",
      "Evaluating:  97%|█████████▋| 762/782 [04:02<00:06,  3.24it/s]"
     ]
    },
    {
     "name": "stderr",
     "output_type": "stream",
     "text": [
      "\r",
      "Evaluating:  98%|█████████▊| 763/782 [04:03<00:05,  3.24it/s]"
     ]
    },
    {
     "name": "stderr",
     "output_type": "stream",
     "text": [
      "\r",
      "Evaluating:  98%|█████████▊| 764/782 [04:03<00:05,  3.24it/s]"
     ]
    },
    {
     "name": "stderr",
     "output_type": "stream",
     "text": [
      "\r",
      "Evaluating:  98%|█████████▊| 765/782 [04:03<00:05,  3.24it/s]"
     ]
    },
    {
     "name": "stderr",
     "output_type": "stream",
     "text": [
      "\r",
      "Evaluating:  98%|█████████▊| 766/782 [04:04<00:04,  3.24it/s]"
     ]
    },
    {
     "name": "stderr",
     "output_type": "stream",
     "text": [
      "\r",
      "Evaluating:  98%|█████████▊| 767/782 [04:04<00:04,  3.24it/s]"
     ]
    },
    {
     "name": "stderr",
     "output_type": "stream",
     "text": [
      "\r",
      "Evaluating:  98%|█████████▊| 768/782 [04:04<00:04,  3.24it/s]"
     ]
    },
    {
     "name": "stderr",
     "output_type": "stream",
     "text": [
      "\r",
      "Evaluating:  98%|█████████▊| 769/782 [04:04<00:04,  3.24it/s]"
     ]
    },
    {
     "name": "stderr",
     "output_type": "stream",
     "text": [
      "\r",
      "Evaluating:  98%|█████████▊| 770/782 [04:05<00:03,  3.25it/s]"
     ]
    },
    {
     "name": "stderr",
     "output_type": "stream",
     "text": [
      "\r",
      "Evaluating:  99%|█████████▊| 771/782 [04:05<00:03,  3.25it/s]"
     ]
    },
    {
     "name": "stderr",
     "output_type": "stream",
     "text": [
      "\r",
      "Evaluating:  99%|█████████▊| 772/782 [04:05<00:03,  3.25it/s]"
     ]
    },
    {
     "name": "stderr",
     "output_type": "stream",
     "text": [
      "\r",
      "Evaluating:  99%|█████████▉| 773/782 [04:06<00:02,  3.25it/s]"
     ]
    },
    {
     "name": "stderr",
     "output_type": "stream",
     "text": [
      "\r",
      "Evaluating:  99%|█████████▉| 774/782 [04:06<00:02,  3.25it/s]"
     ]
    },
    {
     "name": "stderr",
     "output_type": "stream",
     "text": [
      "\r",
      "Evaluating:  99%|█████████▉| 775/782 [04:06<00:02,  3.25it/s]"
     ]
    },
    {
     "name": "stderr",
     "output_type": "stream",
     "text": [
      "\r",
      "Evaluating:  99%|█████████▉| 776/782 [04:07<00:01,  3.25it/s]"
     ]
    },
    {
     "name": "stderr",
     "output_type": "stream",
     "text": [
      "\r",
      "Evaluating:  99%|█████████▉| 777/782 [04:07<00:01,  3.25it/s]"
     ]
    },
    {
     "name": "stderr",
     "output_type": "stream",
     "text": [
      "\r",
      "Evaluating:  99%|█████████▉| 778/782 [04:07<00:01,  3.24it/s]"
     ]
    },
    {
     "name": "stderr",
     "output_type": "stream",
     "text": [
      "\r",
      "Evaluating: 100%|█████████▉| 779/782 [04:08<00:00,  3.24it/s]"
     ]
    },
    {
     "name": "stderr",
     "output_type": "stream",
     "text": [
      "\r",
      "Evaluating: 100%|█████████▉| 780/782 [04:08<00:00,  3.24it/s]"
     ]
    },
    {
     "name": "stderr",
     "output_type": "stream",
     "text": [
      "\r",
      "Evaluating: 100%|█████████▉| 781/782 [04:08<00:00,  3.24it/s]"
     ]
    },
    {
     "name": "stderr",
     "output_type": "stream",
     "text": [
      "\r",
      "Evaluating: 100%|██████████| 782/782 [04:08<00:00,  3.14it/s]"
     ]
    },
    {
     "name": "stderr",
     "output_type": "stream",
     "text": [
      "\n"
     ]
    },
    {
     "name": "stdout",
     "output_type": "stream",
     "text": [
      "Loss: 0.3447"
     ]
    },
    {
     "name": "stdout",
     "output_type": "stream",
     "text": [
      "\n"
     ]
    },
    {
     "name": "stdout",
     "output_type": "stream",
     "text": [
      "Precision: 0.9161, Recall: 0.9114, F1-Score: 0.9112"
     ]
    },
    {
     "name": "stdout",
     "output_type": "stream",
     "text": [
      "\n"
     ]
    },
    {
     "name": "stdout",
     "output_type": "stream",
     "text": [
      "              precision    recall  f1-score   support\n",
      "\n",
      "           0       0.87      0.96      0.92     12500\n",
      "           1       0.96      0.86      0.91     12500\n",
      "\n",
      "    accuracy                           0.91     25000\n",
      "   macro avg       0.92      0.91      0.91     25000\n",
      "weighted avg       0.92      0.91      0.91     25000\n"
     ]
    },
    {
     "name": "stdout",
     "output_type": "stream",
     "text": [
      "\n"
     ]
    }
   ],
   "source": [
    "module = copy.deepcopy(model)\n",
    "prune_wanda(module, model_config, all_samples, sparsity_ratio=wanda_ratio, include_layers=include_layers, exclude_layers=exclude_layers)\n",
    "print(\"Evaluate the pruned model\")\n",
    "result = evaluate_model(module, model_config, test_dataloader)\n",
    "# save_module(module, \"Modules/\", f\"wanda_{name}_{wanda_ratio}p.pt\")"
   ]
  },
  {
   "cell_type": "code",
   "execution_count": 11,
   "id": "cd3c1423-9a76-4a7d-bec7-aae97284cf65",
   "metadata": {
    "execution": {
     "iopub.execute_input": "2024-08-19T05:29:51.780459Z",
     "iopub.status.busy": "2024-08-19T05:29:51.780271Z",
     "iopub.status.idle": "2024-08-19T05:30:06.740514Z",
     "shell.execute_reply": "2024-08-19T05:30:06.739701Z"
    },
    "papermill": {
     "duration": 15.002802,
     "end_time": "2024-08-19T05:30:06.741873",
     "exception": false,
     "start_time": "2024-08-19T05:29:51.739071",
     "status": "completed"
    },
    "tags": []
   },
   "outputs": [
    {
     "name": "stdout",
     "output_type": "stream",
     "text": [
      "--0--"
     ]
    },
    {
     "name": "stdout",
     "output_type": "stream",
     "text": [
      "\n"
     ]
    },
    {
     "name": "stdout",
     "output_type": "stream",
     "text": [
      "adding eps to diagonal and taking inverse"
     ]
    },
    {
     "name": "stdout",
     "output_type": "stream",
     "text": [
      "\n"
     ]
    },
    {
     "name": "stdout",
     "output_type": "stream",
     "text": [
      "taking square root"
     ]
    },
    {
     "name": "stdout",
     "output_type": "stream",
     "text": [
      "\n"
     ]
    },
    {
     "name": "stdout",
     "output_type": "stream",
     "text": [
      "dot products..."
     ]
    },
    {
     "name": "stdout",
     "output_type": "stream",
     "text": [
      "\n"
     ]
    },
    {
     "name": "stdout",
     "output_type": "stream",
     "text": [
      "trying to take final svd"
     ]
    },
    {
     "name": "stdout",
     "output_type": "stream",
     "text": [
      "\n"
     ]
    },
    {
     "name": "stdout",
     "output_type": "stream",
     "text": [
      "computed everything!"
     ]
    },
    {
     "name": "stdout",
     "output_type": "stream",
     "text": [
      "\n"
     ]
    },
    {
     "name": "stdout",
     "output_type": "stream",
     "text": [
      "adding eps to diagonal and taking inverse"
     ]
    },
    {
     "name": "stdout",
     "output_type": "stream",
     "text": [
      "\n"
     ]
    },
    {
     "name": "stdout",
     "output_type": "stream",
     "text": [
      "taking square root"
     ]
    },
    {
     "name": "stdout",
     "output_type": "stream",
     "text": [
      "\n"
     ]
    },
    {
     "name": "stdout",
     "output_type": "stream",
     "text": [
      "dot products..."
     ]
    },
    {
     "name": "stdout",
     "output_type": "stream",
     "text": [
      "\n"
     ]
    },
    {
     "name": "stdout",
     "output_type": "stream",
     "text": [
      "trying to take final svd"
     ]
    },
    {
     "name": "stdout",
     "output_type": "stream",
     "text": [
      "\n"
     ]
    },
    {
     "name": "stdout",
     "output_type": "stream",
     "text": [
      "computed everything!"
     ]
    },
    {
     "name": "stdout",
     "output_type": "stream",
     "text": [
      "\n"
     ]
    },
    {
     "name": "stdout",
     "output_type": "stream",
     "text": [
      "CCA coefficients mean concern: (0.7339652333371398, 0.7339652333371398)"
     ]
    },
    {
     "name": "stdout",
     "output_type": "stream",
     "text": [
      "\n"
     ]
    },
    {
     "name": "stdout",
     "output_type": "stream",
     "text": [
      "CCA coefficients mean non-concern: (0.7336263489860508, 0.7336263489860508)"
     ]
    },
    {
     "name": "stdout",
     "output_type": "stream",
     "text": [
      "\n"
     ]
    },
    {
     "name": "stdout",
     "output_type": "stream",
     "text": [
      "Linear CKA concern: 0.8941139263757744"
     ]
    },
    {
     "name": "stdout",
     "output_type": "stream",
     "text": [
      "\n"
     ]
    },
    {
     "name": "stdout",
     "output_type": "stream",
     "text": [
      "Linear CKA non-concern: 0.792017016510988"
     ]
    },
    {
     "name": "stdout",
     "output_type": "stream",
     "text": [
      "\n"
     ]
    },
    {
     "name": "stdout",
     "output_type": "stream",
     "text": [
      "Kernel CKA concern: 0.8870162961717925"
     ]
    },
    {
     "name": "stdout",
     "output_type": "stream",
     "text": [
      "\n"
     ]
    },
    {
     "name": "stdout",
     "output_type": "stream",
     "text": [
      "Kernel CKA non-concern: 0.8188912633739109"
     ]
    },
    {
     "name": "stdout",
     "output_type": "stream",
     "text": [
      "\n"
     ]
    },
    {
     "name": "stdout",
     "output_type": "stream",
     "text": [
      "--1--"
     ]
    },
    {
     "name": "stdout",
     "output_type": "stream",
     "text": [
      "\n"
     ]
    },
    {
     "name": "stdout",
     "output_type": "stream",
     "text": [
      "adding eps to diagonal and taking inverse"
     ]
    },
    {
     "name": "stdout",
     "output_type": "stream",
     "text": [
      "\n"
     ]
    },
    {
     "name": "stdout",
     "output_type": "stream",
     "text": [
      "taking square root"
     ]
    },
    {
     "name": "stdout",
     "output_type": "stream",
     "text": [
      "\n"
     ]
    },
    {
     "name": "stdout",
     "output_type": "stream",
     "text": [
      "dot products..."
     ]
    },
    {
     "name": "stdout",
     "output_type": "stream",
     "text": [
      "\n"
     ]
    },
    {
     "name": "stdout",
     "output_type": "stream",
     "text": [
      "trying to take final svd"
     ]
    },
    {
     "name": "stdout",
     "output_type": "stream",
     "text": [
      "\n"
     ]
    },
    {
     "name": "stdout",
     "output_type": "stream",
     "text": [
      "computed everything!"
     ]
    },
    {
     "name": "stdout",
     "output_type": "stream",
     "text": [
      "\n"
     ]
    },
    {
     "name": "stdout",
     "output_type": "stream",
     "text": [
      "adding eps to diagonal and taking inverse"
     ]
    },
    {
     "name": "stdout",
     "output_type": "stream",
     "text": [
      "\n"
     ]
    },
    {
     "name": "stdout",
     "output_type": "stream",
     "text": [
      "taking square root"
     ]
    },
    {
     "name": "stdout",
     "output_type": "stream",
     "text": [
      "\n"
     ]
    },
    {
     "name": "stdout",
     "output_type": "stream",
     "text": [
      "dot products..."
     ]
    },
    {
     "name": "stdout",
     "output_type": "stream",
     "text": [
      "\n"
     ]
    },
    {
     "name": "stdout",
     "output_type": "stream",
     "text": [
      "trying to take final svd"
     ]
    },
    {
     "name": "stdout",
     "output_type": "stream",
     "text": [
      "\n"
     ]
    },
    {
     "name": "stdout",
     "output_type": "stream",
     "text": [
      "computed everything!"
     ]
    },
    {
     "name": "stdout",
     "output_type": "stream",
     "text": [
      "\n"
     ]
    },
    {
     "name": "stdout",
     "output_type": "stream",
     "text": [
      "CCA coefficients mean concern: (0.7336263489860508, 0.7336263489860508)"
     ]
    },
    {
     "name": "stdout",
     "output_type": "stream",
     "text": [
      "\n"
     ]
    },
    {
     "name": "stdout",
     "output_type": "stream",
     "text": [
      "CCA coefficients mean non-concern: (0.7339652333371398, 0.7339652333371398)"
     ]
    },
    {
     "name": "stdout",
     "output_type": "stream",
     "text": [
      "\n"
     ]
    },
    {
     "name": "stdout",
     "output_type": "stream",
     "text": [
      "Linear CKA concern: 0.792017016510988"
     ]
    },
    {
     "name": "stdout",
     "output_type": "stream",
     "text": [
      "\n"
     ]
    },
    {
     "name": "stdout",
     "output_type": "stream",
     "text": [
      "Linear CKA non-concern: 0.8941139263757744"
     ]
    },
    {
     "name": "stdout",
     "output_type": "stream",
     "text": [
      "\n"
     ]
    },
    {
     "name": "stdout",
     "output_type": "stream",
     "text": [
      "Kernel CKA concern: 0.8188912633739109"
     ]
    },
    {
     "name": "stdout",
     "output_type": "stream",
     "text": [
      "\n"
     ]
    },
    {
     "name": "stdout",
     "output_type": "stream",
     "text": [
      "Kernel CKA non-concern: 0.8870162961717925"
     ]
    },
    {
     "name": "stdout",
     "output_type": "stream",
     "text": [
      "\n"
     ]
    }
   ],
   "source": [
    "for concern in range(num_labels):\n",
    "    print(f\"--{concern}--\")\n",
    "    positive_samples = SamplingDataset(\n",
    "        train_dataloader, concern, num_samples, num_labels, True, 4, device=device, resample=False, seed=seed\n",
    "    )\n",
    "    negative_samples = SamplingDataset(\n",
    "        train_dataloader, concern, num_samples, num_labels, False, 4, device=device, resample=False, seed=seed\n",
    "    )\n",
    "    similar(model, module, valid_dataloader, concern, num_samples, num_labels, device=device, seed=seed)"
   ]
  },
  {
   "cell_type": "code",
   "execution_count": 12,
   "id": "5163bd33-5b99-487b-9099-ea53b46eaacd",
   "metadata": {
    "execution": {
     "iopub.execute_input": "2024-08-19T05:30:06.868110Z",
     "iopub.status.busy": "2024-08-19T05:30:06.866753Z",
     "iopub.status.idle": "2024-08-19T05:30:09.692121Z",
     "shell.execute_reply": "2024-08-19T05:30:09.691630Z"
    },
    "papermill": {
     "duration": 2.868771,
     "end_time": "2024-08-19T05:30:09.693328",
     "exception": false,
     "start_time": "2024-08-19T05:30:06.824557",
     "status": "completed"
    },
    "tags": []
   },
   "outputs": [
    {
     "data": {
      "text/plain": [
       "(0.4960572589120419,\n",
       " {'bert.encoder.layer.0.attention.self.query.weight': 0.5,\n",
       "  'bert.encoder.layer.0.attention.self.query.bias': 0.0,\n",
       "  'bert.encoder.layer.0.attention.self.key.weight': 0.5,\n",
       "  'bert.encoder.layer.0.attention.self.key.bias': 0.0,\n",
       "  'bert.encoder.layer.0.attention.self.value.weight': 0.5,\n",
       "  'bert.encoder.layer.0.attention.self.value.bias': 0.0,\n",
       "  'bert.encoder.layer.0.attention.output.dense.weight': 0.5,\n",
       "  'bert.encoder.layer.0.attention.output.dense.bias': 0.0,\n",
       "  'bert.encoder.layer.0.intermediate.dense.weight': 0.5,\n",
       "  'bert.encoder.layer.0.intermediate.dense.bias': 0.0,\n",
       "  'bert.encoder.layer.0.output.dense.weight': 0.5,\n",
       "  'bert.encoder.layer.0.output.dense.bias': 0.0,\n",
       "  'bert.encoder.layer.1.attention.self.query.weight': 0.5,\n",
       "  'bert.encoder.layer.1.attention.self.query.bias': 0.0,\n",
       "  'bert.encoder.layer.1.attention.self.key.weight': 0.5,\n",
       "  'bert.encoder.layer.1.attention.self.key.bias': 0.0,\n",
       "  'bert.encoder.layer.1.attention.self.value.weight': 0.5,\n",
       "  'bert.encoder.layer.1.attention.self.value.bias': 0.0,\n",
       "  'bert.encoder.layer.1.attention.output.dense.weight': 0.5,\n",
       "  'bert.encoder.layer.1.attention.output.dense.bias': 0.0,\n",
       "  'bert.encoder.layer.1.intermediate.dense.weight': 0.5,\n",
       "  'bert.encoder.layer.1.intermediate.dense.bias': 0.0,\n",
       "  'bert.encoder.layer.1.output.dense.weight': 0.5,\n",
       "  'bert.encoder.layer.1.output.dense.bias': 0.0,\n",
       "  'bert.encoder.layer.2.attention.self.query.weight': 0.5,\n",
       "  'bert.encoder.layer.2.attention.self.query.bias': 0.0,\n",
       "  'bert.encoder.layer.2.attention.self.key.weight': 0.5,\n",
       "  'bert.encoder.layer.2.attention.self.key.bias': 0.0,\n",
       "  'bert.encoder.layer.2.attention.self.value.weight': 0.5,\n",
       "  'bert.encoder.layer.2.attention.self.value.bias': 0.0,\n",
       "  'bert.encoder.layer.2.attention.output.dense.weight': 0.5,\n",
       "  'bert.encoder.layer.2.attention.output.dense.bias': 0.0,\n",
       "  'bert.encoder.layer.2.intermediate.dense.weight': 0.5,\n",
       "  'bert.encoder.layer.2.intermediate.dense.bias': 0.0,\n",
       "  'bert.encoder.layer.2.output.dense.weight': 0.5,\n",
       "  'bert.encoder.layer.2.output.dense.bias': 0.0,\n",
       "  'bert.encoder.layer.3.attention.self.query.weight': 0.5,\n",
       "  'bert.encoder.layer.3.attention.self.query.bias': 0.0,\n",
       "  'bert.encoder.layer.3.attention.self.key.weight': 0.5,\n",
       "  'bert.encoder.layer.3.attention.self.key.bias': 0.0,\n",
       "  'bert.encoder.layer.3.attention.self.value.weight': 0.5,\n",
       "  'bert.encoder.layer.3.attention.self.value.bias': 0.0,\n",
       "  'bert.encoder.layer.3.attention.output.dense.weight': 0.5,\n",
       "  'bert.encoder.layer.3.attention.output.dense.bias': 0.0,\n",
       "  'bert.encoder.layer.3.intermediate.dense.weight': 0.5,\n",
       "  'bert.encoder.layer.3.intermediate.dense.bias': 0.0,\n",
       "  'bert.encoder.layer.3.output.dense.weight': 0.5,\n",
       "  'bert.encoder.layer.3.output.dense.bias': 0.0,\n",
       "  'bert.encoder.layer.4.attention.self.query.weight': 0.5,\n",
       "  'bert.encoder.layer.4.attention.self.query.bias': 0.0,\n",
       "  'bert.encoder.layer.4.attention.self.key.weight': 0.5,\n",
       "  'bert.encoder.layer.4.attention.self.key.bias': 0.0,\n",
       "  'bert.encoder.layer.4.attention.self.value.weight': 0.5,\n",
       "  'bert.encoder.layer.4.attention.self.value.bias': 0.0,\n",
       "  'bert.encoder.layer.4.attention.output.dense.weight': 0.5,\n",
       "  'bert.encoder.layer.4.attention.output.dense.bias': 0.0,\n",
       "  'bert.encoder.layer.4.intermediate.dense.weight': 0.5,\n",
       "  'bert.encoder.layer.4.intermediate.dense.bias': 0.0,\n",
       "  'bert.encoder.layer.4.output.dense.weight': 0.5,\n",
       "  'bert.encoder.layer.4.output.dense.bias': 0.0,\n",
       "  'bert.encoder.layer.5.attention.self.query.weight': 0.5,\n",
       "  'bert.encoder.layer.5.attention.self.query.bias': 0.0,\n",
       "  'bert.encoder.layer.5.attention.self.key.weight': 0.5,\n",
       "  'bert.encoder.layer.5.attention.self.key.bias': 0.0,\n",
       "  'bert.encoder.layer.5.attention.self.value.weight': 0.5,\n",
       "  'bert.encoder.layer.5.attention.self.value.bias': 0.0,\n",
       "  'bert.encoder.layer.5.attention.output.dense.weight': 0.5,\n",
       "  'bert.encoder.layer.5.attention.output.dense.bias': 0.0,\n",
       "  'bert.encoder.layer.5.intermediate.dense.weight': 0.5,\n",
       "  'bert.encoder.layer.5.intermediate.dense.bias': 0.0,\n",
       "  'bert.encoder.layer.5.output.dense.weight': 0.5,\n",
       "  'bert.encoder.layer.5.output.dense.bias': 0.0,\n",
       "  'bert.encoder.layer.6.attention.self.query.weight': 0.5,\n",
       "  'bert.encoder.layer.6.attention.self.query.bias': 0.0,\n",
       "  'bert.encoder.layer.6.attention.self.key.weight': 0.5,\n",
       "  'bert.encoder.layer.6.attention.self.key.bias': 0.0,\n",
       "  'bert.encoder.layer.6.attention.self.value.weight': 0.5,\n",
       "  'bert.encoder.layer.6.attention.self.value.bias': 0.0,\n",
       "  'bert.encoder.layer.6.attention.output.dense.weight': 0.5,\n",
       "  'bert.encoder.layer.6.attention.output.dense.bias': 0.0,\n",
       "  'bert.encoder.layer.6.intermediate.dense.weight': 0.5,\n",
       "  'bert.encoder.layer.6.intermediate.dense.bias': 0.0,\n",
       "  'bert.encoder.layer.6.output.dense.weight': 0.5,\n",
       "  'bert.encoder.layer.6.output.dense.bias': 0.0,\n",
       "  'bert.encoder.layer.7.attention.self.query.weight': 0.5,\n",
       "  'bert.encoder.layer.7.attention.self.query.bias': 0.0,\n",
       "  'bert.encoder.layer.7.attention.self.key.weight': 0.5,\n",
       "  'bert.encoder.layer.7.attention.self.key.bias': 0.0,\n",
       "  'bert.encoder.layer.7.attention.self.value.weight': 0.5,\n",
       "  'bert.encoder.layer.7.attention.self.value.bias': 0.0,\n",
       "  'bert.encoder.layer.7.attention.output.dense.weight': 0.5,\n",
       "  'bert.encoder.layer.7.attention.output.dense.bias': 0.0,\n",
       "  'bert.encoder.layer.7.intermediate.dense.weight': 0.5,\n",
       "  'bert.encoder.layer.7.intermediate.dense.bias': 0.0,\n",
       "  'bert.encoder.layer.7.output.dense.weight': 0.5,\n",
       "  'bert.encoder.layer.7.output.dense.bias': 0.0,\n",
       "  'bert.encoder.layer.8.attention.self.query.weight': 0.5,\n",
       "  'bert.encoder.layer.8.attention.self.query.bias': 0.0,\n",
       "  'bert.encoder.layer.8.attention.self.key.weight': 0.5,\n",
       "  'bert.encoder.layer.8.attention.self.key.bias': 0.0,\n",
       "  'bert.encoder.layer.8.attention.self.value.weight': 0.5,\n",
       "  'bert.encoder.layer.8.attention.self.value.bias': 0.0,\n",
       "  'bert.encoder.layer.8.attention.output.dense.weight': 0.5,\n",
       "  'bert.encoder.layer.8.attention.output.dense.bias': 0.0,\n",
       "  'bert.encoder.layer.8.intermediate.dense.weight': 0.5,\n",
       "  'bert.encoder.layer.8.intermediate.dense.bias': 0.0,\n",
       "  'bert.encoder.layer.8.output.dense.weight': 0.5,\n",
       "  'bert.encoder.layer.8.output.dense.bias': 0.0,\n",
       "  'bert.encoder.layer.9.attention.self.query.weight': 0.5,\n",
       "  'bert.encoder.layer.9.attention.self.query.bias': 0.0,\n",
       "  'bert.encoder.layer.9.attention.self.key.weight': 0.5,\n",
       "  'bert.encoder.layer.9.attention.self.key.bias': 0.0,\n",
       "  'bert.encoder.layer.9.attention.self.value.weight': 0.5,\n",
       "  'bert.encoder.layer.9.attention.self.value.bias': 0.0,\n",
       "  'bert.encoder.layer.9.attention.output.dense.weight': 0.5,\n",
       "  'bert.encoder.layer.9.attention.output.dense.bias': 0.0,\n",
       "  'bert.encoder.layer.9.intermediate.dense.weight': 0.5,\n",
       "  'bert.encoder.layer.9.intermediate.dense.bias': 0.0,\n",
       "  'bert.encoder.layer.9.output.dense.weight': 0.5,\n",
       "  'bert.encoder.layer.9.output.dense.bias': 0.0,\n",
       "  'bert.encoder.layer.10.attention.self.query.weight': 0.5,\n",
       "  'bert.encoder.layer.10.attention.self.query.bias': 0.0,\n",
       "  'bert.encoder.layer.10.attention.self.key.weight': 0.5,\n",
       "  'bert.encoder.layer.10.attention.self.key.bias': 0.0,\n",
       "  'bert.encoder.layer.10.attention.self.value.weight': 0.5,\n",
       "  'bert.encoder.layer.10.attention.self.value.bias': 0.0,\n",
       "  'bert.encoder.layer.10.attention.output.dense.weight': 0.5,\n",
       "  'bert.encoder.layer.10.attention.output.dense.bias': 0.0,\n",
       "  'bert.encoder.layer.10.intermediate.dense.weight': 0.5,\n",
       "  'bert.encoder.layer.10.intermediate.dense.bias': 0.0,\n",
       "  'bert.encoder.layer.10.output.dense.weight': 0.5,\n",
       "  'bert.encoder.layer.10.output.dense.bias': 0.0,\n",
       "  'bert.encoder.layer.11.attention.self.query.weight': 0.5,\n",
       "  'bert.encoder.layer.11.attention.self.query.bias': 0.0,\n",
       "  'bert.encoder.layer.11.attention.self.key.weight': 0.5,\n",
       "  'bert.encoder.layer.11.attention.self.key.bias': 0.0,\n",
       "  'bert.encoder.layer.11.attention.self.value.weight': 0.5,\n",
       "  'bert.encoder.layer.11.attention.self.value.bias': 0.0,\n",
       "  'bert.encoder.layer.11.attention.output.dense.weight': 0.5,\n",
       "  'bert.encoder.layer.11.attention.output.dense.bias': 0.0,\n",
       "  'bert.encoder.layer.11.intermediate.dense.weight': 0.5,\n",
       "  'bert.encoder.layer.11.intermediate.dense.bias': 0.0,\n",
       "  'bert.encoder.layer.11.output.dense.weight': 0.5,\n",
       "  'bert.encoder.layer.11.output.dense.bias': 0.0,\n",
       "  'bert.pooler.dense.weight': 0.0,\n",
       "  'bert.pooler.dense.bias': 0.0,\n",
       "  'classifier.weight': 0.0,\n",
       "  'classifier.bias': 0.0})"
      ]
     },
     "execution_count": 12,
     "metadata": {},
     "output_type": "execute_result"
    }
   ],
   "source": [
    "get_sparsity(module)"
   ]
  }
 ],
 "metadata": {
  "kernelspec": {
   "display_name": "Python 3 (ipykernel)",
   "language": "python",
   "name": "python3"
  },
  "language_info": {
   "codemirror_mode": {
    "name": "ipython",
    "version": 3
   },
   "file_extension": ".py",
   "mimetype": "text/x-python",
   "name": "python",
   "nbconvert_exporter": "python",
   "pygments_lexer": "ipython3",
   "version": "3.11.7"
  },
  "papermill": {
   "default_parameters": {},
   "duration": 296.841217,
   "end_time": "2024-08-19T05:30:12.141012",
   "environment_variables": {},
   "exception": null,
   "input_path": "Getting_Started/ipynb/Prune by wanda/IMDB/Prune by wanda(50%).ipynb",
   "output_path": "Getting_Started/ipynb/Prune by wanda/IMDB/Prune by wanda(50%)_saved.ipynb",
   "parameters": {},
   "start_time": "2024-08-19T05:25:15.299795",
   "version": "2.6.0"
  }
 },
 "nbformat": 4,
 "nbformat_minor": 5
}
