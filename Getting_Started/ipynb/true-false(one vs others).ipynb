{
 "cells": [
  {
   "cell_type": "code",
   "execution_count": 1,
   "id": "8fb3adee-b6a8-41a4-a5c6-451fc0a3b0c6",
   "metadata": {
    "scrolled": true
   },
   "outputs": [
    {
     "ename": "ModuleNotFoundError",
     "evalue": "No module named 'utils'",
     "output_type": "error",
     "traceback": [
      "\u001B[0;31m---------------------------------------------------------------------------\u001B[0m",
      "\u001B[0;31mModuleNotFoundError\u001B[0m                       Traceback (most recent call last)",
      "Cell \u001B[0;32mIn[1], line 3\u001B[0m\n\u001B[1;32m      1\u001B[0m \u001B[38;5;28;01mimport\u001B[39;00m \u001B[38;5;21;01mcopy\u001B[39;00m\n\u001B[0;32m----> 3\u001B[0m \u001B[38;5;28;01mfrom\u001B[39;00m \u001B[38;5;21;01mutils\u001B[39;00m\u001B[38;5;21;01m.\u001B[39;00m\u001B[38;5;21;01mmodel_utils\u001B[39;00m\u001B[38;5;21;01m.\u001B[39;00m\u001B[38;5;21;01mevaluate\u001B[39;00m \u001B[38;5;28;01mimport\u001B[39;00m evaluate_model\n\u001B[1;32m      4\u001B[0m \u001B[38;5;28;01mfrom\u001B[39;00m \u001B[38;5;21;01mutils\u001B[39;00m\u001B[38;5;21;01m.\u001B[39;00m\u001B[38;5;21;01mmodel_utils\u001B[39;00m\u001B[38;5;21;01m.\u001B[39;00m\u001B[38;5;21;01mload_model\u001B[39;00m \u001B[38;5;28;01mimport\u001B[39;00m \u001B[38;5;241m*\u001B[39m\n\u001B[1;32m      5\u001B[0m \u001B[38;5;28;01mfrom\u001B[39;00m \u001B[38;5;21;01mutils\u001B[39;00m\u001B[38;5;21;01m.\u001B[39;00m\u001B[38;5;21;01mmodel_utils\u001B[39;00m\u001B[38;5;21;01m.\u001B[39;00m\u001B[38;5;21;01mmodel_config\u001B[39;00m \u001B[38;5;28;01mimport\u001B[39;00m ModelConfig\n",
      "\u001B[0;31mModuleNotFoundError\u001B[0m: No module named 'utils'"
     ]
    }
   ],
   "source": [
    "import copy\n",
    "import os.path\n",
    "import sys\n",
    "\n",
    "pwd = os.getcwd()\n",
    "sys.path.append(os.path.dirname(pwd))\n",
    "\n",
    "from utils.model_utils.evaluate import evaluate_model\n",
    "from utils.model_utils.load_model import *\n",
    "from utils.model_utils.model_config import ModelConfig\n",
    "from utils.dataset_utils.load_dataset import load_data\n",
    "from utils.decompose_utils.weight_remover import WeightRemoverBert\n",
    "from utils.decompose_utils.concern_identification import ConcernIdentificationBert\n",
    "from utils.decompose_utils.tangling_identification import TanglingIdentification\n",
    "from transformers import AutoConfig\n",
    "from utils.model_utils.save_module import save_module\n",
    "from datetime import datetime\n",
    "from utils.decompose_utils.concern_modularization import ConcernModularizationBert\n",
    "from utils.decompose_utils.sampling import sampling_class\n",
    "from utils.dataset_utils.load_dataset import convert_dataset_labels_to_binary, extract_and_convert_dataloader\n",
    "import torch\n"
   ]
  },
  {
   "cell_type": "code",
   "execution_count": 2,
   "id": "d7afe56f-8008-4c64-8a48-49b3965aa7e4",
   "metadata": {},
   "outputs": [],
   "source": [
    "model_name = \"sadickam/sdg-classification-bert\"\n",
    "model_type = \"pretrained\"\n",
    "data = \"OSDG\"\n",
    "num_labels = 16\n",
    "\n",
    "\n",
    "# model_name = \"textattack/bert-base-uncased-imdb\"\n",
    "# model_type = \"pretrained\"\n",
    "# data = \"IMDb\"\n",
    "# num_labels = 2\n",
    "\n",
    "# model_name = \"fabriceyhc/bert-base-uncased-yahoo_answers_topics\"\n",
    "# model_type = \"pretrained\"\n",
    "# data = \"Yahoo\"\n",
    "# num_labels = 10"
   ]
  },
  {
   "cell_type": "code",
   "execution_count": 3,
   "id": "0bbf7f78-d3d8-487f-bf64-fec60116c64d",
   "metadata": {},
   "outputs": [],
   "source": [
    "device = torch.device(\"cuda:0\" if torch.cuda.is_available() else \"cpu\")\n",
    "# device = torch.device(\"cuda:1\" if torch.cuda.is_available() else \"cpu\")\n",
    "\n",
    "checkpoint_name = None\n",
    "config = AutoConfig.from_pretrained(model_name, num_labels=num_labels)\n",
    "model_config = ModelConfig(\n",
    "    _model_name=model_name,\n",
    "    _model_type=model_type,\n",
    "    _data=data,\n",
    "    _transformer_config=config,\n",
    "    _checkpoint_name=checkpoint_name,\n",
    "    _device=device,\n",
    ")\n"
   ]
  },
  {
   "cell_type": "code",
   "execution_count": 4,
   "id": "d1711493-8f25-4305-b4f7-e59673d56956",
   "metadata": {},
   "outputs": [
    {
     "name": "stdout",
     "output_type": "stream",
     "text": [
      "Directory /home/Minwoo/LESN/Decompose/DecomposeBERT/Models/Configs/pretrained/sadickam/sdg-classification-bert exists.\n",
      "Loading the model.\n",
      "Start Time:00:35:28\n",
      "#Module 0 in progress....\n",
      "origin\n"
     ]
    },
    {
     "name": "stderr",
     "output_type": "stream",
     "text": [
      "Evaluating: 100%|██████████| 400/400 [01:34<00:00,  4.24it/s]\n"
     ]
    },
    {
     "name": "stdout",
     "output_type": "stream",
     "text": [
      "Loss: 0.9480\n",
      "Precision: 0.7801, Recall: 0.7867, F1-Score: 0.7793\n",
      "              precision    recall  f1-score   support\n",
      "\n",
      "           0       0.77      0.66      0.71       797\n",
      "           1       0.84      0.72      0.78       775\n",
      "           2       0.88      0.87      0.88       795\n",
      "           3       0.87      0.83      0.85      1110\n",
      "           4       0.86      0.80      0.83      1260\n",
      "           5       0.88      0.69      0.77       882\n",
      "           6       0.85      0.80      0.83       940\n",
      "           7       0.49      0.61      0.54       473\n",
      "           8       0.66      0.85      0.74       746\n",
      "           9       0.62      0.73      0.67       689\n",
      "          10       0.75      0.79      0.77       670\n",
      "          11       0.62      0.81      0.70       312\n",
      "          12       0.73      0.81      0.77       665\n",
      "          13       0.83      0.85      0.84       314\n",
      "          14       0.85      0.78      0.81       756\n",
      "          15       0.97      0.98      0.97      1607\n",
      "\n",
      "    accuracy                           0.80     12791\n",
      "   macro avg       0.78      0.79      0.78     12791\n",
      "weighted avg       0.81      0.80      0.80     12791\n",
      "\n",
      "Start Positive CI sparse\n",
      "Start Positive CI after sparse\n",
      "Start Negative TI\n",
      "dead node \n",
      "[1, 2, 7, 8, 9, 10, 12, 15]\n",
      "active node \n",
      "[0, 1, 2, 7, 9, 10, 12, 15]\n",
      "weight factor \n",
      "[0, 8, 12, 0, 0, 0, 0, 13, 8, 16, 15, 0, 11, 0, 0, 16]\n",
      "weight factor \n",
      "[16, 10, 12, 0, 0, 0, 0, 15, 0, 16, 14, 0, 8, 0, 0, 10]\n"
     ]
    },
    {
     "name": "stderr",
     "output_type": "stream",
     "text": [
      "Evaluating: 100%|██████████| 50/50 [00:11<00:00,  4.20it/s]\n"
     ]
    },
    {
     "name": "stdout",
     "output_type": "stream",
     "text": [
      "Loss: 0.4633\n",
      "Precision: 0.8135, Recall: 0.7679, F1-Score: 0.7591\n",
      "              precision    recall  f1-score   support\n",
      "\n",
      "           0       0.93      0.58      0.71       797\n",
      "           1       0.69      0.96      0.81       797\n",
      "\n",
      "    accuracy                           0.77      1594\n",
      "   macro avg       0.81      0.77      0.76      1594\n",
      "weighted avg       0.81      0.77      0.76      1594\n",
      "\n",
      "Directory /home/Minwoo/LESN/Decompose/DecomposeBERT/Models/Configs/pretrained/sadickam/sdg-classification-bert exists.\n",
      "Loading the model.\n",
      "Start Time:00:37:43\n",
      "#Module 1 in progress....\n",
      "origin\n"
     ]
    },
    {
     "name": "stderr",
     "output_type": "stream",
     "text": [
      "Evaluating: 100%|██████████| 400/400 [01:36<00:00,  4.14it/s]\n"
     ]
    },
    {
     "name": "stdout",
     "output_type": "stream",
     "text": [
      "Loss: 0.9480\n",
      "Precision: 0.7801, Recall: 0.7867, F1-Score: 0.7793\n",
      "              precision    recall  f1-score   support\n",
      "\n",
      "           0       0.77      0.66      0.71       797\n",
      "           1       0.84      0.72      0.78       775\n",
      "           2       0.88      0.87      0.88       795\n",
      "           3       0.87      0.83      0.85      1110\n",
      "           4       0.86      0.80      0.83      1260\n",
      "           5       0.88      0.69      0.77       882\n",
      "           6       0.85      0.80      0.83       940\n",
      "           7       0.49      0.61      0.54       473\n",
      "           8       0.66      0.85      0.74       746\n",
      "           9       0.62      0.73      0.67       689\n",
      "          10       0.75      0.79      0.77       670\n",
      "          11       0.62      0.81      0.70       312\n",
      "          12       0.73      0.81      0.77       665\n",
      "          13       0.83      0.85      0.84       314\n",
      "          14       0.85      0.78      0.81       756\n",
      "          15       0.97      0.98      0.97      1607\n",
      "\n",
      "    accuracy                           0.80     12791\n",
      "   macro avg       0.78      0.79      0.78     12791\n",
      "weighted avg       0.81      0.80      0.80     12791\n",
      "\n",
      "Start Positive CI sparse\n",
      "Start Positive CI after sparse\n",
      "Start Negative TI\n",
      "dead node \n",
      "[0, 2, 7, 8, 9, 10, 12, 15]\n",
      "active node \n",
      "[0, 1, 7, 8, 9, 10, 12, 15]\n",
      "weight factor \n",
      "[16, 0, 10, 0, 0, 0, 0, 12, 11, 16, 15, 0, 8, 0, 0, 16]\n",
      "weight factor \n",
      "[16, 16, 0, 0, 0, 0, 0, 13, 14, 16, 13, 0, 8, 0, 0, 16]\n"
     ]
    },
    {
     "name": "stderr",
     "output_type": "stream",
     "text": [
      "Evaluating: 100%|██████████| 49/49 [00:11<00:00,  4.21it/s]\n"
     ]
    },
    {
     "name": "stdout",
     "output_type": "stream",
     "text": [
      "Loss: 0.4213\n",
      "Precision: 0.8253, Recall: 0.8123, F1-Score: 0.8104\n",
      "              precision    recall  f1-score   support\n",
      "\n",
      "           0       0.89      0.71      0.79       775\n",
      "           1       0.76      0.91      0.83       775\n",
      "\n",
      "    accuracy                           0.81      1550\n",
      "   macro avg       0.83      0.81      0.81      1550\n",
      "weighted avg       0.83      0.81      0.81      1550\n",
      "\n",
      "Directory /home/Minwoo/LESN/Decompose/DecomposeBERT/Models/Configs/pretrained/sadickam/sdg-classification-bert exists.\n",
      "Loading the model.\n",
      "Start Time:00:40:01\n",
      "#Module 2 in progress....\n",
      "origin\n"
     ]
    },
    {
     "name": "stderr",
     "output_type": "stream",
     "text": [
      "Evaluating: 100%|██████████| 400/400 [01:36<00:00,  4.13it/s]\n"
     ]
    },
    {
     "name": "stdout",
     "output_type": "stream",
     "text": [
      "Loss: 0.9480\n",
      "Precision: 0.7801, Recall: 0.7867, F1-Score: 0.7793\n",
      "              precision    recall  f1-score   support\n",
      "\n",
      "           0       0.77      0.66      0.71       797\n",
      "           1       0.84      0.72      0.78       775\n",
      "           2       0.88      0.87      0.88       795\n",
      "           3       0.87      0.83      0.85      1110\n",
      "           4       0.86      0.80      0.83      1260\n",
      "           5       0.88      0.69      0.77       882\n",
      "           6       0.85      0.80      0.83       940\n",
      "           7       0.49      0.61      0.54       473\n",
      "           8       0.66      0.85      0.74       746\n",
      "           9       0.62      0.73      0.67       689\n",
      "          10       0.75      0.79      0.77       670\n",
      "          11       0.62      0.81      0.70       312\n",
      "          12       0.73      0.81      0.77       665\n",
      "          13       0.83      0.85      0.84       314\n",
      "          14       0.85      0.78      0.81       756\n",
      "          15       0.97      0.98      0.97      1607\n",
      "\n",
      "    accuracy                           0.80     12791\n",
      "   macro avg       0.78      0.79      0.78     12791\n",
      "weighted avg       0.81      0.80      0.80     12791\n",
      "\n",
      "Start Positive CI sparse\n",
      "Start Positive CI after sparse\n",
      "Start Negative TI\n",
      "dead node \n",
      "[0, 4, 7, 9, 10, 12, 15]\n",
      "active node \n",
      "[0, 2, 9, 10, 15]\n",
      "weight factor \n",
      "[16, 0, 0, 0, 8, 0, 0, 8, 0, 16, 13, 0, 11, 0, 0, 16]\n",
      "weight factor \n",
      "[16, 0, 16, 0, 0, 0, 0, 0, 0, 16, 16, 0, 0, 0, 0, 16]\n"
     ]
    },
    {
     "name": "stderr",
     "output_type": "stream",
     "text": [
      "Evaluating: 100%|██████████| 50/50 [00:11<00:00,  4.18it/s]\n"
     ]
    },
    {
     "name": "stdout",
     "output_type": "stream",
     "text": [
      "Loss: 0.3709\n",
      "Precision: 0.8148, Recall: 0.7723, F1-Score: 0.7644\n",
      "              precision    recall  f1-score   support\n",
      "\n",
      "           0       0.93      0.59      0.72       795\n",
      "           1       0.70      0.96      0.81       795\n",
      "\n",
      "    accuracy                           0.77      1590\n",
      "   macro avg       0.81      0.77      0.76      1590\n",
      "weighted avg       0.81      0.77      0.76      1590\n",
      "\n",
      "Directory /home/Minwoo/LESN/Decompose/DecomposeBERT/Models/Configs/pretrained/sadickam/sdg-classification-bert exists.\n",
      "Loading the model.\n",
      "Start Time:00:42:19\n",
      "#Module 3 in progress....\n",
      "origin\n"
     ]
    },
    {
     "name": "stderr",
     "output_type": "stream",
     "text": [
      "Evaluating: 100%|██████████| 400/400 [01:37<00:00,  4.11it/s]\n"
     ]
    },
    {
     "name": "stdout",
     "output_type": "stream",
     "text": [
      "Loss: 0.9480\n",
      "Precision: 0.7801, Recall: 0.7867, F1-Score: 0.7793\n",
      "              precision    recall  f1-score   support\n",
      "\n",
      "           0       0.77      0.66      0.71       797\n",
      "           1       0.84      0.72      0.78       775\n",
      "           2       0.88      0.87      0.88       795\n",
      "           3       0.87      0.83      0.85      1110\n",
      "           4       0.86      0.80      0.83      1260\n",
      "           5       0.88      0.69      0.77       882\n",
      "           6       0.85      0.80      0.83       940\n",
      "           7       0.49      0.61      0.54       473\n",
      "           8       0.66      0.85      0.74       746\n",
      "           9       0.62      0.73      0.67       689\n",
      "          10       0.75      0.79      0.77       670\n",
      "          11       0.62      0.81      0.70       312\n",
      "          12       0.73      0.81      0.77       665\n",
      "          13       0.83      0.85      0.84       314\n",
      "          14       0.85      0.78      0.81       756\n",
      "          15       0.97      0.98      0.97      1607\n",
      "\n",
      "    accuracy                           0.80     12791\n",
      "   macro avg       0.78      0.79      0.78     12791\n",
      "weighted avg       0.81      0.80      0.80     12791\n",
      "\n",
      "Start Positive CI sparse\n",
      "Start Positive CI after sparse\n",
      "Start Negative TI\n",
      "dead node \n",
      "[0, 1, 2, 5, 7, 8, 9, 10, 12, 14, 15]\n",
      "active node \n",
      "[0, 3, 8, 9, 10, 12, 15]\n",
      "weight factor \n",
      "[16, 11, 10, 0, 0, 9, 0, 10, 10, 16, 14, 0, 12, 0, 9, 16]\n",
      "weight factor \n",
      "[15, 0, 0, 16, 0, 0, 0, 0, 14, 16, 14, 0, 13, 0, 0, 16]\n"
     ]
    },
    {
     "name": "stderr",
     "output_type": "stream",
     "text": [
      "Evaluating: 100%|██████████| 70/70 [00:16<00:00,  4.17it/s]\n"
     ]
    },
    {
     "name": "stdout",
     "output_type": "stream",
     "text": [
      "Loss: 0.4903\n",
      "Precision: 0.7915, Recall: 0.7135, F1-Score: 0.6930\n",
      "              precision    recall  f1-score   support\n",
      "\n",
      "           0       0.94      0.45      0.61      1110\n",
      "           1       0.64      0.97      0.77      1110\n",
      "\n",
      "    accuracy                           0.71      2220\n",
      "   macro avg       0.79      0.71      0.69      2220\n",
      "weighted avg       0.79      0.71      0.69      2220\n",
      "\n",
      "Directory /home/Minwoo/LESN/Decompose/DecomposeBERT/Models/Configs/pretrained/sadickam/sdg-classification-bert exists.\n",
      "Loading the model.\n",
      "Start Time:00:44:40\n",
      "#Module 4 in progress....\n",
      "origin\n"
     ]
    },
    {
     "name": "stderr",
     "output_type": "stream",
     "text": [
      "Evaluating: 100%|██████████| 400/400 [01:37<00:00,  4.10it/s]\n"
     ]
    },
    {
     "name": "stdout",
     "output_type": "stream",
     "text": [
      "Loss: 0.9480\n",
      "Precision: 0.7801, Recall: 0.7867, F1-Score: 0.7793\n",
      "              precision    recall  f1-score   support\n",
      "\n",
      "           0       0.77      0.66      0.71       797\n",
      "           1       0.84      0.72      0.78       775\n",
      "           2       0.88      0.87      0.88       795\n",
      "           3       0.87      0.83      0.85      1110\n",
      "           4       0.86      0.80      0.83      1260\n",
      "           5       0.88      0.69      0.77       882\n",
      "           6       0.85      0.80      0.83       940\n",
      "           7       0.49      0.61      0.54       473\n",
      "           8       0.66      0.85      0.74       746\n",
      "           9       0.62      0.73      0.67       689\n",
      "          10       0.75      0.79      0.77       670\n",
      "          11       0.62      0.81      0.70       312\n",
      "          12       0.73      0.81      0.77       665\n",
      "          13       0.83      0.85      0.84       314\n",
      "          14       0.85      0.78      0.81       756\n",
      "          15       0.97      0.98      0.97      1607\n",
      "\n",
      "    accuracy                           0.80     12791\n",
      "   macro avg       0.78      0.79      0.78     12791\n",
      "weighted avg       0.81      0.80      0.80     12791\n",
      "\n",
      "Start Positive CI sparse\n",
      "Start Positive CI after sparse\n",
      "Start Negative TI\n",
      "dead node \n",
      "[0, 1, 5, 7, 8, 9, 10, 12, 15]\n",
      "active node \n",
      "[0, 4, 9, 10, 15]\n",
      "weight factor \n",
      "[16, 13, 0, 0, 0, 9, 0, 11, 8, 16, 13, 0, 12, 0, 0, 16]\n",
      "weight factor \n",
      "[16, 0, 0, 0, 16, 0, 0, 0, 0, 16, 13, 0, 0, 0, 0, 16]\n"
     ]
    },
    {
     "name": "stderr",
     "output_type": "stream",
     "text": [
      "Evaluating: 100%|██████████| 79/79 [00:19<00:00,  4.12it/s]\n"
     ]
    },
    {
     "name": "stdout",
     "output_type": "stream",
     "text": [
      "Loss: 0.5454\n",
      "Precision: 0.7878, Recall: 0.7258, F1-Score: 0.7102\n",
      "              precision    recall  f1-score   support\n",
      "\n",
      "           0       0.92      0.49      0.64      1260\n",
      "           1       0.65      0.96      0.78      1260\n",
      "\n",
      "    accuracy                           0.73      2520\n",
      "   macro avg       0.79      0.73      0.71      2520\n",
      "weighted avg       0.79      0.73      0.71      2520\n",
      "\n",
      "Directory /home/Minwoo/LESN/Decompose/DecomposeBERT/Models/Configs/pretrained/sadickam/sdg-classification-bert exists.\n",
      "Loading the model.\n",
      "Start Time:00:47:06\n",
      "#Module 5 in progress....\n",
      "origin\n"
     ]
    },
    {
     "name": "stderr",
     "output_type": "stream",
     "text": [
      "Evaluating: 100%|██████████| 400/400 [01:37<00:00,  4.09it/s]\n"
     ]
    },
    {
     "name": "stdout",
     "output_type": "stream",
     "text": [
      "Loss: 0.9480\n",
      "Precision: 0.7801, Recall: 0.7867, F1-Score: 0.7793\n",
      "              precision    recall  f1-score   support\n",
      "\n",
      "           0       0.77      0.66      0.71       797\n",
      "           1       0.84      0.72      0.78       775\n",
      "           2       0.88      0.87      0.88       795\n",
      "           3       0.87      0.83      0.85      1110\n",
      "           4       0.86      0.80      0.83      1260\n",
      "           5       0.88      0.69      0.77       882\n",
      "           6       0.85      0.80      0.83       940\n",
      "           7       0.49      0.61      0.54       473\n",
      "           8       0.66      0.85      0.74       746\n",
      "           9       0.62      0.73      0.67       689\n",
      "          10       0.75      0.79      0.77       670\n",
      "          11       0.62      0.81      0.70       312\n",
      "          12       0.73      0.81      0.77       665\n",
      "          13       0.83      0.85      0.84       314\n",
      "          14       0.85      0.78      0.81       756\n",
      "          15       0.97      0.98      0.97      1607\n",
      "\n",
      "    accuracy                           0.80     12791\n",
      "   macro avg       0.78      0.79      0.78     12791\n",
      "weighted avg       0.81      0.80      0.80     12791\n",
      "\n",
      "Start Positive CI sparse\n",
      "Start Positive CI after sparse\n",
      "Start Negative TI\n",
      "dead node \n",
      "[0, 1, 7, 8, 9, 10, 12, 15]\n",
      "active node \n",
      "[0, 1, 2, 5, 8, 9, 10, 12, 15]\n",
      "weight factor \n",
      "[16, 11, 0, 0, 0, 0, 0, 9, 9, 16, 16, 0, 15, 0, 0, 16]\n",
      "weight factor \n",
      "[16, 8, 14, 0, 0, 16, 0, 0, 10, 16, 16, 0, 16, 0, 0, 16]\n"
     ]
    },
    {
     "name": "stderr",
     "output_type": "stream",
     "text": [
      "Evaluating: 100%|██████████| 56/56 [00:13<00:00,  4.18it/s]\n"
     ]
    },
    {
     "name": "stdout",
     "output_type": "stream",
     "text": [
      "Loss: 0.4843\n",
      "Precision: 0.7807, Recall: 0.7755, F1-Score: 0.7745\n",
      "              precision    recall  f1-score   support\n",
      "\n",
      "           0       0.82      0.71      0.76       882\n",
      "           1       0.74      0.84      0.79       882\n",
      "\n",
      "    accuracy                           0.78      1764\n",
      "   macro avg       0.78      0.78      0.77      1764\n",
      "weighted avg       0.78      0.78      0.77      1764\n",
      "\n",
      "Directory /home/Minwoo/LESN/Decompose/DecomposeBERT/Models/Configs/pretrained/sadickam/sdg-classification-bert exists.\n",
      "Loading the model.\n",
      "Start Time:00:49:26\n",
      "#Module 6 in progress....\n",
      "origin\n"
     ]
    },
    {
     "name": "stderr",
     "output_type": "stream",
     "text": [
      "Evaluating: 100%|██████████| 400/400 [01:37<00:00,  4.09it/s]\n"
     ]
    },
    {
     "name": "stdout",
     "output_type": "stream",
     "text": [
      "Loss: 0.9480\n",
      "Precision: 0.7801, Recall: 0.7867, F1-Score: 0.7793\n",
      "              precision    recall  f1-score   support\n",
      "\n",
      "           0       0.77      0.66      0.71       797\n",
      "           1       0.84      0.72      0.78       775\n",
      "           2       0.88      0.87      0.88       795\n",
      "           3       0.87      0.83      0.85      1110\n",
      "           4       0.86      0.80      0.83      1260\n",
      "           5       0.88      0.69      0.77       882\n",
      "           6       0.85      0.80      0.83       940\n",
      "           7       0.49      0.61      0.54       473\n",
      "           8       0.66      0.85      0.74       746\n",
      "           9       0.62      0.73      0.67       689\n",
      "          10       0.75      0.79      0.77       670\n",
      "          11       0.62      0.81      0.70       312\n",
      "          12       0.73      0.81      0.77       665\n",
      "          13       0.83      0.85      0.84       314\n",
      "          14       0.85      0.78      0.81       756\n",
      "          15       0.97      0.98      0.97      1607\n",
      "\n",
      "    accuracy                           0.80     12791\n",
      "   macro avg       0.78      0.79      0.78     12791\n",
      "weighted avg       0.81      0.80      0.80     12791\n",
      "\n",
      "Start Positive CI sparse\n",
      "Start Positive CI after sparse\n",
      "Start Negative TI\n",
      "dead node \n",
      "[0, 1, 8, 9, 10, 12, 15]\n",
      "active node \n",
      "[0, 6, 8, 9, 10, 12, 15]\n",
      "weight factor \n",
      "[16, 8, 0, 0, 0, 0, 0, 0, 8, 16, 15, 0, 10, 0, 0, 16]\n",
      "weight factor \n",
      "[16, 0, 0, 0, 0, 0, 16, 0, 15, 16, 15, 0, 16, 0, 0, 16]\n"
     ]
    },
    {
     "name": "stderr",
     "output_type": "stream",
     "text": [
      "Evaluating: 100%|██████████| 59/59 [00:14<00:00,  4.13it/s]\n"
     ]
    },
    {
     "name": "stdout",
     "output_type": "stream",
     "text": [
      "Loss: 0.3790\n",
      "Precision: 0.8605, Recall: 0.8404, F1-Score: 0.8382\n",
      "              precision    recall  f1-score   support\n",
      "\n",
      "           0       0.95      0.72      0.82       940\n",
      "           1       0.78      0.96      0.86       940\n",
      "\n",
      "    accuracy                           0.84      1880\n",
      "   macro avg       0.86      0.84      0.84      1880\n",
      "weighted avg       0.86      0.84      0.84      1880\n",
      "\n",
      "Directory /home/Minwoo/LESN/Decompose/DecomposeBERT/Models/Configs/pretrained/sadickam/sdg-classification-bert exists.\n",
      "Loading the model.\n",
      "Start Time:00:51:46\n",
      "#Module 7 in progress....\n",
      "origin\n"
     ]
    },
    {
     "name": "stderr",
     "output_type": "stream",
     "text": [
      "Evaluating: 100%|██████████| 400/400 [01:38<00:00,  4.08it/s]\n"
     ]
    },
    {
     "name": "stdout",
     "output_type": "stream",
     "text": [
      "Loss: 0.9480\n",
      "Precision: 0.7801, Recall: 0.7867, F1-Score: 0.7793\n",
      "              precision    recall  f1-score   support\n",
      "\n",
      "           0       0.77      0.66      0.71       797\n",
      "           1       0.84      0.72      0.78       775\n",
      "           2       0.88      0.87      0.88       795\n",
      "           3       0.87      0.83      0.85      1110\n",
      "           4       0.86      0.80      0.83      1260\n",
      "           5       0.88      0.69      0.77       882\n",
      "           6       0.85      0.80      0.83       940\n",
      "           7       0.49      0.61      0.54       473\n",
      "           8       0.66      0.85      0.74       746\n",
      "           9       0.62      0.73      0.67       689\n",
      "          10       0.75      0.79      0.77       670\n",
      "          11       0.62      0.81      0.70       312\n",
      "          12       0.73      0.81      0.77       665\n",
      "          13       0.83      0.85      0.84       314\n",
      "          14       0.85      0.78      0.81       756\n",
      "          15       0.97      0.98      0.97      1607\n",
      "\n",
      "    accuracy                           0.80     12791\n",
      "   macro avg       0.78      0.79      0.78     12791\n",
      "weighted avg       0.81      0.80      0.80     12791\n",
      "\n",
      "Start Positive CI sparse\n",
      "Start Positive CI after sparse\n",
      "Start Negative TI\n",
      "dead node \n",
      "[0, 1, 2, 8, 9, 10, 15]\n",
      "active node \n",
      "[0, 1, 2, 7, 9, 10, 15]\n",
      "weight factor \n",
      "[16, 8, 8, 0, 0, 0, 0, 0, 8, 16, 15, 0, 0, 0, 0, 16]\n",
      "weight factor \n",
      "[16, 8, 10, 0, 0, 0, 0, 16, 0, 16, 16, 0, 0, 0, 0, 16]\n"
     ]
    },
    {
     "name": "stderr",
     "output_type": "stream",
     "text": [
      "Evaluating: 100%|██████████| 30/30 [00:07<00:00,  4.18it/s]\n"
     ]
    },
    {
     "name": "stdout",
     "output_type": "stream",
     "text": [
      "Loss: 0.4971\n",
      "Precision: 0.7946, Recall: 0.7717, F1-Score: 0.7671\n",
      "              precision    recall  f1-score   support\n",
      "\n",
      "           0       0.88      0.63      0.73       473\n",
      "           1       0.71      0.91      0.80       473\n",
      "\n",
      "    accuracy                           0.77       946\n",
      "   macro avg       0.79      0.77      0.77       946\n",
      "weighted avg       0.79      0.77      0.77       946\n",
      "\n",
      "Directory /home/Minwoo/LESN/Decompose/DecomposeBERT/Models/Configs/pretrained/sadickam/sdg-classification-bert exists.\n",
      "Loading the model.\n",
      "Start Time:00:53:59\n",
      "#Module 8 in progress....\n",
      "origin\n"
     ]
    },
    {
     "name": "stderr",
     "output_type": "stream",
     "text": [
      "Evaluating: 100%|██████████| 400/400 [01:38<00:00,  4.07it/s]\n"
     ]
    },
    {
     "name": "stdout",
     "output_type": "stream",
     "text": [
      "Loss: 0.9480\n",
      "Precision: 0.7801, Recall: 0.7867, F1-Score: 0.7793\n",
      "              precision    recall  f1-score   support\n",
      "\n",
      "           0       0.77      0.66      0.71       797\n",
      "           1       0.84      0.72      0.78       775\n",
      "           2       0.88      0.87      0.88       795\n",
      "           3       0.87      0.83      0.85      1110\n",
      "           4       0.86      0.80      0.83      1260\n",
      "           5       0.88      0.69      0.77       882\n",
      "           6       0.85      0.80      0.83       940\n",
      "           7       0.49      0.61      0.54       473\n",
      "           8       0.66      0.85      0.74       746\n",
      "           9       0.62      0.73      0.67       689\n",
      "          10       0.75      0.79      0.77       670\n",
      "          11       0.62      0.81      0.70       312\n",
      "          12       0.73      0.81      0.77       665\n",
      "          13       0.83      0.85      0.84       314\n",
      "          14       0.85      0.78      0.81       756\n",
      "          15       0.97      0.98      0.97      1607\n",
      "\n",
      "    accuracy                           0.80     12791\n",
      "   macro avg       0.78      0.79      0.78     12791\n",
      "weighted avg       0.81      0.80      0.80     12791\n",
      "\n",
      "Start Positive CI sparse\n",
      "Start Positive CI after sparse\n",
      "Start Negative TI\n",
      "dead node \n",
      "[0, 7, 9, 10, 12, 15]\n",
      "active node \n",
      "[0, 3, 7, 8, 9, 10, 12, 15]\n",
      "weight factor \n",
      "[16, 0, 0, 0, 0, 0, 0, 12, 0, 16, 15, 0, 11, 0, 0, 16]\n",
      "weight factor \n",
      "[16, 0, 0, 10, 0, 0, 0, 9, 16, 16, 16, 0, 8, 0, 0, 16]\n"
     ]
    },
    {
     "name": "stderr",
     "output_type": "stream",
     "text": [
      "Evaluating: 100%|██████████| 47/47 [00:11<00:00,  4.13it/s]\n"
     ]
    },
    {
     "name": "stdout",
     "output_type": "stream",
     "text": [
      "Loss: 0.4322\n",
      "Precision: 0.8578, Recall: 0.8351, F1-Score: 0.8325\n",
      "              precision    recall  f1-score   support\n",
      "\n",
      "           0       0.95      0.71      0.81       746\n",
      "           1       0.77      0.96      0.85       746\n",
      "\n",
      "    accuracy                           0.84      1492\n",
      "   macro avg       0.86      0.84      0.83      1492\n",
      "weighted avg       0.86      0.84      0.83      1492\n",
      "\n",
      "Directory /home/Minwoo/LESN/Decompose/DecomposeBERT/Models/Configs/pretrained/sadickam/sdg-classification-bert exists.\n",
      "Loading the model.\n",
      "Start Time:00:56:46\n",
      "#Module 9 in progress....\n",
      "origin\n"
     ]
    },
    {
     "name": "stderr",
     "output_type": "stream",
     "text": [
      "Evaluating: 100%|██████████| 400/400 [01:38<00:00,  4.08it/s]\n"
     ]
    },
    {
     "name": "stdout",
     "output_type": "stream",
     "text": [
      "Loss: 0.9480\n",
      "Precision: 0.7801, Recall: 0.7867, F1-Score: 0.7793\n",
      "              precision    recall  f1-score   support\n",
      "\n",
      "           0       0.77      0.66      0.71       797\n",
      "           1       0.84      0.72      0.78       775\n",
      "           2       0.88      0.87      0.88       795\n",
      "           3       0.87      0.83      0.85      1110\n",
      "           4       0.86      0.80      0.83      1260\n",
      "           5       0.88      0.69      0.77       882\n",
      "           6       0.85      0.80      0.83       940\n",
      "           7       0.49      0.61      0.54       473\n",
      "           8       0.66      0.85      0.74       746\n",
      "           9       0.62      0.73      0.67       689\n",
      "          10       0.75      0.79      0.77       670\n",
      "          11       0.62      0.81      0.70       312\n",
      "          12       0.73      0.81      0.77       665\n",
      "          13       0.83      0.85      0.84       314\n",
      "          14       0.85      0.78      0.81       756\n",
      "          15       0.97      0.98      0.97      1607\n",
      "\n",
      "    accuracy                           0.80     12791\n",
      "   macro avg       0.78      0.79      0.78     12791\n",
      "weighted avg       0.81      0.80      0.80     12791\n",
      "\n",
      "Start Positive CI sparse\n",
      "Start Positive CI after sparse\n",
      "Start Negative TI\n",
      "dead node \n",
      "[0, 1, 2, 7, 10, 12, 15]\n",
      "active node \n",
      "[0, 7, 9, 10, 15]\n",
      "weight factor \n",
      "[16, 10, 8, 0, 0, 0, 0, 9, 0, 0, 13, 0, 9, 0, 0, 16]\n",
      "weight factor \n",
      "[16, 0, 0, 0, 0, 0, 0, 12, 0, 16, 14, 0, 0, 0, 0, 16]\n"
     ]
    },
    {
     "name": "stderr",
     "output_type": "stream",
     "text": [
      "Evaluating: 100%|██████████| 44/44 [00:10<00:00,  4.19it/s]\n"
     ]
    },
    {
     "name": "stdout",
     "output_type": "stream",
     "text": [
      "Loss: 0.6009\n",
      "Precision: 0.7744, Recall: 0.7032, F1-Score: 0.6826\n",
      "              precision    recall  f1-score   support\n",
      "\n",
      "           0       0.91      0.45      0.60       689\n",
      "           1       0.63      0.96      0.76       689\n",
      "\n",
      "    accuracy                           0.70      1378\n",
      "   macro avg       0.77      0.70      0.68      1378\n",
      "weighted avg       0.77      0.70      0.68      1378\n",
      "\n",
      "Directory /home/Minwoo/LESN/Decompose/DecomposeBERT/Models/Configs/pretrained/sadickam/sdg-classification-bert exists.\n",
      "Loading the model.\n",
      "Start Time:00:59:05\n",
      "#Module 10 in progress....\n",
      "origin\n"
     ]
    },
    {
     "name": "stderr",
     "output_type": "stream",
     "text": [
      "Evaluating: 100%|██████████| 400/400 [01:41<00:00,  3.96it/s]\n"
     ]
    },
    {
     "name": "stdout",
     "output_type": "stream",
     "text": [
      "Loss: 0.9480\n",
      "Precision: 0.7801, Recall: 0.7867, F1-Score: 0.7793\n",
      "              precision    recall  f1-score   support\n",
      "\n",
      "           0       0.77      0.66      0.71       797\n",
      "           1       0.84      0.72      0.78       775\n",
      "           2       0.88      0.87      0.88       795\n",
      "           3       0.87      0.83      0.85      1110\n",
      "           4       0.86      0.80      0.83      1260\n",
      "           5       0.88      0.69      0.77       882\n",
      "           6       0.85      0.80      0.83       940\n",
      "           7       0.49      0.61      0.54       473\n",
      "           8       0.66      0.85      0.74       746\n",
      "           9       0.62      0.73      0.67       689\n",
      "          10       0.75      0.79      0.77       670\n",
      "          11       0.62      0.81      0.70       312\n",
      "          12       0.73      0.81      0.77       665\n",
      "          13       0.83      0.85      0.84       314\n",
      "          14       0.85      0.78      0.81       756\n",
      "          15       0.97      0.98      0.97      1607\n",
      "\n",
      "    accuracy                           0.80     12791\n",
      "   macro avg       0.78      0.79      0.78     12791\n",
      "weighted avg       0.81      0.80      0.80     12791\n",
      "\n",
      "Start Positive CI sparse\n",
      "Start Positive CI after sparse\n",
      "Start Negative TI\n",
      "dead node \n",
      "[0, 1, 2, 7, 8, 9, 15]\n",
      "active node \n",
      "[0, 2, 3, 8, 9, 10, 15]\n",
      "weight factor \n",
      "[16, 10, 10, 0, 0, 0, 0, 9, 10, 16, 0, 0, 0, 0, 0, 16]\n",
      "weight factor \n",
      "[16, 0, 9, 9, 0, 0, 0, 0, 16, 16, 16, 0, 0, 0, 0, 16]\n"
     ]
    },
    {
     "name": "stderr",
     "output_type": "stream",
     "text": [
      "Evaluating: 100%|██████████| 42/42 [00:10<00:00,  4.11it/s]\n"
     ]
    },
    {
     "name": "stdout",
     "output_type": "stream",
     "text": [
      "Loss: 0.4904\n",
      "Precision: 0.7818, Recall: 0.7500, F1-Score: 0.7427\n",
      "              precision    recall  f1-score   support\n",
      "\n",
      "           0       0.88      0.58      0.70       670\n",
      "           1       0.69      0.92      0.79       670\n",
      "\n",
      "    accuracy                           0.75      1340\n",
      "   macro avg       0.78      0.75      0.74      1340\n",
      "weighted avg       0.78      0.75      0.74      1340\n",
      "\n",
      "Directory /home/Minwoo/LESN/Decompose/DecomposeBERT/Models/Configs/pretrained/sadickam/sdg-classification-bert exists.\n",
      "Loading the model.\n",
      "Start Time:01:01:26\n",
      "#Module 11 in progress....\n",
      "origin\n"
     ]
    },
    {
     "name": "stderr",
     "output_type": "stream",
     "text": [
      "Evaluating: 100%|██████████| 400/400 [01:41<00:00,  3.94it/s]\n"
     ]
    },
    {
     "name": "stdout",
     "output_type": "stream",
     "text": [
      "Loss: 0.9480\n",
      "Precision: 0.7801, Recall: 0.7867, F1-Score: 0.7793\n",
      "              precision    recall  f1-score   support\n",
      "\n",
      "           0       0.77      0.66      0.71       797\n",
      "           1       0.84      0.72      0.78       775\n",
      "           2       0.88      0.87      0.88       795\n",
      "           3       0.87      0.83      0.85      1110\n",
      "           4       0.86      0.80      0.83      1260\n",
      "           5       0.88      0.69      0.77       882\n",
      "           6       0.85      0.80      0.83       940\n",
      "           7       0.49      0.61      0.54       473\n",
      "           8       0.66      0.85      0.74       746\n",
      "           9       0.62      0.73      0.67       689\n",
      "          10       0.75      0.79      0.77       670\n",
      "          11       0.62      0.81      0.70       312\n",
      "          12       0.73      0.81      0.77       665\n",
      "          13       0.83      0.85      0.84       314\n",
      "          14       0.85      0.78      0.81       756\n",
      "          15       0.97      0.98      0.97      1607\n",
      "\n",
      "    accuracy                           0.80     12791\n",
      "   macro avg       0.78      0.79      0.78     12791\n",
      "weighted avg       0.81      0.80      0.80     12791\n",
      "\n",
      "Start Positive CI sparse\n",
      "Start Positive CI after sparse\n",
      "Start Negative TI\n",
      "dead node \n",
      "[0, 1, 2, 7, 8, 9, 10, 12, 15]\n",
      "active node \n",
      "[0, 1, 8, 9, 10, 11, 12, 15]\n",
      "weight factor \n",
      "[16, 10, 8, 0, 0, 0, 0, 9, 11, 16, 15, 0, 9, 0, 0, 16]\n",
      "weight factor \n",
      "[16, 8, 0, 0, 0, 0, 0, 0, 13, 16, 16, 16, 8, 0, 0, 16]\n"
     ]
    },
    {
     "name": "stderr",
     "output_type": "stream",
     "text": [
      "Evaluating: 100%|██████████| 20/20 [00:04<00:00,  4.22it/s]\n"
     ]
    },
    {
     "name": "stdout",
     "output_type": "stream",
     "text": [
      "Loss: 0.4327\n",
      "Precision: 0.8177, Recall: 0.7500, F1-Score: 0.7359\n",
      "              precision    recall  f1-score   support\n",
      "\n",
      "           0       0.96      0.52      0.67       312\n",
      "           1       0.67      0.98      0.80       312\n",
      "\n",
      "    accuracy                           0.75       624\n",
      "   macro avg       0.82      0.75      0.74       624\n",
      "weighted avg       0.82      0.75      0.74       624\n",
      "\n",
      "Directory /home/Minwoo/LESN/Decompose/DecomposeBERT/Models/Configs/pretrained/sadickam/sdg-classification-bert exists.\n",
      "Loading the model.\n",
      "Start Time:01:03:40\n",
      "#Module 12 in progress....\n",
      "origin\n"
     ]
    },
    {
     "name": "stderr",
     "output_type": "stream",
     "text": [
      "Evaluating: 100%|██████████| 400/400 [03:36<00:00,  1.85it/s]\n"
     ]
    },
    {
     "name": "stdout",
     "output_type": "stream",
     "text": [
      "Loss: 0.9480\n",
      "Precision: 0.7801, Recall: 0.7867, F1-Score: 0.7793\n",
      "              precision    recall  f1-score   support\n",
      "\n",
      "           0       0.77      0.66      0.71       797\n",
      "           1       0.84      0.72      0.78       775\n",
      "           2       0.88      0.87      0.88       795\n",
      "           3       0.87      0.83      0.85      1110\n",
      "           4       0.86      0.80      0.83      1260\n",
      "           5       0.88      0.69      0.77       882\n",
      "           6       0.85      0.80      0.83       940\n",
      "           7       0.49      0.61      0.54       473\n",
      "           8       0.66      0.85      0.74       746\n",
      "           9       0.62      0.73      0.67       689\n",
      "          10       0.75      0.79      0.77       670\n",
      "          11       0.62      0.81      0.70       312\n",
      "          12       0.73      0.81      0.77       665\n",
      "          13       0.83      0.85      0.84       314\n",
      "          14       0.85      0.78      0.81       756\n",
      "          15       0.97      0.98      0.97      1607\n",
      "\n",
      "    accuracy                           0.80     12791\n",
      "   macro avg       0.78      0.79      0.78     12791\n",
      "weighted avg       0.81      0.80      0.80     12791\n",
      "\n",
      "Start Positive CI sparse\n",
      "Start Positive CI after sparse\n",
      "Start Negative TI\n",
      "dead node \n",
      "[0, 1, 8, 9, 10, 15]\n",
      "active node \n",
      "[0, 1, 8, 9, 10, 12, 14, 15]\n",
      "weight factor \n",
      "[16, 10, 0, 0, 0, 0, 0, 0, 13, 16, 16, 0, 0, 0, 0, 16]\n",
      "weight factor \n",
      "[16, 12, 0, 0, 0, 0, 0, 0, 13, 16, 16, 0, 16, 0, 12, 15]\n"
     ]
    },
    {
     "name": "stderr",
     "output_type": "stream",
     "text": [
      "Evaluating: 100%|██████████| 42/42 [00:22<00:00,  1.90it/s]\n"
     ]
    },
    {
     "name": "stdout",
     "output_type": "stream",
     "text": [
      "Loss: 0.3958\n",
      "Precision: 0.8635, Recall: 0.8519, F1-Score: 0.8507\n",
      "              precision    recall  f1-score   support\n",
      "\n",
      "           0       0.93      0.76      0.84       665\n",
      "           1       0.80      0.94      0.86       665\n",
      "\n",
      "    accuracy                           0.85      1330\n",
      "   macro avg       0.86      0.85      0.85      1330\n",
      "weighted avg       0.86      0.85      0.85      1330\n",
      "\n",
      "Directory /home/Minwoo/LESN/Decompose/DecomposeBERT/Models/Configs/pretrained/sadickam/sdg-classification-bert exists.\n",
      "Loading the model.\n",
      "Start Time:01:08:18\n",
      "#Module 13 in progress....\n",
      "origin\n"
     ]
    },
    {
     "name": "stderr",
     "output_type": "stream",
     "text": [
      "Evaluating: 100%|██████████| 400/400 [03:54<00:00,  1.71it/s]\n"
     ]
    },
    {
     "name": "stdout",
     "output_type": "stream",
     "text": [
      "Loss: 0.9480\n",
      "Precision: 0.7801, Recall: 0.7867, F1-Score: 0.7793\n",
      "              precision    recall  f1-score   support\n",
      "\n",
      "           0       0.77      0.66      0.71       797\n",
      "           1       0.84      0.72      0.78       775\n",
      "           2       0.88      0.87      0.88       795\n",
      "           3       0.87      0.83      0.85      1110\n",
      "           4       0.86      0.80      0.83      1260\n",
      "           5       0.88      0.69      0.77       882\n",
      "           6       0.85      0.80      0.83       940\n",
      "           7       0.49      0.61      0.54       473\n",
      "           8       0.66      0.85      0.74       746\n",
      "           9       0.62      0.73      0.67       689\n",
      "          10       0.75      0.79      0.77       670\n",
      "          11       0.62      0.81      0.70       312\n",
      "          12       0.73      0.81      0.77       665\n",
      "          13       0.83      0.85      0.84       314\n",
      "          14       0.85      0.78      0.81       756\n",
      "          15       0.97      0.98      0.97      1607\n",
      "\n",
      "    accuracy                           0.80     12791\n",
      "   macro avg       0.78      0.79      0.78     12791\n",
      "weighted avg       0.81      0.80      0.80     12791\n",
      "\n",
      "Start Positive CI sparse\n",
      "Start Positive CI after sparse\n",
      "Start Negative TI\n",
      "dead node \n",
      "[0, 7, 8, 9, 10, 12, 15]\n",
      "active node \n",
      "[0, 1, 8, 9, 10, 12, 13, 14, 15]\n",
      "weight factor \n",
      "[16, 0, 0, 0, 0, 0, 0, 11, 8, 16, 14, 0, 10, 0, 0, 16]\n",
      "weight factor \n",
      "[16, 8, 0, 0, 0, 0, 0, 0, 12, 16, 8, 0, 14, 16, 13, 15]\n"
     ]
    },
    {
     "name": "stderr",
     "output_type": "stream",
     "text": [
      "Evaluating: 100%|██████████| 20/20 [00:10<00:00,  1.83it/s]\n"
     ]
    },
    {
     "name": "stdout",
     "output_type": "stream",
     "text": [
      "Loss: 0.3741\n",
      "Precision: 0.8237, Recall: 0.8057, F1-Score: 0.8030\n",
      "              precision    recall  f1-score   support\n",
      "\n",
      "           0       0.90      0.69      0.78       314\n",
      "           1       0.75      0.92      0.83       314\n",
      "\n",
      "    accuracy                           0.81       628\n",
      "   macro avg       0.82      0.81      0.80       628\n",
      "weighted avg       0.82      0.81      0.80       628\n",
      "\n",
      "Directory /home/Minwoo/LESN/Decompose/DecomposeBERT/Models/Configs/pretrained/sadickam/sdg-classification-bert exists.\n",
      "Loading the model.\n",
      "Start Time:01:13:18\n",
      "#Module 14 in progress....\n",
      "origin\n"
     ]
    },
    {
     "name": "stderr",
     "output_type": "stream",
     "text": [
      "Evaluating: 100%|██████████| 400/400 [03:47<00:00,  1.76it/s]\n"
     ]
    },
    {
     "name": "stdout",
     "output_type": "stream",
     "text": [
      "Loss: 0.9480\n",
      "Precision: 0.7801, Recall: 0.7867, F1-Score: 0.7793\n",
      "              precision    recall  f1-score   support\n",
      "\n",
      "           0       0.77      0.66      0.71       797\n",
      "           1       0.84      0.72      0.78       775\n",
      "           2       0.88      0.87      0.88       795\n",
      "           3       0.87      0.83      0.85      1110\n",
      "           4       0.86      0.80      0.83      1260\n",
      "           5       0.88      0.69      0.77       882\n",
      "           6       0.85      0.80      0.83       940\n",
      "           7       0.49      0.61      0.54       473\n",
      "           8       0.66      0.85      0.74       746\n",
      "           9       0.62      0.73      0.67       689\n",
      "          10       0.75      0.79      0.77       670\n",
      "          11       0.62      0.81      0.70       312\n",
      "          12       0.73      0.81      0.77       665\n",
      "          13       0.83      0.85      0.84       314\n",
      "          14       0.85      0.78      0.81       756\n",
      "          15       0.97      0.98      0.97      1607\n",
      "\n",
      "    accuracy                           0.80     12791\n",
      "   macro avg       0.78      0.79      0.78     12791\n",
      "weighted avg       0.81      0.80      0.80     12791\n",
      "\n",
      "Start Positive CI sparse\n",
      "Start Positive CI after sparse\n",
      "Start Negative TI\n",
      "dead node \n",
      "[0, 1, 7, 9, 10, 13, 15]\n",
      "active node \n",
      "[0, 5, 9, 10, 12, 13, 14, 15]\n",
      "weight factor \n",
      "[16, 8, 0, 0, 0, 0, 0, 9, 0, 16, 15, 0, 0, 8, 0, 16]\n",
      "weight factor \n",
      "[14, 0, 0, 0, 0, 12, 0, 0, 0, 15, 16, 0, 8, 16, 16, 16]\n"
     ]
    },
    {
     "name": "stderr",
     "output_type": "stream",
     "text": [
      "Evaluating: 100%|██████████| 48/48 [00:25<00:00,  1.87it/s]\n"
     ]
    },
    {
     "name": "stdout",
     "output_type": "stream",
     "text": [
      "Loss: 0.4196\n",
      "Precision: 0.8110, Recall: 0.7943, F1-Score: 0.7915\n",
      "              precision    recall  f1-score   support\n",
      "\n",
      "           0       0.88      0.68      0.77       756\n",
      "           1       0.74      0.91      0.82       756\n",
      "\n",
      "    accuracy                           0.79      1512\n",
      "   macro avg       0.81      0.79      0.79      1512\n",
      "weighted avg       0.81      0.79      0.79      1512\n",
      "\n",
      "Directory /home/Minwoo/LESN/Decompose/DecomposeBERT/Models/Configs/pretrained/sadickam/sdg-classification-bert exists.\n",
      "Loading the model.\n",
      "Start Time:01:18:26\n",
      "#Module 15 in progress....\n",
      "origin\n"
     ]
    },
    {
     "name": "stderr",
     "output_type": "stream",
     "text": [
      "Evaluating: 100%|██████████| 400/400 [02:48<00:00,  2.37it/s]\n"
     ]
    },
    {
     "name": "stdout",
     "output_type": "stream",
     "text": [
      "Loss: 0.9480\n",
      "Precision: 0.7801, Recall: 0.7867, F1-Score: 0.7793\n",
      "              precision    recall  f1-score   support\n",
      "\n",
      "           0       0.77      0.66      0.71       797\n",
      "           1       0.84      0.72      0.78       775\n",
      "           2       0.88      0.87      0.88       795\n",
      "           3       0.87      0.83      0.85      1110\n",
      "           4       0.86      0.80      0.83      1260\n",
      "           5       0.88      0.69      0.77       882\n",
      "           6       0.85      0.80      0.83       940\n",
      "           7       0.49      0.61      0.54       473\n",
      "           8       0.66      0.85      0.74       746\n",
      "           9       0.62      0.73      0.67       689\n",
      "          10       0.75      0.79      0.77       670\n",
      "          11       0.62      0.81      0.70       312\n",
      "          12       0.73      0.81      0.77       665\n",
      "          13       0.83      0.85      0.84       314\n",
      "          14       0.85      0.78      0.81       756\n",
      "          15       0.97      0.98      0.97      1607\n",
      "\n",
      "    accuracy                           0.80     12791\n",
      "   macro avg       0.78      0.79      0.78     12791\n",
      "weighted avg       0.81      0.80      0.80     12791\n",
      "\n",
      "Start Positive CI sparse\n",
      "Start Positive CI after sparse\n",
      "Start Negative TI\n",
      "dead node \n",
      "[0, 2, 9, 10, 12]\n",
      "active node \n",
      "[0, 9, 10, 13, 14, 15]\n",
      "weight factor \n",
      "[16, 0, 9, 0, 0, 0, 0, 0, 0, 16, 16, 0, 15, 0, 0, 0]\n",
      "weight factor \n",
      "[9, 0, 0, 0, 0, 0, 0, 0, 0, 16, 9, 0, 0, 16, 8, 16]\n"
     ]
    },
    {
     "name": "stderr",
     "output_type": "stream",
     "text": [
      "Evaluating: 100%|██████████| 101/101 [00:33<00:00,  3.05it/s]"
     ]
    },
    {
     "name": "stdout",
     "output_type": "stream",
     "text": [
      "Loss: 0.2696\n",
      "Precision: 0.9088, Recall: 0.8920, F1-Score: 0.8909\n",
      "              precision    recall  f1-score   support\n",
      "\n",
      "           0       0.99      0.79      0.88      1607\n",
      "           1       0.83      0.99      0.90      1607\n",
      "\n",
      "    accuracy                           0.89      3214\n",
      "   macro avg       0.91      0.89      0.89      3214\n",
      "weighted avg       0.91      0.89      0.89      3214\n",
      "\n"
     ]
    },
    {
     "name": "stderr",
     "output_type": "stream",
     "text": [
      "\n"
     ]
    }
   ],
   "source": [
    "for i in range(num_labels):\n",
    "    model, tokenizer, checkpoint = load_classification_model(model_config, train_mode=False)\n",
    "\n",
    "    train_dataloader, valid_dataloader, test_dataloader = load_data(\n",
    "        model_config, batch_size=32\n",
    "    )\n",
    "\n",
    "    print(\"Start Time:\" + datetime.now().strftime(\"%H:%M:%S\"))\n",
    "    print(\"#Module \" + str(i) + \" in progress....\")\n",
    "    num_samples = 64\n",
    "\n",
    "    positive_samples = sampling_class(\n",
    "        train_dataloader, i, num_samples, num_labels, True, 4, device=device\n",
    "    )\n",
    "    negative_samples = sampling_class(\n",
    "        train_dataloader, i, num_samples, num_labels, False, 4, device=device\n",
    "    )\n",
    "\n",
    "    all_samples = sampling_class(\n",
    "        train_dataloader, 200, 20, num_labels, False, 4, device=device\n",
    "    )\n",
    "\n",
    "    print(\"origin\")\n",
    "    evaluate_model(model, model_config, test_dataloader)\n",
    "\n",
    "    module = copy.deepcopy(model)\n",
    "    wr = WeightRemoverBert(model, p=0.9)\n",
    "    ci = ConcernIdentificationBert(model, p=0.4)\n",
    "    ti = TanglingIdentification(model, p=0.5)\n",
    "\n",
    "    print(\"Start Positive CI sparse\")\n",
    "\n",
    "    eval_step = 5\n",
    "    for idx, batch in enumerate(all_samples):\n",
    "        input_ids, attn_mask, _, total_sampled = batch\n",
    "        with torch.no_grad():\n",
    "            wr.propagate(module, input_ids)\n",
    "        if idx % eval_step:\n",
    "            # result = evaluate_model(module, model_config, test_dataloader)\n",
    "            pass\n",
    "\n",
    "    print(\"Start Positive CI after sparse\")\n",
    "\n",
    "    for idx, batch in enumerate(positive_samples):\n",
    "        input_ids, attn_mask, _, total_sampled = batch\n",
    "        with torch.no_grad():\n",
    "            ci.propagate(module, input_ids)\n",
    "        if idx % eval_step:\n",
    "            # result = evaluate_model(module, model_config, test_dataloader)\n",
    "            pass\n",
    "\n",
    "    print(\"Start Negative TI\")\n",
    "\n",
    "    for idx, batch in enumerate(negative_samples):\n",
    "        input_ids, attn_mask, _, total_sampled = batch\n",
    "        with torch.no_grad():\n",
    "            ti.propagate(module, input_ids)\n",
    "        if idx % eval_step:\n",
    "            # result = evaluate_model(module, model_config, test_dataloader)\n",
    "            pass\n",
    "\n",
    "    ConcernModularizationBert.channeling(module, ci.active_node, ti.dead_node, i, model_config.device)\n",
    "    binary_module = ConcernModularizationBert.convert2binary(model_config, module)\n",
    "    # save_module(binary_module, model_config.module_dir, model_config.model_name)\n",
    "    \n",
    "    converted_test_dataloader = convert_dataset_labels_to_binary(test_dataloader, i, True)\n",
    "    result = evaluate_model(module, model_config, converted_test_dataloader)\n"
   ]
  }
 ],
 "metadata": {
  "kernelspec": {
   "display_name": "Python 3 (ipykernel)",
   "language": "python",
   "name": "python3"
  },
  "language_info": {
   "codemirror_mode": {
    "name": "ipython",
    "version": 3
   },
   "file_extension": ".py",
   "mimetype": "text/x-python",
   "name": "python",
   "nbconvert_exporter": "python",
   "pygments_lexer": "ipython3",
   "version": "3.8.18"
  }
 },
 "nbformat": 4,
 "nbformat_minor": 5
}
