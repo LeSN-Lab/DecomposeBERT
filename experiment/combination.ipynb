{
 "cells": [
  {
   "cell_type": "code",
   "execution_count": 1,
   "id": "8fb3adee-b6a8-41a4-a5c6-451fc0a3b0c6",
   "metadata": {},
   "outputs": [],
   "source": [
    "import copy\n",
    "import os.path\n",
    "import sys\n",
    "\n",
    "pwd = os.getcwd()\n",
    "sys.path.append(os.path.dirname(pwd))\n",
    "\n",
    "from utils.model_utils.evaluate import evaluate_model\n",
    "from utils.model_utils.load_model import *\n",
    "from utils.model_utils.model_config import ModelConfig\n",
    "from utils.dataset_utils.load_dataset import load_data\n",
    "from utils.decompose_utils.weight_remover import WeightRemoverBert\n",
    "from utils.decompose_utils.concern_identification import ConcernIdentificationBert\n",
    "from utils.decompose_utils.tangling_identification import TanglingIdentification\n",
    "from transformers import AutoConfig\n",
    "from utils.model_utils.save_module import save_module\n",
    "from datetime import datetime\n",
    "from utils.decompose_utils.concern_modularization import ConcernModularizationBert\n",
    "from utils.decompose_utils.sampling import sampling_class\n",
    "from utils.dataset_utils.load_dataset import convert_dataset_labels_to_binary, extract_and_convert_dataloader\n",
    "import torch\n"
   ]
  },
  {
   "cell_type": "code",
   "execution_count": 2,
   "id": "d7afe56f-8008-4c64-8a48-49b3965aa7e4",
   "metadata": {},
   "outputs": [],
   "source": [
    "model_name = \"sadickam/sdg-classification-bert\"\n",
    "model_type = \"pretrained\"\n",
    "data = \"OSDG\"\n",
    "num_labels = 16\n",
    "\n",
    "\n",
    "# model_name = \"textattack/bert-base-uncased-imdb\"\n",
    "# model_type = \"pretrained\"\n",
    "# data = \"IMDb\"\n",
    "# num_labels = 2\n",
    "\n",
    "# model_name = \"fabriceyhc/bert-base-uncased-yahoo_answers_topics\"\n",
    "# model_type = \"pretrained\"\n",
    "# data = \"Yahoo\"\n",
    "# num_labels = 10"
   ]
  },
  {
   "cell_type": "code",
   "execution_count": 3,
   "id": "0bbf7f78-d3d8-487f-bf64-fec60116c64d",
   "metadata": {},
   "outputs": [],
   "source": [
    "device = torch.device(\"cuda:0\" if torch.cuda.is_available() else \"cpu\")\n",
    "# device = torch.device(\"cuda:1\" if torch.cuda.is_available() else \"cpu\")\n",
    "\n",
    "checkpoint_name = None\n",
    "config = AutoConfig.from_pretrained(model_name, num_labels=num_labels)\n",
    "model_config = ModelConfig(\n",
    "    _model_name=model_name,\n",
    "    _model_type=model_type,\n",
    "    _data=data,\n",
    "    _transformer_config=config,\n",
    "    _checkpoint_name=checkpoint_name,\n",
    "    _device=device,\n",
    ")\n"
   ]
  },
  {
   "cell_type": "code",
   "execution_count": null,
   "id": "d1711493-8f25-4305-b4f7-e59673d56956",
   "metadata": {},
   "outputs": [
    {
     "name": "stdout",
     "output_type": "stream",
     "text": [
      "Directory /home/Minwoo/LESN/Decompose/DecomposeBERT/Models/Configs/pretrained/sadickam/sdg-classification-bert exists.\n",
      "Loading the model.\n",
      "Start Time:21:33:05\n",
      "#Module 0 in progress....\n",
      "origin\n"
     ]
    },
    {
     "name": "stderr",
     "output_type": "stream",
     "text": [
      "Evaluating: 100%|██████████| 400/400 [01:35<00:00,  4.19it/s]\n"
     ]
    },
    {
     "name": "stdout",
     "output_type": "stream",
     "text": [
      "Loss: 0.9480\n",
      "Precision: 0.7801, Recall: 0.7867, F1-Score: 0.7793\n",
      "              precision    recall  f1-score   support\n",
      "\n",
      "           0       0.77      0.66      0.71       797\n",
      "           1       0.84      0.72      0.78       775\n",
      "           2       0.88      0.87      0.88       795\n",
      "           3       0.87      0.83      0.85      1110\n",
      "           4       0.86      0.80      0.83      1260\n",
      "           5       0.88      0.69      0.77       882\n",
      "           6       0.85      0.80      0.83       940\n",
      "           7       0.49      0.61      0.54       473\n",
      "           8       0.66      0.85      0.74       746\n",
      "           9       0.62      0.73      0.67       689\n",
      "          10       0.75      0.79      0.77       670\n",
      "          11       0.62      0.81      0.70       312\n",
      "          12       0.73      0.81      0.77       665\n",
      "          13       0.83      0.85      0.84       314\n",
      "          14       0.85      0.78      0.81       756\n",
      "          15       0.97      0.98      0.97      1607\n",
      "\n",
      "    accuracy                           0.80     12791\n",
      "   macro avg       0.78      0.79      0.78     12791\n",
      "weighted avg       0.81      0.80      0.80     12791\n",
      "\n",
      "Start Positive CI sparse\n",
      "Start Positive CI after sparse\n",
      "Start Negative TI\n",
      "[1, 2, 7, 8, 9, 10, 15]\n",
      "[0, 1, 2, 7, 9, 10, 12, 15]\n",
      "[0, 11, 9, 0, 0, 0, 0, 13, 9, 16, 13, 0, 0, 0, 0, 15]\n",
      "[16, 10, 8, 0, 0, 0, 0, 13, 0, 16, 14, 0, 9, 0, 0, 15]\n"
     ]
    },
    {
     "name": "stderr",
     "output_type": "stream",
     "text": [
      "Evaluating: 100%|██████████| 50/50 [00:11<00:00,  4.22it/s]\n"
     ]
    },
    {
     "name": "stdout",
     "output_type": "stream",
     "text": [
      "Loss: 0.4936\n",
      "Precision: 0.7851, Recall: 0.7359, F1-Score: 0.7240\n",
      "              precision    recall  f1-score   support\n",
      "\n",
      "           0       0.90      0.53      0.67       797\n",
      "           1       0.67      0.94      0.78       797\n",
      "\n",
      "    accuracy                           0.74      1594\n",
      "   macro avg       0.79      0.74      0.72      1594\n",
      "weighted avg       0.79      0.74      0.72      1594\n",
      "\n"
     ]
    },
    {
     "name": "stderr",
     "output_type": "stream",
     "text": [
      "Evaluating: 100%|██████████| 50/50 [00:11<00:00,  4.19it/s]\n"
     ]
    },
    {
     "name": "stdout",
     "output_type": "stream",
     "text": [
      "Loss: 0.5039\n",
      "Precision: 0.7751, Recall: 0.7202, F1-Score: 0.7055\n",
      "              precision    recall  f1-score   support\n",
      "\n",
      "           0       0.90      0.50      0.64       797\n",
      "           1       0.65      0.94      0.77       797\n",
      "\n",
      "    accuracy                           0.72      1594\n",
      "   macro avg       0.78      0.72      0.71      1594\n",
      "weighted avg       0.78      0.72      0.71      1594\n",
      "\n"
     ]
    },
    {
     "name": "stderr",
     "output_type": "stream",
     "text": [
      "Evaluating: 100%|██████████| 50/50 [00:11<00:00,  4.19it/s]\n"
     ]
    },
    {
     "name": "stdout",
     "output_type": "stream",
     "text": [
      "Loss: 0.5068\n",
      "Precision: 0.7807, Recall: 0.7290, F1-Score: 0.7159\n",
      "              precision    recall  f1-score   support\n",
      "\n",
      "           0       0.90      0.51      0.65       797\n",
      "           1       0.66      0.94      0.78       797\n",
      "\n",
      "    accuracy                           0.73      1594\n",
      "   macro avg       0.78      0.73      0.72      1594\n",
      "weighted avg       0.78      0.73      0.72      1594\n",
      "\n"
     ]
    },
    {
     "name": "stderr",
     "output_type": "stream",
     "text": [
      "Evaluating: 100%|██████████| 50/50 [00:11<00:00,  4.17it/s]\n"
     ]
    },
    {
     "name": "stdout",
     "output_type": "stream",
     "text": [
      "Loss: 0.5137\n",
      "Precision: 0.7699, Recall: 0.7120, F1-Score: 0.6957\n",
      "              precision    recall  f1-score   support\n",
      "\n",
      "           0       0.89      0.48      0.63       797\n",
      "           1       0.64      0.94      0.77       797\n",
      "\n",
      "    accuracy                           0.71      1594\n",
      "   macro avg       0.77      0.71      0.70      1594\n",
      "weighted avg       0.77      0.71      0.70      1594\n",
      "\n"
     ]
    },
    {
     "name": "stderr",
     "output_type": "stream",
     "text": [
      "Evaluating: 100%|██████████| 50/50 [00:11<00:00,  4.18it/s]\n"
     ]
    },
    {
     "name": "stdout",
     "output_type": "stream",
     "text": [
      "Loss: 0.5066\n",
      "Precision: 0.7703, Recall: 0.7127, F1-Score: 0.6965\n",
      "              precision    recall  f1-score   support\n",
      "\n",
      "           0       0.90      0.48      0.63       797\n",
      "           1       0.65      0.94      0.77       797\n",
      "\n",
      "    accuracy                           0.71      1594\n",
      "   macro avg       0.77      0.71      0.70      1594\n",
      "weighted avg       0.77      0.71      0.70      1594\n",
      "\n"
     ]
    },
    {
     "name": "stderr",
     "output_type": "stream",
     "text": [
      "Evaluating: 100%|██████████| 50/50 [00:11<00:00,  4.17it/s]\n"
     ]
    },
    {
     "name": "stdout",
     "output_type": "stream",
     "text": [
      "Loss: 0.5013\n",
      "Precision: 0.7759, Recall: 0.7215, F1-Score: 0.7070\n",
      "              precision    recall  f1-score   support\n",
      "\n",
      "           0       0.90      0.50      0.64       797\n",
      "           1       0.65      0.94      0.77       797\n",
      "\n",
      "    accuracy                           0.72      1594\n",
      "   macro avg       0.78      0.72      0.71      1594\n",
      "weighted avg       0.78      0.72      0.71      1594\n",
      "\n"
     ]
    },
    {
     "name": "stderr",
     "output_type": "stream",
     "text": [
      "Evaluating: 100%|██████████| 50/50 [00:11<00:00,  4.17it/s]\n"
     ]
    },
    {
     "name": "stdout",
     "output_type": "stream",
     "text": [
      "Loss: 0.5169\n",
      "Precision: 0.7711, Recall: 0.7139, F1-Score: 0.6980\n",
      "              precision    recall  f1-score   support\n",
      "\n",
      "           0       0.90      0.48      0.63       797\n",
      "           1       0.65      0.94      0.77       797\n",
      "\n",
      "    accuracy                           0.71      1594\n",
      "   macro avg       0.77      0.71      0.70      1594\n",
      "weighted avg       0.77      0.71      0.70      1594\n",
      "\n"
     ]
    },
    {
     "name": "stderr",
     "output_type": "stream",
     "text": [
      "Evaluating: 100%|██████████| 50/50 [00:12<00:00,  4.16it/s]\n"
     ]
    },
    {
     "name": "stdout",
     "output_type": "stream",
     "text": [
      "Loss: 0.5203\n",
      "Precision: 0.7727, Recall: 0.7164, F1-Score: 0.7010\n",
      "              precision    recall  f1-score   support\n",
      "\n",
      "           0       0.90      0.49      0.63       797\n",
      "           1       0.65      0.94      0.77       797\n",
      "\n",
      "    accuracy                           0.72      1594\n",
      "   macro avg       0.77      0.72      0.70      1594\n",
      "weighted avg       0.77      0.72      0.70      1594\n",
      "\n"
     ]
    },
    {
     "name": "stderr",
     "output_type": "stream",
     "text": [
      "Evaluating: 100%|██████████| 50/50 [00:12<00:00,  4.16it/s]\n"
     ]
    },
    {
     "name": "stdout",
     "output_type": "stream",
     "text": [
      "Loss: 0.4937\n",
      "Precision: 0.7815, Recall: 0.7302, F1-Score: 0.7174\n",
      "              precision    recall  f1-score   support\n",
      "\n",
      "           0       0.90      0.52      0.66       797\n",
      "           1       0.66      0.94      0.78       797\n",
      "\n",
      "    accuracy                           0.73      1594\n",
      "   macro avg       0.78      0.73      0.72      1594\n",
      "weighted avg       0.78      0.73      0.72      1594\n",
      "\n"
     ]
    },
    {
     "name": "stderr",
     "output_type": "stream",
     "text": [
      "Evaluating: 100%|██████████| 50/50 [00:12<00:00,  4.16it/s]\n"
     ]
    },
    {
     "name": "stdout",
     "output_type": "stream",
     "text": [
      "Loss: 0.4988\n",
      "Precision: 0.7835, Recall: 0.7334, F1-Score: 0.7211\n",
      "              precision    recall  f1-score   support\n",
      "\n",
      "           0       0.90      0.52      0.66       797\n",
      "           1       0.66      0.94      0.78       797\n",
      "\n",
      "    accuracy                           0.73      1594\n",
      "   macro avg       0.78      0.73      0.72      1594\n",
      "weighted avg       0.78      0.73      0.72      1594\n",
      "\n"
     ]
    },
    {
     "name": "stderr",
     "output_type": "stream",
     "text": [
      "Evaluating: 100%|██████████| 50/50 [00:12<00:00,  4.16it/s]\n"
     ]
    },
    {
     "name": "stdout",
     "output_type": "stream",
     "text": [
      "Loss: 0.5065\n",
      "Precision: 0.7775, Recall: 0.7240, F1-Score: 0.7100\n",
      "              precision    recall  f1-score   support\n",
      "\n",
      "           0       0.90      0.50      0.65       797\n",
      "           1       0.66      0.94      0.77       797\n",
      "\n",
      "    accuracy                           0.72      1594\n",
      "   macro avg       0.78      0.72      0.71      1594\n",
      "weighted avg       0.78      0.72      0.71      1594\n",
      "\n"
     ]
    },
    {
     "name": "stderr",
     "output_type": "stream",
     "text": [
      "Evaluating: 100%|██████████| 50/50 [00:12<00:00,  4.15it/s]\n"
     ]
    },
    {
     "name": "stdout",
     "output_type": "stream",
     "text": [
      "Loss: 0.5096\n",
      "Precision: 0.7723, Recall: 0.7158, F1-Score: 0.7003\n",
      "              precision    recall  f1-score   support\n",
      "\n",
      "           0       0.90      0.49      0.63       797\n",
      "           1       0.65      0.94      0.77       797\n",
      "\n",
      "    accuracy                           0.72      1594\n",
      "   macro avg       0.77      0.72      0.70      1594\n",
      "weighted avg       0.77      0.72      0.70      1594\n",
      "\n"
     ]
    },
    {
     "name": "stderr",
     "output_type": "stream",
     "text": [
      "Evaluating: 100%|██████████| 50/50 [00:12<00:00,  4.16it/s]\n"
     ]
    },
    {
     "name": "stdout",
     "output_type": "stream",
     "text": [
      "Loss: 0.5010\n",
      "Precision: 0.7795, Recall: 0.7271, F1-Score: 0.7137\n",
      "              precision    recall  f1-score   support\n",
      "\n",
      "           0       0.90      0.51      0.65       797\n",
      "           1       0.66      0.94      0.78       797\n",
      "\n",
      "    accuracy                           0.73      1594\n",
      "   macro avg       0.78      0.73      0.71      1594\n",
      "weighted avg       0.78      0.73      0.71      1594\n",
      "\n"
     ]
    },
    {
     "name": "stderr",
     "output_type": "stream",
     "text": [
      "Evaluating: 100%|██████████| 50/50 [00:12<00:00,  4.16it/s]\n"
     ]
    },
    {
     "name": "stdout",
     "output_type": "stream",
     "text": [
      "Loss: 0.4970\n",
      "Precision: 0.7771, Recall: 0.7233, F1-Score: 0.7092\n",
      "              precision    recall  f1-score   support\n",
      "\n",
      "           0       0.90      0.50      0.65       797\n",
      "           1       0.66      0.94      0.77       797\n",
      "\n",
      "    accuracy                           0.72      1594\n",
      "   macro avg       0.78      0.72      0.71      1594\n",
      "weighted avg       0.78      0.72      0.71      1594\n",
      "\n"
     ]
    },
    {
     "name": "stderr",
     "output_type": "stream",
     "text": [
      "Evaluating: 100%|██████████| 50/50 [00:12<00:00,  4.16it/s]\n"
     ]
    },
    {
     "name": "stdout",
     "output_type": "stream",
     "text": [
      "Loss: 0.4997\n",
      "Precision: 0.7763, Recall: 0.7221, F1-Score: 0.7078\n",
      "              precision    recall  f1-score   support\n",
      "\n",
      "           0       0.90      0.50      0.64       797\n",
      "           1       0.65      0.94      0.77       797\n",
      "\n",
      "    accuracy                           0.72      1594\n",
      "   macro avg       0.78      0.72      0.71      1594\n",
      "weighted avg       0.78      0.72      0.71      1594\n",
      "\n"
     ]
    },
    {
     "name": "stderr",
     "output_type": "stream",
     "text": [
      "Evaluating: 100%|██████████| 50/50 [00:12<00:00,  4.16it/s]\n"
     ]
    },
    {
     "name": "stdout",
     "output_type": "stream",
     "text": [
      "Loss: 0.5113\n",
      "Precision: 0.7747, Recall: 0.7196, F1-Score: 0.7048\n",
      "              precision    recall  f1-score   support\n",
      "\n",
      "           0       0.90      0.50      0.64       797\n",
      "           1       0.65      0.94      0.77       797\n",
      "\n",
      "    accuracy                           0.72      1594\n",
      "   macro avg       0.77      0.72      0.70      1594\n",
      "weighted avg       0.77      0.72      0.70      1594\n",
      "\n",
      "Directory /home/Minwoo/LESN/Decompose/DecomposeBERT/Models/Configs/pretrained/sadickam/sdg-classification-bert exists.\n",
      "Loading the model.\n",
      "Start Time:21:38:22\n",
      "#Module 1 in progress....\n",
      "origin\n"
     ]
    },
    {
     "name": "stderr",
     "output_type": "stream",
     "text": [
      "Evaluating: 100%|██████████| 400/400 [01:36<00:00,  4.14it/s]\n"
     ]
    },
    {
     "name": "stdout",
     "output_type": "stream",
     "text": [
      "Loss: 0.9480\n",
      "Precision: 0.7801, Recall: 0.7867, F1-Score: 0.7793\n",
      "              precision    recall  f1-score   support\n",
      "\n",
      "           0       0.77      0.66      0.71       797\n",
      "           1       0.84      0.72      0.78       775\n",
      "           2       0.88      0.87      0.88       795\n",
      "           3       0.87      0.83      0.85      1110\n",
      "           4       0.86      0.80      0.83      1260\n",
      "           5       0.88      0.69      0.77       882\n",
      "           6       0.85      0.80      0.83       940\n",
      "           7       0.49      0.61      0.54       473\n",
      "           8       0.66      0.85      0.74       746\n",
      "           9       0.62      0.73      0.67       689\n",
      "          10       0.75      0.79      0.77       670\n",
      "          11       0.62      0.81      0.70       312\n",
      "          12       0.73      0.81      0.77       665\n",
      "          13       0.83      0.85      0.84       314\n",
      "          14       0.85      0.78      0.81       756\n",
      "          15       0.97      0.98      0.97      1607\n",
      "\n",
      "    accuracy                           0.80     12791\n",
      "   macro avg       0.78      0.79      0.78     12791\n",
      "weighted avg       0.81      0.80      0.80     12791\n",
      "\n",
      "Start Positive CI sparse\n",
      "Start Positive CI after sparse\n",
      "Start Negative TI\n",
      "[0, 2, 7, 8, 9, 10, 12, 13, 15]\n",
      "[0, 1, 2, 7, 8, 9, 10, 11, 12, 15]\n",
      "[16, 0, 9, 0, 0, 0, 0, 14, 8, 16, 14, 0, 8, 9, 0, 16]\n",
      "[16, 16, 9, 0, 0, 0, 0, 14, 16, 16, 14, 13, 12, 0, 0, 12]\n"
     ]
    },
    {
     "name": "stderr",
     "output_type": "stream",
     "text": [
      "Evaluating: 100%|██████████| 49/49 [00:11<00:00,  4.22it/s]\n"
     ]
    },
    {
     "name": "stdout",
     "output_type": "stream",
     "text": [
      "Loss: 0.4344\n",
      "Precision: 0.8206, Recall: 0.8013, F1-Score: 0.7983\n",
      "              precision    recall  f1-score   support\n",
      "\n",
      "           0       0.90      0.68      0.77       775\n",
      "           1       0.74      0.92      0.82       775\n",
      "\n",
      "    accuracy                           0.80      1550\n",
      "   macro avg       0.82      0.80      0.80      1550\n",
      "weighted avg       0.82      0.80      0.80      1550\n",
      "\n"
     ]
    },
    {
     "name": "stderr",
     "output_type": "stream",
     "text": [
      "Evaluating: 100%|██████████| 49/49 [00:11<00:00,  4.21it/s]\n"
     ]
    },
    {
     "name": "stdout",
     "output_type": "stream",
     "text": [
      "Loss: 0.4304\n",
      "Precision: 0.8239, Recall: 0.8058, F1-Score: 0.8031\n",
      "              precision    recall  f1-score   support\n",
      "\n",
      "           0       0.90      0.69      0.78       775\n",
      "           1       0.75      0.92      0.83       775\n",
      "\n",
      "    accuracy                           0.81      1550\n",
      "   macro avg       0.82      0.81      0.80      1550\n",
      "weighted avg       0.82      0.81      0.80      1550\n",
      "\n"
     ]
    },
    {
     "name": "stderr",
     "output_type": "stream",
     "text": [
      "Evaluating: 100%|██████████| 49/49 [00:11<00:00,  4.20it/s]\n"
     ]
    },
    {
     "name": "stdout",
     "output_type": "stream",
     "text": [
      "Loss: 0.4460\n",
      "Precision: 0.8201, Recall: 0.8006, F1-Score: 0.7976\n",
      "              precision    recall  f1-score   support\n",
      "\n",
      "           0       0.90      0.68      0.77       775\n",
      "           1       0.74      0.92      0.82       775\n",
      "\n",
      "    accuracy                           0.80      1550\n",
      "   macro avg       0.82      0.80      0.80      1550\n",
      "weighted avg       0.82      0.80      0.80      1550\n",
      "\n"
     ]
    },
    {
     "name": "stderr",
     "output_type": "stream",
     "text": [
      "Evaluating: 100%|██████████| 49/49 [00:11<00:00,  4.20it/s]\n"
     ]
    },
    {
     "name": "stdout",
     "output_type": "stream",
     "text": [
      "Loss: 0.4450\n",
      "Precision: 0.8220, Recall: 0.8032, F1-Score: 0.8003\n",
      "              precision    recall  f1-score   support\n",
      "\n",
      "           0       0.90      0.68      0.78       775\n",
      "           1       0.74      0.92      0.82       775\n",
      "\n",
      "    accuracy                           0.80      1550\n",
      "   macro avg       0.82      0.80      0.80      1550\n",
      "weighted avg       0.82      0.80      0.80      1550\n",
      "\n"
     ]
    },
    {
     "name": "stderr",
     "output_type": "stream",
     "text": [
      "Evaluating:  29%|██▊       | 14/49 [00:03<00:08,  4.16it/s]"
     ]
    }
   ],
   "source": [
    "for i in range(num_labels):\n",
    "    model, tokenizer, checkpoint = load_classification_model(model_config, train_mode=False)\n",
    "\n",
    "    train_dataloader, valid_dataloader, test_dataloader = load_data(\n",
    "        model_config, batch_size=32, test_size=0.3\n",
    "    )\n",
    "\n",
    "    print(\"Start Time:\" + datetime.now().strftime(\"%H:%M:%S\"))\n",
    "    print(\"#Module \" + str(i) + \" in progress....\")\n",
    "    num_samples = 64\n",
    "\n",
    "    positive_samples = sampling_class(\n",
    "        train_dataloader, i, num_samples, num_labels, True, 4, device=device\n",
    "    )\n",
    "    negative_samples = sampling_class(\n",
    "        train_dataloader, i, num_samples, num_labels, False, 4, device=device\n",
    "    )\n",
    "\n",
    "    all_samples = sampling_class(\n",
    "        train_dataloader, 200, 20, num_labels, False, 4, device=device\n",
    "    )\n",
    "\n",
    "    print(\"origin\")\n",
    "    evaluate_model(model, model_config, test_dataloader)\n",
    "\n",
    "    module = copy.deepcopy(model)\n",
    "    wr = WeightRemoverBert(model, p=0.9)\n",
    "    ci = ConcernIdentificationBert(model, p=0.4)\n",
    "    ti = TanglingIdentification(model, p=0.5)\n",
    "\n",
    "    print(\"Start Positive CI sparse\")\n",
    "\n",
    "    eval_step = 5\n",
    "    for idx, batch in enumerate(all_samples):\n",
    "        input_ids, attn_mask, _, total_sampled = batch\n",
    "        with torch.no_grad():\n",
    "            wr.propagate(module, input_ids)\n",
    "        if idx % eval_step:\n",
    "            # result = evaluate_model(module, model_config, test_dataloader)\n",
    "            pass\n",
    "\n",
    "    print(\"Start Positive CI after sparse\")\n",
    "\n",
    "    for idx, batch in enumerate(positive_samples):\n",
    "        input_ids, attn_mask, _, total_sampled = batch\n",
    "        with torch.no_grad():\n",
    "            ci.propagate(module, input_ids)\n",
    "        if idx % eval_step:\n",
    "            # result = evaluate_model(module, model_config, test_dataloader)\n",
    "            pass\n",
    "\n",
    "    print(\"Start Negative TI\")\n",
    "\n",
    "    for idx, batch in enumerate(negative_samples):\n",
    "        input_ids, attn_mask, _, total_sampled = batch\n",
    "        with torch.no_grad():\n",
    "            ti.propagate(module, input_ids)\n",
    "        if idx % eval_step:\n",
    "            # result = evaluate_model(module, model_config, test_dataloader)\n",
    "            pass\n",
    "\n",
    "    ConcernModularizationBert.channeling(module, ci.active_node, ti.dead_node, i, model_config.device)\n",
    "    binary_module = ConcernModularizationBert.convert2binary(model_config, module)\n",
    "    # save_module(binary_module, model_config.module_dir, model_config.model_name)\n",
    "    \n",
    "    for m in range(num_labels):\n",
    "        if i == m:\n",
    "            continue\n",
    "        print(f\"[i, m]\")\n",
    "        converted_test_dataloader = convert_dataset_labels_to_binary(test_dataloader, i, True)\n",
    "        result = evaluate_model(module, model_config, converted_test_dataloader)\n"
   ]
  }
 ],
 "metadata": {
  "kernelspec": {
   "display_name": "Python 3 (ipykernel)",
   "language": "python",
   "name": "python3"
  },
  "language_info": {
   "codemirror_mode": {
    "name": "ipython",
    "version": 3
   },
   "file_extension": ".py",
   "mimetype": "text/x-python",
   "name": "python",
   "nbconvert_exporter": "python",
   "pygments_lexer": "ipython3",
   "version": "3.8.18"
  }
 },
 "nbformat": 4,
 "nbformat_minor": 5
}
