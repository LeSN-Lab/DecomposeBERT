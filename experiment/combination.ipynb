{
 "cells": [
  {
   "cell_type": "code",
   "execution_count": null,
   "id": "8fb3adee-b6a8-41a4-a5c6-451fc0a3b0c6",
   "metadata": {},
   "outputs": [],
   "source": [
    "import copy\n",
    "import os.path\n",
    "import sys\n",
    "\n",
    "pwd = os.getcwd()\n",
    "sys.path.append(os.path.dirname(pwd))\n",
    "\n",
    "from utils.model_utils.evaluate import evaluate_model\n",
    "from utils.model_utils.load_model import *\n",
    "from utils.model_utils.model_config import ModelConfig\n",
    "from utils.dataset_utils.load_dataset import load_data\n",
    "from utils.decompose_utils.weight_remover import WeightRemoverBert\n",
    "from utils.decompose_utils.concern_identification import ConcernIdentificationBert\n",
    "from utils.decompose_utils.tangling_identification import TanglingIdentification\n",
    "from transformers import AutoConfig\n",
    "from utils.model_utils.save_module import save_module\n",
    "from datetime import datetime\n",
    "from utils.decompose_utils.concern_modularization import ConcernModularizationBert\n",
    "from utils.decompose_utils.sampling import sampling_class\n",
    "from utils.dataset_utils.load_dataset import convert_dataset_labels_to_binary, extract_and_convert_dataloader\n",
    "import torch\n"
   ]
  },
  {
   "cell_type": "code",
   "execution_count": null,
   "id": "d7afe56f-8008-4c64-8a48-49b3965aa7e4",
   "metadata": {},
   "outputs": [],
   "source": [
    "model_name = \"sadickam/sdg-classification-bert\"\n",
    "model_type = \"pretrained\"\n",
    "data = \"OSDG\"\n",
    "num_labels = 16\n",
    "\n",
    "\n",
    "# model_name = \"textattack/bert-base-uncased-imdb\"\n",
    "# model_type = \"pretrained\"\n",
    "# data = \"IMDb\"\n",
    "# num_labels = 2\n",
    "\n",
    "# model_name = \"fabriceyhc/bert-base-uncased-yahoo_answers_topics\"\n",
    "# model_type = \"pretrained\"\n",
    "# data = \"Yahoo\"\n",
    "# num_labels = 10"
   ]
  },
  {
   "cell_type": "code",
   "execution_count": null,
   "id": "0bbf7f78-d3d8-487f-bf64-fec60116c64d",
   "metadata": {},
   "outputs": [],
   "source": [
    "device = torch.device(\"cuda:0\" if torch.cuda.is_available() else \"cpu\")\n",
    "# device = torch.device(\"cuda:1\" if torch.cuda.is_available() else \"cpu\")\n",
    "\n",
    "checkpoint_name = None\n",
    "config = AutoConfig.from_pretrained(model_name, num_labels=num_labels)\n",
    "model_config = ModelConfig(\n",
    "    _model_name=model_name,\n",
    "    _model_type=model_type,\n",
    "    _data=data,\n",
    "    _transformer_config=config,\n",
    "    _checkpoint_name=checkpoint_name,\n",
    "    _device=device,\n",
    ")\n"
   ]
  },
  {
   "cell_type": "code",
   "execution_count": null,
   "id": "d1711493-8f25-4305-b4f7-e59673d56956",
   "metadata": {},
   "outputs": [
    {
     "name": "stdout",
     "output_type": "stream",
     "text": [
      "Directory /home/Minwoo/LESN/Decompose/DecomposeBERT/Models/Configs/pretrained/sadickam/sdg-classification-bert exists.\n",
      "Loading the model.\n",
      "Start Time:18:13:36\n",
      "#Module 0 in progress....\n",
      "origin\n",
      "Start Positive CI sparse\n",
      "Start Positive CI after sparse\n",
      "Start Negative TI\n",
      "[1, 2, 7, 8, 9, 10, 15]\n",
      "[0, 2, 7, 9, 10, 15]\n",
      "[0, 9, 15, 0, 0, 0, 0, 12, 8, 16, 15, 0, 0, 0, 0, 16]\n",
      "[16, 0, 10, 0, 0, 0, 0, 14, 0, 16, 16, 0, 0, 0, 0, 16]\n",
      "0 1\n"
     ]
    },
    {
     "name": "stderr",
     "output_type": "stream",
     "text": [
      "Evaluating: 100%|██████████| 50/50 [00:24<00:00,  2.02it/s]\n"
     ]
    },
    {
     "name": "stdout",
     "output_type": "stream",
     "text": [
      "Loss: 0.3127\n",
      "Precision: 0.8913, Recall: 0.8840, F1-Score: 0.8842\n",
      "              precision    recall  f1-score   support\n",
      "\n",
      "           0       0.94      0.82      0.88       775\n",
      "           1       0.84      0.95      0.89       797\n",
      "\n",
      "    accuracy                           0.88      1572\n",
      "   macro avg       0.89      0.88      0.88      1572\n",
      "weighted avg       0.89      0.88      0.88      1572\n",
      "\n",
      "Directory /home/Minwoo/LESN/Decompose/DecomposeBERT/Models/Configs/pretrained/sadickam/sdg-classification-bert exists.\n",
      "Loading the model.\n",
      "Start Time:18:14:52\n",
      "#Module 0 in progress....\n",
      "origin\n",
      "Start Positive CI sparse\n",
      "Start Positive CI after sparse\n",
      "Start Negative TI\n",
      "[1, 2, 7, 8, 9, 10, 15]\n",
      "[0, 2, 7, 9, 10, 15]\n",
      "[0, 10, 9, 0, 0, 0, 0, 11, 8, 16, 15, 0, 0, 0, 0, 16]\n",
      "[16, 0, 12, 0, 0, 0, 0, 9, 0, 16, 10, 0, 0, 0, 0, 16]\n",
      "0 2\n"
     ]
    },
    {
     "name": "stderr",
     "output_type": "stream",
     "text": [
      "Evaluating: 100%|██████████| 50/50 [00:25<00:00,  1.92it/s]\n"
     ]
    },
    {
     "name": "stdout",
     "output_type": "stream",
     "text": [
      "Loss: 0.8319\n",
      "Precision: 0.4752, Recall: 0.4950, F1-Score: 0.3690\n",
      "              precision    recall  f1-score   support\n",
      "\n",
      "           0       0.45      0.05      0.09       795\n",
      "           1       0.50      0.94      0.65       797\n",
      "\n",
      "    accuracy                           0.50      1592\n",
      "   macro avg       0.48      0.50      0.37      1592\n",
      "weighted avg       0.48      0.50      0.37      1592\n",
      "\n",
      "Directory /home/Minwoo/LESN/Decompose/DecomposeBERT/Models/Configs/pretrained/sadickam/sdg-classification-bert exists.\n",
      "Loading the model.\n",
      "Start Time:18:16:02\n",
      "#Module 0 in progress....\n",
      "origin\n",
      "Start Positive CI sparse\n",
      "Start Positive CI after sparse\n",
      "Start Negative TI\n",
      "[2, 7, 9, 10, 12, 15]\n",
      "[0, 7, 9, 10, 15]\n",
      "[0, 0, 10, 0, 0, 0, 0, 9, 0, 16, 14, 0, 11, 0, 0, 16]\n",
      "[16, 0, 0, 0, 0, 0, 0, 12, 0, 16, 14, 0, 0, 0, 0, 16]\n",
      "0 3\n"
     ]
    },
    {
     "name": "stderr",
     "output_type": "stream",
     "text": [
      "Evaluating: 100%|██████████| 60/60 [00:31<00:00,  1.89it/s]\n"
     ]
    },
    {
     "name": "stdout",
     "output_type": "stream",
     "text": [
      "Loss: 0.5953\n",
      "Precision: 0.7451, Recall: 0.6974, F1-Score: 0.6459\n",
      "              precision    recall  f1-score   support\n",
      "\n",
      "           0       0.94      0.43      0.59      1110\n",
      "           1       0.55      0.96      0.70       797\n",
      "\n",
      "    accuracy                           0.65      1907\n",
      "   macro avg       0.75      0.70      0.65      1907\n",
      "weighted avg       0.78      0.65      0.64      1907\n",
      "\n",
      "Directory /home/Minwoo/LESN/Decompose/DecomposeBERT/Models/Configs/pretrained/sadickam/sdg-classification-bert exists.\n",
      "Loading the model.\n",
      "Start Time:18:17:22\n",
      "#Module 0 in progress....\n",
      "origin\n",
      "Start Positive CI sparse\n",
      "Start Positive CI after sparse\n",
      "Start Negative TI\n",
      "[1, 2, 5, 7, 9, 10, 12, 15]\n",
      "[0, 1, 2, 7, 9, 10, 15]\n",
      "[0, 9, 8, 0, 0, 8, 0, 14, 0, 16, 16, 0, 8, 0, 0, 16]\n",
      "[16, 9, 11, 0, 0, 0, 0, 13, 0, 16, 15, 0, 0, 0, 0, 16]\n",
      "0 4\n"
     ]
    },
    {
     "name": "stderr",
     "output_type": "stream",
     "text": [
      "Evaluating: 100%|██████████| 65/65 [00:35<00:00,  1.81it/s]\n"
     ]
    },
    {
     "name": "stdout",
     "output_type": "stream",
     "text": [
      "Loss: 1.0441\n",
      "Precision: 0.5088, Recall: 0.5009, F1-Score: 0.3034\n",
      "              precision    recall  f1-score   support\n",
      "\n",
      "           0       0.63      0.03      0.05      1260\n",
      "           1       0.39      0.97      0.56       797\n",
      "\n",
      "    accuracy                           0.39      2057\n",
      "   macro avg       0.51      0.50      0.30      2057\n",
      "weighted avg       0.54      0.39      0.25      2057\n",
      "\n",
      "Directory /home/Minwoo/LESN/Decompose/DecomposeBERT/Models/Configs/pretrained/sadickam/sdg-classification-bert exists.\n",
      "Loading the model.\n",
      "Start Time:18:18:41\n",
      "#Module 0 in progress....\n",
      "origin\n",
      "Start Positive CI sparse\n",
      "Start Positive CI after sparse\n",
      "Start Negative TI\n",
      "[1, 2, 5, 7, 8, 9, 10, 12, 14, 15]\n",
      "[0, 1, 2, 7, 9, 10, 15]\n",
      "[0, 11, 8, 0, 0, 11, 0, 11, 9, 16, 14, 0, 13, 0, 8, 16]\n",
      "[16, 13, 10, 0, 0, 0, 0, 12, 0, 16, 14, 0, 0, 0, 0, 15]\n",
      "0 5\n"
     ]
    },
    {
     "name": "stderr",
     "output_type": "stream",
     "text": [
      "Evaluating: 100%|██████████| 53/53 [00:25<00:00,  2.05it/s]\n"
     ]
    },
    {
     "name": "stdout",
     "output_type": "stream",
     "text": [
      "Loss: 0.1799\n",
      "Precision: 0.9463, Recall: 0.9475, F1-Score: 0.9464\n",
      "              precision    recall  f1-score   support\n",
      "\n",
      "           0       0.97      0.93      0.95       882\n",
      "           1       0.92      0.97      0.94       797\n",
      "\n",
      "    accuracy                           0.95      1679\n",
      "   macro avg       0.95      0.95      0.95      1679\n",
      "weighted avg       0.95      0.95      0.95      1679\n",
      "\n",
      "Directory /home/Minwoo/LESN/Decompose/DecomposeBERT/Models/Configs/pretrained/sadickam/sdg-classification-bert exists.\n",
      "Loading the model.\n",
      "Start Time:18:19:49\n",
      "#Module 0 in progress....\n",
      "origin\n",
      "Start Positive CI sparse\n",
      "Start Positive CI after sparse\n",
      "Start Negative TI\n",
      "[2, 7, 9, 10, 15]\n",
      "[0, 2, 7, 9, 10, 15]\n",
      "[0, 0, 11, 0, 0, 0, 0, 10, 0, 16, 14, 0, 0, 0, 0, 16]\n",
      "[16, 0, 11, 0, 0, 0, 0, 10, 0, 16, 16, 0, 0, 0, 0, 16]\n",
      "0 6\n"
     ]
    },
    {
     "name": "stderr",
     "output_type": "stream",
     "text": [
      "Evaluating: 100%|██████████| 55/55 [00:29<00:00,  1.86it/s]\n"
     ]
    },
    {
     "name": "stdout",
     "output_type": "stream",
     "text": [
      "Loss: 0.3339\n",
      "Precision: 0.9380, Recall: 0.9401, F1-Score: 0.9387\n",
      "              precision    recall  f1-score   support\n",
      "\n",
      "           0       0.96      0.93      0.94       940\n",
      "           1       0.92      0.95      0.93       797\n",
      "\n",
      "    accuracy                           0.94      1737\n",
      "   macro avg       0.94      0.94      0.94      1737\n",
      "weighted avg       0.94      0.94      0.94      1737\n",
      "\n",
      "Directory /home/Minwoo/LESN/Decompose/DecomposeBERT/Models/Configs/pretrained/sadickam/sdg-classification-bert exists.\n",
      "Loading the model.\n",
      "Start Time:18:21:19\n",
      "#Module 0 in progress....\n",
      "origin\n",
      "Start Positive CI sparse\n",
      "Start Positive CI after sparse\n",
      "Start Negative TI\n",
      "[1, 7, 9, 10, 15]\n",
      "[0, 7, 9, 10, 12, 15]\n",
      "[0, 10, 0, 0, 0, 0, 0, 12, 0, 16, 13, 0, 0, 0, 0, 16]\n",
      "[16, 0, 0, 0, 0, 0, 0, 9, 0, 16, 16, 0, 9, 0, 0, 16]\n",
      "0 7\n"
     ]
    },
    {
     "name": "stderr",
     "output_type": "stream",
     "text": [
      "Evaluating: 100%|██████████| 40/40 [00:27<00:00,  1.44it/s]\n"
     ]
    },
    {
     "name": "stdout",
     "output_type": "stream",
     "text": [
      "Loss: 0.4397\n",
      "Precision: 0.7834, Recall: 0.7084, F1-Score: 0.7197\n",
      "              precision    recall  f1-score   support\n",
      "\n",
      "           0       0.81      0.48      0.61       473\n",
      "           1       0.75      0.93      0.83       797\n",
      "\n",
      "    accuracy                           0.77      1270\n",
      "   macro avg       0.78      0.71      0.72      1270\n",
      "weighted avg       0.78      0.77      0.75      1270\n",
      "\n",
      "Directory /home/Minwoo/LESN/Decompose/DecomposeBERT/Models/Configs/pretrained/sadickam/sdg-classification-bert exists.\n",
      "Loading the model.\n",
      "Start Time:18:22:33\n",
      "#Module 0 in progress....\n",
      "origin\n",
      "Start Positive CI sparse\n",
      "Start Positive CI after sparse\n",
      "Start Negative TI\n",
      "[1, 2, 7, 9, 10, 15]\n",
      "[0, 2, 4, 7, 9, 10, 15]\n",
      "[0, 10, 11, 0, 0, 0, 0, 13, 0, 16, 15, 0, 0, 0, 0, 16]\n",
      "[16, 0, 9, 0, 11, 0, 0, 12, 0, 16, 15, 0, 0, 0, 0, 16]\n",
      "0 8\n"
     ]
    },
    {
     "name": "stderr",
     "output_type": "stream",
     "text": [
      "Evaluating: 100%|██████████| 49/49 [00:29<00:00,  1.65it/s]\n"
     ]
    },
    {
     "name": "stdout",
     "output_type": "stream",
     "text": [
      "Loss: 0.3430\n",
      "Precision: 0.9142, Recall: 0.9115, F1-Score: 0.9122\n",
      "              precision    recall  f1-score   support\n",
      "\n",
      "           0       0.93      0.88      0.91       746\n",
      "           1       0.89      0.94      0.92       797\n",
      "\n",
      "    accuracy                           0.91      1543\n",
      "   macro avg       0.91      0.91      0.91      1543\n",
      "weighted avg       0.91      0.91      0.91      1543\n",
      "\n",
      "Directory /home/Minwoo/LESN/Decompose/DecomposeBERT/Models/Configs/pretrained/sadickam/sdg-classification-bert exists.\n",
      "Loading the model.\n",
      "Start Time:18:23:49\n",
      "#Module 0 in progress....\n",
      "origin\n",
      "Start Positive CI sparse\n",
      "Start Positive CI after sparse\n",
      "Start Negative TI\n",
      "[2, 7, 9, 10, 12, 15]\n",
      "[0, 1, 2, 9, 10, 12, 15]\n",
      "[0, 0, 13, 0, 0, 0, 0, 10, 0, 16, 16, 0, 8, 0, 0, 15]\n",
      "[16, 11, 14, 0, 0, 0, 0, 0, 0, 16, 16, 0, 8, 0, 0, 16]\n",
      "0 9\n"
     ]
    },
    {
     "name": "stderr",
     "output_type": "stream",
     "text": [
      "Evaluating: 100%|██████████| 47/47 [00:28<00:00,  1.64it/s]\n"
     ]
    },
    {
     "name": "stdout",
     "output_type": "stream",
     "text": [
      "Loss: 0.5522\n",
      "Precision: 0.6927, Recall: 0.6505, F1-Score: 0.6402\n",
      "              precision    recall  f1-score   support\n",
      "\n",
      "           0       0.75      0.43      0.54       689\n",
      "           1       0.64      0.88      0.74       797\n",
      "\n",
      "    accuracy                           0.67      1486\n",
      "   macro avg       0.69      0.65      0.64      1486\n",
      "weighted avg       0.69      0.67      0.65      1486\n",
      "\n",
      "Directory /home/Minwoo/LESN/Decompose/DecomposeBERT/Models/Configs/pretrained/sadickam/sdg-classification-bert exists.\n",
      "Loading the model.\n",
      "Start Time:18:25:10\n",
      "#Module 0 in progress....\n",
      "origin\n",
      "Start Positive CI sparse\n",
      "Start Positive CI after sparse\n",
      "Start Negative TI\n",
      "[1, 7, 9, 10, 12, 15]\n",
      "[0, 1, 7, 9, 10, 15]\n",
      "[0, 10, 0, 0, 0, 0, 0, 13, 0, 16, 14, 0, 11, 0, 0, 16]\n",
      "[16, 8, 0, 0, 0, 0, 0, 16, 0, 16, 14, 0, 0, 0, 0, 9]\n",
      "0 10\n"
     ]
    },
    {
     "name": "stderr",
     "output_type": "stream",
     "text": [
      "Evaluating: 100%|██████████| 46/46 [00:28<00:00,  1.64it/s]\n"
     ]
    },
    {
     "name": "stdout",
     "output_type": "stream",
     "text": [
      "Loss: 0.5513\n",
      "Precision: 0.7751, Recall: 0.6392, F1-Score: 0.6071\n",
      "              precision    recall  f1-score   support\n",
      "\n",
      "           0       0.93      0.30      0.45       670\n",
      "           1       0.62      0.98      0.76       797\n",
      "\n",
      "    accuracy                           0.67      1467\n",
      "   macro avg       0.78      0.64      0.61      1467\n",
      "weighted avg       0.76      0.67      0.62      1467\n",
      "\n",
      "Directory /home/Minwoo/LESN/Decompose/DecomposeBERT/Models/Configs/pretrained/sadickam/sdg-classification-bert exists.\n",
      "Loading the model.\n",
      "Start Time:18:27:25\n",
      "#Module 0 in progress....\n",
      "origin\n",
      "Start Positive CI sparse\n",
      "Start Positive CI after sparse\n",
      "Start Negative TI\n",
      "[1, 2, 5, 7, 9, 10, 12, 13, 14, 15]\n",
      "[0, 1, 2, 7, 9, 10, 12, 15]\n",
      "[0, 12, 11, 0, 0, 10, 0, 13, 0, 16, 14, 0, 13, 8, 9, 15]\n",
      "[16, 14, 9, 0, 0, 0, 0, 12, 0, 16, 14, 0, 8, 0, 0, 15]\n",
      "0 11\n"
     ]
    },
    {
     "name": "stderr",
     "output_type": "stream",
     "text": [
      "Evaluating: 100%|██████████| 35/35 [00:08<00:00,  4.31it/s]\n"
     ]
    },
    {
     "name": "stdout",
     "output_type": "stream",
     "text": [
      "Loss: 0.2010\n",
      "Precision: 0.9566, Recall: 0.9181, F1-Score: 0.9349\n",
      "              precision    recall  f1-score   support\n",
      "\n",
      "           0       0.97      0.85      0.90       312\n",
      "           1       0.94      0.99      0.97       797\n",
      "\n",
      "    accuracy                           0.95      1109\n",
      "   macro avg       0.96      0.92      0.93      1109\n",
      "weighted avg       0.95      0.95      0.95      1109\n",
      "\n",
      "Directory /home/Minwoo/LESN/Decompose/DecomposeBERT/Models/Configs/pretrained/sadickam/sdg-classification-bert exists.\n",
      "Loading the model.\n",
      "Start Time:18:29:00\n",
      "#Module 0 in progress....\n",
      "origin\n",
      "Start Positive CI sparse\n",
      "Start Positive CI after sparse\n",
      "Start Negative TI\n",
      "[1, 2, 7, 8, 9, 10, 12, 15]\n",
      "[0, 2, 7, 9, 10, 15]\n",
      "[0, 11, 10, 0, 0, 0, 0, 13, 10, 16, 15, 0, 9, 0, 0, 16]\n",
      "[16, 0, 12, 0, 0, 0, 0, 11, 0, 16, 15, 0, 0, 0, 0, 15]\n",
      "0 12\n"
     ]
    },
    {
     "name": "stderr",
     "output_type": "stream",
     "text": [
      "Evaluating: 100%|██████████| 46/46 [00:30<00:00,  1.50it/s]\n"
     ]
    },
    {
     "name": "stdout",
     "output_type": "stream",
     "text": [
      "Loss: 0.1962\n",
      "Precision: 0.9450, Recall: 0.9463, F1-Score: 0.9456\n",
      "              precision    recall  f1-score   support\n",
      "\n",
      "           0       0.93      0.95      0.94       665\n",
      "           1       0.96      0.94      0.95       797\n",
      "\n",
      "    accuracy                           0.95      1462\n",
      "   macro avg       0.95      0.95      0.95      1462\n",
      "weighted avg       0.95      0.95      0.95      1462\n",
      "\n",
      "Directory /home/Minwoo/LESN/Decompose/DecomposeBERT/Models/Configs/pretrained/sadickam/sdg-classification-bert exists.\n",
      "Loading the model.\n",
      "Start Time:18:30:12\n",
      "#Module 0 in progress....\n",
      "origin\n",
      "Start Positive CI sparse\n",
      "Start Positive CI after sparse\n",
      "Start Negative TI\n",
      "[1, 2, 7, 8, 9, 10, 12, 15]\n",
      "[0, 2, 7, 9, 10, 15]\n",
      "[0, 9, 8, 0, 0, 0, 0, 15, 8, 16, 15, 0, 10, 0, 0, 16]\n",
      "[16, 0, 9, 0, 0, 0, 0, 15, 0, 16, 15, 0, 0, 0, 0, 16]\n",
      "0 13\n"
     ]
    },
    {
     "name": "stderr",
     "output_type": "stream",
     "text": [
      "Evaluating: 100%|██████████| 35/35 [00:22<00:00,  1.52it/s]\n"
     ]
    },
    {
     "name": "stdout",
     "output_type": "stream",
     "text": [
      "Loss: 0.2890\n",
      "Precision: 0.8859, Recall: 0.8679, F1-Score: 0.8762\n",
      "              precision    recall  f1-score   support\n",
      "\n",
      "           0       0.85      0.79      0.82       314\n",
      "           1       0.92      0.95      0.93       797\n",
      "\n",
      "    accuracy                           0.90      1111\n",
      "   macro avg       0.89      0.87      0.88      1111\n",
      "weighted avg       0.90      0.90      0.90      1111\n",
      "\n",
      "Directory /home/Minwoo/LESN/Decompose/DecomposeBERT/Models/Configs/pretrained/sadickam/sdg-classification-bert exists.\n",
      "Loading the model.\n",
      "Start Time:18:31:20\n",
      "#Module 0 in progress....\n",
      "origin\n",
      "Start Positive CI sparse\n",
      "Start Positive CI after sparse\n",
      "Start Negative TI\n",
      "[1, 7, 8, 9, 10, 12, 15]\n",
      "[0, 1, 2, 4, 7, 8, 9, 10, 12, 15]\n",
      "[0, 9, 0, 0, 0, 0, 0, 16, 11, 16, 16, 0, 10, 0, 0, 16]\n",
      "[16, 12, 8, 0, 8, 0, 0, 15, 8, 16, 14, 0, 8, 0, 0, 13]\n",
      "0 14\n"
     ]
    },
    {
     "name": "stderr",
     "output_type": "stream",
     "text": [
      "Evaluating: 100%|██████████| 49/49 [00:19<00:00,  2.52it/s]\n"
     ]
    },
    {
     "name": "stdout",
     "output_type": "stream",
     "text": [
      "Loss: 0.3522\n",
      "Precision: 0.9194, Recall: 0.9176, F1-Score: 0.9180\n",
      "              precision    recall  f1-score   support\n",
      "\n",
      "           0       0.94      0.89      0.91       756\n",
      "           1       0.90      0.94      0.92       797\n",
      "\n",
      "    accuracy                           0.92      1553\n",
      "   macro avg       0.92      0.92      0.92      1553\n",
      "weighted avg       0.92      0.92      0.92      1553\n",
      "\n",
      "Directory /home/Minwoo/LESN/Decompose/DecomposeBERT/Models/Configs/pretrained/sadickam/sdg-classification-bert exists.\n",
      "Loading the model.\n",
      "Start Time:18:32:19\n",
      "#Module 0 in progress....\n",
      "origin\n",
      "Start Positive CI sparse\n",
      "Start Positive CI after sparse\n",
      "Start Negative TI\n",
      "[1, 7, 9, 10, 15]\n",
      "[0, 1, 7, 9, 10, 15]\n",
      "[0, 9, 0, 0, 0, 0, 0, 13, 0, 16, 14, 0, 0, 0, 0, 16]\n",
      "[16, 9, 0, 0, 0, 0, 0, 13, 0, 16, 15, 0, 0, 0, 0, 15]\n",
      "0 15\n"
     ]
    },
    {
     "name": "stderr",
     "output_type": "stream",
     "text": [
      "Evaluating: 100%|██████████| 76/76 [00:35<00:00,  2.11it/s]\n"
     ]
    },
    {
     "name": "stdout",
     "output_type": "stream",
     "text": [
      "Loss: 0.3335\n",
      "Precision: 0.9728, Recall: 0.9728, F1-Score: 0.9728\n",
      "              precision    recall  f1-score   support\n",
      "\n",
      "           0       0.98      0.98      0.98      1607\n",
      "           1       0.96      0.96      0.96       797\n",
      "\n",
      "    accuracy                           0.98      2404\n",
      "   macro avg       0.97      0.97      0.97      2404\n",
      "weighted avg       0.98      0.98      0.98      2404\n",
      "\n",
      "Directory /home/Minwoo/LESN/Decompose/DecomposeBERT/Models/Configs/pretrained/sadickam/sdg-classification-bert exists.\n",
      "Loading the model.\n",
      "Start Time:18:33:59\n",
      "#Module 1 in progress....\n",
      "origin\n",
      "Start Positive CI sparse\n",
      "Start Positive CI after sparse\n",
      "Start Negative TI\n",
      "[0, 2, 4, 7, 8, 9, 10, 15]\n",
      "[0, 1, 8, 9, 10, 12, 15]\n",
      "[16, 0, 8, 0, 10, 0, 0, 9, 8, 16, 15, 0, 0, 0, 0, 16]\n",
      "[16, 16, 0, 0, 0, 0, 0, 0, 8, 16, 14, 0, 13, 0, 0, 16]\n",
      "1 0\n"
     ]
    },
    {
     "name": "stderr",
     "output_type": "stream",
     "text": [
      "Evaluating: 100%|██████████| 50/50 [00:17<00:00,  2.92it/s]\n"
     ]
    },
    {
     "name": "stdout",
     "output_type": "stream",
     "text": [
      "Loss: 0.3444\n",
      "Precision: 0.8948, Recall: 0.8934, F1-Score: 0.8936\n",
      "              precision    recall  f1-score   support\n",
      "\n",
      "           0       0.88      0.92      0.90       797\n",
      "           1       0.91      0.87      0.89       775\n",
      "\n",
      "    accuracy                           0.89      1572\n",
      "   macro avg       0.89      0.89      0.89      1572\n",
      "weighted avg       0.89      0.89      0.89      1572\n",
      "\n",
      "Directory /home/Minwoo/LESN/Decompose/DecomposeBERT/Models/Configs/pretrained/sadickam/sdg-classification-bert exists.\n",
      "Loading the model.\n",
      "Start Time:18:35:07\n",
      "#Module 1 in progress....\n",
      "origin\n",
      "Start Positive CI sparse\n",
      "Start Positive CI after sparse\n",
      "Start Negative TI\n",
      "[0, 2, 7, 9, 10, 15]\n",
      "[0, 1, 2, 7, 9, 10, 15]\n",
      "[15, 0, 11, 0, 0, 0, 0, 13, 0, 16, 13, 0, 0, 0, 0, 16]\n",
      "[16, 16, 12, 0, 0, 0, 0, 12, 0, 16, 13, 0, 0, 0, 0, 16]\n",
      "1 2\n"
     ]
    },
    {
     "name": "stderr",
     "output_type": "stream",
     "text": [
      "Evaluating: 100%|██████████| 50/50 [00:16<00:00,  3.06it/s]\n"
     ]
    },
    {
     "name": "stdout",
     "output_type": "stream",
     "text": [
      "Loss: 0.4152\n",
      "Precision: 0.9097, Recall: 0.9065, F1-Score: 0.9068\n",
      "              precision    recall  f1-score   support\n",
      "\n",
      "           0       0.88      0.95      0.91       795\n",
      "           1       0.94      0.87      0.90       775\n",
      "\n",
      "    accuracy                           0.91      1570\n",
      "   macro avg       0.91      0.91      0.91      1570\n",
      "weighted avg       0.91      0.91      0.91      1570\n",
      "\n",
      "Directory /home/Minwoo/LESN/Decompose/DecomposeBERT/Models/Configs/pretrained/sadickam/sdg-classification-bert exists.\n",
      "Loading the model.\n",
      "Start Time:18:36:27\n",
      "#Module 1 in progress....\n",
      "origin\n",
      "Start Positive CI sparse\n",
      "Start Positive CI after sparse\n",
      "Start Negative TI\n",
      "[0, 2, 7, 8, 9, 10, 12, 15]\n",
      "[0, 1, 8, 9, 10, 12, 15]\n",
      "[16, 0, 11, 0, 0, 0, 0, 8, 9, 16, 16, 0, 12, 0, 0, 16]\n",
      "[16, 16, 0, 0, 0, 0, 0, 0, 13, 16, 15, 0, 9, 0, 0, 16]\n",
      "1 3\n"
     ]
    },
    {
     "name": "stderr",
     "output_type": "stream",
     "text": [
      "Evaluating: 100%|██████████| 59/59 [00:18<00:00,  3.24it/s]\n"
     ]
    },
    {
     "name": "stdout",
     "output_type": "stream",
     "text": [
      "Loss: 0.3268\n",
      "Precision: 0.9360, Recall: 0.9280, F1-Score: 0.9315\n",
      "              precision    recall  f1-score   support\n",
      "\n",
      "           0       0.93      0.96      0.95      1110\n",
      "           1       0.94      0.89      0.92       775\n",
      "\n",
      "    accuracy                           0.93      1885\n",
      "   macro avg       0.94      0.93      0.93      1885\n",
      "weighted avg       0.93      0.93      0.93      1885\n",
      "\n",
      "Directory /home/Minwoo/LESN/Decompose/DecomposeBERT/Models/Configs/pretrained/sadickam/sdg-classification-bert exists.\n",
      "Loading the model.\n",
      "Start Time:18:37:56\n",
      "#Module 1 in progress....\n",
      "origin\n",
      "Start Positive CI sparse\n",
      "Start Positive CI after sparse\n",
      "Start Negative TI\n",
      "[0, 2, 7, 8, 9, 10, 12, 13, 14, 15]\n",
      "[0, 1, 2, 7, 8, 9, 10, 11, 12, 13, 14, 15]\n",
      "[16, 0, 14, 0, 0, 0, 0, 12, 14, 16, 11, 0, 9, 9, 8, 16]\n",
      "[16, 16, 10, 0, 0, 0, 0, 15, 12, 16, 12, 12, 11, 11, 11, 13]\n",
      "1 4\n"
     ]
    },
    {
     "name": "stderr",
     "output_type": "stream",
     "text": [
      "Evaluating: 100%|██████████| 64/64 [00:21<00:00,  2.96it/s]\n"
     ]
    },
    {
     "name": "stdout",
     "output_type": "stream",
     "text": [
      "Loss: 0.3943\n",
      "Precision: 0.9310, Recall: 0.9303, F1-Score: 0.9307\n",
      "              precision    recall  f1-score   support\n",
      "\n",
      "           0       0.95      0.95      0.95      1260\n",
      "           1       0.92      0.91      0.91       775\n",
      "\n",
      "    accuracy                           0.93      2035\n",
      "   macro avg       0.93      0.93      0.93      2035\n",
      "weighted avg       0.93      0.93      0.93      2035\n",
      "\n",
      "Directory /home/Minwoo/LESN/Decompose/DecomposeBERT/Models/Configs/pretrained/sadickam/sdg-classification-bert exists.\n",
      "Loading the model.\n",
      "Start Time:18:39:27\n",
      "#Module 1 in progress....\n",
      "origin\n",
      "Start Positive CI sparse\n",
      "Start Positive CI after sparse\n",
      "Start Negative TI\n",
      "[0, 2, 7, 9, 10, 12, 15]\n",
      "[0, 1, 8, 9, 10, 12, 13, 15]\n",
      "[16, 0, 10, 0, 0, 0, 0, 11, 0, 16, 11, 0, 10, 0, 0, 16]\n",
      "[16, 16, 0, 0, 0, 0, 0, 0, 16, 16, 13, 0, 8, 12, 0, 16]\n",
      "1 5\n"
     ]
    },
    {
     "name": "stderr",
     "output_type": "stream",
     "text": [
      "Evaluating: 100%|██████████| 52/52 [00:17<00:00,  3.00it/s]\n"
     ]
    },
    {
     "name": "stdout",
     "output_type": "stream",
     "text": [
      "Loss: 0.4574\n",
      "Precision: 0.8353, Recall: 0.8367, F1-Score: 0.8351\n",
      "              precision    recall  f1-score   support\n",
      "\n",
      "           0       0.87      0.81      0.84       882\n",
      "           1       0.80      0.86      0.83       775\n",
      "\n",
      "    accuracy                           0.84      1657\n",
      "   macro avg       0.84      0.84      0.84      1657\n",
      "weighted avg       0.84      0.84      0.84      1657\n",
      "\n",
      "Directory /home/Minwoo/LESN/Decompose/DecomposeBERT/Models/Configs/pretrained/sadickam/sdg-classification-bert exists.\n",
      "Loading the model.\n",
      "Start Time:18:40:46\n",
      "#Module 1 in progress....\n",
      "origin\n",
      "Start Positive CI sparse\n",
      "Start Positive CI after sparse\n",
      "Start Negative TI\n",
      "[0, 2, 6, 7, 8, 9, 10, 11, 12, 15]\n",
      "[0, 1, 2, 7, 8, 9, 10, 11, 12, 13, 15]\n",
      "[15, 0, 9, 0, 0, 0, 9, 15, 14, 15, 14, 9, 9, 0, 0, 16]\n",
      "[16, 16, 9, 0, 0, 0, 0, 13, 14, 16, 12, 13, 8, 10, 0, 16]\n",
      "1 6\n"
     ]
    },
    {
     "name": "stderr",
     "output_type": "stream",
     "text": [
      "Evaluating: 100%|██████████| 54/54 [00:16<00:00,  3.32it/s]\n"
     ]
    },
    {
     "name": "stdout",
     "output_type": "stream",
     "text": [
      "Loss: 0.2280\n",
      "Precision: 0.9405, Recall: 0.9266, F1-Score: 0.9308\n",
      "              precision    recall  f1-score   support\n",
      "\n",
      "           0       0.90      0.99      0.94       940\n",
      "           1       0.98      0.87      0.92       775\n",
      "\n",
      "    accuracy                           0.93      1715\n",
      "   macro avg       0.94      0.93      0.93      1715\n",
      "weighted avg       0.94      0.93      0.93      1715\n",
      "\n",
      "Directory /home/Minwoo/LESN/Decompose/DecomposeBERT/Models/Configs/pretrained/sadickam/sdg-classification-bert exists.\n",
      "Loading the model.\n",
      "Start Time:18:42:02\n",
      "#Module 1 in progress....\n",
      "origin\n",
      "Start Positive CI sparse\n",
      "Start Positive CI after sparse\n",
      "Start Negative TI\n",
      "[0, 2, 7, 8, 9, 10, 12, 15]\n",
      "[0, 1, 7, 8, 9, 10, 11, 13, 15]\n",
      "[15, 0, 10, 0, 0, 0, 0, 15, 11, 16, 15, 0, 8, 0, 0, 16]\n",
      "[16, 16, 0, 0, 0, 0, 0, 14, 14, 16, 9, 12, 0, 13, 0, 15]\n",
      "1 7\n"
     ]
    },
    {
     "name": "stderr",
     "output_type": "stream",
     "text": [
      "Evaluating: 100%|██████████| 39/39 [00:11<00:00,  3.39it/s]\n"
     ]
    },
    {
     "name": "stdout",
     "output_type": "stream",
     "text": [
      "Loss: 0.3360\n",
      "Precision: 0.8573, Recall: 0.8593, F1-Score: 0.8583\n",
      "              precision    recall  f1-score   support\n",
      "\n",
      "           0       0.82      0.83      0.82       473\n",
      "           1       0.90      0.89      0.89       775\n",
      "\n",
      "    accuracy                           0.87      1248\n",
      "   macro avg       0.86      0.86      0.86      1248\n",
      "weighted avg       0.87      0.87      0.87      1248\n",
      "\n",
      "Directory /home/Minwoo/LESN/Decompose/DecomposeBERT/Models/Configs/pretrained/sadickam/sdg-classification-bert exists.\n",
      "Loading the model.\n",
      "Start Time:18:43:12\n",
      "#Module 1 in progress....\n",
      "origin\n",
      "Start Positive CI sparse\n",
      "Start Positive CI after sparse\n",
      "Start Negative TI\n",
      "[0, 7, 8, 9, 10, 12, 15]\n",
      "[0, 1, 2, 7, 8, 9, 10, 12, 15]\n",
      "[16, 0, 0, 0, 0, 0, 0, 13, 10, 16, 14, 0, 10, 0, 0, 16]\n",
      "[16, 16, 10, 0, 0, 0, 0, 10, 13, 16, 16, 0, 9, 0, 0, 16]\n",
      "1 8\n"
     ]
    },
    {
     "name": "stderr",
     "output_type": "stream",
     "text": [
      "Evaluating: 100%|██████████| 48/48 [00:18<00:00,  2.62it/s]\n"
     ]
    },
    {
     "name": "stdout",
     "output_type": "stream",
     "text": [
      "Loss: 0.4243\n",
      "Precision: 0.9013, Recall: 0.8978, F1-Score: 0.8966\n",
      "              precision    recall  f1-score   support\n",
      "\n",
      "           0       0.85      0.95      0.90       746\n",
      "           1       0.95      0.84      0.89       775\n",
      "\n",
      "    accuracy                           0.90      1521\n",
      "   macro avg       0.90      0.90      0.90      1521\n",
      "weighted avg       0.90      0.90      0.90      1521\n",
      "\n",
      "Directory /home/Minwoo/LESN/Decompose/DecomposeBERT/Models/Configs/pretrained/sadickam/sdg-classification-bert exists.\n",
      "Loading the model.\n",
      "Start Time:18:44:44\n",
      "#Module 1 in progress....\n",
      "origin\n",
      "Start Positive CI sparse\n",
      "Start Positive CI after sparse\n",
      "Start Negative TI\n",
      "[0, 2, 7, 9, 10, 12, 15]\n",
      "[0, 1, 8, 9, 10, 12, 15]\n",
      "[16, 0, 10, 0, 0, 0, 0, 10, 0, 16, 15, 0, 11, 0, 0, 16]\n",
      "[16, 16, 0, 0, 0, 0, 0, 0, 9, 16, 15, 0, 9, 0, 0, 16]\n",
      "1 9\n"
     ]
    },
    {
     "name": "stderr",
     "output_type": "stream",
     "text": [
      "Evaluating: 100%|██████████| 46/46 [00:19<00:00,  2.32it/s]\n"
     ]
    },
    {
     "name": "stdout",
     "output_type": "stream",
     "text": [
      "Loss: 0.3469\n",
      "Precision: 0.8882, Recall: 0.8886, F1-Score: 0.8883\n",
      "              precision    recall  f1-score   support\n",
      "\n",
      "           0       0.88      0.89      0.88       689\n",
      "           1       0.90      0.89      0.89       775\n",
      "\n",
      "    accuracy                           0.89      1464\n",
      "   macro avg       0.89      0.89      0.89      1464\n",
      "weighted avg       0.89      0.89      0.89      1464\n",
      "\n",
      "Directory /home/Minwoo/LESN/Decompose/DecomposeBERT/Models/Configs/pretrained/sadickam/sdg-classification-bert exists.\n",
      "Loading the model.\n",
      "Start Time:18:46:15\n",
      "#Module 1 in progress....\n",
      "origin\n",
      "Start Positive CI sparse\n",
      "Start Positive CI after sparse\n",
      "Start Negative TI\n",
      "[0, 2, 7, 8, 9, 10, 12, 15]\n",
      "[0, 1, 8, 9, 10, 12, 15]\n",
      "[16, 0, 11, 0, 0, 0, 0, 10, 10, 16, 12, 0, 10, 0, 0, 16]\n",
      "[16, 16, 0, 0, 0, 0, 0, 0, 13, 16, 16, 0, 14, 0, 0, 15]\n",
      "1 10\n"
     ]
    },
    {
     "name": "stderr",
     "output_type": "stream",
     "text": [
      "Evaluating: 100%|██████████| 46/46 [00:23<00:00,  1.96it/s]\n"
     ]
    },
    {
     "name": "stdout",
     "output_type": "stream",
     "text": [
      "Loss: 0.4586\n",
      "Precision: 0.7790, Recall: 0.7578, F1-Score: 0.7591\n",
      "              precision    recall  f1-score   support\n",
      "\n",
      "           0       0.82      0.63      0.72       670\n",
      "           1       0.74      0.88      0.80       775\n",
      "\n",
      "    accuracy                           0.77      1445\n",
      "   macro avg       0.78      0.76      0.76      1445\n",
      "weighted avg       0.78      0.77      0.76      1445\n",
      "\n",
      "Directory /home/Minwoo/LESN/Decompose/DecomposeBERT/Models/Configs/pretrained/sadickam/sdg-classification-bert exists.\n",
      "Loading the model.\n",
      "Start Time:18:47:29\n",
      "#Module 1 in progress....\n",
      "origin\n",
      "Start Positive CI sparse\n",
      "Start Positive CI after sparse\n",
      "Start Negative TI\n",
      "[0, 2, 7, 9, 10, 12, 15]\n",
      "[0, 1, 9, 10, 12, 15]\n",
      "[16, 0, 8, 0, 0, 0, 0, 9, 0, 16, 13, 0, 9, 0, 0, 16]\n",
      "[16, 16, 0, 0, 0, 0, 0, 0, 0, 16, 16, 0, 14, 0, 0, 16]\n",
      "1 11\n"
     ]
    },
    {
     "name": "stderr",
     "output_type": "stream",
     "text": [
      "Evaluating: 100%|██████████| 34/34 [00:15<00:00,  2.13it/s]\n"
     ]
    },
    {
     "name": "stdout",
     "output_type": "stream",
     "text": [
      "Loss: 0.3848\n",
      "Precision: 0.8035, Recall: 0.8242, F1-Score: 0.8123\n",
      "              precision    recall  f1-score   support\n",
      "\n",
      "           0       0.70      0.79      0.74       312\n",
      "           1       0.91      0.86      0.89       775\n",
      "\n",
      "    accuracy                           0.84      1087\n",
      "   macro avg       0.80      0.82      0.81      1087\n",
      "weighted avg       0.85      0.84      0.84      1087\n",
      "\n",
      "Directory /home/Minwoo/LESN/Decompose/DecomposeBERT/Models/Configs/pretrained/sadickam/sdg-classification-bert exists.\n",
      "Loading the model.\n",
      "Start Time:18:48:37\n",
      "#Module 1 in progress....\n",
      "origin\n",
      "Start Positive CI sparse\n",
      "Start Positive CI after sparse\n",
      "Start Negative TI\n",
      "[0, 2, 7, 8, 9, 10, 15]\n",
      "[0, 1, 7, 8, 9, 10, 12, 15]\n",
      "[16, 0, 12, 0, 0, 0, 0, 8, 8, 16, 15, 0, 0, 0, 0, 16]\n",
      "[16, 16, 0, 0, 0, 0, 0, 11, 14, 16, 14, 0, 10, 0, 0, 16]\n",
      "1 12\n"
     ]
    },
    {
     "name": "stderr",
     "output_type": "stream",
     "text": [
      "Evaluating: 100%|██████████| 45/45 [00:19<00:00,  2.28it/s]\n"
     ]
    },
    {
     "name": "stdout",
     "output_type": "stream",
     "text": [
      "Loss: 1.0629\n",
      "Precision: 0.4320, Recall: 0.4771, F1-Score: 0.3864\n",
      "              precision    recall  f1-score   support\n",
      "\n",
      "           0       0.34      0.07      0.11       665\n",
      "           1       0.53      0.89      0.66       775\n",
      "\n",
      "    accuracy                           0.51      1440\n",
      "   macro avg       0.43      0.48      0.39      1440\n",
      "weighted avg       0.44      0.51      0.41      1440\n",
      "\n",
      "Directory /home/Minwoo/LESN/Decompose/DecomposeBERT/Models/Configs/pretrained/sadickam/sdg-classification-bert exists.\n",
      "Loading the model.\n",
      "Start Time:18:49:52\n",
      "#Module 1 in progress....\n",
      "origin\n",
      "Start Positive CI sparse\n",
      "Start Positive CI after sparse\n",
      "Start Negative TI\n",
      "[0, 7, 8, 9, 10, 15]\n",
      "[0, 1, 8, 9, 10, 11, 12, 15]\n",
      "[16, 0, 0, 0, 0, 0, 0, 9, 10, 16, 16, 0, 0, 0, 0, 16]\n",
      "[16, 16, 0, 0, 0, 0, 0, 0, 15, 16, 16, 8, 12, 0, 0, 16]\n",
      "1 13\n"
     ]
    },
    {
     "name": "stderr",
     "output_type": "stream",
     "text": [
      "Evaluating: 100%|██████████| 35/35 [00:10<00:00,  3.45it/s]\n"
     ]
    },
    {
     "name": "stdout",
     "output_type": "stream",
     "text": [
      "Loss: 0.5332\n",
      "Precision: 0.4485, Recall: 0.4694, F1-Score: 0.4470\n",
      "              precision    recall  f1-score   support\n",
      "\n",
      "           0       0.20      0.10      0.13       314\n",
      "           1       0.70      0.84      0.76       775\n",
      "\n",
      "    accuracy                           0.63      1089\n",
      "   macro avg       0.45      0.47      0.45      1089\n",
      "weighted avg       0.55      0.63      0.58      1089\n",
      "\n",
      "Directory /home/Minwoo/LESN/Decompose/DecomposeBERT/Models/Configs/pretrained/sadickam/sdg-classification-bert exists.\n",
      "Loading the model.\n",
      "Start Time:18:51:14\n",
      "#Module 1 in progress....\n",
      "origin\n",
      "Start Positive CI sparse\n",
      "Start Positive CI after sparse\n",
      "Start Negative TI\n",
      "[0, 7, 8, 9, 10, 15]\n",
      "[0, 1, 7, 8, 9, 10, 15]\n",
      "[16, 0, 0, 0, 0, 0, 0, 13, 10, 16, 14, 0, 0, 0, 0, 16]\n",
      "[16, 16, 0, 0, 0, 0, 0, 9, 15, 16, 13, 0, 0, 0, 0, 16]\n",
      "1 14\n"
     ]
    },
    {
     "name": "stderr",
     "output_type": "stream",
     "text": [
      "Evaluating: 100%|██████████| 48/48 [00:23<00:00,  2.06it/s]\n"
     ]
    },
    {
     "name": "stdout",
     "output_type": "stream",
     "text": [
      "Loss: 0.4264\n",
      "Precision: 0.8710, Recall: 0.8705, F1-Score: 0.8706\n",
      "              precision    recall  f1-score   support\n",
      "\n",
      "           0       0.88      0.85      0.87       756\n",
      "           1       0.86      0.89      0.87       775\n",
      "\n",
      "    accuracy                           0.87      1531\n",
      "   macro avg       0.87      0.87      0.87      1531\n",
      "weighted avg       0.87      0.87      0.87      1531\n",
      "\n",
      "Directory /home/Minwoo/LESN/Decompose/DecomposeBERT/Models/Configs/pretrained/sadickam/sdg-classification-bert exists.\n",
      "Loading the model.\n",
      "Start Time:18:52:51\n",
      "#Module 1 in progress....\n",
      "origin\n",
      "Start Positive CI sparse\n",
      "Start Positive CI after sparse\n",
      "Start Negative TI\n",
      "[0, 7, 8, 9, 10, 12, 13, 15]\n",
      "[0, 1, 7, 8, 9, 10, 12, 13, 15]\n",
      "[16, 0, 0, 0, 0, 0, 0, 11, 9, 16, 16, 0, 8, 8, 0, 16]\n",
      "[16, 16, 0, 0, 0, 0, 0, 10, 11, 16, 13, 0, 10, 10, 0, 16]\n",
      "1 15\n"
     ]
    },
    {
     "name": "stderr",
     "output_type": "stream",
     "text": [
      "Evaluating: 100%|██████████| 75/75 [00:50<00:00,  1.47it/s]\n"
     ]
    },
    {
     "name": "stdout",
     "output_type": "stream",
     "text": [
      "Loss: 0.5230\n",
      "Precision: 0.8094, Recall: 0.8409, F1-Score: 0.8180\n",
      "              precision    recall  f1-score   support\n",
      "\n",
      "           0       0.93      0.81      0.87      1607\n",
      "           1       0.69      0.87      0.77       775\n",
      "\n",
      "    accuracy                           0.83      2382\n",
      "   macro avg       0.81      0.84      0.82      2382\n",
      "weighted avg       0.85      0.83      0.83      2382\n",
      "\n",
      "Directory /home/Minwoo/LESN/Decompose/DecomposeBERT/Models/Configs/pretrained/sadickam/sdg-classification-bert exists.\n",
      "Loading the model.\n",
      "Start Time:18:54:43\n",
      "#Module 2 in progress....\n",
      "origin\n",
      "Start Positive CI sparse\n",
      "Start Positive CI after sparse\n",
      "Start Negative TI\n",
      "[0, 1, 7, 9, 10, 15]\n",
      "[0, 2, 9, 10, 15]\n",
      "[16, 9, 0, 0, 0, 0, 0, 9, 0, 16, 13, 0, 0, 0, 0, 16]\n",
      "[16, 0, 16, 0, 0, 0, 0, 0, 0, 16, 16, 0, 0, 0, 0, 16]\n",
      "2 0\n"
     ]
    },
    {
     "name": "stderr",
     "output_type": "stream",
     "text": [
      "Evaluating: 100%|██████████| 50/50 [00:26<00:00,  1.88it/s]\n"
     ]
    },
    {
     "name": "stdout",
     "output_type": "stream",
     "text": [
      "Loss: 0.3016\n",
      "Precision: 0.9092, Recall: 0.9040, F1-Score: 0.9036\n",
      "              precision    recall  f1-score   support\n",
      "\n",
      "           0       0.96      0.85      0.90       797\n",
      "           1       0.86      0.96      0.91       795\n",
      "\n",
      "    accuracy                           0.90      1592\n",
      "   macro avg       0.91      0.90      0.90      1592\n",
      "weighted avg       0.91      0.90      0.90      1592\n",
      "\n",
      "Directory /home/Minwoo/LESN/Decompose/DecomposeBERT/Models/Configs/pretrained/sadickam/sdg-classification-bert exists.\n",
      "Loading the model.\n",
      "Start Time:18:56:05\n",
      "#Module 2 in progress....\n",
      "origin\n",
      "Start Positive CI sparse\n",
      "Start Positive CI after sparse\n",
      "Start Negative TI\n",
      "[0, 7, 9, 10, 15]\n",
      "[0, 2, 9, 10, 15]\n",
      "[16, 0, 0, 0, 0, 0, 0, 8, 0, 16, 14, 0, 0, 0, 0, 16]\n",
      "[16, 0, 16, 0, 0, 0, 0, 0, 0, 16, 15, 0, 0, 0, 0, 16]\n",
      "2 1\n"
     ]
    },
    {
     "name": "stderr",
     "output_type": "stream",
     "text": [
      "Evaluating: 100%|██████████| 50/50 [00:34<00:00,  1.46it/s]\n"
     ]
    },
    {
     "name": "stdout",
     "output_type": "stream",
     "text": [
      "Loss: 0.3481\n",
      "Precision: 0.8715, Recall: 0.8561, F1-Score: 0.8556\n",
      "              precision    recall  f1-score   support\n",
      "\n",
      "           0       0.94      0.76      0.84       775\n",
      "           1       0.80      0.95      0.87       795\n",
      "\n",
      "    accuracy                           0.86      1570\n",
      "   macro avg       0.87      0.86      0.86      1570\n",
      "weighted avg       0.87      0.86      0.86      1570\n",
      "\n",
      "Directory /home/Minwoo/LESN/Decompose/DecomposeBERT/Models/Configs/pretrained/sadickam/sdg-classification-bert exists.\n",
      "Loading the model.\n",
      "Start Time:18:57:31\n",
      "#Module 2 in progress....\n",
      "origin\n",
      "Start Positive CI sparse\n",
      "Start Positive CI after sparse\n",
      "Start Negative TI\n",
      "[0, 1, 9, 10, 15]\n",
      "[0, 2, 4, 9, 10, 15]\n",
      "[16, 10, 0, 0, 0, 0, 0, 0, 0, 16, 15, 0, 0, 0, 0, 16]\n",
      "[16, 0, 16, 0, 10, 0, 0, 0, 0, 16, 16, 0, 0, 0, 0, 16]\n",
      "2 3\n"
     ]
    },
    {
     "name": "stderr",
     "output_type": "stream",
     "text": [
      "Evaluating: 100%|██████████| 60/60 [00:38<00:00,  1.54it/s]\n"
     ]
    },
    {
     "name": "stdout",
     "output_type": "stream",
     "text": [
      "Loss: 0.5254\n",
      "Precision: 0.7390, Recall: 0.6798, F1-Score: 0.6202\n",
      "              precision    recall  f1-score   support\n",
      "\n",
      "           0       0.95      0.39      0.55      1110\n",
      "           1       0.53      0.97      0.69       795\n",
      "\n",
      "    accuracy                           0.63      1905\n",
      "   macro avg       0.74      0.68      0.62      1905\n",
      "weighted avg       0.77      0.63      0.61      1905\n",
      "\n",
      "Directory /home/Minwoo/LESN/Decompose/DecomposeBERT/Models/Configs/pretrained/sadickam/sdg-classification-bert exists.\n",
      "Loading the model.\n",
      "Start Time:18:58:54\n",
      "#Module 2 in progress....\n",
      "origin\n",
      "Start Positive CI sparse\n",
      "Start Positive CI after sparse\n",
      "Start Negative TI\n",
      "[0, 1, 7, 9, 10, 12, 15]\n",
      "[0, 1, 2, 5, 9, 10, 15]\n",
      "[16, 11, 0, 0, 0, 0, 0, 10, 0, 16, 13, 0, 8, 0, 0, 16]\n",
      "[16, 10, 16, 0, 0, 11, 0, 0, 0, 16, 15, 0, 0, 0, 0, 16]\n",
      "2 4\n"
     ]
    },
    {
     "name": "stderr",
     "output_type": "stream",
     "text": [
      "Evaluating: 100%|██████████| 65/65 [00:45<00:00,  1.43it/s]\n"
     ]
    },
    {
     "name": "stdout",
     "output_type": "stream",
     "text": [
      "Loss: 0.5121\n",
      "Precision: 0.7778, Recall: 0.7785, F1-Score: 0.7392\n",
      "              precision    recall  f1-score   support\n",
      "\n",
      "           0       0.95      0.60      0.74      1260\n",
      "           1       0.60      0.95      0.74       795\n",
      "\n",
      "    accuracy                           0.74      2055\n",
      "   macro avg       0.78      0.78      0.74      2055\n",
      "weighted avg       0.82      0.74      0.74      2055\n",
      "\n",
      "Directory /home/Minwoo/LESN/Decompose/DecomposeBERT/Models/Configs/pretrained/sadickam/sdg-classification-bert exists.\n",
      "Loading the model.\n",
      "Start Time:19:00:22\n",
      "#Module 2 in progress....\n",
      "origin\n",
      "Start Positive CI sparse\n",
      "Start Positive CI after sparse\n",
      "Start Negative TI\n",
      "[0, 7, 9, 10, 12, 15]\n",
      "[0, 2, 9, 10, 15]\n",
      "[16, 0, 0, 0, 0, 0, 0, 8, 0, 16, 13, 0, 8, 0, 0, 16]\n",
      "[16, 0, 16, 0, 0, 0, 0, 0, 0, 16, 15, 0, 0, 0, 0, 16]\n",
      "2 5\n"
     ]
    },
    {
     "name": "stderr",
     "output_type": "stream",
     "text": [
      "Evaluating: 100%|██████████| 53/53 [00:28<00:00,  1.89it/s]\n"
     ]
    },
    {
     "name": "stdout",
     "output_type": "stream",
     "text": [
      "Loss: 0.3944\n",
      "Precision: 0.8204, Recall: 0.7900, F1-Score: 0.7774\n",
      "              precision    recall  f1-score   support\n",
      "\n",
      "           0       0.95      0.62      0.75       882\n",
      "           1       0.69      0.96      0.81       795\n",
      "\n",
      "    accuracy                           0.78      1677\n",
      "   macro avg       0.82      0.79      0.78      1677\n",
      "weighted avg       0.83      0.78      0.78      1677\n",
      "\n",
      "Directory /home/Minwoo/LESN/Decompose/DecomposeBERT/Models/Configs/pretrained/sadickam/sdg-classification-bert exists.\n",
      "Loading the model.\n",
      "Start Time:19:01:40\n",
      "#Module 2 in progress....\n",
      "origin\n",
      "Start Positive CI sparse\n",
      "Start Positive CI after sparse\n",
      "Start Negative TI\n",
      "[0, 7, 9, 10, 15]\n",
      "[0, 2, 9, 10, 15]\n",
      "[16, 0, 0, 0, 0, 0, 0, 9, 0, 16, 10, 0, 0, 0, 0, 16]\n",
      "[16, 0, 16, 0, 0, 0, 0, 0, 0, 16, 15, 0, 0, 0, 0, 16]\n",
      "2 6\n"
     ]
    },
    {
     "name": "stderr",
     "output_type": "stream",
     "text": [
      "Evaluating: 100%|██████████| 55/55 [00:30<00:00,  1.80it/s]\n"
     ]
    },
    {
     "name": "stdout",
     "output_type": "stream",
     "text": [
      "Loss: 0.3280\n",
      "Precision: 0.9264, Recall: 0.9293, F1-Score: 0.9266\n",
      "              precision    recall  f1-score   support\n",
      "\n",
      "           0       0.96      0.90      0.93       940\n",
      "           1       0.89      0.96      0.92       795\n",
      "\n",
      "    accuracy                           0.93      1735\n",
      "   macro avg       0.93      0.93      0.93      1735\n",
      "weighted avg       0.93      0.93      0.93      1735\n",
      "\n",
      "Directory /home/Minwoo/LESN/Decompose/DecomposeBERT/Models/Configs/pretrained/sadickam/sdg-classification-bert exists.\n",
      "Loading the model.\n",
      "Start Time:19:03:09\n",
      "#Module 2 in progress....\n",
      "origin\n",
      "Start Positive CI sparse\n",
      "Start Positive CI after sparse\n",
      "Start Negative TI\n",
      "[0, 7, 9, 10, 15]\n",
      "[0, 2, 9, 10, 15]\n",
      "[16, 0, 0, 0, 0, 0, 0, 8, 0, 16, 14, 0, 0, 0, 0, 16]\n",
      "[16, 0, 16, 0, 0, 0, 0, 0, 0, 16, 15, 0, 0, 0, 0, 16]\n",
      "2 7\n"
     ]
    },
    {
     "name": "stderr",
     "output_type": "stream",
     "text": [
      "Evaluating: 100%|██████████| 40/40 [00:31<00:00,  1.27it/s]\n"
     ]
    },
    {
     "name": "stdout",
     "output_type": "stream",
     "text": [
      "Loss: 0.1882\n",
      "Precision: 0.9427, Recall: 0.9446, F1-Score: 0.9436\n",
      "              precision    recall  f1-score   support\n",
      "\n",
      "           0       0.92      0.93      0.93       473\n",
      "           1       0.96      0.95      0.96       795\n",
      "\n",
      "    accuracy                           0.95      1268\n",
      "   macro avg       0.94      0.94      0.94      1268\n",
      "weighted avg       0.95      0.95      0.95      1268\n",
      "\n",
      "Directory /home/Minwoo/LESN/Decompose/DecomposeBERT/Models/Configs/pretrained/sadickam/sdg-classification-bert exists.\n",
      "Loading the model.\n",
      "Start Time:19:04:31\n",
      "#Module 2 in progress....\n",
      "origin\n",
      "Start Positive CI sparse\n",
      "Start Positive CI after sparse\n",
      "Start Negative TI\n",
      "[0, 7, 9, 10, 15]\n",
      "[0, 2, 9, 10, 15]\n",
      "[16, 0, 0, 0, 0, 0, 0, 9, 0, 16, 15, 0, 0, 0, 0, 16]\n",
      "[16, 0, 16, 0, 0, 0, 0, 0, 0, 16, 16, 0, 0, 0, 0, 16]\n",
      "2 8\n"
     ]
    },
    {
     "name": "stderr",
     "output_type": "stream",
     "text": [
      "Evaluating: 100%|██████████| 49/49 [00:37<00:00,  1.29it/s]\n"
     ]
    },
    {
     "name": "stdout",
     "output_type": "stream",
     "text": [
      "Loss: 0.2476\n",
      "Precision: 0.9519, Recall: 0.9521, F1-Score: 0.9519\n",
      "              precision    recall  f1-score   support\n",
      "\n",
      "           0       0.95      0.95      0.95       746\n",
      "           1       0.96      0.95      0.95       795\n",
      "\n",
      "    accuracy                           0.95      1541\n",
      "   macro avg       0.95      0.95      0.95      1541\n",
      "weighted avg       0.95      0.95      0.95      1541\n",
      "\n",
      "Directory /home/Minwoo/LESN/Decompose/DecomposeBERT/Models/Configs/pretrained/sadickam/sdg-classification-bert exists.\n",
      "Loading the model.\n",
      "Start Time:19:06:00\n",
      "#Module 2 in progress....\n",
      "origin\n",
      "Start Positive CI sparse\n",
      "Start Positive CI after sparse\n",
      "Start Negative TI\n",
      "[0, 7, 8, 9, 10, 15]\n",
      "[0, 2, 9, 10, 15]\n",
      "[16, 0, 0, 0, 0, 0, 0, 12, 8, 16, 13, 0, 0, 0, 0, 16]\n",
      "[16, 0, 16, 0, 0, 0, 0, 0, 0, 16, 16, 0, 0, 0, 0, 16]\n",
      "2 9\n"
     ]
    },
    {
     "name": "stderr",
     "output_type": "stream",
     "text": [
      "Evaluating: 100%|██████████| 47/47 [00:25<00:00,  1.88it/s]\n"
     ]
    },
    {
     "name": "stdout",
     "output_type": "stream",
     "text": [
      "Loss: 0.2125\n",
      "Precision: 0.9380, Recall: 0.9361, F1-Score: 0.9369\n",
      "              precision    recall  f1-score   support\n",
      "\n",
      "           0       0.94      0.92      0.93       689\n",
      "           1       0.93      0.95      0.94       795\n",
      "\n",
      "    accuracy                           0.94      1484\n",
      "   macro avg       0.94      0.94      0.94      1484\n",
      "weighted avg       0.94      0.94      0.94      1484\n",
      "\n",
      "Directory /home/Minwoo/LESN/Decompose/DecomposeBERT/Models/Configs/pretrained/sadickam/sdg-classification-bert exists.\n",
      "Loading the model.\n",
      "Start Time:19:07:20\n",
      "#Module 2 in progress....\n",
      "origin\n",
      "Start Positive CI sparse\n",
      "Start Positive CI after sparse\n",
      "Start Negative TI\n",
      "[0, 7, 9, 10, 15]\n",
      "[0, 2, 9, 10, 15]\n",
      "[16, 0, 0, 0, 0, 0, 0, 11, 0, 16, 14, 0, 0, 0, 0, 16]\n",
      "[16, 0, 16, 0, 0, 0, 0, 0, 0, 16, 16, 0, 0, 0, 0, 16]\n",
      "2 10\n"
     ]
    },
    {
     "name": "stderr",
     "output_type": "stream",
     "text": [
      "Evaluating: 100%|██████████| 46/46 [00:26<00:00,  1.74it/s]\n"
     ]
    },
    {
     "name": "stdout",
     "output_type": "stream",
     "text": [
      "Loss: 0.4168\n",
      "Precision: 0.7674, Recall: 0.6710, F1-Score: 0.6545\n",
      "              precision    recall  f1-score   support\n",
      "\n",
      "           0       0.89      0.38      0.54       670\n",
      "           1       0.65      0.96      0.77       795\n",
      "\n",
      "    accuracy                           0.70      1465\n",
      "   macro avg       0.77      0.67      0.65      1465\n",
      "weighted avg       0.76      0.70      0.66      1465\n",
      "\n",
      "Directory /home/Minwoo/LESN/Decompose/DecomposeBERT/Models/Configs/pretrained/sadickam/sdg-classification-bert exists.\n",
      "Loading the model.\n",
      "Start Time:19:08:32\n",
      "#Module 2 in progress....\n",
      "origin\n",
      "Start Positive CI sparse\n",
      "Start Positive CI after sparse\n",
      "Start Negative TI\n",
      "[0, 1, 7, 9, 10, 15]\n",
      "[0, 2, 9, 10, 15]\n",
      "[16, 8, 0, 0, 0, 0, 0, 10, 0, 16, 14, 0, 0, 0, 0, 16]\n",
      "[16, 0, 16, 0, 0, 0, 0, 0, 0, 16, 15, 0, 0, 0, 0, 16]\n",
      "2 11\n"
     ]
    },
    {
     "name": "stderr",
     "output_type": "stream",
     "text": [
      "Evaluating: 100%|██████████| 35/35 [00:30<00:00,  1.14it/s]\n"
     ]
    },
    {
     "name": "stdout",
     "output_type": "stream",
     "text": [
      "Loss: 0.2155\n",
      "Precision: 0.9171, Recall: 0.9071, F1-Score: 0.9119\n",
      "              precision    recall  f1-score   support\n",
      "\n",
      "           0       0.89      0.86      0.87       312\n",
      "           1       0.94      0.96      0.95       795\n",
      "\n",
      "    accuracy                           0.93      1107\n",
      "   macro avg       0.92      0.91      0.91      1107\n",
      "weighted avg       0.93      0.93      0.93      1107\n",
      "\n",
      "Directory /home/Minwoo/LESN/Decompose/DecomposeBERT/Models/Configs/pretrained/sadickam/sdg-classification-bert exists.\n",
      "Loading the model.\n",
      "Start Time:19:09:52\n",
      "#Module 2 in progress....\n",
      "origin\n",
      "Start Positive CI sparse\n",
      "Start Positive CI after sparse\n",
      "Start Negative TI\n",
      "[0, 9, 10, 15]\n",
      "[0, 2, 9, 10, 15]\n",
      "[16, 0, 0, 0, 0, 0, 0, 0, 0, 16, 14, 0, 0, 0, 0, 16]\n",
      "[16, 0, 16, 0, 0, 0, 0, 0, 0, 16, 15, 0, 0, 0, 0, 16]\n",
      "2 12\n"
     ]
    },
    {
     "name": "stderr",
     "output_type": "stream",
     "text": [
      "Evaluating: 100%|██████████| 46/46 [00:35<00:00,  1.29it/s]\n"
     ]
    },
    {
     "name": "stdout",
     "output_type": "stream",
     "text": [
      "Loss: 0.2920\n",
      "Precision: 0.9430, Recall: 0.9410, F1-Score: 0.9419\n",
      "              precision    recall  f1-score   support\n",
      "\n",
      "           0       0.95      0.92      0.94       665\n",
      "           1       0.94      0.96      0.95       795\n",
      "\n",
      "    accuracy                           0.94      1460\n",
      "   macro avg       0.94      0.94      0.94      1460\n",
      "weighted avg       0.94      0.94      0.94      1460\n",
      "\n",
      "Directory /home/Minwoo/LESN/Decompose/DecomposeBERT/Models/Configs/pretrained/sadickam/sdg-classification-bert exists.\n",
      "Loading the model.\n",
      "Start Time:19:11:25\n",
      "#Module 2 in progress....\n",
      "origin\n",
      "Start Positive CI sparse\n",
      "Start Positive CI after sparse\n",
      "Start Negative TI\n",
      "[0, 7, 8, 9, 10, 15]\n",
      "[0, 2, 9, 10, 15]\n",
      "[16, 0, 0, 0, 0, 0, 0, 10, 8, 16, 12, 0, 0, 0, 0, 16]\n",
      "[16, 0, 16, 0, 0, 0, 0, 0, 0, 16, 15, 0, 0, 0, 0, 16]\n",
      "2 13\n"
     ]
    },
    {
     "name": "stderr",
     "output_type": "stream",
     "text": [
      "Evaluating: 100%|██████████| 35/35 [00:22<00:00,  1.54it/s]\n"
     ]
    },
    {
     "name": "stdout",
     "output_type": "stream",
     "text": [
      "Loss: 0.2813\n",
      "Precision: 0.8305, Recall: 0.7500, F1-Score: 0.7751\n",
      "              precision    recall  f1-score   support\n",
      "\n",
      "           0       0.82      0.55      0.66       314\n",
      "           1       0.84      0.95      0.89       795\n",
      "\n",
      "    accuracy                           0.84      1109\n",
      "   macro avg       0.83      0.75      0.78      1109\n",
      "weighted avg       0.84      0.84      0.83      1109\n",
      "\n",
      "Directory /home/Minwoo/LESN/Decompose/DecomposeBERT/Models/Configs/pretrained/sadickam/sdg-classification-bert exists.\n",
      "Loading the model.\n",
      "Start Time:19:12:33\n",
      "#Module 2 in progress....\n",
      "origin\n",
      "Start Positive CI sparse\n",
      "Start Positive CI after sparse\n",
      "Start Negative TI\n",
      "[0, 1, 7, 9, 10, 12, 15]\n",
      "[0, 2, 5, 9, 10, 15]\n",
      "[16, 9, 0, 0, 0, 0, 0, 12, 0, 16, 15, 0, 8, 0, 0, 15]\n",
      "[16, 0, 16, 0, 0, 10, 0, 0, 0, 16, 16, 0, 0, 0, 0, 16]\n",
      "2 14\n"
     ]
    },
    {
     "name": "stderr",
     "output_type": "stream",
     "text": [
      "Evaluating: 100%|██████████| 49/49 [00:17<00:00,  2.79it/s]\n"
     ]
    },
    {
     "name": "stdout",
     "output_type": "stream",
     "text": [
      "Loss: 0.5990\n",
      "Precision: 0.6476, Recall: 0.5460, F1-Score: 0.4572\n",
      "              precision    recall  f1-score   support\n",
      "\n",
      "           0       0.76      0.13      0.23       756\n",
      "           1       0.54      0.96      0.69       795\n",
      "\n",
      "    accuracy                           0.56      1551\n",
      "   macro avg       0.65      0.55      0.46      1551\n",
      "weighted avg       0.64      0.56      0.46      1551\n",
      "\n",
      "Directory /home/Minwoo/LESN/Decompose/DecomposeBERT/Models/Configs/pretrained/sadickam/sdg-classification-bert exists.\n",
      "Loading the model.\n",
      "Start Time:19:13:42\n",
      "#Module 2 in progress....\n",
      "origin\n",
      "Start Positive CI sparse\n",
      "Start Positive CI after sparse\n",
      "Start Negative TI\n",
      "[0, 7, 9, 10, 15]\n",
      "[0, 2, 9, 10, 15]\n",
      "[16, 0, 0, 0, 0, 0, 0, 11, 0, 16, 13, 0, 0, 0, 0, 16]\n",
      "[16, 0, 16, 0, 0, 0, 0, 0, 0, 16, 16, 0, 0, 0, 0, 16]\n",
      "2 15\n"
     ]
    },
    {
     "name": "stderr",
     "output_type": "stream",
     "text": [
      "Evaluating: 100%|██████████| 76/76 [00:35<00:00,  2.12it/s]\n"
     ]
    },
    {
     "name": "stdout",
     "output_type": "stream",
     "text": [
      "Loss: 0.6283\n",
      "Precision: 0.5133, Recall: 0.5026, F1-Score: 0.2904\n",
      "              precision    recall  f1-score   support\n",
      "\n",
      "           0       0.69      0.05      0.09      1607\n",
      "           1       0.33      0.96      0.49       795\n",
      "\n",
      "    accuracy                           0.35      2402\n",
      "   macro avg       0.51      0.50      0.29      2402\n",
      "weighted avg       0.57      0.35      0.22      2402\n",
      "\n",
      "Directory /home/Minwoo/LESN/Decompose/DecomposeBERT/Models/Configs/pretrained/sadickam/sdg-classification-bert exists.\n",
      "Loading the model.\n",
      "Start Time:19:15:17\n",
      "#Module 3 in progress....\n",
      "origin\n",
      "Start Positive CI sparse\n",
      "Start Positive CI after sparse\n",
      "Start Negative TI\n",
      "[0, 2, 7, 8, 9, 10, 15]\n",
      "[0, 2, 3, 9, 10, 12, 15]\n",
      "[16, 0, 10, 0, 0, 0, 0, 9, 8, 16, 15, 0, 0, 0, 0, 16]\n",
      "[16, 0, 10, 16, 0, 0, 0, 0, 0, 16, 16, 0, 9, 0, 0, 16]\n",
      "3 0\n"
     ]
    },
    {
     "name": "stderr",
     "output_type": "stream",
     "text": [
      "Evaluating: 100%|██████████| 60/60 [00:26<00:00,  2.24it/s]\n"
     ]
    },
    {
     "name": "stdout",
     "output_type": "stream",
     "text": [
      "Loss: 0.3494\n",
      "Precision: 0.8785, Recall: 0.8877, F1-Score: 0.8805\n",
      "              precision    recall  f1-score   support\n",
      "\n",
      "           0       0.82      0.92      0.87       797\n",
      "           1       0.94      0.85      0.89      1110\n",
      "\n",
      "    accuracy                           0.88      1907\n",
      "   macro avg       0.88      0.89      0.88      1907\n",
      "weighted avg       0.89      0.88      0.88      1907\n",
      "\n",
      "Directory /home/Minwoo/LESN/Decompose/DecomposeBERT/Models/Configs/pretrained/sadickam/sdg-classification-bert exists.\n",
      "Loading the model.\n",
      "Start Time:19:16:50\n",
      "#Module 3 in progress....\n",
      "origin\n",
      "Start Positive CI sparse\n",
      "Start Positive CI after sparse\n",
      "Start Negative TI\n",
      "[0, 7, 8, 9, 10, 12, 15]\n",
      "[0, 3, 8, 9, 10, 15]\n",
      "[16, 0, 0, 0, 0, 0, 0, 11, 9, 16, 16, 0, 8, 0, 0, 16]\n",
      "[16, 0, 0, 16, 0, 0, 0, 0, 14, 16, 16, 0, 0, 0, 0, 16]\n",
      "3 1\n"
     ]
    },
    {
     "name": "stderr",
     "output_type": "stream",
     "text": [
      "Evaluating: 100%|██████████| 59/59 [00:24<00:00,  2.42it/s]\n"
     ]
    },
    {
     "name": "stdout",
     "output_type": "stream",
     "text": [
      "Loss: 0.2410\n",
      "Precision: 0.9270, Recall: 0.9353, F1-Score: 0.9301\n",
      "              precision    recall  f1-score   support\n",
      "\n",
      "           0       0.89      0.96      0.92       775\n",
      "           1       0.97      0.91      0.94      1110\n",
      "\n",
      "    accuracy                           0.93      1885\n",
      "   macro avg       0.93      0.94      0.93      1885\n",
      "weighted avg       0.93      0.93      0.93      1885\n",
      "\n",
      "Directory /home/Minwoo/LESN/Decompose/DecomposeBERT/Models/Configs/pretrained/sadickam/sdg-classification-bert exists.\n",
      "Loading the model.\n",
      "Start Time:19:18:13\n",
      "#Module 3 in progress....\n",
      "origin\n",
      "Start Positive CI sparse\n",
      "Start Positive CI after sparse\n",
      "Start Negative TI\n",
      "[0, 1, 2, 5, 7, 9, 10, 12, 15]\n",
      "[0, 2, 3, 8, 9, 10, 12, 14, 15]\n",
      "[16, 10, 9, 0, 0, 10, 0, 9, 0, 16, 15, 0, 12, 0, 0, 16]\n",
      "[16, 0, 8, 16, 0, 0, 0, 0, 8, 16, 16, 0, 14, 0, 8, 16]\n",
      "3 2\n"
     ]
    },
    {
     "name": "stderr",
     "output_type": "stream",
     "text": [
      "Evaluating: 100%|██████████| 60/60 [00:23<00:00,  2.54it/s]\n"
     ]
    },
    {
     "name": "stdout",
     "output_type": "stream",
     "text": [
      "Loss: 0.2871\n",
      "Precision: 0.9330, Recall: 0.9296, F1-Score: 0.9312\n",
      "              precision    recall  f1-score   support\n",
      "\n",
      "           0       0.93      0.91      0.92       795\n",
      "           1       0.93      0.95      0.94      1110\n",
      "\n",
      "    accuracy                           0.93      1905\n",
      "   macro avg       0.93      0.93      0.93      1905\n",
      "weighted avg       0.93      0.93      0.93      1905\n",
      "\n",
      "Directory /home/Minwoo/LESN/Decompose/DecomposeBERT/Models/Configs/pretrained/sadickam/sdg-classification-bert exists.\n",
      "Loading the model.\n",
      "Start Time:19:19:36\n",
      "#Module 3 in progress....\n",
      "origin\n",
      "Start Positive CI sparse\n",
      "Start Positive CI after sparse\n",
      "Start Negative TI\n",
      "[0, 1, 2, 7, 9, 10, 12, 15]\n",
      "[0, 3, 9, 10, 12, 15]\n",
      "[16, 8, 9, 0, 0, 0, 0, 8, 0, 16, 16, 0, 11, 0, 0, 16]\n",
      "[16, 0, 0, 16, 0, 0, 0, 0, 0, 16, 16, 0, 9, 0, 0, 16]\n",
      "3 4\n"
     ]
    },
    {
     "name": "stderr",
     "output_type": "stream",
     "text": [
      "Evaluating: 100%|██████████| 75/75 [00:34<00:00,  2.17it/s]\n"
     ]
    },
    {
     "name": "stdout",
     "output_type": "stream",
     "text": [
      "Loss: 0.6559\n",
      "Precision: 0.6030, Recall: 0.5390, F1-Score: 0.4402\n",
      "              precision    recall  f1-score   support\n",
      "\n",
      "           0       0.72      0.14      0.24      1260\n",
      "           1       0.49      0.94      0.64      1110\n",
      "\n",
      "    accuracy                           0.51      2370\n",
      "   macro avg       0.60      0.54      0.44      2370\n",
      "weighted avg       0.61      0.51      0.43      2370\n",
      "\n",
      "Directory /home/Minwoo/LESN/Decompose/DecomposeBERT/Models/Configs/pretrained/sadickam/sdg-classification-bert exists.\n",
      "Loading the model.\n",
      "Start Time:19:21:12\n",
      "#Module 3 in progress....\n",
      "origin\n",
      "Start Positive CI sparse\n",
      "Start Positive CI after sparse\n",
      "Start Negative TI\n",
      "[0, 1, 2, 7, 8, 9, 10, 12, 15]\n",
      "[0, 2, 3, 9, 10, 12, 15]\n",
      "[16, 8, 14, 0, 0, 0, 0, 9, 8, 16, 16, 0, 11, 0, 0, 16]\n",
      "[16, 0, 12, 16, 0, 0, 0, 0, 0, 16, 14, 0, 11, 0, 0, 16]\n",
      "3 5\n"
     ]
    },
    {
     "name": "stderr",
     "output_type": "stream",
     "text": [
      "Evaluating: 100%|██████████| 63/63 [00:27<00:00,  2.28it/s]\n"
     ]
    },
    {
     "name": "stdout",
     "output_type": "stream",
     "text": [
      "Loss: 0.3369\n",
      "Precision: 0.9063, Recall: 0.9066, F1-Score: 0.9064\n",
      "              precision    recall  f1-score   support\n",
      "\n",
      "           0       0.89      0.90      0.90       882\n",
      "           1       0.92      0.92      0.92      1110\n",
      "\n",
      "    accuracy                           0.91      1992\n",
      "   macro avg       0.91      0.91      0.91      1992\n",
      "weighted avg       0.91      0.91      0.91      1992\n",
      "\n",
      "Directory /home/Minwoo/LESN/Decompose/DecomposeBERT/Models/Configs/pretrained/sadickam/sdg-classification-bert exists.\n",
      "Loading the model.\n",
      "Start Time:19:22:24\n",
      "#Module 3 in progress....\n",
      "origin\n",
      "Start Positive CI sparse\n",
      "Start Positive CI after sparse\n",
      "Start Negative TI\n",
      "[0, 1, 8, 9, 10, 12, 15]\n",
      "[0, 3, 8, 9, 10, 12, 15]\n",
      "[16, 10, 0, 0, 0, 0, 0, 0, 9, 16, 16, 0, 12, 0, 0, 16]\n",
      "[16, 0, 0, 16, 0, 0, 0, 0, 9, 16, 15, 0, 12, 0, 0, 16]\n",
      "3 6\n"
     ]
    },
    {
     "name": "stderr",
     "output_type": "stream",
     "text": [
      "Evaluating: 100%|██████████| 65/65 [00:32<00:00,  2.02it/s]\n"
     ]
    },
    {
     "name": "stdout",
     "output_type": "stream",
     "text": [
      "Loss: 0.2792\n",
      "Precision: 0.9546, Recall: 0.9551, F1-Score: 0.9548\n",
      "              precision    recall  f1-score   support\n",
      "\n",
      "           0       0.95      0.96      0.95       940\n",
      "           1       0.96      0.95      0.96      1110\n",
      "\n",
      "    accuracy                           0.96      2050\n",
      "   macro avg       0.95      0.96      0.95      2050\n",
      "weighted avg       0.96      0.96      0.96      2050\n",
      "\n",
      "Directory /home/Minwoo/LESN/Decompose/DecomposeBERT/Models/Configs/pretrained/sadickam/sdg-classification-bert exists.\n",
      "Loading the model.\n",
      "Start Time:19:23:56\n",
      "#Module 3 in progress....\n",
      "origin\n",
      "Start Positive CI sparse\n",
      "Start Positive CI after sparse\n",
      "Start Negative TI\n",
      "[0, 1, 7, 8, 9, 10, 12, 15]\n",
      "[0, 2, 3, 8, 9, 10, 12, 15]\n",
      "[16, 8, 0, 0, 0, 0, 0, 8, 8, 16, 13, 0, 14, 0, 0, 16]\n",
      "[16, 0, 8, 16, 0, 0, 0, 0, 9, 16, 14, 0, 11, 0, 0, 16]\n",
      "3 7\n"
     ]
    },
    {
     "name": "stderr",
     "output_type": "stream",
     "text": [
      "Evaluating: 100%|██████████| 50/50 [00:20<00:00,  2.42it/s]\n"
     ]
    },
    {
     "name": "stdout",
     "output_type": "stream",
     "text": [
      "Loss: 0.2983\n",
      "Precision: 0.8548, Recall: 0.8468, F1-Score: 0.8506\n",
      "              precision    recall  f1-score   support\n",
      "\n",
      "           0       0.80      0.77      0.79       473\n",
      "           1       0.91      0.92      0.91      1110\n",
      "\n",
      "    accuracy                           0.88      1583\n",
      "   macro avg       0.85      0.85      0.85      1583\n",
      "weighted avg       0.88      0.88      0.88      1583\n",
      "\n",
      "Directory /home/Minwoo/LESN/Decompose/DecomposeBERT/Models/Configs/pretrained/sadickam/sdg-classification-bert exists.\n",
      "Loading the model.\n",
      "Start Time:19:25:03\n",
      "#Module 3 in progress....\n",
      "origin\n",
      "Start Positive CI sparse\n",
      "Start Positive CI after sparse\n",
      "Start Negative TI\n",
      "[0, 7, 8, 9, 10, 12, 15]\n",
      "[0, 3, 8, 9, 10, 12, 15]\n",
      "[16, 0, 0, 0, 0, 0, 0, 13, 10, 16, 14, 0, 9, 0, 0, 16]\n",
      "[16, 0, 0, 16, 0, 0, 0, 0, 12, 16, 16, 0, 12, 0, 0, 16]\n",
      "3 8\n"
     ]
    },
    {
     "name": "stderr",
     "output_type": "stream",
     "text": [
      "Evaluating: 100%|██████████| 58/58 [00:31<00:00,  1.85it/s]\n"
     ]
    },
    {
     "name": "stdout",
     "output_type": "stream",
     "text": [
      "Loss: 0.3906\n",
      "Precision: 0.8566, Recall: 0.8585, F1-Score: 0.8575\n",
      "              precision    recall  f1-score   support\n",
      "\n",
      "           0       0.82      0.84      0.83       746\n",
      "           1       0.89      0.88      0.88      1110\n",
      "\n",
      "    accuracy                           0.86      1856\n",
      "   macro avg       0.86      0.86      0.86      1856\n",
      "weighted avg       0.86      0.86      0.86      1856\n",
      "\n",
      "Directory /home/Minwoo/LESN/Decompose/DecomposeBERT/Models/Configs/pretrained/sadickam/sdg-classification-bert exists.\n",
      "Loading the model.\n",
      "Start Time:19:26:36\n",
      "#Module 3 in progress....\n",
      "origin\n",
      "Start Positive CI sparse\n",
      "Start Positive CI after sparse\n",
      "Start Negative TI\n",
      "[0, 2, 7, 9, 10, 12, 15]\n",
      "[0, 3, 8, 9, 10, 12, 15]\n",
      "[16, 0, 13, 0, 0, 0, 0, 9, 0, 16, 16, 0, 9, 0, 0, 16]\n",
      "[16, 0, 0, 16, 0, 0, 0, 0, 9, 16, 16, 0, 9, 0, 0, 16]\n",
      "3 9\n"
     ]
    },
    {
     "name": "stderr",
     "output_type": "stream",
     "text": [
      "Evaluating: 100%|██████████| 57/57 [00:33<00:00,  1.71it/s]\n"
     ]
    },
    {
     "name": "stdout",
     "output_type": "stream",
     "text": [
      "Loss: 0.3461\n",
      "Precision: 0.8721, Recall: 0.8609, F1-Score: 0.8658\n",
      "              precision    recall  f1-score   support\n",
      "\n",
      "           0       0.86      0.80      0.83       689\n",
      "           1       0.88      0.92      0.90      1110\n",
      "\n",
      "    accuracy                           0.87      1799\n",
      "   macro avg       0.87      0.86      0.87      1799\n",
      "weighted avg       0.87      0.87      0.87      1799\n",
      "\n",
      "Directory /home/Minwoo/LESN/Decompose/DecomposeBERT/Models/Configs/pretrained/sadickam/sdg-classification-bert exists.\n",
      "Loading the model.\n",
      "Start Time:19:28:23\n",
      "#Module 3 in progress....\n",
      "origin\n",
      "Start Positive CI sparse\n",
      "Start Positive CI after sparse\n",
      "Start Negative TI\n",
      "[0, 1, 2, 9, 10, 12, 15]\n",
      "[0, 2, 3, 8, 9, 10, 15]\n",
      "[16, 8, 13, 0, 0, 0, 0, 0, 0, 16, 15, 0, 10, 0, 0, 16]\n",
      "[16, 0, 14, 16, 0, 0, 0, 0, 12, 16, 16, 0, 0, 0, 0, 16]\n",
      "3 10\n"
     ]
    },
    {
     "name": "stderr",
     "output_type": "stream",
     "text": [
      "Evaluating: 100%|██████████| 56/56 [00:35<00:00,  1.56it/s]\n"
     ]
    },
    {
     "name": "stdout",
     "output_type": "stream",
     "text": [
      "Loss: 0.2981\n",
      "Precision: 0.9062, Recall: 0.8680, F1-Score: 0.8813\n",
      "              precision    recall  f1-score   support\n",
      "\n",
      "           0       0.94      0.77      0.84       670\n",
      "           1       0.87      0.97      0.92      1110\n",
      "\n",
      "    accuracy                           0.89      1780\n",
      "   macro avg       0.91      0.87      0.88      1780\n",
      "weighted avg       0.90      0.89      0.89      1780\n",
      "\n",
      "Directory /home/Minwoo/LESN/Decompose/DecomposeBERT/Models/Configs/pretrained/sadickam/sdg-classification-bert exists.\n",
      "Loading the model.\n",
      "Start Time:19:29:56\n",
      "#Module 3 in progress....\n",
      "origin\n",
      "Start Positive CI sparse\n",
      "Start Positive CI after sparse\n",
      "Start Negative TI\n",
      "[0, 1, 2, 7, 8, 9, 10, 12, 13, 15]\n",
      "[0, 2, 3, 8, 9, 10, 12, 15]\n",
      "[15, 8, 13, 0, 0, 0, 0, 11, 12, 16, 14, 0, 9, 8, 0, 16]\n",
      "[16, 0, 12, 16, 0, 0, 0, 0, 13, 16, 14, 0, 12, 0, 0, 16]\n",
      "3 11\n"
     ]
    },
    {
     "name": "stderr",
     "output_type": "stream",
     "text": [
      "Evaluating: 100%|██████████| 45/45 [00:23<00:00,  1.95it/s]\n"
     ]
    },
    {
     "name": "stdout",
     "output_type": "stream",
     "text": [
      "Loss: 0.2177\n",
      "Precision: 0.8858, Recall: 0.9188, F1-Score: 0.9007\n",
      "              precision    recall  f1-score   support\n",
      "\n",
      "           0       0.80      0.90      0.85       312\n",
      "           1       0.97      0.94      0.95      1110\n",
      "\n",
      "    accuracy                           0.93      1422\n",
      "   macro avg       0.89      0.92      0.90      1422\n",
      "weighted avg       0.93      0.93      0.93      1422\n",
      "\n",
      "Directory /home/Minwoo/LESN/Decompose/DecomposeBERT/Models/Configs/pretrained/sadickam/sdg-classification-bert exists.\n",
      "Loading the model.\n",
      "Start Time:19:31:17\n",
      "#Module 3 in progress....\n",
      "origin\n",
      "Start Positive CI sparse\n",
      "Start Positive CI after sparse\n",
      "Start Negative TI\n",
      "[0, 7, 8, 9, 10, 12, 15]\n",
      "[0, 3, 8, 9, 10, 12, 15]\n",
      "[16, 0, 0, 0, 0, 0, 0, 9, 8, 16, 15, 0, 11, 0, 0, 16]\n",
      "[16, 0, 0, 16, 0, 0, 0, 0, 8, 16, 15, 0, 11, 0, 0, 16]\n",
      "3 12\n"
     ]
    },
    {
     "name": "stderr",
     "output_type": "stream",
     "text": [
      "Evaluating: 100%|██████████| 56/56 [00:32<00:00,  1.72it/s]\n"
     ]
    },
    {
     "name": "stdout",
     "output_type": "stream",
     "text": [
      "Loss: 0.3599\n",
      "Precision: 0.8669, Recall: 0.8640, F1-Score: 0.8654\n",
      "              precision    recall  f1-score   support\n",
      "\n",
      "           0       0.84      0.82      0.83       665\n",
      "           1       0.89      0.91      0.90      1110\n",
      "\n",
      "    accuracy                           0.87      1775\n",
      "   macro avg       0.87      0.86      0.87      1775\n",
      "weighted avg       0.87      0.87      0.87      1775\n",
      "\n",
      "Directory /home/Minwoo/LESN/Decompose/DecomposeBERT/Models/Configs/pretrained/sadickam/sdg-classification-bert exists.\n",
      "Loading the model.\n",
      "Start Time:19:32:53\n",
      "#Module 3 in progress....\n",
      "origin\n",
      "Start Positive CI sparse\n",
      "Start Positive CI after sparse\n",
      "Start Negative TI\n",
      "[0, 1, 2, 5, 7, 9, 10, 12, 15]\n",
      "[0, 2, 3, 8, 9, 10, 12, 15]\n",
      "[16, 12, 15, 0, 0, 10, 0, 13, 0, 16, 12, 0, 8, 0, 0, 16]\n",
      "[16, 0, 16, 16, 0, 0, 0, 0, 8, 16, 9, 0, 9, 0, 0, 16]\n",
      "3 13\n"
     ]
    },
    {
     "name": "stderr",
     "output_type": "stream",
     "text": [
      "Evaluating: 100%|██████████| 45/45 [00:14<00:00,  3.17it/s]\n"
     ]
    },
    {
     "name": "stdout",
     "output_type": "stream",
     "text": [
      "Loss: 0.2347\n",
      "Precision: 0.8901, Recall: 0.9006, F1-Score: 0.8952\n",
      "              precision    recall  f1-score   support\n",
      "\n",
      "           0       0.82      0.85      0.84       314\n",
      "           1       0.96      0.95      0.95      1110\n",
      "\n",
      "    accuracy                           0.93      1424\n",
      "   macro avg       0.89      0.90      0.90      1424\n",
      "weighted avg       0.93      0.93      0.93      1424\n",
      "\n",
      "Directory /home/Minwoo/LESN/Decompose/DecomposeBERT/Models/Configs/pretrained/sadickam/sdg-classification-bert exists.\n",
      "Loading the model.\n",
      "Start Time:19:34:19\n",
      "#Module 3 in progress....\n",
      "origin\n",
      "Start Positive CI sparse\n",
      "Start Positive CI after sparse\n",
      "Start Negative TI\n",
      "[0, 1, 2, 5, 7, 8, 9, 10, 12, 15]\n",
      "[0, 2, 3, 8, 9, 10, 12, 14, 15]\n",
      "[16, 10, 10, 0, 0, 8, 0, 9, 11, 16, 12, 0, 13, 0, 0, 16]\n",
      "[16, 0, 11, 16, 0, 0, 0, 0, 11, 16, 13, 0, 13, 0, 13, 16]\n",
      "3 14\n"
     ]
    },
    {
     "name": "stderr",
     "output_type": "stream",
     "text": [
      "Evaluating: 100%|██████████| 59/59 [00:26<00:00,  2.22it/s]\n"
     ]
    },
    {
     "name": "stdout",
     "output_type": "stream",
     "text": [
      "Loss: 0.9661\n",
      "Precision: 0.5587, Recall: 0.5197, F1-Score: 0.4584\n",
      "              precision    recall  f1-score   support\n",
      "\n",
      "           0       0.51      0.11      0.18       756\n",
      "           1       0.61      0.93      0.73      1110\n",
      "\n",
      "    accuracy                           0.60      1866\n",
      "   macro avg       0.56      0.52      0.46      1866\n",
      "weighted avg       0.57      0.60      0.51      1866\n",
      "\n",
      "Directory /home/Minwoo/LESN/Decompose/DecomposeBERT/Models/Configs/pretrained/sadickam/sdg-classification-bert exists.\n",
      "Loading the model.\n",
      "Start Time:19:35:56\n",
      "#Module 3 in progress....\n",
      "origin\n",
      "Start Positive CI sparse\n",
      "Start Positive CI after sparse\n",
      "Start Negative TI\n",
      "[0, 1, 7, 8, 9, 10, 12, 15]\n",
      "[0, 3, 9, 10, 12, 15]\n",
      "[16, 10, 0, 0, 0, 0, 0, 9, 11, 16, 13, 0, 14, 0, 0, 16]\n",
      "[16, 0, 0, 16, 0, 0, 0, 0, 0, 16, 15, 0, 12, 0, 0, 16]\n",
      "3 15\n"
     ]
    },
    {
     "name": "stderr",
     "output_type": "stream",
     "text": [
      "Evaluating: 100%|██████████| 85/85 [00:41<00:00,  2.04it/s]\n"
     ]
    },
    {
     "name": "stdout",
     "output_type": "stream",
     "text": [
      "Loss: 0.9830\n",
      "Precision: 0.2643, Recall: 0.4628, F1-Score: 0.2822\n",
      "              precision    recall  f1-score   support\n",
      "\n",
      "           0       0.14      0.01      0.02      1607\n",
      "           1       0.39      0.92      0.55      1110\n",
      "\n",
      "    accuracy                           0.38      2717\n",
      "   macro avg       0.26      0.46      0.28      2717\n",
      "weighted avg       0.24      0.38      0.23      2717\n",
      "\n",
      "Directory /home/Minwoo/LESN/Decompose/DecomposeBERT/Models/Configs/pretrained/sadickam/sdg-classification-bert exists.\n",
      "Loading the model.\n",
      "Start Time:19:37:44\n",
      "#Module 4 in progress....\n",
      "origin\n",
      "Start Positive CI sparse\n",
      "Start Positive CI after sparse\n",
      "Start Negative TI\n",
      "[0, 1, 2, 7, 8, 9, 10, 12, 15]\n",
      "[0, 2, 4, 7, 9, 10, 15]\n",
      "[16, 8, 11, 0, 0, 0, 0, 10, 9, 16, 13, 0, 9, 0, 0, 16]\n",
      "[16, 0, 10, 0, 13, 0, 0, 8, 0, 16, 11, 0, 0, 0, 0, 16]\n",
      "4 0\n"
     ]
    },
    {
     "name": "stderr",
     "output_type": "stream",
     "text": [
      "Evaluating: 100%|██████████| 65/65 [00:26<00:00,  2.45it/s]\n"
     ]
    },
    {
     "name": "stdout",
     "output_type": "stream",
     "text": [
      "Loss: 0.5340\n",
      "Precision: 0.6657, Recall: 0.5607, F1-Score: 0.5208\n",
      "              precision    recall  f1-score   support\n",
      "\n",
      "           0       0.69      0.17      0.27       797\n",
      "           1       0.64      0.95      0.77      1260\n",
      "\n",
      "    accuracy                           0.65      2057\n",
      "   macro avg       0.67      0.56      0.52      2057\n",
      "weighted avg       0.66      0.65      0.58      2057\n",
      "\n",
      "Directory /home/Minwoo/LESN/Decompose/DecomposeBERT/Models/Configs/pretrained/sadickam/sdg-classification-bert exists.\n",
      "Loading the model.\n",
      "Start Time:19:39:23\n",
      "#Module 4 in progress....\n",
      "origin\n",
      "Start Positive CI sparse\n",
      "Start Positive CI after sparse\n",
      "Start Negative TI\n",
      "[0, 2, 8, 9, 10, 12, 15]\n",
      "[0, 2, 4, 7, 9, 10, 15]\n",
      "[16, 0, 9, 0, 0, 0, 0, 0, 8, 16, 13, 0, 8, 0, 0, 16]\n",
      "[16, 0, 10, 0, 16, 0, 0, 10, 0, 16, 12, 0, 0, 0, 0, 16]\n",
      "4 1\n"
     ]
    },
    {
     "name": "stderr",
     "output_type": "stream",
     "text": [
      "Evaluating: 100%|██████████| 64/64 [00:28<00:00,  2.27it/s]\n"
     ]
    },
    {
     "name": "stdout",
     "output_type": "stream",
     "text": [
      "Loss: 0.3116\n",
      "Precision: 0.8861, Recall: 0.8327, F1-Score: 0.8483\n",
      "              precision    recall  f1-score   support\n",
      "\n",
      "           0       0.93      0.70      0.80       775\n",
      "           1       0.84      0.97      0.90      1260\n",
      "\n",
      "    accuracy                           0.87      2035\n",
      "   macro avg       0.89      0.83      0.85      2035\n",
      "weighted avg       0.87      0.87      0.86      2035\n",
      "\n",
      "Directory /home/Minwoo/LESN/Decompose/DecomposeBERT/Models/Configs/pretrained/sadickam/sdg-classification-bert exists.\n",
      "Loading the model.\n",
      "Start Time:19:40:51\n",
      "#Module 4 in progress....\n",
      "origin\n",
      "Start Positive CI sparse\n",
      "Start Positive CI after sparse\n",
      "Start Negative TI\n",
      "[0, 7, 8, 9, 10, 15]\n",
      "[0, 4, 7, 9, 10, 15]\n",
      "[16, 0, 0, 0, 0, 0, 0, 12, 9, 16, 14, 0, 0, 0, 0, 16]\n",
      "[16, 0, 0, 0, 16, 0, 0, 15, 0, 16, 13, 0, 0, 0, 0, 16]\n",
      "4 2\n"
     ]
    },
    {
     "name": "stderr",
     "output_type": "stream",
     "text": [
      "Evaluating: 100%|██████████| 65/65 [00:27<00:00,  2.38it/s]\n"
     ]
    },
    {
     "name": "stdout",
     "output_type": "stream",
     "text": [
      "Loss: 0.4577\n",
      "Precision: 0.5731, Recall: 0.5175, F1-Score: 0.4471\n",
      "              precision    recall  f1-score   support\n",
      "\n",
      "           0       0.52      0.08      0.14       795\n",
      "           1       0.62      0.95      0.75      1260\n",
      "\n",
      "    accuracy                           0.62      2055\n",
      "   macro avg       0.57      0.52      0.45      2055\n",
      "weighted avg       0.58      0.62      0.52      2055\n",
      "\n",
      "Directory /home/Minwoo/LESN/Decompose/DecomposeBERT/Models/Configs/pretrained/sadickam/sdg-classification-bert exists.\n",
      "Loading the model.\n",
      "Start Time:19:42:30\n",
      "#Module 4 in progress....\n",
      "origin\n",
      "Start Positive CI sparse\n",
      "Start Positive CI after sparse\n",
      "Start Negative TI\n",
      "[0, 7, 8, 9, 10, 12, 15]\n",
      "[0, 4, 7, 9, 10, 12, 15]\n",
      "[16, 0, 0, 0, 0, 0, 0, 9, 9, 16, 14, 0, 10, 0, 0, 16]\n",
      "[16, 0, 0, 0, 15, 0, 0, 11, 0, 16, 12, 0, 8, 0, 0, 16]\n",
      "4 3\n"
     ]
    },
    {
     "name": "stderr",
     "output_type": "stream",
     "text": [
      "Evaluating: 100%|██████████| 75/75 [00:31<00:00,  2.41it/s]\n"
     ]
    },
    {
     "name": "stdout",
     "output_type": "stream",
     "text": [
      "Loss: 0.3418\n",
      "Precision: 0.9084, Recall: 0.9017, F1-Score: 0.9036\n",
      "              precision    recall  f1-score   support\n",
      "\n",
      "           0       0.94      0.86      0.89      1110\n",
      "           1       0.88      0.95      0.91      1260\n",
      "\n",
      "    accuracy                           0.90      2370\n",
      "   macro avg       0.91      0.90      0.90      2370\n",
      "weighted avg       0.91      0.90      0.90      2370\n",
      "\n",
      "Directory /home/Minwoo/LESN/Decompose/DecomposeBERT/Models/Configs/pretrained/sadickam/sdg-classification-bert exists.\n",
      "Loading the model.\n",
      "Start Time:19:44:05\n",
      "#Module 4 in progress....\n",
      "origin\n",
      "Start Positive CI sparse\n",
      "Start Positive CI after sparse\n",
      "Start Negative TI\n",
      "[0, 1, 7, 9, 10, 15]\n",
      "[0, 3, 4, 7, 8, 9, 10, 15]\n",
      "[16, 12, 0, 0, 0, 0, 0, 10, 0, 16, 11, 0, 0, 0, 0, 16]\n",
      "[16, 0, 0, 9, 16, 0, 0, 9, 9, 16, 11, 0, 0, 0, 0, 16]\n",
      "4 5\n"
     ]
    },
    {
     "name": "stderr",
     "output_type": "stream",
     "text": [
      "Evaluating: 100%|██████████| 67/67 [00:30<00:00,  2.22it/s]\n"
     ]
    },
    {
     "name": "stdout",
     "output_type": "stream",
     "text": [
      "Loss: 0.2735\n",
      "Precision: 0.9201, Recall: 0.9166, F1-Score: 0.9182\n",
      "              precision    recall  f1-score   support\n",
      "\n",
      "           0       0.92      0.89      0.90       882\n",
      "           1       0.93      0.94      0.93      1260\n",
      "\n",
      "    accuracy                           0.92      2142\n",
      "   macro avg       0.92      0.92      0.92      2142\n",
      "weighted avg       0.92      0.92      0.92      2142\n",
      "\n",
      "Directory /home/Minwoo/LESN/Decompose/DecomposeBERT/Models/Configs/pretrained/sadickam/sdg-classification-bert exists.\n",
      "Loading the model.\n",
      "Start Time:19:45:32\n",
      "#Module 4 in progress....\n",
      "origin\n",
      "Start Positive CI sparse\n",
      "Start Positive CI after sparse\n",
      "Start Negative TI\n",
      "[0, 2, 7, 9, 10, 15]\n",
      "[0, 4, 7, 9, 10, 15]\n",
      "[16, 0, 9, 0, 0, 0, 0, 11, 0, 16, 15, 0, 0, 0, 0, 16]\n",
      "[16, 0, 0, 0, 16, 0, 0, 13, 0, 16, 11, 0, 0, 0, 0, 16]\n",
      "4 6\n"
     ]
    },
    {
     "name": "stderr",
     "output_type": "stream",
     "text": [
      "Evaluating: 100%|██████████| 69/69 [00:36<00:00,  1.90it/s]\n"
     ]
    },
    {
     "name": "stdout",
     "output_type": "stream",
     "text": [
      "Loss: 0.3361\n",
      "Precision: 0.9239, Recall: 0.9189, F1-Score: 0.9211\n",
      "              precision    recall  f1-score   support\n",
      "\n",
      "           0       0.93      0.89      0.91       940\n",
      "           1       0.92      0.95      0.93      1260\n",
      "\n",
      "    accuracy                           0.92      2200\n",
      "   macro avg       0.92      0.92      0.92      2200\n",
      "weighted avg       0.92      0.92      0.92      2200\n",
      "\n",
      "Directory /home/Minwoo/LESN/Decompose/DecomposeBERT/Models/Configs/pretrained/sadickam/sdg-classification-bert exists.\n",
      "Loading the model.\n",
      "Start Time:19:47:17\n",
      "#Module 4 in progress....\n",
      "origin\n",
      "Start Positive CI sparse\n",
      "Start Positive CI after sparse\n",
      "Start Negative TI\n",
      "[0, 2, 7, 9, 15]\n",
      "[0, 4, 7, 9, 10, 15]\n",
      "[16, 0, 12, 0, 0, 0, 0, 10, 0, 16, 0, 0, 0, 0, 0, 16]\n",
      "[16, 0, 0, 0, 16, 0, 0, 8, 0, 16, 11, 0, 0, 0, 0, 16]\n",
      "4 7\n"
     ]
    },
    {
     "name": "stderr",
     "output_type": "stream",
     "text": [
      "Evaluating: 100%|██████████| 55/55 [00:22<00:00,  2.41it/s]\n"
     ]
    },
    {
     "name": "stdout",
     "output_type": "stream",
     "text": [
      "Loss: 0.3785\n",
      "Precision: 0.7404, Recall: 0.7086, F1-Score: 0.7208\n",
      "              precision    recall  f1-score   support\n",
      "\n",
      "           0       0.65      0.52      0.58       473\n",
      "           1       0.83      0.89      0.86      1260\n",
      "\n",
      "    accuracy                           0.79      1733\n",
      "   macro avg       0.74      0.71      0.72      1733\n",
      "weighted avg       0.78      0.79      0.78      1733\n",
      "\n",
      "Directory /home/Minwoo/LESN/Decompose/DecomposeBERT/Models/Configs/pretrained/sadickam/sdg-classification-bert exists.\n",
      "Loading the model.\n",
      "Start Time:19:48:37\n",
      "#Module 4 in progress....\n",
      "origin\n",
      "Start Positive CI sparse\n",
      "Start Positive CI after sparse\n",
      "Start Negative TI\n",
      "[0, 7, 8, 9, 10, 15]\n",
      "[0, 4, 7, 9, 15]\n",
      "[16, 0, 0, 0, 0, 0, 0, 12, 10, 16, 9, 0, 0, 0, 0, 16]\n",
      "[16, 0, 0, 0, 16, 0, 0, 10, 0, 16, 0, 0, 0, 0, 0, 16]\n",
      "4 8\n"
     ]
    },
    {
     "name": "stderr",
     "output_type": "stream",
     "text": [
      "Evaluating: 100%|██████████| 63/63 [00:31<00:00,  1.98it/s]\n"
     ]
    },
    {
     "name": "stdout",
     "output_type": "stream",
     "text": [
      "Loss: 0.1533\n",
      "Precision: 0.9337, Recall: 0.9445, F1-Score: 0.9384\n",
      "              precision    recall  f1-score   support\n",
      "\n",
      "           0       0.89      0.96      0.92       746\n",
      "           1       0.97      0.93      0.95      1260\n",
      "\n",
      "    accuracy                           0.94      2006\n",
      "   macro avg       0.93      0.94      0.94      2006\n",
      "weighted avg       0.94      0.94      0.94      2006\n",
      "\n",
      "Directory /home/Minwoo/LESN/Decompose/DecomposeBERT/Models/Configs/pretrained/sadickam/sdg-classification-bert exists.\n",
      "Loading the model.\n",
      "Start Time:19:50:05\n",
      "#Module 4 in progress....\n",
      "origin\n",
      "Start Positive CI sparse\n",
      "Start Positive CI after sparse\n",
      "Start Negative TI\n",
      "[0, 1, 2, 5, 7, 8, 9, 10, 12, 15]\n",
      "[0, 2, 4, 7, 8, 9, 10, 12, 15]\n",
      "[16, 9, 9, 0, 0, 9, 0, 12, 9, 16, 10, 0, 11, 0, 0, 16]\n",
      "[16, 0, 8, 0, 16, 0, 0, 11, 10, 16, 11, 0, 9, 0, 0, 16]\n",
      "4 9\n"
     ]
    },
    {
     "name": "stderr",
     "output_type": "stream",
     "text": [
      "Evaluating: 100%|██████████| 61/61 [00:46<00:00,  1.30it/s]\n"
     ]
    },
    {
     "name": "stdout",
     "output_type": "stream",
     "text": [
      "Loss: 0.4269\n",
      "Precision: 0.7258, Recall: 0.5522, F1-Score: 0.5052\n",
      "              precision    recall  f1-score   support\n",
      "\n",
      "           0       0.78      0.12      0.21       689\n",
      "           1       0.67      0.98      0.80      1260\n",
      "\n",
      "    accuracy                           0.68      1949\n",
      "   macro avg       0.73      0.55      0.51      1949\n",
      "weighted avg       0.71      0.68      0.59      1949\n",
      "\n",
      "Directory /home/Minwoo/LESN/Decompose/DecomposeBERT/Models/Configs/pretrained/sadickam/sdg-classification-bert exists.\n",
      "Loading the model.\n",
      "Start Time:19:52:06\n",
      "#Module 4 in progress....\n",
      "origin\n",
      "Start Positive CI sparse\n",
      "Start Positive CI after sparse\n",
      "Start Negative TI\n",
      "[0, 1, 2, 7, 8, 9, 10, 12, 15]\n",
      "[0, 2, 4, 7, 9, 10, 15]\n",
      "[16, 10, 9, 0, 0, 0, 0, 16, 11, 16, 10, 0, 11, 0, 0, 16]\n",
      "[16, 0, 12, 0, 16, 0, 0, 9, 0, 16, 15, 0, 0, 0, 0, 16]\n",
      "4 10\n"
     ]
    },
    {
     "name": "stderr",
     "output_type": "stream",
     "text": [
      "Evaluating: 100%|██████████| 61/61 [00:52<00:00,  1.15it/s]\n"
     ]
    },
    {
     "name": "stdout",
     "output_type": "stream",
     "text": [
      "Loss: 0.3722\n",
      "Precision: 0.7757, Recall: 0.6786, F1-Score: 0.6906\n",
      "              precision    recall  f1-score   support\n",
      "\n",
      "           0       0.80      0.41      0.54       670\n",
      "           1       0.75      0.95      0.84      1260\n",
      "\n",
      "    accuracy                           0.76      1930\n",
      "   macro avg       0.78      0.68      0.69      1930\n",
      "weighted avg       0.77      0.76      0.74      1930\n",
      "\n",
      "Directory /home/Minwoo/LESN/Decompose/DecomposeBERT/Models/Configs/pretrained/sadickam/sdg-classification-bert exists.\n",
      "Loading the model.\n",
      "Start Time:19:53:51\n",
      "#Module 4 in progress....\n",
      "origin\n",
      "Start Positive CI sparse\n",
      "Start Positive CI after sparse\n",
      "Start Negative TI\n",
      "[0, 2, 9, 10, 12, 15]\n",
      "[0, 3, 4, 9, 10, 12, 15]\n",
      "[16, 0, 11, 0, 0, 0, 0, 0, 0, 16, 15, 0, 10, 0, 0, 16]\n",
      "[16, 0, 0, 8, 16, 0, 0, 0, 0, 16, 10, 0, 10, 0, 0, 16]\n",
      "4 11\n"
     ]
    },
    {
     "name": "stderr",
     "output_type": "stream",
     "text": [
      "Evaluating: 100%|██████████| 50/50 [00:33<00:00,  1.49it/s]\n"
     ]
    },
    {
     "name": "stdout",
     "output_type": "stream",
     "text": [
      "Loss: 0.1938\n",
      "Precision: 0.9082, Recall: 0.9377, F1-Score: 0.9219\n",
      "              precision    recall  f1-score   support\n",
      "\n",
      "           0       0.84      0.92      0.88       312\n",
      "           1       0.98      0.96      0.97      1260\n",
      "\n",
      "    accuracy                           0.95      1572\n",
      "   macro avg       0.91      0.94      0.92      1572\n",
      "weighted avg       0.95      0.95      0.95      1572\n",
      "\n",
      "Directory /home/Minwoo/LESN/Decompose/DecomposeBERT/Models/Configs/pretrained/sadickam/sdg-classification-bert exists.\n",
      "Loading the model.\n",
      "Start Time:19:55:16\n",
      "#Module 4 in progress....\n",
      "origin\n",
      "Start Positive CI sparse\n",
      "Start Positive CI after sparse\n",
      "Start Negative TI\n",
      "[0, 1, 7, 8, 9, 10, 12, 15]\n",
      "[0, 2, 3, 4, 9, 10, 15]\n",
      "[16, 8, 0, 0, 0, 0, 0, 10, 8, 16, 12, 0, 8, 0, 0, 16]\n",
      "[16, 0, 11, 9, 16, 0, 0, 0, 0, 16, 14, 0, 0, 0, 0, 16]\n",
      "4 12\n"
     ]
    },
    {
     "name": "stderr",
     "output_type": "stream",
     "text": [
      "Evaluating: 100%|██████████| 61/61 [00:31<00:00,  1.91it/s]\n"
     ]
    },
    {
     "name": "stdout",
     "output_type": "stream",
     "text": [
      "Loss: 0.1916\n",
      "Precision: 0.9248, Recall: 0.9413, F1-Score: 0.9319\n",
      "              precision    recall  f1-score   support\n",
      "\n",
      "           0       0.87      0.95      0.91       665\n",
      "           1       0.97      0.93      0.95      1260\n",
      "\n",
      "    accuracy                           0.94      1925\n",
      "   macro avg       0.92      0.94      0.93      1925\n",
      "weighted avg       0.94      0.94      0.94      1925\n",
      "\n",
      "Directory /home/Minwoo/LESN/Decompose/DecomposeBERT/Models/Configs/pretrained/sadickam/sdg-classification-bert exists.\n",
      "Loading the model.\n",
      "Start Time:19:56:48\n",
      "#Module 4 in progress....\n",
      "origin\n",
      "Start Positive CI sparse\n",
      "Start Positive CI after sparse\n",
      "Start Negative TI\n",
      "[0, 1, 2, 7, 8, 9, 10, 12, 14, 15]\n",
      "[0, 1, 2, 4, 7, 9, 10, 15]\n",
      "[16, 9, 10, 0, 0, 0, 0, 13, 10, 16, 14, 0, 9, 0, 8, 16]\n",
      "[16, 8, 8, 0, 16, 0, 0, 11, 0, 16, 12, 0, 0, 0, 0, 16]\n",
      "4 13\n"
     ]
    },
    {
     "name": "stderr",
     "output_type": "stream",
     "text": [
      "Evaluating: 100%|██████████| 50/50 [00:18<00:00,  2.64it/s]\n"
     ]
    },
    {
     "name": "stdout",
     "output_type": "stream",
     "text": [
      "Loss: 0.1998\n",
      "Precision: 0.8987, Recall: 0.8802, F1-Score: 0.8890\n",
      "              precision    recall  f1-score   support\n",
      "\n",
      "           0       0.85      0.80      0.82       314\n",
      "           1       0.95      0.96      0.96      1260\n",
      "\n",
      "    accuracy                           0.93      1574\n",
      "   macro avg       0.90      0.88      0.89      1574\n",
      "weighted avg       0.93      0.93      0.93      1574\n",
      "\n",
      "Directory /home/Minwoo/LESN/Decompose/DecomposeBERT/Models/Configs/pretrained/sadickam/sdg-classification-bert exists.\n",
      "Loading the model.\n",
      "Start Time:19:58:02\n",
      "#Module 4 in progress....\n",
      "origin\n",
      "Start Positive CI sparse\n",
      "Start Positive CI after sparse\n",
      "Start Negative TI\n",
      "[0, 1, 2, 5, 7, 8, 9, 10, 12, 15]\n",
      "[0, 2, 3, 4, 7, 9, 10, 12, 15]\n",
      "[15, 12, 9, 0, 0, 8, 0, 11, 9, 16, 11, 0, 12, 0, 0, 16]\n",
      "[16, 0, 8, 9, 15, 0, 0, 9, 0, 16, 10, 0, 9, 0, 0, 16]\n",
      "4 14\n"
     ]
    },
    {
     "name": "stderr",
     "output_type": "stream",
     "text": [
      "Evaluating: 100%|██████████| 63/63 [00:31<00:00,  2.00it/s]\n"
     ]
    },
    {
     "name": "stdout",
     "output_type": "stream",
     "text": [
      "Loss: 0.3537\n",
      "Precision: 0.7841, Recall: 0.6635, F1-Score: 0.6661\n",
      "              precision    recall  f1-score   support\n",
      "\n",
      "           0       0.85      0.37      0.51       756\n",
      "           1       0.72      0.96      0.82      1260\n",
      "\n",
      "    accuracy                           0.74      2016\n",
      "   macro avg       0.78      0.66      0.67      2016\n",
      "weighted avg       0.77      0.74      0.70      2016\n",
      "\n",
      "Directory /home/Minwoo/LESN/Decompose/DecomposeBERT/Models/Configs/pretrained/sadickam/sdg-classification-bert exists.\n",
      "Loading the model.\n",
      "Start Time:19:59:47\n",
      "#Module 4 in progress....\n",
      "origin\n",
      "Start Positive CI sparse\n",
      "Start Positive CI after sparse\n",
      "Start Negative TI\n",
      "[0, 2, 7, 9, 10, 15]\n",
      "[0, 4, 7, 9, 10, 15]\n",
      "[16, 0, 8, 0, 0, 0, 0, 10, 0, 16, 12, 0, 0, 0, 0, 16]\n",
      "[16, 0, 0, 0, 16, 0, 0, 10, 0, 16, 12, 0, 0, 0, 0, 16]\n",
      "4 15\n"
     ]
    },
    {
     "name": "stderr",
     "output_type": "stream",
     "text": [
      "Evaluating: 100%|██████████| 90/90 [00:47<00:00,  1.89it/s]\n"
     ]
    },
    {
     "name": "stdout",
     "output_type": "stream",
     "text": [
      "Loss: 0.5994\n",
      "Precision: 0.4188, Recall: 0.4837, F1-Score: 0.3292\n",
      "              precision    recall  f1-score   support\n",
      "\n",
      "           0       0.41      0.04      0.07      1607\n",
      "           1       0.43      0.93      0.59      1260\n",
      "\n",
      "    accuracy                           0.43      2867\n",
      "   macro avg       0.42      0.48      0.33      2867\n",
      "weighted avg       0.42      0.43      0.30      2867\n",
      "\n",
      "Directory /home/Minwoo/LESN/Decompose/DecomposeBERT/Models/Configs/pretrained/sadickam/sdg-classification-bert exists.\n",
      "Loading the model.\n",
      "Start Time:20:01:40\n",
      "#Module 5 in progress....\n",
      "origin\n",
      "Start Positive CI sparse\n",
      "Start Positive CI after sparse\n",
      "Start Negative TI\n",
      "[0, 1, 7, 8, 9, 10, 12, 15]\n",
      "[0, 1, 2, 5, 9, 10, 12, 14, 15]\n",
      "[16, 15, 0, 0, 0, 0, 0, 11, 9, 16, 13, 0, 12, 0, 0, 14]\n",
      "[16, 9, 10, 0, 0, 16, 0, 0, 0, 15, 16, 0, 16, 0, 15, 14]\n",
      "5 0\n"
     ]
    },
    {
     "name": "stderr",
     "output_type": "stream",
     "text": [
      "Evaluating: 100%|██████████| 53/53 [00:39<00:00,  1.34it/s]\n"
     ]
    },
    {
     "name": "stdout",
     "output_type": "stream",
     "text": [
      "Loss: 0.2676\n",
      "Precision: 0.9082, Recall: 0.9066, F1-Score: 0.9035\n",
      "              precision    recall  f1-score   support\n",
      "\n",
      "           0       0.85      0.97      0.90       797\n",
      "           1       0.97      0.85      0.90       882\n",
      "\n",
      "    accuracy                           0.90      1679\n",
      "   macro avg       0.91      0.91      0.90      1679\n",
      "weighted avg       0.91      0.90      0.90      1679\n",
      "\n",
      "Directory /home/Minwoo/LESN/Decompose/DecomposeBERT/Models/Configs/pretrained/sadickam/sdg-classification-bert exists.\n",
      "Loading the model.\n",
      "Start Time:20:03:20\n",
      "#Module 5 in progress....\n",
      "origin\n",
      "Start Positive CI sparse\n",
      "Start Positive CI after sparse\n",
      "Start Negative TI\n",
      "[0, 1, 2, 7, 9, 10, 12, 14, 15]\n",
      "[0, 2, 5, 9, 10, 12, 15]\n",
      "[16, 9, 15, 0, 0, 0, 0, 8, 0, 16, 15, 0, 9, 0, 8, 16]\n",
      "[16, 0, 13, 0, 0, 16, 0, 0, 0, 16, 16, 0, 14, 0, 0, 16]\n",
      "5 1\n"
     ]
    },
    {
     "name": "stderr",
     "output_type": "stream",
     "text": [
      "Evaluating: 100%|██████████| 52/52 [00:24<00:00,  2.12it/s]\n"
     ]
    },
    {
     "name": "stdout",
     "output_type": "stream",
     "text": [
      "Loss: 0.2825\n",
      "Precision: 0.8874, Recall: 0.8889, F1-Score: 0.8876\n",
      "              precision    recall  f1-score   support\n",
      "\n",
      "           0       0.86      0.91      0.88       775\n",
      "           1       0.91      0.87      0.89       882\n",
      "\n",
      "    accuracy                           0.89      1657\n",
      "   macro avg       0.89      0.89      0.89      1657\n",
      "weighted avg       0.89      0.89      0.89      1657\n",
      "\n",
      "Directory /home/Minwoo/LESN/Decompose/DecomposeBERT/Models/Configs/pretrained/sadickam/sdg-classification-bert exists.\n",
      "Loading the model.\n",
      "Start Time:20:04:35\n",
      "#Module 5 in progress....\n",
      "origin\n",
      "Start Positive CI sparse\n",
      "Start Positive CI after sparse\n",
      "Start Negative TI\n",
      "[0, 2, 8, 9, 10, 12, 15]\n",
      "[0, 1, 2, 5, 9, 10, 12, 15]\n",
      "[16, 0, 11, 0, 0, 0, 0, 0, 10, 16, 14, 0, 12, 0, 0, 16]\n",
      "[15, 12, 9, 0, 0, 16, 0, 0, 0, 15, 16, 0, 16, 0, 0, 16]\n",
      "5 2\n"
     ]
    },
    {
     "name": "stderr",
     "output_type": "stream",
     "text": [
      "Evaluating: 100%|██████████| 53/53 [00:19<00:00,  2.77it/s]\n"
     ]
    },
    {
     "name": "stdout",
     "output_type": "stream",
     "text": [
      "Loss: 0.3555\n",
      "Precision: 0.9184, Recall: 0.9180, F1-Score: 0.9153\n",
      "              precision    recall  f1-score   support\n",
      "\n",
      "           0       0.87      0.97      0.92       795\n",
      "           1       0.97      0.87      0.91       882\n",
      "\n",
      "    accuracy                           0.92      1677\n",
      "   macro avg       0.92      0.92      0.92      1677\n",
      "weighted avg       0.92      0.92      0.92      1677\n",
      "\n",
      "Directory /home/Minwoo/LESN/Decompose/DecomposeBERT/Models/Configs/pretrained/sadickam/sdg-classification-bert exists.\n",
      "Loading the model.\n",
      "Start Time:20:06:00\n",
      "#Module 5 in progress....\n",
      "origin\n",
      "Start Positive CI sparse\n",
      "Start Positive CI after sparse\n",
      "Start Negative TI\n",
      "[0, 1, 2, 7, 8, 9, 10, 12, 15]\n",
      "[0, 1, 2, 5, 8, 9, 10, 11, 12, 15]\n",
      "[15, 9, 8, 0, 0, 0, 0, 9, 14, 16, 15, 0, 9, 0, 0, 16]\n",
      "[16, 13, 14, 0, 0, 16, 0, 0, 9, 16, 16, 10, 15, 0, 0, 16]\n",
      "5 3\n"
     ]
    },
    {
     "name": "stderr",
     "output_type": "stream",
     "text": [
      "Evaluating: 100%|██████████| 63/63 [00:37<00:00,  1.68it/s]\n"
     ]
    },
    {
     "name": "stdout",
     "output_type": "stream",
     "text": [
      "Loss: 0.2732\n",
      "Precision: 0.9445, Recall: 0.9364, F1-Score: 0.9395\n",
      "              precision    recall  f1-score   support\n",
      "\n",
      "           0       0.92      0.97      0.95      1110\n",
      "           1       0.97      0.90      0.93       882\n",
      "\n",
      "    accuracy                           0.94      1992\n",
      "   macro avg       0.94      0.94      0.94      1992\n",
      "weighted avg       0.94      0.94      0.94      1992\n",
      "\n",
      "Directory /home/Minwoo/LESN/Decompose/DecomposeBERT/Models/Configs/pretrained/sadickam/sdg-classification-bert exists.\n",
      "Loading the model.\n",
      "Start Time:20:07:37\n",
      "#Module 5 in progress....\n",
      "origin\n",
      "Start Positive CI sparse\n",
      "Start Positive CI after sparse\n",
      "Start Negative TI\n",
      "[0, 1, 2, 7, 9, 10, 15]\n",
      "[0, 1, 2, 5, 9, 10, 12, 14, 15]\n",
      "[16, 15, 10, 0, 0, 0, 0, 8, 0, 16, 16, 0, 0, 0, 0, 16]\n",
      "[16, 15, 11, 0, 0, 16, 0, 0, 0, 16, 16, 0, 13, 0, 9, 16]\n",
      "5 4\n"
     ]
    },
    {
     "name": "stderr",
     "output_type": "stream",
     "text": [
      "Evaluating: 100%|██████████| 67/67 [00:38<00:00,  1.75it/s]\n"
     ]
    },
    {
     "name": "stdout",
     "output_type": "stream",
     "text": [
      "Loss: 0.3141\n",
      "Precision: 0.9342, Recall: 0.9241, F1-Score: 0.9284\n",
      "              precision    recall  f1-score   support\n",
      "\n",
      "           0       0.92      0.97      0.94      1260\n",
      "           1       0.95      0.88      0.91       882\n",
      "\n",
      "    accuracy                           0.93      2142\n",
      "   macro avg       0.93      0.92      0.93      2142\n",
      "weighted avg       0.93      0.93      0.93      2142\n",
      "\n",
      "Directory /home/Minwoo/LESN/Decompose/DecomposeBERT/Models/Configs/pretrained/sadickam/sdg-classification-bert exists.\n",
      "Loading the model.\n",
      "Start Time:20:08:58\n",
      "#Module 5 in progress....\n",
      "origin\n",
      "Start Positive CI sparse\n",
      "Start Positive CI after sparse\n",
      "Start Negative TI\n",
      "[0, 7, 8, 9, 10, 12, 15]\n",
      "[0, 1, 2, 5, 6, 8, 9, 10, 11, 12, 14, 15]\n",
      "[15, 0, 0, 0, 0, 0, 0, 10, 12, 16, 14, 0, 10, 0, 0, 16]\n",
      "[15, 8, 12, 0, 0, 15, 10, 0, 9, 16, 14, 9, 15, 0, 8, 16]\n",
      "5 6\n"
     ]
    },
    {
     "name": "stderr",
     "output_type": "stream",
     "text": [
      "Evaluating: 100%|██████████| 57/57 [00:37<00:00,  1.53it/s]\n"
     ]
    },
    {
     "name": "stdout",
     "output_type": "stream",
     "text": [
      "Loss: 0.7545\n",
      "Precision: 0.5602, Recall: 0.5258, F1-Score: 0.4403\n",
      "              precision    recall  f1-score   support\n",
      "\n",
      "           0       0.62      0.15      0.24       940\n",
      "           1       0.50      0.90      0.64       882\n",
      "\n",
      "    accuracy                           0.51      1822\n",
      "   macro avg       0.56      0.53      0.44      1822\n",
      "weighted avg       0.56      0.51      0.43      1822\n",
      "\n",
      "Directory /home/Minwoo/LESN/Decompose/DecomposeBERT/Models/Configs/pretrained/sadickam/sdg-classification-bert exists.\n",
      "Loading the model.\n",
      "Start Time:20:10:31\n",
      "#Module 5 in progress....\n",
      "origin\n",
      "Start Positive CI sparse\n",
      "Start Positive CI after sparse\n",
      "Start Negative TI\n",
      "[0, 2, 7, 9, 10, 12, 15]\n",
      "[0, 1, 2, 5, 9, 10, 11, 12, 14, 15]\n",
      "[16, 0, 10, 0, 0, 0, 0, 10, 0, 16, 13, 0, 12, 0, 0, 16]\n",
      "[16, 12, 13, 0, 0, 16, 0, 0, 0, 16, 16, 8, 16, 0, 13, 16]\n",
      "5 7\n"
     ]
    },
    {
     "name": "stderr",
     "output_type": "stream",
     "text": [
      "Evaluating: 100%|██████████| 43/43 [00:24<00:00,  1.77it/s]\n"
     ]
    },
    {
     "name": "stdout",
     "output_type": "stream",
     "text": [
      "Loss: 0.2191\n",
      "Precision: 0.9101, Recall: 0.9362, F1-Score: 0.9193\n",
      "              precision    recall  f1-score   support\n",
      "\n",
      "           0       0.83      0.98      0.90       473\n",
      "           1       0.99      0.90      0.94       882\n",
      "\n",
      "    accuracy                           0.92      1355\n",
      "   macro avg       0.91      0.94      0.92      1355\n",
      "weighted avg       0.93      0.92      0.93      1355\n",
      "\n",
      "Directory /home/Minwoo/LESN/Decompose/DecomposeBERT/Models/Configs/pretrained/sadickam/sdg-classification-bert exists.\n",
      "Loading the model.\n",
      "Start Time:20:11:48\n",
      "#Module 5 in progress....\n",
      "origin\n",
      "Start Positive CI sparse\n",
      "Start Positive CI after sparse\n",
      "Start Negative TI\n",
      "[0, 1, 2, 9, 10, 12, 15]\n",
      "[0, 1, 2, 5, 9, 10, 12, 15]\n",
      "[16, 10, 12, 0, 0, 0, 0, 0, 0, 16, 14, 0, 10, 0, 0, 16]\n",
      "[16, 8, 15, 0, 0, 16, 0, 0, 0, 16, 13, 0, 16, 0, 0, 16]\n",
      "5 8\n"
     ]
    },
    {
     "name": "stderr",
     "output_type": "stream",
     "text": [
      "Evaluating: 100%|██████████| 51/51 [00:33<00:00,  1.55it/s]\n"
     ]
    },
    {
     "name": "stdout",
     "output_type": "stream",
     "text": [
      "Loss: 0.3862\n",
      "Precision: 0.9007, Recall: 0.9030, F1-Score: 0.9014\n",
      "              precision    recall  f1-score   support\n",
      "\n",
      "           0       0.87      0.92      0.90       746\n",
      "           1       0.93      0.89      0.91       882\n",
      "\n",
      "    accuracy                           0.90      1628\n",
      "   macro avg       0.90      0.90      0.90      1628\n",
      "weighted avg       0.90      0.90      0.90      1628\n",
      "\n",
      "Directory /home/Minwoo/LESN/Decompose/DecomposeBERT/Models/Configs/pretrained/sadickam/sdg-classification-bert exists.\n",
      "Loading the model.\n",
      "Start Time:20:13:18\n",
      "#Module 5 in progress....\n",
      "origin\n",
      "Start Positive CI sparse\n",
      "Start Positive CI after sparse\n",
      "Start Negative TI\n",
      "[0, 2, 7, 8, 9, 10, 15]\n",
      "[0, 2, 5, 9, 10, 12, 15]\n",
      "[16, 0, 15, 0, 0, 0, 0, 14, 10, 16, 15, 0, 0, 0, 0, 16]\n",
      "[16, 0, 8, 0, 0, 16, 0, 0, 0, 16, 16, 0, 8, 0, 0, 16]\n",
      "5 9\n"
     ]
    },
    {
     "name": "stderr",
     "output_type": "stream",
     "text": [
      "Evaluating: 100%|██████████| 50/50 [00:22<00:00,  2.24it/s]\n"
     ]
    },
    {
     "name": "stdout",
     "output_type": "stream",
     "text": [
      "Loss: 0.2650\n",
      "Precision: 0.9117, Recall: 0.9179, F1-Score: 0.9106\n",
      "              precision    recall  f1-score   support\n",
      "\n",
      "           0       0.85      0.98      0.91       689\n",
      "           1       0.98      0.86      0.92       882\n",
      "\n",
      "    accuracy                           0.91      1571\n",
      "   macro avg       0.91      0.92      0.91      1571\n",
      "weighted avg       0.92      0.91      0.91      1571\n",
      "\n",
      "Directory /home/Minwoo/LESN/Decompose/DecomposeBERT/Models/Configs/pretrained/sadickam/sdg-classification-bert exists.\n",
      "Loading the model.\n",
      "Start Time:20:14:56\n",
      "#Module 5 in progress....\n",
      "origin\n",
      "Start Positive CI sparse\n",
      "Start Positive CI after sparse\n",
      "Start Negative TI\n",
      "[0, 1, 2, 7, 9, 10, 12, 14, 15]\n",
      "[0, 1, 2, 5, 9, 10, 11, 12, 14, 15]\n",
      "[16, 11, 13, 0, 0, 0, 0, 10, 0, 16, 16, 0, 14, 0, 9, 16]\n",
      "[16, 15, 13, 0, 0, 16, 0, 0, 0, 16, 16, 8, 16, 0, 15, 16]\n",
      "5 10\n"
     ]
    },
    {
     "name": "stderr",
     "output_type": "stream",
     "text": [
      "Evaluating: 100%|██████████| 49/49 [00:18<00:00,  2.63it/s]\n"
     ]
    },
    {
     "name": "stdout",
     "output_type": "stream",
     "text": [
      "Loss: 0.3787\n",
      "Precision: 0.8764, Recall: 0.8694, F1-Score: 0.8722\n",
      "              precision    recall  f1-score   support\n",
      "\n",
      "           0       0.88      0.82      0.85       670\n",
      "           1       0.87      0.91      0.89       882\n",
      "\n",
      "    accuracy                           0.88      1552\n",
      "   macro avg       0.88      0.87      0.87      1552\n",
      "weighted avg       0.88      0.88      0.88      1552\n",
      "\n",
      "Directory /home/Minwoo/LESN/Decompose/DecomposeBERT/Models/Configs/pretrained/sadickam/sdg-classification-bert exists.\n",
      "Loading the model.\n",
      "Start Time:20:16:19\n",
      "#Module 5 in progress....\n",
      "origin\n",
      "Start Positive CI sparse\n",
      "Start Positive CI after sparse\n",
      "Start Negative TI\n",
      "[0, 1, 2, 7, 8, 9, 10, 12, 15]\n",
      "[0, 1, 5, 8, 9, 10, 11, 12, 15]\n",
      "[16, 11, 14, 0, 0, 0, 0, 11, 10, 16, 16, 0, 10, 0, 0, 16]\n",
      "[16, 15, 0, 0, 0, 16, 0, 0, 11, 16, 16, 8, 11, 0, 0, 15]\n",
      "5 11\n"
     ]
    },
    {
     "name": "stderr",
     "output_type": "stream",
     "text": [
      "Evaluating: 100%|██████████| 38/38 [00:11<00:00,  3.41it/s]\n"
     ]
    },
    {
     "name": "stdout",
     "output_type": "stream",
     "text": [
      "Loss: 0.4554\n",
      "Precision: 0.5615, Recall: 0.5290, F1-Score: 0.5162\n",
      "              precision    recall  f1-score   support\n",
      "\n",
      "           0       0.37      0.14      0.21       312\n",
      "           1       0.75      0.91      0.82       882\n",
      "\n",
      "    accuracy                           0.71      1194\n",
      "   macro avg       0.56      0.53      0.52      1194\n",
      "weighted avg       0.65      0.71      0.66      1194\n",
      "\n",
      "Directory /home/Minwoo/LESN/Decompose/DecomposeBERT/Models/Configs/pretrained/sadickam/sdg-classification-bert exists.\n",
      "Loading the model.\n",
      "Start Time:20:17:27\n",
      "#Module 5 in progress....\n",
      "origin\n",
      "Start Positive CI sparse\n",
      "Start Positive CI after sparse\n",
      "Start Negative TI\n",
      "[0, 1, 2, 7, 8, 9, 10, 12, 14, 15]\n",
      "[0, 1, 2, 5, 9, 10, 12, 14, 15]\n",
      "[16, 12, 12, 0, 0, 0, 0, 12, 13, 16, 13, 0, 11, 0, 10, 16]\n",
      "[16, 15, 11, 0, 0, 16, 0, 0, 0, 16, 16, 0, 15, 0, 15, 11]\n",
      "5 12\n"
     ]
    },
    {
     "name": "stderr",
     "output_type": "stream",
     "text": [
      "Evaluating: 100%|██████████| 49/49 [00:17<00:00,  2.87it/s]\n"
     ]
    },
    {
     "name": "stdout",
     "output_type": "stream",
     "text": [
      "Loss: 0.7271\n",
      "Precision: 0.5310, Recall: 0.5136, F1-Score: 0.4578\n",
      "              precision    recall  f1-score   support\n",
      "\n",
      "           0       0.48      0.14      0.22       665\n",
      "           1       0.58      0.89      0.70       882\n",
      "\n",
      "    accuracy                           0.57      1547\n",
      "   macro avg       0.53      0.51      0.46      1547\n",
      "weighted avg       0.54      0.57      0.49      1547\n",
      "\n",
      "Directory /home/Minwoo/LESN/Decompose/DecomposeBERT/Models/Configs/pretrained/sadickam/sdg-classification-bert exists.\n",
      "Loading the model.\n",
      "Start Time:20:18:53\n",
      "#Module 5 in progress....\n",
      "origin\n",
      "Start Positive CI sparse\n",
      "Start Positive CI after sparse\n",
      "Start Negative TI\n",
      "[0, 1, 2, 8, 9, 10, 12, 15]\n",
      "[0, 2, 5, 9, 10, 12, 14, 15]\n",
      "[16, 8, 9, 0, 0, 0, 0, 0, 8, 16, 14, 0, 10, 0, 0, 16]\n",
      "[16, 0, 11, 0, 0, 16, 0, 0, 0, 16, 15, 0, 10, 0, 11, 16]\n",
      "5 13\n"
     ]
    },
    {
     "name": "stderr",
     "output_type": "stream",
     "text": [
      "Evaluating: 100%|██████████| 38/38 [00:09<00:00,  3.98it/s]\n"
     ]
    },
    {
     "name": "stdout",
     "output_type": "stream",
     "text": [
      "Loss: 0.4938\n",
      "Precision: 0.5160, Recall: 0.5110, F1-Score: 0.5048\n",
      "              precision    recall  f1-score   support\n",
      "\n",
      "           0       0.29      0.18      0.22       314\n",
      "           1       0.74      0.85      0.79       882\n",
      "\n",
      "    accuracy                           0.67      1196\n",
      "   macro avg       0.52      0.51      0.50      1196\n",
      "weighted avg       0.62      0.67      0.64      1196\n",
      "\n",
      "Directory /home/Minwoo/LESN/Decompose/DecomposeBERT/Models/Configs/pretrained/sadickam/sdg-classification-bert exists.\n",
      "Loading the model.\n",
      "Start Time:20:20:23\n",
      "#Module 5 in progress....\n",
      "origin\n",
      "Start Positive CI sparse\n",
      "Start Positive CI after sparse\n",
      "Start Negative TI\n",
      "[0, 1, 2, 9, 10, 12, 15]\n",
      "[0, 1, 2, 5, 9, 10, 12, 15]\n",
      "[16, 10, 9, 0, 0, 0, 0, 0, 0, 16, 16, 0, 10, 0, 0, 16]\n",
      "[16, 9, 9, 0, 0, 16, 0, 0, 0, 16, 16, 0, 13, 0, 0, 16]\n",
      "5 14\n"
     ]
    },
    {
     "name": "stderr",
     "output_type": "stream",
     "text": [
      "Evaluating: 100%|██████████| 52/52 [00:17<00:00,  2.92it/s]\n"
     ]
    },
    {
     "name": "stdout",
     "output_type": "stream",
     "text": [
      "Loss: 0.5869\n",
      "Precision: 0.4776, Recall: 0.4889, F1-Score: 0.4268\n",
      "              precision    recall  f1-score   support\n",
      "\n",
      "           0       0.42      0.13      0.20       756\n",
      "           1       0.53      0.85      0.65       882\n",
      "\n",
      "    accuracy                           0.52      1638\n",
      "   macro avg       0.48      0.49      0.43      1638\n",
      "weighted avg       0.48      0.52      0.44      1638\n",
      "\n",
      "Directory /home/Minwoo/LESN/Decompose/DecomposeBERT/Models/Configs/pretrained/sadickam/sdg-classification-bert exists.\n",
      "Loading the model.\n"
     ]
    }
   ],
   "source": [
    "for i in range(num_labels):\n",
    "    model, tokenizer, checkpoint = load_classification_model(model_config, train_mode=False)\n",
    "\n",
    "    train_dataloader, valid_dataloader, test_dataloader = load_data(\n",
    "        model_config, batch_size=32, test_size=0.3\n",
    "    )\n",
    "\n",
    "    print(\"Start Time:\" + datetime.now().strftime(\"%H:%M:%S\"))\n",
    "    print(\"#Module \" + str(i) + \" in progress....\")\n",
    "    num_samples = 64\n",
    "\n",
    "    positive_samples = sampling_class(\n",
    "        train_dataloader, i, num_samples, num_labels, True, 4, device=device\n",
    "    )\n",
    "    negative_samples = sampling_class(\n",
    "        train_dataloader, i, num_samples, num_labels, False, 4, device=device\n",
    "    )\n",
    "\n",
    "    all_samples = sampling_class(\n",
    "        train_dataloader, 200, 20, num_labels, False, 4, device=device\n",
    "    )\n",
    "\n",
    "    print(\"origin\")\n",
    "    evaluate_model(model, model_config, test_dataloader)\n",
    "\n",
    "    module = copy.deepcopy(model)\n",
    "    wr = WeightRemoverBert(model, p=0.9)\n",
    "    ci = ConcernIdentificationBert(model, p=0.4)\n",
    "    ti = TanglingIdentification(model, p=0.5)\n",
    "\n",
    "    print(\"Start Positive CI sparse\")\n",
    "\n",
    "    eval_step = 5\n",
    "    for idx, batch in enumerate(all_samples):\n",
    "        input_ids, attn_mask, _, total_sampled = batch\n",
    "        with torch.no_grad():\n",
    "            wr.propagate(module, input_ids)\n",
    "        if idx % eval_step:\n",
    "            # result = evaluate_model(module, model_config, test_dataloader)\n",
    "            pass\n",
    "\n",
    "    print(\"Start Positive CI after sparse\")\n",
    "\n",
    "    for idx, batch in enumerate(positive_samples):\n",
    "        input_ids, attn_mask, _, total_sampled = batch\n",
    "        with torch.no_grad():\n",
    "            ci.propagate(module, input_ids)\n",
    "        if idx % eval_step:\n",
    "            # result = evaluate_model(module, model_config, test_dataloader)\n",
    "            pass\n",
    "\n",
    "    print(\"Start Negative TI\")\n",
    "\n",
    "    for idx, batch in enumerate(negative_samples):\n",
    "        input_ids, attn_mask, _, total_sampled = batch\n",
    "        with torch.no_grad():\n",
    "            ti.propagate(module, input_ids)\n",
    "        if idx % eval_step:\n",
    "            # result = evaluate_model(module, model_config, test_dataloader)\n",
    "            pass\n",
    "\n",
    "    ConcernModularizationBert.channeling(module, ci.active_node, ti.dead_node, i, model_config.device)\n",
    "    binary_module = ConcernModularizationBert.convert2binary(model_config, module)\n",
    "    # save_module(binary_module, model_config.module_dir, model_config.model_name)\n",
    "    \n",
    "    for m in range(num_labels):\n",
    "        converted_test_dataloader = convert_dataset_labels_to_binary(test_dataloader, i, True)\n",
    "        result = evaluate_model(module, model_config, converted_test_dataloader)\n"
   ]
  }
 ],
 "metadata": {
  "kernelspec": {
   "display_name": "Python 3 (ipykernel)",
   "language": "python",
   "name": "python3"
  },
  "language_info": {
   "codemirror_mode": {
    "name": "ipython",
    "version": 3
   },
   "file_extension": ".py",
   "mimetype": "text/x-python",
   "name": "python",
   "nbconvert_exporter": "python",
   "pygments_lexer": "ipython3",
   "version": "3.8.18"
  }
 },
 "nbformat": 4,
 "nbformat_minor": 5
}
