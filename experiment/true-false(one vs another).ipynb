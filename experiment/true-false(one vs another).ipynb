{
 "cells": [
  {
   "cell_type": "code",
   "execution_count": 1,
   "id": "8fb3adee-b6a8-41a4-a5c6-451fc0a3b0c6",
   "metadata": {},
   "outputs": [],
   "source": [
    "import copy\n",
    "import os.path\n",
    "import sys\n",
    "\n",
    "pwd = os.getcwd()\n",
    "sys.path.append(os.path.dirname(pwd))\n",
    "\n",
    "from utils.model_utils.evaluate import evaluate_model\n",
    "from utils.model_utils.load_model import *\n",
    "from utils.model_utils.model_config import ModelConfig\n",
    "from utils.dataset_utils.load_dataset import load_data\n",
    "from utils.decompose_utils.weight_remover import WeightRemoverBert\n",
    "from utils.decompose_utils.concern_identification import ConcernIdentificationBert\n",
    "from utils.decompose_utils.tangling_identification import TanglingIdentification\n",
    "from transformers import AutoConfig\n",
    "from utils.model_utils.save_module import save_module\n",
    "from datetime import datetime\n",
    "from utils.decompose_utils.concern_modularization import ConcernModularizationBert\n",
    "from utils.decompose_utils.sampling import sampling_class\n",
    "from utils.dataset_utils.load_dataset import convert_dataset_labels_to_binary, extract_and_convert_dataloader\n",
    "import torch\n"
   ]
  },
  {
   "cell_type": "code",
   "execution_count": 2,
   "id": "d7afe56f-8008-4c64-8a48-49b3965aa7e4",
   "metadata": {},
   "outputs": [],
   "source": [
    "model_name = \"sadickam/sdg-classification-bert\"\n",
    "model_type = \"pretrained\"\n",
    "data = \"OSDG\"\n",
    "num_labels = 16\n",
    "\n",
    "\n",
    "# model_name = \"textattack/bert-base-uncased-imdb\"\n",
    "# model_type = \"pretrained\"\n",
    "# data = \"IMDb\"\n",
    "# num_labels = 2\n",
    "\n",
    "# model_name = \"fabriceyhc/bert-base-uncased-yahoo_answers_topics\"\n",
    "# model_type = \"pretrained\"\n",
    "# data = \"Yahoo\"\n",
    "# num_labels = 10"
   ]
  },
  {
   "cell_type": "code",
   "execution_count": 3,
   "id": "0bbf7f78-d3d8-487f-bf64-fec60116c64d",
   "metadata": {},
   "outputs": [],
   "source": [
    "# device = torch.device(\"cuda:0\" if torch.cuda.is_available() else \"cpu\")\n",
    "device = torch.device(\"cuda:1\" if torch.cuda.is_available() else \"cpu\")\n",
    "\n",
    "checkpoint_name = None\n",
    "config = AutoConfig.from_pretrained(model_name, num_labels=num_labels)\n",
    "model_config = ModelConfig(\n",
    "    _model_name=model_name,\n",
    "    _model_type=model_type,\n",
    "    _data=data,\n",
    "    _transformer_config=config,\n",
    "    _checkpoint_name=checkpoint_name,\n",
    "    _device=device,\n",
    ")\n"
   ]
  },
  {
   "cell_type": "code",
   "execution_count": 4,
   "id": "d1711493-8f25-4305-b4f7-e59673d56956",
   "metadata": {},
   "outputs": [
    {
     "name": "stdout",
     "output_type": "stream",
     "text": [
      "Directory /home/Minwoo/LESN/Decompose/DecomposeBERT/Models/Configs/pretrained/sadickam/sdg-classification-bert exists.\n",
      "Loading the model.\n",
      "Start Time:01:20:47\n",
      "#Module 0 in progress....\n",
      "origin\n"
     ]
    },
    {
     "name": "stderr",
     "output_type": "stream",
     "text": [
      "Evaluating: 100%|██████████| 400/400 [04:02<00:00,  1.65it/s]\n"
     ]
    },
    {
     "name": "stdout",
     "output_type": "stream",
     "text": [
      "Loss: 0.9480\n",
      "Precision: 0.7801, Recall: 0.7867, F1-Score: 0.7793\n",
      "              precision    recall  f1-score   support\n",
      "\n",
      "           0       0.77      0.66      0.71       797\n",
      "           1       0.84      0.72      0.78       775\n",
      "           2       0.88      0.87      0.88       795\n",
      "           3       0.87      0.83      0.85      1110\n",
      "           4       0.86      0.80      0.83      1260\n",
      "           5       0.88      0.69      0.77       882\n",
      "           6       0.85      0.80      0.83       940\n",
      "           7       0.49      0.61      0.54       473\n",
      "           8       0.66      0.85      0.74       746\n",
      "           9       0.62      0.73      0.67       689\n",
      "          10       0.75      0.79      0.77       670\n",
      "          11       0.62      0.81      0.70       312\n",
      "          12       0.73      0.81      0.77       665\n",
      "          13       0.83      0.85      0.84       314\n",
      "          14       0.85      0.78      0.81       756\n",
      "          15       0.97      0.98      0.97      1607\n",
      "\n",
      "    accuracy                           0.80     12791\n",
      "   macro avg       0.78      0.79      0.78     12791\n",
      "weighted avg       0.81      0.80      0.80     12791\n",
      "\n",
      "Start Positive CI sparse\n",
      "Start Positive CI after sparse\n",
      "Start Negative TI\n",
      "dead node \n",
      "[1, 9, 10, 12, 15]\n",
      "active node \n",
      "[0, 1, 2, 7, 9, 10, 15]\n",
      "weight factor \n",
      "[0, 10, 0, 0, 0, 0, 0, 0, 0, 16, 16, 0, 9, 0, 0, 16]\n",
      "weight factor \n",
      "[16, 8, 11, 0, 0, 0, 0, 11, 0, 16, 14, 0, 0, 0, 0, 16]\n",
      "[0, 1]\n"
     ]
    },
    {
     "name": "stderr",
     "output_type": "stream",
     "text": [
      "Evaluating: 100%|██████████| 50/50 [00:25<00:00,  1.96it/s]\n"
     ]
    },
    {
     "name": "stdout",
     "output_type": "stream",
     "text": [
      "Loss: 0.4574\n",
      "Precision: 0.8177, Recall: 0.7748, F1-Score: 0.7689\n",
      "              precision    recall  f1-score   support\n",
      "\n",
      "           0       0.93      0.59      0.72       775\n",
      "           1       0.71      0.95      0.81       797\n",
      "\n",
      "    accuracy                           0.78      1572\n",
      "   macro avg       0.82      0.77      0.77      1572\n",
      "weighted avg       0.82      0.78      0.77      1572\n",
      "\n",
      "[0, 2]\n"
     ]
    },
    {
     "name": "stderr",
     "output_type": "stream",
     "text": [
      "Evaluating: 100%|██████████| 50/50 [00:38<00:00,  1.30it/s]\n"
     ]
    },
    {
     "name": "stdout",
     "output_type": "stream",
     "text": [
      "Loss: 1.1877\n",
      "Precision: 0.4534, Recall: 0.4931, F1-Score: 0.3561\n",
      "              precision    recall  f1-score   support\n",
      "\n",
      "           0       0.41      0.03      0.06       795\n",
      "           1       0.50      0.95      0.65       797\n",
      "\n",
      "    accuracy                           0.49      1592\n",
      "   macro avg       0.45      0.49      0.36      1592\n",
      "weighted avg       0.45      0.49      0.36      1592\n",
      "\n",
      "[0, 3]\n"
     ]
    },
    {
     "name": "stderr",
     "output_type": "stream",
     "text": [
      "Evaluating: 100%|██████████| 60/60 [00:46<00:00,  1.30it/s]\n"
     ]
    },
    {
     "name": "stdout",
     "output_type": "stream",
     "text": [
      "Loss: 0.6523\n",
      "Precision: 0.7299, Recall: 0.6788, F1-Score: 0.6232\n",
      "              precision    recall  f1-score   support\n",
      "\n",
      "           0       0.93      0.40      0.56      1110\n",
      "           1       0.53      0.95      0.69       797\n",
      "\n",
      "    accuracy                           0.63      1907\n",
      "   macro avg       0.73      0.68      0.62      1907\n",
      "weighted avg       0.76      0.63      0.61      1907\n",
      "\n",
      "[0, 4]\n"
     ]
    },
    {
     "name": "stderr",
     "output_type": "stream",
     "text": [
      "Evaluating: 100%|██████████| 65/65 [00:42<00:00,  1.52it/s]\n"
     ]
    },
    {
     "name": "stdout",
     "output_type": "stream",
     "text": [
      "Loss: 1.2020\n",
      "Precision: 0.4552, Recall: 0.4933, F1-Score: 0.3039\n",
      "              precision    recall  f1-score   support\n",
      "\n",
      "           0       0.53      0.03      0.06      1260\n",
      "           1       0.38      0.95      0.55       797\n",
      "\n",
      "    accuracy                           0.39      2057\n",
      "   macro avg       0.46      0.49      0.30      2057\n",
      "weighted avg       0.47      0.39      0.25      2057\n",
      "\n",
      "[0, 5]\n"
     ]
    },
    {
     "name": "stderr",
     "output_type": "stream",
     "text": [
      "Evaluating: 100%|██████████| 53/53 [00:25<00:00,  2.10it/s]\n"
     ]
    },
    {
     "name": "stdout",
     "output_type": "stream",
     "text": [
      "Loss: 0.2840\n",
      "Precision: 0.9248, Recall: 0.9258, F1-Score: 0.9243\n",
      "              precision    recall  f1-score   support\n",
      "\n",
      "           0       0.96      0.90      0.93       882\n",
      "           1       0.89      0.95      0.92       797\n",
      "\n",
      "    accuracy                           0.92      1679\n",
      "   macro avg       0.92      0.93      0.92      1679\n",
      "weighted avg       0.93      0.92      0.92      1679\n",
      "\n",
      "[0, 6]\n"
     ]
    },
    {
     "name": "stderr",
     "output_type": "stream",
     "text": [
      "Evaluating: 100%|██████████| 55/55 [00:26<00:00,  2.11it/s]\n"
     ]
    },
    {
     "name": "stdout",
     "output_type": "stream",
     "text": [
      "Loss: 0.2022\n",
      "Precision: 0.9450, Recall: 0.9466, F1-Score: 0.9456\n",
      "              precision    recall  f1-score   support\n",
      "\n",
      "           0       0.96      0.94      0.95       940\n",
      "           1       0.93      0.95      0.94       797\n",
      "\n",
      "    accuracy                           0.95      1737\n",
      "   macro avg       0.94      0.95      0.95      1737\n",
      "weighted avg       0.95      0.95      0.95      1737\n",
      "\n",
      "[0, 7]\n"
     ]
    },
    {
     "name": "stderr",
     "output_type": "stream",
     "text": [
      "Evaluating: 100%|██████████| 40/40 [00:21<00:00,  1.89it/s]\n"
     ]
    },
    {
     "name": "stdout",
     "output_type": "stream",
     "text": [
      "Loss: 0.9184\n",
      "Precision: 0.5884, Recall: 0.5218, F1-Score: 0.4588\n",
      "              precision    recall  f1-score   support\n",
      "\n",
      "           0       0.54      0.09      0.15       473\n",
      "           1       0.64      0.95      0.77       797\n",
      "\n",
      "    accuracy                           0.63      1270\n",
      "   macro avg       0.59      0.52      0.46      1270\n",
      "weighted avg       0.60      0.63      0.54      1270\n",
      "\n",
      "[0, 8]\n"
     ]
    },
    {
     "name": "stderr",
     "output_type": "stream",
     "text": [
      "Evaluating: 100%|██████████| 49/49 [00:26<00:00,  1.86it/s]\n"
     ]
    },
    {
     "name": "stdout",
     "output_type": "stream",
     "text": [
      "Loss: 0.3725\n",
      "Precision: 0.8706, Recall: 0.8514, F1-Score: 0.8523\n",
      "              precision    recall  f1-score   support\n",
      "\n",
      "           0       0.94      0.75      0.83       746\n",
      "           1       0.80      0.95      0.87       797\n",
      "\n",
      "    accuracy                           0.85      1543\n",
      "   macro avg       0.87      0.85      0.85      1543\n",
      "weighted avg       0.87      0.85      0.85      1543\n",
      "\n",
      "[0, 9]\n"
     ]
    },
    {
     "name": "stderr",
     "output_type": "stream",
     "text": [
      "Evaluating: 100%|██████████| 47/47 [00:26<00:00,  1.78it/s]\n"
     ]
    },
    {
     "name": "stdout",
     "output_type": "stream",
     "text": [
      "Loss: 1.0027\n",
      "Precision: 0.5363, Recall: 0.5072, F1-Score: 0.3985\n",
      "              precision    recall  f1-score   support\n",
      "\n",
      "           0       0.53      0.06      0.11       689\n",
      "           1       0.54      0.95      0.69       797\n",
      "\n",
      "    accuracy                           0.54      1486\n",
      "   macro avg       0.54      0.51      0.40      1486\n",
      "weighted avg       0.54      0.54      0.42      1486\n",
      "\n",
      "[0, 10]\n"
     ]
    },
    {
     "name": "stderr",
     "output_type": "stream",
     "text": [
      "Evaluating: 100%|██████████| 46/46 [00:26<00:00,  1.73it/s]\n"
     ]
    },
    {
     "name": "stdout",
     "output_type": "stream",
     "text": [
      "Loss: 0.3813\n",
      "Precision: 0.8716, Recall: 0.8453, F1-Score: 0.8498\n",
      "              precision    recall  f1-score   support\n",
      "\n",
      "           0       0.93      0.74      0.82       670\n",
      "           1       0.81      0.95      0.88       797\n",
      "\n",
      "    accuracy                           0.85      1467\n",
      "   macro avg       0.87      0.85      0.85      1467\n",
      "weighted avg       0.87      0.85      0.85      1467\n",
      "\n",
      "[0, 11]\n"
     ]
    },
    {
     "name": "stderr",
     "output_type": "stream",
     "text": [
      "Evaluating: 100%|██████████| 35/35 [00:19<00:00,  1.76it/s]\n"
     ]
    },
    {
     "name": "stdout",
     "output_type": "stream",
     "text": [
      "Loss: 0.2150\n",
      "Precision: 0.9174, Recall: 0.9149, F1-Score: 0.9161\n",
      "              precision    recall  f1-score   support\n",
      "\n",
      "           0       0.88      0.88      0.88       312\n",
      "           1       0.95      0.95      0.95       797\n",
      "\n",
      "    accuracy                           0.93      1109\n",
      "   macro avg       0.92      0.91      0.92      1109\n",
      "weighted avg       0.93      0.93      0.93      1109\n",
      "\n",
      "[0, 12]\n"
     ]
    },
    {
     "name": "stderr",
     "output_type": "stream",
     "text": [
      "Evaluating: 100%|██████████| 46/46 [00:22<00:00,  2.01it/s]\n"
     ]
    },
    {
     "name": "stdout",
     "output_type": "stream",
     "text": [
      "Loss: 0.1577\n",
      "Precision: 0.9510, Recall: 0.9511, F1-Score: 0.9510\n",
      "              precision    recall  f1-score   support\n",
      "\n",
      "           0       0.95      0.95      0.95       665\n",
      "           1       0.96      0.95      0.96       797\n",
      "\n",
      "    accuracy                           0.95      1462\n",
      "   macro avg       0.95      0.95      0.95      1462\n",
      "weighted avg       0.95      0.95      0.95      1462\n",
      "\n",
      "[0, 13]\n"
     ]
    },
    {
     "name": "stderr",
     "output_type": "stream",
     "text": [
      "Evaluating: 100%|██████████| 35/35 [00:17<00:00,  1.99it/s]\n"
     ]
    },
    {
     "name": "stdout",
     "output_type": "stream",
     "text": [
      "Loss: 0.2491\n",
      "Precision: 0.9076, Recall: 0.8946, F1-Score: 0.9008\n",
      "              precision    recall  f1-score   support\n",
      "\n",
      "           0       0.88      0.83      0.86       314\n",
      "           1       0.94      0.95      0.95       797\n",
      "\n",
      "    accuracy                           0.92      1111\n",
      "   macro avg       0.91      0.89      0.90      1111\n",
      "weighted avg       0.92      0.92      0.92      1111\n",
      "\n",
      "[0, 14]\n"
     ]
    },
    {
     "name": "stderr",
     "output_type": "stream",
     "text": [
      "Evaluating: 100%|██████████| 49/49 [00:24<00:00,  1.98it/s]\n"
     ]
    },
    {
     "name": "stdout",
     "output_type": "stream",
     "text": [
      "Loss: 0.2445\n",
      "Precision: 0.9330, Recall: 0.9311, F1-Score: 0.9316\n",
      "              precision    recall  f1-score   support\n",
      "\n",
      "           0       0.95      0.91      0.93       756\n",
      "           1       0.92      0.95      0.93       797\n",
      "\n",
      "    accuracy                           0.93      1553\n",
      "   macro avg       0.93      0.93      0.93      1553\n",
      "weighted avg       0.93      0.93      0.93      1553\n",
      "\n",
      "[0, 15]\n"
     ]
    },
    {
     "name": "stderr",
     "output_type": "stream",
     "text": [
      "Evaluating: 100%|██████████| 76/76 [00:36<00:00,  2.11it/s]\n"
     ]
    },
    {
     "name": "stdout",
     "output_type": "stream",
     "text": [
      "Loss: 0.3115\n",
      "Precision: 0.9527, Recall: 0.9591, F1-Score: 0.9557\n",
      "              precision    recall  f1-score   support\n",
      "\n",
      "           0       0.98      0.96      0.97      1607\n",
      "           1       0.93      0.95      0.94       797\n",
      "\n",
      "    accuracy                           0.96      2404\n",
      "   macro avg       0.95      0.96      0.96      2404\n",
      "weighted avg       0.96      0.96      0.96      2404\n",
      "\n",
      "Directory /home/Minwoo/LESN/Decompose/DecomposeBERT/Models/Configs/pretrained/sadickam/sdg-classification-bert exists.\n",
      "Loading the model.\n",
      "Start Time:01:33:21\n",
      "#Module 1 in progress....\n",
      "origin\n"
     ]
    },
    {
     "name": "stderr",
     "output_type": "stream",
     "text": [
      "Evaluating: 100%|██████████| 400/400 [03:22<00:00,  1.98it/s]\n"
     ]
    },
    {
     "name": "stdout",
     "output_type": "stream",
     "text": [
      "Loss: 0.9480\n",
      "Precision: 0.7801, Recall: 0.7867, F1-Score: 0.7793\n",
      "              precision    recall  f1-score   support\n",
      "\n",
      "           0       0.77      0.66      0.71       797\n",
      "           1       0.84      0.72      0.78       775\n",
      "           2       0.88      0.87      0.88       795\n",
      "           3       0.87      0.83      0.85      1110\n",
      "           4       0.86      0.80      0.83      1260\n",
      "           5       0.88      0.69      0.77       882\n",
      "           6       0.85      0.80      0.83       940\n",
      "           7       0.49      0.61      0.54       473\n",
      "           8       0.66      0.85      0.74       746\n",
      "           9       0.62      0.73      0.67       689\n",
      "          10       0.75      0.79      0.77       670\n",
      "          11       0.62      0.81      0.70       312\n",
      "          12       0.73      0.81      0.77       665\n",
      "          13       0.83      0.85      0.84       314\n",
      "          14       0.85      0.78      0.81       756\n",
      "          15       0.97      0.98      0.97      1607\n",
      "\n",
      "    accuracy                           0.80     12791\n",
      "   macro avg       0.78      0.79      0.78     12791\n",
      "weighted avg       0.81      0.80      0.80     12791\n",
      "\n",
      "Start Positive CI sparse\n",
      "Start Positive CI after sparse\n",
      "Start Negative TI\n",
      "dead node \n",
      "[0, 7, 8, 9, 10, 12, 15]\n",
      "active node \n",
      "[0, 1, 7, 8, 9, 10, 11, 12, 15]\n",
      "weight factor \n",
      "[16, 0, 0, 0, 0, 0, 0, 13, 8, 16, 14, 0, 9, 0, 0, 16]\n",
      "weight factor \n",
      "[16, 16, 0, 0, 0, 0, 0, 8, 11, 16, 10, 9, 10, 0, 0, 12]\n",
      "[1, 0]\n"
     ]
    },
    {
     "name": "stderr",
     "output_type": "stream",
     "text": [
      "Evaluating: 100%|██████████| 50/50 [00:24<00:00,  2.05it/s]\n"
     ]
    },
    {
     "name": "stdout",
     "output_type": "stream",
     "text": [
      "Loss: 0.3498\n",
      "Precision: 0.9006, Recall: 0.9004, F1-Score: 0.9001\n",
      "              precision    recall  f1-score   support\n",
      "\n",
      "           0       0.92      0.88      0.90       797\n",
      "           1       0.88      0.92      0.90       775\n",
      "\n",
      "    accuracy                           0.90      1572\n",
      "   macro avg       0.90      0.90      0.90      1572\n",
      "weighted avg       0.90      0.90      0.90      1572\n",
      "\n",
      "[1, 2]\n"
     ]
    },
    {
     "name": "stderr",
     "output_type": "stream",
     "text": [
      "Evaluating: 100%|██████████| 50/50 [00:27<00:00,  1.81it/s]\n"
     ]
    },
    {
     "name": "stdout",
     "output_type": "stream",
     "text": [
      "Loss: 0.3835\n",
      "Precision: 0.8898, Recall: 0.8889, F1-Score: 0.8885\n",
      "              precision    recall  f1-score   support\n",
      "\n",
      "           0       0.92      0.86      0.89       795\n",
      "           1       0.86      0.92      0.89       775\n",
      "\n",
      "    accuracy                           0.89      1570\n",
      "   macro avg       0.89      0.89      0.89      1570\n",
      "weighted avg       0.89      0.89      0.89      1570\n",
      "\n",
      "[1, 3]\n"
     ]
    },
    {
     "name": "stderr",
     "output_type": "stream",
     "text": [
      "Evaluating: 100%|██████████| 59/59 [00:33<00:00,  1.79it/s]\n"
     ]
    },
    {
     "name": "stdout",
     "output_type": "stream",
     "text": [
      "Loss: 0.2793\n",
      "Precision: 0.9449, Recall: 0.9409, F1-Score: 0.9428\n",
      "              precision    recall  f1-score   support\n",
      "\n",
      "           0       0.94      0.96      0.95      1110\n",
      "           1       0.95      0.92      0.93       775\n",
      "\n",
      "    accuracy                           0.94      1885\n",
      "   macro avg       0.94      0.94      0.94      1885\n",
      "weighted avg       0.94      0.94      0.94      1885\n",
      "\n",
      "[1, 4]\n"
     ]
    },
    {
     "name": "stderr",
     "output_type": "stream",
     "text": [
      "Evaluating: 100%|██████████| 64/64 [00:31<00:00,  2.05it/s]\n"
     ]
    },
    {
     "name": "stdout",
     "output_type": "stream",
     "text": [
      "Loss: 0.3362\n",
      "Precision: 0.9362, Recall: 0.9355, F1-Score: 0.9359\n",
      "              precision    recall  f1-score   support\n",
      "\n",
      "           0       0.95      0.95      0.95      1260\n",
      "           1       0.92      0.92      0.92       775\n",
      "\n",
      "    accuracy                           0.94      2035\n",
      "   macro avg       0.94      0.94      0.94      2035\n",
      "weighted avg       0.94      0.94      0.94      2035\n",
      "\n",
      "[1, 5]\n"
     ]
    },
    {
     "name": "stderr",
     "output_type": "stream",
     "text": [
      "Evaluating: 100%|██████████| 52/52 [00:25<00:00,  2.04it/s]\n"
     ]
    },
    {
     "name": "stdout",
     "output_type": "stream",
     "text": [
      "Loss: 0.5215\n",
      "Precision: 0.7514, Recall: 0.7167, F1-Score: 0.6963\n",
      "              precision    recall  f1-score   support\n",
      "\n",
      "           0       0.88      0.51      0.65       882\n",
      "           1       0.62      0.92      0.74       775\n",
      "\n",
      "    accuracy                           0.70      1657\n",
      "   macro avg       0.75      0.72      0.70      1657\n",
      "weighted avg       0.76      0.70      0.69      1657\n",
      "\n",
      "[1, 6]\n"
     ]
    },
    {
     "name": "stderr",
     "output_type": "stream",
     "text": [
      "Evaluating: 100%|██████████| 54/54 [00:26<00:00,  2.04it/s]\n"
     ]
    },
    {
     "name": "stdout",
     "output_type": "stream",
     "text": [
      "Loss: 0.4837\n",
      "Precision: 0.7736, Recall: 0.7546, F1-Score: 0.7366\n",
      "              precision    recall  f1-score   support\n",
      "\n",
      "           0       0.90      0.59      0.71       940\n",
      "           1       0.65      0.92      0.76       775\n",
      "\n",
      "    accuracy                           0.74      1715\n",
      "   macro avg       0.77      0.75      0.74      1715\n",
      "weighted avg       0.79      0.74      0.73      1715\n",
      "\n",
      "[1, 7]\n"
     ]
    },
    {
     "name": "stderr",
     "output_type": "stream",
     "text": [
      "Evaluating: 100%|██████████| 39/39 [00:19<00:00,  2.03it/s]\n"
     ]
    },
    {
     "name": "stdout",
     "output_type": "stream",
     "text": [
      "Loss: 0.2698\n",
      "Precision: 0.9039, Recall: 0.9086, F1-Score: 0.9061\n",
      "              precision    recall  f1-score   support\n",
      "\n",
      "           0       0.87      0.90      0.88       473\n",
      "           1       0.94      0.92      0.93       775\n",
      "\n",
      "    accuracy                           0.91      1248\n",
      "   macro avg       0.90      0.91      0.91      1248\n",
      "weighted avg       0.91      0.91      0.91      1248\n",
      "\n",
      "[1, 8]\n"
     ]
    },
    {
     "name": "stderr",
     "output_type": "stream",
     "text": [
      "Evaluating: 100%|██████████| 48/48 [00:23<00:00,  2.06it/s]\n"
     ]
    },
    {
     "name": "stdout",
     "output_type": "stream",
     "text": [
      "Loss: 0.4853\n",
      "Precision: 0.6763, Recall: 0.6068, F1-Score: 0.5675\n",
      "              precision    recall  f1-score   support\n",
      "\n",
      "           0       0.78      0.29      0.43       746\n",
      "           1       0.58      0.92      0.71       775\n",
      "\n",
      "    accuracy                           0.61      1521\n",
      "   macro avg       0.68      0.61      0.57      1521\n",
      "weighted avg       0.67      0.61      0.57      1521\n",
      "\n",
      "[1, 9]\n"
     ]
    },
    {
     "name": "stderr",
     "output_type": "stream",
     "text": [
      "Evaluating: 100%|██████████| 46/46 [00:22<00:00,  2.04it/s]\n"
     ]
    },
    {
     "name": "stdout",
     "output_type": "stream",
     "text": [
      "Loss: 0.2761\n",
      "Precision: 0.9169, Recall: 0.9173, F1-Score: 0.9171\n",
      "              precision    recall  f1-score   support\n",
      "\n",
      "           0       0.91      0.92      0.91       689\n",
      "           1       0.92      0.92      0.92       775\n",
      "\n",
      "    accuracy                           0.92      1464\n",
      "   macro avg       0.92      0.92      0.92      1464\n",
      "weighted avg       0.92      0.92      0.92      1464\n",
      "\n",
      "[1, 10]\n"
     ]
    },
    {
     "name": "stderr",
     "output_type": "stream",
     "text": [
      "Evaluating: 100%|██████████| 46/46 [00:22<00:00,  2.07it/s]\n"
     ]
    },
    {
     "name": "stdout",
     "output_type": "stream",
     "text": [
      "Loss: 0.2877\n",
      "Precision: 0.9218, Recall: 0.9228, F1-Score: 0.9222\n",
      "              precision    recall  f1-score   support\n",
      "\n",
      "           0       0.91      0.93      0.92       670\n",
      "           1       0.94      0.92      0.93       775\n",
      "\n",
      "    accuracy                           0.92      1445\n",
      "   macro avg       0.92      0.92      0.92      1445\n",
      "weighted avg       0.92      0.92      0.92      1445\n",
      "\n",
      "[1, 11]\n"
     ]
    },
    {
     "name": "stderr",
     "output_type": "stream",
     "text": [
      "Evaluating: 100%|██████████| 34/34 [00:16<00:00,  2.04it/s]\n"
     ]
    },
    {
     "name": "stdout",
     "output_type": "stream",
     "text": [
      "Loss: 0.4696\n",
      "Precision: 0.5154, Recall: 0.5058, F1-Score: 0.4740\n",
      "              precision    recall  f1-score   support\n",
      "\n",
      "           0       0.32      0.09      0.14       312\n",
      "           1       0.72      0.92      0.80       775\n",
      "\n",
      "    accuracy                           0.68      1087\n",
      "   macro avg       0.52      0.51      0.47      1087\n",
      "weighted avg       0.60      0.68      0.61      1087\n",
      "\n",
      "[1, 12]\n"
     ]
    },
    {
     "name": "stderr",
     "output_type": "stream",
     "text": [
      "Evaluating: 100%|██████████| 45/45 [00:22<00:00,  2.03it/s]\n"
     ]
    },
    {
     "name": "stdout",
     "output_type": "stream",
     "text": [
      "Loss: 0.5774\n",
      "Precision: 0.5433, Recall: 0.5150, F1-Score: 0.4349\n",
      "              precision    recall  f1-score   support\n",
      "\n",
      "           0       0.54      0.11      0.18       665\n",
      "           1       0.55      0.92      0.69       775\n",
      "\n",
      "    accuracy                           0.55      1440\n",
      "   macro avg       0.54      0.51      0.43      1440\n",
      "weighted avg       0.54      0.55      0.45      1440\n",
      "\n",
      "[1, 13]\n"
     ]
    },
    {
     "name": "stderr",
     "output_type": "stream",
     "text": [
      "Evaluating: 100%|██████████| 35/35 [00:16<00:00,  2.08it/s]\n"
     ]
    },
    {
     "name": "stdout",
     "output_type": "stream",
     "text": [
      "Loss: 0.4429\n",
      "Precision: 0.4694, Recall: 0.4896, F1-Score: 0.4475\n",
      "              precision    recall  f1-score   support\n",
      "\n",
      "           0       0.23      0.06      0.10       314\n",
      "           1       0.71      0.92      0.80       775\n",
      "\n",
      "    accuracy                           0.67      1089\n",
      "   macro avg       0.47      0.49      0.45      1089\n",
      "weighted avg       0.57      0.67      0.60      1089\n",
      "\n",
      "[1, 14]\n"
     ]
    },
    {
     "name": "stderr",
     "output_type": "stream",
     "text": [
      "Evaluating: 100%|██████████| 48/48 [00:23<00:00,  2.04it/s]\n"
     ]
    },
    {
     "name": "stdout",
     "output_type": "stream",
     "text": [
      "Loss: 0.4190\n",
      "Precision: 0.8482, Recall: 0.8383, F1-Score: 0.8380\n",
      "              precision    recall  f1-score   support\n",
      "\n",
      "           0       0.90      0.76      0.82       756\n",
      "           1       0.80      0.92      0.85       775\n",
      "\n",
      "    accuracy                           0.84      1531\n",
      "   macro avg       0.85      0.84      0.84      1531\n",
      "weighted avg       0.85      0.84      0.84      1531\n",
      "\n",
      "[1, 15]\n"
     ]
    },
    {
     "name": "stderr",
     "output_type": "stream",
     "text": [
      "Evaluating: 100%|██████████| 75/75 [00:36<00:00,  2.04it/s]\n"
     ]
    },
    {
     "name": "stdout",
     "output_type": "stream",
     "text": [
      "Loss: 0.2878\n",
      "Precision: 0.9734, Recall: 0.9559, F1-Score: 0.9640\n",
      "              precision    recall  f1-score   support\n",
      "\n",
      "           0       0.96      0.99      0.98      1607\n",
      "           1       0.98      0.92      0.95       775\n",
      "\n",
      "    accuracy                           0.97      2382\n",
      "   macro avg       0.97      0.96      0.96      2382\n",
      "weighted avg       0.97      0.97      0.97      2382\n",
      "\n",
      "Directory /home/Minwoo/LESN/Decompose/DecomposeBERT/Models/Configs/pretrained/sadickam/sdg-classification-bert exists.\n",
      "Loading the model.\n",
      "Start Time:01:43:32\n",
      "#Module 2 in progress....\n",
      "origin\n"
     ]
    },
    {
     "name": "stderr",
     "output_type": "stream",
     "text": [
      "Evaluating: 100%|██████████| 400/400 [03:18<00:00,  2.01it/s]\n"
     ]
    },
    {
     "name": "stdout",
     "output_type": "stream",
     "text": [
      "Loss: 0.9480\n",
      "Precision: 0.7801, Recall: 0.7867, F1-Score: 0.7793\n",
      "              precision    recall  f1-score   support\n",
      "\n",
      "           0       0.77      0.66      0.71       797\n",
      "           1       0.84      0.72      0.78       775\n",
      "           2       0.88      0.87      0.88       795\n",
      "           3       0.87      0.83      0.85      1110\n",
      "           4       0.86      0.80      0.83      1260\n",
      "           5       0.88      0.69      0.77       882\n",
      "           6       0.85      0.80      0.83       940\n",
      "           7       0.49      0.61      0.54       473\n",
      "           8       0.66      0.85      0.74       746\n",
      "           9       0.62      0.73      0.67       689\n",
      "          10       0.75      0.79      0.77       670\n",
      "          11       0.62      0.81      0.70       312\n",
      "          12       0.73      0.81      0.77       665\n",
      "          13       0.83      0.85      0.84       314\n",
      "          14       0.85      0.78      0.81       756\n",
      "          15       0.97      0.98      0.97      1607\n",
      "\n",
      "    accuracy                           0.80     12791\n",
      "   macro avg       0.78      0.79      0.78     12791\n",
      "weighted avg       0.81      0.80      0.80     12791\n",
      "\n",
      "Start Positive CI sparse\n",
      "Start Positive CI after sparse\n",
      "Start Negative TI\n",
      "dead node \n",
      "[0, 1, 7, 8, 9, 10, 15]\n",
      "active node \n",
      "[0, 2, 9, 10, 15]\n",
      "weight factor \n",
      "[16, 11, 0, 0, 0, 0, 0, 11, 8, 16, 16, 0, 0, 0, 0, 16]\n",
      "weight factor \n",
      "[16, 0, 16, 0, 0, 0, 0, 0, 0, 16, 16, 0, 0, 0, 0, 16]\n",
      "[2, 0]\n"
     ]
    },
    {
     "name": "stderr",
     "output_type": "stream",
     "text": [
      "Evaluating: 100%|██████████| 50/50 [00:21<00:00,  2.28it/s]\n"
     ]
    },
    {
     "name": "stdout",
     "output_type": "stream",
     "text": [
      "Loss: 0.4048\n",
      "Precision: 0.8177, Recall: 0.7804, F1-Score: 0.7735\n",
      "              precision    recall  f1-score   support\n",
      "\n",
      "           0       0.93      0.61      0.73       797\n",
      "           1       0.71      0.95      0.81       795\n",
      "\n",
      "    accuracy                           0.78      1592\n",
      "   macro avg       0.82      0.78      0.77      1592\n",
      "weighted avg       0.82      0.78      0.77      1592\n",
      "\n",
      "[2, 1]\n"
     ]
    },
    {
     "name": "stderr",
     "output_type": "stream",
     "text": [
      "Evaluating: 100%|██████████| 50/50 [00:26<00:00,  1.89it/s]\n"
     ]
    },
    {
     "name": "stdout",
     "output_type": "stream",
     "text": [
      "Loss: 0.1800\n",
      "Precision: 0.9429, Recall: 0.9426, F1-Score: 0.9426\n",
      "              precision    recall  f1-score   support\n",
      "\n",
      "           0       0.95      0.93      0.94       775\n",
      "           1       0.94      0.95      0.94       795\n",
      "\n",
      "    accuracy                           0.94      1570\n",
      "   macro avg       0.94      0.94      0.94      1570\n",
      "weighted avg       0.94      0.94      0.94      1570\n",
      "\n",
      "[2, 3]\n"
     ]
    },
    {
     "name": "stderr",
     "output_type": "stream",
     "text": [
      "Evaluating: 100%|██████████| 60/60 [00:31<00:00,  1.93it/s]\n"
     ]
    },
    {
     "name": "stdout",
     "output_type": "stream",
     "text": [
      "Loss: 0.5035\n",
      "Precision: 0.7113, Recall: 0.6509, F1-Score: 0.5855\n",
      "              precision    recall  f1-score   support\n",
      "\n",
      "           0       0.91      0.35      0.51      1110\n",
      "           1       0.51      0.95      0.67       795\n",
      "\n",
      "    accuracy                           0.60      1905\n",
      "   macro avg       0.71      0.65      0.59      1905\n",
      "weighted avg       0.74      0.60      0.57      1905\n",
      "\n",
      "[2, 4]\n"
     ]
    },
    {
     "name": "stderr",
     "output_type": "stream",
     "text": [
      "Evaluating: 100%|██████████| 65/65 [00:35<00:00,  1.82it/s]\n"
     ]
    },
    {
     "name": "stdout",
     "output_type": "stream",
     "text": [
      "Loss: 0.6405\n",
      "Precision: 0.6783, Recall: 0.6154, F1-Score: 0.5205\n",
      "              precision    recall  f1-score   support\n",
      "\n",
      "           0       0.90      0.28      0.43      1260\n",
      "           1       0.45      0.95      0.62       795\n",
      "\n",
      "    accuracy                           0.54      2055\n",
      "   macro avg       0.68      0.62      0.52      2055\n",
      "weighted avg       0.73      0.54      0.50      2055\n",
      "\n",
      "[2, 5]\n"
     ]
    },
    {
     "name": "stderr",
     "output_type": "stream",
     "text": [
      "Evaluating: 100%|██████████| 53/53 [00:26<00:00,  2.04it/s]\n"
     ]
    },
    {
     "name": "stdout",
     "output_type": "stream",
     "text": [
      "Loss: 0.5437\n",
      "Precision: 0.6945, Recall: 0.6025, F1-Score: 0.5375\n",
      "              precision    recall  f1-score   support\n",
      "\n",
      "           0       0.85      0.25      0.39       882\n",
      "           1       0.53      0.95      0.68       795\n",
      "\n",
      "    accuracy                           0.58      1677\n",
      "   macro avg       0.69      0.60      0.54      1677\n",
      "weighted avg       0.70      0.58      0.53      1677\n",
      "\n",
      "[2, 6]\n"
     ]
    },
    {
     "name": "stderr",
     "output_type": "stream",
     "text": [
      "Evaluating: 100%|██████████| 55/55 [00:29<00:00,  1.87it/s]\n"
     ]
    },
    {
     "name": "stdout",
     "output_type": "stream",
     "text": [
      "Loss: 0.3200\n",
      "Precision: 0.9216, Recall: 0.9245, F1-Score: 0.9220\n",
      "              precision    recall  f1-score   support\n",
      "\n",
      "           0       0.96      0.90      0.93       940\n",
      "           1       0.89      0.95      0.92       795\n",
      "\n",
      "    accuracy                           0.92      1735\n",
      "   macro avg       0.92      0.92      0.92      1735\n",
      "weighted avg       0.92      0.92      0.92      1735\n",
      "\n",
      "[2, 7]\n"
     ]
    },
    {
     "name": "stderr",
     "output_type": "stream",
     "text": [
      "Evaluating: 100%|██████████| 40/40 [00:23<00:00,  1.70it/s]\n"
     ]
    },
    {
     "name": "stdout",
     "output_type": "stream",
     "text": [
      "Loss: 0.2083\n",
      "Precision: 0.9285, Recall: 0.9243, F1-Score: 0.9263\n",
      "              precision    recall  f1-score   support\n",
      "\n",
      "           0       0.92      0.90      0.91       473\n",
      "           1       0.94      0.95      0.95       795\n",
      "\n",
      "    accuracy                           0.93      1268\n",
      "   macro avg       0.93      0.92      0.93      1268\n",
      "weighted avg       0.93      0.93      0.93      1268\n",
      "\n",
      "[2, 8]\n"
     ]
    },
    {
     "name": "stderr",
     "output_type": "stream",
     "text": [
      "Evaluating: 100%|██████████| 49/49 [00:23<00:00,  2.09it/s]\n"
     ]
    },
    {
     "name": "stdout",
     "output_type": "stream",
     "text": [
      "Loss: 0.1256\n",
      "Precision: 0.9623, Recall: 0.9627, F1-Score: 0.9623\n",
      "              precision    recall  f1-score   support\n",
      "\n",
      "           0       0.95      0.97      0.96       746\n",
      "           1       0.97      0.95      0.96       795\n",
      "\n",
      "    accuracy                           0.96      1541\n",
      "   macro avg       0.96      0.96      0.96      1541\n",
      "weighted avg       0.96      0.96      0.96      1541\n",
      "\n",
      "[2, 9]\n"
     ]
    },
    {
     "name": "stderr",
     "output_type": "stream",
     "text": [
      "Evaluating: 100%|██████████| 47/47 [00:29<00:00,  1.60it/s]\n"
     ]
    },
    {
     "name": "stdout",
     "output_type": "stream",
     "text": [
      "Loss: 0.2809\n",
      "Precision: 0.9176, Recall: 0.9115, F1-Score: 0.9135\n",
      "              precision    recall  f1-score   support\n",
      "\n",
      "           0       0.94      0.87      0.90       689\n",
      "           1       0.89      0.95      0.92       795\n",
      "\n",
      "    accuracy                           0.91      1484\n",
      "   macro avg       0.92      0.91      0.91      1484\n",
      "weighted avg       0.92      0.91      0.91      1484\n",
      "\n",
      "[2, 10]\n"
     ]
    },
    {
     "name": "stderr",
     "output_type": "stream",
     "text": [
      "Evaluating: 100%|██████████| 46/46 [00:24<00:00,  1.85it/s]\n"
     ]
    },
    {
     "name": "stdout",
     "output_type": "stream",
     "text": [
      "Loss: 0.3891\n",
      "Precision: 0.8065, Recall: 0.7440, F1-Score: 0.7428\n",
      "              precision    recall  f1-score   support\n",
      "\n",
      "           0       0.90      0.54      0.67       670\n",
      "           1       0.71      0.95      0.81       795\n",
      "\n",
      "    accuracy                           0.76      1465\n",
      "   macro avg       0.81      0.74      0.74      1465\n",
      "weighted avg       0.80      0.76      0.75      1465\n",
      "\n",
      "[2, 11]\n"
     ]
    },
    {
     "name": "stderr",
     "output_type": "stream",
     "text": [
      "Evaluating: 100%|██████████| 35/35 [00:14<00:00,  2.34it/s]\n"
     ]
    },
    {
     "name": "stdout",
     "output_type": "stream",
     "text": [
      "Loss: 0.2321\n",
      "Precision: 0.8826, Recall: 0.8495, F1-Score: 0.8638\n",
      "              precision    recall  f1-score   support\n",
      "\n",
      "           0       0.86      0.75      0.80       312\n",
      "           1       0.91      0.95      0.93       795\n",
      "\n",
      "    accuracy                           0.89      1107\n",
      "   macro avg       0.88      0.85      0.86      1107\n",
      "weighted avg       0.89      0.89      0.89      1107\n",
      "\n",
      "[2, 12]\n"
     ]
    },
    {
     "name": "stderr",
     "output_type": "stream",
     "text": [
      "Evaluating: 100%|██████████| 46/46 [00:22<00:00,  2.02it/s]\n"
     ]
    },
    {
     "name": "stdout",
     "output_type": "stream",
     "text": [
      "Loss: 0.2868\n",
      "Precision: 0.9223, Recall: 0.9167, F1-Score: 0.9187\n",
      "              precision    recall  f1-score   support\n",
      "\n",
      "           0       0.94      0.88      0.91       665\n",
      "           1       0.91      0.95      0.93       795\n",
      "\n",
      "    accuracy                           0.92      1460\n",
      "   macro avg       0.92      0.92      0.92      1460\n",
      "weighted avg       0.92      0.92      0.92      1460\n",
      "\n",
      "[2, 13]\n"
     ]
    },
    {
     "name": "stderr",
     "output_type": "stream",
     "text": [
      "Evaluating: 100%|██████████| 35/35 [00:17<00:00,  2.02it/s]\n"
     ]
    },
    {
     "name": "stdout",
     "output_type": "stream",
     "text": [
      "Loss: 0.2425\n",
      "Precision: 0.8943, Recall: 0.8726, F1-Score: 0.8825\n",
      "              precision    recall  f1-score   support\n",
      "\n",
      "           0       0.87      0.79      0.83       314\n",
      "           1       0.92      0.95      0.94       795\n",
      "\n",
      "    accuracy                           0.91      1109\n",
      "   macro avg       0.89      0.87      0.88      1109\n",
      "weighted avg       0.91      0.91      0.91      1109\n",
      "\n",
      "[2, 14]\n"
     ]
    },
    {
     "name": "stderr",
     "output_type": "stream",
     "text": [
      "Evaluating: 100%|██████████| 49/49 [00:28<00:00,  1.73it/s]\n"
     ]
    },
    {
     "name": "stdout",
     "output_type": "stream",
     "text": [
      "Loss: 0.6171\n",
      "Precision: 0.6162, Recall: 0.5350, F1-Score: 0.4419\n",
      "              precision    recall  f1-score   support\n",
      "\n",
      "           0       0.70      0.12      0.20       756\n",
      "           1       0.53      0.95      0.68       795\n",
      "\n",
      "    accuracy                           0.55      1551\n",
      "   macro avg       0.62      0.53      0.44      1551\n",
      "weighted avg       0.61      0.55      0.45      1551\n",
      "\n",
      "[2, 15]\n"
     ]
    },
    {
     "name": "stderr",
     "output_type": "stream",
     "text": [
      "Evaluating: 100%|██████████| 76/76 [00:38<00:00,  1.98it/s]\n"
     ]
    },
    {
     "name": "stdout",
     "output_type": "stream",
     "text": [
      "Loss: 0.9051\n",
      "Precision: 0.3697, Recall: 0.4845, F1-Score: 0.2578\n",
      "              precision    recall  f1-score   support\n",
      "\n",
      "           0       0.42      0.02      0.03      1607\n",
      "           1       0.32      0.95      0.48       795\n",
      "\n",
      "    accuracy                           0.33      2402\n",
      "   macro avg       0.37      0.48      0.26      2402\n",
      "weighted avg       0.39      0.33      0.18      2402\n",
      "\n",
      "Directory /home/Minwoo/LESN/Decompose/DecomposeBERT/Models/Configs/pretrained/sadickam/sdg-classification-bert exists.\n",
      "Loading the model.\n",
      "Start Time:01:54:03\n",
      "#Module 3 in progress....\n",
      "origin\n"
     ]
    },
    {
     "name": "stderr",
     "output_type": "stream",
     "text": [
      "Evaluating: 100%|██████████| 400/400 [03:15<00:00,  2.04it/s]\n"
     ]
    },
    {
     "name": "stdout",
     "output_type": "stream",
     "text": [
      "Loss: 0.9480\n",
      "Precision: 0.7801, Recall: 0.7867, F1-Score: 0.7793\n",
      "              precision    recall  f1-score   support\n",
      "\n",
      "           0       0.77      0.66      0.71       797\n",
      "           1       0.84      0.72      0.78       775\n",
      "           2       0.88      0.87      0.88       795\n",
      "           3       0.87      0.83      0.85      1110\n",
      "           4       0.86      0.80      0.83      1260\n",
      "           5       0.88      0.69      0.77       882\n",
      "           6       0.85      0.80      0.83       940\n",
      "           7       0.49      0.61      0.54       473\n",
      "           8       0.66      0.85      0.74       746\n",
      "           9       0.62      0.73      0.67       689\n",
      "          10       0.75      0.79      0.77       670\n",
      "          11       0.62      0.81      0.70       312\n",
      "          12       0.73      0.81      0.77       665\n",
      "          13       0.83      0.85      0.84       314\n",
      "          14       0.85      0.78      0.81       756\n",
      "          15       0.97      0.98      0.97      1607\n",
      "\n",
      "    accuracy                           0.80     12791\n",
      "   macro avg       0.78      0.79      0.78     12791\n",
      "weighted avg       0.81      0.80      0.80     12791\n",
      "\n",
      "Start Positive CI sparse\n",
      "Start Positive CI after sparse\n",
      "Start Negative TI\n",
      "dead node \n",
      "[0, 2, 9, 10, 15]\n",
      "active node \n",
      "[0, 2, 3, 9, 10, 12, 15]\n",
      "weight factor \n",
      "[16, 0, 13, 0, 0, 0, 0, 0, 0, 16, 14, 0, 0, 0, 0, 16]\n",
      "weight factor \n",
      "[16, 0, 10, 16, 0, 0, 0, 0, 0, 16, 16, 0, 8, 0, 0, 16]\n",
      "[3, 0]\n"
     ]
    },
    {
     "name": "stderr",
     "output_type": "stream",
     "text": [
      "Evaluating: 100%|██████████| 60/60 [00:26<00:00,  2.28it/s]\n"
     ]
    },
    {
     "name": "stdout",
     "output_type": "stream",
     "text": [
      "Loss: 0.2815\n",
      "Precision: 0.9175, Recall: 0.9229, F1-Score: 0.9197\n",
      "              precision    recall  f1-score   support\n",
      "\n",
      "           0       0.89      0.93      0.91       797\n",
      "           1       0.95      0.91      0.93      1110\n",
      "\n",
      "    accuracy                           0.92      1907\n",
      "   macro avg       0.92      0.92      0.92      1907\n",
      "weighted avg       0.92      0.92      0.92      1907\n",
      "\n",
      "[3, 1]\n"
     ]
    },
    {
     "name": "stderr",
     "output_type": "stream",
     "text": [
      "Evaluating: 100%|██████████| 59/59 [00:31<00:00,  1.86it/s]\n"
     ]
    },
    {
     "name": "stdout",
     "output_type": "stream",
     "text": [
      "Loss: 0.2629\n",
      "Precision: 0.9124, Recall: 0.9174, F1-Score: 0.9145\n",
      "              precision    recall  f1-score   support\n",
      "\n",
      "           0       0.88      0.92      0.90       775\n",
      "           1       0.94      0.91      0.93      1110\n",
      "\n",
      "    accuracy                           0.92      1885\n",
      "   macro avg       0.91      0.92      0.91      1885\n",
      "weighted avg       0.92      0.92      0.92      1885\n",
      "\n",
      "[3, 2]\n"
     ]
    },
    {
     "name": "stderr",
     "output_type": "stream",
     "text": [
      "Evaluating: 100%|██████████| 60/60 [00:30<00:00,  1.97it/s]\n"
     ]
    },
    {
     "name": "stdout",
     "output_type": "stream",
     "text": [
      "Loss: 0.2112\n",
      "Precision: 0.9352, Recall: 0.9442, F1-Score: 0.9381\n",
      "              precision    recall  f1-score   support\n",
      "\n",
      "           0       0.89      0.97      0.93       795\n",
      "           1       0.98      0.91      0.95      1110\n",
      "\n",
      "    accuracy                           0.94      1905\n",
      "   macro avg       0.94      0.94      0.94      1905\n",
      "weighted avg       0.94      0.94      0.94      1905\n",
      "\n",
      "[3, 4]\n"
     ]
    },
    {
     "name": "stderr",
     "output_type": "stream",
     "text": [
      "Evaluating: 100%|██████████| 75/75 [00:35<00:00,  2.10it/s]\n"
     ]
    },
    {
     "name": "stdout",
     "output_type": "stream",
     "text": [
      "Loss: 0.4521\n",
      "Precision: 0.7515, Recall: 0.7199, F1-Score: 0.7010\n",
      "              precision    recall  f1-score   support\n",
      "\n",
      "           0       0.87      0.53      0.66      1260\n",
      "           1       0.63      0.91      0.75      1110\n",
      "\n",
      "    accuracy                           0.71      2370\n",
      "   macro avg       0.75      0.72      0.70      2370\n",
      "weighted avg       0.76      0.71      0.70      2370\n",
      "\n",
      "[3, 5]\n"
     ]
    },
    {
     "name": "stderr",
     "output_type": "stream",
     "text": [
      "Evaluating: 100%|██████████| 63/63 [00:33<00:00,  1.87it/s]\n"
     ]
    },
    {
     "name": "stdout",
     "output_type": "stream",
     "text": [
      "Loss: 0.3016\n",
      "Precision: 0.9076, Recall: 0.9086, F1-Score: 0.9080\n",
      "              precision    recall  f1-score   support\n",
      "\n",
      "           0       0.89      0.90      0.90       882\n",
      "           1       0.92      0.91      0.92      1110\n",
      "\n",
      "    accuracy                           0.91      1992\n",
      "   macro avg       0.91      0.91      0.91      1992\n",
      "weighted avg       0.91      0.91      0.91      1992\n",
      "\n",
      "[3, 6]\n"
     ]
    },
    {
     "name": "stderr",
     "output_type": "stream",
     "text": [
      "Evaluating: 100%|██████████| 65/65 [00:34<00:00,  1.87it/s]\n"
     ]
    },
    {
     "name": "stdout",
     "output_type": "stream",
     "text": [
      "Loss: 0.3781\n",
      "Precision: 0.8724, Recall: 0.8658, F1-Score: 0.8679\n",
      "              precision    recall  f1-score   support\n",
      "\n",
      "           0       0.89      0.82      0.85       940\n",
      "           1       0.86      0.91      0.88      1110\n",
      "\n",
      "    accuracy                           0.87      2050\n",
      "   macro avg       0.87      0.87      0.87      2050\n",
      "weighted avg       0.87      0.87      0.87      2050\n",
      "\n",
      "[3, 7]\n"
     ]
    },
    {
     "name": "stderr",
     "output_type": "stream",
     "text": [
      "Evaluating: 100%|██████████| 50/50 [00:23<00:00,  2.10it/s]\n"
     ]
    },
    {
     "name": "stdout",
     "output_type": "stream",
     "text": [
      "Loss: 0.3334\n",
      "Precision: 0.8262, Recall: 0.8067, F1-Score: 0.8153\n",
      "              precision    recall  f1-score   support\n",
      "\n",
      "           0       0.78      0.70      0.74       473\n",
      "           1       0.88      0.91      0.89      1110\n",
      "\n",
      "    accuracy                           0.85      1583\n",
      "   macro avg       0.83      0.81      0.82      1583\n",
      "weighted avg       0.85      0.85      0.85      1583\n",
      "\n",
      "[3, 8]\n"
     ]
    },
    {
     "name": "stderr",
     "output_type": "stream",
     "text": [
      "Evaluating: 100%|██████████| 58/58 [00:27<00:00,  2.10it/s]\n"
     ]
    },
    {
     "name": "stdout",
     "output_type": "stream",
     "text": [
      "Loss: 0.4178\n",
      "Precision: 0.7666, Recall: 0.7114, F1-Score: 0.7182\n",
      "              precision    recall  f1-score   support\n",
      "\n",
      "           0       0.80      0.51      0.62       746\n",
      "           1       0.73      0.91      0.81      1110\n",
      "\n",
      "    accuracy                           0.75      1856\n",
      "   macro avg       0.77      0.71      0.72      1856\n",
      "weighted avg       0.76      0.75      0.74      1856\n",
      "\n",
      "[3, 9]\n"
     ]
    },
    {
     "name": "stderr",
     "output_type": "stream",
     "text": [
      "Evaluating: 100%|██████████| 57/57 [00:28<00:00,  2.03it/s]\n"
     ]
    },
    {
     "name": "stdout",
     "output_type": "stream",
     "text": [
      "Loss: 0.2914\n",
      "Precision: 0.9123, Recall: 0.9219, F1-Score: 0.9164\n",
      "              precision    recall  f1-score   support\n",
      "\n",
      "           0       0.87      0.93      0.90       689\n",
      "           1       0.95      0.91      0.93      1110\n",
      "\n",
      "    accuracy                           0.92      1799\n",
      "   macro avg       0.91      0.92      0.92      1799\n",
      "weighted avg       0.92      0.92      0.92      1799\n",
      "\n",
      "[3, 10]\n"
     ]
    },
    {
     "name": "stderr",
     "output_type": "stream",
     "text": [
      "Evaluating: 100%|██████████| 56/56 [00:29<00:00,  1.91it/s]\n"
     ]
    },
    {
     "name": "stdout",
     "output_type": "stream",
     "text": [
      "Loss: 0.2987\n",
      "Precision: 0.9041, Recall: 0.9120, F1-Score: 0.9076\n",
      "              precision    recall  f1-score   support\n",
      "\n",
      "           0       0.86      0.91      0.89       670\n",
      "           1       0.94      0.91      0.93      1110\n",
      "\n",
      "    accuracy                           0.91      1780\n",
      "   macro avg       0.90      0.91      0.91      1780\n",
      "weighted avg       0.91      0.91      0.91      1780\n",
      "\n",
      "[3, 11]\n"
     ]
    },
    {
     "name": "stderr",
     "output_type": "stream",
     "text": [
      "Evaluating: 100%|██████████| 45/45 [00:20<00:00,  2.16it/s]\n"
     ]
    },
    {
     "name": "stdout",
     "output_type": "stream",
     "text": [
      "Loss: 0.2476\n",
      "Precision: 0.8626, Recall: 0.9167, F1-Score: 0.8848\n",
      "              precision    recall  f1-score   support\n",
      "\n",
      "           0       0.75      0.92      0.83       312\n",
      "           1       0.98      0.91      0.94      1110\n",
      "\n",
      "    accuracy                           0.91      1422\n",
      "   macro avg       0.86      0.92      0.88      1422\n",
      "weighted avg       0.93      0.91      0.92      1422\n",
      "\n",
      "[3, 12]\n"
     ]
    },
    {
     "name": "stderr",
     "output_type": "stream",
     "text": [
      "Evaluating: 100%|██████████| 56/56 [00:30<00:00,  1.83it/s]\n"
     ]
    },
    {
     "name": "stdout",
     "output_type": "stream",
     "text": [
      "Loss: 0.6106\n",
      "Precision: 0.5279, Recall: 0.5101, F1-Score: 0.4584\n",
      "              precision    recall  f1-score   support\n",
      "\n",
      "           0       0.43      0.11      0.17       665\n",
      "           1       0.63      0.91      0.75      1110\n",
      "\n",
      "    accuracy                           0.61      1775\n",
      "   macro avg       0.53      0.51      0.46      1775\n",
      "weighted avg       0.55      0.61      0.53      1775\n",
      "\n",
      "[3, 13]\n"
     ]
    },
    {
     "name": "stderr",
     "output_type": "stream",
     "text": [
      "Evaluating: 100%|██████████| 45/45 [00:25<00:00,  1.75it/s]\n"
     ]
    },
    {
     "name": "stdout",
     "output_type": "stream",
     "text": [
      "Loss: 0.2806\n",
      "Precision: 0.8529, Recall: 0.8962, F1-Score: 0.8713\n",
      "              precision    recall  f1-score   support\n",
      "\n",
      "           0       0.74      0.88      0.80       314\n",
      "           1       0.96      0.91      0.94      1110\n",
      "\n",
      "    accuracy                           0.91      1424\n",
      "   macro avg       0.85      0.90      0.87      1424\n",
      "weighted avg       0.91      0.91      0.91      1424\n",
      "\n",
      "[3, 14]\n"
     ]
    },
    {
     "name": "stderr",
     "output_type": "stream",
     "text": [
      "Evaluating: 100%|██████████| 59/59 [00:27<00:00,  2.11it/s]\n"
     ]
    },
    {
     "name": "stdout",
     "output_type": "stream",
     "text": [
      "Loss: 0.3965\n",
      "Precision: 0.7504, Recall: 0.6896, F1-Score: 0.6935\n",
      "              precision    recall  f1-score   support\n",
      "\n",
      "           0       0.79      0.47      0.58       756\n",
      "           1       0.72      0.91      0.80      1110\n",
      "\n",
      "    accuracy                           0.73      1866\n",
      "   macro avg       0.75      0.69      0.69      1866\n",
      "weighted avg       0.74      0.73      0.71      1866\n",
      "\n",
      "[3, 15]\n"
     ]
    },
    {
     "name": "stderr",
     "output_type": "stream",
     "text": [
      "Evaluating: 100%|██████████| 85/85 [00:46<00:00,  1.83it/s]\n"
     ]
    },
    {
     "name": "stdout",
     "output_type": "stream",
     "text": [
      "Loss: 0.4311\n",
      "Precision: 0.9123, Recall: 0.9160, F1-Score: 0.9140\n",
      "              precision    recall  f1-score   support\n",
      "\n",
      "           0       0.94      0.92      0.93      1607\n",
      "           1       0.89      0.91      0.90      1110\n",
      "\n",
      "    accuracy                           0.92      2717\n",
      "   macro avg       0.91      0.92      0.91      2717\n",
      "weighted avg       0.92      0.92      0.92      2717\n",
      "\n",
      "Directory /home/Minwoo/LESN/Decompose/DecomposeBERT/Models/Configs/pretrained/sadickam/sdg-classification-bert exists.\n",
      "Loading the model.\n",
      "Start Time:02:05:29\n",
      "#Module 4 in progress....\n",
      "origin\n"
     ]
    },
    {
     "name": "stderr",
     "output_type": "stream",
     "text": [
      "Evaluating: 100%|██████████| 400/400 [03:19<00:00,  2.00it/s]\n"
     ]
    },
    {
     "name": "stdout",
     "output_type": "stream",
     "text": [
      "Loss: 0.9480\n",
      "Precision: 0.7801, Recall: 0.7867, F1-Score: 0.7793\n",
      "              precision    recall  f1-score   support\n",
      "\n",
      "           0       0.77      0.66      0.71       797\n",
      "           1       0.84      0.72      0.78       775\n",
      "           2       0.88      0.87      0.88       795\n",
      "           3       0.87      0.83      0.85      1110\n",
      "           4       0.86      0.80      0.83      1260\n",
      "           5       0.88      0.69      0.77       882\n",
      "           6       0.85      0.80      0.83       940\n",
      "           7       0.49      0.61      0.54       473\n",
      "           8       0.66      0.85      0.74       746\n",
      "           9       0.62      0.73      0.67       689\n",
      "          10       0.75      0.79      0.77       670\n",
      "          11       0.62      0.81      0.70       312\n",
      "          12       0.73      0.81      0.77       665\n",
      "          13       0.83      0.85      0.84       314\n",
      "          14       0.85      0.78      0.81       756\n",
      "          15       0.97      0.98      0.97      1607\n",
      "\n",
      "    accuracy                           0.80     12791\n",
      "   macro avg       0.78      0.79      0.78     12791\n",
      "weighted avg       0.81      0.80      0.80     12791\n",
      "\n",
      "Start Positive CI sparse\n",
      "Start Positive CI after sparse\n",
      "Start Negative TI\n",
      "dead node \n",
      "[0, 1, 2, 7, 8, 9, 10, 12, 15]\n",
      "active node \n",
      "[0, 4, 7, 8, 9, 10, 15]\n",
      "weight factor \n",
      "[16, 9, 9, 0, 0, 0, 0, 10, 15, 16, 15, 0, 8, 0, 0, 16]\n",
      "weight factor \n",
      "[16, 0, 0, 0, 16, 0, 0, 16, 10, 16, 12, 0, 0, 0, 0, 16]\n",
      "[4, 0]\n"
     ]
    },
    {
     "name": "stderr",
     "output_type": "stream",
     "text": [
      "Evaluating: 100%|██████████| 65/65 [00:31<00:00,  2.08it/s]\n"
     ]
    },
    {
     "name": "stdout",
     "output_type": "stream",
     "text": [
      "Loss: 0.5174\n",
      "Precision: 0.7394, Recall: 0.6077, F1-Score: 0.5881\n",
      "              precision    recall  f1-score   support\n",
      "\n",
      "           0       0.81      0.25      0.39       797\n",
      "           1       0.67      0.96      0.79      1260\n",
      "\n",
      "    accuracy                           0.69      2057\n",
      "   macro avg       0.74      0.61      0.59      2057\n",
      "weighted avg       0.72      0.69      0.63      2057\n",
      "\n",
      "[4, 1]\n"
     ]
    },
    {
     "name": "stderr",
     "output_type": "stream",
     "text": [
      "Evaluating: 100%|██████████| 64/64 [00:33<00:00,  1.91it/s]\n"
     ]
    },
    {
     "name": "stdout",
     "output_type": "stream",
     "text": [
      "Loss: 0.1866\n",
      "Precision: 0.9367, Recall: 0.9293, F1-Score: 0.9328\n",
      "              precision    recall  f1-score   support\n",
      "\n",
      "           0       0.94      0.90      0.92       775\n",
      "           1       0.94      0.96      0.95      1260\n",
      "\n",
      "    accuracy                           0.94      2035\n",
      "   macro avg       0.94      0.93      0.93      2035\n",
      "weighted avg       0.94      0.94      0.94      2035\n",
      "\n",
      "[4, 2]\n"
     ]
    },
    {
     "name": "stderr",
     "output_type": "stream",
     "text": [
      "Evaluating: 100%|██████████| 65/65 [00:33<00:00,  1.92it/s]\n"
     ]
    },
    {
     "name": "stdout",
     "output_type": "stream",
     "text": [
      "Loss: 0.2141\n",
      "Precision: 0.9372, Recall: 0.9300, F1-Score: 0.9333\n",
      "              precision    recall  f1-score   support\n",
      "\n",
      "           0       0.94      0.90      0.92       795\n",
      "           1       0.94      0.96      0.95      1260\n",
      "\n",
      "    accuracy                           0.94      2055\n",
      "   macro avg       0.94      0.93      0.93      2055\n",
      "weighted avg       0.94      0.94      0.94      2055\n",
      "\n",
      "[4, 3]\n"
     ]
    },
    {
     "name": "stderr",
     "output_type": "stream",
     "text": [
      "Evaluating: 100%|██████████| 75/75 [00:40<00:00,  1.87it/s]\n"
     ]
    },
    {
     "name": "stdout",
     "output_type": "stream",
     "text": [
      "Loss: 0.4352\n",
      "Precision: 0.8243, Recall: 0.7674, F1-Score: 0.7659\n",
      "              precision    recall  f1-score   support\n",
      "\n",
      "           0       0.93      0.57      0.71      1110\n",
      "           1       0.72      0.96      0.82      1260\n",
      "\n",
      "    accuracy                           0.78      2370\n",
      "   macro avg       0.82      0.77      0.77      2370\n",
      "weighted avg       0.82      0.78      0.77      2370\n",
      "\n",
      "[4, 5]\n"
     ]
    },
    {
     "name": "stderr",
     "output_type": "stream",
     "text": [
      "Evaluating: 100%|██████████| 67/67 [00:33<00:00,  1.98it/s]\n"
     ]
    },
    {
     "name": "stdout",
     "output_type": "stream",
     "text": [
      "Loss: 0.2395\n",
      "Precision: 0.9509, Recall: 0.9498, F1-Score: 0.9503\n",
      "              precision    recall  f1-score   support\n",
      "\n",
      "           0       0.95      0.94      0.94       882\n",
      "           1       0.96      0.96      0.96      1260\n",
      "\n",
      "    accuracy                           0.95      2142\n",
      "   macro avg       0.95      0.95      0.95      2142\n",
      "weighted avg       0.95      0.95      0.95      2142\n",
      "\n",
      "[4, 6]\n"
     ]
    },
    {
     "name": "stderr",
     "output_type": "stream",
     "text": [
      "Evaluating: 100%|██████████| 69/69 [00:41<00:00,  1.64it/s]\n"
     ]
    },
    {
     "name": "stdout",
     "output_type": "stream",
     "text": [
      "Loss: 0.2528\n",
      "Precision: 0.9530, Recall: 0.9522, F1-Score: 0.9526\n",
      "              precision    recall  f1-score   support\n",
      "\n",
      "           0       0.95      0.94      0.95       940\n",
      "           1       0.96      0.96      0.96      1260\n",
      "\n",
      "    accuracy                           0.95      2200\n",
      "   macro avg       0.95      0.95      0.95      2200\n",
      "weighted avg       0.95      0.95      0.95      2200\n",
      "\n",
      "[4, 7]\n"
     ]
    },
    {
     "name": "stderr",
     "output_type": "stream",
     "text": [
      "Evaluating: 100%|██████████| 55/55 [00:30<00:00,  1.83it/s]\n"
     ]
    },
    {
     "name": "stdout",
     "output_type": "stream",
     "text": [
      "Loss: 0.5348\n",
      "Precision: 0.6794, Recall: 0.5592, F1-Score: 0.5465\n",
      "              precision    recall  f1-score   support\n",
      "\n",
      "           0       0.61      0.16      0.25       473\n",
      "           1       0.75      0.96      0.84      1260\n",
      "\n",
      "    accuracy                           0.74      1733\n",
      "   macro avg       0.68      0.56      0.55      1733\n",
      "weighted avg       0.71      0.74      0.68      1733\n",
      "\n",
      "[4, 8]\n"
     ]
    },
    {
     "name": "stderr",
     "output_type": "stream",
     "text": [
      "Evaluating: 100%|██████████| 63/63 [00:33<00:00,  1.89it/s]\n"
     ]
    },
    {
     "name": "stdout",
     "output_type": "stream",
     "text": [
      "Loss: 0.2675\n",
      "Precision: 0.9297, Recall: 0.9179, F1-Score: 0.9232\n",
      "              precision    recall  f1-score   support\n",
      "\n",
      "           0       0.93      0.87      0.90       746\n",
      "           1       0.93      0.96      0.94      1260\n",
      "\n",
      "    accuracy                           0.93      2006\n",
      "   macro avg       0.93      0.92      0.92      2006\n",
      "weighted avg       0.93      0.93      0.93      2006\n",
      "\n",
      "[4, 9]\n"
     ]
    },
    {
     "name": "stderr",
     "output_type": "stream",
     "text": [
      "Evaluating: 100%|██████████| 61/61 [00:32<00:00,  1.87it/s]\n"
     ]
    },
    {
     "name": "stdout",
     "output_type": "stream",
     "text": [
      "Loss: 0.5564\n",
      "Precision: 0.6402, Recall: 0.5368, F1-Score: 0.4876\n",
      "              precision    recall  f1-score   support\n",
      "\n",
      "           0       0.62      0.11      0.19       689\n",
      "           1       0.66      0.96      0.79      1260\n",
      "\n",
      "    accuracy                           0.66      1949\n",
      "   macro avg       0.64      0.54      0.49      1949\n",
      "weighted avg       0.65      0.66      0.58      1949\n",
      "\n",
      "[4, 10]\n"
     ]
    },
    {
     "name": "stderr",
     "output_type": "stream",
     "text": [
      "Evaluating: 100%|██████████| 61/61 [00:32<00:00,  1.88it/s]\n"
     ]
    },
    {
     "name": "stdout",
     "output_type": "stream",
     "text": [
      "Loss: 0.2136\n",
      "Precision: 0.9289, Recall: 0.9168, F1-Score: 0.9223\n",
      "              precision    recall  f1-score   support\n",
      "\n",
      "           0       0.92      0.87      0.90       670\n",
      "           1       0.93      0.96      0.95      1260\n",
      "\n",
      "    accuracy                           0.93      1930\n",
      "   macro avg       0.93      0.92      0.92      1930\n",
      "weighted avg       0.93      0.93      0.93      1930\n",
      "\n",
      "[4, 11]\n"
     ]
    },
    {
     "name": "stderr",
     "output_type": "stream",
     "text": [
      "Evaluating: 100%|██████████| 50/50 [00:25<00:00,  1.95it/s]\n"
     ]
    },
    {
     "name": "stdout",
     "output_type": "stream",
     "text": [
      "Loss: 0.1775\n",
      "Precision: 0.9134, Recall: 0.9281, F1-Score: 0.9205\n",
      "              precision    recall  f1-score   support\n",
      "\n",
      "           0       0.85      0.89      0.87       312\n",
      "           1       0.97      0.96      0.97      1260\n",
      "\n",
      "    accuracy                           0.95      1572\n",
      "   macro avg       0.91      0.93      0.92      1572\n",
      "weighted avg       0.95      0.95      0.95      1572\n",
      "\n",
      "[4, 12]\n"
     ]
    },
    {
     "name": "stderr",
     "output_type": "stream",
     "text": [
      "Evaluating: 100%|██████████| 61/61 [00:34<00:00,  1.78it/s]\n"
     ]
    },
    {
     "name": "stdout",
     "output_type": "stream",
     "text": [
      "Loss: 0.1554\n",
      "Precision: 0.9515, Recall: 0.9561, F1-Score: 0.9537\n",
      "              precision    recall  f1-score   support\n",
      "\n",
      "           0       0.93      0.95      0.94       665\n",
      "           1       0.97      0.96      0.97      1260\n",
      "\n",
      "    accuracy                           0.96      1925\n",
      "   macro avg       0.95      0.96      0.95      1925\n",
      "weighted avg       0.96      0.96      0.96      1925\n",
      "\n",
      "[4, 13]\n"
     ]
    },
    {
     "name": "stderr",
     "output_type": "stream",
     "text": [
      "Evaluating: 100%|██████████| 50/50 [00:26<00:00,  1.89it/s]\n"
     ]
    },
    {
     "name": "stdout",
     "output_type": "stream",
     "text": [
      "Loss: 0.2134\n",
      "Precision: 0.8682, Recall: 0.8169, F1-Score: 0.8389\n",
      "              precision    recall  f1-score   support\n",
      "\n",
      "           0       0.81      0.67      0.74       314\n",
      "           1       0.92      0.96      0.94      1260\n",
      "\n",
      "    accuracy                           0.90      1574\n",
      "   macro avg       0.87      0.82      0.84      1574\n",
      "weighted avg       0.90      0.90      0.90      1574\n",
      "\n",
      "[4, 14]\n"
     ]
    },
    {
     "name": "stderr",
     "output_type": "stream",
     "text": [
      "Evaluating: 100%|██████████| 63/63 [00:38<00:00,  1.62it/s]\n"
     ]
    },
    {
     "name": "stdout",
     "output_type": "stream",
     "text": [
      "Loss: 0.3153\n",
      "Precision: 0.8557, Recall: 0.7872, F1-Score: 0.8038\n",
      "              precision    recall  f1-score   support\n",
      "\n",
      "           0       0.91      0.61      0.73       756\n",
      "           1       0.81      0.96      0.88      1260\n",
      "\n",
      "    accuracy                           0.83      2016\n",
      "   macro avg       0.86      0.79      0.80      2016\n",
      "weighted avg       0.84      0.83      0.82      2016\n",
      "\n",
      "[4, 15]\n"
     ]
    },
    {
     "name": "stderr",
     "output_type": "stream",
     "text": [
      "Evaluating: 100%|██████████| 90/90 [00:54<00:00,  1.66it/s]\n"
     ]
    },
    {
     "name": "stdout",
     "output_type": "stream",
     "text": [
      "Loss: 0.7994\n",
      "Precision: 0.4285, Recall: 0.4918, F1-Score: 0.3204\n",
      "              precision    recall  f1-score   support\n",
      "\n",
      "           0       0.42      0.02      0.04      1607\n",
      "           1       0.44      0.96      0.60      1260\n",
      "\n",
      "    accuracy                           0.43      2867\n",
      "   macro avg       0.43      0.49      0.32      2867\n",
      "weighted avg       0.43      0.43      0.29      2867\n",
      "\n",
      "Directory /home/Minwoo/LESN/Decompose/DecomposeBERT/Models/Configs/pretrained/sadickam/sdg-classification-bert exists.\n",
      "Loading the model.\n",
      "Start Time:02:18:09\n",
      "#Module 5 in progress....\n",
      "origin\n"
     ]
    },
    {
     "name": "stderr",
     "output_type": "stream",
     "text": [
      "Evaluating: 100%|██████████| 400/400 [03:43<00:00,  1.79it/s]\n"
     ]
    },
    {
     "name": "stdout",
     "output_type": "stream",
     "text": [
      "Loss: 0.9480\n",
      "Precision: 0.7801, Recall: 0.7867, F1-Score: 0.7793\n",
      "              precision    recall  f1-score   support\n",
      "\n",
      "           0       0.77      0.66      0.71       797\n",
      "           1       0.84      0.72      0.78       775\n",
      "           2       0.88      0.87      0.88       795\n",
      "           3       0.87      0.83      0.85      1110\n",
      "           4       0.86      0.80      0.83      1260\n",
      "           5       0.88      0.69      0.77       882\n",
      "           6       0.85      0.80      0.83       940\n",
      "           7       0.49      0.61      0.54       473\n",
      "           8       0.66      0.85      0.74       746\n",
      "           9       0.62      0.73      0.67       689\n",
      "          10       0.75      0.79      0.77       670\n",
      "          11       0.62      0.81      0.70       312\n",
      "          12       0.73      0.81      0.77       665\n",
      "          13       0.83      0.85      0.84       314\n",
      "          14       0.85      0.78      0.81       756\n",
      "          15       0.97      0.98      0.97      1607\n",
      "\n",
      "    accuracy                           0.80     12791\n",
      "   macro avg       0.78      0.79      0.78     12791\n",
      "weighted avg       0.81      0.80      0.80     12791\n",
      "\n",
      "Start Positive CI sparse\n",
      "Start Positive CI after sparse\n",
      "Start Negative TI\n",
      "dead node \n",
      "[0, 1, 2, 7, 8, 9, 10, 12, 15]\n",
      "active node \n",
      "[0, 1, 5, 8, 9, 10, 12, 15]\n",
      "weight factor \n",
      "[16, 12, 8, 0, 0, 0, 0, 9, 9, 16, 15, 0, 8, 0, 0, 16]\n",
      "weight factor \n",
      "[16, 15, 0, 0, 0, 16, 0, 0, 11, 16, 15, 0, 15, 0, 0, 16]\n",
      "[5, 0]\n"
     ]
    },
    {
     "name": "stderr",
     "output_type": "stream",
     "text": [
      "Evaluating: 100%|██████████| 53/53 [00:29<00:00,  1.81it/s]\n"
     ]
    },
    {
     "name": "stdout",
     "output_type": "stream",
     "text": [
      "Loss: 0.2584\n",
      "Precision: 0.9322, Recall: 0.9331, F1-Score: 0.9315\n",
      "              precision    recall  f1-score   support\n",
      "\n",
      "           0       0.90      0.96      0.93       797\n",
      "           1       0.97      0.90      0.93       882\n",
      "\n",
      "    accuracy                           0.93      1679\n",
      "   macro avg       0.93      0.93      0.93      1679\n",
      "weighted avg       0.93      0.93      0.93      1679\n",
      "\n",
      "[5, 1]\n"
     ]
    },
    {
     "name": "stderr",
     "output_type": "stream",
     "text": [
      "Evaluating: 100%|██████████| 52/52 [00:33<00:00,  1.55it/s]\n"
     ]
    },
    {
     "name": "stdout",
     "output_type": "stream",
     "text": [
      "Loss: 0.4344\n",
      "Precision: 0.8239, Recall: 0.8087, F1-Score: 0.8108\n",
      "              precision    recall  f1-score   support\n",
      "\n",
      "           0       0.86      0.72      0.78       775\n",
      "           1       0.78      0.90      0.84       882\n",
      "\n",
      "    accuracy                           0.81      1657\n",
      "   macro avg       0.82      0.81      0.81      1657\n",
      "weighted avg       0.82      0.81      0.81      1657\n",
      "\n",
      "[5, 2]\n"
     ]
    },
    {
     "name": "stderr",
     "output_type": "stream",
     "text": [
      "Evaluating: 100%|██████████| 53/53 [00:33<00:00,  1.57it/s]\n"
     ]
    },
    {
     "name": "stdout",
     "output_type": "stream",
     "text": [
      "Loss: 0.2287\n",
      "Precision: 0.9432, Recall: 0.9438, F1-Score: 0.9416\n",
      "              precision    recall  f1-score   support\n",
      "\n",
      "           0       0.90      0.99      0.94       795\n",
      "           1       0.99      0.90      0.94       882\n",
      "\n",
      "    accuracy                           0.94      1677\n",
      "   macro avg       0.94      0.94      0.94      1677\n",
      "weighted avg       0.95      0.94      0.94      1677\n",
      "\n",
      "[5, 3]\n"
     ]
    },
    {
     "name": "stderr",
     "output_type": "stream",
     "text": [
      "Evaluating: 100%|██████████| 63/63 [00:34<00:00,  1.81it/s]\n"
     ]
    },
    {
     "name": "stdout",
     "output_type": "stream",
     "text": [
      "Loss: 0.3220\n",
      "Precision: 0.9385, Recall: 0.9327, F1-Score: 0.9350\n",
      "              precision    recall  f1-score   support\n",
      "\n",
      "           0       0.92      0.96      0.94      1110\n",
      "           1       0.95      0.90      0.93       882\n",
      "\n",
      "    accuracy                           0.94      1992\n",
      "   macro avg       0.94      0.93      0.94      1992\n",
      "weighted avg       0.94      0.94      0.94      1992\n",
      "\n",
      "[5, 4]\n"
     ]
    },
    {
     "name": "stderr",
     "output_type": "stream",
     "text": [
      "Evaluating: 100%|██████████| 67/67 [00:37<00:00,  1.78it/s]\n"
     ]
    },
    {
     "name": "stdout",
     "output_type": "stream",
     "text": [
      "Loss: 0.3410\n",
      "Precision: 0.9416, Recall: 0.9340, F1-Score: 0.9373\n",
      "              precision    recall  f1-score   support\n",
      "\n",
      "           0       0.93      0.97      0.95      1260\n",
      "           1       0.95      0.90      0.92       882\n",
      "\n",
      "    accuracy                           0.94      2142\n",
      "   macro avg       0.94      0.93      0.94      2142\n",
      "weighted avg       0.94      0.94      0.94      2142\n",
      "\n",
      "[5, 6]\n"
     ]
    },
    {
     "name": "stderr",
     "output_type": "stream",
     "text": [
      "Evaluating: 100%|██████████| 57/57 [00:30<00:00,  1.89it/s]\n"
     ]
    },
    {
     "name": "stdout",
     "output_type": "stream",
     "text": [
      "Loss: 0.5474\n",
      "Precision: 0.6269, Recall: 0.5730, F1-Score: 0.5160\n",
      "              precision    recall  f1-score   support\n",
      "\n",
      "           0       0.73      0.24      0.37       940\n",
      "           1       0.53      0.90      0.67       882\n",
      "\n",
      "    accuracy                           0.56      1822\n",
      "   macro avg       0.63      0.57      0.52      1822\n",
      "weighted avg       0.63      0.56      0.51      1822\n",
      "\n",
      "[5, 7]\n"
     ]
    },
    {
     "name": "stderr",
     "output_type": "stream",
     "text": [
      "Evaluating: 100%|██████████| 43/43 [00:24<00:00,  1.72it/s]\n"
     ]
    },
    {
     "name": "stdout",
     "output_type": "stream",
     "text": [
      "Loss: 0.2269\n",
      "Precision: 0.9109, Recall: 0.9348, F1-Score: 0.9198\n",
      "              precision    recall  f1-score   support\n",
      "\n",
      "           0       0.84      0.97      0.90       473\n",
      "           1       0.98      0.90      0.94       882\n",
      "\n",
      "    accuracy                           0.92      1355\n",
      "   macro avg       0.91      0.93      0.92      1355\n",
      "weighted avg       0.93      0.92      0.93      1355\n",
      "\n",
      "[5, 8]\n"
     ]
    },
    {
     "name": "stderr",
     "output_type": "stream",
     "text": [
      "Evaluating: 100%|██████████| 51/51 [00:26<00:00,  1.95it/s]\n"
     ]
    },
    {
     "name": "stdout",
     "output_type": "stream",
     "text": [
      "Loss: 0.3789\n",
      "Precision: 0.8802, Recall: 0.8783, F1-Score: 0.8791\n",
      "              precision    recall  f1-score   support\n",
      "\n",
      "           0       0.88      0.86      0.87       746\n",
      "           1       0.88      0.90      0.89       882\n",
      "\n",
      "    accuracy                           0.88      1628\n",
      "   macro avg       0.88      0.88      0.88      1628\n",
      "weighted avg       0.88      0.88      0.88      1628\n",
      "\n",
      "[5, 9]\n"
     ]
    },
    {
     "name": "stderr",
     "output_type": "stream",
     "text": [
      "Evaluating: 100%|██████████| 50/50 [00:28<00:00,  1.78it/s]\n"
     ]
    },
    {
     "name": "stdout",
     "output_type": "stream",
     "text": [
      "Loss: 0.2487\n",
      "Precision: 0.9309, Recall: 0.9369, F1-Score: 0.9321\n",
      "              precision    recall  f1-score   support\n",
      "\n",
      "           0       0.89      0.97      0.93       689\n",
      "           1       0.98      0.90      0.94       882\n",
      "\n",
      "    accuracy                           0.93      1571\n",
      "   macro avg       0.93      0.94      0.93      1571\n",
      "weighted avg       0.94      0.93      0.93      1571\n",
      "\n",
      "[5, 10]\n"
     ]
    },
    {
     "name": "stderr",
     "output_type": "stream",
     "text": [
      "Evaluating: 100%|██████████| 49/49 [00:28<00:00,  1.72it/s]\n"
     ]
    },
    {
     "name": "stdout",
     "output_type": "stream",
     "text": [
      "Loss: 0.3743\n",
      "Precision: 0.8627, Recall: 0.8567, F1-Score: 0.8591\n",
      "              precision    recall  f1-score   support\n",
      "\n",
      "           0       0.86      0.81      0.84       670\n",
      "           1       0.86      0.90      0.88       882\n",
      "\n",
      "    accuracy                           0.86      1552\n",
      "   macro avg       0.86      0.86      0.86      1552\n",
      "weighted avg       0.86      0.86      0.86      1552\n",
      "\n",
      "[5, 11]\n"
     ]
    },
    {
     "name": "stderr",
     "output_type": "stream",
     "text": [
      "Evaluating: 100%|██████████| 38/38 [00:19<00:00,  1.98it/s]\n"
     ]
    },
    {
     "name": "stdout",
     "output_type": "stream",
     "text": [
      "Loss: 0.3695\n",
      "Precision: 0.7670, Recall: 0.7407, F1-Score: 0.7518\n",
      "              precision    recall  f1-score   support\n",
      "\n",
      "           0       0.68      0.58      0.62       312\n",
      "           1       0.86      0.90      0.88       882\n",
      "\n",
      "    accuracy                           0.82      1194\n",
      "   macro avg       0.77      0.74      0.75      1194\n",
      "weighted avg       0.81      0.82      0.81      1194\n",
      "\n",
      "[5, 12]\n"
     ]
    },
    {
     "name": "stderr",
     "output_type": "stream",
     "text": [
      "Evaluating: 100%|██████████| 49/49 [00:24<00:00,  1.99it/s]\n"
     ]
    },
    {
     "name": "stdout",
     "output_type": "stream",
     "text": [
      "Loss: 0.8008\n",
      "Precision: 0.4619, Recall: 0.4875, F1-Score: 0.4079\n",
      "              precision    recall  f1-score   support\n",
      "\n",
      "           0       0.36      0.07      0.12       665\n",
      "           1       0.56      0.90      0.69       882\n",
      "\n",
      "    accuracy                           0.55      1547\n",
      "   macro avg       0.46      0.49      0.41      1547\n",
      "weighted avg       0.48      0.55      0.45      1547\n",
      "\n",
      "[5, 13]\n"
     ]
    },
    {
     "name": "stderr",
     "output_type": "stream",
     "text": [
      "Evaluating: 100%|██████████| 38/38 [00:21<00:00,  1.79it/s]\n"
     ]
    },
    {
     "name": "stdout",
     "output_type": "stream",
     "text": [
      "Loss: 0.4543\n",
      "Precision: 0.4821, Recall: 0.4921, F1-Score: 0.4655\n",
      "              precision    recall  f1-score   support\n",
      "\n",
      "           0       0.23      0.08      0.12       314\n",
      "           1       0.73      0.90      0.81       882\n",
      "\n",
      "    accuracy                           0.69      1196\n",
      "   macro avg       0.48      0.49      0.47      1196\n",
      "weighted avg       0.60      0.69      0.63      1196\n",
      "\n",
      "[5, 14]\n"
     ]
    },
    {
     "name": "stderr",
     "output_type": "stream",
     "text": [
      "Evaluating: 100%|██████████| 52/52 [00:26<00:00,  1.94it/s]\n"
     ]
    },
    {
     "name": "stdout",
     "output_type": "stream",
     "text": [
      "Loss: 0.7154\n",
      "Precision: 0.4834, Recall: 0.4943, F1-Score: 0.4085\n",
      "              precision    recall  f1-score   support\n",
      "\n",
      "           0       0.43      0.09      0.15       756\n",
      "           1       0.54      0.90      0.67       882\n",
      "\n",
      "    accuracy                           0.53      1638\n",
      "   macro avg       0.48      0.49      0.41      1638\n",
      "weighted avg       0.49      0.53      0.43      1638\n",
      "\n",
      "[5, 15]\n"
     ]
    },
    {
     "name": "stderr",
     "output_type": "stream",
     "text": [
      "Evaluating: 100%|██████████| 78/78 [00:42<00:00,  1.82it/s]\n"
     ]
    },
    {
     "name": "stdout",
     "output_type": "stream",
     "text": [
      "Loss: 0.5184\n",
      "Precision: 0.7689, Recall: 0.7932, F1-Score: 0.7581\n",
      "              precision    recall  f1-score   support\n",
      "\n",
      "           0       0.93      0.69      0.79      1607\n",
      "           1       0.61      0.90      0.73       882\n",
      "\n",
      "    accuracy                           0.76      2489\n",
      "   macro avg       0.77      0.79      0.76      2489\n",
      "weighted avg       0.81      0.76      0.77      2489\n",
      "\n",
      "Directory /home/Minwoo/LESN/Decompose/DecomposeBERT/Models/Configs/pretrained/sadickam/sdg-classification-bert exists.\n",
      "Loading the model.\n",
      "Start Time:02:29:54\n",
      "#Module 6 in progress....\n",
      "origin\n"
     ]
    },
    {
     "name": "stderr",
     "output_type": "stream",
     "text": [
      "Evaluating: 100%|██████████| 400/400 [03:29<00:00,  1.90it/s]\n"
     ]
    },
    {
     "name": "stdout",
     "output_type": "stream",
     "text": [
      "Loss: 0.9480\n",
      "Precision: 0.7801, Recall: 0.7867, F1-Score: 0.7793\n",
      "              precision    recall  f1-score   support\n",
      "\n",
      "           0       0.77      0.66      0.71       797\n",
      "           1       0.84      0.72      0.78       775\n",
      "           2       0.88      0.87      0.88       795\n",
      "           3       0.87      0.83      0.85      1110\n",
      "           4       0.86      0.80      0.83      1260\n",
      "           5       0.88      0.69      0.77       882\n",
      "           6       0.85      0.80      0.83       940\n",
      "           7       0.49      0.61      0.54       473\n",
      "           8       0.66      0.85      0.74       746\n",
      "           9       0.62      0.73      0.67       689\n",
      "          10       0.75      0.79      0.77       670\n",
      "          11       0.62      0.81      0.70       312\n",
      "          12       0.73      0.81      0.77       665\n",
      "          13       0.83      0.85      0.84       314\n",
      "          14       0.85      0.78      0.81       756\n",
      "          15       0.97      0.98      0.97      1607\n",
      "\n",
      "    accuracy                           0.80     12791\n",
      "   macro avg       0.78      0.79      0.78     12791\n",
      "weighted avg       0.81      0.80      0.80     12791\n",
      "\n",
      "Start Positive CI sparse\n",
      "Start Positive CI after sparse\n",
      "Start Negative TI\n",
      "dead node \n",
      "[0, 1, 2, 7, 8, 9, 10, 12, 15]\n",
      "active node \n",
      "[0, 5, 6, 8, 9, 10, 11, 12, 15]\n",
      "weight factor \n",
      "[16, 8, 10, 0, 0, 0, 0, 11, 13, 16, 14, 0, 11, 0, 0, 16]\n",
      "weight factor \n",
      "[15, 0, 0, 0, 0, 10, 16, 0, 16, 16, 16, 13, 16, 0, 0, 16]\n",
      "[6, 0]\n"
     ]
    },
    {
     "name": "stderr",
     "output_type": "stream",
     "text": [
      "Evaluating: 100%|██████████| 55/55 [00:26<00:00,  2.07it/s]\n"
     ]
    },
    {
     "name": "stdout",
     "output_type": "stream",
     "text": [
      "Loss: 0.1683\n",
      "Precision: 0.9576, Recall: 0.9599, F1-Score: 0.9584\n",
      "              precision    recall  f1-score   support\n",
      "\n",
      "           0       0.94      0.98      0.96       797\n",
      "           1       0.98      0.94      0.96       940\n",
      "\n",
      "    accuracy                           0.96      1737\n",
      "   macro avg       0.96      0.96      0.96      1737\n",
      "weighted avg       0.96      0.96      0.96      1737\n",
      "\n",
      "[6, 1]\n"
     ]
    },
    {
     "name": "stderr",
     "output_type": "stream",
     "text": [
      "Evaluating: 100%|██████████| 54/54 [00:29<00:00,  1.83it/s]\n"
     ]
    },
    {
     "name": "stdout",
     "output_type": "stream",
     "text": [
      "Loss: 0.2310\n",
      "Precision: 0.9150, Recall: 0.9099, F1-Score: 0.9118\n",
      "              precision    recall  f1-score   support\n",
      "\n",
      "           0       0.93      0.88      0.90       775\n",
      "           1       0.90      0.94      0.92       940\n",
      "\n",
      "    accuracy                           0.91      1715\n",
      "   macro avg       0.91      0.91      0.91      1715\n",
      "weighted avg       0.91      0.91      0.91      1715\n",
      "\n",
      "[6, 2]\n"
     ]
    },
    {
     "name": "stderr",
     "output_type": "stream",
     "text": [
      "Evaluating: 100%|██████████| 55/55 [00:33<00:00,  1.62it/s]\n"
     ]
    },
    {
     "name": "stdout",
     "output_type": "stream",
     "text": [
      "Loss: 0.1710\n",
      "Precision: 0.9541, Recall: 0.9561, F1-Score: 0.9548\n",
      "              precision    recall  f1-score   support\n",
      "\n",
      "           0       0.94      0.97      0.95       795\n",
      "           1       0.97      0.94      0.96       940\n",
      "\n",
      "    accuracy                           0.96      1735\n",
      "   macro avg       0.95      0.96      0.95      1735\n",
      "weighted avg       0.96      0.96      0.96      1735\n",
      "\n",
      "[6, 3]\n"
     ]
    },
    {
     "name": "stderr",
     "output_type": "stream",
     "text": [
      "Evaluating: 100%|██████████| 65/65 [00:31<00:00,  2.08it/s]\n"
     ]
    },
    {
     "name": "stdout",
     "output_type": "stream",
     "text": [
      "Loss: 0.2569\n",
      "Precision: 0.9458, Recall: 0.9461, F1-Score: 0.9460\n",
      "              precision    recall  f1-score   support\n",
      "\n",
      "           0       0.95      0.95      0.95      1110\n",
      "           1       0.94      0.94      0.94       940\n",
      "\n",
      "    accuracy                           0.95      2050\n",
      "   macro avg       0.95      0.95      0.95      2050\n",
      "weighted avg       0.95      0.95      0.95      2050\n",
      "\n",
      "[6, 4]\n"
     ]
    },
    {
     "name": "stderr",
     "output_type": "stream",
     "text": [
      "Evaluating: 100%|██████████| 69/69 [00:37<00:00,  1.83it/s]\n"
     ]
    },
    {
     "name": "stdout",
     "output_type": "stream",
     "text": [
      "Loss: 0.2829\n",
      "Precision: 0.9446, Recall: 0.9460, F1-Score: 0.9453\n",
      "              precision    recall  f1-score   support\n",
      "\n",
      "           0       0.96      0.95      0.95      1260\n",
      "           1       0.93      0.94      0.94       940\n",
      "\n",
      "    accuracy                           0.95      2200\n",
      "   macro avg       0.94      0.95      0.95      2200\n",
      "weighted avg       0.95      0.95      0.95      2200\n",
      "\n",
      "[6, 5]\n"
     ]
    },
    {
     "name": "stderr",
     "output_type": "stream",
     "text": [
      "Evaluating: 100%|██████████| 57/57 [00:30<00:00,  1.84it/s]\n"
     ]
    },
    {
     "name": "stdout",
     "output_type": "stream",
     "text": [
      "Loss: 0.7624\n",
      "Precision: 0.5713, Recall: 0.5200, F1-Score: 0.4214\n",
      "              precision    recall  f1-score   support\n",
      "\n",
      "           0       0.62      0.10      0.17       882\n",
      "           1       0.53      0.94      0.68       940\n",
      "\n",
      "    accuracy                           0.53      1822\n",
      "   macro avg       0.57      0.52      0.42      1822\n",
      "weighted avg       0.57      0.53      0.43      1822\n",
      "\n",
      "[6, 7]\n"
     ]
    },
    {
     "name": "stderr",
     "output_type": "stream",
     "text": [
      "Evaluating: 100%|██████████| 45/45 [00:24<00:00,  1.87it/s]\n"
     ]
    },
    {
     "name": "stdout",
     "output_type": "stream",
     "text": [
      "Loss: 0.1931\n",
      "Precision: 0.9214, Recall: 0.9253, F1-Score: 0.9233\n",
      "              precision    recall  f1-score   support\n",
      "\n",
      "           0       0.89      0.91      0.90       473\n",
      "           1       0.95      0.94      0.95       940\n",
      "\n",
      "    accuracy                           0.93      1413\n",
      "   macro avg       0.92      0.93      0.92      1413\n",
      "weighted avg       0.93      0.93      0.93      1413\n",
      "\n",
      "[6, 8]\n"
     ]
    },
    {
     "name": "stderr",
     "output_type": "stream",
     "text": [
      "Evaluating: 100%|██████████| 53/53 [00:30<00:00,  1.75it/s]\n"
     ]
    },
    {
     "name": "stdout",
     "output_type": "stream",
     "text": [
      "Loss: 0.4196\n",
      "Precision: 0.8167, Recall: 0.7647, F1-Score: 0.7688\n",
      "              precision    recall  f1-score   support\n",
      "\n",
      "           0       0.89      0.59      0.71       746\n",
      "           1       0.74      0.94      0.83       940\n",
      "\n",
      "    accuracy                           0.79      1686\n",
      "   macro avg       0.82      0.76      0.77      1686\n",
      "weighted avg       0.81      0.79      0.78      1686\n",
      "\n",
      "[6, 9]\n"
     ]
    },
    {
     "name": "stderr",
     "output_type": "stream",
     "text": [
      "Evaluating: 100%|██████████| 51/51 [00:25<00:00,  1.98it/s]\n"
     ]
    },
    {
     "name": "stdout",
     "output_type": "stream",
     "text": [
      "Loss: 0.1841\n",
      "Precision: 0.9493, Recall: 0.9537, F1-Score: 0.9512\n",
      "              precision    recall  f1-score   support\n",
      "\n",
      "           0       0.93      0.96      0.94       689\n",
      "           1       0.97      0.94      0.96       940\n",
      "\n",
      "    accuracy                           0.95      1629\n",
      "   macro avg       0.95      0.95      0.95      1629\n",
      "weighted avg       0.95      0.95      0.95      1629\n",
      "\n",
      "[6, 10]\n"
     ]
    },
    {
     "name": "stderr",
     "output_type": "stream",
     "text": [
      "Evaluating: 100%|██████████| 51/51 [00:25<00:00,  1.99it/s]\n"
     ]
    },
    {
     "name": "stdout",
     "output_type": "stream",
     "text": [
      "Loss: 0.3903\n",
      "Precision: 0.8110, Recall: 0.7479, F1-Score: 0.7555\n",
      "              precision    recall  f1-score   support\n",
      "\n",
      "           0       0.87      0.55      0.68       670\n",
      "           1       0.75      0.94      0.83       940\n",
      "\n",
      "    accuracy                           0.78      1610\n",
      "   macro avg       0.81      0.75      0.76      1610\n",
      "weighted avg       0.80      0.78      0.77      1610\n",
      "\n",
      "[6, 11]\n"
     ]
    },
    {
     "name": "stderr",
     "output_type": "stream",
     "text": [
      "Evaluating: 100%|██████████| 40/40 [00:22<00:00,  1.80it/s]\n"
     ]
    },
    {
     "name": "stdout",
     "output_type": "stream",
     "text": [
      "Loss: 0.5864\n",
      "Precision: 0.4724, Recall: 0.4926, F1-Score: 0.4516\n",
      "              precision    recall  f1-score   support\n",
      "\n",
      "           0       0.20      0.04      0.07       312\n",
      "           1       0.75      0.94      0.83       940\n",
      "\n",
      "    accuracy                           0.72      1252\n",
      "   macro avg       0.47      0.49      0.45      1252\n",
      "weighted avg       0.61      0.72      0.64      1252\n",
      "\n",
      "[6, 12]\n"
     ]
    },
    {
     "name": "stderr",
     "output_type": "stream",
     "text": [
      "Evaluating: 100%|██████████| 51/51 [00:29<00:00,  1.75it/s]\n"
     ]
    },
    {
     "name": "stdout",
     "output_type": "stream",
     "text": [
      "Loss: 0.6404\n",
      "Precision: 0.5950, Recall: 0.5290, F1-Score: 0.4629\n",
      "              precision    recall  f1-score   support\n",
      "\n",
      "           0       0.59      0.11      0.19       665\n",
      "           1       0.60      0.94      0.73       940\n",
      "\n",
      "    accuracy                           0.60      1605\n",
      "   macro avg       0.60      0.53      0.46      1605\n",
      "weighted avg       0.60      0.60      0.51      1605\n",
      "\n",
      "[6, 13]\n"
     ]
    },
    {
     "name": "stderr",
     "output_type": "stream",
     "text": [
      "Evaluating: 100%|██████████| 40/40 [00:22<00:00,  1.76it/s]\n"
     ]
    },
    {
     "name": "stdout",
     "output_type": "stream",
     "text": [
      "Loss: 0.3467\n",
      "Precision: 0.7105, Recall: 0.6119, F1-Score: 0.6255\n",
      "              precision    recall  f1-score   support\n",
      "\n",
      "           0       0.62      0.28      0.39       314\n",
      "           1       0.80      0.94      0.86       940\n",
      "\n",
      "    accuracy                           0.78      1254\n",
      "   macro avg       0.71      0.61      0.63      1254\n",
      "weighted avg       0.75      0.78      0.74      1254\n",
      "\n",
      "[6, 14]\n"
     ]
    },
    {
     "name": "stderr",
     "output_type": "stream",
     "text": [
      "Evaluating: 100%|██████████| 53/53 [00:30<00:00,  1.73it/s]\n"
     ]
    },
    {
     "name": "stdout",
     "output_type": "stream",
     "text": [
      "Loss: 0.6399\n",
      "Precision: 0.5776, Recall: 0.5221, F1-Score: 0.4397\n",
      "              precision    recall  f1-score   support\n",
      "\n",
      "           0       0.59      0.10      0.17       756\n",
      "           1       0.57      0.94      0.71       940\n",
      "\n",
      "    accuracy                           0.57      1696\n",
      "   macro avg       0.58      0.52      0.44      1696\n",
      "weighted avg       0.58      0.57      0.47      1696\n",
      "\n",
      "[6, 15]\n"
     ]
    },
    {
     "name": "stderr",
     "output_type": "stream",
     "text": [
      "Evaluating: 100%|██████████| 80/80 [00:40<00:00,  1.96it/s]\n"
     ]
    },
    {
     "name": "stdout",
     "output_type": "stream",
     "text": [
      "Loss: 0.5347\n",
      "Precision: 0.6788, Recall: 0.6342, F1-Score: 0.5438\n",
      "              precision    recall  f1-score   support\n",
      "\n",
      "           0       0.91      0.32      0.48      1607\n",
      "           1       0.45      0.94      0.61       940\n",
      "\n",
      "    accuracy                           0.55      2547\n",
      "   macro avg       0.68      0.63      0.54      2547\n",
      "weighted avg       0.74      0.55      0.53      2547\n",
      "\n",
      "Directory /home/Minwoo/LESN/Decompose/DecomposeBERT/Models/Configs/pretrained/sadickam/sdg-classification-bert exists.\n",
      "Loading the model.\n",
      "Start Time:02:41:20\n",
      "#Module 7 in progress....\n",
      "origin\n"
     ]
    },
    {
     "name": "stderr",
     "output_type": "stream",
     "text": [
      "Evaluating: 100%|██████████| 400/400 [03:22<00:00,  1.98it/s]\n"
     ]
    },
    {
     "name": "stdout",
     "output_type": "stream",
     "text": [
      "Loss: 0.9480\n",
      "Precision: 0.7801, Recall: 0.7867, F1-Score: 0.7793\n",
      "              precision    recall  f1-score   support\n",
      "\n",
      "           0       0.77      0.66      0.71       797\n",
      "           1       0.84      0.72      0.78       775\n",
      "           2       0.88      0.87      0.88       795\n",
      "           3       0.87      0.83      0.85      1110\n",
      "           4       0.86      0.80      0.83      1260\n",
      "           5       0.88      0.69      0.77       882\n",
      "           6       0.85      0.80      0.83       940\n",
      "           7       0.49      0.61      0.54       473\n",
      "           8       0.66      0.85      0.74       746\n",
      "           9       0.62      0.73      0.67       689\n",
      "          10       0.75      0.79      0.77       670\n",
      "          11       0.62      0.81      0.70       312\n",
      "          12       0.73      0.81      0.77       665\n",
      "          13       0.83      0.85      0.84       314\n",
      "          14       0.85      0.78      0.81       756\n",
      "          15       0.97      0.98      0.97      1607\n",
      "\n",
      "    accuracy                           0.80     12791\n",
      "   macro avg       0.78      0.79      0.78     12791\n",
      "weighted avg       0.81      0.80      0.80     12791\n",
      "\n",
      "Start Positive CI sparse\n",
      "Start Positive CI after sparse\n",
      "Start Negative TI\n",
      "dead node \n",
      "[0, 9, 10, 15]\n",
      "active node \n",
      "[0, 7, 8, 9, 10, 15]\n",
      "weight factor \n",
      "[16, 0, 0, 0, 0, 0, 0, 0, 0, 16, 15, 0, 0, 0, 0, 16]\n",
      "weight factor \n",
      "[16, 0, 0, 0, 0, 0, 0, 15, 11, 16, 15, 0, 0, 0, 0, 16]\n",
      "[7, 0]\n"
     ]
    },
    {
     "name": "stderr",
     "output_type": "stream",
     "text": [
      "Evaluating: 100%|██████████| 40/40 [00:17<00:00,  2.34it/s]\n"
     ]
    },
    {
     "name": "stdout",
     "output_type": "stream",
     "text": [
      "Loss: 0.4971\n",
      "Precision: 0.7970, Recall: 0.8177, F1-Score: 0.7942\n",
      "              precision    recall  f1-score   support\n",
      "\n",
      "           0       0.92      0.74      0.82       797\n",
      "           1       0.67      0.90      0.77       473\n",
      "\n",
      "    accuracy                           0.80      1270\n",
      "   macro avg       0.80      0.82      0.79      1270\n",
      "weighted avg       0.83      0.80      0.80      1270\n",
      "\n",
      "[7, 1]\n"
     ]
    },
    {
     "name": "stderr",
     "output_type": "stream",
     "text": [
      "Evaluating: 100%|██████████| 39/39 [00:25<00:00,  1.55it/s]\n"
     ]
    },
    {
     "name": "stdout",
     "output_type": "stream",
     "text": [
      "Loss: 0.5858\n",
      "Precision: 0.7576, Recall: 0.7695, F1-Score: 0.7379\n",
      "              precision    recall  f1-score   support\n",
      "\n",
      "           0       0.91      0.64      0.75       775\n",
      "           1       0.60      0.90      0.72       473\n",
      "\n",
      "    accuracy                           0.74      1248\n",
      "   macro avg       0.76      0.77      0.74      1248\n",
      "weighted avg       0.79      0.74      0.74      1248\n",
      "\n",
      "[7, 2]\n"
     ]
    },
    {
     "name": "stderr",
     "output_type": "stream",
     "text": [
      "Evaluating: 100%|██████████| 40/40 [00:20<00:00,  1.91it/s]\n"
     ]
    },
    {
     "name": "stdout",
     "output_type": "stream",
     "text": [
      "Loss: 0.3638\n",
      "Precision: 0.9058, Recall: 0.9098, F1-Score: 0.9077\n",
      "              precision    recall  f1-score   support\n",
      "\n",
      "           0       0.94      0.92      0.93       795\n",
      "           1       0.87      0.90      0.89       473\n",
      "\n",
      "    accuracy                           0.91      1268\n",
      "   macro avg       0.91      0.91      0.91      1268\n",
      "weighted avg       0.91      0.91      0.91      1268\n",
      "\n",
      "[7, 3]\n"
     ]
    },
    {
     "name": "stderr",
     "output_type": "stream",
     "text": [
      "Evaluating: 100%|██████████| 50/50 [00:23<00:00,  2.12it/s]\n"
     ]
    },
    {
     "name": "stdout",
     "output_type": "stream",
     "text": [
      "Loss: 0.6965\n",
      "Precision: 0.7140, Recall: 0.7536, F1-Score: 0.6881\n",
      "              precision    recall  f1-score   support\n",
      "\n",
      "           0       0.93      0.61      0.74      1110\n",
      "           1       0.50      0.90      0.64       473\n",
      "\n",
      "    accuracy                           0.70      1583\n",
      "   macro avg       0.71      0.75      0.69      1583\n",
      "weighted avg       0.80      0.70      0.71      1583\n",
      "\n",
      "[7, 4]\n"
     ]
    },
    {
     "name": "stderr",
     "output_type": "stream",
     "text": [
      "Evaluating: 100%|██████████| 55/55 [00:28<00:00,  1.95it/s]\n"
     ]
    },
    {
     "name": "stdout",
     "output_type": "stream",
     "text": [
      "Loss: 0.7823\n",
      "Precision: 0.5624, Recall: 0.5438, F1-Score: 0.3768\n",
      "              precision    recall  f1-score   support\n",
      "\n",
      "           0       0.83      0.19      0.31      1260\n",
      "           1       0.29      0.90      0.44       473\n",
      "\n",
      "    accuracy                           0.38      1733\n",
      "   macro avg       0.56      0.54      0.38      1733\n",
      "weighted avg       0.68      0.38      0.35      1733\n",
      "\n",
      "[7, 5]\n"
     ]
    },
    {
     "name": "stderr",
     "output_type": "stream",
     "text": [
      "Evaluating: 100%|██████████| 43/43 [00:21<00:00,  1.96it/s]\n"
     ]
    },
    {
     "name": "stdout",
     "output_type": "stream",
     "text": [
      "Loss: 0.3720\n",
      "Precision: 0.8751, Recall: 0.8915, F1-Score: 0.8818\n",
      "              precision    recall  f1-score   support\n",
      "\n",
      "           0       0.94      0.89      0.91       882\n",
      "           1       0.81      0.90      0.85       473\n",
      "\n",
      "    accuracy                           0.89      1355\n",
      "   macro avg       0.88      0.89      0.88      1355\n",
      "weighted avg       0.90      0.89      0.89      1355\n",
      "\n",
      "[7, 6]\n"
     ]
    },
    {
     "name": "stderr",
     "output_type": "stream",
     "text": [
      "Evaluating: 100%|██████████| 45/45 [00:22<00:00,  1.96it/s]\n"
     ]
    },
    {
     "name": "stdout",
     "output_type": "stream",
     "text": [
      "Loss: 0.5918\n",
      "Precision: 0.7690, Recall: 0.8019, F1-Score: 0.7638\n",
      "              precision    recall  f1-score   support\n",
      "\n",
      "           0       0.93      0.71      0.80       940\n",
      "           1       0.61      0.90      0.72       473\n",
      "\n",
      "    accuracy                           0.77      1413\n",
      "   macro avg       0.77      0.80      0.76      1413\n",
      "weighted avg       0.82      0.77      0.78      1413\n",
      "\n",
      "[7, 8]\n"
     ]
    },
    {
     "name": "stderr",
     "output_type": "stream",
     "text": [
      "Evaluating: 100%|██████████| 39/39 [00:19<00:00,  2.00it/s]\n"
     ]
    },
    {
     "name": "stdout",
     "output_type": "stream",
     "text": [
      "Loss: 1.6758\n",
      "Precision: 0.3127, Recall: 0.4596, F1-Score: 0.2817\n",
      "              precision    recall  f1-score   support\n",
      "\n",
      "           0       0.26      0.02      0.04       746\n",
      "           1       0.37      0.90      0.52       473\n",
      "\n",
      "    accuracy                           0.36      1219\n",
      "   macro avg       0.31      0.46      0.28      1219\n",
      "weighted avg       0.30      0.36      0.23      1219\n",
      "\n",
      "[7, 9]\n"
     ]
    },
    {
     "name": "stderr",
     "output_type": "stream",
     "text": [
      "Evaluating: 100%|██████████| 37/37 [00:19<00:00,  1.89it/s]\n"
     ]
    },
    {
     "name": "stdout",
     "output_type": "stream",
     "text": [
      "Loss: 0.6810\n",
      "Precision: 0.7030, Recall: 0.6833, F1-Score: 0.6411\n",
      "              precision    recall  f1-score   support\n",
      "\n",
      "           0       0.87      0.47      0.61       689\n",
      "           1       0.54      0.90      0.67       473\n",
      "\n",
      "    accuracy                           0.64      1162\n",
      "   macro avg       0.70      0.68      0.64      1162\n",
      "weighted avg       0.73      0.64      0.64      1162\n",
      "\n",
      "[7, 10]\n"
     ]
    },
    {
     "name": "stderr",
     "output_type": "stream",
     "text": [
      "Evaluating: 100%|██████████| 36/36 [00:19<00:00,  1.87it/s]\n"
     ]
    },
    {
     "name": "stdout",
     "output_type": "stream",
     "text": [
      "Loss: 0.5588\n",
      "Precision: 0.7617, Recall: 0.7609, F1-Score: 0.7375\n",
      "              precision    recall  f1-score   support\n",
      "\n",
      "           0       0.90      0.63      0.74       670\n",
      "           1       0.63      0.90      0.74       473\n",
      "\n",
      "    accuracy                           0.74      1143\n",
      "   macro avg       0.76      0.76      0.74      1143\n",
      "weighted avg       0.78      0.74      0.74      1143\n",
      "\n",
      "[7, 11]\n"
     ]
    },
    {
     "name": "stderr",
     "output_type": "stream",
     "text": [
      "Evaluating: 100%|██████████| 25/25 [00:11<00:00,  2.14it/s]\n"
     ]
    },
    {
     "name": "stdout",
     "output_type": "stream",
     "text": [
      "Loss: 0.4784\n",
      "Precision: 0.8175, Recall: 0.7976, F1-Score: 0.8044\n",
      "              precision    recall  f1-score   support\n",
      "\n",
      "           0       0.82      0.70      0.75       312\n",
      "           1       0.82      0.90      0.86       473\n",
      "\n",
      "    accuracy                           0.82       785\n",
      "   macro avg       0.82      0.80      0.80       785\n",
      "weighted avg       0.82      0.82      0.81       785\n",
      "\n",
      "[7, 12]\n"
     ]
    },
    {
     "name": "stderr",
     "output_type": "stream",
     "text": [
      "Evaluating: 100%|██████████| 36/36 [00:19<00:00,  1.89it/s]\n"
     ]
    },
    {
     "name": "stdout",
     "output_type": "stream",
     "text": [
      "Loss: 0.5143\n",
      "Precision: 0.8266, Recall: 0.8362, F1-Score: 0.8249\n",
      "              precision    recall  f1-score   support\n",
      "\n",
      "           0       0.91      0.78      0.84       665\n",
      "           1       0.74      0.90      0.81       473\n",
      "\n",
      "    accuracy                           0.83      1138\n",
      "   macro avg       0.83      0.84      0.82      1138\n",
      "weighted avg       0.84      0.83      0.83      1138\n",
      "\n",
      "[7, 13]\n"
     ]
    },
    {
     "name": "stderr",
     "output_type": "stream",
     "text": [
      "Evaluating: 100%|██████████| 25/25 [00:13<00:00,  1.87it/s]\n"
     ]
    },
    {
     "name": "stdout",
     "output_type": "stream",
     "text": [
      "Loss: 0.4575\n",
      "Precision: 0.8114, Recall: 0.7890, F1-Score: 0.7962\n",
      "              precision    recall  f1-score   support\n",
      "\n",
      "           0       0.81      0.68      0.74       314\n",
      "           1       0.81      0.90      0.85       473\n",
      "\n",
      "    accuracy                           0.81       787\n",
      "   macro avg       0.81      0.79      0.80       787\n",
      "weighted avg       0.81      0.81      0.81       787\n",
      "\n",
      "[7, 14]\n"
     ]
    },
    {
     "name": "stderr",
     "output_type": "stream",
     "text": [
      "Evaluating: 100%|██████████| 39/39 [00:18<00:00,  2.07it/s]\n"
     ]
    },
    {
     "name": "stdout",
     "output_type": "stream",
     "text": [
      "Loss: 0.3695\n",
      "Precision: 0.9051, Recall: 0.9085, F1-Score: 0.9067\n",
      "              precision    recall  f1-score   support\n",
      "\n",
      "           0       0.93      0.92      0.93       756\n",
      "           1       0.88      0.90      0.89       473\n",
      "\n",
      "    accuracy                           0.91      1229\n",
      "   macro avg       0.91      0.91      0.91      1229\n",
      "weighted avg       0.91      0.91      0.91      1229\n",
      "\n",
      "[7, 15]\n"
     ]
    },
    {
     "name": "stderr",
     "output_type": "stream",
     "text": [
      "Evaluating: 100%|██████████| 65/65 [00:33<00:00,  1.93it/s]\n"
     ]
    },
    {
     "name": "stdout",
     "output_type": "stream",
     "text": [
      "Loss: 0.2931\n",
      "Precision: 0.9582, Recall: 0.9407, F1-Score: 0.9491\n",
      "              precision    recall  f1-score   support\n",
      "\n",
      "           0       0.97      0.99      0.98      1607\n",
      "           1       0.95      0.90      0.92       473\n",
      "\n",
      "    accuracy                           0.96      2080\n",
      "   macro avg       0.96      0.94      0.95      2080\n",
      "weighted avg       0.96      0.96      0.96      2080\n",
      "\n",
      "Directory /home/Minwoo/LESN/Decompose/DecomposeBERT/Models/Configs/pretrained/sadickam/sdg-classification-bert exists.\n",
      "Loading the model.\n",
      "Start Time:02:50:34\n",
      "#Module 8 in progress....\n",
      "origin\n"
     ]
    },
    {
     "name": "stderr",
     "output_type": "stream",
     "text": [
      "Evaluating: 100%|██████████| 400/400 [03:25<00:00,  1.95it/s]\n"
     ]
    },
    {
     "name": "stdout",
     "output_type": "stream",
     "text": [
      "Loss: 0.9480\n",
      "Precision: 0.7801, Recall: 0.7867, F1-Score: 0.7793\n",
      "              precision    recall  f1-score   support\n",
      "\n",
      "           0       0.77      0.66      0.71       797\n",
      "           1       0.84      0.72      0.78       775\n",
      "           2       0.88      0.87      0.88       795\n",
      "           3       0.87      0.83      0.85      1110\n",
      "           4       0.86      0.80      0.83      1260\n",
      "           5       0.88      0.69      0.77       882\n",
      "           6       0.85      0.80      0.83       940\n",
      "           7       0.49      0.61      0.54       473\n",
      "           8       0.66      0.85      0.74       746\n",
      "           9       0.62      0.73      0.67       689\n",
      "          10       0.75      0.79      0.77       670\n",
      "          11       0.62      0.81      0.70       312\n",
      "          12       0.73      0.81      0.77       665\n",
      "          13       0.83      0.85      0.84       314\n",
      "          14       0.85      0.78      0.81       756\n",
      "          15       0.97      0.98      0.97      1607\n",
      "\n",
      "    accuracy                           0.80     12791\n",
      "   macro avg       0.78      0.79      0.78     12791\n",
      "weighted avg       0.81      0.80      0.80     12791\n",
      "\n",
      "Start Positive CI sparse\n",
      "Start Positive CI after sparse\n",
      "Start Negative TI\n",
      "dead node \n",
      "[0, 2, 7, 9, 10, 15]\n",
      "active node \n",
      "[0, 7, 8, 9, 10, 12, 15]\n",
      "weight factor \n",
      "[16, 0, 11, 0, 0, 0, 0, 12, 0, 16, 16, 0, 0, 0, 0, 16]\n",
      "weight factor \n",
      "[16, 0, 0, 0, 0, 0, 0, 10, 16, 16, 16, 0, 10, 0, 0, 16]\n",
      "[8, 0]\n"
     ]
    },
    {
     "name": "stderr",
     "output_type": "stream",
     "text": [
      "Evaluating: 100%|██████████| 49/49 [00:21<00:00,  2.32it/s]\n"
     ]
    },
    {
     "name": "stdout",
     "output_type": "stream",
     "text": [
      "Loss: 0.2745\n",
      "Precision: 0.9350, Recall: 0.9335, F1-Score: 0.9319\n",
      "              precision    recall  f1-score   support\n",
      "\n",
      "           0       0.98      0.89      0.93       797\n",
      "           1       0.89      0.98      0.93       746\n",
      "\n",
      "    accuracy                           0.93      1543\n",
      "   macro avg       0.93      0.93      0.93      1543\n",
      "weighted avg       0.94      0.93      0.93      1543\n",
      "\n",
      "[8, 1]\n"
     ]
    },
    {
     "name": "stderr",
     "output_type": "stream",
     "text": [
      "Evaluating: 100%|██████████| 48/48 [00:23<00:00,  2.04it/s]\n"
     ]
    },
    {
     "name": "stdout",
     "output_type": "stream",
     "text": [
      "Loss: 0.4426\n",
      "Precision: 0.8565, Recall: 0.8242, F1-Score: 0.8175\n",
      "              precision    recall  f1-score   support\n",
      "\n",
      "           0       0.97      0.67      0.79       775\n",
      "           1       0.74      0.98      0.84       746\n",
      "\n",
      "    accuracy                           0.82      1521\n",
      "   macro avg       0.86      0.82      0.82      1521\n",
      "weighted avg       0.86      0.82      0.82      1521\n",
      "\n",
      "[8, 2]\n"
     ]
    },
    {
     "name": "stderr",
     "output_type": "stream",
     "text": [
      "Evaluating: 100%|██████████| 49/49 [00:23<00:00,  2.08it/s]\n"
     ]
    },
    {
     "name": "stdout",
     "output_type": "stream",
     "text": [
      "Loss: 0.1223\n",
      "Precision: 0.9713, Recall: 0.9717, F1-Score: 0.9714\n",
      "              precision    recall  f1-score   support\n",
      "\n",
      "           0       0.98      0.96      0.97       795\n",
      "           1       0.96      0.98      0.97       746\n",
      "\n",
      "    accuracy                           0.97      1541\n",
      "   macro avg       0.97      0.97      0.97      1541\n",
      "weighted avg       0.97      0.97      0.97      1541\n",
      "\n",
      "[8, 3]\n"
     ]
    },
    {
     "name": "stderr",
     "output_type": "stream",
     "text": [
      "Evaluating: 100%|██████████| 58/58 [00:33<00:00,  1.73it/s]\n"
     ]
    },
    {
     "name": "stdout",
     "output_type": "stream",
     "text": [
      "Loss: 0.5088\n",
      "Precision: 0.7960, Recall: 0.7825, F1-Score: 0.7430\n",
      "              precision    recall  f1-score   support\n",
      "\n",
      "           0       0.98      0.58      0.73      1110\n",
      "           1       0.61      0.98      0.75       746\n",
      "\n",
      "    accuracy                           0.74      1856\n",
      "   macro avg       0.80      0.78      0.74      1856\n",
      "weighted avg       0.83      0.74      0.74      1856\n",
      "\n",
      "[8, 4]\n"
     ]
    },
    {
     "name": "stderr",
     "output_type": "stream",
     "text": [
      "Evaluating: 100%|██████████| 63/63 [00:31<00:00,  1.98it/s]\n"
     ]
    },
    {
     "name": "stdout",
     "output_type": "stream",
     "text": [
      "Loss: 0.4007\n",
      "Precision: 0.8528, Recall: 0.8775, F1-Score: 0.8487\n",
      "              precision    recall  f1-score   support\n",
      "\n",
      "           0       0.99      0.77      0.87      1260\n",
      "           1       0.72      0.98      0.83       746\n",
      "\n",
      "    accuracy                           0.85      2006\n",
      "   macro avg       0.85      0.88      0.85      2006\n",
      "weighted avg       0.89      0.85      0.85      2006\n",
      "\n",
      "[8, 5]\n"
     ]
    },
    {
     "name": "stderr",
     "output_type": "stream",
     "text": [
      "Evaluating: 100%|██████████| 51/51 [00:25<00:00,  1.99it/s]\n"
     ]
    },
    {
     "name": "stdout",
     "output_type": "stream",
     "text": [
      "Loss: 0.4113\n",
      "Precision: 0.8762, Recall: 0.8687, F1-Score: 0.8591\n",
      "              precision    recall  f1-score   support\n",
      "\n",
      "           0       0.98      0.76      0.85       882\n",
      "           1       0.77      0.98      0.86       746\n",
      "\n",
      "    accuracy                           0.86      1628\n",
      "   macro avg       0.88      0.87      0.86      1628\n",
      "weighted avg       0.88      0.86      0.86      1628\n",
      "\n",
      "[8, 6]\n"
     ]
    },
    {
     "name": "stderr",
     "output_type": "stream",
     "text": [
      "Evaluating: 100%|██████████| 53/53 [00:26<00:00,  1.98it/s]\n"
     ]
    },
    {
     "name": "stdout",
     "output_type": "stream",
     "text": [
      "Loss: 0.7932\n",
      "Precision: 0.6181, Recall: 0.5177, F1-Score: 0.3600\n",
      "              precision    recall  f1-score   support\n",
      "\n",
      "           0       0.78      0.05      0.10       940\n",
      "           1       0.45      0.98      0.62       746\n",
      "\n",
      "    accuracy                           0.46      1686\n",
      "   macro avg       0.62      0.52      0.36      1686\n",
      "weighted avg       0.64      0.46      0.33      1686\n",
      "\n",
      "[8, 7]\n"
     ]
    },
    {
     "name": "stderr",
     "output_type": "stream",
     "text": [
      "Evaluating: 100%|██████████| 39/39 [00:24<00:00,  1.62it/s]\n"
     ]
    },
    {
     "name": "stdout",
     "output_type": "stream",
     "text": [
      "Loss: 0.3521\n",
      "Precision: 0.8910, Recall: 0.8257, F1-Score: 0.8423\n",
      "              precision    recall  f1-score   support\n",
      "\n",
      "           0       0.96      0.67      0.79       473\n",
      "           1       0.82      0.98      0.90       746\n",
      "\n",
      "    accuracy                           0.86      1219\n",
      "   macro avg       0.89      0.83      0.84      1219\n",
      "weighted avg       0.88      0.86      0.85      1219\n",
      "\n",
      "[8, 9]\n"
     ]
    },
    {
     "name": "stderr",
     "output_type": "stream",
     "text": [
      "Evaluating: 100%|██████████| 45/45 [00:24<00:00,  1.82it/s]\n"
     ]
    },
    {
     "name": "stdout",
     "output_type": "stream",
     "text": [
      "Loss: 0.3605\n",
      "Precision: 0.9023, Recall: 0.8818, F1-Score: 0.8836\n",
      "              precision    recall  f1-score   support\n",
      "\n",
      "           0       0.97      0.78      0.87       689\n",
      "           1       0.83      0.98      0.90       746\n",
      "\n",
      "    accuracy                           0.89      1435\n",
      "   macro avg       0.90      0.88      0.88      1435\n",
      "weighted avg       0.90      0.89      0.88      1435\n",
      "\n",
      "[8, 10]\n"
     ]
    },
    {
     "name": "stderr",
     "output_type": "stream",
     "text": [
      "Evaluating: 100%|██████████| 45/45 [00:24<00:00,  1.84it/s]\n"
     ]
    },
    {
     "name": "stdout",
     "output_type": "stream",
     "text": [
      "Loss: 0.4627\n",
      "Precision: 0.8102, Recall: 0.7152, F1-Score: 0.7019\n",
      "              precision    recall  f1-score   support\n",
      "\n",
      "           0       0.96      0.45      0.61       670\n",
      "           1       0.66      0.98      0.79       746\n",
      "\n",
      "    accuracy                           0.73      1416\n",
      "   macro avg       0.81      0.72      0.70      1416\n",
      "weighted avg       0.80      0.73      0.71      1416\n",
      "\n",
      "[8, 11]\n"
     ]
    },
    {
     "name": "stderr",
     "output_type": "stream",
     "text": [
      "Evaluating: 100%|██████████| 34/34 [00:18<00:00,  1.87it/s]\n"
     ]
    },
    {
     "name": "stdout",
     "output_type": "stream",
     "text": [
      "Loss: 0.3465\n",
      "Precision: 0.8731, Recall: 0.7454, F1-Score: 0.7766\n",
      "              precision    recall  f1-score   support\n",
      "\n",
      "           0       0.92      0.51      0.66       312\n",
      "           1       0.83      0.98      0.90       746\n",
      "\n",
      "    accuracy                           0.84      1058\n",
      "   macro avg       0.87      0.75      0.78      1058\n",
      "weighted avg       0.85      0.84      0.83      1058\n",
      "\n",
      "[8, 12]\n"
     ]
    },
    {
     "name": "stderr",
     "output_type": "stream",
     "text": [
      "Evaluating: 100%|██████████| 45/45 [00:21<00:00,  2.08it/s]\n"
     ]
    },
    {
     "name": "stdout",
     "output_type": "stream",
     "text": [
      "Loss: 1.0413\n",
      "Precision: 0.5317, Recall: 0.5026, F1-Score: 0.3672\n",
      "              precision    recall  f1-score   support\n",
      "\n",
      "           0       0.53      0.02      0.05       665\n",
      "           1       0.53      0.98      0.69       746\n",
      "\n",
      "    accuracy                           0.53      1411\n",
      "   macro avg       0.53      0.50      0.37      1411\n",
      "weighted avg       0.53      0.53      0.39      1411\n",
      "\n",
      "[8, 13]\n"
     ]
    },
    {
     "name": "stderr",
     "output_type": "stream",
     "text": [
      "Evaluating: 100%|██████████| 34/34 [00:14<00:00,  2.30it/s]\n"
     ]
    },
    {
     "name": "stdout",
     "output_type": "stream",
     "text": [
      "Loss: 0.3518\n",
      "Precision: 0.7749, Recall: 0.5846, F1-Score: 0.5748\n",
      "              precision    recall  f1-score   support\n",
      "\n",
      "           0       0.81      0.19      0.30       314\n",
      "           1       0.74      0.98      0.84       746\n",
      "\n",
      "    accuracy                           0.75      1060\n",
      "   macro avg       0.77      0.58      0.57      1060\n",
      "weighted avg       0.76      0.75      0.68      1060\n",
      "\n",
      "[8, 14]\n"
     ]
    },
    {
     "name": "stderr",
     "output_type": "stream",
     "text": [
      "Evaluating: 100%|██████████| 47/47 [00:23<00:00,  2.01it/s]\n"
     ]
    },
    {
     "name": "stdout",
     "output_type": "stream",
     "text": [
      "Loss: 0.4175\n",
      "Precision: 0.8592, Recall: 0.8253, F1-Score: 0.8202\n",
      "              precision    recall  f1-score   support\n",
      "\n",
      "           0       0.97      0.67      0.79       756\n",
      "           1       0.75      0.98      0.85       746\n",
      "\n",
      "    accuracy                           0.82      1502\n",
      "   macro avg       0.86      0.83      0.82      1502\n",
      "weighted avg       0.86      0.82      0.82      1502\n",
      "\n",
      "[8, 15]\n"
     ]
    },
    {
     "name": "stderr",
     "output_type": "stream",
     "text": [
      "Evaluating: 100%|██████████| 74/74 [00:36<00:00,  2.00it/s]\n"
     ]
    },
    {
     "name": "stdout",
     "output_type": "stream",
     "text": [
      "Loss: 0.4332\n",
      "Precision: 0.9032, Recall: 0.9393, F1-Score: 0.9163\n",
      "              precision    recall  f1-score   support\n",
      "\n",
      "           0       0.99      0.90      0.94      1607\n",
      "           1       0.82      0.98      0.89       746\n",
      "\n",
      "    accuracy                           0.92      2353\n",
      "   macro avg       0.90      0.94      0.92      2353\n",
      "weighted avg       0.94      0.92      0.93      2353\n",
      "\n",
      "Directory /home/Minwoo/LESN/Decompose/DecomposeBERT/Models/Configs/pretrained/sadickam/sdg-classification-bert exists.\n",
      "Loading the model.\n",
      "Start Time:03:00:49\n",
      "#Module 9 in progress....\n",
      "origin\n"
     ]
    },
    {
     "name": "stderr",
     "output_type": "stream",
     "text": [
      "Evaluating: 100%|██████████| 400/400 [03:19<00:00,  2.00it/s]\n"
     ]
    },
    {
     "name": "stdout",
     "output_type": "stream",
     "text": [
      "Loss: 0.9480\n",
      "Precision: 0.7801, Recall: 0.7867, F1-Score: 0.7793\n",
      "              precision    recall  f1-score   support\n",
      "\n",
      "           0       0.77      0.66      0.71       797\n",
      "           1       0.84      0.72      0.78       775\n",
      "           2       0.88      0.87      0.88       795\n",
      "           3       0.87      0.83      0.85      1110\n",
      "           4       0.86      0.80      0.83      1260\n",
      "           5       0.88      0.69      0.77       882\n",
      "           6       0.85      0.80      0.83       940\n",
      "           7       0.49      0.61      0.54       473\n",
      "           8       0.66      0.85      0.74       746\n",
      "           9       0.62      0.73      0.67       689\n",
      "          10       0.75      0.79      0.77       670\n",
      "          11       0.62      0.81      0.70       312\n",
      "          12       0.73      0.81      0.77       665\n",
      "          13       0.83      0.85      0.84       314\n",
      "          14       0.85      0.78      0.81       756\n",
      "          15       0.97      0.98      0.97      1607\n",
      "\n",
      "    accuracy                           0.80     12791\n",
      "   macro avg       0.78      0.79      0.78     12791\n",
      "weighted avg       0.81      0.80      0.80     12791\n",
      "\n",
      "Start Positive CI sparse\n",
      "Start Positive CI after sparse\n",
      "Start Negative TI\n",
      "dead node \n",
      "[0, 1, 7, 8, 10, 12, 15]\n",
      "active node \n",
      "[0, 7, 8, 9, 10, 15]\n",
      "weight factor \n",
      "[16, 10, 0, 0, 0, 0, 0, 12, 11, 0, 12, 0, 8, 0, 0, 16]\n",
      "weight factor \n",
      "[16, 0, 0, 0, 0, 0, 0, 10, 12, 16, 16, 0, 0, 0, 0, 16]\n",
      "[9, 0]\n"
     ]
    },
    {
     "name": "stderr",
     "output_type": "stream",
     "text": [
      "Evaluating: 100%|██████████| 47/47 [00:19<00:00,  2.39it/s]\n"
     ]
    },
    {
     "name": "stdout",
     "output_type": "stream",
     "text": [
      "Loss: 1.0638\n",
      "Precision: 0.5476, Recall: 0.5092, F1-Score: 0.3687\n",
      "              precision    recall  f1-score   support\n",
      "\n",
      "           0       0.63      0.06      0.11       797\n",
      "           1       0.47      0.96      0.63       689\n",
      "\n",
      "    accuracy                           0.48      1486\n",
      "   macro avg       0.55      0.51      0.37      1486\n",
      "weighted avg       0.55      0.48      0.35      1486\n",
      "\n",
      "[9, 1]\n"
     ]
    },
    {
     "name": "stderr",
     "output_type": "stream",
     "text": [
      "Evaluating: 100%|██████████| 46/46 [00:26<00:00,  1.71it/s]\n"
     ]
    },
    {
     "name": "stdout",
     "output_type": "stream",
     "text": [
      "Loss: 0.2574\n",
      "Precision: 0.9108, Recall: 0.9113, F1-Score: 0.9085\n",
      "              precision    recall  f1-score   support\n",
      "\n",
      "           0       0.96      0.86      0.91       775\n",
      "           1       0.86      0.96      0.91       689\n",
      "\n",
      "    accuracy                           0.91      1464\n",
      "   macro avg       0.91      0.91      0.91      1464\n",
      "weighted avg       0.91      0.91      0.91      1464\n",
      "\n",
      "[9, 2]\n"
     ]
    },
    {
     "name": "stderr",
     "output_type": "stream",
     "text": [
      "Evaluating: 100%|██████████| 47/47 [00:23<00:00,  2.00it/s]\n"
     ]
    },
    {
     "name": "stdout",
     "output_type": "stream",
     "text": [
      "Loss: 0.7065\n",
      "Precision: 0.5140, Recall: 0.5023, F1-Score: 0.3553\n",
      "              precision    recall  f1-score   support\n",
      "\n",
      "           0       0.56      0.05      0.08       795\n",
      "           1       0.47      0.96      0.63       689\n",
      "\n",
      "    accuracy                           0.47      1484\n",
      "   macro avg       0.51      0.50      0.36      1484\n",
      "weighted avg       0.52      0.47      0.34      1484\n",
      "\n",
      "[9, 3]\n"
     ]
    },
    {
     "name": "stderr",
     "output_type": "stream",
     "text": [
      "Evaluating: 100%|██████████| 57/57 [00:28<00:00,  1.99it/s]\n"
     ]
    },
    {
     "name": "stdout",
     "output_type": "stream",
     "text": [
      "Loss: 0.9338\n",
      "Precision: 0.4485, Recall: 0.4932, F1-Score: 0.2977\n",
      "              precision    recall  f1-score   support\n",
      "\n",
      "           0       0.52      0.03      0.05      1110\n",
      "           1       0.38      0.96      0.54       689\n",
      "\n",
      "    accuracy                           0.38      1799\n",
      "   macro avg       0.45      0.49      0.30      1799\n",
      "weighted avg       0.46      0.38      0.24      1799\n",
      "\n",
      "[9, 4]\n"
     ]
    },
    {
     "name": "stderr",
     "output_type": "stream",
     "text": [
      "Evaluating: 100%|██████████| 61/61 [00:27<00:00,  2.21it/s]\n"
     ]
    },
    {
     "name": "stdout",
     "output_type": "stream",
     "text": [
      "Loss: 1.2373\n",
      "Precision: 0.3996, Recall: 0.4888, F1-Score: 0.2731\n",
      "              precision    recall  f1-score   support\n",
      "\n",
      "           0       0.45      0.02      0.04      1260\n",
      "           1       0.35      0.96      0.51       689\n",
      "\n",
      "    accuracy                           0.35      1949\n",
      "   macro avg       0.40      0.49      0.27      1949\n",
      "weighted avg       0.41      0.35      0.20      1949\n",
      "\n",
      "[9, 5]\n"
     ]
    },
    {
     "name": "stderr",
     "output_type": "stream",
     "text": [
      "Evaluating: 100%|██████████| 50/50 [00:22<00:00,  2.24it/s]\n"
     ]
    },
    {
     "name": "stdout",
     "output_type": "stream",
     "text": [
      "Loss: 0.3785\n",
      "Precision: 0.8875, Recall: 0.8929, F1-Score: 0.8846\n",
      "              precision    recall  f1-score   support\n",
      "\n",
      "           0       0.96      0.83      0.89       882\n",
      "           1       0.81      0.96      0.88       689\n",
      "\n",
      "    accuracy                           0.88      1571\n",
      "   macro avg       0.89      0.89      0.88      1571\n",
      "weighted avg       0.90      0.88      0.89      1571\n",
      "\n",
      "[9, 6]\n"
     ]
    },
    {
     "name": "stderr",
     "output_type": "stream",
     "text": [
      "Evaluating: 100%|██████████| 51/51 [00:25<00:00,  2.01it/s]\n"
     ]
    },
    {
     "name": "stdout",
     "output_type": "stream",
     "text": [
      "Loss: 0.3435\n",
      "Precision: 0.9147, Recall: 0.9233, F1-Score: 0.9168\n",
      "              precision    recall  f1-score   support\n",
      "\n",
      "           0       0.97      0.89      0.93       940\n",
      "           1       0.86      0.96      0.91       689\n",
      "\n",
      "    accuracy                           0.92      1629\n",
      "   macro avg       0.91      0.92      0.92      1629\n",
      "weighted avg       0.92      0.92      0.92      1629\n",
      "\n",
      "[9, 7]\n"
     ]
    },
    {
     "name": "stderr",
     "output_type": "stream",
     "text": [
      "Evaluating: 100%|██████████| 37/37 [00:16<00:00,  2.24it/s]\n"
     ]
    },
    {
     "name": "stdout",
     "output_type": "stream",
     "text": [
      "Loss: 0.8486\n",
      "Precision: 0.5440, Recall: 0.5082, F1-Score: 0.4192\n",
      "              precision    recall  f1-score   support\n",
      "\n",
      "           0       0.49      0.06      0.10       473\n",
      "           1       0.60      0.96      0.74       689\n",
      "\n",
      "    accuracy                           0.59      1162\n",
      "   macro avg       0.54      0.51      0.42      1162\n",
      "weighted avg       0.55      0.59      0.48      1162\n",
      "\n",
      "[9, 8]\n"
     ]
    },
    {
     "name": "stderr",
     "output_type": "stream",
     "text": [
      "Evaluating: 100%|██████████| 45/45 [00:21<00:00,  2.14it/s]\n"
     ]
    },
    {
     "name": "stdout",
     "output_type": "stream",
     "text": [
      "Loss: 0.5329\n",
      "Precision: 0.6987, Recall: 0.5963, F1-Score: 0.5275\n",
      "              precision    recall  f1-score   support\n",
      "\n",
      "           0       0.86      0.23      0.37       746\n",
      "           1       0.54      0.96      0.69       689\n",
      "\n",
      "    accuracy                           0.58      1435\n",
      "   macro avg       0.70      0.60      0.53      1435\n",
      "weighted avg       0.71      0.58      0.52      1435\n",
      "\n",
      "[9, 10]\n"
     ]
    },
    {
     "name": "stderr",
     "output_type": "stream",
     "text": [
      "Evaluating: 100%|██████████| 43/43 [00:21<00:00,  2.02it/s]\n"
     ]
    },
    {
     "name": "stdout",
     "output_type": "stream",
     "text": [
      "Loss: 0.6249\n",
      "Precision: 0.6633, Recall: 0.5573, F1-Score: 0.4747\n",
      "              precision    recall  f1-score   support\n",
      "\n",
      "           0       0.79      0.16      0.26       670\n",
      "           1       0.54      0.96      0.69       689\n",
      "\n",
      "    accuracy                           0.56      1359\n",
      "   macro avg       0.66      0.56      0.47      1359\n",
      "weighted avg       0.66      0.56      0.48      1359\n",
      "\n",
      "[9, 11]\n"
     ]
    },
    {
     "name": "stderr",
     "output_type": "stream",
     "text": [
      "Evaluating: 100%|██████████| 32/32 [00:15<00:00,  2.05it/s]\n"
     ]
    },
    {
     "name": "stdout",
     "output_type": "stream",
     "text": [
      "Loss: 0.2550\n",
      "Precision: 0.9223, Recall: 0.9108, F1-Score: 0.9162\n",
      "              precision    recall  f1-score   support\n",
      "\n",
      "           0       0.91      0.86      0.88       312\n",
      "           1       0.94      0.96      0.95       689\n",
      "\n",
      "    accuracy                           0.93      1001\n",
      "   macro avg       0.92      0.91      0.92      1001\n",
      "weighted avg       0.93      0.93      0.93      1001\n",
      "\n",
      "[9, 12]\n"
     ]
    },
    {
     "name": "stderr",
     "output_type": "stream",
     "text": [
      "Evaluating: 100%|██████████| 43/43 [00:21<00:00,  2.03it/s]\n"
     ]
    },
    {
     "name": "stdout",
     "output_type": "stream",
     "text": [
      "Loss: 0.1997\n",
      "Precision: 0.9403, Recall: 0.9391, F1-Score: 0.9394\n",
      "              precision    recall  f1-score   support\n",
      "\n",
      "           0       0.96      0.92      0.94       665\n",
      "           1       0.92      0.96      0.94       689\n",
      "\n",
      "    accuracy                           0.94      1354\n",
      "   macro avg       0.94      0.94      0.94      1354\n",
      "weighted avg       0.94      0.94      0.94      1354\n",
      "\n",
      "[9, 13]\n"
     ]
    },
    {
     "name": "stderr",
     "output_type": "stream",
     "text": [
      "Evaluating: 100%|██████████| 32/32 [00:15<00:00,  2.04it/s]\n"
     ]
    },
    {
     "name": "stdout",
     "output_type": "stream",
     "text": [
      "Loss: 0.2627\n",
      "Precision: 0.9334, Recall: 0.9319, F1-Score: 0.9327\n",
      "              precision    recall  f1-score   support\n",
      "\n",
      "           0       0.91      0.90      0.91       314\n",
      "           1       0.96      0.96      0.96       689\n",
      "\n",
      "    accuracy                           0.94      1003\n",
      "   macro avg       0.93      0.93      0.93      1003\n",
      "weighted avg       0.94      0.94      0.94      1003\n",
      "\n",
      "[9, 14]\n"
     ]
    },
    {
     "name": "stderr",
     "output_type": "stream",
     "text": [
      "Evaluating: 100%|██████████| 46/46 [00:20<00:00,  2.26it/s]\n"
     ]
    },
    {
     "name": "stdout",
     "output_type": "stream",
     "text": [
      "Loss: 0.3893\n",
      "Precision: 0.8865, Recall: 0.8818, F1-Score: 0.8780\n",
      "              precision    recall  f1-score   support\n",
      "\n",
      "           0       0.96      0.80      0.87       756\n",
      "           1       0.82      0.96      0.88       689\n",
      "\n",
      "    accuracy                           0.88      1445\n",
      "   macro avg       0.89      0.88      0.88      1445\n",
      "weighted avg       0.89      0.88      0.88      1445\n",
      "\n",
      "[9, 15]\n"
     ]
    },
    {
     "name": "stderr",
     "output_type": "stream",
     "text": [
      "Evaluating: 100%|██████████| 72/72 [00:36<00:00,  1.99it/s]\n"
     ]
    },
    {
     "name": "stdout",
     "output_type": "stream",
     "text": [
      "Loss: 0.8404\n",
      "Precision: 0.3051, Recall: 0.4837, F1-Score: 0.2324\n",
      "              precision    recall  f1-score   support\n",
      "\n",
      "           0       0.32      0.01      0.02      1607\n",
      "           1       0.29      0.96      0.45       689\n",
      "\n",
      "    accuracy                           0.29      2296\n",
      "   macro avg       0.31      0.48      0.23      2296\n",
      "weighted avg       0.31      0.29      0.15      2296\n",
      "\n",
      "Directory /home/Minwoo/LESN/Decompose/DecomposeBERT/Models/Configs/pretrained/sadickam/sdg-classification-bert exists.\n",
      "Loading the model.\n",
      "Start Time:03:10:26\n",
      "#Module 10 in progress....\n",
      "origin\n"
     ]
    },
    {
     "name": "stderr",
     "output_type": "stream",
     "text": [
      "Evaluating: 100%|██████████| 400/400 [02:57<00:00,  2.25it/s]\n"
     ]
    },
    {
     "name": "stdout",
     "output_type": "stream",
     "text": [
      "Loss: 0.9480\n",
      "Precision: 0.7801, Recall: 0.7867, F1-Score: 0.7793\n",
      "              precision    recall  f1-score   support\n",
      "\n",
      "           0       0.77      0.66      0.71       797\n",
      "           1       0.84      0.72      0.78       775\n",
      "           2       0.88      0.87      0.88       795\n",
      "           3       0.87      0.83      0.85      1110\n",
      "           4       0.86      0.80      0.83      1260\n",
      "           5       0.88      0.69      0.77       882\n",
      "           6       0.85      0.80      0.83       940\n",
      "           7       0.49      0.61      0.54       473\n",
      "           8       0.66      0.85      0.74       746\n",
      "           9       0.62      0.73      0.67       689\n",
      "          10       0.75      0.79      0.77       670\n",
      "          11       0.62      0.81      0.70       312\n",
      "          12       0.73      0.81      0.77       665\n",
      "          13       0.83      0.85      0.84       314\n",
      "          14       0.85      0.78      0.81       756\n",
      "          15       0.97      0.98      0.97      1607\n",
      "\n",
      "    accuracy                           0.80     12791\n",
      "   macro avg       0.78      0.79      0.78     12791\n",
      "weighted avg       0.81      0.80      0.80     12791\n",
      "\n",
      "Start Positive CI sparse\n",
      "Start Positive CI after sparse\n",
      "Start Negative TI\n",
      "dead node \n",
      "[0, 8, 9, 15]\n",
      "active node \n",
      "[0, 2, 5, 8, 9, 10, 12, 15]\n",
      "weight factor \n",
      "[16, 0, 0, 0, 0, 0, 0, 0, 12, 16, 0, 0, 0, 0, 0, 16]\n",
      "weight factor \n",
      "[16, 0, 13, 0, 0, 8, 0, 0, 16, 16, 16, 0, 11, 0, 0, 16]\n",
      "[10, 0]\n"
     ]
    },
    {
     "name": "stderr",
     "output_type": "stream",
     "text": [
      "Evaluating: 100%|██████████| 46/46 [00:18<00:00,  2.43it/s]\n"
     ]
    },
    {
     "name": "stdout",
     "output_type": "stream",
     "text": [
      "Loss: 0.2527\n",
      "Precision: 0.9117, Recall: 0.9061, F1-Score: 0.9081\n",
      "              precision    recall  f1-score   support\n",
      "\n",
      "           0       0.90      0.94      0.92       797\n",
      "           1       0.93      0.87      0.90       670\n",
      "\n",
      "    accuracy                           0.91      1467\n",
      "   macro avg       0.91      0.91      0.91      1467\n",
      "weighted avg       0.91      0.91      0.91      1467\n",
      "\n",
      "[10, 1]\n"
     ]
    },
    {
     "name": "stderr",
     "output_type": "stream",
     "text": [
      "Evaluating: 100%|██████████| 46/46 [00:21<00:00,  2.10it/s]\n"
     ]
    },
    {
     "name": "stdout",
     "output_type": "stream",
     "text": [
      "Loss: 0.4365\n",
      "Precision: 0.8151, Recall: 0.8156, F1-Score: 0.8118\n",
      "              precision    recall  f1-score   support\n",
      "\n",
      "           0       0.87      0.76      0.81       775\n",
      "           1       0.76      0.87      0.81       670\n",
      "\n",
      "    accuracy                           0.81      1445\n",
      "   macro avg       0.82      0.82      0.81      1445\n",
      "weighted avg       0.82      0.81      0.81      1445\n",
      "\n",
      "[10, 2]\n"
     ]
    },
    {
     "name": "stderr",
     "output_type": "stream",
     "text": [
      "Evaluating: 100%|██████████| 46/46 [00:21<00:00,  2.14it/s]\n"
     ]
    },
    {
     "name": "stdout",
     "output_type": "stream",
     "text": [
      "Loss: 1.1271\n",
      "Precision: 0.4237, Recall: 0.4721, F1-Score: 0.3565\n",
      "              precision    recall  f1-score   support\n",
      "\n",
      "           0       0.41      0.08      0.13       795\n",
      "           1       0.44      0.87      0.59       670\n",
      "\n",
      "    accuracy                           0.44      1465\n",
      "   macro avg       0.42      0.47      0.36      1465\n",
      "weighted avg       0.42      0.44      0.34      1465\n",
      "\n",
      "[10, 3]\n"
     ]
    },
    {
     "name": "stderr",
     "output_type": "stream",
     "text": [
      "Evaluating: 100%|██████████| 56/56 [00:25<00:00,  2.22it/s]\n"
     ]
    },
    {
     "name": "stdout",
     "output_type": "stream",
     "text": [
      "Loss: 0.3858\n",
      "Precision: 0.8840, Recall: 0.8875, F1-Score: 0.8856\n",
      "              precision    recall  f1-score   support\n",
      "\n",
      "           0       0.92      0.91      0.91      1110\n",
      "           1       0.85      0.87      0.86       670\n",
      "\n",
      "    accuracy                           0.89      1780\n",
      "   macro avg       0.88      0.89      0.89      1780\n",
      "weighted avg       0.89      0.89      0.89      1780\n",
      "\n",
      "[10, 4]\n"
     ]
    },
    {
     "name": "stderr",
     "output_type": "stream",
     "text": [
      "Evaluating: 100%|██████████| 61/61 [00:27<00:00,  2.23it/s]\n"
     ]
    },
    {
     "name": "stdout",
     "output_type": "stream",
     "text": [
      "Loss: 0.2936\n",
      "Precision: 0.8921, Recall: 0.8950, F1-Score: 0.8935\n",
      "              precision    recall  f1-score   support\n",
      "\n",
      "           0       0.93      0.92      0.93      1260\n",
      "           1       0.85      0.87      0.86       670\n",
      "\n",
      "    accuracy                           0.90      1930\n",
      "   macro avg       0.89      0.90      0.89      1930\n",
      "weighted avg       0.90      0.90      0.90      1930\n",
      "\n",
      "[10, 5]\n"
     ]
    },
    {
     "name": "stderr",
     "output_type": "stream",
     "text": [
      "Evaluating: 100%|██████████| 49/49 [00:23<00:00,  2.11it/s]\n"
     ]
    },
    {
     "name": "stdout",
     "output_type": "stream",
     "text": [
      "Loss: 0.9824\n",
      "Precision: 0.4142, Recall: 0.4695, F1-Score: 0.3410\n",
      "              precision    recall  f1-score   support\n",
      "\n",
      "           0       0.41      0.07      0.12       882\n",
      "           1       0.42      0.87      0.56       670\n",
      "\n",
      "    accuracy                           0.41      1552\n",
      "   macro avg       0.41      0.47      0.34      1552\n",
      "weighted avg       0.41      0.41      0.31      1552\n",
      "\n",
      "[10, 6]\n"
     ]
    },
    {
     "name": "stderr",
     "output_type": "stream",
     "text": [
      "Evaluating: 100%|██████████| 51/51 [00:25<00:00,  1.98it/s]\n"
     ]
    },
    {
     "name": "stdout",
     "output_type": "stream",
     "text": [
      "Loss: 0.6077\n",
      "Precision: 0.6642, Recall: 0.6407, F1-Score: 0.5966\n",
      "              precision    recall  f1-score   support\n",
      "\n",
      "           0       0.82      0.41      0.55       940\n",
      "           1       0.51      0.87      0.65       670\n",
      "\n",
      "    accuracy                           0.60      1610\n",
      "   macro avg       0.66      0.64      0.60      1610\n",
      "weighted avg       0.69      0.60      0.59      1610\n",
      "\n",
      "[10, 7]\n"
     ]
    },
    {
     "name": "stderr",
     "output_type": "stream",
     "text": [
      "Evaluating: 100%|██████████| 36/36 [00:18<00:00,  1.98it/s]\n"
     ]
    },
    {
     "name": "stdout",
     "output_type": "stream",
     "text": [
      "Loss: 0.3280\n",
      "Precision: 0.8681, Recall: 0.8741, F1-Score: 0.8704\n",
      "              precision    recall  f1-score   support\n",
      "\n",
      "           0       0.83      0.88      0.85       473\n",
      "           1       0.91      0.87      0.89       670\n",
      "\n",
      "    accuracy                           0.87      1143\n",
      "   macro avg       0.87      0.87      0.87      1143\n",
      "weighted avg       0.88      0.87      0.87      1143\n",
      "\n",
      "[10, 8]\n"
     ]
    },
    {
     "name": "stderr",
     "output_type": "stream",
     "text": [
      "Evaluating: 100%|██████████| 45/45 [00:22<00:00,  2.01it/s]\n"
     ]
    },
    {
     "name": "stdout",
     "output_type": "stream",
     "text": [
      "Loss: 0.4840\n",
      "Precision: 0.7895, Recall: 0.7849, F1-Score: 0.7800\n",
      "              precision    recall  f1-score   support\n",
      "\n",
      "           0       0.86      0.70      0.77       746\n",
      "           1       0.72      0.87      0.79       670\n",
      "\n",
      "    accuracy                           0.78      1416\n",
      "   macro avg       0.79      0.78      0.78      1416\n",
      "weighted avg       0.79      0.78      0.78      1416\n",
      "\n",
      "[10, 9]\n"
     ]
    },
    {
     "name": "stderr",
     "output_type": "stream",
     "text": [
      "Evaluating: 100%|██████████| 43/43 [00:19<00:00,  2.24it/s]\n"
     ]
    },
    {
     "name": "stdout",
     "output_type": "stream",
     "text": [
      "Loss: 0.2319\n",
      "Precision: 0.9200, Recall: 0.9155, F1-Score: 0.9158\n",
      "              precision    recall  f1-score   support\n",
      "\n",
      "           0       0.88      0.96      0.92       689\n",
      "           1       0.96      0.87      0.91       670\n",
      "\n",
      "    accuracy                           0.92      1359\n",
      "   macro avg       0.92      0.92      0.92      1359\n",
      "weighted avg       0.92      0.92      0.92      1359\n",
      "\n",
      "[10, 11]\n"
     ]
    },
    {
     "name": "stderr",
     "output_type": "stream",
     "text": [
      "Evaluating: 100%|██████████| 31/31 [00:13<00:00,  2.23it/s]\n"
     ]
    },
    {
     "name": "stdout",
     "output_type": "stream",
     "text": [
      "Loss: 0.4978\n",
      "Precision: 0.5996, Recall: 0.5657, F1-Score: 0.5628\n",
      "              precision    recall  f1-score   support\n",
      "\n",
      "           0       0.48      0.26      0.34       312\n",
      "           1       0.72      0.87      0.79       670\n",
      "\n",
      "    accuracy                           0.68       982\n",
      "   macro avg       0.60      0.57      0.56       982\n",
      "weighted avg       0.64      0.68      0.64       982\n",
      "\n",
      "[10, 12]\n"
     ]
    },
    {
     "name": "stderr",
     "output_type": "stream",
     "text": [
      "Evaluating: 100%|██████████| 42/42 [00:18<00:00,  2.21it/s]\n"
     ]
    },
    {
     "name": "stdout",
     "output_type": "stream",
     "text": [
      "Loss: 0.9630\n",
      "Precision: 0.4192, Recall: 0.4704, F1-Score: 0.3713\n",
      "              precision    recall  f1-score   support\n",
      "\n",
      "           0       0.35      0.07      0.12       665\n",
      "           1       0.49      0.87      0.62       670\n",
      "\n",
      "    accuracy                           0.47      1335\n",
      "   macro avg       0.42      0.47      0.37      1335\n",
      "weighted avg       0.42      0.47      0.37      1335\n",
      "\n",
      "[10, 13]\n"
     ]
    },
    {
     "name": "stderr",
     "output_type": "stream",
     "text": [
      "Evaluating: 100%|██████████| 31/31 [00:14<00:00,  2.21it/s]\n"
     ]
    },
    {
     "name": "stdout",
     "output_type": "stream",
     "text": [
      "Loss: 0.3599\n",
      "Precision: 0.8463, Recall: 0.8706, F1-Score: 0.8558\n",
      "              precision    recall  f1-score   support\n",
      "\n",
      "           0       0.76      0.87      0.81       314\n",
      "           1       0.94      0.87      0.90       670\n",
      "\n",
      "    accuracy                           0.87       984\n",
      "   macro avg       0.85      0.87      0.86       984\n",
      "weighted avg       0.88      0.87      0.87       984\n",
      "\n",
      "[10, 14]\n"
     ]
    },
    {
     "name": "stderr",
     "output_type": "stream",
     "text": [
      "Evaluating: 100%|██████████| 45/45 [00:20<00:00,  2.22it/s]\n"
     ]
    },
    {
     "name": "stdout",
     "output_type": "stream",
     "text": [
      "Loss: 0.7566\n",
      "Precision: 0.4491, Recall: 0.4800, F1-Score: 0.3757\n",
      "              precision    recall  f1-score   support\n",
      "\n",
      "           0       0.44      0.09      0.15       756\n",
      "           1       0.46      0.87      0.60       670\n",
      "\n",
      "    accuracy                           0.46      1426\n",
      "   macro avg       0.45      0.48      0.38      1426\n",
      "weighted avg       0.45      0.46      0.36      1426\n",
      "\n",
      "[10, 15]\n"
     ]
    },
    {
     "name": "stderr",
     "output_type": "stream",
     "text": [
      "Evaluating: 100%|██████████| 72/72 [00:32<00:00,  2.21it/s]\n"
     ]
    },
    {
     "name": "stdout",
     "output_type": "stream",
     "text": [
      "Loss: 0.2172\n",
      "Precision: 0.9515, Recall: 0.9259, F1-Score: 0.9375\n",
      "              precision    recall  f1-score   support\n",
      "\n",
      "           0       0.95      0.98      0.96      1607\n",
      "           1       0.96      0.87      0.91       670\n",
      "\n",
      "    accuracy                           0.95      2277\n",
      "   macro avg       0.95      0.93      0.94      2277\n",
      "weighted avg       0.95      0.95      0.95      2277\n",
      "\n",
      "Directory /home/Minwoo/LESN/Decompose/DecomposeBERT/Models/Configs/pretrained/sadickam/sdg-classification-bert exists.\n",
      "Loading the model.\n",
      "Start Time:03:19:20\n",
      "#Module 11 in progress....\n",
      "origin\n"
     ]
    },
    {
     "name": "stderr",
     "output_type": "stream",
     "text": [
      "Evaluating: 100%|██████████| 400/400 [03:02<00:00,  2.19it/s]\n"
     ]
    },
    {
     "name": "stdout",
     "output_type": "stream",
     "text": [
      "Loss: 0.9480\n",
      "Precision: 0.7801, Recall: 0.7867, F1-Score: 0.7793\n",
      "              precision    recall  f1-score   support\n",
      "\n",
      "           0       0.77      0.66      0.71       797\n",
      "           1       0.84      0.72      0.78       775\n",
      "           2       0.88      0.87      0.88       795\n",
      "           3       0.87      0.83      0.85      1110\n",
      "           4       0.86      0.80      0.83      1260\n",
      "           5       0.88      0.69      0.77       882\n",
      "           6       0.85      0.80      0.83       940\n",
      "           7       0.49      0.61      0.54       473\n",
      "           8       0.66      0.85      0.74       746\n",
      "           9       0.62      0.73      0.67       689\n",
      "          10       0.75      0.79      0.77       670\n",
      "          11       0.62      0.81      0.70       312\n",
      "          12       0.73      0.81      0.77       665\n",
      "          13       0.83      0.85      0.84       314\n",
      "          14       0.85      0.78      0.81       756\n",
      "          15       0.97      0.98      0.97      1607\n",
      "\n",
      "    accuracy                           0.80     12791\n",
      "   macro avg       0.78      0.79      0.78     12791\n",
      "weighted avg       0.81      0.80      0.80     12791\n",
      "\n",
      "Start Positive CI sparse\n",
      "Start Positive CI after sparse\n",
      "Start Negative TI\n",
      "dead node \n",
      "[0, 1, 7, 8, 9, 10, 12, 13, 15]\n",
      "active node \n",
      "[0, 2, 8, 9, 10, 11, 15]\n",
      "weight factor \n",
      "[15, 9, 0, 0, 0, 0, 0, 11, 10, 16, 16, 0, 11, 8, 0, 16]\n",
      "weight factor \n",
      "[16, 0, 8, 0, 0, 0, 0, 0, 15, 16, 16, 16, 0, 0, 0, 16]\n",
      "[11, 0]\n"
     ]
    },
    {
     "name": "stderr",
     "output_type": "stream",
     "text": [
      "Evaluating: 100%|██████████| 35/35 [00:12<00:00,  2.73it/s]\n"
     ]
    },
    {
     "name": "stdout",
     "output_type": "stream",
     "text": [
      "Loss: 0.4913\n",
      "Precision: 0.8068, Recall: 0.8703, F1-Score: 0.8172\n",
      "              precision    recall  f1-score   support\n",
      "\n",
      "           0       0.98      0.79      0.87       797\n",
      "           1       0.64      0.96      0.76       312\n",
      "\n",
      "    accuracy                           0.83      1109\n",
      "   macro avg       0.81      0.87      0.82      1109\n",
      "weighted avg       0.88      0.83      0.84      1109\n",
      "\n",
      "[11, 1]\n"
     ]
    },
    {
     "name": "stderr",
     "output_type": "stream",
     "text": [
      "Evaluating: 100%|██████████| 34/34 [00:15<00:00,  2.19it/s]\n"
     ]
    },
    {
     "name": "stdout",
     "output_type": "stream",
     "text": [
      "Loss: 0.3402\n",
      "Precision: 0.8730, Recall: 0.9189, F1-Score: 0.8895\n",
      "              precision    recall  f1-score   support\n",
      "\n",
      "           0       0.98      0.88      0.93       775\n",
      "           1       0.77      0.96      0.85       312\n",
      "\n",
      "    accuracy                           0.90      1087\n",
      "   macro avg       0.87      0.92      0.89      1087\n",
      "weighted avg       0.92      0.90      0.91      1087\n",
      "\n",
      "[11, 2]\n"
     ]
    },
    {
     "name": "stderr",
     "output_type": "stream",
     "text": [
      "Evaluating: 100%|██████████| 35/35 [00:16<00:00,  2.15it/s]\n"
     ]
    },
    {
     "name": "stdout",
     "output_type": "stream",
     "text": [
      "Loss: 1.5166\n",
      "Precision: 0.4847, Recall: 0.4971, F1-Score: 0.2538\n",
      "              precision    recall  f1-score   support\n",
      "\n",
      "           0       0.69      0.04      0.07       795\n",
      "           1       0.28      0.96      0.43       312\n",
      "\n",
      "    accuracy                           0.30      1107\n",
      "   macro avg       0.48      0.50      0.25      1107\n",
      "weighted avg       0.57      0.30      0.18      1107\n",
      "\n",
      "[11, 3]\n"
     ]
    },
    {
     "name": "stderr",
     "output_type": "stream",
     "text": [
      "Evaluating: 100%|██████████| 45/45 [00:20<00:00,  2.15it/s]\n"
     ]
    },
    {
     "name": "stdout",
     "output_type": "stream",
     "text": [
      "Loss: 0.5693\n",
      "Precision: 0.7477, Recall: 0.8496, F1-Score: 0.7569\n",
      "              precision    recall  f1-score   support\n",
      "\n",
      "           0       0.98      0.74      0.85      1110\n",
      "           1       0.51      0.96      0.67       312\n",
      "\n",
      "    accuracy                           0.79      1422\n",
      "   macro avg       0.75      0.85      0.76      1422\n",
      "weighted avg       0.88      0.79      0.81      1422\n",
      "\n",
      "[11, 4]\n"
     ]
    },
    {
     "name": "stderr",
     "output_type": "stream",
     "text": [
      "Evaluating: 100%|██████████| 50/50 [00:23<00:00,  2.16it/s]\n"
     ]
    },
    {
     "name": "stdout",
     "output_type": "stream",
     "text": [
      "Loss: 0.6394\n",
      "Precision: 0.6482, Recall: 0.7244, F1-Score: 0.5668\n",
      "              precision    recall  f1-score   support\n",
      "\n",
      "           0       0.98      0.49      0.66      1260\n",
      "           1       0.32      0.96      0.48       312\n",
      "\n",
      "    accuracy                           0.59      1572\n",
      "   macro avg       0.65      0.72      0.57      1572\n",
      "weighted avg       0.85      0.59      0.62      1572\n",
      "\n",
      "[11, 5]\n"
     ]
    },
    {
     "name": "stderr",
     "output_type": "stream",
     "text": [
      "Evaluating: 100%|██████████| 38/38 [00:17<00:00,  2.16it/s]\n"
     ]
    },
    {
     "name": "stdout",
     "output_type": "stream",
     "text": [
      "Loss: 0.7339\n",
      "Precision: 0.6290, Recall: 0.6097, F1-Score: 0.4431\n",
      "              precision    recall  f1-score   support\n",
      "\n",
      "           0       0.94      0.26      0.41       882\n",
      "           1       0.31      0.96      0.47       312\n",
      "\n",
      "    accuracy                           0.44      1194\n",
      "   macro avg       0.63      0.61      0.44      1194\n",
      "weighted avg       0.78      0.44      0.43      1194\n",
      "\n",
      "[11, 6]\n"
     ]
    },
    {
     "name": "stderr",
     "output_type": "stream",
     "text": [
      "Evaluating: 100%|██████████| 40/40 [00:18<00:00,  2.17it/s]\n"
     ]
    },
    {
     "name": "stdout",
     "output_type": "stream",
     "text": [
      "Loss: 0.7358\n",
      "Precision: 0.5881, Recall: 0.5494, F1-Score: 0.3346\n",
      "              precision    recall  f1-score   support\n",
      "\n",
      "           0       0.91      0.14      0.25       940\n",
      "           1       0.27      0.96      0.42       312\n",
      "\n",
      "    accuracy                           0.35      1252\n",
      "   macro avg       0.59      0.55      0.33      1252\n",
      "weighted avg       0.75      0.35      0.29      1252\n",
      "\n",
      "[11, 7]\n"
     ]
    },
    {
     "name": "stderr",
     "output_type": "stream",
     "text": [
      "Evaluating: 100%|██████████| 25/25 [00:11<00:00,  2.17it/s]\n"
     ]
    },
    {
     "name": "stdout",
     "output_type": "stream",
     "text": [
      "Loss: 0.4018\n",
      "Precision: 0.8727, Recall: 0.8888, F1-Score: 0.8735\n",
      "              precision    recall  f1-score   support\n",
      "\n",
      "           0       0.97      0.82      0.89       473\n",
      "           1       0.78      0.96      0.86       312\n",
      "\n",
      "    accuracy                           0.88       785\n",
      "   macro avg       0.87      0.89      0.87       785\n",
      "weighted avg       0.89      0.88      0.88       785\n",
      "\n",
      "[11, 8]\n"
     ]
    },
    {
     "name": "stderr",
     "output_type": "stream",
     "text": [
      "Evaluating: 100%|██████████| 34/34 [00:15<00:00,  2.18it/s]\n"
     ]
    },
    {
     "name": "stdout",
     "output_type": "stream",
     "text": [
      "Loss: 0.7981\n",
      "Precision: 0.5950, Recall: 0.5432, F1-Score: 0.3511\n",
      "              precision    recall  f1-score   support\n",
      "\n",
      "           0       0.88      0.13      0.23       746\n",
      "           1       0.32      0.96      0.47       312\n",
      "\n",
      "    accuracy                           0.37      1058\n",
      "   macro avg       0.60      0.54      0.35      1058\n",
      "weighted avg       0.71      0.37      0.30      1058\n",
      "\n",
      "[11, 9]\n"
     ]
    },
    {
     "name": "stderr",
     "output_type": "stream",
     "text": [
      "Evaluating: 100%|██████████| 32/32 [00:13<00:00,  2.44it/s]\n"
     ]
    },
    {
     "name": "stdout",
     "output_type": "stream",
     "text": [
      "Loss: 0.4148\n",
      "Precision: 0.8829, Recall: 0.9195, F1-Score: 0.8961\n",
      "              precision    recall  f1-score   support\n",
      "\n",
      "           0       0.98      0.88      0.93       689\n",
      "           1       0.79      0.96      0.86       312\n",
      "\n",
      "    accuracy                           0.91      1001\n",
      "   macro avg       0.88      0.92      0.90      1001\n",
      "weighted avg       0.92      0.91      0.91      1001\n",
      "\n",
      "[11, 10]\n"
     ]
    },
    {
     "name": "stderr",
     "output_type": "stream",
     "text": [
      "Evaluating: 100%|██████████| 31/31 [00:12<00:00,  2.40it/s]\n"
     ]
    },
    {
     "name": "stdout",
     "output_type": "stream",
     "text": [
      "Loss: 0.6744\n",
      "Precision: 0.6324, Recall: 0.5791, F1-Score: 0.4263\n",
      "              precision    recall  f1-score   support\n",
      "\n",
      "           0       0.91      0.20      0.33       670\n",
      "           1       0.36      0.96      0.52       312\n",
      "\n",
      "    accuracy                           0.44       982\n",
      "   macro avg       0.63      0.58      0.43       982\n",
      "weighted avg       0.73      0.44      0.39       982\n",
      "\n",
      "[11, 12]\n"
     ]
    },
    {
     "name": "stderr",
     "output_type": "stream",
     "text": [
      "Evaluating: 100%|██████████| 31/31 [00:14<00:00,  2.10it/s]\n"
     ]
    },
    {
     "name": "stdout",
     "output_type": "stream",
     "text": [
      "Loss: 0.2683\n",
      "Precision: 0.8901, Recall: 0.9227, F1-Score: 0.9021\n",
      "              precision    recall  f1-score   support\n",
      "\n",
      "           0       0.98      0.89      0.93       665\n",
      "           1       0.80      0.96      0.87       312\n",
      "\n",
      "    accuracy                           0.91       977\n",
      "   macro avg       0.89      0.92      0.90       977\n",
      "weighted avg       0.92      0.91      0.91       977\n",
      "\n",
      "[11, 13]\n"
     ]
    },
    {
     "name": "stderr",
     "output_type": "stream",
     "text": [
      "Evaluating: 100%|██████████| 20/20 [00:09<00:00,  2.07it/s]\n"
     ]
    },
    {
     "name": "stdout",
     "output_type": "stream",
     "text": [
      "Loss: 0.2861\n",
      "Precision: 0.9293, Recall: 0.9282, F1-Score: 0.9281\n",
      "              precision    recall  f1-score   support\n",
      "\n",
      "           0       0.95      0.90      0.93       314\n",
      "           1       0.91      0.96      0.93       312\n",
      "\n",
      "    accuracy                           0.93       626\n",
      "   macro avg       0.93      0.93      0.93       626\n",
      "weighted avg       0.93      0.93      0.93       626\n",
      "\n",
      "[11, 14]\n"
     ]
    },
    {
     "name": "stderr",
     "output_type": "stream",
     "text": [
      "Evaluating: 100%|██████████| 34/34 [00:14<00:00,  2.31it/s]\n"
     ]
    },
    {
     "name": "stdout",
     "output_type": "stream",
     "text": [
      "Loss: 0.5865\n",
      "Precision: 0.7048, Recall: 0.7315, F1-Score: 0.6362\n",
      "              precision    recall  f1-score   support\n",
      "\n",
      "           0       0.96      0.51      0.67       756\n",
      "           1       0.44      0.96      0.61       312\n",
      "\n",
      "    accuracy                           0.64      1068\n",
      "   macro avg       0.70      0.73      0.64      1068\n",
      "weighted avg       0.81      0.64      0.65      1068\n",
      "\n",
      "[11, 15]\n"
     ]
    },
    {
     "name": "stderr",
     "output_type": "stream",
     "text": [
      "Evaluating: 100%|██████████| 60/60 [00:26<00:00,  2.26it/s]\n"
     ]
    },
    {
     "name": "stdout",
     "output_type": "stream",
     "text": [
      "Loss: 0.7600\n",
      "Precision: 0.4166, Recall: 0.4866, F1-Score: 0.1538\n",
      "              precision    recall  f1-score   support\n",
      "\n",
      "           0       0.67      0.02      0.04      1607\n",
      "           1       0.16      0.96      0.27       312\n",
      "\n",
      "    accuracy                           0.17      1919\n",
      "   macro avg       0.42      0.49      0.15      1919\n",
      "weighted avg       0.59      0.17      0.07      1919\n",
      "\n",
      "Directory /home/Minwoo/LESN/Decompose/DecomposeBERT/Models/Configs/pretrained/sadickam/sdg-classification-bert exists.\n",
      "Loading the model.\n",
      "Start Time:03:26:58\n",
      "#Module 12 in progress....\n",
      "origin\n"
     ]
    },
    {
     "name": "stderr",
     "output_type": "stream",
     "text": [
      "Evaluating: 100%|██████████| 400/400 [02:52<00:00,  2.32it/s]\n"
     ]
    },
    {
     "name": "stdout",
     "output_type": "stream",
     "text": [
      "Loss: 0.9480\n",
      "Precision: 0.7801, Recall: 0.7867, F1-Score: 0.7793\n",
      "              precision    recall  f1-score   support\n",
      "\n",
      "           0       0.77      0.66      0.71       797\n",
      "           1       0.84      0.72      0.78       775\n",
      "           2       0.88      0.87      0.88       795\n",
      "           3       0.87      0.83      0.85      1110\n",
      "           4       0.86      0.80      0.83      1260\n",
      "           5       0.88      0.69      0.77       882\n",
      "           6       0.85      0.80      0.83       940\n",
      "           7       0.49      0.61      0.54       473\n",
      "           8       0.66      0.85      0.74       746\n",
      "           9       0.62      0.73      0.67       689\n",
      "          10       0.75      0.79      0.77       670\n",
      "          11       0.62      0.81      0.70       312\n",
      "          12       0.73      0.81      0.77       665\n",
      "          13       0.83      0.85      0.84       314\n",
      "          14       0.85      0.78      0.81       756\n",
      "          15       0.97      0.98      0.97      1607\n",
      "\n",
      "    accuracy                           0.80     12791\n",
      "   macro avg       0.78      0.79      0.78     12791\n",
      "weighted avg       0.81      0.80      0.80     12791\n",
      "\n",
      "Start Positive CI sparse\n",
      "Start Positive CI after sparse\n",
      "Start Negative TI\n",
      "dead node \n",
      "[0, 1, 7, 8, 9, 10, 15]\n",
      "active node \n",
      "[0, 1, 5, 8, 9, 10, 12, 13, 14, 15]\n",
      "weight factor \n",
      "[16, 12, 0, 0, 0, 0, 0, 11, 13, 16, 16, 0, 0, 0, 0, 16]\n",
      "weight factor \n",
      "[16, 15, 0, 0, 0, 8, 0, 0, 15, 16, 16, 0, 16, 9, 12, 16]\n",
      "[12, 0]\n"
     ]
    },
    {
     "name": "stderr",
     "output_type": "stream",
     "text": [
      "Evaluating: 100%|██████████| 46/46 [00:18<00:00,  2.43it/s]\n"
     ]
    },
    {
     "name": "stdout",
     "output_type": "stream",
     "text": [
      "Loss: 0.1958\n",
      "Precision: 0.9439, Recall: 0.9372, F1-Score: 0.9396\n",
      "              precision    recall  f1-score   support\n",
      "\n",
      "           0       0.92      0.97      0.95       797\n",
      "           1       0.97      0.90      0.93       665\n",
      "\n",
      "    accuracy                           0.94      1462\n",
      "   macro avg       0.94      0.94      0.94      1462\n",
      "weighted avg       0.94      0.94      0.94      1462\n",
      "\n",
      "[12, 1]\n"
     ]
    },
    {
     "name": "stderr",
     "output_type": "stream",
     "text": [
      "Evaluating: 100%|██████████| 45/45 [00:20<00:00,  2.24it/s]\n"
     ]
    },
    {
     "name": "stdout",
     "output_type": "stream",
     "text": [
      "Loss: 0.4488\n",
      "Precision: 0.8206, Recall: 0.8181, F1-Score: 0.8117\n",
      "              precision    recall  f1-score   support\n",
      "\n",
      "           0       0.90      0.74      0.81       775\n",
      "           1       0.75      0.90      0.82       665\n",
      "\n",
      "    accuracy                           0.81      1440\n",
      "   macro avg       0.82      0.82      0.81      1440\n",
      "weighted avg       0.83      0.81      0.81      1440\n",
      "\n",
      "[12, 2]\n"
     ]
    },
    {
     "name": "stderr",
     "output_type": "stream",
     "text": [
      "Evaluating: 100%|██████████| 46/46 [00:20<00:00,  2.27it/s]\n"
     ]
    },
    {
     "name": "stdout",
     "output_type": "stream",
     "text": [
      "Loss: 0.3224\n",
      "Precision: 0.9438, Recall: 0.9372, F1-Score: 0.9395\n",
      "              precision    recall  f1-score   support\n",
      "\n",
      "           0       0.92      0.97      0.95       795\n",
      "           1       0.97      0.90      0.93       665\n",
      "\n",
      "    accuracy                           0.94      1460\n",
      "   macro avg       0.94      0.94      0.94      1460\n",
      "weighted avg       0.94      0.94      0.94      1460\n",
      "\n",
      "[12, 3]\n"
     ]
    },
    {
     "name": "stderr",
     "output_type": "stream",
     "text": [
      "Evaluating: 100%|██████████| 56/56 [00:25<00:00,  2.18it/s]\n"
     ]
    },
    {
     "name": "stdout",
     "output_type": "stream",
     "text": [
      "Loss: 0.2868\n",
      "Precision: 0.9466, Recall: 0.9364, F1-Score: 0.9410\n",
      "              precision    recall  f1-score   support\n",
      "\n",
      "           0       0.94      0.97      0.96      1110\n",
      "           1       0.95      0.90      0.93       665\n",
      "\n",
      "    accuracy                           0.95      1775\n",
      "   macro avg       0.95      0.94      0.94      1775\n",
      "weighted avg       0.95      0.95      0.95      1775\n",
      "\n",
      "[12, 4]\n"
     ]
    },
    {
     "name": "stderr",
     "output_type": "stream",
     "text": [
      "Evaluating: 100%|██████████| 61/61 [00:28<00:00,  2.13it/s]\n"
     ]
    },
    {
     "name": "stdout",
     "output_type": "stream",
     "text": [
      "Loss: 0.2441\n",
      "Precision: 0.9468, Recall: 0.9365, F1-Score: 0.9413\n",
      "              precision    recall  f1-score   support\n",
      "\n",
      "           0       0.95      0.97      0.96      1260\n",
      "           1       0.94      0.90      0.92       665\n",
      "\n",
      "    accuracy                           0.95      1925\n",
      "   macro avg       0.95      0.94      0.94      1925\n",
      "weighted avg       0.95      0.95      0.95      1925\n",
      "\n",
      "[12, 5]\n"
     ]
    },
    {
     "name": "stderr",
     "output_type": "stream",
     "text": [
      "Evaluating: 100%|██████████| 49/49 [00:20<00:00,  2.37it/s]\n"
     ]
    },
    {
     "name": "stdout",
     "output_type": "stream",
     "text": [
      "Loss: 0.9539\n",
      "Precision: 0.5358, Recall: 0.5150, F1-Score: 0.4021\n",
      "              precision    recall  f1-score   support\n",
      "\n",
      "           0       0.63      0.13      0.21       882\n",
      "           1       0.44      0.90      0.59       665\n",
      "\n",
      "    accuracy                           0.46      1547\n",
      "   macro avg       0.54      0.52      0.40      1547\n",
      "weighted avg       0.55      0.46      0.38      1547\n",
      "\n",
      "[12, 6]\n"
     ]
    },
    {
     "name": "stderr",
     "output_type": "stream",
     "text": [
      "Evaluating: 100%|██████████| 51/51 [00:21<00:00,  2.37it/s]\n"
     ]
    },
    {
     "name": "stdout",
     "output_type": "stream",
     "text": [
      "Loss: 0.5578\n",
      "Precision: 0.7544, Recall: 0.7498, F1-Score: 0.7238\n",
      "              precision    recall  f1-score   support\n",
      "\n",
      "           0       0.90      0.60      0.72       940\n",
      "           1       0.61      0.90      0.73       665\n",
      "\n",
      "    accuracy                           0.72      1605\n",
      "   macro avg       0.75      0.75      0.72      1605\n",
      "weighted avg       0.78      0.72      0.72      1605\n",
      "\n",
      "[12, 7]\n"
     ]
    },
    {
     "name": "stderr",
     "output_type": "stream",
     "text": [
      "Evaluating: 100%|██████████| 36/36 [00:17<00:00,  2.07it/s]\n"
     ]
    },
    {
     "name": "stdout",
     "output_type": "stream",
     "text": [
      "Loss: 0.1838\n",
      "Precision: 0.9276, Recall: 0.9377, F1-Score: 0.9304\n",
      "              precision    recall  f1-score   support\n",
      "\n",
      "           0       0.87      0.97      0.92       473\n",
      "           1       0.98      0.90      0.94       665\n",
      "\n",
      "    accuracy                           0.93      1138\n",
      "   macro avg       0.93      0.94      0.93      1138\n",
      "weighted avg       0.94      0.93      0.93      1138\n",
      "\n",
      "[12, 8]\n"
     ]
    },
    {
     "name": "stderr",
     "output_type": "stream",
     "text": [
      "Evaluating: 100%|██████████| 45/45 [00:22<00:00,  2.05it/s]\n"
     ]
    },
    {
     "name": "stdout",
     "output_type": "stream",
     "text": [
      "Loss: 0.2675\n",
      "Precision: 0.9166, Recall: 0.9155, F1-Score: 0.9160\n",
      "              precision    recall  f1-score   support\n",
      "\n",
      "           0       0.91      0.93      0.92       746\n",
      "           1       0.92      0.90      0.91       665\n",
      "\n",
      "    accuracy                           0.92      1411\n",
      "   macro avg       0.92      0.92      0.92      1411\n",
      "weighted avg       0.92      0.92      0.92      1411\n",
      "\n",
      "[12, 9]\n"
     ]
    },
    {
     "name": "stderr",
     "output_type": "stream",
     "text": [
      "Evaluating: 100%|██████████| 43/43 [00:18<00:00,  2.28it/s]\n"
     ]
    },
    {
     "name": "stdout",
     "output_type": "stream",
     "text": [
      "Loss: 0.1779\n",
      "Precision: 0.9415, Recall: 0.9380, F1-Score: 0.9385\n",
      "              precision    recall  f1-score   support\n",
      "\n",
      "           0       0.91      0.98      0.94       689\n",
      "           1       0.97      0.90      0.94       665\n",
      "\n",
      "    accuracy                           0.94      1354\n",
      "   macro avg       0.94      0.94      0.94      1354\n",
      "weighted avg       0.94      0.94      0.94      1354\n",
      "\n",
      "[12, 10]\n"
     ]
    },
    {
     "name": "stderr",
     "output_type": "stream",
     "text": [
      "Evaluating: 100%|██████████| 42/42 [00:20<00:00,  2.01it/s]\n"
     ]
    },
    {
     "name": "stdout",
     "output_type": "stream",
     "text": [
      "Loss: 0.3214\n",
      "Precision: 0.8989, Recall: 0.8989, F1-Score: 0.8989\n",
      "              precision    recall  f1-score   support\n",
      "\n",
      "           0       0.90      0.90      0.90       670\n",
      "           1       0.90      0.90      0.90       665\n",
      "\n",
      "    accuracy                           0.90      1335\n",
      "   macro avg       0.90      0.90      0.90      1335\n",
      "weighted avg       0.90      0.90      0.90      1335\n",
      "\n",
      "[12, 11]\n"
     ]
    },
    {
     "name": "stderr",
     "output_type": "stream",
     "text": [
      "Evaluating: 100%|██████████| 31/31 [00:14<00:00,  2.21it/s]\n"
     ]
    },
    {
     "name": "stdout",
     "output_type": "stream",
     "text": [
      "Loss: 0.4013\n",
      "Precision: 0.7961, Recall: 0.7693, F1-Score: 0.7799\n",
      "              precision    recall  f1-score   support\n",
      "\n",
      "           0       0.75      0.64      0.69       312\n",
      "           1       0.84      0.90      0.87       665\n",
      "\n",
      "    accuracy                           0.82       977\n",
      "   macro avg       0.80      0.77      0.78       977\n",
      "weighted avg       0.81      0.82      0.81       977\n",
      "\n",
      "[12, 13]\n"
     ]
    },
    {
     "name": "stderr",
     "output_type": "stream",
     "text": [
      "Evaluating: 100%|██████████| 31/31 [00:14<00:00,  2.21it/s]\n"
     ]
    },
    {
     "name": "stdout",
     "output_type": "stream",
     "text": [
      "Loss: 0.8000\n",
      "Precision: 0.4611, Recall: 0.4854, F1-Score: 0.4397\n",
      "              precision    recall  f1-score   support\n",
      "\n",
      "           0       0.25      0.07      0.11       314\n",
      "           1       0.67      0.90      0.77       665\n",
      "\n",
      "    accuracy                           0.63       979\n",
      "   macro avg       0.46      0.49      0.44       979\n",
      "weighted avg       0.54      0.63      0.56       979\n",
      "\n",
      "[12, 14]\n"
     ]
    },
    {
     "name": "stderr",
     "output_type": "stream",
     "text": [
      "Evaluating: 100%|██████████| 45/45 [00:20<00:00,  2.20it/s]\n"
     ]
    },
    {
     "name": "stdout",
     "output_type": "stream",
     "text": [
      "Loss: 1.5101\n",
      "Precision: 0.4803, Recall: 0.4934, F1-Score: 0.3797\n",
      "              precision    recall  f1-score   support\n",
      "\n",
      "           0       0.50      0.09      0.15       756\n",
      "           1       0.46      0.90      0.61       665\n",
      "\n",
      "    accuracy                           0.47      1421\n",
      "   macro avg       0.48      0.49      0.38      1421\n",
      "weighted avg       0.48      0.47      0.36      1421\n",
      "\n",
      "[12, 15]\n"
     ]
    },
    {
     "name": "stderr",
     "output_type": "stream",
     "text": [
      "Evaluating: 100%|██████████| 71/71 [00:29<00:00,  2.39it/s]\n"
     ]
    },
    {
     "name": "stdout",
     "output_type": "stream",
     "text": [
      "Loss: 0.4823\n",
      "Precision: 0.9044, Recall: 0.9177, F1-Score: 0.9106\n",
      "              precision    recall  f1-score   support\n",
      "\n",
      "           0       0.96      0.93      0.95      1607\n",
      "           1       0.85      0.90      0.88       665\n",
      "\n",
      "    accuracy                           0.92      2272\n",
      "   macro avg       0.90      0.92      0.91      2272\n",
      "weighted avg       0.93      0.92      0.93      2272\n",
      "\n",
      "Directory /home/Minwoo/LESN/Decompose/DecomposeBERT/Models/Configs/pretrained/sadickam/sdg-classification-bert exists.\n",
      "Loading the model.\n",
      "Start Time:03:35:36\n",
      "#Module 13 in progress....\n",
      "origin\n"
     ]
    },
    {
     "name": "stderr",
     "output_type": "stream",
     "text": [
      "Evaluating: 100%|██████████| 400/400 [02:52<00:00,  2.32it/s]\n"
     ]
    },
    {
     "name": "stdout",
     "output_type": "stream",
     "text": [
      "Loss: 0.9480\n",
      "Precision: 0.7801, Recall: 0.7867, F1-Score: 0.7793\n",
      "              precision    recall  f1-score   support\n",
      "\n",
      "           0       0.77      0.66      0.71       797\n",
      "           1       0.84      0.72      0.78       775\n",
      "           2       0.88      0.87      0.88       795\n",
      "           3       0.87      0.83      0.85      1110\n",
      "           4       0.86      0.80      0.83      1260\n",
      "           5       0.88      0.69      0.77       882\n",
      "           6       0.85      0.80      0.83       940\n",
      "           7       0.49      0.61      0.54       473\n",
      "           8       0.66      0.85      0.74       746\n",
      "           9       0.62      0.73      0.67       689\n",
      "          10       0.75      0.79      0.77       670\n",
      "          11       0.62      0.81      0.70       312\n",
      "          12       0.73      0.81      0.77       665\n",
      "          13       0.83      0.85      0.84       314\n",
      "          14       0.85      0.78      0.81       756\n",
      "          15       0.97      0.98      0.97      1607\n",
      "\n",
      "    accuracy                           0.80     12791\n",
      "   macro avg       0.78      0.79      0.78     12791\n",
      "weighted avg       0.81      0.80      0.80     12791\n",
      "\n",
      "Start Positive CI sparse\n",
      "Start Positive CI after sparse\n",
      "Start Negative TI\n",
      "dead node \n",
      "[0, 1, 7, 8, 9, 12, 14, 15]\n",
      "active node \n",
      "[0, 1, 5, 8, 9, 12, 13, 14, 15]\n",
      "weight factor \n",
      "[16, 12, 0, 0, 0, 0, 0, 8, 9, 16, 0, 0, 11, 0, 11, 16]\n",
      "weight factor \n",
      "[16, 16, 0, 0, 0, 9, 0, 0, 11, 14, 0, 0, 15, 16, 16, 16]\n",
      "[13, 0]\n"
     ]
    },
    {
     "name": "stderr",
     "output_type": "stream",
     "text": [
      "Evaluating: 100%|██████████| 35/35 [00:12<00:00,  2.87it/s]\n"
     ]
    },
    {
     "name": "stdout",
     "output_type": "stream",
     "text": [
      "Loss: 0.1692\n",
      "Precision: 0.9589, Recall: 0.9517, F1-Score: 0.9553\n",
      "              precision    recall  f1-score   support\n",
      "\n",
      "           0       0.97      0.98      0.98       797\n",
      "           1       0.95      0.92      0.94       314\n",
      "\n",
      "    accuracy                           0.96      1111\n",
      "   macro avg       0.96      0.95      0.96      1111\n",
      "weighted avg       0.96      0.96      0.96      1111\n",
      "\n",
      "[13, 1]\n"
     ]
    },
    {
     "name": "stderr",
     "output_type": "stream",
     "text": [
      "Evaluating: 100%|██████████| 35/35 [00:18<00:00,  1.89it/s]\n"
     ]
    },
    {
     "name": "stdout",
     "output_type": "stream",
     "text": [
      "Loss: 0.4714\n",
      "Precision: 0.7702, Recall: 0.8269, F1-Score: 0.7714\n",
      "              precision    recall  f1-score   support\n",
      "\n",
      "           0       0.96      0.73      0.83       775\n",
      "           1       0.58      0.92      0.71       314\n",
      "\n",
      "    accuracy                           0.79      1089\n",
      "   macro avg       0.77      0.83      0.77      1089\n",
      "weighted avg       0.85      0.79      0.80      1089\n",
      "\n",
      "[13, 2]\n"
     ]
    },
    {
     "name": "stderr",
     "output_type": "stream",
     "text": [
      "Evaluating: 100%|██████████| 35/35 [00:16<00:00,  2.17it/s]\n"
     ]
    },
    {
     "name": "stdout",
     "output_type": "stream",
     "text": [
      "Loss: 0.4128\n",
      "Precision: 0.8961, Recall: 0.9228, F1-Score: 0.9077\n",
      "              precision    recall  f1-score   support\n",
      "\n",
      "           0       0.97      0.92      0.94       795\n",
      "           1       0.82      0.92      0.87       314\n",
      "\n",
      "    accuracy                           0.92      1109\n",
      "   macro avg       0.90      0.92      0.91      1109\n",
      "weighted avg       0.93      0.92      0.92      1109\n",
      "\n",
      "[13, 3]\n"
     ]
    },
    {
     "name": "stderr",
     "output_type": "stream",
     "text": [
      "Evaluating: 100%|██████████| 45/45 [00:19<00:00,  2.31it/s]\n"
     ]
    },
    {
     "name": "stdout",
     "output_type": "stream",
     "text": [
      "Loss: 0.2816\n",
      "Precision: 0.9423, Recall: 0.9483, F1-Score: 0.9452\n",
      "              precision    recall  f1-score   support\n",
      "\n",
      "           0       0.98      0.97      0.98      1110\n",
      "           1       0.91      0.92      0.91       314\n",
      "\n",
      "    accuracy                           0.96      1424\n",
      "   macro avg       0.94      0.95      0.95      1424\n",
      "weighted avg       0.96      0.96      0.96      1424\n",
      "\n",
      "[13, 4]\n"
     ]
    },
    {
     "name": "stderr",
     "output_type": "stream",
     "text": [
      "Evaluating: 100%|██████████| 50/50 [00:21<00:00,  2.31it/s]\n"
     ]
    },
    {
     "name": "stdout",
     "output_type": "stream",
     "text": [
      "Loss: 0.3556\n",
      "Precision: 0.8705, Recall: 0.9257, F1-Score: 0.8938\n",
      "              precision    recall  f1-score   support\n",
      "\n",
      "           0       0.98      0.93      0.95      1260\n",
      "           1       0.76      0.92      0.83       314\n",
      "\n",
      "    accuracy                           0.93      1574\n",
      "   macro avg       0.87      0.93      0.89      1574\n",
      "weighted avg       0.94      0.93      0.93      1574\n",
      "\n",
      "[13, 5]\n"
     ]
    },
    {
     "name": "stderr",
     "output_type": "stream",
     "text": [
      "Evaluating: 100%|██████████| 38/38 [00:16<00:00,  2.32it/s]\n"
     ]
    },
    {
     "name": "stdout",
     "output_type": "stream",
     "text": [
      "Loss: 0.9957\n",
      "Precision: 0.5644, Recall: 0.5383, F1-Score: 0.3443\n",
      "              precision    recall  f1-score   support\n",
      "\n",
      "           0       0.85      0.15      0.26       882\n",
      "           1       0.28      0.92      0.43       314\n",
      "\n",
      "    accuracy                           0.36      1196\n",
      "   macro avg       0.56      0.54      0.34      1196\n",
      "weighted avg       0.70      0.36      0.30      1196\n",
      "\n",
      "[13, 6]\n"
     ]
    },
    {
     "name": "stderr",
     "output_type": "stream",
     "text": [
      "Evaluating: 100%|██████████| 40/40 [00:20<00:00,  1.98it/s]\n"
     ]
    },
    {
     "name": "stdout",
     "output_type": "stream",
     "text": [
      "Loss: 0.4084\n",
      "Precision: 0.8569, Recall: 0.9081, F1-Score: 0.8767\n",
      "              precision    recall  f1-score   support\n",
      "\n",
      "           0       0.97      0.89      0.93       940\n",
      "           1       0.74      0.92      0.82       314\n",
      "\n",
      "    accuracy                           0.90      1254\n",
      "   macro avg       0.86      0.91      0.88      1254\n",
      "weighted avg       0.91      0.90      0.90      1254\n",
      "\n",
      "[13, 7]\n"
     ]
    },
    {
     "name": "stderr",
     "output_type": "stream",
     "text": [
      "Evaluating: 100%|██████████| 25/25 [00:11<00:00,  2.13it/s]\n"
     ]
    },
    {
     "name": "stdout",
     "output_type": "stream",
     "text": [
      "Loss: 0.1537\n",
      "Precision: 0.9554, Recall: 0.9491, F1-Score: 0.9520\n",
      "              precision    recall  f1-score   support\n",
      "\n",
      "           0       0.95      0.97      0.96       473\n",
      "           1       0.96      0.92      0.94       314\n",
      "\n",
      "    accuracy                           0.95       787\n",
      "   macro avg       0.96      0.95      0.95       787\n",
      "weighted avg       0.95      0.95      0.95       787\n",
      "\n",
      "[13, 8]\n"
     ]
    },
    {
     "name": "stderr",
     "output_type": "stream",
     "text": [
      "Evaluating: 100%|██████████| 34/34 [00:14<00:00,  2.39it/s]\n"
     ]
    },
    {
     "name": "stdout",
     "output_type": "stream",
     "text": [
      "Loss: 0.3345\n",
      "Precision: 0.9216, Recall: 0.9343, F1-Score: 0.9276\n",
      "              precision    recall  f1-score   support\n",
      "\n",
      "           0       0.97      0.95      0.96       746\n",
      "           1       0.88      0.92      0.90       314\n",
      "\n",
      "    accuracy                           0.94      1060\n",
      "   macro avg       0.92      0.93      0.93      1060\n",
      "weighted avg       0.94      0.94      0.94      1060\n",
      "\n",
      "[13, 9]\n"
     ]
    },
    {
     "name": "stderr",
     "output_type": "stream",
     "text": [
      "Evaluating: 100%|██████████| 32/32 [00:13<00:00,  2.36it/s]\n"
     ]
    },
    {
     "name": "stdout",
     "output_type": "stream",
     "text": [
      "Loss: 0.1355\n",
      "Precision: 0.9630, Recall: 0.9531, F1-Score: 0.9578\n",
      "              precision    recall  f1-score   support\n",
      "\n",
      "           0       0.97      0.98      0.97       689\n",
      "           1       0.96      0.92      0.94       314\n",
      "\n",
      "    accuracy                           0.96      1003\n",
      "   macro avg       0.96      0.95      0.96      1003\n",
      "weighted avg       0.96      0.96      0.96      1003\n",
      "\n",
      "[13, 10]\n"
     ]
    },
    {
     "name": "stderr",
     "output_type": "stream",
     "text": [
      "Evaluating: 100%|██████████| 31/31 [00:13<00:00,  2.33it/s]\n"
     ]
    },
    {
     "name": "stdout",
     "output_type": "stream",
     "text": [
      "Loss: 0.3455\n",
      "Precision: 0.8768, Recall: 0.9051, F1-Score: 0.8877\n",
      "              precision    recall  f1-score   support\n",
      "\n",
      "           0       0.96      0.89      0.92       670\n",
      "           1       0.79      0.92      0.85       314\n",
      "\n",
      "    accuracy                           0.90       984\n",
      "   macro avg       0.88      0.91      0.89       984\n",
      "weighted avg       0.91      0.90      0.90       984\n",
      "\n",
      "[13, 11]\n"
     ]
    },
    {
     "name": "stderr",
     "output_type": "stream",
     "text": [
      "Evaluating: 100%|██████████| 20/20 [00:08<00:00,  2.36it/s]\n"
     ]
    },
    {
     "name": "stdout",
     "output_type": "stream",
     "text": [
      "Loss: 0.3771\n",
      "Precision: 0.8450, Recall: 0.8336, F1-Score: 0.8324\n",
      "              precision    recall  f1-score   support\n",
      "\n",
      "           0       0.91      0.74      0.82       312\n",
      "           1       0.78      0.92      0.85       314\n",
      "\n",
      "    accuracy                           0.83       626\n",
      "   macro avg       0.85      0.83      0.83       626\n",
      "weighted avg       0.84      0.83      0.83       626\n",
      "\n",
      "[13, 12]\n"
     ]
    },
    {
     "name": "stderr",
     "output_type": "stream",
     "text": [
      "Evaluating: 100%|██████████| 31/31 [00:13<00:00,  2.33it/s]\n"
     ]
    },
    {
     "name": "stdout",
     "output_type": "stream",
     "text": [
      "Loss: 0.7076\n",
      "Precision: 0.5949, Recall: 0.5565, F1-Score: 0.4083\n",
      "              precision    recall  f1-score   support\n",
      "\n",
      "           0       0.84      0.19      0.31       665\n",
      "           1       0.35      0.92      0.51       314\n",
      "\n",
      "    accuracy                           0.42       979\n",
      "   macro avg       0.59      0.56      0.41       979\n",
      "weighted avg       0.68      0.42      0.37       979\n",
      "\n",
      "[13, 14]\n"
     ]
    },
    {
     "name": "stderr",
     "output_type": "stream",
     "text": [
      "Evaluating: 100%|██████████| 34/34 [00:14<00:00,  2.33it/s]\n"
     ]
    },
    {
     "name": "stdout",
     "output_type": "stream",
     "text": [
      "Loss: 1.2242\n",
      "Precision: 0.5178, Recall: 0.5068, F1-Score: 0.3046\n",
      "              precision    recall  f1-score   support\n",
      "\n",
      "           0       0.74      0.09      0.16       756\n",
      "           1       0.30      0.92      0.45       314\n",
      "\n",
      "    accuracy                           0.33      1070\n",
      "   macro avg       0.52      0.51      0.30      1070\n",
      "weighted avg       0.61      0.33      0.25      1070\n",
      "\n",
      "[13, 15]\n"
     ]
    },
    {
     "name": "stderr",
     "output_type": "stream",
     "text": [
      "Evaluating: 100%|██████████| 61/61 [00:24<00:00,  2.45it/s]\n"
     ]
    },
    {
     "name": "stdout",
     "output_type": "stream",
     "text": [
      "Loss: 0.6581\n",
      "Precision: 0.5520, Recall: 0.5520, F1-Score: 0.3019\n",
      "              precision    recall  f1-score   support\n",
      "\n",
      "           0       0.92      0.18      0.30      1607\n",
      "           1       0.18      0.92      0.30       314\n",
      "\n",
      "    accuracy                           0.30      1921\n",
      "   macro avg       0.55      0.55      0.30      1921\n",
      "weighted avg       0.80      0.30      0.30      1921\n",
      "\n",
      "Directory /home/Minwoo/LESN/Decompose/DecomposeBERT/Models/Configs/pretrained/sadickam/sdg-classification-bert exists.\n",
      "Loading the model.\n",
      "Start Time:03:42:56\n",
      "#Module 14 in progress....\n",
      "origin\n"
     ]
    },
    {
     "name": "stderr",
     "output_type": "stream",
     "text": [
      "Evaluating: 100%|██████████| 400/400 [02:53<00:00,  2.31it/s]\n"
     ]
    },
    {
     "name": "stdout",
     "output_type": "stream",
     "text": [
      "Loss: 0.9480\n",
      "Precision: 0.7801, Recall: 0.7867, F1-Score: 0.7793\n",
      "              precision    recall  f1-score   support\n",
      "\n",
      "           0       0.77      0.66      0.71       797\n",
      "           1       0.84      0.72      0.78       775\n",
      "           2       0.88      0.87      0.88       795\n",
      "           3       0.87      0.83      0.85      1110\n",
      "           4       0.86      0.80      0.83      1260\n",
      "           5       0.88      0.69      0.77       882\n",
      "           6       0.85      0.80      0.83       940\n",
      "           7       0.49      0.61      0.54       473\n",
      "           8       0.66      0.85      0.74       746\n",
      "           9       0.62      0.73      0.67       689\n",
      "          10       0.75      0.79      0.77       670\n",
      "          11       0.62      0.81      0.70       312\n",
      "          12       0.73      0.81      0.77       665\n",
      "          13       0.83      0.85      0.84       314\n",
      "          14       0.85      0.78      0.81       756\n",
      "          15       0.97      0.98      0.97      1607\n",
      "\n",
      "    accuracy                           0.80     12791\n",
      "   macro avg       0.78      0.79      0.78     12791\n",
      "weighted avg       0.81      0.80      0.80     12791\n",
      "\n",
      "Start Positive CI sparse\n",
      "Start Positive CI after sparse\n",
      "Start Negative TI\n",
      "dead node \n",
      "[0, 2, 5, 7, 9, 10, 12, 13, 15]\n",
      "active node \n",
      "[0, 5, 9, 10, 12, 13, 14, 15]\n",
      "weight factor \n",
      "[15, 0, 11, 0, 0, 8, 0, 9, 0, 16, 15, 0, 11, 13, 0, 16]\n",
      "weight factor \n",
      "[14, 0, 0, 0, 0, 14, 0, 0, 0, 14, 16, 0, 9, 16, 16, 16]\n",
      "[14, 0]\n"
     ]
    },
    {
     "name": "stderr",
     "output_type": "stream",
     "text": [
      "Evaluating: 100%|██████████| 49/49 [00:18<00:00,  2.72it/s]\n"
     ]
    },
    {
     "name": "stdout",
     "output_type": "stream",
     "text": [
      "Loss: 0.2064\n",
      "Precision: 0.9453, Recall: 0.9418, F1-Score: 0.9425\n",
      "              precision    recall  f1-score   support\n",
      "\n",
      "           0       0.92      0.98      0.95       797\n",
      "           1       0.97      0.91      0.94       756\n",
      "\n",
      "    accuracy                           0.94      1553\n",
      "   macro avg       0.95      0.94      0.94      1553\n",
      "weighted avg       0.94      0.94      0.94      1553\n",
      "\n",
      "[14, 1]\n"
     ]
    },
    {
     "name": "stderr",
     "output_type": "stream",
     "text": [
      "Evaluating: 100%|██████████| 48/48 [00:25<00:00,  1.92it/s]\n"
     ]
    },
    {
     "name": "stdout",
     "output_type": "stream",
     "text": [
      "Loss: 0.3753\n",
      "Precision: 0.8461, Recall: 0.8408, F1-Score: 0.8395\n",
      "              precision    recall  f1-score   support\n",
      "\n",
      "           0       0.90      0.77      0.83       775\n",
      "           1       0.80      0.91      0.85       756\n",
      "\n",
      "    accuracy                           0.84      1531\n",
      "   macro avg       0.85      0.84      0.84      1531\n",
      "weighted avg       0.85      0.84      0.84      1531\n",
      "\n",
      "[14, 2]\n"
     ]
    },
    {
     "name": "stderr",
     "output_type": "stream",
     "text": [
      "Evaluating: 100%|██████████| 49/49 [00:19<00:00,  2.46it/s]\n"
     ]
    },
    {
     "name": "stdout",
     "output_type": "stream",
     "text": [
      "Loss: 0.1727\n",
      "Precision: 0.9511, Recall: 0.9468, F1-Score: 0.9476\n",
      "              precision    recall  f1-score   support\n",
      "\n",
      "           0       0.92      0.99      0.95       795\n",
      "           1       0.98      0.91      0.94       756\n",
      "\n",
      "    accuracy                           0.95      1551\n",
      "   macro avg       0.95      0.95      0.95      1551\n",
      "weighted avg       0.95      0.95      0.95      1551\n",
      "\n",
      "[14, 3]\n"
     ]
    },
    {
     "name": "stderr",
     "output_type": "stream",
     "text": [
      "Evaluating: 100%|██████████| 59/59 [00:23<00:00,  2.47it/s]\n"
     ]
    },
    {
     "name": "stdout",
     "output_type": "stream",
     "text": [
      "Loss: 0.3060\n",
      "Precision: 0.9364, Recall: 0.9321, F1-Score: 0.9341\n",
      "              precision    recall  f1-score   support\n",
      "\n",
      "           0       0.94      0.96      0.95      1110\n",
      "           1       0.93      0.91      0.92       756\n",
      "\n",
      "    accuracy                           0.94      1866\n",
      "   macro avg       0.94      0.93      0.93      1866\n",
      "weighted avg       0.94      0.94      0.94      1866\n",
      "\n",
      "[14, 4]\n"
     ]
    },
    {
     "name": "stderr",
     "output_type": "stream",
     "text": [
      "Evaluating: 100%|██████████| 63/63 [00:27<00:00,  2.32it/s]\n"
     ]
    },
    {
     "name": "stdout",
     "output_type": "stream",
     "text": [
      "Loss: 0.4012\n",
      "Precision: 0.8225, Recall: 0.8434, F1-Score: 0.8236\n",
      "              precision    recall  f1-score   support\n",
      "\n",
      "           0       0.93      0.78      0.85      1260\n",
      "           1       0.71      0.91      0.80       756\n",
      "\n",
      "    accuracy                           0.83      2016\n",
      "   macro avg       0.82      0.84      0.82      2016\n",
      "weighted avg       0.85      0.83      0.83      2016\n",
      "\n",
      "[14, 5]\n"
     ]
    },
    {
     "name": "stderr",
     "output_type": "stream",
     "text": [
      "Evaluating: 100%|██████████| 52/52 [00:22<00:00,  2.36it/s]\n"
     ]
    },
    {
     "name": "stdout",
     "output_type": "stream",
     "text": [
      "Loss: 0.7831\n",
      "Precision: 0.5504, Recall: 0.5206, F1-Score: 0.4213\n",
      "              precision    recall  f1-score   support\n",
      "\n",
      "           0       0.63      0.13      0.22       882\n",
      "           1       0.47      0.91      0.62       756\n",
      "\n",
      "    accuracy                           0.49      1638\n",
      "   macro avg       0.55      0.52      0.42      1638\n",
      "weighted avg       0.56      0.49      0.41      1638\n",
      "\n",
      "[14, 6]\n"
     ]
    },
    {
     "name": "stderr",
     "output_type": "stream",
     "text": [
      "Evaluating: 100%|██████████| 53/53 [00:22<00:00,  2.31it/s]\n"
     ]
    },
    {
     "name": "stdout",
     "output_type": "stream",
     "text": [
      "Loss: 0.4591\n",
      "Precision: 0.7969, Recall: 0.7920, F1-Score: 0.7793\n",
      "              precision    recall  f1-score   support\n",
      "\n",
      "           0       0.90      0.68      0.77       940\n",
      "           1       0.69      0.91      0.79       756\n",
      "\n",
      "    accuracy                           0.78      1696\n",
      "   macro avg       0.80      0.79      0.78      1696\n",
      "weighted avg       0.81      0.78      0.78      1696\n",
      "\n",
      "[14, 7]\n"
     ]
    },
    {
     "name": "stderr",
     "output_type": "stream",
     "text": [
      "Evaluating: 100%|██████████| 39/39 [00:16<00:00,  2.35it/s]\n"
     ]
    },
    {
     "name": "stdout",
     "output_type": "stream",
     "text": [
      "Loss: 0.1926\n",
      "Precision: 0.9222, Recall: 0.9368, F1-Score: 0.9275\n",
      "              precision    recall  f1-score   support\n",
      "\n",
      "           0       0.87      0.97      0.91       473\n",
      "           1       0.98      0.91      0.94       756\n",
      "\n",
      "    accuracy                           0.93      1229\n",
      "   macro avg       0.92      0.94      0.93      1229\n",
      "weighted avg       0.93      0.93      0.93      1229\n",
      "\n",
      "[14, 8]\n"
     ]
    },
    {
     "name": "stderr",
     "output_type": "stream",
     "text": [
      "Evaluating: 100%|██████████| 47/47 [00:19<00:00,  2.37it/s]\n"
     ]
    },
    {
     "name": "stdout",
     "output_type": "stream",
     "text": [
      "Loss: 0.3080\n",
      "Precision: 0.9128, Recall: 0.9128, F1-Score: 0.9128\n",
      "              precision    recall  f1-score   support\n",
      "\n",
      "           0       0.91      0.92      0.91       746\n",
      "           1       0.92      0.91      0.91       756\n",
      "\n",
      "    accuracy                           0.91      1502\n",
      "   macro avg       0.91      0.91      0.91      1502\n",
      "weighted avg       0.91      0.91      0.91      1502\n",
      "\n",
      "[14, 9]\n"
     ]
    },
    {
     "name": "stderr",
     "output_type": "stream",
     "text": [
      "Evaluating: 100%|██████████| 46/46 [00:20<00:00,  2.22it/s]\n"
     ]
    },
    {
     "name": "stdout",
     "output_type": "stream",
     "text": [
      "Loss: 0.1994\n",
      "Precision: 0.9415, Recall: 0.9421, F1-Score: 0.9405\n",
      "              precision    recall  f1-score   support\n",
      "\n",
      "           0       0.91      0.98      0.94       689\n",
      "           1       0.98      0.91      0.94       756\n",
      "\n",
      "    accuracy                           0.94      1445\n",
      "   macro avg       0.94      0.94      0.94      1445\n",
      "weighted avg       0.94      0.94      0.94      1445\n",
      "\n",
      "[14, 10]\n"
     ]
    },
    {
     "name": "stderr",
     "output_type": "stream",
     "text": [
      "Evaluating: 100%|██████████| 45/45 [00:22<00:00,  1.98it/s]\n"
     ]
    },
    {
     "name": "stdout",
     "output_type": "stream",
     "text": [
      "Loss: 0.3848\n",
      "Precision: 0.8173, Recall: 0.7977, F1-Score: 0.7994\n",
      "              precision    recall  f1-score   support\n",
      "\n",
      "           0       0.87      0.69      0.77       670\n",
      "           1       0.77      0.91      0.83       756\n",
      "\n",
      "    accuracy                           0.80      1426\n",
      "   macro avg       0.82      0.80      0.80      1426\n",
      "weighted avg       0.81      0.80      0.80      1426\n",
      "\n",
      "[14, 11]\n"
     ]
    },
    {
     "name": "stderr",
     "output_type": "stream",
     "text": [
      "Evaluating: 100%|██████████| 34/34 [00:14<00:00,  2.27it/s]\n"
     ]
    },
    {
     "name": "stdout",
     "output_type": "stream",
     "text": [
      "Loss: 0.3702\n",
      "Precision: 0.7241, Recall: 0.6668, F1-Score: 0.6814\n",
      "              precision    recall  f1-score   support\n",
      "\n",
      "           0       0.66      0.43      0.52       312\n",
      "           1       0.79      0.91      0.85       756\n",
      "\n",
      "    accuracy                           0.77      1068\n",
      "   macro avg       0.72      0.67      0.68      1068\n",
      "weighted avg       0.75      0.77      0.75      1068\n",
      "\n",
      "[14, 12]\n"
     ]
    },
    {
     "name": "stderr",
     "output_type": "stream",
     "text": [
      "Evaluating: 100%|██████████| 45/45 [00:19<00:00,  2.35it/s]\n"
     ]
    },
    {
     "name": "stdout",
     "output_type": "stream",
     "text": [
      "Loss: 0.5679\n",
      "Precision: 0.5484, Recall: 0.5191, F1-Score: 0.4454\n",
      "              precision    recall  f1-score   support\n",
      "\n",
      "           0       0.55      0.13      0.21       665\n",
      "           1       0.54      0.91      0.68       756\n",
      "\n",
      "    accuracy                           0.54      1421\n",
      "   macro avg       0.55      0.52      0.45      1421\n",
      "weighted avg       0.55      0.54      0.46      1421\n",
      "\n",
      "[14, 13]\n"
     ]
    },
    {
     "name": "stderr",
     "output_type": "stream",
     "text": [
      "Evaluating: 100%|██████████| 34/34 [00:14<00:00,  2.36it/s]\n"
     ]
    },
    {
     "name": "stdout",
     "output_type": "stream",
     "text": [
      "Loss: 0.5961\n",
      "Precision: 0.4516, Recall: 0.4824, F1-Score: 0.4395\n",
      "              precision    recall  f1-score   support\n",
      "\n",
      "           0       0.20      0.06      0.09       314\n",
      "           1       0.70      0.91      0.79       756\n",
      "\n",
      "    accuracy                           0.66      1070\n",
      "   macro avg       0.45      0.48      0.44      1070\n",
      "weighted avg       0.55      0.66      0.58      1070\n",
      "\n",
      "[14, 15]\n"
     ]
    },
    {
     "name": "stderr",
     "output_type": "stream",
     "text": [
      "Evaluating: 100%|██████████| 74/74 [00:29<00:00,  2.48it/s]\n"
     ]
    },
    {
     "name": "stdout",
     "output_type": "stream",
     "text": [
      "Loss: 0.7570\n",
      "Precision: 0.3686, Recall: 0.4702, F1-Score: 0.2596\n",
      "              precision    recall  f1-score   support\n",
      "\n",
      "           0       0.43      0.03      0.06      1607\n",
      "           1       0.31      0.91      0.46       756\n",
      "\n",
      "    accuracy                           0.31      2363\n",
      "   macro avg       0.37      0.47      0.26      2363\n",
      "weighted avg       0.39      0.31      0.19      2363\n",
      "\n",
      "Directory /home/Minwoo/LESN/Decompose/DecomposeBERT/Models/Configs/pretrained/sadickam/sdg-classification-bert exists.\n",
      "Loading the model.\n",
      "Start Time:03:51:38\n",
      "#Module 15 in progress....\n",
      "origin\n"
     ]
    },
    {
     "name": "stderr",
     "output_type": "stream",
     "text": [
      "Evaluating: 100%|██████████| 400/400 [02:51<00:00,  2.33it/s]\n"
     ]
    },
    {
     "name": "stdout",
     "output_type": "stream",
     "text": [
      "Loss: 0.9480\n",
      "Precision: 0.7801, Recall: 0.7867, F1-Score: 0.7793\n",
      "              precision    recall  f1-score   support\n",
      "\n",
      "           0       0.77      0.66      0.71       797\n",
      "           1       0.84      0.72      0.78       775\n",
      "           2       0.88      0.87      0.88       795\n",
      "           3       0.87      0.83      0.85      1110\n",
      "           4       0.86      0.80      0.83      1260\n",
      "           5       0.88      0.69      0.77       882\n",
      "           6       0.85      0.80      0.83       940\n",
      "           7       0.49      0.61      0.54       473\n",
      "           8       0.66      0.85      0.74       746\n",
      "           9       0.62      0.73      0.67       689\n",
      "          10       0.75      0.79      0.77       670\n",
      "          11       0.62      0.81      0.70       312\n",
      "          12       0.73      0.81      0.77       665\n",
      "          13       0.83      0.85      0.84       314\n",
      "          14       0.85      0.78      0.81       756\n",
      "          15       0.97      0.98      0.97      1607\n",
      "\n",
      "    accuracy                           0.80     12791\n",
      "   macro avg       0.78      0.79      0.78     12791\n",
      "weighted avg       0.81      0.80      0.80     12791\n",
      "\n",
      "Start Positive CI sparse\n",
      "Start Positive CI after sparse\n",
      "Start Negative TI\n",
      "dead node \n",
      "[0, 2, 4, 7, 8, 9, 10, 12, 14]\n",
      "active node \n",
      "[0, 4, 9, 13, 14, 15]\n",
      "weight factor \n",
      "[16, 0, 9, 0, 10, 0, 0, 10, 8, 16, 14, 0, 14, 0, 10, 0]\n",
      "weight factor \n",
      "[9, 0, 0, 0, 15, 0, 0, 0, 0, 16, 0, 0, 0, 15, 10, 16]\n",
      "[15, 0]\n"
     ]
    },
    {
     "name": "stderr",
     "output_type": "stream",
     "text": [
      "Evaluating: 100%|██████████| 76/76 [00:30<00:00,  2.51it/s]\n"
     ]
    },
    {
     "name": "stdout",
     "output_type": "stream",
     "text": [
      "Loss: 0.1215\n",
      "Precision: 0.9732, Recall: 0.9539, F1-Score: 0.9627\n",
      "              precision    recall  f1-score   support\n",
      "\n",
      "           0       0.99      0.91      0.95       797\n",
      "           1       0.96      0.99      0.98      1607\n",
      "\n",
      "    accuracy                           0.97      2404\n",
      "   macro avg       0.97      0.95      0.96      2404\n",
      "weighted avg       0.97      0.97      0.97      2404\n",
      "\n",
      "[15, 1]\n"
     ]
    },
    {
     "name": "stderr",
     "output_type": "stream",
     "text": [
      "Evaluating: 100%|██████████| 75/75 [00:30<00:00,  2.43it/s]\n"
     ]
    },
    {
     "name": "stdout",
     "output_type": "stream",
     "text": [
      "Loss: 0.1248\n",
      "Precision: 0.9781, Recall: 0.9637, F1-Score: 0.9704\n",
      "              precision    recall  f1-score   support\n",
      "\n",
      "           0       0.99      0.93      0.96       775\n",
      "           1       0.97      0.99      0.98      1607\n",
      "\n",
      "    accuracy                           0.97      2382\n",
      "   macro avg       0.98      0.96      0.97      2382\n",
      "weighted avg       0.97      0.97      0.97      2382\n",
      "\n",
      "[15, 2]\n"
     ]
    },
    {
     "name": "stderr",
     "output_type": "stream",
     "text": [
      "Evaluating: 100%|██████████| 76/76 [00:33<00:00,  2.28it/s]\n"
     ]
    },
    {
     "name": "stdout",
     "output_type": "stream",
     "text": [
      "Loss: 0.1345\n",
      "Precision: 0.9753, Recall: 0.9582, F1-Score: 0.9660\n",
      "              precision    recall  f1-score   support\n",
      "\n",
      "           0       0.99      0.92      0.95       795\n",
      "           1       0.96      0.99      0.98      1607\n",
      "\n",
      "    accuracy                           0.97      2402\n",
      "   macro avg       0.98      0.96      0.97      2402\n",
      "weighted avg       0.97      0.97      0.97      2402\n",
      "\n",
      "[15, 3]\n"
     ]
    },
    {
     "name": "stderr",
     "output_type": "stream",
     "text": [
      "Evaluating: 100%|██████████| 85/85 [00:40<00:00,  2.12it/s]\n"
     ]
    },
    {
     "name": "stdout",
     "output_type": "stream",
     "text": [
      "Loss: 0.2175\n",
      "Precision: 0.9472, Recall: 0.9206, F1-Score: 0.9300\n",
      "              precision    recall  f1-score   support\n",
      "\n",
      "           0       0.99      0.85      0.91      1110\n",
      "           1       0.90      0.99      0.95      1607\n",
      "\n",
      "    accuracy                           0.93      2717\n",
      "   macro avg       0.95      0.92      0.93      2717\n",
      "weighted avg       0.94      0.93      0.93      2717\n",
      "\n",
      "[15, 4]\n"
     ]
    },
    {
     "name": "stderr",
     "output_type": "stream",
     "text": [
      "Evaluating: 100%|██████████| 90/90 [00:38<00:00,  2.31it/s]\n"
     ]
    },
    {
     "name": "stdout",
     "output_type": "stream",
     "text": [
      "Loss: 0.8602\n",
      "Precision: 0.7766, Recall: 0.5722, F1-Score: 0.5033\n",
      "              precision    recall  f1-score   support\n",
      "\n",
      "           0       0.95      0.15      0.26      1260\n",
      "           1       0.60      0.99      0.75      1607\n",
      "\n",
      "    accuracy                           0.62      2867\n",
      "   macro avg       0.78      0.57      0.50      2867\n",
      "weighted avg       0.76      0.62      0.53      2867\n",
      "\n",
      "[15, 5]\n"
     ]
    },
    {
     "name": "stderr",
     "output_type": "stream",
     "text": [
      "Evaluating: 100%|██████████| 78/78 [00:33<00:00,  2.36it/s]\n"
     ]
    },
    {
     "name": "stdout",
     "output_type": "stream",
     "text": [
      "Loss: 0.1291\n",
      "Precision: 0.9727, Recall: 0.9558, F1-Score: 0.9634\n",
      "              precision    recall  f1-score   support\n",
      "\n",
      "           0       0.99      0.92      0.95       882\n",
      "           1       0.96      0.99      0.97      1607\n",
      "\n",
      "    accuracy                           0.97      2489\n",
      "   macro avg       0.97      0.96      0.96      2489\n",
      "weighted avg       0.97      0.97      0.97      2489\n",
      "\n",
      "[15, 6]\n"
     ]
    },
    {
     "name": "stderr",
     "output_type": "stream",
     "text": [
      "Evaluating: 100%|██████████| 80/80 [00:33<00:00,  2.36it/s]\n"
     ]
    },
    {
     "name": "stdout",
     "output_type": "stream",
     "text": [
      "Loss: 0.0798\n",
      "Precision: 0.9915, Recall: 0.9908, F1-Score: 0.9911\n",
      "              precision    recall  f1-score   support\n",
      "\n",
      "           0       0.99      0.99      0.99       940\n",
      "           1       0.99      0.99      0.99      1607\n",
      "\n",
      "    accuracy                           0.99      2547\n",
      "   macro avg       0.99      0.99      0.99      2547\n",
      "weighted avg       0.99      0.99      0.99      2547\n",
      "\n",
      "[15, 7]\n"
     ]
    },
    {
     "name": "stderr",
     "output_type": "stream",
     "text": [
      "Evaluating: 100%|██████████| 65/65 [00:27<00:00,  2.35it/s]\n"
     ]
    },
    {
     "name": "stdout",
     "output_type": "stream",
     "text": [
      "Loss: 0.0750\n",
      "Precision: 0.9760, Recall: 0.9496, F1-Score: 0.9620\n",
      "              precision    recall  f1-score   support\n",
      "\n",
      "           0       0.98      0.90      0.94       473\n",
      "           1       0.97      0.99      0.98      1607\n",
      "\n",
      "    accuracy                           0.97      2080\n",
      "   macro avg       0.98      0.95      0.96      2080\n",
      "weighted avg       0.97      0.97      0.97      2080\n",
      "\n",
      "[15, 8]\n"
     ]
    },
    {
     "name": "stderr",
     "output_type": "stream",
     "text": [
      "Evaluating: 100%|██████████| 74/74 [00:31<00:00,  2.37it/s]\n"
     ]
    },
    {
     "name": "stdout",
     "output_type": "stream",
     "text": [
      "Loss: 0.0567\n",
      "Precision: 0.9858, Recall: 0.9798, F1-Score: 0.9827\n",
      "              precision    recall  f1-score   support\n",
      "\n",
      "           0       0.99      0.97      0.98       746\n",
      "           1       0.98      0.99      0.99      1607\n",
      "\n",
      "    accuracy                           0.99      2353\n",
      "   macro avg       0.99      0.98      0.98      2353\n",
      "weighted avg       0.99      0.99      0.99      2353\n",
      "\n",
      "[15, 9]\n"
     ]
    },
    {
     "name": "stderr",
     "output_type": "stream",
     "text": [
      "Evaluating: 100%|██████████| 72/72 [00:30<00:00,  2.37it/s]\n"
     ]
    },
    {
     "name": "stdout",
     "output_type": "stream",
     "text": [
      "Loss: 0.1422\n",
      "Precision: 0.9645, Recall: 0.9283, F1-Score: 0.9440\n",
      "              precision    recall  f1-score   support\n",
      "\n",
      "           0       0.99      0.86      0.92       689\n",
      "           1       0.94      0.99      0.97      1607\n",
      "\n",
      "    accuracy                           0.95      2296\n",
      "   macro avg       0.96      0.93      0.94      2296\n",
      "weighted avg       0.96      0.95      0.95      2296\n",
      "\n",
      "[15, 10]\n"
     ]
    },
    {
     "name": "stderr",
     "output_type": "stream",
     "text": [
      "Evaluating: 100%|██████████| 72/72 [00:35<00:00,  2.02it/s]\n"
     ]
    },
    {
     "name": "stdout",
     "output_type": "stream",
     "text": [
      "Loss: 0.0308\n",
      "Precision: 0.9908, Recall: 0.9912, F1-Score: 0.9910\n",
      "              precision    recall  f1-score   support\n",
      "\n",
      "           0       0.99      0.99      0.99       670\n",
      "           1       1.00      0.99      0.99      1607\n",
      "\n",
      "    accuracy                           0.99      2277\n",
      "   macro avg       0.99      0.99      0.99      2277\n",
      "weighted avg       0.99      0.99      0.99      2277\n",
      "\n",
      "[15, 11]\n"
     ]
    },
    {
     "name": "stderr",
     "output_type": "stream",
     "text": [
      "Evaluating: 100%|██████████| 60/60 [00:25<00:00,  2.39it/s]\n"
     ]
    },
    {
     "name": "stdout",
     "output_type": "stream",
     "text": [
      "Loss: 0.0447\n",
      "Precision: 0.9828, Recall: 0.9828, F1-Score: 0.9828\n",
      "              precision    recall  f1-score   support\n",
      "\n",
      "           0       0.97      0.97      0.97       312\n",
      "           1       0.99      0.99      0.99      1607\n",
      "\n",
      "    accuracy                           0.99      1919\n",
      "   macro avg       0.98      0.98      0.98      1919\n",
      "weighted avg       0.99      0.99      0.99      1919\n",
      "\n",
      "[15, 12]\n"
     ]
    },
    {
     "name": "stderr",
     "output_type": "stream",
     "text": [
      "Evaluating: 100%|██████████| 71/71 [00:33<00:00,  2.15it/s]\n"
     ]
    },
    {
     "name": "stdout",
     "output_type": "stream",
     "text": [
      "Loss: 0.0415\n",
      "Precision: 0.9892, Recall: 0.9874, F1-Score: 0.9883\n",
      "              precision    recall  f1-score   support\n",
      "\n",
      "           0       0.99      0.98      0.98       665\n",
      "           1       0.99      0.99      0.99      1607\n",
      "\n",
      "    accuracy                           0.99      2272\n",
      "   macro avg       0.99      0.99      0.99      2272\n",
      "weighted avg       0.99      0.99      0.99      2272\n",
      "\n",
      "[15, 13]\n"
     ]
    },
    {
     "name": "stderr",
     "output_type": "stream",
     "text": [
      "Evaluating: 100%|██████████| 61/61 [00:25<00:00,  2.37it/s]\n"
     ]
    },
    {
     "name": "stdout",
     "output_type": "stream",
     "text": [
      "Loss: 0.5702\n",
      "Precision: 0.8025, Recall: 0.5418, F1-Score: 0.5375\n",
      "              precision    recall  f1-score   support\n",
      "\n",
      "           0       0.76      0.09      0.16       314\n",
      "           1       0.85      0.99      0.92      1607\n",
      "\n",
      "    accuracy                           0.85      1921\n",
      "   macro avg       0.80      0.54      0.54      1921\n",
      "weighted avg       0.83      0.85      0.79      1921\n",
      "\n",
      "[15, 14]\n"
     ]
    },
    {
     "name": "stderr",
     "output_type": "stream",
     "text": [
      "Evaluating: 100%|██████████| 74/74 [00:33<00:00,  2.23it/s]"
     ]
    },
    {
     "name": "stdout",
     "output_type": "stream",
     "text": [
      "Loss: 0.3633\n",
      "Precision: 0.8463, Recall: 0.6222, F1-Score: 0.6218\n",
      "              precision    recall  f1-score   support\n",
      "\n",
      "           0       0.95      0.25      0.40       756\n",
      "           1       0.74      0.99      0.85      1607\n",
      "\n",
      "    accuracy                           0.76      2363\n",
      "   macro avg       0.85      0.62      0.62      2363\n",
      "weighted avg       0.81      0.76      0.70      2363\n",
      "\n"
     ]
    },
    {
     "name": "stderr",
     "output_type": "stream",
     "text": [
      "\n"
     ]
    }
   ],
   "source": [
    "for i in range(num_labels):\n",
    "    model, tokenizer, checkpoint = load_classification_model(model_config, train_mode=False)\n",
    "\n",
    "    train_dataloader, valid_dataloader, test_dataloader = load_data(\n",
    "        model_config, batch_size=32, test_size=0.3\n",
    "    )\n",
    "\n",
    "    print(\"Start Time:\" + datetime.now().strftime(\"%H:%M:%S\"))\n",
    "    print(\"#Module \" + str(i) + \" in progress....\")\n",
    "    num_samples = 64\n",
    "\n",
    "    positive_samples = sampling_class(\n",
    "        train_dataloader, i, num_samples, num_labels, True, 4, device=device\n",
    "    )\n",
    "    negative_samples = sampling_class(\n",
    "        train_dataloader, i, num_samples, num_labels, False, 4, device=device\n",
    "    )\n",
    "\n",
    "    all_samples = sampling_class(\n",
    "        train_dataloader, 200, 20, num_labels, False, 4, device=device\n",
    "    )\n",
    "\n",
    "    print(\"origin\")\n",
    "    evaluate_model(model, model_config, test_dataloader)\n",
    "\n",
    "    module = copy.deepcopy(model)\n",
    "    wr = WeightRemoverBert(model, p=0.9)\n",
    "    ci = ConcernIdentificationBert(model, p=0.4)\n",
    "    ti = TanglingIdentification(model, p=0.5)\n",
    "\n",
    "    print(\"Start Positive CI sparse\")\n",
    "\n",
    "    eval_step = 5\n",
    "    for idx, batch in enumerate(all_samples):\n",
    "        input_ids, attn_mask, _, total_sampled = batch\n",
    "        with torch.no_grad():\n",
    "            wr.propagate(module, input_ids)\n",
    "        if idx % eval_step:\n",
    "            # result = evaluate_model(module, model_config, test_dataloader)\n",
    "            pass\n",
    "\n",
    "    print(\"Start Positive CI after sparse\")\n",
    "\n",
    "    for idx, batch in enumerate(positive_samples):\n",
    "        input_ids, attn_mask, _, total_sampled = batch\n",
    "        with torch.no_grad():\n",
    "            ci.propagate(module, input_ids)\n",
    "        if idx % eval_step:\n",
    "            # result = evaluate_model(module, model_config, test_dataloader)\n",
    "            pass\n",
    "\n",
    "    print(\"Start Negative TI\")\n",
    "\n",
    "    for idx, batch in enumerate(negative_samples):\n",
    "        input_ids, attn_mask, _, total_sampled = batch\n",
    "        with torch.no_grad():\n",
    "            ti.propagate(module, input_ids)\n",
    "        if idx % eval_step:\n",
    "            # result = evaluate_model(module, model_config, test_dataloader)\n",
    "            pass\n",
    "\n",
    "    ConcernModularizationBert.channeling(module, ci.active_node, ti.dead_node, i, model_config.device)\n",
    "    binary_module = ConcernModularizationBert.convert2binary(model_config, module)\n",
    "    # save_module(binary_module, model_config.module_dir, model_config.model_name)\n",
    "    \n",
    "    for m in range(num_labels):\n",
    "        if i == m:\n",
    "            continue\n",
    "        print(f\"[{i}, {m}]\")\n",
    "        converted_test_dataloader = extract_and_convert_dataloader(test_dataloader, i, m)\n",
    "        result = evaluate_model(module, model_config, converted_test_dataloader)\n"
   ]
  }
 ],
 "metadata": {
  "kernelspec": {
   "display_name": "Python 3 (ipykernel)",
   "language": "python",
   "name": "python3"
  },
  "language_info": {
   "codemirror_mode": {
    "name": "ipython",
    "version": 3
   },
   "file_extension": ".py",
   "mimetype": "text/x-python",
   "name": "python",
   "nbconvert_exporter": "python",
   "pygments_lexer": "ipython3",
   "version": "3.8.18"
  }
 },
 "nbformat": 4,
 "nbformat_minor": 5
}
