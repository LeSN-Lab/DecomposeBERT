{
 "cells": [
  {
   "cell_type": "code",
   "execution_count": 1,
   "id": "6521b371-7c72-40e4-b5ae-83a6ee1c54cf",
   "metadata": {},
   "outputs": [],
   "source": [
    "import copy\n",
    "import os.path\n",
    "import sys"
   ]
  },
  {
   "cell_type": "code",
   "execution_count": 2,
   "id": "2e9021fc-d9c3-4825-a91e-ceb46717ff9d",
   "metadata": {},
   "outputs": [],
   "source": [
    "pwd = os.getcwd()\n",
    "sys.path.append(os.path.dirname(pwd))"
   ]
  },
  {
   "cell_type": "code",
   "execution_count": 3,
   "id": "4d8fa367-7678-46fb-b95a-252b525a9af9",
   "metadata": {},
   "outputs": [],
   "source": [
    "from utils.model_utils.evaluate import evaluate_model\n",
    "from utils.model_utils.load_model import *\n",
    "from utils.model_utils.model_config import ModelConfig\n",
    "from utils.dataset_utils.load_dataset import load_data\n",
    "from utils.decompose_utils.weight_remover import WeightRemoverBert\n",
    "from utils.decompose_utils.concern_identification import ConcernIdentificationBert\n",
    "from utils.decompose_utils.tangling_identification import TanglingIdentification\n",
    "from transformers import AutoConfig\n",
    "from utils.model_utils.save_module import save_module\n",
    "from datetime import datetime\n",
    "from utils.decompose_utils.concern_modularization import ConcernModularizationBert\n",
    "from utils.decompose_utils.sampling import sampling_class\n",
    "from utils.dataset_utils.load_dataset import convert_dataset_labels_to_binary, extract_and_convert_dataloader\n",
    "import torch"
   ]
  },
  {
   "cell_type": "code",
   "execution_count": 4,
   "id": "50ec363d-0193-4a38-9b36-e609668ddbf4",
   "metadata": {},
   "outputs": [],
   "source": [
    "model_name = \"sadickam/sdg-classification-bert\"\n",
    "model_type = \"pretrained\"\n",
    "data = \"OSDG\"\n",
    "num_labels = 16\n",
    "\n",
    "\n",
    "# model_name = \"textattack/bert-base-uncased-imdb\"\n",
    "# model_type = \"pretrained\"\n",
    "# data = \"IMDb\"\n",
    "# num_labels = 2\n",
    "\n",
    "# model_name = \"fabriceyhc/bert-base-uncased-yahoo_answers_topics\"\n",
    "# model_type = \"pretrained\"\n",
    "# data = \"Yahoo\"\n",
    "# num_labels = 10"
   ]
  },
  {
   "cell_type": "code",
   "execution_count": 5,
   "id": "4553a7e1-06ec-4323-9843-00660ef0fa8e",
   "metadata": {},
   "outputs": [],
   "source": [
    "# device = torch.device(\"cuda:0\" if torch.cuda.is_available() else \"cpu\")\n",
    "device = torch.device(\"cuda:1\" if torch.cuda.is_available() else \"cpu\")"
   ]
  },
  {
   "cell_type": "code",
   "execution_count": 6,
   "id": "55d0ff54-1c9d-4ec0-86b7-eea274c61b33",
   "metadata": {},
   "outputs": [],
   "source": [
    "checkpoint_name = None\n",
    "config = AutoConfig.from_pretrained(model_name, num_labels=num_labels)\n",
    "model_config = ModelConfig(\n",
    "    _model_name=model_name,\n",
    "    _model_type=model_type,\n",
    "    _data=data,\n",
    "    _transformer_config=config,\n",
    "    _checkpoint_name=checkpoint_name,\n",
    "    _device=device,\n",
    ")"
   ]
  },
  {
   "cell_type": "code",
   "execution_count": 7,
   "id": "162ca064-05cd-4bca-b37f-9624d4c49893",
   "metadata": {},
   "outputs": [],
   "source": [
    "def pppp(module1, ci1, ti1, model_config):\n",
    "    "
   ]
  },
  {
   "cell_type": "code",
   "execution_count": 8,
   "id": "d1711493-8f25-4305-b4f7-e59673d56956",
   "metadata": {},
   "outputs": [
    {
     "name": "stdout",
     "output_type": "stream",
     "text": [
      "Directory /home/Minwoo/LESN/Decompose/DecomposeBERT/Models/Configs/pretrained/sadickam/sdg-classification-bert exists.\n",
      "Loading the model.\n",
      "Start Time:15:47:07\n",
      "#Module 0 in progress....\n",
      "origin\n",
      "Start Positive CI sparse\n",
      "Start Positive CI after sparse\n",
      "Start Negative TI\n",
      "[1, 2, 7, 9, 10, 12, 13, 14, 15]\n",
      "[0]\n",
      "[0, 12, 10, 0, 0, 0, 0, 11, 0, 16, 14, 0, 8, 10, 8, 16]\n",
      "[16, 0, 0, 0, 0, 0, 0, 0, 0, 0, 0, 0, 0, 0, 0, 0]\n"
     ]
    },
    {
     "name": "stderr",
     "output_type": "stream",
     "text": [
      "Evaluating: 100%|██████████| 50/50 [00:10<00:00,  4.62it/s]\n"
     ]
    },
    {
     "name": "stdout",
     "output_type": "stream",
     "text": [
      "Loss: 0.5246\n",
      "Precision: 0.8194, Recall: 0.7742, F1-Score: 0.7659\n",
      "              precision    recall  f1-score   support\n",
      "\n",
      "           0       0.94      0.59      0.72       797\n",
      "           1       0.70      0.96      0.81       797\n",
      "\n",
      "    accuracy                           0.77      1594\n",
      "   macro avg       0.82      0.77      0.77      1594\n",
      "weighted avg       0.82      0.77      0.77      1594\n",
      "\n",
      "Directory /home/Minwoo/LESN/Decompose/DecomposeBERT/Models/Configs/pretrained/sadickam/sdg-classification-bert exists.\n",
      "Loading the model.\n",
      "Start Time:15:47:48\n",
      "#Module 1 in progress....\n",
      "origin\n",
      "Start Positive CI sparse\n",
      "Start Positive CI after sparse\n",
      "Start Negative TI\n",
      "[0, 2, 7, 8, 9, 10, 12, 15]\n",
      "[1, 13]\n",
      "[15, 0, 8, 0, 0, 0, 0, 11, 9, 16, 14, 0, 11, 0, 0, 16]\n",
      "[0, 16, 0, 0, 0, 0, 0, 0, 0, 0, 0, 0, 0, 9, 0, 0]\n"
     ]
    },
    {
     "name": "stderr",
     "output_type": "stream",
     "text": [
      "Evaluating: 100%|██████████| 49/49 [00:11<00:00,  4.36it/s]\n"
     ]
    },
    {
     "name": "stdout",
     "output_type": "stream",
     "text": [
      "Loss: 0.4987\n",
      "Precision: 0.8162, Recall: 0.8155, F1-Score: 0.8154\n",
      "              precision    recall  f1-score   support\n",
      "\n",
      "           0       0.83      0.79      0.81       775\n",
      "           1       0.80      0.84      0.82       775\n",
      "\n",
      "    accuracy                           0.82      1550\n",
      "   macro avg       0.82      0.82      0.82      1550\n",
      "weighted avg       0.82      0.82      0.82      1550\n",
      "\n",
      "Directory /home/Minwoo/LESN/Decompose/DecomposeBERT/Models/Configs/pretrained/sadickam/sdg-classification-bert exists.\n",
      "Loading the model.\n",
      "Start Time:15:48:30\n",
      "#Module 2 in progress....\n",
      "origin\n",
      "Start Positive CI sparse\n",
      "Start Positive CI after sparse\n",
      "Start Negative TI\n",
      "[0, 1, 7, 8, 9, 10, 12, 15]\n",
      "[2]\n",
      "[16, 10, 0, 0, 0, 0, 0, 12, 10, 16, 15, 0, 8, 0, 0, 16]\n",
      "[0, 0, 16, 0, 0, 0, 0, 0, 0, 0, 0, 0, 0, 0, 0, 0]\n"
     ]
    },
    {
     "name": "stderr",
     "output_type": "stream",
     "text": [
      "Evaluating: 100%|██████████| 50/50 [00:11<00:00,  4.36it/s]\n"
     ]
    },
    {
     "name": "stdout",
     "output_type": "stream",
     "text": [
      "Loss: 0.3963\n",
      "Precision: 0.8417, Recall: 0.8220, F1-Score: 0.8194\n",
      "              precision    recall  f1-score   support\n",
      "\n",
      "           0       0.92      0.70      0.80       795\n",
      "           1       0.76      0.94      0.84       795\n",
      "\n",
      "    accuracy                           0.82      1590\n",
      "   macro avg       0.84      0.82      0.82      1590\n",
      "weighted avg       0.84      0.82      0.82      1590\n",
      "\n",
      "Directory /home/Minwoo/LESN/Decompose/DecomposeBERT/Models/Configs/pretrained/sadickam/sdg-classification-bert exists.\n",
      "Loading the model.\n",
      "Start Time:15:49:07\n",
      "#Module 3 in progress....\n",
      "origin\n",
      "Start Positive CI sparse\n",
      "Start Positive CI after sparse\n",
      "Start Negative TI\n",
      "[0, 1, 2, 5, 7, 8, 9, 10, 12, 14, 15]\n",
      "[3]\n",
      "[16, 10, 14, 0, 0, 8, 0, 10, 9, 16, 14, 0, 10, 0, 8, 16]\n",
      "[0, 0, 0, 16, 0, 0, 0, 0, 0, 0, 0, 0, 0, 0, 0, 0]\n"
     ]
    },
    {
     "name": "stderr",
     "output_type": "stream",
     "text": [
      "Evaluating: 100%|██████████| 70/70 [00:16<00:00,  4.30it/s]\n"
     ]
    },
    {
     "name": "stdout",
     "output_type": "stream",
     "text": [
      "Loss: 0.3878\n",
      "Precision: 0.8526, Recall: 0.8441, F1-Score: 0.8432\n",
      "              precision    recall  f1-score   support\n",
      "\n",
      "           0       0.91      0.77      0.83      1110\n",
      "           1       0.80      0.92      0.86      1110\n",
      "\n",
      "    accuracy                           0.84      2220\n",
      "   macro avg       0.85      0.84      0.84      2220\n",
      "weighted avg       0.85      0.84      0.84      2220\n",
      "\n",
      "Directory /home/Minwoo/LESN/Decompose/DecomposeBERT/Models/Configs/pretrained/sadickam/sdg-classification-bert exists.\n",
      "Loading the model.\n",
      "Start Time:15:49:50\n",
      "#Module 4 in progress....\n",
      "origin\n",
      "Start Positive CI sparse\n",
      "Start Positive CI after sparse\n",
      "Start Negative TI\n",
      "[0, 1, 7, 8, 9, 10, 12, 15]\n",
      "[2, 4]\n",
      "[16, 9, 0, 0, 0, 0, 0, 15, 9, 16, 14, 0, 9, 0, 0, 16]\n",
      "[0, 0, 11, 0, 16, 0, 0, 0, 0, 0, 0, 0, 0, 0, 0, 0]\n"
     ]
    },
    {
     "name": "stderr",
     "output_type": "stream",
     "text": [
      "Evaluating: 100%|██████████| 79/79 [00:18<00:00,  4.24it/s]\n"
     ]
    },
    {
     "name": "stdout",
     "output_type": "stream",
     "text": [
      "Loss: 0.6225\n",
      "Precision: 0.7861, Recall: 0.7754, F1-Score: 0.7733\n",
      "              precision    recall  f1-score   support\n",
      "\n",
      "           0       0.84      0.68      0.75      1260\n",
      "           1       0.73      0.87      0.80      1260\n",
      "\n",
      "    accuracy                           0.78      2520\n",
      "   macro avg       0.79      0.78      0.77      2520\n",
      "weighted avg       0.79      0.78      0.77      2520\n",
      "\n",
      "Directory /home/Minwoo/LESN/Decompose/DecomposeBERT/Models/Configs/pretrained/sadickam/sdg-classification-bert exists.\n",
      "Loading the model.\n",
      "Start Time:15:50:38\n",
      "#Module 5 in progress....\n",
      "origin\n",
      "Start Positive CI sparse\n",
      "Start Positive CI after sparse\n",
      "Start Negative TI\n",
      "[0, 1, 2, 7, 9, 10, 12, 15]\n",
      "[5]\n",
      "[16, 11, 11, 0, 0, 0, 0, 10, 0, 16, 15, 0, 9, 0, 0, 16]\n",
      "[0, 0, 0, 0, 0, 16, 0, 0, 0, 0, 0, 0, 0, 0, 0, 0]\n"
     ]
    },
    {
     "name": "stderr",
     "output_type": "stream",
     "text": [
      "Evaluating: 100%|██████████| 56/56 [00:12<00:00,  4.31it/s]\n"
     ]
    },
    {
     "name": "stdout",
     "output_type": "stream",
     "text": [
      "Loss: 0.4209\n",
      "Precision: 0.8236, Recall: 0.8152, F1-Score: 0.8140\n",
      "              precision    recall  f1-score   support\n",
      "\n",
      "           0       0.88      0.73      0.80       882\n",
      "           1       0.77      0.90      0.83       882\n",
      "\n",
      "    accuracy                           0.82      1764\n",
      "   macro avg       0.82      0.82      0.81      1764\n",
      "weighted avg       0.82      0.82      0.81      1764\n",
      "\n",
      "Directory /home/Minwoo/LESN/Decompose/DecomposeBERT/Models/Configs/pretrained/sadickam/sdg-classification-bert exists.\n",
      "Loading the model.\n",
      "Start Time:15:51:21\n",
      "#Module 6 in progress....\n",
      "origin\n",
      "Start Positive CI sparse\n",
      "Start Positive CI after sparse\n",
      "Start Negative TI\n",
      "[0, 1, 7, 8, 9, 10, 12, 15]\n",
      "[11, 6]\n",
      "[15, 11, 0, 0, 0, 0, 0, 14, 14, 16, 13, 0, 12, 0, 0, 16]\n",
      "[0, 0, 0, 0, 0, 0, 16, 0, 0, 0, 0, 9, 0, 0, 0, 0]\n"
     ]
    },
    {
     "name": "stderr",
     "output_type": "stream",
     "text": [
      "Evaluating: 100%|██████████| 59/59 [00:13<00:00,  4.26it/s]\n"
     ]
    },
    {
     "name": "stdout",
     "output_type": "stream",
     "text": [
      "Loss: 0.4260\n",
      "Precision: 0.8386, Recall: 0.8314, F1-Score: 0.8305\n",
      "              precision    recall  f1-score   support\n",
      "\n",
      "           0       0.89      0.76      0.82       940\n",
      "           1       0.79      0.90      0.84       940\n",
      "\n",
      "    accuracy                           0.83      1880\n",
      "   macro avg       0.84      0.83      0.83      1880\n",
      "weighted avg       0.84      0.83      0.83      1880\n",
      "\n",
      "Directory /home/Minwoo/LESN/Decompose/DecomposeBERT/Models/Configs/pretrained/sadickam/sdg-classification-bert exists.\n",
      "Loading the model.\n",
      "Start Time:15:52:02\n",
      "#Module 7 in progress....\n",
      "origin\n",
      "Start Positive CI sparse\n",
      "Start Positive CI after sparse\n",
      "Start Negative TI\n",
      "[0, 8, 9, 10, 12, 15]\n",
      "[7]\n",
      "[16, 0, 0, 0, 0, 0, 0, 0, 10, 16, 14, 0, 8, 0, 0, 16]\n",
      "[0, 0, 0, 0, 0, 0, 0, 13, 0, 0, 0, 0, 0, 0, 0, 0]\n"
     ]
    },
    {
     "name": "stderr",
     "output_type": "stream",
     "text": [
      "Evaluating: 100%|██████████| 30/30 [00:06<00:00,  4.29it/s]\n"
     ]
    },
    {
     "name": "stdout",
     "output_type": "stream",
     "text": [
      "Loss: 0.5624\n",
      "Precision: 0.7400, Recall: 0.7135, F1-Score: 0.7054\n",
      "              precision    recall  f1-score   support\n",
      "\n",
      "           0       0.82      0.55      0.66       473\n",
      "           1       0.66      0.88      0.75       473\n",
      "\n",
      "    accuracy                           0.71       946\n",
      "   macro avg       0.74      0.71      0.71       946\n",
      "weighted avg       0.74      0.71      0.71       946\n",
      "\n",
      "Directory /home/Minwoo/LESN/Decompose/DecomposeBERT/Models/Configs/pretrained/sadickam/sdg-classification-bert exists.\n",
      "Loading the model.\n",
      "Start Time:15:52:38\n",
      "#Module 8 in progress....\n",
      "origin\n",
      "Start Positive CI sparse\n",
      "Start Positive CI after sparse\n",
      "Start Negative TI\n",
      "[0, 1, 7, 9, 10, 15]\n",
      "[8]\n",
      "[16, 9, 0, 0, 0, 0, 0, 12, 0, 16, 16, 0, 0, 0, 0, 16]\n",
      "[0, 0, 0, 0, 0, 0, 0, 0, 16, 0, 0, 0, 0, 0, 0, 0]\n"
     ]
    },
    {
     "name": "stderr",
     "output_type": "stream",
     "text": [
      "Evaluating: 100%|██████████| 47/47 [00:10<00:00,  4.29it/s]\n"
     ]
    },
    {
     "name": "stdout",
     "output_type": "stream",
     "text": [
      "Loss: 0.4757\n",
      "Precision: 0.8347, Recall: 0.7909, F1-Score: 0.7838\n",
      "              precision    recall  f1-score   support\n",
      "\n",
      "           0       0.96      0.61      0.74       746\n",
      "           1       0.71      0.97      0.82       746\n",
      "\n",
      "    accuracy                           0.79      1492\n",
      "   macro avg       0.83      0.79      0.78      1492\n",
      "weighted avg       0.83      0.79      0.78      1492\n",
      "\n",
      "Directory /home/Minwoo/LESN/Decompose/DecomposeBERT/Models/Configs/pretrained/sadickam/sdg-classification-bert exists.\n",
      "Loading the model.\n",
      "Start Time:15:53:19\n",
      "#Module 9 in progress....\n",
      "origin\n",
      "Start Positive CI sparse\n",
      "Start Positive CI after sparse\n",
      "Start Negative TI\n",
      "[0, 2, 7, 10, 12, 15]\n",
      "[8, 9]\n",
      "[16, 0, 8, 0, 0, 0, 0, 13, 0, 0, 13, 0, 9, 0, 0, 16]\n",
      "[0, 0, 0, 0, 0, 0, 0, 0, 9, 16, 0, 0, 0, 0, 0, 0]\n"
     ]
    },
    {
     "name": "stderr",
     "output_type": "stream",
     "text": [
      "Evaluating: 100%|██████████| 44/44 [00:10<00:00,  4.36it/s]\n"
     ]
    },
    {
     "name": "stdout",
     "output_type": "stream",
     "text": [
      "Loss: 0.6339\n",
      "Precision: 0.7874, Recall: 0.7199, F1-Score: 0.7024\n",
      "              precision    recall  f1-score   support\n",
      "\n",
      "           0       0.93      0.48      0.63       689\n",
      "           1       0.65      0.96      0.77       689\n",
      "\n",
      "    accuracy                           0.72      1378\n",
      "   macro avg       0.79      0.72      0.70      1378\n",
      "weighted avg       0.79      0.72      0.70      1378\n",
      "\n",
      "Directory /home/Minwoo/LESN/Decompose/DecomposeBERT/Models/Configs/pretrained/sadickam/sdg-classification-bert exists.\n",
      "Loading the model.\n",
      "Start Time:15:53:56\n",
      "#Module 10 in progress....\n",
      "origin\n",
      "Start Positive CI sparse\n",
      "Start Positive CI after sparse\n",
      "Start Negative TI\n",
      "[0, 1, 2, 8, 9, 12, 15]\n",
      "[10]\n",
      "[16, 9, 8, 0, 0, 0, 0, 0, 11, 16, 0, 0, 10, 0, 0, 16]\n",
      "[0, 0, 0, 0, 0, 0, 0, 0, 0, 0, 16, 0, 0, 0, 0, 0]\n"
     ]
    },
    {
     "name": "stderr",
     "output_type": "stream",
     "text": [
      "Evaluating: 100%|██████████| 42/42 [00:09<00:00,  4.26it/s]\n"
     ]
    },
    {
     "name": "stdout",
     "output_type": "stream",
     "text": [
      "Loss: 0.4882\n",
      "Precision: 0.8035, Recall: 0.7828, F1-Score: 0.7791\n",
      "              precision    recall  f1-score   support\n",
      "\n",
      "           0       0.88      0.65      0.75       670\n",
      "           1       0.72      0.91      0.81       670\n",
      "\n",
      "    accuracy                           0.78      1340\n",
      "   macro avg       0.80      0.78      0.78      1340\n",
      "weighted avg       0.80      0.78      0.78      1340\n",
      "\n",
      "Directory /home/Minwoo/LESN/Decompose/DecomposeBERT/Models/Configs/pretrained/sadickam/sdg-classification-bert exists.\n",
      "Loading the model.\n",
      "Start Time:15:54:37\n",
      "#Module 11 in progress....\n",
      "origin\n",
      "Start Positive CI sparse\n",
      "Start Positive CI after sparse\n",
      "Start Negative TI\n",
      "[0, 1, 7, 9, 10, 15]\n",
      "[2, 8, 11, 12, 13, 14]\n",
      "[16, 10, 0, 0, 0, 0, 0, 13, 0, 16, 12, 0, 0, 0, 0, 16]\n",
      "[0, 0, 8, 0, 0, 0, 0, 0, 14, 0, 0, 16, 8, 10, 9, 0]\n"
     ]
    },
    {
     "name": "stderr",
     "output_type": "stream",
     "text": [
      "Evaluating: 100%|██████████| 20/20 [00:04<00:00,  4.37it/s]\n"
     ]
    },
    {
     "name": "stdout",
     "output_type": "stream",
     "text": [
      "Loss: 0.5731\n",
      "Precision: 0.8243, Recall: 0.7949, F1-Score: 0.7901\n",
      "              precision    recall  f1-score   support\n",
      "\n",
      "           0       0.92      0.64      0.76       312\n",
      "           1       0.73      0.95      0.82       312\n",
      "\n",
      "    accuracy                           0.79       624\n",
      "   macro avg       0.82      0.79      0.79       624\n",
      "weighted avg       0.82      0.79      0.79       624\n",
      "\n",
      "Directory /home/Minwoo/LESN/Decompose/DecomposeBERT/Models/Configs/pretrained/sadickam/sdg-classification-bert exists.\n",
      "Loading the model.\n",
      "Start Time:15:55:18\n",
      "#Module 12 in progress....\n",
      "origin\n",
      "Start Positive CI sparse\n",
      "Start Positive CI after sparse\n",
      "Start Negative TI\n",
      "[0, 1, 7, 8, 9, 10, 15]\n",
      "[13, 12, 5, 14]\n",
      "[16, 12, 0, 0, 0, 0, 0, 9, 14, 16, 15, 0, 0, 0, 0, 16]\n",
      "[0, 0, 0, 0, 0, 13, 0, 0, 0, 0, 0, 0, 16, 13, 10, 0]\n"
     ]
    },
    {
     "name": "stderr",
     "output_type": "stream",
     "text": [
      "Evaluating: 100%|██████████| 42/42 [00:09<00:00,  4.28it/s]\n"
     ]
    },
    {
     "name": "stdout",
     "output_type": "stream",
     "text": [
      "Loss: 0.6199\n",
      "Precision: 0.8446, Recall: 0.8391, F1-Score: 0.8385\n",
      "              precision    recall  f1-score   support\n",
      "\n",
      "           0       0.89      0.78      0.83       665\n",
      "           1       0.80      0.90      0.85       665\n",
      "\n",
      "    accuracy                           0.84      1330\n",
      "   macro avg       0.84      0.84      0.84      1330\n",
      "weighted avg       0.84      0.84      0.84      1330\n",
      "\n",
      "Directory /home/Minwoo/LESN/Decompose/DecomposeBERT/Models/Configs/pretrained/sadickam/sdg-classification-bert exists.\n",
      "Loading the model.\n",
      "Start Time:15:55:59\n",
      "#Module 13 in progress....\n",
      "origin\n",
      "Start Positive CI sparse\n",
      "Start Positive CI after sparse\n",
      "Start Negative TI\n",
      "[0, 1, 2, 7, 9, 10, 12, 14, 15]\n",
      "[8, 13, 5]\n",
      "[16, 13, 8, 0, 0, 0, 0, 10, 0, 16, 11, 0, 10, 0, 8, 16]\n",
      "[0, 0, 0, 0, 0, 11, 0, 0, 9, 0, 0, 0, 0, 16, 0, 0]\n"
     ]
    },
    {
     "name": "stderr",
     "output_type": "stream",
     "text": [
      "Evaluating: 100%|██████████| 20/20 [00:04<00:00,  4.38it/s]\n"
     ]
    },
    {
     "name": "stdout",
     "output_type": "stream",
     "text": [
      "Loss: 0.4293\n",
      "Precision: 0.8486, Recall: 0.8248, F1-Score: 0.8218\n",
      "              precision    recall  f1-score   support\n",
      "\n",
      "           0       0.94      0.69      0.80       314\n",
      "           1       0.76      0.96      0.85       314\n",
      "\n",
      "    accuracy                           0.82       628\n",
      "   macro avg       0.85      0.82      0.82       628\n",
      "weighted avg       0.85      0.82      0.82       628\n",
      "\n",
      "Directory /home/Minwoo/LESN/Decompose/DecomposeBERT/Models/Configs/pretrained/sadickam/sdg-classification-bert exists.\n",
      "Loading the model.\n",
      "Start Time:15:56:31\n",
      "#Module 14 in progress....\n",
      "origin\n",
      "Start Positive CI sparse\n",
      "Start Positive CI after sparse\n",
      "Start Negative TI\n",
      "[0, 1, 5, 7, 8, 9, 10, 13, 15]\n",
      "[12, 14]\n",
      "[15, 10, 0, 0, 0, 8, 0, 11, 9, 16, 14, 0, 0, 8, 0, 16]\n",
      "[0, 0, 0, 0, 0, 0, 0, 0, 0, 0, 0, 0, 12, 0, 16, 0]\n"
     ]
    },
    {
     "name": "stderr",
     "output_type": "stream",
     "text": [
      "Evaluating: 100%|██████████| 48/48 [00:11<00:00,  4.33it/s]\n"
     ]
    },
    {
     "name": "stdout",
     "output_type": "stream",
     "text": [
      "Loss: 0.5449\n",
      "Precision: 0.8415, Recall: 0.8320, F1-Score: 0.8308\n",
      "              precision    recall  f1-score   support\n",
      "\n",
      "           0       0.90      0.75      0.82       756\n",
      "           1       0.78      0.92      0.84       756\n",
      "\n",
      "    accuracy                           0.83      1512\n",
      "   macro avg       0.84      0.83      0.83      1512\n",
      "weighted avg       0.84      0.83      0.83      1512\n",
      "\n",
      "Directory /home/Minwoo/LESN/Decompose/DecomposeBERT/Models/Configs/pretrained/sadickam/sdg-classification-bert exists.\n",
      "Loading the model.\n",
      "Start Time:15:57:13\n",
      "#Module 15 in progress....\n",
      "origin\n",
      "Start Positive CI sparse\n",
      "Start Positive CI after sparse\n",
      "Start Negative TI\n",
      "[0, 2, 4, 7, 9, 10, 12, 14]\n",
      "[13, 15]\n",
      "[15, 0, 10, 0, 10, 0, 0, 11, 0, 16, 15, 0, 14, 0, 12, 0]\n",
      "[0, 0, 0, 0, 0, 0, 0, 0, 0, 0, 0, 0, 0, 13, 0, 16]\n"
     ]
    },
    {
     "name": "stderr",
     "output_type": "stream",
     "text": [
      "Evaluating: 100%|██████████| 101/101 [00:23<00:00,  4.22it/s]"
     ]
    },
    {
     "name": "stdout",
     "output_type": "stream",
     "text": [
      "Loss: 0.1580\n",
      "Precision: 0.9719, Recall: 0.9711, F1-Score: 0.9711\n",
      "              precision    recall  f1-score   support\n",
      "\n",
      "           0       0.99      0.95      0.97      1607\n",
      "           1       0.95      0.99      0.97      1607\n",
      "\n",
      "    accuracy                           0.97      3214\n",
      "   macro avg       0.97      0.97      0.97      3214\n",
      "weighted avg       0.97      0.97      0.97      3214\n",
      "\n"
     ]
    },
    {
     "name": "stderr",
     "output_type": "stream",
     "text": [
      "\n"
     ]
    }
   ],
   "source": [
    "for i in range(num_labels):\n",
    "    model, tokenizer, checkpoint = load_classification_model(model_config, train_mode=False)\n",
    "\n",
    "    train_dataloader, valid_dataloader, test_dataloader = load_data(\n",
    "        model_config, batch_size=32, test_size=0.3\n",
    "    )\n",
    "    print(\"Start Time:\" + datetime.now().strftime(\"%H:%M:%S\"))\n",
    "    print(\"#Module \" + str(i) + \" in progress....\")\n",
    "    num_samples = 64\n",
    "    \n",
    "    positive_samples = sampling_class(\n",
    "        train_dataloader, i, num_samples, num_labels, True, 4, device=device\n",
    "    )\n",
    "    negative_samples = sampling_class(\n",
    "        train_dataloader, i, num_samples, num_labels, False, 4, device=device\n",
    "    )\n",
    "    \n",
    "    all_samples = sampling_class(\n",
    "        train_dataloader, 200, 20, num_labels, False, 4, device=device\n",
    "    )\n",
    "    \n",
    "    module1 = copy.deepcopy(model)\n",
    "    w = WeightRemoverBert(model, p=0.9)\n",
    "    ci1 = ConcernIdentificationBert(model, p=0.4)\n",
    "    ti1 = TanglingIdentification(model, p=0.5)\n",
    "    \n",
    "    ff1 = [\n",
    "        [torch.sum(model.bert.encoder.layer[num].intermediate.dense.weight != 0).item()]\n",
    "        for num in range(config.num_hidden_layers)\n",
    "    ]\n",
    "    ff2 = [\n",
    "        [torch.sum(model.bert.encoder.layer[num].output.dense.weight != 0).item()]\n",
    "        for num in range(config.num_hidden_layers)\n",
    "    ]\n",
    "    pooler = [torch.sum(model.bert.pooler.dense.weight != 0).item()]\n",
    "    classifier = [torch.sum(model.classifier.weight != 0).item()]\n",
    "    print(\"origin\")\n",
    "    # result = evaluate_model(model, model_config, test_dataloader)\n",
    "    \n",
    "    print(\"Start Positive CI sparse\")\n",
    "    \n",
    "    for batch in all_samples:\n",
    "        input_ids, attn_mask, _, total_sampled = batch\n",
    "        with torch.no_grad():\n",
    "            t1 = w.propagate(module1, input_ids)\n",
    "        for num in range(config.num_hidden_layers):\n",
    "            ff1[num].append(\n",
    "                torch.sum(\n",
    "                    module1.bert.encoder.layer[num].intermediate.dense.weight != 0\n",
    "                ).item()\n",
    "            )\n",
    "            ff2[num].append(\n",
    "                torch.sum(\n",
    "                    module1.bert.encoder.layer[num].output.dense.weight != 0\n",
    "                ).item()\n",
    "            )\n",
    "        pooler.append(torch.sum(module1.bert.pooler.dense.weight != 0).item())\n",
    "        classifier.append(torch.sum(module1.classifier.weight != 0).item())\n",
    "    \n",
    "        # result = evaluate_model(module1, model_config, test_dataloader)\n",
    "    \n",
    "    print(\"Start Positive CI after sparse\")\n",
    "    \n",
    "    for batch in positive_samples:\n",
    "        input_ids, attn_mask, _, total_sampled = batch\n",
    "        with torch.no_grad():\n",
    "            t1 = ci1.propagate(module1, input_ids)\n",
    "        for num in range(config.num_hidden_layers):\n",
    "            ff1[num].append(\n",
    "                torch.sum(\n",
    "                    module1.bert.encoder.layer[num].intermediate.dense.weight != 0\n",
    "                ).item()\n",
    "            )\n",
    "            ff2[num].append(\n",
    "                torch.sum(\n",
    "                    module1.bert.encoder.layer[num].output.dense.weight != 0\n",
    "                ).item()\n",
    "            )\n",
    "        pooler.append(torch.sum(module1.bert.pooler.dense.weight != 0).item())\n",
    "        classifier.append(torch.sum(module1.classifier.weight != 0).item())\n",
    "    \n",
    "        # result = evaluate_model(module1, model_config, test_dataloader)\n",
    "    \n",
    "    print(\"Start Negative TI\")\n",
    "    \n",
    "    for batch in negative_samples:\n",
    "        input_ids, attn_mask, _, total_sampled = batch\n",
    "        with torch.no_grad():\n",
    "            t = ti1.propagate(module1, input_ids)\n",
    "        for num in range(config.num_hidden_layers):\n",
    "            ff1[num].append(\n",
    "                torch.sum(\n",
    "                    module1.bert.encoder.layer[num].intermediate.dense.weight != 0\n",
    "                ).item()\n",
    "            )\n",
    "            ff2[num].append(\n",
    "                torch.sum(\n",
    "                    module1.bert.encoder.layer[num].output.dense.weight != 0\n",
    "                ).item()\n",
    "            )\n",
    "        pooler.append(torch.sum(module1.bert.pooler.dense.weight != 0).item())\n",
    "        classifier.append(torch.sum(module1.classifier.weight != 0).item())\n",
    "        # result = evaluate_model(module1, model_config, test_dataloader)\n",
    "\n",
    "    collected_input_ids = []\n",
    "    collected_attention_mask = []\n",
    "    collected_labels = []\n",
    "    count = 0\n",
    "    \n",
    "    for batch in test_dataloader:\n",
    "        if count >= 100:\n",
    "            break\n",
    "    \n",
    "        input_ids = batch[\"input_ids\"].to(model_config.device)\n",
    "        attention_mask = batch[\"attention_mask\"].to(model_config.device)\n",
    "        labels = batch[\"labels\"].to(model_config.device)\n",
    "    \n",
    "        # Add data to lists\n",
    "        collected_input_ids.append(input_ids)\n",
    "        collected_attention_mask.append(attention_mask)\n",
    "        collected_labels.append(labels)\n",
    "    \n",
    "        # Increment the count by the batch size\n",
    "        count += input_ids.size(0)\n",
    "    \n",
    "    converted_train_dataloader = convert_dataset_labels_to_binary(train_dataloader, i, True)\n",
    "    converted_valid_dataloader = convert_dataset_labels_to_binary(valid_dataloader, i, True)\n",
    "    converted_test_dataloader = convert_dataset_labels_to_binary(test_dataloader, i, True)\n",
    "    \n",
    "    module2 = pppp(module1, ci1, ti1, model_config)\n",
    "    result = evaluate_model(module2, model_config, converted_test_dataloader)\n"
   ]
  },
  {
   "cell_type": "code",
   "execution_count": null,
   "id": "8e141d83-bc89-4f86-8362-e5aa4381caa4",
   "metadata": {},
   "outputs": [],
   "source": []
  }
 ],
 "metadata": {
  "kernelspec": {
   "display_name": "Python 3 (ipykernel)",
   "language": "python",
   "name": "python3"
  },
  "language_info": {
   "codemirror_mode": {
    "name": "ipython",
    "version": 3
   },
   "file_extension": ".py",
   "mimetype": "text/x-python",
   "name": "python",
   "nbconvert_exporter": "python",
   "pygments_lexer": "ipython3",
   "version": "3.8.18"
  }
 },
 "nbformat": 4,
 "nbformat_minor": 5
}
