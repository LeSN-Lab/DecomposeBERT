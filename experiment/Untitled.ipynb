{
 "cells": [
  {
   "cell_type": "code",
   "execution_count": 1,
   "id": "6521b371-7c72-40e4-b5ae-83a6ee1c54cf",
   "metadata": {},
   "outputs": [],
   "source": [
    "import copy\n",
    "import os.path\n",
    "import sys"
   ]
  },
  {
   "cell_type": "code",
   "execution_count": 2,
   "id": "2e9021fc-d9c3-4825-a91e-ceb46717ff9d",
   "metadata": {},
   "outputs": [],
   "source": [
    "pwd = os.getcwd()\n",
    "sys.path.append(os.path.dirname(pwd))"
   ]
  },
  {
   "cell_type": "code",
   "execution_count": 3,
   "id": "4d8fa367-7678-46fb-b95a-252b525a9af9",
   "metadata": {},
   "outputs": [],
   "source": [
    "from utils.model_utils.evaluate import evaluate_model\n",
    "from utils.model_utils.load_model import *\n",
    "from utils.model_utils.model_config import ModelConfig\n",
    "from utils.dataset_utils.load_dataset import load_data\n",
    "from utils.decompose_utils.weight_remover import WeightRemoverBert\n",
    "from utils.decompose_utils.concern_identification import ConcernIdentificationBert\n",
    "from utils.decompose_utils.tangling_identification import TanglingIdentification\n",
    "from transformers import AutoConfig\n",
    "from utils.model_utils.save_module import save_module\n",
    "from datetime import datetime\n",
    "from utils.decompose_utils.sampling import sampling_class\n",
    "import torch"
   ]
  },
  {
   "cell_type": "code",
   "execution_count": 4,
   "id": "50ec363d-0193-4a38-9b36-e609668ddbf4",
   "metadata": {},
   "outputs": [],
   "source": [
    "# model_name = \"sadickam/sdg-classification-bert\"\n",
    "# model_type = \"pretrained\"\n",
    "# data = \"OSDG\"\n",
    "# num_labels = 16\n",
    "\n",
    "\n",
    "model_name = \"textattack/bert-base-uncased-imdb\"\n",
    "model_type = \"pretrained\"\n",
    "data = \"IMDb\"\n",
    "num_labels = 2\n",
    "\n",
    "# model_name = \"fabriceyhc/bert-base-uncased-yahoo_answers_topics\"\n",
    "# model_type = \"pretrained\"\n",
    "# data = \"Yahoo\"\n",
    "# num_labels = 10"
   ]
  },
  {
   "cell_type": "code",
   "execution_count": null,
   "id": "b2844e7a-660c-46c4-b5c2-e1d10f998d2b",
   "metadata": {},
   "outputs": [
    {
     "name": "stdout",
     "output_type": "stream",
     "text": [
      "Directory /home/Minwoo/LESN/Decompose/DecomposeBERT/Models/Configs/pretrained/textattack/bert-base-uncased-imdb exists.\n",
      "Loading the model.\n"
     ]
    },
    {
     "name": "stderr",
     "output_type": "stream",
     "text": [
      "/home/Minwoo/.conda/envs/DecomposeBERT/lib/python3.8/site-packages/transformers/utils/generic.py:260: UserWarning: torch.utils._pytree._register_pytree_node is deprecated. Please use torch.utils._pytree.register_pytree_node instead.\n",
      "  torch.utils._pytree._register_pytree_node(\n",
      "/home/Minwoo/.conda/envs/DecomposeBERT/lib/python3.8/site-packages/transformers/utils/generic.py:260: UserWarning: torch.utils._pytree._register_pytree_node is deprecated. Please use torch.utils._pytree.register_pytree_node instead.\n",
      "  torch.utils._pytree._register_pytree_node(\n"
     ]
    }
   ],
   "source": [
    "device = torch.device(\"cuda:0\" if torch.cuda.is_available() else \"cpu\")\n",
    "checkpoint_name = None\n",
    "config = AutoConfig.from_pretrained(model_name, num_labels=num_labels)\n",
    "model_config = ModelConfig(\n",
    "    _model_name=model_name,\n",
    "    _model_type=model_type,\n",
    "    _data=data,\n",
    "    _transformer_config=config,\n",
    "    _checkpoint_name=checkpoint_name,\n",
    "    _device=device,\n",
    ")\n",
    "model, tokenizer, checkpoint = load_classification_model(model_config, train_mode=False)\n",
    "\n",
    "train_dataloader, valid_dataloader, test_dataloader = load_data(\n",
    "    model_config, batch_size=32, test_size=0.3\n",
    ")\n",
    "print(\"Start Time:\" + datetime.now().strftime(\"%H:%M:%S\"))"
   ]
  },
  {
   "cell_type": "code",
   "execution_count": null,
   "id": "d1711493-8f25-4305-b4f7-e59673d56956",
   "metadata": {},
   "outputs": [],
   "source": [
    "i = 0\n",
    "print(\"#Module \" + str(i) + \" in progress....\")\n",
    "num_samples = 64\n",
    "\n",
    "positive_samples = sampling_class(\n",
    "    train_dataloader, i, num_samples, num_labels, True, 4, device=device\n",
    ")\n",
    "negative_samples = sampling_class(\n",
    "    train_dataloader, i, num_samples, num_labels, False, 4, device=device\n",
    ")\n",
    "\n",
    "all_samples = sampling_class(\n",
    "    train_dataloader, 200, 20, num_labels, False, 4, device=device\n",
    ")\n",
    "\n",
    "module1 = copy.deepcopy(model)\n",
    "w = WeightRemoverBert(model, p=0.9)\n",
    "ci1 = ConcernIdentificationBert(model, p=0.4)\n",
    "ti1 = TanglingIdentification(model, p=0.5)\n",
    "\n",
    "ff1 = [\n",
    "    [torch.sum(model.bert.encoder.layer[num].intermediate.dense.weight != 0).item()]\n",
    "    for num in range(config.num_hidden_layers)\n",
    "]\n",
    "ff2 = [\n",
    "    [torch.sum(model.bert.encoder.layer[num].output.dense.weight != 0).item()]\n",
    "    for num in range(config.num_hidden_layers)\n",
    "]\n",
    "pooler = [torch.sum(model.bert.pooler.dense.weight != 0).item()]\n",
    "classifier = [torch.sum(model.classifier.weight != 0).item()]\n",
    "print(\"origin\")\n",
    "j = 0\n",
    "print(j)\n",
    "result = evaluate_model(model, model_config, test_dataloader)\n",
    "\n",
    "print(\"Start Positive CI sparse\")\n",
    "\n",
    "for batch in all_samples:\n",
    "    input_ids, attn_mask, _, total_sampled = batch\n",
    "    with torch.no_grad():\n",
    "        t1 = w.propagate(module1, input_ids)\n",
    "    for num in range(config.num_hidden_layers):\n",
    "        ff1[num].append(\n",
    "            torch.sum(\n",
    "                module1.bert.encoder.layer[num].intermediate.dense.weight != 0\n",
    "            ).item()\n",
    "        )\n",
    "        ff2[num].append(\n",
    "            torch.sum(\n",
    "                module1.bert.encoder.layer[num].output.dense.weight != 0\n",
    "            ).item()\n",
    "        )\n",
    "    pooler.append(torch.sum(module1.bert.pooler.dense.weight != 0).item())\n",
    "    classifier.append(torch.sum(module1.classifier.weight != 0).item())\n",
    "\n",
    "    j += 1\n",
    "    print(j)\n",
    "\n",
    "    # result = evaluate_model(module1, model_config, test_dataloader)\n",
    "\n",
    "print(\"Start Positive CI after sparse\")\n",
    "\n",
    "for batch in positive_samples:\n",
    "    input_ids, attn_mask, _, total_sampled = batch\n",
    "    with torch.no_grad():\n",
    "        t1 = ci1.propagate(module1, input_ids)\n",
    "    for num in range(config.num_hidden_layers):\n",
    "        ff1[num].append(\n",
    "            torch.sum(\n",
    "                module1.bert.encoder.layer[num].intermediate.dense.weight != 0\n",
    "            ).item()\n",
    "        )\n",
    "        ff2[num].append(\n",
    "            torch.sum(\n",
    "                module1.bert.encoder.layer[num].output.dense.weight != 0\n",
    "            ).item()\n",
    "        )\n",
    "    pooler.append(torch.sum(module1.bert.pooler.dense.weight != 0).item())\n",
    "    classifier.append(torch.sum(module1.classifier.weight != 0).item())\n",
    "\n",
    "    j += 1\n",
    "    print(j)\n",
    "\n",
    "    # result = evaluate_model(module1, model_config, test_dataloader)\n",
    "\n",
    "print(\"Start Negative TI\")\n",
    "\n",
    "for batch in negative_samples:\n",
    "    input_ids, attn_mask, _, total_sampled = batch\n",
    "    with torch.no_grad():\n",
    "        t = ti1.propagate(module1, input_ids)\n",
    "    for num in range(config.num_hidden_layers):\n",
    "        ff1[num].append(\n",
    "            torch.sum(\n",
    "                module1.bert.encoder.layer[num].intermediate.dense.weight != 0\n",
    "            ).item()\n",
    "        )\n",
    "        ff2[num].append(\n",
    "            torch.sum(\n",
    "                module1.bert.encoder.layer[num].output.dense.weight != 0\n",
    "            ).item()\n",
    "        )\n",
    "    pooler.append(torch.sum(module1.bert.pooler.dense.weight != 0).item())\n",
    "    classifier.append(torch.sum(module1.classifier.weight != 0).item())\n",
    "\n",
    "    j += 1\n",
    "    print(j)\n",
    "\n",
    "    # result = evaluate_model(module1, model_config, test_dataloader)\n"
   ]
  },
  {
   "cell_type": "markdown",
   "id": "022c360f-9598-4dc2-afed-b377eab102d4",
   "metadata": {},
   "source": [
    "result = evaluate_model(model, model_config, test_dataloader)\n",
    "Loss: 0.9480\n",
    "Precision: 0.7801, Recall: 0.7867, F1-Score: 0.7793\n",
    "              precision    recall  f1-score   support\n",
    "\n",
    "           0       0.77      0.66      0.71       797\n",
    "           1       0.84      0.72      0.78       775\n",
    "           2       0.88      0.87      0.88       795\n",
    "           3       0.87      0.83      0.85      1110\n",
    "           4       0.86      0.80      0.83      1260\n",
    "           5       0.88      0.69      0.77       882\n",
    "           6       0.85      0.80      0.83       940\n",
    "           7       0.49      0.61      0.54       473\n",
    "           8       0.66      0.85      0.74       746\n",
    "           9       0.62      0.73      0.67       689\n",
    "          10       0.75      0.79      0.77       670\n",
    "          11       0.62      0.81      0.70       312\n",
    "          12       0.73      0.81      0.77       665\n",
    "          13       0.83      0.85      0.84       314\n",
    "          14       0.85      0.78      0.81       756\n",
    "          15       0.97      0.98      0.97      1607\n",
    "\n",
    "    accuracy                           0.80     12791\n",
    "   macro avg       0.78      0.79      0.78     12791\n",
    "weighted avg       0.81      0.80      0.80     12791"
   ]
  },
  {
   "cell_type": "markdown",
   "id": "1089181b-6aa9-49ec-a242-ba1f27d1c616",
   "metadata": {},
   "source": [
    "result = evaluate_model(module1, model_config, test_dataloader)\n",
    "Loss: 0.8861\n",
    "Precision: 0.7749, Recall: 0.7805, F1-Score: 0.7729\n",
    "              precision    recall  f1-score   support\n",
    "\n",
    "           0       0.74      0.65      0.70       797\n",
    "           1       0.86      0.69      0.76       775\n",
    "           2       0.86      0.88      0.87       795\n",
    "           3       0.88      0.81      0.84      1110\n",
    "           4       0.86      0.80      0.83      1260\n",
    "           5       0.89      0.68      0.77       882\n",
    "           6       0.85      0.81      0.83       940\n",
    "           7       0.48      0.59      0.53       473\n",
    "           8       0.66      0.85      0.74       746\n",
    "           9       0.57      0.74      0.64       689\n",
    "          10       0.78      0.76      0.77       670\n",
    "          11       0.61      0.81      0.70       312\n",
    "          12       0.71      0.81      0.76       665\n",
    "          13       0.83      0.85      0.84       314\n",
    "          14       0.85      0.78      0.81       756\n",
    "          15       0.98      0.97      0.97      1607\n",
    "\n",
    "    accuracy                           0.79     12791\n",
    "   macro avg       0.77      0.78      0.77     12791\n",
    "weighted avg       0.81      0.79      0.80     12791\n"
   ]
  },
  {
   "cell_type": "code",
   "execution_count": null,
   "id": "0e8f6faa-e805-42fd-95ec-9adac7b87296",
   "metadata": {},
   "outputs": [],
   "source": [
    "ci1.active_node"
   ]
  },
  {
   "cell_type": "code",
   "execution_count": null,
   "id": "f2a2fb9d-ad28-45d6-bc0d-fd9e28e14b1a",
   "metadata": {},
   "outputs": [],
   "source": [
    "ti1.dead_node"
   ]
  },
  {
   "cell_type": "code",
   "execution_count": null,
   "id": "d9a0cbc3-ee79-4b44-8d74-34135d7beddb",
   "metadata": {},
   "outputs": [],
   "source": [
    "from utils.decompose_utils.concern_modularization import ConcernModularizationBert"
   ]
  },
  {
   "cell_type": "code",
   "execution_count": null,
   "id": "11ffbe55-8307-48c1-91fb-3bd3683256a9",
   "metadata": {},
   "outputs": [],
   "source": [
    "collected_input_ids = []\n",
    "collected_attention_mask = []\n",
    "collected_labels = []\n",
    "count = 0\n",
    "\n",
    "for batch in test_dataloader:\n",
    "    if count >= 100:\n",
    "        break\n",
    "\n",
    "    input_ids = batch[\"input_ids\"].to(model_config.device)\n",
    "    attention_mask = batch[\"attention_mask\"].to(model_config.device)\n",
    "    labels = batch[\"labels\"].to(model_config.device)\n",
    "\n",
    "    # Add data to lists\n",
    "    collected_input_ids.append(input_ids)\n",
    "    collected_attention_mask.append(attention_mask)\n",
    "    collected_labels.append(labels)\n",
    "\n",
    "    # Increment the count by the batch size\n",
    "    count += input_ids.size(0)"
   ]
  },
  {
   "cell_type": "code",
   "execution_count": null,
   "id": "9c2931fc-4449-418d-aac2-72136f6c996f",
   "metadata": {},
   "outputs": [],
   "source": [
    "from utils.dataset_utils.load_dataset import convert_dataset_labels_to_binary\n",
    "converted_train_dataloader = convert_dataset_labels_to_binary(train_dataloader, i)\n",
    "converted_valid_dataloader = convert_dataset_labels_to_binary(valid_dataloader, i)\n",
    "converted_test_dataloader = convert_dataset_labels_to_binary(test_dataloader, i)"
   ]
  },
  {
   "cell_type": "code",
   "execution_count": null,
   "id": "7de29721-d201-4810-b2d6-fd6071129231",
   "metadata": {},
   "outputs": [],
   "source": [
    "conv_collected_input_ids = []\n",
    "conv_collected_attention_mask = []\n",
    "conv_collected_labels = []\n",
    "count = 0\n",
    "\n",
    "for batch in converted_test_dataloader:\n",
    "    if count >= 100:\n",
    "        break\n",
    "\n",
    "    input_ids = batch[\"input_ids\"].to(model_config.device)\n",
    "    attention_mask = batch[\"attention_mask\"].to(model_config.device)\n",
    "    labels = batch[\"labels\"].to(model_config.device)\n",
    "\n",
    "    # Add data to lists\n",
    "    conv_collected_input_ids.append(input_ids)\n",
    "    conv_collected_attention_mask.append(attention_mask)\n",
    "    conv_collected_labels.append(labels)\n",
    "\n",
    "    # Increment the count by the batch size\n",
    "    count += input_ids.size(0)"
   ]
  },
  {
   "cell_type": "markdown",
   "id": "92a61c8b-ccf4-430b-ba3f-88967ee64215",
   "metadata": {},
   "source": [
    "# module -> binary_model"
   ]
  },
  {
   "cell_type": "code",
   "execution_count": null,
   "id": "3fa1de08-2f3f-4716-9f4f-2234e13d49a1",
   "metadata": {},
   "outputs": [],
   "source": [
    "def pppp(module1, ci1, ti1, model_config):\n",
    "    ConcernModularizationBert.channeling(module1, ci1.active_node, ti1.active_node,0, model_config.device)\n",
    "    from transformers import BertForSequenceClassification\n",
    "    config1 = AutoConfig.from_pretrained(model_name)\n",
    "    config1.id2label = {0: \"negative\", 1: \"positive\"}\n",
    "    config1.label2id = {\"negative\": 0, \"positive\": 1}\n",
    "    config1._num_labels=2\n",
    "    module2 = BertForSequenceClassification(config1)\n",
    "    module2 = module1.to(model_config.device)\n",
    "    module2.load_state_dict(module1.state_dict())\n",
    "    return module2"
   ]
  },
  {
   "cell_type": "code",
   "execution_count": null,
   "id": "be40aab6-e0c5-4bee-891f-a15a26acbb98",
   "metadata": {},
   "outputs": [],
   "source": [
    "module2 = pppp(module1, ci1, ti1, model_config)\n",
    "module3 = pppp(model, ci1, ti1, model_config)"
   ]
  },
  {
   "cell_type": "code",
   "execution_count": null,
   "id": "d811b960-3885-45ab-afda-8bf4a36ff350",
   "metadata": {},
   "outputs": [],
   "source": [
    "def qqqq(module2, conv_collected_input_ids, conv_collected_attention_mask):\n",
    "    logits = module2(conv_collected_input_ids, conv_collected_attention_mask).logits\n",
    "    result = evaluate_model(module2, model_config, converted_test_dataloader)\n",
    "    print(logits)\n",
    "    pred = logits.argmax(dim=1)\n",
    "    print(labels)\n",
    "    print(pred)\n",
    "    conv_collected_labels[0]"
   ]
  },
  {
   "cell_type": "code",
   "execution_count": null,
   "id": "880a1690-de3b-4617-9b20-0e571472336f",
   "metadata": {},
   "outputs": [],
   "source": [
    "def pad(numbers):\n",
    "    # 각 숫자를 2자리 문자열로 변환\n",
    "    print([f\"{num:02}\" for num in numbers])"
   ]
  },
  {
   "cell_type": "code",
   "execution_count": null,
   "id": "71744cb9-3929-450d-afcb-9e7a9ac09b09",
   "metadata": {},
   "outputs": [],
   "source": [
    "pad(ci1.active_node)\n",
    "pad(ci1.dead_node)\n",
    "pad(ti1.active_node)\n",
    "pad(ti1.dead_node)"
   ]
  },
  {
   "cell_type": "code",
   "execution_count": null,
   "id": "efac1a6c-8bf6-4383-bccf-809f2d82ed13",
   "metadata": {},
   "outputs": [],
   "source": [
    "#SDG\n",
    "['16', '06', '00', '00', '00', '00', '00', '01', '00', '16', '11', '00', '00', '00', '00', '08']\n",
    "['00', '03', '11', '16', '16', '15', '16', '07', '15', '00', '01', '16', '16', '15', '16', '00']\n",
    "['15', '00', '00', '00', '00', '00', '00', '01', '00', '15', '03', '00', '00', '00', '00', '11']\n",
    "['00', '09', '11', '14', '11', '13', '12', '10', '11', '00', '02', '12', '05', '12', '10', '00']\n",
    "\n",
    "# IMDb\n",
    "['16', '00']\n",
    "['00', '16']\n",
    "['15', '03']\n",
    "['01', '15']\n",
    "#yahoo\n",
    "['14', '05', '00', '13', '00', '01', '14', '07', '00', '03']\n",
    "['00', '05', '13', '00', '16', '11', '00', '01', '12', '02']\n",
    "['04', '00', '00', '15', '00', '00', '14', '00', '00', '07']\n",
    "['00', '03', '15', '00', '12', '08', '00', '04', '11', '00']"
   ]
  },
  {
   "cell_type": "code",
   "execution_count": null,
   "id": "2c123fa3-5e7a-4c09-8899-5253a986717f",
   "metadata": {},
   "outputs": [],
   "source": [
    "qqqq(module2, conv_collected_input_ids[1], conv_collected_attention_mask[1])\n",
    "qqqq(module3, conv_collected_input_ids[1], conv_collected_attention_mask[1])"
   ]
  },
  {
   "cell_type": "code",
   "execution_count": null,
   "id": "379483f5-64d0-4250-b0b7-3ec7b9e27bc2",
   "metadata": {},
   "outputs": [],
   "source": []
  }
 ],
 "metadata": {
  "kernelspec": {
   "display_name": "Python 3 (ipykernel)",
   "language": "python",
   "name": "python3"
  },
  "language_info": {
   "codemirror_mode": {
    "name": "ipython",
    "version": 3
   },
   "file_extension": ".py",
   "mimetype": "text/x-python",
   "name": "python",
   "nbconvert_exporter": "python",
   "pygments_lexer": "ipython3",
   "version": "3.8.18"
  }
 },
 "nbformat": 4,
 "nbformat_minor": 5
}
