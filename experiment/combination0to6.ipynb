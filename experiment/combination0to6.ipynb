{
 "cells": [
  {
   "cell_type": "code",
   "execution_count": 1,
   "id": "62d9660c-e3d6-4fa8-b7f9-c2df336fc012",
   "metadata": {},
   "outputs": [],
   "source": [
    "import copy\n",
    "import os.path\n",
    "import sys\n",
    "\n",
    "pwd = os.getcwd()\n",
    "sys.path.append(os.path.dirname(pwd))\n",
    "\n",
    "from utils.model_utils.evaluate import evaluate_model\n",
    "from utils.model_utils.load_model import *\n",
    "from utils.model_utils.model_config import ModelConfig\n",
    "from utils.dataset_utils.load_dataset import load_data\n",
    "from utils.decompose_utils.weight_remover import WeightRemoverBert\n",
    "from utils.decompose_utils.concern_identification import ConcernIdentificationBert\n",
    "from utils.decompose_utils.tangling_identification import TanglingIdentification\n",
    "from transformers import AutoConfig\n",
    "from utils.model_utils.save_module import save_module\n",
    "from datetime import datetime\n",
    "from utils.decompose_utils.concern_modularization import ConcernModularizationBert\n",
    "from utils.decompose_utils.sampling import sampling_class\n",
    "from utils.dataset_utils.load_dataset import convert_dataset_labels_to_binary, extract_and_convert_dataloader, TextDataset\n",
    "from os.path import join as join\n",
    "from torch.utils.data import DataLoader\n",
    "from utils.model_utils.load_tokenizer import load_tokenizer\n",
    "from utils.paths import p, get_dir\n",
    "from datasets import load_dataset, DatasetDict\n",
    "import torch\n",
    "import torch\n",
    "\n",
    "model_name = \"sadickam/sdg-classification-bert\"\n",
    "model_type = \"pretrained\"\n",
    "data = \"OSDG\"\n",
    "num_labels = 16\n",
    "\n",
    "\n",
    "# model_name = \"textattack/bert-base-uncased-imdb\"\n",
    "# model_type = \"pretrained\"\n",
    "# data = \"IMDb\"\n",
    "# num_labels = 2\n",
    "\n",
    "# model_name = \"fabriceyhc/bert-base-uncased-yahoo_answers_topics\"\n",
    "# model_type = \"pretrained\"\n",
    "# data = \"Yahoo\"\n",
    "# num_labels = 10\n",
    "\n",
    "device = torch.device(\"cuda:0\" if torch.cuda.is_available() else \"cpu\")\n",
    "# device = torch.device(\"cuda:1\" if torch.cuda.is_available() else \"cpu\")\n",
    "\n",
    "checkpoint_name = None\n",
    "config = AutoConfig.from_pretrained(model_name, num_labels=num_labels)\n",
    "model_config = ModelConfig(\n",
    "    _model_name=model_name,\n",
    "    _model_type=model_type,\n",
    "    _data=data,\n",
    "    _transformer_config=config,\n",
    "    _checkpoint_name=checkpoint_name,\n",
    "    _device=device,\n",
    ")\n",
    "\n",
    "def pppp(module1, ci1, ti1, model_config):\n",
    "    ConcernModularizationBert.channeling(module1, ci1.active_node, ti1.dead_node, i, model_config.device)\n",
    "    from transformers import BertForSequenceClassification\n",
    "    config1 = AutoConfig.from_pretrained(model_name)\n",
    "    config1.id2label = {0: \"negative\", 1: \"positive\"}\n",
    "    config1.label2id = {\"negative\": 0, \"positive\": 1}\n",
    "    config1._num_labels=2\n",
    "    module2 = BertForSequenceClassification(config1)\n",
    "    module2 = module1.to(model_config.device)\n",
    "    module2.load_state_dict(module1.state_dict())\n",
    "    return module2"
   ]
  },
  {
   "cell_type": "code",
   "execution_count": 2,
   "id": "d1711493-8f25-4305-b4f7-e59673d56956",
   "metadata": {},
   "outputs": [
    {
     "name": "stdout",
     "output_type": "stream",
     "text": [
      "Directory /home/Minwoo/LESN/Decompose/DecomposeBERT/Models/Configs/pretrained/sadickam/sdg-classification-bert exists.\n",
      "Loading the model.\n",
      "Start Time:17:16:21\n",
      "#Module 0 in progress....\n",
      "origin\n",
      "Start Positive CI sparse\n",
      "Start Positive CI after sparse\n",
      "Start Negative TI\n",
      "[1, 2, 7, 9, 10, 12, 15]\n",
      "[0]\n",
      "[0, 9, 10, 0, 0, 0, 0, 11, 0, 16, 16, 0, 9, 0, 0, 16]\n",
      "[16, 0, 0, 0, 0, 0, 0, 0, 0, 0, 0, 0, 0, 0, 0, 0]\n",
      "0 1\n"
     ]
    },
    {
     "name": "stderr",
     "output_type": "stream",
     "text": [
      "Evaluating: 100%|██████████| 50/50 [00:16<00:00,  3.01it/s]\n"
     ]
    },
    {
     "name": "stdout",
     "output_type": "stream",
     "text": [
      "Loss: 0.5743\n",
      "Precision: 0.7662, Recall: 0.7047, F1-Score: 0.6890\n",
      "              precision    recall  f1-score   support\n",
      "\n",
      "           0       0.89      0.47      0.61       775\n",
      "           1       0.65      0.94      0.77       797\n",
      "\n",
      "    accuracy                           0.71      1572\n",
      "   macro avg       0.77      0.70      0.69      1572\n",
      "weighted avg       0.76      0.71      0.69      1572\n",
      "\n",
      "Directory /home/Minwoo/LESN/Decompose/DecomposeBERT/Models/Configs/pretrained/sadickam/sdg-classification-bert exists.\n",
      "Loading the model.\n",
      "Start Time:17:17:12\n",
      "#Module 0 in progress....\n",
      "origin\n",
      "Start Positive CI sparse\n",
      "Start Positive CI after sparse\n",
      "Start Negative TI\n",
      "[2, 7, 9, 10, 15]\n",
      "[0]\n",
      "[0, 0, 11, 0, 0, 0, 0, 14, 0, 16, 14, 0, 0, 0, 0, 16]\n",
      "[16, 0, 0, 0, 0, 0, 0, 0, 0, 0, 0, 0, 0, 0, 0, 0]\n",
      "0 2\n"
     ]
    },
    {
     "name": "stderr",
     "output_type": "stream",
     "text": [
      "Evaluating: 100%|██████████| 50/50 [00:16<00:00,  3.11it/s]\n"
     ]
    },
    {
     "name": "stdout",
     "output_type": "stream",
     "text": [
      "Loss: 0.2470\n",
      "Precision: 0.9035, Recall: 0.9033, F1-Score: 0.9033\n",
      "              precision    recall  f1-score   support\n",
      "\n",
      "           0       0.89      0.92      0.90       795\n",
      "           1       0.91      0.89      0.90       797\n",
      "\n",
      "    accuracy                           0.90      1592\n",
      "   macro avg       0.90      0.90      0.90      1592\n",
      "weighted avg       0.90      0.90      0.90      1592\n",
      "\n",
      "Directory /home/Minwoo/LESN/Decompose/DecomposeBERT/Models/Configs/pretrained/sadickam/sdg-classification-bert exists.\n",
      "Loading the model.\n",
      "Start Time:17:17:58\n",
      "#Module 0 in progress....\n",
      "origin\n",
      "Start Positive CI sparse\n",
      "Start Positive CI after sparse\n",
      "Start Negative TI\n",
      "[1, 2, 7, 9, 10, 15]\n",
      "[0]\n",
      "[0, 10, 13, 0, 0, 0, 0, 13, 0, 16, 16, 0, 0, 0, 0, 16]\n",
      "[16, 0, 0, 0, 0, 0, 0, 0, 0, 0, 0, 0, 0, 0, 0, 0]\n",
      "0 3\n"
     ]
    },
    {
     "name": "stderr",
     "output_type": "stream",
     "text": [
      "Evaluating: 100%|██████████| 60/60 [00:16<00:00,  3.60it/s]\n"
     ]
    },
    {
     "name": "stdout",
     "output_type": "stream",
     "text": [
      "Loss: 0.4019\n",
      "Precision: 0.8271, Recall: 0.8360, F1-Score: 0.8245\n",
      "              precision    recall  f1-score   support\n",
      "\n",
      "           0       0.92      0.77      0.84      1110\n",
      "           1       0.74      0.90      0.81       797\n",
      "\n",
      "    accuracy                           0.83      1907\n",
      "   macro avg       0.83      0.84      0.82      1907\n",
      "weighted avg       0.84      0.83      0.83      1907\n",
      "\n",
      "Directory /home/Minwoo/LESN/Decompose/DecomposeBERT/Models/Configs/pretrained/sadickam/sdg-classification-bert exists.\n",
      "Loading the model.\n",
      "Start Time:17:18:46\n",
      "#Module 0 in progress....\n",
      "origin\n",
      "Start Positive CI sparse\n",
      "Start Positive CI after sparse\n",
      "Start Negative TI\n",
      "[1, 7, 8, 9, 10, 12, 14, 15]\n",
      "[0]\n",
      "[0, 10, 0, 0, 0, 0, 0, 13, 9, 16, 16, 0, 11, 0, 8, 16]\n",
      "[16, 0, 0, 0, 0, 0, 0, 0, 0, 0, 0, 0, 0, 0, 0, 0]\n",
      "0 4\n"
     ]
    },
    {
     "name": "stderr",
     "output_type": "stream",
     "text": [
      "Evaluating: 100%|██████████| 65/65 [00:15<00:00,  4.21it/s]\n"
     ]
    },
    {
     "name": "stdout",
     "output_type": "stream",
     "text": [
      "Loss: 1.3331\n",
      "Precision: 0.4710, Recall: 0.4920, F1-Score: 0.3282\n",
      "              precision    recall  f1-score   support\n",
      "\n",
      "           0       0.56      0.06      0.12      1260\n",
      "           1       0.38      0.92      0.54       797\n",
      "\n",
      "    accuracy                           0.40      2057\n",
      "   macro avg       0.47      0.49      0.33      2057\n",
      "weighted avg       0.49      0.40      0.28      2057\n",
      "\n",
      "Directory /home/Minwoo/LESN/Decompose/DecomposeBERT/Models/Configs/pretrained/sadickam/sdg-classification-bert exists.\n",
      "Loading the model.\n",
      "Start Time:17:19:34\n",
      "#Module 0 in progress....\n",
      "origin\n",
      "Start Positive CI sparse\n",
      "Start Positive CI after sparse\n",
      "Start Negative TI\n",
      "[1, 2, 7, 8, 9, 10, 12, 15]\n",
      "[0]\n",
      "[0, 8, 12, 0, 0, 0, 0, 13, 8, 16, 15, 0, 10, 0, 0, 16]\n",
      "[16, 0, 0, 0, 0, 0, 0, 0, 0, 0, 0, 0, 0, 0, 0, 0]\n",
      "0 5\n"
     ]
    },
    {
     "name": "stderr",
     "output_type": "stream",
     "text": [
      "Evaluating: 100%|██████████| 53/53 [00:12<00:00,  4.27it/s]\n"
     ]
    },
    {
     "name": "stdout",
     "output_type": "stream",
     "text": [
      "Loss: 0.7199\n",
      "Precision: 0.6286, Recall: 0.5632, F1-Score: 0.4887\n",
      "              precision    recall  f1-score   support\n",
      "\n",
      "           0       0.75      0.20      0.32       882\n",
      "           1       0.51      0.92      0.66       797\n",
      "\n",
      "    accuracy                           0.54      1679\n",
      "   macro avg       0.63      0.56      0.49      1679\n",
      "weighted avg       0.63      0.54      0.48      1679\n",
      "\n",
      "Directory /home/Minwoo/LESN/Decompose/DecomposeBERT/Models/Configs/pretrained/sadickam/sdg-classification-bert exists.\n",
      "Loading the model.\n",
      "Start Time:17:20:16\n",
      "#Module 0 in progress....\n",
      "origin\n",
      "Start Positive CI sparse\n",
      "Start Positive CI after sparse\n",
      "Start Negative TI\n",
      "[2, 7, 8, 9, 10, 12, 15]\n",
      "[0, 1]\n",
      "[0, 0, 10, 0, 0, 0, 0, 14, 8, 16, 11, 0, 9, 0, 0, 16]\n",
      "[16, 9, 0, 0, 0, 0, 0, 0, 0, 0, 0, 0, 0, 0, 0, 0]\n",
      "0 6\n"
     ]
    },
    {
     "name": "stderr",
     "output_type": "stream",
     "text": [
      "Evaluating: 100%|██████████| 55/55 [00:12<00:00,  4.33it/s]\n"
     ]
    },
    {
     "name": "stdout",
     "output_type": "stream",
     "text": [
      "Loss: 0.3735\n",
      "Precision: 0.8806, Recall: 0.8792, F1-Score: 0.8798\n",
      "              precision    recall  f1-score   support\n",
      "\n",
      "           0       0.88      0.90      0.89       940\n",
      "           1       0.88      0.86      0.87       797\n",
      "\n",
      "    accuracy                           0.88      1737\n",
      "   macro avg       0.88      0.88      0.88      1737\n",
      "weighted avg       0.88      0.88      0.88      1737\n",
      "\n",
      "Directory /home/Minwoo/LESN/Decompose/DecomposeBERT/Models/Configs/pretrained/sadickam/sdg-classification-bert exists.\n",
      "Loading the model.\n",
      "Start Time:17:20:55\n",
      "#Module 0 in progress....\n",
      "origin\n",
      "Start Positive CI sparse\n",
      "Start Positive CI after sparse\n",
      "Start Negative TI\n",
      "[9, 10, 15, 7]\n",
      "[0]\n",
      "[0, 0, 0, 0, 0, 0, 0, 14, 0, 16, 14, 0, 0, 0, 0, 16]\n",
      "[16, 0, 0, 0, 0, 0, 0, 0, 0, 0, 0, 0, 0, 0, 0, 0]\n",
      "0 7\n"
     ]
    },
    {
     "name": "stderr",
     "output_type": "stream",
     "text": [
      "Evaluating: 100%|██████████| 40/40 [00:09<00:00,  4.31it/s]\n"
     ]
    },
    {
     "name": "stdout",
     "output_type": "stream",
     "text": [
      "Loss: 0.3267\n",
      "Precision: 0.8522, Recall: 0.8537, F1-Score: 0.8529\n",
      "              precision    recall  f1-score   support\n",
      "\n",
      "           0       0.81      0.82      0.82       473\n",
      "           1       0.89      0.89      0.89       797\n",
      "\n",
      "    accuracy                           0.86      1270\n",
      "   macro avg       0.85      0.85      0.85      1270\n",
      "weighted avg       0.86      0.86      0.86      1270\n",
      "\n",
      "Directory /home/Minwoo/LESN/Decompose/DecomposeBERT/Models/Configs/pretrained/sadickam/sdg-classification-bert exists.\n",
      "Loading the model.\n",
      "Start Time:17:21:35\n",
      "#Module 0 in progress....\n",
      "origin\n",
      "Start Positive CI sparse\n",
      "Start Positive CI after sparse\n",
      "Start Negative TI\n",
      "[1, 2, 7, 8, 9, 10, 15]\n",
      "[0]\n",
      "[0, 12, 9, 0, 0, 0, 0, 8, 10, 16, 14, 0, 0, 0, 0, 16]\n",
      "[16, 0, 0, 0, 0, 0, 0, 0, 0, 0, 0, 0, 0, 0, 0, 0]\n",
      "0 8\n"
     ]
    },
    {
     "name": "stderr",
     "output_type": "stream",
     "text": [
      "Evaluating: 100%|██████████| 49/49 [00:11<00:00,  4.35it/s]\n"
     ]
    },
    {
     "name": "stdout",
     "output_type": "stream",
     "text": [
      "Loss: 0.1837\n",
      "Precision: 0.9234, Recall: 0.9239, F1-Score: 0.9235\n",
      "              precision    recall  f1-score   support\n",
      "\n",
      "           0       0.91      0.93      0.92       746\n",
      "           1       0.94      0.91      0.93       797\n",
      "\n",
      "    accuracy                           0.92      1543\n",
      "   macro avg       0.92      0.92      0.92      1543\n",
      "weighted avg       0.92      0.92      0.92      1543\n",
      "\n",
      "Directory /home/Minwoo/LESN/Decompose/DecomposeBERT/Models/Configs/pretrained/sadickam/sdg-classification-bert exists.\n",
      "Loading the model.\n",
      "Start Time:17:22:13\n",
      "#Module 0 in progress....\n",
      "origin\n",
      "Start Positive CI sparse\n",
      "Start Positive CI after sparse\n",
      "Start Negative TI\n",
      "[2, 7, 9, 10, 15]\n",
      "[0]\n",
      "[0, 0, 11, 0, 0, 0, 0, 12, 0, 16, 15, 0, 0, 0, 0, 16]\n",
      "[16, 0, 0, 0, 0, 0, 0, 0, 0, 0, 0, 0, 0, 0, 0, 0]\n",
      "0 9\n"
     ]
    },
    {
     "name": "stderr",
     "output_type": "stream",
     "text": [
      "Evaluating: 100%|██████████| 47/47 [00:10<00:00,  4.29it/s]\n"
     ]
    },
    {
     "name": "stdout",
     "output_type": "stream",
     "text": [
      "Loss: 0.6034\n",
      "Precision: 0.7418, Recall: 0.7055, F1-Score: 0.7026\n",
      "              precision    recall  f1-score   support\n",
      "\n",
      "           0       0.80      0.52      0.63       689\n",
      "           1       0.68      0.89      0.77       797\n",
      "\n",
      "    accuracy                           0.72      1486\n",
      "   macro avg       0.74      0.71      0.70      1486\n",
      "weighted avg       0.74      0.72      0.71      1486\n",
      "\n",
      "Directory /home/Minwoo/LESN/Decompose/DecomposeBERT/Models/Configs/pretrained/sadickam/sdg-classification-bert exists.\n",
      "Loading the model.\n",
      "Start Time:17:22:52\n",
      "#Module 0 in progress....\n",
      "origin\n",
      "Start Positive CI sparse\n",
      "Start Positive CI after sparse\n",
      "Start Negative TI\n",
      "[2, 7, 9, 10, 15]\n",
      "[0]\n",
      "[0, 0, 8, 0, 0, 0, 0, 11, 0, 16, 14, 0, 0, 0, 0, 16]\n",
      "[16, 0, 0, 0, 0, 0, 0, 0, 0, 0, 0, 0, 0, 0, 0, 0]\n",
      "0 10\n"
     ]
    },
    {
     "name": "stderr",
     "output_type": "stream",
     "text": [
      "Evaluating: 100%|██████████| 46/46 [00:10<00:00,  4.26it/s]\n"
     ]
    },
    {
     "name": "stdout",
     "output_type": "stream",
     "text": [
      "Loss: 0.2848\n",
      "Precision: 0.8851, Recall: 0.8839, F1-Score: 0.8844\n",
      "              precision    recall  f1-score   support\n",
      "\n",
      "           0       0.88      0.87      0.87       670\n",
      "           1       0.89      0.90      0.90       797\n",
      "\n",
      "    accuracy                           0.89      1467\n",
      "   macro avg       0.89      0.88      0.88      1467\n",
      "weighted avg       0.89      0.89      0.89      1467\n",
      "\n",
      "Directory /home/Minwoo/LESN/Decompose/DecomposeBERT/Models/Configs/pretrained/sadickam/sdg-classification-bert exists.\n",
      "Loading the model.\n",
      "Start Time:17:23:31\n",
      "#Module 0 in progress....\n",
      "origin\n",
      "Start Positive CI sparse\n",
      "Start Positive CI after sparse\n",
      "Start Negative TI\n",
      "[2, 7, 9, 10, 12, 15]\n",
      "[0]\n",
      "[0, 0, 9, 0, 0, 0, 0, 12, 0, 16, 14, 0, 9, 0, 0, 16]\n",
      "[16, 0, 0, 0, 0, 0, 0, 0, 0, 0, 0, 0, 0, 0, 0, 0]\n",
      "0 11\n"
     ]
    },
    {
     "name": "stderr",
     "output_type": "stream",
     "text": [
      "Evaluating: 100%|██████████| 35/35 [00:08<00:00,  4.28it/s]\n"
     ]
    },
    {
     "name": "stdout",
     "output_type": "stream",
     "text": [
      "Loss: 0.3198\n",
      "Precision: 0.8048, Recall: 0.7430, F1-Score: 0.7638\n",
      "              precision    recall  f1-score   support\n",
      "\n",
      "           0       0.77      0.55      0.64       312\n",
      "           1       0.84      0.93      0.89       797\n",
      "\n",
      "    accuracy                           0.83      1109\n",
      "   macro avg       0.80      0.74      0.76      1109\n",
      "weighted avg       0.82      0.83      0.82      1109\n",
      "\n",
      "Directory /home/Minwoo/LESN/Decompose/DecomposeBERT/Models/Configs/pretrained/sadickam/sdg-classification-bert exists.\n",
      "Loading the model.\n",
      "Start Time:17:24:06\n",
      "#Module 0 in progress....\n",
      "origin\n",
      "Start Positive CI sparse\n",
      "Start Positive CI after sparse\n",
      "Start Negative TI\n",
      "[1, 7, 9, 10, 15]\n",
      "[0, 2]\n",
      "[0, 8, 0, 0, 0, 0, 0, 12, 0, 16, 13, 0, 0, 0, 0, 16]\n",
      "[16, 0, 10, 0, 0, 0, 0, 0, 0, 0, 0, 0, 0, 0, 0, 0]\n",
      "0 12\n"
     ]
    },
    {
     "name": "stderr",
     "output_type": "stream",
     "text": [
      "Evaluating: 100%|██████████| 46/46 [00:10<00:00,  4.27it/s]\n"
     ]
    },
    {
     "name": "stdout",
     "output_type": "stream",
     "text": [
      "Loss: 0.7053\n",
      "Precision: 0.4672, Recall: 0.4850, F1-Score: 0.4186\n",
      "              precision    recall  f1-score   support\n",
      "\n",
      "           0       0.40      0.11      0.18       665\n",
      "           1       0.54      0.86      0.66       797\n",
      "\n",
      "    accuracy                           0.52      1462\n",
      "   macro avg       0.47      0.48      0.42      1462\n",
      "weighted avg       0.47      0.52      0.44      1462\n",
      "\n",
      "Directory /home/Minwoo/LESN/Decompose/DecomposeBERT/Models/Configs/pretrained/sadickam/sdg-classification-bert exists.\n",
      "Loading the model.\n",
      "Start Time:17:24:43\n",
      "#Module 0 in progress....\n",
      "origin\n",
      "Start Positive CI sparse\n",
      "Start Positive CI after sparse\n",
      "Start Negative TI\n",
      "[1, 2, 7, 8, 9, 10, 12, 15]\n",
      "[0]\n",
      "[0, 9, 9, 0, 0, 0, 0, 15, 13, 16, 15, 0, 8, 0, 0, 15]\n",
      "[16, 0, 0, 0, 0, 0, 0, 0, 0, 0, 0, 0, 0, 0, 0, 0]\n",
      "0 13\n"
     ]
    },
    {
     "name": "stderr",
     "output_type": "stream",
     "text": [
      "Evaluating: 100%|██████████| 35/35 [00:08<00:00,  4.28it/s]\n"
     ]
    },
    {
     "name": "stdout",
     "output_type": "stream",
     "text": [
      "Loss: 0.5330\n",
      "Precision: 0.5001, Recall: 0.5000, F1-Score: 0.4691\n",
      "              precision    recall  f1-score   support\n",
      "\n",
      "           0       0.28      0.09      0.14       314\n",
      "           1       0.72      0.91      0.80       797\n",
      "\n",
      "    accuracy                           0.68      1111\n",
      "   macro avg       0.50      0.50      0.47      1111\n",
      "weighted avg       0.59      0.68      0.61      1111\n",
      "\n",
      "Directory /home/Minwoo/LESN/Decompose/DecomposeBERT/Models/Configs/pretrained/sadickam/sdg-classification-bert exists.\n",
      "Loading the model.\n",
      "Start Time:17:25:18\n",
      "#Module 0 in progress....\n",
      "origin\n",
      "Start Positive CI sparse\n",
      "Start Positive CI after sparse\n",
      "Start Negative TI\n",
      "[1, 2, 7, 9, 10, 12, 15]\n",
      "[0]\n",
      "[0, 8, 13, 0, 0, 0, 0, 10, 0, 16, 15, 0, 8, 0, 0, 16]\n",
      "[16, 0, 0, 0, 0, 0, 0, 0, 0, 0, 0, 0, 0, 0, 0, 0]\n",
      "0 14\n"
     ]
    },
    {
     "name": "stderr",
     "output_type": "stream",
     "text": [
      "Evaluating: 100%|██████████| 49/49 [00:11<00:00,  4.29it/s]\n"
     ]
    },
    {
     "name": "stdout",
     "output_type": "stream",
     "text": [
      "Loss: 0.4530\n",
      "Precision: 0.8359, Recall: 0.8036, F1-Score: 0.8018\n",
      "              precision    recall  f1-score   support\n",
      "\n",
      "           0       0.93      0.66      0.77       756\n",
      "           1       0.74      0.95      0.84       797\n",
      "\n",
      "    accuracy                           0.81      1553\n",
      "   macro avg       0.84      0.80      0.80      1553\n",
      "weighted avg       0.83      0.81      0.80      1553\n",
      "\n",
      "Directory /home/Minwoo/LESN/Decompose/DecomposeBERT/Models/Configs/pretrained/sadickam/sdg-classification-bert exists.\n",
      "Loading the model.\n",
      "Start Time:17:25:56\n",
      "#Module 0 in progress....\n",
      "origin\n",
      "Start Positive CI sparse\n",
      "Start Positive CI after sparse\n",
      "Start Negative TI\n",
      "[1, 2, 3, 7, 8, 9, 10, 15]\n",
      "[0]\n",
      "[0, 10, 12, 8, 0, 0, 0, 15, 8, 16, 14, 0, 0, 0, 0, 16]\n",
      "[16, 0, 0, 0, 0, 0, 0, 0, 0, 0, 0, 0, 0, 0, 0, 0]\n",
      "0 15\n"
     ]
    },
    {
     "name": "stderr",
     "output_type": "stream",
     "text": [
      "Evaluating: 100%|██████████| 76/76 [00:17<00:00,  4.28it/s]\n"
     ]
    },
    {
     "name": "stdout",
     "output_type": "stream",
     "text": [
      "Loss: 0.1567\n",
      "Precision: 0.9591, Recall: 0.9367, F1-Score: 0.9467\n",
      "              precision    recall  f1-score   support\n",
      "\n",
      "           0       0.95      0.99      0.97      1607\n",
      "           1       0.97      0.89      0.93       797\n",
      "\n",
      "    accuracy                           0.95      2404\n",
      "   macro avg       0.96      0.94      0.95      2404\n",
      "weighted avg       0.95      0.95      0.95      2404\n",
      "\n",
      "Directory /home/Minwoo/LESN/Decompose/DecomposeBERT/Models/Configs/pretrained/sadickam/sdg-classification-bert exists.\n",
      "Loading the model.\n",
      "Start Time:17:26:40\n",
      "#Module 1 in progress....\n",
      "origin\n",
      "Start Positive CI sparse\n",
      "Start Positive CI after sparse\n",
      "Start Negative TI\n",
      "[0, 2, 5, 7, 8, 9, 10, 12, 14, 15]\n",
      "[1, 13]\n",
      "[16, 0, 10, 0, 0, 8, 0, 9, 13, 16, 13, 0, 11, 0, 8, 16]\n",
      "[0, 16, 0, 0, 0, 0, 0, 0, 0, 0, 0, 0, 0, 14, 0, 0]\n",
      "1 0\n"
     ]
    },
    {
     "name": "stderr",
     "output_type": "stream",
     "text": [
      "Evaluating: 100%|██████████| 50/50 [00:11<00:00,  4.32it/s]\n"
     ]
    },
    {
     "name": "stdout",
     "output_type": "stream",
     "text": [
      "Loss: 0.2856\n",
      "Precision: 0.9033, Recall: 0.8947, F1-Score: 0.8950\n",
      "              precision    recall  f1-score   support\n",
      "\n",
      "           0       0.85      0.96      0.90       797\n",
      "           1       0.96      0.83      0.89       775\n",
      "\n",
      "    accuracy                           0.90      1572\n",
      "   macro avg       0.90      0.89      0.89      1572\n",
      "weighted avg       0.90      0.90      0.90      1572\n",
      "\n",
      "Directory /home/Minwoo/LESN/Decompose/DecomposeBERT/Models/Configs/pretrained/sadickam/sdg-classification-bert exists.\n",
      "Loading the model.\n",
      "Start Time:17:27:18\n",
      "#Module 1 in progress....\n",
      "origin\n",
      "Start Positive CI sparse\n",
      "Start Positive CI after sparse\n",
      "Start Negative TI\n",
      "[0, 8, 9, 10, 15]\n",
      "[1, 11, 12, 13]\n",
      "[16, 0, 0, 0, 0, 0, 0, 0, 10, 16, 16, 0, 0, 0, 0, 16]\n",
      "[0, 16, 0, 0, 0, 0, 0, 0, 0, 0, 0, 8, 9, 10, 0, 0]\n",
      "1 2\n"
     ]
    },
    {
     "name": "stderr",
     "output_type": "stream",
     "text": [
      "Evaluating: 100%|██████████| 50/50 [00:11<00:00,  4.34it/s]\n"
     ]
    },
    {
     "name": "stdout",
     "output_type": "stream",
     "text": [
      "Loss: 0.3778\n",
      "Precision: 0.9025, Recall: 0.8927, F1-Score: 0.8929\n",
      "              precision    recall  f1-score   support\n",
      "\n",
      "           0       0.85      0.97      0.90       795\n",
      "           1       0.96      0.82      0.88       775\n",
      "\n",
      "    accuracy                           0.89      1570\n",
      "   macro avg       0.90      0.89      0.89      1570\n",
      "weighted avg       0.90      0.89      0.89      1570\n",
      "\n",
      "Directory /home/Minwoo/LESN/Decompose/DecomposeBERT/Models/Configs/pretrained/sadickam/sdg-classification-bert exists.\n",
      "Loading the model.\n",
      "Start Time:17:27:56\n",
      "#Module 1 in progress....\n",
      "origin\n",
      "Start Positive CI sparse\n",
      "Start Positive CI after sparse\n",
      "Start Negative TI\n",
      "[0, 2, 7, 9, 10, 12, 15]\n",
      "[8, 1, 11]\n",
      "[16, 0, 10, 0, 0, 0, 0, 13, 0, 16, 15, 0, 11, 0, 0, 16]\n",
      "[0, 16, 0, 0, 0, 0, 0, 0, 13, 0, 0, 10, 0, 0, 0, 0]\n",
      "1 3\n"
     ]
    },
    {
     "name": "stderr",
     "output_type": "stream",
     "text": [
      "Evaluating: 100%|██████████| 59/59 [00:13<00:00,  4.24it/s]\n"
     ]
    },
    {
     "name": "stdout",
     "output_type": "stream",
     "text": [
      "Loss: 0.3462\n",
      "Precision: 0.8869, Recall: 0.8894, F1-Score: 0.8881\n",
      "              precision    recall  f1-score   support\n",
      "\n",
      "           0       0.91      0.90      0.91      1110\n",
      "           1       0.86      0.88      0.87       775\n",
      "\n",
      "    accuracy                           0.89      1885\n",
      "   macro avg       0.89      0.89      0.89      1885\n",
      "weighted avg       0.89      0.89      0.89      1885\n",
      "\n",
      "Directory /home/Minwoo/LESN/Decompose/DecomposeBERT/Models/Configs/pretrained/sadickam/sdg-classification-bert exists.\n",
      "Loading the model.\n",
      "Start Time:17:28:40\n",
      "#Module 1 in progress....\n",
      "origin\n",
      "Start Positive CI sparse\n",
      "Start Positive CI after sparse\n",
      "Start Negative TI\n",
      "[0, 2, 7, 8, 9, 10, 12, 15]\n",
      "[1]\n",
      "[16, 0, 9, 0, 0, 0, 0, 15, 8, 16, 16, 0, 8, 0, 0, 16]\n",
      "[0, 16, 0, 0, 0, 0, 0, 0, 0, 0, 0, 0, 0, 0, 0, 0]\n",
      "1 4\n"
     ]
    },
    {
     "name": "stderr",
     "output_type": "stream",
     "text": [
      "Evaluating: 100%|██████████| 64/64 [00:15<00:00,  4.26it/s]\n"
     ]
    },
    {
     "name": "stdout",
     "output_type": "stream",
     "text": [
      "Loss: 0.3692\n",
      "Precision: 0.8721, Recall: 0.8765, F1-Score: 0.8742\n",
      "              precision    recall  f1-score   support\n",
      "\n",
      "           0       0.91      0.89      0.90      1260\n",
      "           1       0.83      0.86      0.85       775\n",
      "\n",
      "    accuracy                           0.88      2035\n",
      "   macro avg       0.87      0.88      0.87      2035\n",
      "weighted avg       0.88      0.88      0.88      2035\n",
      "\n",
      "Directory /home/Minwoo/LESN/Decompose/DecomposeBERT/Models/Configs/pretrained/sadickam/sdg-classification-bert exists.\n",
      "Loading the model.\n",
      "Start Time:17:29:21\n",
      "#Module 1 in progress....\n",
      "origin\n",
      "Start Positive CI sparse\n",
      "Start Positive CI after sparse\n",
      "Start Negative TI\n",
      "[0, 7, 8, 9, 10, 12, 15]\n",
      "[1]\n",
      "[16, 0, 0, 0, 0, 0, 0, 8, 10, 16, 13, 0, 10, 0, 0, 16]\n",
      "[0, 16, 0, 0, 0, 0, 0, 0, 0, 0, 0, 0, 0, 0, 0, 0]\n",
      "1 5\n"
     ]
    },
    {
     "name": "stderr",
     "output_type": "stream",
     "text": [
      "Evaluating: 100%|██████████| 52/52 [00:12<00:00,  4.26it/s]\n"
     ]
    },
    {
     "name": "stdout",
     "output_type": "stream",
     "text": [
      "Loss: 0.6828\n",
      "Precision: 0.7063, Recall: 0.6863, F1-Score: 0.6701\n",
      "              precision    recall  f1-score   support\n",
      "\n",
      "           0       0.80      0.52      0.63       882\n",
      "           1       0.61      0.86      0.71       775\n",
      "\n",
      "    accuracy                           0.68      1657\n",
      "   macro avg       0.71      0.69      0.67      1657\n",
      "weighted avg       0.71      0.68      0.67      1657\n",
      "\n",
      "Directory /home/Minwoo/LESN/Decompose/DecomposeBERT/Models/Configs/pretrained/sadickam/sdg-classification-bert exists.\n",
      "Loading the model.\n",
      "Start Time:17:30:02\n",
      "#Module 1 in progress....\n",
      "origin\n",
      "Start Positive CI sparse\n",
      "Start Positive CI after sparse\n",
      "Start Negative TI\n",
      "[0, 2, 7, 9, 10, 15]\n",
      "[8, 1, 12]\n",
      "[16, 0, 9, 0, 0, 0, 0, 16, 0, 16, 14, 0, 0, 0, 0, 16]\n",
      "[0, 16, 0, 0, 0, 0, 0, 0, 10, 0, 0, 0, 11, 0, 0, 0]\n",
      "1 6\n"
     ]
    },
    {
     "name": "stderr",
     "output_type": "stream",
     "text": [
      "Evaluating: 100%|██████████| 54/54 [00:12<00:00,  4.27it/s]\n"
     ]
    },
    {
     "name": "stdout",
     "output_type": "stream",
     "text": [
      "Loss: 1.1833\n",
      "Precision: 0.4738, Recall: 0.4884, F1-Score: 0.3871\n",
      "              precision    recall  f1-score   support\n",
      "\n",
      "           0       0.50      0.11      0.19       940\n",
      "           1       0.45      0.86      0.59       775\n",
      "\n",
      "    accuracy                           0.45      1715\n",
      "   macro avg       0.47      0.49      0.39      1715\n",
      "weighted avg       0.48      0.45      0.37      1715\n",
      "\n",
      "Directory /home/Minwoo/LESN/Decompose/DecomposeBERT/Models/Configs/pretrained/sadickam/sdg-classification-bert exists.\n",
      "Loading the model.\n",
      "Start Time:17:30:41\n",
      "#Module 1 in progress....\n",
      "origin\n",
      "Start Positive CI sparse\n",
      "Start Positive CI after sparse\n",
      "Start Negative TI\n",
      "[0, 2, 7, 8, 9, 10, 11, 15]\n",
      "[1, 12, 13]\n",
      "[16, 0, 10, 0, 0, 0, 0, 14, 10, 16, 14, 9, 0, 0, 0, 16]\n",
      "[0, 16, 0, 0, 0, 0, 0, 0, 0, 0, 0, 0, 10, 15, 0, 0]\n",
      "1 7\n"
     ]
    },
    {
     "name": "stderr",
     "output_type": "stream",
     "text": [
      "Evaluating: 100%|██████████| 39/39 [00:09<00:00,  4.26it/s]\n"
     ]
    },
    {
     "name": "stdout",
     "output_type": "stream",
     "text": [
      "Loss: 0.3434\n",
      "Precision: 0.8726, Recall: 0.8939, F1-Score: 0.8760\n",
      "              precision    recall  f1-score   support\n",
      "\n",
      "           0       0.78      0.96      0.86       473\n",
      "           1       0.97      0.83      0.90       775\n",
      "\n",
      "    accuracy                           0.88      1248\n",
      "   macro avg       0.87      0.89      0.88      1248\n",
      "weighted avg       0.90      0.88      0.88      1248\n",
      "\n",
      "Directory /home/Minwoo/LESN/Decompose/DecomposeBERT/Models/Configs/pretrained/sadickam/sdg-classification-bert exists.\n",
      "Loading the model.\n",
      "Start Time:17:31:15\n",
      "#Module 1 in progress....\n",
      "origin\n",
      "Start Positive CI sparse\n",
      "Start Positive CI after sparse\n",
      "Start Negative TI\n",
      "[0, 2, 7, 9, 10, 11, 15]\n",
      "[1, 12]\n",
      "[16, 0, 10, 0, 0, 0, 0, 13, 0, 16, 12, 9, 0, 0, 0, 16]\n",
      "[0, 16, 0, 0, 0, 0, 0, 0, 0, 0, 0, 0, 8, 0, 0, 0]\n",
      "1 8\n"
     ]
    },
    {
     "name": "stderr",
     "output_type": "stream",
     "text": [
      "Evaluating: 100%|██████████| 48/48 [00:11<00:00,  4.29it/s]\n"
     ]
    },
    {
     "name": "stdout",
     "output_type": "stream",
     "text": [
      "Loss: 0.5612\n",
      "Precision: 0.7704, Recall: 0.7595, F1-Score: 0.7584\n",
      "              precision    recall  f1-score   support\n",
      "\n",
      "           0       0.82      0.66      0.73       746\n",
      "           1       0.73      0.86      0.79       775\n",
      "\n",
      "    accuracy                           0.76      1521\n",
      "   macro avg       0.77      0.76      0.76      1521\n",
      "weighted avg       0.77      0.76      0.76      1521\n",
      "\n",
      "Directory /home/Minwoo/LESN/Decompose/DecomposeBERT/Models/Configs/pretrained/sadickam/sdg-classification-bert exists.\n",
      "Loading the model.\n",
      "Start Time:17:31:52\n",
      "#Module 1 in progress....\n",
      "origin\n",
      "Start Positive CI sparse\n",
      "Start Positive CI after sparse\n",
      "Start Negative TI\n",
      "[0, 2, 7, 8, 9, 10, 12, 15]\n",
      "[1]\n",
      "[16, 0, 8, 0, 0, 0, 0, 8, 11, 16, 15, 0, 12, 0, 0, 16]\n",
      "[0, 16, 0, 0, 0, 0, 0, 0, 0, 0, 0, 0, 0, 0, 0, 0]\n",
      "1 9\n"
     ]
    },
    {
     "name": "stderr",
     "output_type": "stream",
     "text": [
      "Evaluating: 100%|██████████| 46/46 [00:10<00:00,  4.27it/s]\n"
     ]
    },
    {
     "name": "stdout",
     "output_type": "stream",
     "text": [
      "Loss: 0.2471\n",
      "Precision: 0.9179, Recall: 0.9169, F1-Score: 0.9132\n",
      "              precision    recall  f1-score   support\n",
      "\n",
      "           0       0.86      0.98      0.91       689\n",
      "           1       0.98      0.85      0.91       775\n",
      "\n",
      "    accuracy                           0.91      1464\n",
      "   macro avg       0.92      0.92      0.91      1464\n",
      "weighted avg       0.92      0.91      0.91      1464\n",
      "\n",
      "Directory /home/Minwoo/LESN/Decompose/DecomposeBERT/Models/Configs/pretrained/sadickam/sdg-classification-bert exists.\n",
      "Loading the model.\n",
      "Start Time:17:32:32\n",
      "#Module 1 in progress....\n",
      "origin\n",
      "Start Positive CI sparse\n",
      "Start Positive CI after sparse\n",
      "Start Negative TI\n",
      "[0, 7, 8, 9, 10, 11, 13, 15]\n",
      "[1, 12]\n",
      "[16, 0, 0, 0, 0, 0, 0, 8, 10, 16, 14, 9, 0, 8, 0, 16]\n",
      "[0, 16, 0, 0, 0, 0, 0, 0, 0, 0, 0, 0, 14, 0, 0, 0]\n",
      "1 10\n"
     ]
    },
    {
     "name": "stderr",
     "output_type": "stream",
     "text": [
      "Evaluating: 100%|██████████| 46/46 [00:10<00:00,  4.32it/s]\n"
     ]
    },
    {
     "name": "stdout",
     "output_type": "stream",
     "text": [
      "Loss: 0.3496\n",
      "Precision: 0.8825, Recall: 0.8844, F1-Score: 0.8816\n",
      "              precision    recall  f1-score   support\n",
      "\n",
      "           0       0.84      0.92      0.88       670\n",
      "           1       0.93      0.85      0.88       775\n",
      "\n",
      "    accuracy                           0.88      1445\n",
      "   macro avg       0.88      0.88      0.88      1445\n",
      "weighted avg       0.89      0.88      0.88      1445\n",
      "\n",
      "Directory /home/Minwoo/LESN/Decompose/DecomposeBERT/Models/Configs/pretrained/sadickam/sdg-classification-bert exists.\n",
      "Loading the model.\n",
      "Start Time:17:33:14\n",
      "#Module 1 in progress....\n",
      "origin\n",
      "Start Positive CI sparse\n",
      "Start Positive CI after sparse\n",
      "Start Negative TI\n",
      "[0, 7, 8, 9, 10, 12, 15]\n",
      "[1]\n",
      "[16, 0, 0, 0, 0, 0, 0, 15, 11, 16, 12, 0, 10, 0, 0, 16]\n",
      "[0, 16, 0, 0, 0, 0, 0, 0, 0, 0, 0, 0, 0, 0, 0, 0]\n",
      "1 11\n"
     ]
    },
    {
     "name": "stderr",
     "output_type": "stream",
     "text": [
      "Evaluating: 100%|██████████| 34/34 [00:07<00:00,  4.28it/s]\n"
     ]
    },
    {
     "name": "stdout",
     "output_type": "stream",
     "text": [
      "Loss: 0.3924\n",
      "Precision: 0.8349, Recall: 0.8822, F1-Score: 0.8501\n",
      "              precision    recall  f1-score   support\n",
      "\n",
      "           0       0.71      0.92      0.80       312\n",
      "           1       0.96      0.85      0.90       775\n",
      "\n",
      "    accuracy                           0.87      1087\n",
      "   macro avg       0.83      0.88      0.85      1087\n",
      "weighted avg       0.89      0.87      0.87      1087\n",
      "\n",
      "Directory /home/Minwoo/LESN/Decompose/DecomposeBERT/Models/Configs/pretrained/sadickam/sdg-classification-bert exists.\n",
      "Loading the model.\n",
      "Start Time:17:33:49\n",
      "#Module 1 in progress....\n",
      "origin\n",
      "Start Positive CI sparse\n",
      "Start Positive CI after sparse\n",
      "Start Negative TI\n",
      "[0, 7, 8, 9, 10, 12, 15]\n",
      "[1, 13]\n",
      "[16, 0, 0, 0, 0, 0, 0, 15, 11, 16, 11, 0, 9, 0, 0, 16]\n",
      "[0, 16, 0, 0, 0, 0, 0, 0, 0, 0, 0, 0, 0, 8, 0, 0]\n",
      "1 12\n"
     ]
    },
    {
     "name": "stderr",
     "output_type": "stream",
     "text": [
      "Evaluating: 100%|██████████| 45/45 [00:10<00:00,  4.24it/s]\n"
     ]
    },
    {
     "name": "stdout",
     "output_type": "stream",
     "text": [
      "Loss: 0.6570\n",
      "Precision: 0.7067, Recall: 0.6888, F1-Score: 0.6881\n",
      "              precision    recall  f1-score   support\n",
      "\n",
      "           0       0.73      0.55      0.63       665\n",
      "           1       0.68      0.83      0.75       775\n",
      "\n",
      "    accuracy                           0.70      1440\n",
      "   macro avg       0.71      0.69      0.69      1440\n",
      "weighted avg       0.70      0.70      0.69      1440\n",
      "\n",
      "Directory /home/Minwoo/LESN/Decompose/DecomposeBERT/Models/Configs/pretrained/sadickam/sdg-classification-bert exists.\n",
      "Loading the model.\n",
      "Start Time:17:34:26\n",
      "#Module 1 in progress....\n",
      "origin\n",
      "Start Positive CI sparse\n",
      "Start Positive CI after sparse\n",
      "Start Negative TI\n",
      "[0, 2, 7, 8, 9, 10, 15]\n",
      "[1, 12]\n",
      "[16, 0, 11, 0, 0, 0, 0, 12, 12, 16, 16, 0, 0, 0, 0, 16]\n",
      "[0, 16, 0, 0, 0, 0, 0, 0, 0, 0, 0, 0, 9, 0, 0, 0]\n",
      "1 13\n"
     ]
    },
    {
     "name": "stderr",
     "output_type": "stream",
     "text": [
      "Evaluating: 100%|██████████| 35/35 [00:08<00:00,  4.37it/s]\n"
     ]
    },
    {
     "name": "stdout",
     "output_type": "stream",
     "text": [
      "Loss: 0.9626\n",
      "Precision: 0.4259, Recall: 0.4559, F1-Score: 0.4307\n",
      "              precision    recall  f1-score   support\n",
      "\n",
      "           0       0.16      0.08      0.11       314\n",
      "           1       0.69      0.83      0.75       775\n",
      "\n",
      "    accuracy                           0.62      1089\n",
      "   macro avg       0.43      0.46      0.43      1089\n",
      "weighted avg       0.54      0.62      0.57      1089\n",
      "\n",
      "Directory /home/Minwoo/LESN/Decompose/DecomposeBERT/Models/Configs/pretrained/sadickam/sdg-classification-bert exists.\n",
      "Loading the model.\n",
      "Start Time:17:35:01\n",
      "#Module 1 in progress....\n",
      "origin\n",
      "Start Positive CI sparse\n",
      "Start Positive CI after sparse\n",
      "Start Negative TI\n",
      "[0, 7, 8, 9, 10, 15]\n",
      "[1, 11, 12, 13]\n",
      "[16, 0, 0, 0, 0, 0, 0, 15, 15, 16, 13, 0, 0, 0, 0, 16]\n",
      "[0, 16, 0, 0, 0, 0, 0, 0, 0, 0, 0, 16, 11, 9, 0, 0]\n",
      "1 14\n"
     ]
    },
    {
     "name": "stderr",
     "output_type": "stream",
     "text": [
      "Evaluating: 100%|██████████| 48/48 [00:11<00:00,  4.27it/s]\n"
     ]
    },
    {
     "name": "stdout",
     "output_type": "stream",
     "text": [
      "Loss: 1.6652\n",
      "Precision: 0.4083, Recall: 0.4597, F1-Score: 0.3736\n",
      "              precision    recall  f1-score   support\n",
      "\n",
      "           0       0.33      0.08      0.14       756\n",
      "           1       0.48      0.83      0.61       775\n",
      "\n",
      "    accuracy                           0.46      1531\n",
      "   macro avg       0.41      0.46      0.37      1531\n",
      "weighted avg       0.41      0.46      0.38      1531\n",
      "\n",
      "Directory /home/Minwoo/LESN/Decompose/DecomposeBERT/Models/Configs/pretrained/sadickam/sdg-classification-bert exists.\n",
      "Loading the model.\n",
      "Start Time:17:35:39\n",
      "#Module 1 in progress....\n",
      "origin\n",
      "Start Positive CI sparse\n",
      "Start Positive CI after sparse\n",
      "Start Negative TI\n",
      "[0, 7, 8, 9, 10, 12, 15]\n",
      "[1, 13]\n",
      "[16, 0, 0, 0, 0, 0, 0, 11, 9, 16, 12, 0, 11, 0, 0, 16]\n",
      "[0, 16, 0, 0, 0, 0, 0, 0, 0, 0, 0, 0, 0, 10, 0, 0]\n",
      "1 15\n"
     ]
    },
    {
     "name": "stderr",
     "output_type": "stream",
     "text": [
      "Evaluating: 100%|██████████| 75/75 [00:17<00:00,  4.24it/s]\n"
     ]
    },
    {
     "name": "stdout",
     "output_type": "stream",
     "text": [
      "Loss: 0.2507\n",
      "Precision: 0.9474, Recall: 0.9106, F1-Score: 0.9259\n",
      "              precision    recall  f1-score   support\n",
      "\n",
      "           0       0.92      0.99      0.96      1607\n",
      "           1       0.97      0.83      0.90       775\n",
      "\n",
      "    accuracy                           0.94      2382\n",
      "   macro avg       0.95      0.91      0.93      2382\n",
      "weighted avg       0.94      0.94      0.94      2382\n",
      "\n",
      "Directory /home/Minwoo/LESN/Decompose/DecomposeBERT/Models/Configs/pretrained/sadickam/sdg-classification-bert exists.\n",
      "Loading the model.\n",
      "Start Time:17:36:24\n",
      "#Module 2 in progress....\n",
      "origin\n",
      "Start Positive CI sparse\n",
      "Start Positive CI after sparse\n",
      "Start Negative TI\n",
      "[0, 9, 10, 15]\n",
      "[2]\n",
      "[16, 0, 0, 0, 0, 0, 0, 0, 0, 16, 13, 0, 0, 0, 0, 16]\n",
      "[0, 0, 16, 0, 0, 0, 0, 0, 0, 0, 0, 0, 0, 0, 0, 0]\n",
      "2 0\n"
     ]
    },
    {
     "name": "stderr",
     "output_type": "stream",
     "text": [
      "Evaluating: 100%|██████████| 50/50 [00:11<00:00,  4.24it/s]\n"
     ]
    },
    {
     "name": "stdout",
     "output_type": "stream",
     "text": [
      "Loss: 0.1851\n",
      "Precision: 0.9391, Recall: 0.9391, F1-Score: 0.9391\n",
      "              precision    recall  f1-score   support\n",
      "\n",
      "           0       0.94      0.94      0.94       797\n",
      "           1       0.94      0.94      0.94       795\n",
      "\n",
      "    accuracy                           0.94      1592\n",
      "   macro avg       0.94      0.94      0.94      1592\n",
      "weighted avg       0.94      0.94      0.94      1592\n",
      "\n",
      "Directory /home/Minwoo/LESN/Decompose/DecomposeBERT/Models/Configs/pretrained/sadickam/sdg-classification-bert exists.\n",
      "Loading the model.\n",
      "Start Time:17:37:03\n",
      "#Module 2 in progress....\n",
      "origin\n",
      "Start Positive CI sparse\n",
      "Start Positive CI after sparse\n",
      "Start Negative TI\n",
      "[0, 1, 9, 10, 15]\n",
      "[2]\n",
      "[16, 12, 0, 0, 0, 0, 0, 0, 0, 16, 13, 0, 0, 0, 0, 16]\n",
      "[0, 0, 16, 0, 0, 0, 0, 0, 0, 0, 0, 0, 0, 0, 0, 0]\n",
      "2 1\n"
     ]
    },
    {
     "name": "stderr",
     "output_type": "stream",
     "text": [
      "Evaluating: 100%|██████████| 50/50 [00:11<00:00,  4.30it/s]\n"
     ]
    },
    {
     "name": "stdout",
     "output_type": "stream",
     "text": [
      "Loss: 0.2502\n",
      "Precision: 0.9003, Recall: 0.8969, F1-Score: 0.8972\n",
      "              precision    recall  f1-score   support\n",
      "\n",
      "           0       0.93      0.86      0.89       775\n",
      "           1       0.87      0.94      0.90       795\n",
      "\n",
      "    accuracy                           0.90      1570\n",
      "   macro avg       0.90      0.90      0.90      1570\n",
      "weighted avg       0.90      0.90      0.90      1570\n",
      "\n",
      "Directory /home/Minwoo/LESN/Decompose/DecomposeBERT/Models/Configs/pretrained/sadickam/sdg-classification-bert exists.\n",
      "Loading the model.\n",
      "Start Time:17:37:41\n",
      "#Module 2 in progress....\n",
      "origin\n",
      "Start Positive CI sparse\n",
      "Start Positive CI after sparse\n",
      "Start Negative TI\n",
      "[0, 1, 5, 7, 9, 10, 12, 15]\n",
      "[2]\n",
      "[16, 8, 0, 0, 0, 9, 0, 11, 0, 15, 15, 0, 9, 0, 0, 16]\n",
      "[0, 0, 16, 0, 0, 0, 0, 0, 0, 0, 0, 0, 0, 0, 0, 0]\n",
      "2 3\n"
     ]
    },
    {
     "name": "stderr",
     "output_type": "stream",
     "text": [
      "Evaluating: 100%|██████████| 60/60 [00:14<00:00,  4.25it/s]\n"
     ]
    },
    {
     "name": "stdout",
     "output_type": "stream",
     "text": [
      "Loss: 0.5644\n",
      "Precision: 0.7376, Recall: 0.6899, F1-Score: 0.6371\n",
      "              precision    recall  f1-score   support\n",
      "\n",
      "           0       0.93      0.42      0.58      1110\n",
      "           1       0.54      0.96      0.69       795\n",
      "\n",
      "    accuracy                           0.65      1905\n",
      "   macro avg       0.74      0.69      0.64      1905\n",
      "weighted avg       0.77      0.65      0.63      1905\n",
      "\n",
      "Directory /home/Minwoo/LESN/Decompose/DecomposeBERT/Models/Configs/pretrained/sadickam/sdg-classification-bert exists.\n",
      "Loading the model.\n",
      "Start Time:17:38:21\n",
      "#Module 2 in progress....\n",
      "origin\n",
      "Start Positive CI sparse\n",
      "Start Positive CI after sparse\n",
      "Start Negative TI\n",
      "[0, 1, 7, 8, 9, 10, 15]\n",
      "[2]\n",
      "[16, 11, 0, 0, 0, 0, 0, 12, 11, 16, 12, 0, 0, 0, 0, 16]\n",
      "[0, 0, 16, 0, 0, 0, 0, 0, 0, 0, 0, 0, 0, 0, 0, 0]\n",
      "2 4\n"
     ]
    },
    {
     "name": "stderr",
     "output_type": "stream",
     "text": [
      "Evaluating: 100%|██████████| 65/65 [00:15<00:00,  4.28it/s]\n"
     ]
    },
    {
     "name": "stdout",
     "output_type": "stream",
     "text": [
      "Loss: 0.7572\n",
      "Precision: 0.7303, Recall: 0.7076, F1-Score: 0.6520\n",
      "              precision    recall  f1-score   support\n",
      "\n",
      "           0       0.93      0.47      0.63      1260\n",
      "           1       0.53      0.94      0.68       795\n",
      "\n",
      "    accuracy                           0.65      2055\n",
      "   macro avg       0.73      0.71      0.65      2055\n",
      "weighted avg       0.78      0.65      0.65      2055\n",
      "\n",
      "Directory /home/Minwoo/LESN/Decompose/DecomposeBERT/Models/Configs/pretrained/sadickam/sdg-classification-bert exists.\n",
      "Loading the model.\n",
      "Start Time:17:39:03\n",
      "#Module 2 in progress....\n",
      "origin\n",
      "Start Positive CI sparse\n",
      "Start Positive CI after sparse\n",
      "Start Negative TI\n",
      "[0, 7, 8, 9, 10, 15]\n",
      "[2]\n",
      "[16, 0, 0, 0, 0, 0, 0, 10, 8, 16, 10, 0, 0, 0, 0, 16]\n",
      "[0, 0, 16, 0, 0, 0, 0, 0, 0, 0, 0, 0, 0, 0, 0, 0]\n",
      "2 5\n"
     ]
    },
    {
     "name": "stderr",
     "output_type": "stream",
     "text": [
      "Evaluating: 100%|██████████| 53/53 [00:12<00:00,  4.26it/s]\n"
     ]
    },
    {
     "name": "stdout",
     "output_type": "stream",
     "text": [
      "Loss: 1.0090\n",
      "Precision: 0.5904, Recall: 0.5320, F1-Score: 0.4304\n",
      "              precision    recall  f1-score   support\n",
      "\n",
      "           0       0.69      0.13      0.22       882\n",
      "           1       0.49      0.94      0.64       795\n",
      "\n",
      "    accuracy                           0.51      1677\n",
      "   macro avg       0.59      0.53      0.43      1677\n",
      "weighted avg       0.60      0.51      0.42      1677\n",
      "\n",
      "Directory /home/Minwoo/LESN/Decompose/DecomposeBERT/Models/Configs/pretrained/sadickam/sdg-classification-bert exists.\n",
      "Loading the model.\n",
      "Start Time:17:39:41\n",
      "#Module 2 in progress....\n",
      "origin\n",
      "Start Positive CI sparse\n",
      "Start Positive CI after sparse\n",
      "Start Negative TI\n",
      "[0, 1, 5, 7, 9, 10, 12, 15]\n",
      "[2]\n",
      "[16, 8, 0, 0, 0, 9, 0, 12, 0, 16, 12, 0, 9, 0, 0, 16]\n",
      "[0, 0, 16, 0, 0, 0, 0, 0, 0, 0, 0, 0, 0, 0, 0, 0]\n",
      "2 6\n"
     ]
    },
    {
     "name": "stderr",
     "output_type": "stream",
     "text": [
      "Evaluating: 100%|██████████| 55/55 [00:12<00:00,  4.29it/s]\n"
     ]
    },
    {
     "name": "stdout",
     "output_type": "stream",
     "text": [
      "Loss: 0.4123\n",
      "Precision: 0.8312, Recall: 0.8159, F1-Score: 0.8030\n",
      "              precision    recall  f1-score   support\n",
      "\n",
      "           0       0.95      0.67      0.79       940\n",
      "           1       0.71      0.96      0.82       795\n",
      "\n",
      "    accuracy                           0.80      1735\n",
      "   macro avg       0.83      0.82      0.80      1735\n",
      "weighted avg       0.84      0.80      0.80      1735\n",
      "\n",
      "Directory /home/Minwoo/LESN/Decompose/DecomposeBERT/Models/Configs/pretrained/sadickam/sdg-classification-bert exists.\n",
      "Loading the model.\n",
      "Start Time:17:40:20\n",
      "#Module 2 in progress....\n",
      "origin\n",
      "Start Positive CI sparse\n",
      "Start Positive CI after sparse\n",
      "Start Negative TI\n",
      "[0, 7, 9, 10, 15]\n",
      "[2]\n",
      "[16, 0, 0, 0, 0, 0, 0, 11, 0, 16, 15, 0, 0, 0, 0, 16]\n",
      "[0, 0, 16, 0, 0, 0, 0, 0, 0, 0, 0, 0, 0, 0, 0, 0]\n",
      "2 7\n"
     ]
    },
    {
     "name": "stderr",
     "output_type": "stream",
     "text": [
      "Evaluating: 100%|██████████| 40/40 [00:09<00:00,  4.27it/s]\n"
     ]
    },
    {
     "name": "stdout",
     "output_type": "stream",
     "text": [
      "Loss: 0.2138\n",
      "Precision: 0.9287, Recall: 0.9343, F1-Score: 0.9313\n",
      "              precision    recall  f1-score   support\n",
      "\n",
      "           0       0.90      0.93      0.91       473\n",
      "           1       0.96      0.94      0.95       795\n",
      "\n",
      "    accuracy                           0.94      1268\n",
      "   macro avg       0.93      0.93      0.93      1268\n",
      "weighted avg       0.94      0.94      0.94      1268\n",
      "\n",
      "Directory /home/Minwoo/LESN/Decompose/DecomposeBERT/Models/Configs/pretrained/sadickam/sdg-classification-bert exists.\n",
      "Loading the model.\n",
      "Start Time:17:40:55\n",
      "#Module 2 in progress....\n",
      "origin\n",
      "Start Positive CI sparse\n",
      "Start Positive CI after sparse\n",
      "Start Negative TI\n",
      "[0, 1, 7, 9, 10, 15]\n",
      "[2]\n",
      "[16, 8, 0, 0, 0, 0, 0, 11, 0, 16, 14, 0, 0, 0, 0, 16]\n",
      "[0, 0, 16, 0, 0, 0, 0, 0, 0, 0, 0, 0, 0, 0, 0, 0]\n",
      "2 8\n"
     ]
    },
    {
     "name": "stderr",
     "output_type": "stream",
     "text": [
      "Evaluating: 100%|██████████| 49/49 [00:11<00:00,  4.31it/s]\n"
     ]
    },
    {
     "name": "stdout",
     "output_type": "stream",
     "text": [
      "Loss: 0.3420\n",
      "Precision: 0.8675, Recall: 0.8509, F1-Score: 0.8517\n",
      "              precision    recall  f1-score   support\n",
      "\n",
      "           0       0.93      0.75      0.83       746\n",
      "           1       0.80      0.95      0.87       795\n",
      "\n",
      "    accuracy                           0.85      1541\n",
      "   macro avg       0.87      0.85      0.85      1541\n",
      "weighted avg       0.87      0.85      0.85      1541\n",
      "\n",
      "Directory /home/Minwoo/LESN/Decompose/DecomposeBERT/Models/Configs/pretrained/sadickam/sdg-classification-bert exists.\n",
      "Loading the model.\n",
      "Start Time:17:41:33\n",
      "#Module 2 in progress....\n",
      "origin\n",
      "Start Positive CI sparse\n",
      "Start Positive CI after sparse\n",
      "Start Negative TI\n",
      "[0, 1, 5, 7, 9, 10, 14, 15]\n",
      "[2]\n",
      "[15, 11, 0, 0, 0, 10, 0, 11, 0, 16, 12, 0, 0, 0, 9, 16]\n",
      "[0, 0, 16, 0, 0, 0, 0, 0, 0, 0, 0, 0, 0, 0, 0, 0]\n",
      "2 9\n"
     ]
    },
    {
     "name": "stderr",
     "output_type": "stream",
     "text": [
      "Evaluating: 100%|██████████| 47/47 [00:11<00:00,  4.27it/s]\n"
     ]
    },
    {
     "name": "stdout",
     "output_type": "stream",
     "text": [
      "Loss: 0.1247\n",
      "Precision: 0.9495, Recall: 0.9477, F1-Score: 0.9484\n",
      "              precision    recall  f1-score   support\n",
      "\n",
      "           0       0.96      0.93      0.94       689\n",
      "           1       0.94      0.96      0.95       795\n",
      "\n",
      "    accuracy                           0.95      1484\n",
      "   macro avg       0.95      0.95      0.95      1484\n",
      "weighted avg       0.95      0.95      0.95      1484\n",
      "\n",
      "Directory /home/Minwoo/LESN/Decompose/DecomposeBERT/Models/Configs/pretrained/sadickam/sdg-classification-bert exists.\n",
      "Loading the model.\n",
      "Start Time:17:42:10\n",
      "#Module 2 in progress....\n",
      "origin\n",
      "Start Positive CI sparse\n",
      "Start Positive CI after sparse\n",
      "Start Negative TI\n",
      "[0, 1, 7, 9, 10, 15]\n",
      "[2]\n",
      "[16, 9, 0, 0, 0, 0, 0, 10, 0, 16, 12, 0, 0, 0, 0, 16]\n",
      "[0, 0, 16, 0, 0, 0, 0, 0, 0, 0, 0, 0, 0, 0, 0, 0]\n",
      "2 10\n"
     ]
    },
    {
     "name": "stderr",
     "output_type": "stream",
     "text": [
      "Evaluating: 100%|██████████| 46/46 [00:10<00:00,  4.26it/s]\n"
     ]
    },
    {
     "name": "stdout",
     "output_type": "stream",
     "text": [
      "Loss: 0.2939\n",
      "Precision: 0.8980, Recall: 0.8842, F1-Score: 0.8878\n",
      "              precision    recall  f1-score   support\n",
      "\n",
      "           0       0.94      0.81      0.87       670\n",
      "           1       0.86      0.95      0.90       795\n",
      "\n",
      "    accuracy                           0.89      1465\n",
      "   macro avg       0.90      0.88      0.89      1465\n",
      "weighted avg       0.89      0.89      0.89      1465\n",
      "\n",
      "Directory /home/Minwoo/LESN/Decompose/DecomposeBERT/Models/Configs/pretrained/sadickam/sdg-classification-bert exists.\n",
      "Loading the model.\n",
      "Start Time:17:42:50\n",
      "#Module 2 in progress....\n",
      "origin\n",
      "Start Positive CI sparse\n",
      "Start Positive CI after sparse\n",
      "Start Negative TI\n",
      "[0, 7, 9, 10, 15]\n",
      "[2, 5]\n",
      "[16, 0, 0, 0, 0, 0, 0, 9, 0, 16, 15, 0, 0, 0, 0, 16]\n",
      "[0, 0, 16, 0, 0, 8, 0, 0, 0, 0, 0, 0, 0, 0, 0, 0]\n",
      "2 11\n"
     ]
    },
    {
     "name": "stderr",
     "output_type": "stream",
     "text": [
      "Evaluating: 100%|██████████| 35/35 [00:08<00:00,  4.29it/s]\n"
     ]
    },
    {
     "name": "stdout",
     "output_type": "stream",
     "text": [
      "Loss: 0.4079\n",
      "Precision: 0.7705, Recall: 0.7039, F1-Score: 0.7235\n",
      "              precision    recall  f1-score   support\n",
      "\n",
      "           0       0.72      0.48      0.58       312\n",
      "           1       0.82      0.93      0.87       795\n",
      "\n",
      "    accuracy                           0.80      1107\n",
      "   macro avg       0.77      0.70      0.72      1107\n",
      "weighted avg       0.79      0.80      0.79      1107\n",
      "\n",
      "Directory /home/Minwoo/LESN/Decompose/DecomposeBERT/Models/Configs/pretrained/sadickam/sdg-classification-bert exists.\n",
      "Loading the model.\n",
      "Start Time:17:43:24\n",
      "#Module 2 in progress....\n",
      "origin\n",
      "Start Positive CI sparse\n",
      "Start Positive CI after sparse\n",
      "Start Negative TI\n",
      "[0, 1, 7, 8, 9, 10, 12, 15]\n",
      "[2, 4]\n",
      "[16, 9, 0, 0, 0, 0, 0, 10, 8, 16, 16, 0, 8, 0, 0, 16]\n",
      "[0, 0, 16, 0, 9, 0, 0, 0, 0, 0, 0, 0, 0, 0, 0, 0]\n",
      "2 12\n"
     ]
    },
    {
     "name": "stderr",
     "output_type": "stream",
     "text": [
      "Evaluating: 100%|██████████| 46/46 [00:10<00:00,  4.28it/s]\n"
     ]
    },
    {
     "name": "stdout",
     "output_type": "stream",
     "text": [
      "Loss: 0.2319\n",
      "Precision: 0.9374, Recall: 0.9369, F1-Score: 0.9371\n",
      "              precision    recall  f1-score   support\n",
      "\n",
      "           0       0.93      0.93      0.93       665\n",
      "           1       0.94      0.95      0.94       795\n",
      "\n",
      "    accuracy                           0.94      1460\n",
      "   macro avg       0.94      0.94      0.94      1460\n",
      "weighted avg       0.94      0.94      0.94      1460\n",
      "\n",
      "Directory /home/Minwoo/LESN/Decompose/DecomposeBERT/Models/Configs/pretrained/sadickam/sdg-classification-bert exists.\n",
      "Loading the model.\n",
      "Start Time:17:44:01\n",
      "#Module 2 in progress....\n",
      "origin\n",
      "Start Positive CI sparse\n",
      "Start Positive CI after sparse\n",
      "Start Negative TI\n",
      "[0, 1, 9, 10, 12, 15]\n",
      "[2]\n",
      "[16, 10, 0, 0, 0, 0, 0, 0, 0, 16, 15, 0, 9, 0, 0, 16]\n",
      "[0, 0, 16, 0, 0, 0, 0, 0, 0, 0, 0, 0, 0, 0, 0, 0]\n",
      "2 13\n"
     ]
    },
    {
     "name": "stderr",
     "output_type": "stream",
     "text": [
      "Evaluating: 100%|██████████| 35/35 [00:08<00:00,  4.29it/s]\n"
     ]
    },
    {
     "name": "stdout",
     "output_type": "stream",
     "text": [
      "Loss: 0.4192\n",
      "Precision: 0.6305, Recall: 0.5411, F1-Score: 0.5178\n",
      "              precision    recall  f1-score   support\n",
      "\n",
      "           0       0.53      0.13      0.21       314\n",
      "           1       0.73      0.95      0.83       795\n",
      "\n",
      "    accuracy                           0.72      1109\n",
      "   macro avg       0.63      0.54      0.52      1109\n",
      "weighted avg       0.68      0.72      0.65      1109\n",
      "\n",
      "Directory /home/Minwoo/LESN/Decompose/DecomposeBERT/Models/Configs/pretrained/sadickam/sdg-classification-bert exists.\n",
      "Loading the model.\n",
      "Start Time:17:44:38\n",
      "#Module 2 in progress....\n",
      "origin\n",
      "Start Positive CI sparse\n",
      "Start Positive CI after sparse\n",
      "Start Negative TI\n",
      "[0, 9, 10, 15]\n",
      "[2]\n",
      "[16, 0, 0, 0, 0, 0, 0, 0, 0, 16, 14, 0, 0, 0, 0, 16]\n",
      "[0, 0, 16, 0, 0, 0, 0, 0, 0, 0, 0, 0, 0, 0, 0, 0]\n",
      "2 14\n"
     ]
    },
    {
     "name": "stderr",
     "output_type": "stream",
     "text": [
      "Evaluating: 100%|██████████| 49/49 [00:11<00:00,  4.28it/s]\n"
     ]
    },
    {
     "name": "stdout",
     "output_type": "stream",
     "text": [
      "Loss: 0.8848\n",
      "Precision: 0.5583, Recall: 0.5146, F1-Score: 0.4080\n",
      "              precision    recall  f1-score   support\n",
      "\n",
      "           0       0.60      0.08      0.14       756\n",
      "           1       0.52      0.95      0.67       795\n",
      "\n",
      "    accuracy                           0.53      1551\n",
      "   macro avg       0.56      0.51      0.41      1551\n",
      "weighted avg       0.56      0.53      0.41      1551\n",
      "\n",
      "Directory /home/Minwoo/LESN/Decompose/DecomposeBERT/Models/Configs/pretrained/sadickam/sdg-classification-bert exists.\n",
      "Loading the model.\n",
      "Start Time:17:45:18\n",
      "#Module 2 in progress....\n",
      "origin\n",
      "Start Positive CI sparse\n",
      "Start Positive CI after sparse\n",
      "Start Negative TI\n",
      "[0, 1, 9, 10, 15]\n",
      "[2]\n",
      "[16, 11, 0, 0, 0, 0, 0, 0, 0, 16, 15, 0, 0, 0, 0, 16]\n",
      "[0, 0, 16, 0, 0, 0, 0, 0, 0, 0, 0, 0, 0, 0, 0, 0]\n",
      "2 15\n"
     ]
    },
    {
     "name": "stderr",
     "output_type": "stream",
     "text": [
      "Evaluating: 100%|██████████| 76/76 [00:17<00:00,  4.22it/s]\n"
     ]
    },
    {
     "name": "stdout",
     "output_type": "stream",
     "text": [
      "Loss: 0.1415\n",
      "Precision: 0.9652, Recall: 0.9643, F1-Score: 0.9647\n",
      "              precision    recall  f1-score   support\n",
      "\n",
      "           0       0.98      0.98      0.98      1607\n",
      "           1       0.95      0.95      0.95       795\n",
      "\n",
      "    accuracy                           0.97      2402\n",
      "   macro avg       0.97      0.96      0.96      2402\n",
      "weighted avg       0.97      0.97      0.97      2402\n",
      "\n",
      "Directory /home/Minwoo/LESN/Decompose/DecomposeBERT/Models/Configs/pretrained/sadickam/sdg-classification-bert exists.\n",
      "Loading the model.\n",
      "Start Time:17:46:03\n",
      "#Module 3 in progress....\n",
      "origin\n",
      "Start Positive CI sparse\n",
      "Start Positive CI after sparse\n",
      "Start Negative TI\n",
      "[0, 1, 2, 5, 7, 8, 9, 10, 12, 15]\n",
      "[3]\n",
      "[16, 8, 9, 0, 0, 10, 0, 8, 12, 16, 16, 0, 14, 0, 0, 16]\n",
      "[0, 0, 0, 16, 0, 0, 0, 0, 0, 0, 0, 0, 0, 0, 0, 0]\n",
      "3 0\n"
     ]
    },
    {
     "name": "stderr",
     "output_type": "stream",
     "text": [
      "Evaluating: 100%|██████████| 60/60 [00:14<00:00,  4.23it/s]\n"
     ]
    },
    {
     "name": "stdout",
     "output_type": "stream",
     "text": [
      "Loss: 0.2215\n",
      "Precision: 0.9088, Recall: 0.9107, F1-Score: 0.9097\n",
      "              precision    recall  f1-score   support\n",
      "\n",
      "           0       0.89      0.90      0.90       797\n",
      "           1       0.93      0.92      0.92      1110\n",
      "\n",
      "    accuracy                           0.91      1907\n",
      "   macro avg       0.91      0.91      0.91      1907\n",
      "weighted avg       0.91      0.91      0.91      1907\n",
      "\n",
      "Directory /home/Minwoo/LESN/Decompose/DecomposeBERT/Models/Configs/pretrained/sadickam/sdg-classification-bert exists.\n",
      "Loading the model.\n",
      "Start Time:17:46:44\n",
      "#Module 3 in progress....\n",
      "origin\n",
      "Start Positive CI sparse\n",
      "Start Positive CI after sparse\n",
      "Start Negative TI\n",
      "[0, 1, 7, 8, 9, 10, 12, 13, 15]\n",
      "[3, 5, 14]\n",
      "[16, 9, 0, 0, 0, 0, 0, 14, 10, 16, 15, 0, 10, 8, 0, 16]\n",
      "[0, 0, 0, 16, 0, 8, 0, 0, 0, 0, 0, 0, 0, 0, 9, 0]\n",
      "3 1\n"
     ]
    },
    {
     "name": "stderr",
     "output_type": "stream",
     "text": [
      "Evaluating: 100%|██████████| 59/59 [00:13<00:00,  4.23it/s]\n"
     ]
    },
    {
     "name": "stdout",
     "output_type": "stream",
     "text": [
      "Loss: 0.3124\n",
      "Precision: 0.8750, Recall: 0.8836, F1-Score: 0.8778\n",
      "              precision    recall  f1-score   support\n",
      "\n",
      "           0       0.82      0.90      0.86       775\n",
      "           1       0.93      0.86      0.89      1110\n",
      "\n",
      "    accuracy                           0.88      1885\n",
      "   macro avg       0.88      0.88      0.88      1885\n",
      "weighted avg       0.88      0.88      0.88      1885\n",
      "\n",
      "Directory /home/Minwoo/LESN/Decompose/DecomposeBERT/Models/Configs/pretrained/sadickam/sdg-classification-bert exists.\n",
      "Loading the model.\n",
      "Start Time:17:47:28\n",
      "#Module 3 in progress....\n",
      "origin\n",
      "Start Positive CI sparse\n",
      "Start Positive CI after sparse\n",
      "Start Negative TI\n",
      "[0, 1, 2, 7, 9, 10, 12, 15]\n",
      "[3, 13]\n",
      "[16, 10, 13, 0, 0, 0, 0, 10, 0, 16, 14, 0, 10, 0, 0, 16]\n",
      "[0, 0, 0, 9, 0, 0, 0, 0, 0, 0, 0, 0, 0, 9, 0, 0]\n",
      "3 2\n"
     ]
    },
    {
     "name": "stderr",
     "output_type": "stream",
     "text": [
      "Evaluating: 100%|██████████| 60/60 [00:14<00:00,  4.27it/s]\n"
     ]
    },
    {
     "name": "stdout",
     "output_type": "stream",
     "text": [
      "Loss: 0.2695\n",
      "Precision: 0.9028, Recall: 0.9142, F1-Score: 0.9022\n",
      "              precision    recall  f1-score   support\n",
      "\n",
      "           0       0.82      0.98      0.89       795\n",
      "           1       0.99      0.85      0.91      1110\n",
      "\n",
      "    accuracy                           0.90      1905\n",
      "   macro avg       0.90      0.91      0.90      1905\n",
      "weighted avg       0.92      0.90      0.90      1905\n",
      "\n",
      "Directory /home/Minwoo/LESN/Decompose/DecomposeBERT/Models/Configs/pretrained/sadickam/sdg-classification-bert exists.\n",
      "Loading the model.\n",
      "Start Time:17:48:10\n",
      "#Module 3 in progress....\n",
      "origin\n",
      "Start Positive CI sparse\n",
      "Start Positive CI after sparse\n",
      "Start Negative TI\n",
      "[0, 2, 7, 9, 10, 12, 15]\n",
      "[8, 3]\n",
      "[16, 0, 9, 0, 0, 0, 0, 12, 0, 16, 15, 0, 9, 0, 0, 16]\n",
      "[0, 0, 0, 16, 0, 0, 0, 0, 10, 0, 0, 0, 0, 0, 0, 0]\n",
      "3 4\n"
     ]
    },
    {
     "name": "stderr",
     "output_type": "stream",
     "text": [
      "Evaluating: 100%|██████████| 75/75 [00:17<00:00,  4.26it/s]\n"
     ]
    },
    {
     "name": "stdout",
     "output_type": "stream",
     "text": [
      "Loss: 0.5694\n",
      "Precision: 0.7243, Recall: 0.6883, F1-Score: 0.6649\n",
      "              precision    recall  f1-score   support\n",
      "\n",
      "           0       0.85      0.47      0.61      1260\n",
      "           1       0.60      0.90      0.72      1110\n",
      "\n",
      "    accuracy                           0.67      2370\n",
      "   macro avg       0.72      0.69      0.66      2370\n",
      "weighted avg       0.73      0.67      0.66      2370\n",
      "\n",
      "Directory /home/Minwoo/LESN/Decompose/DecomposeBERT/Models/Configs/pretrained/sadickam/sdg-classification-bert exists.\n",
      "Loading the model.\n",
      "Start Time:17:48:56\n",
      "#Module 3 in progress....\n",
      "origin\n",
      "Start Positive CI sparse\n",
      "Start Positive CI after sparse\n",
      "Start Negative TI\n",
      "[0, 1, 7, 8, 9, 10, 12, 15]\n",
      "[3]\n",
      "[16, 8, 0, 0, 0, 0, 0, 9, 12, 16, 15, 0, 11, 0, 0, 16]\n",
      "[0, 0, 0, 16, 0, 0, 0, 0, 0, 0, 0, 0, 0, 0, 0, 0]\n",
      "3 5\n"
     ]
    },
    {
     "name": "stderr",
     "output_type": "stream",
     "text": [
      "Evaluating: 100%|██████████| 63/63 [00:14<00:00,  4.25it/s]\n"
     ]
    },
    {
     "name": "stdout",
     "output_type": "stream",
     "text": [
      "Loss: 0.3115\n",
      "Precision: 0.8939, Recall: 0.8948, F1-Score: 0.8943\n",
      "              precision    recall  f1-score   support\n",
      "\n",
      "           0       0.88      0.89      0.88       882\n",
      "           1       0.91      0.90      0.91      1110\n",
      "\n",
      "    accuracy                           0.90      1992\n",
      "   macro avg       0.89      0.89      0.89      1992\n",
      "weighted avg       0.90      0.90      0.90      1992\n",
      "\n",
      "Directory /home/Minwoo/LESN/Decompose/DecomposeBERT/Models/Configs/pretrained/sadickam/sdg-classification-bert exists.\n",
      "Loading the model.\n",
      "Start Time:17:49:42\n",
      "#Module 3 in progress....\n",
      "origin\n",
      "Start Positive CI sparse\n",
      "Start Positive CI after sparse\n",
      "Start Negative TI\n",
      "[0, 1, 2, 9, 10, 13, 15]\n",
      "[3]\n",
      "[16, 8, 10, 0, 0, 0, 0, 0, 0, 16, 13, 0, 0, 8, 0, 16]\n",
      "[0, 0, 0, 16, 0, 0, 0, 0, 0, 0, 0, 0, 0, 0, 0, 0]\n",
      "3 6\n"
     ]
    },
    {
     "name": "stderr",
     "output_type": "stream",
     "text": [
      "Evaluating: 100%|██████████| 65/65 [00:15<00:00,  4.28it/s]\n"
     ]
    },
    {
     "name": "stdout",
     "output_type": "stream",
     "text": [
      "Loss: 0.6007\n",
      "Precision: 0.6244, Recall: 0.5559, F1-Score: 0.5009\n",
      "              precision    recall  f1-score   support\n",
      "\n",
      "           0       0.68      0.19      0.29       940\n",
      "           1       0.57      0.92      0.71      1110\n",
      "\n",
      "    accuracy                           0.59      2050\n",
      "   macro avg       0.62      0.56      0.50      2050\n",
      "weighted avg       0.62      0.59      0.52      2050\n",
      "\n",
      "Directory /home/Minwoo/LESN/Decompose/DecomposeBERT/Models/Configs/pretrained/sadickam/sdg-classification-bert exists.\n",
      "Loading the model.\n",
      "Start Time:17:50:26\n",
      "#Module 3 in progress....\n",
      "origin\n",
      "Start Positive CI sparse\n",
      "Start Positive CI after sparse\n",
      "Start Negative TI\n",
      "[0, 1, 2, 8, 9, 10, 12, 15]\n",
      "[3]\n",
      "[16, 9, 9, 0, 0, 0, 0, 0, 8, 16, 16, 0, 8, 0, 0, 16]\n",
      "[0, 0, 0, 16, 0, 0, 0, 0, 0, 0, 0, 0, 0, 0, 0, 0]\n",
      "3 7\n"
     ]
    },
    {
     "name": "stderr",
     "output_type": "stream",
     "text": [
      "Evaluating: 100%|██████████| 50/50 [00:11<00:00,  4.27it/s]\n"
     ]
    },
    {
     "name": "stdout",
     "output_type": "stream",
     "text": [
      "Loss: 0.4019\n",
      "Precision: 0.8155, Recall: 0.7949, F1-Score: 0.8039\n",
      "              precision    recall  f1-score   support\n",
      "\n",
      "           0       0.76      0.68      0.72       473\n",
      "           1       0.87      0.91      0.89      1110\n",
      "\n",
      "    accuracy                           0.84      1583\n",
      "   macro avg       0.82      0.79      0.80      1583\n",
      "weighted avg       0.84      0.84      0.84      1583\n",
      "\n",
      "Directory /home/Minwoo/LESN/Decompose/DecomposeBERT/Models/Configs/pretrained/sadickam/sdg-classification-bert exists.\n",
      "Loading the model.\n",
      "Start Time:17:51:04\n",
      "#Module 3 in progress....\n",
      "origin\n",
      "Start Positive CI sparse\n",
      "Start Positive CI after sparse\n",
      "Start Negative TI\n",
      "[0, 2, 7, 9, 10, 12, 15]\n",
      "[3]\n",
      "[15, 0, 8, 0, 0, 0, 0, 10, 0, 16, 13, 0, 9, 0, 0, 16]\n",
      "[0, 0, 0, 16, 0, 0, 0, 0, 0, 0, 0, 0, 0, 0, 0, 0]\n",
      "3 8\n"
     ]
    },
    {
     "name": "stderr",
     "output_type": "stream",
     "text": [
      "Evaluating: 100%|██████████| 58/58 [00:13<00:00,  4.21it/s]\n"
     ]
    },
    {
     "name": "stdout",
     "output_type": "stream",
     "text": [
      "Loss: 0.6175\n",
      "Precision: 0.6538, Recall: 0.5879, F1-Score: 0.5693\n",
      "              precision    recall  f1-score   support\n",
      "\n",
      "           0       0.66      0.27      0.38       746\n",
      "           1       0.65      0.91      0.76      1110\n",
      "\n",
      "    accuracy                           0.65      1856\n",
      "   macro avg       0.65      0.59      0.57      1856\n",
      "weighted avg       0.65      0.65      0.61      1856\n",
      "\n",
      "Directory /home/Minwoo/LESN/Decompose/DecomposeBERT/Models/Configs/pretrained/sadickam/sdg-classification-bert exists.\n",
      "Loading the model.\n",
      "Start Time:17:51:42\n",
      "#Module 3 in progress....\n",
      "origin\n",
      "Start Positive CI sparse\n",
      "Start Positive CI after sparse\n",
      "Start Negative TI\n",
      "[0, 1, 2, 7, 8, 9, 10, 12, 13, 15]\n",
      "[3]\n",
      "[16, 8, 12, 0, 0, 0, 0, 11, 13, 16, 15, 0, 12, 8, 0, 16]\n",
      "[0, 0, 0, 16, 0, 0, 0, 0, 0, 0, 0, 0, 0, 0, 0, 0]\n",
      "3 9\n"
     ]
    },
    {
     "name": "stderr",
     "output_type": "stream",
     "text": [
      "Evaluating: 100%|██████████| 57/57 [00:13<00:00,  4.28it/s]\n"
     ]
    },
    {
     "name": "stdout",
     "output_type": "stream",
     "text": [
      "Loss: 0.2105\n",
      "Precision: 0.9119, Recall: 0.9239, F1-Score: 0.9166\n",
      "              precision    recall  f1-score   support\n",
      "\n",
      "           0       0.86      0.94      0.90       689\n",
      "           1       0.96      0.91      0.93      1110\n",
      "\n",
      "    accuracy                           0.92      1799\n",
      "   macro avg       0.91      0.92      0.92      1799\n",
      "weighted avg       0.92      0.92      0.92      1799\n",
      "\n",
      "Directory /home/Minwoo/LESN/Decompose/DecomposeBERT/Models/Configs/pretrained/sadickam/sdg-classification-bert exists.\n",
      "Loading the model.\n",
      "Start Time:17:52:23\n",
      "#Module 3 in progress....\n",
      "origin\n",
      "Start Positive CI sparse\n",
      "Start Positive CI after sparse\n",
      "Start Negative TI\n",
      "[0, 1, 7, 8, 9, 10, 12, 15]\n",
      "[3]\n",
      "[16, 9, 0, 0, 0, 0, 0, 8, 10, 16, 14, 0, 9, 0, 0, 16]\n",
      "[0, 0, 0, 16, 0, 0, 0, 0, 0, 0, 0, 0, 0, 0, 0, 0]\n",
      "3 10\n"
     ]
    },
    {
     "name": "stderr",
     "output_type": "stream",
     "text": [
      "Evaluating: 100%|██████████| 56/56 [00:13<00:00,  4.25it/s]\n"
     ]
    },
    {
     "name": "stdout",
     "output_type": "stream",
     "text": [
      "Loss: 0.1860\n",
      "Precision: 0.9139, Recall: 0.9327, F1-Score: 0.9201\n",
      "              precision    recall  f1-score   support\n",
      "\n",
      "           0       0.85      0.97      0.90       670\n",
      "           1       0.98      0.89      0.94      1110\n",
      "\n",
      "    accuracy                           0.92      1780\n",
      "   macro avg       0.91      0.93      0.92      1780\n",
      "weighted avg       0.93      0.92      0.92      1780\n",
      "\n",
      "Directory /home/Minwoo/LESN/Decompose/DecomposeBERT/Models/Configs/pretrained/sadickam/sdg-classification-bert exists.\n",
      "Loading the model.\n",
      "Start Time:17:53:04\n",
      "#Module 3 in progress....\n",
      "origin\n",
      "Start Positive CI sparse\n",
      "Start Positive CI after sparse\n",
      "Start Negative TI\n",
      "[0, 7, 8, 9, 10, 12, 15]\n",
      "[3]\n",
      "[16, 0, 0, 0, 0, 0, 0, 11, 10, 15, 15, 0, 8, 0, 0, 16]\n",
      "[0, 0, 0, 16, 0, 0, 0, 0, 0, 0, 0, 0, 0, 0, 0, 0]\n",
      "3 11\n"
     ]
    },
    {
     "name": "stderr",
     "output_type": "stream",
     "text": [
      "Evaluating: 100%|██████████| 45/45 [00:10<00:00,  4.29it/s]\n"
     ]
    },
    {
     "name": "stdout",
     "output_type": "stream",
     "text": [
      "Loss: 0.2803\n",
      "Precision: 0.8432, Recall: 0.9303, F1-Score: 0.8721\n",
      "              precision    recall  f1-score   support\n",
      "\n",
      "           0       0.69      0.98      0.81       312\n",
      "           1       0.99      0.88      0.93      1110\n",
      "\n",
      "    accuracy                           0.90      1422\n",
      "   macro avg       0.84      0.93      0.87      1422\n",
      "weighted avg       0.93      0.90      0.91      1422\n",
      "\n",
      "Directory /home/Minwoo/LESN/Decompose/DecomposeBERT/Models/Configs/pretrained/sadickam/sdg-classification-bert exists.\n",
      "Loading the model.\n",
      "Start Time:17:53:41\n",
      "#Module 3 in progress....\n",
      "origin\n",
      "Start Positive CI sparse\n",
      "Start Positive CI after sparse\n",
      "Start Negative TI\n",
      "[0, 2, 7, 9, 10, 15]\n",
      "[3, 12]\n",
      "[16, 0, 9, 0, 0, 0, 0, 9, 0, 16, 12, 0, 0, 0, 0, 16]\n",
      "[0, 0, 0, 16, 0, 0, 0, 0, 0, 0, 0, 0, 9, 0, 0, 0]\n",
      "3 12\n"
     ]
    },
    {
     "name": "stderr",
     "output_type": "stream",
     "text": [
      "Evaluating: 100%|██████████| 56/56 [00:13<00:00,  4.24it/s]\n"
     ]
    },
    {
     "name": "stdout",
     "output_type": "stream",
     "text": [
      "Loss: 1.6241\n",
      "Precision: 0.4219, Recall: 0.4657, F1-Score: 0.4117\n",
      "              precision    recall  f1-score   support\n",
      "\n",
      "           0       0.24      0.07      0.11       665\n",
      "           1       0.61      0.86      0.71      1110\n",
      "\n",
      "    accuracy                           0.56      1775\n",
      "   macro avg       0.42      0.47      0.41      1775\n",
      "weighted avg       0.47      0.56      0.49      1775\n",
      "\n",
      "Directory /home/Minwoo/LESN/Decompose/DecomposeBERT/Models/Configs/pretrained/sadickam/sdg-classification-bert exists.\n",
      "Loading the model.\n",
      "Start Time:17:54:22\n",
      "#Module 3 in progress....\n",
      "origin\n",
      "Start Positive CI sparse\n",
      "Start Positive CI after sparse\n",
      "Start Negative TI\n",
      "[0, 2, 7, 9, 10, 12, 15]\n",
      "[8, 3]\n",
      "[15, 0, 13, 0, 0, 0, 0, 10, 0, 16, 14, 0, 9, 0, 0, 16]\n",
      "[0, 0, 0, 16, 0, 0, 0, 0, 8, 0, 0, 0, 0, 0, 0, 0]\n",
      "3 13\n"
     ]
    },
    {
     "name": "stderr",
     "output_type": "stream",
     "text": [
      "Evaluating: 100%|██████████| 45/45 [00:10<00:00,  4.26it/s]\n"
     ]
    },
    {
     "name": "stdout",
     "output_type": "stream",
     "text": [
      "Loss: 0.4487\n",
      "Precision: 0.5541, Recall: 0.5333, F1-Score: 0.5316\n",
      "              precision    recall  f1-score   support\n",
      "\n",
      "           0       0.32      0.17      0.22       314\n",
      "           1       0.79      0.89      0.84      1110\n",
      "\n",
      "    accuracy                           0.74      1424\n",
      "   macro avg       0.55      0.53      0.53      1424\n",
      "weighted avg       0.69      0.74      0.70      1424\n",
      "\n",
      "Directory /home/Minwoo/LESN/Decompose/DecomposeBERT/Models/Configs/pretrained/sadickam/sdg-classification-bert exists.\n",
      "Loading the model.\n",
      "Start Time:17:55:01\n",
      "#Module 3 in progress....\n",
      "origin\n",
      "Start Positive CI sparse\n",
      "Start Positive CI after sparse\n",
      "Start Negative TI\n",
      "[0, 2, 7, 8, 9, 10, 15]\n",
      "[3]\n",
      "[16, 0, 9, 0, 0, 0, 0, 10, 9, 16, 15, 0, 0, 0, 0, 16]\n",
      "[0, 0, 0, 16, 0, 0, 0, 0, 0, 0, 0, 0, 0, 0, 0, 0]\n",
      "3 14\n"
     ]
    },
    {
     "name": "stderr",
     "output_type": "stream",
     "text": [
      "Evaluating: 100%|██████████| 59/59 [00:13<00:00,  4.25it/s]\n"
     ]
    },
    {
     "name": "stdout",
     "output_type": "stream",
     "text": [
      "Loss: 0.8721\n",
      "Precision: 0.5235, Recall: 0.5107, F1-Score: 0.4628\n",
      "              precision    recall  f1-score   support\n",
      "\n",
      "           0       0.45      0.14      0.21       756\n",
      "           1       0.60      0.88      0.72      1110\n",
      "\n",
      "    accuracy                           0.58      1866\n",
      "   macro avg       0.52      0.51      0.46      1866\n",
      "weighted avg       0.54      0.58      0.51      1866\n",
      "\n",
      "Directory /home/Minwoo/LESN/Decompose/DecomposeBERT/Models/Configs/pretrained/sadickam/sdg-classification-bert exists.\n",
      "Loading the model.\n",
      "Start Time:17:55:43\n",
      "#Module 3 in progress....\n",
      "origin\n",
      "Start Positive CI sparse\n",
      "Start Positive CI after sparse\n",
      "Start Negative TI\n",
      "[0, 1, 7, 8, 9, 10, 12, 15]\n",
      "[2, 3]\n",
      "[16, 10, 0, 0, 0, 0, 0, 9, 8, 16, 13, 0, 9, 0, 0, 16]\n",
      "[0, 0, 12, 16, 0, 0, 0, 0, 0, 0, 0, 0, 0, 0, 0, 0]\n",
      "3 15\n"
     ]
    },
    {
     "name": "stderr",
     "output_type": "stream",
     "text": [
      "Evaluating: 100%|██████████| 85/85 [00:20<00:00,  4.18it/s]\n"
     ]
    },
    {
     "name": "stdout",
     "output_type": "stream",
     "text": [
      "Loss: 0.2308\n",
      "Precision: 0.9328, Recall: 0.9204, F1-Score: 0.9255\n",
      "              precision    recall  f1-score   support\n",
      "\n",
      "           0       0.92      0.97      0.94      1607\n",
      "           1       0.95      0.87      0.91      1110\n",
      "\n",
      "    accuracy                           0.93      2717\n",
      "   macro avg       0.93      0.92      0.93      2717\n",
      "weighted avg       0.93      0.93      0.93      2717\n",
      "\n",
      "Directory /home/Minwoo/LESN/Decompose/DecomposeBERT/Models/Configs/pretrained/sadickam/sdg-classification-bert exists.\n",
      "Loading the model.\n",
      "Start Time:17:56:30\n",
      "#Module 4 in progress....\n",
      "origin\n",
      "Start Positive CI sparse\n",
      "Start Positive CI after sparse\n",
      "Start Negative TI\n",
      "[0, 2, 7, 8, 9, 10, 12, 15]\n",
      "[4, 14]\n",
      "[16, 0, 10, 0, 0, 0, 0, 15, 9, 16, 16, 0, 11, 0, 0, 16]\n",
      "[0, 0, 0, 0, 15, 0, 0, 0, 0, 0, 0, 0, 0, 0, 8, 0]\n",
      "4 0\n"
     ]
    },
    {
     "name": "stderr",
     "output_type": "stream",
     "text": [
      "Evaluating: 100%|██████████| 65/65 [00:15<00:00,  4.23it/s]\n"
     ]
    },
    {
     "name": "stdout",
     "output_type": "stream",
     "text": [
      "Loss: 0.3746\n",
      "Precision: 0.8753, Recall: 0.8912, F1-Score: 0.8796\n",
      "              precision    recall  f1-score   support\n",
      "\n",
      "           0       0.80      0.93      0.86       797\n",
      "           1       0.95      0.85      0.90      1260\n",
      "\n",
      "    accuracy                           0.88      2057\n",
      "   macro avg       0.88      0.89      0.88      2057\n",
      "weighted avg       0.89      0.88      0.88      2057\n",
      "\n",
      "Directory /home/Minwoo/LESN/Decompose/DecomposeBERT/Models/Configs/pretrained/sadickam/sdg-classification-bert exists.\n",
      "Loading the model.\n",
      "Start Time:17:57:11\n",
      "#Module 4 in progress....\n",
      "origin\n",
      "Start Positive CI sparse\n",
      "Start Positive CI after sparse\n",
      "Start Negative TI\n",
      "[0, 1, 7, 9, 10, 12, 15]\n",
      "[4]\n",
      "[16, 10, 0, 0, 0, 0, 0, 10, 0, 16, 15, 0, 10, 0, 0, 16]\n",
      "[0, 0, 0, 0, 16, 0, 0, 0, 0, 0, 0, 0, 0, 0, 0, 0]\n",
      "4 1\n"
     ]
    },
    {
     "name": "stderr",
     "output_type": "stream",
     "text": [
      "Evaluating: 100%|██████████| 64/64 [00:15<00:00,  4.21it/s]\n"
     ]
    },
    {
     "name": "stdout",
     "output_type": "stream",
     "text": [
      "Loss: 0.3299\n",
      "Precision: 0.8769, Recall: 0.8853, F1-Score: 0.8805\n",
      "              precision    recall  f1-score   support\n",
      "\n",
      "           0       0.83      0.88      0.85       775\n",
      "           1       0.92      0.89      0.91      1260\n",
      "\n",
      "    accuracy                           0.89      2035\n",
      "   macro avg       0.88      0.89      0.88      2035\n",
      "weighted avg       0.89      0.89      0.89      2035\n",
      "\n",
      "Directory /home/Minwoo/LESN/Decompose/DecomposeBERT/Models/Configs/pretrained/sadickam/sdg-classification-bert exists.\n",
      "Loading the model.\n",
      "Start Time:17:57:54\n",
      "#Module 4 in progress....\n",
      "origin\n",
      "Start Positive CI sparse\n",
      "Start Positive CI after sparse\n",
      "Start Negative TI\n",
      "[0, 1, 5, 7, 9, 10, 12, 14, 15]\n",
      "[4]\n",
      "[16, 10, 0, 0, 0, 8, 0, 12, 0, 16, 12, 0, 10, 0, 8, 16]\n",
      "[0, 0, 0, 0, 16, 0, 0, 0, 0, 0, 0, 0, 0, 0, 0, 0]\n",
      "4 2\n"
     ]
    },
    {
     "name": "stderr",
     "output_type": "stream",
     "text": [
      "Evaluating: 100%|██████████| 65/65 [00:15<00:00,  4.25it/s]\n"
     ]
    },
    {
     "name": "stdout",
     "output_type": "stream",
     "text": [
      "Loss: 0.6815\n",
      "Precision: 0.5535, Recall: 0.5234, F1-Score: 0.4812\n",
      "              precision    recall  f1-score   support\n",
      "\n",
      "           0       0.48      0.15      0.22       795\n",
      "           1       0.63      0.90      0.74      1260\n",
      "\n",
      "    accuracy                           0.61      2055\n",
      "   macro avg       0.55      0.52      0.48      2055\n",
      "weighted avg       0.57      0.61      0.54      2055\n",
      "\n",
      "Directory /home/Minwoo/LESN/Decompose/DecomposeBERT/Models/Configs/pretrained/sadickam/sdg-classification-bert exists.\n",
      "Loading the model.\n",
      "Start Time:17:58:38\n",
      "#Module 4 in progress....\n",
      "origin\n",
      "Start Positive CI sparse\n",
      "Start Positive CI after sparse\n",
      "Start Negative TI\n",
      "[0, 1, 2, 7, 8, 9, 10, 12, 14, 15]\n",
      "[4]\n",
      "[16, 13, 8, 0, 0, 0, 0, 14, 10, 16, 13, 0, 12, 0, 9, 16]\n",
      "[0, 0, 0, 0, 16, 0, 0, 0, 0, 0, 0, 0, 0, 0, 0, 0]\n",
      "4 3\n"
     ]
    },
    {
     "name": "stderr",
     "output_type": "stream",
     "text": [
      "Evaluating: 100%|██████████| 75/75 [00:25<00:00,  2.98it/s]\n"
     ]
    },
    {
     "name": "stdout",
     "output_type": "stream",
     "text": [
      "Loss: 0.3872\n",
      "Precision: 0.8833, Recall: 0.8840, F1-Score: 0.8836\n",
      "              precision    recall  f1-score   support\n",
      "\n",
      "           0       0.87      0.88      0.88      1110\n",
      "           1       0.90      0.88      0.89      1260\n",
      "\n",
      "    accuracy                           0.88      2370\n",
      "   macro avg       0.88      0.88      0.88      2370\n",
      "weighted avg       0.88      0.88      0.88      2370\n",
      "\n",
      "Directory /home/Minwoo/LESN/Decompose/DecomposeBERT/Models/Configs/pretrained/sadickam/sdg-classification-bert exists.\n",
      "Loading the model.\n",
      "Start Time:17:59:30\n",
      "#Module 4 in progress....\n",
      "origin\n",
      "Start Positive CI sparse\n",
      "Start Positive CI after sparse\n",
      "Start Negative TI\n",
      "[0, 2, 7, 9, 10, 15]\n",
      "[4, 12]\n",
      "[16, 0, 9, 0, 0, 0, 0, 9, 0, 16, 14, 0, 0, 0, 0, 16]\n",
      "[0, 0, 0, 0, 16, 0, 0, 0, 0, 0, 0, 0, 8, 0, 0, 0]\n",
      "4 5\n"
     ]
    },
    {
     "name": "stderr",
     "output_type": "stream",
     "text": [
      "Evaluating: 100%|██████████| 67/67 [00:21<00:00,  3.16it/s]\n"
     ]
    },
    {
     "name": "stdout",
     "output_type": "stream",
     "text": [
      "Loss: 0.9070\n",
      "Precision: 0.5055, Recall: 0.5029, F1-Score: 0.4614\n",
      "              precision    recall  f1-score   support\n",
      "\n",
      "           0       0.42      0.15      0.23       882\n",
      "           1       0.59      0.85      0.70      1260\n",
      "\n",
      "    accuracy                           0.56      2142\n",
      "   macro avg       0.51      0.50      0.46      2142\n",
      "weighted avg       0.52      0.56      0.50      2142\n",
      "\n",
      "Directory /home/Minwoo/LESN/Decompose/DecomposeBERT/Models/Configs/pretrained/sadickam/sdg-classification-bert exists.\n",
      "Loading the model.\n",
      "Start Time:18:00:21\n",
      "#Module 4 in progress....\n",
      "origin\n",
      "Start Positive CI sparse\n",
      "Start Positive CI after sparse\n",
      "Start Negative TI\n",
      "[0, 1, 2, 7, 9, 10, 12, 15]\n",
      "[4]\n",
      "[16, 8, 14, 0, 0, 0, 0, 11, 0, 16, 12, 0, 12, 0, 0, 16]\n",
      "[0, 0, 0, 0, 16, 0, 0, 0, 0, 0, 0, 0, 0, 0, 0, 0]\n",
      "4 6\n"
     ]
    },
    {
     "name": "stderr",
     "output_type": "stream",
     "text": [
      "Evaluating: 100%|██████████| 69/69 [00:22<00:00,  3.09it/s]\n"
     ]
    },
    {
     "name": "stdout",
     "output_type": "stream",
     "text": [
      "Loss: 0.6239\n",
      "Precision: 0.5779, Recall: 0.5444, F1-Score: 0.5115\n",
      "              precision    recall  f1-score   support\n",
      "\n",
      "           0       0.56      0.22      0.31       940\n",
      "           1       0.60      0.87      0.71      1260\n",
      "\n",
      "    accuracy                           0.59      2200\n",
      "   macro avg       0.58      0.54      0.51      2200\n",
      "weighted avg       0.58      0.59      0.54      2200\n",
      "\n",
      "Directory /home/Minwoo/LESN/Decompose/DecomposeBERT/Models/Configs/pretrained/sadickam/sdg-classification-bert exists.\n",
      "Loading the model.\n",
      "Start Time:18:01:14\n",
      "#Module 4 in progress....\n",
      "origin\n",
      "Start Positive CI sparse\n",
      "Start Positive CI after sparse\n",
      "Start Negative TI\n",
      "[0, 2, 7, 9, 10, 12, 14, 15]\n",
      "[4]\n",
      "[16, 0, 10, 0, 0, 0, 0, 9, 0, 16, 10, 0, 10, 0, 8, 16]\n",
      "[0, 0, 0, 0, 16, 0, 0, 0, 0, 0, 0, 0, 0, 0, 0, 0]\n",
      "4 7\n"
     ]
    },
    {
     "name": "stderr",
     "output_type": "stream",
     "text": [
      "Evaluating: 100%|██████████| 55/55 [00:17<00:00,  3.17it/s]\n"
     ]
    },
    {
     "name": "stdout",
     "output_type": "stream",
     "text": [
      "Loss: 0.4039\n",
      "Precision: 0.8027, Recall: 0.8090, F1-Score: 0.8058\n",
      "              precision    recall  f1-score   support\n",
      "\n",
      "           0       0.71      0.73      0.72       473\n",
      "           1       0.90      0.89      0.89      1260\n",
      "\n",
      "    accuracy                           0.84      1733\n",
      "   macro avg       0.80      0.81      0.81      1733\n",
      "weighted avg       0.85      0.84      0.84      1733\n",
      "\n",
      "Directory /home/Minwoo/LESN/Decompose/DecomposeBERT/Models/Configs/pretrained/sadickam/sdg-classification-bert exists.\n",
      "Loading the model.\n",
      "Start Time:18:02:01\n",
      "#Module 4 in progress....\n",
      "origin\n",
      "Start Positive CI sparse\n",
      "Start Positive CI after sparse\n",
      "Start Negative TI\n",
      "[0, 1, 7, 8, 9, 10, 12, 15]\n",
      "[4]\n",
      "[16, 11, 0, 0, 0, 0, 0, 13, 10, 16, 14, 0, 13, 0, 0, 16]\n",
      "[0, 0, 0, 0, 16, 0, 0, 0, 0, 0, 0, 0, 0, 0, 0, 0]\n",
      "4 8\n"
     ]
    },
    {
     "name": "stderr",
     "output_type": "stream",
     "text": [
      "Evaluating: 100%|██████████| 63/63 [00:18<00:00,  3.43it/s]\n"
     ]
    },
    {
     "name": "stdout",
     "output_type": "stream",
     "text": [
      "Loss: 0.2980\n",
      "Precision: 0.8923, Recall: 0.9092, F1-Score: 0.8984\n",
      "              precision    recall  f1-score   support\n",
      "\n",
      "           0       0.83      0.93      0.88       746\n",
      "           1       0.96      0.88      0.92      1260\n",
      "\n",
      "    accuracy                           0.90      2006\n",
      "   macro avg       0.89      0.91      0.90      2006\n",
      "weighted avg       0.91      0.90      0.90      2006\n",
      "\n",
      "Directory /home/Minwoo/LESN/Decompose/DecomposeBERT/Models/Configs/pretrained/sadickam/sdg-classification-bert exists.\n",
      "Loading the model.\n",
      "Start Time:18:02:47\n",
      "#Module 4 in progress....\n",
      "origin\n",
      "Start Positive CI sparse\n",
      "Start Positive CI after sparse\n",
      "Start Negative TI\n",
      "[0, 1, 2, 7, 8, 9, 10, 12, 14, 15]\n",
      "[4]\n",
      "[15, 8, 8, 0, 0, 0, 0, 14, 10, 16, 15, 0, 11, 0, 9, 16]\n",
      "[0, 0, 0, 0, 16, 0, 0, 0, 0, 0, 0, 0, 0, 0, 0, 0]\n",
      "4 9\n"
     ]
    },
    {
     "name": "stderr",
     "output_type": "stream",
     "text": [
      "Evaluating: 100%|██████████| 61/61 [00:17<00:00,  3.51it/s]\n"
     ]
    },
    {
     "name": "stdout",
     "output_type": "stream",
     "text": [
      "Loss: 0.2395\n",
      "Precision: 0.8963, Recall: 0.9157, F1-Score: 0.9038\n",
      "              precision    recall  f1-score   support\n",
      "\n",
      "           0       0.83      0.94      0.88       689\n",
      "           1       0.96      0.90      0.93      1260\n",
      "\n",
      "    accuracy                           0.91      1949\n",
      "   macro avg       0.90      0.92      0.90      1949\n",
      "weighted avg       0.92      0.91      0.91      1949\n",
      "\n",
      "Directory /home/Minwoo/LESN/Decompose/DecomposeBERT/Models/Configs/pretrained/sadickam/sdg-classification-bert exists.\n",
      "Loading the model.\n",
      "Start Time:18:03:39\n",
      "#Module 4 in progress....\n",
      "origin\n",
      "Start Positive CI sparse\n",
      "Start Positive CI after sparse\n",
      "Start Negative TI\n",
      "[0, 2, 9, 10, 12, 15]\n",
      "[4, 7]\n",
      "[16, 0, 9, 0, 0, 0, 0, 0, 0, 16, 13, 0, 8, 0, 0, 16]\n",
      "[0, 0, 0, 0, 15, 0, 0, 8, 0, 0, 0, 0, 0, 0, 0, 0]\n",
      "4 10\n"
     ]
    },
    {
     "name": "stderr",
     "output_type": "stream",
     "text": [
      "Evaluating: 100%|██████████| 61/61 [00:18<00:00,  3.35it/s]\n"
     ]
    },
    {
     "name": "stdout",
     "output_type": "stream",
     "text": [
      "Loss: 0.2622\n",
      "Precision: 0.8806, Recall: 0.8954, F1-Score: 0.8869\n",
      "              precision    recall  f1-score   support\n",
      "\n",
      "           0       0.82      0.90      0.86       670\n",
      "           1       0.94      0.90      0.92      1260\n",
      "\n",
      "    accuracy                           0.90      1930\n",
      "   macro avg       0.88      0.90      0.89      1930\n",
      "weighted avg       0.90      0.90      0.90      1930\n",
      "\n",
      "Directory /home/Minwoo/LESN/Decompose/DecomposeBERT/Models/Configs/pretrained/sadickam/sdg-classification-bert exists.\n",
      "Loading the model.\n",
      "Start Time:18:04:29\n",
      "#Module 4 in progress....\n",
      "origin\n",
      "Start Positive CI sparse\n",
      "Start Positive CI after sparse\n",
      "Start Negative TI\n",
      "[0, 1, 2, 7, 9, 10, 12, 14, 15]\n",
      "[4]\n",
      "[16, 10, 10, 0, 0, 0, 0, 13, 0, 16, 15, 0, 8, 0, 9, 16]\n",
      "[0, 0, 0, 0, 16, 0, 0, 0, 0, 0, 0, 0, 0, 0, 0, 0]\n",
      "4 11\n"
     ]
    },
    {
     "name": "stderr",
     "output_type": "stream",
     "text": [
      "Evaluating: 100%|██████████| 50/50 [00:14<00:00,  3.34it/s]\n"
     ]
    },
    {
     "name": "stdout",
     "output_type": "stream",
     "text": [
      "Loss: 0.3228\n",
      "Precision: 0.7535, Recall: 0.7730, F1-Score: 0.7624\n",
      "              precision    recall  f1-score   support\n",
      "\n",
      "           0       0.59      0.66      0.62       312\n",
      "           1       0.91      0.89      0.90      1260\n",
      "\n",
      "    accuracy                           0.84      1572\n",
      "   macro avg       0.75      0.77      0.76      1572\n",
      "weighted avg       0.85      0.84      0.85      1572\n",
      "\n",
      "Directory /home/Minwoo/LESN/Decompose/DecomposeBERT/Models/Configs/pretrained/sadickam/sdg-classification-bert exists.\n",
      "Loading the model.\n",
      "Start Time:18:05:12\n",
      "#Module 4 in progress....\n",
      "origin\n",
      "Start Positive CI sparse\n",
      "Start Positive CI after sparse\n",
      "Start Negative TI\n",
      "[0, 2, 5, 7, 8, 9, 10, 15]\n",
      "[4, 14]\n",
      "[16, 0, 13, 0, 0, 10, 0, 12, 8, 16, 15, 0, 0, 0, 0, 16]\n",
      "[0, 0, 0, 0, 16, 0, 0, 0, 0, 0, 0, 0, 0, 0, 8, 0]\n",
      "4 12\n"
     ]
    },
    {
     "name": "stderr",
     "output_type": "stream",
     "text": [
      "Evaluating: 100%|██████████| 61/61 [00:18<00:00,  3.32it/s]\n"
     ]
    },
    {
     "name": "stdout",
     "output_type": "stream",
     "text": [
      "Loss: 0.7933\n",
      "Precision: 0.5091, Recall: 0.5051, F1-Score: 0.4809\n",
      "              precision    recall  f1-score   support\n",
      "\n",
      "           0       0.36      0.16      0.22       665\n",
      "           1       0.66      0.85      0.74      1260\n",
      "\n",
      "    accuracy                           0.61      1925\n",
      "   macro avg       0.51      0.51      0.48      1925\n",
      "weighted avg       0.55      0.61      0.56      1925\n",
      "\n",
      "Directory /home/Minwoo/LESN/Decompose/DecomposeBERT/Models/Configs/pretrained/sadickam/sdg-classification-bert exists.\n",
      "Loading the model.\n",
      "Start Time:18:06:03\n",
      "#Module 4 in progress....\n",
      "origin\n",
      "Start Positive CI sparse\n",
      "Start Positive CI after sparse\n",
      "Start Negative TI\n",
      "[0, 2, 7, 9, 10, 12, 15]\n",
      "[4]\n",
      "[16, 0, 8, 0, 0, 0, 0, 9, 0, 16, 16, 0, 8, 0, 0, 16]\n",
      "[0, 0, 0, 0, 16, 0, 0, 0, 0, 0, 0, 0, 0, 0, 0, 0]\n",
      "4 13\n"
     ]
    },
    {
     "name": "stderr",
     "output_type": "stream",
     "text": [
      "Evaluating: 100%|██████████| 50/50 [00:16<00:00,  3.07it/s]\n"
     ]
    },
    {
     "name": "stdout",
     "output_type": "stream",
     "text": [
      "Loss: 0.5373\n",
      "Precision: 0.4654, Recall: 0.4787, F1-Score: 0.4665\n",
      "              precision    recall  f1-score   support\n",
      "\n",
      "           0       0.14      0.08      0.10       314\n",
      "           1       0.79      0.88      0.83      1260\n",
      "\n",
      "    accuracy                           0.72      1574\n",
      "   macro avg       0.47      0.48      0.47      1574\n",
      "weighted avg       0.66      0.72      0.69      1574\n",
      "\n",
      "Directory /home/Minwoo/LESN/Decompose/DecomposeBERT/Models/Configs/pretrained/sadickam/sdg-classification-bert exists.\n",
      "Loading the model.\n",
      "Start Time:18:06:50\n",
      "#Module 4 in progress....\n",
      "origin\n",
      "Start Positive CI sparse\n",
      "Start Positive CI after sparse\n",
      "Start Negative TI\n",
      "[0, 1, 7, 8, 9, 10, 15]\n",
      "[4]\n",
      "[16, 12, 0, 0, 0, 0, 0, 12, 13, 16, 13, 0, 0, 0, 0, 16]\n",
      "[0, 0, 0, 0, 16, 0, 0, 0, 0, 0, 0, 0, 0, 0, 0, 0]\n",
      "4 14\n"
     ]
    },
    {
     "name": "stderr",
     "output_type": "stream",
     "text": [
      "Evaluating: 100%|██████████| 63/63 [00:19<00:00,  3.28it/s]\n"
     ]
    },
    {
     "name": "stdout",
     "output_type": "stream",
     "text": [
      "Loss: 1.1535\n",
      "Precision: 0.4581, Recall: 0.4824, F1-Score: 0.4300\n",
      "              precision    recall  f1-score   support\n",
      "\n",
      "           0       0.30      0.09      0.14       756\n",
      "           1       0.62      0.88      0.72      1260\n",
      "\n",
      "    accuracy                           0.58      2016\n",
      "   macro avg       0.46      0.48      0.43      2016\n",
      "weighted avg       0.50      0.58      0.50      2016\n",
      "\n",
      "Directory /home/Minwoo/LESN/Decompose/DecomposeBERT/Models/Configs/pretrained/sadickam/sdg-classification-bert exists.\n",
      "Loading the model.\n",
      "Start Time:18:07:37\n",
      "#Module 4 in progress....\n",
      "origin\n",
      "Start Positive CI sparse\n",
      "Start Positive CI after sparse\n",
      "Start Negative TI\n",
      "[0, 1, 2, 5, 7, 9, 10, 12, 14, 15]\n",
      "[3, 4]\n",
      "[16, 13, 9, 0, 0, 10, 0, 11, 0, 16, 16, 0, 10, 0, 8, 16]\n",
      "[0, 0, 0, 8, 15, 0, 0, 0, 0, 0, 0, 0, 0, 0, 0, 0]\n",
      "4 15\n"
     ]
    },
    {
     "name": "stderr",
     "output_type": "stream",
     "text": [
      "Evaluating: 100%|██████████| 90/90 [00:28<00:00,  3.15it/s]\n"
     ]
    },
    {
     "name": "stdout",
     "output_type": "stream",
     "text": [
      "Loss: 0.3200\n",
      "Precision: 0.9160, Recall: 0.9146, F1-Score: 0.9153\n",
      "              precision    recall  f1-score   support\n",
      "\n",
      "           0       0.92      0.93      0.93      1607\n",
      "           1       0.91      0.90      0.90      1260\n",
      "\n",
      "    accuracy                           0.92      2867\n",
      "   macro avg       0.92      0.91      0.92      2867\n",
      "weighted avg       0.92      0.92      0.92      2867\n",
      "\n",
      "Directory /home/Minwoo/LESN/Decompose/DecomposeBERT/Models/Configs/pretrained/sadickam/sdg-classification-bert exists.\n",
      "Loading the model.\n",
      "Start Time:18:08:33\n",
      "#Module 5 in progress....\n",
      "origin\n",
      "Start Positive CI sparse\n",
      "Start Positive CI after sparse\n",
      "Start Negative TI\n",
      "[0, 1, 2, 7, 9, 10, 12, 14, 15]\n",
      "[5]\n",
      "[16, 9, 14, 0, 0, 0, 0, 14, 0, 16, 13, 0, 10, 0, 8, 16]\n",
      "[0, 0, 0, 0, 0, 16, 0, 0, 0, 0, 0, 0, 0, 0, 0, 0]\n",
      "5 0\n"
     ]
    },
    {
     "name": "stderr",
     "output_type": "stream",
     "text": [
      "Evaluating: 100%|██████████| 53/53 [00:16<00:00,  3.14it/s]\n"
     ]
    },
    {
     "name": "stdout",
     "output_type": "stream",
     "text": [
      "Loss: 0.1695\n",
      "Precision: 0.9307, Recall: 0.9304, F1-Score: 0.9279\n",
      "              precision    recall  f1-score   support\n",
      "\n",
      "           0       0.88      0.98      0.93       797\n",
      "           1       0.98      0.88      0.93       882\n",
      "\n",
      "    accuracy                           0.93      1679\n",
      "   macro avg       0.93      0.93      0.93      1679\n",
      "weighted avg       0.93      0.93      0.93      1679\n",
      "\n",
      "Directory /home/Minwoo/LESN/Decompose/DecomposeBERT/Models/Configs/pretrained/sadickam/sdg-classification-bert exists.\n",
      "Loading the model.\n",
      "Start Time:18:09:17\n",
      "#Module 5 in progress....\n",
      "origin\n",
      "Start Positive CI sparse\n",
      "Start Positive CI after sparse\n",
      "Start Negative TI\n",
      "[0, 1, 2, 7, 9, 10, 15]\n",
      "[12, 5]\n",
      "[16, 8, 15, 0, 0, 0, 0, 11, 0, 16, 13, 0, 0, 0, 0, 16]\n",
      "[0, 0, 0, 0, 0, 16, 0, 0, 0, 0, 0, 0, 14, 0, 0, 0]\n",
      "5 1\n"
     ]
    },
    {
     "name": "stderr",
     "output_type": "stream",
     "text": [
      "Evaluating: 100%|██████████| 52/52 [00:16<00:00,  3.06it/s]\n"
     ]
    },
    {
     "name": "stdout",
     "output_type": "stream",
     "text": [
      "Loss: 0.4274\n",
      "Precision: 0.8608, Recall: 0.8542, F1-Score: 0.8559\n",
      "              precision    recall  f1-score   support\n",
      "\n",
      "           0       0.88      0.80      0.84       775\n",
      "           1       0.84      0.91      0.87       882\n",
      "\n",
      "    accuracy                           0.86      1657\n",
      "   macro avg       0.86      0.85      0.86      1657\n",
      "weighted avg       0.86      0.86      0.86      1657\n",
      "\n",
      "Directory /home/Minwoo/LESN/Decompose/DecomposeBERT/Models/Configs/pretrained/sadickam/sdg-classification-bert exists.\n",
      "Loading the model.\n",
      "Start Time:18:10:05\n",
      "#Module 5 in progress....\n",
      "origin\n",
      "Start Positive CI sparse\n",
      "Start Positive CI after sparse\n",
      "Start Negative TI\n",
      "[0, 1, 2, 7, 8, 9, 10, 12, 15]\n",
      "[5]\n",
      "[16, 8, 8, 0, 0, 0, 0, 10, 12, 16, 15, 0, 12, 0, 0, 16]\n",
      "[0, 0, 0, 0, 0, 16, 0, 0, 0, 0, 0, 0, 0, 0, 0, 0]\n",
      "5 2\n"
     ]
    },
    {
     "name": "stderr",
     "output_type": "stream",
     "text": [
      "Evaluating: 100%|██████████| 53/53 [00:16<00:00,  3.14it/s]\n"
     ]
    },
    {
     "name": "stdout",
     "output_type": "stream",
     "text": [
      "Loss: 0.3258\n",
      "Precision: 0.9060, Recall: 0.9062, F1-Score: 0.9040\n",
      "              precision    recall  f1-score   support\n",
      "\n",
      "           0       0.86      0.95      0.90       795\n",
      "           1       0.95      0.86      0.90       882\n",
      "\n",
      "    accuracy                           0.90      1677\n",
      "   macro avg       0.91      0.91      0.90      1677\n",
      "weighted avg       0.91      0.90      0.90      1677\n",
      "\n",
      "Directory /home/Minwoo/LESN/Decompose/DecomposeBERT/Models/Configs/pretrained/sadickam/sdg-classification-bert exists.\n",
      "Loading the model.\n",
      "Start Time:18:10:52\n",
      "#Module 5 in progress....\n",
      "origin\n",
      "Start Positive CI sparse\n",
      "Start Positive CI after sparse\n",
      "Start Negative TI\n",
      "[0, 1, 2, 7, 9, 10, 15]\n",
      "[8, 12, 5]\n",
      "[15, 13, 14, 0, 0, 0, 0, 15, 0, 16, 15, 0, 0, 0, 0, 16]\n",
      "[0, 0, 0, 0, 0, 16, 0, 0, 10, 0, 0, 0, 10, 0, 0, 0]\n",
      "5 3\n"
     ]
    },
    {
     "name": "stderr",
     "output_type": "stream",
     "text": [
      "Evaluating: 100%|██████████| 63/63 [00:18<00:00,  3.33it/s]\n"
     ]
    },
    {
     "name": "stdout",
     "output_type": "stream",
     "text": [
      "Loss: 0.3579\n",
      "Precision: 0.8732, Recall: 0.8778, F1-Score: 0.8739\n",
      "              precision    recall  f1-score   support\n",
      "\n",
      "           0       0.92      0.85      0.88      1110\n",
      "           1       0.83      0.91      0.86       882\n",
      "\n",
      "    accuracy                           0.87      1992\n",
      "   macro avg       0.87      0.88      0.87      1992\n",
      "weighted avg       0.88      0.87      0.87      1992\n",
      "\n",
      "Directory /home/Minwoo/LESN/Decompose/DecomposeBERT/Models/Configs/pretrained/sadickam/sdg-classification-bert exists.\n",
      "Loading the model.\n",
      "Start Time:18:11:44\n",
      "#Module 5 in progress....\n",
      "origin\n",
      "Start Positive CI sparse\n",
      "Start Positive CI after sparse\n",
      "Start Negative TI\n",
      "[0, 1, 2, 7, 9, 10, 12, 15]\n",
      "[5, 14]\n",
      "[16, 9, 9, 0, 0, 0, 0, 10, 0, 16, 15, 0, 12, 0, 0, 16]\n",
      "[0, 0, 0, 0, 0, 16, 0, 0, 0, 0, 0, 0, 0, 0, 9, 0]\n",
      "5 4\n"
     ]
    },
    {
     "name": "stderr",
     "output_type": "stream",
     "text": [
      "Evaluating: 100%|██████████| 67/67 [00:20<00:00,  3.29it/s]\n"
     ]
    },
    {
     "name": "stdout",
     "output_type": "stream",
     "text": [
      "Loss: 0.4570\n",
      "Precision: 0.7500, Recall: 0.7556, F1-Score: 0.7386\n",
      "              precision    recall  f1-score   support\n",
      "\n",
      "           0       0.86      0.66      0.75      1260\n",
      "           1       0.64      0.85      0.73       882\n",
      "\n",
      "    accuracy                           0.74      2142\n",
      "   macro avg       0.75      0.76      0.74      2142\n",
      "weighted avg       0.77      0.74      0.74      2142\n",
      "\n",
      "Directory /home/Minwoo/LESN/Decompose/DecomposeBERT/Models/Configs/pretrained/sadickam/sdg-classification-bert exists.\n",
      "Loading the model.\n",
      "Start Time:18:12:38\n",
      "#Module 5 in progress....\n",
      "origin\n",
      "Start Positive CI sparse\n",
      "Start Positive CI after sparse\n",
      "Start Negative TI\n",
      "[0, 2, 7, 8, 9, 10, 15]\n",
      "[1, 12, 5, 14]\n",
      "[16, 0, 15, 0, 0, 0, 0, 8, 8, 16, 12, 0, 0, 0, 0, 16]\n",
      "[0, 8, 0, 0, 0, 16, 0, 0, 0, 0, 0, 0, 13, 0, 12, 0]\n",
      "5 6\n"
     ]
    },
    {
     "name": "stderr",
     "output_type": "stream",
     "text": [
      "Evaluating: 100%|██████████| 57/57 [00:18<00:00,  3.07it/s]\n"
     ]
    },
    {
     "name": "stdout",
     "output_type": "stream",
     "text": [
      "Loss: 1.1395\n",
      "Precision: 0.5535, Recall: 0.5221, F1-Score: 0.4335\n",
      "              precision    recall  f1-score   support\n",
      "\n",
      "           0       0.61      0.14      0.23       940\n",
      "           1       0.50      0.91      0.64       882\n",
      "\n",
      "    accuracy                           0.51      1822\n",
      "   macro avg       0.55      0.52      0.43      1822\n",
      "weighted avg       0.56      0.51      0.43      1822\n",
      "\n",
      "Directory /home/Minwoo/LESN/Decompose/DecomposeBERT/Models/Configs/pretrained/sadickam/sdg-classification-bert exists.\n",
      "Loading the model.\n",
      "Start Time:18:13:32\n",
      "#Module 5 in progress....\n",
      "origin\n",
      "Start Positive CI sparse\n",
      "Start Positive CI after sparse\n",
      "Start Negative TI\n",
      "[0, 1, 2, 9, 10, 12, 15]\n",
      "[5]\n",
      "[16, 9, 15, 0, 0, 0, 0, 0, 0, 16, 16, 0, 11, 0, 0, 16]\n",
      "[0, 0, 0, 0, 0, 16, 0, 0, 0, 0, 0, 0, 0, 0, 0, 0]\n",
      "5 7\n"
     ]
    },
    {
     "name": "stderr",
     "output_type": "stream",
     "text": [
      "Evaluating: 100%|██████████| 43/43 [00:23<00:00,  1.83it/s]\n"
     ]
    },
    {
     "name": "stdout",
     "output_type": "stream",
     "text": [
      "Loss: 0.2391\n",
      "Precision: 0.8818, Recall: 0.9035, F1-Score: 0.8898\n",
      "              precision    recall  f1-score   support\n",
      "\n",
      "           0       0.81      0.93      0.86       473\n",
      "           1       0.96      0.88      0.92       882\n",
      "\n",
      "    accuracy                           0.90      1355\n",
      "   macro avg       0.88      0.90      0.89      1355\n",
      "weighted avg       0.90      0.90      0.90      1355\n",
      "\n",
      "Directory /home/Minwoo/LESN/Decompose/DecomposeBERT/Models/Configs/pretrained/sadickam/sdg-classification-bert exists.\n",
      "Loading the model.\n",
      "Start Time:18:14:37\n",
      "#Module 5 in progress....\n",
      "origin\n",
      "Start Positive CI sparse\n",
      "Start Positive CI after sparse\n",
      "Start Negative TI\n",
      "[0, 2, 7, 9, 10, 12, 15]\n",
      "[11, 5, 14]\n",
      "[16, 0, 10, 0, 0, 0, 0, 9, 0, 16, 15, 0, 12, 0, 0, 16]\n",
      "[0, 0, 0, 0, 0, 16, 0, 0, 0, 0, 0, 10, 0, 0, 9, 0]\n",
      "5 8\n"
     ]
    },
    {
     "name": "stderr",
     "output_type": "stream",
     "text": [
      "Evaluating: 100%|██████████| 51/51 [00:27<00:00,  1.87it/s]\n"
     ]
    },
    {
     "name": "stdout",
     "output_type": "stream",
     "text": [
      "Loss: 0.4072\n",
      "Precision: 0.8503, Recall: 0.8432, F1-Score: 0.8453\n",
      "              precision    recall  f1-score   support\n",
      "\n",
      "           0       0.87      0.79      0.83       746\n",
      "           1       0.83      0.90      0.86       882\n",
      "\n",
      "    accuracy                           0.85      1628\n",
      "   macro avg       0.85      0.84      0.85      1628\n",
      "weighted avg       0.85      0.85      0.85      1628\n",
      "\n",
      "Directory /home/Minwoo/LESN/Decompose/DecomposeBERT/Models/Configs/pretrained/sadickam/sdg-classification-bert exists.\n",
      "Loading the model.\n",
      "Start Time:18:15:50\n",
      "#Module 5 in progress....\n",
      "origin\n",
      "Start Positive CI sparse\n",
      "Start Positive CI after sparse\n",
      "Start Negative TI\n",
      "[0, 1, 2, 7, 9, 10, 11, 12, 15]\n",
      "[5, 14]\n",
      "[16, 9, 10, 0, 0, 0, 0, 13, 0, 16, 14, 10, 11, 0, 0, 16]\n",
      "[0, 0, 0, 0, 0, 16, 0, 0, 0, 0, 0, 0, 0, 0, 10, 0]\n",
      "5 9\n"
     ]
    },
    {
     "name": "stderr",
     "output_type": "stream",
     "text": [
      "Evaluating: 100%|██████████| 50/50 [00:27<00:00,  1.84it/s]\n"
     ]
    },
    {
     "name": "stdout",
     "output_type": "stream",
     "text": [
      "Loss: 0.1747\n",
      "Precision: 0.9247, Recall: 0.9312, F1-Score: 0.9246\n",
      "              precision    recall  f1-score   support\n",
      "\n",
      "           0       0.86      0.98      0.92       689\n",
      "           1       0.98      0.88      0.93       882\n",
      "\n",
      "    accuracy                           0.92      1571\n",
      "   macro avg       0.92      0.93      0.92      1571\n",
      "weighted avg       0.93      0.92      0.93      1571\n",
      "\n",
      "Directory /home/Minwoo/LESN/Decompose/DecomposeBERT/Models/Configs/pretrained/sadickam/sdg-classification-bert exists.\n",
      "Loading the model.\n",
      "Start Time:18:17:10\n",
      "#Module 5 in progress....\n",
      "origin\n",
      "Start Positive CI sparse\n",
      "Start Positive CI after sparse\n",
      "Start Negative TI\n",
      "[0, 2, 7, 9, 10, 12, 15]\n",
      "[1, 5]\n",
      "[15, 0, 15, 0, 0, 0, 0, 11, 0, 16, 11, 0, 9, 0, 0, 16]\n",
      "[0, 15, 0, 0, 0, 16, 0, 0, 0, 0, 0, 0, 0, 0, 0, 0]\n",
      "5 10\n"
     ]
    },
    {
     "name": "stderr",
     "output_type": "stream",
     "text": [
      "Evaluating: 100%|██████████| 49/49 [00:28<00:00,  1.74it/s]\n"
     ]
    },
    {
     "name": "stdout",
     "output_type": "stream",
     "text": [
      "Loss: 0.2853\n",
      "Precision: 0.8959, Recall: 0.8997, F1-Score: 0.8974\n",
      "              precision    recall  f1-score   support\n",
      "\n",
      "           0       0.87      0.91      0.89       670\n",
      "           1       0.93      0.89      0.91       882\n",
      "\n",
      "    accuracy                           0.90      1552\n",
      "   macro avg       0.90      0.90      0.90      1552\n",
      "weighted avg       0.90      0.90      0.90      1552\n",
      "\n",
      "Directory /home/Minwoo/LESN/Decompose/DecomposeBERT/Models/Configs/pretrained/sadickam/sdg-classification-bert exists.\n",
      "Loading the model.\n",
      "Start Time:18:18:27\n",
      "#Module 5 in progress....\n",
      "origin\n",
      "Start Positive CI sparse\n",
      "Start Positive CI after sparse\n",
      "Start Negative TI\n",
      "[0, 1, 2, 4, 7, 8, 9, 10, 12, 15]\n",
      "[11, 5, 14]\n",
      "[16, 11, 11, 0, 8, 0, 0, 15, 9, 16, 14, 0, 10, 0, 0, 16]\n",
      "[0, 0, 0, 0, 0, 16, 0, 0, 0, 0, 0, 8, 0, 0, 13, 0]\n",
      "5 11\n"
     ]
    },
    {
     "name": "stderr",
     "output_type": "stream",
     "text": [
      "Evaluating: 100%|██████████| 38/38 [00:16<00:00,  2.30it/s]\n"
     ]
    },
    {
     "name": "stdout",
     "output_type": "stream",
     "text": [
      "Loss: 0.7620\n",
      "Precision: 0.5193, Recall: 0.5114, F1-Score: 0.5004\n",
      "              precision    recall  f1-score   support\n",
      "\n",
      "           0       0.29      0.15      0.20       312\n",
      "           1       0.74      0.88      0.80       882\n",
      "\n",
      "    accuracy                           0.69      1194\n",
      "   macro avg       0.52      0.51      0.50      1194\n",
      "weighted avg       0.63      0.69      0.65      1194\n",
      "\n",
      "Directory /home/Minwoo/LESN/Decompose/DecomposeBERT/Models/Configs/pretrained/sadickam/sdg-classification-bert exists.\n",
      "Loading the model.\n",
      "Start Time:18:19:31\n",
      "#Module 5 in progress....\n",
      "origin\n",
      "Start Positive CI sparse\n",
      "Start Positive CI after sparse\n",
      "Start Negative TI\n",
      "[0, 1, 2, 7, 9, 10, 15]\n",
      "[12, 5, 14]\n",
      "[16, 10, 14, 0, 0, 0, 0, 11, 0, 16, 14, 0, 0, 0, 0, 16]\n",
      "[0, 0, 0, 0, 0, 16, 0, 0, 0, 0, 0, 0, 11, 0, 9, 0]\n",
      "5 12\n"
     ]
    },
    {
     "name": "stderr",
     "output_type": "stream",
     "text": [
      "Evaluating: 100%|██████████| 49/49 [00:21<00:00,  2.27it/s]\n"
     ]
    },
    {
     "name": "stdout",
     "output_type": "stream",
     "text": [
      "Loss: 2.1315\n",
      "Precision: 0.4710, Recall: 0.4896, F1-Score: 0.4158\n",
      "              precision    recall  f1-score   support\n",
      "\n",
      "           0       0.38      0.09      0.14       665\n",
      "           1       0.56      0.89      0.69       882\n",
      "\n",
      "    accuracy                           0.55      1547\n",
      "   macro avg       0.47      0.49      0.42      1547\n",
      "weighted avg       0.48      0.55      0.45      1547\n",
      "\n",
      "Directory /home/Minwoo/LESN/Decompose/DecomposeBERT/Models/Configs/pretrained/sadickam/sdg-classification-bert exists.\n",
      "Loading the model.\n",
      "Start Time:18:20:40\n",
      "#Module 5 in progress....\n",
      "origin\n",
      "Start Positive CI sparse\n",
      "Start Positive CI after sparse\n",
      "Start Negative TI\n",
      "[0, 9, 10, 12, 15]\n",
      "[1, 2, 5, 14]\n",
      "[16, 0, 0, 0, 0, 0, 0, 0, 0, 16, 14, 0, 11, 0, 0, 16]\n",
      "[0, 8, 13, 0, 0, 16, 0, 0, 0, 0, 0, 0, 0, 0, 11, 0]\n",
      "5 13\n"
     ]
    },
    {
     "name": "stderr",
     "output_type": "stream",
     "text": [
      "Evaluating: 100%|██████████| 38/38 [00:11<00:00,  3.22it/s]\n"
     ]
    },
    {
     "name": "stdout",
     "output_type": "stream",
     "text": [
      "Loss: 0.7890\n",
      "Precision: 0.4600, Recall: 0.4742, F1-Score: 0.4589\n",
      "              precision    recall  f1-score   support\n",
      "\n",
      "           0       0.19      0.11      0.14       314\n",
      "           1       0.73      0.84      0.78       882\n",
      "\n",
      "    accuracy                           0.65      1196\n",
      "   macro avg       0.46      0.47      0.46      1196\n",
      "weighted avg       0.59      0.65      0.61      1196\n",
      "\n",
      "Directory /home/Minwoo/LESN/Decompose/DecomposeBERT/Models/Configs/pretrained/sadickam/sdg-classification-bert exists.\n",
      "Loading the model.\n",
      "Start Time:18:21:49\n",
      "#Module 5 in progress....\n",
      "origin\n",
      "Start Positive CI sparse\n",
      "Start Positive CI after sparse\n",
      "Start Negative TI\n",
      "[0, 1, 2, 7, 9, 10, 15]\n",
      "[12, 5]\n",
      "[16, 8, 14, 0, 0, 0, 0, 8, 0, 16, 15, 0, 0, 0, 0, 16]\n",
      "[0, 0, 0, 0, 0, 16, 0, 0, 0, 0, 0, 0, 14, 0, 0, 0]\n",
      "5 14\n"
     ]
    },
    {
     "name": "stderr",
     "output_type": "stream",
     "text": [
      "Evaluating: 100%|██████████| 52/52 [00:16<00:00,  3.08it/s]\n"
     ]
    },
    {
     "name": "stdout",
     "output_type": "stream",
     "text": [
      "Loss: 1.5706\n",
      "Precision: 0.4890, Recall: 0.4960, F1-Score: 0.4139\n",
      "              precision    recall  f1-score   support\n",
      "\n",
      "           0       0.44      0.10      0.16       756\n",
      "           1       0.54      0.90      0.67       882\n",
      "\n",
      "    accuracy                           0.53      1638\n",
      "   macro avg       0.49      0.50      0.41      1638\n",
      "weighted avg       0.49      0.53      0.43      1638\n",
      "\n",
      "Directory /home/Minwoo/LESN/Decompose/DecomposeBERT/Models/Configs/pretrained/sadickam/sdg-classification-bert exists.\n",
      "Loading the model.\n",
      "Start Time:18:23:02\n",
      "#Module 5 in progress....\n",
      "origin\n",
      "Start Positive CI sparse\n",
      "Start Positive CI after sparse\n",
      "Start Negative TI\n",
      "[0, 2, 7, 9, 10, 12, 13, 15]\n",
      "[11, 5]\n",
      "[16, 0, 12, 0, 0, 0, 0, 11, 0, 16, 12, 0, 9, 9, 0, 16]\n",
      "[0, 0, 0, 0, 0, 16, 0, 0, 0, 0, 0, 9, 0, 0, 0, 0]\n",
      "5 15\n"
     ]
    },
    {
     "name": "stderr",
     "output_type": "stream",
     "text": [
      "Evaluating: 100%|██████████| 78/78 [00:33<00:00,  2.30it/s]\n"
     ]
    },
    {
     "name": "stdout",
     "output_type": "stream",
     "text": [
      "Loss: 0.1331\n",
      "Precision: 0.9700, Recall: 0.9524, F1-Score: 0.9602\n",
      "              precision    recall  f1-score   support\n",
      "\n",
      "           0       0.95      0.99      0.97      1607\n",
      "           1       0.99      0.91      0.95       882\n",
      "\n",
      "    accuracy                           0.96      2489\n",
      "   macro avg       0.97      0.95      0.96      2489\n",
      "weighted avg       0.97      0.96      0.96      2489\n",
      "\n",
      "Directory /home/Minwoo/LESN/Decompose/DecomposeBERT/Models/Configs/pretrained/sadickam/sdg-classification-bert exists.\n",
      "Loading the model.\n",
      "Start Time:18:24:34\n",
      "#Module 6 in progress....\n",
      "origin\n",
      "Start Positive CI sparse\n",
      "Start Positive CI after sparse\n",
      "Start Negative TI\n",
      "[0, 1, 7, 8, 9, 10, 11, 12, 15]\n",
      "[6]\n",
      "[16, 12, 0, 0, 0, 0, 0, 15, 15, 16, 11, 8, 13, 0, 0, 16]\n",
      "[0, 0, 0, 0, 0, 0, 16, 0, 0, 0, 0, 0, 0, 0, 0, 0]\n",
      "6 0\n"
     ]
    },
    {
     "name": "stderr",
     "output_type": "stream",
     "text": [
      "Evaluating: 100%|██████████| 55/55 [00:21<00:00,  2.56it/s]\n"
     ]
    },
    {
     "name": "stdout",
     "output_type": "stream",
     "text": [
      "Loss: 0.1603\n",
      "Precision: 0.9355, Recall: 0.9384, F1-Score: 0.9354\n",
      "              precision    recall  f1-score   support\n",
      "\n",
      "           0       0.90      0.97      0.93       797\n",
      "           1       0.98      0.90      0.94       940\n",
      "\n",
      "    accuracy                           0.94      1737\n",
      "   macro avg       0.94      0.94      0.94      1737\n",
      "weighted avg       0.94      0.94      0.94      1737\n",
      "\n",
      "Directory /home/Minwoo/LESN/Decompose/DecomposeBERT/Models/Configs/pretrained/sadickam/sdg-classification-bert exists.\n",
      "Loading the model.\n",
      "Start Time:18:25:41\n",
      "#Module 6 in progress....\n",
      "origin\n",
      "Start Positive CI sparse\n",
      "Start Positive CI after sparse\n",
      "Start Negative TI\n",
      "[0, 1, 2, 7, 8, 9, 10, 12, 15]\n",
      "[5, 6]\n",
      "[16, 10, 8, 0, 0, 0, 0, 12, 13, 16, 12, 0, 12, 0, 0, 16]\n",
      "[0, 0, 0, 0, 0, 8, 16, 0, 0, 0, 0, 0, 0, 0, 0, 0]\n",
      "6 1\n"
     ]
    },
    {
     "name": "stderr",
     "output_type": "stream",
     "text": [
      "Evaluating: 100%|██████████| 54/54 [00:18<00:00,  2.92it/s]\n"
     ]
    },
    {
     "name": "stdout",
     "output_type": "stream",
     "text": [
      "Loss: 0.2647\n",
      "Precision: 0.9030, Recall: 0.9050, F1-Score: 0.9037\n",
      "              precision    recall  f1-score   support\n",
      "\n",
      "           0       0.88      0.91      0.90       775\n",
      "           1       0.92      0.90      0.91       940\n",
      "\n",
      "    accuracy                           0.90      1715\n",
      "   macro avg       0.90      0.90      0.90      1715\n",
      "weighted avg       0.91      0.90      0.90      1715\n",
      "\n",
      "Directory /home/Minwoo/LESN/Decompose/DecomposeBERT/Models/Configs/pretrained/sadickam/sdg-classification-bert exists.\n",
      "Loading the model.\n",
      "Start Time:18:27:50\n",
      "#Module 6 in progress....\n",
      "origin\n",
      "Start Positive CI sparse\n",
      "Start Positive CI after sparse\n",
      "Start Negative TI\n",
      "[0, 1, 2, 5, 7, 8, 9, 10, 12, 15]\n",
      "[11, 6]\n",
      "[16, 10, 8, 0, 0, 10, 0, 10, 12, 16, 13, 0, 9, 0, 0, 16]\n",
      "[0, 0, 0, 0, 0, 0, 16, 0, 0, 0, 0, 9, 0, 0, 0, 0]\n",
      "6 2\n"
     ]
    },
    {
     "name": "stderr",
     "output_type": "stream",
     "text": [
      "Evaluating: 100%|██████████| 55/55 [00:12<00:00,  4.27it/s]\n"
     ]
    },
    {
     "name": "stdout",
     "output_type": "stream",
     "text": [
      "Loss: 0.2338\n",
      "Precision: 0.9179, Recall: 0.9187, F1-Score: 0.9182\n",
      "              precision    recall  f1-score   support\n",
      "\n",
      "           0       0.91      0.92      0.91       795\n",
      "           1       0.93      0.92      0.92       940\n",
      "\n",
      "    accuracy                           0.92      1735\n",
      "   macro avg       0.92      0.92      0.92      1735\n",
      "weighted avg       0.92      0.92      0.92      1735\n",
      "\n",
      "Directory /home/Minwoo/LESN/Decompose/DecomposeBERT/Models/Configs/pretrained/sadickam/sdg-classification-bert exists.\n",
      "Loading the model.\n",
      "Start Time:18:28:30\n",
      "#Module 6 in progress....\n",
      "origin\n",
      "Start Positive CI sparse\n",
      "Start Positive CI after sparse\n",
      "Start Negative TI\n",
      "[0, 1, 2, 7, 8, 9, 10, 11, 12, 15]\n",
      "[6]\n",
      "[15, 10, 8, 0, 0, 0, 0, 14, 11, 16, 12, 9, 14, 0, 0, 16]\n",
      "[0, 0, 0, 0, 0, 0, 16, 0, 0, 0, 0, 0, 0, 0, 0, 0]\n",
      "6 3\n"
     ]
    },
    {
     "name": "stderr",
     "output_type": "stream",
     "text": [
      "Evaluating: 100%|██████████| 65/65 [00:17<00:00,  3.74it/s]\n"
     ]
    },
    {
     "name": "stdout",
     "output_type": "stream",
     "text": [
      "Loss: 0.2316\n",
      "Precision: 0.9329, Recall: 0.9305, F1-Score: 0.9316\n",
      "              precision    recall  f1-score   support\n",
      "\n",
      "           0       0.93      0.95      0.94      1110\n",
      "           1       0.94      0.91      0.92       940\n",
      "\n",
      "    accuracy                           0.93      2050\n",
      "   macro avg       0.93      0.93      0.93      2050\n",
      "weighted avg       0.93      0.93      0.93      2050\n",
      "\n",
      "Directory /home/Minwoo/LESN/Decompose/DecomposeBERT/Models/Configs/pretrained/sadickam/sdg-classification-bert exists.\n",
      "Loading the model.\n",
      "Start Time:18:30:15\n",
      "#Module 6 in progress....\n",
      "origin\n",
      "Start Positive CI sparse\n",
      "Start Positive CI after sparse\n",
      "Start Negative TI\n",
      "[0, 1, 5, 7, 8, 9, 10, 12, 13, 14, 15]\n",
      "[11, 6]\n",
      "[16, 10, 0, 0, 0, 8, 0, 12, 16, 16, 13, 0, 13, 9, 8, 16]\n",
      "[0, 0, 0, 0, 0, 0, 16, 0, 0, 0, 0, 10, 0, 0, 0, 0]\n",
      "6 4\n"
     ]
    },
    {
     "name": "stderr",
     "output_type": "stream",
     "text": [
      "Evaluating: 100%|██████████| 69/69 [00:44<00:00,  1.54it/s]\n"
     ]
    },
    {
     "name": "stdout",
     "output_type": "stream",
     "text": [
      "Loss: 0.4941\n",
      "Precision: 0.7206, Recall: 0.6930, F1-Score: 0.6567\n",
      "              precision    recall  f1-score   support\n",
      "\n",
      "           0       0.88      0.48      0.62      1260\n",
      "           1       0.56      0.91      0.70       940\n",
      "\n",
      "    accuracy                           0.66      2200\n",
      "   macro avg       0.72      0.69      0.66      2200\n",
      "weighted avg       0.74      0.66      0.65      2200\n",
      "\n",
      "Directory /home/Minwoo/LESN/Decompose/DecomposeBERT/Models/Configs/pretrained/sadickam/sdg-classification-bert exists.\n",
      "Loading the model.\n",
      "Start Time:18:31:49\n",
      "#Module 6 in progress....\n",
      "origin\n",
      "Start Positive CI sparse\n",
      "Start Positive CI after sparse\n",
      "Start Negative TI\n",
      "[0, 7, 8, 9, 10, 15]\n",
      "[12, 6]\n",
      "[16, 0, 0, 0, 0, 0, 0, 13, 14, 16, 14, 0, 0, 0, 0, 16]\n",
      "[0, 0, 0, 0, 0, 0, 16, 0, 0, 0, 0, 0, 16, 0, 0, 0]\n",
      "6 5\n"
     ]
    },
    {
     "name": "stderr",
     "output_type": "stream",
     "text": [
      "Evaluating: 100%|██████████| 57/57 [00:37<00:00,  1.53it/s]\n"
     ]
    },
    {
     "name": "stdout",
     "output_type": "stream",
     "text": [
      "Loss: 0.9795\n",
      "Precision: 0.6076, Recall: 0.5535, F1-Score: 0.4955\n",
      "              precision    recall  f1-score   support\n",
      "\n",
      "           0       0.67      0.20      0.31       882\n",
      "           1       0.55      0.91      0.68       940\n",
      "\n",
      "    accuracy                           0.56      1822\n",
      "   macro avg       0.61      0.55      0.50      1822\n",
      "weighted avg       0.61      0.56      0.50      1822\n",
      "\n",
      "Directory /home/Minwoo/LESN/Decompose/DecomposeBERT/Models/Configs/pretrained/sadickam/sdg-classification-bert exists.\n",
      "Loading the model.\n",
      "Start Time:18:33:13\n",
      "#Module 6 in progress....\n",
      "origin\n",
      "Start Positive CI sparse\n",
      "Start Positive CI after sparse\n",
      "Start Negative TI\n",
      "[0, 8, 9, 10, 12, 15]\n",
      "[6]\n",
      "[16, 0, 0, 0, 0, 0, 0, 0, 9, 16, 16, 0, 14, 0, 0, 16]\n",
      "[0, 0, 0, 0, 0, 0, 16, 0, 0, 0, 0, 0, 0, 0, 0, 0]\n",
      "6 7\n"
     ]
    },
    {
     "name": "stderr",
     "output_type": "stream",
     "text": [
      "Evaluating: 100%|██████████| 45/45 [00:30<00:00,  1.50it/s]\n"
     ]
    },
    {
     "name": "stdout",
     "output_type": "stream",
     "text": [
      "Loss: 0.2413\n",
      "Precision: 0.8917, Recall: 0.8925, F1-Score: 0.8921\n",
      "              precision    recall  f1-score   support\n",
      "\n",
      "           0       0.85      0.86      0.86       473\n",
      "           1       0.93      0.93      0.93       940\n",
      "\n",
      "    accuracy                           0.90      1413\n",
      "   macro avg       0.89      0.89      0.89      1413\n",
      "weighted avg       0.90      0.90      0.90      1413\n",
      "\n",
      "Directory /home/Minwoo/LESN/Decompose/DecomposeBERT/Models/Configs/pretrained/sadickam/sdg-classification-bert exists.\n",
      "Loading the model.\n",
      "Start Time:18:34:44\n",
      "#Module 6 in progress....\n",
      "origin\n",
      "Start Positive CI sparse\n",
      "Start Positive CI after sparse\n",
      "Start Negative TI\n",
      "[0, 1, 7, 8, 9, 10, 12, 15]\n",
      "[6]\n",
      "[16, 11, 0, 0, 0, 0, 0, 13, 10, 16, 16, 0, 10, 0, 0, 16]\n",
      "[0, 0, 0, 0, 0, 0, 16, 0, 0, 0, 0, 0, 0, 0, 0, 0]\n",
      "6 8\n"
     ]
    },
    {
     "name": "stderr",
     "output_type": "stream",
     "text": [
      "Evaluating: 100%|██████████| 53/53 [00:38<00:00,  1.38it/s]\n"
     ]
    },
    {
     "name": "stdout",
     "output_type": "stream",
     "text": [
      "Loss: 0.3019\n",
      "Precision: 0.9000, Recall: 0.9006, F1-Score: 0.9003\n",
      "              precision    recall  f1-score   support\n",
      "\n",
      "           0       0.89      0.89      0.89       746\n",
      "           1       0.91      0.91      0.91       940\n",
      "\n",
      "    accuracy                           0.90      1686\n",
      "   macro avg       0.90      0.90      0.90      1686\n",
      "weighted avg       0.90      0.90      0.90      1686\n",
      "\n",
      "Directory /home/Minwoo/LESN/Decompose/DecomposeBERT/Models/Configs/pretrained/sadickam/sdg-classification-bert exists.\n",
      "Loading the model.\n",
      "Start Time:18:36:05\n",
      "#Module 6 in progress....\n",
      "origin\n",
      "Start Positive CI sparse\n",
      "Start Positive CI after sparse\n",
      "Start Negative TI\n",
      "[0, 1, 7, 8, 9, 10, 12, 15]\n",
      "[6]\n",
      "[15, 9, 0, 0, 0, 0, 0, 11, 14, 16, 15, 0, 10, 0, 0, 16]\n",
      "[0, 0, 0, 0, 0, 0, 16, 0, 0, 0, 0, 0, 0, 0, 0, 0]\n",
      "6 9\n"
     ]
    },
    {
     "name": "stderr",
     "output_type": "stream",
     "text": [
      "Evaluating: 100%|██████████| 51/51 [00:39<00:00,  1.28it/s]\n"
     ]
    },
    {
     "name": "stdout",
     "output_type": "stream",
     "text": [
      "Loss: 0.1876\n",
      "Precision: 0.9303, Recall: 0.9397, F1-Score: 0.9324\n",
      "              precision    recall  f1-score   support\n",
      "\n",
      "           0       0.87      0.98      0.93       689\n",
      "           1       0.99      0.90      0.94       940\n",
      "\n",
      "    accuracy                           0.93      1629\n",
      "   macro avg       0.93      0.94      0.93      1629\n",
      "weighted avg       0.94      0.93      0.93      1629\n",
      "\n",
      "Directory /home/Minwoo/LESN/Decompose/DecomposeBERT/Models/Configs/pretrained/sadickam/sdg-classification-bert exists.\n",
      "Loading the model.\n",
      "Start Time:18:37:35\n",
      "#Module 6 in progress....\n",
      "origin\n",
      "Start Positive CI sparse\n",
      "Start Positive CI after sparse\n",
      "Start Negative TI\n",
      "[0, 1, 2, 7, 8, 9, 10, 12, 15]\n",
      "[6]\n",
      "[16, 11, 10, 0, 0, 0, 0, 10, 10, 16, 14, 0, 10, 0, 0, 16]\n",
      "[0, 0, 0, 0, 0, 0, 9, 0, 0, 0, 0, 0, 0, 0, 0, 0]\n",
      "6 10\n"
     ]
    },
    {
     "name": "stderr",
     "output_type": "stream",
     "text": [
      "Evaluating: 100%|██████████| 51/51 [00:38<00:00,  1.34it/s]\n"
     ]
    },
    {
     "name": "stdout",
     "output_type": "stream",
     "text": [
      "Loss: 0.2422\n",
      "Precision: 0.9164, Recall: 0.9223, F1-Score: 0.9188\n",
      "              precision    recall  f1-score   support\n",
      "\n",
      "           0       0.88      0.93      0.91       670\n",
      "           1       0.95      0.91      0.93       940\n",
      "\n",
      "    accuracy                           0.92      1610\n",
      "   macro avg       0.92      0.92      0.92      1610\n",
      "weighted avg       0.92      0.92      0.92      1610\n",
      "\n",
      "Directory /home/Minwoo/LESN/Decompose/DecomposeBERT/Models/Configs/pretrained/sadickam/sdg-classification-bert exists.\n",
      "Loading the model.\n",
      "Start Time:18:38:59\n",
      "#Module 6 in progress....\n",
      "origin\n",
      "Start Positive CI sparse\n",
      "Start Positive CI after sparse\n",
      "Start Negative TI\n",
      "[0, 7, 8, 9, 10, 12, 15]\n",
      "[6]\n",
      "[16, 0, 0, 0, 0, 0, 0, 9, 11, 16, 14, 0, 15, 0, 0, 16]\n",
      "[0, 0, 0, 0, 0, 0, 14, 0, 0, 0, 0, 0, 0, 0, 0, 0]\n",
      "6 11\n"
     ]
    },
    {
     "name": "stderr",
     "output_type": "stream",
     "text": [
      "Evaluating: 100%|██████████| 40/40 [00:29<00:00,  1.37it/s]\n"
     ]
    },
    {
     "name": "stdout",
     "output_type": "stream",
     "text": [
      "Loss: 0.6629\n",
      "Precision: 0.5366, Recall: 0.5162, F1-Score: 0.4993\n",
      "              precision    recall  f1-score   support\n",
      "\n",
      "           0       0.32      0.12      0.17       312\n",
      "           1       0.76      0.92      0.83       940\n",
      "\n",
      "    accuracy                           0.72      1252\n",
      "   macro avg       0.54      0.52      0.50      1252\n",
      "weighted avg       0.65      0.72      0.67      1252\n",
      "\n",
      "Directory /home/Minwoo/LESN/Decompose/DecomposeBERT/Models/Configs/pretrained/sadickam/sdg-classification-bert exists.\n",
      "Loading the model.\n",
      "Start Time:18:40:20\n",
      "#Module 6 in progress....\n",
      "origin\n",
      "Start Positive CI sparse\n",
      "Start Positive CI after sparse\n",
      "Start Negative TI\n",
      "[0, 1, 7, 8, 9, 10, 12, 15]\n",
      "[6]\n",
      "[16, 8, 0, 0, 0, 0, 0, 10, 13, 16, 15, 0, 11, 0, 0, 16]\n",
      "[0, 0, 0, 0, 0, 0, 14, 0, 0, 0, 0, 0, 0, 0, 0, 0]\n",
      "6 12\n"
     ]
    },
    {
     "name": "stderr",
     "output_type": "stream",
     "text": [
      "Evaluating: 100%|██████████| 51/51 [00:33<00:00,  1.54it/s]\n"
     ]
    },
    {
     "name": "stdout",
     "output_type": "stream",
     "text": [
      "Loss: 0.5315\n",
      "Precision: 0.8236, Recall: 0.8029, F1-Score: 0.8092\n",
      "              precision    recall  f1-score   support\n",
      "\n",
      "           0       0.84      0.70      0.76       665\n",
      "           1       0.81      0.90      0.85       940\n",
      "\n",
      "    accuracy                           0.82      1605\n",
      "   macro avg       0.82      0.80      0.81      1605\n",
      "weighted avg       0.82      0.82      0.82      1605\n",
      "\n",
      "Directory /home/Minwoo/LESN/Decompose/DecomposeBERT/Models/Configs/pretrained/sadickam/sdg-classification-bert exists.\n",
      "Loading the model.\n",
      "Start Time:18:41:43\n",
      "#Module 6 in progress....\n",
      "origin\n",
      "Start Positive CI sparse\n",
      "Start Positive CI after sparse\n",
      "Start Negative TI\n",
      "[0, 1, 2, 7, 8, 9, 10, 11, 12, 15]\n",
      "[6]\n",
      "[15, 8, 13, 0, 0, 0, 0, 14, 14, 16, 15, 10, 12, 0, 0, 16]\n",
      "[0, 0, 0, 0, 0, 0, 16, 0, 0, 0, 0, 0, 0, 0, 0, 0]\n",
      "6 13\n"
     ]
    },
    {
     "name": "stderr",
     "output_type": "stream",
     "text": [
      "Evaluating: 100%|██████████| 40/40 [00:29<00:00,  1.37it/s]\n"
     ]
    },
    {
     "name": "stdout",
     "output_type": "stream",
     "text": [
      "Loss: 0.4146\n",
      "Precision: 0.6206, Recall: 0.5753, F1-Score: 0.5801\n",
      "              precision    recall  f1-score   support\n",
      "\n",
      "           0       0.46      0.25      0.32       314\n",
      "           1       0.78      0.90      0.84       940\n",
      "\n",
      "    accuracy                           0.74      1254\n",
      "   macro avg       0.62      0.58      0.58      1254\n",
      "weighted avg       0.70      0.74      0.71      1254\n",
      "\n",
      "Directory /home/Minwoo/LESN/Decompose/DecomposeBERT/Models/Configs/pretrained/sadickam/sdg-classification-bert exists.\n",
      "Loading the model.\n",
      "Start Time:18:42:58\n",
      "#Module 6 in progress....\n",
      "origin\n",
      "Start Positive CI sparse\n",
      "Start Positive CI after sparse\n",
      "Start Negative TI\n",
      "[0, 2, 7, 8, 9, 10, 12, 15]\n",
      "[6]\n",
      "[16, 0, 9, 0, 0, 0, 0, 8, 11, 16, 16, 0, 14, 0, 0, 16]\n",
      "[0, 0, 0, 0, 0, 0, 15, 0, 0, 0, 0, 0, 0, 0, 0, 0]\n",
      "6 14\n"
     ]
    },
    {
     "name": "stderr",
     "output_type": "stream",
     "text": [
      "Evaluating: 100%|██████████| 53/53 [00:35<00:00,  1.50it/s]\n"
     ]
    },
    {
     "name": "stdout",
     "output_type": "stream",
     "text": [
      "Loss: 0.7289\n",
      "Precision: 0.5689, Recall: 0.5291, F1-Score: 0.4694\n",
      "              precision    recall  f1-score   support\n",
      "\n",
      "           0       0.57      0.15      0.24       756\n",
      "           1       0.57      0.91      0.70       940\n",
      "\n",
      "    accuracy                           0.57      1696\n",
      "   macro avg       0.57      0.53      0.47      1696\n",
      "weighted avg       0.57      0.57      0.49      1696\n",
      "\n",
      "Directory /home/Minwoo/LESN/Decompose/DecomposeBERT/Models/Configs/pretrained/sadickam/sdg-classification-bert exists.\n",
      "Loading the model.\n",
      "Start Time:18:44:22\n",
      "#Module 6 in progress....\n",
      "origin\n",
      "Start Positive CI sparse\n",
      "Start Positive CI after sparse\n",
      "Start Negative TI\n",
      "[0, 1, 7, 8, 9, 10, 11, 12, 15]\n",
      "[6]\n",
      "[16, 10, 0, 0, 0, 0, 0, 10, 14, 16, 15, 8, 9, 0, 0, 16]\n",
      "[0, 0, 0, 0, 0, 0, 14, 0, 0, 0, 0, 0, 0, 0, 0, 0]\n",
      "6 15\n"
     ]
    },
    {
     "name": "stderr",
     "output_type": "stream",
     "text": [
      "Evaluating: 100%|██████████| 80/80 [00:46<00:00,  1.73it/s]\n"
     ]
    },
    {
     "name": "stdout",
     "output_type": "stream",
     "text": [
      "Loss: 0.2274\n",
      "Precision: 0.9536, Recall: 0.9400, F1-Score: 0.9461\n",
      "              precision    recall  f1-score   support\n",
      "\n",
      "           0       0.94      0.98      0.96      1607\n",
      "           1       0.96      0.90      0.93       940\n",
      "\n",
      "    accuracy                           0.95      2547\n",
      "   macro avg       0.95      0.94      0.95      2547\n",
      "weighted avg       0.95      0.95      0.95      2547\n",
      "\n",
      "Directory /home/Minwoo/LESN/Decompose/DecomposeBERT/Models/Configs/pretrained/sadickam/sdg-classification-bert exists.\n",
      "Loading the model.\n",
      "Start Time:18:45:52\n",
      "#Module 7 in progress....\n",
      "origin\n",
      "Start Positive CI sparse\n",
      "Start Positive CI after sparse\n",
      "Start Negative TI\n",
      "[0, 1, 8, 9, 10, 12, 15]\n",
      "[7]\n",
      "[16, 10, 0, 0, 0, 0, 0, 0, 10, 16, 15, 0, 11, 0, 0, 16]\n",
      "[0, 0, 0, 0, 0, 0, 0, 13, 0, 0, 0, 0, 0, 0, 0, 0]\n",
      "7 0\n"
     ]
    },
    {
     "name": "stderr",
     "output_type": "stream",
     "text": [
      "Evaluating: 100%|██████████| 40/40 [00:21<00:00,  1.83it/s]\n"
     ]
    },
    {
     "name": "stdout",
     "output_type": "stream",
     "text": [
      "Loss: 0.4069\n",
      "Precision: 0.8313, Recall: 0.8494, F1-Score: 0.8360\n",
      "              precision    recall  f1-score   support\n",
      "\n",
      "           0       0.92      0.82      0.87       797\n",
      "           1       0.74      0.88      0.81       473\n",
      "\n",
      "    accuracy                           0.84      1270\n",
      "   macro avg       0.83      0.85      0.84      1270\n",
      "weighted avg       0.85      0.84      0.84      1270\n",
      "\n",
      "Directory /home/Minwoo/LESN/Decompose/DecomposeBERT/Models/Configs/pretrained/sadickam/sdg-classification-bert exists.\n",
      "Loading the model.\n",
      "Start Time:18:47:11\n",
      "#Module 7 in progress....\n",
      "origin\n",
      "Start Positive CI sparse\n",
      "Start Positive CI after sparse\n",
      "Start Negative TI\n",
      "[0, 1, 2, 8, 9, 10, 12, 15]\n",
      "[7]\n",
      "[16, 9, 11, 0, 0, 0, 0, 0, 9, 16, 15, 0, 8, 0, 0, 16]\n",
      "[0, 0, 0, 0, 0, 0, 0, 12, 0, 0, 0, 0, 0, 0, 0, 0]\n",
      "7 1\n"
     ]
    },
    {
     "name": "stderr",
     "output_type": "stream",
     "text": [
      "Evaluating: 100%|██████████| 39/39 [00:20<00:00,  1.94it/s]\n"
     ]
    },
    {
     "name": "stdout",
     "output_type": "stream",
     "text": [
      "Loss: 0.4584\n",
      "Precision: 0.8139, Recall: 0.8308, F1-Score: 0.8171\n",
      "              precision    recall  f1-score   support\n",
      "\n",
      "           0       0.91      0.79      0.85       775\n",
      "           1       0.72      0.87      0.79       473\n",
      "\n",
      "    accuracy                           0.82      1248\n",
      "   macro avg       0.81      0.83      0.82      1248\n",
      "weighted avg       0.84      0.82      0.82      1248\n",
      "\n",
      "Directory /home/Minwoo/LESN/Decompose/DecomposeBERT/Models/Configs/pretrained/sadickam/sdg-classification-bert exists.\n",
      "Loading the model.\n",
      "Start Time:18:48:14\n",
      "#Module 7 in progress....\n",
      "origin\n",
      "Start Positive CI sparse\n",
      "Start Positive CI after sparse\n",
      "Start Negative TI\n",
      "[0, 8, 9, 10, 12, 15]\n",
      "[7]\n",
      "[16, 0, 0, 0, 0, 0, 0, 0, 10, 16, 15, 0, 8, 0, 0, 16]\n",
      "[0, 0, 0, 0, 0, 0, 0, 12, 0, 0, 0, 0, 0, 0, 0, 0]\n",
      "7 2\n"
     ]
    },
    {
     "name": "stderr",
     "output_type": "stream",
     "text": [
      "Evaluating: 100%|██████████| 40/40 [00:19<00:00,  2.05it/s]\n"
     ]
    },
    {
     "name": "stdout",
     "output_type": "stream",
     "text": [
      "Loss: 0.3866\n",
      "Precision: 0.8762, Recall: 0.8735, F1-Score: 0.8748\n",
      "              precision    recall  f1-score   support\n",
      "\n",
      "           0       0.90      0.91      0.91       795\n",
      "           1       0.85      0.84      0.84       473\n",
      "\n",
      "    accuracy                           0.88      1268\n",
      "   macro avg       0.88      0.87      0.87      1268\n",
      "weighted avg       0.88      0.88      0.88      1268\n",
      "\n",
      "Directory /home/Minwoo/LESN/Decompose/DecomposeBERT/Models/Configs/pretrained/sadickam/sdg-classification-bert exists.\n",
      "Loading the model.\n",
      "Start Time:18:49:30\n",
      "#Module 7 in progress....\n",
      "origin\n",
      "Start Positive CI sparse\n",
      "Start Positive CI after sparse\n",
      "Start Negative TI\n",
      "[0, 1, 2, 4, 8, 9, 10, 12, 15]\n",
      "[7]\n",
      "[16, 10, 9, 0, 8, 0, 0, 0, 8, 16, 14, 0, 9, 0, 0, 16]\n",
      "[0, 0, 0, 0, 0, 0, 0, 14, 0, 0, 0, 0, 0, 0, 0, 0]\n",
      "7 3\n"
     ]
    },
    {
     "name": "stderr",
     "output_type": "stream",
     "text": [
      "Evaluating: 100%|██████████| 50/50 [00:36<00:00,  1.37it/s]\n"
     ]
    },
    {
     "name": "stdout",
     "output_type": "stream",
     "text": [
      "Loss: 0.7196\n",
      "Precision: 0.7277, Recall: 0.7717, F1-Score: 0.7167\n",
      "              precision    recall  f1-score   support\n",
      "\n",
      "           0       0.93      0.66      0.77      1110\n",
      "           1       0.53      0.88      0.66       473\n",
      "\n",
      "    accuracy                           0.73      1583\n",
      "   macro avg       0.73      0.77      0.72      1583\n",
      "weighted avg       0.81      0.73      0.74      1583\n",
      "\n",
      "Directory /home/Minwoo/LESN/Decompose/DecomposeBERT/Models/Configs/pretrained/sadickam/sdg-classification-bert exists.\n",
      "Loading the model.\n",
      "Start Time:18:51:01\n",
      "#Module 7 in progress....\n",
      "origin\n",
      "Start Positive CI sparse\n",
      "Start Positive CI after sparse\n",
      "Start Negative TI\n",
      "[0, 9, 10, 15]\n",
      "[8, 12, 7]\n",
      "[16, 0, 0, 0, 0, 0, 0, 0, 0, 16, 15, 0, 0, 0, 0, 16]\n",
      "[0, 0, 0, 0, 0, 0, 0, 16, 8, 0, 0, 0, 8, 0, 0, 0]\n",
      "7 4\n"
     ]
    },
    {
     "name": "stderr",
     "output_type": "stream",
     "text": [
      "Evaluating: 100%|██████████| 55/55 [00:28<00:00,  1.92it/s]\n"
     ]
    },
    {
     "name": "stdout",
     "output_type": "stream",
     "text": [
      "Loss: 0.6903\n",
      "Precision: 0.6595, Recall: 0.6959, F1-Score: 0.6594\n",
      "              precision    recall  f1-score   support\n",
      "\n",
      "           0       0.86      0.69      0.76      1260\n",
      "           1       0.46      0.71      0.56       473\n",
      "\n",
      "    accuracy                           0.69      1733\n",
      "   macro avg       0.66      0.70      0.66      1733\n",
      "weighted avg       0.75      0.69      0.71      1733\n",
      "\n",
      "Directory /home/Minwoo/LESN/Decompose/DecomposeBERT/Models/Configs/pretrained/sadickam/sdg-classification-bert exists.\n",
      "Loading the model.\n",
      "Start Time:18:52:24\n",
      "#Module 7 in progress....\n",
      "origin\n",
      "Start Positive CI sparse\n",
      "Start Positive CI after sparse\n",
      "Start Negative TI\n",
      "[0, 1, 2, 8, 9, 10, 15]\n",
      "[3, 7]\n",
      "[16, 10, 11, 0, 0, 0, 0, 0, 9, 16, 13, 0, 0, 0, 0, 16]\n",
      "[0, 0, 0, 10, 0, 0, 0, 16, 0, 0, 0, 0, 0, 0, 0, 0]\n",
      "7 5\n"
     ]
    },
    {
     "name": "stderr",
     "output_type": "stream",
     "text": [
      "Evaluating: 100%|██████████| 43/43 [00:22<00:00,  1.87it/s]\n"
     ]
    },
    {
     "name": "stdout",
     "output_type": "stream",
     "text": [
      "Loss: 0.4237\n",
      "Precision: 0.8133, Recall: 0.8357, F1-Score: 0.8198\n",
      "              precision    recall  f1-score   support\n",
      "\n",
      "           0       0.91      0.82      0.86       882\n",
      "           1       0.71      0.86      0.78       473\n",
      "\n",
      "    accuracy                           0.83      1355\n",
      "   macro avg       0.81      0.84      0.82      1355\n",
      "weighted avg       0.84      0.83      0.83      1355\n",
      "\n",
      "Directory /home/Minwoo/LESN/Decompose/DecomposeBERT/Models/Configs/pretrained/sadickam/sdg-classification-bert exists.\n",
      "Loading the model.\n",
      "Start Time:18:53:35\n",
      "#Module 7 in progress....\n",
      "origin\n",
      "Start Positive CI sparse\n",
      "Start Positive CI after sparse\n",
      "Start Negative TI\n",
      "[0, 1, 2, 9, 10, 12, 15]\n",
      "[7]\n",
      "[16, 8, 10, 0, 0, 0, 0, 0, 0, 16, 12, 0, 9, 0, 0, 16]\n",
      "[0, 0, 0, 0, 0, 0, 0, 16, 0, 0, 0, 0, 0, 0, 0, 0]\n",
      "7 6\n"
     ]
    },
    {
     "name": "stderr",
     "output_type": "stream",
     "text": [
      "Evaluating: 100%|██████████| 45/45 [00:13<00:00,  3.36it/s]\n"
     ]
    },
    {
     "name": "stdout",
     "output_type": "stream",
     "text": [
      "Loss: 1.0862\n",
      "Precision: 0.4450, Recall: 0.4775, F1-Score: 0.3106\n",
      "              precision    recall  f1-score   support\n",
      "\n",
      "           0       0.57      0.09      0.15       940\n",
      "           1       0.32      0.87      0.47       473\n",
      "\n",
      "    accuracy                           0.35      1413\n",
      "   macro avg       0.45      0.48      0.31      1413\n",
      "weighted avg       0.49      0.35      0.26      1413\n",
      "\n",
      "Directory /home/Minwoo/LESN/Decompose/DecomposeBERT/Models/Configs/pretrained/sadickam/sdg-classification-bert exists.\n",
      "Loading the model.\n",
      "Start Time:18:54:59\n",
      "#Module 7 in progress....\n",
      "origin\n",
      "Start Positive CI sparse\n",
      "Start Positive CI after sparse\n",
      "Start Negative TI\n",
      "[0, 1, 2, 8, 9, 10, 15]\n",
      "[7]\n",
      "[16, 12, 10, 0, 0, 0, 0, 0, 10, 16, 13, 0, 0, 0, 0, 16]\n",
      "[0, 0, 0, 0, 0, 0, 0, 13, 0, 0, 0, 0, 0, 0, 0, 0]\n",
      "7 8\n"
     ]
    },
    {
     "name": "stderr",
     "output_type": "stream",
     "text": [
      "Evaluating: 100%|██████████| 39/39 [00:20<00:00,  1.90it/s]\n"
     ]
    },
    {
     "name": "stdout",
     "output_type": "stream",
     "text": [
      "Loss: 1.0181\n",
      "Precision: 0.5293, Recall: 0.5145, F1-Score: 0.3939\n",
      "              precision    recall  f1-score   support\n",
      "\n",
      "           0       0.66      0.15      0.24       746\n",
      "           1       0.40      0.88      0.55       473\n",
      "\n",
      "    accuracy                           0.43      1219\n",
      "   macro avg       0.53      0.51      0.39      1219\n",
      "weighted avg       0.56      0.43      0.36      1219\n",
      "\n",
      "Directory /home/Minwoo/LESN/Decompose/DecomposeBERT/Models/Configs/pretrained/sadickam/sdg-classification-bert exists.\n",
      "Loading the model.\n",
      "Start Time:18:56:27\n",
      "#Module 7 in progress....\n",
      "origin\n",
      "Start Positive CI sparse\n",
      "Start Positive CI after sparse\n",
      "Start Negative TI\n",
      "[0, 8, 9, 10, 12, 15]\n",
      "[7]\n",
      "[16, 0, 0, 0, 0, 0, 0, 0, 9, 16, 16, 0, 12, 0, 0, 16]\n",
      "[0, 0, 0, 0, 0, 0, 0, 16, 0, 0, 0, 0, 0, 0, 0, 0]\n",
      "7 9\n"
     ]
    },
    {
     "name": "stderr",
     "output_type": "stream",
     "text": [
      "Evaluating: 100%|██████████| 37/37 [00:12<00:00,  2.89it/s]\n"
     ]
    },
    {
     "name": "stdout",
     "output_type": "stream",
     "text": [
      "Loss: 0.5447\n",
      "Precision: 0.7652, Recall: 0.7745, F1-Score: 0.7610\n",
      "              precision    recall  f1-score   support\n",
      "\n",
      "           0       0.87      0.71      0.78       689\n",
      "           1       0.66      0.84      0.74       473\n",
      "\n",
      "    accuracy                           0.76      1162\n",
      "   macro avg       0.77      0.77      0.76      1162\n",
      "weighted avg       0.78      0.76      0.76      1162\n",
      "\n",
      "Directory /home/Minwoo/LESN/Decompose/DecomposeBERT/Models/Configs/pretrained/sadickam/sdg-classification-bert exists.\n",
      "Loading the model.\n",
      "Start Time:18:57:51\n",
      "#Module 7 in progress....\n",
      "origin\n",
      "Start Positive CI sparse\n",
      "Start Positive CI after sparse\n",
      "Start Negative TI\n",
      "[0, 1, 2, 9, 10, 15]\n",
      "[4, 7]\n",
      "[16, 8, 12, 0, 0, 0, 0, 0, 0, 16, 11, 0, 0, 0, 0, 16]\n",
      "[0, 0, 0, 0, 9, 0, 0, 15, 0, 0, 0, 0, 0, 0, 0, 0]\n",
      "7 10\n"
     ]
    },
    {
     "name": "stderr",
     "output_type": "stream",
     "text": [
      "Evaluating: 100%|██████████| 36/36 [00:16<00:00,  2.17it/s]\n"
     ]
    },
    {
     "name": "stdout",
     "output_type": "stream",
     "text": [
      "Loss: 0.4275\n",
      "Precision: 0.8353, Recall: 0.8390, F1-Score: 0.8369\n",
      "              precision    recall  f1-score   support\n",
      "\n",
      "           0       0.88      0.85      0.86       670\n",
      "           1       0.80      0.83      0.81       473\n",
      "\n",
      "    accuracy                           0.84      1143\n",
      "   macro avg       0.84      0.84      0.84      1143\n",
      "weighted avg       0.84      0.84      0.84      1143\n",
      "\n",
      "Directory /home/Minwoo/LESN/Decompose/DecomposeBERT/Models/Configs/pretrained/sadickam/sdg-classification-bert exists.\n",
      "Loading the model.\n",
      "Start Time:18:59:18\n",
      "#Module 7 in progress....\n",
      "origin\n",
      "Start Positive CI sparse\n",
      "Start Positive CI after sparse\n",
      "Start Negative TI\n",
      "[0, 1, 2, 8, 9, 10, 15]\n",
      "[7]\n",
      "[16, 10, 12, 0, 0, 0, 0, 0, 9, 16, 15, 0, 0, 0, 0, 16]\n",
      "[0, 0, 0, 0, 0, 0, 0, 16, 0, 0, 0, 0, 0, 0, 0, 0]\n",
      "7 11\n"
     ]
    },
    {
     "name": "stderr",
     "output_type": "stream",
     "text": [
      "Evaluating: 100%|██████████| 25/25 [00:09<00:00,  2.75it/s]\n"
     ]
    },
    {
     "name": "stdout",
     "output_type": "stream",
     "text": [
      "Loss: 0.8831\n",
      "Precision: 0.4367, Recall: 0.4755, F1-Score: 0.4111\n",
      "              precision    recall  f1-score   support\n",
      "\n",
      "           0       0.28      0.07      0.12       312\n",
      "           1       0.59      0.88      0.71       473\n",
      "\n",
      "    accuracy                           0.56       785\n",
      "   macro avg       0.44      0.48      0.41       785\n",
      "weighted avg       0.47      0.56      0.47       785\n",
      "\n",
      "Directory /home/Minwoo/LESN/Decompose/DecomposeBERT/Models/Configs/pretrained/sadickam/sdg-classification-bert exists.\n",
      "Loading the model.\n",
      "Start Time:19:00:42\n",
      "#Module 7 in progress....\n",
      "origin\n",
      "Start Positive CI sparse\n",
      "Start Positive CI after sparse\n",
      "Start Negative TI\n",
      "[0, 1, 2, 8, 9, 10, 12, 13, 15]\n",
      "[7]\n",
      "[16, 11, 9, 0, 0, 0, 0, 0, 8, 16, 14, 0, 8, 10, 0, 16]\n",
      "[0, 0, 0, 0, 0, 0, 0, 16, 0, 0, 0, 0, 0, 0, 0, 0]\n",
      "7 12\n"
     ]
    },
    {
     "name": "stderr",
     "output_type": "stream",
     "text": [
      "Evaluating: 100%|██████████| 36/36 [00:17<00:00,  2.01it/s]\n"
     ]
    },
    {
     "name": "stdout",
     "output_type": "stream",
     "text": [
      "Loss: 0.5119\n",
      "Precision: 0.7956, Recall: 0.8014, F1-Score: 0.7844\n",
      "              precision    recall  f1-score   support\n",
      "\n",
      "           0       0.91      0.70      0.79       665\n",
      "           1       0.68      0.90      0.78       473\n",
      "\n",
      "    accuracy                           0.78      1138\n",
      "   macro avg       0.80      0.80      0.78      1138\n",
      "weighted avg       0.81      0.78      0.79      1138\n",
      "\n",
      "Directory /home/Minwoo/LESN/Decompose/DecomposeBERT/Models/Configs/pretrained/sadickam/sdg-classification-bert exists.\n",
      "Loading the model.\n",
      "Start Time:19:02:04\n",
      "#Module 7 in progress....\n",
      "origin\n",
      "Start Positive CI sparse\n",
      "Start Positive CI after sparse\n",
      "Start Negative TI\n",
      "[0, 1, 2, 8, 9, 10, 12, 14, 15]\n",
      "[3, 7]\n",
      "[16, 10, 9, 0, 0, 0, 0, 0, 10, 16, 15, 0, 8, 0, 8, 16]\n",
      "[0, 0, 0, 9, 0, 0, 0, 14, 0, 0, 0, 0, 0, 0, 0, 0]\n",
      "7 13\n"
     ]
    },
    {
     "name": "stderr",
     "output_type": "stream",
     "text": [
      "Evaluating: 100%|██████████| 25/25 [00:19<00:00,  1.30it/s]\n"
     ]
    },
    {
     "name": "stdout",
     "output_type": "stream",
     "text": [
      "Loss: 0.4955\n",
      "Precision: 0.6693, Recall: 0.6255, F1-Score: 0.6232\n",
      "              precision    recall  f1-score   support\n",
      "\n",
      "           0       0.66      0.38      0.48       314\n",
      "           1       0.68      0.87      0.76       473\n",
      "\n",
      "    accuracy                           0.67       787\n",
      "   macro avg       0.67      0.63      0.62       787\n",
      "weighted avg       0.67      0.67      0.65       787\n",
      "\n",
      "Directory /home/Minwoo/LESN/Decompose/DecomposeBERT/Models/Configs/pretrained/sadickam/sdg-classification-bert exists.\n",
      "Loading the model.\n",
      "Start Time:19:03:07\n",
      "#Module 7 in progress....\n",
      "origin\n",
      "Start Positive CI sparse\n",
      "Start Positive CI after sparse\n",
      "Start Negative TI\n",
      "[0, 5, 8, 9, 10, 12, 14, 15]\n",
      "[2, 3, 7]\n",
      "[16, 0, 0, 0, 0, 9, 0, 0, 11, 16, 16, 0, 10, 0, 8, 16]\n",
      "[0, 0, 11, 13, 0, 0, 0, 16, 0, 0, 0, 0, 0, 0, 0, 0]\n",
      "7 14\n"
     ]
    },
    {
     "name": "stderr",
     "output_type": "stream",
     "text": [
      "Evaluating: 100%|██████████| 39/39 [00:30<00:00,  1.28it/s]\n"
     ]
    },
    {
     "name": "stdout",
     "output_type": "stream",
     "text": [
      "Loss: 0.3049\n",
      "Precision: 0.8975, Recall: 0.8939, F1-Score: 0.8956\n",
      "              precision    recall  f1-score   support\n",
      "\n",
      "           0       0.91      0.93      0.92       756\n",
      "           1       0.88      0.86      0.87       473\n",
      "\n",
      "    accuracy                           0.90      1229\n",
      "   macro avg       0.90      0.89      0.90      1229\n",
      "weighted avg       0.90      0.90      0.90      1229\n",
      "\n",
      "Directory /home/Minwoo/LESN/Decompose/DecomposeBERT/Models/Configs/pretrained/sadickam/sdg-classification-bert exists.\n",
      "Loading the model.\n",
      "Start Time:19:04:25\n",
      "#Module 7 in progress....\n",
      "origin\n",
      "Start Positive CI sparse\n",
      "Start Positive CI after sparse\n",
      "Start Negative TI\n",
      "[0, 1, 2, 8, 9, 10, 12, 15]\n",
      "[3, 7]\n",
      "[16, 12, 13, 0, 0, 0, 0, 0, 13, 16, 15, 0, 8, 0, 0, 16]\n",
      "[0, 0, 0, 11, 0, 0, 0, 16, 0, 0, 0, 0, 0, 0, 0, 0]\n",
      "7 15\n"
     ]
    },
    {
     "name": "stderr",
     "output_type": "stream",
     "text": [
      "Evaluating: 100%|██████████| 65/65 [00:45<00:00,  1.43it/s]\n"
     ]
    },
    {
     "name": "stdout",
     "output_type": "stream",
     "text": [
      "Loss: 0.1279\n",
      "Precision: 0.9593, Recall: 0.9410, F1-Score: 0.9498\n",
      "              precision    recall  f1-score   support\n",
      "\n",
      "           0       0.97      0.99      0.98      1607\n",
      "           1       0.95      0.90      0.92       473\n",
      "\n",
      "    accuracy                           0.97      2080\n",
      "   macro avg       0.96      0.94      0.95      2080\n",
      "weighted avg       0.97      0.97      0.97      2080\n",
      "\n",
      "Directory /home/Minwoo/LESN/Decompose/DecomposeBERT/Models/Configs/pretrained/sadickam/sdg-classification-bert exists.\n",
      "Loading the model.\n",
      "Start Time:19:05:50\n",
      "#Module 8 in progress....\n",
      "origin\n",
      "Start Positive CI sparse\n",
      "Start Positive CI after sparse\n",
      "Start Negative TI\n",
      "[0, 2, 7, 9, 10, 15]\n",
      "[8]\n",
      "[16, 0, 9, 0, 0, 0, 0, 13, 0, 16, 12, 0, 0, 0, 0, 16]\n",
      "[0, 0, 0, 0, 0, 0, 0, 0, 16, 0, 0, 0, 0, 0, 0, 0]\n",
      "8 0\n"
     ]
    },
    {
     "name": "stderr",
     "output_type": "stream",
     "text": [
      "Evaluating: 100%|██████████| 49/49 [00:29<00:00,  1.69it/s]\n"
     ]
    },
    {
     "name": "stdout",
     "output_type": "stream",
     "text": [
      "Loss: 0.1421\n",
      "Precision: 0.9558, Recall: 0.9563, F1-Score: 0.9559\n",
      "              precision    recall  f1-score   support\n",
      "\n",
      "           0       0.97      0.94      0.96       797\n",
      "           1       0.94      0.97      0.96       746\n",
      "\n",
      "    accuracy                           0.96      1543\n",
      "   macro avg       0.96      0.96      0.96      1543\n",
      "weighted avg       0.96      0.96      0.96      1543\n",
      "\n",
      "Directory /home/Minwoo/LESN/Decompose/DecomposeBERT/Models/Configs/pretrained/sadickam/sdg-classification-bert exists.\n",
      "Loading the model.\n",
      "Start Time:19:07:02\n",
      "#Module 8 in progress....\n",
      "origin\n",
      "Start Positive CI sparse\n",
      "Start Positive CI after sparse\n",
      "Start Negative TI\n",
      "[0, 1, 7, 9, 10, 12, 14, 15]\n",
      "[8, 3]\n",
      "[16, 10, 0, 0, 0, 0, 0, 15, 0, 16, 13, 0, 9, 0, 8, 16]\n",
      "[0, 0, 0, 9, 0, 0, 0, 0, 16, 0, 0, 0, 0, 0, 0, 0]\n",
      "8 1\n"
     ]
    },
    {
     "name": "stderr",
     "output_type": "stream",
     "text": [
      "Evaluating: 100%|██████████| 48/48 [00:27<00:00,  1.72it/s]\n"
     ]
    },
    {
     "name": "stdout",
     "output_type": "stream",
     "text": [
      "Loss: 0.2995\n",
      "Precision: 0.9059, Recall: 0.9024, F1-Score: 0.9012\n",
      "              precision    recall  f1-score   support\n",
      "\n",
      "           0       0.95      0.85      0.90       775\n",
      "           1       0.86      0.96      0.90       746\n",
      "\n",
      "    accuracy                           0.90      1521\n",
      "   macro avg       0.91      0.90      0.90      1521\n",
      "weighted avg       0.91      0.90      0.90      1521\n",
      "\n",
      "Directory /home/Minwoo/LESN/Decompose/DecomposeBERT/Models/Configs/pretrained/sadickam/sdg-classification-bert exists.\n",
      "Loading the model.\n",
      "Start Time:19:08:19\n",
      "#Module 8 in progress....\n",
      "origin\n",
      "Start Positive CI sparse\n",
      "Start Positive CI after sparse\n",
      "Start Negative TI\n",
      "[0, 1, 7, 9, 10, 12, 15]\n",
      "[8]\n",
      "[16, 9, 0, 0, 0, 0, 0, 13, 0, 16, 16, 0, 13, 0, 0, 16]\n",
      "[0, 0, 0, 0, 0, 0, 0, 0, 16, 0, 0, 0, 0, 0, 0, 0]\n",
      "8 2\n"
     ]
    },
    {
     "name": "stderr",
     "output_type": "stream",
     "text": [
      "Evaluating: 100%|██████████| 49/49 [00:36<00:00,  1.33it/s]\n"
     ]
    },
    {
     "name": "stdout",
     "output_type": "stream",
     "text": [
      "Loss: 0.4422\n",
      "Precision: 0.8449, Recall: 0.8119, F1-Score: 0.8028\n",
      "              precision    recall  f1-score   support\n",
      "\n",
      "           0       0.97      0.65      0.78       795\n",
      "           1       0.72      0.98      0.83       746\n",
      "\n",
      "    accuracy                           0.81      1541\n",
      "   macro avg       0.84      0.81      0.80      1541\n",
      "weighted avg       0.85      0.81      0.80      1541\n",
      "\n",
      "Directory /home/Minwoo/LESN/Decompose/DecomposeBERT/Models/Configs/pretrained/sadickam/sdg-classification-bert exists.\n",
      "Loading the model.\n",
      "Start Time:19:09:54\n",
      "#Module 8 in progress....\n",
      "origin\n",
      "Start Positive CI sparse\n",
      "Start Positive CI after sparse\n",
      "Start Negative TI\n",
      "[0, 7, 9, 10, 12, 15]\n",
      "[8, 3]\n",
      "[15, 0, 0, 0, 0, 0, 0, 15, 0, 16, 13, 0, 8, 0, 0, 16]\n",
      "[0, 0, 0, 12, 0, 0, 0, 0, 16, 0, 0, 0, 0, 0, 0, 0]\n",
      "8 3\n"
     ]
    },
    {
     "name": "stderr",
     "output_type": "stream",
     "text": [
      "Evaluating: 100%|██████████| 58/58 [00:40<00:00,  1.44it/s]\n"
     ]
    },
    {
     "name": "stdout",
     "output_type": "stream",
     "text": [
      "Loss: 2.5660\n",
      "Precision: 0.5940, Recall: 0.5220, F1-Score: 0.3599\n",
      "              precision    recall  f1-score   support\n",
      "\n",
      "           0       0.77      0.08      0.14      1110\n",
      "           1       0.41      0.97      0.58       746\n",
      "\n",
      "    accuracy                           0.43      1856\n",
      "   macro avg       0.59      0.52      0.36      1856\n",
      "weighted avg       0.63      0.43      0.32      1856\n",
      "\n",
      "Directory /home/Minwoo/LESN/Decompose/DecomposeBERT/Models/Configs/pretrained/sadickam/sdg-classification-bert exists.\n",
      "Loading the model.\n",
      "Start Time:19:11:29\n",
      "#Module 8 in progress....\n",
      "origin\n",
      "Start Positive CI sparse\n",
      "Start Positive CI after sparse\n",
      "Start Negative TI\n",
      "[0, 1, 7, 9, 10, 15]\n",
      "[8]\n",
      "[16, 10, 0, 0, 0, 0, 0, 12, 0, 16, 16, 0, 0, 0, 0, 16]\n",
      "[0, 0, 0, 0, 0, 0, 0, 0, 16, 0, 0, 0, 0, 0, 0, 0]\n",
      "8 4\n"
     ]
    },
    {
     "name": "stderr",
     "output_type": "stream",
     "text": [
      "Evaluating: 100%|██████████| 63/63 [00:40<00:00,  1.55it/s]\n"
     ]
    },
    {
     "name": "stdout",
     "output_type": "stream",
     "text": [
      "Loss: 0.4421\n",
      "Precision: 0.8077, Recall: 0.8250, F1-Score: 0.7881\n",
      "              precision    recall  f1-score   support\n",
      "\n",
      "           0       0.97      0.68      0.80      1260\n",
      "           1       0.64      0.97      0.77       746\n",
      "\n",
      "    accuracy                           0.79      2006\n",
      "   macro avg       0.81      0.83      0.79      2006\n",
      "weighted avg       0.85      0.79      0.79      2006\n",
      "\n",
      "Directory /home/Minwoo/LESN/Decompose/DecomposeBERT/Models/Configs/pretrained/sadickam/sdg-classification-bert exists.\n",
      "Loading the model.\n",
      "Start Time:19:13:09\n",
      "#Module 8 in progress....\n",
      "origin\n",
      "Start Positive CI sparse\n",
      "Start Positive CI after sparse\n",
      "Start Negative TI\n",
      "[0, 1, 2, 3, 7, 9, 10, 12, 15]\n",
      "[8]\n",
      "[16, 8, 8, 9, 0, 0, 0, 14, 0, 16, 11, 0, 8, 0, 0, 16]\n",
      "[0, 0, 0, 0, 0, 0, 0, 0, 16, 0, 0, 0, 0, 0, 0, 0]\n",
      "8 5\n"
     ]
    },
    {
     "name": "stderr",
     "output_type": "stream",
     "text": [
      "Evaluating: 100%|██████████| 51/51 [00:34<00:00,  1.50it/s]\n"
     ]
    },
    {
     "name": "stdout",
     "output_type": "stream",
     "text": [
      "Loss: 0.8039\n",
      "Precision: 0.7341, Recall: 0.5994, F1-Score: 0.5109\n",
      "              precision    recall  f1-score   support\n",
      "\n",
      "           0       0.95      0.21      0.35       882\n",
      "           1       0.51      0.99      0.68       746\n",
      "\n",
      "    accuracy                           0.57      1628\n",
      "   macro avg       0.73      0.60      0.51      1628\n",
      "weighted avg       0.75      0.57      0.50      1628\n",
      "\n",
      "Directory /home/Minwoo/LESN/Decompose/DecomposeBERT/Models/Configs/pretrained/sadickam/sdg-classification-bert exists.\n",
      "Loading the model.\n",
      "Start Time:19:14:33\n",
      "#Module 8 in progress....\n",
      "origin\n",
      "Start Positive CI sparse\n",
      "Start Positive CI after sparse\n",
      "Start Negative TI\n",
      "[0, 2, 7, 9, 10, 13, 15]\n",
      "[8]\n",
      "[16, 0, 11, 0, 0, 0, 0, 12, 0, 16, 14, 0, 0, 9, 0, 16]\n",
      "[0, 0, 0, 0, 0, 0, 0, 0, 16, 0, 0, 0, 0, 0, 0, 0]\n",
      "8 6\n"
     ]
    },
    {
     "name": "stderr",
     "output_type": "stream",
     "text": [
      "Evaluating: 100%|██████████| 53/53 [00:37<00:00,  1.42it/s]\n"
     ]
    },
    {
     "name": "stdout",
     "output_type": "stream",
     "text": [
      "Loss: 1.3382\n",
      "Precision: 0.5643, Recall: 0.5106, F1-Score: 0.3548\n",
      "              precision    recall  f1-score   support\n",
      "\n",
      "           0       0.68      0.05      0.10       940\n",
      "           1       0.45      0.97      0.61       746\n",
      "\n",
      "    accuracy                           0.46      1686\n",
      "   macro avg       0.56      0.51      0.35      1686\n",
      "weighted avg       0.58      0.46      0.33      1686\n",
      "\n",
      "Directory /home/Minwoo/LESN/Decompose/DecomposeBERT/Models/Configs/pretrained/sadickam/sdg-classification-bert exists.\n",
      "Loading the model.\n",
      "Start Time:19:16:11\n",
      "#Module 8 in progress....\n",
      "origin\n",
      "Start Positive CI sparse\n",
      "Start Positive CI after sparse\n",
      "Start Negative TI\n",
      "[0, 1, 2, 3, 5, 7, 9, 10, 12, 13, 15]\n",
      "[8]\n",
      "[16, 12, 14, 8, 0, 9, 0, 10, 0, 16, 16, 0, 9, 8, 0, 16]\n",
      "[0, 0, 0, 0, 0, 0, 0, 0, 16, 0, 0, 0, 0, 0, 0, 0]\n",
      "8 7\n"
     ]
    },
    {
     "name": "stderr",
     "output_type": "stream",
     "text": [
      "Evaluating: 100%|██████████| 39/39 [00:30<00:00,  1.29it/s]\n"
     ]
    },
    {
     "name": "stdout",
     "output_type": "stream",
     "text": [
      "Loss: 0.6122\n",
      "Precision: 0.8645, Recall: 0.7576, F1-Score: 0.7727\n",
      "              precision    recall  f1-score   support\n",
      "\n",
      "           0       0.96      0.53      0.68       473\n",
      "           1       0.77      0.99      0.86       746\n",
      "\n",
      "    accuracy                           0.81      1219\n",
      "   macro avg       0.86      0.76      0.77      1219\n",
      "weighted avg       0.84      0.81      0.79      1219\n",
      "\n",
      "Directory /home/Minwoo/LESN/Decompose/DecomposeBERT/Models/Configs/pretrained/sadickam/sdg-classification-bert exists.\n",
      "Loading the model.\n",
      "Start Time:19:17:36\n",
      "#Module 8 in progress....\n",
      "origin\n",
      "Start Positive CI sparse\n",
      "Start Positive CI after sparse\n",
      "Start Negative TI\n",
      "[0, 1, 3, 7, 9, 10, 12, 13, 14, 15]\n",
      "[8]\n",
      "[16, 10, 0, 8, 0, 0, 0, 13, 0, 16, 16, 0, 10, 8, 9, 16]\n",
      "[0, 0, 0, 0, 0, 0, 0, 0, 16, 0, 0, 0, 0, 0, 0, 0]\n",
      "8 9\n"
     ]
    },
    {
     "name": "stderr",
     "output_type": "stream",
     "text": [
      "Evaluating: 100%|██████████| 45/45 [00:32<00:00,  1.37it/s]\n"
     ]
    },
    {
     "name": "stdout",
     "output_type": "stream",
     "text": [
      "Loss: 0.3112\n",
      "Precision: 0.9268, Recall: 0.9126, F1-Score: 0.9146\n",
      "              precision    recall  f1-score   support\n",
      "\n",
      "           0       0.99      0.84      0.90       689\n",
      "           1       0.87      0.99      0.92       746\n",
      "\n",
      "    accuracy                           0.92      1435\n",
      "   macro avg       0.93      0.91      0.91      1435\n",
      "weighted avg       0.92      0.92      0.91      1435\n",
      "\n",
      "Directory /home/Minwoo/LESN/Decompose/DecomposeBERT/Models/Configs/pretrained/sadickam/sdg-classification-bert exists.\n",
      "Loading the model.\n",
      "Start Time:19:18:59\n",
      "#Module 8 in progress....\n",
      "origin\n",
      "Start Positive CI sparse\n",
      "Start Positive CI after sparse\n",
      "Start Negative TI\n",
      "[0, 7, 9, 10, 12, 15]\n",
      "[8, 3]\n",
      "[16, 0, 0, 0, 0, 0, 0, 13, 0, 16, 15, 0, 8, 0, 0, 16]\n",
      "[0, 0, 0, 13, 0, 0, 0, 0, 16, 0, 0, 0, 0, 0, 0, 0]\n",
      "8 10\n"
     ]
    },
    {
     "name": "stderr",
     "output_type": "stream",
     "text": [
      "Evaluating: 100%|██████████| 45/45 [00:32<00:00,  1.38it/s]\n"
     ]
    },
    {
     "name": "stdout",
     "output_type": "stream",
     "text": [
      "Loss: 0.2711\n",
      "Precision: 0.9040, Recall: 0.8971, F1-Score: 0.8988\n",
      "              precision    recall  f1-score   support\n",
      "\n",
      "           0       0.93      0.85      0.89       670\n",
      "           1       0.87      0.95      0.91       746\n",
      "\n",
      "    accuracy                           0.90      1416\n",
      "   macro avg       0.90      0.90      0.90      1416\n",
      "weighted avg       0.90      0.90      0.90      1416\n",
      "\n",
      "Directory /home/Minwoo/LESN/Decompose/DecomposeBERT/Models/Configs/pretrained/sadickam/sdg-classification-bert exists.\n",
      "Loading the model.\n",
      "Start Time:19:20:24\n",
      "#Module 8 in progress....\n",
      "origin\n",
      "Start Positive CI sparse\n",
      "Start Positive CI after sparse\n",
      "Start Negative TI\n",
      "[0, 1, 2, 7, 9, 10, 12, 15]\n",
      "[8]\n",
      "[16, 9, 8, 0, 0, 0, 0, 11, 0, 16, 14, 0, 10, 0, 0, 16]\n",
      "[0, 0, 0, 0, 0, 0, 0, 0, 16, 0, 0, 0, 0, 0, 0, 0]\n",
      "8 11\n"
     ]
    },
    {
     "name": "stderr",
     "output_type": "stream",
     "text": [
      "Evaluating: 100%|██████████| 34/34 [00:22<00:00,  1.53it/s]\n"
     ]
    },
    {
     "name": "stdout",
     "output_type": "stream",
     "text": [
      "Loss: 0.4683\n",
      "Precision: 0.8587, Recall: 0.7134, F1-Score: 0.7423\n",
      "              precision    recall  f1-score   support\n",
      "\n",
      "           0       0.91      0.45      0.60       312\n",
      "           1       0.81      0.98      0.89       746\n",
      "\n",
      "    accuracy                           0.82      1058\n",
      "   macro avg       0.86      0.71      0.74      1058\n",
      "weighted avg       0.84      0.82      0.80      1058\n",
      "\n",
      "Directory /home/Minwoo/LESN/Decompose/DecomposeBERT/Models/Configs/pretrained/sadickam/sdg-classification-bert exists.\n",
      "Loading the model.\n",
      "Start Time:19:21:50\n",
      "#Module 8 in progress....\n",
      "origin\n",
      "Start Positive CI sparse\n",
      "Start Positive CI after sparse\n",
      "Start Negative TI\n",
      "[0, 1, 2, 7, 9, 10, 15]\n",
      "[8, 12]\n",
      "[16, 8, 8, 0, 0, 0, 0, 15, 0, 16, 15, 0, 0, 0, 0, 16]\n",
      "[0, 0, 0, 0, 0, 0, 0, 0, 16, 0, 0, 0, 8, 0, 0, 0]\n",
      "8 12\n"
     ]
    },
    {
     "name": "stderr",
     "output_type": "stream",
     "text": [
      "Evaluating: 100%|██████████| 45/45 [00:29<00:00,  1.51it/s]\n"
     ]
    },
    {
     "name": "stdout",
     "output_type": "stream",
     "text": [
      "Loss: 1.9729\n",
      "Precision: 0.4817, Recall: 0.4965, F1-Score: 0.3806\n",
      "              precision    recall  f1-score   support\n",
      "\n",
      "           0       0.44      0.05      0.08       665\n",
      "           1       0.53      0.95      0.68       746\n",
      "\n",
      "    accuracy                           0.52      1411\n",
      "   macro avg       0.48      0.50      0.38      1411\n",
      "weighted avg       0.48      0.52      0.40      1411\n",
      "\n",
      "Directory /home/Minwoo/LESN/Decompose/DecomposeBERT/Models/Configs/pretrained/sadickam/sdg-classification-bert exists.\n",
      "Loading the model.\n",
      "Start Time:19:23:11\n",
      "#Module 8 in progress....\n",
      "origin\n",
      "Start Positive CI sparse\n",
      "Start Positive CI after sparse\n",
      "Start Negative TI\n",
      "[0, 2, 7, 9, 10, 15]\n",
      "[8, 12]\n",
      "[16, 0, 8, 0, 0, 0, 0, 8, 0, 16, 16, 0, 0, 0, 0, 16]\n",
      "[0, 0, 0, 0, 0, 0, 0, 0, 16, 0, 0, 0, 9, 0, 0, 0]\n",
      "8 13\n"
     ]
    },
    {
     "name": "stderr",
     "output_type": "stream",
     "text": [
      "Evaluating: 100%|██████████| 34/34 [00:22<00:00,  1.50it/s]\n"
     ]
    },
    {
     "name": "stdout",
     "output_type": "stream",
     "text": [
      "Loss: 0.6120\n",
      "Precision: 0.5052, Recall: 0.5011, F1-Score: 0.4466\n",
      "              precision    recall  f1-score   support\n",
      "\n",
      "           0       0.31      0.05      0.08       314\n",
      "           1       0.70      0.95      0.81       746\n",
      "\n",
      "    accuracy                           0.69      1060\n",
      "   macro avg       0.51      0.50      0.45      1060\n",
      "weighted avg       0.59      0.69      0.59      1060\n",
      "\n",
      "Directory /home/Minwoo/LESN/Decompose/DecomposeBERT/Models/Configs/pretrained/sadickam/sdg-classification-bert exists.\n",
      "Loading the model.\n",
      "Start Time:19:24:34\n",
      "#Module 8 in progress....\n",
      "origin\n",
      "Start Positive CI sparse\n",
      "Start Positive CI after sparse\n",
      "Start Negative TI\n",
      "[0, 1, 7, 9, 10, 12, 15]\n",
      "[8, 13]\n",
      "[16, 8, 0, 0, 0, 0, 0, 10, 0, 16, 14, 0, 9, 0, 0, 16]\n",
      "[0, 0, 0, 0, 0, 0, 0, 0, 16, 0, 0, 0, 0, 8, 0, 0]\n",
      "8 14\n"
     ]
    },
    {
     "name": "stderr",
     "output_type": "stream",
     "text": [
      "Evaluating: 100%|██████████| 47/47 [00:31<00:00,  1.50it/s]\n"
     ]
    },
    {
     "name": "stdout",
     "output_type": "stream",
     "text": [
      "Loss: 0.7808\n",
      "Precision: 0.6508, Recall: 0.5493, F1-Score: 0.4567\n",
      "              precision    recall  f1-score   support\n",
      "\n",
      "           0       0.78      0.14      0.24       756\n",
      "           1       0.52      0.96      0.68       746\n",
      "\n",
      "    accuracy                           0.55      1502\n",
      "   macro avg       0.65      0.55      0.46      1502\n",
      "weighted avg       0.65      0.55      0.46      1502\n",
      "\n",
      "Directory /home/Minwoo/LESN/Decompose/DecomposeBERT/Models/Configs/pretrained/sadickam/sdg-classification-bert exists.\n",
      "Loading the model.\n",
      "Start Time:19:25:56\n",
      "#Module 8 in progress....\n",
      "origin\n",
      "Start Positive CI sparse\n",
      "Start Positive CI after sparse\n",
      "Start Negative TI\n",
      "[0, 7, 9, 10, 12, 13, 15]\n",
      "[8, 3]\n",
      "[16, 0, 0, 0, 0, 0, 0, 13, 0, 16, 15, 0, 11, 8, 0, 16]\n",
      "[0, 0, 0, 8, 0, 0, 0, 0, 16, 0, 0, 0, 0, 0, 0, 0]\n",
      "8 15\n"
     ]
    },
    {
     "name": "stderr",
     "output_type": "stream",
     "text": [
      "Evaluating: 100%|██████████| 74/74 [00:43<00:00,  1.70it/s]\n"
     ]
    },
    {
     "name": "stdout",
     "output_type": "stream",
     "text": [
      "Loss: 0.1743\n",
      "Precision: 0.9517, Recall: 0.9678, F1-Score: 0.9590\n",
      "              precision    recall  f1-score   support\n",
      "\n",
      "           0       0.99      0.96      0.97      1607\n",
      "           1       0.91      0.98      0.94       746\n",
      "\n",
      "    accuracy                           0.96      2353\n",
      "   macro avg       0.95      0.97      0.96      2353\n",
      "weighted avg       0.97      0.96      0.96      2353\n",
      "\n",
      "Directory /home/Minwoo/LESN/Decompose/DecomposeBERT/Models/Configs/pretrained/sadickam/sdg-classification-bert exists.\n",
      "Loading the model.\n",
      "Start Time:19:27:35\n",
      "#Module 9 in progress....\n",
      "origin\n",
      "Start Positive CI sparse\n",
      "Start Positive CI after sparse\n",
      "Start Negative TI\n",
      "[0, 1, 2, 7, 10, 12, 13, 14, 15]\n",
      "[8, 9]\n",
      "[16, 12, 10, 0, 0, 0, 0, 14, 0, 0, 11, 0, 11, 8, 8, 16]\n",
      "[0, 0, 0, 0, 0, 0, 0, 0, 10, 16, 0, 0, 0, 0, 0, 0]\n",
      "9 0\n"
     ]
    },
    {
     "name": "stderr",
     "output_type": "stream",
     "text": [
      "Evaluating: 100%|██████████| 47/47 [00:21<00:00,  2.21it/s]\n"
     ]
    },
    {
     "name": "stdout",
     "output_type": "stream",
     "text": [
      "Loss: 1.1403\n",
      "Precision: 0.6943, Recall: 0.5783, F1-Score: 0.4867\n",
      "              precision    recall  f1-score   support\n",
      "\n",
      "           0       0.88      0.19      0.31       797\n",
      "           1       0.51      0.97      0.67       689\n",
      "\n",
      "    accuracy                           0.55      1486\n",
      "   macro avg       0.69      0.58      0.49      1486\n",
      "weighted avg       0.71      0.55      0.47      1486\n",
      "\n",
      "Directory /home/Minwoo/LESN/Decompose/DecomposeBERT/Models/Configs/pretrained/sadickam/sdg-classification-bert exists.\n",
      "Loading the model.\n",
      "Start Time:19:28:46\n",
      "#Module 9 in progress....\n",
      "origin\n",
      "Start Positive CI sparse\n",
      "Start Positive CI after sparse\n",
      "Start Negative TI\n",
      "[0, 1, 5, 7, 8, 10, 12, 15]\n",
      "[9]\n",
      "[16, 10, 0, 0, 0, 9, 0, 15, 8, 0, 15, 0, 12, 0, 0, 16]\n",
      "[0, 0, 0, 0, 0, 0, 0, 0, 0, 16, 0, 0, 0, 0, 0, 0]\n",
      "9 1\n"
     ]
    },
    {
     "name": "stderr",
     "output_type": "stream",
     "text": [
      "Evaluating: 100%|██████████| 46/46 [00:20<00:00,  2.20it/s]\n"
     ]
    },
    {
     "name": "stdout",
     "output_type": "stream",
     "text": [
      "Loss: 0.3053\n",
      "Precision: 0.8913, Recall: 0.8919, F1-Score: 0.8893\n",
      "              precision    recall  f1-score   support\n",
      "\n",
      "           0       0.94      0.85      0.89       775\n",
      "           1       0.85      0.94      0.89       689\n",
      "\n",
      "    accuracy                           0.89      1464\n",
      "   macro avg       0.89      0.89      0.89      1464\n",
      "weighted avg       0.89      0.89      0.89      1464\n",
      "\n",
      "Directory /home/Minwoo/LESN/Decompose/DecomposeBERT/Models/Configs/pretrained/sadickam/sdg-classification-bert exists.\n",
      "Loading the model.\n",
      "Start Time:19:30:18\n",
      "#Module 9 in progress....\n",
      "origin\n",
      "Start Positive CI sparse\n",
      "Start Positive CI after sparse\n",
      "Start Negative TI\n",
      "[0, 1, 7, 10, 15]\n",
      "[9, 2]\n",
      "[16, 9, 0, 0, 0, 0, 0, 14, 0, 0, 13, 0, 0, 0, 0, 16]\n",
      "[0, 0, 9, 0, 0, 0, 0, 0, 0, 16, 0, 0, 0, 0, 0, 0]\n",
      "9 2\n"
     ]
    },
    {
     "name": "stderr",
     "output_type": "stream",
     "text": [
      "Evaluating: 100%|██████████| 47/47 [00:25<00:00,  1.84it/s]\n"
     ]
    },
    {
     "name": "stdout",
     "output_type": "stream",
     "text": [
      "Loss: 2.2032\n",
      "Precision: 0.3719, Recall: 0.4826, F1-Score: 0.3251\n",
      "              precision    recall  f1-score   support\n",
      "\n",
      "           0       0.29      0.02      0.04       795\n",
      "           1       0.46      0.95      0.61       689\n",
      "\n",
      "    accuracy                           0.45      1484\n",
      "   macro avg       0.37      0.48      0.33      1484\n",
      "weighted avg       0.37      0.45      0.30      1484\n",
      "\n",
      "Directory /home/Minwoo/LESN/Decompose/DecomposeBERT/Models/Configs/pretrained/sadickam/sdg-classification-bert exists.\n",
      "Loading the model.\n",
      "Start Time:19:31:50\n",
      "#Module 9 in progress....\n",
      "origin\n",
      "Start Positive CI sparse\n",
      "Start Positive CI after sparse\n",
      "Start Negative TI\n",
      "[0, 10, 15, 7]\n",
      "[8, 9]\n",
      "[16, 0, 0, 0, 0, 0, 0, 13, 0, 0, 14, 0, 0, 0, 0, 16]\n",
      "[0, 0, 0, 0, 0, 0, 0, 0, 10, 16, 0, 0, 0, 0, 0, 0]\n",
      "9 3\n"
     ]
    },
    {
     "name": "stderr",
     "output_type": "stream",
     "text": [
      "Evaluating: 100%|██████████| 57/57 [00:39<00:00,  1.43it/s]\n"
     ]
    },
    {
     "name": "stdout",
     "output_type": "stream",
     "text": [
      "Loss: 1.1668\n",
      "Precision: 0.4861, Recall: 0.4966, F1-Score: 0.3241\n",
      "              precision    recall  f1-score   support\n",
      "\n",
      "           0       0.59      0.06      0.11      1110\n",
      "           1       0.38      0.93      0.54       689\n",
      "\n",
      "    accuracy                           0.39      1799\n",
      "   macro avg       0.49      0.50      0.32      1799\n",
      "weighted avg       0.51      0.39      0.27      1799\n",
      "\n",
      "Directory /home/Minwoo/LESN/Decompose/DecomposeBERT/Models/Configs/pretrained/sadickam/sdg-classification-bert exists.\n",
      "Loading the model.\n",
      "Start Time:19:33:42\n",
      "#Module 9 in progress....\n",
      "origin\n",
      "Start Positive CI sparse\n",
      "Start Positive CI after sparse\n",
      "Start Negative TI\n",
      "[0, 1, 7, 8, 10, 15]\n",
      "[9]\n",
      "[16, 12, 0, 0, 0, 0, 0, 14, 13, 0, 13, 0, 0, 0, 0, 16]\n",
      "[0, 0, 0, 0, 0, 0, 0, 0, 0, 16, 0, 0, 0, 0, 0, 0]\n",
      "9 4\n"
     ]
    },
    {
     "name": "stderr",
     "output_type": "stream",
     "text": [
      "Evaluating: 100%|██████████| 61/61 [00:45<00:00,  1.35it/s]\n"
     ]
    },
    {
     "name": "stdout",
     "output_type": "stream",
     "text": [
      "Loss: 1.7879\n",
      "Precision: 0.3799, Recall: 0.4783, F1-Score: 0.2766\n",
      "              precision    recall  f1-score   support\n",
      "\n",
      "           0       0.42      0.03      0.05      1260\n",
      "           1       0.34      0.93      0.50       689\n",
      "\n",
      "    accuracy                           0.35      1949\n",
      "   macro avg       0.38      0.48      0.28      1949\n",
      "weighted avg       0.39      0.35      0.21      1949\n",
      "\n",
      "Directory /home/Minwoo/LESN/Decompose/DecomposeBERT/Models/Configs/pretrained/sadickam/sdg-classification-bert exists.\n",
      "Loading the model.\n",
      "Start Time:19:35:13\n",
      "#Module 9 in progress....\n",
      "origin\n",
      "Start Positive CI sparse\n",
      "Start Positive CI after sparse\n",
      "Start Negative TI\n",
      "[0, 1, 2, 5, 7, 8, 10, 12, 15]\n",
      "[9, 3]\n",
      "[16, 9, 10, 0, 0, 8, 0, 16, 11, 0, 15, 0, 10, 0, 0, 16]\n",
      "[0, 0, 0, 11, 0, 0, 0, 0, 0, 16, 0, 0, 0, 0, 0, 0]\n",
      "9 5\n"
     ]
    },
    {
     "name": "stderr",
     "output_type": "stream",
     "text": [
      "Evaluating: 100%|██████████| 50/50 [00:38<00:00,  1.30it/s]\n"
     ]
    },
    {
     "name": "stdout",
     "output_type": "stream",
     "text": [
      "Loss: 0.2297\n",
      "Precision: 0.9312, Recall: 0.9320, F1-Score: 0.9316\n",
      "              precision    recall  f1-score   support\n",
      "\n",
      "           0       0.94      0.94      0.94       882\n",
      "           1       0.92      0.93      0.92       689\n",
      "\n",
      "    accuracy                           0.93      1571\n",
      "   macro avg       0.93      0.93      0.93      1571\n",
      "weighted avg       0.93      0.93      0.93      1571\n",
      "\n",
      "Directory /home/Minwoo/LESN/Decompose/DecomposeBERT/Models/Configs/pretrained/sadickam/sdg-classification-bert exists.\n",
      "Loading the model.\n",
      "Start Time:19:36:49\n",
      "#Module 9 in progress....\n",
      "origin\n",
      "Start Positive CI sparse\n",
      "Start Positive CI after sparse\n",
      "Start Negative TI\n",
      "[0, 2, 7, 10, 15]\n",
      "[9]\n",
      "[16, 0, 8, 0, 0, 0, 0, 14, 0, 0, 15, 0, 0, 0, 0, 16]\n",
      "[0, 0, 0, 0, 0, 0, 0, 0, 0, 16, 0, 0, 0, 0, 0, 0]\n",
      "9 6\n"
     ]
    },
    {
     "name": "stderr",
     "output_type": "stream",
     "text": [
      "Evaluating: 100%|██████████| 51/51 [00:44<00:00,  1.16it/s]\n"
     ]
    },
    {
     "name": "stdout",
     "output_type": "stream",
     "text": [
      "Loss: 0.6410\n",
      "Precision: 0.6634, Recall: 0.5540, F1-Score: 0.4249\n",
      "              precision    recall  f1-score   support\n",
      "\n",
      "           0       0.88      0.13      0.23       940\n",
      "           1       0.45      0.97      0.62       689\n",
      "\n",
      "    accuracy                           0.49      1629\n",
      "   macro avg       0.66      0.55      0.42      1629\n",
      "weighted avg       0.70      0.49      0.40      1629\n",
      "\n",
      "Directory /home/Minwoo/LESN/Decompose/DecomposeBERT/Models/Configs/pretrained/sadickam/sdg-classification-bert exists.\n",
      "Loading the model.\n",
      "Start Time:19:38:45\n",
      "#Module 9 in progress....\n",
      "origin\n",
      "Start Positive CI sparse\n",
      "Start Positive CI after sparse\n",
      "Start Negative TI\n",
      "[0, 1, 7, 10, 15]\n",
      "[9]\n",
      "[16, 9, 0, 0, 0, 0, 0, 15, 0, 0, 15, 0, 0, 0, 0, 16]\n",
      "[0, 0, 0, 0, 0, 0, 0, 0, 0, 16, 0, 0, 0, 0, 0, 0]\n",
      "9 7\n"
     ]
    },
    {
     "name": "stderr",
     "output_type": "stream",
     "text": [
      "Evaluating: 100%|██████████| 37/37 [00:29<00:00,  1.24it/s]\n"
     ]
    },
    {
     "name": "stdout",
     "output_type": "stream",
     "text": [
      "Loss: 0.7198\n",
      "Precision: 0.7071, Recall: 0.5759, F1-Score: 0.5339\n",
      "              precision    recall  f1-score   support\n",
      "\n",
      "           0       0.78      0.19      0.30       473\n",
      "           1       0.63      0.96      0.76       689\n",
      "\n",
      "    accuracy                           0.65      1162\n",
      "   macro avg       0.71      0.58      0.53      1162\n",
      "weighted avg       0.69      0.65      0.58      1162\n",
      "\n",
      "Directory /home/Minwoo/LESN/Decompose/DecomposeBERT/Models/Configs/pretrained/sadickam/sdg-classification-bert exists.\n",
      "Loading the model.\n",
      "Start Time:19:40:11\n",
      "#Module 9 in progress....\n",
      "origin\n",
      "Start Positive CI sparse\n",
      "Start Positive CI after sparse\n",
      "Start Negative TI\n",
      "[0, 1, 7, 8, 10, 12, 15]\n",
      "[9]\n",
      "[16, 11, 0, 0, 0, 0, 0, 12, 12, 0, 13, 0, 13, 0, 0, 16]\n",
      "[0, 0, 0, 0, 0, 0, 0, 0, 0, 16, 0, 0, 0, 0, 0, 0]\n",
      "9 8\n"
     ]
    },
    {
     "name": "stderr",
     "output_type": "stream",
     "text": [
      "Evaluating: 100%|██████████| 45/45 [00:38<00:00,  1.18it/s]\n"
     ]
    },
    {
     "name": "stdout",
     "output_type": "stream",
     "text": [
      "Loss: 0.2451\n",
      "Precision: 0.9120, Recall: 0.9125, F1-Score: 0.9121\n",
      "              precision    recall  f1-score   support\n",
      "\n",
      "           0       0.92      0.90      0.91       746\n",
      "           1       0.90      0.92      0.91       689\n",
      "\n",
      "    accuracy                           0.91      1435\n",
      "   macro avg       0.91      0.91      0.91      1435\n",
      "weighted avg       0.91      0.91      0.91      1435\n",
      "\n",
      "Directory /home/Minwoo/LESN/Decompose/DecomposeBERT/Models/Configs/pretrained/sadickam/sdg-classification-bert exists.\n",
      "Loading the model.\n",
      "Start Time:19:41:49\n",
      "#Module 9 in progress....\n",
      "origin\n",
      "Start Positive CI sparse\n",
      "Start Positive CI after sparse\n",
      "Start Negative TI\n",
      "[0, 2, 7, 8, 10, 15]\n",
      "[1, 12, 9]\n",
      "[16, 0, 8, 0, 0, 0, 0, 15, 9, 0, 14, 0, 0, 0, 0, 16]\n",
      "[0, 9, 0, 0, 0, 0, 0, 0, 0, 16, 0, 0, 11, 0, 0, 0]\n",
      "9 10\n"
     ]
    },
    {
     "name": "stderr",
     "output_type": "stream",
     "text": [
      "Evaluating: 100%|██████████| 43/43 [00:34<00:00,  1.23it/s]\n"
     ]
    },
    {
     "name": "stdout",
     "output_type": "stream",
     "text": [
      "Loss: 0.3362\n",
      "Precision: 0.8667, Recall: 0.8658, F1-Score: 0.8653\n",
      "              precision    recall  f1-score   support\n",
      "\n",
      "           0       0.84      0.90      0.87       670\n",
      "           1       0.89      0.83      0.86       689\n",
      "\n",
      "    accuracy                           0.87      1359\n",
      "   macro avg       0.87      0.87      0.87      1359\n",
      "weighted avg       0.87      0.87      0.87      1359\n",
      "\n",
      "Directory /home/Minwoo/LESN/Decompose/DecomposeBERT/Models/Configs/pretrained/sadickam/sdg-classification-bert exists.\n",
      "Loading the model.\n",
      "Start Time:19:43:29\n",
      "#Module 9 in progress....\n",
      "origin\n",
      "Start Positive CI sparse\n",
      "Start Positive CI after sparse\n",
      "Start Negative TI\n",
      "[0, 1, 7, 10, 12, 15]\n",
      "[9]\n",
      "[16, 8, 0, 0, 0, 0, 0, 10, 0, 0, 15, 0, 10, 0, 0, 16]\n",
      "[0, 0, 0, 0, 0, 0, 0, 0, 0, 16, 0, 0, 0, 0, 0, 0]\n",
      "9 11\n"
     ]
    },
    {
     "name": "stderr",
     "output_type": "stream",
     "text": [
      "Evaluating: 100%|██████████| 32/32 [00:26<00:00,  1.23it/s]\n"
     ]
    },
    {
     "name": "stdout",
     "output_type": "stream",
     "text": [
      "Loss: 0.2118\n",
      "Precision: 0.9230, Recall: 0.9074, F1-Score: 0.9146\n",
      "              precision    recall  f1-score   support\n",
      "\n",
      "           0       0.91      0.85      0.88       312\n",
      "           1       0.94      0.96      0.95       689\n",
      "\n",
      "    accuracy                           0.93      1001\n",
      "   macro avg       0.92      0.91      0.91      1001\n",
      "weighted avg       0.93      0.93      0.93      1001\n",
      "\n",
      "Directory /home/Minwoo/LESN/Decompose/DecomposeBERT/Models/Configs/pretrained/sadickam/sdg-classification-bert exists.\n",
      "Loading the model.\n",
      "Start Time:19:45:00\n",
      "#Module 9 in progress....\n",
      "origin\n",
      "Start Positive CI sparse\n",
      "Start Positive CI after sparse\n",
      "Start Negative TI\n",
      "[0, 1, 2, 7, 10, 15]\n",
      "[8, 9, 12]\n",
      "[16, 10, 14, 0, 0, 0, 0, 11, 0, 0, 16, 0, 0, 0, 0, 16]\n",
      "[0, 0, 0, 0, 0, 0, 0, 0, 8, 16, 0, 0, 9, 0, 0, 0]\n",
      "9 12\n"
     ]
    },
    {
     "name": "stderr",
     "output_type": "stream",
     "text": [
      "Evaluating: 100%|██████████| 43/43 [00:32<00:00,  1.33it/s]\n"
     ]
    },
    {
     "name": "stdout",
     "output_type": "stream",
     "text": [
      "Loss: 1.6955\n",
      "Precision: 0.3973, Recall: 0.4753, F1-Score: 0.3556\n",
      "              precision    recall  f1-score   support\n",
      "\n",
      "           0       0.30      0.04      0.07       665\n",
      "           1       0.50      0.91      0.64       689\n",
      "\n",
      "    accuracy                           0.48      1354\n",
      "   macro avg       0.40      0.48      0.36      1354\n",
      "weighted avg       0.40      0.48      0.36      1354\n",
      "\n",
      "Directory /home/Minwoo/LESN/Decompose/DecomposeBERT/Models/Configs/pretrained/sadickam/sdg-classification-bert exists.\n",
      "Loading the model.\n",
      "Start Time:19:46:26\n",
      "#Module 9 in progress....\n",
      "origin\n",
      "Start Positive CI sparse\n",
      "Start Positive CI after sparse\n",
      "Start Negative TI\n",
      "[0, 1, 7, 8, 10, 15]\n",
      "[9]\n",
      "[16, 9, 0, 0, 0, 0, 0, 13, 9, 0, 15, 0, 0, 0, 0, 16]\n",
      "[0, 0, 0, 0, 0, 0, 0, 0, 0, 16, 0, 0, 0, 0, 0, 0]\n",
      "9 13\n"
     ]
    },
    {
     "name": "stderr",
     "output_type": "stream",
     "text": [
      "Evaluating: 100%|██████████| 32/32 [00:25<00:00,  1.26it/s]\n"
     ]
    },
    {
     "name": "stdout",
     "output_type": "stream",
     "text": [
      "Loss: 0.3671\n",
      "Precision: 0.6593, Recall: 0.5808, F1-Score: 0.5757\n",
      "              precision    recall  f1-score   support\n",
      "\n",
      "           0       0.59      0.24      0.34       314\n",
      "           1       0.73      0.93      0.81       689\n",
      "\n",
      "    accuracy                           0.71      1003\n",
      "   macro avg       0.66      0.58      0.58      1003\n",
      "weighted avg       0.68      0.71      0.66      1003\n",
      "\n",
      "Directory /home/Minwoo/LESN/Decompose/DecomposeBERT/Models/Configs/pretrained/sadickam/sdg-classification-bert exists.\n",
      "Loading the model.\n",
      "Start Time:19:47:55\n",
      "#Module 9 in progress....\n",
      "origin\n",
      "Start Positive CI sparse\n",
      "Start Positive CI after sparse\n",
      "Start Negative TI\n",
      "[0, 2, 7, 10, 12, 14, 15]\n",
      "[8, 1, 3, 9]\n",
      "[16, 0, 8, 0, 0, 0, 0, 15, 0, 0, 11, 0, 8, 0, 9, 16]\n",
      "[0, 12, 0, 10, 0, 0, 0, 0, 10, 16, 0, 0, 0, 0, 0, 0]\n",
      "9 14\n"
     ]
    },
    {
     "name": "stderr",
     "output_type": "stream",
     "text": [
      "Evaluating: 100%|██████████| 46/46 [00:31<00:00,  1.46it/s]\n"
     ]
    },
    {
     "name": "stdout",
     "output_type": "stream",
     "text": [
      "Loss: 0.2228\n",
      "Precision: 0.9279, Recall: 0.9288, F1-Score: 0.9280\n",
      "              precision    recall  f1-score   support\n",
      "\n",
      "           0       0.95      0.91      0.93       756\n",
      "           1       0.91      0.94      0.93       689\n",
      "\n",
      "    accuracy                           0.93      1445\n",
      "   macro avg       0.93      0.93      0.93      1445\n",
      "weighted avg       0.93      0.93      0.93      1445\n",
      "\n",
      "Directory /home/Minwoo/LESN/Decompose/DecomposeBERT/Models/Configs/pretrained/sadickam/sdg-classification-bert exists.\n",
      "Loading the model.\n",
      "Start Time:19:49:22\n",
      "#Module 9 in progress....\n",
      "origin\n",
      "Start Positive CI sparse\n",
      "Start Positive CI after sparse\n",
      "Start Negative TI\n",
      "[0, 1, 2, 5, 7, 8, 10, 12, 13, 15]\n",
      "[9]\n",
      "[16, 14, 9, 0, 0, 10, 0, 14, 8, 0, 14, 0, 10, 8, 0, 16]\n",
      "[0, 0, 0, 0, 0, 0, 0, 0, 0, 16, 0, 0, 0, 0, 0, 0]\n",
      "9 15\n"
     ]
    },
    {
     "name": "stderr",
     "output_type": "stream",
     "text": [
      "Evaluating: 100%|██████████| 72/72 [00:42<00:00,  1.71it/s]\n"
     ]
    },
    {
     "name": "stdout",
     "output_type": "stream",
     "text": [
      "Loss: 0.4962\n",
      "Precision: 0.8062, Recall: 0.8618, F1-Score: 0.8098\n",
      "              precision    recall  f1-score   support\n",
      "\n",
      "           0       0.98      0.76      0.86      1607\n",
      "           1       0.63      0.96      0.76       689\n",
      "\n",
      "    accuracy                           0.82      2296\n",
      "   macro avg       0.81      0.86      0.81      2296\n",
      "weighted avg       0.88      0.82      0.83      2296\n",
      "\n",
      "Directory /home/Minwoo/LESN/Decompose/DecomposeBERT/Models/Configs/pretrained/sadickam/sdg-classification-bert exists.\n",
      "Loading the model.\n",
      "Start Time:19:51:08\n",
      "#Module 10 in progress....\n",
      "origin\n",
      "Start Positive CI sparse\n",
      "Start Positive CI after sparse\n",
      "Start Negative TI\n",
      "[0, 1, 2, 7, 8, 9, 15]\n",
      "[10, 12]\n",
      "[16, 10, 8, 0, 0, 0, 0, 11, 13, 16, 0, 0, 0, 0, 0, 16]\n",
      "[0, 0, 0, 0, 0, 0, 0, 0, 0, 0, 16, 0, 9, 0, 0, 0]\n",
      "10 0\n"
     ]
    },
    {
     "name": "stderr",
     "output_type": "stream",
     "text": [
      "Evaluating: 100%|██████████| 46/46 [00:14<00:00,  3.23it/s]\n"
     ]
    },
    {
     "name": "stdout",
     "output_type": "stream",
     "text": [
      "Loss: 0.2463\n",
      "Precision: 0.9218, Recall: 0.9087, F1-Score: 0.9124\n",
      "              precision    recall  f1-score   support\n",
      "\n",
      "           0       0.88      0.97      0.92       797\n",
      "           1       0.96      0.85      0.90       670\n",
      "\n",
      "    accuracy                           0.91      1467\n",
      "   macro avg       0.92      0.91      0.91      1467\n",
      "weighted avg       0.92      0.91      0.91      1467\n",
      "\n",
      "Directory /home/Minwoo/LESN/Decompose/DecomposeBERT/Models/Configs/pretrained/sadickam/sdg-classification-bert exists.\n",
      "Loading the model.\n",
      "Start Time:19:52:33\n",
      "#Module 10 in progress....\n",
      "origin\n",
      "Start Positive CI sparse\n",
      "Start Positive CI after sparse\n",
      "Start Negative TI\n",
      "[0, 1, 2, 7, 8, 9, 12, 15]\n",
      "[10, 14]\n",
      "[16, 10, 10, 0, 0, 0, 0, 9, 12, 16, 0, 0, 11, 0, 0, 16]\n",
      "[0, 0, 0, 0, 0, 0, 0, 0, 0, 0, 16, 0, 0, 0, 8, 0]\n",
      "10 1\n"
     ]
    },
    {
     "name": "stderr",
     "output_type": "stream",
     "text": [
      "Evaluating: 100%|██████████| 46/46 [00:13<00:00,  3.32it/s]\n"
     ]
    },
    {
     "name": "stdout",
     "output_type": "stream",
     "text": [
      "Loss: 0.3325\n",
      "Precision: 0.8712, Recall: 0.8728, F1-Score: 0.8716\n",
      "              precision    recall  f1-score   support\n",
      "\n",
      "           0       0.90      0.86      0.88       775\n",
      "           1       0.85      0.88      0.86       670\n",
      "\n",
      "    accuracy                           0.87      1445\n",
      "   macro avg       0.87      0.87      0.87      1445\n",
      "weighted avg       0.87      0.87      0.87      1445\n",
      "\n",
      "Directory /home/Minwoo/LESN/Decompose/DecomposeBERT/Models/Configs/pretrained/sadickam/sdg-classification-bert exists.\n",
      "Loading the model.\n",
      "Start Time:19:54:08\n",
      "#Module 10 in progress....\n",
      "origin\n",
      "Start Positive CI sparse\n",
      "Start Positive CI after sparse\n",
      "Start Negative TI\n",
      "[0, 2, 5, 7, 8, 9, 12, 15]\n",
      "[10]\n",
      "[16, 0, 8, 0, 0, 8, 0, 12, 12, 16, 0, 0, 10, 0, 0, 16]\n",
      "[0, 0, 0, 0, 0, 0, 0, 0, 0, 0, 16, 0, 0, 0, 0, 0]\n",
      "10 2\n"
     ]
    },
    {
     "name": "stderr",
     "output_type": "stream",
     "text": [
      "Evaluating: 100%|██████████| 46/46 [00:24<00:00,  1.89it/s]\n"
     ]
    },
    {
     "name": "stdout",
     "output_type": "stream",
     "text": [
      "Loss: 0.3641\n",
      "Precision: 0.8948, Recall: 0.8947, F1-Score: 0.8948\n",
      "              precision    recall  f1-score   support\n",
      "\n",
      "           0       0.90      0.90      0.90       795\n",
      "           1       0.89      0.89      0.89       670\n",
      "\n",
      "    accuracy                           0.90      1465\n",
      "   macro avg       0.89      0.89      0.89      1465\n",
      "weighted avg       0.90      0.90      0.90      1465\n",
      "\n",
      "Directory /home/Minwoo/LESN/Decompose/DecomposeBERT/Models/Configs/pretrained/sadickam/sdg-classification-bert exists.\n",
      "Loading the model.\n",
      "Start Time:19:55:48\n",
      "#Module 10 in progress....\n",
      "origin\n",
      "Start Positive CI sparse\n",
      "Start Positive CI after sparse\n",
      "Start Negative TI\n",
      "[0, 1, 7, 8, 9, 12, 15]\n",
      "[2, 10, 14]\n",
      "[16, 9, 0, 0, 0, 0, 0, 8, 11, 16, 0, 0, 12, 0, 0, 16]\n",
      "[0, 0, 8, 0, 0, 0, 0, 0, 0, 0, 16, 0, 0, 0, 9, 0]\n",
      "10 3\n"
     ]
    },
    {
     "name": "stderr",
     "output_type": "stream",
     "text": [
      "Evaluating: 100%|██████████| 56/56 [00:39<00:00,  1.42it/s]\n"
     ]
    },
    {
     "name": "stdout",
     "output_type": "stream",
     "text": [
      "Loss: 0.3898\n",
      "Precision: 0.8853, Recall: 0.8848, F1-Score: 0.8850\n",
      "              precision    recall  f1-score   support\n",
      "\n",
      "           0       0.91      0.91      0.91      1110\n",
      "           1       0.86      0.86      0.86       670\n",
      "\n",
      "    accuracy                           0.89      1780\n",
      "   macro avg       0.89      0.88      0.89      1780\n",
      "weighted avg       0.89      0.89      0.89      1780\n",
      "\n",
      "Directory /home/Minwoo/LESN/Decompose/DecomposeBERT/Models/Configs/pretrained/sadickam/sdg-classification-bert exists.\n",
      "Loading the model.\n",
      "Start Time:19:57:40\n",
      "#Module 10 in progress....\n",
      "origin\n",
      "Start Positive CI sparse\n",
      "Start Positive CI after sparse\n",
      "Start Negative TI\n",
      "[0, 1, 2, 7, 8, 9, 12, 14, 15]\n",
      "[10, 5]\n",
      "[16, 11, 10, 0, 0, 0, 0, 10, 10, 16, 0, 0, 10, 0, 8, 16]\n",
      "[0, 0, 0, 0, 0, 10, 0, 0, 0, 0, 16, 0, 0, 0, 0, 0]\n",
      "10 4\n"
     ]
    },
    {
     "name": "stderr",
     "output_type": "stream",
     "text": [
      "Evaluating: 100%|██████████| 61/61 [00:42<00:00,  1.44it/s]\n"
     ]
    },
    {
     "name": "stdout",
     "output_type": "stream",
     "text": [
      "Loss: 0.3136\n",
      "Precision: 0.9052, Recall: 0.9066, F1-Score: 0.9059\n",
      "              precision    recall  f1-score   support\n",
      "\n",
      "           0       0.94      0.93      0.93      1260\n",
      "           1       0.87      0.88      0.88       670\n",
      "\n",
      "    accuracy                           0.91      1930\n",
      "   macro avg       0.91      0.91      0.91      1930\n",
      "weighted avg       0.91      0.91      0.91      1930\n",
      "\n",
      "Directory /home/Minwoo/LESN/Decompose/DecomposeBERT/Models/Configs/pretrained/sadickam/sdg-classification-bert exists.\n",
      "Loading the model.\n",
      "Start Time:19:59:06\n",
      "#Module 10 in progress....\n",
      "origin\n",
      "Start Positive CI sparse\n",
      "Start Positive CI after sparse\n",
      "Start Negative TI\n",
      "[0, 1, 2, 5, 9, 15]\n",
      "[8, 10]\n",
      "[16, 8, 10, 0, 0, 8, 0, 0, 0, 16, 0, 0, 0, 0, 0, 16]\n",
      "[0, 0, 0, 0, 0, 0, 0, 0, 14, 0, 16, 0, 0, 0, 0, 0]\n",
      "10 5\n"
     ]
    },
    {
     "name": "stderr",
     "output_type": "stream",
     "text": [
      "Evaluating: 100%|██████████| 49/49 [00:34<00:00,  1.43it/s]\n"
     ]
    },
    {
     "name": "stdout",
     "output_type": "stream",
     "text": [
      "Loss: 0.6305\n",
      "Precision: 0.8100, Recall: 0.8112, F1-Score: 0.7970\n",
      "              precision    recall  f1-score   support\n",
      "\n",
      "           0       0.92      0.71      0.80       882\n",
      "           1       0.70      0.91      0.80       670\n",
      "\n",
      "    accuracy                           0.80      1552\n",
      "   macro avg       0.81      0.81      0.80      1552\n",
      "weighted avg       0.82      0.80      0.80      1552\n",
      "\n",
      "Directory /home/Minwoo/LESN/Decompose/DecomposeBERT/Models/Configs/pretrained/sadickam/sdg-classification-bert exists.\n",
      "Loading the model.\n",
      "Start Time:20:00:43\n",
      "#Module 10 in progress....\n",
      "origin\n",
      "Start Positive CI sparse\n",
      "Start Positive CI after sparse\n",
      "Start Negative TI\n",
      "[0, 1, 2, 5, 7, 8, 9, 12, 15]\n",
      "[10, 14]\n",
      "[16, 10, 11, 0, 0, 8, 0, 11, 9, 16, 0, 0, 8, 0, 0, 16]\n",
      "[0, 0, 0, 0, 0, 0, 0, 0, 0, 0, 16, 0, 0, 0, 12, 0]\n",
      "10 6\n"
     ]
    },
    {
     "name": "stderr",
     "output_type": "stream",
     "text": [
      "Evaluating: 100%|██████████| 51/51 [00:29<00:00,  1.70it/s]\n"
     ]
    },
    {
     "name": "stdout",
     "output_type": "stream",
     "text": [
      "Loss: 0.9919\n",
      "Precision: 0.4729, Recall: 0.4876, F1-Score: 0.3732\n",
      "              precision    recall  f1-score   support\n",
      "\n",
      "           0       0.54      0.12      0.19       940\n",
      "           1       0.41      0.86      0.55       670\n",
      "\n",
      "    accuracy                           0.43      1610\n",
      "   macro avg       0.47      0.49      0.37      1610\n",
      "weighted avg       0.48      0.43      0.34      1610\n",
      "\n",
      "Directory /home/Minwoo/LESN/Decompose/DecomposeBERT/Models/Configs/pretrained/sadickam/sdg-classification-bert exists.\n",
      "Loading the model.\n",
      "Start Time:20:02:23\n",
      "#Module 10 in progress....\n",
      "origin\n",
      "Start Positive CI sparse\n",
      "Start Positive CI after sparse\n",
      "Start Negative TI\n",
      "[0, 1, 2, 9, 15]\n",
      "[8, 10, 12]\n",
      "[16, 8, 11, 0, 0, 0, 0, 0, 0, 16, 0, 0, 0, 0, 0, 16]\n",
      "[0, 0, 0, 0, 0, 0, 0, 0, 12, 0, 16, 0, 8, 0, 0, 0]\n",
      "10 7\n"
     ]
    },
    {
     "name": "stderr",
     "output_type": "stream",
     "text": [
      "Evaluating: 100%|██████████| 36/36 [00:10<00:00,  3.38it/s]\n"
     ]
    },
    {
     "name": "stdout",
     "output_type": "stream",
     "text": [
      "Loss: 0.6504\n",
      "Precision: 0.8087, Recall: 0.7927, F1-Score: 0.7979\n",
      "              precision    recall  f1-score   support\n",
      "\n",
      "           0       0.81      0.70      0.75       473\n",
      "           1       0.81      0.88      0.84       670\n",
      "\n",
      "    accuracy                           0.81      1143\n",
      "   macro avg       0.81      0.79      0.80      1143\n",
      "weighted avg       0.81      0.81      0.81      1143\n",
      "\n",
      "Directory /home/Minwoo/LESN/Decompose/DecomposeBERT/Models/Configs/pretrained/sadickam/sdg-classification-bert exists.\n",
      "Loading the model.\n",
      "Start Time:20:03:52\n",
      "#Module 10 in progress....\n",
      "origin\n",
      "Start Positive CI sparse\n",
      "Start Positive CI after sparse\n",
      "Start Negative TI\n",
      "[0, 1, 2, 7, 8, 9, 12, 15]\n",
      "[10, 13]\n",
      "[16, 8, 9, 0, 0, 0, 0, 12, 10, 16, 0, 0, 8, 0, 0, 16]\n",
      "[0, 0, 0, 0, 0, 0, 0, 0, 0, 0, 16, 0, 0, 8, 0, 0]\n",
      "10 8\n"
     ]
    },
    {
     "name": "stderr",
     "output_type": "stream",
     "text": [
      "Evaluating: 100%|██████████| 45/45 [00:33<00:00,  1.34it/s]\n"
     ]
    },
    {
     "name": "stdout",
     "output_type": "stream",
     "text": [
      "Loss: 0.5020\n",
      "Precision: 0.8227, Recall: 0.8235, F1-Score: 0.8220\n",
      "              precision    recall  f1-score   support\n",
      "\n",
      "           0       0.86      0.80      0.82       746\n",
      "           1       0.79      0.85      0.82       670\n",
      "\n",
      "    accuracy                           0.82      1416\n",
      "   macro avg       0.82      0.82      0.82      1416\n",
      "weighted avg       0.82      0.82      0.82      1416\n",
      "\n",
      "Directory /home/Minwoo/LESN/Decompose/DecomposeBERT/Models/Configs/pretrained/sadickam/sdg-classification-bert exists.\n",
      "Loading the model.\n",
      "Start Time:20:05:31\n",
      "#Module 10 in progress....\n",
      "origin\n",
      "Start Positive CI sparse\n",
      "Start Positive CI after sparse\n",
      "Start Negative TI\n",
      "[0, 2, 7, 8, 9, 15]\n",
      "[10, 12]\n",
      "[16, 0, 15, 0, 0, 0, 0, 10, 11, 16, 0, 0, 0, 0, 0, 16]\n",
      "[0, 0, 0, 0, 0, 0, 0, 0, 0, 0, 16, 0, 9, 0, 0, 0]\n",
      "10 9\n"
     ]
    },
    {
     "name": "stderr",
     "output_type": "stream",
     "text": [
      "Evaluating: 100%|██████████| 43/43 [00:26<00:00,  1.65it/s]\n"
     ]
    },
    {
     "name": "stdout",
     "output_type": "stream",
     "text": [
      "Loss: 0.2799\n",
      "Precision: 0.9204, Recall: 0.9162, F1-Score: 0.9166\n",
      "              precision    recall  f1-score   support\n",
      "\n",
      "           0       0.89      0.96      0.92       689\n",
      "           1       0.96      0.87      0.91       670\n",
      "\n",
      "    accuracy                           0.92      1359\n",
      "   macro avg       0.92      0.92      0.92      1359\n",
      "weighted avg       0.92      0.92      0.92      1359\n",
      "\n",
      "Directory /home/Minwoo/LESN/Decompose/DecomposeBERT/Models/Configs/pretrained/sadickam/sdg-classification-bert exists.\n",
      "Loading the model.\n",
      "Start Time:20:06:47\n",
      "#Module 10 in progress....\n",
      "origin\n",
      "Start Positive CI sparse\n",
      "Start Positive CI after sparse\n",
      "Start Negative TI\n",
      "[0, 1, 2, 7, 8, 9, 12, 13, 15]\n",
      "[10, 5, 14]\n",
      "[16, 8, 9, 0, 0, 0, 0, 11, 14, 16, 0, 0, 10, 8, 0, 16]\n",
      "[0, 0, 0, 0, 0, 9, 0, 0, 0, 0, 16, 0, 0, 0, 8, 0]\n",
      "10 11\n"
     ]
    },
    {
     "name": "stderr",
     "output_type": "stream",
     "text": [
      "Evaluating: 100%|██████████| 31/31 [00:12<00:00,  2.47it/s]\n"
     ]
    },
    {
     "name": "stdout",
     "output_type": "stream",
     "text": [
      "Loss: 0.9026\n",
      "Precision: 0.4932, Recall: 0.4969, F1-Score: 0.4639\n",
      "              precision    recall  f1-score   support\n",
      "\n",
      "           0       0.31      0.11      0.16       312\n",
      "           1       0.68      0.89      0.77       670\n",
      "\n",
      "    accuracy                           0.64       982\n",
      "   macro avg       0.49      0.50      0.46       982\n",
      "weighted avg       0.56      0.64      0.58       982\n",
      "\n",
      "Directory /home/Minwoo/LESN/Decompose/DecomposeBERT/Models/Configs/pretrained/sadickam/sdg-classification-bert exists.\n",
      "Loading the model.\n",
      "Start Time:20:08:07\n",
      "#Module 10 in progress....\n",
      "origin\n",
      "Start Positive CI sparse\n",
      "Start Positive CI after sparse\n",
      "Start Negative TI\n",
      "[0, 1, 7, 9, 12, 15]\n",
      "[2, 10]\n",
      "[16, 10, 0, 0, 0, 0, 0, 8, 0, 16, 0, 0, 11, 0, 0, 16]\n",
      "[0, 0, 10, 0, 0, 0, 0, 0, 0, 0, 16, 0, 0, 0, 0, 0]\n",
      "10 12\n"
     ]
    },
    {
     "name": "stderr",
     "output_type": "stream",
     "text": [
      "Evaluating: 100%|██████████| 42/42 [00:16<00:00,  2.57it/s]\n"
     ]
    },
    {
     "name": "stdout",
     "output_type": "stream",
     "text": [
      "Loss: 0.3828\n",
      "Precision: 0.8610, Recall: 0.8606, F1-Score: 0.8606\n",
      "              precision    recall  f1-score   support\n",
      "\n",
      "           0       0.87      0.85      0.86       665\n",
      "           1       0.85      0.88      0.86       670\n",
      "\n",
      "    accuracy                           0.86      1335\n",
      "   macro avg       0.86      0.86      0.86      1335\n",
      "weighted avg       0.86      0.86      0.86      1335\n",
      "\n",
      "Directory /home/Minwoo/LESN/Decompose/DecomposeBERT/Models/Configs/pretrained/sadickam/sdg-classification-bert exists.\n",
      "Loading the model.\n",
      "Start Time:20:09:32\n",
      "#Module 10 in progress....\n",
      "origin\n",
      "Start Positive CI sparse\n",
      "Start Positive CI after sparse\n",
      "Start Negative TI\n",
      "[0, 1, 2, 7, 8, 9, 12, 15]\n",
      "[10, 5]\n",
      "[16, 8, 11, 0, 0, 0, 0, 8, 9, 16, 0, 0, 9, 0, 0, 16]\n",
      "[0, 0, 0, 0, 0, 10, 0, 0, 0, 0, 16, 0, 0, 0, 0, 0]\n",
      "10 13\n"
     ]
    },
    {
     "name": "stderr",
     "output_type": "stream",
     "text": [
      "Evaluating: 100%|██████████| 31/31 [00:15<00:00,  2.02it/s]\n"
     ]
    },
    {
     "name": "stdout",
     "output_type": "stream",
     "text": [
      "Loss: 0.5314\n",
      "Precision: 0.6649, Recall: 0.6287, F1-Score: 0.6359\n",
      "              precision    recall  f1-score   support\n",
      "\n",
      "           0       0.58      0.39      0.47       314\n",
      "           1       0.75      0.87      0.80       670\n",
      "\n",
      "    accuracy                           0.71       984\n",
      "   macro avg       0.66      0.63      0.64       984\n",
      "weighted avg       0.70      0.71      0.70       984\n",
      "\n",
      "Directory /home/Minwoo/LESN/Decompose/DecomposeBERT/Models/Configs/pretrained/sadickam/sdg-classification-bert exists.\n",
      "Loading the model.\n",
      "Start Time:20:10:55\n",
      "#Module 10 in progress....\n",
      "origin\n",
      "Start Positive CI sparse\n",
      "Start Positive CI after sparse\n",
      "Start Negative TI\n",
      "[0, 7, 8, 9, 12, 15]\n",
      "[2, 10]\n",
      "[16, 0, 0, 0, 0, 0, 0, 10, 15, 16, 0, 0, 9, 0, 0, 16]\n",
      "[0, 0, 10, 0, 0, 0, 0, 0, 0, 0, 16, 0, 0, 0, 0, 0]\n",
      "10 14\n"
     ]
    },
    {
     "name": "stderr",
     "output_type": "stream",
     "text": [
      "Evaluating: 100%|██████████| 45/45 [00:25<00:00,  1.79it/s]\n"
     ]
    },
    {
     "name": "stdout",
     "output_type": "stream",
     "text": [
      "Loss: 1.4619\n",
      "Precision: 0.4352, Recall: 0.4732, F1-Score: 0.3717\n",
      "              precision    recall  f1-score   support\n",
      "\n",
      "           0       0.42      0.09      0.15       756\n",
      "           1       0.45      0.86      0.59       670\n",
      "\n",
      "    accuracy                           0.45      1426\n",
      "   macro avg       0.44      0.47      0.37      1426\n",
      "weighted avg       0.43      0.45      0.36      1426\n",
      "\n",
      "Directory /home/Minwoo/LESN/Decompose/DecomposeBERT/Models/Configs/pretrained/sadickam/sdg-classification-bert exists.\n",
      "Loading the model.\n",
      "Start Time:20:12:27\n",
      "#Module 10 in progress....\n",
      "origin\n",
      "Start Positive CI sparse\n",
      "Start Positive CI after sparse\n",
      "Start Negative TI\n",
      "[0, 1, 2, 7, 8, 9, 12, 15]\n",
      "[10]\n",
      "[16, 12, 9, 0, 0, 0, 0, 10, 10, 16, 0, 0, 9, 0, 0, 16]\n",
      "[0, 0, 0, 0, 0, 0, 0, 0, 0, 0, 16, 0, 0, 0, 0, 0]\n",
      "10 15\n"
     ]
    },
    {
     "name": "stderr",
     "output_type": "stream",
     "text": [
      "Evaluating: 100%|██████████| 72/72 [00:44<00:00,  1.62it/s]\n"
     ]
    },
    {
     "name": "stdout",
     "output_type": "stream",
     "text": [
      "Loss: 0.1301\n",
      "Precision: 0.9669, Recall: 0.9419, F1-Score: 0.9533\n",
      "              precision    recall  f1-score   support\n",
      "\n",
      "           0       0.96      0.99      0.97      1607\n",
      "           1       0.98      0.89      0.93       670\n",
      "\n",
      "    accuracy                           0.96      2277\n",
      "   macro avg       0.97      0.94      0.95      2277\n",
      "weighted avg       0.96      0.96      0.96      2277\n",
      "\n",
      "Directory /home/Minwoo/LESN/Decompose/DecomposeBERT/Models/Configs/pretrained/sadickam/sdg-classification-bert exists.\n",
      "Loading the model.\n",
      "Start Time:20:14:10\n",
      "#Module 11 in progress....\n",
      "origin\n",
      "Start Positive CI sparse\n",
      "Start Positive CI after sparse\n",
      "Start Negative TI\n",
      "[0, 1, 2, 7, 8, 9, 10, 12, 15]\n",
      "[11, 13]\n",
      "[16, 8, 8, 0, 0, 0, 0, 12, 15, 16, 15, 0, 9, 0, 0, 16]\n",
      "[0, 0, 0, 0, 0, 0, 0, 0, 0, 0, 0, 16, 0, 13, 0, 0]\n",
      "11 0\n"
     ]
    },
    {
     "name": "stderr",
     "output_type": "stream",
     "text": [
      "Evaluating: 100%|██████████| 35/35 [00:24<00:00,  1.45it/s]\n"
     ]
    },
    {
     "name": "stdout",
     "output_type": "stream",
     "text": [
      "Loss: 0.0937\n",
      "Precision: 0.9624, Recall: 0.9569, F1-Score: 0.9596\n",
      "              precision    recall  f1-score   support\n",
      "\n",
      "           0       0.97      0.98      0.98       797\n",
      "           1       0.95      0.93      0.94       312\n",
      "\n",
      "    accuracy                           0.97      1109\n",
      "   macro avg       0.96      0.96      0.96      1109\n",
      "weighted avg       0.97      0.97      0.97      1109\n",
      "\n",
      "Directory /home/Minwoo/LESN/Decompose/DecomposeBERT/Models/Configs/pretrained/sadickam/sdg-classification-bert exists.\n",
      "Loading the model.\n",
      "Start Time:20:15:38\n",
      "#Module 11 in progress....\n",
      "origin\n",
      "Start Positive CI sparse\n",
      "Start Positive CI after sparse\n",
      "Start Negative TI\n",
      "[0, 1, 2, 7, 8, 9, 10, 12, 15]\n",
      "[11, 14]\n",
      "[16, 10, 8, 0, 0, 0, 0, 12, 11, 16, 13, 0, 9, 0, 0, 16]\n",
      "[0, 0, 0, 0, 0, 0, 0, 0, 0, 0, 0, 16, 0, 0, 8, 0]\n",
      "11 1\n"
     ]
    },
    {
     "name": "stderr",
     "output_type": "stream",
     "text": [
      "Evaluating: 100%|██████████| 34/34 [00:27<00:00,  1.22it/s]\n"
     ]
    },
    {
     "name": "stdout",
     "output_type": "stream",
     "text": [
      "Loss: 0.4995\n",
      "Precision: 0.8000, Recall: 0.8583, F1-Score: 0.8094\n",
      "              precision    recall  f1-score   support\n",
      "\n",
      "           0       0.97      0.78      0.86       775\n",
      "           1       0.63      0.94      0.75       312\n",
      "\n",
      "    accuracy                           0.83      1087\n",
      "   macro avg       0.80      0.86      0.81      1087\n",
      "weighted avg       0.87      0.83      0.83      1087\n",
      "\n",
      "Directory /home/Minwoo/LESN/Decompose/DecomposeBERT/Models/Configs/pretrained/sadickam/sdg-classification-bert exists.\n",
      "Loading the model.\n",
      "Start Time:20:17:06\n",
      "#Module 11 in progress....\n",
      "origin\n",
      "Start Positive CI sparse\n",
      "Start Positive CI after sparse\n",
      "Start Negative TI\n",
      "[0, 1, 2, 5, 7, 8, 9, 10, 12, 13, 15]\n",
      "[11, 14]\n",
      "[15, 11, 10, 0, 0, 10, 0, 13, 14, 16, 16, 0, 12, 8, 0, 16]\n",
      "[0, 0, 0, 0, 0, 0, 0, 0, 0, 0, 0, 16, 0, 0, 8, 0]\n",
      "11 2\n"
     ]
    },
    {
     "name": "stderr",
     "output_type": "stream",
     "text": [
      "Evaluating: 100%|██████████| 35/35 [00:28<00:00,  1.23it/s]\n"
     ]
    },
    {
     "name": "stdout",
     "output_type": "stream",
     "text": [
      "Loss: 0.2418\n",
      "Precision: 0.9105, Recall: 0.9336, F1-Score: 0.9209\n",
      "              precision    recall  f1-score   support\n",
      "\n",
      "           0       0.97      0.93      0.95       795\n",
      "           1       0.85      0.93      0.89       312\n",
      "\n",
      "    accuracy                           0.93      1107\n",
      "   macro avg       0.91      0.93      0.92      1107\n",
      "weighted avg       0.94      0.93      0.93      1107\n",
      "\n",
      "Directory /home/Minwoo/LESN/Decompose/DecomposeBERT/Models/Configs/pretrained/sadickam/sdg-classification-bert exists.\n",
      "Loading the model.\n",
      "Start Time:20:18:24\n",
      "#Module 11 in progress....\n",
      "origin\n",
      "Start Positive CI sparse\n",
      "Start Positive CI after sparse\n",
      "Start Negative TI\n",
      "[0, 1, 2, 7, 8, 9, 10, 12, 15]\n",
      "[11, 13, 14]\n",
      "[16, 11, 8, 0, 0, 0, 0, 12, 12, 16, 15, 0, 8, 0, 0, 16]\n",
      "[0, 0, 0, 0, 0, 0, 0, 0, 0, 0, 0, 16, 0, 8, 12, 0]\n",
      "11 3\n"
     ]
    },
    {
     "name": "stderr",
     "output_type": "stream",
     "text": [
      "Evaluating: 100%|██████████| 45/45 [00:35<00:00,  1.28it/s]\n"
     ]
    },
    {
     "name": "stdout",
     "output_type": "stream",
     "text": [
      "Loss: 0.1876\n",
      "Precision: 0.9466, Recall: 0.9537, F1-Score: 0.9501\n",
      "              precision    recall  f1-score   support\n",
      "\n",
      "           0       0.98      0.97      0.98      1110\n",
      "           1       0.91      0.93      0.92       312\n",
      "\n",
      "    accuracy                           0.97      1422\n",
      "   macro avg       0.95      0.95      0.95      1422\n",
      "weighted avg       0.97      0.97      0.97      1422\n",
      "\n",
      "Directory /home/Minwoo/LESN/Decompose/DecomposeBERT/Models/Configs/pretrained/sadickam/sdg-classification-bert exists.\n",
      "Loading the model.\n",
      "Start Time:20:20:05\n",
      "#Module 11 in progress....\n",
      "origin\n",
      "Start Positive CI sparse\n",
      "Start Positive CI after sparse\n",
      "Start Negative TI\n",
      "[0, 1, 2, 7, 8, 9, 10, 12, 15]\n",
      "[11, 6]\n",
      "[15, 8, 8, 0, 0, 0, 0, 14, 12, 16, 15, 0, 8, 0, 0, 16]\n",
      "[0, 0, 0, 0, 0, 0, 9, 0, 0, 0, 0, 16, 0, 0, 0, 0]\n",
      "11 4\n"
     ]
    },
    {
     "name": "stderr",
     "output_type": "stream",
     "text": [
      "Evaluating: 100%|██████████| 50/50 [00:41<00:00,  1.19it/s]\n"
     ]
    },
    {
     "name": "stdout",
     "output_type": "stream",
     "text": [
      "Loss: 0.2301\n",
      "Precision: 0.9250, Recall: 0.9557, F1-Score: 0.9393\n",
      "              precision    recall  f1-score   support\n",
      "\n",
      "           0       0.99      0.96      0.97      1260\n",
      "           1       0.86      0.95      0.90       312\n",
      "\n",
      "    accuracy                           0.96      1572\n",
      "   macro avg       0.92      0.96      0.94      1572\n",
      "weighted avg       0.96      0.96      0.96      1572\n",
      "\n",
      "Directory /home/Minwoo/LESN/Decompose/DecomposeBERT/Models/Configs/pretrained/sadickam/sdg-classification-bert exists.\n",
      "Loading the model.\n",
      "Start Time:20:21:41\n",
      "#Module 11 in progress....\n",
      "origin\n",
      "Start Positive CI sparse\n",
      "Start Positive CI after sparse\n",
      "Start Negative TI\n"
     ]
    },
    {
     "ename": "KeyboardInterrupt",
     "evalue": "",
     "output_type": "error",
     "traceback": [
      "\u001b[0;31m---------------------------------------------------------------------------\u001b[0m",
      "\u001b[0;31mKeyboardInterrupt\u001b[0m                         Traceback (most recent call last)",
      "Cell \u001b[0;32mIn[2], line 95\u001b[0m\n\u001b[1;32m     92\u001b[0m     t \u001b[38;5;241m=\u001b[39m ti1\u001b[38;5;241m.\u001b[39mpropagate(module1, input_ids)\n\u001b[1;32m     93\u001b[0m \u001b[38;5;28;01mfor\u001b[39;00m num \u001b[38;5;129;01min\u001b[39;00m \u001b[38;5;28mrange\u001b[39m(config\u001b[38;5;241m.\u001b[39mnum_hidden_layers):\n\u001b[1;32m     94\u001b[0m     ff1[num]\u001b[38;5;241m.\u001b[39mappend(\n\u001b[0;32m---> 95\u001b[0m         \u001b[43mtorch\u001b[49m\u001b[38;5;241;43m.\u001b[39;49m\u001b[43msum\u001b[49m\u001b[43m(\u001b[49m\n\u001b[1;32m     96\u001b[0m \u001b[43m            \u001b[49m\u001b[43mmodule1\u001b[49m\u001b[38;5;241;43m.\u001b[39;49m\u001b[43mbert\u001b[49m\u001b[38;5;241;43m.\u001b[39;49m\u001b[43mencoder\u001b[49m\u001b[38;5;241;43m.\u001b[39;49m\u001b[43mlayer\u001b[49m\u001b[43m[\u001b[49m\u001b[43mnum\u001b[49m\u001b[43m]\u001b[49m\u001b[38;5;241;43m.\u001b[39;49m\u001b[43mintermediate\u001b[49m\u001b[38;5;241;43m.\u001b[39;49m\u001b[43mdense\u001b[49m\u001b[38;5;241;43m.\u001b[39;49m\u001b[43mweight\u001b[49m\u001b[43m \u001b[49m\u001b[38;5;241;43m!=\u001b[39;49m\u001b[43m \u001b[49m\u001b[38;5;241;43m0\u001b[39;49m\n\u001b[1;32m     97\u001b[0m \u001b[43m        \u001b[49m\u001b[43m)\u001b[49m\u001b[38;5;241;43m.\u001b[39;49m\u001b[43mitem\u001b[49m\u001b[43m(\u001b[49m\u001b[43m)\u001b[49m\n\u001b[1;32m     98\u001b[0m     )\n\u001b[1;32m     99\u001b[0m     ff2[num]\u001b[38;5;241m.\u001b[39mappend(\n\u001b[1;32m    100\u001b[0m         torch\u001b[38;5;241m.\u001b[39msum(\n\u001b[1;32m    101\u001b[0m             module1\u001b[38;5;241m.\u001b[39mbert\u001b[38;5;241m.\u001b[39mencoder\u001b[38;5;241m.\u001b[39mlayer[num]\u001b[38;5;241m.\u001b[39moutput\u001b[38;5;241m.\u001b[39mdense\u001b[38;5;241m.\u001b[39mweight \u001b[38;5;241m!=\u001b[39m \u001b[38;5;241m0\u001b[39m\n\u001b[1;32m    102\u001b[0m         )\u001b[38;5;241m.\u001b[39mitem()\n\u001b[1;32m    103\u001b[0m     )\n\u001b[1;32m    104\u001b[0m pooler\u001b[38;5;241m.\u001b[39mappend(torch\u001b[38;5;241m.\u001b[39msum(module1\u001b[38;5;241m.\u001b[39mbert\u001b[38;5;241m.\u001b[39mpooler\u001b[38;5;241m.\u001b[39mdense\u001b[38;5;241m.\u001b[39mweight \u001b[38;5;241m!=\u001b[39m \u001b[38;5;241m0\u001b[39m)\u001b[38;5;241m.\u001b[39mitem())\n",
      "\u001b[0;31mKeyboardInterrupt\u001b[0m: "
     ]
    }
   ],
   "source": [
    "for i in range(num_labels):\n",
    "    model, tokenizer, checkpoint = load_classification_model(model_config, train_mode=False)\n",
    "\n",
    "    train_dataloader, valid_dataloader, test_dataloader = load_data(\n",
    "        model_config, batch_size=32, test_size=0.3\n",
    "    )\n",
    "    print(\"Start Time:\" + datetime.now().strftime(\"%H:%M:%S\"))\n",
    "    print(\"#Module \" + str(i) + \" in progress....\")\n",
    "    num_samples = 64\n",
    "    \n",
    "    positive_samples = sampling_class(\n",
    "        train_dataloader, i, num_samples, num_labels, True, 4, device=device\n",
    "    )\n",
    "    negative_samples = sampling_class(\n",
    "        train_dataloader, i, num_samples, num_labels, False, 4, device=device\n",
    "    )\n",
    "    \n",
    "    all_samples = sampling_class(\n",
    "        train_dataloader, 200, 20, num_labels, False, 4, device=device\n",
    "    )\n",
    "    \n",
    "    module1 = copy.deepcopy(model)\n",
    "    w = WeightRemoverBert(model, p=0.9)\n",
    "    ci1 = ConcernIdentificationBert(model, p=0.4)\n",
    "    ti1 = TanglingIdentification(model, p=0.5)\n",
    "    \n",
    "    ff1 = [\n",
    "        [torch.sum(model.bert.encoder.layer[num].intermediate.dense.weight != 0).item()]\n",
    "        for num in range(config.num_hidden_layers)\n",
    "    ]\n",
    "    ff2 = [\n",
    "        [torch.sum(model.bert.encoder.layer[num].output.dense.weight != 0).item()]\n",
    "        for num in range(config.num_hidden_layers)\n",
    "    ]\n",
    "    pooler = [torch.sum(model.bert.pooler.dense.weight != 0).item()]\n",
    "    classifier = [torch.sum(model.classifier.weight != 0).item()]\n",
    "    print(\"origin\")\n",
    "    # result = evaluate_model(model, model_config, test_dataloader)\n",
    "    \n",
    "    print(\"Start Positive CI sparse\")\n",
    "    \n",
    "    for batch in all_samples:\n",
    "        input_ids, attn_mask, _, total_sampled = batch\n",
    "        with torch.no_grad():\n",
    "            t1 = w.propagate(module1, input_ids)\n",
    "        for num in range(config.num_hidden_layers):\n",
    "            ff1[num].append(\n",
    "                torch.sum(\n",
    "                    module1.bert.encoder.layer[num].intermediate.dense.weight != 0\n",
    "                ).item()\n",
    "            )\n",
    "            ff2[num].append(\n",
    "                torch.sum(\n",
    "                    module1.bert.encoder.layer[num].output.dense.weight != 0\n",
    "                ).item()\n",
    "            )\n",
    "        pooler.append(torch.sum(module1.bert.pooler.dense.weight != 0).item())\n",
    "        classifier.append(torch.sum(module1.classifier.weight != 0).item())\n",
    "    \n",
    "        # result = evaluate_model(module1, model_config, test_dataloader)\n",
    "    \n",
    "    print(\"Start Positive CI after sparse\")\n",
    "    \n",
    "    for batch in positive_samples:\n",
    "        input_ids, attn_mask, _, total_sampled = batch\n",
    "        with torch.no_grad():\n",
    "            t1 = ci1.propagate(module1, input_ids)\n",
    "        for num in range(config.num_hidden_layers):\n",
    "            ff1[num].append(\n",
    "                torch.sum(\n",
    "                    module1.bert.encoder.layer[num].intermediate.dense.weight != 0\n",
    "                ).item()\n",
    "            )\n",
    "            ff2[num].append(\n",
    "                torch.sum(\n",
    "                    module1.bert.encoder.layer[num].output.dense.weight != 0\n",
    "                ).item()\n",
    "            )\n",
    "        pooler.append(torch.sum(module1.bert.pooler.dense.weight != 0).item())\n",
    "        classifier.append(torch.sum(module1.classifier.weight != 0).item())\n",
    "    \n",
    "        # result = evaluate_model(module1, model_config, test_dataloader)\n",
    "    \n",
    "    print(\"Start Negative TI\")\n",
    "    \n",
    "    for batch in negative_samples:\n",
    "        input_ids, attn_mask, _, total_sampled = batch\n",
    "        with torch.no_grad():\n",
    "            t = ti1.propagate(module1, input_ids)\n",
    "        for num in range(config.num_hidden_layers):\n",
    "            ff1[num].append(\n",
    "                torch.sum(\n",
    "                    module1.bert.encoder.layer[num].intermediate.dense.weight != 0\n",
    "                ).item()\n",
    "            )\n",
    "            ff2[num].append(\n",
    "                torch.sum(\n",
    "                    module1.bert.encoder.layer[num].output.dense.weight != 0\n",
    "                ).item()\n",
    "            )\n",
    "        pooler.append(torch.sum(module1.bert.pooler.dense.weight != 0).item())\n",
    "        classifier.append(torch.sum(module1.classifier.weight != 0).item())\n",
    "        # result = evaluate_model(module1, model_config, test_dataloader)\n",
    "\n",
    "    collected_input_ids = []\n",
    "    collected_attention_mask = []\n",
    "    collected_labels = []\n",
    "    count = 0\n",
    "    \n",
    "    for batch in test_dataloader:\n",
    "        if count >= 100:\n",
    "            break\n",
    "    \n",
    "        input_ids = batch[\"input_ids\"].to(model_config.device)\n",
    "        attention_mask = batch[\"attention_mask\"].to(model_config.device)\n",
    "        labels = batch[\"labels\"].to(model_config.device)\n",
    "    \n",
    "        # Add data to lists\n",
    "        collected_input_ids.append(input_ids)\n",
    "        collected_attention_mask.append(attention_mask)\n",
    "        collected_labels.append(labels)\n",
    "    \n",
    "        # Increment the count by the batch size\n",
    "        count += input_ids.size(0)\n",
    "    \n",
    "    converted_train_dataloader = extract_and_convert_dataloader(train_dataloader, i, m)\n",
    "    converted_valid_dataloader = extract_and_convert_dataloader(valid_dataloader, i, m)\n",
    "    converted_test_dataloader = extract_and_convert_dataloader(test_dataloader, i, m)\n",
    "    \n",
    "    module2 = pppp(module1, ci1, ti1, model_config)\n",
    "    print(i, m)\n",
    "    result = evaluate_model(module2, model_config, converted_test_dataloader)\n"
   ]
  }
 ],
 "metadata": {
  "kernelspec": {
   "display_name": "Python 3 (ipykernel)",
   "language": "python",
   "name": "python3"
  },
  "language_info": {
   "codemirror_mode": {
    "name": "ipython",
    "version": 3
   },
   "file_extension": ".py",
   "mimetype": "text/x-python",
   "name": "python",
   "nbconvert_exporter": "python",
   "pygments_lexer": "ipython3",
   "version": "3.8.18"
  }
 },
 "nbformat": 4,
 "nbformat_minor": 5
}
