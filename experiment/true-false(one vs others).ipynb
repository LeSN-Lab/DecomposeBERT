{
 "cells": [
  {
   "cell_type": "code",
   "execution_count": 1,
   "id": "8fb3adee-b6a8-41a4-a5c6-451fc0a3b0c6",
   "metadata": {},
   "outputs": [],
   "source": [
    "import copy\n",
    "import os.path\n",
    "import sys\n",
    "\n",
    "pwd = os.getcwd()\n",
    "sys.path.append(os.path.dirname(pwd))\n",
    "\n",
    "from utils.model_utils.evaluate import evaluate_model\n",
    "from utils.model_utils.load_model import *\n",
    "from utils.model_utils.model_config import ModelConfig\n",
    "from utils.dataset_utils.load_dataset import load_data\n",
    "from utils.decompose_utils.weight_remover import WeightRemoverBert\n",
    "from utils.decompose_utils.concern_identification import ConcernIdentificationBert\n",
    "from utils.decompose_utils.tangling_identification import TanglingIdentification\n",
    "from transformers import AutoConfig\n",
    "from utils.model_utils.save_module import save_module\n",
    "from datetime import datetime\n",
    "from utils.decompose_utils.concern_modularization import ConcernModularizationBert\n",
    "from utils.decompose_utils.sampling import sampling_class\n",
    "from utils.dataset_utils.load_dataset import convert_dataset_labels_to_binary, extract_and_convert_dataloader\n",
    "import torch\n"
   ]
  },
  {
   "cell_type": "code",
   "execution_count": 2,
   "id": "d7afe56f-8008-4c64-8a48-49b3965aa7e4",
   "metadata": {},
   "outputs": [],
   "source": [
    "model_name = \"sadickam/sdg-classification-bert\"\n",
    "model_type = \"pretrained\"\n",
    "data = \"OSDG\"\n",
    "num_labels = 16\n",
    "\n",
    "\n",
    "# model_name = \"textattack/bert-base-uncased-imdb\"\n",
    "# model_type = \"pretrained\"\n",
    "# data = \"IMDb\"\n",
    "# num_labels = 2\n",
    "\n",
    "# model_name = \"fabriceyhc/bert-base-uncased-yahoo_answers_topics\"\n",
    "# model_type = \"pretrained\"\n",
    "# data = \"Yahoo\"\n",
    "# num_labels = 10"
   ]
  },
  {
   "cell_type": "code",
   "execution_count": 3,
   "id": "0bbf7f78-d3d8-487f-bf64-fec60116c64d",
   "metadata": {},
   "outputs": [],
   "source": [
    "device = torch.device(\"cuda:0\" if torch.cuda.is_available() else \"cpu\")\n",
    "# device = torch.device(\"cuda:1\" if torch.cuda.is_available() else \"cpu\")\n",
    "\n",
    "checkpoint_name = None\n",
    "config = AutoConfig.from_pretrained(model_name, num_labels=num_labels)\n",
    "model_config = ModelConfig(\n",
    "    _model_name=model_name,\n",
    "    _model_type=model_type,\n",
    "    _data=data,\n",
    "    _transformer_config=config,\n",
    "    _checkpoint_name=checkpoint_name,\n",
    "    _device=device,\n",
    ")\n"
   ]
  },
  {
   "cell_type": "code",
   "execution_count": 4,
   "id": "d1711493-8f25-4305-b4f7-e59673d56956",
   "metadata": {},
   "outputs": [
    {
     "name": "stdout",
     "output_type": "stream",
     "text": [
      "Directory /home/Minwoo/LESN/Decompose/DecomposeBERT/Models/Configs/pretrained/sadickam/sdg-classification-bert exists.\n",
      "Loading the model.\n",
      "Start Time:22:23:45\n",
      "#Module 0 in progress....\n",
      "origin\n"
     ]
    },
    {
     "name": "stderr",
     "output_type": "stream",
     "text": [
      "Evaluating: 100%|██████████| 400/400 [03:19<00:00,  2.00it/s]\n"
     ]
    },
    {
     "name": "stdout",
     "output_type": "stream",
     "text": [
      "Loss: 0.9480\n",
      "Precision: 0.7801, Recall: 0.7867, F1-Score: 0.7793\n",
      "              precision    recall  f1-score   support\n",
      "\n",
      "           0       0.77      0.66      0.71       797\n",
      "           1       0.84      0.72      0.78       775\n",
      "           2       0.88      0.87      0.88       795\n",
      "           3       0.87      0.83      0.85      1110\n",
      "           4       0.86      0.80      0.83      1260\n",
      "           5       0.88      0.69      0.77       882\n",
      "           6       0.85      0.80      0.83       940\n",
      "           7       0.49      0.61      0.54       473\n",
      "           8       0.66      0.85      0.74       746\n",
      "           9       0.62      0.73      0.67       689\n",
      "          10       0.75      0.79      0.77       670\n",
      "          11       0.62      0.81      0.70       312\n",
      "          12       0.73      0.81      0.77       665\n",
      "          13       0.83      0.85      0.84       314\n",
      "          14       0.85      0.78      0.81       756\n",
      "          15       0.97      0.98      0.97      1607\n",
      "\n",
      "    accuracy                           0.80     12791\n",
      "   macro avg       0.78      0.79      0.78     12791\n",
      "weighted avg       0.81      0.80      0.80     12791\n",
      "\n",
      "Start Positive CI sparse\n",
      "Start Positive CI after sparse\n",
      "Start Negative TI\n",
      "dead node \n",
      "[1, 2, 7, 9, 10, 12, 15]\n",
      "active node \n",
      "[0, 1, 2, 3, 7, 9, 10, 15]\n",
      "weight factor \n",
      "[0, 10, 10, 0, 0, 0, 0, 11, 0, 16, 10, 0, 12, 0, 0, 16]\n",
      "weight factor \n",
      "[16, 10, 15, 8, 0, 0, 0, 16, 0, 16, 10, 0, 0, 0, 0, 14]\n"
     ]
    },
    {
     "name": "stderr",
     "output_type": "stream",
     "text": [
      "Evaluating: 100%|██████████| 50/50 [00:20<00:00,  2.43it/s]\n"
     ]
    },
    {
     "name": "stdout",
     "output_type": "stream",
     "text": [
      "Loss: 0.5161\n",
      "Precision: 0.8068, Recall: 0.7604, F1-Score: 0.7509\n",
      "              precision    recall  f1-score   support\n",
      "\n",
      "           0       0.93      0.57      0.70       797\n",
      "           1       0.69      0.95      0.80       797\n",
      "\n",
      "    accuracy                           0.76      1594\n",
      "   macro avg       0.81      0.76      0.75      1594\n",
      "weighted avg       0.81      0.76      0.75      1594\n",
      "\n",
      "Directory /home/Minwoo/LESN/Decompose/DecomposeBERT/Models/Configs/pretrained/sadickam/sdg-classification-bert exists.\n",
      "Loading the model.\n",
      "Start Time:22:28:18\n",
      "#Module 1 in progress....\n",
      "origin\n"
     ]
    },
    {
     "name": "stderr",
     "output_type": "stream",
     "text": [
      "Evaluating: 100%|██████████| 400/400 [04:08<00:00,  1.61it/s]\n"
     ]
    },
    {
     "name": "stdout",
     "output_type": "stream",
     "text": [
      "Loss: 0.9480\n",
      "Precision: 0.7801, Recall: 0.7867, F1-Score: 0.7793\n",
      "              precision    recall  f1-score   support\n",
      "\n",
      "           0       0.77      0.66      0.71       797\n",
      "           1       0.84      0.72      0.78       775\n",
      "           2       0.88      0.87      0.88       795\n",
      "           3       0.87      0.83      0.85      1110\n",
      "           4       0.86      0.80      0.83      1260\n",
      "           5       0.88      0.69      0.77       882\n",
      "           6       0.85      0.80      0.83       940\n",
      "           7       0.49      0.61      0.54       473\n",
      "           8       0.66      0.85      0.74       746\n",
      "           9       0.62      0.73      0.67       689\n",
      "          10       0.75      0.79      0.77       670\n",
      "          11       0.62      0.81      0.70       312\n",
      "          12       0.73      0.81      0.77       665\n",
      "          13       0.83      0.85      0.84       314\n",
      "          14       0.85      0.78      0.81       756\n",
      "          15       0.97      0.98      0.97      1607\n",
      "\n",
      "    accuracy                           0.80     12791\n",
      "   macro avg       0.78      0.79      0.78     12791\n",
      "weighted avg       0.81      0.80      0.80     12791\n",
      "\n",
      "Start Positive CI sparse\n",
      "Start Positive CI after sparse\n",
      "Start Negative TI\n",
      "dead node \n",
      "[0, 2, 7, 8, 9, 10, 12, 15]\n",
      "active node \n",
      "[0, 1, 7, 9, 10, 12, 13, 15]\n",
      "weight factor \n",
      "[16, 0, 11, 0, 0, 0, 0, 13, 10, 16, 14, 0, 8, 0, 0, 16]\n",
      "weight factor \n",
      "[16, 16, 0, 0, 0, 0, 0, 10, 0, 16, 14, 0, 12, 8, 0, 16]\n"
     ]
    },
    {
     "name": "stderr",
     "output_type": "stream",
     "text": [
      "Evaluating: 100%|██████████| 49/49 [00:28<00:00,  1.70it/s]\n"
     ]
    },
    {
     "name": "stdout",
     "output_type": "stream",
     "text": [
      "Loss: 0.4529\n",
      "Precision: 0.7742, Recall: 0.7697, F1-Score: 0.7687\n",
      "              precision    recall  f1-score   support\n",
      "\n",
      "           0       0.81      0.71      0.75       775\n",
      "           1       0.74      0.83      0.78       775\n",
      "\n",
      "    accuracy                           0.77      1550\n",
      "   macro avg       0.77      0.77      0.77      1550\n",
      "weighted avg       0.77      0.77      0.77      1550\n",
      "\n",
      "Directory /home/Minwoo/LESN/Decompose/DecomposeBERT/Models/Configs/pretrained/sadickam/sdg-classification-bert exists.\n",
      "Loading the model.\n",
      "Start Time:22:33:48\n",
      "#Module 2 in progress....\n",
      "origin\n"
     ]
    },
    {
     "name": "stderr",
     "output_type": "stream",
     "text": [
      "Evaluating: 100%|██████████| 400/400 [03:52<00:00,  1.72it/s]\n"
     ]
    },
    {
     "name": "stdout",
     "output_type": "stream",
     "text": [
      "Loss: 0.9480\n",
      "Precision: 0.7801, Recall: 0.7867, F1-Score: 0.7793\n",
      "              precision    recall  f1-score   support\n",
      "\n",
      "           0       0.77      0.66      0.71       797\n",
      "           1       0.84      0.72      0.78       775\n",
      "           2       0.88      0.87      0.88       795\n",
      "           3       0.87      0.83      0.85      1110\n",
      "           4       0.86      0.80      0.83      1260\n",
      "           5       0.88      0.69      0.77       882\n",
      "           6       0.85      0.80      0.83       940\n",
      "           7       0.49      0.61      0.54       473\n",
      "           8       0.66      0.85      0.74       746\n",
      "           9       0.62      0.73      0.67       689\n",
      "          10       0.75      0.79      0.77       670\n",
      "          11       0.62      0.81      0.70       312\n",
      "          12       0.73      0.81      0.77       665\n",
      "          13       0.83      0.85      0.84       314\n",
      "          14       0.85      0.78      0.81       756\n",
      "          15       0.97      0.98      0.97      1607\n",
      "\n",
      "    accuracy                           0.80     12791\n",
      "   macro avg       0.78      0.79      0.78     12791\n",
      "weighted avg       0.81      0.80      0.80     12791\n",
      "\n",
      "Start Positive CI sparse\n",
      "Start Positive CI after sparse\n",
      "Start Negative TI\n",
      "dead node \n",
      "[0, 1, 7, 9, 10, 15]\n",
      "active node \n",
      "[0, 2, 4, 9, 10, 15]\n",
      "weight factor \n",
      "[16, 8, 0, 0, 0, 0, 0, 9, 0, 16, 14, 0, 0, 0, 0, 16]\n",
      "weight factor \n",
      "[16, 0, 16, 0, 10, 0, 0, 0, 0, 16, 16, 0, 0, 0, 0, 16]\n"
     ]
    },
    {
     "name": "stderr",
     "output_type": "stream",
     "text": [
      "Evaluating: 100%|██████████| 50/50 [00:32<00:00,  1.56it/s]\n"
     ]
    },
    {
     "name": "stdout",
     "output_type": "stream",
     "text": [
      "Loss: 0.4565\n",
      "Precision: 0.8074, Recall: 0.7604, F1-Score: 0.7508\n",
      "              precision    recall  f1-score   support\n",
      "\n",
      "           0       0.93      0.56      0.70       795\n",
      "           1       0.69      0.96      0.80       795\n",
      "\n",
      "    accuracy                           0.76      1590\n",
      "   macro avg       0.81      0.76      0.75      1590\n",
      "weighted avg       0.81      0.76      0.75      1590\n",
      "\n",
      "Directory /home/Minwoo/LESN/Decompose/DecomposeBERT/Models/Configs/pretrained/sadickam/sdg-classification-bert exists.\n",
      "Loading the model.\n",
      "Start Time:22:39:11\n",
      "#Module 3 in progress....\n",
      "origin\n"
     ]
    },
    {
     "name": "stderr",
     "output_type": "stream",
     "text": [
      "Evaluating: 100%|██████████| 400/400 [04:04<00:00,  1.64it/s]\n"
     ]
    },
    {
     "name": "stdout",
     "output_type": "stream",
     "text": [
      "Loss: 0.9480\n",
      "Precision: 0.7801, Recall: 0.7867, F1-Score: 0.7793\n",
      "              precision    recall  f1-score   support\n",
      "\n",
      "           0       0.77      0.66      0.71       797\n",
      "           1       0.84      0.72      0.78       775\n",
      "           2       0.88      0.87      0.88       795\n",
      "           3       0.87      0.83      0.85      1110\n",
      "           4       0.86      0.80      0.83      1260\n",
      "           5       0.88      0.69      0.77       882\n",
      "           6       0.85      0.80      0.83       940\n",
      "           7       0.49      0.61      0.54       473\n",
      "           8       0.66      0.85      0.74       746\n",
      "           9       0.62      0.73      0.67       689\n",
      "          10       0.75      0.79      0.77       670\n",
      "          11       0.62      0.81      0.70       312\n",
      "          12       0.73      0.81      0.77       665\n",
      "          13       0.83      0.85      0.84       314\n",
      "          14       0.85      0.78      0.81       756\n",
      "          15       0.97      0.98      0.97      1607\n",
      "\n",
      "    accuracy                           0.80     12791\n",
      "   macro avg       0.78      0.79      0.78     12791\n",
      "weighted avg       0.81      0.80      0.80     12791\n",
      "\n",
      "Start Positive CI sparse\n",
      "Start Positive CI after sparse\n",
      "Start Negative TI\n",
      "dead node \n",
      "[0, 2, 9, 10, 15]\n",
      "active node \n",
      "[0, 2, 3, 9, 10, 15]\n",
      "weight factor \n",
      "[15, 0, 15, 0, 0, 0, 0, 0, 0, 16, 14, 0, 0, 0, 0, 16]\n",
      "weight factor \n",
      "[16, 0, 14, 16, 0, 0, 0, 0, 0, 16, 16, 0, 0, 0, 0, 16]\n"
     ]
    },
    {
     "name": "stderr",
     "output_type": "stream",
     "text": [
      "Evaluating: 100%|██████████| 70/70 [00:45<00:00,  1.54it/s]\n"
     ]
    },
    {
     "name": "stdout",
     "output_type": "stream",
     "text": [
      "Loss: 0.3687\n",
      "Precision: 0.8658, Recall: 0.8554, F1-Score: 0.8544\n",
      "              precision    recall  f1-score   support\n",
      "\n",
      "           0       0.93      0.77      0.84      1110\n",
      "           1       0.80      0.94      0.87      1110\n",
      "\n",
      "    accuracy                           0.86      2220\n",
      "   macro avg       0.87      0.86      0.85      2220\n",
      "weighted avg       0.87      0.86      0.85      2220\n",
      "\n",
      "Directory /home/Minwoo/LESN/Decompose/DecomposeBERT/Models/Configs/pretrained/sadickam/sdg-classification-bert exists.\n",
      "Loading the model.\n",
      "Start Time:22:44:59\n",
      "#Module 4 in progress....\n",
      "origin\n"
     ]
    },
    {
     "name": "stderr",
     "output_type": "stream",
     "text": [
      "Evaluating: 100%|██████████| 400/400 [04:14<00:00,  1.57it/s]\n"
     ]
    },
    {
     "name": "stdout",
     "output_type": "stream",
     "text": [
      "Loss: 0.9480\n",
      "Precision: 0.7801, Recall: 0.7867, F1-Score: 0.7793\n",
      "              precision    recall  f1-score   support\n",
      "\n",
      "           0       0.77      0.66      0.71       797\n",
      "           1       0.84      0.72      0.78       775\n",
      "           2       0.88      0.87      0.88       795\n",
      "           3       0.87      0.83      0.85      1110\n",
      "           4       0.86      0.80      0.83      1260\n",
      "           5       0.88      0.69      0.77       882\n",
      "           6       0.85      0.80      0.83       940\n",
      "           7       0.49      0.61      0.54       473\n",
      "           8       0.66      0.85      0.74       746\n",
      "           9       0.62      0.73      0.67       689\n",
      "          10       0.75      0.79      0.77       670\n",
      "          11       0.62      0.81      0.70       312\n",
      "          12       0.73      0.81      0.77       665\n",
      "          13       0.83      0.85      0.84       314\n",
      "          14       0.85      0.78      0.81       756\n",
      "          15       0.97      0.98      0.97      1607\n",
      "\n",
      "    accuracy                           0.80     12791\n",
      "   macro avg       0.78      0.79      0.78     12791\n",
      "weighted avg       0.81      0.80      0.80     12791\n",
      "\n",
      "Start Positive CI sparse\n",
      "Start Positive CI after sparse\n",
      "Start Negative TI\n",
      "dead node \n",
      "[0, 2, 7, 8, 9, 10, 12, 15]\n",
      "active node \n",
      "[0, 2, 3, 4, 7, 9, 10, 12, 14, 15]\n",
      "weight factor \n",
      "[16, 0, 8, 0, 0, 0, 0, 11, 8, 16, 16, 0, 8, 0, 0, 16]\n",
      "weight factor \n",
      "[16, 0, 14, 10, 16, 0, 0, 9, 0, 16, 16, 0, 10, 0, 9, 16]\n"
     ]
    },
    {
     "name": "stderr",
     "output_type": "stream",
     "text": [
      "Evaluating: 100%|██████████| 79/79 [00:53<00:00,  1.47it/s]\n"
     ]
    },
    {
     "name": "stdout",
     "output_type": "stream",
     "text": [
      "Loss: 0.4732\n",
      "Precision: 0.7727, Recall: 0.7480, F1-Score: 0.7422\n",
      "              precision    recall  f1-score   support\n",
      "\n",
      "           0       0.85      0.60      0.70      1260\n",
      "           1       0.69      0.90      0.78      1260\n",
      "\n",
      "    accuracy                           0.75      2520\n",
      "   macro avg       0.77      0.75      0.74      2520\n",
      "weighted avg       0.77      0.75      0.74      2520\n",
      "\n",
      "Directory /home/Minwoo/LESN/Decompose/DecomposeBERT/Models/Configs/pretrained/sadickam/sdg-classification-bert exists.\n",
      "Loading the model.\n",
      "Start Time:22:51:00\n",
      "#Module 5 in progress....\n",
      "origin\n"
     ]
    },
    {
     "name": "stderr",
     "output_type": "stream",
     "text": [
      "Evaluating: 100%|██████████| 400/400 [03:54<00:00,  1.71it/s]\n"
     ]
    },
    {
     "name": "stdout",
     "output_type": "stream",
     "text": [
      "Loss: 0.9480\n",
      "Precision: 0.7801, Recall: 0.7867, F1-Score: 0.7793\n",
      "              precision    recall  f1-score   support\n",
      "\n",
      "           0       0.77      0.66      0.71       797\n",
      "           1       0.84      0.72      0.78       775\n",
      "           2       0.88      0.87      0.88       795\n",
      "           3       0.87      0.83      0.85      1110\n",
      "           4       0.86      0.80      0.83      1260\n",
      "           5       0.88      0.69      0.77       882\n",
      "           6       0.85      0.80      0.83       940\n",
      "           7       0.49      0.61      0.54       473\n",
      "           8       0.66      0.85      0.74       746\n",
      "           9       0.62      0.73      0.67       689\n",
      "          10       0.75      0.79      0.77       670\n",
      "          11       0.62      0.81      0.70       312\n",
      "          12       0.73      0.81      0.77       665\n",
      "          13       0.83      0.85      0.84       314\n",
      "          14       0.85      0.78      0.81       756\n",
      "          15       0.97      0.98      0.97      1607\n",
      "\n",
      "    accuracy                           0.80     12791\n",
      "   macro avg       0.78      0.79      0.78     12791\n",
      "weighted avg       0.81      0.80      0.80     12791\n",
      "\n",
      "Start Positive CI sparse\n",
      "Start Positive CI after sparse\n",
      "Start Negative TI\n",
      "dead node \n",
      "[0, 1, 2, 7, 8, 9, 10, 12, 14, 15]\n",
      "active node \n",
      "[0, 1, 5, 8, 9, 10, 11, 12, 13, 14, 15]\n",
      "weight factor \n",
      "[16, 8, 9, 0, 0, 0, 0, 11, 9, 16, 15, 0, 12, 0, 8, 16]\n",
      "weight factor \n",
      "[16, 15, 0, 0, 0, 16, 0, 0, 8, 16, 14, 11, 16, 8, 9, 12]\n"
     ]
    },
    {
     "name": "stderr",
     "output_type": "stream",
     "text": [
      "Evaluating: 100%|██████████| 56/56 [00:16<00:00,  3.43it/s]\n"
     ]
    },
    {
     "name": "stdout",
     "output_type": "stream",
     "text": [
      "Loss: 0.4090\n",
      "Precision: 0.8339, Recall: 0.8197, F1-Score: 0.8178\n",
      "              precision    recall  f1-score   support\n",
      "\n",
      "           0       0.90      0.72      0.80       882\n",
      "           1       0.77      0.92      0.84       882\n",
      "\n",
      "    accuracy                           0.82      1764\n",
      "   macro avg       0.83      0.82      0.82      1764\n",
      "weighted avg       0.83      0.82      0.82      1764\n",
      "\n",
      "Directory /home/Minwoo/LESN/Decompose/DecomposeBERT/Models/Configs/pretrained/sadickam/sdg-classification-bert exists.\n",
      "Loading the model.\n",
      "Start Time:22:57:19\n",
      "#Module 6 in progress....\n",
      "origin\n"
     ]
    },
    {
     "name": "stderr",
     "output_type": "stream",
     "text": [
      "Evaluating: 100%|██████████| 400/400 [03:54<00:00,  1.71it/s]\n"
     ]
    },
    {
     "name": "stdout",
     "output_type": "stream",
     "text": [
      "Loss: 0.9480\n",
      "Precision: 0.7801, Recall: 0.7867, F1-Score: 0.7793\n",
      "              precision    recall  f1-score   support\n",
      "\n",
      "           0       0.77      0.66      0.71       797\n",
      "           1       0.84      0.72      0.78       775\n",
      "           2       0.88      0.87      0.88       795\n",
      "           3       0.87      0.83      0.85      1110\n",
      "           4       0.86      0.80      0.83      1260\n",
      "           5       0.88      0.69      0.77       882\n",
      "           6       0.85      0.80      0.83       940\n",
      "           7       0.49      0.61      0.54       473\n",
      "           8       0.66      0.85      0.74       746\n",
      "           9       0.62      0.73      0.67       689\n",
      "          10       0.75      0.79      0.77       670\n",
      "          11       0.62      0.81      0.70       312\n",
      "          12       0.73      0.81      0.77       665\n",
      "          13       0.83      0.85      0.84       314\n",
      "          14       0.85      0.78      0.81       756\n",
      "          15       0.97      0.98      0.97      1607\n",
      "\n",
      "    accuracy                           0.80     12791\n",
      "   macro avg       0.78      0.79      0.78     12791\n",
      "weighted avg       0.81      0.80      0.80     12791\n",
      "\n",
      "Start Positive CI sparse\n",
      "Start Positive CI after sparse\n",
      "Start Negative TI\n",
      "dead node \n",
      "[0, 1, 2, 5, 7, 8, 9, 10, 12, 15]\n",
      "active node \n",
      "[0, 5, 6, 8, 9, 10, 12, 15]\n",
      "weight factor \n",
      "[16, 14, 8, 0, 0, 9, 0, 12, 12, 16, 11, 0, 14, 0, 0, 16]\n",
      "weight factor \n",
      "[16, 0, 0, 0, 0, 8, 16, 0, 16, 16, 12, 0, 15, 0, 0, 16]\n"
     ]
    },
    {
     "name": "stderr",
     "output_type": "stream",
     "text": [
      "Evaluating: 100%|██████████| 59/59 [00:17<00:00,  3.32it/s]\n"
     ]
    },
    {
     "name": "stdout",
     "output_type": "stream",
     "text": [
      "Loss: 0.4537\n",
      "Precision: 0.7891, Recall: 0.7319, F1-Score: 0.7180\n",
      "              precision    recall  f1-score   support\n",
      "\n",
      "           0       0.92      0.51      0.66       940\n",
      "           1       0.66      0.95      0.78       940\n",
      "\n",
      "    accuracy                           0.73      1880\n",
      "   macro avg       0.79      0.73      0.72      1880\n",
      "weighted avg       0.79      0.73      0.72      1880\n",
      "\n",
      "Directory /home/Minwoo/LESN/Decompose/DecomposeBERT/Models/Configs/pretrained/sadickam/sdg-classification-bert exists.\n",
      "Loading the model.\n",
      "Start Time:23:02:01\n",
      "#Module 7 in progress....\n",
      "origin\n"
     ]
    },
    {
     "name": "stderr",
     "output_type": "stream",
     "text": [
      "Evaluating: 100%|██████████| 400/400 [02:10<00:00,  3.07it/s]\n"
     ]
    },
    {
     "name": "stdout",
     "output_type": "stream",
     "text": [
      "Loss: 0.9480\n",
      "Precision: 0.7801, Recall: 0.7867, F1-Score: 0.7793\n",
      "              precision    recall  f1-score   support\n",
      "\n",
      "           0       0.77      0.66      0.71       797\n",
      "           1       0.84      0.72      0.78       775\n",
      "           2       0.88      0.87      0.88       795\n",
      "           3       0.87      0.83      0.85      1110\n",
      "           4       0.86      0.80      0.83      1260\n",
      "           5       0.88      0.69      0.77       882\n",
      "           6       0.85      0.80      0.83       940\n",
      "           7       0.49      0.61      0.54       473\n",
      "           8       0.66      0.85      0.74       746\n",
      "           9       0.62      0.73      0.67       689\n",
      "          10       0.75      0.79      0.77       670\n",
      "          11       0.62      0.81      0.70       312\n",
      "          12       0.73      0.81      0.77       665\n",
      "          13       0.83      0.85      0.84       314\n",
      "          14       0.85      0.78      0.81       756\n",
      "          15       0.97      0.98      0.97      1607\n",
      "\n",
      "    accuracy                           0.80     12791\n",
      "   macro avg       0.78      0.79      0.78     12791\n",
      "weighted avg       0.81      0.80      0.80     12791\n",
      "\n",
      "Start Positive CI sparse\n",
      "Start Positive CI after sparse\n",
      "Start Negative TI\n",
      "dead node \n",
      "[0, 2, 9, 10, 12, 15]\n",
      "active node \n",
      "[0, 4, 7, 8, 9, 10, 15]\n",
      "weight factor \n",
      "[16, 0, 10, 0, 0, 0, 0, 0, 0, 16, 15, 0, 8, 0, 0, 16]\n",
      "weight factor \n",
      "[16, 0, 0, 0, 10, 0, 0, 14, 14, 16, 15, 0, 0, 0, 0, 16]\n"
     ]
    },
    {
     "name": "stderr",
     "output_type": "stream",
     "text": [
      "Evaluating: 100%|██████████| 30/30 [00:08<00:00,  3.63it/s]\n"
     ]
    },
    {
     "name": "stdout",
     "output_type": "stream",
     "text": [
      "Loss: 0.5713\n",
      "Precision: 0.8137, Recall: 0.7896, F1-Score: 0.7855\n",
      "              precision    recall  f1-score   support\n",
      "\n",
      "           0       0.90      0.65      0.76       473\n",
      "           1       0.73      0.93      0.82       473\n",
      "\n",
      "    accuracy                           0.79       946\n",
      "   macro avg       0.81      0.79      0.79       946\n",
      "weighted avg       0.81      0.79      0.79       946\n",
      "\n",
      "Directory /home/Minwoo/LESN/Decompose/DecomposeBERT/Models/Configs/pretrained/sadickam/sdg-classification-bert exists.\n",
      "Loading the model.\n",
      "Start Time:23:04:52\n",
      "#Module 8 in progress....\n",
      "origin\n"
     ]
    },
    {
     "name": "stderr",
     "output_type": "stream",
     "text": [
      "Evaluating: 100%|██████████| 400/400 [02:09<00:00,  3.08it/s]\n"
     ]
    },
    {
     "name": "stdout",
     "output_type": "stream",
     "text": [
      "Loss: 0.9480\n",
      "Precision: 0.7801, Recall: 0.7867, F1-Score: 0.7793\n",
      "              precision    recall  f1-score   support\n",
      "\n",
      "           0       0.77      0.66      0.71       797\n",
      "           1       0.84      0.72      0.78       775\n",
      "           2       0.88      0.87      0.88       795\n",
      "           3       0.87      0.83      0.85      1110\n",
      "           4       0.86      0.80      0.83      1260\n",
      "           5       0.88      0.69      0.77       882\n",
      "           6       0.85      0.80      0.83       940\n",
      "           7       0.49      0.61      0.54       473\n",
      "           8       0.66      0.85      0.74       746\n",
      "           9       0.62      0.73      0.67       689\n",
      "          10       0.75      0.79      0.77       670\n",
      "          11       0.62      0.81      0.70       312\n",
      "          12       0.73      0.81      0.77       665\n",
      "          13       0.83      0.85      0.84       314\n",
      "          14       0.85      0.78      0.81       756\n",
      "          15       0.97      0.98      0.97      1607\n",
      "\n",
      "    accuracy                           0.80     12791\n",
      "   macro avg       0.78      0.79      0.78     12791\n",
      "weighted avg       0.81      0.80      0.80     12791\n",
      "\n",
      "Start Positive CI sparse\n",
      "Start Positive CI after sparse\n",
      "Start Negative TI\n",
      "dead node \n",
      "[0, 1, 2, 7, 9, 10, 13, 15]\n",
      "active node \n",
      "[0, 7, 8, 9, 10, 15]\n",
      "weight factor \n",
      "[16, 9, 8, 0, 0, 0, 0, 13, 0, 16, 15, 0, 0, 8, 0, 16]\n",
      "weight factor \n",
      "[16, 0, 0, 0, 0, 0, 0, 13, 16, 16, 16, 0, 0, 0, 0, 16]\n"
     ]
    },
    {
     "name": "stderr",
     "output_type": "stream",
     "text": [
      "Evaluating: 100%|██████████| 47/47 [00:14<00:00,  3.34it/s]\n"
     ]
    },
    {
     "name": "stdout",
     "output_type": "stream",
     "text": [
      "Loss: 0.5039\n",
      "Precision: 0.7888, Recall: 0.6702, F1-Score: 0.6325\n",
      "              precision    recall  f1-score   support\n",
      "\n",
      "           0       0.97      0.35      0.51       746\n",
      "           1       0.60      0.99      0.75       746\n",
      "\n",
      "    accuracy                           0.67      1492\n",
      "   macro avg       0.79      0.67      0.63      1492\n",
      "weighted avg       0.79      0.67      0.63      1492\n",
      "\n",
      "Directory /home/Minwoo/LESN/Decompose/DecomposeBERT/Models/Configs/pretrained/sadickam/sdg-classification-bert exists.\n",
      "Loading the model.\n",
      "Start Time:23:07:49\n",
      "#Module 9 in progress....\n",
      "origin\n"
     ]
    },
    {
     "name": "stderr",
     "output_type": "stream",
     "text": [
      "Evaluating: 100%|██████████| 400/400 [02:13<00:00,  2.99it/s]\n"
     ]
    },
    {
     "name": "stdout",
     "output_type": "stream",
     "text": [
      "Loss: 0.9480\n",
      "Precision: 0.7801, Recall: 0.7867, F1-Score: 0.7793\n",
      "              precision    recall  f1-score   support\n",
      "\n",
      "           0       0.77      0.66      0.71       797\n",
      "           1       0.84      0.72      0.78       775\n",
      "           2       0.88      0.87      0.88       795\n",
      "           3       0.87      0.83      0.85      1110\n",
      "           4       0.86      0.80      0.83      1260\n",
      "           5       0.88      0.69      0.77       882\n",
      "           6       0.85      0.80      0.83       940\n",
      "           7       0.49      0.61      0.54       473\n",
      "           8       0.66      0.85      0.74       746\n",
      "           9       0.62      0.73      0.67       689\n",
      "          10       0.75      0.79      0.77       670\n",
      "          11       0.62      0.81      0.70       312\n",
      "          12       0.73      0.81      0.77       665\n",
      "          13       0.83      0.85      0.84       314\n",
      "          14       0.85      0.78      0.81       756\n",
      "          15       0.97      0.98      0.97      1607\n",
      "\n",
      "    accuracy                           0.80     12791\n",
      "   macro avg       0.78      0.79      0.78     12791\n",
      "weighted avg       0.81      0.80      0.80     12791\n",
      "\n",
      "Start Positive CI sparse\n",
      "Start Positive CI after sparse\n",
      "Start Negative TI\n",
      "dead node \n",
      "[0, 7, 8, 10, 12, 15]\n",
      "active node \n",
      "[0, 7, 9, 10, 15]\n",
      "weight factor \n",
      "[16, 0, 0, 0, 0, 0, 0, 12, 8, 0, 14, 0, 8, 0, 0, 16]\n",
      "weight factor \n",
      "[16, 0, 0, 0, 0, 0, 0, 13, 0, 16, 16, 0, 0, 0, 0, 16]\n"
     ]
    },
    {
     "name": "stderr",
     "output_type": "stream",
     "text": [
      "Evaluating: 100%|██████████| 44/44 [00:12<00:00,  3.57it/s]\n"
     ]
    },
    {
     "name": "stdout",
     "output_type": "stream",
     "text": [
      "Loss: 0.6190\n",
      "Precision: 0.7434, Recall: 0.6872, F1-Score: 0.6681\n",
      "              precision    recall  f1-score   support\n",
      "\n",
      "           0       0.86      0.45      0.59       689\n",
      "           1       0.63      0.93      0.75       689\n",
      "\n",
      "    accuracy                           0.69      1378\n",
      "   macro avg       0.74      0.69      0.67      1378\n",
      "weighted avg       0.74      0.69      0.67      1378\n",
      "\n",
      "Directory /home/Minwoo/LESN/Decompose/DecomposeBERT/Models/Configs/pretrained/sadickam/sdg-classification-bert exists.\n",
      "Loading the model.\n",
      "Start Time:23:10:47\n",
      "#Module 10 in progress....\n",
      "origin\n"
     ]
    },
    {
     "name": "stderr",
     "output_type": "stream",
     "text": [
      "Evaluating: 100%|██████████| 400/400 [02:17<00:00,  2.92it/s]\n"
     ]
    },
    {
     "name": "stdout",
     "output_type": "stream",
     "text": [
      "Loss: 0.9480\n",
      "Precision: 0.7801, Recall: 0.7867, F1-Score: 0.7793\n",
      "              precision    recall  f1-score   support\n",
      "\n",
      "           0       0.77      0.66      0.71       797\n",
      "           1       0.84      0.72      0.78       775\n",
      "           2       0.88      0.87      0.88       795\n",
      "           3       0.87      0.83      0.85      1110\n",
      "           4       0.86      0.80      0.83      1260\n",
      "           5       0.88      0.69      0.77       882\n",
      "           6       0.85      0.80      0.83       940\n",
      "           7       0.49      0.61      0.54       473\n",
      "           8       0.66      0.85      0.74       746\n",
      "           9       0.62      0.73      0.67       689\n",
      "          10       0.75      0.79      0.77       670\n",
      "          11       0.62      0.81      0.70       312\n",
      "          12       0.73      0.81      0.77       665\n",
      "          13       0.83      0.85      0.84       314\n",
      "          14       0.85      0.78      0.81       756\n",
      "          15       0.97      0.98      0.97      1607\n",
      "\n",
      "    accuracy                           0.80     12791\n",
      "   macro avg       0.78      0.79      0.78     12791\n",
      "weighted avg       0.81      0.80      0.80     12791\n",
      "\n",
      "Start Positive CI sparse\n",
      "Start Positive CI after sparse\n",
      "Start Negative TI\n",
      "dead node \n",
      "[0, 1, 2, 3, 7, 8, 9, 12, 15]\n",
      "active node \n",
      "[0, 1, 2, 3, 8, 9, 10, 12, 15]\n",
      "weight factor \n",
      "[16, 10, 9, 8, 0, 0, 0, 15, 14, 16, 0, 0, 8, 0, 0, 15]\n",
      "weight factor \n",
      "[16, 10, 12, 11, 0, 0, 0, 0, 16, 16, 16, 0, 13, 0, 0, 16]\n"
     ]
    },
    {
     "name": "stderr",
     "output_type": "stream",
     "text": [
      "Evaluating: 100%|██████████| 42/42 [00:11<00:00,  3.64it/s]\n"
     ]
    },
    {
     "name": "stdout",
     "output_type": "stream",
     "text": [
      "Loss: 0.5035\n",
      "Precision: 0.7157, Recall: 0.6873, F1-Score: 0.6767\n",
      "              precision    recall  f1-score   support\n",
      "\n",
      "           0       0.79      0.51      0.62       670\n",
      "           1       0.64      0.87      0.74       670\n",
      "\n",
      "    accuracy                           0.69      1340\n",
      "   macro avg       0.72      0.69      0.68      1340\n",
      "weighted avg       0.72      0.69      0.68      1340\n",
      "\n",
      "Directory /home/Minwoo/LESN/Decompose/DecomposeBERT/Models/Configs/pretrained/sadickam/sdg-classification-bert exists.\n",
      "Loading the model.\n",
      "Start Time:23:13:46\n",
      "#Module 11 in progress....\n",
      "origin\n"
     ]
    },
    {
     "name": "stderr",
     "output_type": "stream",
     "text": [
      "Evaluating: 100%|██████████| 400/400 [02:19<00:00,  2.86it/s]\n"
     ]
    },
    {
     "name": "stdout",
     "output_type": "stream",
     "text": [
      "Loss: 0.9480\n",
      "Precision: 0.7801, Recall: 0.7867, F1-Score: 0.7793\n",
      "              precision    recall  f1-score   support\n",
      "\n",
      "           0       0.77      0.66      0.71       797\n",
      "           1       0.84      0.72      0.78       775\n",
      "           2       0.88      0.87      0.88       795\n",
      "           3       0.87      0.83      0.85      1110\n",
      "           4       0.86      0.80      0.83      1260\n",
      "           5       0.88      0.69      0.77       882\n",
      "           6       0.85      0.80      0.83       940\n",
      "           7       0.49      0.61      0.54       473\n",
      "           8       0.66      0.85      0.74       746\n",
      "           9       0.62      0.73      0.67       689\n",
      "          10       0.75      0.79      0.77       670\n",
      "          11       0.62      0.81      0.70       312\n",
      "          12       0.73      0.81      0.77       665\n",
      "          13       0.83      0.85      0.84       314\n",
      "          14       0.85      0.78      0.81       756\n",
      "          15       0.97      0.98      0.97      1607\n",
      "\n",
      "    accuracy                           0.80     12791\n",
      "   macro avg       0.78      0.79      0.78     12791\n",
      "weighted avg       0.81      0.80      0.80     12791\n",
      "\n",
      "Start Positive CI sparse\n",
      "Start Positive CI after sparse\n",
      "Start Negative TI\n",
      "dead node \n",
      "[0, 2, 7, 8, 9, 10, 12, 14, 15]\n",
      "active node \n",
      "[0, 2, 6, 8, 9, 10, 11, 12, 14, 15]\n",
      "weight factor \n",
      "[16, 0, 11, 0, 0, 0, 0, 11, 9, 16, 16, 0, 13, 0, 8, 16]\n",
      "weight factor \n",
      "[16, 0, 8, 0, 0, 0, 9, 0, 14, 15, 16, 16, 14, 0, 14, 16]\n"
     ]
    },
    {
     "name": "stderr",
     "output_type": "stream",
     "text": [
      "Evaluating: 100%|██████████| 20/20 [00:04<00:00,  4.12it/s]\n"
     ]
    },
    {
     "name": "stdout",
     "output_type": "stream",
     "text": [
      "Loss: 0.4171\n",
      "Precision: 0.8511, Recall: 0.8157, F1-Score: 0.8109\n",
      "              precision    recall  f1-score   support\n",
      "\n",
      "           0       0.96      0.66      0.78       312\n",
      "           1       0.74      0.97      0.84       312\n",
      "\n",
      "    accuracy                           0.82       624\n",
      "   macro avg       0.85      0.82      0.81       624\n",
      "weighted avg       0.85      0.82      0.81       624\n",
      "\n",
      "Directory /home/Minwoo/LESN/Decompose/DecomposeBERT/Models/Configs/pretrained/sadickam/sdg-classification-bert exists.\n",
      "Loading the model.\n",
      "Start Time:23:16:41\n",
      "#Module 12 in progress....\n",
      "origin\n"
     ]
    },
    {
     "name": "stderr",
     "output_type": "stream",
     "text": [
      "Evaluating: 100%|██████████| 400/400 [02:21<00:00,  2.83it/s]\n"
     ]
    },
    {
     "name": "stdout",
     "output_type": "stream",
     "text": [
      "Loss: 0.9480\n",
      "Precision: 0.7801, Recall: 0.7867, F1-Score: 0.7793\n",
      "              precision    recall  f1-score   support\n",
      "\n",
      "           0       0.77      0.66      0.71       797\n",
      "           1       0.84      0.72      0.78       775\n",
      "           2       0.88      0.87      0.88       795\n",
      "           3       0.87      0.83      0.85      1110\n",
      "           4       0.86      0.80      0.83      1260\n",
      "           5       0.88      0.69      0.77       882\n",
      "           6       0.85      0.80      0.83       940\n",
      "           7       0.49      0.61      0.54       473\n",
      "           8       0.66      0.85      0.74       746\n",
      "           9       0.62      0.73      0.67       689\n",
      "          10       0.75      0.79      0.77       670\n",
      "          11       0.62      0.81      0.70       312\n",
      "          12       0.73      0.81      0.77       665\n",
      "          13       0.83      0.85      0.84       314\n",
      "          14       0.85      0.78      0.81       756\n",
      "          15       0.97      0.98      0.97      1607\n",
      "\n",
      "    accuracy                           0.80     12791\n",
      "   macro avg       0.78      0.79      0.78     12791\n",
      "weighted avg       0.81      0.80      0.80     12791\n",
      "\n",
      "Start Positive CI sparse\n",
      "Start Positive CI after sparse\n",
      "Start Negative TI\n",
      "dead node \n",
      "[0, 1, 5, 7, 8, 9, 10, 13, 14, 15]\n",
      "active node \n",
      "[0, 1, 5, 8, 9, 10, 12, 13, 14, 15]\n",
      "weight factor \n",
      "[16, 11, 0, 0, 0, 11, 0, 12, 11, 16, 15, 0, 0, 9, 10, 16]\n",
      "weight factor \n",
      "[16, 16, 0, 0, 0, 13, 0, 0, 15, 16, 16, 0, 16, 9, 16, 15]\n"
     ]
    },
    {
     "name": "stderr",
     "output_type": "stream",
     "text": [
      "Evaluating: 100%|██████████| 42/42 [00:11<00:00,  3.58it/s]\n"
     ]
    },
    {
     "name": "stdout",
     "output_type": "stream",
     "text": [
      "Loss: 0.4040\n",
      "Precision: 0.8546, Recall: 0.8353, F1-Score: 0.8331\n",
      "              precision    recall  f1-score   support\n",
      "\n",
      "           0       0.94      0.72      0.81       665\n",
      "           1       0.77      0.95      0.85       665\n",
      "\n",
      "    accuracy                           0.84      1330\n",
      "   macro avg       0.85      0.84      0.83      1330\n",
      "weighted avg       0.85      0.84      0.83      1330\n",
      "\n",
      "Directory /home/Minwoo/LESN/Decompose/DecomposeBERT/Models/Configs/pretrained/sadickam/sdg-classification-bert exists.\n",
      "Loading the model.\n",
      "Start Time:23:19:43\n",
      "#Module 13 in progress....\n",
      "origin\n"
     ]
    },
    {
     "name": "stderr",
     "output_type": "stream",
     "text": [
      "Evaluating: 100%|██████████| 400/400 [02:21<00:00,  2.83it/s]\n"
     ]
    },
    {
     "name": "stdout",
     "output_type": "stream",
     "text": [
      "Loss: 0.9480\n",
      "Precision: 0.7801, Recall: 0.7867, F1-Score: 0.7793\n",
      "              precision    recall  f1-score   support\n",
      "\n",
      "           0       0.77      0.66      0.71       797\n",
      "           1       0.84      0.72      0.78       775\n",
      "           2       0.88      0.87      0.88       795\n",
      "           3       0.87      0.83      0.85      1110\n",
      "           4       0.86      0.80      0.83      1260\n",
      "           5       0.88      0.69      0.77       882\n",
      "           6       0.85      0.80      0.83       940\n",
      "           7       0.49      0.61      0.54       473\n",
      "           8       0.66      0.85      0.74       746\n",
      "           9       0.62      0.73      0.67       689\n",
      "          10       0.75      0.79      0.77       670\n",
      "          11       0.62      0.81      0.70       312\n",
      "          12       0.73      0.81      0.77       665\n",
      "          13       0.83      0.85      0.84       314\n",
      "          14       0.85      0.78      0.81       756\n",
      "          15       0.97      0.98      0.97      1607\n",
      "\n",
      "    accuracy                           0.80     12791\n",
      "   macro avg       0.78      0.79      0.78     12791\n",
      "weighted avg       0.81      0.80      0.80     12791\n",
      "\n",
      "Start Positive CI sparse\n",
      "Start Positive CI after sparse\n",
      "Start Negative TI\n",
      "dead node \n",
      "[0, 1, 2, 7, 8, 9, 10, 15]\n",
      "active node \n",
      "[0, 1, 9, 10, 12, 13, 14, 15]\n",
      "weight factor \n",
      "[16, 14, 8, 0, 0, 0, 0, 9, 10, 16, 14, 0, 0, 0, 0, 16]\n",
      "weight factor \n",
      "[16, 16, 0, 0, 0, 0, 0, 0, 0, 15, 12, 0, 10, 16, 9, 16]\n"
     ]
    },
    {
     "name": "stderr",
     "output_type": "stream",
     "text": [
      "Evaluating: 100%|██████████| 20/20 [00:05<00:00,  3.86it/s]\n"
     ]
    },
    {
     "name": "stdout",
     "output_type": "stream",
     "text": [
      "Loss: 0.3839\n",
      "Precision: 0.8466, Recall: 0.8360, F1-Score: 0.8347\n",
      "              precision    recall  f1-score   support\n",
      "\n",
      "           0       0.91      0.75      0.82       314\n",
      "           1       0.79      0.92      0.85       314\n",
      "\n",
      "    accuracy                           0.84       628\n",
      "   macro avg       0.85      0.84      0.83       628\n",
      "weighted avg       0.85      0.84      0.83       628\n",
      "\n",
      "Directory /home/Minwoo/LESN/Decompose/DecomposeBERT/Models/Configs/pretrained/sadickam/sdg-classification-bert exists.\n",
      "Loading the model.\n",
      "Start Time:23:22:39\n",
      "#Module 14 in progress....\n",
      "origin\n"
     ]
    },
    {
     "name": "stderr",
     "output_type": "stream",
     "text": [
      "Evaluating: 100%|██████████| 400/400 [02:16<00:00,  2.93it/s]\n"
     ]
    },
    {
     "name": "stdout",
     "output_type": "stream",
     "text": [
      "Loss: 0.9480\n",
      "Precision: 0.7801, Recall: 0.7867, F1-Score: 0.7793\n",
      "              precision    recall  f1-score   support\n",
      "\n",
      "           0       0.77      0.66      0.71       797\n",
      "           1       0.84      0.72      0.78       775\n",
      "           2       0.88      0.87      0.88       795\n",
      "           3       0.87      0.83      0.85      1110\n",
      "           4       0.86      0.80      0.83      1260\n",
      "           5       0.88      0.69      0.77       882\n",
      "           6       0.85      0.80      0.83       940\n",
      "           7       0.49      0.61      0.54       473\n",
      "           8       0.66      0.85      0.74       746\n",
      "           9       0.62      0.73      0.67       689\n",
      "          10       0.75      0.79      0.77       670\n",
      "          11       0.62      0.81      0.70       312\n",
      "          12       0.73      0.81      0.77       665\n",
      "          13       0.83      0.85      0.84       314\n",
      "          14       0.85      0.78      0.81       756\n",
      "          15       0.97      0.98      0.97      1607\n",
      "\n",
      "    accuracy                           0.80     12791\n",
      "   macro avg       0.78      0.79      0.78     12791\n",
      "weighted avg       0.81      0.80      0.80     12791\n",
      "\n",
      "Start Positive CI sparse\n",
      "Start Positive CI after sparse\n",
      "Start Negative TI\n",
      "dead node \n",
      "[0, 1, 7, 8, 9, 10, 12, 15]\n",
      "active node \n",
      "[0, 1, 5, 9, 10, 12, 13, 14, 15]\n",
      "weight factor \n",
      "[16, 14, 0, 0, 0, 0, 0, 9, 10, 16, 13, 0, 8, 0, 0, 16]\n",
      "weight factor \n",
      "[13, 13, 0, 0, 0, 15, 0, 0, 0, 14, 14, 0, 14, 16, 16, 16]\n"
     ]
    },
    {
     "name": "stderr",
     "output_type": "stream",
     "text": [
      "Evaluating: 100%|██████████| 48/48 [00:16<00:00,  2.94it/s]\n"
     ]
    },
    {
     "name": "stdout",
     "output_type": "stream",
     "text": [
      "Loss: 0.4143\n",
      "Precision: 0.8309, Recall: 0.8214, F1-Score: 0.8201\n",
      "              precision    recall  f1-score   support\n",
      "\n",
      "           0       0.89      0.74      0.80       756\n",
      "           1       0.77      0.91      0.84       756\n",
      "\n",
      "    accuracy                           0.82      1512\n",
      "   macro avg       0.83      0.82      0.82      1512\n",
      "weighted avg       0.83      0.82      0.82      1512\n",
      "\n",
      "Directory /home/Minwoo/LESN/Decompose/DecomposeBERT/Models/Configs/pretrained/sadickam/sdg-classification-bert exists.\n",
      "Loading the model.\n",
      "Start Time:23:25:45\n",
      "#Module 15 in progress....\n",
      "origin\n"
     ]
    },
    {
     "name": "stderr",
     "output_type": "stream",
     "text": [
      "Evaluating: 100%|██████████| 400/400 [02:14<00:00,  2.97it/s]\n"
     ]
    },
    {
     "name": "stdout",
     "output_type": "stream",
     "text": [
      "Loss: 0.9480\n",
      "Precision: 0.7801, Recall: 0.7867, F1-Score: 0.7793\n",
      "              precision    recall  f1-score   support\n",
      "\n",
      "           0       0.77      0.66      0.71       797\n",
      "           1       0.84      0.72      0.78       775\n",
      "           2       0.88      0.87      0.88       795\n",
      "           3       0.87      0.83      0.85      1110\n",
      "           4       0.86      0.80      0.83      1260\n",
      "           5       0.88      0.69      0.77       882\n",
      "           6       0.85      0.80      0.83       940\n",
      "           7       0.49      0.61      0.54       473\n",
      "           8       0.66      0.85      0.74       746\n",
      "           9       0.62      0.73      0.67       689\n",
      "          10       0.75      0.79      0.77       670\n",
      "          11       0.62      0.81      0.70       312\n",
      "          12       0.73      0.81      0.77       665\n",
      "          13       0.83      0.85      0.84       314\n",
      "          14       0.85      0.78      0.81       756\n",
      "          15       0.97      0.98      0.97      1607\n",
      "\n",
      "    accuracy                           0.80     12791\n",
      "   macro avg       0.78      0.79      0.78     12791\n",
      "weighted avg       0.81      0.80      0.80     12791\n",
      "\n",
      "Start Positive CI sparse\n",
      "Start Positive CI after sparse\n",
      "Start Negative TI\n",
      "dead node \n",
      "[0, 7, 9, 10, 12, 14]\n",
      "active node \n",
      "[0, 9, 10, 13, 15]\n",
      "weight factor \n",
      "[16, 0, 0, 0, 0, 0, 0, 9, 0, 16, 16, 0, 15, 0, 10, 0]\n",
      "weight factor \n",
      "[10, 0, 0, 0, 0, 0, 0, 0, 0, 16, 8, 0, 0, 12, 0, 16]\n"
     ]
    },
    {
     "name": "stderr",
     "output_type": "stream",
     "text": [
      "Evaluating: 100%|██████████| 101/101 [00:36<00:00,  2.78it/s]"
     ]
    },
    {
     "name": "stdout",
     "output_type": "stream",
     "text": [
      "Loss: 0.2780\n",
      "Precision: 0.8933, Recall: 0.8690, F1-Score: 0.8670\n",
      "              precision    recall  f1-score   support\n",
      "\n",
      "           0       0.99      0.74      0.85      1607\n",
      "           1       0.80      0.99      0.88      1607\n",
      "\n",
      "    accuracy                           0.87      3214\n",
      "   macro avg       0.89      0.87      0.87      3214\n",
      "weighted avg       0.89      0.87      0.87      3214\n",
      "\n"
     ]
    },
    {
     "name": "stderr",
     "output_type": "stream",
     "text": [
      "\n"
     ]
    }
   ],
   "source": [
    "for i in range(num_labels):\n",
    "    model, tokenizer, checkpoint = load_classification_model(model_config, train_mode=False)\n",
    "\n",
    "    train_dataloader, valid_dataloader, test_dataloader = load_data(\n",
    "        model_config, batch_size=32, test_size=0.3\n",
    "    )\n",
    "\n",
    "    print(\"Start Time:\" + datetime.now().strftime(\"%H:%M:%S\"))\n",
    "    print(\"#Module \" + str(i) + \" in progress....\")\n",
    "    num_samples = 64\n",
    "\n",
    "    positive_samples = sampling_class(\n",
    "        train_dataloader, i, num_samples, num_labels, True, 4, device=device\n",
    "    )\n",
    "    negative_samples = sampling_class(\n",
    "        train_dataloader, i, num_samples, num_labels, False, 4, device=device\n",
    "    )\n",
    "\n",
    "    all_samples = sampling_class(\n",
    "        train_dataloader, 200, 20, num_labels, False, 4, device=device\n",
    "    )\n",
    "\n",
    "    print(\"origin\")\n",
    "    evaluate_model(model, model_config, test_dataloader)\n",
    "\n",
    "    module = copy.deepcopy(model)\n",
    "    wr = WeightRemoverBert(model, p=0.9)\n",
    "    ci = ConcernIdentificationBert(model, p=0.4)\n",
    "    ti = TanglingIdentification(model, p=0.5)\n",
    "\n",
    "    print(\"Start Positive CI sparse\")\n",
    "\n",
    "    eval_step = 5\n",
    "    for idx, batch in enumerate(all_samples):\n",
    "        input_ids, attn_mask, _, total_sampled = batch\n",
    "        with torch.no_grad():\n",
    "            wr.propagate(module, input_ids)\n",
    "        if idx % eval_step:\n",
    "            # result = evaluate_model(module, model_config, test_dataloader)\n",
    "            pass\n",
    "\n",
    "    print(\"Start Positive CI after sparse\")\n",
    "\n",
    "    for idx, batch in enumerate(positive_samples):\n",
    "        input_ids, attn_mask, _, total_sampled = batch\n",
    "        with torch.no_grad():\n",
    "            ci.propagate(module, input_ids)\n",
    "        if idx % eval_step:\n",
    "            # result = evaluate_model(module, model_config, test_dataloader)\n",
    "            pass\n",
    "\n",
    "    print(\"Start Negative TI\")\n",
    "\n",
    "    for idx, batch in enumerate(negative_samples):\n",
    "        input_ids, attn_mask, _, total_sampled = batch\n",
    "        with torch.no_grad():\n",
    "            ti.propagate(module, input_ids)\n",
    "        if idx % eval_step:\n",
    "            # result = evaluate_model(module, model_config, test_dataloader)\n",
    "            pass\n",
    "\n",
    "    ConcernModularizationBert.channeling(module, ci.active_node, ti.dead_node, i, model_config.device)\n",
    "    binary_module = ConcernModularizationBert.convert2binary(model_config, module)\n",
    "    # save_module(binary_module, model_config.module_dir, model_config.model_name)\n",
    "    \n",
    "    converted_test_dataloader = convert_dataset_labels_to_binary(test_dataloader, i, True)\n",
    "    result = evaluate_model(module, model_config, converted_test_dataloader)\n"
   ]
  }
 ],
 "metadata": {
  "kernelspec": {
   "display_name": "Python 3 (ipykernel)",
   "language": "python",
   "name": "python3"
  },
  "language_info": {
   "codemirror_mode": {
    "name": "ipython",
    "version": 3
   },
   "file_extension": ".py",
   "mimetype": "text/x-python",
   "name": "python",
   "nbconvert_exporter": "python",
   "pygments_lexer": "ipython3",
   "version": "3.8.18"
  }
 },
 "nbformat": 4,
 "nbformat_minor": 5
}
